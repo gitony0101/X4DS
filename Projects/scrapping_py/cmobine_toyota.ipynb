{
   "cells": [
      {
         "cell_type": "code",
         "execution_count": 7,
         "id": "70548385",
         "metadata": {},
         "outputs": [],
         "source": [
            "import pandas as pd\n",
            "import os"
         ]
      },
      {
         "cell_type": "code",
         "execution_count": 8,
         "id": "6fef671b",
         "metadata": {},
         "outputs": [],
         "source": [
            "# 设置当前目录路径和scrapping_js目录路径\n",
            "current_directory = \"./\"\n",
            "scrapping_js_directory = \"../scrapping_js\"\n",
            "# 定义输出的 Excel 文件路径\n",
            "output_excel_path = \"MaritimeToyota.xlsx\""
         ]
      },
      {
         "cell_type": "markdown",
         "id": "fccaacf6",
         "metadata": {},
         "source": []
      },
      {
         "cell_type": "code",
         "execution_count": 9,
         "id": "7cfb2629",
         "metadata": {},
         "outputs": [
            {
               "name": "stdout",
               "output_type": "stream",
               "text": [
                  "Skipping empty or malformed file: carInfo_kentville.csv\n",
                  "Skipping empty or malformed file: carInfo_summerside.csv\n",
                  "Skipping empty or malformed file: carInfo_trimactoyota.csv\n",
                  "Data has been written to MaritimeToyota.xlsx\n"
               ]
            }
         ],
         "source": [
            "# 创建一个 ExcelWriter 对象\n",
            "with pd.ExcelWriter(output_excel_path) as writer:\n",
            "    # 处理当前目录下的 CSV 文件\n",
            "    current_csv_file = os.path.join(current_directory, \"data_part_1.csv\")\n",
            "    if os.path.exists(current_csv_file):\n",
            "        if os.path.getsize(current_csv_file) > 0:  # 检查文件是否为空\n",
            "            try:\n",
            "                data_frame = pd.read_csv(current_csv_file, on_bad_lines=\"skip\")\n",
            "                if not data_frame.empty:\n",
            "                    sheet_name = os.path.basename(current_csv_file)[\n",
            "                        :-4\n",
            "                    ]  # 使用文件名作为 sheet 名\n",
            "                    data_frame.to_excel(writer, sheet_name=sheet_name, index=False)\n",
            "                else:\n",
            "                    print(f\"Skipping empty file: {current_csv_file}\")\n",
            "            except pd.errors.EmptyDataError:\n",
            "                print(f\"Skipping empty or malformed file: {current_csv_file}\")\n",
            "            except pd.errors.ParserError as e:\n",
            "                print(f\"Error parsing {current_csv_file}: {e}\")\n",
            "\n",
            "    # 处理 scrapping_js 目录下的 CSV 文件\n",
            "    files_js = os.listdir(scrapping_js_directory)\n",
            "    for file in files_js:\n",
            "        if file.endswith(\".csv\"):\n",
            "            file_path = os.path.join(scrapping_js_directory, file)\n",
            "            if os.path.getsize(file_path) > 0:  # 检查文件是否为空\n",
            "                try:\n",
            "                    data_frame = pd.read_csv(file_path, on_bad_lines=\"skip\")\n",
            "                    if not data_frame.empty:\n",
            "                        sheet_name = os.path.basename(file)[\n",
            "                            :-4\n",
            "                        ]  # 使用文件名作为 sheet 名\n",
            "                        data_frame.to_excel(writer, sheet_name=sheet_name, index=False)\n",
            "                    else:\n",
            "                        print(f\"Skipping empty or malformed file: {file}\")\n",
            "                except pd.errors.EmptyDataError:\n",
            "                    print(f\"Skipping empty or malformed file: {file}\")\n",
            "                except pd.errors.ParserError as e:\n",
            "                    print(f\"Error parsing {file}: {e}\")\n",
            "            else:\n",
            "                print(f\"Skipping empty file: {file}\")\n",
            "\n",
            "print(f\"Data has been written to {output_excel_path}\")"
         ]
      },
      {
         "cell_type": "markdown",
         "id": "35870bb6",
         "metadata": {},
         "source": []
      },
      {
         "cell_type": "code",
         "execution_count": null,
         "id": "9193a802",
         "metadata": {},
         "outputs": [],
         "source": []
      },
      {
         "cell_type": "code",
         "execution_count": null,
         "id": "59df43cd",
         "metadata": {},
         "outputs": [],
         "source": []
      },
      {
         "cell_type": "code",
         "execution_count": null,
         "id": "c81c3e98",
         "metadata": {},
         "outputs": [],
         "source": []
      },
      {
         "cell_type": "code",
         "execution_count": null,
         "id": "e2e9c5a3",
         "metadata": {},
         "outputs": [],
         "source": []
      },
      {
         "cell_type": "code",
         "execution_count": null,
         "id": "394c8e34",
         "metadata": {},
         "outputs": [],
         "source": []
      },
      {
         "cell_type": "code",
         "execution_count": null,
         "id": "db7633e0",
         "metadata": {},
         "outputs": [],
         "source": []
      },
      {
         "cell_type": "code",
         "execution_count": null,
         "id": "294bba08",
         "metadata": {},
         "outputs": [],
         "source": []
      }
   ],
   "metadata": {
      "kernelspec": {
         "display_name": "p39 no one",
         "language": "python",
         "name": "p39"
      },
      "language_info": {
         "codemirror_mode": {
            "name": "ipython",
            "version": 3
         },
         "file_extension": ".py",
         "mimetype": "text/x-python",
         "name": "python",
         "nbconvert_exporter": "python",
         "pygments_lexer": "ipython3",
         "version": "3.11.13"
      }
   },
   "nbformat": 4,
   "nbformat_minor": 5
}
