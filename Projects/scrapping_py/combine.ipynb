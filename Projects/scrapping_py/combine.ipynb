{
 "cells": [
  {
   "cell_type": "code",
   "execution_count": 5,
   "metadata": {},
   "outputs": [],
   "source": [
    "import pandas as pd\n",
    "import os"
   ]
  },
  {
   "cell_type": "code",
   "execution_count": 6,
   "metadata": {},
   "outputs": [],
   "source": [
    "# 设置当前目录路径和scrapping_js目录路径\n",
    "current_directory = \"./\"\n",
    "scrapping_js_directory = \"../scrapping_js\""
   ]
  },
  {
   "cell_type": "code",
   "execution_count": 7,
   "metadata": {},
   "outputs": [],
   "source": [
    "# 创建一个ExcelWriter对象\n",
    "output_excel_path = \"MaritimeToyota.xlsx\"\n",
    "with pd.ExcelWriter(output_excel_path) as writer:\n",
    "    # 处理当前目录下的CSV文件\n",
    "    current_csv_file = \"data_part_1.csv\"\n",
    "    if os.path.exists(current_csv_file):\n",
    "        data_frame = pd.read_csv(current_csv_file)\n",
    "        sheet_name = current_csv_file[:-4]  # 移除.csv后缀来作为sheet名\n",
    "        data_frame.to_excel(writer, sheet_name=sheet_name, index=False)\n",
    "    # 处理scrapping_js目录下的CSV文件\n",
    "    files_js = os.listdir(scrapping_js_directory)\n",
    "    for file in files_js:\n",
    "        if file.endswith(\".csv\"):\n",
    "            try:\n",
    "                file_path = os.path.join(scrapping_js_directory, file)\n",
    "                # 使用 on_bad_lines='skip' 来跳过错误行\n",
    "                data_frame = pd.read_csv(file_path, on_bad_lines=\"skip\")\n",
    "                sheet_name = file[:-4]  # 移除.csv后缀来作为sheet名\n",
    "                data_frame.to_excel(writer, sheet_name=sheet_name, index=False)\n",
    "            except pd.errors.ParserError as e:\n",
    "                print(f\"Error parsing {file}: {e}\")"
   ]
  },
  {
   "cell_type": "code",
   "execution_count": 8,
   "metadata": {},
   "outputs": [
    {
     "name": "stdout",
     "output_type": "stream",
     "text": [
      "All CSV files have been combined into MaritimeToyota.xlsx\n"
     ]
    }
   ],
   "source": [
    "print(f\"All CSV files have been combined into {output_excel_path}\")"
   ]
  },
  {
   "cell_type": "code",
   "execution_count": null,
   "metadata": {},
   "outputs": [],
   "source": []
  }
 ],
 "metadata": {
  "kernelspec": {
   "display_name": "p39",
   "language": "python",
   "name": "python3"
  },
  "language_info": {
   "codemirror_mode": {
    "name": "ipython",
    "version": 3
   },
   "file_extension": ".py",
   "mimetype": "text/x-python",
   "name": "python",
   "nbconvert_exporter": "python",
   "pygments_lexer": "ipython3",
   "version": "3.11.9"
  }
 },
 "nbformat": 4,
 "nbformat_minor": 2
}
