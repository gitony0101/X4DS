{
 "cells": [
  {
   "cell_type": "code",
   "execution_count": 7,
   "metadata": {},
   "outputs": [],
   "source": [
    "import pandas as pd\n",
    "import os"
   ]
  },
  {
   "cell_type": "code",
   "execution_count": 8,
   "metadata": {},
   "outputs": [],
   "source": [
    "# 设置文件夹路径\n",
    "path_js = \"../scrapping_js\"\n",
    "path_py = \"./\""
   ]
  },
  {
   "cell_type": "code",
   "execution_count": 9,
   "metadata": {},
   "outputs": [],
   "source": [
    "#  创建Excel写入器\n",
    "writer = pd.ExcelWriter(\"MaritimeToyota.xlsx\", engine=\"xlsxwriter\")"
   ]
  },
  {
   "cell_type": "code",
   "execution_count": 10,
   "metadata": {},
   "outputs": [],
   "source": [
    "# 从scrapping_js文件夹读取所有CSV文件并写入不同的sheet\n",
    "files_js = os.listdir(path_js)\n",
    "for file in files_js:\n",
    "    if file.endswith(\".csv\"):\n",
    "        data_frame = pd.read_csv(os.path.join(path_js, file))\n",
    "        sheet_name = file[:-4]  # 移除.csv后缀来作为sheet名\n",
    "        data_frame.to_excel(writer, sheet_name=sheet_name, index=False)"
   ]
  },
  {
   "cell_type": "code",
   "execution_count": 11,
   "metadata": {},
   "outputs": [],
   "source": [
    "# 从scrapping_py文件夹读取data_part_1.csv文件并写入sheet\n",
    "data_part_1 = pd.read_csv(os.path.join(path_py, \"data_part_1.csv\"))\n",
    "data_part_1.to_excel(writer, sheet_name=\"data_part_1\", index=False)"
   ]
  },
  {
   "cell_type": "code",
   "execution_count": 12,
   "metadata": {},
   "outputs": [],
   "source": [
    "# 关闭并保存Excel文件\n",
    "writer.close()"
   ]
  }
 ],
 "metadata": {
  "kernelspec": {
   "display_name": "p39",
   "language": "python",
   "name": "python3"
  },
  "language_info": {
   "codemirror_mode": {
    "name": "ipython",
    "version": 3
   },
   "file_extension": ".py",
   "mimetype": "text/x-python",
   "name": "python",
   "nbconvert_exporter": "python",
   "pygments_lexer": "ipython3",
   "version": "3.11.9"
  }
 },
 "nbformat": 4,
 "nbformat_minor": 2
}
