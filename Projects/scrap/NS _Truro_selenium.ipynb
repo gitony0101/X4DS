{
 "cells": [
  {
   "cell_type": "code",
   "execution_count": 1,
   "metadata": {},
   "outputs": [],
   "source": [
    "from selenium import webdriver\n",
    "from selenium.webdriver.common.by import By\n",
    "from selenium.webdriver.support.ui import WebDriverWait\n",
    "from selenium.webdriver.support import expected_conditions as EC\n",
    "import pandas as pd"
   ]
  },
  {
   "cell_type": "code",
   "execution_count": 2,
   "metadata": {},
   "outputs": [],
   "source": [
    "# URL of the webpage you want to scrape\n",
    "url = 'https://www.trurotoyota.com/en/new-inventory'\n"
   ]
  },
  {
   "cell_type": "code",
   "execution_count": 3,
   "metadata": {},
   "outputs": [],
   "source": [
    "# Initialize the Chrome WebDriver\n",
    "driver = webdriver.Chrome()\n",
    "\n",
    "# Open the webpage\n",
    "driver.get(url)\n",
    "\n",
    "# Wait for the dynamic content to load\n",
    "wait = WebDriverWait(driver, 10)\n",
    "\n",
    "# Find the div elements with the specified class\n",
    "specific_divs = wait.until(EC.presence_of_all_elements_located((By.CLASS_NAME, 'listing-new-tile-wrapper.false')))\n",
    "\n",
    "# Extract data from the elements\n",
    "div_texts = [div.text for div in specific_divs]\n",
    "\n",
    "\n",
    "# Close the WebDriver\n",
    "driver.quit()\n"
   ]
  },
  {
   "cell_type": "code",
   "execution_count": 4,
   "metadata": {},
   "outputs": [
    {
     "data": {
      "text/plain": [
       "['2024 COROLLA HYBRID LE\\nFront Wheel DriveAutomatic1.8L 4cyl.\\nMSRP\\nPurchase Price (Cash)\\n$28,673\\nFreight, PDI & Other Fees Excluded\\nSelling Price\\n*$28,673\\nShow Legal\\nVIN JTDBCMFE0R3000000\\nINSTALLED OPTIONS\\nCelestite',\n",
       " '2024 COROLLA SE UPGRADE\\nFront Wheel DriveAutomatic2L 4cyl.\\nsold\\nMSRP\\nPurchase Price (Cash)\\n$30,683\\nFreight, PDI & Other Fees Excluded\\nSelling Price\\n*$30,683\\nShow Legal\\nVIN 5YFB4MBE2RP199097\\nINSTALLED OPTIONS\\nMidnight Black Metallic\\nStock #7813',\n",
       " '2024 COROLLA CROSS LE FWD\\nFront Wheel DriveAutomatic2L 4cyl.\\nsold\\nMSRP\\nPurchase Price (Cash)\\n$31,743\\nFreight, PDI & Other Fees Excluded\\nSelling Price\\n*$31,743\\nShow Legal\\nVIN 7MUCAAAG7RV092221\\nINSTALLED OPTIONS\\nSonic Silver Metallic\\nStock #7814',\n",
       " '2024 CAMRY SE UPGRADE\\nFront Wheel DriveAutomatic2.5L 4cyl.\\nMSRP\\nPurchase Price (Cash)\\n$35,868\\nFreight, PDI & Other Fees Excluded\\nDealer rebate\\n$2,500.00\\nSelling Price\\n*$33,368\\nShow Legal\\nVIN 4T1S11AK1RU259982\\nINSTALLED OPTIONS\\nSupersonic Red\\nStock #7761\\n+ 22',\n",
       " '2024 RAV4 LE\\nAll Wheel DriveAutomatic2.5L 4cyl.\\nsold\\nMSRP\\nPurchase Price (Cash)\\n$35,203\\nFreight, PDI & Other Fees Excluded\\nSelling Price\\n*$35,203\\nShow Legal\\nVIN 2T3B1RFV1RC451929\\nINSTALLED OPTIONS\\nLE\\nMidnight Black Metallic\\nStock #7810',\n",
       " '2024 RAV4 LE\\nAll Wheel DriveAutomatic2.5L 4cyl.\\nMSRP\\nPurchase Price (Cash)\\n$35,203\\nFreight, PDI & Other Fees Excluded\\nSelling Price\\n*$35,203\\nShow Legal\\nVIN 2T3B1RFV0PC000000\\nINSTALLED OPTIONS\\nLE\\nWhite',\n",
       " '2024 RAV4 LE\\nAll Wheel DriveAutomatic2.5L 4cyl.\\nsold\\nMSRP\\nPurchase Price (Cash)\\n$35,203\\nFreight, PDI & Other Fees Excluded\\nSelling Price\\n*$35,203\\nShow Legal\\nVIN 2T3B1RFV6RC448783\\nINSTALLED OPTIONS\\nLE\\nSilver Sky Metallic\\nStock #7807',\n",
       " '2024 RAV4 XLE\\nAll Wheel DriveAutomatic2.5L 4cyl.\\nMSRP\\nPurchase Price (Cash)\\n$38,903\\nFreight, PDI & Other Fees Excluded\\nSelling Price\\n*$38,903\\nShow Legal\\nVIN 2T3R1RFV0PC000000\\nINSTALLED OPTIONS\\nXLE\\nWhite',\n",
       " '2024 COROLLA CROSS HYBRID XSE\\nAll Wheel DriveAutomatic2L 4cyl.\\nsold\\nMSRP\\nPurchase Price (Cash)\\n$39,403\\nFreight, PDI & Other Fees Excluded\\nSelling Price\\n*$39,403\\nShow Legal\\nVIN 7MUFBABG0RV034895\\nINSTALLED OPTIONS\\nJet Black Mica\\nStock #7771',\n",
       " '2024 RAV4 XLE PREMIUM\\nAll Wheel DriveAutomatic2.5L 4cyl.\\nsold\\nMSRP\\nPurchase Price (Cash)\\n$40,943\\nFreight, PDI & Other Fees Excluded\\nSelling Price\\n*$40,943\\nShow Legal\\nVIN 2T3R1RFV4RC447968\\nINSTALLED OPTIONS\\nXLE Premium\\nMidnight Black Metallic\\nStock #7808',\n",
       " '2024 RAV4 HYBRID XLE\\nAll Wheel DriveAutomatic2.5L 4cyl.\\nMSRP\\nPurchase Price (Cash)\\n$41,103\\nFreight, PDI & Other Fees Excluded\\nSelling Price\\n*$41,103\\nShow Legal\\nVIN 2T3RWRFV0PW000000\\nINSTALLED OPTIONS\\nXLE\\nBlueprint',\n",
       " '2024 RAV4 XLE PREMIUM\\nAll Wheel DriveAutomatic2.5L 4cyl.\\nMSRP\\nPurchase Price (Cash)\\n$41,198\\nFreight, PDI & Other Fees Excluded\\nSelling Price\\n*$41,198\\nShow Legal\\nVIN 2T3R1RFV0PW000000\\nINSTALLED OPTIONS\\nXLE Premium\\nWind Chill Pear']"
      ]
     },
     "execution_count": 4,
     "metadata": {},
     "output_type": "execute_result"
    }
   ],
   "source": [
    "div_texts\n"
   ]
  },
  {
   "cell_type": "code",
   "execution_count": 5,
   "metadata": {},
   "outputs": [],
   "source": [
    "text_data = [div_texts[_].split('\\n') for _ in range(len(div_texts\n",
    "))]\n"
   ]
  },
  {
   "cell_type": "code",
   "execution_count": 6,
   "metadata": {},
   "outputs": [
    {
     "data": {
      "text/plain": [
       "[['2024 COROLLA HYBRID LE',\n",
       "  'Front Wheel DriveAutomatic1.8L 4cyl.',\n",
       "  'MSRP',\n",
       "  'Purchase Price (Cash)',\n",
       "  '$28,673',\n",
       "  'Freight, PDI & Other Fees Excluded',\n",
       "  'Selling Price',\n",
       "  '*$28,673',\n",
       "  'Show Legal',\n",
       "  'VIN JTDBCMFE0R3000000',\n",
       "  'INSTALLED OPTIONS',\n",
       "  'Celestite'],\n",
       " ['2024 COROLLA SE UPGRADE',\n",
       "  'Front Wheel DriveAutomatic2L 4cyl.',\n",
       "  'sold',\n",
       "  'MSRP',\n",
       "  'Purchase Price (Cash)',\n",
       "  '$30,683',\n",
       "  'Freight, PDI & Other Fees Excluded',\n",
       "  'Selling Price',\n",
       "  '*$30,683',\n",
       "  'Show Legal',\n",
       "  'VIN 5YFB4MBE2RP199097',\n",
       "  'INSTALLED OPTIONS',\n",
       "  'Midnight Black Metallic',\n",
       "  'Stock #7813'],\n",
       " ['2024 COROLLA CROSS LE FWD',\n",
       "  'Front Wheel DriveAutomatic2L 4cyl.',\n",
       "  'sold',\n",
       "  'MSRP',\n",
       "  'Purchase Price (Cash)',\n",
       "  '$31,743',\n",
       "  'Freight, PDI & Other Fees Excluded',\n",
       "  'Selling Price',\n",
       "  '*$31,743',\n",
       "  'Show Legal',\n",
       "  'VIN 7MUCAAAG7RV092221',\n",
       "  'INSTALLED OPTIONS',\n",
       "  'Sonic Silver Metallic',\n",
       "  'Stock #7814'],\n",
       " ['2024 CAMRY SE UPGRADE',\n",
       "  'Front Wheel DriveAutomatic2.5L 4cyl.',\n",
       "  'MSRP',\n",
       "  'Purchase Price (Cash)',\n",
       "  '$35,868',\n",
       "  'Freight, PDI & Other Fees Excluded',\n",
       "  'Dealer rebate',\n",
       "  '$2,500.00',\n",
       "  'Selling Price',\n",
       "  '*$33,368',\n",
       "  'Show Legal',\n",
       "  'VIN 4T1S11AK1RU259982',\n",
       "  'INSTALLED OPTIONS',\n",
       "  'Supersonic Red',\n",
       "  'Stock #7761',\n",
       "  '+ 22'],\n",
       " ['2024 RAV4 LE',\n",
       "  'All Wheel DriveAutomatic2.5L 4cyl.',\n",
       "  'sold',\n",
       "  'MSRP',\n",
       "  'Purchase Price (Cash)',\n",
       "  '$35,203',\n",
       "  'Freight, PDI & Other Fees Excluded',\n",
       "  'Selling Price',\n",
       "  '*$35,203',\n",
       "  'Show Legal',\n",
       "  'VIN 2T3B1RFV1RC451929',\n",
       "  'INSTALLED OPTIONS',\n",
       "  'LE',\n",
       "  'Midnight Black Metallic',\n",
       "  'Stock #7810'],\n",
       " ['2024 RAV4 LE',\n",
       "  'All Wheel DriveAutomatic2.5L 4cyl.',\n",
       "  'MSRP',\n",
       "  'Purchase Price (Cash)',\n",
       "  '$35,203',\n",
       "  'Freight, PDI & Other Fees Excluded',\n",
       "  'Selling Price',\n",
       "  '*$35,203',\n",
       "  'Show Legal',\n",
       "  'VIN 2T3B1RFV0PC000000',\n",
       "  'INSTALLED OPTIONS',\n",
       "  'LE',\n",
       "  'White'],\n",
       " ['2024 RAV4 LE',\n",
       "  'All Wheel DriveAutomatic2.5L 4cyl.',\n",
       "  'sold',\n",
       "  'MSRP',\n",
       "  'Purchase Price (Cash)',\n",
       "  '$35,203',\n",
       "  'Freight, PDI & Other Fees Excluded',\n",
       "  'Selling Price',\n",
       "  '*$35,203',\n",
       "  'Show Legal',\n",
       "  'VIN 2T3B1RFV6RC448783',\n",
       "  'INSTALLED OPTIONS',\n",
       "  'LE',\n",
       "  'Silver Sky Metallic',\n",
       "  'Stock #7807'],\n",
       " ['2024 RAV4 XLE',\n",
       "  'All Wheel DriveAutomatic2.5L 4cyl.',\n",
       "  'MSRP',\n",
       "  'Purchase Price (Cash)',\n",
       "  '$38,903',\n",
       "  'Freight, PDI & Other Fees Excluded',\n",
       "  'Selling Price',\n",
       "  '*$38,903',\n",
       "  'Show Legal',\n",
       "  'VIN 2T3R1RFV0PC000000',\n",
       "  'INSTALLED OPTIONS',\n",
       "  'XLE',\n",
       "  'White'],\n",
       " ['2024 COROLLA CROSS HYBRID XSE',\n",
       "  'All Wheel DriveAutomatic2L 4cyl.',\n",
       "  'sold',\n",
       "  'MSRP',\n",
       "  'Purchase Price (Cash)',\n",
       "  '$39,403',\n",
       "  'Freight, PDI & Other Fees Excluded',\n",
       "  'Selling Price',\n",
       "  '*$39,403',\n",
       "  'Show Legal',\n",
       "  'VIN 7MUFBABG0RV034895',\n",
       "  'INSTALLED OPTIONS',\n",
       "  'Jet Black Mica',\n",
       "  'Stock #7771'],\n",
       " ['2024 RAV4 XLE PREMIUM',\n",
       "  'All Wheel DriveAutomatic2.5L 4cyl.',\n",
       "  'sold',\n",
       "  'MSRP',\n",
       "  'Purchase Price (Cash)',\n",
       "  '$40,943',\n",
       "  'Freight, PDI & Other Fees Excluded',\n",
       "  'Selling Price',\n",
       "  '*$40,943',\n",
       "  'Show Legal',\n",
       "  'VIN 2T3R1RFV4RC447968',\n",
       "  'INSTALLED OPTIONS',\n",
       "  'XLE Premium',\n",
       "  'Midnight Black Metallic',\n",
       "  'Stock #7808'],\n",
       " ['2024 RAV4 HYBRID XLE',\n",
       "  'All Wheel DriveAutomatic2.5L 4cyl.',\n",
       "  'MSRP',\n",
       "  'Purchase Price (Cash)',\n",
       "  '$41,103',\n",
       "  'Freight, PDI & Other Fees Excluded',\n",
       "  'Selling Price',\n",
       "  '*$41,103',\n",
       "  'Show Legal',\n",
       "  'VIN 2T3RWRFV0PW000000',\n",
       "  'INSTALLED OPTIONS',\n",
       "  'XLE',\n",
       "  'Blueprint'],\n",
       " ['2024 RAV4 XLE PREMIUM',\n",
       "  'All Wheel DriveAutomatic2.5L 4cyl.',\n",
       "  'MSRP',\n",
       "  'Purchase Price (Cash)',\n",
       "  '$41,198',\n",
       "  'Freight, PDI & Other Fees Excluded',\n",
       "  'Selling Price',\n",
       "  '*$41,198',\n",
       "  'Show Legal',\n",
       "  'VIN 2T3R1RFV0PW000000',\n",
       "  'INSTALLED OPTIONS',\n",
       "  'XLE Premium',\n",
       "  'Wind Chill Pear']]"
      ]
     },
     "execution_count": 6,
     "metadata": {},
     "output_type": "execute_result"
    }
   ],
   "source": [
    "text_data \n"
   ]
  },
  {
   "cell_type": "code",
   "execution_count": 7,
   "metadata": {},
   "outputs": [],
   "source": [
    "# Extracting required information\n",
    "extracted_data = []\n",
    "for sublist in text_data:\n",
    "    price = None\n",
    "    vin = None\n",
    "    for item in sublist:\n",
    "        if item.startswith('$'):\n",
    "            price = item\n",
    "        elif item.startswith('VIN'):\n",
    "            vin = item.split()[-1]\n",
    "    extracted_data.append([sublist[0], sublist[1], price, vin])\n",
    "\n",
    "# Converting to DataFrame\n",
    "df = pd.DataFrame(extracted_data, columns=['Model', 'Drive', 'Price', 'VIN'])"
   ]
  },
  {
   "cell_type": "code",
   "execution_count": 8,
   "metadata": {},
   "outputs": [],
   "source": [
    "df.to_csv('truro.csv')"
   ]
  },
  {
   "cell_type": "code",
   "execution_count": null,
   "metadata": {},
   "outputs": [],
   "source": []
  },
  {
   "cell_type": "code",
   "execution_count": null,
   "metadata": {},
   "outputs": [],
   "source": []
  },
  {
   "cell_type": "code",
   "execution_count": null,
   "metadata": {},
   "outputs": [],
   "source": []
  },
  {
   "cell_type": "code",
   "execution_count": null,
   "metadata": {},
   "outputs": [],
   "source": []
  },
  {
   "cell_type": "code",
   "execution_count": null,
   "metadata": {},
   "outputs": [],
   "source": []
  },
  {
   "cell_type": "code",
   "execution_count": null,
   "metadata": {},
   "outputs": [],
   "source": []
  },
  {
   "cell_type": "code",
   "execution_count": null,
   "metadata": {},
   "outputs": [],
   "source": []
  },
  {
   "cell_type": "code",
   "execution_count": null,
   "metadata": {},
   "outputs": [],
   "source": []
  },
  {
   "cell_type": "markdown",
   "metadata": {},
   "source": []
  },
  {
   "cell_type": "code",
   "execution_count": null,
   "metadata": {},
   "outputs": [],
   "source": []
  },
  {
   "cell_type": "code",
   "execution_count": null,
   "metadata": {},
   "outputs": [],
   "source": []
  },
  {
   "cell_type": "code",
   "execution_count": null,
   "metadata": {},
   "outputs": [],
   "source": []
  },
  {
   "cell_type": "code",
   "execution_count": null,
   "metadata": {},
   "outputs": [],
   "source": []
  },
  {
   "cell_type": "code",
   "execution_count": null,
   "metadata": {},
   "outputs": [],
   "source": []
  },
  {
   "cell_type": "code",
   "execution_count": null,
   "metadata": {},
   "outputs": [],
   "source": []
  },
  {
   "cell_type": "code",
   "execution_count": null,
   "metadata": {},
   "outputs": [],
   "source": []
  },
  {
   "cell_type": "code",
   "execution_count": null,
   "metadata": {},
   "outputs": [],
   "source": []
  },
  {
   "cell_type": "code",
   "execution_count": null,
   "metadata": {},
   "outputs": [],
   "source": []
  },
  {
   "cell_type": "code",
   "execution_count": null,
   "metadata": {},
   "outputs": [],
   "source": []
  },
  {
   "cell_type": "code",
   "execution_count": 9,
   "metadata": {},
   "outputs": [
    {
     "ename": "NameError",
     "evalue": "name 'requests' is not defined",
     "output_type": "error",
     "traceback": [
      "\u001b[0;31m---------------------------------------------------------------------------\u001b[0m",
      "\u001b[0;31mNameError\u001b[0m                                 Traceback (most recent call last)",
      "Cell \u001b[0;32mIn[9], line 1\u001b[0m\n\u001b[0;32m----> 1\u001b[0m response \u001b[38;5;241m=\u001b[39m \u001b[43mrequests\u001b[49m\u001b[38;5;241m.\u001b[39mget(url)\n\u001b[1;32m      3\u001b[0m \u001b[38;5;66;03m# 使用 BeautifulSoup 解析 HTML 内容\u001b[39;00m\n\u001b[1;32m      4\u001b[0m soup \u001b[38;5;241m=\u001b[39m BeautifulSoup(response\u001b[38;5;241m.\u001b[39mtext, \u001b[38;5;124m\"\u001b[39m\u001b[38;5;124mhtml.parser\u001b[39m\u001b[38;5;124m\"\u001b[39m)\n",
      "\u001b[0;31mNameError\u001b[0m: name 'requests' is not defined"
     ]
    }
   ],
   "source": [
    "\n",
    "response = requests.get(url)\n",
    "\n",
    "# 使用 BeautifulSoup 解析 HTML 内容\n",
    "soup = BeautifulSoup(response.text, \"html.parser\")\n",
    "\n",
    "# 找到包含车辆信息的 <script> 标签\n",
    "json_scripts = soup.find_all(\"script\", type=\"application/ld+json\")\n",
    "\n",
    "# 定义一个空列表，用于存储提取的车辆信息\n",
    "vehicles = []\n",
    "\n",
    "# 定义一个集合，用于存储已经见过的车辆名称\n",
    "seen_vehicles = set()\n"
   ]
  },
  {
   "cell_type": "code",
   "execution_count": null,
   "metadata": {},
   "outputs": [
    {
     "data": {
      "text/plain": [
       "0"
      ]
     },
     "execution_count": 82,
     "metadata": {},
     "output_type": "execute_result"
    }
   ],
   "source": [
    "\n",
    "# 循环遍历每个 <script> 标签\n",
    "for script in json_scripts:\n",
    "    # 获取 <script> 标签的文本内容\n",
    "    json_text = script.string\n",
    "    \n",
    "    # 如果文本内容存在\n",
    "    if json_text:\n",
    "        # 移除特殊字符\n",
    "        json_text_cleaned = re.sub(r'[\\x00-\\x1F\\x7F-\\x9F]', '', json_text)\n",
    "        \n",
    "        # 解析 JSON 数据为 Python 字典对象\n",
    "        json_data = json.loads(json_text_cleaned)\n",
    "        \n",
    "        # 如果 JSON 数据是车辆清单（ItemList）\n",
    "        if \"@type\" in json_data and json_data[\"@type\"] == \"ItemList\":\n",
    "            # 获取车辆列表\n",
    "            vehicle_list = json_data[\"itemListElement\"]\n",
    "            \n",
    "            # 遍历每个车辆条目\n",
    "            for vehicle_item in vehicle_list:\n",
    "                # 获取车辆信息\n",
    "                vehicle_info = vehicle_item[\"item\"]\n",
    "                \n",
    "                # 获取车辆名称\n",
    "                vehicle_name = vehicle_info[\"name\"]\n",
    "                \n",
    "                # 如果车辆名称不在集合中，说明是新的车辆信息，添加到列表中，并将车辆名称添加到集合中\n",
    "                if vehicle_name not in seen_vehicles:\n",
    "                    vehicles.append(vehicle_info)\n",
    "                    seen_vehicles.add(vehicle_name)\n",
    "\n",
    "# 打印输出提取的车辆信息\n",
    "for vehicle in vehicles:\n",
    "    print(\"车辆名称:\", vehicle[\"name\"])\n",
    "    print(\"车辆价格:\", vehicle[\"offers\"][\"price\"], vehicle[\"offers\"][\"priceCurrency\"])\n",
    "    print()  # 添加空行，方便阅读\n",
    "\n",
    "len(vehicles)"
   ]
  },
  {
   "cell_type": "code",
   "execution_count": null,
   "metadata": {},
   "outputs": [],
   "source": []
  },
  {
   "cell_type": "code",
   "execution_count": null,
   "metadata": {},
   "outputs": [],
   "source": []
  },
  {
   "cell_type": "code",
   "execution_count": null,
   "metadata": {},
   "outputs": [],
   "source": []
  },
  {
   "cell_type": "markdown",
   "metadata": {},
   "source": []
  }
 ],
 "metadata": {
  "kernelspec": {
   "display_name": "p39",
   "language": "python",
   "name": "python3"
  },
  "language_info": {
   "codemirror_mode": {
    "name": "ipython",
    "version": 3
   },
   "file_extension": ".py",
   "mimetype": "text/x-python",
   "name": "python",
   "nbconvert_exporter": "python",
   "pygments_lexer": "ipython3",
   "version": "3.11.9"
  }
 },
 "nbformat": 4,
 "nbformat_minor": 2
}
