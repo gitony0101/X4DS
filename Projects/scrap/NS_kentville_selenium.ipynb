{
 "cells": [
  {
   "cell_type": "code",
   "execution_count": 30,
   "metadata": {},
   "outputs": [],
   "source": [
    "from selenium import webdriver\n",
    "from selenium.webdriver.common.by import By\n",
    "from selenium.webdriver.support.ui import WebDriverWait\n",
    "from selenium.webdriver.support import expected_conditions as EC\n",
    "import pandas as pd"
   ]
  },
  {
   "cell_type": "code",
   "execution_count": 31,
   "metadata": {},
   "outputs": [],
   "source": [
    "# URL of the webpage you want to scrape\n",
    "url = 'https://www.kentvilletoyota.com/en/shop-online?paymentFrequency=52&purchaseMethodOrder=4352&preferredMake=ALL'"
   ]
  },
  {
   "cell_type": "code",
   "execution_count": 32,
   "metadata": {},
   "outputs": [],
   "source": [
    "\n",
    "# Initialize the Chrome WebDriver\n",
    "driver = webdriver.Chrome()\n",
    "\n",
    "# Open the webpage\n",
    "driver.get(url)\n",
    "\n",
    "\n",
    "# Wait for the dynamic content to load\n",
    "wait = WebDriverWait(driver, 10)"
   ]
  },
  {
   "cell_type": "code",
   "execution_count": 33,
   "metadata": {},
   "outputs": [],
   "source": [
    "# Find the div elements with the specified class\n",
    "specific_divs = wait.until(EC.presence_of_all_elements_located((By.CLASS_NAME, 'vehicle-description ')))"
   ]
  },
  {
   "cell_type": "code",
   "execution_count": 34,
   "metadata": {},
   "outputs": [],
   "source": [
    "driver.quit()"
   ]
  },
  {
   "cell_type": "code",
   "execution_count": null,
   "metadata": {},
   "outputs": [],
   "source": []
  },
  {
   "cell_type": "code",
   "execution_count": 39,
   "metadata": {},
   "outputs": [],
   "source": [
    "# specific_divs_text = [div.text for div in specific_divs]"
   ]
  },
  {
   "cell_type": "code",
   "execution_count": null,
   "metadata": {},
   "outputs": [],
   "source": []
  },
  {
   "cell_type": "code",
   "execution_count": null,
   "metadata": {},
   "outputs": [],
   "source": []
  },
  {
   "cell_type": "code",
   "execution_count": null,
   "metadata": {},
   "outputs": [],
   "source": []
  },
  {
   "cell_type": "code",
   "execution_count": null,
   "metadata": {},
   "outputs": [],
   "source": []
  },
  {
   "cell_type": "code",
   "execution_count": null,
   "metadata": {},
   "outputs": [],
   "source": []
  },
  {
   "cell_type": "code",
   "execution_count": null,
   "metadata": {},
   "outputs": [],
   "source": []
  },
  {
   "cell_type": "code",
   "execution_count": null,
   "metadata": {},
   "outputs": [],
   "source": []
  },
  {
   "cell_type": "code",
   "execution_count": null,
   "metadata": {},
   "outputs": [],
   "source": []
  },
  {
   "cell_type": "code",
   "execution_count": null,
   "metadata": {},
   "outputs": [],
   "source": []
  },
  {
   "cell_type": "code",
   "execution_count": null,
   "metadata": {},
   "outputs": [],
   "source": []
  },
  {
   "cell_type": "markdown",
   "metadata": {},
   "source": []
  },
  {
   "cell_type": "code",
   "execution_count": null,
   "metadata": {},
   "outputs": [],
   "source": []
  },
  {
   "cell_type": "code",
   "execution_count": null,
   "metadata": {},
   "outputs": [],
   "source": []
  },
  {
   "cell_type": "code",
   "execution_count": null,
   "metadata": {},
   "outputs": [],
   "source": []
  },
  {
   "cell_type": "code",
   "execution_count": null,
   "metadata": {},
   "outputs": [],
   "source": []
  },
  {
   "cell_type": "code",
   "execution_count": null,
   "metadata": {},
   "outputs": [],
   "source": []
  },
  {
   "cell_type": "code",
   "execution_count": null,
   "metadata": {},
   "outputs": [],
   "source": []
  },
  {
   "cell_type": "code",
   "execution_count": null,
   "metadata": {},
   "outputs": [],
   "source": []
  },
  {
   "cell_type": "code",
   "execution_count": null,
   "metadata": {},
   "outputs": [],
   "source": []
  },
  {
   "cell_type": "code",
   "execution_count": null,
   "metadata": {},
   "outputs": [],
   "source": []
  },
  {
   "cell_type": "code",
   "execution_count": null,
   "metadata": {},
   "outputs": [],
   "source": []
  },
  {
   "cell_type": "code",
   "execution_count": null,
   "metadata": {},
   "outputs": [],
   "source": [
    "\n",
    "response = requests.get(url)\n",
    "\n",
    "# 使用 BeautifulSoup 解析 HTML 内容\n",
    "soup = BeautifulSoup(response.text, \"html.parser\")\n",
    "\n",
    "# 找到包含车辆信息的 <script> 标签\n",
    "json_scripts = soup.find_all(\"script\", type=\"application/ld+json\")\n",
    "\n",
    "# 定义一个空列表，用于存储提取的车辆信息\n",
    "vehicles = []\n",
    "\n",
    "# 定义一个集合，用于存储已经见过的车辆名称\n",
    "seen_vehicles = set()\n"
   ]
  },
  {
   "cell_type": "code",
   "execution_count": null,
   "metadata": {},
   "outputs": [
    {
     "data": {
      "text/plain": [
       "0"
      ]
     },
     "execution_count": 82,
     "metadata": {},
     "output_type": "execute_result"
    }
   ],
   "source": [
    "\n",
    "# 循环遍历每个 <script> 标签\n",
    "for script in json_scripts:\n",
    "    # 获取 <script> 标签的文本内容\n",
    "    json_text = script.string\n",
    "    \n",
    "    # 如果文本内容存在\n",
    "    if json_text:\n",
    "        # 移除特殊字符\n",
    "        json_text_cleaned = re.sub(r'[\\x00-\\x1F\\x7F-\\x9F]', '', json_text)\n",
    "        \n",
    "        # 解析 JSON 数据为 Python 字典对象\n",
    "        json_data = json.loads(json_text_cleaned)\n",
    "        \n",
    "        # 如果 JSON 数据是车辆清单（ItemList）\n",
    "        if \"@type\" in json_data and json_data[\"@type\"] == \"ItemList\":\n",
    "            # 获取车辆列表\n",
    "            vehicle_list = json_data[\"itemListElement\"]\n",
    "            \n",
    "            # 遍历每个车辆条目\n",
    "            for vehicle_item in vehicle_list:\n",
    "                # 获取车辆信息\n",
    "                vehicle_info = vehicle_item[\"item\"]\n",
    "                \n",
    "                # 获取车辆名称\n",
    "                vehicle_name = vehicle_info[\"name\"]\n",
    "                \n",
    "                # 如果车辆名称不在集合中，说明是新的车辆信息，添加到列表中，并将车辆名称添加到集合中\n",
    "                if vehicle_name not in seen_vehicles:\n",
    "                    vehicles.append(vehicle_info)\n",
    "                    seen_vehicles.add(vehicle_name)\n",
    "\n",
    "# 打印输出提取的车辆信息\n",
    "for vehicle in vehicles:\n",
    "    print(\"车辆名称:\", vehicle[\"name\"])\n",
    "    print(\"车辆价格:\", vehicle[\"offers\"][\"price\"], vehicle[\"offers\"][\"priceCurrency\"])\n",
    "    print()  # 添加空行，方便阅读\n",
    "\n",
    "len(vehicles)"
   ]
  },
  {
   "cell_type": "code",
   "execution_count": null,
   "metadata": {},
   "outputs": [],
   "source": []
  },
  {
   "cell_type": "code",
   "execution_count": null,
   "metadata": {},
   "outputs": [],
   "source": []
  },
  {
   "cell_type": "code",
   "execution_count": null,
   "metadata": {},
   "outputs": [],
   "source": []
  },
  {
   "cell_type": "markdown",
   "metadata": {},
   "source": []
  }
 ],
 "metadata": {
  "kernelspec": {
   "display_name": "p39 no one",
   "language": "python",
   "name": "p39"
  },
  "language_info": {
   "codemirror_mode": {
    "name": "ipython",
    "version": 3
   },
   "file_extension": ".py",
   "mimetype": "text/x-python",
   "name": "python",
   "nbconvert_exporter": "python",
   "pygments_lexer": "ipython3",
   "version": "3.11.9"
  }
 },
 "nbformat": 4,
 "nbformat_minor": 2
}
