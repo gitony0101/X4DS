{
 "cells": [
  {
   "cell_type": "code",
   "execution_count": 145,
   "metadata": {},
   "outputs": [],
   "source": [
    "import requests\n",
    "from selenium import webdriver\n",
    "from bs4 import BeautifulSoup\n",
    "import json\n",
    "import re\n",
    "from selenium import webdriver\n",
    "from selenium.webdriver.chrome.service import Service\n",
    "from selenium.webdriver.common.by import By\n",
    "import pandas as pd"
   ]
  },
  {
   "cell_type": "code",
   "execution_count": 136,
   "metadata": {},
   "outputs": [],
   "source": [
    "service = Service('/opt/homebrew/bin/chromedriver')  \n",
    "driver = webdriver.Chrome(service=service)\n"
   ]
  },
  {
   "cell_type": "code",
   "execution_count": 137,
   "metadata": {},
   "outputs": [],
   "source": [
    "url = 'https://www.summersidetoyota.com/en/new-inventory'\n",
    "driver.get(url)\n",
    "\n",
    "driver.implicitly_wait(3)"
   ]
  },
  {
   "cell_type": "code",
   "execution_count": 152,
   "metadata": {},
   "outputs": [],
   "source": [
    "element = driver.find_element(By.TAG_NAME, 'body')"
   ]
  },
  {
   "cell_type": "code",
   "execution_count": 170,
   "metadata": {},
   "outputs": [],
   "source": [
    "data = element.text\n",
    "lines = data.strip().split('\\n')"
   ]
  },
  {
   "cell_type": "code",
   "execution_count": 195,
   "metadata": {},
   "outputs": [
    {
     "name": "stdout",
     "output_type": "stream",
     "text": [
      "2024 RAV4 XLE\n",
      "All Wheel DriveAutomatic2.5L 4cyl.\n",
      "In-Stock and Ready to go!\n",
      "MSRP\n",
      "Purchase Price (Cash)\n",
      "$39,899\n",
      "Includes Freight, PDI & Fees\n",
      "Selling Price\n",
      "*$39,899\n",
      "Show Legal\n",
      "VIN 2T3R1RFV9RW450993\n",
      "INSTALLED OPTIONS\n",
      "XLE\n",
      "Blueprint\n",
      "Stock #450993\n",
      "RESERVED\n",
      "\n"
     ]
    }
   ],
   "source": [
    "# # 找到第一个\"2024\"的位置\n",
    "# start_index = data.index(\"2024\")\n",
    "\n",
    "# # 找到第二个\"2024\"的位置\n",
    "# second_index = data.find(\"2024\", start_index + 1)\n",
    "\n",
    "# # 找到第三个\"2024\"的位置\n",
    "# third_index = data.find(\"2024\", second_index + 1)\n",
    "\n",
    "# # 提取从第一个\"2024\"到下一个\"2024\"之间的车辆信息块\n",
    "# vehicle_info_block = data[second_index:third_index]\n",
    "\n",
    "# # 打印提取的车辆信息块\n",
    "# print(vehicle_info_block)\n"
   ]
  },
  {
   "cell_type": "code",
   "execution_count": 197,
   "metadata": {},
   "outputs": [],
   "source": [
    "# # 找到第一个\"2024\"的位置\n",
    "# start_index = data.find(\"2024\")\n",
    "\n",
    "# # 如果找到了第一个\"2024\"\n",
    "# while start_index != -1:\n",
    "#     # 找到第一个\"2024\"之后的位置\n",
    "#     end_index = data.find(\"2024\", start_index + 1)\n",
    "    \n",
    "#     # 如果找到了下一个\"2024\"\n",
    "#     if end_index != -1:\n",
    "#         # 提取车辆信息块\n",
    "#         vehicle_info = data[start_index:end_index]\n",
    "#         print(vehicle_info)\n",
    "        \n",
    "#         # 更新下一个\"2024\"的位置\n",
    "#         start_index = end_index\n",
    "#     else:\n",
    "#         break"
   ]
  },
  {
   "cell_type": "code",
   "execution_count": 201,
   "metadata": {},
   "outputs": [
    {
     "ename": "NameError",
     "evalue": "name 'purchase_price_index' is not defined",
     "output_type": "error",
     "traceback": [
      "\u001b[0;31m---------------------------------------------------------------------------\u001b[0m",
      "\u001b[0;31mNameError\u001b[0m                                 Traceback (most recent call last)",
      "Cell \u001b[0;32mIn[201], line 23\u001b[0m\n\u001b[1;32m     21\u001b[0m drivetrain \u001b[38;5;241m=\u001b[39m vehicle_details[\u001b[38;5;241m1\u001b[39m]\n\u001b[1;32m     22\u001b[0m description \u001b[38;5;241m=\u001b[39m vehicle_details[\u001b[38;5;241m2\u001b[39m]\n\u001b[0;32m---> 23\u001b[0m purchase_price \u001b[38;5;241m=\u001b[39m vehicle_details[\u001b[43mpurchase_price_index\u001b[49m \u001b[38;5;241m+\u001b[39m \u001b[38;5;241m1\u001b[39m]\n\u001b[1;32m     24\u001b[0m vin_index \u001b[38;5;241m=\u001b[39m vehicle_details\u001b[38;5;241m.\u001b[39mindex(\u001b[38;5;124m'\u001b[39m\u001b[38;5;124mVIN\u001b[39m\u001b[38;5;124m'\u001b[39m)\n\u001b[1;32m     25\u001b[0m vin \u001b[38;5;241m=\u001b[39m vehicle_details[vin_index \u001b[38;5;241m+\u001b[39m \u001b[38;5;241m1\u001b[39m]\u001b[38;5;241m.\u001b[39msplit(\u001b[38;5;124m'\u001b[39m\u001b[38;5;124m \u001b[39m\u001b[38;5;124m'\u001b[39m)[\u001b[38;5;241m1\u001b[39m]\n",
      "\u001b[0;31mNameError\u001b[0m: name 'purchase_price_index' is not defined"
     ]
    }
   ],
   "source": []
  },
  {
   "cell_type": "code",
   "execution_count": null,
   "metadata": {},
   "outputs": [],
   "source": []
  },
  {
   "cell_type": "code",
   "execution_count": null,
   "metadata": {},
   "outputs": [],
   "source": []
  },
  {
   "cell_type": "code",
   "execution_count": null,
   "metadata": {},
   "outputs": [],
   "source": []
  },
  {
   "cell_type": "code",
   "execution_count": null,
   "metadata": {},
   "outputs": [],
   "source": []
  },
  {
   "cell_type": "code",
   "execution_count": null,
   "metadata": {},
   "outputs": [],
   "source": []
  },
  {
   "cell_type": "code",
   "execution_count": null,
   "metadata": {},
   "outputs": [],
   "source": []
  },
  {
   "cell_type": "markdown",
   "metadata": {},
   "source": []
  },
  {
   "cell_type": "code",
   "execution_count": null,
   "metadata": {},
   "outputs": [],
   "source": []
  },
  {
   "cell_type": "code",
   "execution_count": null,
   "metadata": {},
   "outputs": [],
   "source": []
  },
  {
   "cell_type": "code",
   "execution_count": null,
   "metadata": {},
   "outputs": [],
   "source": []
  },
  {
   "cell_type": "code",
   "execution_count": null,
   "metadata": {},
   "outputs": [],
   "source": []
  },
  {
   "cell_type": "code",
   "execution_count": null,
   "metadata": {},
   "outputs": [],
   "source": []
  },
  {
   "cell_type": "code",
   "execution_count": null,
   "metadata": {},
   "outputs": [],
   "source": []
  },
  {
   "cell_type": "code",
   "execution_count": 108,
   "metadata": {},
   "outputs": [],
   "source": []
  },
  {
   "cell_type": "code",
   "execution_count": null,
   "metadata": {},
   "outputs": [],
   "source": []
  },
  {
   "cell_type": "code",
   "execution_count": null,
   "metadata": {},
   "outputs": [],
   "source": []
  },
  {
   "cell_type": "code",
   "execution_count": 76,
   "metadata": {},
   "outputs": [],
   "source": [
    "# 发起 HTTP 请求获取网页内容\n",
    "# url = \"https://www.acadiatoyota.com/en/new-inventory\"\n",
    "# url =\"https://www.frederictontoyota.com/en/new-inventory\"\n",
    "# url = \"https://www.summersidetoyota.com/en/new-inventory\"  ## 这个网站不行\n",
    "# url = \"https://www.charlottetowntoyota.ca/en/new-catalog\"\n",
    "# url =\"https://www.trurotoyota.com/en/new-inventory\" ## 这个网站不行\n",
    "# url = \"https://www.anchortoyota.ca/vehicles/new/?st=year,desc&view=grid&sc=new\"  ## 这个网站不行"
   ]
  },
  {
   "cell_type": "code",
   "execution_count": 77,
   "metadata": {},
   "outputs": [],
   "source": [
    "\n",
    "response = requests.get(url)\n",
    "\n",
    "# 使用 BeautifulSoup 解析 HTML 内容\n",
    "soup = BeautifulSoup(response.text, \"html.parser\")\n",
    "\n",
    "# 找到包含车辆信息的 <script> 标签\n",
    "json_scripts = soup.find_all(\"script\", type=\"application/ld+json\")\n",
    "\n",
    "# 定义一个空列表，用于存储提取的车辆信息\n",
    "vehicles = []\n",
    "\n",
    "# 定义一个集合，用于存储已经见过的车辆名称\n",
    "seen_vehicles = set()\n"
   ]
  },
  {
   "cell_type": "code",
   "execution_count": 78,
   "metadata": {},
   "outputs": [
    {
     "data": {
      "text/plain": [
       "0"
      ]
     },
     "execution_count": 78,
     "metadata": {},
     "output_type": "execute_result"
    }
   ],
   "source": [
    "\n",
    "# 循环遍历每个 <script> 标签\n",
    "for script in json_scripts:\n",
    "    # 获取 <script> 标签的文本内容\n",
    "    json_text = script.string\n",
    "    \n",
    "    # 如果文本内容存在\n",
    "    if json_text:\n",
    "        # 移除特殊字符\n",
    "        json_text_cleaned = re.sub(r'[\\x00-\\x1F\\x7F-\\x9F]', '', json_text)\n",
    "        \n",
    "        # 解析 JSON 数据为 Python 字典对象\n",
    "        json_data = json.loads(json_text_cleaned)\n",
    "        \n",
    "        # 如果 JSON 数据是车辆清单（ItemList）\n",
    "        if \"@type\" in json_data and json_data[\"@type\"] == \"ItemList\":\n",
    "            # 获取车辆列表\n",
    "            vehicle_list = json_data[\"itemListElement\"]\n",
    "            \n",
    "            # 遍历每个车辆条目\n",
    "            for vehicle_item in vehicle_list:\n",
    "                # 获取车辆信息\n",
    "                vehicle_info = vehicle_item[\"item\"]\n",
    "                \n",
    "                # 获取车辆名称\n",
    "                vehicle_name = vehicle_info[\"name\"]\n",
    "                \n",
    "                # 如果车辆名称不在集合中，说明是新的车辆信息，添加到列表中，并将车辆名称添加到集合中\n",
    "                if vehicle_name not in seen_vehicles:\n",
    "                    vehicles.append(vehicle_info)\n",
    "                    seen_vehicles.add(vehicle_name)\n",
    "\n",
    "# 打印输出提取的车辆信息\n",
    "for vehicle in vehicles:\n",
    "    print(\"车辆名称:\", vehicle[\"name\"])\n",
    "    print(\"车辆价格:\", vehicle[\"offers\"][\"price\"], vehicle[\"offers\"][\"priceCurrency\"])\n",
    "    print()  # 添加空行，方便阅读\n",
    "\n",
    "len(vehicles)"
   ]
  },
  {
   "cell_type": "code",
   "execution_count": null,
   "metadata": {},
   "outputs": [],
   "source": []
  },
  {
   "cell_type": "code",
   "execution_count": null,
   "metadata": {},
   "outputs": [],
   "source": []
  },
  {
   "cell_type": "code",
   "execution_count": null,
   "metadata": {},
   "outputs": [],
   "source": []
  },
  {
   "cell_type": "markdown",
   "metadata": {},
   "source": [
    "| 1   | https://www.acadiatoyota.com/en/new-inventory                                                                 |\n",
    "| --- | ------------------------------------------------------------------------------------------------------------- |\n",
    "| 2   | https://www.frederictontoyota.com/en/new-inventory                                                            |\n",
    "| 3   | https://www.summersidetoyota.com/en/new-inventory                                                             |\n",
    "| 4   | https://www.charlottetowntoyota.ca/en/new-catalog                                                             |\n",
    "| 5   | https://www.trurotoyota.com/en/new-inventory                                                                  |\n",
    "| 6   | https://www.anchortoyota.ca/vehicles/new/?st=year,desc&view=grid&sc=new                                       |\n",
    "| 7   | https://www.kentvilletoyota.com/en/shop-online?paymentFrequency=52&purchaseMethodOrder=4352&preferredMake=ALL |\n",
    "| 8   | https://oreganstoyotabridgewater.com/inventory/?do-search=1                                                   |\n",
    "| 9   | https://oreganstoyotahalifax.com/inventory/?search.vehicle-inventory-type-ids.0=1                             |\n",
    "| 10  | https://oreganstoyotadartmouth.com/inventory/?search.vehicle-inventory-type-ids.0=1                           |\n",
    "| 11  | https://trimactoyota.ca/new-inventory/                                                                        |\n",
    "| 12  | https://www.macdonaldtoyota.ca/new/inventory/search.html                                                      |\n",
    "| 13  | https://www.westerntoyota.com/en/new-catalog                                                                  |\n",
    "| 14  | https://www.grandtoyota.ca/en/new-catalog                                                                     |\n",
    "| 15  | https://www.gandertoyota.com/new/inventory/search.html                                                        |\n",
    "| 16  | https://www.centraltoyota.ca/new/inventory/search.html                                                        |\n",
    "| 17  | https://www.toyotaplaza.ca/new/                                                                               |\n",
    "| 18  | https://www.edmundstontoyota.com/en/new-inventory                                                             |\n",
    "| 19  | https://www.restigouchetoyota.com/en/new-inventory                                                            |\n",
    "| 20  | https://www.bathursttoyota.ca/en/new-inventory                                                                |\n",
    "| 21  | https://www.rousseltoyota.com/en/new-inventory                                                                |\n",
    "| 22  | https://www.amhersttoyota.com/vehicles/new/?view=grid&sc=new                                                  |\n",
    "| 23  | https://www.woodstocknbtoyota.com/en/for-sale/all/new                                                         |"
   ]
  }
 ],
 "metadata": {
  "kernelspec": {
   "display_name": "p39 no one",
   "language": "python",
   "name": "p39"
  },
  "language_info": {
   "codemirror_mode": {
    "name": "ipython",
    "version": 3
   },
   "file_extension": ".py",
   "mimetype": "text/x-python",
   "name": "python",
   "nbconvert_exporter": "python",
   "pygments_lexer": "ipython3",
   "version": "3.11.9"
  }
 },
 "nbformat": 4,
 "nbformat_minor": 2
}
