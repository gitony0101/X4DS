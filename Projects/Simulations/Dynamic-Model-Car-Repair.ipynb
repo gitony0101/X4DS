{
 "cells": [
  {
   "attachments": {},
   "cell_type": "markdown",
   "metadata": {},
   "source": [
    "# Dynamic Model Example\n",
    "\n",
    "## Car repair\n",
    "\n",
    "### The Gotham Taxi Company has a fleet of 500 taxicabs. On any given day of use, a taxi has an 0.4% chance of breaking down. Broken-down taxis are towed overnight to the company repair shop. They return to service the day after they are fixed. Each day a taxi spends in the shop costs the company $350 in lost profits. There are three mechanics Gotham is considering hiring to work in the repair shop: Larry, Moe and Curly. Each can fix one to three taxis per day.\n",
    "\n",
    "- ### Larry would cost the company $300 per day. On any given day, there is 20% probability he can only fix one taxi, and a 40% probability he will be able to fix either two or three.\n",
    "\n",
    "- ### Moe costs $250 per day. He has an equal probability of being able to fix either one, two, or three taxis on any given day.\n",
    "\n",
    "- ### Curly costs $200 per day. On any given day, there is a 50% chance he can fix only one cab, a 30% chance he will be able fix two, and a 20% chance that he will be able to fix three.\n",
    "\n",
    "### The company may hire any combination of the three mechanics: any one, any two, or all three. **Explain why you can tell, prior to performing any simulation, that the option of hiring just Curly will not be workable. Explain this Simulate each possibility by **200 trials of 100 days\\*\\* each. Which possibility gives them the lowest average cost? What is the average number of taxis in the shop when you adopt this policy?\n"
   ]
  },
  {
   "cell_type": "code",
   "execution_count": 1,
   "metadata": {},
   "outputs": [],
   "source": [
    "\n",
    "import numpy as np\n",
    "import pandas as pd\n",
    "import scipy.stats as stats  # prefered\n",
    "# from scipy.stats import binom, rv_discrete, poisson, norm, expon # you may NOT use them directly, stats.binom is suggested.\n",
    "import matplotlib.pyplot as plt\n",
    "from itertools import product\n"
   ]
  },
  {
   "cell_type": "code",
   "execution_count": 2,
   "metadata": {},
   "outputs": [],
   "source": [
    "# Create the assign matrix for mechanics\n",
    "\n",
    "\n",
    "def assign_matrix(*cols):\n",
    "    '''\n",
    "    Assigns a 0-1 matrix for each cols\n",
    "    '''\n",
    "    matrix_0_1 = list(product([0, 1], repeat=len(cols)))\n",
    "    return pd.DataFrame([*matrix_0_1], columns=cols)\n"
   ]
  },
  {
   "cell_type": "code",
   "execution_count": 3,
   "metadata": {},
   "outputs": [
    {
     "data": {
      "text/html": [
       "<div>\n",
       "<style scoped>\n",
       "    .dataframe tbody tr th:only-of-type {\n",
       "        vertical-align: middle;\n",
       "    }\n",
       "\n",
       "    .dataframe tbody tr th {\n",
       "        vertical-align: top;\n",
       "    }\n",
       "\n",
       "    .dataframe thead th {\n",
       "        text-align: right;\n",
       "    }\n",
       "</style>\n",
       "<table border=\"1\" class=\"dataframe\">\n",
       "  <thead>\n",
       "    <tr style=\"text-align: right;\">\n",
       "      <th></th>\n",
       "      <th>Larry</th>\n",
       "      <th>Curly</th>\n",
       "      <th>Moe</th>\n",
       "    </tr>\n",
       "  </thead>\n",
       "  <tbody>\n",
       "    <tr>\n",
       "      <th>0</th>\n",
       "      <td>0</td>\n",
       "      <td>0</td>\n",
       "      <td>0</td>\n",
       "    </tr>\n",
       "    <tr>\n",
       "      <th>1</th>\n",
       "      <td>0</td>\n",
       "      <td>0</td>\n",
       "      <td>1</td>\n",
       "    </tr>\n",
       "    <tr>\n",
       "      <th>2</th>\n",
       "      <td>0</td>\n",
       "      <td>1</td>\n",
       "      <td>0</td>\n",
       "    </tr>\n",
       "    <tr>\n",
       "      <th>3</th>\n",
       "      <td>0</td>\n",
       "      <td>1</td>\n",
       "      <td>1</td>\n",
       "    </tr>\n",
       "    <tr>\n",
       "      <th>4</th>\n",
       "      <td>1</td>\n",
       "      <td>0</td>\n",
       "      <td>0</td>\n",
       "    </tr>\n",
       "    <tr>\n",
       "      <th>5</th>\n",
       "      <td>1</td>\n",
       "      <td>0</td>\n",
       "      <td>1</td>\n",
       "    </tr>\n",
       "    <tr>\n",
       "      <th>6</th>\n",
       "      <td>1</td>\n",
       "      <td>1</td>\n",
       "      <td>0</td>\n",
       "    </tr>\n",
       "    <tr>\n",
       "      <th>7</th>\n",
       "      <td>1</td>\n",
       "      <td>1</td>\n",
       "      <td>1</td>\n",
       "    </tr>\n",
       "  </tbody>\n",
       "</table>\n",
       "</div>"
      ],
      "text/plain": [
       "   Larry  Curly  Moe\n",
       "0      0      0    0\n",
       "1      0      0    1\n",
       "2      0      1    0\n",
       "3      0      1    1\n",
       "4      1      0    0\n",
       "5      1      0    1\n",
       "6      1      1    0\n",
       "7      1      1    1"
      ]
     },
     "execution_count": 3,
     "metadata": {},
     "output_type": "execute_result"
    }
   ],
   "source": [
    "hr_df = assign_matrix('Larry', 'Curly', 'Moe')\n",
    "hr_df\n"
   ]
  },
  {
   "cell_type": "code",
   "execution_count": 4,
   "metadata": {},
   "outputs": [],
   "source": [
    "# drop the senario  [0 0 0], which means no one hired.\n",
    "\n",
    "hr_df.drop(hr_df.iloc[:1].index, inplace=True)\n",
    "\n",
    "hr_df.reset_index(drop=True, inplace=True)\n"
   ]
  },
  {
   "cell_type": "code",
   "execution_count": 5,
   "metadata": {},
   "outputs": [
    {
     "data": {
      "text/plain": [
       "0    25250\n",
       "1    20200\n",
       "2    45450\n",
       "3    30300\n",
       "4    55550\n",
       "5    50500\n",
       "6    75750\n",
       "dtype: int64"
      ]
     },
     "execution_count": 5,
     "metadata": {},
     "output_type": "execute_result"
    }
   ],
   "source": [
    "# calcualte the wage for mechanics in different senarios\n",
    "wage = [300, 200, 250]\n",
    "hr_wage = hr_df.dot(wage)\n",
    "\n",
    "cost_mechanics = hr_wage * 101\n",
    "cost_mechanics\n"
   ]
  },
  {
   "cell_type": "code",
   "execution_count": 6,
   "metadata": {},
   "outputs": [],
   "source": [
    "# generate repaired cars random variable for each mechanic\n",
    "def repairs(names, cars, probs, days=101):\n",
    "    repair_dict = {name: stats.rv_discrete(values=(car, prob)).rvs(\n",
    "        size=days) for name, car, prob in zip(names, cars, probs)}\n",
    "\n",
    "    return pd.DataFrame(repair_dict)\n",
    "\n",
    "\n",
    "# import the parameters of each mechanic\n",
    "names = ('Larry', 'Curly', 'Moe')\n",
    "cars = ((1, 2, 3), (1, 2, 3), (1, 2, 3))\n",
    "probs = ((0.2, 0.4, 0.4), (1 / 3, 1 / 3, 1 / 3), (0.5, 0.3, 0.2))\n",
    "\n",
    "repair_df = repairs(\n",
    "    names, cars,\n",
    "    probs)  # generate the repairing cars random variable for each mechanic\n"
   ]
  },
  {
   "cell_type": "code",
   "execution_count": 7,
   "metadata": {},
   "outputs": [],
   "source": [
    "repair_7 = repair_df.dot(hr_df.T).to_dict(\n",
    ")  # combine the repairing cars random variable of each mechanic with the assignment matrix\n",
    "\n",
    "repair_7['cars_broken'] = stats.binom(n=500, p=0.004).rvs(\n",
    "    size=101)  # generate the number of broken cars every day\n"
   ]
  },
  {
   "cell_type": "code",
   "execution_count": 8,
   "metadata": {},
   "outputs": [],
   "source": [
    "# make the day start and end labels for the scenarios\n",
    "ls_end = []\n",
    "ls_start = []\n",
    "for i in range(7):\n",
    "    ls_end.append(f\"{i}_end\")\n",
    "    ls_start.append(f\"{i}_start\")\n"
   ]
  },
  {
   "cell_type": "code",
   "execution_count": 9,
   "metadata": {},
   "outputs": [],
   "source": [
    "# Build the simulation function with Python Dictionary approach (fast while take more Memory)\n",
    "\n",
    "\n",
    "def repairTrials_dic():\n",
    "    \"\"\"initialize the simulation\"\"\"\n",
    "    days = 101  # from day 0 to day 100\n",
    "\n",
    "    # initialize every day start and end status with zero arrays\n",
    "    for i, j in zip(ls_start, ls_end):\n",
    "        repair_7[i] = np.zeros(days).astype(dtype=int)\n",
    "        repair_7[j] = np.zeros(days).astype(dtype=int)\n",
    "    \"\"\"calculate the repir shop status at the start and end of each day\"\"\"\n",
    "    for j in zip(ls_start, ls_end, range(7)):\n",
    "        # j[0]: start day, j[1]: end day, j[2]: 7 scenarios in the repair_7\n",
    "        for i in range(1, days):\n",
    "            repair_7[j[0]][i] = repair_7[j[1]][i -\n",
    "                                               1] + repair_7['cars_broken'][i -\n",
    "                                                                            1]\n",
    "            # the number of cars to be repaired at the start of the day is determined by the sum of the number of broken cars  at the end of the previous day and the number of cars at the repair shop at the end of the previous day\n",
    "\n",
    "            repair_7[j[1]][i] = np.maximum(\n",
    "                (repair_7[j[0]][i] - repair_7[j[2]][i]), 0)\n",
    "            # the number of broken cars at the end of the day is mainly determined by subtracting the number of cars can be repaired by the mechanic(s) from the number of cars to be repaired at the start of the day,however, is the number of subtraction is negative, which means the mechanic(s) can repair more cars than that in the day beginning, so the number of broken cars at the end of the day is zero, all cars are repaired.\n",
    "\n",
    "    sum_start = [\n",
    "        repair_7[ls].sum() for ls in ls_start\n",
    "    ]  # calculate the sum of the number of cars to be repaired at the start of the day\n",
    "    \"\"\"calculate the total cost of each scenario\"\"\"\n",
    "\n",
    "    car_in_repair = [\n",
    "        sum_start[i] / 100 for i in range(7)\n",
    "    ]  # avergae the number of cars to be repaired at the start of the day\n",
    "    cost_no_service = [sum_start[i] * 350 for i in range(7)\n",
    "                       ]  # calculate the  no service cost of broken cars\n",
    "\n",
    "    total_cost = cost_mechanics + cost_no_service\n",
    "    # calculate the total cost of each scenario\n",
    "\n",
    "    return total_cost, car_in_repair\n"
   ]
  },
  {
   "cell_type": "code",
   "execution_count": 10,
   "metadata": {},
   "outputs": [
    {
     "data": {
      "text/plain": [
       "array([479900., 176300., 114750., 128300., 122050., 114900., 139450.])"
      ]
     },
     "execution_count": 10,
     "metadata": {},
     "output_type": "execute_result"
    }
   ],
   "source": [
    "# Make the simulation for 1000 times, then calculate the mean cost of each scenario\n",
    "repairTrials_cost_ls = [repairTrials_dic()[0].values for _ in range(1000)]\n",
    "mean_cost_ls = np.mean(repairTrials_cost_ls, axis=0)\n",
    "mean_cost_ls\n"
   ]
  },
  {
   "cell_type": "code",
   "execution_count": 11,
   "metadata": {},
   "outputs": [
    {
     "data": {
      "text/plain": [
       "array([12.99,  4.46,  1.98,  2.8 ,  1.9 ,  1.84,  1.82])"
      ]
     },
     "execution_count": 11,
     "metadata": {},
     "output_type": "execute_result"
    }
   ],
   "source": [
    "# calculate the mean number of cars to be repaired at the start of the day\n",
    "car_in_repair_ls = np.empty(shape=(1000, 7))\n",
    "\n",
    "for i in range(1000):\n",
    "    car_in_repair_ls[i] = repairTrials_dic()[1]\n",
    "\n",
    "mean_repair_ls = np.mean(car_in_repair_ls, axis=0)\n",
    "mean_repair_ls\n"
   ]
  },
  {
   "cell_type": "markdown",
   "metadata": {},
   "source": [
    "### Visualization\n"
   ]
  },
  {
   "cell_type": "code",
   "execution_count": 12,
   "metadata": {},
   "outputs": [
    {
     "data": {
      "image/png": "[encoded data removed]",
      "text/plain": [
       "<Figure size 1200x600 with 2 Axes>"
      ]
     },
     "metadata": {},
     "output_type": "display_data"
    }
   ],
   "source": [
    "_, axes = plt.subplots(1, 2, figsize=(12, 6))\n",
    "\n",
    "axes[0].bar(range(7), mean_repair_ls)\n",
    "axes[0].set(title='Average number of cars to be repaired',\n",
    "            xlabel='Scenario',\n",
    "            ylabel='Number of cars')\n",
    "\n",
    "axes[1].bar(range(7), mean_cost_ls)\n",
    "axes[1].set(title='Average cost of each scenario',\n",
    "            xlabel='Scenario',\n",
    "            ylabel='Cost')\n",
    "\n",
    "plt.show()\n"
   ]
  },
  {
   "cell_type": "code",
   "execution_count": 13,
   "metadata": {},
   "outputs": [
    {
     "name": "stdout",
     "output_type": "stream",
     "text": [
      "\n",
      "So as the plots shows above the solution wiht lowes cost is the scenario 2, with the cost of $114750.0.\n",
      "Meanwhile the average number of cars in repair is 1.98.\n",
      "In this scenario, the assign_matrix shows: \n",
      "Larry    False\n",
      "Curly     True\n",
      "Moe       True\n",
      "Name: 2, dtype: bool,which means that ['Curly', 'Moe'] should be hired.\n"
     ]
    }
   ],
   "source": [
    "sol = np.argmin(mean_cost_ls)\n",
    "candidates = hr_df.columns[hr_df.loc[sol] == 1].tolist()\n",
    "\n",
    "print(\n",
    "    f\"\\nSo as the plots shows above the solution wiht lowes cost is the scenario {sol}, with the cost of ${mean_cost_ls[sol]}.\\nMeanwhile the average number of cars in repair is {mean_repair_ls[sol].round(2)}.\\nIn this scenario, the assign_matrix shows: \\n{hr_df.loc[sol]==1},which means that {candidates} should be hired.\"\n",
    ")\n"
   ]
  },
  {
   "cell_type": "code",
   "execution_count": null,
   "metadata": {},
   "outputs": [],
   "source": []
  }
 ],
 "metadata": {
  "kernelspec": {
   "display_name": "p39",
   "language": "python",
   "name": "python3"
  },
  "language_info": {
   "codemirror_mode": {
    "name": "ipython",
    "version": 3
   },
   "file_extension": ".py",
   "mimetype": "text/x-python",
   "name": "python",
   "nbconvert_exporter": "python",
   "pygments_lexer": "ipython3",
   "version": "3.11.0"
  },
  "orig_nbformat": 4
 },
 "nbformat": 4,
 "nbformat_minor": 2
}
