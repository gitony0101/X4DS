{
 "cells": [
  {
   "attachments": {},
   "cell_type": "markdown",
   "metadata": {},
   "source": [
    "<style>\n",
    "table\n",
    "{\n",
    "    margin: auto;\n",
    "}\n",
    "</style>\n",
    "\n",
    "# Dynamic Model Example\n",
    "\n",
    "## Big-Rig Service Center service bays\n",
    "\n",
    "### You manage the Big-Rig Service Center, which runs a thriving business performing repairs on large trucks. The number of trucks arriving at the facility in need of repair each morning is well-modeled by a Poisson random variable with a mean value of 3.8.\n",
    "\n",
    "### If you have a free service bay available for an arriving truck, you start servicing it immediately. Trucks that you cannot immediately accommodate with a free service bay do not wait, but go to a competitor’s facility instead. You currently have 5 service bays, but since you frequently have to turn away business, you are considering expanding to **6, 7, or possibly 8 bays.** Including debt service, insurance, and taxes, your costs for these expansion options, converted to a daily payment, would be:\n",
    "\n",
    "|   Total Bays   | Daily Cost |\n",
    "| :------------: | :--------: |\n",
    "| 6 (add 1 bay)  |  $\\$175$   |\n",
    "| 7 (add 2 bays) |  $\\$325$   |\n",
    "| 8 (add 3 bays) |  $\\$475$   |\n",
    "\n",
    "### Repairing each truck can take either 1, 2, or 3 full days; and you cannot tell in advance how long the work will take：\n",
    "\n",
    "- ### There is a 30% chance that a truck can be completed by the end of one day, in which case you charge $800.\n",
    "- ### Given that service cannot be completed the first day, there is 75% chance it will be finished at the end of the next day, in which case your total charge is $1,500.\n",
    "- ### Otherwise, completing the service takes three full days or work, for which you charge $2,100. Your operating costs are $425 per occupied service bay per day.\n",
    "\n",
    "### Should you expand your facility, and if so, how many service bays should you add? With this number of bays, what is the average number of service requests denied per day?\n"
   ]
  },
  {
   "attachments": {},
   "cell_type": "markdown",
   "metadata": {},
   "source": [
    "不是收入，是支出"
   ]
  },
  {
   "cell_type": "code",
   "execution_count": 1,
   "metadata": {},
   "outputs": [],
   "source": [
    "import numpy as np\n",
    "import pandas as pd\n",
    "import scipy.stats as stats  # prefered\n",
    "# from scipy.stats import binom, rv_discrete, poisson, norm, expon # you may NOT use them directly, stats.binom is suggested.\n",
    "\n",
    "import matplotlib.pyplot as plt\n"
   ]
  },
  {
   "cell_type": "markdown",
   "metadata": {},
   "source": [
    "### Constants definions\n"
   ]
  },
  {
   "cell_type": "code",
   "execution_count": 3,
   "metadata": {},
   "outputs": [],
   "source": [
    "# make 1000 trials for 100 days for different scenarios\n",
    "N = 1000  # number of trials\n",
    "\n",
    "n = 100  # number of days\n",
    "# Simulation this problem with all conditions:\n",
    "cost_bay_scenarios = {5: 0, 6: 175, 7: 325, 8: 475}\n",
    "\n",
    "\n",
    "truck_arrive_rvs = stats.poisson.rvs(mu=3.8, size=n)\n"
   ]
  },
  {
   "cell_type": "code",
   "execution_count": 4,
   "metadata": {},
   "outputs": [
    {
     "data": {
      "text/plain": [
       "array([4, 2, 2, 2, 3, 1, 6, 3, 8, 4, 7, 1, 2, 4, 1, 1, 5, 5, 3, 2, 6, 2,\n",
       "       6, 6, 3, 4, 5, 5, 2, 4, 5, 0, 3, 4, 4, 2, 4, 5, 4, 0, 1, 5, 5, 4,\n",
       "       7, 1, 1, 2, 4, 3, 5, 1, 0, 2, 3, 3, 4, 4, 6, 4, 3, 3, 6, 7, 5, 4,\n",
       "       2, 3, 4, 2, 3, 6, 4, 1, 5, 6, 3, 4, 5, 2, 5, 2, 9, 2, 5, 5, 3, 3,\n",
       "       3, 5, 3, 3, 9, 4, 5, 3, 3, 4, 6, 4])"
      ]
     },
     "execution_count": 4,
     "metadata": {},
     "output_type": "execute_result"
    }
   ],
   "source": [
    "truck_arrive_rvs\n"
   ]
  },
  {
   "cell_type": "code",
   "execution_count": 66,
   "metadata": {},
   "outputs": [],
   "source": [
    "class Simulation_bays:\n",
    "\n",
    "    def __init__(self, bay_num, n):\n",
    "        \"\"\"initialize the number of bays\"\"\"\n",
    "        self.bay_num = bay_num  # number of bays :5,6,7,8\n",
    "        self.n = 100  # number of days\n",
    "\n",
    "    def truck_arrive_rvs(self):\n",
    "        \"\"\"generate the truck arrivals\"\"\"\n",
    "        return np.random.exponential(scale=3.8, size=self.n).astype(dtype=int)\n",
    "        # problem here\n",
    "\n",
    "    def df_bays(self):\n",
    "        \"\"\"create the dataframe to store the results\"\"\"\n",
    "\n",
    "        colums = ['days', 'truck_arrivals', '1st_start', '2nd_start', '3rd_start', '1st_completed',\n",
    "                  '2nd_completed', '3rd_completed', 'not_fixed', 'free_Bays_left', 'num_trucks_denied']\n",
    "        df_bays = pd.DataFrame(columns=colums)\n",
    "        df_bays['days'] = np.arange(self.n+1)\n",
    "        df_bays.fillna(0, inplace=True)\n",
    "        df_bays['truck_arrivals'][1:] = self.truck_arrive_rvs()\n",
    "        df_bays['free_Bays_left'][0] = self.bay_num\n",
    "\n",
    "        return df_bays\n",
    "\n",
    "    def sim_bays(self):\n",
    "        \"\"\"simulate the results\"\"\"\n",
    "        df_bays = self.df_bays()\n",
    "\n",
    "        for i in range(1, self.n+1):\n",
    "            self._extracted_from_sim_bays_6(df_bays, i)\n",
    "        num_trucks_denied = df_bays['num_trucks_denied'].sum()\n",
    "\n",
    "        # Calculate the profit\n",
    "        revenue = df_bays['1st_completed'].sum() * 800 + df_bays['2nd_completed'].sum(\n",
    "        ) * 1500 + df_bays['3rd_completed'].sum() * 2100 + df_bays['not_fixed'].sum() * 1000\n",
    "\n",
    "        cost_operating = df_bays[['1st_start',\n",
    "                                  '2nd_start', '3rd_start']].sum().sum() * 425\n",
    "\n",
    "        cost_bay_scenarios = {5: 0, 6: 175, 7: 325, 8: 475}\n",
    "\n",
    "        cost_add = 100 * cost_bay_scenarios[self.bay_num]\n",
    "\n",
    "        profit = revenue - cost_operating - cost_add\n",
    "\n",
    "        return profit, num_trucks_denied\n",
    "\n",
    "    # TODO Rename this here and in `sim_bays`\n",
    "    def _extracted_from_sim_bays_6(self, df_bays, i):\n",
    "        df_bays.loc[i, '1st_start'] = np.minimum(\n",
    "            df_bays['free_Bays_left'][i-1], df_bays['truck_arrivals'][i])\n",
    "        df_bays.loc[i, '1st_completed'] = np.random.binomial(\n",
    "            n=df_bays.loc[i, '1st_start'], p=0.3, size=1)\n",
    "        df_bays.loc[i, '2nd_start'] = df_bays.loc[i-1,\n",
    "                                                  '1st_start'] - df_bays.loc[i-1, '1st_completed']\n",
    "        df_bays.loc[i, '2nd_completed'] = np.random.binomial(\n",
    "            n=df_bays.loc[i, '2nd_start'], p=0.75, size=1)\n",
    "        df_bays.loc[i, '3rd_start'] = df_bays.loc[i-1,\n",
    "                                                  '2nd_start'] - df_bays.loc[i-1, '2nd_completed']\n",
    "        df_bays.loc[i, '3rd_completed'] = np.random.binomial(\n",
    "            n=df_bays.loc[i, '3rd_start'], p=0.9, size=1)\n",
    "        # Not fixed\n",
    "        df_bays.loc[i, 'not_fixed'] = df_bays.loc[i-1,\n",
    "                                                  '3rd_start'] - df_bays.loc[i-1, '3rd_completed']\n",
    "\n",
    "        df_bays.loc[i, 'free_Bays_left'] = self.bay_num - sum(df_bays.loc[i, ['1st_start', '2nd_start', '3rd_start']]) + sum(\n",
    "            df_bays.loc[i, ['1st_completed', '2nd_completed', '3rd_completed']])\n",
    "        df_bays.loc[i, 'num_trucks_denied'] = df_bays.loc[i,\n",
    "                                                          'truck_arrivals'] - df_bays.loc[i, '1st_start']\n"
   ]
  },
  {
   "cell_type": "markdown",
   "metadata": {},
   "source": [
    "# Caution! slow(Improving)\n"
   ]
  },
  {
   "cell_type": "code",
   "execution_count": 67,
   "metadata": {},
   "outputs": [],
   "source": [
    "results_5_bays = []\n",
    "results_6_bays = []\n",
    "results_7_bays = []\n",
    "results_8_bays = []\n",
    "\n",
    "for _ in range(1000):\n",
    "    results_5_bays.append(Simulation_bays(5, 100).sim_bays())\n",
    "    results_6_bays.append(Simulation_bays(6, 100).sim_bays())\n",
    "    results_7_bays.append(Simulation_bays(7, 100).sim_bays())\n",
    "    results_8_bays.append(Simulation_bays(8, 100).sim_bays())\n"
   ]
  },
  {
   "cell_type": "code",
   "execution_count": 60,
   "metadata": {},
   "outputs": [
    {
     "data": {
      "text/plain": [
       "102425.925"
      ]
     },
     "execution_count": 60,
     "metadata": {},
     "output_type": "execute_result"
    }
   ],
   "source": [
    "results_6_bays = np.array(results_6_bays)\n",
    "results_6_bays[:, 0].mean()\n"
   ]
  },
  {
   "cell_type": "markdown",
   "metadata": {},
   "source": [
    "### Visualization\n"
   ]
  },
  {
   "cell_type": "code",
   "execution_count": 61,
   "metadata": {},
   "outputs": [],
   "source": [
    "mean_profits = []\n",
    "\n",
    "mean_denials = []\n",
    "\n",
    "results_lists = [results_5_bays, results_6_bays,\n",
    "                 results_7_bays, results_8_bays]\n",
    "\n",
    "for result in results_lists:\n",
    "    mean_profits.append(np.array(result)[:, 0].mean())\n",
    "    mean_denials.append(np.array(result)[:, 1].mean() / 100)\n",
    "\n",
    "result_df = pd.DataFrame({'mean_profits': list(mean_profits), 'mean_denials': list(\n",
    "    mean_denials)}, index=['5_bays', '6_bays', '7_bays', '8_bays'])\n"
   ]
  },
  {
   "cell_type": "code",
   "execution_count": 16,
   "metadata": {},
   "outputs": [],
   "source": [
    "# result_df\n"
   ]
  },
  {
   "cell_type": "code",
   "execution_count": 62,
   "metadata": {},
   "outputs": [
    {
     "data": {
      "image/png": "[encoded data removed]",
      "text/plain": [
       "<Figure size 1200x800 with 2 Axes>"
      ]
     },
     "metadata": {},
     "output_type": "display_data"
    }
   ],
   "source": [
    "_, axes = plt.subplots(1, 2, figsize=(12, 8))\n",
    "\n",
    "axes[0].bar(result_df.index, result_df['mean_profits'])\n",
    "axes[0].set_title('Mean Profit')\n",
    "axes[0].set_xlabel('Number of Bays')\n",
    "\n",
    "axes[1].bar(result_df.index, result_df['mean_denials'])\n",
    "axes[1].set_title('Mean Trucks Denied')\n",
    "axes[1].set_xlabel('Number of Bays')\n",
    "\n",
    "plt.show()\n"
   ]
  },
  {
   "cell_type": "code",
   "execution_count": 63,
   "metadata": {},
   "outputs": [
    {
     "data": {
      "text/plain": [
       "[1.4458799999999998, 1.2096500000000001, 1.01928, 0.81187]"
      ]
     },
     "execution_count": 63,
     "metadata": {},
     "output_type": "execute_result"
    }
   ],
   "source": [
    "mean_denials\n"
   ]
  },
  {
   "cell_type": "code",
   "execution_count": null,
   "metadata": {},
   "outputs": [],
   "source": []
  },
  {
   "attachments": {},
   "cell_type": "markdown",
   "metadata": {},
   "source": [
    "## Modified problem of Big-Rig Service Center\n",
    "\n",
    "Assume now that if a service cannot be completed the second day, there is 90% chance it will be finished at the end of the next day, in which case your total charge is $\\$2,100$.\n",
    "\n",
    "In case if the service isn't finished in three days, the truck is returned in the condition \"not fixed\", and the company receives only $1,000. In addition to the previously asked questions, provide statistics on the total number of trucks remaining \"not fixed\" during the testing period.\n",
    "\n",
    "<style>\n",
    "table\n",
    "{\n",
    "    margin: auto;\n",
    "}\n",
    "</style>\n",
    "\n",
    "#### Original Problem\n",
    "\n",
    "You manage the Big-Rig Service Center, which runs a thriving business performing repairs on large trucks.\n",
    "\n",
    "The number of trucks arriving at the facility in need of repair each morning is well-modeled by a Poisson random variable with a mean value of 3.8.\n",
    "\n",
    "If you have a free service bay available for an arriving truck, you start servicing it immediately.\n",
    "\n",
    "Trucks that you cannot immediately accommodate with a free service bay do not wait, but go to a competitor’s facility instead.\n",
    "\n",
    "You currently have 5 service bays, but since you frequently have to turn away business, you are considering expanding to **6, 7, or possibly 8 bays.**\n",
    "\n",
    "Including debt service, insurance, and taxes, your costs for these expansion options, converted to a daily payment, would be:\n",
    "\n",
    "|   Total Bays   | Daily Cost |\n",
    "| :------------: | :--------: |\n",
    "| 6 (add 1 bay)  |  $\\$175$   |\n",
    "| 7 (add 2 bays) |  $\\$325$   |\n",
    "| 8 (add 3 bays) |  $\\$475$   |\n",
    "\n",
    "Repairing each truck can take either 1, 2, or 3 full days; and you cannot tell in advance how long the work will take.\n",
    "\n",
    "There is a 30% chance that a truck can be completed by the end of one day, in which case you charge $800.\n",
    "\n",
    "Given that service cannot be completed the first day, there is 75% chance it will be finished at the end of the next day, in which case your total charge is $1,500.\n",
    "\n",
    "Otherwise, completing the service takes three full days or work, for which you charge $2,100.\n",
    "\n",
    "Your operating costs are $425 per occupied service bay per day.\n",
    "\n",
    "Should you expand your facility, and if so, how many service bays should you add? With this number of bays, what is the average number of service requests denied per day?\n"
   ]
  },
  {
   "cell_type": "code",
   "execution_count": 6,
   "metadata": {},
   "outputs": [],
   "source": [
    "# make 1000 trials for 100 days for different scenarios\n",
    "N = 1000  # number of trials\n",
    "\n",
    "cost_bay_scenarios = {5: 0, 6: 175, 7: 325, 8: 475}\n",
    "\n",
    "n = 100  # number of days\n"
   ]
  },
  {
   "cell_type": "code",
   "execution_count": 7,
   "metadata": {},
   "outputs": [],
   "source": [
    "# initialize the simulation, create the the arrays for calculating with zeros:\n",
    "# truck_arrivals_arr: the number of trucks arrived at the truck shop every day\n",
    "# num_trucks_denied_arr: the number of trucks denied when they arrived at the truck shop every day\n",
    "# start_1st_arr: the number of trucks at the truck shop at the start of first day\n",
    "# completed_arr: the number of trucks completed their repair every day\n",
    "# start_2nd_arr: the number of trucks at the truck shop at the start of second day\n",
    "# completed_2nd_arr: the number of trucks completed their repair at the end of second day\n",
    "# start_3rd_arr: the number of trucks at the truck shop at the start of third day\n",
    "# completed_3rd_arr: the number of trucks completed their repair at the end of third day\n",
    "# not_fixed_arr: the number of trucks not fixed at the end of the day\n",
    "# free_bays_arr: the number of free bays at the end of the day\n",
    "\n",
    "arr_names = [\n",
    "    'truck_arrivals_arr', 'start_1st_arr', 'start_2nd_arr', 'start_3rd_arr',\n",
    "    'completed_1st_arr', 'completed_2nd_arr', 'completed_3rd_arr',\n",
    "    'not_fixed_arr', 'free_Bays_left_arr', 'num_trucks_denied_arr'\n",
    "]\n",
    "\n",
    "for name in arr_names:\n",
    "    exec(f\"{name} = np.zeros(n + 1).astype(dtype=int)\")\n"
   ]
  },
  {
   "cell_type": "code",
   "execution_count": 8,
   "metadata": {},
   "outputs": [],
   "source": [
    "# Generate the truck arrivals rvs with Poisson distribution\n",
    "truck_arrivals_arr[0] = 0\n",
    "truck_arrivals_arr[1:] = stats.poisson(mu=3.8).rvs(size=n)\n"
   ]
  },
  {
   "cell_type": "code",
   "execution_count": 9,
   "metadata": {},
   "outputs": [],
   "source": [
    "# Build the simulation function\n",
    "def sim_bays_array(num_bays):\n",
    "    # At the very beginning, the number of free bays is equal to the number of bays since there are no trucks arriving yet.\n",
    "    free_Bays_left_arr[0] = num_bays\n",
    "\n",
    "    for i in range(1, n + 1):\n",
    "        start_1st_arr[i] = np.minimum(free_Bays_left_arr[i - 1],\n",
    "                                      truck_arrivals_arr[i])\n",
    "        # the number of trucks at the truck shop at the start of the day is the minimum of the number of free bays and the number of trucks arrived at the truck shop，if the number of trucks arrived at the truck shop is larger than the number of free bays, the trucks arrival will be denied.\n",
    "        completed_1st_arr[i] = binom(n=start_1st_arr[i], p=0.3).rvs()\n",
    "        # the number of trucks completed their repair at the start of the day is the number of trucks at the truck shop at the start of the day, which is randomly generated by the binomial distribution from the nunmber of trucks in the beggining of the day with the probability of completion of the repair is 0.3\n",
    "\n",
    "        start_2nd_arr[i] = start_1st_arr[i - 1] - completed_1st_arr[i - 1]\n",
    "        # the number of trucks at the truck shop at the start of the second day is the number of trucks at the truck shop at the start of the first day minus the number of trucks completed their repair at the start of the first day\n",
    "        completed_2nd_arr[i] = binom(n=start_2nd_arr[i], p=0.75).rvs()\n",
    "        # Similarly, the number of trucks completed their repair at the start of the second day is randomly generated by the binomial distribution from the nunmber of trucks in the beggining of the day with the probability of completion of the repair is 0.75\n",
    "\n",
    "        start_3rd_arr[i] = start_2nd_arr[i - 1] - completed_2nd_arr[i - 1]\n",
    "        completed_3rd_arr[i] = binom(n=start_3rd_arr[i], p=0.9).rvs()\n",
    "\n",
    "        # Not fixed\n",
    "        not_fixed_arr[i] = start_3rd_arr[i - 1] - completed_3rd_arr[i - 1]\n",
    "        # the number of trucks not fixed at the end of the day is the number of trucks at the truck shop at the start of the third day minus the number of trucks completed their repair at the start of the third day\n",
    "\n",
    "        free_Bays_left_arr[i] = num_bays - (\n",
    "            start_1st_arr[i] + start_2nd_arr[i] + start_3rd_arr[i]).sum() + (\n",
    "                completed_1st_arr[i] + completed_2nd_arr[i] +\n",
    "                completed_3rd_arr[i]).sum()\n",
    "        # the number of free bays at the end of each day is the number of bays minus the sum of number of trucks at the truck shop at the start of each day plus the sum of number of trucks completed their repair at the start of each day\n",
    "\n",
    "        num_trucks_denied_arr[i] = truck_arrivals_arr[i] - start_1st_arr[i]\n",
    "        # if the number of trucks arrived at the truck shop is larger than the number of free bays, the trucks arrival will be denied.\n",
    "\n",
    "        # Calculate the profit\n",
    "        num_trucks_denied = num_trucks_denied_arr.sum()\n",
    "\n",
    "        revenue = completed_1st_arr.sum() * 800 + completed_2nd_arr.sum(\n",
    "        ) * 1500 + completed_3rd_arr.sum() * 2100 + not_fixed_arr.sum() * 1000\n",
    "\n",
    "        cost_operating = (start_1st_arr + start_2nd_arr +\n",
    "                          start_3rd_arr).sum() * 425\n",
    "\n",
    "        # cost_bay_scenarios = {5: 0, 6: 175, 7: 325, 8: 475}\n",
    "        cost_add = 100 * cost_bay_scenarios[num_bays]\n",
    "\n",
    "        profit = revenue - cost_operating - cost_add\n",
    "\n",
    "    return profit, num_trucks_denied\n"
   ]
  },
  {
   "cell_type": "code",
   "execution_count": 10,
   "metadata": {},
   "outputs": [],
   "source": [
    "# Creat the results arrays for storing the results\n",
    "results = [\n",
    "    'results_5_bays', 'results_6_bays', 'results_7_bays', 'results_8_bays'\n",
    "]\n",
    "\n",
    "for name in results:\n",
    "    exec(f\"{name} = np.empty((N, 2), dtype=int)\")\n"
   ]
  },
  {
   "cell_type": "code",
   "execution_count": 11,
   "metadata": {},
   "outputs": [],
   "source": [
    "for i in range(N):\n",
    "    results_5_bays[i] = sim_bays_array(num_bays=5)\n",
    "    results_6_bays[i] = sim_bays_array(num_bays=6)\n",
    "    results_7_bays[i] = sim_bays_array(num_bays=7)\n",
    "    results_8_bays[i] = sim_bays_array(num_bays=8)\n"
   ]
  },
  {
   "cell_type": "markdown",
   "metadata": {},
   "source": [
    "### Visualization\n"
   ]
  },
  {
   "cell_type": "code",
   "execution_count": 12,
   "metadata": {},
   "outputs": [
    {
     "data": {
      "text/html": [
       "<div>\n",
       "<style scoped>\n",
       "    .dataframe tbody tr th:only-of-type {\n",
       "        vertical-align: middle;\n",
       "    }\n",
       "\n",
       "    .dataframe tbody tr th {\n",
       "        vertical-align: top;\n",
       "    }\n",
       "\n",
       "    .dataframe thead th {\n",
       "        text-align: right;\n",
       "    }\n",
       "</style>\n",
       "<table border=\"1\" class=\"dataframe\">\n",
       "  <thead>\n",
       "    <tr style=\"text-align: right;\">\n",
       "      <th></th>\n",
       "      <th>mean_profits</th>\n",
       "      <th>mean_denials</th>\n",
       "    </tr>\n",
       "  </thead>\n",
       "  <tbody>\n",
       "    <tr>\n",
       "      <th>5_bays</th>\n",
       "      <td>136969.075</td>\n",
       "      <td>1.01786</td>\n",
       "    </tr>\n",
       "    <tr>\n",
       "      <th>6_bays</th>\n",
       "      <td>139797.025</td>\n",
       "      <td>0.66495</td>\n",
       "    </tr>\n",
       "    <tr>\n",
       "      <th>7_bays</th>\n",
       "      <td>140768.525</td>\n",
       "      <td>0.38508</td>\n",
       "    </tr>\n",
       "    <tr>\n",
       "      <th>8_bays</th>\n",
       "      <td>136933.625</td>\n",
       "      <td>0.19013</td>\n",
       "    </tr>\n",
       "  </tbody>\n",
       "</table>\n",
       "</div>"
      ],
      "text/plain": [
       "        mean_profits  mean_denials\n",
       "5_bays    136969.075       1.01786\n",
       "6_bays    139797.025       0.66495\n",
       "7_bays    140768.525       0.38508\n",
       "8_bays    136933.625       0.19013"
      ]
     },
     "execution_count": 12,
     "metadata": {},
     "output_type": "execute_result"
    }
   ],
   "source": [
    "# make the result dataframe\n",
    "mean_profits = []\n",
    "\n",
    "mean_denials = []\n",
    "\n",
    "index_names = ['5_bays', '6_bays', '7_bays', '8_bays']\n",
    "\n",
    "results_lists = [\n",
    "    results_5_bays, results_6_bays, results_7_bays, results_8_bays\n",
    "]\n",
    "\n",
    "for result in results_lists:\n",
    "    mean_profits.append(np.array(result)[:, 0].mean())\n",
    "    mean_denials.append(np.array(result)[:, 1].mean() / 100)\n",
    "\n",
    "result_df = pd.DataFrame(\n",
    "    {\n",
    "        'mean_profits': list(mean_profits),\n",
    "        'mean_denials': list(mean_denials)\n",
    "    },\n",
    "    index=index_names)\n",
    "\n",
    "result_df\n"
   ]
  },
  {
   "cell_type": "code",
   "execution_count": 13,
   "metadata": {},
   "outputs": [
    {
     "data": {
      "image/png": "[encoded data removed]",
      "text/plain": [
       "<Figure size 1000x600 with 2 Axes>"
      ]
     },
     "metadata": {},
     "output_type": "display_data"
    }
   ],
   "source": [
    "_, axes = plt.subplots(1, 2, figsize=(10, 6))\n",
    "\n",
    "axes[0].bar(result_df.index, result_df['mean_profits'])\n",
    "axes[0].set(ylim=(0, np.max(mean_profits) + 20000),\n",
    "            title='Mean Profit of each Bay Scenario')\n",
    "\n",
    "axes[1].bar(result_df.index, result_df['mean_denials'])\n",
    "axes[1].set(ylim=(0, np.max(mean_denials) + 0.2),\n",
    "            title='Mean Truck Arrived Denials of each Bay Scenario')\n",
    "\n",
    "plt.show()\n"
   ]
  },
  {
   "cell_type": "code",
   "execution_count": 14,
   "metadata": {},
   "outputs": [
    {
     "name": "stdout",
     "output_type": "stream",
     "text": [
      "\n",
      "From the plots and dataframe, the best bay scenario is 7_bays with a mean profit of $140768.525 and a mean truck arrived denials of 0.38508000000000003.\n"
     ]
    }
   ],
   "source": [
    "sol = np.argmax(mean_profits)\n",
    "\n",
    "index_names[sol]\n",
    "\n",
    "print(\n",
    "    f\"\\nFrom the plots and dataframe, the best bay scenario is {index_names[sol]} with a mean profit of ${mean_profits[sol]} and a mean truck arrived denials of {mean_denials[sol]}.\"\n",
    ")\n"
   ]
  },
  {
   "cell_type": "code",
   "execution_count": null,
   "metadata": {},
   "outputs": [],
   "source": []
  },
  {
   "attachments": {},
   "cell_type": "markdown",
   "metadata": {},
   "source": [
    "## Car repair\n",
    "\n",
    "### The Gotham Taxi Company has a fleet of 500 taxicabs. On any given day of use, a taxi has an 0.4% chance of breaking down. Broken-down taxis are towed overnight to the company repair shop. They return to service the day after they are fixed. Each day a taxi spends in the shop costs the company $350 in lost profits. There are three mechanics Gotham is considering hiring to work in the repair shop: Larry, Moe and Curly. Each can fix one to three taxis per day.\n",
    "\n",
    "- ### Larry would cost the company $300 per day. On any given day, there is 20% probability he can only fix one taxi, and a 40% probability he will be able to fix either two or three.\n",
    "\n",
    "- ### Moe costs $250 per day. He has an equal probability of being able to fix either one, two, or three taxis on any given day.\n",
    "\n",
    "- ### Curly costs $200 per day. On any given day, there is a 50% chance he can fix only one cab, a 30% chance he will be able fix two, and a 20% chance that he will be able to fix three.\n",
    "\n",
    "### The company may hire any combination of the three mechanics: any one, any two, or all three. **Explain why you can tell, prior to performing any simulation, that the option of hiring just Curly will not be workable. Explain this Simulate each possibility by **200 trials of 100 days\\*\\* each. Which possibility gives them the lowest average cost? What is the average number of taxis in the shop when you adopt this policy?\n"
   ]
  },
  {
   "cell_type": "code",
   "execution_count": 15,
   "metadata": {},
   "outputs": [],
   "source": [
    "from itertools import product\n"
   ]
  },
  {
   "cell_type": "code",
   "execution_count": 16,
   "metadata": {},
   "outputs": [],
   "source": [
    "# Create the assign matrix for mechanics\n",
    "\n",
    "\n",
    "def assign_matrix(*cols):\n",
    "    '''\n",
    "    Assigns a 0-1 matrix for each cols\n",
    "    '''\n",
    "    matrix_0_1 = list(product([0, 1], repeat=len(cols)))\n",
    "    return pd.DataFrame([*matrix_0_1], columns=cols)\n"
   ]
  },
  {
   "cell_type": "code",
   "execution_count": 17,
   "metadata": {},
   "outputs": [
    {
     "data": {
      "text/html": [
       "<div>\n",
       "<style scoped>\n",
       "    .dataframe tbody tr th:only-of-type {\n",
       "        vertical-align: middle;\n",
       "    }\n",
       "\n",
       "    .dataframe tbody tr th {\n",
       "        vertical-align: top;\n",
       "    }\n",
       "\n",
       "    .dataframe thead th {\n",
       "        text-align: right;\n",
       "    }\n",
       "</style>\n",
       "<table border=\"1\" class=\"dataframe\">\n",
       "  <thead>\n",
       "    <tr style=\"text-align: right;\">\n",
       "      <th></th>\n",
       "      <th>Larry</th>\n",
       "      <th>Curly</th>\n",
       "      <th>Moe</th>\n",
       "    </tr>\n",
       "  </thead>\n",
       "  <tbody>\n",
       "    <tr>\n",
       "      <th>0</th>\n",
       "      <td>0</td>\n",
       "      <td>0</td>\n",
       "      <td>0</td>\n",
       "    </tr>\n",
       "    <tr>\n",
       "      <th>1</th>\n",
       "      <td>0</td>\n",
       "      <td>0</td>\n",
       "      <td>1</td>\n",
       "    </tr>\n",
       "    <tr>\n",
       "      <th>2</th>\n",
       "      <td>0</td>\n",
       "      <td>1</td>\n",
       "      <td>0</td>\n",
       "    </tr>\n",
       "    <tr>\n",
       "      <th>3</th>\n",
       "      <td>0</td>\n",
       "      <td>1</td>\n",
       "      <td>1</td>\n",
       "    </tr>\n",
       "    <tr>\n",
       "      <th>4</th>\n",
       "      <td>1</td>\n",
       "      <td>0</td>\n",
       "      <td>0</td>\n",
       "    </tr>\n",
       "    <tr>\n",
       "      <th>5</th>\n",
       "      <td>1</td>\n",
       "      <td>0</td>\n",
       "      <td>1</td>\n",
       "    </tr>\n",
       "    <tr>\n",
       "      <th>6</th>\n",
       "      <td>1</td>\n",
       "      <td>1</td>\n",
       "      <td>0</td>\n",
       "    </tr>\n",
       "    <tr>\n",
       "      <th>7</th>\n",
       "      <td>1</td>\n",
       "      <td>1</td>\n",
       "      <td>1</td>\n",
       "    </tr>\n",
       "  </tbody>\n",
       "</table>\n",
       "</div>"
      ],
      "text/plain": [
       "   Larry  Curly  Moe\n",
       "0      0      0    0\n",
       "1      0      0    1\n",
       "2      0      1    0\n",
       "3      0      1    1\n",
       "4      1      0    0\n",
       "5      1      0    1\n",
       "6      1      1    0\n",
       "7      1      1    1"
      ]
     },
     "execution_count": 17,
     "metadata": {},
     "output_type": "execute_result"
    }
   ],
   "source": [
    "hr_df = assign_matrix('Larry', 'Curly', 'Moe')\n",
    "hr_df\n"
   ]
  },
  {
   "cell_type": "code",
   "execution_count": 18,
   "metadata": {},
   "outputs": [],
   "source": [
    "# drop the senario  [0 0 0], which means no one hired.\n",
    "\n",
    "hr_df.drop(hr_df.iloc[:1].index, inplace=True)\n",
    "\n",
    "hr_df.reset_index(drop=True, inplace=True)\n"
   ]
  },
  {
   "cell_type": "code",
   "execution_count": 19,
   "metadata": {},
   "outputs": [
    {
     "data": {
      "text/plain": [
       "0    25250\n",
       "1    20200\n",
       "2    45450\n",
       "3    30300\n",
       "4    55550\n",
       "5    50500\n",
       "6    75750\n",
       "dtype: int64"
      ]
     },
     "execution_count": 19,
     "metadata": {},
     "output_type": "execute_result"
    }
   ],
   "source": [
    "# calcualte the wage for mechanics in different senarios\n",
    "wage = [300, 200, 250]\n",
    "hr_wage = hr_df.dot(wage)\n",
    "\n",
    "cost_mechanics = hr_wage * 101\n",
    "cost_mechanics\n"
   ]
  },
  {
   "cell_type": "code",
   "execution_count": 20,
   "metadata": {},
   "outputs": [],
   "source": [
    "# generate repaired cars random variable for each mechanic\n",
    "def repairs(names, cars, probs, days=101):\n",
    "    repair_dict = {name: stats.rv_discrete(values=(car, prob)).rvs(\n",
    "        size=days) for name, car, prob in zip(names, cars, probs)}\n",
    "\n",
    "    return pd.DataFrame(repair_dict)\n",
    "\n",
    "\n",
    "# import the parameters of each mechanic\n",
    "names = ('Larry', 'Curly', 'Moe')\n",
    "cars = ((1, 2, 3), (1, 2, 3), (1, 2, 3))\n",
    "probs = ((0.2, 0.4, 0.4), (1 / 3, 1 / 3, 1 / 3), (0.5, 0.3, 0.2))\n",
    "\n",
    "repair_df = repairs(\n",
    "    names, cars,\n",
    "    probs)  # generate the repairing cars random variable for each mechanic\n"
   ]
  },
  {
   "cell_type": "code",
   "execution_count": 21,
   "metadata": {},
   "outputs": [],
   "source": [
    "repair_7 = repair_df.dot(hr_df.T).to_dict(\n",
    ")  # combine the repairing cars random variable of each mechanic with the assignment matrix\n",
    "\n",
    "repair_7['cars_broken'] = stats.binom(n=500, p=0.004).rvs(\n",
    "    size=101)  # generate the number of broken cars every day\n"
   ]
  },
  {
   "cell_type": "code",
   "execution_count": 22,
   "metadata": {},
   "outputs": [],
   "source": [
    "# make the day start and end labels for the scenarios\n",
    "ls_end = []\n",
    "ls_start = []\n",
    "for i in range(7):\n",
    "    ls_end.append(f\"{i}_end\")\n",
    "    ls_start.append(f\"{i}_start\")\n"
   ]
  },
  {
   "cell_type": "code",
   "execution_count": 23,
   "metadata": {},
   "outputs": [],
   "source": [
    "# Build the simulation function with Python Dictionary approach (fast while take more Memory)\n",
    "\n",
    "\n",
    "def repairTrials_dic():\n",
    "    \"\"\"initialize the simulation\"\"\"\n",
    "    days = 101  # from day 0 to day 100\n",
    "\n",
    "    # initialize every day start and end status with zero arrays\n",
    "    for i, j in zip(ls_start, ls_end):\n",
    "        repair_7[i] = np.zeros(days).astype(dtype=int)\n",
    "        repair_7[j] = np.zeros(days).astype(dtype=int)\n",
    "    \"\"\"calculate the repir shop status at the start and end of each day\"\"\"\n",
    "    for j in zip(ls_start, ls_end, range(7)):\n",
    "        # j[0]: start day, j[1]: end day, j[2]: 7 scenarios in the repair_7\n",
    "        for i in range(1, days):\n",
    "            repair_7[j[0]][i] = repair_7[j[1]][i -\n",
    "                                               1] + repair_7['cars_broken'][i -\n",
    "                                                                            1]\n",
    "            # the number of cars to be repaired at the start of the day is determined by the sum of the number of broken cars  at the end of the previous day and the number of cars at the repair shop at the end of the previous day\n",
    "\n",
    "            repair_7[j[1]][i] = np.maximum(\n",
    "                (repair_7[j[0]][i] - repair_7[j[2]][i]), 0)\n",
    "            # the number of broken cars at the end of the day is mainly determined by subtracting the number of cars can be repaired by the mechanic(s) from the number of cars to be repaired at the start of the day,however, is the number of subtraction is negative, which means the mechanic(s) can repair more cars than that in the day beginning, so the number of broken cars at the end of the day is zero, all cars are repaired.\n",
    "\n",
    "    sum_start = [\n",
    "        repair_7[ls].sum() for ls in ls_start\n",
    "    ]  # calculate the sum of the number of cars to be repaired at the start of the day\n",
    "    \"\"\"calculate the total cost of each scenario\"\"\"\n",
    "\n",
    "    car_in_repair = [\n",
    "        sum_start[i] / 100 for i in range(7)\n",
    "    ]  # avergae the number of cars to be repaired at the start of the day\n",
    "    cost_no_service = [sum_start[i] * 350 for i in range(7)\n",
    "                       ]  # calculate the  no service cost of broken cars\n",
    "\n",
    "    total_cost = cost_mechanics + cost_no_service\n",
    "    # calculate the total cost of each scenario\n",
    "\n",
    "    return total_cost, car_in_repair\n"
   ]
  },
  {
   "cell_type": "code",
   "execution_count": 24,
   "metadata": {},
   "outputs": [
    {
     "data": {
      "text/plain": [
       "array([529250., 341500., 132250., 248700., 136050., 129600., 151700.])"
      ]
     },
     "execution_count": 24,
     "metadata": {},
     "output_type": "execute_result"
    }
   ],
   "source": [
    "# Make the simulation for 1000 times, then calculate the mean cost of each scenario\n",
    "repairTrials_cost_ls = [repairTrials_dic()[0].values for _ in range(1000)]\n",
    "mean_cost_ls = np.mean(repairTrials_cost_ls, axis=0)\n",
    "mean_cost_ls\n"
   ]
  },
  {
   "cell_type": "code",
   "execution_count": 25,
   "metadata": {},
   "outputs": [
    {
     "data": {
      "text/plain": [
       "array([14.4 ,  9.18,  2.48,  6.24,  2.3 ,  2.26,  2.17])"
      ]
     },
     "execution_count": 25,
     "metadata": {},
     "output_type": "execute_result"
    }
   ],
   "source": [
    "# calculate the mean number of cars to be repaired at the start of the day\n",
    "car_in_repair_ls = np.empty(shape=(1000, 7))\n",
    "\n",
    "for i in range(1000):\n",
    "    car_in_repair_ls[i] = repairTrials_dic()[1]\n",
    "\n",
    "mean_repair_ls = np.mean(car_in_repair_ls, axis=0)\n",
    "mean_repair_ls\n"
   ]
  },
  {
   "cell_type": "markdown",
   "metadata": {},
   "source": [
    "### Visualization\n"
   ]
  },
  {
   "cell_type": "code",
   "execution_count": 26,
   "metadata": {},
   "outputs": [
    {
     "data": {
      "image/png": "[encoded data removed]",
      "text/plain": [
       "<Figure size 1200x600 with 2 Axes>"
      ]
     },
     "metadata": {},
     "output_type": "display_data"
    }
   ],
   "source": [
    "_, axes = plt.subplots(1, 2, figsize=(12, 6))\n",
    "\n",
    "axes[0].bar(range(7), mean_repair_ls)\n",
    "axes[0].set(title='Average number of cars to be repaired',\n",
    "            xlabel='Scenario',\n",
    "            ylabel='Number of cars')\n",
    "\n",
    "axes[1].bar(range(7), mean_cost_ls)\n",
    "axes[1].set(title='Average cost of each scenario',\n",
    "            xlabel='Scenario',\n",
    "            ylabel='Cost')\n",
    "\n",
    "plt.show()\n"
   ]
  },
  {
   "cell_type": "code",
   "execution_count": 27,
   "metadata": {},
   "outputs": [
    {
     "name": "stdout",
     "output_type": "stream",
     "text": [
      "\n",
      "So as the plots shows above the solution wiht lowes cost is the scenario 5, with the cost of $129600.0.\n",
      "Meanwhile the average number of cars in repair is 2.26.\n",
      "In this scenario, the assign_matrix shows: \n",
      "Larry     True\n",
      "Curly     True\n",
      "Moe      False\n",
      "Name: 5, dtype: bool,which means that ['Larry', 'Curly'] should be hired.\n"
     ]
    }
   ],
   "source": [
    "sol = np.argmin(mean_cost_ls)\n",
    "candidates = hr_df.columns[hr_df.loc[sol] == 1].tolist()\n",
    "\n",
    "print(\n",
    "    f\"\\nSo as the plots shows above the solution wiht lowes cost is the scenario {sol}, with the cost of ${mean_cost_ls[sol]}.\\nMeanwhile the average number of cars in repair is {mean_repair_ls[sol].round(2)}.\\nIn this scenario, the assign_matrix shows: \\n{hr_df.loc[sol]==1},which means that {candidates} should be hired.\"\n",
    ")\n"
   ]
  },
  {
   "cell_type": "code",
   "execution_count": null,
   "metadata": {},
   "outputs": [],
   "source": []
  },
  {
   "cell_type": "code",
   "execution_count": null,
   "metadata": {},
   "outputs": [],
   "source": []
  },
  {
   "cell_type": "code",
   "execution_count": null,
   "metadata": {},
   "outputs": [],
   "source": []
  }
 ],
 "metadata": {
  "kernelspec": {
   "display_name": "p39",
   "language": "python",
   "name": "python3"
  },
  "language_info": {
   "codemirror_mode": {
    "name": "ipython",
    "version": 3
   },
   "file_extension": ".py",
   "mimetype": "text/x-python",
   "name": "python",
   "nbconvert_exporter": "python",
   "pygments_lexer": "ipython3",
   "version": "3.11.0"
  },
  "orig_nbformat": 4
 },
 "nbformat": 4,
 "nbformat_minor": 2
}
