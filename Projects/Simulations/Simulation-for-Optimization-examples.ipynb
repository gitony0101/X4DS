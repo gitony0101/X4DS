{
 "cells": [
  {
   "attachments": {},
   "cell_type": "markdown",
   "metadata": {},
   "source": [
    "# Simulation for Optimization examples\n"
   ]
  },
  {
   "cell_type": "code",
   "execution_count": 153,
   "metadata": {},
   "outputs": [],
   "source": [
    "\n",
    "import itertools\n",
    "import numpy as np\n",
    "import pandas as pd\n",
    "import matplotlib.pyplot as plt\n",
    "import seaborn as sns\n",
    "# import scipy.stats as stats\n",
    "from scipy.stats import poisson, rv_discrete, binom, rv_discrete, norm, halfnorm\n",
    "\n",
    "import warnings\n",
    "warnings.filterwarnings('ignore')\n",
    "\n",
    "np.random.seed(42)\n"
   ]
  },
  {
   "attachments": {},
   "cell_type": "markdown",
   "metadata": {
    "tags": []
   },
   "source": [
    "## Problem 1\n",
    "\n",
    "### You operate an aircraft that flies two flights per day: an \"outbound\" flight from its base to a remote destination, and then and \"inbound\" flight back again. The aircraft can carry a mix of passengers and freight:\n",
    "\n",
    "### If configured for all passengers, the aircraft holds 216 seats. Each freight pallet you configure the aircraft to hold takes away 24 seats, and you are considering setting up the aircraft to hold 0, 1, 2, 3, 4, 5, or 6 freight pallets. The split between seats and space for pallets must be decided once a year when the aircraft undergoes \"heavy maintenance\"; it cannot be changed for each flight.\n",
    "\n",
    "### You make a profit of $50 for each passenger carried (in either direction), and demand for seats on the outbound flight is Poisson with a mean of 160, while demand for seats on the inbound flight is Poisson with a mean of 159 (independent of the outbound flight). Demand for freight carriage is independent of passenger demand and also independent between the inbound and outbound flights.(See Pallet_Table).You make a profit $275 per pallet carried (in either direction). What aircraft configuration maximizes the average profit per day?\n",
    "\n",
    "<style>\n",
    "table\n",
    "{\n",
    "    margin: auto;\n",
    "}\n",
    "</style>\n",
    "\n",
    "\n",
    "|num  | outbound_pallets_prob|   inbound_pallets_prob |\n",
    "|:--:|:--:|:--:|\n",
    "| 0                     | 0.06                 | 0.07 |\n",
    "| 1                     | 0.08                 | 0.09 |\n",
    "| 2                     | 0.18                 | 0.18 |\n",
    "| 3                     | 0.20                 | 0.19 |\n",
    "| 4                     | 0.21                 | 0.17 |\n",
    "| 5                     | 0.16                 | 0.16 |\n",
    "| 6                     | 0.11                 | 0.14 |\n"
   ]
  },
  {
   "attachments": {},
   "cell_type": "markdown",
   "metadata": {},
   "source": [
    "### Set the parameters of the problem and generate the random variables\n"
   ]
  },
  {
   "cell_type": "code",
   "execution_count": 154,
   "metadata": {},
   "outputs": [],
   "source": [
    "N = 10000\n",
    "n = (0, 1, 2, 3, 4, 5, 6)  # number of pallets considered\n",
    "\n",
    "# seats_capacity = 216\n",
    "# taken_by_each_pallet = 24\n",
    "\n",
    "\n",
    "mu_out = 160  # demand for seats on the outbound flight is Poisson with a mean of 160\n",
    "\n",
    "mu_in = 159  # demand for seats on the inbound flight is Poisson with a mean of 159\n",
    "\n",
    "# passenger_profit = 50 / seat\n",
    "# pallet_profit = 275 / pallet\n"
   ]
  },
  {
   "cell_type": "code",
   "execution_count": 155,
   "metadata": {},
   "outputs": [],
   "source": [
    "# Pallets_Table\n",
    "\n",
    "Outbound_Pallets = pd.DataFrame([0.06, 0.08, 0.18, 0.2, 0.21, 0.16, 0.11],\n",
    "                                columns=['outbound_pallets_prob'],\n",
    "                                index=n)\n",
    "\n",
    "Inbound_Pallets = pd.DataFrame([0.07, 0.09, 0.18, 0.19, 0.17, 0.16, 0.14],\n",
    "                               columns=['inbound_pallets_prob'],\n",
    "                               index=n)\n"
   ]
  },
  {
   "cell_type": "code",
   "execution_count": 156,
   "metadata": {},
   "outputs": [
    {
     "data": {
      "text/html": [
       "<div>\n",
       "<style scoped>\n",
       "    .dataframe tbody tr th:only-of-type {\n",
       "        vertical-align: middle;\n",
       "    }\n",
       "\n",
       "    .dataframe tbody tr th {\n",
       "        vertical-align: top;\n",
       "    }\n",
       "\n",
       "    .dataframe thead th {\n",
       "        text-align: right;\n",
       "    }\n",
       "</style>\n",
       "<table border=\"1\" class=\"dataframe\">\n",
       "  <thead>\n",
       "    <tr style=\"text-align: right;\">\n",
       "      <th></th>\n",
       "      <th>outbound_pallets_prob</th>\n",
       "      <th>inbound_pallets_prob</th>\n",
       "    </tr>\n",
       "  </thead>\n",
       "  <tbody>\n",
       "    <tr>\n",
       "      <th>0</th>\n",
       "      <td>0.06</td>\n",
       "      <td>0.07</td>\n",
       "    </tr>\n",
       "    <tr>\n",
       "      <th>1</th>\n",
       "      <td>0.08</td>\n",
       "      <td>0.09</td>\n",
       "    </tr>\n",
       "    <tr>\n",
       "      <th>2</th>\n",
       "      <td>0.18</td>\n",
       "      <td>0.18</td>\n",
       "    </tr>\n",
       "    <tr>\n",
       "      <th>3</th>\n",
       "      <td>0.20</td>\n",
       "      <td>0.19</td>\n",
       "    </tr>\n",
       "    <tr>\n",
       "      <th>4</th>\n",
       "      <td>0.21</td>\n",
       "      <td>0.17</td>\n",
       "    </tr>\n",
       "    <tr>\n",
       "      <th>5</th>\n",
       "      <td>0.16</td>\n",
       "      <td>0.16</td>\n",
       "    </tr>\n",
       "    <tr>\n",
       "      <th>6</th>\n",
       "      <td>0.11</td>\n",
       "      <td>0.14</td>\n",
       "    </tr>\n",
       "  </tbody>\n",
       "</table>\n",
       "</div>"
      ],
      "text/plain": [
       "   outbound_pallets_prob  inbound_pallets_prob\n",
       "0                   0.06                  0.07\n",
       "1                   0.08                  0.09\n",
       "2                   0.18                  0.18\n",
       "3                   0.20                  0.19\n",
       "4                   0.21                  0.17\n",
       "5                   0.16                  0.16\n",
       "6                   0.11                  0.14"
      ]
     },
     "execution_count": 156,
     "metadata": {},
     "output_type": "execute_result"
    }
   ],
   "source": [
    "Pallets_Table = pd.merge(Outbound_Pallets,\n",
    "                         Inbound_Pallets,\n",
    "                         left_index=True,\n",
    "                         right_index=True)\n",
    "\n",
    "Pallets_Table\n"
   ]
  },
  {
   "cell_type": "code",
   "execution_count": 157,
   "metadata": {},
   "outputs": [],
   "source": [
    "demand_pal_Out_rvs = rv_discrete(\n",
    "    name='Pal_Out_rvs',\n",
    "    values=(n, Pallets_Table['outbound_pallets_prob'])).rvs(size=N)\n",
    "\n",
    "demand_pal_In_rvs = rv_discrete(name='Pal_In_rvs',\n",
    "                                values=(n,\n",
    "                                        Pallets_Table['inbound_pallets_prob'])).rvs(size=N)\n"
   ]
  },
  {
   "cell_type": "code",
   "execution_count": 158,
   "metadata": {},
   "outputs": [
    {
     "data": {
      "text/plain": [
       "array([3, 6, 5, ..., 6, 3, 2])"
      ]
     },
     "execution_count": 158,
     "metadata": {},
     "output_type": "execute_result"
    }
   ],
   "source": [
    "demand_pal_Out_rvs\n"
   ]
  },
  {
   "cell_type": "code",
   "execution_count": 159,
   "metadata": {},
   "outputs": [
    {
     "data": {
      "text/plain": [
       "array([3, 2, 2, ..., 2, 3, 2])"
      ]
     },
     "execution_count": 159,
     "metadata": {},
     "output_type": "execute_result"
    }
   ],
   "source": [
    "demand_pal_In_rvs\n"
   ]
  },
  {
   "cell_type": "code",
   "execution_count": null,
   "metadata": {},
   "outputs": [],
   "source": []
  },
  {
   "cell_type": "code",
   "execution_count": 150,
   "metadata": {},
   "outputs": [
    {
     "data": {
      "image/png": "[encoded data removed]",
      "text/plain": [
       "<Figure size 600x1000 with 2 Axes>"
      ]
     },
     "metadata": {},
     "output_type": "display_data"
    }
   ],
   "source": [
    "_, axes = plt.subplots(2, 1, figsize=(6, 10))\n",
    "\n",
    "axes[0].hist(demand_pal_Out_rvs, bins=20, color='blue', alpha=0.5)\n",
    "axes[0].set(title='Outbound Pallets',\n",
    "            xlabel='Number of Pallets', ylabel='Frequency')\n",
    "\n",
    "axes[1].hist(demand_pal_In_rvs, bins=20, color='blue', alpha=0.5)\n",
    "axes[1].set(title='Iutbound Pallets',\n",
    "            xlabel='Number of Pallets', ylabel='Frequency')\n",
    "\n",
    "plt.show()\n"
   ]
  },
  {
   "cell_type": "code",
   "execution_count": 151,
   "metadata": {},
   "outputs": [],
   "source": [
    "# Seats demand random variables\n",
    "\n",
    "demand_seats_Out_rvs = poisson(mu_out).rvs(size=N)\n",
    "demand_seats_In_rvs = poisson(mu_in).rvs(size=N)\n"
   ]
  },
  {
   "cell_type": "code",
   "execution_count": 135,
   "metadata": {},
   "outputs": [
    {
     "data": {
      "image/png": "[encoded data removed]",
      "text/plain": [
       "<Figure size 600x1000 with 2 Axes>"
      ]
     },
     "metadata": {},
     "output_type": "display_data"
    }
   ],
   "source": [
    "_, axes = plt.subplots(2, 1, figsize=(6, 10))\n",
    "\n",
    "axes[0].hist(demand_seats_Out_rvs, bins=50, alpha=0.8)\n",
    "axes[0].set(title='Outbound seats',\n",
    "            xlabel='Number of seats', ylabel='Frequency')\n",
    "\n",
    "axes[1].hist(demand_seats_In_rvs, bins=50, alpha=0.8)\n",
    "axes[1].set(title='Inbound seats',\n",
    "            xlabel='Number of seats', ylabel='Frequency')\n",
    "\n",
    "plt.show()\n"
   ]
  },
  {
   "attachments": {},
   "cell_type": "markdown",
   "metadata": {},
   "source": [
    "### Considering setting up the aircraft to hold 0, 1, 2, 3, 4, 5, or 6 freight pallets\n"
   ]
  },
  {
   "cell_type": "code",
   "execution_count": 136,
   "metadata": {},
   "outputs": [],
   "source": [
    "# When there is 0 freight pallet in the plane.\n",
    "# Pallets sale = min(demand_pallets and 0),thus:\n",
    "\n",
    "pallets_Out_sale = 0\n",
    "pallets_In_sale = 0\n"
   ]
  },
  {
   "cell_type": "code",
   "execution_count": 137,
   "metadata": {},
   "outputs": [],
   "source": [
    "# number_of_seats_In_and_Out_available = seats_capacity = 216\n",
    "seats_Out_sale = np.minimum(demand_seats_Out_rvs, np.ones(N) * 216)\n",
    "seats_In_sale = np.minimum(demand_seats_In_rvs, np.ones(N) * 216)\n"
   ]
  },
  {
   "cell_type": "code",
   "execution_count": 138,
   "metadata": {},
   "outputs": [
    {
     "data": {
      "text/plain": [
       "(array([169., 154., 159., ..., 157., 185., 147.]),\n",
       " array([161., 154., 159., ..., 167., 173., 142.]))"
      ]
     },
     "execution_count": 138,
     "metadata": {},
     "output_type": "execute_result"
    }
   ],
   "source": [
    "seats_Out_sale, seats_In_sale\n"
   ]
  },
  {
   "cell_type": "code",
   "execution_count": 139,
   "metadata": {},
   "outputs": [],
   "source": [
    "profit_Out = seats_Out_sale * 50\n",
    "profit_In = seats_In_sale * 50\n"
   ]
  },
  {
   "cell_type": "code",
   "execution_count": 140,
   "metadata": {},
   "outputs": [],
   "source": [
    "profit_total = profit_Out + profit_In\n",
    "mean_profit_0 = np.mean(profit_total)\n"
   ]
  },
  {
   "cell_type": "code",
   "execution_count": 141,
   "metadata": {},
   "outputs": [
    {
     "name": "stdout",
     "output_type": "stream",
     "text": [
      "When there is 0 freight pallet in the plane.\n",
      "the mean of the profit is 15950.37\n"
     ]
    }
   ],
   "source": [
    "print(\n",
    "    f\"When there is 0 freight pallet in the plane.\\nthe mean of the profit is {mean_profit_0}\")\n"
   ]
  },
  {
   "cell_type": "code",
   "execution_count": 142,
   "metadata": {},
   "outputs": [],
   "source": [
    "def mean_profit(i, seats_capacity=216):  # 0<= i <=9\n",
    "    pallets_Out_sale = np.minimum(demand_pal_Out_rvs, np.ones(N) * i)\n",
    "    pallets_In_sale = np.minimum(demand_pal_In_rvs, np.ones(N) * i)\n",
    "\n",
    "    # number_of_seats_In_and_Out_available = seats_capacity - taken_by_each_pallet\n",
    "\n",
    "    seats_Out_available = seats_capacity - pallets_Out_sale * 24\n",
    "    seats_Out_sale = np.minimum(demand_seats_Out_rvs, seats_Out_available)\n",
    "\n",
    "    seats_In_available = seats_capacity - pallets_In_sale * 24\n",
    "    seats_In_sale = np.minimum(demand_seats_In_rvs, seats_In_available)\n",
    "\n",
    "    profit_Out = seats_Out_sale * 50 + pallets_Out_sale * 275\n",
    "    profit_In = seats_In_sale * 50 + pallets_In_sale * 275\n",
    "\n",
    "    profit_total = profit_Out + profit_In\n",
    "    return np.mean(profit_total)\n"
   ]
  },
  {
   "cell_type": "code",
   "execution_count": 143,
   "metadata": {},
   "outputs": [
    {
     "name": "stdout",
     "output_type": "stream",
     "text": [
      "When there are 1 pallets in the plane.\n",
      "the mean of the profit is 16462.0975\n",
      "When there are 2 pallets in the plane.\n",
      "the mean of the profit is 16770.905\n",
      "When there are 3 pallets in the plane.\n",
      "the mean of the profit is 16183.5175\n",
      "When there are 4 pallets in the plane.\n",
      "the mean of the profit is 15339.9925\n",
      "When there are 5 pallets in the plane.\n",
      "the mean of the profit is 14815.485\n",
      "When there are 6 pallets in the plane.\n",
      "the mean of the profit is 14582.57\n"
     ]
    }
   ],
   "source": [
    "for i in range(1, 7):\n",
    "    print(\n",
    "        f\"When there are {i} pallets in the plane.\\nthe mean of the profit is {mean_profit(i)}\")\n"
   ]
  },
  {
   "cell_type": "code",
   "execution_count": 144,
   "metadata": {},
   "outputs": [
    {
     "data": {
      "image/png": "[encoded data removed]",
      "text/plain": [
       "<Figure size 600x600 with 1 Axes>"
      ]
     },
     "metadata": {},
     "output_type": "display_data"
    }
   ],
   "source": [
    "_, ax = plt.subplots(figsize=(6, 6))\n",
    "\n",
    "for i in range(1, 7):\n",
    "    ax.plot(i, mean_profit(i), 'ro', markersize=10)\n",
    "\n",
    "ax.plot(0, mean_profit_0, 'ro', markersize=10)\n",
    "\n",
    "plt.show()\n"
   ]
  },
  {
   "attachments": {},
   "cell_type": "markdown",
   "metadata": {},
   "source": [
    "## Ans:\n",
    "\n",
    "### From the plot above we can see that when there are 2 pallets in the plane, the mean of the profit is the highest of 16770.905.\n"
   ]
  },
  {
   "attachments": {},
   "cell_type": "markdown",
   "metadata": {},
   "source": [
    "## Problem 2\n",
    "\n",
    "### You run a newspaper stand. You cannot predict exactly how many copies of the Daily Blab newspaper you will be able to sell, but in the past, you have observed the following demand pattern:\n",
    "\n",
    "<style>\n",
    "table\n",
    "{\n",
    "    margin: auto;\n",
    "}\n",
    "</style>\n",
    "\n",
    "|Demand|Percentage of the Time|\n",
    "|:-:|:-:|\n",
    "| 20 | 1% |\n",
    "| 21 | 2% |\n",
    "| 22 | 3% |\n",
    "| 23 | 4% |\n",
    "| 24 | 5% |\n",
    "| 25 | 6% |\n",
    "| 26 | 6% |\n",
    "| 27 | 7% |\n",
    "| 28 | 7% |\n",
    "| 29 | 7% |\n",
    "| 30 | 7% |\n",
    "| 31 | 7% |\n",
    "| 32 | 7% |\n",
    "| 33 | 6% |\n",
    "| 34 | 5% |\n",
    "| 35 | 4% |\n",
    "| 36 | 4% |\n",
    "| 37 | 3% |\n",
    "| 38 | 3% |\n",
    "| 39 | 3% |\n",
    "| 40 | 3% |\n",
    "\n",
    "#### Each copy of the Daily Blab costs you $0.35 and sells for $0.45. You must place your order for the papers the night before they are sold, before you know exactly how many copies you will be able to sell. Unsold copies may be returned to the publisher at the end of the day for a credit of $0.05 each. You can buy the paper only in multiples of 5, and are considering stocking either 20, 25, 30, 35, or 40 papers per day. What is the right number of papers to order each night?\n"
   ]
  },
  {
   "cell_type": "code",
   "execution_count": 80,
   "metadata": {},
   "outputs": [],
   "source": [
    "n = np.arange(20, 41)\n",
    "\n",
    "percent_demand = pd.DataFrame(\n",
    "    [0.01, 0.02, 0.03, 0.04, 0.05, 0.06, 0.06, 0.07, 0.07, 0.07, 0.07, 0.07,\n",
    "     0.07, 0.06, 0.05, 0.04, 0.04, 0.03, 0.03, 0.03, 0.03\n",
    "     ], index=n)\n"
   ]
  },
  {
   "cell_type": "code",
   "execution_count": 81,
   "metadata": {},
   "outputs": [
    {
     "data": {
      "image/png": "[encoded data removed]",
      "text/plain": [
       "<Figure size 600x600 with 1 Axes>"
      ]
     },
     "metadata": {},
     "output_type": "display_data"
    }
   ],
   "source": [
    "_, ax = plt.subplots(figsize=(6, 6))\n",
    "\n",
    "percent_demand.plot.bar(ax=ax)\n",
    "\n",
    "ax.set(ylim=(0, 0.08))\n",
    "ax.set_xticklabels(percent_demand.index, rotation=45)\n",
    "\n",
    "plt.legend().remove()\n",
    "plt.show()\n"
   ]
  },
  {
   "cell_type": "code",
   "execution_count": 82,
   "metadata": {},
   "outputs": [],
   "source": [
    "N = 10000\n"
   ]
  },
  {
   "cell_type": "code",
   "execution_count": 83,
   "metadata": {},
   "outputs": [],
   "source": [
    "news_rvs = rv_discrete(name='news_rvs',\n",
    "                       values=(n, percent_demand[0])).rvs(size=N)\n",
    "\n",
    "news_20 = news_rvs[news_rvs == 20]\n",
    "news_25 = news_rvs[news_rvs <= 25]\n",
    "news_30 = news_rvs[news_rvs <= 30]\n",
    "news_35 = news_rvs[news_rvs <= 35]\n",
    "news_40 = news_rvs\n"
   ]
  },
  {
   "cell_type": "code",
   "execution_count": 84,
   "metadata": {},
   "outputs": [],
   "source": [
    "profit_20 = news_20 * 0.45 - 20 * 0.35\n",
    "profit_25 = news_25 * 0.45 - 25 * 0.35 + (25 - news_25) * 0.05\n",
    "profit_30 = news_30 * 0.45 - 30 * 0.35 + (30 - news_30) * 0.05\n",
    "profit_35 = news_35 * 0.45 - 35 * 0.35 + (35 - news_35) * 0.05\n",
    "profit_40 = news_40 * 0.45 - 40 * 0.35\n"
   ]
  },
  {
   "cell_type": "code",
   "execution_count": 85,
   "metadata": {},
   "outputs": [
    {
     "name": "stdout",
     "output_type": "stream",
     "text": [
      "2.0\n",
      "1.8355\n",
      "1.5234\n",
      "0.9199\n",
      "-0.5004\n"
     ]
    }
   ],
   "source": [
    "means = []\n",
    "\n",
    "for profit in (profit_20, profit_25, profit_30, profit_35, profit_40):\n",
    "    means.append(np.mean(profit))\n",
    "    print(round(profit.mean(), 4))\n"
   ]
  },
  {
   "cell_type": "code",
   "execution_count": 86,
   "metadata": {},
   "outputs": [
    {
     "data": {
      "image/png": "[encoded data removed]",
      "text/plain": [
       "<Figure size 600x600 with 1 Axes>"
      ]
     },
     "metadata": {},
     "output_type": "display_data"
    }
   ],
   "source": [
    "_, ax = plt.subplots(figsize=(6, 6))\n",
    "\n",
    "plt.plot(means, 'o-')\n",
    "\n",
    "ax.set_xticks(range(len(means)))\n",
    "ax.set_xticklabels(['20', '25', '30', '35', '40'])\n",
    "\n",
    "plt.show()\n"
   ]
  },
  {
   "attachments": {},
   "cell_type": "markdown",
   "metadata": {},
   "source": [
    "So, We should order 20 newspapers each night to make the mean profit by 2 dollars.\n"
   ]
  },
  {
   "attachments": {},
   "cell_type": "markdown",
   "metadata": {},
   "source": [
    "## Problem 3\n",
    "\n",
    "You are taking reservations for an airline flight. This particular flight uses an aircraft with 50 first- class seats and 190 economy-class seats.\n",
    "\n",
    "First-class tickets on the flight cost $600, with demand to purchase them distributed like a Poisson random variable with mean 50. Each passenger who buys a first-class ticket has a 93% chance of showing up for the flight. If a first-class passenger does not show up, he or she can return their unused ticket for a full refund. Any first class passengers who show up for the flight with tickets but are denied boarding are entitled to a full refund plus a $500 inconvenience penalty.\n",
    "\n",
    "Economy tickets cost $300. Demand for them is Poisson distributed with a mean of 200, and is independent of the demand for first-class tickets. Each ticket holder has a 96% chance of showing up for the flight, and \"no shows\" are not entitled to any refund. If an economy ticket holder shows up and is denied a seat, however, they get a full refund plus a $200 penalty. If there are free seats in first class and economy is full, economy ticket holders can be seated in first class.\n",
    "\n",
    "The airline allows itself to sell somewhat more tickets than it has seats. This is a common practice called \"overbooking\". The firm is considering the 18 possible polices obtained through all possible combinations of:\n",
    "\n",
    "- Allowing overbooking of up to 0, 5, or 10 first-class seats\n",
    "- Allowing overbooking of up to 0, 5, 10, 15, 20, or 25 economy seats\n",
    "\n",
    "1. Which option gives the highest average profit?\n",
    "2. What are the average numbers of first-class and economy passengers denied seating under this policy.\n",
    "3. If no overbooking of first class is allowed, what is the best policy?\n"
   ]
  },
  {
   "cell_type": "code",
   "execution_count": null,
   "metadata": {},
   "outputs": [],
   "source": []
  },
  {
   "attachments": {},
   "cell_type": "markdown",
   "metadata": {},
   "source": [
    "<style>\n",
    "table\n",
    "{\n",
    "    margin: auto;\n",
    "}\n",
    "</style>\n",
    "\n",
    "## Problem 4( Dynamic Models)\n",
    "\n",
    "You manage the Big-Rig Service Center, which runs a thriving business performing repairs on large trucks.\n",
    "\n",
    "The number of trucks arriving at the facility in need of repair each morning is well-modeled by a Poisson random variable with a mean value of 3.8.\n",
    "\n",
    "If you have a free service bay available for an arriving truck, you start servicing it immediately.\n",
    "\n",
    "Trucks that you cannot immediately accommodate with a free service bay do not wait, but go to a competitor’s facility instead.\n",
    "\n",
    "You currently have 5 service bays, but since you frequently have to turn away business, you are considering expanding to **6, 7, or possibly 8 bays.**\n",
    "\n",
    "Including debt service, insurance, and taxes, your costs for these expansion options, converted to a daily payment, would be:\n",
    "\n",
    "|   Total Bays   | Daily Cost |\n",
    "| :------------: | :--------: |\n",
    "| 6 (add 1 bay)  |  $\\$175$   |\n",
    "| 7 (add 2 bays) |  $\\$325$   |\n",
    "| 8 (add 3 bays) |  $\\$475$   |\n",
    "\n",
    "Repairing each truck can take either 1, 2, or 3 full days; and you cannot tell in advance how long the work will take.\n",
    "\n",
    "There is a 30% chance that a truck can be completed by the end of one day, in which case you charge $800.\n",
    "\n",
    "Given that service cannot be completed the first day, there is 75% chance it will be finished at the end of the next day, in which case your total charge is $1,500.\n",
    "\n",
    "Otherwise, completing the service takes three full days or work, for which you charge $2,100.\n",
    "\n",
    "Your operating costs are $425 per occupied service bay per day.\n",
    "\n",
    "Should you expand your facility, and if so, how many service bays should you add? With this number of bays, what is the average number of service requests denied per day?\n",
    "\n",
    "**5. Modify problem 4 in handout 3:**\n",
    "\n",
    "Assume now that if a service cannot be completed the second day, there is 90% chance it will be finished at the end of the next day, in which case your total charge is $2,100.\n",
    "\n",
    "In case if the service isn't finished in three days, the truck is returned in the condition \"not fixed\", and the company receives only $1,000.\n",
    "\n",
    "In addition to the previously asked questions, provide statistics on the total number of trucks remaining \"not fixed\" during the testing period.\n"
   ]
  },
  {
   "attachments": {},
   "cell_type": "markdown",
   "metadata": {},
   "source": [
    "### Constants definions\n"
   ]
  },
  {
   "cell_type": "code",
   "execution_count": 87,
   "metadata": {},
   "outputs": [],
   "source": [
    "# make 1000 trials for 100 days for different scenarios\n",
    "N = 1000  # number of trials\n",
    "\n",
    "cost_bay_scenarios = {5: 0, 6: 175, 7: 325, 8: 475}\n",
    "\n",
    "n = 100  # number of days\n",
    "\n",
    "truck_arrive_rvs = poisson.rvs(mu=3.8, size=n)\n"
   ]
  },
  {
   "cell_type": "code",
   "execution_count": 88,
   "metadata": {},
   "outputs": [],
   "source": [
    "# make 1000 trials for 100 days for different scenarios\n",
    "N = 1000  # number of trials\n",
    "\n",
    "cost_bay_scenarios = {5: 0, 6: 175, 7: 325, 8: 475}\n",
    "\n",
    "n = 100  # number of days\n",
    "\n",
    "truck_arrive_rvs = poisson.rvs(mu=3.8, size=n)\n",
    "\n",
    "\n",
    "class Simulation_bays:\n",
    "    \"\"\"simulation this problem with all conditions:\n",
    "        cost_bay_scenarios = {5:0,6:175,7:325,8:475}\n",
    "    \"\"\"\n",
    "\n",
    "    def __init__(self, bay_num, n):\n",
    "        \"\"\"initialize the number of bays\"\"\"\n",
    "        self.bay_num = bay_num\n",
    "        self.n = 100  # number of days\n",
    "\n",
    "    def truck_arrive_rvs(self):\n",
    "        \"\"\"generate the truck arrivals\"\"\"\n",
    "        return np.random.exponential(scale=3.8, size=self.n).astype(dtype=int)\n",
    "        # problem here\n",
    "\n",
    "    def df_bays(self):\n",
    "        \"\"\"create the dataframe to store the results\"\"\"\n",
    "\n",
    "        colums = ['days', 'truck_arrivals', '1st_start', '2nd_start', '3rd_start', '1st_completed',\n",
    "                  '2nd_completed', '3rd_completed', 'not_fixed', 'free_Bays_left', 'num_trucks_denied']\n",
    "        df_bays = pd.DataFrame(columns=colums)\n",
    "        df_bays['days'] = np.arange(self.n+1)\n",
    "        df_bays.fillna(0, inplace=True)\n",
    "        df_bays['truck_arrivals'][1:] = self.truck_arrive_rvs()\n",
    "        df_bays['free_Bays_left'][0] = self.bay_num\n",
    "\n",
    "        return df_bays\n",
    "\n",
    "    def sim_bays(self):\n",
    "        \"\"\"simulate the results\"\"\"\n",
    "        df_bays = self.df_bays()\n",
    "\n",
    "        for i in range(1, self.n+1):\n",
    "            self._extracted_from_sim_bays_6(df_bays, i)\n",
    "        num_trucks_denied = df_bays['num_trucks_denied'].sum()\n",
    "\n",
    "        # Calculate the profit\n",
    "        revenue = df_bays['1st_completed'].sum() * 800 + df_bays['2nd_completed'].sum(\n",
    "        ) * 1500 + df_bays['3rd_completed'].sum() * 2100 + df_bays['not_fixed'].sum() * 1000\n",
    "\n",
    "        cost_operating = df_bays[['1st_start',\n",
    "                                  '2nd_start', '3rd_start']].sum().sum() * 425\n",
    "\n",
    "        cost_bay_scenarios = {5: 0, 6: 175, 7: 325, 8: 475}\n",
    "\n",
    "        cost_add = 100 * cost_bay_scenarios[self.bay_num]\n",
    "\n",
    "        profit = revenue - cost_operating - cost_add\n",
    "\n",
    "        return profit, num_trucks_denied\n",
    "\n",
    "    # TODO Rename this here and in `sim_bays`\n",
    "    def _extracted_from_sim_bays_6(self, df_bays, i):\n",
    "        df_bays.loc[i, '1st_start'] = np.minimum(\n",
    "            df_bays['free_Bays_left'][i-1], df_bays['truck_arrivals'][i])\n",
    "        df_bays.loc[i, '1st_completed'] = np.random.binomial(\n",
    "            n=df_bays.loc[i, '1st_start'], p=0.3, size=1)\n",
    "        df_bays.loc[i, '2nd_start'] = df_bays.loc[i-1,\n",
    "                                                  '1st_start'] - df_bays.loc[i-1, '1st_completed']\n",
    "        df_bays.loc[i, '2nd_completed'] = np.random.binomial(\n",
    "            n=df_bays.loc[i, '2nd_start'], p=0.75, size=1)\n",
    "        df_bays.loc[i, '3rd_start'] = df_bays.loc[i-1,\n",
    "                                                  '2nd_start'] - df_bays.loc[i-1, '2nd_completed']\n",
    "        df_bays.loc[i, '3rd_completed'] = np.random.binomial(\n",
    "            n=df_bays.loc[i, '3rd_start'], p=0.9, size=1)\n",
    "        # Not fixed\n",
    "        df_bays.loc[i, 'not_fixed'] = df_bays.loc[i-1,\n",
    "                                                  '3rd_start'] - df_bays.loc[i-1, '3rd_completed']\n",
    "\n",
    "        df_bays.loc[i, 'free_Bays_left'] = self.bay_num - sum(df_bays.loc[i, ['1st_start', '2nd_start', '3rd_start']]) + sum(\n",
    "            df_bays.loc[i, ['1st_completed', '2nd_completed', '3rd_completed']])\n",
    "        df_bays.loc[i, 'num_trucks_denied'] = df_bays.loc[i,\n",
    "                                                          'truck_arrivals'] - df_bays.loc[i, '1st_start']\n"
   ]
  },
  {
   "attachments": {},
   "cell_type": "markdown",
   "metadata": {},
   "source": [
    "Calculate the results\n"
   ]
  },
  {
   "cell_type": "code",
   "execution_count": null,
   "metadata": {},
   "outputs": [],
   "source": []
  },
  {
   "attachments": {},
   "cell_type": "markdown",
   "metadata": {},
   "source": [
    "# Caution! slow(Improving)\n"
   ]
  },
  {
   "cell_type": "code",
   "execution_count": 103,
   "metadata": {},
   "outputs": [],
   "source": [
    "# results_5_bays = []\n",
    "# results_6_bays = []\n",
    "# results_7_bays = []\n",
    "# results_8_bays = []\n",
    "\n",
    "# for _ in range(1000):\n",
    "#     results_5_bays.append(Simulation_bays(5,100).sim_bays())\n",
    "#     results_6_bays.append(Simulation_bays(6,100).sim_bays())\n",
    "#     results_7_bays.append(Simulation_bays(7,100).sim_bays())\n",
    "#     results_8_bays.append(Simulation_bays(8,100).sim_bays())\n"
   ]
  },
  {
   "cell_type": "code",
   "execution_count": 104,
   "metadata": {},
   "outputs": [],
   "source": [
    "# results_6_bays = np.array(results_6_bays)\n",
    "# results_6_bays[:,0].mean()\n"
   ]
  },
  {
   "attachments": {},
   "cell_type": "markdown",
   "metadata": {},
   "source": [
    "### Visualization\n"
   ]
  },
  {
   "cell_type": "code",
   "execution_count": 105,
   "metadata": {},
   "outputs": [],
   "source": [
    "# mean_profits = []\n",
    "\n",
    "# mean_denials = []\n",
    "\n",
    "# results_lists = [results_5_bays,results_6_bays,results_7_bays,results_8_bays]\n",
    "\n",
    "# for result in results_lists:\n",
    "#     mean_profits.append(np.array(result)[:,0].mean())\n",
    "#     mean_denials.append(np.array(result)[:,1].mean() / 100)\n",
    "\n",
    "# result_df = pd.DataFrame({'mean_profits':list(mean_profits),'mean_denials':list(mean_denials)},index=['5_bays','6_bays','7_bays','8_bays'])\n"
   ]
  },
  {
   "cell_type": "code",
   "execution_count": 106,
   "metadata": {},
   "outputs": [],
   "source": [
    "# result_df\n"
   ]
  },
  {
   "cell_type": "code",
   "execution_count": 107,
   "metadata": {},
   "outputs": [],
   "source": [
    "# _, axes = plt.subplots(1,2,figsize=(12,8))\n",
    "\n",
    "# axes[0].bar(result_df.index,result_df['mean_profits'])\n",
    "# axes[0].set_title('Mean Profit')\n",
    "# axes[0].set_xlabel('Number of Bays')\n",
    "\n",
    "# axes[1].bar(result_df.index,result_df['mean_denials'])\n",
    "# axes[1].set_title('Mean Trucks Denied')\n",
    "# axes[1].set_xlabel('Number of Bays')\n",
    "\n",
    "# plt.show()\n"
   ]
  },
  {
   "cell_type": "code",
   "execution_count": 108,
   "metadata": {},
   "outputs": [],
   "source": [
    "# mean_denials\n"
   ]
  },
  {
   "cell_type": "code",
   "execution_count": null,
   "metadata": {},
   "outputs": [],
   "source": []
  },
  {
   "cell_type": "code",
   "execution_count": null,
   "metadata": {},
   "outputs": [],
   "source": []
  },
  {
   "attachments": {},
   "cell_type": "markdown",
   "metadata": {},
   "source": [
    "## HW-2 Part3\n"
   ]
  },
  {
   "attachments": {},
   "cell_type": "markdown",
   "metadata": {},
   "source": [
    "## Part3-Problem 1\n",
    "\n",
    "### You make a perishable, volatile chemical for which you charge $2.25 per liter.\n",
    "\n",
    "You have 75 regular customers for the chemical, each of whom has an independent 90% chance of placing an order on any given day. You also get an average of 30 orders per day from other, non-regular customers; assume the number of non-regular customers per day has a Poisson distribution.\n",
    "\n",
    "Every order is for one 20-liter container. You produce the chemical by a process that produces 600 liters of the chemical at a cost of $1300.\n",
    "\n",
    "Each day, you can run the process any whole number of times. Because it is so unstable, any chemical left unsold at the end of the day must be recycled, at a cost of $0.35 per liter.\n",
    "\n",
    "What is the best number of times to run the process?\n",
    "\n",
    "     Consider four possible policies of running the process 1, 2, 3 or 4 times.\n"
   ]
  },
  {
   "attachments": {},
   "cell_type": "markdown",
   "metadata": {},
   "source": [
    "#### Import libraries\n"
   ]
  },
  {
   "cell_type": "code",
   "execution_count": 109,
   "metadata": {},
   "outputs": [],
   "source": [
    "# import numpy as np\n",
    "# import pandas as pd\n",
    "# import scipy.stats as stats\n",
    "\n",
    "# import matplotlib.pyplot as plt\n",
    "# import seaborn as sns\n",
    "\n",
    "# import itertools\n",
    "# from scipy.stats import binom,poisson,norm,halfnorm\n",
    "\n",
    "# import warnings\n",
    "# warnings.filterwarnings('ignore')\n"
   ]
  },
  {
   "attachments": {},
   "cell_type": "markdown",
   "metadata": {},
   "source": [
    "### Define the scenarios\n"
   ]
  },
  {
   "cell_type": "code",
   "execution_count": 110,
   "metadata": {},
   "outputs": [],
   "source": [
    "# produce the chemical by a process that produces 600 liters of the chemical at a cost of $1300.\n",
    "# Consider four possible policies of running the process 1, 2, 3 or 4 times.\n",
    "# The process is described by the following dictionaries:\n",
    "scen_param = {1: (600, 1300), 2: (1200, 2600),\n",
    "              3: (1800, 3900), 4: (2400, 5200)}\n"
   ]
  },
  {
   "cell_type": "code",
   "execution_count": 111,
   "metadata": {},
   "outputs": [],
   "source": [
    "# # Generate the random odds of the process within 100 days:\n",
    "# # Regular/Non_regular:\n",
    "\n",
    "# regular_order = binom.rvs(75,0.9,size=100)\n",
    "# non_regular_order = poisson.rvs(30,size=100)\n",
    "\n",
    "# # run the process one times\n",
    "# chem_prod_sim_df = pd.DataFrame({'regular_L':regular_order * 20,'non_regular_L':non_regular_order * 20,'left_L': np.zeros(100),'prod_1':scen_product[1],'cost_1':scen_cost[1],'sale': np.zeros(100)})\n",
    "\n",
    "# for i in range(100):\n",
    "#     if chem_prod_sim_df['regular_L'][i] + chem_prod_sim_df['non_regular_L'][i] >= chem_prod_sim_df['prod_1'][i]:\n",
    "#         chem_prod_sim_df['sale'][i] = chem_prod_sim_df['prod_1'][i] * 2.25\n",
    "#     else:\n",
    "#         chem_prod_sim_df['sale'][i] = (chem_prod_sim_df['regular_L'][i] + chem_prod_sim_df['non_regular_L'][i]) * 2.25\n",
    "\n",
    "#         chem_prod_sim_df['left_L'][i] = (chem_prod_sim_df['prod_1'][i] - (chem_prod_sim_df['regular_L'][i] + chem_prod_sim_df['non_regular_L'][i])) * 0.35\n"
   ]
  },
  {
   "cell_type": "code",
   "execution_count": 112,
   "metadata": {},
   "outputs": [],
   "source": [
    "# chem_prod_sim_df['revenue'] = chem_prod_sim_df['sale'] - (chem_prod_sim_df['cost_1'] + chem_prod_sim_df['left_L'])\n"
   ]
  },
  {
   "cell_type": "code",
   "execution_count": 113,
   "metadata": {},
   "outputs": [],
   "source": [
    "# mean_revenue = chem_prod_sim_df['revenue'].mean()\n",
    "# mean_revenue\n"
   ]
  },
  {
   "cell_type": "code",
   "execution_count": 114,
   "metadata": {},
   "outputs": [],
   "source": [
    "# chem_prod_sim_df\n"
   ]
  },
  {
   "cell_type": "code",
   "execution_count": null,
   "metadata": {},
   "outputs": [],
   "source": []
  },
  {
   "cell_type": "code",
   "execution_count": null,
   "metadata": {},
   "outputs": [],
   "source": []
  },
  {
   "cell_type": "code",
   "execution_count": 115,
   "metadata": {},
   "outputs": [],
   "source": [
    "class chemSim:\n",
    "    \"\"\"simulate the chemical producing process for 100 days\n",
    "    where : scen_param = { 1:(600, 1300), 2:(1200, 2600), 3:(1800, 3900), 4:(2400, 5200)}\n",
    "    \"\"\"\n",
    "\n",
    "    def __init__(self,scen_param):\n",
    "        self.days = 100\n",
    "        self.scen_param = { 1:(600, 1300), 2:(1200, 2600), 3:(1800, 3900), 4:(2400, 5200)}\n",
    "    \n",
    "    def chem_df(self,i):\n",
    "        regular_order = binom.rvs(75,0.9,size=self.days)\n",
    "        non_regular_order = poisson.rvs(30,size=self.days)\n",
    "\n",
    "        chem_prod_sim_df = pd.DataFrame({'regular_L':regular_order * 20,'non_regular_L':non_regular_order * 20,'left_cost': np.zeros(self.days),'produce':self.scen_param[i][0],'cost':self.scen_param[i][1],'sale': np.zeros(self.days)})\n",
    "        #### I want to split the def here\n",
    "\n",
    "        for j in range(self.days):\n",
    "            if chem_prod_sim_df['regular_L'][j] + chem_prod_sim_df['non_regular_L'][j] >= chem_prod_sim_df['produce'][j]:\n",
    "                chem_prod_sim_df['sale'][j] = chem_prod_sim_df['produce'][j] * 2.25\n",
    "            else:\n",
    "                chem_prod_sim_df['sale'][j] = (chem_prod_sim_df['regular_L'][j] + chem_prod_sim_df['non_regular_L'][j]) * 2.25\n",
    "\n",
    "                chem_prod_sim_df['left_cost'][j] = (chem_prod_sim_df['produce'][j] - (chem_prod_sim_df['regular_L'][j] + chem_prod_sim_df['non_regular_L'][j])) * 0.35\n",
    "        \n",
    "        chem_prod_sim_df['profit'] = chem_prod_sim_df['sale'] - (chem_prod_sim_df['cost'] + chem_prod_sim_df['left_cost'])\n",
    "\n",
    "        return chem_prod_sim_df\n",
    "        "
   ]
  },
  {
   "cell_type": "code",
   "execution_count": 116,
   "metadata": {},
   "outputs": [
    {
     "ename": "TypeError",
     "evalue": "chemSim.__init__() missing 1 required positional argument: 'scen_param'",
     "output_type": "error",
     "traceback": [
      "\u001b[0;31m---------------------------------------------------------------------------\u001b[0m",
      "\u001b[0;31mTypeError\u001b[0m                                 Traceback (most recent call last)",
      "Cell \u001b[0;32mIn[116], line 1\u001b[0m\n\u001b[0;32m----> 1\u001b[0m chemSim()\u001b[39m.\u001b[39mchem_df(\u001b[39m1\u001b[39m)\u001b[39m.\u001b[39mmean()\n",
      "\u001b[0;31mTypeError\u001b[0m: chemSim.__init__() missing 1 required positional argument: 'scen_param'"
     ]
    }
   ],
   "source": [
    "# chemSim().chem_df(1).mean()\n"
   ]
  },
  {
   "cell_type": "code",
   "execution_count": null,
   "metadata": {},
   "outputs": [],
   "source": []
  },
  {
   "cell_type": "code",
   "execution_count": null,
   "metadata": {},
   "outputs": [],
   "source": []
  },
  {
   "attachments": {},
   "cell_type": "markdown",
   "metadata": {},
   "source": [
    "### Part3-Problem 2\n",
    "\n",
    "The management of a hotel is considering renting a portable filtration unit to process the water to make it drinkable. There are three possible filtration units:\n",
    "\n",
    "<style>\n",
    "table\n",
    "{\n",
    "    margin: auto;\n",
    "}\n",
    "</style>\n",
    "\n",
    "|                    |  Unit1  |  Unit2   |  Unit3   |\n",
    "| :----------------: | :-----: | :------: | :------: |\n",
    "| Capacity (Gallons) |   800   |   900    |   1000   |\n",
    "|        Cost        | $\\$800$ | $\\$1000$ | $\\$1300$ |\n",
    "\n",
    "They are also considering not renting a filtration unit. If they don’t rent a unit, or if the unit’s capacity turns out to be insufficient to meet the hotel guests’ demand for water, the hotel will have to supply bottled water to every occupied room.Providing bottled water will cost the hotel a flat fee of $450, plus $5 per occupied room.The hotel has 250 rooms.\n",
    "\n",
    "At present, they have 200 room reservations they consider “firm”, with a negligible chance of cancellation.\n",
    "\n",
    "They have another 35 reservations they consider “doubtful”, each with an independent 65% chance of resulting in an occupied room.\n",
    "\n",
    "They also expect to get some “last minute” requests for rooms, which they estimate to be Poisson with a mean of 30.\n",
    "\n",
    "Occupied rooms consume random amounts of water independently from one another.\n",
    "\n",
    "Each occupied room consumes the amount of water that is distributed according to the normal distribution with an average of 4 gallons of water and a standard deviation of 3.1.\n",
    "\n",
    "Find an optimal plan for the management and also the probability of not having enough filtered water to meet this optimal demand.\n"
   ]
  },
  {
   "attachments": {},
   "cell_type": "markdown",
   "metadata": {},
   "source": [
    "#### Analysis\n",
    "\n",
    "As the bottle water is the suppliment of the hotel filter-drinking system,there are four scenarios:\n",
    "\n",
    "- Unit1, Unit2, Unit3 and All bottle water with no unit.\n",
    "\n",
    "Thus we can define the scenarios(scenario,capacity of water, cost) as below:\n"
   ]
  },
  {
   "cell_type": "code",
   "execution_count": 117,
   "metadata": {},
   "outputs": [],
   "source": [
    "# define the scenario of bottle water only later since it meet all the demand of water consumption in the hotel.\n",
    "vol = []\n",
    "\n",
    "scen_param = {1: (800, 800), 2: (900, 1000), 3: (1000, 1300), 4: (vol, 450)}\n"
   ]
  },
  {
   "cell_type": "code",
   "execution_count": 118,
   "metadata": {},
   "outputs": [],
   "source": [
    "# we would like to simulate each condition in 1000 days\n",
    "num_days = 1000\n",
    "\n",
    "total_rooms = 250\n",
    "firm_rooms = 200\n",
    "\n",
    "binom_rooms = binom.rvs(35, 0.65, size=num_days)\n",
    "lastMin_rooms = np.minimum(50 - binom_rooms, poisson.rvs(30, size=num_days))\n",
    "\n",
    "day_rooms = 200 + binom_rooms + lastMin_rooms\n"
   ]
  },
  {
   "cell_type": "markdown",
   "metadata": {},
   "source": [
    "#### halfnormal????\n"
   ]
  },
  {
   "cell_type": "code",
   "execution_count": 119,
   "metadata": {},
   "outputs": [],
   "source": [
    "room_consumption = []\n",
    "water_consumption = []\n",
    "\n",
    "for i in range(num_days):\n",
    "    room_consumption.append(halfnorm.rvs(\n",
    "        loc=4, scale=3.1, size=day_rooms[i]).astype(int))\n",
    "    water_consumption.append(room_consumption[i].sum())\n"
   ]
  },
  {
   "cell_type": "code",
   "execution_count": 120,
   "metadata": {},
   "outputs": [],
   "source": [
    "# room_consumption = (halfnorm.rvs(loc=4,scale=3.1,size=day_room).astype(int) for day_room in day_rooms)\n",
    "# water_consumption = (room_consump.sum() for room_consump in room_consumption)\n",
    "# ## XB 0.2s\n"
   ]
  },
  {
   "cell_type": "code",
   "execution_count": 121,
   "metadata": {},
   "outputs": [],
   "source": [
    "water_consumption_df = pd.DataFrame(\n",
    "    {'room_booked': day_rooms, 'water_consumption': water_consumption})\n",
    "\n",
    "water_consumption_df['shortage_Unit1_800'] = water_consumption_df['water_consumption'] - 800\n",
    "water_consumption_df['shortage_Unit1_800_ratio'] = round(\n",
    "    water_consumption_df['shortage_Unit1_800'] / water_consumption_df['water_consumption'], 2)\n",
    "\n",
    "water_consumption_df['shortage_Unit2_900'] = water_consumption_df['water_consumption'] - 900\n",
    "\n",
    "water_consumption_df['shortage_Unit2_900_ratio'] = round(\n",
    "    water_consumption_df['shortage_Unit2_900'] / water_consumption_df['water_consumption'], 2)\n",
    "\n",
    "water_consumption_df['shortage_Unit3_1000'] = water_consumption_df['water_consumption'] - 1000\n",
    "\n",
    "water_consumption_df['shortage_Unit3_1000_ratio'] = round(\n",
    "    water_consumption_df['shortage_Unit3_1000'] / water_consumption_df['water_consumption'], 2)\n",
    "\n",
    "water_consumption_df['bottle_water_fee'] = water_consumption_df['room_booked'] * 5\n"
   ]
  },
  {
   "cell_type": "code",
   "execution_count": 122,
   "metadata": {},
   "outputs": [
    {
     "data": {
      "text/html": [
       "<div>\n",
       "<style scoped>\n",
       "    .dataframe tbody tr th:only-of-type {\n",
       "        vertical-align: middle;\n",
       "    }\n",
       "\n",
       "    .dataframe tbody tr th {\n",
       "        vertical-align: top;\n",
       "    }\n",
       "\n",
       "    .dataframe thead th {\n",
       "        text-align: right;\n",
       "    }\n",
       "</style>\n",
       "<table border=\"1\" class=\"dataframe\">\n",
       "  <thead>\n",
       "    <tr style=\"text-align: right;\">\n",
       "      <th></th>\n",
       "      <th>room_booked</th>\n",
       "      <th>water_consumption</th>\n",
       "      <th>shortage_Unit1_800</th>\n",
       "      <th>shortage_Unit1_800_ratio</th>\n",
       "      <th>shortage_Unit2_900</th>\n",
       "      <th>shortage_Unit2_900_ratio</th>\n",
       "      <th>shortage_Unit3_1000</th>\n",
       "      <th>shortage_Unit3_1000_ratio</th>\n",
       "      <th>bottle_water_fee</th>\n",
       "    </tr>\n",
       "  </thead>\n",
       "  <tbody>\n",
       "    <tr>\n",
       "      <th>0</th>\n",
       "      <td>249</td>\n",
       "      <td>1518</td>\n",
       "      <td>718</td>\n",
       "      <td>0.47</td>\n",
       "      <td>618</td>\n",
       "      <td>0.41</td>\n",
       "      <td>518</td>\n",
       "      <td>0.34</td>\n",
       "      <td>1245</td>\n",
       "    </tr>\n",
       "    <tr>\n",
       "      <th>1</th>\n",
       "      <td>250</td>\n",
       "      <td>1478</td>\n",
       "      <td>678</td>\n",
       "      <td>0.46</td>\n",
       "      <td>578</td>\n",
       "      <td>0.39</td>\n",
       "      <td>478</td>\n",
       "      <td>0.32</td>\n",
       "      <td>1250</td>\n",
       "    </tr>\n",
       "    <tr>\n",
       "      <th>2</th>\n",
       "      <td>248</td>\n",
       "      <td>1496</td>\n",
       "      <td>696</td>\n",
       "      <td>0.47</td>\n",
       "      <td>596</td>\n",
       "      <td>0.40</td>\n",
       "      <td>496</td>\n",
       "      <td>0.33</td>\n",
       "      <td>1240</td>\n",
       "    </tr>\n",
       "    <tr>\n",
       "      <th>3</th>\n",
       "      <td>242</td>\n",
       "      <td>1445</td>\n",
       "      <td>645</td>\n",
       "      <td>0.45</td>\n",
       "      <td>545</td>\n",
       "      <td>0.38</td>\n",
       "      <td>445</td>\n",
       "      <td>0.31</td>\n",
       "      <td>1210</td>\n",
       "    </tr>\n",
       "    <tr>\n",
       "      <th>4</th>\n",
       "      <td>250</td>\n",
       "      <td>1518</td>\n",
       "      <td>718</td>\n",
       "      <td>0.47</td>\n",
       "      <td>618</td>\n",
       "      <td>0.41</td>\n",
       "      <td>518</td>\n",
       "      <td>0.34</td>\n",
       "      <td>1250</td>\n",
       "    </tr>\n",
       "    <tr>\n",
       "      <th>...</th>\n",
       "      <td>...</td>\n",
       "      <td>...</td>\n",
       "      <td>...</td>\n",
       "      <td>...</td>\n",
       "      <td>...</td>\n",
       "      <td>...</td>\n",
       "      <td>...</td>\n",
       "      <td>...</td>\n",
       "      <td>...</td>\n",
       "    </tr>\n",
       "    <tr>\n",
       "      <th>995</th>\n",
       "      <td>250</td>\n",
       "      <td>1495</td>\n",
       "      <td>695</td>\n",
       "      <td>0.46</td>\n",
       "      <td>595</td>\n",
       "      <td>0.40</td>\n",
       "      <td>495</td>\n",
       "      <td>0.33</td>\n",
       "      <td>1250</td>\n",
       "    </tr>\n",
       "    <tr>\n",
       "      <th>996</th>\n",
       "      <td>250</td>\n",
       "      <td>1518</td>\n",
       "      <td>718</td>\n",
       "      <td>0.47</td>\n",
       "      <td>618</td>\n",
       "      <td>0.41</td>\n",
       "      <td>518</td>\n",
       "      <td>0.34</td>\n",
       "      <td>1250</td>\n",
       "    </tr>\n",
       "    <tr>\n",
       "      <th>997</th>\n",
       "      <td>250</td>\n",
       "      <td>1481</td>\n",
       "      <td>681</td>\n",
       "      <td>0.46</td>\n",
       "      <td>581</td>\n",
       "      <td>0.39</td>\n",
       "      <td>481</td>\n",
       "      <td>0.32</td>\n",
       "      <td>1250</td>\n",
       "    </tr>\n",
       "    <tr>\n",
       "      <th>998</th>\n",
       "      <td>250</td>\n",
       "      <td>1485</td>\n",
       "      <td>685</td>\n",
       "      <td>0.46</td>\n",
       "      <td>585</td>\n",
       "      <td>0.39</td>\n",
       "      <td>485</td>\n",
       "      <td>0.33</td>\n",
       "      <td>1250</td>\n",
       "    </tr>\n",
       "    <tr>\n",
       "      <th>999</th>\n",
       "      <td>250</td>\n",
       "      <td>1517</td>\n",
       "      <td>717</td>\n",
       "      <td>0.47</td>\n",
       "      <td>617</td>\n",
       "      <td>0.41</td>\n",
       "      <td>517</td>\n",
       "      <td>0.34</td>\n",
       "      <td>1250</td>\n",
       "    </tr>\n",
       "  </tbody>\n",
       "</table>\n",
       "<p>1000 rows × 9 columns</p>\n",
       "</div>"
      ],
      "text/plain": [
       "     room_booked  water_consumption  shortage_Unit1_800  \\\n",
       "0            249               1518                 718   \n",
       "1            250               1478                 678   \n",
       "2            248               1496                 696   \n",
       "3            242               1445                 645   \n",
       "4            250               1518                 718   \n",
       "..           ...                ...                 ...   \n",
       "995          250               1495                 695   \n",
       "996          250               1518                 718   \n",
       "997          250               1481                 681   \n",
       "998          250               1485                 685   \n",
       "999          250               1517                 717   \n",
       "\n",
       "     shortage_Unit1_800_ratio  shortage_Unit2_900  shortage_Unit2_900_ratio  \\\n",
       "0                        0.47                 618                      0.41   \n",
       "1                        0.46                 578                      0.39   \n",
       "2                        0.47                 596                      0.40   \n",
       "3                        0.45                 545                      0.38   \n",
       "4                        0.47                 618                      0.41   \n",
       "..                        ...                 ...                       ...   \n",
       "995                      0.46                 595                      0.40   \n",
       "996                      0.47                 618                      0.41   \n",
       "997                      0.46                 581                      0.39   \n",
       "998                      0.46                 585                      0.39   \n",
       "999                      0.47                 617                      0.41   \n",
       "\n",
       "     shortage_Unit3_1000  shortage_Unit3_1000_ratio  bottle_water_fee  \n",
       "0                    518                       0.34              1245  \n",
       "1                    478                       0.32              1250  \n",
       "2                    496                       0.33              1240  \n",
       "3                    445                       0.31              1210  \n",
       "4                    518                       0.34              1250  \n",
       "..                   ...                        ...               ...  \n",
       "995                  495                       0.33              1250  \n",
       "996                  518                       0.34              1250  \n",
       "997                  481                       0.32              1250  \n",
       "998                  485                       0.33              1250  \n",
       "999                  517                       0.34              1250  \n",
       "\n",
       "[1000 rows x 9 columns]"
      ]
     },
     "execution_count": 122,
     "metadata": {},
     "output_type": "execute_result"
    }
   ],
   "source": [
    "water_consumption_df\n"
   ]
  },
  {
   "cell_type": "code",
   "execution_count": 123,
   "metadata": {},
   "outputs": [
    {
     "data": {
      "text/html": [
       "<div>\n",
       "<style scoped>\n",
       "    .dataframe tbody tr th:only-of-type {\n",
       "        vertical-align: middle;\n",
       "    }\n",
       "\n",
       "    .dataframe tbody tr th {\n",
       "        vertical-align: top;\n",
       "    }\n",
       "\n",
       "    .dataframe thead th {\n",
       "        text-align: right;\n",
       "    }\n",
       "</style>\n",
       "<table border=\"1\" class=\"dataframe\">\n",
       "  <thead>\n",
       "    <tr style=\"text-align: right;\">\n",
       "      <th></th>\n",
       "      <th>room_booked</th>\n",
       "      <th>water_consumption</th>\n",
       "      <th>shortage_Unit1_800</th>\n",
       "      <th>shortage_Unit1_800_ratio</th>\n",
       "      <th>shortage_Unit2_900</th>\n",
       "      <th>shortage_Unit2_900_ratio</th>\n",
       "      <th>shortage_Unit3_1000</th>\n",
       "      <th>shortage_Unit3_1000_ratio</th>\n",
       "      <th>bottle_water_fee</th>\n",
       "    </tr>\n",
       "  </thead>\n",
       "  <tbody>\n",
       "    <tr>\n",
       "      <th>count</th>\n",
       "      <td>1000.000000</td>\n",
       "      <td>1000.00000</td>\n",
       "      <td>1000.00000</td>\n",
       "      <td>1000.000000</td>\n",
       "      <td>1000.00000</td>\n",
       "      <td>1000.000000</td>\n",
       "      <td>1000.00000</td>\n",
       "      <td>1000.000000</td>\n",
       "      <td>1000.000000</td>\n",
       "    </tr>\n",
       "    <tr>\n",
       "      <th>mean</th>\n",
       "      <td>248.679000</td>\n",
       "      <td>1490.34900</td>\n",
       "      <td>690.34900</td>\n",
       "      <td>0.463200</td>\n",
       "      <td>590.34900</td>\n",
       "      <td>0.395780</td>\n",
       "      <td>490.34900</td>\n",
       "      <td>0.328790</td>\n",
       "      <td>1243.395000</td>\n",
       "    </tr>\n",
       "    <tr>\n",
       "      <th>std</th>\n",
       "      <td>2.601678</td>\n",
       "      <td>32.62078</td>\n",
       "      <td>32.62078</td>\n",
       "      <td>0.012268</td>\n",
       "      <td>32.62078</td>\n",
       "      <td>0.013371</td>\n",
       "      <td>32.62078</td>\n",
       "      <td>0.014989</td>\n",
       "      <td>13.008389</td>\n",
       "    </tr>\n",
       "    <tr>\n",
       "      <th>min</th>\n",
       "      <td>233.000000</td>\n",
       "      <td>1359.00000</td>\n",
       "      <td>559.00000</td>\n",
       "      <td>0.410000</td>\n",
       "      <td>459.00000</td>\n",
       "      <td>0.340000</td>\n",
       "      <td>359.00000</td>\n",
       "      <td>0.260000</td>\n",
       "      <td>1165.000000</td>\n",
       "    </tr>\n",
       "    <tr>\n",
       "      <th>25%</th>\n",
       "      <td>249.000000</td>\n",
       "      <td>1471.00000</td>\n",
       "      <td>671.00000</td>\n",
       "      <td>0.460000</td>\n",
       "      <td>571.00000</td>\n",
       "      <td>0.390000</td>\n",
       "      <td>471.00000</td>\n",
       "      <td>0.320000</td>\n",
       "      <td>1245.000000</td>\n",
       "    </tr>\n",
       "    <tr>\n",
       "      <th>50%</th>\n",
       "      <td>250.000000</td>\n",
       "      <td>1489.00000</td>\n",
       "      <td>689.00000</td>\n",
       "      <td>0.460000</td>\n",
       "      <td>589.00000</td>\n",
       "      <td>0.400000</td>\n",
       "      <td>489.00000</td>\n",
       "      <td>0.330000</td>\n",
       "      <td>1250.000000</td>\n",
       "    </tr>\n",
       "    <tr>\n",
       "      <th>75%</th>\n",
       "      <td>250.000000</td>\n",
       "      <td>1512.00000</td>\n",
       "      <td>712.00000</td>\n",
       "      <td>0.470000</td>\n",
       "      <td>612.00000</td>\n",
       "      <td>0.400000</td>\n",
       "      <td>512.00000</td>\n",
       "      <td>0.340000</td>\n",
       "      <td>1250.000000</td>\n",
       "    </tr>\n",
       "    <tr>\n",
       "      <th>max</th>\n",
       "      <td>250.000000</td>\n",
       "      <td>1592.00000</td>\n",
       "      <td>792.00000</td>\n",
       "      <td>0.500000</td>\n",
       "      <td>692.00000</td>\n",
       "      <td>0.430000</td>\n",
       "      <td>592.00000</td>\n",
       "      <td>0.370000</td>\n",
       "      <td>1250.000000</td>\n",
       "    </tr>\n",
       "  </tbody>\n",
       "</table>\n",
       "</div>"
      ],
      "text/plain": [
       "       room_booked  water_consumption  shortage_Unit1_800  \\\n",
       "count  1000.000000         1000.00000          1000.00000   \n",
       "mean    248.679000         1490.34900           690.34900   \n",
       "std       2.601678           32.62078            32.62078   \n",
       "min     233.000000         1359.00000           559.00000   \n",
       "25%     249.000000         1471.00000           671.00000   \n",
       "50%     250.000000         1489.00000           689.00000   \n",
       "75%     250.000000         1512.00000           712.00000   \n",
       "max     250.000000         1592.00000           792.00000   \n",
       "\n",
       "       shortage_Unit1_800_ratio  shortage_Unit2_900  shortage_Unit2_900_ratio  \\\n",
       "count               1000.000000          1000.00000               1000.000000   \n",
       "mean                   0.463200           590.34900                  0.395780   \n",
       "std                    0.012268            32.62078                  0.013371   \n",
       "min                    0.410000           459.00000                  0.340000   \n",
       "25%                    0.460000           571.00000                  0.390000   \n",
       "50%                    0.460000           589.00000                  0.400000   \n",
       "75%                    0.470000           612.00000                  0.400000   \n",
       "max                    0.500000           692.00000                  0.430000   \n",
       "\n",
       "       shortage_Unit3_1000  shortage_Unit3_1000_ratio  bottle_water_fee  \n",
       "count           1000.00000                1000.000000       1000.000000  \n",
       "mean             490.34900                   0.328790       1243.395000  \n",
       "std               32.62078                   0.014989         13.008389  \n",
       "min              359.00000                   0.260000       1165.000000  \n",
       "25%              471.00000                   0.320000       1245.000000  \n",
       "50%              489.00000                   0.330000       1250.000000  \n",
       "75%              512.00000                   0.340000       1250.000000  \n",
       "max              592.00000                   0.370000       1250.000000  "
      ]
     },
     "execution_count": 123,
     "metadata": {},
     "output_type": "execute_result"
    }
   ],
   "source": [
    "water_consumption_df.describe()\n"
   ]
  },
  {
   "cell_type": "code",
   "execution_count": 124,
   "metadata": {},
   "outputs": [
    {
     "data": {
      "text/plain": [
       "1693.395"
      ]
     },
     "execution_count": 124,
     "metadata": {},
     "output_type": "execute_result"
    }
   ],
   "source": [
    "bottle_water_mean = water_consumption_df['bottle_water_fee'].mean() + 450\n",
    "bottle_water_mean\n"
   ]
  },
  {
   "cell_type": "code",
   "execution_count": 125,
   "metadata": {},
   "outputs": [
    {
     "ename": "SyntaxError",
     "evalue": "incomplete input (3732190831.py, line 3)",
     "output_type": "error",
     "traceback": [
      "\u001b[0;36m  Cell \u001b[0;32mIn[125], line 3\u001b[0;36m\u001b[0m\n\u001b[0;31m    for scen in range(1,5):\u001b[0m\n\u001b[0m                           ^\u001b[0m\n\u001b[0;31mSyntaxError\u001b[0m\u001b[0;31m:\u001b[0m incomplete input\n"
     ]
    }
   ],
   "source": [
    "# cost_ls = []\n",
    "\n",
    "# for scen in range(1,5):\n"
   ]
  },
  {
   "cell_type": "code",
   "execution_count": 126,
   "metadata": {},
   "outputs": [],
   "source": [
    "uinit_1_cost = scen_param[1][1] + bottle_water_mean\n",
    "uinit_2_cost = scen_param[2][1] + bottle_water_mean\n",
    "uinit_3_cost = scen_param[3][1] + bottle_water_mean\n",
    "all_water_cost = bottle_water_mean\n"
   ]
  },
  {
   "cell_type": "code",
   "execution_count": 127,
   "metadata": {},
   "outputs": [],
   "source": [
    "cost_ls = [uinit_1_cost, uinit_2_cost, uinit_3_cost, all_water_cost]\n"
   ]
  },
  {
   "cell_type": "code",
   "execution_count": 128,
   "metadata": {},
   "outputs": [
    {
     "data": {
      "text/plain": [
       "[2493.395, 2693.395, 2993.395, 1693.395]"
      ]
     },
     "execution_count": 128,
     "metadata": {},
     "output_type": "execute_result"
    }
   ],
   "source": [
    "cost_ls\n"
   ]
  },
  {
   "cell_type": "code",
   "execution_count": null,
   "metadata": {},
   "outputs": [],
   "source": []
  },
  {
   "cell_type": "code",
   "execution_count": null,
   "metadata": {},
   "outputs": [],
   "source": []
  },
  {
   "cell_type": "code",
   "execution_count": null,
   "metadata": {},
   "outputs": [],
   "source": []
  },
  {
   "cell_type": "code",
   "execution_count": null,
   "metadata": {},
   "outputs": [],
   "source": []
  }
 ],
 "metadata": {
  "kernelspec": {
   "display_name": "p39",
   "language": "python",
   "name": "python3"
  },
  "language_info": {
   "codemirror_mode": {
    "name": "ipython",
    "version": 3
   },
   "file_extension": ".py",
   "mimetype": "text/x-python",
   "name": "python",
   "nbconvert_exporter": "python",
   "pygments_lexer": "ipython3",
   "version": "3.11.0"
  },
  "vscode": {
   "interpreter": {
    "hash": "c3a1109010e257dd9f1e593983c951231fd94a0c98fc2b081b8760e1222f1725"
   }
  }
 },
 "nbformat": 4,
 "nbformat_minor": 4
}
