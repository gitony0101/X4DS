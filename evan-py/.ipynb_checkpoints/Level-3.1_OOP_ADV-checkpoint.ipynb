{
 "cells": [
  {
   "cell_type": "markdown",
   "id": "0d538dff-1668-48f1-8551-4a9758e4ebb1",
   "metadata": {},
   "source": [
    "# Level-3.1 OOP adv programming  Py4e Chap 14"
   ]
  },
  {
   "cell_type": "markdown",
   "id": "8d3ac3b5-f78d-4494-b601-b28803f151dd",
   "metadata": {},
   "source": [
    "## Intro and Compare: Object Oriented Programing vs Procedure Oriented Programming\n",
    "\n",
    "\n",
    "\n",
    "### Object Oriented Programming\n",
    "\n",
    "- A program is made up of many cooperating `objects`\n",
    "\n",
    "- Instead of being the \"whole program\" - each object is a little \"island\" within the program and cooperatively working with other objects.\n",
    "\n",
    "- A program is made up of one or more objects working together - objects make use of each other's capabilities\n",
    "\n",
    "- reusability, scalability and efficiency.\n",
    "\n",
    "\n",
    "Object-oriented programming (OOP) organizes software design around data, or objects, rather than functions and logic. An object can be defined as a data field that has unique attributes and behavior.OOP focuses on the objects that developers want to manipulate rather than the logic required to manipulate them. This approach to programming is well-suited for programs that are large, complex and actively updated or maintained.The organization of an object-oriented program also makes the method beneficial to collaborative development, where projects are divided into groups."
   ]
  },
  {
   "cell_type": "markdown",
   "id": "a0be84ba-4a0d-4ec6-9c49-e07c2ea4563e",
   "metadata": {},
   "source": [
    "## Procedure oriented programming \n",
    "\n",
    "**Procedure oriented programming is a set of functions.** In this program language is used. To perform any particular task, set of function are compulsory. For example , a program may involve collecting data from user, performing some kind of calculation on that data and printing the data on screen when is requested. Calculating, reading or printing can be written in a program with the help of different functions on different tasks.\n",
    "\n",
    "POP method also emphases the `functions or the subroutines`.:\n",
    "\n",
    "<img src=https://aaimagestore.s3.amazonaws.com/july2017/0014350.002.png>"
   ]
  },
  {
   "cell_type": "code",
   "execution_count": null,
   "id": "6eafdde5-29b8-4f58-8bbf-5bc25c593afa",
   "metadata": {},
   "outputs": [],
   "source": []
  },
  {
   "cell_type": "markdown",
   "id": "e40e76a9-dfff-4781-8c7e-88b22ee167cc",
   "metadata": {},
   "source": [
    "### Object\n",
    "\n",
    "- An Object is a bit of self-contained Code and Data\n",
    "\n",
    "- A key aspect of the Object approach is to break the problem into smaller understandable parts (divide and conquer)\n",
    "\n",
    "- Objects have boundaries that allow us to ignore un-needed detail\n",
    "\n",
    " - We have been using objects all along: String Objects,\n",
    "    Integer Objects, Dictionary Objects, List Objects....."
   ]
  },
  {
   "cell_type": "markdown",
   "id": "cde32842-6f31-4d73-8bab-719822341699",
   "metadata": {},
   "source": [
    "#### Using Objects\n",
    "\n",
    "Python provides us with many built-in objects. "
   ]
  },
  {
   "cell_type": "code",
   "execution_count": 1,
   "id": "21f88b66-4146-4e9c-ac0a-bb96392e4f5f",
   "metadata": {},
   "outputs": [
    {
     "data": {
      "text/plain": [
       "['python', 'chuck']"
      ]
     },
     "execution_count": 1,
     "metadata": {},
     "output_type": "execute_result"
    }
   ],
   "source": [
    "stuff = list()\n",
    "stuff.append('python')\n",
    "stuff.append('chuck')\n",
    "stuff"
   ]
  },
  {
   "cell_type": "code",
   "execution_count": 6,
   "id": "9b6ec633-6cd9-43eb-816c-ad5619296a9a",
   "metadata": {},
   "outputs": [
    {
     "data": {
      "text/plain": [
       "['chuck', 'python']"
      ]
     },
     "execution_count": 6,
     "metadata": {},
     "output_type": "execute_result"
    }
   ],
   "source": [
    "stuff.sort()\n",
    "stuff"
   ]
  },
  {
   "cell_type": "code",
   "execution_count": 7,
   "id": "e477ec24-9909-4105-af3f-a2b4d05afaed",
   "metadata": {},
   "outputs": [
    {
     "name": "stdout",
     "output_type": "stream",
     "text": [
      "chuck\n"
     ]
    }
   ],
   "source": [
    "print(stuff[0])"
   ]
  },
  {
   "cell_type": "code",
   "execution_count": 8,
   "id": "072c08a6-2703-4b72-9c22-efb366ecbb6b",
   "metadata": {},
   "outputs": [
    {
     "name": "stdout",
     "output_type": "stream",
     "text": [
      "chuck\n"
     ]
    }
   ],
   "source": [
    "print(stuff.__getitem__(0))"
   ]
  },
  {
   "cell_type": "code",
   "execution_count": 9,
   "id": "9f912d4f-9693-4e15-8d2a-5e81e9f94b77",
   "metadata": {},
   "outputs": [
    {
     "name": "stdout",
     "output_type": "stream",
     "text": [
      "chuck\n"
     ]
    }
   ],
   "source": [
    "print(list.__getitem__(stuff,0))"
   ]
  },
  {
   "cell_type": "markdown",
   "id": "d794b0de-894e-4857-a20c-ab255b8d62d7",
   "metadata": {},
   "source": [
    "The first line is constructing an object of type list, the second and third lines are calling the append() method, the fourth line is calling the sort() method, and the fifth line is retrieving the item at position 0.\n",
    "\n",
    "The sixth line is calling the __getitem__() method in the stuff list with a parameter of zero.\n",
    "\n",
    "print (stuff.__getitem__(0))\n",
    "\n",
    "The seventh line is an even more verbose way of retrieving the 0th item in the list.\n",
    "\n",
    "print (list.__getitem__(stuff,0))\n",
    "\n",
    "In this code, we care calling the __getitem__ method in the list class and passing in the list (stuff) and the item we want retrieved from the list as parameters."
   ]
  },
  {
   "cell_type": "markdown",
   "id": "427819b1-284c-4d2c-8ce4-55f27e4ad6c7",
   "metadata": {},
   "source": [
    "### Definitions\n",
    "\n",
    "- Class - a template - Dog\n",
    "\n",
    "- Method or Message - A defined capability o fa class- bark()\n",
    "\n",
    "- Field or attribute- A bit of data in a class - length Object or Instance - A particular instance of a class Lassie"
   ]
  },
  {
   "cell_type": "markdown",
   "id": "0904fd59-f9db-4d93-83cc-5f04183c12d3",
   "metadata": {},
   "source": [
    "#### Terminology: **Class**\n",
    "\n",
    "Defines the `abstract characteristics` of a thing (object), including the thing's characteristics (`its attributes, fields or properties`) and the `thing's behaviors` (the things it can do, or methods, operations or features). One might say that a class is a blueprint or factory that describes `the nature of something`. \n",
    "\n",
    "For example, the class Dog would consist of traits shared by all dogs, such as breed and fur color(characteristics), and the ability to bark and sit (behaviors).\n",
    "\n",
    "\n",
    "A pattern (exemplar) of a class:\n",
    "\n",
    "    The class of Dog defines all possible dogs by listing the characteristics and behaviors they can have; the object Lassie is one particular dog, with particular versions of the characteristics. A Dog has fur; Lassie has brown-and-white fur."
   ]
  },
  {
   "cell_type": "markdown",
   "id": "897aade8-e2d7-4e4f-bb0b-dda7e2e054eb",
   "metadata": {},
   "source": [
    "#### Terminology: **Instance**\n",
    "\n",
    "One can have an instance of a class or a particular object.The instance is the actual object created at runtime.In programmer jargon, `the Lassie object is an instance of the Dog class`. The set of values of the attributes of a particular object is called its state. The object consists of state and the\n",
    "behavior that's defined in the object's class.\n",
    "\n",
    "Object and Instance are often used interchangeably"
   ]
  },
  {
   "cell_type": "markdown",
   "id": "51556279-b865-4d50-ae6c-38e1a715d568",
   "metadata": {},
   "source": [
    "#### Terminology:**Method**\n",
    "\n",
    "An object's abilities. In language, methods are verbs. \n",
    "\n",
    "Lassie, being a Dog, has the `ability to bark`. So `bark()`is one of Lassie's `methods`.\n",
    "\n",
    "She may have other methods as well, for example sit() or eat() or walk() or save_timmy(). Within the program, using a method usually affects only one particular object; all Dogs can bark, but you need only one particular dog to do the barking Method and Message are often used interchangeably."
   ]
  },
  {
   "cell_type": "markdown",
   "id": "bef3564c-f0bc-4ac7-807e-202622134ff3",
   "metadata": {},
   "source": [
    "### Class example"
   ]
  },
  {
   "cell_type": "code",
   "execution_count": 10,
   "id": "e17e46b1-17b9-4498-9adb-8177413f629e",
   "metadata": {},
   "outputs": [],
   "source": [
    "class PartyAnimal:\n",
    "    x = 0\n",
    "    \n",
    "    def party(self):\n",
    "        self.x = self.x + 1\n",
    "        print(\"So far\",self.x)\n",
    "        \n",
    "an = PartyAnimal"
   ]
  },
  {
   "cell_type": "code",
   "execution_count": 11,
   "id": "b4381a4f-13f9-4121-904e-11596998effc",
   "metadata": {},
   "outputs": [],
   "source": [
    "class PartyAnimal:\n",
    "    x = 0\n",
    "    name = ''\n",
    "    def __init__(self,nam):\n",
    "        self.name = nam\n",
    "        print(self.name,'constructed')\n",
    "        \n",
    "    def party(self):\n",
    "        self.x = self.x + 1\n",
    "        print(self.name,'party count',self.x)"
   ]
  },
  {
   "cell_type": "markdown",
   "id": "e6a95bb9-e9cc-4397-8ec0-70b9a3628538",
   "metadata": {},
   "source": [
    "#### Playing with dir() and type()\n",
    "\n",
    "**A Nerdy Wasy to Find Capabilities**\n",
    "\n",
    "- The dir() command lists capabilities\n",
    "\n",
    "- Ignore the ones with underscores-these are used by Python itself\n",
    "\n",
    "- The rest are real operations that the object can perform\n",
    "\n",
    "- It is like type()-it tells us something *about* a variable"
   ]
  },
  {
   "cell_type": "markdown",
   "id": "6df8ecac-7780-48db-bb96-258d6f6b6c93",
   "metadata": {},
   "source": [
    "### Object Lifeycle\n",
    "\n",
    "- Objects are created, used and discarded\n",
    "\n",
    "- We have special blocks of code (methods) that get called\n",
    "    - At the moment of creation (constructor)\n",
    "    - At the moment of destruction (destructor)\n",
    "\n",
    "- Constructors are used a lot\n",
    "\n",
    "- Destructors are seldom used"
   ]
  },
  {
   "cell_type": "markdown",
   "id": "8e4c16c1-fec7-4215-91a4-8d511bd4406d",
   "metadata": {},
   "source": [
    "#### Constructor\n",
    "\n",
    "- The primary purpose of the constructor is to set up some instance variables to have the proper initial values when the object is created\n",
    "\n",
    "        The constructor and destructor are optional. The constructor is typically used to set up variables.The destructor is seldom used.\n",
    "        \n",
    "- In object oriented programming, a constructor in a class is a special block of statements called when an object is created\n",
    "\n",
    "- Constructors can have additional parameters.These can be used to set up instance variables for the particular instance of the class (i.e., for the particular\n",
    "object).\n",
    "\n",
    "[\"Our First python project\"-PartyAnimal](https://books.trinket.io/pfe/14-objects.html)"
   ]
  },
  {
   "cell_type": "code",
   "execution_count": 12,
   "id": "d1377edc-8529-46d3-a78c-b63a82f57313",
   "metadata": {},
   "outputs": [
    {
     "name": "stdout",
     "output_type": "stream",
     "text": [
      "I am constructed\n",
      "So far 1\n",
      "So far 2\n",
      "So far 3\n",
      "So far 4\n",
      "So far 5\n",
      "So far 6\n",
      "So far 7\n",
      "I am destructed 7\n",
      "an contains 42\n"
     ]
    }
   ],
   "source": [
    "class PartyAnimal:\n",
    "    x = 0\n",
    "    \n",
    "    def __init__(self):\n",
    "        print('I am constructed')\n",
    "        \n",
    "    def party(self):\n",
    "        self.x = self.x + 1\n",
    "        print('So far',self.x)\n",
    "    \n",
    "    def __del__(self):\n",
    "        print('I am destructed',self.x)\n",
    "        \n",
    "        \n",
    "an = PartyAnimal()\n",
    "an.party()\n",
    "an.party()\n",
    "an.party()\n",
    "an.party()\n",
    "an.party()\n",
    "an.party()\n",
    "an.party()\n",
    "# an.party()\n",
    "# an.party()\n",
    "\n",
    "an = 42\n",
    "print('an contains',an)"
   ]
  },
  {
   "cell_type": "markdown",
   "id": "8d5e7a62-76ad-4069-803e-dde3e2c74a33",
   "metadata": {},
   "source": [
    "#### Many Instances\n",
    "\n",
    "- We can create lots of objects - the class is the template for the object\n",
    "\n",
    "- We can store each distinct object in its own variable\n",
    "\n",
    "- We call this having multiple instances of the same class\n",
    "\n",
    "- Each instance has its own copy of the instance variables"
   ]
  },
  {
   "cell_type": "code",
   "execution_count": 12,
   "id": "7b564889-51c8-4437-992f-3aac6799eb51",
   "metadata": {},
   "outputs": [],
   "source": [
    "# Classes as types:\n",
    "\n",
    "class PartyAnimal:\n",
    "    x = 0\n",
    "    \n",
    "    def party(self):\n",
    "        self.x = self.x + 1\n",
    "        print(\"So far\",self.x)\n",
    "        \n",
    "an = PartyAnimal()"
   ]
  },
  {
   "cell_type": "code",
   "execution_count": 14,
   "id": "1ddead5b-2515-4b1b-aaf1-b8e759121fd6",
   "metadata": {},
   "outputs": [
    {
     "name": "stdout",
     "output_type": "stream",
     "text": [
      "Type <class '__main__.PartyAnimal'>\n"
     ]
    }
   ],
   "source": [
    "print(\"Type\",type(an))"
   ]
  },
  {
   "cell_type": "code",
   "execution_count": 15,
   "id": "1512cf8c-e359-46e4-b209-3c88d587c29f",
   "metadata": {},
   "outputs": [
    {
     "name": "stdout",
     "output_type": "stream",
     "text": [
      "dir ['__class__', '__delattr__', '__dict__', '__dir__', '__doc__', '__eq__', '__format__', '__ge__', '__getattribute__', '__gt__', '__hash__', '__init__', '__init_subclass__', '__le__', '__lt__', '__module__', '__ne__', '__new__', '__reduce__', '__reduce_ex__', '__repr__', '__setattr__', '__sizeof__', '__str__', '__subclasshook__', '__weakref__', 'party', 'x']\n"
     ]
    }
   ],
   "source": [
    "print(\"dir\",dir(an))"
   ]
  },
  {
   "cell_type": "code",
   "execution_count": 16,
   "id": "67a296d5-3523-4162-890b-92a6271fe7ab",
   "metadata": {},
   "outputs": [
    {
     "name": "stdout",
     "output_type": "stream",
     "text": [
      "Type <class 'int'>\n"
     ]
    }
   ],
   "source": [
    "print(\"Type\",type(an.x)) "
   ]
  },
  {
   "cell_type": "code",
   "execution_count": 19,
   "id": "fc9b3fb4-8de6-4911-916a-b64cfab96c1c",
   "metadata": {},
   "outputs": [
    {
     "name": "stdout",
     "output_type": "stream",
     "text": [
      "Type <class 'method'>\n"
     ]
    }
   ],
   "source": [
    "print(\"Type\",type(an.party))"
   ]
  },
  {
   "cell_type": "code",
   "execution_count": 10,
   "id": "22dd7925-8c48-44ad-874d-53e39d96a995",
   "metadata": {},
   "outputs": [
    {
     "name": "stdout",
     "output_type": "stream",
     "text": [
      "Sally constructed\n",
      "Sally party count 1\n",
      "Jim constructed\n",
      "Jim party count 1\n",
      "Jim party count 2\n",
      "Sally party count 2\n"
     ]
    }
   ],
   "source": [
    "class PartyAnimal:\n",
    "    x = 0\n",
    "    name = \"\"\n",
    "    def __init__(self,z):\n",
    "        self.name = z\n",
    "        print(self.name,'constructed')\n",
    "        \n",
    "    def party(self):\n",
    "        self.x = self.x + 1\n",
    "        print(self.name,'party count',self.x)\n",
    "    \n",
    "    def __del__(self):\n",
    "        print('I am destructed',self.x)\n",
    "        \n",
    "        \n",
    "s = PartyAnimal(\"Sally\")\n",
    "s.party()\n",
    "# s.party()\n",
    "\n",
    "j = PartyAnimal(\"Jim\")\n",
    "j.party()\n",
    "j.party()\n",
    "s.party()\n",
    "\n",
    "# an = 42\n",
    "# print('an contains',an)"
   ]
  },
  {
   "cell_type": "markdown",
   "id": "f67146d7-c1db-48a9-873b-1e02097b31b1",
   "metadata": {},
   "source": [
    "### [Inheritance](http://www.ibiblio.org/g2swap/byteofpython/read/inheritance.html)\n",
    "\n",
    "- When we make a new class - we can `reuse` an `existing class` and `inherit all the capabilities of an existing class` and then `add our own little bit to make our new class`\n",
    "\n",
    "- Another `form` of store and reuse\n",
    "\n",
    "- `Write once - reuse many times`\n",
    "\n",
    "- The new class `(child)` has all the capabilities of the old class (parent)- `and then some more`\n",
    "\n",
    "    -”长江后浪推前浪“-the younger generation excels the older generation."
   ]
  },
  {
   "cell_type": "code",
   "execution_count": 18,
   "id": "04bb2da1-6637-4409-a632-a1447a25e00b",
   "metadata": {},
   "outputs": [],
   "source": [
    "class PartyAnimal:\n",
    "    x = 0\n",
    "    name = \"\"\n",
    "    def __init__(self,nam):\n",
    "        self.name = nam\n",
    "        print(self.name,'constructed')\n",
    "        \n",
    "    def party(self):\n",
    "        self.x = self.x + 1\n",
    "        print(self.name,'party count',self.x)\n",
    "\n",
    "        \n",
    "        \n",
    "#here we begin the new generation:\n",
    "\n",
    "class FootballFan(PartyAnimal):\n",
    "    points = 0\n",
    "    def touchdown(self):\n",
    "        self.points = self.points + 7\n",
    "        self.party()\n",
    "        print(self.name,\"points\",self.points)"
   ]
  },
  {
   "cell_type": "markdown",
   "id": "5f98181f-ecdd-4dfb-ae69-efa08e92fb80",
   "metadata": {},
   "source": [
    "**FootballFan is a class which extends PartyAnimal. It has all the capabilities of PartyAnimal and more:**"
   ]
  },
  {
   "cell_type": "code",
   "execution_count": 19,
   "id": "c0bde192-c7ff-402e-beea-18d41ecab23a",
   "metadata": {},
   "outputs": [
    {
     "name": "stdout",
     "output_type": "stream",
     "text": [
      "Sally constructed\n",
      "Sally party count 1\n"
     ]
    }
   ],
   "source": [
    "s = PartyAnimal(\"Sally\")\n",
    "s.party()"
   ]
  },
  {
   "cell_type": "code",
   "execution_count": 22,
   "id": "c8a63f1c-8c8c-4f71-8b7a-70243c458dc4",
   "metadata": {},
   "outputs": [
    {
     "name": "stdout",
     "output_type": "stream",
     "text": [
      "Jim constructed\n",
      "Jim party count 1\n",
      "Jim party count 2\n",
      "Jim points 7\n"
     ]
    }
   ],
   "source": [
    "j = FootballFan(\"Jim\")\n",
    "j.party()\n",
    "j.touchdown()"
   ]
  },
  {
   "cell_type": "code",
   "execution_count": 23,
   "id": "7d23a1b9-3c71-4428-8e39-c21609492d73",
   "metadata": {},
   "outputs": [
    {
     "name": "stdout",
     "output_type": "stream",
     "text": [
      "Kim constructed\n",
      "Kim party count 1\n"
     ]
    },
    {
     "ename": "AttributeError",
     "evalue": "'PartyAnimal' object has no attribute 'touchdown'",
     "output_type": "error",
     "traceback": [
      "\u001b[0;31m---------------------------------------------------------------------------\u001b[0m",
      "\u001b[0;31mAttributeError\u001b[0m                            Traceback (most recent call last)",
      "\u001b[0;32m<ipython-input-23-5da118385a27>\u001b[0m in \u001b[0;36m<module>\u001b[0;34m\u001b[0m\n\u001b[1;32m      2\u001b[0m \u001b[0mk\u001b[0m \u001b[0;34m=\u001b[0m \u001b[0mPartyAnimal\u001b[0m\u001b[0;34m(\u001b[0m\u001b[0;34m\"Kim\"\u001b[0m\u001b[0;34m)\u001b[0m\u001b[0;34m\u001b[0m\u001b[0;34m\u001b[0m\u001b[0m\n\u001b[1;32m      3\u001b[0m \u001b[0mk\u001b[0m\u001b[0;34m.\u001b[0m\u001b[0mparty\u001b[0m\u001b[0;34m(\u001b[0m\u001b[0;34m)\u001b[0m\u001b[0;34m\u001b[0m\u001b[0;34m\u001b[0m\u001b[0m\n\u001b[0;32m----> 4\u001b[0;31m \u001b[0mk\u001b[0m\u001b[0;34m.\u001b[0m\u001b[0mtouchdown\u001b[0m\u001b[0;34m(\u001b[0m\u001b[0;34m)\u001b[0m\u001b[0;34m\u001b[0m\u001b[0;34m\u001b[0m\u001b[0m\n\u001b[0m",
      "\u001b[0;31mAttributeError\u001b[0m: 'PartyAnimal' object has no attribute 'touchdown'"
     ]
    }
   ],
   "source": [
    "#read the error report carefully\n",
    "k = PartyAnimal(\"Kim\")\n",
    "k.party()\n",
    "k.touchdown()"
   ]
  },
  {
   "cell_type": "code",
   "execution_count": 24,
   "id": "69e46e44-3e46-4953-a502-1a1001920f92",
   "metadata": {},
   "outputs": [
    {
     "name": "stdout",
     "output_type": "stream",
     "text": [
      "Luka constructed\n"
     ]
    },
    {
     "ename": "AttributeError",
     "evalue": "'DiehardFan' object has no attribute 'FootballFan'",
     "output_type": "error",
     "traceback": [
      "\u001b[0;31m---------------------------------------------------------------------------\u001b[0m",
      "\u001b[0;31mAttributeError\u001b[0m                            Traceback (most recent call last)",
      "\u001b[0;32m<ipython-input-24-9313f3ab12ea>\u001b[0m in \u001b[0;36m<module>\u001b[0;34m\u001b[0m\n\u001b[1;32m      7\u001b[0m \u001b[0;34m\u001b[0m\u001b[0m\n\u001b[1;32m      8\u001b[0m \u001b[0ml\u001b[0m \u001b[0;34m=\u001b[0m \u001b[0mDiehardFan\u001b[0m\u001b[0;34m(\u001b[0m\u001b[0;34m\"Luka\"\u001b[0m\u001b[0;34m)\u001b[0m\u001b[0;34m\u001b[0m\u001b[0;34m\u001b[0m\u001b[0m\n\u001b[0;32m----> 9\u001b[0;31m \u001b[0ml\u001b[0m\u001b[0;34m.\u001b[0m\u001b[0mFootballFan\u001b[0m\u001b[0;34m(\u001b[0m\u001b[0;34m)\u001b[0m\u001b[0;34m\u001b[0m\u001b[0;34m\u001b[0m\u001b[0m\n\u001b[0m\u001b[1;32m     10\u001b[0m \u001b[0ml\u001b[0m\u001b[0;34m.\u001b[0m\u001b[0myear\u001b[0m\u001b[0;34m(\u001b[0m\u001b[0;34m)\u001b[0m\u001b[0;34m\u001b[0m\u001b[0;34m\u001b[0m\u001b[0m\n",
      "\u001b[0;31mAttributeError\u001b[0m: 'DiehardFan' object has no attribute 'FootballFan'"
     ]
    }
   ],
   "source": [
    "class DiehardFan(FootballFan):\n",
    "    year = 0\n",
    "    def membership(self):\n",
    "        self.year = self.year + 10086\n",
    "        self.party()\n",
    "        print(self.name,\"years\",self.year)\n",
    "\n",
    "l = DiehardFan(\"Luka\")\n",
    "l.FootballFan()\n",
    "l.year()"
   ]
  },
  {
   "cell_type": "code",
   "execution_count": null,
   "id": "150ef786-f9d5-4fe3-936a-c528dcec592c",
   "metadata": {},
   "outputs": [],
   "source": [
    "# ????"
   ]
  },
  {
   "cell_type": "markdown",
   "id": "6a7bfd5a-8006-4cfc-8e17-08c6f25783f5",
   "metadata": {},
   "source": [
    "### Definitions summary:\n",
    "\n",
    "- Class - a template\n",
    "\n",
    "- Attribute - A variable within a class\n",
    "\n",
    "- Method - A function within a class\n",
    "\n",
    "- Object - A particular instance of a class\n",
    "\n",
    "- Constructor - Code that runs when an object is created\n",
    "\n",
    "- Inheritance - The ability to extend a class to make a new class\n",
    "\n",
    "\n",
    "**Summary**\n",
    "\n",
    "- Object Oriented programming is a very structured approach to code reuse\n",
    "\n",
    "- We can group data and functionality together and create many independent instances of a class"
   ]
  },
  {
   "cell_type": "code",
   "execution_count": null,
   "id": "02475a58-0af0-429a-b94e-2b0a276ef2d6",
   "metadata": {},
   "outputs": [],
   "source": []
  },
  {
   "cell_type": "code",
   "execution_count": null,
   "id": "8ffc9ef5-ae61-45b3-b73c-50977f1d9c8c",
   "metadata": {},
   "outputs": [],
   "source": []
  },
  {
   "cell_type": "code",
   "execution_count": null,
   "id": "21add403-7fc0-46ac-ba6c-34508982c8e6",
   "metadata": {},
   "outputs": [],
   "source": []
  },
  {
   "cell_type": "code",
   "execution_count": null,
   "id": "8fa66ff9-3362-4ee0-8e57-419a71d21e16",
   "metadata": {},
   "outputs": [],
   "source": []
  },
  {
   "cell_type": "markdown",
   "id": "b2dd7c66-8f45-410c-981e-eaf04bba4edb",
   "metadata": {},
   "source": [
    "https://realpython.com/python-super/"
   ]
  },
  {
   "cell_type": "code",
   "execution_count": null,
   "id": "b1b75673-f286-4072-a04a-187ef279ccae",
   "metadata": {},
   "outputs": [],
   "source": []
  }
 ],
 "metadata": {
  "kernelspec": {
   "display_name": "Python [conda env:p9] *",
   "language": "python",
   "name": "conda-env-p9-py"
  },
  "language_info": {
   "codemirror_mode": {
    "name": "ipython",
    "version": 3
   },
   "file_extension": ".py",
   "mimetype": "text/x-python",
   "name": "python",
   "nbconvert_exporter": "python",
   "pygments_lexer": "ipython3",
   "version": "3.9.5"
  }
 },
 "nbformat": 4,
 "nbformat_minor": 5
}
