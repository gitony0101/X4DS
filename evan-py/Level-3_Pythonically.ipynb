{
 "cells": [
  {
   "cell_type": "markdown",
   "id": "e93d4b93-ec48-4eb2-9a4d-bf081cb05ced",
   "metadata": {},
   "source": [
    "# Notes from study\n",
    "\n",
    "What I got during coding"
   ]
  },
  {
   "cell_type": "markdown",
   "id": "6d234183",
   "metadata": {},
   "source": [
    "## Global and Local Variables/Scopes/Spaces\n",
    "There are two types of variables: \n",
    "\n",
    "- global variables and local variables.\n",
    "\n",
    "Python supports global variables (usable in the entire program) and local variables.\n",
    "\n",
    "By default, all variables declared in a function are local variables. To access a global variable inside a function, it’s required to explicitly define ‘global variable’.\n",
    "\n",
    "\n",
    "A global variable can be reached anywhere in the code.\n",
    "\n",
    "A local variable only in the **scope**."
   ]
  },
  {
   "cell_type": "markdown",
   "id": "04752a25-e47b-437d-a240-a73eaf645652",
   "metadata": {},
   "source": [
    "### Local variables\n",
    "\n",
    "Local variables can only be reached in their scope.\n",
    "The example below has two local variables: x and y."
   ]
  },
  {
   "cell_type": "code",
   "execution_count": 6,
   "id": "888a44ef-88b9-4d6f-a41d-2271a22a92d5",
   "metadata": {},
   "outputs": [
    {
     "data": {
      "text/plain": [
       "14"
      ]
     },
     "execution_count": 6,
     "metadata": {},
     "output_type": "execute_result"
    }
   ],
   "source": [
    "def sum(x,y):\n",
    "    sum = x + y\n",
    "    return sum\n",
    "\n",
    "sum(8,6)"
   ]
  },
  {
   "cell_type": "markdown",
   "id": "614778f5-930b-48dd-8ae1-fb7a26093b15",
   "metadata": {},
   "source": [
    "Obviously, local variables x or y can not be used outside their scope,which will not work:"
   ]
  },
  {
   "cell_type": "code",
   "execution_count": 24,
   "id": "cc6e69ff-baad-41b1-b64b-e078505d1314",
   "metadata": {},
   "outputs": [
    {
     "name": "stdout",
     "output_type": "stream",
     "text": [
      "8\n"
     ]
    }
   ],
   "source": [
    "print(x)"
   ]
  },
  {
   "cell_type": "markdown",
   "id": "126c487b-0a3a-48ca-994d-e7012d26c66f",
   "metadata": {},
   "source": [
    "### Global variables\n",
    "\n",
    "However, if it is the global variable.\n",
    "\n",
    "It can be used eanywhere:\n",
    "\n",
    "\n"
   ]
  },
  {
   "cell_type": "code",
   "execution_count": 25,
   "id": "cc0d9013-e4d1-40d9-9e51-dc26ef7a6450",
   "metadata": {},
   "outputs": [
    {
     "name": "stdout",
     "output_type": "stream",
     "text": [
      "14\n",
      "8\n",
      "6\n"
     ]
    }
   ],
   "source": [
    "x = 8\n",
    "y = 6\n",
    "\n",
    "def afunc():\n",
    "    global x,y\n",
    "    print(x + y)\n",
    "\n",
    "afunc()\n",
    "print(x)\n",
    "print(y)"
   ]
  },
  {
   "cell_type": "code",
   "execution_count": null,
   "id": "94664df6-cf78-499b-847b-2c9aa85e0dea",
   "metadata": {},
   "outputs": [],
   "source": []
  },
  {
   "cell_type": "code",
   "execution_count": 26,
   "id": "70a47b23-ee4b-4ff2-a23f-c2dac4ddda4d",
   "metadata": {},
   "outputs": [
    {
     "name": "stdout",
     "output_type": "stream",
     "text": [
      "global\n"
     ]
    }
   ],
   "source": [
    "# you can find the global and local varaiables in this func:\n",
    "def spam():\n",
    "    eggs = 'spam'\n",
    "def spam_global():\n",
    "    global eggs\n",
    "    eggs = 'spam'\n",
    "\n",
    "eggs = 'global'\n",
    "spam()\n",
    "print(eggs)"
   ]
  },
  {
   "cell_type": "code",
   "execution_count": 27,
   "id": "d28e61a0-d767-4498-9331-b4bcc34d51c2",
   "metadata": {},
   "outputs": [
    {
     "name": "stdout",
     "output_type": "stream",
     "text": [
      "spam\n"
     ]
    }
   ],
   "source": [
    "spam_global()\n",
    "print(eggs)"
   ]
  },
  {
   "cell_type": "markdown",
   "id": "5d444cb8",
   "metadata": {},
   "source": [
    "### LEGB Rule - Scope and its Resolution in Python\n",
    "\n",
    "`Namespaces` : A namespace is a **container** where names are mapped to objects, they are used to avoid confusions in cases where same names exist in different namespaces. They are created by modules, functions, classes etc.\n",
    "\n",
    "**`Scope`** :Variables can only reach the area in which they are defined, which is called scope. Think of it as the area of code where variables can be used.A scope defines the hierarchical order in which the namespaces have to be searched in order to obtain the mappings of name-to-object(variables). \n",
    "\n",
    "- It is a context in which variables exist and from which they are referenced. \n",
    "\n",
    "- It defines the accessibility and the lifetime of a variable. "
   ]
  },
  {
   "cell_type": "code",
   "execution_count": 32,
   "id": "4adba4b5",
   "metadata": {},
   "outputs": [
    {
     "name": "stdout",
     "output_type": "stream",
     "text": [
      "Inner pi variable\n",
      "Outer pi variable\n"
     ]
    }
   ],
   "source": [
    "pi = 'Outer pi variable'\n",
    "\n",
    "\n",
    "def print_pi():\n",
    "    pi = 'Inner pi variable'\n",
    "    print(pi)\n",
    "\n",
    "\n",
    "print_pi()\n",
    "\n",
    "print(pi)"
   ]
  },
  {
   "cell_type": "markdown",
   "id": "2751f61c",
   "metadata": {},
   "source": [
    "From the above example, we can guess that there definitely is a rule which is followed, in order in decide from which namespace a variable has to be picked.\n",
    " \n",
    "**Scope resolution via LEGB rule :**\n",
    "    \n",
    "In Python, the LEGB rule is used to decide the order in which the namespaces are to be searched for scope resolution.\n",
    "The scopes are listed below in terms of hierarchy(highest to lowest/narrowest to broadest):\n",
    "\n",
    "- `Local(L)`: Defined inside function/class\n",
    "\n",
    "- `Enclosed(E)`: Defined inside enclosing functions(Nested function concept)\n",
    "\n",
    "- `Global(G)`: Defined at the uppermost level\n",
    "\n",
    "- `Built-in(B)`: Reserved names in Python builtin modules\n",
    "\n",
    "**locals -> enclosing function -> globals -> builtins**\n",
    "\n",
    "\n",
    "<img src=https://media.geeksforgeeks.org/wp-content/uploads/ScopeResolution-1-300x260.png>\n",
    "\n",
    "<img src=https://d2h0cx97tjks2p.cloudfront.net/blogs/wp-content/uploads/sites/2/2018/02/Scopes-01.jpg>"
   ]
  },
  {
   "cell_type": "markdown",
   "id": "875d8b13",
   "metadata": {},
   "source": [
    "#### Local Scope \n",
    "\n",
    "Local scope refers to variables defined in current function.\n",
    "\n",
    "Always, a function will first look up for a variable name in its local scope. \n",
    "\n",
    "Only if it does not find it there, the outer scopes are checked."
   ]
  },
  {
   "cell_type": "code",
   "execution_count": 10,
   "id": "b88a771e",
   "metadata": {},
   "outputs": [
    {
     "name": "stdout",
     "output_type": "stream",
     "text": [
      "Inner pi variable\n"
     ]
    }
   ],
   "source": [
    "# local scope\n",
    "\n",
    "pi = 'Global pi variable' # yeah I bulit a global variable outside the func\n",
    "\n",
    "def inner():\n",
    "    pi = 'Inner pi variable' # yeah here is the pi inside the func\n",
    "    print(pi)\n",
    "    \n",
    "#so, what will we get? Let's rock!\n",
    "inner()"
   ]
  },
  {
   "cell_type": "markdown",
   "id": "021307cf",
   "metadata": {},
   "source": [
    "On running the above program, the execution of the **inner function** prints the value of its **local(highest priority in LEGB rule) variable pi** because it is defined and available in the **Local Scope**."
   ]
  },
  {
   "cell_type": "markdown",
   "id": "288409a6",
   "metadata": {},
   "source": [
    "#### Local and Global Scopes\n",
    "    \n",
    "If a variable is not defined in local scope, then, it is checked for in the higher scope, in this case, the global scope."
   ]
  },
  {
   "cell_type": "code",
   "execution_count": 13,
   "id": "38d61c53",
   "metadata": {},
   "outputs": [
    {
     "name": "stdout",
     "output_type": "stream",
     "text": [
      "Inner pi variable\n",
      "Global pi variable\n"
     ]
    }
   ],
   "source": [
    "# global scope\n",
    "\n",
    "pi = 'Global pi variable'  # yeah I bulit a global variable outside the func\n",
    "\n",
    "\n",
    "def inner():\n",
    "    pi = 'Inner pi variable' # yeah here is the pi inside the func\n",
    "    print(pi)\n",
    "\n",
    "#so, what will we get? Let's rock!\n",
    "\n",
    "inner()\n",
    "\n",
    "print(pi)"
   ]
  },
  {
   "cell_type": "markdown",
   "id": "25c7f79e",
   "metadata": {},
   "source": [
    "Therefore, as expected the program prints out the value in the local scope on execution of inner().\n",
    "\n",
    "It is because it is defined inside the function and that is the first place where the variable is looked up.\n",
    "\n",
    "The pi value in global scope is printed on execution of print(pi) on line."
   ]
  },
  {
   "cell_type": "markdown",
   "id": "7431a97a",
   "metadata": {},
   "source": [
    "#### Local, Enclosed and Global Scopes\n",
    "\n",
    "For the `enclosed scope`, we need to define `an outer function` **enclosing** the `inner function`, comment out the local pi variable of inner function and refer to pi using the nonlocal keyword."
   ]
  },
  {
   "cell_type": "code",
   "execution_count": 1,
   "id": "674c21da",
   "metadata": {},
   "outputs": [],
   "source": [
    "# Enclosed Scope\n",
    "pi = 'Global pi variable'\n",
    "\n",
    "\n",
    "def outer():\n",
    "    pi = 'Outer pi variable'\n",
    "\n",
    "    def inner():\n",
    "        # why? pi = 'inner pi variable'\n",
    "        nonlocal pi\n",
    "        print(pi)\n",
    "    inner()"
   ]
  },
  {
   "cell_type": "code",
   "execution_count": 2,
   "id": "91458059",
   "metadata": {},
   "outputs": [
    {
     "name": "stdout",
     "output_type": "stream",
     "text": [
      "Outer pi variable\n",
      "Global pi variable\n"
     ]
    }
   ],
   "source": [
    "outer()\n",
    "print(pi)"
   ]
  },
  {
   "cell_type": "markdown",
   "id": "3a5ea6a7",
   "metadata": {},
   "source": [
    "When `outer()` is executed, `inner()` and consequently the print functions are executed, which print the value the enclosed pi variable.\n",
    "\n",
    "The statement in line 10 looks for variable in local scope of inner, but does not find it there. Since pi is referred with the nonlocal keyword, it means that pi needs to be accessed from the outer function(i.e the outer scope). \n",
    "\n",
    "\n",
    "To summarize, the pi variable is not found in local scope, so the higher scopes are looked up. It is found in both enclosed and global scopes. But as per the LEGB hierarchy, the enclosed scope variable is considered even though we have one defined in the global scope.\n",
    " \n",
    "**Local,Enclosed,Global and Built-in Scopes :**\n",
    "\n",
    "The final check can be done by `importing pi from math` module \n",
    "\n",
    "and commenting the global, enclosed and local pi variables as shown below:"
   ]
  },
  {
   "cell_type": "code",
   "execution_count": 3,
   "id": "1df5d490",
   "metadata": {},
   "outputs": [
    {
     "name": "stdout",
     "output_type": "stream",
     "text": [
      "3.141592653589793\n"
     ]
    }
   ],
   "source": [
    "# builtin scope\n",
    "from math import pi\n",
    "\n",
    "# pi ='global pi variable'\n",
    "\n",
    "def outer():\n",
    "    # pi = 'outer pi variable'\n",
    "    def inner():\n",
    "        ## pi = 'inner pi variable'\n",
    "        print(pi)\n",
    "    inner()\n",
    "    \n",
    "outer()"
   ]
  },
  {
   "cell_type": "code",
   "execution_count": null,
   "id": "b74ba74e",
   "metadata": {},
   "outputs": [],
   "source": []
  },
  {
   "cell_type": "markdown",
   "id": "2f6ba72d",
   "metadata": {},
   "source": [
    "### Closure\n",
    "\n",
    "- Know How Closures Interact with Variable Scope \n",
    "\n",
    "Say that I want to sort a list of numbers but prioritize one group of numbers to come first. This pattern is useful when you’re rendering a user interface and want important messages or exceptional events to be displayed before everything else.\n",
    "\n",
    "A common way to do this is to pass a helper function as the key argument to a list’s `sort method`. The helper’s return value will be used as the value for sorting each item in the list. The helper can check whether the given item is in the important group and can vary the sorting value accordingly:"
   ]
  },
  {
   "cell_type": "code",
   "execution_count": 6,
   "id": "3bf51651",
   "metadata": {},
   "outputs": [],
   "source": [
    "def sort_priority(values,group):\n",
    "    def helper(x):\n",
    "        if x in group:\n",
    "            return(0,x)\n",
    "        return(1,x)\n",
    "    values.sort(key=helper)"
   ]
  },
  {
   "cell_type": "code",
   "execution_count": 7,
   "id": "13d08288",
   "metadata": {},
   "outputs": [
    {
     "name": "stdout",
     "output_type": "stream",
     "text": [
      "[2, 3, 5, 7, 1, 4, 6, 8]\n"
     ]
    }
   ],
   "source": [
    "# try simple inputs:\n",
    "num = [8, 3, 1, 2, 5, 4, 7, 6]\n",
    "group = {2,3,5,7}\n",
    "sort_priority(num,group)\n",
    "\n",
    "print(num)"
   ]
  },
  {
   "cell_type": "markdown",
   "id": "ee63f394",
   "metadata": {},
   "source": [
    "There are three reasons this function operates as expected:\n",
    "\n",
    "Python supports **closures**\n",
    "\n",
    "- that is, functions that refer to variables from the scope in which they were defined. This is why the helper function is able to access the group argument for sort_priority \n",
    "\n",
    "\n",
    "- Functions are firstclass objects in Python, which means you can refer to them directly, assign them to variables, pass them as arguments to other functions, compare them in expressions and if statements, and so on. This is how the sort method can accept a closure function as the key argument\n",
    "\n",
    "\n",
    "- Python has specific rules for **comparing sequences (including tuples)**. \n",
    "\n",
    "\n",
    "    - It first compares items at index zero; then, if those are equal, it compares items at index one; if they are still equal, it compares items at index two, and so on. \n",
    "    \n",
    "    This is why the return value from the helper closure causes the sort order to have two distinct groups.\n",
    "\n",
    "It‘d be nice if this function returned whether higher-priority items were seen at all so the user interface code can act accordingly. Add ing such behavior seems straightforward. \n",
    "\n",
    "There's already a closure function for deciding which group each number is in. Why not also use the closure to flip a flag when high-priority items are seen? Then the function can return the flag value after it's been modified by the closure."
   ]
  },
  {
   "cell_type": "code",
   "execution_count": 8,
   "id": "8c43682e-e616-4a47-9368-3895a475a8dc",
   "metadata": {},
   "outputs": [],
   "source": [
    "def sort_priority2(num,group):\n",
    "    found = False\n",
    "    def helper(x):\n",
    "        if x in group:\n",
    "            found = True # simple??\n",
    "            return(0,x)\n",
    "        return(1,x)\n",
    "    num.sort(key = helper)\n",
    "    return found"
   ]
  },
  {
   "cell_type": "code",
   "execution_count": 10,
   "id": "34a9a81b-95e9-4176-9664-e3fb977825b5",
   "metadata": {},
   "outputs": [
    {
     "name": "stdout",
     "output_type": "stream",
     "text": [
      "Found : False , the numbers are : [2, 3, 5, 7, 1, 4, 6, 8]\n"
     ]
    }
   ],
   "source": [
    "found = sort_priority2(num,group)\n",
    "print('Found :',found,\", the numbers are :\",num)"
   ]
  },
  {
   "cell_type": "markdown",
   "id": "074eca16",
   "metadata": {},
   "source": [
    "The sorted results are correct, which means items from group were definitely found in numbers. \n",
    "\n",
    "Yet the found result returned by the function is False when it should be True.\n",
    "\n",
    "**How could this happen?** When you reference a variable in an expression, the Python  interpreter traverses the scope to **resolve the reference in this order:**  \n",
    "\n",
    "    1. The current function’s scope.\n",
    "    \n",
    "    2. Any enclosing scopes (such as other containing functions).\n",
    "    \n",
    "    3. The scope of the module that contains the code (also called the global scope).\n",
    "    \n",
    "    4. The built-in scope (that contains functions like len and str)."
   ]
  },
  {
   "cell_type": "code",
   "execution_count": null,
   "id": "f2509b75-61cf-49ed-9218-e6ebd7c0ffb4",
   "metadata": {},
   "outputs": [],
   "source": []
  },
  {
   "cell_type": "markdown",
   "id": "62052852-fc6a-4de4-8a40-b184a8f80a70",
   "metadata": {},
   "source": [
    "## Returns and Exceptions/Errors?:\n",
    "\n",
    "When using `def` to bulid func, return is to assign what value will output.\n",
    "\n",
    "While it is often to return where the bug is when coding funcs,so we need to code the exception funcs-Exceptions:\n",
    "\n",
    "**Since WITH the Exception Functions, the func will run after solving the exceptions.However, if not, the code will not be excuted and the exception will be transferred to the outer funcs.**\n",
    "\n",
    "- **So, that's where we want to discuss:**\n",
    "\n",
    "Item 20: **Prefer Raising Exceptions to Returning None**\n",
    "\n",
    "When writing utility functions, there’s a draw for Python programmers to give special meaning to the return value of None. It seems to make sense in some cases. \n",
    "\n",
    "\n",
    "There is a cute part that name the `None` as special return meaning.In some cases, it seems to be reasonable.\n",
    "\n",
    "\n",
    "For example, say I want a helper function that divides one number by another. \n",
    "\n",
    "In the case of dividing by zero, returning None seems natural because the result is undefined:"
   ]
  },
  {
   "cell_type": "code",
   "execution_count": 4,
   "id": "ac098b98-97ae-4ef9-9998-925ea8484426",
   "metadata": {},
   "outputs": [],
   "source": [
    "def careful_divide(a,b):\n",
    "    try:\n",
    "        return a / b\n",
    "    except ZeroDivisionError:\n",
    "        return None\n",
    "# Code using this function can interpret the return value accordingly:"
   ]
  },
  {
   "cell_type": "code",
   "execution_count": 5,
   "id": "4c903e57-1f20-4a7e-bd0b-455a064674e7",
   "metadata": {},
   "outputs": [
    {
     "name": "stdout",
     "output_type": "stream",
     "text": [
      "Invalid inputs\n"
     ]
    }
   ],
   "source": [
    "x,y = 1,0\n",
    "result = careful_divide(x,y)\n",
    "if result is None:\n",
    "    print('Invalid inputs')"
   ]
  },
  {
   "cell_type": "code",
   "execution_count": 6,
   "id": "c96b02e9-43e5-4199-aa9c-d4b34a51d2b9",
   "metadata": {},
   "outputs": [
    {
     "name": "stdout",
     "output_type": "stream",
     "text": [
      "invalid inputs\n"
     ]
    }
   ],
   "source": [
    "# Go on:\n",
    "x,y = 0,5\n",
    "result = careful_divide(x,y)\n",
    "if not result:\n",
    "    print('invalid inputs')"
   ]
  },
  {
   "cell_type": "markdown",
   "id": "ec921202-0c83-4252-ade6-56af9fbcdee3",
   "metadata": {},
   "source": [
    "This misinterpretation of a False-equivalent return value is a common mistake in Python code when `None` has special meaning. \n",
    "\n",
    "This is why returning `None` from a function like careful_divide is error prone. \n",
    "\n",
    "There are two ways to reduce the chance of such errors:\n",
    "\n",
    "- The first way is to split the return value into a two-tuple (see Item 19: “Never Unpack More Than Three Variables When Functions Return Multiple Values” for background). The first part of the tuple indicates that the operation was a success or failure. \n",
    "\n",
    "- The second part is the actual result that was computed:"
   ]
  },
  {
   "cell_type": "code",
   "execution_count": 7,
   "id": "e1e26955-e0cc-443b-babe-761bfcde37c5",
   "metadata": {},
   "outputs": [],
   "source": [
    "def careful_divide(a,b):\n",
    "    try:\n",
    "        return True, a / b\n",
    "    except ZeroDivisionError:\n",
    "        return False, None"
   ]
  },
  {
   "cell_type": "markdown",
   "id": "700045d3-df40-4a62-9319-bef7ca2b4b52",
   "metadata": {},
   "source": [
    "Callers of this function have to unpack the tuple. \n",
    "\n",
    "That forces them to consider the status part of the tuple instead of just looking at the result of division:"
   ]
  },
  {
   "cell_type": "code",
   "execution_count": null,
   "id": "353f6c8d-55e6-4c1f-9d18-a17eb6d13e46",
   "metadata": {},
   "outputs": [],
   "source": [
    "success, result = careful_divide(x,y)\n",
    "if not success:\n",
    "    print('Invalid inputs')"
   ]
  },
  {
   "cell_type": "markdown",
   "id": "971f80a5-c0a9-4075-b1c7-aa3dc551c7e2",
   "metadata": {},
   "source": [
    "The problem is that callers can easily ignore the first part of the tuple (using the underscore variable name, a Python convention for unused variables). \n",
    "\n",
    "The resulting code doesn’t look wrong at first glance, but this can be just as error prone as returning None:"
   ]
  },
  {
   "cell_type": "code",
   "execution_count": null,
   "id": "cebe636b-f03f-4f0d-895e-e54e996caebd",
   "metadata": {},
   "outputs": [],
   "source": [
    "_, result = careful_divide(x,y):\n",
    "    if not result:\n",
    "        print('Invalid input')"
   ]
  },
  {
   "cell_type": "markdown",
   "id": "f613ad6f-4590-454f-bc1f-88017be4ea0c",
   "metadata": {},
   "source": [
    "The second, better way to reduce these errors is to never return `None` for special cases.\n",
    "\n",
    "Instead, raise an Exception up to the caller and have the caller deal with it. \n",
    "\n",
    "Here, I turn a ZeroDivisionError into a ValueError to indicate to the caller that the input values are bad:"
   ]
  },
  {
   "cell_type": "code",
   "execution_count": 8,
   "id": "e04e56cf-c723-4b4e-a099-88a7e913f696",
   "metadata": {},
   "outputs": [],
   "source": [
    "def careful_divide(a,b):\n",
    "    try:\n",
    "        return a /b\n",
    "    except ZeroDivisionError as e:\n",
    "        raise ValueError('Invalid inputs')"
   ]
  },
  {
   "cell_type": "markdown",
   "id": "a1dad1cd-b709-4537-bc1b-d2ea3bcf176f",
   "metadata": {},
   "source": [
    "The caller no longer requires a condition on the return value of the function. \n",
    "\n",
    "Instead, it can assume that the return value is always valid and use the results immediately in the else block after try (see Item 65: “Take Advantage of Each Block in try/except/else/ finally” for details):\n"
   ]
  },
  {
   "cell_type": "code",
   "execution_count": 21,
   "id": "cbe7e727-3cfd-41aa-ac0f-d6cc85fcefc0",
   "metadata": {},
   "outputs": [
    {
     "name": "stdout",
     "output_type": "stream",
     "text": [
      "Result is 0.80\n"
     ]
    }
   ],
   "source": [
    "x,y = 4,5\n",
    "try:\n",
    "    result = careful_divide(x,y)\n",
    "except ValueError:\n",
    "    print('Invalid inputs')\n",
    "else:\n",
    "    print('Result is %.2f' % result)"
   ]
  },
  {
   "cell_type": "markdown",
   "id": "fb0761d4-1aa8-40cf-a4f4-a1725d03d48f",
   "metadata": {},
   "source": [
    "### [User-defined Exceptions](https://www.geeksforgeeks.org/user-defined-exceptions-python-examples/)\n",
    "\n",
    "Python throws errors and exceptions, when there is a code gone wrong, which may cause program to stop abruptly. \n",
    "\n",
    "Python also provides exception handling method with the help of try-except.\n",
    "\n",
    "Some of the standard exceptions which are most frequent include IndexError, ImportError, IOError, ZeroDivisionError, TypeError and FileNotFoundError. A user can create his own error using exception class.\n",
    "\n",
    "| Type of Exceptions         |                |\n",
    "| ----------------- | -------------- |\n",
    "| OSError           | Open files error   |\n",
    "| TypeError         | type error     |\n",
    "| NameError         | yeah,name mistakes      |\n",
    "| FileNotFoundError | where is the file??     |\n",
    "| Exception         | father of all exceptions |\n",
    "\n",
    "\n",
    "#### **Creating User-defined Exception**\n",
    "\n",
    "Programmers may name their own exceptions by creating a new exception class. \n",
    "\n",
    "Exceptions need to be derived from the Exception class, either directly or indirectly. Although not mandatory, most of the exceptions are named as names that end in “Error” similar to naming of the standard exceptions in python. For example:\n"
   ]
  },
  {
   "cell_type": "code",
   "execution_count": 25,
   "id": "c3bb0f34-764f-48a0-a39c-def1303609fc",
   "metadata": {},
   "outputs": [
    {
     "name": "stdout",
     "output_type": "stream",
     "text": [
      "A new Exception occured:  6\n"
     ]
    }
   ],
   "source": [
    "# A python program to create user-defined exception\n",
    "  \n",
    "# class MyError is derived from super class Exception\n",
    "\n",
    "class MyError(Exception): #(Exception:bulit-ins)\n",
    "    \n",
    "    # Constructor or Initializer\n",
    "    def __init__(self,value):\n",
    "        self.value = value\n",
    "        \n",
    "    # __str__ is to print() the value\n",
    "    def __str__(self):\n",
    "        return(repr(self.value))\n",
    "try:\n",
    "    raise(MyError(3*2))\n",
    "    \n",
    "# Valueof Exception is stored in error\n",
    "\n",
    "except MyError as error:\n",
    "    print('A new Exception occured: ', error.value)\n"
   ]
  },
  {
   "cell_type": "markdown",
   "id": "36134253-7ef7-48cc-8130-7faa0200516b",
   "metadata": {},
   "source": [
    "**Notes: __init__, self ,take care！**"
   ]
  },
  {
   "cell_type": "code",
   "execution_count": 26,
   "id": "dacf5abc-e2da-45b6-a043-d9c186e5a656",
   "metadata": {},
   "outputs": [
    {
     "name": "stdout",
     "output_type": "stream",
     "text": [
      "Help on class Exception in module builtins:\n",
      "\n",
      "class Exception(BaseException)\n",
      " |  Common base class for all non-exit exceptions.\n",
      " |  \n",
      " |  Method resolution order:\n",
      " |      Exception\n",
      " |      BaseException\n",
      " |      object\n",
      " |  \n",
      " |  Built-in subclasses:\n",
      " |      ArithmeticError\n",
      " |      AssertionError\n",
      " |      AttributeError\n",
      " |      BufferError\n",
      " |      ... and 15 other subclasses\n",
      " |  \n",
      " |  Methods defined here:\n",
      " |  \n",
      " |  __init__(self, /, *args, **kwargs)\n",
      " |      Initialize self.  See help(type(self)) for accurate signature.\n",
      " |  \n",
      " |  ----------------------------------------------------------------------\n",
      " |  Static methods defined here:\n",
      " |  \n",
      " |  __new__(*args, **kwargs) from builtins.type\n",
      " |      Create and return a new object.  See help(type) for accurate signature.\n",
      " |  \n",
      " |  ----------------------------------------------------------------------\n",
      " |  Methods inherited from BaseException:\n",
      " |  \n",
      " |  __delattr__(self, name, /)\n",
      " |      Implement delattr(self, name).\n",
      " |  \n",
      " |  __getattribute__(self, name, /)\n",
      " |      Return getattr(self, name).\n",
      " |  \n",
      " |  __reduce__(...)\n",
      " |      Helper for pickle.\n",
      " |  \n",
      " |  __repr__(self, /)\n",
      " |      Return repr(self).\n",
      " |  \n",
      " |  __setattr__(self, name, value, /)\n",
      " |      Implement setattr(self, name, value).\n",
      " |  \n",
      " |  __setstate__(...)\n",
      " |  \n",
      " |  __str__(self, /)\n",
      " |      Return str(self).\n",
      " |  \n",
      " |  with_traceback(...)\n",
      " |      Exception.with_traceback(tb) --\n",
      " |      set self.__traceback__ to tb and return self.\n",
      " |  \n",
      " |  ----------------------------------------------------------------------\n",
      " |  Data descriptors inherited from BaseException:\n",
      " |  \n",
      " |  __cause__\n",
      " |      exception cause\n",
      " |  \n",
      " |  __context__\n",
      " |      exception context\n",
      " |  \n",
      " |  __dict__\n",
      " |  \n",
      " |  __suppress_context__\n",
      " |  \n",
      " |  __traceback__\n",
      " |  \n",
      " |  args\n",
      "\n"
     ]
    }
   ],
   "source": [
    "# get to know the Exception class:\n",
    "help(Exception)"
   ]
  },
  {
   "cell_type": "markdown",
   "id": "f7bc0b29-ebc8-4ab9-917d-2ff7b7c03ad4",
   "metadata": {},
   "source": [
    "#### Deriving Error from Super Class Exception\n",
    "\n",
    "Super class Exceptions are created when a module needs to handle several distinct errors. \n",
    "\n",
    "One of the common way of doing this is to create a base class for exceptions defined by that module. \n",
    "\n",
    "Further, various `subclasses` are defined to create specific exception classes for different error conditions."
   ]
  },
  {
   "cell_type": "code",
   "execution_count": null,
   "id": "4bd9f690-0e53-45fb-b6d0-6492249240fc",
   "metadata": {},
   "outputs": [],
   "source": [
    "# class Error is derived from supper class Exception"
   ]
  },
  {
   "cell_type": "code",
   "execution_count": null,
   "id": "618b1f7e-ebce-43bc-914b-a6dec47928c6",
   "metadata": {},
   "outputs": [],
   "source": []
  },
  {
   "cell_type": "markdown",
   "id": "cadde913-0ee6-427e-a7d8-ecd3dc50742c",
   "metadata": {},
   "source": [
    "**here you need to know [super and subclass](https://realpython.com/python-super/)**"
   ]
  },
  {
   "cell_type": "code",
   "execution_count": null,
   "id": "86727dd0-a0ef-43ad-8fee-2f9da10070ca",
   "metadata": {},
   "outputs": [],
   "source": []
  },
  {
   "cell_type": "code",
   "execution_count": null,
   "id": "d20f86c8-2d46-4226-8738-11372615c28b",
   "metadata": {},
   "outputs": [],
   "source": []
  },
  {
   "cell_type": "markdown",
   "id": "a1edbb47-d68f-4b6e-ad92-848f80e819be",
   "metadata": {},
   "source": [
    "## `Single Underscore _` and `Double underscore __`\n",
    "\n",
    "\n",
    "Following are different places where Single/Double Underscore is used in Python:\n",
    "\n",
    "- Single Underscore:\n",
    "\n",
    "     - In Interpreter\n",
    "         - _ returns the value of last executed expression value in Python\n",
    "         \n",
    "         - For ignoring values\n",
    "         \n",
    "     - After a name\n",
    "     - Before a name\n",
    "\n",
    "\n",
    " - Double Underscore:\n",
    " \n",
    "      -  __leading_double_underscore\n",
    "      -  __before_after__\n",
    "      \n",
    " \n",
    " - Separating Digits Of Numbers"
   ]
  },
  {
   "cell_type": "markdown",
   "id": "3110f1c2-3677-4b7a-abc8-6907b69d81af",
   "metadata": {},
   "source": [
    "### SingleSingle Underscore  _\n",
    "\n",
    "#### In Interpreter\n",
    "\n",
    "    _ returns the value of last executed expression value in Python\n",
    "    For ignoring values"
   ]
  },
  {
   "cell_type": "code",
   "execution_count": 23,
   "id": "96181392-44b2-4188-a39a-043b019f58cf",
   "metadata": {},
   "outputs": [
    {
     "data": {
      "text/plain": [
       "20"
      ]
     },
     "execution_count": 23,
     "metadata": {},
     "output_type": "execute_result"
    }
   ],
   "source": [
    "a = 10\n",
    "b = 10\n",
    "a + b"
   ]
  },
  {
   "cell_type": "code",
   "execution_count": 24,
   "id": "ad98f184-4ff8-48af-916d-9a6dd3df336c",
   "metadata": {},
   "outputs": [
    {
     "data": {
      "text/plain": [
       "5"
      ]
     },
     "execution_count": 24,
     "metadata": {},
     "output_type": "execute_result"
    }
   ],
   "source": [
    "_ #it stores the last return"
   ]
  },
  {
   "cell_type": "code",
   "execution_count": 25,
   "id": "34160030-b3b3-4a9a-b1a4-2fdb5fbce7b3",
   "metadata": {},
   "outputs": [
    {
     "data": {
      "text/plain": [
       "10"
      ]
     },
     "execution_count": 25,
     "metadata": {},
     "output_type": "execute_result"
    }
   ],
   "source": [
    "_ * 2"
   ]
  },
  {
   "cell_type": "code",
   "execution_count": 26,
   "id": "4e4b57fe-b7bf-483e-8398-c7dfe89dc9ed",
   "metadata": {},
   "outputs": [
    {
     "data": {
      "text/plain": [
       "5"
      ]
     },
     "execution_count": 26,
     "metadata": {},
     "output_type": "execute_result"
    }
   ],
   "source": [
    "_ # now the return changes"
   ]
  },
  {
   "cell_type": "code",
   "execution_count": 27,
   "id": "6316a204-bd8a-4eed-acae-8b5330add55a",
   "metadata": {},
   "outputs": [
    {
     "data": {
      "text/plain": [
       "25"
      ]
     },
     "execution_count": 27,
     "metadata": {},
     "output_type": "execute_result"
    }
   ],
   "source": [
    "_ ** 2"
   ]
  },
  {
   "cell_type": "markdown",
   "id": "4491a530-5bca-4aad-808c-ad08ffb1da8e",
   "metadata": {},
   "source": [
    "**For ignoring values:**\n",
    "\n",
    "Multiple time we do not want return values at that time assign those values to Underscore. \n",
    "\n",
    "It used as throwaway variable."
   ]
  },
  {
   "cell_type": "code",
   "execution_count": 54,
   "id": "1d3e15c7-eee6-4885-9410-fd4bead41d8b",
   "metadata": {},
   "outputs": [
    {
     "name": "stdout",
     "output_type": "stream",
     "text": [
      "test\n",
      "test\n",
      "test\n",
      "test\n",
      "test\n",
      "test\n"
     ]
    }
   ],
   "source": [
    "# Ignore a value of specific location/index\n",
    "for _ in range(6):\n",
    "    print(\"test\")"
   ]
  },
  {
   "cell_type": "code",
   "execution_count": 55,
   "id": "07549fc2-0394-4287-8a99-8218a7381d4c",
   "metadata": {},
   "outputs": [
    {
     "name": "stdout",
     "output_type": "stream",
     "text": [
      "Python\n",
      "JS\n",
      "PHP\n",
      "Java\n"
     ]
    }
   ],
   "source": [
    "languages = [\"Python\", \"JS\", \"PHP\", \"Java\"]\n",
    "for _ in languages:\n",
    "    print(_)"
   ]
  },
  {
   "cell_type": "code",
   "execution_count": 50,
   "id": "843bb739-dbf3-4ee8-85c6-0a2c865952ed",
   "metadata": {},
   "outputs": [
    {
     "name": "stdout",
     "output_type": "stream",
     "text": [
      "1 3\n"
     ]
    }
   ],
   "source": [
    "## ignoring a value\n",
    "a, _, b = (1, 2, 3) # a = 1, b = 3\n",
    "print(a, b)"
   ]
  },
  {
   "cell_type": "code",
   "execution_count": 53,
   "id": "86b6e6f3-a399-4a10-ba61-1e81da9e4376",
   "metadata": {},
   "outputs": [
    {
     "name": "stdout",
     "output_type": "stream",
     "text": [
      "7 1\n"
     ]
    }
   ],
   "source": [
    "a, *_, b = (7, 6, 5, 4, 3, 2, 1) # *_ = (6, 5, 4, 3, 2) look at the star\n",
    "print(a, b)"
   ]
  },
  {
   "cell_type": "code",
   "execution_count": null,
   "id": "94a9570a-423e-46c6-a01c-14333be5cf43",
   "metadata": {},
   "outputs": [],
   "source": []
  },
  {
   "cell_type": "code",
   "execution_count": null,
   "id": "89133fed-f900-4123-b5e4-d1493659839a",
   "metadata": {},
   "outputs": [],
   "source": []
  },
  {
   "cell_type": "code",
   "execution_count": null,
   "id": "db86f873-8131-4597-83fb-2aaf5c76fd57",
   "metadata": {},
   "outputs": [],
   "source": []
  },
  {
   "cell_type": "markdown",
   "id": "08fd7b8c-c14b-4240-8e26-fa7263965080",
   "metadata": {},
   "source": [
    "#### After a name\n",
    "\n",
    "Python has their by `default keywords` which we can not use as `the variable name`. \n",
    "\n",
    "To **avoid such conflict** between python keyword and variable we use underscore after name:"
   ]
  },
  {
   "cell_type": "code",
   "execution_count": 69,
   "id": "d5212c00-1aaa-420c-9934-d64e4fb4282b",
   "metadata": {},
   "outputs": [
    {
     "ename": "SyntaxError",
     "evalue": "invalid syntax (<ipython-input-69-83ffa3bdb818>, line 1)",
     "output_type": "error",
     "traceback": [
      "\u001b[0;36m  File \u001b[0;32m\"<ipython-input-69-83ffa3bdb818>\"\u001b[0;36m, line \u001b[0;32m1\u001b[0m\n\u001b[0;31m    def method(name, class='Classname'):   # ❌\u001b[0m\n\u001b[0m                     ^\u001b[0m\n\u001b[0;31mSyntaxError\u001b[0m\u001b[0;31m:\u001b[0m invalid syntax\n"
     ]
    }
   ],
   "source": [
    "def method(name, class='Classname'):   # ❌\n",
    "SyntaxError: \"invalid syntax\">>> def method(name, class_='Classname'):  # ✅\n",
    "...     pass"
   ]
  },
  {
   "cell_type": "code",
   "execution_count": 30,
   "id": "df26d65f-d944-41d6-bfcb-7078276a656d",
   "metadata": {},
   "outputs": [
    {
     "ename": "NameError",
     "evalue": "name 'var1' is not defined",
     "output_type": "error",
     "traceback": [
      "\u001b[0;31m---------------------------------------------------------------------------\u001b[0m",
      "\u001b[0;31mNameError\u001b[0m                                 Traceback (most recent call last)",
      "\u001b[0;32m<ipython-input-30-e63a6c8fc64d>\u001b[0m in \u001b[0;36m<module>\u001b[0;34m\u001b[0m\n\u001b[1;32m      7\u001b[0m         \u001b[0mprint\u001b[0m \u001b[0;34m(\u001b[0m\u001b[0mclass_\u001b[0m\u001b[0;34m)\u001b[0m\u001b[0;34m\u001b[0m\u001b[0;34m\u001b[0m\u001b[0m\n\u001b[1;32m      8\u001b[0m \u001b[0;34m\u001b[0m\u001b[0m\n\u001b[0;32m----> 9\u001b[0;31m \u001b[0mmy_defination\u001b[0m\u001b[0;34m(\u001b[0m\u001b[0;34m)\u001b[0m\u001b[0;34m\u001b[0m\u001b[0;34m\u001b[0m\u001b[0m\n\u001b[0m",
      "\u001b[0;32m<ipython-input-19-26261edcc33f>\u001b[0m in \u001b[0;36mmy_defination\u001b[0;34m(var, calss_)\u001b[0m\n\u001b[1;32m      4\u001b[0m \u001b[0;34m\u001b[0m\u001b[0m\n\u001b[1;32m      5\u001b[0m \u001b[0;32mdef\u001b[0m \u001b[0mmy_defination\u001b[0m\u001b[0;34m(\u001b[0m\u001b[0mvar\u001b[0m \u001b[0;34m=\u001b[0m \u001b[0;36m1\u001b[0m \u001b[0;34m,\u001b[0m \u001b[0mcalss_\u001b[0m \u001b[0;34m=\u001b[0m \u001b[0mMyClass\u001b[0m\u001b[0;34m)\u001b[0m\u001b[0;34m:\u001b[0m\u001b[0;34m\u001b[0m\u001b[0;34m\u001b[0m\u001b[0m\n\u001b[0;32m----> 6\u001b[0;31m     \u001b[0mprint\u001b[0m\u001b[0;34m(\u001b[0m\u001b[0mvar1\u001b[0m\u001b[0;34m)\u001b[0m\u001b[0;34m\u001b[0m\u001b[0;34m\u001b[0m\u001b[0m\n\u001b[0m\u001b[1;32m      7\u001b[0m     \u001b[0mprint\u001b[0m\u001b[0;34m(\u001b[0m\u001b[0mclass_\u001b[0m\u001b[0;34m)\u001b[0m\u001b[0;34m\u001b[0m\u001b[0;34m\u001b[0m\u001b[0m\n\u001b[1;32m      8\u001b[0m \u001b[0;34m\u001b[0m\u001b[0m\n",
      "\u001b[0;31mNameError\u001b[0m: name 'var1' is not defined"
     ]
    }
   ],
   "source": [
    "class MyClass():\n",
    "    def __init__(self):\n",
    "        print(\"OWK\")\n",
    "\n",
    "    def my_defination(var1=1, class_=MyClass):\n",
    "        print(var1)\n",
    "        print(class_)\n",
    "\n",
    "\n",
    "my_defination()"
   ]
  },
  {
   "cell_type": "code",
   "execution_count": 31,
   "id": "e2bbf3d0-9ff9-468b-9bda-e6bb9e44949f",
   "metadata": {},
   "outputs": [
    {
     "ename": "NameError",
     "evalue": "name '__main__' is not defined",
     "output_type": "error",
     "traceback": [
      "\u001b[0;31m---------------------------------------------------------------------------\u001b[0m",
      "\u001b[0;31mNameError\u001b[0m                                 Traceback (most recent call last)",
      "\u001b[0;32m<ipython-input-31-a50a9202d7f3>\u001b[0m in \u001b[0;36m<module>\u001b[0;34m\u001b[0m\n\u001b[0;32m----> 1\u001b[0;31m \u001b[0m__main__\u001b[0m\u001b[0;34m.\u001b[0m\u001b[0mMyClass\u001b[0m\u001b[0;34m\u001b[0m\u001b[0;34m\u001b[0m\u001b[0m\n\u001b[0m",
      "\u001b[0;31mNameError\u001b[0m: name '__main__' is not defined"
     ]
    }
   ],
   "source": [
    "__main__.MyClass"
   ]
  },
  {
   "cell_type": "markdown",
   "id": "bd257a8f-1e4c-4fa4-a052-40c180d53312",
   "metadata": {},
   "source": [
    "#### Before a name\n",
    "\n",
    "_name\n",
    "\n",
    "Leading Underscore before variable/function/method name indicates to programmer that it is for **internal use only**, that **can be modified** whenever class want.\n",
    "\n",
    "Here name prefix by underscore is treated as **non-public(internal only)**. \n",
    "\n",
    "If specify from Import * all the name starts with _ will not import. \n",
    "\n",
    "Python does not specify truly private so this ones can be call directly from other modules if it is specified in __all__, We also call it weak Private."
   ]
  },
  {
   "cell_type": "code",
   "execution_count": 32,
   "id": "93357390-30a1-4fd0-b6f7-8b049b0c2e72",
   "metadata": {},
   "outputs": [],
   "source": [
    "class Prefix:\n",
    "    def __init__(self):\n",
    "        self.public = 10\n",
    "        self._private = 12\n",
    "test = Prefix()"
   ]
  },
  {
   "cell_type": "code",
   "execution_count": 33,
   "id": "a53fce10-3967-4ad7-a243-4725210bd169",
   "metadata": {},
   "outputs": [
    {
     "data": {
      "text/plain": [
       "10"
      ]
     },
     "execution_count": 33,
     "metadata": {},
     "output_type": "execute_result"
    }
   ],
   "source": [
    "test.public"
   ]
  },
  {
   "cell_type": "code",
   "execution_count": 58,
   "id": "9fa7b0b2-f7e2-447d-a1de-c6f819a0b359",
   "metadata": {},
   "outputs": [
    {
     "data": {
      "text/plain": [
       "12"
      ]
     },
     "execution_count": 58,
     "metadata": {},
     "output_type": "execute_result"
    }
   ],
   "source": [
    "test._private"
   ]
  },
  {
   "cell_type": "markdown",
   "id": "8506e837-569a-4921-9f9f-1f79fccc06a9",
   "metadata": {},
   "source": [
    "single pre underscore doesn't stop you from accessing the single pre underscore variable.\n",
    "\n",
    "But, single pre underscore effects the names that are imported from the module."
   ]
  },
  {
   "cell_type": "code",
   "execution_count": 62,
   "id": "90ac05bc-a245-4527-81be-33b48cc374ef",
   "metadata": {},
   "outputs": [
    {
     "name": "stdout",
     "output_type": "stream",
     "text": [
      "datacamp\n",
      "7\n"
     ]
    }
   ],
   "source": [
    "class Test:\n",
    "    \n",
    "    def __init__(self):\n",
    "        self.name = \"datacamp\"\n",
    "        self._num = 7\n",
    "        \n",
    "obj = Test()\n",
    "\n",
    "print(obj.name)\n",
    "print(obj._num)"
   ]
  },
  {
   "cell_type": "code",
   "execution_count": 63,
   "id": "c9936605-88af-4a9d-9d5a-d6119dbc53de",
   "metadata": {},
   "outputs": [],
   "source": [
    "def func():\n",
    "    return \"datacamp\"\n",
    "\n",
    "def _private_func():\n",
    "    return 7"
   ]
  },
  {
   "cell_type": "markdown",
   "id": "d421e19d-4790-408e-8c63-4d10e381d72b",
   "metadata": {},
   "source": [
    "Now, if you import all the methods and names from my_functions.py, Python doesn't import the names which starts with a single pre underscore.\n",
    "\n",
    "filename:- my_functions.py\n",
    "\n",
    "def func():\n",
    "    return \"datacamp\"\n",
    "\n",
    "def _private_func():\n",
    "    return 7\n",
    "\n",
    "from my_functions import *\n",
    "func()\n",
    "'datacamp'\n",
    "_private_func()\n",
    "Traceback (most recent call last):\n",
    "  File \"<stdin>\", line 1, in <module>\n",
    "NameError: name '_private_func' is not defined\n"
   ]
  },
  {
   "cell_type": "code",
   "execution_count": 67,
   "id": "99807909-bc04-444c-ac5d-32ae77c73ce4",
   "metadata": {},
   "outputs": [
    {
     "ename": "ModuleNotFoundError",
     "evalue": "No module named 'my_functions'",
     "output_type": "error",
     "traceback": [
      "\u001b[0;31m---------------------------------------------------------------------------\u001b[0m",
      "\u001b[0;31mModuleNotFoundError\u001b[0m                       Traceback (most recent call last)",
      "\u001b[0;32m<ipython-input-67-415c011264cf>\u001b[0m in \u001b[0;36m<module>\u001b[0;34m\u001b[0m\n\u001b[0;32m----> 1\u001b[0;31m \u001b[0;32mfrom\u001b[0m \u001b[0mmy_functions\u001b[0m \u001b[0;32mimport\u001b[0m \u001b[0;34m*\u001b[0m\u001b[0;34m\u001b[0m\u001b[0;34m\u001b[0m\u001b[0m\n\u001b[0m",
      "\u001b[0;31mModuleNotFoundError\u001b[0m: No module named 'my_functions'"
     ]
    }
   ],
   "source": []
  },
  {
   "cell_type": "code",
   "execution_count": null,
   "id": "cb4ef308-1bf7-4b4e-9728-7cf6764a3d26",
   "metadata": {},
   "outputs": [],
   "source": []
  },
  {
   "cell_type": "code",
   "execution_count": null,
   "id": "af498d4c-e44b-4971-8a1c-53b970f6f002",
   "metadata": {},
   "outputs": [],
   "source": []
  },
  {
   "cell_type": "markdown",
   "id": "2951d9a3-9b0d-4c9c-8479-8ea5764f3734",
   "metadata": {},
   "source": [
    "### Double Underscore(__)\n",
    "\n",
    "#### __leading_double_underscore\n",
    "\n",
    "Leading double underscore tell python interpreter to rewrite name in order to **avoid conflict in subclass**.\n",
    "\n",
    "Interpreter changes variable name with class extension and that feature known as the Mangling."
   ]
  },
  {
   "cell_type": "code",
   "execution_count": 42,
   "id": "c96a30a1-6849-4be3-b9ca-c66cb5438da2",
   "metadata": {},
   "outputs": [],
   "source": [
    "# testFile.py\n",
    "class MyClass():\n",
    "    def __init__(self):\n",
    "        self.__variable = 10"
   ]
  },
  {
   "cell_type": "code",
   "execution_count": 44,
   "id": "ea8a327e-3aa4-4df0-a381-5da9744c9090",
   "metadata": {},
   "outputs": [
    {
     "ename": "AttributeError",
     "evalue": "'MyClass' object has no attribute '__variable'",
     "output_type": "error",
     "traceback": [
      "\u001b[0;31m---------------------------------------------------------------------------\u001b[0m",
      "\u001b[0;31mAttributeError\u001b[0m                            Traceback (most recent call last)",
      "\u001b[0;32m<ipython-input-44-128f6d52c1d0>\u001b[0m in \u001b[0;36m<module>\u001b[0;34m\u001b[0m\n\u001b[1;32m      2\u001b[0m \u001b[0;31m# import testFile\u001b[0m\u001b[0;34m\u001b[0m\u001b[0;34m\u001b[0m\u001b[0;34m\u001b[0m\u001b[0m\n\u001b[1;32m      3\u001b[0m \u001b[0mobj\u001b[0m \u001b[0;34m=\u001b[0m \u001b[0mMyClass\u001b[0m\u001b[0;34m(\u001b[0m\u001b[0;34m)\u001b[0m\u001b[0;34m\u001b[0m\u001b[0;34m\u001b[0m\u001b[0m\n\u001b[0;32m----> 4\u001b[0;31m \u001b[0mobj\u001b[0m\u001b[0;34m.\u001b[0m\u001b[0m__variable\u001b[0m\u001b[0;34m\u001b[0m\u001b[0;34m\u001b[0m\u001b[0m\n\u001b[0m",
      "\u001b[0;31mAttributeError\u001b[0m: 'MyClass' object has no attribute '__variable'"
     ]
    }
   ],
   "source": [
    "# Calling from Interpreter\n",
    "# import testFile\n",
    "obj = MyClass()\n",
    "obj.__variable"
   ]
  },
  {
   "cell_type": "code",
   "execution_count": 45,
   "id": "b1a058b8-2df5-4ce9-8dda-a98b69ecc0a3",
   "metadata": {},
   "outputs": [
    {
     "data": {
      "text/plain": [
       "10"
      ]
     },
     "execution_count": 45,
     "metadata": {},
     "output_type": "execute_result"
    }
   ],
   "source": [
    "obj._MyClass__variable"
   ]
  },
  {
   "cell_type": "markdown",
   "id": "905faac9-1fa8-46f0-9e9b-9d9fc9b45414",
   "metadata": {},
   "source": [
    "#### __BEFORE_AFTER__\n",
    "\n",
    "Name with start with __ and ends with same considers special methods in Python. \n",
    "\n",
    "Python provide this methods to use it as **the operator overloading depending on the user**.\n",
    "\n",
    "Python provides this convention to differentiate between the user defined function with the module’s function."
   ]
  },
  {
   "cell_type": "code",
   "execution_count": 48,
   "id": "11dd7fe1-5b5b-4f1c-b6f2-6f6a59c8a960",
   "metadata": {},
   "outputs": [
    {
     "name": "stdout",
     "output_type": "stream",
     "text": [
      "2\n",
      "10\n"
     ]
    }
   ],
   "source": [
    "class Myclass():\n",
    "    def __add__(self,a,b):\n",
    "        print(a * b)\n",
    "        \n",
    "obj = Myclass()\n",
    "\n",
    "obj.__add__(1,2)\n",
    "obj.__add__(5,2)"
   ]
  },
  {
   "cell_type": "markdown",
   "id": "9baff02a-2f8a-468f-8ebc-5e4e007f6ab1",
   "metadata": {},
   "source": [
    "### Separating Digits Of Numbers\n",
    "\n",
    "If you have a long digits number, you can separate the group of digits as you like for better understanding."
   ]
  },
  {
   "cell_type": "code",
   "execution_count": 56,
   "id": "b8e31da9-0c67-4459-8e1f-9ad8ce551e82",
   "metadata": {},
   "outputs": [
    {
     "name": "stdout",
     "output_type": "stream",
     "text": [
      "1000000\n",
      "2\n",
      "52\n",
      "9131\n"
     ]
    }
   ],
   "source": [
    "## different number systems\n",
    "## you can also check whether they are correct or not by coverting them into integer using \"int\" method\n",
    "million = 1_000_000\n",
    "binary = 0b_0010\n",
    "octa = 0o_64\n",
    "hexa = 0x_23_ab\n",
    "\n",
    "print(million)\n",
    "print(binary)\n",
    "print(octa)\n",
    "print(hexa)"
   ]
  },
  {
   "cell_type": "markdown",
   "id": "55bd1095-36ce-4c76-b601-72997639e238",
   "metadata": {},
   "source": [
    "<img src=\"https://pic3.zhimg.com/80/v2-cbc5c6037101c7d33cf0acd9f00a8cfa_1440w.jpg\">"
   ]
  },
  {
   "cell_type": "markdown",
   "id": "c3d72ded-ecc8-443f-b945-be95843e5679",
   "metadata": {},
   "source": [
    "- Single Leading Underscore `_var`: Naming convention indicating name is meant for internal use. A hint for programmers and not enforced by programmers.\n",
    "\n",
    "- Double Leading Underscore `__var`: Triggers name mangling when used in class context. Enforced by the Python interpreter.\n",
    "\n",
    "- Single Trailing Underscore `var_`: Used by convention to avoid naming conflicts with Python keywords.\n",
    "\n",
    "- Double Trailing Underscore `__var__`: Indicates special methods defined by Python \n",
    "\n",
    "- `Underscore _`: Used as a name for temporary variables."
   ]
  },
  {
   "cell_type": "code",
   "execution_count": null,
   "id": "ac6d8974-a154-4c80-b285-fdaa15921bbd",
   "metadata": {},
   "outputs": [],
   "source": []
  },
  {
   "cell_type": "code",
   "execution_count": null,
   "id": "6da85efe-d2ce-4bcb-8698-74acace69beb",
   "metadata": {},
   "outputs": [],
   "source": []
  },
  {
   "cell_type": "code",
   "execution_count": null,
   "id": "d903720b-db26-4f92-8f4c-b2378d9ef2f3",
   "metadata": {},
   "outputs": [],
   "source": []
  },
  {
   "cell_type": "code",
   "execution_count": null,
   "id": "27752103-e993-4e92-b6be-b5f50e21e9b8",
   "metadata": {},
   "outputs": [],
   "source": []
  },
  {
   "cell_type": "code",
   "execution_count": null,
   "id": "0c800fd0-ef14-499e-a8dd-5c56b34aae5b",
   "metadata": {},
   "outputs": [],
   "source": []
  }
 ],
 "metadata": {
  "kernelspec": {
   "display_name": "Python 3.9.4 64-bit ('p39': conda)",
   "language": "python",
   "name": "python394jvsc74a57bd0ff2e645ef952f1284ebef59edbc19ad3cff03e6406671d2dab1ca7ad9588368d"
  },
  "language_info": {
   "codemirror_mode": {
    "name": "ipython",
    "version": 3
   },
   "file_extension": ".py",
   "mimetype": "text/x-python",
   "name": "python",
   "nbconvert_exporter": "python",
   "pygments_lexer": "ipython3",
   "version": "3.9.5"
  },
  "latex_envs": {
   "LaTeX_envs_menu_present": true,
   "autoclose": false,
   "autocomplete": true,
   "bibliofile": "biblio.bib",
   "cite_by": "apalike",
   "current_citInitial": 1,
   "eqLabelWithNumbers": true,
   "eqNumInitial": 1,
   "hotkeys": {
    "equation": "Ctrl-E",
    "itemize": "Ctrl-I"
   },
   "labels_anchors": false,
   "latex_user_defs": false,
   "report_style_numbering": false,
   "user_envs_cfg": false
  },
  "toc": {
   "base_numbering": 1,
   "nav_menu": {},
   "number_sections": true,
   "sideBar": true,
   "skip_h1_title": false,
   "title_cell": "Table of Contents",
   "title_sidebar": "Contents",
   "toc_cell": false,
   "toc_position": {
    "height": "calc(100% - 180px)",
    "left": "10px",
    "top": "150px",
    "width": "256px"
   },
   "toc_section_display": true,
   "toc_window_display": true
  },
  "varInspector": {
   "cols": {
    "lenName": 16,
    "lenType": 16,
    "lenVar": 40
   },
   "kernels_config": {
    "python": {
     "delete_cmd_postfix": "",
     "delete_cmd_prefix": "del ",
     "library": "var_list.py",
     "varRefreshCmd": "print(var_dic_list())"
    },
    "r": {
     "delete_cmd_postfix": ") ",
     "delete_cmd_prefix": "rm(",
     "library": "var_list.r",
     "varRefreshCmd": "cat(var_dic_list()) "
    }
   },
   "types_to_exclude": [
    "module",
    "function",
    "builtin_function_or_method",
    "instance",
    "_Feature"
   ],
   "window_display": false
  }
 },
 "nbformat": 4,
 "nbformat_minor": 5
}
