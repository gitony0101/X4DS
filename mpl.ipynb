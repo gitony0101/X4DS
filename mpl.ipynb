{
 "cells": [
  {
   "cell_type": "code",
   "execution_count": 19,
   "metadata": {},
   "outputs": [],
   "source": [
    "import matplotlib.pyplot as plt\n",
    "import numpy as np\n",
    "import pandas as pd\n",
    "import seaborn as sns"
   ]
  },
  {
   "cell_type": "code",
   "execution_count": 20,
   "metadata": {},
   "outputs": [],
   "source": [
    "from matplotlib import patches\n",
    "import matplotlib as mpl\n",
    "from scipy.spatial import ConvexHull"
   ]
  },
  {
   "cell_type": "markdown",
   "metadata": {},
   "source": [
    "\n",
    "\n",
    "\n",
    "## Correlation"
   ]
  },
  {
   "cell_type": "markdown",
   "metadata": {},
   "source": [
    "### Bubble plot with Encircling"
   ]
  },
  {
   "cell_type": "code",
   "execution_count": 21,
   "metadata": {},
   "outputs": [
    {
     "data": {
      "text/html": [
       "<div>\n",
       "<style scoped>\n",
       "    .dataframe tbody tr th:only-of-type {\n",
       "        vertical-align: middle;\n",
       "    }\n",
       "\n",
       "    .dataframe tbody tr th {\n",
       "        vertical-align: top;\n",
       "    }\n",
       "\n",
       "    .dataframe thead th {\n",
       "        text-align: right;\n",
       "    }\n",
       "</style>\n",
       "<table border=\"1\" class=\"dataframe\">\n",
       "  <thead>\n",
       "    <tr style=\"text-align: right;\">\n",
       "      <th></th>\n",
       "      <th>PID</th>\n",
       "      <th>county</th>\n",
       "      <th>state</th>\n",
       "      <th>area</th>\n",
       "      <th>poptotal</th>\n",
       "      <th>popdensity</th>\n",
       "      <th>popwhite</th>\n",
       "      <th>popblack</th>\n",
       "      <th>popamerindian</th>\n",
       "      <th>popasian</th>\n",
       "      <th>...</th>\n",
       "      <th>percprof</th>\n",
       "      <th>poppovertyknown</th>\n",
       "      <th>percpovertyknown</th>\n",
       "      <th>percbelowpoverty</th>\n",
       "      <th>percchildbelowpovert</th>\n",
       "      <th>percadultpoverty</th>\n",
       "      <th>percelderlypoverty</th>\n",
       "      <th>inmetro</th>\n",
       "      <th>category</th>\n",
       "      <th>dot_size</th>\n",
       "    </tr>\n",
       "  </thead>\n",
       "  <tbody>\n",
       "    <tr>\n",
       "      <th>0</th>\n",
       "      <td>561</td>\n",
       "      <td>ADAMS</td>\n",
       "      <td>IL</td>\n",
       "      <td>0.052</td>\n",
       "      <td>66090</td>\n",
       "      <td>1270.961540</td>\n",
       "      <td>63917</td>\n",
       "      <td>1702</td>\n",
       "      <td>98</td>\n",
       "      <td>249</td>\n",
       "      <td>...</td>\n",
       "      <td>4.355859</td>\n",
       "      <td>63628</td>\n",
       "      <td>96.274777</td>\n",
       "      <td>13.151443</td>\n",
       "      <td>18.011717</td>\n",
       "      <td>11.009776</td>\n",
       "      <td>12.443812</td>\n",
       "      <td>0</td>\n",
       "      <td>AAR</td>\n",
       "      <td>250.944411</td>\n",
       "    </tr>\n",
       "    <tr>\n",
       "      <th>1</th>\n",
       "      <td>562</td>\n",
       "      <td>ALEXANDER</td>\n",
       "      <td>IL</td>\n",
       "      <td>0.014</td>\n",
       "      <td>10626</td>\n",
       "      <td>759.000000</td>\n",
       "      <td>7054</td>\n",
       "      <td>3496</td>\n",
       "      <td>19</td>\n",
       "      <td>48</td>\n",
       "      <td>...</td>\n",
       "      <td>2.870315</td>\n",
       "      <td>10529</td>\n",
       "      <td>99.087145</td>\n",
       "      <td>32.244278</td>\n",
       "      <td>45.826514</td>\n",
       "      <td>27.385647</td>\n",
       "      <td>25.228976</td>\n",
       "      <td>0</td>\n",
       "      <td>LHR</td>\n",
       "      <td>185.781260</td>\n",
       "    </tr>\n",
       "    <tr>\n",
       "      <th>2</th>\n",
       "      <td>563</td>\n",
       "      <td>BOND</td>\n",
       "      <td>IL</td>\n",
       "      <td>0.022</td>\n",
       "      <td>14991</td>\n",
       "      <td>681.409091</td>\n",
       "      <td>14477</td>\n",
       "      <td>429</td>\n",
       "      <td>35</td>\n",
       "      <td>16</td>\n",
       "      <td>...</td>\n",
       "      <td>4.488572</td>\n",
       "      <td>14235</td>\n",
       "      <td>94.956974</td>\n",
       "      <td>12.068844</td>\n",
       "      <td>14.036061</td>\n",
       "      <td>10.852090</td>\n",
       "      <td>12.697410</td>\n",
       "      <td>0</td>\n",
       "      <td>AAR</td>\n",
       "      <td>175.905385</td>\n",
       "    </tr>\n",
       "    <tr>\n",
       "      <th>3</th>\n",
       "      <td>564</td>\n",
       "      <td>BOONE</td>\n",
       "      <td>IL</td>\n",
       "      <td>0.017</td>\n",
       "      <td>30806</td>\n",
       "      <td>1812.117650</td>\n",
       "      <td>29344</td>\n",
       "      <td>127</td>\n",
       "      <td>46</td>\n",
       "      <td>150</td>\n",
       "      <td>...</td>\n",
       "      <td>4.197800</td>\n",
       "      <td>30337</td>\n",
       "      <td>98.477569</td>\n",
       "      <td>7.209019</td>\n",
       "      <td>11.179536</td>\n",
       "      <td>5.536013</td>\n",
       "      <td>6.217047</td>\n",
       "      <td>1</td>\n",
       "      <td>ALU</td>\n",
       "      <td>319.823487</td>\n",
       "    </tr>\n",
       "    <tr>\n",
       "      <th>4</th>\n",
       "      <td>565</td>\n",
       "      <td>BROWN</td>\n",
       "      <td>IL</td>\n",
       "      <td>0.018</td>\n",
       "      <td>5836</td>\n",
       "      <td>324.222222</td>\n",
       "      <td>5264</td>\n",
       "      <td>547</td>\n",
       "      <td>14</td>\n",
       "      <td>5</td>\n",
       "      <td>...</td>\n",
       "      <td>3.367680</td>\n",
       "      <td>4815</td>\n",
       "      <td>82.505140</td>\n",
       "      <td>13.520249</td>\n",
       "      <td>13.022889</td>\n",
       "      <td>11.143211</td>\n",
       "      <td>19.200000</td>\n",
       "      <td>0</td>\n",
       "      <td>AAR</td>\n",
       "      <td>130.442161</td>\n",
       "    </tr>\n",
       "  </tbody>\n",
       "</table>\n",
       "<p>5 rows × 29 columns</p>\n",
       "</div>"
      ],
      "text/plain": [
       "   PID     county state   area  poptotal   popdensity  popwhite  popblack  \\\n",
       "0  561      ADAMS    IL  0.052     66090  1270.961540     63917      1702   \n",
       "1  562  ALEXANDER    IL  0.014     10626   759.000000      7054      3496   \n",
       "2  563       BOND    IL  0.022     14991   681.409091     14477       429   \n",
       "3  564      BOONE    IL  0.017     30806  1812.117650     29344       127   \n",
       "4  565      BROWN    IL  0.018      5836   324.222222      5264       547   \n",
       "\n",
       "   popamerindian  popasian  ...  percprof  poppovertyknown  percpovertyknown  \\\n",
       "0             98       249  ...  4.355859            63628         96.274777   \n",
       "1             19        48  ...  2.870315            10529         99.087145   \n",
       "2             35        16  ...  4.488572            14235         94.956974   \n",
       "3             46       150  ...  4.197800            30337         98.477569   \n",
       "4             14         5  ...  3.367680             4815         82.505140   \n",
       "\n",
       "   percbelowpoverty  percchildbelowpovert  percadultpoverty  \\\n",
       "0         13.151443             18.011717         11.009776   \n",
       "1         32.244278             45.826514         27.385647   \n",
       "2         12.068844             14.036061         10.852090   \n",
       "3          7.209019             11.179536          5.536013   \n",
       "4         13.520249             13.022889         11.143211   \n",
       "\n",
       "   percelderlypoverty  inmetro  category    dot_size  \n",
       "0           12.443812        0       AAR  250.944411  \n",
       "1           25.228976        0       LHR  185.781260  \n",
       "2           12.697410        0       AAR  175.905385  \n",
       "3            6.217047        1       ALU  319.823487  \n",
       "4           19.200000        0       AAR  130.442161  \n",
       "\n",
       "[5 rows x 29 columns]"
      ]
     },
     "execution_count": 21,
     "metadata": {},
     "output_type": "execute_result"
    }
   ],
   "source": [
    "midwest = pd.read_csv('data/midwest_filter.csv')\n",
    "midwest.head()"
   ]
  },
  {
   "cell_type": "code",
   "execution_count": 22,
   "metadata": {},
   "outputs": [
    {
     "ename": "SyntaxError",
     "evalue": "invalid syntax (2587647776.py, line 39)",
     "output_type": "error",
     "traceback": [
      "\u001b[0;36m  File \u001b[0;32m\"/var/folders/bz/8yf5rf0s1yzd3gl6nw6xvclw0000gn/T/ipykernel_4882/2587647776.py\"\u001b[0;36m, line \u001b[0;32m39\u001b[0m\n\u001b[0;31m    ax.set(xticks=fontsize=12)\u001b[0m\n\u001b[0m                          ^\u001b[0m\n\u001b[0;31mSyntaxError\u001b[0m\u001b[0;31m:\u001b[0m invalid syntax\n"
     ]
    }
   ],
   "source": [
    "_, ax = plt.subplots(figsize=(12, 8), dpi=80)\n",
    "\n",
    "g = sns.scatterplot(x='area',\n",
    "                    y='poptotal',\n",
    "                    data=midwest,\n",
    "                    hue='category',\n",
    "                    palette='tab10',\n",
    "                    size='dot_size',\n",
    "                    ax=ax)\n",
    "\n",
    "\n",
    "# Encircling\n",
    "def encircle(x, y, ax=None, **kw):\n",
    "    if not ax:\n",
    "        ax = plt.gca()\n",
    "    p = np.c_[x, y]\n",
    "    hull = ConvexHull(p)\n",
    "    poly = patches.Polygon(xy=p[hull.vertices, :], closed=True, **kw)\n",
    "    ax.add_patch(poly)\n",
    "\n",
    "\n",
    "g.set(xlim=(0.0, 0.1), ylim=(0, 90000), xlabel='Area', ylabel='Population')\n",
    "\n",
    "# Select data to be encircled\n",
    "midwest_encircle_data = midwest.query('state == \"IN\"')\n",
    "\n",
    "# Draw polygon surrounding vertices\n",
    "encircle(midwest_encircle_data.area,\n",
    "         midwest_encircle_data.poptotal,\n",
    "         edgecolor='k',\n",
    "         facecolor='gold',\n",
    "         alpha=0.1)\n",
    "encircle(midwest_encircle_data.area,\n",
    "         midwest_encircle_data.poptotal,\n",
    "         edgecolor='firebrick',\n",
    "         facecolor='none',\n",
    "         linewidth=1.5)\n",
    "\n",
    "ax.set(xticks=fontsize=12)\n",
    "ax.set(yticks=fontsize=12)\n",
    "ax.set(title='Bubble Plot with Encircling')\n",
    "ax.legend(fontsize=12)\n",
    "plt.show()"
   ]
  },
  {
   "cell_type": "markdown",
   "metadata": {},
   "source": [
    "### Scatter plot with line of best fit"
   ]
  },
  {
   "cell_type": "code",
   "execution_count": 23,
   "metadata": {},
   "outputs": [
    {
     "data": {
      "text/html": [
       "<div>\n",
       "<style scoped>\n",
       "    .dataframe tbody tr th:only-of-type {\n",
       "        vertical-align: middle;\n",
       "    }\n",
       "\n",
       "    .dataframe tbody tr th {\n",
       "        vertical-align: top;\n",
       "    }\n",
       "\n",
       "    .dataframe thead th {\n",
       "        text-align: right;\n",
       "    }\n",
       "</style>\n",
       "<table border=\"1\" class=\"dataframe\">\n",
       "  <thead>\n",
       "    <tr style=\"text-align: right;\">\n",
       "      <th></th>\n",
       "      <th>manufacturer</th>\n",
       "      <th>model</th>\n",
       "      <th>displ</th>\n",
       "      <th>year</th>\n",
       "      <th>cyl</th>\n",
       "      <th>trans</th>\n",
       "      <th>drv</th>\n",
       "      <th>cty</th>\n",
       "      <th>hwy</th>\n",
       "      <th>fl</th>\n",
       "      <th>class</th>\n",
       "    </tr>\n",
       "  </thead>\n",
       "  <tbody>\n",
       "    <tr>\n",
       "      <th>0</th>\n",
       "      <td>audi</td>\n",
       "      <td>a4</td>\n",
       "      <td>1.8</td>\n",
       "      <td>1999</td>\n",
       "      <td>4</td>\n",
       "      <td>auto(l5)</td>\n",
       "      <td>f</td>\n",
       "      <td>18</td>\n",
       "      <td>29</td>\n",
       "      <td>p</td>\n",
       "      <td>compact</td>\n",
       "    </tr>\n",
       "    <tr>\n",
       "      <th>1</th>\n",
       "      <td>audi</td>\n",
       "      <td>a4</td>\n",
       "      <td>1.8</td>\n",
       "      <td>1999</td>\n",
       "      <td>4</td>\n",
       "      <td>manual(m5)</td>\n",
       "      <td>f</td>\n",
       "      <td>21</td>\n",
       "      <td>29</td>\n",
       "      <td>p</td>\n",
       "      <td>compact</td>\n",
       "    </tr>\n",
       "    <tr>\n",
       "      <th>2</th>\n",
       "      <td>audi</td>\n",
       "      <td>a4</td>\n",
       "      <td>2.0</td>\n",
       "      <td>2008</td>\n",
       "      <td>4</td>\n",
       "      <td>manual(m6)</td>\n",
       "      <td>f</td>\n",
       "      <td>20</td>\n",
       "      <td>31</td>\n",
       "      <td>p</td>\n",
       "      <td>compact</td>\n",
       "    </tr>\n",
       "    <tr>\n",
       "      <th>3</th>\n",
       "      <td>audi</td>\n",
       "      <td>a4</td>\n",
       "      <td>2.0</td>\n",
       "      <td>2008</td>\n",
       "      <td>4</td>\n",
       "      <td>auto(av)</td>\n",
       "      <td>f</td>\n",
       "      <td>21</td>\n",
       "      <td>30</td>\n",
       "      <td>p</td>\n",
       "      <td>compact</td>\n",
       "    </tr>\n",
       "    <tr>\n",
       "      <th>4</th>\n",
       "      <td>audi</td>\n",
       "      <td>a4</td>\n",
       "      <td>2.8</td>\n",
       "      <td>1999</td>\n",
       "      <td>6</td>\n",
       "      <td>auto(l5)</td>\n",
       "      <td>f</td>\n",
       "      <td>16</td>\n",
       "      <td>26</td>\n",
       "      <td>p</td>\n",
       "      <td>compact</td>\n",
       "    </tr>\n",
       "  </tbody>\n",
       "</table>\n",
       "</div>"
      ],
      "text/plain": [
       "  manufacturer model  displ  year  cyl       trans drv  cty  hwy fl    class\n",
       "0         audi    a4    1.8  1999    4    auto(l5)   f   18   29  p  compact\n",
       "1         audi    a4    1.8  1999    4  manual(m5)   f   21   29  p  compact\n",
       "2         audi    a4    2.0  2008    4  manual(m6)   f   20   31  p  compact\n",
       "3         audi    a4    2.0  2008    4    auto(av)   f   21   30  p  compact\n",
       "4         audi    a4    2.8  1999    6    auto(l5)   f   16   26  p  compact"
      ]
     },
     "execution_count": 23,
     "metadata": {},
     "output_type": "execute_result"
    }
   ],
   "source": [
    "mpg = pd.read_csv('data/mpg.csv')\n",
    "mpg.head()"
   ]
  },
  {
   "cell_type": "code",
   "execution_count": 24,
   "metadata": {},
   "outputs": [
    {
     "data": {
      "image/png": "[encoded data removed]",
      "text/plain": [
       "<Figure size 960x640 with 1 Axes>"
      ]
     },
     "metadata": {
      "needs_background": "light"
     },
     "output_type": "display_data"
    },
    {
     "data": {
      "image/png": "[encoded data removed]",
      "text/plain": [
       "<Figure size 402.375x360 with 1 Axes>"
      ]
     },
     "metadata": {
      "needs_background": "light"
     },
     "output_type": "display_data"
    }
   ],
   "source": [
    "mpg_select = mpg.query('cyl in [4, 8]')\n",
    "\n",
    "fig = plt.subplots(figsize=(12, 8), dpi=80)\n",
    "\n",
    "g = sns.lmplot(x=\"displ\",\n",
    "               y=\"hwy\",\n",
    "               hue=\"cyl\",\n",
    "               data=mpg_select,\n",
    "               robust=True,\n",
    "               palette='tab10',\n",
    "               scatter_kws=dict(s=60, linewidths=.7, edgecolors='black'))\n",
    "\n",
    "g.set(xlim=(0.5, 7.5), ylim=(0, 50), title=\"Scatterplot with line of best fit grouped by number of cylinders\")\n",
    "plt.show()"
   ]
  },
  {
   "cell_type": "code",
   "execution_count": 25,
   "metadata": {},
   "outputs": [
    {
     "data": {
      "image/png": "[encoded data removed]",
      "text/plain": [
       "<Figure size 1008x504 with 2 Axes>"
      ]
     },
     "metadata": {
      "needs_background": "light"
     },
     "output_type": "display_data"
    }
   ],
   "source": [
    "g = sns.lmplot(x='displ',\n",
    "               y='hwy',\n",
    "               data=mpg_select,\n",
    "               height=7,\n",
    "               robust=True,\n",
    "               palette='Set1',\n",
    "               col='cyl',\n",
    "               scatter_kws=dict(s=60, linewidths=.7, edgecolors='black'))\n",
    "\n",
    "g.set(xlim=(0.5, 7.5), ylim=(0, 50))\n",
    "plt.show()"
   ]
  },
  {
   "cell_type": "markdown",
   "metadata": {},
   "source": [
    "### Jittering"
   ]
  },
  {
   "cell_type": "code",
   "execution_count": 26,
   "metadata": {},
   "outputs": [
    {
     "data": {
      "image/png": "[encoded data removed]",
      "text/plain": [
       "<Figure size 960x640 with 1 Axes>"
      ]
     },
     "metadata": {
      "needs_background": "light"
     },
     "output_type": "display_data"
    }
   ],
   "source": [
    "_, ax = plt.subplots(figsize=(12, 8), dpi=80)\n",
    "\n",
    "g = sns.stripplot(x='cty',\n",
    "                  y='hwy',\n",
    "                  data=mpg,\n",
    "                  jitter=0.25,\n",
    "                  size=8,\n",
    "                  ax=ax,\n",
    "                  linewidth=.5)\n",
    "\n",
    "g.set(title='Use jittered plots to avoid overlapping of points')\n",
    "plt.show()"
   ]
  },
  {
   "cell_type": "markdown",
   "metadata": {},
   "source": [
    "### Marginal Plots"
   ]
  },
  {
   "cell_type": "code",
   "execution_count": 27,
   "metadata": {},
   "outputs": [
    {
     "data": {
      "image/png": "[encoded data removed]",
      "text/plain": [
       "<Figure size 960x720 with 1 Axes>"
      ]
     },
     "metadata": {
      "needs_background": "light"
     },
     "output_type": "display_data"
    },
    {
     "data": {
      "image/png": "[encoded data removed]",
      "text/plain": [
       "<Figure size 432x432 with 3 Axes>"
      ]
     },
     "metadata": {
      "needs_background": "light"
     },
     "output_type": "display_data"
    }
   ],
   "source": [
    "fig = plt.subplots(figsize=(12, 9), dpi=80)\n",
    "\n",
    "g = sns.JointGrid()\n",
    "sns.scatterplot(data=mpg, x=\"displ\", y=\"hwy\", hue=\"manufacturer\", ax=g.ax_joint)\n",
    "sns.histplot(data=mpg, x=\"displ\", bins=40, ax=g.ax_marg_x)\n",
    "sns.histplot(data=mpg, y=\"hwy\", bins=40, ax=g.ax_marg_y)\n",
    "plt.show()"
   ]
  },
  {
   "cell_type": "code",
   "execution_count": 28,
   "metadata": {},
   "outputs": [
    {
     "data": {
      "image/png": "[encoded data removed]",
      "text/plain": [
       "<Figure size 432x432 with 3 Axes>"
      ]
     },
     "metadata": {
      "needs_background": "light"
     },
     "output_type": "display_data"
    }
   ],
   "source": [
    "g = sns.JointGrid()\n",
    "sns.scatterplot(data=mpg, x=\"displ\", y=\"hwy\", hue=\"manufacturer\", ax=g.ax_joint)\n",
    "sns.boxplot(data=mpg, x=\"displ\", ax=g.ax_marg_x)\n",
    "sns.boxplot(data=mpg, y=\"hwy\", ax=g.ax_marg_y)\n",
    "plt.show()"
   ]
  },
  {
   "cell_type": "markdown",
   "metadata": {},
   "source": [
    "## Deviation"
   ]
  },
  {
   "cell_type": "markdown",
   "metadata": {},
   "source": [
    "### Diverging Bar"
   ]
  },
  {
   "cell_type": "code",
   "execution_count": null,
   "metadata": {},
   "outputs": [],
   "source": [
    "mtcars = pd.read_csv(\"data/mtcars.csv\")\n",
    "mtcars.head()"
   ]
  },
  {
   "cell_type": "code",
   "execution_count": null,
   "metadata": {},
   "outputs": [],
   "source": [
    "x = mtcars['mpg']\n",
    "mtcars['mpg_z'] = (x - x.mean()) / x.std()\n",
    "mtcars['colors'] = ['red' if x < 0 else 'green' for x in mtcars['mpg_z']]\n",
    "mtcars.sort_values('mpg_z', inplace=True)\n",
    "mtcars.reset_index(inplace=True)\n",
    "mtcars.head()"
   ]
  },
  {
   "cell_type": "code",
   "execution_count": null,
   "metadata": {},
   "outputs": [],
   "source": [
    "_, ax = plt.subplots(figsize=(12, 8), dpi=80)\n",
    "\n",
    "ax.hlines(y=mtcars.index,\n",
    "          xmin=0,\n",
    "          xmax=mtcars.mpg_z,\n",
    "          color=mtcars.colors,\n",
    "          alpha=0.4,\n",
    "          linewidth=5)\n",
    "\n",
    "for x, y, tex in zip(mtcars.mpg_z, mtcars.index, mtcars.mpg_z):\n",
    "    ax.text(x,\n",
    "            y,\n",
    "            round(tex, 2),\n",
    "            horizontalalignment='right' if x < 0 else 'left',\n",
    "            verticalalignment='center',\n",
    "            fontdict={\n",
    "                'color': 'red' if x < 0 else 'green',\n",
    "                'size': 8\n",
    "            })\n",
    "\n",
    "sns.despine()\n",
    "sns.set_context(font_scale=1.2)\n",
    "\n",
    "ax.set(xlabel='$Mileage$', ylabel='$Model$', title='Diverging Bars of Car Mileage')\n",
    "ax.set_yticks(mtcars.index)\n",
    "ax.set_yticklabels(mtcars.cars)\n",
    "ax.grid(linestyle='--', alpha=0.5)\n",
    "plt.show()"
   ]
  },
  {
   "cell_type": "markdown",
   "metadata": {},
   "source": [
    "### Diverging Dot"
   ]
  },
  {
   "cell_type": "code",
   "execution_count": null,
   "metadata": {},
   "outputs": [],
   "source": [
    "_, ax = plt.subplots(figsize=(12, 8), dpi=80)\n",
    "\n",
    "ax.scatter(mtcars.mpg_z, mtcars.index, s=450, alpha=.6, color=mtcars.colors)\n",
    "for x, y, tex in zip(mtcars.mpg_z, mtcars.index, mtcars.mpg_z):\n",
    "    ax.text(x,\n",
    "            y,\n",
    "            round(tex, 1),\n",
    "            horizontalalignment='center',\n",
    "            verticalalignment='center',\n",
    "            fontdict={'color': 'white'})\n",
    "\n",
    "sns.despine()\n",
    "sns.set_context(font_scale=1.2)\n",
    "\n",
    "ax.set(xlabel='$Mileage$', ylabel='$Model$', title='Diverging Dotplot of Car Mileage')\n",
    "ax.set_yticks(mtcars.index)\n",
    "ax.set_yticklabels(mtcars.cars)\n",
    "ax.grid(linestyle='--', alpha=0.5)\n",
    "plt.show()"
   ]
  },
  {
   "cell_type": "markdown",
   "metadata": {},
   "source": [
    "### Diverging Lollipop"
   ]
  },
  {
   "cell_type": "code",
   "execution_count": null,
   "metadata": {},
   "outputs": [],
   "source": [
    "_, ax = plt.subplots(figsize=(12, 8), dpi=80)\n",
    "\n",
    "ax.hlines(y=mtcars.index,\n",
    "          xmin=0,\n",
    "          xmax=mtcars.mpg_z,\n",
    "          color=mtcars.colors,\n",
    "          alpha=0.4,\n",
    "          linewidth=1)\n",
    "\n",
    "ax.scatter(mtcars.mpg_z,\n",
    "           mtcars.index,\n",
    "           color=mtcars.colors,\n",
    "           s=[600 if x == 'Fiat X1-9' else 300 for x in mtcars.cars],\n",
    "           alpha=0.6)\n",
    "\n",
    "ax.annotate('Mercedes Models',\n",
    "            xy=(0.0, 11.0),\n",
    "            xytext=(1.0, 11),\n",
    "            xycoords='data',\n",
    "            fontsize=15,\n",
    "            ha='center',\n",
    "            va='center',\n",
    "            color='white',\n",
    "            bbox=dict(boxstyle='square', fc='firebrick'),\n",
    "            arrowprops=dict(arrowstyle='-[, widthB=2.0, lengthB=1.5',\n",
    "                            lw=2.0,\n",
    "                            color='steelblue'))\n",
    "\n",
    "p1 = patches.Rectangle((-2.0, -1),\n",
    "                       width=.3,\n",
    "                       height=3,\n",
    "                       alpha=.2,\n",
    "                       facecolor='red')\n",
    "p2 = patches.Rectangle((1.5, 27),\n",
    "                       width=.8,\n",
    "                       height=5,\n",
    "                       alpha=.2,\n",
    "                       facecolor='green')\n",
    "ax.add_patch(p1)\n",
    "ax.add_patch(p2)\n",
    "\n",
    "ax.set(xlabel='$Mileage$', ylabel='$Model$', title='Diverging Bars of Car Mileage')\n",
    "ax.set_yticks(mtcars.index)\n",
    "ax.set_yticklabels(mtcars.cars)\n",
    "ax.grid(linestyle='--', alpha=0.5)\n",
    "plt.show()"
   ]
  },
  {
   "cell_type": "markdown",
   "metadata": {},
   "source": [
    "## Ranking"
   ]
  },
  {
   "cell_type": "markdown",
   "metadata": {},
   "source": [
    "### Lollipop"
   ]
  },
  {
   "cell_type": "code",
   "execution_count": null,
   "metadata": {},
   "outputs": [],
   "source": [
    "mpg = pd.read_csv('data/mpg.csv')\n",
    "mpg_group = mpg[['cty', 'manufacturer'\n",
    "                ]].groupby('manufacturer').apply(lambda x: x.mean())\n",
    "mpg_group.sort_values('cty', inplace=True)\n",
    "mpg_group.reset_index(inplace=True)\n",
    "mpg_group.head()"
   ]
  },
  {
   "cell_type": "code",
   "execution_count": null,
   "metadata": {},
   "outputs": [],
   "source": [
    "_, ax = plt.subplots(figsize=(12, 8), dpi=80)\n",
    "\n",
    "markerline, stemlines, _ = ax.stem(mpg_group.index, mpg_group.cty)\n",
    "stemlines.set_color('firebrick')\n",
    "markerline.set_markerfacecolor('firebrick')\n",
    "markerline.set_markeredgecolor('firebrick')\n",
    "\n",
    "fs = 12\n",
    "ax.set(ylim=(0, 30), ylabel='Miles Per Gallon', title='DLollipop Chart for Highway Mileage')\n",
    "\n",
    "ax.set_xticks(mpg_group.index)\n",
    "ax.set_xticklabels(mpg_group.manufacturer.str.upper(),\n",
    "                   rotation=60,\n",
    "                   fontdict={\n",
    "                       'horizontalalignment': 'right',\n",
    "                       'size': fs\n",
    "                   })\n",
    "\n",
    "for row in mpg_group.itertuples():\n",
    "    ax.text(row.Index,\n",
    "            row.cty + .5,\n",
    "            s=round(row.cty, 2),\n",
    "            horizontalalignment='center',\n",
    "            verticalalignment='bottom',\n",
    "            fontsize=fs)\n",
    "\n",
    "plt.show()"
   ]
  },
  {
   "cell_type": "markdown",
   "metadata": {},
   "source": [
    "### Slope"
   ]
  },
  {
   "cell_type": "code",
   "execution_count": null,
   "metadata": {},
   "outputs": [],
   "source": [
    "from matplotlib import lines"
   ]
  },
  {
   "cell_type": "code",
   "execution_count": null,
   "metadata": {},
   "outputs": [],
   "source": [
    "gdp = pd.read_csv('data/gdp_per_cap.csv')\n",
    "\n",
    "left_label = [\n",
    "    str(c) + ', ' + str(round(y)) for c, y in zip(gdp.continent, gdp['1952'])\n",
    "]\n",
    "right_label = [\n",
    "    str(c) + ', ' + str(round(y)) for c, y in zip(gdp.continent, gdp['1957'])\n",
    "]\n",
    "\n",
    "year = [\n",
    "    'red' if (y1 - y2) < 0 else 'green'\n",
    "    for y1, y2 in zip(gdp['1952'], gdp['1957'])\n",
    "]\n",
    "\n",
    "\n",
    "def connect_line(p1, p2, ax, color='black'):\n",
    "    l = lines.Line2D([p1[0], p2[0]], [p1[1], p2[1]],\n",
    "                     color='red' if p1[1] - p2[1] > 0 else 'green',\n",
    "                     marker='o',\n",
    "                     markersize=6)\n",
    "    ax.add_line(l)\n",
    "    return l\n",
    "\n",
    "\n",
    "def border_line(x,\n",
    "                ymin,\n",
    "                ymax,\n",
    "                ax,\n",
    "                color='black',\n",
    "                alpha=.7,\n",
    "                linewidth=1,\n",
    "                linestyle='dotted'):\n",
    "    ax.vlines(x=x,\n",
    "              ymin=ymin,\n",
    "              ymax=ymax,\n",
    "              color=color,\n",
    "              alpha=alpha,\n",
    "              linewidth=linewidth,\n",
    "              linestyles=linestyle)\n",
    "\n",
    "\n",
    "_, ax = plt.subplots(1, 1, figsize=(14, 14), dpi=80)\n",
    "\n",
    "border_line(x=1, ymin=500, ymax=13000, ax=ax)\n",
    "border_line(x=3, ymin=500, ymax=13000, ax=ax)\n",
    "\n",
    "ax.scatter(y=gdp['1952'],\n",
    "           x=np.repeat(1, gdp.shape[0]),\n",
    "           s=10,\n",
    "           color='black',\n",
    "           alpha=0.7)\n",
    "ax.scatter(y=gdp['1957'],\n",
    "           x=np.repeat(3, gdp.shape[0]),\n",
    "           s=10,\n",
    "           color='black',\n",
    "           alpha=0.7)\n",
    "\n",
    "for p1, p2, c in zip(gdp['1952'], gdp['1957'], gdp['continent']):\n",
    "    connect_line([1, p1], [3, p2], ax=ax)\n",
    "    ax.text(1 - 0.05,\n",
    "            p1,\n",
    "            c + ', ' + str(round(p1)),\n",
    "            horizontalalignment='right',\n",
    "            verticalalignment='center',\n",
    "            fontdict={'size': 14})\n",
    "    ax.text(3 + 0.05,\n",
    "            p2,\n",
    "            c + ', ' + str(round(p2)),\n",
    "            horizontalalignment='left',\n",
    "            verticalalignment='center',\n",
    "            fontdict={'size': 14})\n",
    "\n",
    "ax.text(1 - 0.05,\n",
    "        13000,\n",
    "        'BEFORE',\n",
    "        horizontalalignment='right',\n",
    "        verticalalignment='center',\n",
    "        fontdict={\n",
    "            'size': 18,\n",
    "            'weight': 700\n",
    "        })\n",
    "ax.text(3 + 0.05,\n",
    "        13000,\n",
    "        'AFTER',\n",
    "        horizontalalignment='left',\n",
    "        verticalalignment='center',\n",
    "        fontdict={\n",
    "            'size': 18,\n",
    "            'weight': 700\n",
    "        })\n",
    "\n",
    "fs = 12\n",
    "ax.set(xlim=(0, 4), ylim=(0, 14000), ylabel='Mean GDP Per Capita')\n",
    "ax.set_xticks([1, 3])\n",
    "ax.set_xticklabels(['1952', '1957'])\n",
    "ax.set_yticks(np.arange(500, 13000, 2000))\n",
    "ax.set_yticklabels(np.arange(500, 13000, 2000))\n",
    "ax.set(title='Slopechart: Comparing GDP Per Capita between 1952 vs 1957',\n",
    "             fontdict={'size': fs + 4})\n",
    "\n",
    "ax.spines['top'].set_alpha(.0)\n",
    "ax.spines['bottom'].set_alpha(.0)\n",
    "ax.spines['right'].set_alpha(.0)\n",
    "ax.spines['left'].set_alpha(.0)\n",
    "plt.show()"
   ]
  },
  {
   "cell_type": "markdown",
   "metadata": {},
   "source": [
    "### Dumbbell"
   ]
  },
  {
   "cell_type": "code",
   "execution_count": null,
   "metadata": {},
   "outputs": [],
   "source": [
    "health = pd.read_csv('data/health.csv')\n",
    "health.sort_values('pct_2014', inplace=True)\n",
    "health.reset_index(inplace=True)\n",
    "health.head()"
   ]
  },
  {
   "cell_type": "code",
   "execution_count": null,
   "metadata": {},
   "outputs": [],
   "source": [
    "def connect_line(p1, p2, ax, color='black'):\n",
    "    l = lines.Line2D([p1[0], p2[0]], [p1[1], p2[1]], color='skyblue')\n",
    "    ax.add_line(l)\n",
    "    return l\n",
    "\n",
    "\n",
    "_, ax = plt.subplots(1, 1, figsize=(14, 14), facecolor='#f7f7f7', dpi=80)\n",
    "\n",
    "\n",
    "def border_line(x,\n",
    "                ymin,\n",
    "                ymax,\n",
    "                ax,\n",
    "                color='black',\n",
    "                alpha=1,\n",
    "                linewidth=1,\n",
    "                linestyle='dotted'):\n",
    "    ax.vlines(x=x,\n",
    "              ymin=ymin,\n",
    "              ymax=ymax,\n",
    "              color=color,\n",
    "              alpha=alpha,\n",
    "              linewidth=linewidth,\n",
    "              linestyles=linestyle)\n",
    "\n",
    "\n",
    "border_line(x=.05, ymin=0, ymax=26, ax=ax)\n",
    "border_line(x=.10, ymin=0, ymax=26, ax=ax)\n",
    "border_line(x=.15, ymin=0, ymax=26, ax=ax)\n",
    "border_line(x=.20, ymin=0, ymax=26, ax=ax)\n",
    "\n",
    "ax.scatter(y=health['index'],\n",
    "           x=health['pct_2013'],\n",
    "           color='#0e668b',\n",
    "           s=50,\n",
    "           alpha=0.7)\n",
    "\n",
    "ax.scatter(y=health['index'],\n",
    "           x=health['pct_2014'],\n",
    "           color='#a3c4dc',\n",
    "           s=50,\n",
    "           alpha=0.7)\n",
    "\n",
    "for i, p1, p2 in zip(health['index'], health['pct_2013'], health['pct_2014']):\n",
    "    connect_line([p1, i], [p2, i], ax)\n",
    "\n",
    "fs = 12\n",
    "ax.set(xlim=(0, .25), ylim=(-1, 27), ylabel='Mean GDP Per Capita')\n",
    "ax.set_facecolor('#f7f7f7')\n",
    "ax.set(title='Dumbell Chart: Pct Change - 2013 vs 2014',\n",
    "             fontdict={'size': fs + 4})\n",
    "ax.set_xticks([.05, .1, .15, .20])\n",
    "ax.set_xticklabels(['5%', '15%', '20%', '25%'])\n",
    "plt.show()"
   ]
  },
  {
   "cell_type": "markdown",
   "metadata": {},
   "source": [
    "## Distribution"
   ]
  },
  {
   "cell_type": "markdown",
   "metadata": {},
   "source": [
    "### Stacked Bar"
   ]
  },
  {
   "cell_type": "code",
   "execution_count": null,
   "metadata": {},
   "outputs": [],
   "source": [
    "mpg = pd.read_csv('data/mpg.csv')\n",
    "\n",
    "x_var, group_var = 'displ', 'class'\n",
    "mpg_agg = mpg[[x_var, group_var]].groupby(group_var)\n",
    "mpg_agg.head(10)"
   ]
  },
  {
   "cell_type": "code",
   "execution_count": null,
   "metadata": {},
   "outputs": [],
   "source": [
    "_, ax = plt.subplots(figsize=(12, 8), dpi=80)\n",
    "\n",
    "sns.histplot(data=mpg, x=x_var, hue=group_var, bins=30, multiple=\"stack\", ax=ax)\n",
    "\n",
    "sns.set_context(font_scale=2)\n",
    "ax.set(ylim=(0, 25), xlabel=x_var, ylabel='Frequency', title=f'Stacked Histogram of ${x_var}$ colored by ${group_var}$')\n",
    "plt.show()"
   ]
  },
  {
   "cell_type": "markdown",
   "metadata": {},
   "source": [
    "### Density"
   ]
  },
  {
   "cell_type": "code",
   "execution_count": null,
   "metadata": {},
   "outputs": [],
   "source": [
    "mpg = pd.read_csv('data/mpg.csv')\n",
    "mpg.head()"
   ]
  },
  {
   "cell_type": "code",
   "execution_count": null,
   "metadata": {},
   "outputs": [],
   "source": [
    "mpg['_class'] = mpg['class']\n",
    "mpg.head()"
   ]
  },
  {
   "cell_type": "code",
   "execution_count": null,
   "metadata": {},
   "outputs": [],
   "source": [
    "_, ax = plt.subplots(figsize=(12, 8), dpi=80)\n",
    "\n",
    "sns.histplot(data=mpg.query(\"_class in ['compact', 'suv', 'minivan']\"), x='cty', hue='class', stat='density', kde=True, ax=ax)\n",
    "plt.show()"
   ]
  },
  {
   "cell_type": "markdown",
   "metadata": {},
   "source": [
    "### Ridge"
   ]
  },
  {
   "cell_type": "code",
   "execution_count": null,
   "metadata": {},
   "outputs": [],
   "source": [
    "m = mpg['cty'].map(ord)\n",
    "df[\"hwy\"] += m\n",
    "\n",
    "g = sns.FacetGrid(mpg, row=\"cty\", hue=\"cty\")\n",
    "g.map(sns.kdeplot, 'hwy',\n",
    "      bw_adjust=.5, clip_on=False,\n",
    "      fill=True, alpha=1)\n",
    "g.map(sns.kdeplot, 'hwy', clip_on=False, color=\"w\", bw_adjust=.5)\n",
    "g.map(ax.axhline, y=0, clip_on=False)\n",
    "\n",
    "def label(x, color, label):\n",
    "    ax = plt.gca()\n",
    "    ax.text(0, .2, label, fontweight=\"bold\", color=color,\n",
    "            ha=\"left\", va=\"center\", transform=ax.transAxes)\n",
    "\n",
    "\n",
    "g.map(label, 'hwy')\n",
    "\n",
    "g.fig.subplots_adjust(hspace=-.25)\n",
    "\n",
    "g.set_titles(\"\")\n",
    "g.set(yticks=[])\n",
    "g.despine(bottom=True, left=True)\n",
    "\n",
    "g.set(title='Joy Plot of City and Highway Mileage by Class')"
   ]
  },
  {
   "cell_type": "markdown",
   "metadata": {},
   "source": [
    "### Dot"
   ]
  },
  {
   "cell_type": "code",
   "execution_count": null,
   "metadata": {},
   "outputs": [],
   "source": [
    "mpg = pd.read_csv('data/mpg.csv')\n",
    "mpg.head()"
   ]
  },
  {
   "cell_type": "code",
   "execution_count": null,
   "metadata": {},
   "outputs": [],
   "source": [
    "x_var = 'cty'\n",
    "group_var = 'manufacturer'\n",
    "\n",
    "mpg_group = mpg[[x_var, group_var]].groupby(group_var).apply(lambda x: x.mean())\n",
    "mpg_group.sort_values(x_var, inplace=True)\n",
    "mpg_group.reset_index(inplace=True)\n",
    "mpg_group.head()"
   ]
  },
  {
   "cell_type": "code",
   "execution_count": null,
   "metadata": {},
   "outputs": [],
   "source": [
    "mpg_group.sort_values('manufacturer', inplace=True)\n",
    "mpg_group.head()"
   ]
  },
  {
   "cell_type": "code",
   "execution_count": null,
   "metadata": {},
   "outputs": [],
   "source": [
    "mpg_group.index"
   ]
  },
  {
   "cell_type": "code",
   "execution_count": null,
   "metadata": {},
   "outputs": [],
   "source": [
    "mpg_group_median = mpg[[x_var, group_var\n",
    "                       ]].groupby(group_var).apply(lambda x: x.median())\n",
    "mpg_group_median.sort_values(x_var, inplace=True)\n",
    "mpg_group_median.reset_index(inplace=True)\n",
    "mpg_group_median.head()"
   ]
  },
  {
   "cell_type": "code",
   "execution_count": null,
   "metadata": {},
   "outputs": [],
   "source": [
    "mpg_group = mpg[['cty', 'manufacturer'\n",
    "                 ]].groupby('manufacturer').apply(lambda x: x.mean())\n",
    "mpg_group.sort_values('cty', ascending=False, inplace=True)\n",
    "mpg_group.reset_index(inplace=True)\n",
    "mpg_group_median = mpg[['cty', 'manufacturer'\n",
    "                        ]].groupby('manufacturer').apply(lambda x: x.median())\n",
    "\n",
    "_, ax = plt.subplots(figsize=(12, 8), dpi=80)\n",
    "\n",
    "ax.hlines(y=mpg_group.index,\n",
    "          xmin=0,\n",
    "          xmax=40,\n",
    "          color='gray',\n",
    "          alpha=0.5,\n",
    "          linewidth=.5,\n",
    "          linestyles='dashdot')\n",
    "\n",
    "for i, mark in enumerate(mpg_group.manufacturer):\n",
    "    mpg_group_mark = mpg.loc[mpg.manufacturer == mark, :]\n",
    "    ax.scatter(y=np.repeat(i, mpg_group_mark.shape[0]),\n",
    "               x='cty',\n",
    "               data=mpg_group_mark,\n",
    "               s=75,\n",
    "               edgecolors='gray',\n",
    "               c='w',\n",
    "               alpha=0.5)\n",
    "    ax.scatter(y=i,\n",
    "               x='cty',\n",
    "               data=mpg_group_median.loc[mpg_group_median.index == mark, :],\n",
    "               s=75,\n",
    "               c='firebrick')\n",
    "\n",
    "ax.text(33,\n",
    "        13,\n",
    "        \"$red \\ dots \\ are \\ the \\ median$\",\n",
    "        fontdict={'size': 12},\n",
    "        color='firebrick')\n",
    "\n",
    "red_patch = ax.plot([], [],\n",
    "                    marker=\"o\",\n",
    "                    ms=10,\n",
    "                    ls=\"\",\n",
    "                    mec=None,\n",
    "                    color='firebrick',\n",
    "                    label=\"Median\")\n",
    "ax.legend(handles=red_patch)\n",
    "\n",
    "ax.set(title='Distribution of City Mileage by Make')\n",
    "ax.set(xlabel='Miles Per Gallon (City)')\n",
    "ax.set_yticks(mpg_group.index)\n",
    "ax.set_yticklabels(\n",
    "    mpg_group.manufacturer.str.title(),\n",
    "    fontdict={'horizontalalignment': 'right'},\n",
    ")\n",
    "ax.set(xlim=1, 40)\n",
    "ax.set_xticklabels(range(0, 45, 5), alpha=0.7)\n",
    "ax.spines[\"top\"].set_visible(False)\n",
    "ax.spines[\"bottom\"].set_visible(False)\n",
    "ax.spines[\"right\"].set_visible(False)\n",
    "ax.spines[\"left\"].set_visible(False)\n",
    "ax.grid(axis='both', alpha=.4, linewidth=.1)\n",
    "plt.show()"
   ]
  },
  {
   "cell_type": "markdown",
   "metadata": {},
   "source": [
    "### Box"
   ]
  },
  {
   "cell_type": "code",
   "execution_count": null,
   "metadata": {},
   "outputs": [],
   "source": [
    "mpg['_class'] = mpg['class']\n",
    "mpg"
   ]
  },
  {
   "cell_type": "code",
   "execution_count": null,
   "metadata": {},
   "outputs": [],
   "source": [
    "def add_n_obs(df, group_col, y):\n",
    "    medians_dict = {\n",
    "        group[0]: group[1][y].median()\n",
    "        for group in df.groupby(group_col)\n",
    "    }\n",
    "    xticklabels = [x.get_text() for x in plt.gca().get_xticklabels()]\n",
    "    n_obs = df.groupby(group_col)[y].size().values\n",
    "    for (x, xticklabel), n_ob in zip(enumerate(xticklabels), n_obs):\n",
    "        ax.text(x,\n",
    "                 medians_dict[xticklabel] * 1.01,\n",
    "                 \"#obs : \" + str(n_ob),\n",
    "                 horizontalalignment='center',\n",
    "                 fontdict={'size': 14},\n",
    "                 color='white')\n",
    "\n",
    "\n",
    "_, ax = plt.subplots(figsize=(12, 8), dpi=80)\n",
    "\n",
    "g = sns.boxplot(x='class', y='hwy', data=mpg, notch=False, ax=ax)\n",
    "add_n_obs(mpg, group_col='class', y='hwy')\n",
    "\n",
    "g.set(ylim=(10, 40))\n",
    "ax.set(title='Box Plot of Highway Mileage by Vehicle Class')\n",
    "plt.show()"
   ]
  },
  {
   "cell_type": "markdown",
   "metadata": {},
   "source": [
    "### Pyramid"
   ]
  },
  {
   "cell_type": "code",
   "execution_count": null,
   "metadata": {},
   "outputs": [],
   "source": [
    "email = pd.read_csv('data/email_campaign_funnel.csv')\n",
    "email.head()"
   ]
  },
  {
   "cell_type": "code",
   "execution_count": null,
   "metadata": {},
   "outputs": [],
   "source": [
    "group_col = 'Gender'\n",
    "order_of_bars = email.Stage.unique()[::-1]\n",
    "\n",
    "_, ax = plt.subplots(figsize=(12, 8), dpi=80)\n",
    "\n",
    "colors = [\n",
    "    plt.cm.Spectral(i / float(len(email[group_col].unique()) - 1))\n",
    "    for i in range(len(email[group_col].unique()))\n",
    "]\n",
    "\n",
    "for c, group in zip(colors, email[group_col].unique()):\n",
    "    sns.barplot(x='Users',\n",
    "                y='Stage',\n",
    "                data=email.loc[email[group_col] == group, :],\n",
    "                order=order_of_bars,\n",
    "                color=c,\n",
    "                label=group,\n",
    "                ax=ax)\n",
    "\n",
    "fs = 12\n",
    "ax.set(xlabel=\"$Users$\")\n",
    "ax.set(ylabel=\"Stage of Purchase\")\n",
    "ax.set(title=\"Population Pyramid of the Marketing Funnel\")\n",
    "plt.show()"
   ]
  },
  {
   "cell_type": "markdown",
   "metadata": {},
   "source": [
    "### Category"
   ]
  },
  {
   "cell_type": "code",
   "execution_count": null,
   "metadata": {},
   "outputs": [],
   "source": [
    "titanic = sns.load_dataset(\"titanic\")\n",
    "\n",
    "sns.catplot(x=\"age\",\n",
    "            y=\"embark_town\",\n",
    "            hue=\"sex\",\n",
    "            col=\"class\",\n",
    "            data=titanic[titanic.embark_town.notnull()],\n",
    "            orient=\"h\",\n",
    "            height=5,\n",
    "            aspect=1,\n",
    "            palette=\"tab10\",\n",
    "            kind=\"violin\",\n",
    "            dodge=True,\n",
    "            cut=0)"
   ]
  },
  {
   "cell_type": "markdown",
   "metadata": {},
   "source": [
    "## Composition"
   ]
  },
  {
   "cell_type": "markdown",
   "metadata": {},
   "source": [
    "### Waffle"
   ]
  },
  {
   "cell_type": "code",
   "execution_count": null,
   "metadata": {},
   "outputs": [],
   "source": [
    "from pywaffle import Waffle"
   ]
  },
  {
   "cell_type": "code",
   "execution_count": null,
   "metadata": {},
   "outputs": [],
   "source": [
    "mpg_group = mpg.groupby('class').size().reset_index(name='counts')\n",
    "n_categories = mpg_group.shape[0]\n",
    "\n",
    "colors = [\n",
    "    plt.cm.inferno_r(i / float(n_categories)) for i in range(n_categories)\n",
    "]\n",
    "\n",
    "fig = plt.subplots(\n",
    "    FigureClass=Waffle,\n",
    "    plots={\n",
    "        '111': {\n",
    "            'values':\n",
    "            mpg_group['counts'],\n",
    "            'labels': [\n",
    "                '{0} ({1})'.format(n[0], n[1])\n",
    "                for n in mpg_group[['class', 'counts']].itertuples()\n",
    "            ],\n",
    "            'legend': {\n",
    "                'loc': 'upper left',\n",
    "                'bbox_to_anchor': (1.05, 1),\n",
    "                'fontsize': 12\n",
    "            },\n",
    "            'title': {\n",
    "                'label': '# Vehicles by Class',\n",
    "                'loc': 'center',\n",
    "                'fontsize': 18\n",
    "            }\n",
    "        },\n",
    "    },\n",
    "    rows=7,\n",
    "    colors=colors,\n",
    "    figsize=(12, 8))"
   ]
  },
  {
   "cell_type": "code",
   "execution_count": null,
   "metadata": {},
   "outputs": [],
   "source": [
    "df_class = mpg.groupby('class').size().reset_index(name='counts_class')\n",
    "n_categories = df_class.shape[0]\n",
    "colors_class = [\n",
    "    plt.cm.Set3(i / float(n_categories)) for i in range(n_categories)\n",
    "]\n",
    "\n",
    "df_cyl = mpg.groupby('cyl').size().reset_index(name='counts_cyl')\n",
    "n_categories = df_cyl.shape[0]\n",
    "colors_cyl = [\n",
    "    plt.cm.Spectral(i / float(n_categories)) for i in range(n_categories)\n",
    "]\n",
    "\n",
    "df_make = mpg.groupby('manufacturer').size().reset_index(name='counts_make')\n",
    "n_categories = df_make.shape[0]\n",
    "colors_make = [\n",
    "    plt.cm.tab20b(i / float(n_categories)) for i in range(n_categories)\n",
    "]\n",
    "\n",
    "fig = plt.subplots(\n",
    "    FigureClass=Waffle,\n",
    "    plots={\n",
    "        '311': {\n",
    "            'values':\n",
    "            df_class['counts_class'],\n",
    "            'labels': [\n",
    "                '{1}'.format(n[0], n[1])\n",
    "                for n in df_class[['class', 'counts_class']].itertuples()\n",
    "            ],\n",
    "            'legend': {\n",
    "                'loc': 'upper left',\n",
    "                'bbox_to_anchor': (1.05, 1),\n",
    "                'fontsize': 12,\n",
    "                'title': 'Class'\n",
    "            },\n",
    "            'title': {\n",
    "                'label': '# Vehicles by Class',\n",
    "                'loc': 'center',\n",
    "                'fontsize': 18\n",
    "            },\n",
    "            'colors':\n",
    "            colors_class\n",
    "        },\n",
    "        '312': {\n",
    "            'values':\n",
    "            df_cyl['counts_cyl'],\n",
    "            'labels': [\n",
    "                '{1}'.format(n[0], n[1])\n",
    "                for n in df_cyl[['cyl', 'counts_cyl']].itertuples()\n",
    "            ],\n",
    "            'legend': {\n",
    "                'loc': 'upper left',\n",
    "                'bbox_to_anchor': (1.05, 1),\n",
    "                'fontsize': 12,\n",
    "                'title': 'Cyl'\n",
    "            },\n",
    "            'title': {\n",
    "                'label': '# Vehicles by Cyl',\n",
    "                'loc': 'center',\n",
    "                'fontsize': 18\n",
    "            },\n",
    "            'colors':\n",
    "            colors_cyl\n",
    "        },\n",
    "        '313': {\n",
    "            'values':\n",
    "            df_make['counts_make'],\n",
    "            'labels': [\n",
    "                '{1}'.format(n[0], n[1])\n",
    "                for n in df_make[['manufacturer', 'counts_make']].itertuples()\n",
    "            ],\n",
    "            'legend': {\n",
    "                'loc': 'upper left',\n",
    "                'bbox_to_anchor': (1.05, 1),\n",
    "                'fontsize': 12,\n",
    "                'title': 'Manufacturer'\n",
    "            },\n",
    "            'title': {\n",
    "                'label': '# Vehicles by Make',\n",
    "                'loc': 'center',\n",
    "                'fontsize': 18\n",
    "            },\n",
    "            'colors':\n",
    "            colors_make\n",
    "        }\n",
    "    },\n",
    "    rows=9,\n",
    "    figsize=(16, 14))\n"
   ]
  },
  {
   "cell_type": "markdown",
   "metadata": {},
   "source": [
    "### Pie"
   ]
  },
  {
   "cell_type": "code",
   "execution_count": null,
   "metadata": {},
   "outputs": [],
   "source": [
    "mpg_group = mpg.groupby('class').size().reset_index(name='counts')\n",
    "\n",
    "_, ax = plt.subplots(figsize=(12, 7), subplot_kw=dict(aspect=\"equal\"), dpi=80)\n",
    "\n",
    "data = mpg_group['counts']\n",
    "categories = mpg_group['class']\n",
    "explode = [0, 0, 0, 0, 0, 0.1, 0]\n",
    "\n",
    "\n",
    "def func(pct, allvals):\n",
    "    absolute = int(pct / 100. * np.sum(allvals))\n",
    "    return f\"{pct:.1f}% ({absolute})\"\n",
    "\n",
    "\n",
    "wedges, texts, autotexts = ax.pie(data,\n",
    "                                  autopct=lambda pct: func(pct, data),\n",
    "                                  textprops=dict(color=\"w\"),\n",
    "                                  colors=plt.cm.Dark2.colors,\n",
    "                                  startangle=140,\n",
    "                                  explode=explode)\n",
    "\n",
    "ax.legend(wedges,\n",
    "          categories,\n",
    "          title=\"Vehicle Class\",\n",
    "          loc=\"center left\",\n",
    "          bbox_to_anchor=(1, 0, 0.5, 1))\n",
    "plt.setp(autotexts, size=10, weight=700)\n",
    "ax.set(title=\"Class of Vehicles: Pie Chart\")\n",
    "plt.show()"
   ]
  },
  {
   "cell_type": "markdown",
   "metadata": {},
   "source": [
    "### Peaks"
   ]
  },
  {
   "cell_type": "code",
   "execution_count": 5,
   "metadata": {},
   "outputs": [
    {
     "data": {
      "text/html": [
       "<div>\n",
       "<style scoped>\n",
       "    .dataframe tbody tr th:only-of-type {\n",
       "        vertical-align: middle;\n",
       "    }\n",
       "\n",
       "    .dataframe tbody tr th {\n",
       "        vertical-align: top;\n",
       "    }\n",
       "\n",
       "    .dataframe thead th {\n",
       "        text-align: right;\n",
       "    }\n",
       "</style>\n",
       "<table border=\"1\" class=\"dataframe\">\n",
       "  <thead>\n",
       "    <tr style=\"text-align: right;\">\n",
       "      <th></th>\n",
       "      <th>date</th>\n",
       "      <th>value</th>\n",
       "    </tr>\n",
       "  </thead>\n",
       "  <tbody>\n",
       "    <tr>\n",
       "      <th>0</th>\n",
       "      <td>1949-01-01</td>\n",
       "      <td>112</td>\n",
       "    </tr>\n",
       "    <tr>\n",
       "      <th>1</th>\n",
       "      <td>1949-02-01</td>\n",
       "      <td>118</td>\n",
       "    </tr>\n",
       "    <tr>\n",
       "      <th>2</th>\n",
       "      <td>1949-03-01</td>\n",
       "      <td>132</td>\n",
       "    </tr>\n",
       "    <tr>\n",
       "      <th>3</th>\n",
       "      <td>1949-04-01</td>\n",
       "      <td>129</td>\n",
       "    </tr>\n",
       "    <tr>\n",
       "      <th>4</th>\n",
       "      <td>1949-05-01</td>\n",
       "      <td>121</td>\n",
       "    </tr>\n",
       "  </tbody>\n",
       "</table>\n",
       "</div>"
      ],
      "text/plain": [
       "         date  value\n",
       "0  1949-01-01    112\n",
       "1  1949-02-01    118\n",
       "2  1949-03-01    132\n",
       "3  1949-04-01    129\n",
       "4  1949-05-01    121"
      ]
     },
     "execution_count": 5,
     "metadata": {},
     "output_type": "execute_result"
    }
   ],
   "source": [
    "passengers = pd.read_csv('data/air_passengers.csv')\n",
    "passengers.head()"
   ]
  },
  {
   "cell_type": "code",
   "execution_count": 6,
   "metadata": {},
   "outputs": [],
   "source": [
    "traffic = passengers.value\n",
    "doublediff = np.diff(np.sign(np.diff(traffic)))\n",
    "peak_locations = np.where(doublediff == -2)[0] + 1\n",
    "\n",
    "doublediff2 = np.diff(np.sign(np.diff(-1 * traffic)))\n",
    "trough_locations = np.where(doublediff2 == -2)[0] + 1"
   ]
  },
  {
   "cell_type": "code",
   "execution_count": 7,
   "metadata": {},
   "outputs": [
    {
     "ename": "SyntaxError",
     "evalue": "invalid syntax (3365575527.py, line 37)",
     "output_type": "error",
     "traceback": [
      "\u001b[0;36m  File \u001b[0;32m\"/var/folders/bz/8yf5rf0s1yzd3gl6nw6xvclw0000gn/T/ipykernel_4882/3365575527.py\"\u001b[0;36m, line \u001b[0;32m37\u001b[0m\n\u001b[0;31m    ax.set_xticks(ticks=xtick_location)\u001b[0m\n\u001b[0m    ^\u001b[0m\n\u001b[0;31mSyntaxError\u001b[0m\u001b[0;31m:\u001b[0m invalid syntax\n"
     ]
    }
   ],
   "source": [
    "_, ax = plt.subplots(figsize=(12, 8), dpi=80)\n",
    "\n",
    "ax.plot('date', 'value', data=passengers, color='tab:blue', label='Air Traffic')\n",
    "\n",
    "ax.scatter(passengers.date[peak_locations],\n",
    "            passengers.value[peak_locations],\n",
    "            marker=mpl.markers.CARETUPBASE,\n",
    "            color='tab:green',\n",
    "            s=100,\n",
    "            label='Peaks')\n",
    "\n",
    "ax.scatter(passengers.date[trough_locations],\n",
    "            passengers.value[trough_locations],\n",
    "            marker=mpl.markers.CARETDOWNBASE,\n",
    "            color='tab:red',\n",
    "            s=100,\n",
    "            label='Troughs')\n",
    "\n",
    "for t, p in zip(trough_locations[1::5], peak_locations[::3]):\n",
    "    ax.text(passengers.date[p],\n",
    "             passengers.value[p] + 15,\n",
    "             passengers.date[p],\n",
    "             horizontalalignment='center',\n",
    "             color='darkgreen')\n",
    "\n",
    "    ax.text(passengers.date[t],\n",
    "             passengers.value[t] - 35,\n",
    "             passengers.date[t],\n",
    "             horizontalalignment='center',\n",
    "             color='darkred')\n",
    "\n",
    "xtick_location = passengers.index.tolist()[::6]\n",
    "xtick_labels = passengers.date.tolist()[::6]\n",
    "ytick_labels = passengers.value.tolist()[::6]\n",
    "\n",
    "ax.set(ylim=(50, 750)\n",
    "ax.set_xticks(ticks=xtick_location)\n",
    "ax.set_xticklabels(labels=xtick_labels, rotation=90, alpha=.7)\n",
    "ax.set(title='Peak and Troughs of Air Passengers Traffic (1949 - 1969)',\n",
    "             fontsize=16)\n",
    "ax.set_yticklabels(ytick_labels, alpha=.7)\n",
    "\n",
    "ax.spines['top'].set_alpha(.0)\n",
    "ax.spines['bottom'].set_alpha(.3)\n",
    "ax.spines['right'].set_alpha(.0)\n",
    "ax.spines['left'].set_alpha(.3)\n",
    "\n",
    "ax.legend(loc='upper left')\n",
    "ax.grid(axis='y', alpha=.3)\n",
    "plt.show()"
   ]
  },
  {
   "cell_type": "markdown",
   "metadata": {},
   "source": [
    "### Cross Correlation"
   ]
  },
  {
   "cell_type": "code",
   "execution_count": 8,
   "metadata": {},
   "outputs": [],
   "source": [
    "import statsmodels.tsa.stattools as stattools"
   ]
  },
  {
   "cell_type": "code",
   "execution_count": 9,
   "metadata": {},
   "outputs": [
    {
     "ename": "SyntaxError",
     "evalue": "invalid syntax (844131091.py, line 20)",
     "output_type": "error",
     "traceback": [
      "\u001b[0;36m  File \u001b[0;32m\"/var/folders/bz/8yf5rf0s1yzd3gl6nw6xvclw0000gn/T/ipykernel_4882/844131091.py\"\u001b[0;36m, line \u001b[0;32m20\u001b[0m\n\u001b[0;31m    plt.show()\u001b[0m\n\u001b[0m    ^\u001b[0m\n\u001b[0;31mSyntaxError\u001b[0m\u001b[0;31m:\u001b[0m invalid syntax\n"
     ]
    }
   ],
   "source": [
    "mortality = pd.read_csv('data/mortality.csv')\n",
    "x = mortality['mdeaths']\n",
    "y = mortality['fdeaths']\n",
    "\n",
    "ccs = stattools.ccf(x, y)[:100]\n",
    "nlags = len(ccs)\n",
    "\n",
    "conf_level = 2 / np.sqrt(nlags)\n",
    "\n",
    "_, ax = plt.subplots(figsize=(12, 8), dpi=80)\n",
    "\n",
    "ax.hlines(0, xmin=0, xmax=100, color='gray')\n",
    "ax.hlines(conf_level, xmin=0, xmax=100, color='gray')\n",
    "ax.hlines(-conf_level, xmin=0, xmax=100, color='gray')\n",
    "\n",
    "ax.bar(x=np.arange(len(ccs)), height=ccs, width=.3)\n",
    "\n",
    "ax.set(title='$Cross\\ Correlation\\ Plot:\\ mdeaths\\ vs\\ fdeaths$')\n",
    "ax.set(xlim=(0, len(ccs))\n",
    "plt.show()"
   ]
  },
  {
   "cell_type": "markdown",
   "metadata": {},
   "source": [
    "### Decomposition"
   ]
  },
  {
   "cell_type": "code",
   "execution_count": null,
   "metadata": {},
   "outputs": [],
   "source": [
    "from statsmodels.tsa.seasonal import seasonal_decompose\n",
    "from dateutil.parser import parse"
   ]
  },
  {
   "cell_type": "code",
   "execution_count": null,
   "metadata": {},
   "outputs": [],
   "source": [
    "dates = pd.DatetimeIndex(\n",
    "    [parse(d).strftime('%Y-%m-01') for d in passengers['date']])\n",
    "passengers.set_index(dates, inplace=True)\n",
    "\n",
    "result = seasonal_decompose(passengers['value'], model='multiplicative')\n",
    "\n",
    "plt.rcParams.update({'figure.figsize': (12, 8)})\n",
    "\n",
    "result.plot().suptitle('Time Series Decomposition of Air Passengers')\n",
    "plt.show()"
   ]
  },
  {
   "cell_type": "markdown",
   "metadata": {},
   "source": [
    "### Doule Y"
   ]
  },
  {
   "cell_type": "code",
   "execution_count": null,
   "metadata": {},
   "outputs": [],
   "source": [
    "economics = pd.read_csv('data/economics.csv', parse_dates=['date'])\n",
    "\n",
    "economics.head()"
   ]
  },
  {
   "cell_type": "code",
   "execution_count": null,
   "metadata": {},
   "outputs": [],
   "source": [
    "x = economics['date']\n",
    "y1 = economics['psavert']\n",
    "y2 = economics['unemploy']\n",
    "\n",
    "_, ax = plt.subplots(figsize=(12, 8), dpi=80)\n",
    "ax.plot(x, y1, color='tab:red')\n",
    "\n",
    "# Plot Line2 (Right Y Axis)\n",
    "ax2 = ax.twinx()  # instantiate a second axes that shares the same x-axis\n",
    "ax2.plot(x, y2, color='tab:blue')\n",
    "\n",
    "ax.set(xlabel='Year')\n",
    "ax.tick_params(axis='x', rotation=0)\n",
    "ax.set(ylabel='Personal Savings Rate', color='tab:red')\n",
    "ax.tick_params(axis='y', rotation=0, labelcolor='tab:red')\n",
    "ax.grid(alpha=.4)\n",
    "\n",
    "ax2.set(ylabel='# Unemployed (1000\\'s)', color='tab:blue')\n",
    "ax2.tick_params(axis='y', labelcolor='tab:blue')\n",
    "ax2.set(title=\n",
    "    'Personal Savings Rate vs Unemployed: Plotting in Secondary Y Axis',\n",
    "    fontsize=22)\n",
    "plt.show()"
   ]
  },
  {
   "cell_type": "markdown",
   "metadata": {},
   "source": [
    "### SEM"
   ]
  },
  {
   "cell_type": "code",
   "execution_count": null,
   "metadata": {},
   "outputs": [],
   "source": [
    "from scipy.stats import sem"
   ]
  },
  {
   "cell_type": "code",
   "execution_count": null,
   "metadata": {},
   "outputs": [],
   "source": [
    "orders = pd.read_csv('data/user_orders_hourofday.csv')\n",
    "orders.head()"
   ]
  },
  {
   "cell_type": "code",
   "execution_count": null,
   "metadata": {},
   "outputs": [],
   "source": [
    "orders_mean = orders.groupby('order_hour_of_day').quantity.mean()\n",
    "orders_se = orders.groupby('order_hour_of_day').quantity.apply(sem).mul(1.96)\n",
    "\n",
    "x = orders_mean.index\n",
    "\n",
    "fig, ax = plt.subplots(figsize=(12, 8), dpi=80)\n",
    "ax.set(ylabel='# Orders')\n",
    "ax.plot(x, orders_mean, color='white', lw=2)\n",
    "ax.fill_between(x,\n",
    "                orders_mean - orders_se,\n",
    "                orders_mean + orders_se,\n",
    "                color='#3F5D7D')\n",
    "\n",
    "ax.spines['top'].set_alpha(0)\n",
    "ax.spines['bottom'].set_alpha(1)\n",
    "ax.spines['right'].set_alpha(0)\n",
    "ax.spines['left'].set_alpha(1)\n",
    "ax.set(title='User Orders by Hour of Day (95% confidence)')\n",
    "ax.set(xlabel='Hour of Day')\n",
    "\n",
    "s, e = ax.get_xlim()\n",
    "ax.set(xlim=(s, e)\n",
    "\n",
    "for y in range(8, 20, 2):\n",
    "    ax.hlines(y,\n",
    "               xmin=s,\n",
    "               xmax=e,\n",
    "               colors='black',\n",
    "               alpha=0.5,\n",
    "               linestyles='--',\n",
    "               lw=0.5)\n",
    "\n",
    "plt.show()"
   ]
  },
  {
   "cell_type": "code",
   "execution_count": null,
   "metadata": {},
   "outputs": [],
   "source": [
    "from dateutil.parser import parse\n",
    "from scipy.stats import sem"
   ]
  },
  {
   "cell_type": "code",
   "execution_count": null,
   "metadata": {},
   "outputs": [],
   "source": [
    "orders_45d = pd.read_csv('data/orders_45d.csv',\n",
    "                         parse_dates=['purchase_time', 'purchase_date'])\n",
    "orders_45d.head()"
   ]
  },
  {
   "cell_type": "code",
   "execution_count": null,
   "metadata": {},
   "outputs": [],
   "source": [
    "orders_mean = orders_45d.groupby('purchase_date').quantity.mean()\n",
    "orders_se = orders_45d.groupby('purchase_date').quantity.apply(sem).mul(1.96)\n",
    "\n",
    "x = [d.date().strftime('%Y-%m-%d') for d in orders_mean.index]\n",
    "\n",
    "_, ax = plt.subplots(figsize=(12, 8), dpi=80)\n",
    "\n",
    "ax.plot(x, orders_mean, color='white', lw=2)\n",
    "ax.fill_between(x,\n",
    "                orders_mean - orders_se,\n",
    "                orders_mean + orders_se,\n",
    "                color='#3F5D7D')\n",
    "\n",
    "ax.spines['top'].set_alpha(0)\n",
    "ax.spines['bottom'].set_alpha(1)\n",
    "ax.spines['right'].set_alpha(0)\n",
    "ax.spines['left'].set_alpha(1)\n",
    "\n",
    "ax.set(ylabel='# Daily Orders')\n",
    "ax.set_xticks(np.arange(0, len(x), 5))\n",
    "ax.set(title=\n",
    "    'Daily Order Quantity of Brazilian Retail with Error Bands (95% confidence)',\n",
    "    fontsize=20)\n",
    "\n",
    "s, e = ax.get_xlim()\n",
    "ax.set(xlim=s, e - 2)\n",
    "ax.set(ylim=(4, 10)\n",
    "\n",
    "for y in range(5, 10, 1):\n",
    "    ax.hlines(y,\n",
    "               xmin=s,\n",
    "               xmax=e,\n",
    "               colors='black',\n",
    "               alpha=0.5,\n",
    "               linestyles='--',\n",
    "               lw=0.5)\n",
    "\n",
    "plt.show()"
   ]
  },
  {
   "cell_type": "markdown",
   "metadata": {},
   "source": [
    "### Area"
   ]
  },
  {
   "cell_type": "code",
   "execution_count": 10,
   "metadata": {},
   "outputs": [
    {
     "data": {
      "image/png": "[encoded data removed]",
      "text/plain": [
       "<Figure size 960x640 with 1 Axes>"
      ]
     },
     "metadata": {
      "needs_background": "light"
     },
     "output_type": "display_data"
    }
   ],
   "source": [
    "economics = pd.read_csv('data/economics.csv', parse_dates=['date'])\n",
    "\n",
    "x = np.arange(economics.shape[0])\n",
    "y_returns = (economics.psavert.diff().fillna(0) /\n",
    "             economics.psavert.shift(1)).fillna(0) * 100\n",
    "\n",
    "_, ax = plt.subplots(figsize=(12, 8), dpi=80)\n",
    "\n",
    "ax.fill_between(x[1:],\n",
    "                y_returns[1:],\n",
    "                0,\n",
    "                where=y_returns[1:] >= 0,\n",
    "                facecolor='green',\n",
    "                interpolate=True,\n",
    "                alpha=0.7)\n",
    "\n",
    "ax.fill_between(x[1:],\n",
    "                y_returns[1:],\n",
    "                0,\n",
    "                where=y_returns[1:] <= 0,\n",
    "                facecolor='red',\n",
    "                interpolate=True,\n",
    "                alpha=0.7)\n",
    "\n",
    "ax.annotate('Peak \\n1975',\n",
    "             xy=(94.0, 21.0),\n",
    "             xytext=(88.0, 28),\n",
    "             bbox=dict(boxstyle='square', fc='firebrick'),\n",
    "             arrowprops=dict(facecolor='steelblue', shrink=0.05),\n",
    "             fontsize=15,\n",
    "             color='white')\n",
    "\n",
    "xtickvals = [\n",
    "    str(m)[:3].upper() + '-' + str(y)\n",
    "    for y, m in zip(economics.date.dt.year, economics.date.dt.month_name())\n",
    "]\n",
    "\n",
    "ax.set_xticks(x[::6])\n",
    "ax.set_xticklabels(xtickvals[::6],\n",
    "                   rotation=90,\n",
    "                   fontdict={\n",
    "                       'horizontalalignment': 'center',\n",
    "                       'verticalalignment': 'center_baseline'\n",
    "                   })\n",
    "ax.set(xlim=(1, 100), ylim=(-35, 35))\n",
    "ax.set(title='Month Economics Return %')\n",
    "ax.set(ylabel='Monthly returns %')\n",
    "ax.grid(alpha=0.5)\n",
    "plt.show()"
   ]
  },
  {
   "cell_type": "markdown",
   "metadata": {},
   "source": [
    "### Stacked Area"
   ]
  },
  {
   "cell_type": "code",
   "execution_count": 11,
   "metadata": {},
   "outputs": [
    {
     "ename": "SyntaxError",
     "evalue": "positional argument follows keyword argument (3336207280.py, line 34)",
     "output_type": "error",
     "traceback": [
      "\u001b[0;36m  File \u001b[0;32m\"/var/folders/bz/8yf5rf0s1yzd3gl6nw6xvclw0000gn/T/ipykernel_4882/3336207280.py\"\u001b[0;36m, line \u001b[0;32m34\u001b[0m\n\u001b[0;31m    ax.set(xlim=x[0], x[-1])\u001b[0m\n\u001b[0m                           ^\u001b[0m\n\u001b[0;31mSyntaxError\u001b[0m\u001b[0;31m:\u001b[0m positional argument follows keyword argument\n"
     ]
    }
   ],
   "source": [
    "df = pd.read_csv('data/night_visitors.csv', parse_dates=['yearmon'])\n",
    "\n",
    "mycolors = [\n",
    "    'tab:red', 'tab:blue', 'tab:green', 'tab:orange', 'tab:brown', 'tab:grey',\n",
    "    'tab:pink', 'tab:olive'\n",
    "]\n",
    "\n",
    "columns = df.columns[1:]\n",
    "labs = columns.values.tolist()\n",
    "\n",
    "x = df['yearmon'].values.tolist()\n",
    "y0 = df[columns[0]].values.tolist()\n",
    "y1 = df[columns[1]].values.tolist()\n",
    "y2 = df[columns[2]].values.tolist()\n",
    "y3 = df[columns[3]].values.tolist()\n",
    "y4 = df[columns[4]].values.tolist()\n",
    "y5 = df[columns[5]].values.tolist()\n",
    "y6 = df[columns[6]].values.tolist()\n",
    "y7 = df[columns[7]].values.tolist()\n",
    "\n",
    "y = np.vstack([y0, y2, y4, y6, y7, y5, y1, y3])\n",
    "\n",
    "labs = columns.values.tolist()\n",
    "\n",
    "_, ax = plt.subplots(figsize=(12, 8), dpi=80)\n",
    "\n",
    "ax.stackplot(x, y, labels=labs, colors=mycolors, alpha=0.8)\n",
    "\n",
    "ax.set(title='Night Visitors in Australian Regions')\n",
    "ax.set(ylim=[0, 100000])\n",
    "ax.legend(ncol=4)\n",
    "ax.set_xticklabels(x[::5], horizontalalignment='center')\n",
    "ax.set_yticklabels(np.arange(10000, 100000, 20000))\n",
    "ax.set(xlim=x[0], x[-1])\n",
    "\n",
    "ax.spines['top'].set_alpha(0)\n",
    "ax.spines['bottom'].set_alpha(.3)\n",
    "ax.spines['right'].set_alpha(0)\n",
    "ax.spines['left'].set_alpha(.3)\n",
    "\n",
    "plt.show()"
   ]
  },
  {
   "cell_type": "markdown",
   "metadata": {},
   "source": [
    "### Unstacked Area "
   ]
  },
  {
   "cell_type": "code",
   "execution_count": null,
   "metadata": {},
   "outputs": [],
   "source": [
    "x = economics['date'].values.tolist()\n",
    "y1 = economics['psavert'].values.tolist()\n",
    "y2 = economics['uempmed'].values.tolist()\n",
    "mycolors = [\n",
    "    'tab:red', 'tab:blue', 'tab:green', 'tab:orange', 'tab:brown', 'tab:grey',\n",
    "    'tab:pink', 'tab:olive'\n",
    "]\n",
    "columns = ['psavert', 'uempmed']\n",
    "\n",
    "fig, ax = plt.subplots(1, 1, figsize=(16, 9), dpi=80)\n",
    "ax.fill_between(x,\n",
    "                y1=y1,\n",
    "                y2=0,\n",
    "                label=columns[1],\n",
    "                alpha=0.5,\n",
    "                color=mycolors[1],\n",
    "                linewidth=2)\n",
    "ax.fill_between(x,\n",
    "                y1=y2,\n",
    "                y2=0,\n",
    "                label=columns[0],\n",
    "                alpha=0.5,\n",
    "                color=mycolors[0],\n",
    "                linewidth=2)\n",
    "\n",
    "ax.set(title='Personal Savings Rate vs Median Duration of Unemployment',\n",
    "             fontsize=18)\n",
    "ax.set(ylim=[0, 30])\n",
    "ax.legend(loc='best')\n",
    "ax.set_xticklabels(x[::50], horizontalalignment='center')\n",
    "ax.set_yticklabels(np.arange(2.5, 30.0, 2.5))\n",
    "ax.set(xlim=(-10, x[-1])\n",
    "\n",
    "for y in np.arange(2.5, 30.0, 2.5):\n",
    "    ax.hlines(y,\n",
    "               xmin=0,\n",
    "               xmax=len(x),\n",
    "               colors='black',\n",
    "               alpha=0.3,\n",
    "               linestyles='--',\n",
    "               lw=0.5)\n",
    "\n",
    "ax.spines['top'].set_alpha(0)\n",
    "ax.spines['bottom'].set_alpha(.3)\n",
    "ax.spines['right'].set_alpha(0)\n",
    "ax.spines['left'].set_alpha(.3)\n",
    "plt.show()"
   ]
  },
  {
   "cell_type": "markdown",
   "metadata": {},
   "source": [
    "### Seasonal"
   ]
  },
  {
   "cell_type": "code",
   "execution_count": null,
   "metadata": {},
   "outputs": [],
   "source": [
    "passengers = pd.read_csv('data/air_passengers.csv')\n",
    "\n",
    "passengers['year'] = [parse(d).year for d in passengers.date]\n",
    "passengers['month'] = [parse(d).strftime('%b') for d in passengers.date]\n",
    "years = passengers['year'].unique()\n",
    "\n",
    "mycolors = [\n",
    "    'tab:red', 'tab:blue', 'tab:green', 'tab:orange', 'tab:brown', 'tab:grey',\n",
    "    'tab:pink', 'tab:olive', 'deeppink', 'steelblue', 'firebrick',\n",
    "    'mediumseagreen'\n",
    "]\n",
    "\n",
    "_, ax = plt.subplots(figsize=(12, 8), dpi=80)\n",
    "\n",
    "for i, y in enumerate(years):\n",
    "    ax.plot('month',\n",
    "            'value',\n",
    "            data=passengers.loc[passengers.year == y, :],\n",
    "            color=mycolors[i],\n",
    "            label=y)\n",
    "    ax.text(passengers.loc[passengers.year == y, :].shape[0] - .9,\n",
    "            passengers.loc[passengers.year == y, 'value'][-1:].values[0],\n",
    "            y,\n",
    "            fontsize=12,\n",
    "            color=mycolors[i])\n",
    "\n",
    "ax.set(xlim=(-0.3, 11), ylim=(50, 750))\n",
    "ax.set(ylabel='$Air Traffic$')\n",
    "ax.set(title=\"Monthly Seasonal Plot: Air Passengers Traffic (1949 - 1969)\",\n",
    "             fontsize=16)\n",
    "ax.grid(axis='y', alpha=.3)\n",
    "plt.show()"
   ]
  },
  {
   "cell_type": "markdown",
   "metadata": {},
   "source": [
    "## Group"
   ]
  },
  {
   "cell_type": "markdown",
   "metadata": {},
   "source": [
    "### Bar"
   ]
  },
  {
   "cell_type": "code",
   "execution_count": null,
   "metadata": {},
   "outputs": [],
   "source": [
    "mpg = pd.read_csv('data/mpg.csv')\n",
    "mpg_group = mpg[['cty', 'manufacturer'\n",
    "                ]].groupby('manufacturer').apply(lambda x: x.mean())\n",
    "mpg_group.sort_values('cty', inplace=True)\n",
    "mpg_group.reset_index(inplace=True)\n",
    "mpg_group.head()"
   ]
  },
  {
   "cell_type": "code",
   "execution_count": null,
   "metadata": {},
   "outputs": [],
   "source": [
    "fig, ax = plt.subplots(figsize=(12, 8), facecolor='white', dpi=80)\n",
    "\n",
    "ax.bar(x=mpg_group.index, height=mpg_group.cty)\n",
    "\n",
    "for i, cty in enumerate(mpg_group.cty):\n",
    "    ax.text(i, cty + 0.5, round(cty, 1), horizontalalignment='center')\n",
    "\n",
    "p1 = patches.Rectangle((.57, -0.005),\n",
    "                       width=.33,\n",
    "                       height=.13,\n",
    "                       alpha=.1,\n",
    "                       facecolor='green',\n",
    "                       transform=fig.transFigure)\n",
    "p2 = patches.Rectangle((.124, -0.005),\n",
    "                       width=.446,\n",
    "                       height=.13,\n",
    "                       alpha=.1,\n",
    "                       facecolor='red',\n",
    "                       transform=fig.transFigure)\n",
    "fig.add_artist(p1)\n",
    "fig.add_artist(p2)\n",
    "\n",
    "fs = 12\n",
    "ax.set(ylim=(0, 30))\n",
    "ax.set(ylabel='Miles Per Gallon')\n",
    "ax.set_xticks(mpg_group.index)\n",
    "ax.set_xticklabels(mpg_group.manufacturer.str.upper(),\n",
    "                   rotation=60,\n",
    "                   horizontalalignment='right',\n",
    "                   fontsize=fs)\n",
    "ax.set(title='Bar Chart for Highway Mileage')\n",
    "plt.show()"
   ]
  },
  {
   "cell_type": "markdown",
   "metadata": {},
   "source": [
    "### Dendrogram"
   ]
  },
  {
   "cell_type": "code",
   "execution_count": 12,
   "metadata": {},
   "outputs": [],
   "source": [
    "import scipy.cluster.hierarchy as shc"
   ]
  },
  {
   "cell_type": "code",
   "execution_count": 13,
   "metadata": {},
   "outputs": [
    {
     "data": {
      "image/png": "[encoded data removed]",
      "text/plain": [
       "<Figure size 960x640 with 1 Axes>"
      ]
     },
     "metadata": {
      "needs_background": "light"
     },
     "output_type": "display_data"
    }
   ],
   "source": [
    "arrests = pd.read_csv('data/us_arrests.csv')\n",
    "\n",
    "_, ax = plt.subplots(figsize=(12, 8), dpi=80)\n",
    "\n",
    "dend = shc.dendrogram(shc.linkage(\n",
    "    arrests[['Murder', 'Assault', 'UrbanPop', 'Rape']], method='ward'),\n",
    "                      labels=arrests.State.values,\n",
    "                      color_threshold=100)\n",
    "\n",
    "ax.set(title=\"USArrests Dendograms\")\n",
    "plt.show()"
   ]
  },
  {
   "cell_type": "markdown",
   "metadata": {},
   "source": [
    "### Cluster"
   ]
  },
  {
   "cell_type": "code",
   "execution_count": 14,
   "metadata": {},
   "outputs": [],
   "source": [
    "from scipy.spatial import ConvexHull\n",
    "from sklearn.cluster import AgglomerativeClustering"
   ]
  },
  {
   "cell_type": "code",
   "execution_count": 15,
   "metadata": {},
   "outputs": [
    {
     "data": {
      "image/png": "[encoded data removed]",
      "text/plain": [
       "<Figure size 960x640 with 1 Axes>"
      ]
     },
     "metadata": {
      "needs_background": "light"
     },
     "output_type": "display_data"
    }
   ],
   "source": [
    "cluster = AgglomerativeClustering(n_clusters=5,\n",
    "                                  affinity='euclidean',\n",
    "                                  linkage='ward')\n",
    "cluster.fit_predict(arrests[['Murder', 'Assault', 'UrbanPop', 'Rape']])\n",
    "\n",
    "_, ax = plt.subplots(figsize=(12, 8), dpi=80)\n",
    "\n",
    "ax.scatter(arrests.iloc[:, 0],\n",
    "           arrests.iloc[:, 1],\n",
    "           c=cluster.labels_,\n",
    "           cmap='tab10')\n",
    "\n",
    "\n",
    "def encircle(x, y, ax=None, **kw):\n",
    "    if not ax:\n",
    "        ax = plt.gca()\n",
    "    p = np.c_[x, y]\n",
    "    hull = ConvexHull(p)\n",
    "    poly = plt.Polygon(p[hull.vertices, :], **kw)\n",
    "    ax.add_patch(poly)\n",
    "\n",
    "\n",
    "encircle(arrests.loc[cluster.labels_ == 0, 'Murder'],\n",
    "         arrests.loc[cluster.labels_ == 0, 'Assault'],\n",
    "         ec='k',\n",
    "         fc='gold',\n",
    "         alpha=0.2,\n",
    "         linewidth=0)\n",
    "encircle(arrests.loc[cluster.labels_ == 1, 'Murder'],\n",
    "         arrests.loc[cluster.labels_ == 1, 'Assault'],\n",
    "         ec='k',\n",
    "         fc='tab:blue',\n",
    "         alpha=0.2,\n",
    "         linewidth=0)\n",
    "encircle(arrests.loc[cluster.labels_ == 2, 'Murder'],\n",
    "         arrests.loc[cluster.labels_ == 2, 'Assault'],\n",
    "         ec='k',\n",
    "         fc='tab:red',\n",
    "         alpha=0.2,\n",
    "         linewidth=0)\n",
    "encircle(arrests.loc[cluster.labels_ == 3, 'Murder'],\n",
    "         arrests.loc[cluster.labels_ == 3, 'Assault'],\n",
    "         ec='k',\n",
    "         fc='tab:green',\n",
    "         alpha=0.2,\n",
    "         linewidth=0)\n",
    "encircle(arrests.loc[cluster.labels_ == 4, 'Murder'],\n",
    "         arrests.loc[cluster.labels_ == 4, 'Assault'],\n",
    "         ec='k',\n",
    "         fc='tab:orange',\n",
    "         alpha=0.2,\n",
    "         linewidth=0)\n",
    "\n",
    "ax.set(xlabel='Murder')\n",
    "ax.set(ylabel='Assault')\n",
    "ax.set(title='Agglomerative Clustering of USArrests (5 Groups)')\n",
    "plt.show()"
   ]
  },
  {
   "cell_type": "markdown",
   "metadata": {},
   "source": [
    "### Andrews Curve"
   ]
  },
  {
   "cell_type": "code",
   "execution_count": 16,
   "metadata": {},
   "outputs": [],
   "source": [
    "from pandas.plotting import andrews_curves"
   ]
  },
  {
   "cell_type": "code",
   "execution_count": 17,
   "metadata": {},
   "outputs": [
    {
     "ename": "SyntaxError",
     "evalue": "invalid syntax (1018967341.py, line 15)",
     "output_type": "error",
     "traceback": [
      "\u001b[0;36m  File \u001b[0;32m\"/var/folders/bz/8yf5rf0s1yzd3gl6nw6xvclw0000gn/T/ipykernel_4882/1018967341.py\"\u001b[0;36m, line \u001b[0;32m15\u001b[0m\n\u001b[0;31m    ax.grid(alpha=0.3)\u001b[0m\n\u001b[0m    ^\u001b[0m\n\u001b[0;31mSyntaxError\u001b[0m\u001b[0;31m:\u001b[0m invalid syntax\n"
     ]
    }
   ],
   "source": [
    "mtcars = pd.read_csv(\"data/mtcars.csv\")\n",
    "mtcars.drop(['cars', 'carname'], axis=1, inplace=True)\n",
    "\n",
    "_, ax = plt.subplots(figsize=(12, 8), dpi=80)\n",
    "\n",
    "andrews_curves(mtcars, 'cyl', colormap='Set1')\n",
    "\n",
    "ax.spines[\"top\"].set_alpha(0)\n",
    "ax.spines[\"bottom\"].set_alpha(.3)\n",
    "ax.spines[\"right\"].set_alpha(0)\n",
    "ax.spines[\"left\"].set_alpha(.3)\n",
    "\n",
    "ax.set(title='Andrews Curves of mtcars')\n",
    "ax.set(xlim=(-3, 3)\n",
    "ax.grid(alpha=0.3)\n",
    "plt.show()"
   ]
  },
  {
   "cell_type": "markdown",
   "metadata": {},
   "source": [
    "### Parallel Coordinates"
   ]
  },
  {
   "cell_type": "code",
   "execution_count": null,
   "metadata": {},
   "outputs": [],
   "source": [
    "from pandas.plotting import parallel_coordinates"
   ]
  },
  {
   "cell_type": "code",
   "execution_count": null,
   "metadata": {},
   "outputs": [],
   "source": [
    "diamonds = pd.read_csv(\"data/diamonds_filter.csv\")\n",
    "\n",
    "_, ax = plt.subplots(figsize=(12, 8), dpi=80)\n",
    "\n",
    "parallel_coordinates(diamonds, 'cut', colormap='Dark2')\n",
    "\n",
    "ax.spines[\"top\"].set_alpha(0)\n",
    "ax.spines[\"bottom\"].set_alpha(.3)\n",
    "ax.spines[\"right\"].set_alpha(0)\n",
    "ax.spines[\"left\"].set_alpha(.3)\n",
    "\n",
    "ax.set(title='Parallel Coordinated of Diamonds')\n",
    "ax.grid(alpha=0.3)\n",
    "plt.show()"
   ]
  },
  {
   "cell_type": "markdown",
   "metadata": {},
   "source": [
    "## Tricks"
   ]
  },
  {
   "cell_type": "markdown",
   "metadata": {},
   "source": [
    "### Zoom-in\n",
    "\n",
    "[inset_axes](https://matplotlib.org/stable/gallery/subplots_axes_and_figures/zoom_inset_axes.html#sphx-glr-gallery-subplots-axes-and-figures-zoom-inset-axes-py)\n",
    "\n",
    "[matplotlib.axes.Axes.indicate_inset_zoom](https://matplotlib.org/3.1.0/api/_as_gen/matplotlib.axes.Axes.indicate_inset_zoom.html)"
   ]
  },
  {
   "cell_type": "code",
   "execution_count": null,
   "metadata": {},
   "outputs": [],
   "source": [
    "step = .1\n",
    "x = np.arange(0,10 + step,step)\n",
    "y = x ** 2"
   ]
  },
  {
   "cell_type": "code",
   "execution_count": null,
   "metadata": {},
   "outputs": [],
   "source": [
    "fig, ax = plt.subplots(figsize=[10,8])\n",
    "ax.plot(x,y)\n",
    "\n",
    "axins = ax.inset_axes([0.1,0.5,0.4,0.4])\n",
    "axins.plot(x[:10],y[:10])\n",
    "\n",
    "ax.indicate_inset_zoom(axins,linewidth=3)\n",
    "\n",
    "axins.set_xticklabels('')\n",
    "axins.set_yticklabels('')\n",
    "plt.show()"
   ]
  },
  {
   "cell_type": "code",
   "execution_count": null,
   "metadata": {},
   "outputs": [],
   "source": []
  }
 ],
 "metadata": {
  "interpreter": {
   "hash": "14395c271f7a23b331c8f5f0139dc82129d4ff410a5b00cf69b55a03a150d670"
  },
  "kernelspec": {
   "display_name": "Python 3.9.5 64-bit ('p39': conda)",
   "language": "python",
   "name": "python395jvsc74a57bd0ff2e645ef952f1284ebef59edbc19ad3cff03e6406671d2dab1ca7ad9588368d"
  },
  "language_info": {
   "codemirror_mode": {
    "name": "ipython",
    "version": 3
   },
   "file_extension": ".py",
   "mimetype": "text/x-python",
   "name": "python",
   "nbconvert_exporter": "python",
   "pygments_lexer": "ipython3",
   "version": "3.9.6"
  },
  "latex_envs": {
   "LaTeX_envs_menu_present": true,
   "autoclose": false,
   "autocomplete": true,
   "bibliofile": "biblio.bib",
   "cite_by": "apalike",
   "current_citInitial": 1,
   "eqLabelWithNumbers": true,
   "eqNumInitial": 1,
   "hotkeys": {
    "equation": "Ctrl-E",
    "itemize": "Ctrl-I"
   },
   "labels_anchors": false,
   "latex_user_defs": false,
   "report_style_numbering": false,
   "user_envs_cfg": false
  },
  "toc": {
   "base_numbering": 1,
   "nav_menu": {},
   "number_sections": true,
   "sideBar": true,
   "skip_h1_title": false,
   "title_cell": "Table of Contents",
   "title_sidebar": "Contents",
   "toc_cell": false,
   "toc_position": {
    "height": "calc(100% - 180px)",
    "left": "10px",
    "top": "150px",
    "width": "312px"
   },
   "toc_section_display": true,
   "toc_window_display": false
  },
  "varInspector": {
   "cols": {
    "lenName": 16,
    "lenType": 16,
    "lenVar": 40
   },
   "kernels_config": {
    "python": {
     "delete_cmd_postfix": "",
     "delete_cmd_prefix": "del ",
     "library": "var_list.py",
     "varRefreshCmd": "print(var_dic_list())"
    },
    "r": {
     "delete_cmd_postfix": ") ",
     "delete_cmd_prefix": "rm(",
     "library": "var_list.r",
     "varRefreshCmd": "cat(var_dic_list()) "
    }
   },
   "types_to_exclude": [
    "module",
    "function",
    "builtin_function_or_method",
    "instance",
    "_Feature"
   ],
   "window_display": false
  },
  "widgets": {
   "application/vnd.jupyter.widget-state+json": {
    "state": {},
    "version_major": 2,
    "version_minor": 0
   }
  }
 },
 "nbformat": 4,
 "nbformat_minor": 4
}
