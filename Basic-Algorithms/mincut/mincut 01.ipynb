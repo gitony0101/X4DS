{
 "metadata": {
  "language_info": {
   "codemirror_mode": {
    "name": "ipython",
    "version": 3
   },
   "file_extension": ".py",
   "mimetype": "text/x-python",
   "name": "python",
   "nbconvert_exporter": "python",
   "pygments_lexer": "ipython3",
   "version": "3.8.8"
  },
  "orig_nbformat": 2,
  "kernelspec": {
   "name": "python388jvsc74a57bd046b9dc6d2b7cffca86f10cfc6629a675913fc288cf586b16d1984440fcaf60c7",
   "display_name": "Python 3.8.8 64-bit ('jnb': conda)"
  }
 },
 "nbformat": 4,
 "nbformat_minor": 2,
 "cells": [
  {
   "cell_type": "code",
   "execution_count": 122,
   "metadata": {},
   "outputs": [],
   "source": [
    "import matplotlib.pyplot as plt \n",
    "import networkx as nx \n",
    "import numpy as np "
   ]
  },
  {
   "cell_type": "code",
   "execution_count": 123,
   "metadata": {},
   "outputs": [],
   "source": [
    "G = nx.Graph()\n",
    "G.add_edge(\"A\", \"1\", capacity=2.0)\n",
    "G.add_edge(\"A\", \"2\", capacity=2.0)\n",
    "G.add_edge(\"A\", \"3\", capacity=2.0)\n",
    "G.add_edge(\"A\", \"4\", capacity=2.0)\n",
    "\n",
    "G.add_edge(\"1\", \"2\", capacity=2.0)\n",
    "G.add_edge(\"1\", \"5\", capacity=2.0)\n",
    "G.add_edge(\"1\", \"6\", capacity=2.0)\n",
    "\n",
    "G.add_edge(\"2\", \"6\", capacity=2.0)\n",
    "G.add_edge(\"2\", \"3\", capacity=2.0)\n",
    "\n",
    "G.add_edge(\"3\", \"7\", capacity=2.0)\n",
    "G.add_edge(\"3\", \"4\", capacity=2.0)\n",
    "\n",
    "G.add_edge(\"4\", \"7\", capacity=2.0)\n",
    "G.add_edge(\"4\", \"8\", capacity=2.0)\n",
    "\n",
    "G.add_edge(\"5\", \"6\", capacity=2.0)\n",
    "G.add_edge(\"5\", \"B\", capacity=2.0)\n",
    "\n",
    "G.add_edge(\"6\", \"7\", capacity=2.0)\n",
    "G.add_edge(\"6\", \"B\", capacity=2.0)\n",
    "\n",
    "G.add_edge(\"7\", \"8\", capacity=2.0)\n",
    "G.add_edge(\"7\", \"B\", capacity=2.0)\n",
    "\n",
    "G.add_edge(\"8\", \"B\", capacity=2.0)"
   ]
  },
  {
   "cell_type": "code",
   "execution_count": 124,
   "metadata": {},
   "outputs": [
    {
     "output_type": "stream",
     "name": "stdout",
     "text": [
      "[('A', '1'), ('A', '2'), ('A', '3'), ('A', '4'), ('1', '2'), ('1', '5'), ('1', '6'), ('2', '6'), ('2', '3'), ('3', '7'), ('3', '4'), ('4', '7'), ('4', '8'), ('5', '6'), ('5', 'B'), ('6', '7'), ('6', 'B'), ('7', '8'), ('7', 'B'), ('8', 'B')]\n"
     ]
    }
   ],
   "source": [
    "print(G.edges)"
   ]
  },
  {
   "cell_type": "code",
   "execution_count": 125,
   "metadata": {},
   "outputs": [],
   "source": [
    "pos = {\n",
    "        'A':(-2,0),\n",
    "        '1':(-1,1.5),\n",
    "        '2':(-1,0.5),\n",
    "        '3':(-1,-0.5),\n",
    "        '4':(-1,-1.5),\n",
    "        '5':(0,1.5),\n",
    "        '6': (0,0.5),\n",
    "        '7':(0,-0.5),\n",
    "        '8':(0,-1.5),\n",
    "        'B':(1,-0),\n",
    "       }"
   ]
  },
  {
   "cell_type": "code",
   "execution_count": 126,
   "metadata": {},
   "outputs": [
    {
     "output_type": "display_data",
     "data": {
      "text/plain": "<Figure size 432x288 with 1 Axes>",
      "image/svg+xml": "<?xml version=\"1.0\" encoding=\"utf-8\" standalone=\"no\"?>\n<!DOCTYPE svg PUBLIC \"-//W3C//DTD SVG 1.1//EN\"\n  \"http://www.w3.org/Graphics/SVG/1.1/DTD/svg11.dtd\">\n<svg height=\"302.4pt\" version=\"1.1\" viewBox=\"0 0 446.4 302.4\" width=\"446.4pt\" xmlns=\"http://www.w3.org/2000/svg\" xmlns:xlink=\"http://www.w3.org/1999/xlink\">\n <metadata>\n  <rdf:RDF xmlns:cc=\"http://creativecommons.org/ns#\" xmlns:dc=\"http://purl.org/dc/elements/1.1/\" xmlns:rdf=\"http://www.w3.org/1999/02/22-rdf-syntax-ns#\">\n   <cc:Work>\n    <dc:type rdf:resource=\"http://purl.org/dc/dcmitype/StillImage\"/>\n    <dc:date>2021-05-09T16:05:41.129991</dc:date>\n    <dc:format>image/svg+xml</dc:format>\n    <dc:creator>\n     <cc:Agent>\n      <dc:title>Matplotlib v3.4.1, https://matplotlib.org/</dc:title>\n     </cc:Agent>\n    </dc:creator>\n   </cc:Work>\n  </rdf:RDF>\n </metadata>\n <defs>\n  <style type=\"text/css\">*{stroke-linecap:butt;stroke-linejoin:round;}</style>\n </defs>\n <g id=\"figure_1\">\n  <g id=\"patch_1\">\n   <path d=\"M 0 302.4 \nL 446.4 302.4 \nL 446.4 0 \nL 0 0 \nz\n\" style=\"fill:#ffffff;\"/>\n  </g>\n  <g id=\"axes_1\">\n   <g id=\"LineCollection_1\">\n    <path clip-path=\"url(#pa6d716e685)\" d=\"M 26.836364 151.2 \nL 157.745455 20.290909 \n\" style=\"fill:none;stroke:#000000;\"/>\n    <path clip-path=\"url(#pa6d716e685)\" d=\"M 26.836364 151.2 \nL 157.745455 107.563636 \n\" style=\"fill:none;stroke:#000000;\"/>\n    <path clip-path=\"url(#pa6d716e685)\" d=\"M 26.836364 151.2 \nL 157.745455 194.836364 \n\" style=\"fill:none;stroke:#000000;\"/>\n    <path clip-path=\"url(#pa6d716e685)\" d=\"M 26.836364 151.2 \nL 157.745455 282.109091 \n\" style=\"fill:none;stroke:#000000;\"/>\n    <path clip-path=\"url(#pa6d716e685)\" d=\"M 157.745455 20.290909 \nL 157.745455 107.563636 \n\" style=\"fill:none;stroke:#000000;\"/>\n    <path clip-path=\"url(#pa6d716e685)\" d=\"M 157.745455 20.290909 \nL 288.654545 20.290909 \n\" style=\"fill:none;stroke:#000000;\"/>\n    <path clip-path=\"url(#pa6d716e685)\" d=\"M 157.745455 20.290909 \nL 288.654545 107.563636 \n\" style=\"fill:none;stroke:#000000;\"/>\n    <path clip-path=\"url(#pa6d716e685)\" d=\"M 157.745455 107.563636 \nL 288.654545 107.563636 \n\" style=\"fill:none;stroke:#000000;\"/>\n    <path clip-path=\"url(#pa6d716e685)\" d=\"M 157.745455 107.563636 \nL 157.745455 194.836364 \n\" style=\"fill:none;stroke:#000000;\"/>\n    <path clip-path=\"url(#pa6d716e685)\" d=\"M 157.745455 194.836364 \nL 288.654545 194.836364 \n\" style=\"fill:none;stroke:#000000;\"/>\n    <path clip-path=\"url(#pa6d716e685)\" d=\"M 157.745455 194.836364 \nL 157.745455 282.109091 \n\" style=\"fill:none;stroke:#000000;\"/>\n    <path clip-path=\"url(#pa6d716e685)\" d=\"M 157.745455 282.109091 \nL 288.654545 194.836364 \n\" style=\"fill:none;stroke:#000000;\"/>\n    <path clip-path=\"url(#pa6d716e685)\" d=\"M 157.745455 282.109091 \nL 288.654545 282.109091 \n\" style=\"fill:none;stroke:#000000;\"/>\n    <path clip-path=\"url(#pa6d716e685)\" d=\"M 288.654545 20.290909 \nL 288.654545 107.563636 \n\" style=\"fill:none;stroke:#000000;\"/>\n    <path clip-path=\"url(#pa6d716e685)\" d=\"M 288.654545 20.290909 \nL 419.563636 151.2 \n\" style=\"fill:none;stroke:#000000;\"/>\n    <path clip-path=\"url(#pa6d716e685)\" d=\"M 288.654545 107.563636 \nL 288.654545 194.836364 \n\" style=\"fill:none;stroke:#000000;\"/>\n    <path clip-path=\"url(#pa6d716e685)\" d=\"M 288.654545 107.563636 \nL 419.563636 151.2 \n\" style=\"fill:none;stroke:#000000;\"/>\n    <path clip-path=\"url(#pa6d716e685)\" d=\"M 288.654545 194.836364 \nL 288.654545 282.109091 \n\" style=\"fill:none;stroke:#000000;\"/>\n    <path clip-path=\"url(#pa6d716e685)\" d=\"M 288.654545 194.836364 \nL 419.563636 151.2 \n\" style=\"fill:none;stroke:#000000;\"/>\n    <path clip-path=\"url(#pa6d716e685)\" d=\"M 288.654545 282.109091 \nL 419.563636 151.2 \n\" style=\"fill:none;stroke:#000000;\"/>\n   </g>\n   <g id=\"PathCollection_1\">\n    <defs>\n     <path d=\"M 0 8.660254 \nC 2.296726 8.660254 4.499694 7.747755 6.123724 6.123724 \nC 7.747755 4.499694 8.660254 2.296726 8.660254 0 \nC 8.660254 -2.296726 7.747755 -4.499694 6.123724 -6.123724 \nC 4.499694 -7.747755 2.296726 -8.660254 0 -8.660254 \nC -2.296726 -8.660254 -4.499694 -7.747755 -6.123724 -6.123724 \nC -7.747755 -4.499694 -8.660254 -2.296726 -8.660254 0 \nC -8.660254 2.296726 -7.747755 4.499694 -6.123724 6.123724 \nC -4.499694 7.747755 -2.296726 8.660254 0 8.660254 \nz\n\" id=\"mf75721765d\" style=\"stroke:#ffff00;\"/>\n    </defs>\n    <g clip-path=\"url(#pa6d716e685)\">\n     <use style=\"fill:#ffff00;stroke:#ffff00;\" x=\"26.836364\" xlink:href=\"#mf75721765d\" y=\"151.2\"/>\n     <use style=\"fill:#ffff00;stroke:#ffff00;\" x=\"157.745455\" xlink:href=\"#mf75721765d\" y=\"20.290909\"/>\n     <use style=\"fill:#ffff00;stroke:#ffff00;\" x=\"157.745455\" xlink:href=\"#mf75721765d\" y=\"107.563636\"/>\n     <use style=\"fill:#ffff00;stroke:#ffff00;\" x=\"157.745455\" xlink:href=\"#mf75721765d\" y=\"194.836364\"/>\n     <use style=\"fill:#ffff00;stroke:#ffff00;\" x=\"157.745455\" xlink:href=\"#mf75721765d\" y=\"282.109091\"/>\n     <use style=\"fill:#ffff00;stroke:#ffff00;\" x=\"288.654545\" xlink:href=\"#mf75721765d\" y=\"20.290909\"/>\n     <use style=\"fill:#ffff00;stroke:#ffff00;\" x=\"288.654545\" xlink:href=\"#mf75721765d\" y=\"107.563636\"/>\n     <use style=\"fill:#ffff00;stroke:#ffff00;\" x=\"288.654545\" xlink:href=\"#mf75721765d\" y=\"194.836364\"/>\n     <use style=\"fill:#ffff00;stroke:#ffff00;\" x=\"288.654545\" xlink:href=\"#mf75721765d\" y=\"282.109091\"/>\n     <use style=\"fill:#ffff00;stroke:#ffff00;\" x=\"419.563636\" xlink:href=\"#mf75721765d\" y=\"151.2\"/>\n    </g>\n   </g>\n   <g id=\"text_1\">\n    <g clip-path=\"url(#pa6d716e685)\">\n     <!-- A -->\n     <g transform=\"translate(22.731989 154.51125)scale(0.12 -0.12)\">\n      <defs>\n       <path d=\"M 2188 4044 \nL 1331 1722 \nL 3047 1722 \nL 2188 4044 \nz\nM 1831 4666 \nL 2547 4666 \nL 4325 0 \nL 3669 0 \nL 3244 1197 \nL 1141 1197 \nL 716 0 \nL 50 0 \nL 1831 4666 \nz\n\" id=\"DejaVuSans-41\" transform=\"scale(0.015625)\"/>\n      </defs>\n      <use xlink:href=\"#DejaVuSans-41\"/>\n     </g>\n    </g>\n   </g>\n   <g id=\"text_2\">\n    <g clip-path=\"url(#pa6d716e685)\">\n     <!-- 1 -->\n     <g transform=\"translate(153.927955 23.602159)scale(0.12 -0.12)\">\n      <defs>\n       <path d=\"M 794 531 \nL 1825 531 \nL 1825 4091 \nL 703 3866 \nL 703 4441 \nL 1819 4666 \nL 2450 4666 \nL 2450 531 \nL 3481 531 \nL 3481 0 \nL 794 0 \nL 794 531 \nz\n\" id=\"DejaVuSans-31\" transform=\"scale(0.015625)\"/>\n      </defs>\n      <use xlink:href=\"#DejaVuSans-31\"/>\n     </g>\n    </g>\n   </g>\n   <g id=\"text_3\">\n    <g clip-path=\"url(#pa6d716e685)\">\n     <!-- 2 -->\n     <g transform=\"translate(153.927955 110.874886)scale(0.12 -0.12)\">\n      <defs>\n       <path d=\"M 1228 531 \nL 3431 531 \nL 3431 0 \nL 469 0 \nL 469 531 \nQ 828 903 1448 1529 \nQ 2069 2156 2228 2338 \nQ 2531 2678 2651 2914 \nQ 2772 3150 2772 3378 \nQ 2772 3750 2511 3984 \nQ 2250 4219 1831 4219 \nQ 1534 4219 1204 4116 \nQ 875 4013 500 3803 \nL 500 4441 \nQ 881 4594 1212 4672 \nQ 1544 4750 1819 4750 \nQ 2544 4750 2975 4387 \nQ 3406 4025 3406 3419 \nQ 3406 3131 3298 2873 \nQ 3191 2616 2906 2266 \nQ 2828 2175 2409 1742 \nQ 1991 1309 1228 531 \nz\n\" id=\"DejaVuSans-32\" transform=\"scale(0.015625)\"/>\n      </defs>\n      <use xlink:href=\"#DejaVuSans-32\"/>\n     </g>\n    </g>\n   </g>\n   <g id=\"text_4\">\n    <g clip-path=\"url(#pa6d716e685)\">\n     <!-- 3 -->\n     <g transform=\"translate(153.927955 198.147614)scale(0.12 -0.12)\">\n      <defs>\n       <path d=\"M 2597 2516 \nQ 3050 2419 3304 2112 \nQ 3559 1806 3559 1356 \nQ 3559 666 3084 287 \nQ 2609 -91 1734 -91 \nQ 1441 -91 1130 -33 \nQ 819 25 488 141 \nL 488 750 \nQ 750 597 1062 519 \nQ 1375 441 1716 441 \nQ 2309 441 2620 675 \nQ 2931 909 2931 1356 \nQ 2931 1769 2642 2001 \nQ 2353 2234 1838 2234 \nL 1294 2234 \nL 1294 2753 \nL 1863 2753 \nQ 2328 2753 2575 2939 \nQ 2822 3125 2822 3475 \nQ 2822 3834 2567 4026 \nQ 2313 4219 1838 4219 \nQ 1578 4219 1281 4162 \nQ 984 4106 628 3988 \nL 628 4550 \nQ 988 4650 1302 4700 \nQ 1616 4750 1894 4750 \nQ 2613 4750 3031 4423 \nQ 3450 4097 3450 3541 \nQ 3450 3153 3228 2886 \nQ 3006 2619 2597 2516 \nz\n\" id=\"DejaVuSans-33\" transform=\"scale(0.015625)\"/>\n      </defs>\n      <use xlink:href=\"#DejaVuSans-33\"/>\n     </g>\n    </g>\n   </g>\n   <g id=\"text_5\">\n    <g clip-path=\"url(#pa6d716e685)\">\n     <!-- 4 -->\n     <g transform=\"translate(153.927955 285.420341)scale(0.12 -0.12)\">\n      <defs>\n       <path d=\"M 2419 4116 \nL 825 1625 \nL 2419 1625 \nL 2419 4116 \nz\nM 2253 4666 \nL 3047 4666 \nL 3047 1625 \nL 3713 1625 \nL 3713 1100 \nL 3047 1100 \nL 3047 0 \nL 2419 0 \nL 2419 1100 \nL 313 1100 \nL 313 1709 \nL 2253 4666 \nz\n\" id=\"DejaVuSans-34\" transform=\"scale(0.015625)\"/>\n      </defs>\n      <use xlink:href=\"#DejaVuSans-34\"/>\n     </g>\n    </g>\n   </g>\n   <g id=\"text_6\">\n    <g clip-path=\"url(#pa6d716e685)\">\n     <!-- 5 -->\n     <g transform=\"translate(284.837045 23.602159)scale(0.12 -0.12)\">\n      <defs>\n       <path d=\"M 691 4666 \nL 3169 4666 \nL 3169 4134 \nL 1269 4134 \nL 1269 2991 \nQ 1406 3038 1543 3061 \nQ 1681 3084 1819 3084 \nQ 2600 3084 3056 2656 \nQ 3513 2228 3513 1497 \nQ 3513 744 3044 326 \nQ 2575 -91 1722 -91 \nQ 1428 -91 1123 -41 \nQ 819 9 494 109 \nL 494 744 \nQ 775 591 1075 516 \nQ 1375 441 1709 441 \nQ 2250 441 2565 725 \nQ 2881 1009 2881 1497 \nQ 2881 1984 2565 2268 \nQ 2250 2553 1709 2553 \nQ 1456 2553 1204 2497 \nQ 953 2441 691 2322 \nL 691 4666 \nz\n\" id=\"DejaVuSans-35\" transform=\"scale(0.015625)\"/>\n      </defs>\n      <use xlink:href=\"#DejaVuSans-35\"/>\n     </g>\n    </g>\n   </g>\n   <g id=\"text_7\">\n    <g clip-path=\"url(#pa6d716e685)\">\n     <!-- 6 -->\n     <g transform=\"translate(284.837045 110.874886)scale(0.12 -0.12)\">\n      <defs>\n       <path d=\"M 2113 2584 \nQ 1688 2584 1439 2293 \nQ 1191 2003 1191 1497 \nQ 1191 994 1439 701 \nQ 1688 409 2113 409 \nQ 2538 409 2786 701 \nQ 3034 994 3034 1497 \nQ 3034 2003 2786 2293 \nQ 2538 2584 2113 2584 \nz\nM 3366 4563 \nL 3366 3988 \nQ 3128 4100 2886 4159 \nQ 2644 4219 2406 4219 \nQ 1781 4219 1451 3797 \nQ 1122 3375 1075 2522 \nQ 1259 2794 1537 2939 \nQ 1816 3084 2150 3084 \nQ 2853 3084 3261 2657 \nQ 3669 2231 3669 1497 \nQ 3669 778 3244 343 \nQ 2819 -91 2113 -91 \nQ 1303 -91 875 529 \nQ 447 1150 447 2328 \nQ 447 3434 972 4092 \nQ 1497 4750 2381 4750 \nQ 2619 4750 2861 4703 \nQ 3103 4656 3366 4563 \nz\n\" id=\"DejaVuSans-36\" transform=\"scale(0.015625)\"/>\n      </defs>\n      <use xlink:href=\"#DejaVuSans-36\"/>\n     </g>\n    </g>\n   </g>\n   <g id=\"text_8\">\n    <g clip-path=\"url(#pa6d716e685)\">\n     <!-- 7 -->\n     <g transform=\"translate(284.837045 198.147614)scale(0.12 -0.12)\">\n      <defs>\n       <path d=\"M 525 4666 \nL 3525 4666 \nL 3525 4397 \nL 1831 0 \nL 1172 0 \nL 2766 4134 \nL 525 4134 \nL 525 4666 \nz\n\" id=\"DejaVuSans-37\" transform=\"scale(0.015625)\"/>\n      </defs>\n      <use xlink:href=\"#DejaVuSans-37\"/>\n     </g>\n    </g>\n   </g>\n   <g id=\"text_9\">\n    <g clip-path=\"url(#pa6d716e685)\">\n     <!-- 8 -->\n     <g transform=\"translate(284.837045 285.420341)scale(0.12 -0.12)\">\n      <defs>\n       <path d=\"M 2034 2216 \nQ 1584 2216 1326 1975 \nQ 1069 1734 1069 1313 \nQ 1069 891 1326 650 \nQ 1584 409 2034 409 \nQ 2484 409 2743 651 \nQ 3003 894 3003 1313 \nQ 3003 1734 2745 1975 \nQ 2488 2216 2034 2216 \nz\nM 1403 2484 \nQ 997 2584 770 2862 \nQ 544 3141 544 3541 \nQ 544 4100 942 4425 \nQ 1341 4750 2034 4750 \nQ 2731 4750 3128 4425 \nQ 3525 4100 3525 3541 \nQ 3525 3141 3298 2862 \nQ 3072 2584 2669 2484 \nQ 3125 2378 3379 2068 \nQ 3634 1759 3634 1313 \nQ 3634 634 3220 271 \nQ 2806 -91 2034 -91 \nQ 1263 -91 848 271 \nQ 434 634 434 1313 \nQ 434 1759 690 2068 \nQ 947 2378 1403 2484 \nz\nM 1172 3481 \nQ 1172 3119 1398 2916 \nQ 1625 2713 2034 2713 \nQ 2441 2713 2670 2916 \nQ 2900 3119 2900 3481 \nQ 2900 3844 2670 4047 \nQ 2441 4250 2034 4250 \nQ 1625 4250 1398 4047 \nQ 1172 3844 1172 3481 \nz\n\" id=\"DejaVuSans-38\" transform=\"scale(0.015625)\"/>\n      </defs>\n      <use xlink:href=\"#DejaVuSans-38\"/>\n     </g>\n    </g>\n   </g>\n   <g id=\"text_10\">\n    <g clip-path=\"url(#pa6d716e685)\">\n     <!-- B -->\n     <g transform=\"translate(415.447074 154.51125)scale(0.12 -0.12)\">\n      <defs>\n       <path d=\"M 1259 2228 \nL 1259 519 \nL 2272 519 \nQ 2781 519 3026 730 \nQ 3272 941 3272 1375 \nQ 3272 1813 3026 2020 \nQ 2781 2228 2272 2228 \nL 1259 2228 \nz\nM 1259 4147 \nL 1259 2741 \nL 2194 2741 \nQ 2656 2741 2882 2914 \nQ 3109 3088 3109 3444 \nQ 3109 3797 2882 3972 \nQ 2656 4147 2194 4147 \nL 1259 4147 \nz\nM 628 4666 \nL 2241 4666 \nQ 2963 4666 3353 4366 \nQ 3744 4066 3744 3513 \nQ 3744 3084 3544 2831 \nQ 3344 2578 2956 2516 \nQ 3422 2416 3680 2098 \nQ 3938 1781 3938 1306 \nQ 3938 681 3513 340 \nQ 3088 0 2303 0 \nL 628 0 \nL 628 4666 \nz\n\" id=\"DejaVuSans-42\" transform=\"scale(0.015625)\"/>\n      </defs>\n      <use xlink:href=\"#DejaVuSans-42\"/>\n     </g>\n    </g>\n   </g>\n  </g>\n </g>\n <defs>\n  <clipPath id=\"pa6d716e685\">\n   <rect height=\"288\" width=\"432\" x=\"7.2\" y=\"7.2\"/>\n  </clipPath>\n </defs>\n</svg>\n",
      "image/png": "[encoded data removed]"
     },
     "metadata": {}
    }
   ],
   "source": [
    "nx.draw(G, pos= pos,with_labels=True,node_size=300,node_color='yellow')"
   ]
  },
  {
   "cell_type": "code",
   "execution_count": 127,
   "metadata": {},
   "outputs": [],
   "source": [
    "cut_value, partition = nx.minimum_cut(G, \"A\", \"B\")\n",
    "reachable, non_reachable = partition"
   ]
  },
  {
   "cell_type": "code",
   "execution_count": 128,
   "metadata": {},
   "outputs": [
    {
     "output_type": "stream",
     "name": "stdout",
     "text": [
      "[('5', 'B'), ('6', 'B'), ('7', 'B'), ('8', 'B')]\n"
     ]
    },
    {
     "output_type": "execute_result",
     "data": {
      "text/plain": [
       "True"
      ]
     },
     "metadata": {},
     "execution_count": 128
    }
   ],
   "source": [
    "cutset = set()\n",
    "for u, nbrs in ((n, G[n]) for n in reachable):\n",
    "    cutset.update((u, v) for v in nbrs if v in non_reachable)\n",
    "print(sorted(cutset))\n",
    "\n",
    "cut_value == sum(G.edges[u, v][\"capacity\"] for (u, v) in cutset)"
   ]
  },
  {
   "cell_type": "code",
   "execution_count": 129,
   "metadata": {},
   "outputs": [
    {
     "output_type": "stream",
     "name": "stdout",
     "text": [
      "{'B', '6', '1'}\n"
     ]
    }
   ],
   "source": [
    "from networkx.algorithms.flow import shortest_augmenting_path\n",
    "node_cut = nx.minimum_node_cut(G, flow_func=shortest_augmenting_path)\n",
    "print(node_cut)"
   ]
  },
  {
   "cell_type": "code",
   "execution_count": null,
   "metadata": {},
   "outputs": [],
   "source": []
  }
 ]
}