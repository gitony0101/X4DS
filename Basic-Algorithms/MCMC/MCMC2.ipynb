{
 "metadata": {
  "language_info": {
   "codemirror_mode": {
    "name": "ipython",
    "version": 3
   },
   "file_extension": ".py",
   "mimetype": "text/x-python",
   "name": "python",
   "nbconvert_exporter": "python",
   "pygments_lexer": "ipython3",
   "version": 3
  },
  "orig_nbformat": 2
 },
 "nbformat": 4,
 "nbformat_minor": 2,
 "cells": [
  {
   "cell_type": "code",
   "execution_count": null,
   "metadata": {},
   "outputs": [],
   "source": [
    "import random\n",
    "import math\n",
    "import numpy as np\n",
    "from scipy.stats import norm\n",
    "import matplotlib.pyplot as plt\n",
    "\n",
    "\n",
    "def function(x):  # 期望样品的分布，target distribution function\n",
    "    y = (norm.pdf(x, loc=2, scale=1)+norm.pdf(x, loc=-5, scale=1.5))/2   # loc代表了均值,scale代表标准差\n",
    "    return y\n",
    "\n",
    "\n",
    "T = 100000  # 取T个样品\n",
    "pi = [0 for i in range(T)]  # 任意选定一个马尔科夫链初始状态\n",
    "for t in np.arange(1, T):\n",
    "    pi_star = np.random.uniform(-10, 10)  # a proposed distribution， 例如是均匀分布的，或者是一个依赖pi[t - 1]的分布\n",
    "    alpha = min(1, (function(pi_star) / function(pi[t - 1])))  # 接收率\n",
    "    u = random.uniform(0, 1)\n",
    "    if u < alpha:\n",
    "        pi[t] = pi_star    # 以alpha的概率接收转移\n",
    "    else:\n",
    "        pi[t] = pi[t - 1]  # 不接收转移\n",
    "\n",
    "pi = np.array(pi)  # 转成numpy格式\n",
    "print(pi.shape)  # 查看抽样样品的维度\n",
    "plt.plot(pi, function(pi), '*')  # 画出抽样样品期望的分布   # 或用plt.scatter(pi, function(pi))\n",
    "plt.hist(pi, bins=100,  density=True, facecolor='red', alpha=0.7)   # 画出抽样样品的分布   # bins是分布柱子的个数，density是归一化，后面两个参数是管颜色的\n",
    "plt.show()"
   ]
  }
 ]
}