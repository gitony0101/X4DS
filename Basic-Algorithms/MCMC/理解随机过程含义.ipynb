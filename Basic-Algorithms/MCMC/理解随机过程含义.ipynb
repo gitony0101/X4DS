{
 "cells": [
  {
   "cell_type": "markdown",
   "metadata": {},
   "source": [
    "理解随机过程的含义\n",
    "\n",
    "赌博中的随机过程\n",
    "\n",
    "赌博的例子非常普遍，这里我们举一个大家非常熟悉的例子，我们尽量挖掘的更深入一些。\n",
    "\n",
    "赌徒和庄家对赌抛硬币，如果为正面，本轮赌徒赢，庄家付给赌徒1元，结果为反面，本轮赌徒输，赌徒付给庄家1元。赌徒有初始赌本10元，手上的钱一旦输光则退出赌局，如何来模拟这个赌博过程？\n",
    "\n",
    "我们首先来分析一下这个过程，赌徒的赌博结果本质上依托于每次抛掷硬币的结果，每一轮赌博就是一个伯努利试验，赢的概率是p=0.5，赌博的过程就是由这一串伯努利试验构成的伯努利随机过程，每轮赌局中，如果赢则赌本增加1元，输则赌本减少1元。\n",
    "\n",
    "当然了，如果对某一个特定的赌徒，一旦开始进入赌局，则最终由每轮赌局结果构成的序列就是唯一的。那么如果我们想观察整个赌博过程的整体特征，我们该怎么办？好办，还是使用之前讲过的蒙特卡罗方法，采用大量的样本，最终观察样本结果的整体特征。\n",
    "\n",
    "这里，我们为了说明问题，先采用的样本数也就是赌徒数为10个，轮数为100轮，也就是每个赌徒最多和庄家对赌100轮，如果在这个过程中输光了赌本，则提前退出，如果到100轮还有赌本，赌局也停止。\n",
    "\n",
    "我们来看一下模拟的代码："
   ]
  },
  {
   "cell_type": "code",
   "execution_count": 1,
   "metadata": {},
   "outputs": [],
   "source": [
    "import pandas as pd\n",
    "import random"
   ]
  },
  {
   "cell_type": "code",
   "execution_count": 2,
   "metadata": {
    "tags": []
   },
   "outputs": [
    {
     "data": {
      "text/html": [
       "<div>\n",
       "<style scoped>\n",
       "    .dataframe tbody tr th:only-of-type {\n",
       "        vertical-align: middle;\n",
       "    }\n",
       "\n",
       "    .dataframe tbody tr th {\n",
       "        vertical-align: top;\n",
       "    }\n",
       "\n",
       "    .dataframe thead th {\n",
       "        text-align: right;\n",
       "    }\n",
       "</style>\n",
       "<table border=\"1\" class=\"dataframe\">\n",
       "  <thead>\n",
       "    <tr style=\"text-align: right;\">\n",
       "      <th></th>\n",
       "      <th>round</th>\n",
       "      <th>money</th>\n",
       "    </tr>\n",
       "    <tr>\n",
       "      <th>person</th>\n",
       "      <th></th>\n",
       "      <th></th>\n",
       "    </tr>\n",
       "  </thead>\n",
       "  <tbody>\n",
       "    <tr>\n",
       "      <th>1</th>\n",
       "      <td>100</td>\n",
       "      <td>22</td>\n",
       "    </tr>\n",
       "    <tr>\n",
       "      <th>2</th>\n",
       "      <td>100</td>\n",
       "      <td>16</td>\n",
       "    </tr>\n",
       "    <tr>\n",
       "      <th>3</th>\n",
       "      <td>24</td>\n",
       "      <td>0</td>\n",
       "    </tr>\n",
       "    <tr>\n",
       "      <th>4</th>\n",
       "      <td>34</td>\n",
       "      <td>0</td>\n",
       "    </tr>\n",
       "    <tr>\n",
       "      <th>5</th>\n",
       "      <td>100</td>\n",
       "      <td>18</td>\n",
       "    </tr>\n",
       "    <tr>\n",
       "      <th>6</th>\n",
       "      <td>100</td>\n",
       "      <td>24</td>\n",
       "    </tr>\n",
       "    <tr>\n",
       "      <th>7</th>\n",
       "      <td>100</td>\n",
       "      <td>22</td>\n",
       "    </tr>\n",
       "    <tr>\n",
       "      <th>8</th>\n",
       "      <td>24</td>\n",
       "      <td>0</td>\n",
       "    </tr>\n",
       "    <tr>\n",
       "      <th>9</th>\n",
       "      <td>100</td>\n",
       "      <td>14</td>\n",
       "    </tr>\n",
       "    <tr>\n",
       "      <th>10</th>\n",
       "      <td>100</td>\n",
       "      <td>14</td>\n",
       "    </tr>\n",
       "  </tbody>\n",
       "</table>\n",
       "</div>"
      ],
      "text/plain": [
       "        round  money\n",
       "person              \n",
       "1         100     22\n",
       "2         100     16\n",
       "3          24      0\n",
       "4          34      0\n",
       "5         100     18\n",
       "6         100     24\n",
       "7         100     22\n",
       "8          24      0\n",
       "9         100     14\n",
       "10        100     14"
      ]
     },
     "execution_count": 2,
     "metadata": {},
     "output_type": "execute_result"
    }
   ],
   "source": [
    "\n",
    "\n",
    "sample_list = []\n",
    "round_num =100\n",
    "person_num = 10\n",
    "for person in range (1,person_num + 1):\n",
    "    money = 10 #本金十块\n",
    "    for round in range(1,round_num + 1):\n",
    "        result = random.randint(0, 1) #随机输赢\n",
    "        if result == 1:\n",
    "            money = money + 1\n",
    "        elif result == 0:\n",
    "            money = money - 1\n",
    "        if money == 0:\n",
    "            break\n",
    "    sample_list.append([person,round,money])\n",
    "\n",
    "\n",
    "sample_df = pd.DataFrame(sample_list,columns = ['person','round','money'])\n",
    "sample_df.set_index('person',inplace=True)\n",
    "\n",
    "\n",
    "# print(sample_df)\n",
    "pd.DataFrame(sample_df)"
   ]
  },
  {
   "cell_type": "markdown",
   "metadata": {},
   "source": [
    "我们简单的分析一些代码和运行结果，其实这段代码中最核心的部分就是：\n",
    "\n",
    "result = random.randint(0, 1)\n",
    "\n",
    "在每轮赌局中，我们首先生成了一个随机变量，他在0和1当中等概论选取，模拟的就是抛掷硬币的过程，当结果为1时表示硬币为正面，本轮赢庄家1元，结果为0时表示硬币为反面，本轮输庄家1元。这里设定的是每个赌徒最多赌100轮，如果不到100轮就输光了，则退场，这样就模拟了整个赌博的随机过程。\n",
    "\n",
    "从运行结果来看，10个赌徒中有  个提前输光退场，剩下的 个打满全场的人中，有 个是挣钱的，有 个是亏钱的。\n",
    "\n",
    "当然，我们这里是为了打印出所有的结果，所以样本数选择的比较少。蒙特卡洛方法讲求大的样本量，我们把样本数和轮数都修改一下，并且统计一些指标。我们把赌徒的总人数设置为1000000人，轮数设置为100（我们依次修改了轮数为100,1000,10000），来观察样本总体的表现：\n",
    "\n",
    "代码片段："
   ]
  },
  {
   "cell_type": "code",
   "execution_count": 3,
   "metadata": {
    "tags": []
   },
   "outputs": [
    {
     "name": "stdout",
     "output_type": "stream",
     "text": [
      "总轮数：10000，总人数100000\n",
      "输光读本提前出局的人数：92064\n",
      "赌满全场且盈利的人数:7884\n",
      "赌满全场且亏损的人数:51\n"
     ]
    },
    {
     "name": "stderr",
     "output_type": "stream",
     "text": [
      "/var/folders/bz/8yf5rf0s1yzd3gl6nw6xvclw0000gn/T/ipykernel_4411/958427531.py:24: UserWarning: Boolean Series key will be reindexed to match DataFrame index.\n",
      "  print(\"赌满全场且亏损的人数:{}\".format(len(sample_df[sample_df['money']<=10][sample_df['money']>0])))\n"
     ]
    }
   ],
   "source": [
    "import pandas as pd\n",
    "import random\n",
    "\n",
    "sample_list = []\n",
    "person_num = 100000\n",
    "round_num = 10000\n",
    "for person in range(1, person_num + 1):\n",
    "    money = 10\n",
    "    for round in range(1, round_num + 1):\n",
    "        result = random.randint(0, 1)\n",
    "        if result == 1:\n",
    "            money = money + 1\n",
    "        elif result == 0:\n",
    "            money = money - 1\n",
    "        if money == 0:\n",
    "            break\n",
    "    sample_list.append([person, round, money])\n",
    "sample_df = pd.DataFrame(sample_list, columns=['person', 'round', 'money'])\n",
    "sample_df.set_index('person',inplace=True)\n",
    "\n",
    "print(\"总轮数：{}，总人数{}\".format(round_num,person_num))\n",
    "print('输光读本提前出局的人数：{}'.format(person_num-len(sample_df[sample_df['round']==round_num])))\n",
    "print(\"赌满全场且盈利的人数:{}\".format(len(sample_df[sample_df['money']>10])))\n",
    "print(\"赌满全场且亏损的人数:{}\".format(len(sample_df[sample_df['money']<=10][sample_df['money']>0])))"
   ]
  },
  {
   "cell_type": "markdown",
   "metadata": {},
   "source": [
    "从结果中不难发现，这种和庄家1:1的对赌，随着轮数的增加，基本上都破产被收割了。换句话说，哪怕庄家不出千，输赢概率各半，赌的越久，基本上都是输光破产走人，原因是什么？原因是庄家的资金量是无穷的。"
   ]
  },
  {
   "cell_type": "markdown",
   "metadata": {},
   "source": [
    "2.2.模拟股价的变化\n",
    "\n",
    "赌博的例子结束了，我们再举一个股票的例子，这个让人感觉都很心跳啊，在金融工程中，有下面 这样一个公式，他利用目前的股价 $S_{t}$ 去预测 $\\Delta t$ 时间之后的股价 $S_{t+1}$ :\n",
    "$$\n",
    "S_{t+1}=S_{t}+\\hat{\\mu} S_{t} \\Delta t+\\sigma S_{t} \\epsilon \\sqrt{\\Delta t}\n",
    "$$\n",
    "这其中的参数我来解释一下：\n",
    "$\\hat{\\mu}$ 表示股票收益率的期望值，这里我们设定为 $15 \\%,$ 即 $\\hat{\\mu}=0.15$\n",
    "$\\sigma$ 表示股票的波动率，这里设定为 $\\sigma=0.2$\n",
    "$\\Delta t=\\frac{T}{n},$ 其中 $T$ 表示整数年份, $n$ 表示在整个估算周期内，取的具体步数，就好比说 $T$ 为 一年, $n$ 如果取244，那么 $\\Delta t$ 的粒度就是每个交易日了（一年有244个交易日）。\n",
    "\n",
    "\n",
    "这里面似乎所有的参数都是确定的，唯独除了 $\\epsilon$ 之外, $\\epsilon$ 是一个服从标准正态分布的随机变量, 这是这个 $\\epsilon,$ 决定了每日的股价 $S_{i}$ 是一个随机变量，而由股价构成的序列是一个随机过程。\n",
    "\n",
    "\n",
    "我们同样的用蒙特卡罗方法，利用大样本来估计一下在目前股价为 $S_{0}=10$ 的情况下，1年之后股 价的概率分布情况。"
   ]
  },
  {
   "cell_type": "code",
   "execution_count": 4,
   "metadata": {},
   "outputs": [
    {
     "name": "stderr",
     "output_type": "stream",
     "text": [
      "UsageError: Line magic function `%` not found.\n"
     ]
    }
   ],
   "source": [
    "import scipy\n",
    "import matplotlib.pyplot as plt  #注意这里是.pyplot\n",
    "import seaborn\n",
    "from math import sqrt\n",
    "% matplotlib.inline\n",
    "seaborn.set()"
   ]
  },
  {
   "cell_type": "code",
   "execution_count": 5,
   "metadata": {},
   "outputs": [
    {
     "data": {
      "image/png": "[encoded data removed]",
      "text/plain": [
       "<Figure size 432x288 with 1 Axes>"
      ]
     },
     "metadata": {
      "needs_background": "light"
     },
     "output_type": "display_data"
    }
   ],
   "source": [
    "s0 = 10.0\n",
    "T = 1.0\n",
    "n = 244 * T\n",
    "mu = 0.15\n",
    "sigma = 0.2\n",
    "n_simulation = 10000\n",
    "\n",
    "\n",
    "dt = T/n\n",
    "s_array = []\n",
    "\n",
    "for i in range(n_simulation):\n",
    "    s = s0\n",
    "    for j in range(int(n)):\n",
    "        e = scipy.random.normal()\n",
    "        s = s+mu*s*dt+sigma*s*e*sqrt(dt)\n",
    "    s_array.append(s)\n",
    "\n",
    "plt.hist(s_array, bins=30, density=True, edgecolor='k')\n",
    "plt.show()"
   ]
  },
  {
   "cell_type": "code",
   "execution_count": 6,
   "metadata": {},
   "outputs": [
    {
     "data": {
      "image/png": "[encoded data removed]",
      "text/plain": [
       "<Figure size 432x288 with 1 Axes>"
      ]
     },
     "metadata": {},
     "output_type": "display_data"
    }
   ],
   "source": [
    "import scipy\n",
    "import matplotlib.pyplot as plt\n",
    "import seaborn\n",
    "from math import sqrt\n",
    "seaborn.set()\n",
    "\n",
    "s0 = 10.0\n",
    "T = 1.0\n",
    "n = 244 * T\n",
    "mu = 0.15\n",
    "sigma = 0.2\n",
    "n_simulation = 10000\n",
    "\n",
    "dt = T/n\n",
    "s_array = []\n",
    "\n",
    "for i in range(n_simulation):\n",
    "    s = s0\n",
    "    for j in range(int(n)):\n",
    "        e = scipy.random.normal()\n",
    "        s = s+mu*s*dt+sigma*s*e*sqrt(dt)\n",
    "    s_array.append(s)\n",
    "\n",
    "plt.hist(s_array, bins=30, density=True, edgecolor='k')\n",
    "plt.show()"
   ]
  },
  {
   "cell_type": "code",
   "execution_count": null,
   "metadata": {},
   "outputs": [],
   "source": []
  },
  {
   "cell_type": "markdown",
   "metadata": {},
   "source": [
    "$$ s = s+mu*s*dt+sigma*s*e*sqrt(dt) $$\n",
    "\n",
    "$$\n",
    "S_{t+1}=S_{t}+\\hat{\\mu} S_{t} \\Delta t+\\sigma S_{t} \\epsilon \\sqrt{\\Delta t}\n",
    "$$"
   ]
  },
  {
   "cell_type": "markdown",
   "metadata": {},
   "source": [
    "这是我们模拟了10000个样本经过上述随机过程，在一年之后股价的分布情况。\n",
    "\n",
    "这里的核心就是：\n",
    "\n",
    " e = scipy.random.normal()\n",
    " \n",
    " s = s+mu*s*dt+sigma*s*e*sqrt(dt)"
   ]
  },
  {
   "cell_type": "markdown",
   "metadata": {},
   "source": [
    "每一轮 $\\Delta t$ ，我们都生成一个服从标准正态分布的随机变量 $\\epsilon,$ 不断通过递推公式 $S_{t+1}=S_{t}+\\hat{\\mu} S_{t} \\Delta t+\\sigma S_{t} \\epsilon \\sqrt{\\Delta t},$ 迭代出下一个时间点的股价，循环往复直到生成一年后的\n",
    "最终结果，这样就模拟出了一年过程中股价随机变量序列构成的随机过程。"
   ]
  },
  {
   "cell_type": "markdown",
   "metadata": {},
   "source": [
    "我们采用蒙特卡罗方法，设置大样本量（这里设置10000个），最终迭代出10000个对应的一年后股价，然后用柱状图就能看出其总体分布特征。\n",
    "\n",
    "2.3.股价变化曲线的过程展现\n",
    "\n",
    "上面我们分析的是这10000个样本在一年之后最终股价的整体分布情况，实际上我们还有一个同样 重要的过程可以进行监测和展现，那就是从 $T_{0}$ 时刻起到1年后的这一段时间内，每隔 $\\Delta t$ 时间间 隔点由实时价格随机变量构成的序列，换句话说就是随机过程的整体展现。\n",
    "这个在上面的基础上进一步完成，其实不难，就是我们不光要计算出股票最终的价格，还有记录下 每个 $\\Delta t$ 时间点的价格，并把他记录下来。\n",
    "代码片段："
   ]
  },
  {
   "cell_type": "code",
   "execution_count": 7,
   "metadata": {},
   "outputs": [
    {
     "ename": "AttributeError",
     "evalue": "'float' object has no attribute 'scipy'",
     "output_type": "error",
     "traceback": [
      "\u001b[0;31m---------------------------------------------------------------------------\u001b[0m",
      "\u001b[0;31mAttributeError\u001b[0m                            Traceback (most recent call last)",
      "\u001b[0;32m/var/folders/bz/8yf5rf0s1yzd3gl6nw6xvclw0000gn/T/ipykernel_4411/2951525593.py\u001b[0m in \u001b[0;36m<module>\u001b[0;34m\u001b[0m\n\u001b[1;32m     21\u001b[0m     \u001b[0mrandom_series\u001b[0m\u001b[0;34m[\u001b[0m\u001b[0;36m0\u001b[0m\u001b[0;34m]\u001b[0m\u001b[0;34m=\u001b[0m\u001b[0ms0\u001b[0m\u001b[0;34m\u001b[0m\u001b[0;34m\u001b[0m\u001b[0m\n\u001b[1;32m     22\u001b[0m     \u001b[0;32mfor\u001b[0m \u001b[0mj\u001b[0m \u001b[0;32min\u001b[0m \u001b[0mrange\u001b[0m\u001b[0;34m(\u001b[0m\u001b[0;36m1\u001b[0m\u001b[0;34m,\u001b[0m\u001b[0mint\u001b[0m\u001b[0;34m(\u001b[0m\u001b[0mn\u001b[0m\u001b[0;34m)\u001b[0m\u001b[0;34m)\u001b[0m\u001b[0;34m:\u001b[0m\u001b[0;34m\u001b[0m\u001b[0;34m\u001b[0m\u001b[0m\n\u001b[0;32m---> 23\u001b[0;31m         \u001b[0me\u001b[0m\u001b[0;34m.\u001b[0m\u001b[0mscipy\u001b[0m\u001b[0;34m.\u001b[0m\u001b[0mrandom\u001b[0m\u001b[0;34m.\u001b[0m\u001b[0mnormal\u001b[0m\u001b[0;34m(\u001b[0m\u001b[0;34m)\u001b[0m\u001b[0;34m\u001b[0m\u001b[0;34m\u001b[0m\u001b[0m\n\u001b[0m\u001b[1;32m     24\u001b[0m         \u001b[0mrandom_series\u001b[0m\u001b[0;34m[\u001b[0m\u001b[0mj\u001b[0m\u001b[0;34m]\u001b[0m \u001b[0;34m=\u001b[0m \u001b[0mrandom_series\u001b[0m\u001b[0;34m[\u001b[0m\u001b[0mj\u001b[0m\u001b[0;34m-\u001b[0m\u001b[0;36m1\u001b[0m\u001b[0;34m]\u001b[0m\u001b[0;34m+\u001b[0m \u001b[0mmu\u001b[0m\u001b[0;34m*\u001b[0m\u001b[0mrandom_series\u001b[0m\u001b[0;34m[\u001b[0m\u001b[0mj\u001b[0m\u001b[0;34m-\u001b[0m\u001b[0;36m1\u001b[0m\u001b[0;34m]\u001b[0m\u001b[0;34m*\u001b[0m\u001b[0mdt\u001b[0m\u001b[0;34m+\u001b[0m\u001b[0msigma\u001b[0m\u001b[0;34m*\u001b[0m\u001b[0mrandom_series\u001b[0m\u001b[0;34m[\u001b[0m\u001b[0mj\u001b[0m\u001b[0;34m-\u001b[0m\u001b[0;36m1\u001b[0m\u001b[0;34m]\u001b[0m\u001b[0;34m*\u001b[0m\u001b[0me\u001b[0m\u001b[0;34m*\u001b[0m\u001b[0msqrt\u001b[0m\u001b[0;34m(\u001b[0m\u001b[0mdt\u001b[0m\u001b[0;34m)\u001b[0m\u001b[0;34m\u001b[0m\u001b[0;34m\u001b[0m\u001b[0m\n\u001b[1;32m     25\u001b[0m     \u001b[0mply\u001b[0m\u001b[0;34m.\u001b[0m\u001b[0mplot\u001b[0m\u001b[0;34m(\u001b[0m\u001b[0mx\u001b[0m\u001b[0;34m,\u001b[0m\u001b[0mrandom_series\u001b[0m\u001b[0;34m)\u001b[0m\u001b[0;34m\u001b[0m\u001b[0;34m\u001b[0m\u001b[0m\n",
      "\u001b[0;31mAttributeError\u001b[0m: 'float' object has no attribute 'scipy'"
     ]
    }
   ],
   "source": [
    "import scipy\n",
    "import matplotlib.pyplot as plt\n",
    "import seaborn\n",
    "from math import sqrt\n",
    "import numpy as np\n",
    "seaborn.set()\n",
    "\n",
    "s0 = 10.0\n",
    "T = 1.0\n",
    "n = 244 * T\n",
    "mu = 0.15\n",
    "sigma = 0.2\n",
    "n_simulation = 100\n",
    "\n",
    "dt = T/n\n",
    "\n",
    "random_series = np.zeros(int(n),dtype=float)\n",
    "x = range(0,int(n))\n",
    "\n",
    "for i in range(n_simulation):\n",
    "    random_series[0]=s0\n",
    "    for j in range(1,int(n)):\n",
    "        e.scipy.random.normal()\n",
    "        random_series[j] = random_series[j-1]+ mu*random_series[j-1]*dt+sigma*random_series[j-1]*e*sqrt(dt)\n",
    "    ply.plot(x,random_series)\n",
    "\n"
   ]
  },
  {
   "cell_type": "code",
   "execution_count": null,
   "metadata": {},
   "outputs": [],
   "source": [
    "import scipy\n",
    "import matplotlib.pyplot as plt\n",
    "import seaborn\n",
    "from math import sqrt\n",
    "import numpy as np\n",
    "seaborn.set()\n",
    "\n",
    "s0 = 10.0\n",
    "T = 1.0\n",
    "n = 244 * T\n",
    "mu = 0.15\n",
    "sigma = 0.2\n",
    "n_simulation = 100\n",
    "\n",
    "dt = T/n\n",
    "random_series = np.zeros(int(n), dtype=float)\n",
    "x = range(0, int(n))\n",
    "\n",
    "for i in range(n_simulation):\n",
    "    random_series[0] = s0\n",
    "    for j in range(1,int(n)):\n",
    "        e = scipy.random.normal()\n",
    "        random_series[j] = random_series[j-1]+mu*random_series[j-1]*dt+sigma*random_series[j-1]*e*sqrt(dt)\n",
    "    plt.plot(x, random_series)\n",
    "\n",
    "plt.show()"
   ]
  },
  {
   "cell_type": "code",
   "execution_count": null,
   "metadata": {},
   "outputs": [],
   "source": []
  },
  {
   "cell_type": "code",
   "execution_count": null,
   "metadata": {},
   "outputs": [],
   "source": []
  },
  {
   "cell_type": "code",
   "execution_count": null,
   "metadata": {},
   "outputs": [],
   "source": []
  },
  {
   "cell_type": "code",
   "execution_count": null,
   "metadata": {},
   "outputs": [],
   "source": []
  }
 ],
 "metadata": {
  "interpreter": {
   "hash": "1b732d725045cc6853a91a4c695239709da72b11e697d412723947ad6a0854dd"
  },
  "kernelspec": {
   "display_name": "Python 3.8.8 64-bit ('jnb': conda)",
   "language": "python",
   "name": "python3"
  },
  "language_info": {
   "codemirror_mode": {
    "name": "ipython",
    "version": 3
   },
   "file_extension": ".py",
   "mimetype": "text/x-python",
   "name": "python",
   "nbconvert_exporter": "python",
   "pygments_lexer": "ipython3",
   "version": "3.9.7"
  },
  "metadata": {
   "interpreter": {
    "hash": "0142100476a55ad2707e4ee89bdff33f958300b25bb6983b2c86b093430e9fda"
   }
  },
  "orig_nbformat": 2
 },
 "nbformat": 4,
 "nbformat_minor": 2
}
