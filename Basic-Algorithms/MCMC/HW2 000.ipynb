{
 "cells": [
  {
   "cell_type": "markdown",
   "metadata": {},
   "source": [
    "HW 2"
   ]
  },
  {
   "cell_type": "markdown",
   "metadata": {},
   "source": [
    " 1-a \n",
    " Monte Carlo Integration for evalutating mean of beta distribution."
   ]
  },
  {
   "cell_type": "code",
   "execution_count": 1,
   "metadata": {},
   "outputs": [],
   "source": [
    "import numpy as np\n",
    "import pandas as pd\n",
    "import matplotlib.pyplot as plt\n",
    "import scipy.stats as st\n",
    "from scipy.stats import *"
   ]
  },
  {
   "cell_type": "code",
   "execution_count": 2,
   "metadata": {},
   "outputs": [
    {
     "name": "stdout",
     "output_type": "stream",
     "text": [
      "When N=1000,\n",
      " Beta distribution's mean = 0.43231561397202\n",
      "The analytic solution is 0.42857142857142855\n"
     ]
    }
   ],
   "source": [
    "N =1000\n",
    "xr1 = np.random.uniform(0,1,size=N)\n",
    "x1 = beta.pdf(xr1,3, 4)\n",
    "ans1_1 = 1/N * sum(x1 * xr1)\n",
    "print(f'When N={N},\\n Beta distribution\\'s mean = {ans1_1}')\n",
    "print(f'The analytic solution is {3/(3+4)}')"
   ]
  },
  {
   "cell_type": "markdown",
   "metadata": {},
   "source": [
    "1-b Monte Carlo Integration for evalutating variance of gamma distribution."
   ]
  },
  {
   "cell_type": "code",
   "execution_count": 3,
   "metadata": {},
   "outputs": [
    {
     "name": "stdout",
     "output_type": "stream",
     "text": [
      "When N=1000,\n",
      " gamma distribution's variance is 0.01380503341711628\n",
      "The analytic solution is 0.09375\n"
     ]
    }
   ],
   "source": [
    "xr2 = np.random.uniform(0,1,size=N)\n",
    "x2 = gamma.pdf(xr2,1.5,scale=0.25)\n",
    "mean_2 = 1/N * sum(x2 * xr2)\n",
    "meansq = 1/N * sum((x2*xr2)**2 )\n",
    "# u这里有点问题\n",
    "var = meansq - (mean_2)**2\n",
    "print(f'When N={N},\\n gamma distribution\\'s variance is {var}')\n",
    "print(f'The analytic solution is {1.5/4**2}')"
   ]
  },
  {
   "cell_type": "markdown",
   "metadata": {},
   "source": [
    "2. Generate random samples from the Cauchy distribution using importance sampling and MCMC"
   ]
  },
  {
   "cell_type": "markdown",
   "metadata": {},
   "source": [
    "a.Generate 500 samples"
   ]
  },
  {
   "cell_type": "code",
   "execution_count": 4,
   "metadata": {},
   "outputs": [],
   "source": [
    "N2 = 500\n",
    "xr3 = np.random.uniform(0,1,size=N2)\n",
    "x2a = cauchy.pdf(xr3, loc=0, scale=1)\n",
    "\n"
   ]
  },
  {
   "cell_type": "code",
   "execution_count": null,
   "metadata": {},
   "outputs": [],
   "source": []
  },
  {
   "cell_type": "code",
   "execution_count": null,
   "metadata": {},
   "outputs": [],
   "source": []
  },
  {
   "cell_type": "code",
   "execution_count": null,
   "metadata": {},
   "outputs": [],
   "source": []
  },
  {
   "cell_type": "code",
   "execution_count": null,
   "metadata": {},
   "outputs": [],
   "source": []
  },
  {
   "cell_type": "code",
   "execution_count": null,
   "metadata": {},
   "outputs": [],
   "source": []
  },
  {
   "cell_type": "code",
   "execution_count": null,
   "metadata": {},
   "outputs": [],
   "source": []
  },
  {
   "cell_type": "code",
   "execution_count": null,
   "metadata": {},
   "outputs": [],
   "source": []
  }
 ],
 "metadata": {
  "kernelspec": {
   "display_name": "Python 3.9.7 64-bit ('p39': conda)",
   "language": "python",
   "name": "python397jvsc74a57bd01b732d725045cc6853a91a4c695239709da72b11e697d412723947ad6a0854dd"
  },
  "language_info": {
   "codemirror_mode": {
    "name": "ipython",
    "version": 3
   },
   "file_extension": ".py",
   "mimetype": "text/x-python",
   "name": "python",
   "nbconvert_exporter": "python",
   "pygments_lexer": "ipython3",
   "version": "3.9.7"
  }
 },
 "nbformat": 4,
 "nbformat_minor": 2
}
