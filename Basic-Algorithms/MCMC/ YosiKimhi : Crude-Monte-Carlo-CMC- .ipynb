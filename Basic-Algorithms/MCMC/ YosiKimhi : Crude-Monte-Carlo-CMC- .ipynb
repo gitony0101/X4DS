{
 "cells": [
  {
   "cell_type": "code",
   "execution_count": 1,
   "metadata": {},
   "outputs": [
    {
     "name": "stdout",
     "output_type": "stream",
     "text": [
      "Terminals: T1 = 4, T2 = 5, T3 = 1\n"
     ]
    },
    {
     "ename": "ValueError",
     "evalue": "could not convert string to float: ''",
     "output_type": "error",
     "traceback": [
      "\u001b[0;31m---------------------------------------------------------------------------\u001b[0m",
      "\u001b[0;31mValueError\u001b[0m                                Traceback (most recent call last)",
      "\u001b[0;32m/var/folders/bz/8yf5rf0s1yzd3gl6nw6xvclw0000gn/T/ipykernel_4147/1003463502.py\u001b[0m in \u001b[0;36m<module>\u001b[0;34m\u001b[0m\n\u001b[1;32m     34\u001b[0m     \u001b[0;32mreturn\u001b[0m \u001b[0;32mFalse\u001b[0m\u001b[0;34m\u001b[0m\u001b[0;34m\u001b[0m\u001b[0m\n\u001b[1;32m     35\u001b[0m \u001b[0;34m\u001b[0m\u001b[0m\n\u001b[0;32m---> 36\u001b[0;31m \u001b[0mp\u001b[0m\u001b[0;34m=\u001b[0m\u001b[0mfloat\u001b[0m\u001b[0;34m(\u001b[0m\u001b[0minput\u001b[0m\u001b[0;34m(\u001b[0m\u001b[0;34m'Enter p value: '\u001b[0m\u001b[0;34m)\u001b[0m\u001b[0;34m)\u001b[0m\u001b[0;34m\u001b[0m\u001b[0;34m\u001b[0m\u001b[0m\n\u001b[0m\u001b[1;32m     37\u001b[0m \u001b[0mvaluesOfM\u001b[0m \u001b[0;34m=\u001b[0m \u001b[0;34m(\u001b[0m\u001b[0;36m1000\u001b[0m\u001b[0;34m,\u001b[0m \u001b[0;36m10000\u001b[0m\u001b[0;34m)\u001b[0m\u001b[0;34m\u001b[0m\u001b[0;34m\u001b[0m\u001b[0m\n\u001b[1;32m     38\u001b[0m \u001b[0;32mfor\u001b[0m \u001b[0mi\u001b[0m\u001b[0;34m,\u001b[0m \u001b[0mM\u001b[0m \u001b[0;32min\u001b[0m \u001b[0menumerate\u001b[0m\u001b[0;34m(\u001b[0m\u001b[0mvaluesOfM\u001b[0m\u001b[0;34m)\u001b[0m\u001b[0;34m:\u001b[0m\u001b[0;34m\u001b[0m\u001b[0;34m\u001b[0m\u001b[0m\n",
      "\u001b[0;31mValueError\u001b[0m: could not convert string to float: ''"
     ]
    }
   ],
   "source": [
    "#Yosi kimhi - 037973856\n",
    "#Tal Waizman -038054029\n",
    "import random\n",
    "import copy\n",
    "\n",
    "r=0\n",
    "X=len('YosiKimhi')\n",
    "Y=len('TalWaizman')\n",
    "\n",
    "T1 = (X+100) % 21\n",
    "T2 = (Y+100) % 21\n",
    "T3 = (X*Y+100) % 21\n",
    "\n",
    "print(\"Terminals: T1 = {}, T2 = {}, T3 = {}\".format(T1,T2,T3))\n",
    "\n",
    "## A Dictionary that Describes to given Graph\n",
    "Graph = {1:{2:'O',16:'O',5:'O'},2:{1:'O',15:'O',3:'O'},3:{2:'O',13:'O',4:'O'},4:{3:'O',8:'O',5:'O'},\n",
    "         5:{4:'O',6:'O',1:'O'},6:{5:'O',18:'O',7:'O'},7:{6:'O',9:'O',8:'O'},8:{7:'O',11:'O',4:'O'},\n",
    "         9:{19:'O',10:'O',7:'O'},10:{9:'O',12:'O',11:'O'},11:{8:'O',10:'O',13:'O'},12:{20:'O',14:'O',10:'O'},\n",
    "         13:{14:'O',3:'O',11:'O'},14:{15:'O',13:'O',12:'O'},15:{17:'O',2:'O',14:'O'},16:{1:'O',17:'O',18:'O'},\n",
    "         17:{16:'O',15:'O',20:'O'},18:{16:'O',19:'O',6:'O'},19:{18:'O',20:'O',9:'O'},20:{19:'O',17:'O',12:'O'}, }\n",
    "\n",
    "\n",
    "def searchPath(graph, start, end, path=[]):\n",
    "    path = path + [start]\n",
    "    if start not in graph:\n",
    "        return False\n",
    "    if start == end:\n",
    "        return True\n",
    "    for i in graph[start]:\n",
    "        if i not in path:\n",
    "            if searchPath(graph, i, end, path):\n",
    "                return True\n",
    "    return False\n",
    "\n",
    "p=float(input('Enter p value: '))\n",
    "valuesOfM = (1000, 10000)\n",
    "for i, M in enumerate(valuesOfM):\n",
    "    print(\"select {} for {}\".format(i, M))\n",
    "s = int(input(\"Select M: \"))\n",
    "M = valuesOfM[s]\n",
    "\n",
    "def MonteCarlo(M,r,Graph,T1,T2,T3):\n",
    "    for _ in range(M):\n",
    "        copyOfGraph = copy.deepcopy(Graph)\n",
    "        MC_graph = {}  \n",
    "        # iterate over all the edges and set their state\n",
    "        for v1 in range(1, 20):\n",
    "            for v2 in copyOfGraph[v1]:\n",
    "                if copyOfGraph[v1][v2] == 'O':\n",
    "                    # random number\n",
    "                    monte_carlo = random.uniform(0, 1)\n",
    "                    if monte_carlo <= p:\n",
    "                        copyOfGraph[v1][v2] = 'UP'  # each edge is represented twice\n",
    "                        copyOfGraph[v2][v1] = 'UP'\n",
    "                        if v1 not in MC_graph:\n",
    "                            MC_graph[v1] = []\n",
    "                        MC_graph[v1].append(v2)\n",
    "                        if v2 not in MC_graph:\n",
    "                            MC_graph[v2] = []\n",
    "                        MC_graph[v2].append(v1)\n",
    "                    else:\n",
    "                        copyOfGraph[v1][v2] = 'DOWN'\n",
    "                        copyOfGraph[v2][v1] = 'DOWN'\n",
    "        # check if one vertex is connected to the other two, if it is so the system is up\n",
    "        if (searchPath(MC_graph, T3, T1) and searchPath(MC_graph, T3, T2))  or (\n",
    "            searchPath(MC_graph, T2, T1) and searchPath(MC_graph, T2, T3)) or (\n",
    "            searchPath(MC_graph, T1, T2) and searchPath(MC_graph, T1, T3)):\n",
    "            r = r + 1\n",
    "    \n",
    "    R = r / M\n",
    "    print(\"Result:\\n p = {}, M = {} ,R = {}\".format(p,M,R))\n",
    "    \n",
    "MonteCarlo(M, r, Graph, T1, T2, T3)"
   ]
  },
  {
   "cell_type": "code",
   "execution_count": null,
   "metadata": {},
   "outputs": [],
   "source": []
  }
 ],
 "metadata": {
  "interpreter": {
   "hash": "1b732d725045cc6853a91a4c695239709da72b11e697d412723947ad6a0854dd"
  },
  "kernelspec": {
   "display_name": "Python 3.8.8 64-bit ('jnb': conda)",
   "language": "python",
   "name": "python3"
  },
  "language_info": {
   "codemirror_mode": {
    "name": "ipython",
    "version": 3
   },
   "file_extension": ".py",
   "mimetype": "text/x-python",
   "name": "python",
   "nbconvert_exporter": "python",
   "pygments_lexer": "ipython3",
   "version": "3.9.7"
  },
  "orig_nbformat": 2
 },
 "nbformat": 4,
 "nbformat_minor": 2
}
