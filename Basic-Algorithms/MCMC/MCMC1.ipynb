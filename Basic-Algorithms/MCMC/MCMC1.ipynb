{
 "metadata": {
  "language_info": {
   "codemirror_mode": {
    "name": "ipython",
    "version": 3
   },
   "file_extension": ".py",
   "mimetype": "text/x-python",
   "name": "python",
   "nbconvert_exporter": "python",
   "pygments_lexer": "ipython3",
   "version": 3
  },
  "orig_nbformat": 2
 },
 "nbformat": 4,
 "nbformat_minor": 2,
 "cells": [
  {
   "cell_type": "code",
   "execution_count": null,
   "metadata": {},
   "outputs": [],
   "source": [
    "# burn in\n",
    "def normal(x,mu,sigma):\n",
    "    numerator = np.exp((-(x-mu)**2)/(2*sigma**2))\n",
    "    denominator = sigma * np.sqrt(2*np.pi)\n",
    "    return numerator/denominator\n",
    "    \n",
    "def gaussian_mcmc(hops,mu,sigma):\n",
    "    states = []\n",
    "    \n",
    "    burn_in = int(hops*0.2)\n",
    "    current = random.uniform(-5*sigma+mu,5*sigma+mu)\n",
    "    for i in range(hops):\n",
    "        states.append(current)\n",
    "        movement = current + random.uniform(-1,1)\n",
    "        \n",
    "        curr_prob = normal(x=current,mu=mu,sigma=sigma)\n",
    "        move_prob = normal(x=movement,mu=mu,sigma=sigma)\n",
    "        \n",
    "        acceptance = move_prob/curr_prob\n",
    "        event = random.uniform(0,1)\n",
    "        if acceptance > event:\n",
    "            current = movement\n",
    "            \n",
    "    return states[burn_in:]\n",
    "\n",
    "dist = gaussian_mcmc(100_000,mu=0,sigma=1)\n",
    "plt.hist(dist,density=True,bins=20)\n",
    "plt.show()"
   ]
  }
 ]
}