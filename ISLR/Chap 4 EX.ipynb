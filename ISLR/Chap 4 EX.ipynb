{
    "cells": [
        {
            "cell_type": "markdown",
            "source": [
                "# The Stock Market Data"
            ],
            "metadata": {}
        },
        {
            "cell_type": "code",
            "execution_count": 2,
            "source": [
                "import numpy as np\n",
                "import pandas as pd\n",
                "import matplotlib.pyplot as plt\n",
                "import seaborn as sns\n",
                "%matplotlib inline\n",
                "%precision 4\n",
                "pd.set_option('precision', 4)"
            ],
            "outputs": [],
            "metadata": {}
        },
        {
            "cell_type": "code",
            "execution_count": 7,
            "source": [
                "market = pd.read_csv('../data/Smarket.csv', )\n",
                "market = market.rename(columns = {'Unnamed: 0': 'Day'})\n",
                "market.head()"
            ],
            "outputs": [
                {
                    "output_type": "execute_result",
                    "data": {
                        "text/plain": [
                            "   Day  Year   Lag1   Lag2   Lag3   Lag4   Lag5  Volume  Today Direction\n",
                            "0    1  2001  0.381 -0.192 -2.624 -1.055  5.010  1.1913  0.959        Up\n",
                            "1    2  2001  0.959  0.381 -0.192 -2.624 -1.055  1.2965  1.032        Up\n",
                            "2    3  2001  1.032  0.959  0.381 -0.192 -2.624  1.4112 -0.623      Down\n",
                            "3    4  2001 -0.623  1.032  0.959  0.381 -0.192  1.2760  0.614        Up\n",
                            "4    5  2001  0.614 -0.623  1.032  0.959  0.381  1.2057  0.213        Up"
                        ],
                        "text/html": [
                            "<div>\n",
                            "<style scoped>\n",
                            "    .dataframe tbody tr th:only-of-type {\n",
                            "        vertical-align: middle;\n",
                            "    }\n",
                            "\n",
                            "    .dataframe tbody tr th {\n",
                            "        vertical-align: top;\n",
                            "    }\n",
                            "\n",
                            "    .dataframe thead th {\n",
                            "        text-align: right;\n",
                            "    }\n",
                            "</style>\n",
                            "<table border=\"1\" class=\"dataframe\">\n",
                            "  <thead>\n",
                            "    <tr style=\"text-align: right;\">\n",
                            "      <th></th>\n",
                            "      <th>Day</th>\n",
                            "      <th>Year</th>\n",
                            "      <th>Lag1</th>\n",
                            "      <th>Lag2</th>\n",
                            "      <th>Lag3</th>\n",
                            "      <th>Lag4</th>\n",
                            "      <th>Lag5</th>\n",
                            "      <th>Volume</th>\n",
                            "      <th>Today</th>\n",
                            "      <th>Direction</th>\n",
                            "    </tr>\n",
                            "  </thead>\n",
                            "  <tbody>\n",
                            "    <tr>\n",
                            "      <th>0</th>\n",
                            "      <td>1</td>\n",
                            "      <td>2001</td>\n",
                            "      <td>0.381</td>\n",
                            "      <td>-0.192</td>\n",
                            "      <td>-2.624</td>\n",
                            "      <td>-1.055</td>\n",
                            "      <td>5.010</td>\n",
                            "      <td>1.1913</td>\n",
                            "      <td>0.959</td>\n",
                            "      <td>Up</td>\n",
                            "    </tr>\n",
                            "    <tr>\n",
                            "      <th>1</th>\n",
                            "      <td>2</td>\n",
                            "      <td>2001</td>\n",
                            "      <td>0.959</td>\n",
                            "      <td>0.381</td>\n",
                            "      <td>-0.192</td>\n",
                            "      <td>-2.624</td>\n",
                            "      <td>-1.055</td>\n",
                            "      <td>1.2965</td>\n",
                            "      <td>1.032</td>\n",
                            "      <td>Up</td>\n",
                            "    </tr>\n",
                            "    <tr>\n",
                            "      <th>2</th>\n",
                            "      <td>3</td>\n",
                            "      <td>2001</td>\n",
                            "      <td>1.032</td>\n",
                            "      <td>0.959</td>\n",
                            "      <td>0.381</td>\n",
                            "      <td>-0.192</td>\n",
                            "      <td>-2.624</td>\n",
                            "      <td>1.4112</td>\n",
                            "      <td>-0.623</td>\n",
                            "      <td>Down</td>\n",
                            "    </tr>\n",
                            "    <tr>\n",
                            "      <th>3</th>\n",
                            "      <td>4</td>\n",
                            "      <td>2001</td>\n",
                            "      <td>-0.623</td>\n",
                            "      <td>1.032</td>\n",
                            "      <td>0.959</td>\n",
                            "      <td>0.381</td>\n",
                            "      <td>-0.192</td>\n",
                            "      <td>1.2760</td>\n",
                            "      <td>0.614</td>\n",
                            "      <td>Up</td>\n",
                            "    </tr>\n",
                            "    <tr>\n",
                            "      <th>4</th>\n",
                            "      <td>5</td>\n",
                            "      <td>2001</td>\n",
                            "      <td>0.614</td>\n",
                            "      <td>-0.623</td>\n",
                            "      <td>1.032</td>\n",
                            "      <td>0.959</td>\n",
                            "      <td>0.381</td>\n",
                            "      <td>1.2057</td>\n",
                            "      <td>0.213</td>\n",
                            "      <td>Up</td>\n",
                            "    </tr>\n",
                            "  </tbody>\n",
                            "</table>\n",
                            "</div>"
                        ]
                    },
                    "metadata": {},
                    "execution_count": 7
                }
            ],
            "metadata": {}
        },
        {
            "cell_type": "code",
            "execution_count": 8,
            "source": [
                "market.shape"
            ],
            "outputs": [
                {
                    "output_type": "execute_result",
                    "data": {
                        "text/plain": [
                            "(1250, 10)"
                        ]
                    },
                    "metadata": {},
                    "execution_count": 8
                }
            ],
            "metadata": {}
        },
        {
            "cell_type": "code",
            "execution_count": 11,
            "source": [
                "market.describe()"
            ],
            "outputs": [
                {
                    "output_type": "execute_result",
                    "data": {
                        "text/plain": [
                            "             Day      Year       Lag1       Lag2       Lag3       Lag4  \\\n",
                            "count  1250.0000  1250.000  1250.0000  1250.0000  1250.0000  1250.0000   \n",
                            "mean    625.5000  2003.016     0.0038     0.0039     0.0017     0.0016   \n",
                            "std     360.9882     1.409     1.1363     1.1363     1.1387     1.1388   \n",
                            "min       1.0000  2001.000    -4.9220    -4.9220    -4.9220    -4.9220   \n",
                            "25%     313.2500  2002.000    -0.6395    -0.6395    -0.6400    -0.6400   \n",
                            "50%     625.5000  2003.000     0.0390     0.0390     0.0385     0.0385   \n",
                            "75%     937.7500  2004.000     0.5968     0.5968     0.5968     0.5968   \n",
                            "max    1250.0000  2005.000     5.7330     5.7330     5.7330     5.7330   \n",
                            "\n",
                            "            Lag5     Volume      Today  \n",
                            "count  1250.0000  1250.0000  1250.0000  \n",
                            "mean      0.0056     1.4783     0.0031  \n",
                            "std       1.1476     0.3604     1.1363  \n",
                            "min      -4.9220     0.3561    -4.9220  \n",
                            "25%      -0.6400     1.2574    -0.6395  \n",
                            "50%       0.0385     1.4230     0.0385  \n",
                            "75%       0.5970     1.6417     0.5968  \n",
                            "max       5.7330     3.1525     5.7330  "
                        ],
                        "text/html": [
                            "<div>\n",
                            "<style scoped>\n",
                            "    .dataframe tbody tr th:only-of-type {\n",
                            "        vertical-align: middle;\n",
                            "    }\n",
                            "\n",
                            "    .dataframe tbody tr th {\n",
                            "        vertical-align: top;\n",
                            "    }\n",
                            "\n",
                            "    .dataframe thead th {\n",
                            "        text-align: right;\n",
                            "    }\n",
                            "</style>\n",
                            "<table border=\"1\" class=\"dataframe\">\n",
                            "  <thead>\n",
                            "    <tr style=\"text-align: right;\">\n",
                            "      <th></th>\n",
                            "      <th>Day</th>\n",
                            "      <th>Year</th>\n",
                            "      <th>Lag1</th>\n",
                            "      <th>Lag2</th>\n",
                            "      <th>Lag3</th>\n",
                            "      <th>Lag4</th>\n",
                            "      <th>Lag5</th>\n",
                            "      <th>Volume</th>\n",
                            "      <th>Today</th>\n",
                            "    </tr>\n",
                            "  </thead>\n",
                            "  <tbody>\n",
                            "    <tr>\n",
                            "      <th>count</th>\n",
                            "      <td>1250.0000</td>\n",
                            "      <td>1250.000</td>\n",
                            "      <td>1250.0000</td>\n",
                            "      <td>1250.0000</td>\n",
                            "      <td>1250.0000</td>\n",
                            "      <td>1250.0000</td>\n",
                            "      <td>1250.0000</td>\n",
                            "      <td>1250.0000</td>\n",
                            "      <td>1250.0000</td>\n",
                            "    </tr>\n",
                            "    <tr>\n",
                            "      <th>mean</th>\n",
                            "      <td>625.5000</td>\n",
                            "      <td>2003.016</td>\n",
                            "      <td>0.0038</td>\n",
                            "      <td>0.0039</td>\n",
                            "      <td>0.0017</td>\n",
                            "      <td>0.0016</td>\n",
                            "      <td>0.0056</td>\n",
                            "      <td>1.4783</td>\n",
                            "      <td>0.0031</td>\n",
                            "    </tr>\n",
                            "    <tr>\n",
                            "      <th>std</th>\n",
                            "      <td>360.9882</td>\n",
                            "      <td>1.409</td>\n",
                            "      <td>1.1363</td>\n",
                            "      <td>1.1363</td>\n",
                            "      <td>1.1387</td>\n",
                            "      <td>1.1388</td>\n",
                            "      <td>1.1476</td>\n",
                            "      <td>0.3604</td>\n",
                            "      <td>1.1363</td>\n",
                            "    </tr>\n",
                            "    <tr>\n",
                            "      <th>min</th>\n",
                            "      <td>1.0000</td>\n",
                            "      <td>2001.000</td>\n",
                            "      <td>-4.9220</td>\n",
                            "      <td>-4.9220</td>\n",
                            "      <td>-4.9220</td>\n",
                            "      <td>-4.9220</td>\n",
                            "      <td>-4.9220</td>\n",
                            "      <td>0.3561</td>\n",
                            "      <td>-4.9220</td>\n",
                            "    </tr>\n",
                            "    <tr>\n",
                            "      <th>25%</th>\n",
                            "      <td>313.2500</td>\n",
                            "      <td>2002.000</td>\n",
                            "      <td>-0.6395</td>\n",
                            "      <td>-0.6395</td>\n",
                            "      <td>-0.6400</td>\n",
                            "      <td>-0.6400</td>\n",
                            "      <td>-0.6400</td>\n",
                            "      <td>1.2574</td>\n",
                            "      <td>-0.6395</td>\n",
                            "    </tr>\n",
                            "    <tr>\n",
                            "      <th>50%</th>\n",
                            "      <td>625.5000</td>\n",
                            "      <td>2003.000</td>\n",
                            "      <td>0.0390</td>\n",
                            "      <td>0.0390</td>\n",
                            "      <td>0.0385</td>\n",
                            "      <td>0.0385</td>\n",
                            "      <td>0.0385</td>\n",
                            "      <td>1.4230</td>\n",
                            "      <td>0.0385</td>\n",
                            "    </tr>\n",
                            "    <tr>\n",
                            "      <th>75%</th>\n",
                            "      <td>937.7500</td>\n",
                            "      <td>2004.000</td>\n",
                            "      <td>0.5968</td>\n",
                            "      <td>0.5968</td>\n",
                            "      <td>0.5968</td>\n",
                            "      <td>0.5968</td>\n",
                            "      <td>0.5970</td>\n",
                            "      <td>1.6417</td>\n",
                            "      <td>0.5968</td>\n",
                            "    </tr>\n",
                            "    <tr>\n",
                            "      <th>max</th>\n",
                            "      <td>1250.0000</td>\n",
                            "      <td>2005.000</td>\n",
                            "      <td>5.7330</td>\n",
                            "      <td>5.7330</td>\n",
                            "      <td>5.7330</td>\n",
                            "      <td>5.7330</td>\n",
                            "      <td>5.7330</td>\n",
                            "      <td>3.1525</td>\n",
                            "      <td>5.7330</td>\n",
                            "    </tr>\n",
                            "  </tbody>\n",
                            "</table>\n",
                            "</div>"
                        ]
                    },
                    "metadata": {},
                    "execution_count": 11
                }
            ],
            "metadata": {}
        },
        {
            "cell_type": "code",
            "execution_count": 13,
            "source": [
                "market.corr(method = 'pearson')"
            ],
            "outputs": [
                {
                    "output_type": "execute_result",
                    "data": {
                        "text/plain": [
                            "           Day    Year    Lag1    Lag2    Lag3    Lag4    Lag5  Volume   Today\n",
                            "Day     1.0000  0.9798  0.0354  0.0360  0.0390  0.0414  0.0350  0.5463  0.0353\n",
                            "Year    0.9798  1.0000  0.0297  0.0306  0.0332  0.0357  0.0298  0.5390  0.0301\n",
                            "Lag1    0.0354  0.0297  1.0000 -0.0263 -0.0108 -0.0030 -0.0057  0.0409 -0.0262\n",
                            "Lag2    0.0360  0.0306 -0.0263  1.0000 -0.0259 -0.0109 -0.0036 -0.0434 -0.0103\n",
                            "Lag3    0.0390  0.0332 -0.0108 -0.0259  1.0000 -0.0241 -0.0188 -0.0418 -0.0024\n",
                            "Lag4    0.0414  0.0357 -0.0030 -0.0109 -0.0241  1.0000 -0.0271 -0.0484 -0.0069\n",
                            "Lag5    0.0350  0.0298 -0.0057 -0.0036 -0.0188 -0.0271  1.0000 -0.0220 -0.0349\n",
                            "Volume  0.5463  0.5390  0.0409 -0.0434 -0.0418 -0.0484 -0.0220  1.0000  0.0146\n",
                            "Today   0.0353  0.0301 -0.0262 -0.0103 -0.0024 -0.0069 -0.0349  0.0146  1.0000"
                        ],
                        "text/html": [
                            "<div>\n",
                            "<style scoped>\n",
                            "    .dataframe tbody tr th:only-of-type {\n",
                            "        vertical-align: middle;\n",
                            "    }\n",
                            "\n",
                            "    .dataframe tbody tr th {\n",
                            "        vertical-align: top;\n",
                            "    }\n",
                            "\n",
                            "    .dataframe thead th {\n",
                            "        text-align: right;\n",
                            "    }\n",
                            "</style>\n",
                            "<table border=\"1\" class=\"dataframe\">\n",
                            "  <thead>\n",
                            "    <tr style=\"text-align: right;\">\n",
                            "      <th></th>\n",
                            "      <th>Day</th>\n",
                            "      <th>Year</th>\n",
                            "      <th>Lag1</th>\n",
                            "      <th>Lag2</th>\n",
                            "      <th>Lag3</th>\n",
                            "      <th>Lag4</th>\n",
                            "      <th>Lag5</th>\n",
                            "      <th>Volume</th>\n",
                            "      <th>Today</th>\n",
                            "    </tr>\n",
                            "  </thead>\n",
                            "  <tbody>\n",
                            "    <tr>\n",
                            "      <th>Day</th>\n",
                            "      <td>1.0000</td>\n",
                            "      <td>0.9798</td>\n",
                            "      <td>0.0354</td>\n",
                            "      <td>0.0360</td>\n",
                            "      <td>0.0390</td>\n",
                            "      <td>0.0414</td>\n",
                            "      <td>0.0350</td>\n",
                            "      <td>0.5463</td>\n",
                            "      <td>0.0353</td>\n",
                            "    </tr>\n",
                            "    <tr>\n",
                            "      <th>Year</th>\n",
                            "      <td>0.9798</td>\n",
                            "      <td>1.0000</td>\n",
                            "      <td>0.0297</td>\n",
                            "      <td>0.0306</td>\n",
                            "      <td>0.0332</td>\n",
                            "      <td>0.0357</td>\n",
                            "      <td>0.0298</td>\n",
                            "      <td>0.5390</td>\n",
                            "      <td>0.0301</td>\n",
                            "    </tr>\n",
                            "    <tr>\n",
                            "      <th>Lag1</th>\n",
                            "      <td>0.0354</td>\n",
                            "      <td>0.0297</td>\n",
                            "      <td>1.0000</td>\n",
                            "      <td>-0.0263</td>\n",
                            "      <td>-0.0108</td>\n",
                            "      <td>-0.0030</td>\n",
                            "      <td>-0.0057</td>\n",
                            "      <td>0.0409</td>\n",
                            "      <td>-0.0262</td>\n",
                            "    </tr>\n",
                            "    <tr>\n",
                            "      <th>Lag2</th>\n",
                            "      <td>0.0360</td>\n",
                            "      <td>0.0306</td>\n",
                            "      <td>-0.0263</td>\n",
                            "      <td>1.0000</td>\n",
                            "      <td>-0.0259</td>\n",
                            "      <td>-0.0109</td>\n",
                            "      <td>-0.0036</td>\n",
                            "      <td>-0.0434</td>\n",
                            "      <td>-0.0103</td>\n",
                            "    </tr>\n",
                            "    <tr>\n",
                            "      <th>Lag3</th>\n",
                            "      <td>0.0390</td>\n",
                            "      <td>0.0332</td>\n",
                            "      <td>-0.0108</td>\n",
                            "      <td>-0.0259</td>\n",
                            "      <td>1.0000</td>\n",
                            "      <td>-0.0241</td>\n",
                            "      <td>-0.0188</td>\n",
                            "      <td>-0.0418</td>\n",
                            "      <td>-0.0024</td>\n",
                            "    </tr>\n",
                            "    <tr>\n",
                            "      <th>Lag4</th>\n",
                            "      <td>0.0414</td>\n",
                            "      <td>0.0357</td>\n",
                            "      <td>-0.0030</td>\n",
                            "      <td>-0.0109</td>\n",
                            "      <td>-0.0241</td>\n",
                            "      <td>1.0000</td>\n",
                            "      <td>-0.0271</td>\n",
                            "      <td>-0.0484</td>\n",
                            "      <td>-0.0069</td>\n",
                            "    </tr>\n",
                            "    <tr>\n",
                            "      <th>Lag5</th>\n",
                            "      <td>0.0350</td>\n",
                            "      <td>0.0298</td>\n",
                            "      <td>-0.0057</td>\n",
                            "      <td>-0.0036</td>\n",
                            "      <td>-0.0188</td>\n",
                            "      <td>-0.0271</td>\n",
                            "      <td>1.0000</td>\n",
                            "      <td>-0.0220</td>\n",
                            "      <td>-0.0349</td>\n",
                            "    </tr>\n",
                            "    <tr>\n",
                            "      <th>Volume</th>\n",
                            "      <td>0.5463</td>\n",
                            "      <td>0.5390</td>\n",
                            "      <td>0.0409</td>\n",
                            "      <td>-0.0434</td>\n",
                            "      <td>-0.0418</td>\n",
                            "      <td>-0.0484</td>\n",
                            "      <td>-0.0220</td>\n",
                            "      <td>1.0000</td>\n",
                            "      <td>0.0146</td>\n",
                            "    </tr>\n",
                            "    <tr>\n",
                            "      <th>Today</th>\n",
                            "      <td>0.0353</td>\n",
                            "      <td>0.0301</td>\n",
                            "      <td>-0.0262</td>\n",
                            "      <td>-0.0103</td>\n",
                            "      <td>-0.0024</td>\n",
                            "      <td>-0.0069</td>\n",
                            "      <td>-0.0349</td>\n",
                            "      <td>0.0146</td>\n",
                            "      <td>1.0000</td>\n",
                            "    </tr>\n",
                            "  </tbody>\n",
                            "</table>\n",
                            "</div>"
                        ]
                    },
                    "metadata": {},
                    "execution_count": 13
                }
            ],
            "metadata": {}
        },
        {
            "cell_type": "code",
            "execution_count": 15,
            "source": [
                "# Plot\n",
                "_,ax = plt.subplots(figsize=(14,10), dpi=(100))\n",
                "\n",
                "ax = sns.scatterplot(x = 'Day', y = 'Volume',data =market)\n",
                "ax.set(xlabel = 'Days', ylabel = 'Volume in Billions')\n",
                "plt.show()\n"
            ],
            "outputs": [
                {
                    "output_type": "display_data",
                    "data": {
                        "text/plain": [
                            "<Figure size 1400x1000 with 1 Axes>"
                        ],
                        "image/png": "[encoded data removed]"
                    },
                    "metadata": {
                        "needs_background": "light"
                    }
                }
            ],
            "metadata": {}
        },
        {
            "cell_type": "markdown",
            "source": [
                "## Logistic regression"
            ],
            "metadata": {}
        },
        {
            "cell_type": "markdown",
            "source": [
                "Note : label the attributes \"up\" and \"down\" as 1/0, transfer the problem in to the logistic regression model"
            ],
            "metadata": {}
        },
        {
            "cell_type": "code",
            "execution_count": 16,
            "source": [
                "# Encode the response as 0,1 for the down/up\n",
                "market['DirCoded'] = [0 if x == 'Down' else 1 for x in market.Direction]\n",
                "market.head()\n"
            ],
            "outputs": [
                {
                    "output_type": "execute_result",
                    "data": {
                        "text/plain": [
                            "   Day  Year   Lag1   Lag2   Lag3   Lag4   Lag5  Volume  Today Direction  \\\n",
                            "0    1  2001  0.381 -0.192 -2.624 -1.055  5.010  1.1913  0.959        Up   \n",
                            "1    2  2001  0.959  0.381 -0.192 -2.624 -1.055  1.2965  1.032        Up   \n",
                            "2    3  2001  1.032  0.959  0.381 -0.192 -2.624  1.4112 -0.623      Down   \n",
                            "3    4  2001 -0.623  1.032  0.959  0.381 -0.192  1.2760  0.614        Up   \n",
                            "4    5  2001  0.614 -0.623  1.032  0.959  0.381  1.2057  0.213        Up   \n",
                            "\n",
                            "   DirCoded  \n",
                            "0         1  \n",
                            "1         1  \n",
                            "2         0  \n",
                            "3         1  \n",
                            "4         1  "
                        ],
                        "text/html": [
                            "<div>\n",
                            "<style scoped>\n",
                            "    .dataframe tbody tr th:only-of-type {\n",
                            "        vertical-align: middle;\n",
                            "    }\n",
                            "\n",
                            "    .dataframe tbody tr th {\n",
                            "        vertical-align: top;\n",
                            "    }\n",
                            "\n",
                            "    .dataframe thead th {\n",
                            "        text-align: right;\n",
                            "    }\n",
                            "</style>\n",
                            "<table border=\"1\" class=\"dataframe\">\n",
                            "  <thead>\n",
                            "    <tr style=\"text-align: right;\">\n",
                            "      <th></th>\n",
                            "      <th>Day</th>\n",
                            "      <th>Year</th>\n",
                            "      <th>Lag1</th>\n",
                            "      <th>Lag2</th>\n",
                            "      <th>Lag3</th>\n",
                            "      <th>Lag4</th>\n",
                            "      <th>Lag5</th>\n",
                            "      <th>Volume</th>\n",
                            "      <th>Today</th>\n",
                            "      <th>Direction</th>\n",
                            "      <th>DirCoded</th>\n",
                            "    </tr>\n",
                            "  </thead>\n",
                            "  <tbody>\n",
                            "    <tr>\n",
                            "      <th>0</th>\n",
                            "      <td>1</td>\n",
                            "      <td>2001</td>\n",
                            "      <td>0.381</td>\n",
                            "      <td>-0.192</td>\n",
                            "      <td>-2.624</td>\n",
                            "      <td>-1.055</td>\n",
                            "      <td>5.010</td>\n",
                            "      <td>1.1913</td>\n",
                            "      <td>0.959</td>\n",
                            "      <td>Up</td>\n",
                            "      <td>1</td>\n",
                            "    </tr>\n",
                            "    <tr>\n",
                            "      <th>1</th>\n",
                            "      <td>2</td>\n",
                            "      <td>2001</td>\n",
                            "      <td>0.959</td>\n",
                            "      <td>0.381</td>\n",
                            "      <td>-0.192</td>\n",
                            "      <td>-2.624</td>\n",
                            "      <td>-1.055</td>\n",
                            "      <td>1.2965</td>\n",
                            "      <td>1.032</td>\n",
                            "      <td>Up</td>\n",
                            "      <td>1</td>\n",
                            "    </tr>\n",
                            "    <tr>\n",
                            "      <th>2</th>\n",
                            "      <td>3</td>\n",
                            "      <td>2001</td>\n",
                            "      <td>1.032</td>\n",
                            "      <td>0.959</td>\n",
                            "      <td>0.381</td>\n",
                            "      <td>-0.192</td>\n",
                            "      <td>-2.624</td>\n",
                            "      <td>1.4112</td>\n",
                            "      <td>-0.623</td>\n",
                            "      <td>Down</td>\n",
                            "      <td>0</td>\n",
                            "    </tr>\n",
                            "    <tr>\n",
                            "      <th>3</th>\n",
                            "      <td>4</td>\n",
                            "      <td>2001</td>\n",
                            "      <td>-0.623</td>\n",
                            "      <td>1.032</td>\n",
                            "      <td>0.959</td>\n",
                            "      <td>0.381</td>\n",
                            "      <td>-0.192</td>\n",
                            "      <td>1.2760</td>\n",
                            "      <td>0.614</td>\n",
                            "      <td>Up</td>\n",
                            "      <td>1</td>\n",
                            "    </tr>\n",
                            "    <tr>\n",
                            "      <th>4</th>\n",
                            "      <td>5</td>\n",
                            "      <td>2001</td>\n",
                            "      <td>0.614</td>\n",
                            "      <td>-0.623</td>\n",
                            "      <td>1.032</td>\n",
                            "      <td>0.959</td>\n",
                            "      <td>0.381</td>\n",
                            "      <td>1.2057</td>\n",
                            "      <td>0.213</td>\n",
                            "      <td>Up</td>\n",
                            "      <td>1</td>\n",
                            "    </tr>\n",
                            "  </tbody>\n",
                            "</table>\n",
                            "</div>"
                        ]
                    },
                    "metadata": {},
                    "execution_count": 16
                }
            ],
            "metadata": {}
        },
        {
            "cell_type": "markdown",
            "source": [
                "statsmodels solution"
            ],
            "metadata": {}
        },
        {
            "cell_type": "code",
            "execution_count": 18,
            "source": [
                "import statsmodels.api as sm\n",
                "import statsmodels.formula.api as smf"
            ],
            "outputs": [],
            "metadata": {}
        },
        {
            "cell_type": "code",
            "execution_count": 22,
            "source": [
                "# Build the model\n",
                "f = \"DirCoded ~ Lag1 + Lag2 + Lag3 + Lag4 + Lag5 + Volume\"\n",
                "logit_fit = smf.logit(f, market).fit()\n",
                "logit_fit.summary()"
            ],
            "outputs": [
                {
                    "output_type": "stream",
                    "name": "stdout",
                    "text": [
                        "Optimization terminated successfully.\n",
                        "         Current function value: 0.691034\n",
                        "         Iterations 4\n"
                    ]
                },
                {
                    "output_type": "execute_result",
                    "data": {
                        "text/plain": [
                            "<class 'statsmodels.iolib.summary.Summary'>\n",
                            "\"\"\"\n",
                            "                           Logit Regression Results                           \n",
                            "==============================================================================\n",
                            "Dep. Variable:               DirCoded   No. Observations:                 1250\n",
                            "Model:                          Logit   Df Residuals:                     1243\n",
                            "Method:                           MLE   Df Model:                            6\n",
                            "Date:                Tue, 03 Aug 2021   Pseudo R-squ.:                0.002074\n",
                            "Time:                        16:57:10   Log-Likelihood:                -863.79\n",
                            "converged:                       True   LL-Null:                       -865.59\n",
                            "Covariance Type:            nonrobust   LLR p-value:                    0.7319\n",
                            "==============================================================================\n",
                            "                 coef    std err          z      P>|z|      [0.025      0.975]\n",
                            "------------------------------------------------------------------------------\n",
                            "Intercept     -0.1260      0.241     -0.523      0.601      -0.598       0.346\n",
                            "Lag1          -0.0731      0.050     -1.457      0.145      -0.171       0.025\n",
                            "Lag2          -0.0423      0.050     -0.845      0.398      -0.140       0.056\n",
                            "Lag3           0.0111      0.050      0.222      0.824      -0.087       0.109\n",
                            "Lag4           0.0094      0.050      0.187      0.851      -0.089       0.107\n",
                            "Lag5           0.0103      0.050      0.208      0.835      -0.087       0.107\n",
                            "Volume         0.1354      0.158      0.855      0.392      -0.175       0.446\n",
                            "==============================================================================\n",
                            "\"\"\""
                        ],
                        "text/html": [
                            "<table class=\"simpletable\">\n",
                            "<caption>Logit Regression Results</caption>\n",
                            "<tr>\n",
                            "  <th>Dep. Variable:</th>       <td>DirCoded</td>     <th>  No. Observations:  </th>  <td>  1250</td> \n",
                            "</tr>\n",
                            "<tr>\n",
                            "  <th>Model:</th>                 <td>Logit</td>      <th>  Df Residuals:      </th>  <td>  1243</td> \n",
                            "</tr>\n",
                            "<tr>\n",
                            "  <th>Method:</th>                 <td>MLE</td>       <th>  Df Model:          </th>  <td>     6</td> \n",
                            "</tr>\n",
                            "<tr>\n",
                            "  <th>Date:</th>            <td>Tue, 03 Aug 2021</td> <th>  Pseudo R-squ.:     </th> <td>0.002074</td>\n",
                            "</tr>\n",
                            "<tr>\n",
                            "  <th>Time:</th>                <td>16:57:10</td>     <th>  Log-Likelihood:    </th> <td> -863.79</td>\n",
                            "</tr>\n",
                            "<tr>\n",
                            "  <th>converged:</th>             <td>True</td>       <th>  LL-Null:           </th> <td> -865.59</td>\n",
                            "</tr>\n",
                            "<tr>\n",
                            "  <th>Covariance Type:</th>     <td>nonrobust</td>    <th>  LLR p-value:       </th>  <td>0.7319</td> \n",
                            "</tr>\n",
                            "</table>\n",
                            "<table class=\"simpletable\">\n",
                            "<tr>\n",
                            "      <td></td>         <th>coef</th>     <th>std err</th>      <th>z</th>      <th>P>|z|</th>  <th>[0.025</th>    <th>0.975]</th>  \n",
                            "</tr>\n",
                            "<tr>\n",
                            "  <th>Intercept</th> <td>   -0.1260</td> <td>    0.241</td> <td>   -0.523</td> <td> 0.601</td> <td>   -0.598</td> <td>    0.346</td>\n",
                            "</tr>\n",
                            "<tr>\n",
                            "  <th>Lag1</th>      <td>   -0.0731</td> <td>    0.050</td> <td>   -1.457</td> <td> 0.145</td> <td>   -0.171</td> <td>    0.025</td>\n",
                            "</tr>\n",
                            "<tr>\n",
                            "  <th>Lag2</th>      <td>   -0.0423</td> <td>    0.050</td> <td>   -0.845</td> <td> 0.398</td> <td>   -0.140</td> <td>    0.056</td>\n",
                            "</tr>\n",
                            "<tr>\n",
                            "  <th>Lag3</th>      <td>    0.0111</td> <td>    0.050</td> <td>    0.222</td> <td> 0.824</td> <td>   -0.087</td> <td>    0.109</td>\n",
                            "</tr>\n",
                            "<tr>\n",
                            "  <th>Lag4</th>      <td>    0.0094</td> <td>    0.050</td> <td>    0.187</td> <td> 0.851</td> <td>   -0.089</td> <td>    0.107</td>\n",
                            "</tr>\n",
                            "<tr>\n",
                            "  <th>Lag5</th>      <td>    0.0103</td> <td>    0.050</td> <td>    0.208</td> <td> 0.835</td> <td>   -0.087</td> <td>    0.107</td>\n",
                            "</tr>\n",
                            "<tr>\n",
                            "  <th>Volume</th>    <td>    0.1354</td> <td>    0.158</td> <td>    0.855</td> <td> 0.392</td> <td>   -0.175</td> <td>    0.446</td>\n",
                            "</tr>\n",
                            "</table>"
                        ]
                    },
                    "metadata": {},
                    "execution_count": 22
                }
            ],
            "metadata": {}
        },
        {
            "cell_type": "code",
            "execution_count": 23,
            "source": [
                "logit_fit.params"
            ],
            "outputs": [
                {
                    "output_type": "execute_result",
                    "data": {
                        "text/plain": [
                            "Intercept   -0.1260\n",
                            "Lag1        -0.0731\n",
                            "Lag2        -0.0423\n",
                            "Lag3         0.0111\n",
                            "Lag4         0.0094\n",
                            "Lag5         0.0103\n",
                            "Volume       0.1354\n",
                            "dtype: float64"
                        ]
                    },
                    "metadata": {},
                    "execution_count": 23
                }
            ],
            "metadata": {}
        },
        {
            "cell_type": "code",
            "execution_count": 25,
            "source": [
                "logit_probs = logit_fit.predict(market)\n",
                "logit_probs.head()"
            ],
            "outputs": [
                {
                    "output_type": "execute_result",
                    "data": {
                        "text/plain": [
                            "0    0.5071\n",
                            "1    0.4815\n",
                            "2    0.4811\n",
                            "3    0.5152\n",
                            "4    0.5108\n",
                            "dtype: float64"
                        ]
                    },
                    "metadata": {},
                    "execution_count": 25
                }
            ],
            "metadata": {}
        },
        {
            "cell_type": "markdown",
            "source": [
                "Criterion parameter :The following commands create a vector of class predictions based on whether the predicted probability of a market increase is greater than or less than 0.5."
            ],
            "metadata": {}
        },
        {
            "cell_type": "code",
            "execution_count": 34,
            "source": [
                "# make logit_pred with the prob theshold = 0.5\n",
                "\n",
                "market['logit_pred'] = ['Up' if p > 0.5 else 'Down' for p in logit_probs]\n",
                "\n",
                "table = pd.crosstab(market.Direction, market.logit_pred)\n",
                "table"
            ],
            "outputs": [
                {
                    "output_type": "execute_result",
                    "data": {
                        "text/plain": [
                            "logit_pred  Down   Up\n",
                            "Direction            \n",
                            "Down         145  457\n",
                            "Up           141  507"
                        ],
                        "text/html": [
                            "<div>\n",
                            "<style scoped>\n",
                            "    .dataframe tbody tr th:only-of-type {\n",
                            "        vertical-align: middle;\n",
                            "    }\n",
                            "\n",
                            "    .dataframe tbody tr th {\n",
                            "        vertical-align: top;\n",
                            "    }\n",
                            "\n",
                            "    .dataframe thead th {\n",
                            "        text-align: right;\n",
                            "    }\n",
                            "</style>\n",
                            "<table border=\"1\" class=\"dataframe\">\n",
                            "  <thead>\n",
                            "    <tr style=\"text-align: right;\">\n",
                            "      <th>logit_pred</th>\n",
                            "      <th>Down</th>\n",
                            "      <th>Up</th>\n",
                            "    </tr>\n",
                            "    <tr>\n",
                            "      <th>Direction</th>\n",
                            "      <th></th>\n",
                            "      <th></th>\n",
                            "    </tr>\n",
                            "  </thead>\n",
                            "  <tbody>\n",
                            "    <tr>\n",
                            "      <th>Down</th>\n",
                            "      <td>145</td>\n",
                            "      <td>457</td>\n",
                            "    </tr>\n",
                            "    <tr>\n",
                            "      <th>Up</th>\n",
                            "      <td>141</td>\n",
                            "      <td>507</td>\n",
                            "    </tr>\n",
                            "  </tbody>\n",
                            "</table>\n",
                            "</div>"
                        ]
                    },
                    "metadata": {},
                    "execution_count": 34
                }
            ],
            "metadata": {}
        },
        {
            "cell_type": "code",
            "execution_count": 35,
            "source": [
                "# Compute Model Accuracy\n",
                "logit_acc = (table.Down[0] + table.Up[1])/logit_fit.nobs"
            ],
            "outputs": [],
            "metadata": {}
        },
        {
            "cell_type": "code",
            "execution_count": 36,
            "source": [
                "print(f\"The model made {logit_acc} correct predictions on the trainning set\")"
            ],
            "outputs": [
                {
                    "output_type": "stream",
                    "name": "stdout",
                    "text": [
                        "The model made 0.5216 correct predictions on the trainning set\n"
                    ]
                }
            ],
            "metadata": {}
        },
        {
            "cell_type": "code",
            "execution_count": 38,
            "source": [],
            "outputs": [
                {
                    "output_type": "execute_result",
                    "data": {
                        "text/plain": [
                            "0        True\n",
                            "1       False\n",
                            "2        True\n",
                            "3        True\n",
                            "4        True\n",
                            "        ...  \n",
                            "1245     True\n",
                            "1246    False\n",
                            "1247     True\n",
                            "1248    False\n",
                            "1249    False\n",
                            "Length: 1250, dtype: bool"
                        ]
                    },
                    "metadata": {},
                    "execution_count": 38
                }
            ],
            "metadata": {}
        },
        {
            "cell_type": "code",
            "execution_count": null,
            "source": [],
            "outputs": [],
            "metadata": {}
        }
    ],
    "metadata": {
        "orig_nbformat": 4,
        "language_info": {
            "name": "python",
            "version": "3.9.6",
            "mimetype": "text/x-python",
            "codemirror_mode": {
                "name": "ipython",
                "version": 3
            },
            "pygments_lexer": "ipython3",
            "nbconvert_exporter": "python",
            "file_extension": ".py"
        },
        "kernelspec": {
            "name": "python3",
            "display_name": "Python 3.9.6 64-bit ('p39': conda)"
        },
        "interpreter": {
            "hash": "ff2e645ef952f1284ebef59edbc19ad3cff03e6406671d2dab1ca7ad9588368d"
        }
    },
    "nbformat": 4,
    "nbformat_minor": 2
}