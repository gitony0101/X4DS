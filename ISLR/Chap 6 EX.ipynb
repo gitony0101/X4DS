{
 "cells": [
  {
   "cell_type": "markdown",
   "source": [
    "# Chap 6 Linear Model Selection and Regularization"
   ],
   "metadata": {}
  },
  {
   "cell_type": "markdown",
   "source": [
    "## Lab1 Hitters dataset"
   ],
   "metadata": {}
  },
  {
   "cell_type": "code",
   "execution_count": 43,
   "source": [
    "import numpy as np\n",
    "import pandas as pd\n",
    "import seaborn as sns; sns.set()\n",
    "import matplotlib.pyplot as plt\n",
    "%matplotlib inline\n",
    "\n",
    "import statsmodels.api as sm\n",
    "import statsmodels.formula.api as smf\n",
    "from itertools import combinations\n",
    "\n",
    "from sklearn.linear_model import *\n",
    "from sklearn.preprocessing import *\n",
    "from sklearn.feature_selection import *\n",
    "from sklearn.metrics import *\n",
    "from sklearn.model_selection import *"
   ],
   "outputs": [],
   "metadata": {}
  },
  {
   "cell_type": "code",
   "execution_count": 44,
   "source": [
    "hitters = pd.read_csv('../data/Hitters.csv').dropna()\n",
    "assert hitters.isna().sum().sum() == 0\n",
    "hitters.index"
   ],
   "outputs": [
    {
     "output_type": "execute_result",
     "data": {
      "text/plain": [
       "Int64Index([  1,   2,   3,   4,   5,   6,   7,   8,   9,  10,\n",
       "            ...\n",
       "            311, 312, 313, 314, 315, 317, 318, 319, 320, 321],\n",
       "           dtype='int64', length=263)"
      ]
     },
     "metadata": {},
     "execution_count": 44
    }
   ],
   "metadata": {}
  },
  {
   "cell_type": "code",
   "execution_count": 45,
   "source": [
    "# Create dummy variables for qualitative features\n",
    "qual = ['League', 'Division', 'NewLeague']\n",
    "hitters = pd.get_dummies(hitters,columns= qual)\n",
    "hitters.head()"
   ],
   "outputs": [
    {
     "output_type": "execute_result",
     "data": {
      "text/plain": [
       "   AtBat  Hits  HmRun  Runs  RBI  Walks  Years  CAtBat  CHits  CHmRun  ...  \\\n",
       "1    315    81      7    24   38     39     14    3449    835      69  ...   \n",
       "2    479   130     18    66   72     76      3    1624    457      63  ...   \n",
       "3    496   141     20    65   78     37     11    5628   1575     225  ...   \n",
       "4    321    87     10    39   42     30      2     396    101      12  ...   \n",
       "5    594   169      4    74   51     35     11    4408   1133      19  ...   \n",
       "\n",
       "   PutOuts  Assists  Errors  Salary  League_A  League_N  Division_E  \\\n",
       "1      632       43      10   475.0         0         1           0   \n",
       "2      880       82      14   480.0         1         0           0   \n",
       "3      200       11       3   500.0         0         1           1   \n",
       "4      805       40       4    91.5         0         1           1   \n",
       "5      282      421      25   750.0         1         0           0   \n",
       "\n",
       "   Division_W  NewLeague_A  NewLeague_N  \n",
       "1           1            0            1  \n",
       "2           1            1            0  \n",
       "3           0            0            1  \n",
       "4           0            0            1  \n",
       "5           1            1            0  \n",
       "\n",
       "[5 rows x 23 columns]"
      ],
      "text/html": [
       "<div>\n",
       "<style scoped>\n",
       "    .dataframe tbody tr th:only-of-type {\n",
       "        vertical-align: middle;\n",
       "    }\n",
       "\n",
       "    .dataframe tbody tr th {\n",
       "        vertical-align: top;\n",
       "    }\n",
       "\n",
       "    .dataframe thead th {\n",
       "        text-align: right;\n",
       "    }\n",
       "</style>\n",
       "<table border=\"1\" class=\"dataframe\">\n",
       "  <thead>\n",
       "    <tr style=\"text-align: right;\">\n",
       "      <th></th>\n",
       "      <th>AtBat</th>\n",
       "      <th>Hits</th>\n",
       "      <th>HmRun</th>\n",
       "      <th>Runs</th>\n",
       "      <th>RBI</th>\n",
       "      <th>Walks</th>\n",
       "      <th>Years</th>\n",
       "      <th>CAtBat</th>\n",
       "      <th>CHits</th>\n",
       "      <th>CHmRun</th>\n",
       "      <th>...</th>\n",
       "      <th>PutOuts</th>\n",
       "      <th>Assists</th>\n",
       "      <th>Errors</th>\n",
       "      <th>Salary</th>\n",
       "      <th>League_A</th>\n",
       "      <th>League_N</th>\n",
       "      <th>Division_E</th>\n",
       "      <th>Division_W</th>\n",
       "      <th>NewLeague_A</th>\n",
       "      <th>NewLeague_N</th>\n",
       "    </tr>\n",
       "  </thead>\n",
       "  <tbody>\n",
       "    <tr>\n",
       "      <th>1</th>\n",
       "      <td>315</td>\n",
       "      <td>81</td>\n",
       "      <td>7</td>\n",
       "      <td>24</td>\n",
       "      <td>38</td>\n",
       "      <td>39</td>\n",
       "      <td>14</td>\n",
       "      <td>3449</td>\n",
       "      <td>835</td>\n",
       "      <td>69</td>\n",
       "      <td>...</td>\n",
       "      <td>632</td>\n",
       "      <td>43</td>\n",
       "      <td>10</td>\n",
       "      <td>475.0</td>\n",
       "      <td>0</td>\n",
       "      <td>1</td>\n",
       "      <td>0</td>\n",
       "      <td>1</td>\n",
       "      <td>0</td>\n",
       "      <td>1</td>\n",
       "    </tr>\n",
       "    <tr>\n",
       "      <th>2</th>\n",
       "      <td>479</td>\n",
       "      <td>130</td>\n",
       "      <td>18</td>\n",
       "      <td>66</td>\n",
       "      <td>72</td>\n",
       "      <td>76</td>\n",
       "      <td>3</td>\n",
       "      <td>1624</td>\n",
       "      <td>457</td>\n",
       "      <td>63</td>\n",
       "      <td>...</td>\n",
       "      <td>880</td>\n",
       "      <td>82</td>\n",
       "      <td>14</td>\n",
       "      <td>480.0</td>\n",
       "      <td>1</td>\n",
       "      <td>0</td>\n",
       "      <td>0</td>\n",
       "      <td>1</td>\n",
       "      <td>1</td>\n",
       "      <td>0</td>\n",
       "    </tr>\n",
       "    <tr>\n",
       "      <th>3</th>\n",
       "      <td>496</td>\n",
       "      <td>141</td>\n",
       "      <td>20</td>\n",
       "      <td>65</td>\n",
       "      <td>78</td>\n",
       "      <td>37</td>\n",
       "      <td>11</td>\n",
       "      <td>5628</td>\n",
       "      <td>1575</td>\n",
       "      <td>225</td>\n",
       "      <td>...</td>\n",
       "      <td>200</td>\n",
       "      <td>11</td>\n",
       "      <td>3</td>\n",
       "      <td>500.0</td>\n",
       "      <td>0</td>\n",
       "      <td>1</td>\n",
       "      <td>1</td>\n",
       "      <td>0</td>\n",
       "      <td>0</td>\n",
       "      <td>1</td>\n",
       "    </tr>\n",
       "    <tr>\n",
       "      <th>4</th>\n",
       "      <td>321</td>\n",
       "      <td>87</td>\n",
       "      <td>10</td>\n",
       "      <td>39</td>\n",
       "      <td>42</td>\n",
       "      <td>30</td>\n",
       "      <td>2</td>\n",
       "      <td>396</td>\n",
       "      <td>101</td>\n",
       "      <td>12</td>\n",
       "      <td>...</td>\n",
       "      <td>805</td>\n",
       "      <td>40</td>\n",
       "      <td>4</td>\n",
       "      <td>91.5</td>\n",
       "      <td>0</td>\n",
       "      <td>1</td>\n",
       "      <td>1</td>\n",
       "      <td>0</td>\n",
       "      <td>0</td>\n",
       "      <td>1</td>\n",
       "    </tr>\n",
       "    <tr>\n",
       "      <th>5</th>\n",
       "      <td>594</td>\n",
       "      <td>169</td>\n",
       "      <td>4</td>\n",
       "      <td>74</td>\n",
       "      <td>51</td>\n",
       "      <td>35</td>\n",
       "      <td>11</td>\n",
       "      <td>4408</td>\n",
       "      <td>1133</td>\n",
       "      <td>19</td>\n",
       "      <td>...</td>\n",
       "      <td>282</td>\n",
       "      <td>421</td>\n",
       "      <td>25</td>\n",
       "      <td>750.0</td>\n",
       "      <td>1</td>\n",
       "      <td>0</td>\n",
       "      <td>0</td>\n",
       "      <td>1</td>\n",
       "      <td>1</td>\n",
       "      <td>0</td>\n",
       "    </tr>\n",
       "  </tbody>\n",
       "</table>\n",
       "<p>5 rows × 23 columns</p>\n",
       "</div>"
      ]
     },
     "metadata": {},
     "execution_count": 45
    }
   ],
   "metadata": {}
  },
  {
   "cell_type": "markdown",
   "source": [
    "## Lab 1: Subset Selection Methods\n",
    "\n",
    "## 6.5.1 Best subset selection\n",
    "\n",
    "Perform best subset selection by identifying the best model that contains a given number of predictors, where best is quantified using RSS."
   ],
   "metadata": {}
  },
  {
   "cell_type": "code",
   "execution_count": 46,
   "source": [
    "def get_models(k, X, y):\n",
    "    X_combos = combinations(list(X.columns), k)\n",
    "    \n",
    "    models = []\n",
    "    for X_label in X_combos:\n",
    "        X_smf = ' + '.join(X_label)\n",
    "        f     = 'Salary ~ {}'.format(X_smf)\n",
    "        model = smf.ols(formula=f, data=pd.concat([X, y], axis=1)).fit()\n",
    "        models += [(f, model)]\n",
    "    return models\n",
    "\n",
    "def min_rss(statsmodels):\n",
    "    return sorted(statsmodels, key=lambda tup: tup[1].ssr)[0]\n",
    "\n",
    "def min_bic(statsmodels):\n",
    "    return sorted(statsmodels, reverse=False, key=lambda tup: tup[1].bic)[0]\n",
    "\n",
    "def max_adjr2(statsmodels):\n",
    "    return sorted(statsmodels, reverse=True, key=lambda tup: tup[1].rsquared_adj)[0]\n"
   ],
   "outputs": [],
   "metadata": {}
  },
  {
   "cell_type": "markdown",
   "source": [
    "### Which model with 2 predictors yields lowest RSS score?"
   ],
   "metadata": {}
  },
  {
   "cell_type": "code",
   "execution_count": 47,
   "source": [
    "X = hitters.drop('Salary', axis=1)\n",
    "y = hitters['Salary']\n",
    "\n",
    "k = 2\n",
    "subset = get_models(k, X, y)\n",
    "\n",
    "print(f'This model yields the lowest RSS score for the subset of models with {format(k)} predictors:')\n",
    "display(min_rss(subset))\n",
    "\n",
    "print(f'This model yields the highest adjusted R-squared score for the subset of models with {format(k)} predictors:')\n",
    "max_adjr2(get_models(2, X, y))"
   ],
   "outputs": [
    {
     "output_type": "stream",
     "name": "stdout",
     "text": [
      "This model yields the lowest RSS score for the subset of models with 2 predictors:\n"
     ]
    },
    {
     "output_type": "display_data",
     "data": {
      "text/plain": [
       "('Salary ~ Hits + CRBI',\n",
       " <statsmodels.regression.linear_model.RegressionResultsWrapper at 0x144135b80>)"
      ]
     },
     "metadata": {}
    },
    {
     "output_type": "stream",
     "name": "stdout",
     "text": [
      "This model yields the highest adjusted R-squared score for the subset of models with 2 predictors:\n"
     ]
    },
    {
     "output_type": "execute_result",
     "data": {
      "text/plain": [
       "('Salary ~ Hits + CRBI',\n",
       " <statsmodels.regression.linear_model.RegressionResultsWrapper at 0x183d6efd0>)"
      ]
     },
     "metadata": {},
     "execution_count": 47
    }
   ],
   "metadata": {}
  },
  {
   "cell_type": "code",
   "execution_count": 48,
   "source": [
    "X.columns"
   ],
   "outputs": [
    {
     "output_type": "execute_result",
     "data": {
      "text/plain": [
       "Index(['AtBat', 'Hits', 'HmRun', 'Runs', 'RBI', 'Walks', 'Years', 'CAtBat',\n",
       "       'CHits', 'CHmRun', 'CRuns', 'CRBI', 'CWalks', 'PutOuts', 'Assists',\n",
       "       'Errors', 'League_A', 'League_N', 'Division_E', 'Division_W',\n",
       "       'NewLeague_A', 'NewLeague_N'],\n",
       "      dtype='object')"
      ]
     },
     "metadata": {},
     "execution_count": 48
    }
   ],
   "metadata": {}
  },
  {
   "cell_type": "markdown",
   "source": [
    "How do the the maximum $R^2$, minimum RSS, and BIC statistics vary for each subset with k predictors? \n",
    "\n",
    "First we fit all possible models in each subset of models with k predictors. This turns out to be a very computationally expensive process, running on my laptop for 30 minutes yielded results up to only k=6 and occupied 30GB of memeory. Not suprising as number of possible combinations without repetition is given by:\n",
    "\n",
    "$$\\frac{p!}{k!(p-k)!}$$\n",
    "\n",
    "Where *p* is number of predictors to choose from and we choose *k* of them.\n",
    "\n",
    "In this example p=22, there are 22 predictors.\n",
    "\n",
    "For k = 4 the number of possible combinations is given by:\n",
    "\n",
    "$$\\frac{22!}{4!x 18!} = 74,613$$\n"
   ],
   "metadata": {}
  },
  {
   "cell_type": "code",
   "execution_count": 49,
   "source": [
    "from scipy.special import factorial\n",
    "\n",
    "n =14\n",
    "k = np.arange(1, n+1)\n",
    "y = factorial(n)/(factorial(k) * factorial(n-k))\n",
    "\n",
    "ax = sns.lineplot(x=k,y=y)\n",
    "ax.set(xlabel='k', ylabel='combinations')"
   ],
   "outputs": [
    {
     "output_type": "execute_result",
     "data": {
      "text/plain": [
       "[Text(0.5, 0, 'k'), Text(0, 0.5, 'combinations')]"
      ]
     },
     "metadata": {},
     "execution_count": 49
    },
    {
     "output_type": "display_data",
     "data": {
      "text/plain": [
       "<Figure size 432x288 with 1 Axes>"
      ],
      "image/svg+xml": "<?xml version=\"1.0\" encoding=\"utf-8\" standalone=\"no\"?>\n<!DOCTYPE svg PUBLIC \"-//W3C//DTD SVG 1.1//EN\"\n  \"http://www.w3.org/Graphics/SVG/1.1/DTD/svg11.dtd\">\n<svg height=\"266.374219pt\" version=\"1.1\" viewBox=\"0 0 398.1425 266.374219\" width=\"398.1425pt\" xmlns=\"http://www.w3.org/2000/svg\" xmlns:xlink=\"http://www.w3.org/1999/xlink\">\n <metadata>\n  <rdf:RDF xmlns:cc=\"http://creativecommons.org/ns#\" xmlns:dc=\"http://purl.org/dc/elements/1.1/\" xmlns:rdf=\"http://www.w3.org/1999/02/22-rdf-syntax-ns#\">\n   <cc:Work>\n    <dc:type rdf:resource=\"http://purl.org/dc/dcmitype/StillImage\"/>\n    <dc:date>2021-08-18T16:11:37.109101</dc:date>\n    <dc:format>image/svg+xml</dc:format>\n    <dc:creator>\n     <cc:Agent>\n      <dc:title>Matplotlib v3.4.2, https://matplotlib.org/</dc:title>\n     </cc:Agent>\n    </dc:creator>\n   </cc:Work>\n  </rdf:RDF>\n </metadata>\n <defs>\n  <style type=\"text/css\">*{stroke-linecap:butt;stroke-linejoin:round;}</style>\n </defs>\n <g id=\"figure_1\">\n  <g id=\"patch_1\">\n   <path d=\"M 0 266.374219 \nL 398.1425 266.374219 \nL 398.1425 0 \nL 0 0 \nz\n\" style=\"fill:none;\"/>\n  </g>\n  <g id=\"axes_1\">\n   <g id=\"patch_2\">\n    <path d=\"M 56.1425 224.64 \nL 390.9425 224.64 \nL 390.9425 7.2 \nL 56.1425 7.2 \nz\n\" style=\"fill:#eaeaf2;\"/>\n   </g>\n   <g id=\"matplotlib.axis_1\">\n    <g id=\"xtick_1\">\n     <g id=\"line2d_1\">\n      <path clip-path=\"url(#pa33fdfdb40)\" d=\"M 94.773269 224.64 \nL 94.773269 7.2 \n\" style=\"fill:none;stroke:#ffffff;stroke-linecap:round;\"/>\n     </g>\n     <g id=\"text_1\">\n      <!-- 2 -->\n      <g style=\"fill:#262626;\" transform=\"translate(91.714754 242.013594)scale(0.11 -0.11)\">\n       <defs>\n        <path d=\"M 3222 541 \nL 3222 0 \nL 194 0 \nQ 188 203 259 391 \nQ 375 700 629 1000 \nQ 884 1300 1366 1694 \nQ 2113 2306 2375 2664 \nQ 2638 3022 2638 3341 \nQ 2638 3675 2398 3904 \nQ 2159 4134 1775 4134 \nQ 1369 4134 1125 3890 \nQ 881 3647 878 3216 \nL 300 3275 \nQ 359 3922 746 4261 \nQ 1134 4600 1788 4600 \nQ 2447 4600 2831 4234 \nQ 3216 3869 3216 3328 \nQ 3216 3053 3103 2787 \nQ 2991 2522 2730 2228 \nQ 2469 1934 1863 1422 \nQ 1356 997 1212 845 \nQ 1069 694 975 541 \nL 3222 541 \nz\n\" id=\"ArialMT-32\" transform=\"scale(0.015625)\"/>\n       </defs>\n       <use xlink:href=\"#ArialMT-32\"/>\n      </g>\n     </g>\n    </g>\n    <g id=\"xtick_2\">\n     <g id=\"line2d_2\">\n      <path clip-path=\"url(#pa33fdfdb40)\" d=\"M 141.598444 224.64 \nL 141.598444 7.2 \n\" style=\"fill:none;stroke:#ffffff;stroke-linecap:round;\"/>\n     </g>\n     <g id=\"text_2\">\n      <!-- 4 -->\n      <g style=\"fill:#262626;\" transform=\"translate(138.539928 242.013594)scale(0.11 -0.11)\">\n       <defs>\n        <path d=\"M 2069 0 \nL 2069 1097 \nL 81 1097 \nL 81 1613 \nL 2172 4581 \nL 2631 4581 \nL 2631 1613 \nL 3250 1613 \nL 3250 1097 \nL 2631 1097 \nL 2631 0 \nL 2069 0 \nz\nM 2069 1613 \nL 2069 3678 \nL 634 1613 \nL 2069 1613 \nz\n\" id=\"ArialMT-34\" transform=\"scale(0.015625)\"/>\n       </defs>\n       <use xlink:href=\"#ArialMT-34\"/>\n      </g>\n     </g>\n    </g>\n    <g id=\"xtick_3\">\n     <g id=\"line2d_3\">\n      <path clip-path=\"url(#pa33fdfdb40)\" d=\"M 188.423619 224.64 \nL 188.423619 7.2 \n\" style=\"fill:none;stroke:#ffffff;stroke-linecap:round;\"/>\n     </g>\n     <g id=\"text_3\">\n      <!-- 6 -->\n      <g style=\"fill:#262626;\" transform=\"translate(185.365103 242.013594)scale(0.11 -0.11)\">\n       <defs>\n        <path d=\"M 3184 3459 \nL 2625 3416 \nQ 2550 3747 2413 3897 \nQ 2184 4138 1850 4138 \nQ 1581 4138 1378 3988 \nQ 1113 3794 959 3422 \nQ 806 3050 800 2363 \nQ 1003 2672 1297 2822 \nQ 1591 2972 1913 2972 \nQ 2475 2972 2870 2558 \nQ 3266 2144 3266 1488 \nQ 3266 1056 3080 686 \nQ 2894 316 2569 119 \nQ 2244 -78 1831 -78 \nQ 1128 -78 684 439 \nQ 241 956 241 2144 \nQ 241 3472 731 4075 \nQ 1159 4600 1884 4600 \nQ 2425 4600 2770 4297 \nQ 3116 3994 3184 3459 \nz\nM 888 1484 \nQ 888 1194 1011 928 \nQ 1134 663 1356 523 \nQ 1578 384 1822 384 \nQ 2178 384 2434 671 \nQ 2691 959 2691 1453 \nQ 2691 1928 2437 2201 \nQ 2184 2475 1800 2475 \nQ 1419 2475 1153 2201 \nQ 888 1928 888 1484 \nz\n\" id=\"ArialMT-36\" transform=\"scale(0.015625)\"/>\n       </defs>\n       <use xlink:href=\"#ArialMT-36\"/>\n      </g>\n     </g>\n    </g>\n    <g id=\"xtick_4\">\n     <g id=\"line2d_4\">\n      <path clip-path=\"url(#pa33fdfdb40)\" d=\"M 235.248794 224.64 \nL 235.248794 7.2 \n\" style=\"fill:none;stroke:#ffffff;stroke-linecap:round;\"/>\n     </g>\n     <g id=\"text_4\">\n      <!-- 8 -->\n      <g style=\"fill:#262626;\" transform=\"translate(232.190278 242.013594)scale(0.11 -0.11)\">\n       <defs>\n        <path d=\"M 1131 2484 \nQ 781 2613 612 2850 \nQ 444 3088 444 3419 \nQ 444 3919 803 4259 \nQ 1163 4600 1759 4600 \nQ 2359 4600 2725 4251 \nQ 3091 3903 3091 3403 \nQ 3091 3084 2923 2848 \nQ 2756 2613 2416 2484 \nQ 2838 2347 3058 2040 \nQ 3278 1734 3278 1309 \nQ 3278 722 2862 322 \nQ 2447 -78 1769 -78 \nQ 1091 -78 675 323 \nQ 259 725 259 1325 \nQ 259 1772 486 2073 \nQ 713 2375 1131 2484 \nz\nM 1019 3438 \nQ 1019 3113 1228 2906 \nQ 1438 2700 1772 2700 \nQ 2097 2700 2305 2904 \nQ 2513 3109 2513 3406 \nQ 2513 3716 2298 3927 \nQ 2084 4138 1766 4138 \nQ 1444 4138 1231 3931 \nQ 1019 3725 1019 3438 \nz\nM 838 1322 \nQ 838 1081 952 856 \nQ 1066 631 1291 507 \nQ 1516 384 1775 384 \nQ 2178 384 2440 643 \nQ 2703 903 2703 1303 \nQ 2703 1709 2433 1975 \nQ 2163 2241 1756 2241 \nQ 1359 2241 1098 1978 \nQ 838 1716 838 1322 \nz\n\" id=\"ArialMT-38\" transform=\"scale(0.015625)\"/>\n       </defs>\n       <use xlink:href=\"#ArialMT-38\"/>\n      </g>\n     </g>\n    </g>\n    <g id=\"xtick_5\">\n     <g id=\"line2d_5\">\n      <path clip-path=\"url(#pa33fdfdb40)\" d=\"M 282.073969 224.64 \nL 282.073969 7.2 \n\" style=\"fill:none;stroke:#ffffff;stroke-linecap:round;\"/>\n     </g>\n     <g id=\"text_5\">\n      <!-- 10 -->\n      <g style=\"fill:#262626;\" transform=\"translate(275.956937 242.013594)scale(0.11 -0.11)\">\n       <defs>\n        <path d=\"M 2384 0 \nL 1822 0 \nL 1822 3584 \nQ 1619 3391 1289 3197 \nQ 959 3003 697 2906 \nL 697 3450 \nQ 1169 3672 1522 3987 \nQ 1875 4303 2022 4600 \nL 2384 4600 \nL 2384 0 \nz\n\" id=\"ArialMT-31\" transform=\"scale(0.015625)\"/>\n        <path d=\"M 266 2259 \nQ 266 3072 433 3567 \nQ 600 4063 929 4331 \nQ 1259 4600 1759 4600 \nQ 2128 4600 2406 4451 \nQ 2684 4303 2865 4023 \nQ 3047 3744 3150 3342 \nQ 3253 2941 3253 2259 \nQ 3253 1453 3087 958 \nQ 2922 463 2592 192 \nQ 2263 -78 1759 -78 \nQ 1097 -78 719 397 \nQ 266 969 266 2259 \nz\nM 844 2259 \nQ 844 1131 1108 757 \nQ 1372 384 1759 384 \nQ 2147 384 2411 759 \nQ 2675 1134 2675 2259 \nQ 2675 3391 2411 3762 \nQ 2147 4134 1753 4134 \nQ 1366 4134 1134 3806 \nQ 844 3388 844 2259 \nz\n\" id=\"ArialMT-30\" transform=\"scale(0.015625)\"/>\n       </defs>\n       <use xlink:href=\"#ArialMT-31\"/>\n       <use x=\"55.615234\" xlink:href=\"#ArialMT-30\"/>\n      </g>\n     </g>\n    </g>\n    <g id=\"xtick_6\">\n     <g id=\"line2d_6\">\n      <path clip-path=\"url(#pa33fdfdb40)\" d=\"M 328.899143 224.64 \nL 328.899143 7.2 \n\" style=\"fill:none;stroke:#ffffff;stroke-linecap:round;\"/>\n     </g>\n     <g id=\"text_6\">\n      <!-- 12 -->\n      <g style=\"fill:#262626;\" transform=\"translate(322.782112 242.013594)scale(0.11 -0.11)\">\n       <use xlink:href=\"#ArialMT-31\"/>\n       <use x=\"55.615234\" xlink:href=\"#ArialMT-32\"/>\n      </g>\n     </g>\n    </g>\n    <g id=\"xtick_7\">\n     <g id=\"line2d_7\">\n      <path clip-path=\"url(#pa33fdfdb40)\" d=\"M 375.724318 224.64 \nL 375.724318 7.2 \n\" style=\"fill:none;stroke:#ffffff;stroke-linecap:round;\"/>\n     </g>\n     <g id=\"text_7\">\n      <!-- 14 -->\n      <g style=\"fill:#262626;\" transform=\"translate(369.607287 242.013594)scale(0.11 -0.11)\">\n       <use xlink:href=\"#ArialMT-31\"/>\n       <use x=\"55.615234\" xlink:href=\"#ArialMT-34\"/>\n      </g>\n     </g>\n    </g>\n    <g id=\"text_8\">\n     <!-- k -->\n     <g style=\"fill:#262626;\" transform=\"translate(220.5425 256.789219)scale(0.12 -0.12)\">\n      <defs>\n       <path d=\"M 425 0 \nL 425 4581 \nL 988 4581 \nL 988 1969 \nL 2319 3319 \nL 3047 3319 \nL 1778 2088 \nL 3175 0 \nL 2481 0 \nL 1384 1697 \nL 988 1316 \nL 988 0 \nL 425 0 \nz\n\" id=\"ArialMT-6b\" transform=\"scale(0.015625)\"/>\n      </defs>\n      <use xlink:href=\"#ArialMT-6b\"/>\n     </g>\n    </g>\n   </g>\n   <g id=\"matplotlib.axis_2\">\n    <g id=\"ytick_1\">\n     <g id=\"line2d_8\">\n      <path clip-path=\"url(#pa33fdfdb40)\" d=\"M 56.1425 214.813977 \nL 390.9425 214.813977 \n\" style=\"fill:none;stroke:#ffffff;stroke-linecap:round;\"/>\n     </g>\n     <g id=\"text_9\">\n      <!-- 0 -->\n      <g style=\"fill:#262626;\" transform=\"translate(40.525469 218.750774)scale(0.11 -0.11)\">\n       <use xlink:href=\"#ArialMT-30\"/>\n      </g>\n     </g>\n    </g>\n    <g id=\"ytick_2\">\n     <g id=\"line2d_9\">\n      <path clip-path=\"url(#pa33fdfdb40)\" d=\"M 56.1425 186.00711 \nL 390.9425 186.00711 \n\" style=\"fill:none;stroke:#ffffff;stroke-linecap:round;\"/>\n     </g>\n     <g id=\"text_10\">\n      <!-- 500 -->\n      <g style=\"fill:#262626;\" transform=\"translate(28.291406 189.943906)scale(0.11 -0.11)\">\n       <defs>\n        <path d=\"M 266 1200 \nL 856 1250 \nQ 922 819 1161 601 \nQ 1400 384 1738 384 \nQ 2144 384 2425 690 \nQ 2706 997 2706 1503 \nQ 2706 1984 2436 2262 \nQ 2166 2541 1728 2541 \nQ 1456 2541 1237 2417 \nQ 1019 2294 894 2097 \nL 366 2166 \nL 809 4519 \nL 3088 4519 \nL 3088 3981 \nL 1259 3981 \nL 1013 2750 \nQ 1425 3038 1878 3038 \nQ 2478 3038 2890 2622 \nQ 3303 2206 3303 1553 \nQ 3303 931 2941 478 \nQ 2500 -78 1738 -78 \nQ 1113 -78 717 272 \nQ 322 622 266 1200 \nz\n\" id=\"ArialMT-35\" transform=\"scale(0.015625)\"/>\n       </defs>\n       <use xlink:href=\"#ArialMT-35\"/>\n       <use x=\"55.615234\" xlink:href=\"#ArialMT-30\"/>\n       <use x=\"111.230469\" xlink:href=\"#ArialMT-30\"/>\n      </g>\n     </g>\n    </g>\n    <g id=\"ytick_3\">\n     <g id=\"line2d_10\">\n      <path clip-path=\"url(#pa33fdfdb40)\" d=\"M 56.1425 157.200242 \nL 390.9425 157.200242 \n\" style=\"fill:none;stroke:#ffffff;stroke-linecap:round;\"/>\n     </g>\n     <g id=\"text_11\">\n      <!-- 1000 -->\n      <g style=\"fill:#262626;\" transform=\"translate(22.174375 161.137039)scale(0.11 -0.11)\">\n       <use xlink:href=\"#ArialMT-31\"/>\n       <use x=\"55.615234\" xlink:href=\"#ArialMT-30\"/>\n       <use x=\"111.230469\" xlink:href=\"#ArialMT-30\"/>\n       <use x=\"166.845703\" xlink:href=\"#ArialMT-30\"/>\n      </g>\n     </g>\n    </g>\n    <g id=\"ytick_4\">\n     <g id=\"line2d_11\">\n      <path clip-path=\"url(#pa33fdfdb40)\" d=\"M 56.1425 128.393374 \nL 390.9425 128.393374 \n\" style=\"fill:none;stroke:#ffffff;stroke-linecap:round;\"/>\n     </g>\n     <g id=\"text_12\">\n      <!-- 1500 -->\n      <g style=\"fill:#262626;\" transform=\"translate(22.174375 132.330171)scale(0.11 -0.11)\">\n       <use xlink:href=\"#ArialMT-31\"/>\n       <use x=\"55.615234\" xlink:href=\"#ArialMT-35\"/>\n       <use x=\"111.230469\" xlink:href=\"#ArialMT-30\"/>\n       <use x=\"166.845703\" xlink:href=\"#ArialMT-30\"/>\n      </g>\n     </g>\n    </g>\n    <g id=\"ytick_5\">\n     <g id=\"line2d_12\">\n      <path clip-path=\"url(#pa33fdfdb40)\" d=\"M 56.1425 99.586506 \nL 390.9425 99.586506 \n\" style=\"fill:none;stroke:#ffffff;stroke-linecap:round;\"/>\n     </g>\n     <g id=\"text_13\">\n      <!-- 2000 -->\n      <g style=\"fill:#262626;\" transform=\"translate(22.174375 103.523303)scale(0.11 -0.11)\">\n       <use xlink:href=\"#ArialMT-32\"/>\n       <use x=\"55.615234\" xlink:href=\"#ArialMT-30\"/>\n       <use x=\"111.230469\" xlink:href=\"#ArialMT-30\"/>\n       <use x=\"166.845703\" xlink:href=\"#ArialMT-30\"/>\n      </g>\n     </g>\n    </g>\n    <g id=\"ytick_6\">\n     <g id=\"line2d_13\">\n      <path clip-path=\"url(#pa33fdfdb40)\" d=\"M 56.1425 70.779638 \nL 390.9425 70.779638 \n\" style=\"fill:none;stroke:#ffffff;stroke-linecap:round;\"/>\n     </g>\n     <g id=\"text_14\">\n      <!-- 2500 -->\n      <g style=\"fill:#262626;\" transform=\"translate(22.174375 74.716435)scale(0.11 -0.11)\">\n       <use xlink:href=\"#ArialMT-32\"/>\n       <use x=\"55.615234\" xlink:href=\"#ArialMT-35\"/>\n       <use x=\"111.230469\" xlink:href=\"#ArialMT-30\"/>\n       <use x=\"166.845703\" xlink:href=\"#ArialMT-30\"/>\n      </g>\n     </g>\n    </g>\n    <g id=\"ytick_7\">\n     <g id=\"line2d_14\">\n      <path clip-path=\"url(#pa33fdfdb40)\" d=\"M 56.1425 41.97277 \nL 390.9425 41.97277 \n\" style=\"fill:none;stroke:#ffffff;stroke-linecap:round;\"/>\n     </g>\n     <g id=\"text_15\">\n      <!-- 3000 -->\n      <g style=\"fill:#262626;\" transform=\"translate(22.174375 45.909567)scale(0.11 -0.11)\">\n       <defs>\n        <path d=\"M 269 1209 \nL 831 1284 \nQ 928 806 1161 595 \nQ 1394 384 1728 384 \nQ 2125 384 2398 659 \nQ 2672 934 2672 1341 \nQ 2672 1728 2419 1979 \nQ 2166 2231 1775 2231 \nQ 1616 2231 1378 2169 \nL 1441 2663 \nQ 1497 2656 1531 2656 \nQ 1891 2656 2178 2843 \nQ 2466 3031 2466 3422 \nQ 2466 3731 2256 3934 \nQ 2047 4138 1716 4138 \nQ 1388 4138 1169 3931 \nQ 950 3725 888 3313 \nL 325 3413 \nQ 428 3978 793 4289 \nQ 1159 4600 1703 4600 \nQ 2078 4600 2393 4439 \nQ 2709 4278 2876 4000 \nQ 3044 3722 3044 3409 \nQ 3044 3113 2884 2869 \nQ 2725 2625 2413 2481 \nQ 2819 2388 3044 2092 \nQ 3269 1797 3269 1353 \nQ 3269 753 2831 336 \nQ 2394 -81 1725 -81 \nQ 1122 -81 723 278 \nQ 325 638 269 1209 \nz\n\" id=\"ArialMT-33\" transform=\"scale(0.015625)\"/>\n       </defs>\n       <use xlink:href=\"#ArialMT-33\"/>\n       <use x=\"55.615234\" xlink:href=\"#ArialMT-30\"/>\n       <use x=\"111.230469\" xlink:href=\"#ArialMT-30\"/>\n       <use x=\"166.845703\" xlink:href=\"#ArialMT-30\"/>\n      </g>\n     </g>\n    </g>\n    <g id=\"ytick_8\">\n     <g id=\"line2d_15\">\n      <path clip-path=\"url(#pa33fdfdb40)\" d=\"M 56.1425 13.165902 \nL 390.9425 13.165902 \n\" style=\"fill:none;stroke:#ffffff;stroke-linecap:round;\"/>\n     </g>\n     <g id=\"text_16\">\n      <!-- 3500 -->\n      <g style=\"fill:#262626;\" transform=\"translate(22.174375 17.102699)scale(0.11 -0.11)\">\n       <use xlink:href=\"#ArialMT-33\"/>\n       <use x=\"55.615234\" xlink:href=\"#ArialMT-35\"/>\n       <use x=\"111.230469\" xlink:href=\"#ArialMT-30\"/>\n       <use x=\"166.845703\" xlink:href=\"#ArialMT-30\"/>\n      </g>\n     </g>\n    </g>\n    <g id=\"text_17\">\n     <!-- combinations -->\n     <g style=\"fill:#262626;\" transform=\"translate(15.789375 151.270313)rotate(-90)scale(0.12 -0.12)\">\n      <defs>\n       <path d=\"M 2588 1216 \nL 3141 1144 \nQ 3050 572 2676 248 \nQ 2303 -75 1759 -75 \nQ 1078 -75 664 370 \nQ 250 816 250 1647 \nQ 250 2184 428 2587 \nQ 606 2991 970 3192 \nQ 1334 3394 1763 3394 \nQ 2303 3394 2647 3120 \nQ 2991 2847 3088 2344 \nL 2541 2259 \nQ 2463 2594 2264 2762 \nQ 2066 2931 1784 2931 \nQ 1359 2931 1093 2626 \nQ 828 2322 828 1663 \nQ 828 994 1084 691 \nQ 1341 388 1753 388 \nQ 2084 388 2306 591 \nQ 2528 794 2588 1216 \nz\n\" id=\"ArialMT-63\" transform=\"scale(0.015625)\"/>\n       <path d=\"M 213 1659 \nQ 213 2581 725 3025 \nQ 1153 3394 1769 3394 \nQ 2453 3394 2887 2945 \nQ 3322 2497 3322 1706 \nQ 3322 1066 3130 698 \nQ 2938 331 2570 128 \nQ 2203 -75 1769 -75 \nQ 1072 -75 642 372 \nQ 213 819 213 1659 \nz\nM 791 1659 \nQ 791 1022 1069 705 \nQ 1347 388 1769 388 \nQ 2188 388 2466 706 \nQ 2744 1025 2744 1678 \nQ 2744 2294 2464 2611 \nQ 2184 2928 1769 2928 \nQ 1347 2928 1069 2612 \nQ 791 2297 791 1659 \nz\n\" id=\"ArialMT-6f\" transform=\"scale(0.015625)\"/>\n       <path d=\"M 422 0 \nL 422 3319 \nL 925 3319 \nL 925 2853 \nQ 1081 3097 1340 3245 \nQ 1600 3394 1931 3394 \nQ 2300 3394 2536 3241 \nQ 2772 3088 2869 2813 \nQ 3263 3394 3894 3394 \nQ 4388 3394 4653 3120 \nQ 4919 2847 4919 2278 \nL 4919 0 \nL 4359 0 \nL 4359 2091 \nQ 4359 2428 4304 2576 \nQ 4250 2725 4106 2815 \nQ 3963 2906 3769 2906 \nQ 3419 2906 3187 2673 \nQ 2956 2441 2956 1928 \nL 2956 0 \nL 2394 0 \nL 2394 2156 \nQ 2394 2531 2256 2718 \nQ 2119 2906 1806 2906 \nQ 1569 2906 1367 2781 \nQ 1166 2656 1075 2415 \nQ 984 2175 984 1722 \nL 984 0 \nL 422 0 \nz\n\" id=\"ArialMT-6d\" transform=\"scale(0.015625)\"/>\n       <path d=\"M 941 0 \nL 419 0 \nL 419 4581 \nL 981 4581 \nL 981 2947 \nQ 1338 3394 1891 3394 \nQ 2197 3394 2470 3270 \nQ 2744 3147 2920 2923 \nQ 3097 2700 3197 2384 \nQ 3297 2069 3297 1709 \nQ 3297 856 2875 390 \nQ 2453 -75 1863 -75 \nQ 1275 -75 941 416 \nL 941 0 \nz\nM 934 1684 \nQ 934 1088 1097 822 \nQ 1363 388 1816 388 \nQ 2184 388 2453 708 \nQ 2722 1028 2722 1663 \nQ 2722 2313 2464 2622 \nQ 2206 2931 1841 2931 \nQ 1472 2931 1203 2611 \nQ 934 2291 934 1684 \nz\n\" id=\"ArialMT-62\" transform=\"scale(0.015625)\"/>\n       <path d=\"M 425 3934 \nL 425 4581 \nL 988 4581 \nL 988 3934 \nL 425 3934 \nz\nM 425 0 \nL 425 3319 \nL 988 3319 \nL 988 0 \nL 425 0 \nz\n\" id=\"ArialMT-69\" transform=\"scale(0.015625)\"/>\n       <path d=\"M 422 0 \nL 422 3319 \nL 928 3319 \nL 928 2847 \nQ 1294 3394 1984 3394 \nQ 2284 3394 2536 3286 \nQ 2788 3178 2913 3003 \nQ 3038 2828 3088 2588 \nQ 3119 2431 3119 2041 \nL 3119 0 \nL 2556 0 \nL 2556 2019 \nQ 2556 2363 2490 2533 \nQ 2425 2703 2258 2804 \nQ 2091 2906 1866 2906 \nQ 1506 2906 1245 2678 \nQ 984 2450 984 1813 \nL 984 0 \nL 422 0 \nz\n\" id=\"ArialMT-6e\" transform=\"scale(0.015625)\"/>\n       <path d=\"M 2588 409 \nQ 2275 144 1986 34 \nQ 1697 -75 1366 -75 \nQ 819 -75 525 192 \nQ 231 459 231 875 \nQ 231 1119 342 1320 \nQ 453 1522 633 1644 \nQ 813 1766 1038 1828 \nQ 1203 1872 1538 1913 \nQ 2219 1994 2541 2106 \nQ 2544 2222 2544 2253 \nQ 2544 2597 2384 2738 \nQ 2169 2928 1744 2928 \nQ 1347 2928 1158 2789 \nQ 969 2650 878 2297 \nL 328 2372 \nQ 403 2725 575 2942 \nQ 747 3159 1072 3276 \nQ 1397 3394 1825 3394 \nQ 2250 3394 2515 3294 \nQ 2781 3194 2906 3042 \nQ 3031 2891 3081 2659 \nQ 3109 2516 3109 2141 \nL 3109 1391 \nQ 3109 606 3145 398 \nQ 3181 191 3288 0 \nL 2700 0 \nQ 2613 175 2588 409 \nz\nM 2541 1666 \nQ 2234 1541 1622 1453 \nQ 1275 1403 1131 1340 \nQ 988 1278 909 1158 \nQ 831 1038 831 891 \nQ 831 666 1001 516 \nQ 1172 366 1500 366 \nQ 1825 366 2078 508 \nQ 2331 650 2450 897 \nQ 2541 1088 2541 1459 \nL 2541 1666 \nz\n\" id=\"ArialMT-61\" transform=\"scale(0.015625)\"/>\n       <path d=\"M 1650 503 \nL 1731 6 \nQ 1494 -44 1306 -44 \nQ 1000 -44 831 53 \nQ 663 150 594 308 \nQ 525 466 525 972 \nL 525 2881 \nL 113 2881 \nL 113 3319 \nL 525 3319 \nL 525 4141 \nL 1084 4478 \nL 1084 3319 \nL 1650 3319 \nL 1650 2881 \nL 1084 2881 \nL 1084 941 \nQ 1084 700 1114 631 \nQ 1144 563 1211 522 \nQ 1278 481 1403 481 \nQ 1497 481 1650 503 \nz\n\" id=\"ArialMT-74\" transform=\"scale(0.015625)\"/>\n       <path d=\"M 197 991 \nL 753 1078 \nQ 800 744 1014 566 \nQ 1228 388 1613 388 \nQ 2000 388 2187 545 \nQ 2375 703 2375 916 \nQ 2375 1106 2209 1216 \nQ 2094 1291 1634 1406 \nQ 1016 1563 777 1677 \nQ 538 1791 414 1992 \nQ 291 2194 291 2438 \nQ 291 2659 392 2848 \nQ 494 3038 669 3163 \nQ 800 3259 1026 3326 \nQ 1253 3394 1513 3394 \nQ 1903 3394 2198 3281 \nQ 2494 3169 2634 2976 \nQ 2775 2784 2828 2463 \nL 2278 2388 \nQ 2241 2644 2061 2787 \nQ 1881 2931 1553 2931 \nQ 1166 2931 1000 2803 \nQ 834 2675 834 2503 \nQ 834 2394 903 2306 \nQ 972 2216 1119 2156 \nQ 1203 2125 1616 2013 \nQ 2213 1853 2448 1751 \nQ 2684 1650 2818 1456 \nQ 2953 1263 2953 975 \nQ 2953 694 2789 445 \nQ 2625 197 2315 61 \nQ 2006 -75 1616 -75 \nQ 969 -75 630 194 \nQ 291 463 197 991 \nz\n\" id=\"ArialMT-73\" transform=\"scale(0.015625)\"/>\n      </defs>\n      <use xlink:href=\"#ArialMT-63\"/>\n      <use x=\"50\" xlink:href=\"#ArialMT-6f\"/>\n      <use x=\"105.615234\" xlink:href=\"#ArialMT-6d\"/>\n      <use x=\"188.916016\" xlink:href=\"#ArialMT-62\"/>\n      <use x=\"244.53125\" xlink:href=\"#ArialMT-69\"/>\n      <use x=\"266.748047\" xlink:href=\"#ArialMT-6e\"/>\n      <use x=\"322.363281\" xlink:href=\"#ArialMT-61\"/>\n      <use x=\"377.978516\" xlink:href=\"#ArialMT-74\"/>\n      <use x=\"405.761719\" xlink:href=\"#ArialMT-69\"/>\n      <use x=\"427.978516\" xlink:href=\"#ArialMT-6f\"/>\n      <use x=\"483.59375\" xlink:href=\"#ArialMT-6e\"/>\n      <use x=\"539.208984\" xlink:href=\"#ArialMT-73\"/>\n     </g>\n    </g>\n   </g>\n   <g id=\"line2d_16\">\n    <path clip-path=\"url(#pa33fdfdb40)\" d=\"M 71.360682 214.007385 \nL 94.773269 209.571127 \nL 118.185857 193.842578 \nL 141.598444 157.142628 \nL 165.011031 99.471278 \nL 188.423619 41.799929 \nL 211.836206 17.083636 \nL 235.248794 41.799929 \nL 258.661381 99.471278 \nL 282.073969 157.142628 \nL 305.486556 193.842578 \nL 328.899143 209.571127 \nL 352.311731 214.007385 \nL 375.724318 214.756364 \n\" style=\"fill:none;stroke:#4c72b0;stroke-linecap:round;stroke-width:1.5;\"/>\n   </g>\n   <g id=\"patch_3\">\n    <path d=\"M 56.1425 224.64 \nL 56.1425 7.2 \n\" style=\"fill:none;stroke:#ffffff;stroke-linecap:square;stroke-linejoin:miter;stroke-width:1.25;\"/>\n   </g>\n   <g id=\"patch_4\">\n    <path d=\"M 390.9425 224.64 \nL 390.9425 7.2 \n\" style=\"fill:none;stroke:#ffffff;stroke-linecap:square;stroke-linejoin:miter;stroke-width:1.25;\"/>\n   </g>\n   <g id=\"patch_5\">\n    <path d=\"M 56.1425 224.64 \nL 390.9425 224.64 \n\" style=\"fill:none;stroke:#ffffff;stroke-linecap:square;stroke-linejoin:miter;stroke-width:1.25;\"/>\n   </g>\n   <g id=\"patch_6\">\n    <path d=\"M 56.1425 7.2 \nL 390.9425 7.2 \n\" style=\"fill:none;stroke:#ffffff;stroke-linecap:square;stroke-linejoin:miter;stroke-width:1.25;\"/>\n   </g>\n  </g>\n </g>\n <defs>\n  <clipPath id=\"pa33fdfdb40\">\n   <rect height=\"217.44\" width=\"334.8\" x=\"56.1425\" y=\"7.2\"/>\n  </clipPath>\n </defs>\n</svg>\n",
      "image/png": "[encoded data removed]"
     },
     "metadata": {
      "needs_background": "light"
     }
    }
   ],
   "metadata": {}
  },
  {
   "cell_type": "markdown",
   "source": [
    "The plot above shows that there up to ~700,000 possible combinations of the predictors without repetition for some values of k when p = 22\n",
    "\n",
    "The ISL authors provide comparison of the $R^2$ statistic for all combinations of 19 predictors. When p=19 the max number of combinations for any given subset is reduced by 10x, when p=10 the max combinations is reduced by ~2000x. \n",
    "\n",
    "My current machine maxed out its memory trying to compute all models for p=22. I'll try p=14 by picking 14 of the predictors for brevity. \n",
    "\n"
   ],
   "metadata": {}
  },
  {
   "cell_type": "code",
   "execution_count": 50,
   "source": [
    "# Pick arbitrary subset of predictors to save compute/memory\n",
    "X= hitters.loc[:, 'AtBat':'PutOuts']\n",
    "y= hitters['Salary']\n",
    "\n",
    "model_subsets = []\n",
    "for k in range(1,7):\n",
    "    subset = get_models(k,X,y)\n",
    "    model_subsets += [subset]\n",
    "    print(f'Progress : k = {format(k)}, done,')\n",
    "\n",
    "# Try it but it works slowly."
   ],
   "outputs": [
    {
     "output_type": "stream",
     "name": "stdout",
     "text": [
      "Progress : k = 1, done,\n",
      "Progress : k = 2, done,\n",
      "Progress : k = 3, done,\n",
      "Progress : k = 4, done,\n",
      "Progress : k = 5, done,\n",
      "Progress : k = 6, done,\n"
     ]
    }
   ],
   "metadata": {}
  },
  {
   "cell_type": "code",
   "execution_count": 51,
   "source": [
    "rss   = [min_rss(m)[1].ssr for m in model_subsets]\n",
    "bic = [min_bic(m)[1].bic for m in model_subsets]\n",
    "adjr2 = [max_adjr2(m)[1].rsquared_adj for m in model_subsets]\n",
    "\n",
    "k     = np.arange(1, len(rss)+1)\n",
    "\n",
    "_, axes = plt.subplots(1,3,figsize=[16,10])\n",
    "\n",
    "\n",
    "sns.lineplot(x=k, y=rss,ax = axes[0])\n",
    "sns.lineplot(x=k, y=adjr2,ax = axes[1])\n",
    "sns.lineplot(x=k, y=bic,ax = axes[2])\n",
    "axes[0].set_title('RSS',fontsize=20)\n",
    "axes[1].set_title('$R_{adj}^2$',fontsize=20)\n",
    "axes[2].set_title('BIC',fontsize=20)"
   ],
   "outputs": [
    {
     "output_type": "execute_result",
     "data": {
      "text/plain": [
       "Text(0.5, 1.0, 'BIC')"
      ]
     },
     "metadata": {},
     "execution_count": 51
    },
    {
     "output_type": "display_data",
     "data": {
      "text/plain": [
       "<Figure size 1152x720 with 3 Axes>"
      ],
      "image/svg+xml": "<?xml version=\"1.0\" encoding=\"utf-8\" standalone=\"no\"?>\n<!DOCTYPE svg PUBLIC \"-//W3C//DTD SVG 1.1//EN\"\n  \"http://www.w3.org/Graphics/SVG/1.1/DTD/svg11.dtd\">\n<svg height=\"601.759844pt\" version=\"1.1\" viewBox=\"0 0 931.99 601.759844\" width=\"931.99pt\" xmlns=\"http://www.w3.org/2000/svg\" xmlns:xlink=\"http://www.w3.org/1999/xlink\">\n <metadata>\n  <rdf:RDF xmlns:cc=\"http://creativecommons.org/ns#\" xmlns:dc=\"http://purl.org/dc/elements/1.1/\" xmlns:rdf=\"http://www.w3.org/1999/02/22-rdf-syntax-ns#\">\n   <cc:Work>\n    <dc:type rdf:resource=\"http://purl.org/dc/dcmitype/StillImage\"/>\n    <dc:date>2021-08-18T16:12:39.847628</dc:date>\n    <dc:format>image/svg+xml</dc:format>\n    <dc:creator>\n     <cc:Agent>\n      <dc:title>Matplotlib v3.4.2, https://matplotlib.org/</dc:title>\n     </cc:Agent>\n    </dc:creator>\n   </cc:Work>\n  </rdf:RDF>\n </metadata>\n <defs>\n  <style type=\"text/css\">*{stroke-linecap:butt;stroke-linejoin:round;}</style>\n </defs>\n <g id=\"figure_1\">\n  <g id=\"patch_1\">\n   <path d=\"M 0 601.759844 \nL 931.99 601.759844 \nL 931.99 0 \nL 0 0 \nz\n\" style=\"fill:none;\"/>\n  </g>\n  <g id=\"axes_1\">\n   <g id=\"patch_2\">\n    <path d=\"M 31.99 575 \nL 294.578235 575 \nL 294.578235 31.4 \nL 31.99 31.4 \nz\n\" style=\"fill:#eaeaf2;\"/>\n   </g>\n   <g id=\"matplotlib.axis_1\">\n    <g id=\"xtick_1\">\n     <g id=\"line2d_1\">\n      <path clip-path=\"url(#pd5bee56c34)\" d=\"M 43.925829 575 \nL 43.925829 31.4 \n\" style=\"fill:none;stroke:#ffffff;stroke-linecap:round;\"/>\n     </g>\n     <g id=\"text_1\">\n      <!-- 1 -->\n      <g style=\"fill:#262626;\" transform=\"translate(40.867313 592.373594)scale(0.11 -0.11)\">\n       <defs>\n        <path d=\"M 2384 0 \nL 1822 0 \nL 1822 3584 \nQ 1619 3391 1289 3197 \nQ 959 3003 697 2906 \nL 697 3450 \nQ 1169 3672 1522 3987 \nQ 1875 4303 2022 4600 \nL 2384 4600 \nL 2384 0 \nz\n\" id=\"ArialMT-31\" transform=\"scale(0.015625)\"/>\n       </defs>\n       <use xlink:href=\"#ArialMT-31\"/>\n      </g>\n     </g>\n    </g>\n    <g id=\"xtick_2\">\n     <g id=\"line2d_2\">\n      <path clip-path=\"url(#pd5bee56c34)\" d=\"M 91.669144 575 \nL 91.669144 31.4 \n\" style=\"fill:none;stroke:#ffffff;stroke-linecap:round;\"/>\n     </g>\n     <g id=\"text_2\">\n      <!-- 2 -->\n      <g style=\"fill:#262626;\" transform=\"translate(88.610629 592.373594)scale(0.11 -0.11)\">\n       <defs>\n        <path d=\"M 3222 541 \nL 3222 0 \nL 194 0 \nQ 188 203 259 391 \nQ 375 700 629 1000 \nQ 884 1300 1366 1694 \nQ 2113 2306 2375 2664 \nQ 2638 3022 2638 3341 \nQ 2638 3675 2398 3904 \nQ 2159 4134 1775 4134 \nQ 1369 4134 1125 3890 \nQ 881 3647 878 3216 \nL 300 3275 \nQ 359 3922 746 4261 \nQ 1134 4600 1788 4600 \nQ 2447 4600 2831 4234 \nQ 3216 3869 3216 3328 \nQ 3216 3053 3103 2787 \nQ 2991 2522 2730 2228 \nQ 2469 1934 1863 1422 \nQ 1356 997 1212 845 \nQ 1069 694 975 541 \nL 3222 541 \nz\n\" id=\"ArialMT-32\" transform=\"scale(0.015625)\"/>\n       </defs>\n       <use xlink:href=\"#ArialMT-32\"/>\n      </g>\n     </g>\n    </g>\n    <g id=\"xtick_3\">\n     <g id=\"line2d_3\">\n      <path clip-path=\"url(#pd5bee56c34)\" d=\"M 139.41246 575 \nL 139.41246 31.4 \n\" style=\"fill:none;stroke:#ffffff;stroke-linecap:round;\"/>\n     </g>\n     <g id=\"text_3\">\n      <!-- 3 -->\n      <g style=\"fill:#262626;\" transform=\"translate(136.353944 592.373594)scale(0.11 -0.11)\">\n       <defs>\n        <path d=\"M 269 1209 \nL 831 1284 \nQ 928 806 1161 595 \nQ 1394 384 1728 384 \nQ 2125 384 2398 659 \nQ 2672 934 2672 1341 \nQ 2672 1728 2419 1979 \nQ 2166 2231 1775 2231 \nQ 1616 2231 1378 2169 \nL 1441 2663 \nQ 1497 2656 1531 2656 \nQ 1891 2656 2178 2843 \nQ 2466 3031 2466 3422 \nQ 2466 3731 2256 3934 \nQ 2047 4138 1716 4138 \nQ 1388 4138 1169 3931 \nQ 950 3725 888 3313 \nL 325 3413 \nQ 428 3978 793 4289 \nQ 1159 4600 1703 4600 \nQ 2078 4600 2393 4439 \nQ 2709 4278 2876 4000 \nQ 3044 3722 3044 3409 \nQ 3044 3113 2884 2869 \nQ 2725 2625 2413 2481 \nQ 2819 2388 3044 2092 \nQ 3269 1797 3269 1353 \nQ 3269 753 2831 336 \nQ 2394 -81 1725 -81 \nQ 1122 -81 723 278 \nQ 325 638 269 1209 \nz\n\" id=\"ArialMT-33\" transform=\"scale(0.015625)\"/>\n       </defs>\n       <use xlink:href=\"#ArialMT-33\"/>\n      </g>\n     </g>\n    </g>\n    <g id=\"xtick_4\">\n     <g id=\"line2d_4\">\n      <path clip-path=\"url(#pd5bee56c34)\" d=\"M 187.155775 575 \nL 187.155775 31.4 \n\" style=\"fill:none;stroke:#ffffff;stroke-linecap:round;\"/>\n     </g>\n     <g id=\"text_4\">\n      <!-- 4 -->\n      <g style=\"fill:#262626;\" transform=\"translate(184.09726 592.373594)scale(0.11 -0.11)\">\n       <defs>\n        <path d=\"M 2069 0 \nL 2069 1097 \nL 81 1097 \nL 81 1613 \nL 2172 4581 \nL 2631 4581 \nL 2631 1613 \nL 3250 1613 \nL 3250 1097 \nL 2631 1097 \nL 2631 0 \nL 2069 0 \nz\nM 2069 1613 \nL 2069 3678 \nL 634 1613 \nL 2069 1613 \nz\n\" id=\"ArialMT-34\" transform=\"scale(0.015625)\"/>\n       </defs>\n       <use xlink:href=\"#ArialMT-34\"/>\n      </g>\n     </g>\n    </g>\n    <g id=\"xtick_5\">\n     <g id=\"line2d_5\">\n      <path clip-path=\"url(#pd5bee56c34)\" d=\"M 234.899091 575 \nL 234.899091 31.4 \n\" style=\"fill:none;stroke:#ffffff;stroke-linecap:round;\"/>\n     </g>\n     <g id=\"text_5\">\n      <!-- 5 -->\n      <g style=\"fill:#262626;\" transform=\"translate(231.840575 592.373594)scale(0.11 -0.11)\">\n       <defs>\n        <path d=\"M 266 1200 \nL 856 1250 \nQ 922 819 1161 601 \nQ 1400 384 1738 384 \nQ 2144 384 2425 690 \nQ 2706 997 2706 1503 \nQ 2706 1984 2436 2262 \nQ 2166 2541 1728 2541 \nQ 1456 2541 1237 2417 \nQ 1019 2294 894 2097 \nL 366 2166 \nL 809 4519 \nL 3088 4519 \nL 3088 3981 \nL 1259 3981 \nL 1013 2750 \nQ 1425 3038 1878 3038 \nQ 2478 3038 2890 2622 \nQ 3303 2206 3303 1553 \nQ 3303 931 2941 478 \nQ 2500 -78 1738 -78 \nQ 1113 -78 717 272 \nQ 322 622 266 1200 \nz\n\" id=\"ArialMT-35\" transform=\"scale(0.015625)\"/>\n       </defs>\n       <use xlink:href=\"#ArialMT-35\"/>\n      </g>\n     </g>\n    </g>\n    <g id=\"xtick_6\">\n     <g id=\"line2d_6\">\n      <path clip-path=\"url(#pd5bee56c34)\" d=\"M 282.642406 575 \nL 282.642406 31.4 \n\" style=\"fill:none;stroke:#ffffff;stroke-linecap:round;\"/>\n     </g>\n     <g id=\"text_6\">\n      <!-- 6 -->\n      <g style=\"fill:#262626;\" transform=\"translate(279.583891 592.373594)scale(0.11 -0.11)\">\n       <defs>\n        <path d=\"M 3184 3459 \nL 2625 3416 \nQ 2550 3747 2413 3897 \nQ 2184 4138 1850 4138 \nQ 1581 4138 1378 3988 \nQ 1113 3794 959 3422 \nQ 806 3050 800 2363 \nQ 1003 2672 1297 2822 \nQ 1591 2972 1913 2972 \nQ 2475 2972 2870 2558 \nQ 3266 2144 3266 1488 \nQ 3266 1056 3080 686 \nQ 2894 316 2569 119 \nQ 2244 -78 1831 -78 \nQ 1128 -78 684 439 \nQ 241 956 241 2144 \nQ 241 3472 731 4075 \nQ 1159 4600 1884 4600 \nQ 2425 4600 2770 4297 \nQ 3116 3994 3184 3459 \nz\nM 888 1484 \nQ 888 1194 1011 928 \nQ 1134 663 1356 523 \nQ 1578 384 1822 384 \nQ 2178 384 2434 671 \nQ 2691 959 2691 1453 \nQ 2691 1928 2437 2201 \nQ 2184 2475 1800 2475 \nQ 1419 2475 1153 2201 \nQ 888 1928 888 1484 \nz\n\" id=\"ArialMT-36\" transform=\"scale(0.015625)\"/>\n       </defs>\n       <use xlink:href=\"#ArialMT-36\"/>\n      </g>\n     </g>\n    </g>\n   </g>\n   <g id=\"matplotlib.axis_2\">\n    <g id=\"ytick_1\">\n     <g id=\"line2d_7\">\n      <path clip-path=\"url(#pd5bee56c34)\" d=\"M 31.99 487.237442 \nL 294.578235 487.237442 \n\" style=\"fill:none;stroke:#ffffff;stroke-linecap:round;\"/>\n     </g>\n     <g id=\"text_7\">\n      <!-- 2.8 -->\n      <g style=\"fill:#262626;\" transform=\"translate(7.2 491.174238)scale(0.11 -0.11)\">\n       <defs>\n        <path d=\"M 581 0 \nL 581 641 \nL 1222 641 \nL 1222 0 \nL 581 0 \nz\n\" id=\"ArialMT-2e\" transform=\"scale(0.015625)\"/>\n        <path d=\"M 1131 2484 \nQ 781 2613 612 2850 \nQ 444 3088 444 3419 \nQ 444 3919 803 4259 \nQ 1163 4600 1759 4600 \nQ 2359 4600 2725 4251 \nQ 3091 3903 3091 3403 \nQ 3091 3084 2923 2848 \nQ 2756 2613 2416 2484 \nQ 2838 2347 3058 2040 \nQ 3278 1734 3278 1309 \nQ 3278 722 2862 322 \nQ 2447 -78 1769 -78 \nQ 1091 -78 675 323 \nQ 259 725 259 1325 \nQ 259 1772 486 2073 \nQ 713 2375 1131 2484 \nz\nM 1019 3438 \nQ 1019 3113 1228 2906 \nQ 1438 2700 1772 2700 \nQ 2097 2700 2305 2904 \nQ 2513 3109 2513 3406 \nQ 2513 3716 2298 3927 \nQ 2084 4138 1766 4138 \nQ 1444 4138 1231 3931 \nQ 1019 3725 1019 3438 \nz\nM 838 1322 \nQ 838 1081 952 856 \nQ 1066 631 1291 507 \nQ 1516 384 1775 384 \nQ 2178 384 2440 643 \nQ 2703 903 2703 1303 \nQ 2703 1709 2433 1975 \nQ 2163 2241 1756 2241 \nQ 1359 2241 1098 1978 \nQ 838 1716 838 1322 \nz\n\" id=\"ArialMT-38\" transform=\"scale(0.015625)\"/>\n       </defs>\n       <use xlink:href=\"#ArialMT-32\"/>\n       <use x=\"55.615234\" xlink:href=\"#ArialMT-2e\"/>\n       <use x=\"83.398438\" xlink:href=\"#ArialMT-38\"/>\n      </g>\n     </g>\n    </g>\n    <g id=\"ytick_2\">\n     <g id=\"line2d_8\">\n      <path clip-path=\"url(#pd5bee56c34)\" d=\"M 31.99 381.822953 \nL 294.578235 381.822953 \n\" style=\"fill:none;stroke:#ffffff;stroke-linecap:round;\"/>\n     </g>\n     <g id=\"text_8\">\n      <!-- 3.0 -->\n      <g style=\"fill:#262626;\" transform=\"translate(7.2 385.75975)scale(0.11 -0.11)\">\n       <defs>\n        <path d=\"M 266 2259 \nQ 266 3072 433 3567 \nQ 600 4063 929 4331 \nQ 1259 4600 1759 4600 \nQ 2128 4600 2406 4451 \nQ 2684 4303 2865 4023 \nQ 3047 3744 3150 3342 \nQ 3253 2941 3253 2259 \nQ 3253 1453 3087 958 \nQ 2922 463 2592 192 \nQ 2263 -78 1759 -78 \nQ 1097 -78 719 397 \nQ 266 969 266 2259 \nz\nM 844 2259 \nQ 844 1131 1108 757 \nQ 1372 384 1759 384 \nQ 2147 384 2411 759 \nQ 2675 1134 2675 2259 \nQ 2675 3391 2411 3762 \nQ 2147 4134 1753 4134 \nQ 1366 4134 1134 3806 \nQ 844 3388 844 2259 \nz\n\" id=\"ArialMT-30\" transform=\"scale(0.015625)\"/>\n       </defs>\n       <use xlink:href=\"#ArialMT-33\"/>\n       <use x=\"55.615234\" xlink:href=\"#ArialMT-2e\"/>\n       <use x=\"83.398438\" xlink:href=\"#ArialMT-30\"/>\n      </g>\n     </g>\n    </g>\n    <g id=\"ytick_3\">\n     <g id=\"line2d_9\">\n      <path clip-path=\"url(#pd5bee56c34)\" d=\"M 31.99 276.408465 \nL 294.578235 276.408465 \n\" style=\"fill:none;stroke:#ffffff;stroke-linecap:round;\"/>\n     </g>\n     <g id=\"text_9\">\n      <!-- 3.2 -->\n      <g style=\"fill:#262626;\" transform=\"translate(7.2 280.345262)scale(0.11 -0.11)\">\n       <use xlink:href=\"#ArialMT-33\"/>\n       <use x=\"55.615234\" xlink:href=\"#ArialMT-2e\"/>\n       <use x=\"83.398438\" xlink:href=\"#ArialMT-32\"/>\n      </g>\n     </g>\n    </g>\n    <g id=\"ytick_4\">\n     <g id=\"line2d_10\">\n      <path clip-path=\"url(#pd5bee56c34)\" d=\"M 31.99 170.993977 \nL 294.578235 170.993977 \n\" style=\"fill:none;stroke:#ffffff;stroke-linecap:round;\"/>\n     </g>\n     <g id=\"text_10\">\n      <!-- 3.4 -->\n      <g style=\"fill:#262626;\" transform=\"translate(7.2 174.930774)scale(0.11 -0.11)\">\n       <use xlink:href=\"#ArialMT-33\"/>\n       <use x=\"55.615234\" xlink:href=\"#ArialMT-2e\"/>\n       <use x=\"83.398438\" xlink:href=\"#ArialMT-34\"/>\n      </g>\n     </g>\n    </g>\n    <g id=\"ytick_5\">\n     <g id=\"line2d_11\">\n      <path clip-path=\"url(#pd5bee56c34)\" d=\"M 31.99 65.579489 \nL 294.578235 65.579489 \n\" style=\"fill:none;stroke:#ffffff;stroke-linecap:round;\"/>\n     </g>\n     <g id=\"text_11\">\n      <!-- 3.6 -->\n      <g style=\"fill:#262626;\" transform=\"translate(7.2 69.516286)scale(0.11 -0.11)\">\n       <use xlink:href=\"#ArialMT-33\"/>\n       <use x=\"55.615234\" xlink:href=\"#ArialMT-2e\"/>\n       <use x=\"83.398438\" xlink:href=\"#ArialMT-36\"/>\n      </g>\n     </g>\n    </g>\n    <g id=\"text_12\">\n     <!-- 1e7 -->\n     <g style=\"fill:#262626;\" transform=\"translate(31.99 28.4)scale(0.11 -0.11)\">\n      <defs>\n       <path d=\"M 2694 1069 \nL 3275 997 \nQ 3138 488 2766 206 \nQ 2394 -75 1816 -75 \nQ 1088 -75 661 373 \nQ 234 822 234 1631 \nQ 234 2469 665 2931 \nQ 1097 3394 1784 3394 \nQ 2450 3394 2872 2941 \nQ 3294 2488 3294 1666 \nQ 3294 1616 3291 1516 \nL 816 1516 \nQ 847 969 1125 678 \nQ 1403 388 1819 388 \nQ 2128 388 2347 550 \nQ 2566 713 2694 1069 \nz\nM 847 1978 \nL 2700 1978 \nQ 2663 2397 2488 2606 \nQ 2219 2931 1791 2931 \nQ 1403 2931 1139 2672 \nQ 875 2413 847 1978 \nz\n\" id=\"ArialMT-65\" transform=\"scale(0.015625)\"/>\n       <path d=\"M 303 3981 \nL 303 4522 \nL 3269 4522 \nL 3269 4084 \nQ 2831 3619 2401 2847 \nQ 1972 2075 1738 1259 \nQ 1569 684 1522 0 \nL 944 0 \nQ 953 541 1156 1306 \nQ 1359 2072 1739 2783 \nQ 2119 3494 2547 3981 \nL 303 3981 \nz\n\" id=\"ArialMT-37\" transform=\"scale(0.015625)\"/>\n      </defs>\n      <use xlink:href=\"#ArialMT-31\"/>\n      <use x=\"55.615234\" xlink:href=\"#ArialMT-65\"/>\n      <use x=\"111.230469\" xlink:href=\"#ArialMT-37\"/>\n     </g>\n    </g>\n   </g>\n   <g id=\"line2d_12\">\n    <path clip-path=\"url(#pd5bee56c34)\" d=\"M 43.925829 56.109091 \nL 91.669144 347.744564 \nL 139.41246 421.390447 \nL 187.155775 474.621235 \nL 234.899091 530.962147 \nL 282.642406 550.290909 \n\" style=\"fill:none;stroke:#4c72b0;stroke-linecap:round;stroke-width:1.5;\"/>\n   </g>\n   <g id=\"patch_3\">\n    <path d=\"M 31.99 575 \nL 31.99 31.4 \n\" style=\"fill:none;stroke:#ffffff;stroke-linecap:square;stroke-linejoin:miter;stroke-width:1.25;\"/>\n   </g>\n   <g id=\"patch_4\">\n    <path d=\"M 294.578235 575 \nL 294.578235 31.4 \n\" style=\"fill:none;stroke:#ffffff;stroke-linecap:square;stroke-linejoin:miter;stroke-width:1.25;\"/>\n   </g>\n   <g id=\"patch_5\">\n    <path d=\"M 31.99 575 \nL 294.578235 575 \n\" style=\"fill:none;stroke:#ffffff;stroke-linecap:square;stroke-linejoin:miter;stroke-width:1.25;\"/>\n   </g>\n   <g id=\"patch_6\">\n    <path d=\"M 31.99 31.4 \nL 294.578235 31.4 \n\" style=\"fill:none;stroke:#ffffff;stroke-linecap:square;stroke-linejoin:miter;stroke-width:1.25;\"/>\n   </g>\n   <g id=\"text_13\">\n    <!-- RSS -->\n    <g style=\"fill:#262626;\" transform=\"translate(142.721618 25.4)scale(0.2 -0.2)\">\n     <defs>\n      <path d=\"M 503 0 \nL 503 4581 \nL 2534 4581 \nQ 3147 4581 3465 4457 \nQ 3784 4334 3975 4021 \nQ 4166 3709 4166 3331 \nQ 4166 2844 3850 2509 \nQ 3534 2175 2875 2084 \nQ 3116 1969 3241 1856 \nQ 3506 1613 3744 1247 \nL 4541 0 \nL 3778 0 \nL 3172 953 \nQ 2906 1366 2734 1584 \nQ 2563 1803 2427 1890 \nQ 2291 1978 2150 2013 \nQ 2047 2034 1813 2034 \nL 1109 2034 \nL 1109 0 \nL 503 0 \nz\nM 1109 2559 \nL 2413 2559 \nQ 2828 2559 3062 2645 \nQ 3297 2731 3419 2920 \nQ 3541 3109 3541 3331 \nQ 3541 3656 3305 3865 \nQ 3069 4075 2559 4075 \nL 1109 4075 \nL 1109 2559 \nz\n\" id=\"ArialMT-52\" transform=\"scale(0.015625)\"/>\n      <path d=\"M 288 1472 \nL 859 1522 \nQ 900 1178 1048 958 \nQ 1197 738 1509 602 \nQ 1822 466 2213 466 \nQ 2559 466 2825 569 \nQ 3091 672 3220 851 \nQ 3350 1031 3350 1244 \nQ 3350 1459 3225 1620 \nQ 3100 1781 2813 1891 \nQ 2628 1963 1997 2114 \nQ 1366 2266 1113 2400 \nQ 784 2572 623 2826 \nQ 463 3081 463 3397 \nQ 463 3744 659 4045 \nQ 856 4347 1234 4503 \nQ 1613 4659 2075 4659 \nQ 2584 4659 2973 4495 \nQ 3363 4331 3572 4012 \nQ 3781 3694 3797 3291 \nL 3216 3247 \nQ 3169 3681 2898 3903 \nQ 2628 4125 2100 4125 \nQ 1550 4125 1298 3923 \nQ 1047 3722 1047 3438 \nQ 1047 3191 1225 3031 \nQ 1400 2872 2139 2705 \nQ 2878 2538 3153 2413 \nQ 3553 2228 3743 1945 \nQ 3934 1663 3934 1294 \nQ 3934 928 3725 604 \nQ 3516 281 3123 101 \nQ 2731 -78 2241 -78 \nQ 1619 -78 1198 103 \nQ 778 284 539 648 \nQ 300 1013 288 1472 \nz\n\" id=\"ArialMT-53\" transform=\"scale(0.015625)\"/>\n     </defs>\n     <use xlink:href=\"#ArialMT-52\"/>\n     <use x=\"72.216797\" xlink:href=\"#ArialMT-53\"/>\n     <use x=\"138.916016\" xlink:href=\"#ArialMT-53\"/>\n    </g>\n   </g>\n  </g>\n  <g id=\"axes_2\">\n   <g id=\"patch_7\">\n    <path d=\"M 347.095882 575 \nL 609.684118 575 \nL 609.684118 31.4 \nL 347.095882 31.4 \nz\n\" style=\"fill:#eaeaf2;\"/>\n   </g>\n   <g id=\"matplotlib.axis_3\">\n    <g id=\"xtick_7\">\n     <g id=\"line2d_13\">\n      <path clip-path=\"url(#pc2145c2954)\" d=\"M 359.031711 575 \nL 359.031711 31.4 \n\" style=\"fill:none;stroke:#ffffff;stroke-linecap:round;\"/>\n     </g>\n     <g id=\"text_14\">\n      <!-- 1 -->\n      <g style=\"fill:#262626;\" transform=\"translate(355.973196 592.373594)scale(0.11 -0.11)\">\n       <use xlink:href=\"#ArialMT-31\"/>\n      </g>\n     </g>\n    </g>\n    <g id=\"xtick_8\">\n     <g id=\"line2d_14\">\n      <path clip-path=\"url(#pc2145c2954)\" d=\"M 406.775027 575 \nL 406.775027 31.4 \n\" style=\"fill:none;stroke:#ffffff;stroke-linecap:round;\"/>\n     </g>\n     <g id=\"text_15\">\n      <!-- 2 -->\n      <g style=\"fill:#262626;\" transform=\"translate(403.716511 592.373594)scale(0.11 -0.11)\">\n       <use xlink:href=\"#ArialMT-32\"/>\n      </g>\n     </g>\n    </g>\n    <g id=\"xtick_9\">\n     <g id=\"line2d_15\">\n      <path clip-path=\"url(#pc2145c2954)\" d=\"M 454.518342 575 \nL 454.518342 31.4 \n\" style=\"fill:none;stroke:#ffffff;stroke-linecap:round;\"/>\n     </g>\n     <g id=\"text_16\">\n      <!-- 3 -->\n      <g style=\"fill:#262626;\" transform=\"translate(451.459827 592.373594)scale(0.11 -0.11)\">\n       <use xlink:href=\"#ArialMT-33\"/>\n      </g>\n     </g>\n    </g>\n    <g id=\"xtick_10\">\n     <g id=\"line2d_16\">\n      <path clip-path=\"url(#pc2145c2954)\" d=\"M 502.261658 575 \nL 502.261658 31.4 \n\" style=\"fill:none;stroke:#ffffff;stroke-linecap:round;\"/>\n     </g>\n     <g id=\"text_17\">\n      <!-- 4 -->\n      <g style=\"fill:#262626;\" transform=\"translate(499.203142 592.373594)scale(0.11 -0.11)\">\n       <use xlink:href=\"#ArialMT-34\"/>\n      </g>\n     </g>\n    </g>\n    <g id=\"xtick_11\">\n     <g id=\"line2d_17\">\n      <path clip-path=\"url(#pc2145c2954)\" d=\"M 550.004973 575 \nL 550.004973 31.4 \n\" style=\"fill:none;stroke:#ffffff;stroke-linecap:round;\"/>\n     </g>\n     <g id=\"text_18\">\n      <!-- 5 -->\n      <g style=\"fill:#262626;\" transform=\"translate(546.946458 592.373594)scale(0.11 -0.11)\">\n       <use xlink:href=\"#ArialMT-35\"/>\n      </g>\n     </g>\n    </g>\n    <g id=\"xtick_12\">\n     <g id=\"line2d_18\">\n      <path clip-path=\"url(#pc2145c2954)\" d=\"M 597.748289 575 \nL 597.748289 31.4 \n\" style=\"fill:none;stroke:#ffffff;stroke-linecap:round;\"/>\n     </g>\n     <g id=\"text_19\">\n      <!-- 6 -->\n      <g style=\"fill:#262626;\" transform=\"translate(594.689773 592.373594)scale(0.11 -0.11)\">\n       <use xlink:href=\"#ArialMT-36\"/>\n      </g>\n     </g>\n    </g>\n   </g>\n   <g id=\"matplotlib.axis_4\">\n    <g id=\"ytick_6\">\n     <g id=\"line2d_19\">\n      <path clip-path=\"url(#pc2145c2954)\" d=\"M 347.095882 532.056153 \nL 609.684118 532.056153 \n\" style=\"fill:none;stroke:#ffffff;stroke-linecap:round;\"/>\n     </g>\n     <g id=\"text_20\">\n      <!-- 0.325 -->\n      <g style=\"fill:#262626;\" transform=\"translate(310.07182 535.99295)scale(0.11 -0.11)\">\n       <use xlink:href=\"#ArialMT-30\"/>\n       <use x=\"55.615234\" xlink:href=\"#ArialMT-2e\"/>\n       <use x=\"83.398438\" xlink:href=\"#ArialMT-33\"/>\n       <use x=\"139.013672\" xlink:href=\"#ArialMT-32\"/>\n       <use x=\"194.628906\" xlink:href=\"#ArialMT-35\"/>\n      </g>\n     </g>\n    </g>\n    <g id=\"ytick_7\">\n     <g id=\"line2d_20\">\n      <path clip-path=\"url(#pc2145c2954)\" d=\"M 347.095882 457.927747 \nL 609.684118 457.927747 \n\" style=\"fill:none;stroke:#ffffff;stroke-linecap:round;\"/>\n     </g>\n     <g id=\"text_21\">\n      <!-- 0.350 -->\n      <g style=\"fill:#262626;\" transform=\"translate(310.07182 461.864544)scale(0.11 -0.11)\">\n       <use xlink:href=\"#ArialMT-30\"/>\n       <use x=\"55.615234\" xlink:href=\"#ArialMT-2e\"/>\n       <use x=\"83.398438\" xlink:href=\"#ArialMT-33\"/>\n       <use x=\"139.013672\" xlink:href=\"#ArialMT-35\"/>\n       <use x=\"194.628906\" xlink:href=\"#ArialMT-30\"/>\n      </g>\n     </g>\n    </g>\n    <g id=\"ytick_8\">\n     <g id=\"line2d_21\">\n      <path clip-path=\"url(#pc2145c2954)\" d=\"M 347.095882 383.799341 \nL 609.684118 383.799341 \n\" style=\"fill:none;stroke:#ffffff;stroke-linecap:round;\"/>\n     </g>\n     <g id=\"text_22\">\n      <!-- 0.375 -->\n      <g style=\"fill:#262626;\" transform=\"translate(310.07182 387.736138)scale(0.11 -0.11)\">\n       <use xlink:href=\"#ArialMT-30\"/>\n       <use x=\"55.615234\" xlink:href=\"#ArialMT-2e\"/>\n       <use x=\"83.398438\" xlink:href=\"#ArialMT-33\"/>\n       <use x=\"139.013672\" xlink:href=\"#ArialMT-37\"/>\n       <use x=\"194.628906\" xlink:href=\"#ArialMT-35\"/>\n      </g>\n     </g>\n    </g>\n    <g id=\"ytick_9\">\n     <g id=\"line2d_22\">\n      <path clip-path=\"url(#pc2145c2954)\" d=\"M 347.095882 309.670935 \nL 609.684118 309.670935 \n\" style=\"fill:none;stroke:#ffffff;stroke-linecap:round;\"/>\n     </g>\n     <g id=\"text_23\">\n      <!-- 0.400 -->\n      <g style=\"fill:#262626;\" transform=\"translate(310.07182 313.607732)scale(0.11 -0.11)\">\n       <use xlink:href=\"#ArialMT-30\"/>\n       <use x=\"55.615234\" xlink:href=\"#ArialMT-2e\"/>\n       <use x=\"83.398438\" xlink:href=\"#ArialMT-34\"/>\n       <use x=\"139.013672\" xlink:href=\"#ArialMT-30\"/>\n       <use x=\"194.628906\" xlink:href=\"#ArialMT-30\"/>\n      </g>\n     </g>\n    </g>\n    <g id=\"ytick_10\">\n     <g id=\"line2d_23\">\n      <path clip-path=\"url(#pc2145c2954)\" d=\"M 347.095882 235.542529 \nL 609.684118 235.542529 \n\" style=\"fill:none;stroke:#ffffff;stroke-linecap:round;\"/>\n     </g>\n     <g id=\"text_24\">\n      <!-- 0.425 -->\n      <g style=\"fill:#262626;\" transform=\"translate(310.07182 239.479326)scale(0.11 -0.11)\">\n       <use xlink:href=\"#ArialMT-30\"/>\n       <use x=\"55.615234\" xlink:href=\"#ArialMT-2e\"/>\n       <use x=\"83.398438\" xlink:href=\"#ArialMT-34\"/>\n       <use x=\"139.013672\" xlink:href=\"#ArialMT-32\"/>\n       <use x=\"194.628906\" xlink:href=\"#ArialMT-35\"/>\n      </g>\n     </g>\n    </g>\n    <g id=\"ytick_11\">\n     <g id=\"line2d_24\">\n      <path clip-path=\"url(#pc2145c2954)\" d=\"M 347.095882 161.414123 \nL 609.684118 161.414123 \n\" style=\"fill:none;stroke:#ffffff;stroke-linecap:round;\"/>\n     </g>\n     <g id=\"text_25\">\n      <!-- 0.450 -->\n      <g style=\"fill:#262626;\" transform=\"translate(310.07182 165.35092)scale(0.11 -0.11)\">\n       <use xlink:href=\"#ArialMT-30\"/>\n       <use x=\"55.615234\" xlink:href=\"#ArialMT-2e\"/>\n       <use x=\"83.398438\" xlink:href=\"#ArialMT-34\"/>\n       <use x=\"139.013672\" xlink:href=\"#ArialMT-35\"/>\n       <use x=\"194.628906\" xlink:href=\"#ArialMT-30\"/>\n      </g>\n     </g>\n    </g>\n    <g id=\"ytick_12\">\n     <g id=\"line2d_25\">\n      <path clip-path=\"url(#pc2145c2954)\" d=\"M 347.095882 87.285718 \nL 609.684118 87.285718 \n\" style=\"fill:none;stroke:#ffffff;stroke-linecap:round;\"/>\n     </g>\n     <g id=\"text_26\">\n      <!-- 0.475 -->\n      <g style=\"fill:#262626;\" transform=\"translate(310.07182 91.222514)scale(0.11 -0.11)\">\n       <use xlink:href=\"#ArialMT-30\"/>\n       <use x=\"55.615234\" xlink:href=\"#ArialMT-2e\"/>\n       <use x=\"83.398438\" xlink:href=\"#ArialMT-34\"/>\n       <use x=\"139.013672\" xlink:href=\"#ArialMT-37\"/>\n       <use x=\"194.628906\" xlink:href=\"#ArialMT-35\"/>\n      </g>\n     </g>\n    </g>\n   </g>\n   <g id=\"line2d_26\">\n    <path clip-path=\"url(#pc2145c2954)\" d=\"M 359.031711 550.290909 \nL 406.775027 247.989013 \nL 454.518342 176.016482 \nL 502.261658 125.359834 \nL 550.004973 70.963654 \nL 597.748289 56.109091 \n\" style=\"fill:none;stroke:#4c72b0;stroke-linecap:round;stroke-width:1.5;\"/>\n   </g>\n   <g id=\"patch_8\">\n    <path d=\"M 347.095882 575 \nL 347.095882 31.4 \n\" style=\"fill:none;stroke:#ffffff;stroke-linecap:square;stroke-linejoin:miter;stroke-width:1.25;\"/>\n   </g>\n   <g id=\"patch_9\">\n    <path d=\"M 609.684118 575 \nL 609.684118 31.4 \n\" style=\"fill:none;stroke:#ffffff;stroke-linecap:square;stroke-linejoin:miter;stroke-width:1.25;\"/>\n   </g>\n   <g id=\"patch_10\">\n    <path d=\"M 347.095882 575 \nL 609.684118 575 \n\" style=\"fill:none;stroke:#ffffff;stroke-linecap:square;stroke-linejoin:miter;stroke-width:1.25;\"/>\n   </g>\n   <g id=\"patch_11\">\n    <path d=\"M 347.095882 31.4 \nL 609.684118 31.4 \n\" style=\"fill:none;stroke:#ffffff;stroke-linecap:square;stroke-linejoin:miter;stroke-width:1.25;\"/>\n   </g>\n   <g id=\"text_27\">\n    <!-- $R_{adj}^2$ -->\n    <g style=\"fill:#262626;\" transform=\"translate(460.49 25.4)scale(0.2 -0.2)\">\n     <defs>\n      <path d=\"M 1613 4147 \nL 1294 2491 \nL 2106 2491 \nQ 2584 2491 2879 2755 \nQ 3175 3019 3175 3444 \nQ 3175 3784 2976 3965 \nQ 2778 4147 2406 4147 \nL 1613 4147 \nz\nM 2772 2241 \nQ 2972 2194 3105 2009 \nQ 3238 1825 3413 1275 \nL 3809 0 \nL 3144 0 \nL 2778 1197 \nQ 2638 1659 2453 1815 \nQ 2269 1972 1888 1972 \nL 1191 1972 \nL 806 0 \nL 172 0 \nL 1081 4666 \nL 2503 4666 \nQ 3150 4666 3495 4373 \nQ 3841 4081 3841 3531 \nQ 3841 3044 3547 2687 \nQ 3253 2331 2772 2241 \nz\n\" id=\"DejaVuSans-Oblique-52\" transform=\"scale(0.015625)\"/>\n      <path d=\"M 1228 531 \nL 3431 531 \nL 3431 0 \nL 469 0 \nL 469 531 \nQ 828 903 1448 1529 \nQ 2069 2156 2228 2338 \nQ 2531 2678 2651 2914 \nQ 2772 3150 2772 3378 \nQ 2772 3750 2511 3984 \nQ 2250 4219 1831 4219 \nQ 1534 4219 1204 4116 \nQ 875 4013 500 3803 \nL 500 4441 \nQ 881 4594 1212 4672 \nQ 1544 4750 1819 4750 \nQ 2544 4750 2975 4387 \nQ 3406 4025 3406 3419 \nQ 3406 3131 3298 2873 \nQ 3191 2616 2906 2266 \nQ 2828 2175 2409 1742 \nQ 1991 1309 1228 531 \nz\n\" id=\"DejaVuSans-32\" transform=\"scale(0.015625)\"/>\n      <path d=\"M 3438 1997 \nL 3047 0 \nL 2472 0 \nL 2578 531 \nQ 2325 219 2001 64 \nQ 1678 -91 1281 -91 \nQ 834 -91 548 182 \nQ 263 456 263 884 \nQ 263 1497 752 1853 \nQ 1241 2209 2100 2209 \nL 2900 2209 \nL 2931 2363 \nQ 2938 2388 2941 2417 \nQ 2944 2447 2944 2509 \nQ 2944 2788 2717 2942 \nQ 2491 3097 2081 3097 \nQ 1800 3097 1504 3025 \nQ 1209 2953 897 2809 \nL 997 3341 \nQ 1322 3463 1633 3523 \nQ 1944 3584 2234 3584 \nQ 2853 3584 3176 3315 \nQ 3500 3047 3500 2534 \nQ 3500 2431 3484 2292 \nQ 3469 2153 3438 1997 \nz\nM 2816 1759 \nL 2241 1759 \nQ 1534 1759 1195 1570 \nQ 856 1381 856 984 \nQ 856 709 1029 553 \nQ 1203 397 1509 397 \nQ 1978 397 2328 733 \nQ 2678 1069 2791 1631 \nL 2816 1759 \nz\n\" id=\"DejaVuSans-Oblique-61\" transform=\"scale(0.015625)\"/>\n      <path d=\"M 2675 525 \nQ 2444 222 2128 65 \nQ 1813 -91 1428 -91 \nQ 903 -91 598 267 \nQ 294 625 294 1247 \nQ 294 1766 478 2236 \nQ 663 2706 1013 3078 \nQ 1244 3325 1534 3454 \nQ 1825 3584 2144 3584 \nQ 2481 3584 2739 3421 \nQ 2997 3259 3138 2956 \nL 3513 4863 \nL 4091 4863 \nL 3144 0 \nL 2566 0 \nL 2675 525 \nz\nM 891 1350 \nQ 891 897 1095 644 \nQ 1300 391 1663 391 \nQ 1931 391 2161 520 \nQ 2391 650 2566 903 \nQ 2750 1166 2856 1509 \nQ 2963 1853 2963 2188 \nQ 2963 2622 2758 2865 \nQ 2553 3109 2194 3109 \nQ 1922 3109 1687 2981 \nQ 1453 2853 1288 2613 \nQ 1106 2353 998 2009 \nQ 891 1666 891 1350 \nz\n\" id=\"DejaVuSans-Oblique-64\" transform=\"scale(0.015625)\"/>\n      <path d=\"M 928 3500 \nL 1503 3500 \nL 813 -63 \nL 809 -78 \nQ 694 -675 544 -897 \nQ 403 -1106 132 -1218 \nQ -138 -1331 -506 -1331 \nL -722 -1331 \nL -628 -844 \nL -481 -844 \nQ -144 -844 -1 -703 \nQ 141 -563 238 -63 \nL 928 3500 \nz\nM 1197 4863 \nL 1772 4863 \nL 1631 4134 \nL 1056 4134 \nL 1197 4863 \nz\n\" id=\"DejaVuSans-Oblique-6a\" transform=\"scale(0.015625)\"/>\n     </defs>\n     <use transform=\"translate(0 0.701562)\" xlink:href=\"#DejaVuSans-Oblique-52\"/>\n     <use transform=\"translate(76.499193 39.046875)scale(0.7)\" xlink:href=\"#DejaVuSans-32\"/>\n     <use transform=\"translate(69.482422 -26.642188)scale(0.7)\" xlink:href=\"#DejaVuSans-Oblique-61\"/>\n     <use transform=\"translate(112.37793 -26.642188)scale(0.7)\" xlink:href=\"#DejaVuSans-Oblique-64\"/>\n     <use transform=\"translate(156.811523 -26.642188)scale(0.7)\" xlink:href=\"#DejaVuSans-Oblique-6a\"/>\n    </g>\n   </g>\n  </g>\n  <g id=\"axes_3\">\n   <g id=\"patch_12\">\n    <path d=\"M 662.201765 575 \nL 924.79 575 \nL 924.79 31.4 \nL 662.201765 31.4 \nz\n\" style=\"fill:#eaeaf2;\"/>\n   </g>\n   <g id=\"matplotlib.axis_5\">\n    <g id=\"xtick_13\">\n     <g id=\"line2d_27\">\n      <path clip-path=\"url(#p47f774288b)\" d=\"M 674.137594 575 \nL 674.137594 31.4 \n\" style=\"fill:none;stroke:#ffffff;stroke-linecap:round;\"/>\n     </g>\n     <g id=\"text_28\">\n      <!-- 1 -->\n      <g style=\"fill:#262626;\" transform=\"translate(671.079078 592.373594)scale(0.11 -0.11)\">\n       <use xlink:href=\"#ArialMT-31\"/>\n      </g>\n     </g>\n    </g>\n    <g id=\"xtick_14\">\n     <g id=\"line2d_28\">\n      <path clip-path=\"url(#p47f774288b)\" d=\"M 721.880909 575 \nL 721.880909 31.4 \n\" style=\"fill:none;stroke:#ffffff;stroke-linecap:round;\"/>\n     </g>\n     <g id=\"text_29\">\n      <!-- 2 -->\n      <g style=\"fill:#262626;\" transform=\"translate(718.822393 592.373594)scale(0.11 -0.11)\">\n       <use xlink:href=\"#ArialMT-32\"/>\n      </g>\n     </g>\n    </g>\n    <g id=\"xtick_15\">\n     <g id=\"line2d_29\">\n      <path clip-path=\"url(#p47f774288b)\" d=\"M 769.624225 575 \nL 769.624225 31.4 \n\" style=\"fill:none;stroke:#ffffff;stroke-linecap:round;\"/>\n     </g>\n     <g id=\"text_30\">\n      <!-- 3 -->\n      <g style=\"fill:#262626;\" transform=\"translate(766.565709 592.373594)scale(0.11 -0.11)\">\n       <use xlink:href=\"#ArialMT-33\"/>\n      </g>\n     </g>\n    </g>\n    <g id=\"xtick_16\">\n     <g id=\"line2d_30\">\n      <path clip-path=\"url(#p47f774288b)\" d=\"M 817.36754 575 \nL 817.36754 31.4 \n\" style=\"fill:none;stroke:#ffffff;stroke-linecap:round;\"/>\n     </g>\n     <g id=\"text_31\">\n      <!-- 4 -->\n      <g style=\"fill:#262626;\" transform=\"translate(814.309024 592.373594)scale(0.11 -0.11)\">\n       <use xlink:href=\"#ArialMT-34\"/>\n      </g>\n     </g>\n    </g>\n    <g id=\"xtick_17\">\n     <g id=\"line2d_31\">\n      <path clip-path=\"url(#p47f774288b)\" d=\"M 865.110856 575 \nL 865.110856 31.4 \n\" style=\"fill:none;stroke:#ffffff;stroke-linecap:round;\"/>\n     </g>\n     <g id=\"text_32\">\n      <!-- 5 -->\n      <g style=\"fill:#262626;\" transform=\"translate(862.05234 592.373594)scale(0.11 -0.11)\">\n       <use xlink:href=\"#ArialMT-35\"/>\n      </g>\n     </g>\n    </g>\n    <g id=\"xtick_18\">\n     <g id=\"line2d_32\">\n      <path clip-path=\"url(#p47f774288b)\" d=\"M 912.854171 575 \nL 912.854171 31.4 \n\" style=\"fill:none;stroke:#ffffff;stroke-linecap:round;\"/>\n     </g>\n     <g id=\"text_33\">\n      <!-- 6 -->\n      <g style=\"fill:#262626;\" transform=\"translate(909.795655 592.373594)scale(0.11 -0.11)\">\n       <use xlink:href=\"#ArialMT-36\"/>\n      </g>\n     </g>\n    </g>\n   </g>\n   <g id=\"matplotlib.axis_6\">\n    <g id=\"ytick_13\">\n     <g id=\"line2d_33\">\n      <path clip-path=\"url(#p47f774288b)\" d=\"M 662.201765 515.410478 \nL 924.79 515.410478 \n\" style=\"fill:none;stroke:#ffffff;stroke-linecap:round;\"/>\n     </g>\n     <g id=\"text_34\">\n      <!-- 3820 -->\n      <g style=\"fill:#262626;\" transform=\"translate(628.23364 519.347275)scale(0.11 -0.11)\">\n       <use xlink:href=\"#ArialMT-33\"/>\n       <use x=\"55.615234\" xlink:href=\"#ArialMT-38\"/>\n       <use x=\"111.230469\" xlink:href=\"#ArialMT-32\"/>\n       <use x=\"166.845703\" xlink:href=\"#ArialMT-30\"/>\n      </g>\n     </g>\n    </g>\n    <g id=\"ytick_14\">\n     <g id=\"line2d_34\">\n      <path clip-path=\"url(#p47f774288b)\" d=\"M 662.201765 422.214924 \nL 924.79 422.214924 \n\" style=\"fill:none;stroke:#ffffff;stroke-linecap:round;\"/>\n     </g>\n     <g id=\"text_35\">\n      <!-- 3830 -->\n      <g style=\"fill:#262626;\" transform=\"translate(628.23364 426.151721)scale(0.11 -0.11)\">\n       <use xlink:href=\"#ArialMT-33\"/>\n       <use x=\"55.615234\" xlink:href=\"#ArialMT-38\"/>\n       <use x=\"111.230469\" xlink:href=\"#ArialMT-33\"/>\n       <use x=\"166.845703\" xlink:href=\"#ArialMT-30\"/>\n      </g>\n     </g>\n    </g>\n    <g id=\"ytick_15\">\n     <g id=\"line2d_35\">\n      <path clip-path=\"url(#p47f774288b)\" d=\"M 662.201765 329.019369 \nL 924.79 329.019369 \n\" style=\"fill:none;stroke:#ffffff;stroke-linecap:round;\"/>\n     </g>\n     <g id=\"text_36\">\n      <!-- 3840 -->\n      <g style=\"fill:#262626;\" transform=\"translate(628.23364 332.956166)scale(0.11 -0.11)\">\n       <use xlink:href=\"#ArialMT-33\"/>\n       <use x=\"55.615234\" xlink:href=\"#ArialMT-38\"/>\n       <use x=\"111.230469\" xlink:href=\"#ArialMT-34\"/>\n       <use x=\"166.845703\" xlink:href=\"#ArialMT-30\"/>\n      </g>\n     </g>\n    </g>\n    <g id=\"ytick_16\">\n     <g id=\"line2d_36\">\n      <path clip-path=\"url(#p47f774288b)\" d=\"M 662.201765 235.823815 \nL 924.79 235.823815 \n\" style=\"fill:none;stroke:#ffffff;stroke-linecap:round;\"/>\n     </g>\n     <g id=\"text_37\">\n      <!-- 3850 -->\n      <g style=\"fill:#262626;\" transform=\"translate(628.23364 239.760612)scale(0.11 -0.11)\">\n       <use xlink:href=\"#ArialMT-33\"/>\n       <use x=\"55.615234\" xlink:href=\"#ArialMT-38\"/>\n       <use x=\"111.230469\" xlink:href=\"#ArialMT-35\"/>\n       <use x=\"166.845703\" xlink:href=\"#ArialMT-30\"/>\n      </g>\n     </g>\n    </g>\n    <g id=\"ytick_17\">\n     <g id=\"line2d_37\">\n      <path clip-path=\"url(#p47f774288b)\" d=\"M 662.201765 142.62826 \nL 924.79 142.62826 \n\" style=\"fill:none;stroke:#ffffff;stroke-linecap:round;\"/>\n     </g>\n     <g id=\"text_38\">\n      <!-- 3860 -->\n      <g style=\"fill:#262626;\" transform=\"translate(628.23364 146.565057)scale(0.11 -0.11)\">\n       <use xlink:href=\"#ArialMT-33\"/>\n       <use x=\"55.615234\" xlink:href=\"#ArialMT-38\"/>\n       <use x=\"111.230469\" xlink:href=\"#ArialMT-36\"/>\n       <use x=\"166.845703\" xlink:href=\"#ArialMT-30\"/>\n      </g>\n     </g>\n    </g>\n    <g id=\"ytick_18\">\n     <g id=\"line2d_38\">\n      <path clip-path=\"url(#p47f774288b)\" d=\"M 662.201765 49.432706 \nL 924.79 49.432706 \n\" style=\"fill:none;stroke:#ffffff;stroke-linecap:round;\"/>\n     </g>\n     <g id=\"text_39\">\n      <!-- 3870 -->\n      <g style=\"fill:#262626;\" transform=\"translate(628.23364 53.369502)scale(0.11 -0.11)\">\n       <use xlink:href=\"#ArialMT-33\"/>\n       <use x=\"55.615234\" xlink:href=\"#ArialMT-38\"/>\n       <use x=\"111.230469\" xlink:href=\"#ArialMT-37\"/>\n       <use x=\"166.845703\" xlink:href=\"#ArialMT-30\"/>\n      </g>\n     </g>\n    </g>\n   </g>\n   <g id=\"line2d_39\">\n    <path clip-path=\"url(#p47f774288b)\" d=\"M 674.137594 56.109091 \nL 721.880909 410.996353 \nL 769.624225 473.443995 \nL 817.36754 507.640341 \nL 865.110856 550.290909 \nL 912.854171 531.667926 \n\" style=\"fill:none;stroke:#4c72b0;stroke-linecap:round;stroke-width:1.5;\"/>\n   </g>\n   <g id=\"patch_13\">\n    <path d=\"M 662.201765 575 \nL 662.201765 31.4 \n\" style=\"fill:none;stroke:#ffffff;stroke-linecap:square;stroke-linejoin:miter;stroke-width:1.25;\"/>\n   </g>\n   <g id=\"patch_14\">\n    <path d=\"M 924.79 575 \nL 924.79 31.4 \n\" style=\"fill:none;stroke:#ffffff;stroke-linecap:square;stroke-linejoin:miter;stroke-width:1.25;\"/>\n   </g>\n   <g id=\"patch_15\">\n    <path d=\"M 662.201765 575 \nL 924.79 575 \n\" style=\"fill:none;stroke:#ffffff;stroke-linecap:square;stroke-linejoin:miter;stroke-width:1.25;\"/>\n   </g>\n   <g id=\"patch_16\">\n    <path d=\"M 662.201765 31.4 \nL 924.79 31.4 \n\" style=\"fill:none;stroke:#ffffff;stroke-linecap:square;stroke-linejoin:miter;stroke-width:1.25;\"/>\n   </g>\n   <g id=\"text_40\">\n    <!-- BIC -->\n    <g style=\"fill:#262626;\" transform=\"translate(776.82557 25.4)scale(0.2 -0.2)\">\n     <defs>\n      <path d=\"M 469 0 \nL 469 4581 \nL 2188 4581 \nQ 2713 4581 3030 4442 \nQ 3347 4303 3526 4014 \nQ 3706 3725 3706 3409 \nQ 3706 3116 3547 2856 \nQ 3388 2597 3066 2438 \nQ 3481 2316 3704 2022 \nQ 3928 1728 3928 1328 \nQ 3928 1006 3792 729 \nQ 3656 453 3456 303 \nQ 3256 153 2954 76 \nQ 2653 0 2216 0 \nL 469 0 \nz\nM 1075 2656 \nL 2066 2656 \nQ 2469 2656 2644 2709 \nQ 2875 2778 2992 2937 \nQ 3109 3097 3109 3338 \nQ 3109 3566 3000 3739 \nQ 2891 3913 2687 3977 \nQ 2484 4041 1991 4041 \nL 1075 4041 \nL 1075 2656 \nz\nM 1075 541 \nL 2216 541 \nQ 2509 541 2628 563 \nQ 2838 600 2978 687 \nQ 3119 775 3209 942 \nQ 3300 1109 3300 1328 \nQ 3300 1584 3169 1773 \nQ 3038 1963 2805 2039 \nQ 2572 2116 2134 2116 \nL 1075 2116 \nL 1075 541 \nz\n\" id=\"ArialMT-42\" transform=\"scale(0.015625)\"/>\n      <path d=\"M 597 0 \nL 597 4581 \nL 1203 4581 \nL 1203 0 \nL 597 0 \nz\n\" id=\"ArialMT-49\" transform=\"scale(0.015625)\"/>\n      <path d=\"M 3763 1606 \nL 4369 1453 \nQ 4178 706 3683 314 \nQ 3188 -78 2472 -78 \nQ 1731 -78 1267 223 \nQ 803 525 561 1097 \nQ 319 1669 319 2325 \nQ 319 3041 592 3573 \nQ 866 4106 1370 4382 \nQ 1875 4659 2481 4659 \nQ 3169 4659 3637 4309 \nQ 4106 3959 4291 3325 \nL 3694 3184 \nQ 3534 3684 3231 3912 \nQ 2928 4141 2469 4141 \nQ 1941 4141 1586 3887 \nQ 1231 3634 1087 3207 \nQ 944 2781 944 2328 \nQ 944 1744 1114 1308 \nQ 1284 872 1643 656 \nQ 2003 441 2422 441 \nQ 2931 441 3284 734 \nQ 3638 1028 3763 1606 \nz\n\" id=\"ArialMT-43\" transform=\"scale(0.015625)\"/>\n     </defs>\n     <use xlink:href=\"#ArialMT-42\"/>\n     <use x=\"66.699219\" xlink:href=\"#ArialMT-49\"/>\n     <use x=\"94.482422\" xlink:href=\"#ArialMT-43\"/>\n    </g>\n   </g>\n  </g>\n </g>\n <defs>\n  <clipPath id=\"pd5bee56c34\">\n   <rect height=\"543.6\" width=\"262.588235\" x=\"31.99\" y=\"31.4\"/>\n  </clipPath>\n  <clipPath id=\"pc2145c2954\">\n   <rect height=\"543.6\" width=\"262.588235\" x=\"347.095882\" y=\"31.4\"/>\n  </clipPath>\n  <clipPath id=\"p47f774288b\">\n   <rect height=\"543.6\" width=\"262.588235\" x=\"662.201765\" y=\"31.4\"/>\n  </clipPath>\n </defs>\n</svg>\n",
      "image/png": "[encoded data removed]"
     },
     "metadata": {
      "needs_background": "light"
     }
    }
   ],
   "metadata": {}
  },
  {
   "cell_type": "markdown",
   "source": [
    "The stats above seem to confer that a model with around 8 predictors is best. But has each method chosen the same or similar models"
   ],
   "metadata": {}
  },
  {
   "cell_type": "code",
   "execution_count": 52,
   "source": [
    "best_subset_6 = list(min_rss(model_subsets[5])[1].params.index)[1:]\n",
    "print(best_subset_6)"
   ],
   "outputs": [
    {
     "output_type": "stream",
     "name": "stdout",
     "text": [
      "['AtBat', 'Hits', 'Walks', 'CRuns', 'CWalks', 'PutOuts']\n"
     ]
    }
   ],
   "metadata": {}
  },
  {
   "cell_type": "code",
   "execution_count": 53,
   "source": [
    "list(max_adjr2(model_subsets[5])[1].params.index)[1:]"
   ],
   "outputs": [
    {
     "output_type": "execute_result",
     "data": {
      "text/plain": [
       "['AtBat', 'Hits', 'Walks', 'CRuns', 'CWalks', 'PutOuts']"
      ]
     },
     "metadata": {},
     "execution_count": 53
    }
   ],
   "metadata": {}
  },
  {
   "cell_type": "code",
   "execution_count": 54,
   "source": [
    "list(min_bic(model_subsets[5])[1].params.index)[1:]"
   ],
   "outputs": [
    {
     "output_type": "execute_result",
     "data": {
      "text/plain": [
       "['AtBat', 'Hits', 'Walks', 'CRuns', 'CWalks', 'PutOuts']"
      ]
     },
     "metadata": {},
     "execution_count": 54
    }
   ],
   "metadata": {}
  },
  {
   "cell_type": "markdown",
   "source": [
    "All three statisticis yield the same model for the subset with 6 predictors. This is expected for RSS and R-squared stats because they are related."
   ],
   "metadata": {}
  },
  {
   "cell_type": "markdown",
   "source": [
    "### 6.5.2 Forward and Backward Stepwise Selection"
   ],
   "metadata": {}
  },
  {
   "cell_type": "code",
   "execution_count": 55,
   "source": [
    "def forward_stepwise(X, y, results=[(0, [])]):\n",
    "    # List predictors that havent's been used so far\n",
    "    p_all    = list(X.columns)\n",
    "    p_used   = results[-1][1]\n",
    "    p_unused = [p for p in p_all if p not in p_used]\n",
    "    \n",
    "    # Job done, exit recursion\n",
    "    if not p_unused:\n",
    "        rss   = [r[0] for r in results]\n",
    "        preds = [r[1] for r in results]\n",
    "        return pd.DataFrame({'rss': rss, 'predictors': preds}).drop(0).reset_index()\n",
    "    \n",
    "    # Get rss score for each possible additional predictor\n",
    "    r = []\n",
    "    for p in p_unused:\n",
    "        f     = 'Salary ~ {}'.format('+'.join([p]+p_used))\n",
    "        # Fit model\n",
    "        model = smf.ols(formula=f, data=pd.concat([X, y], axis=1)).fit()\n",
    "        r     += [(model.ssr, [p]+p_used)]\n",
    "    \n",
    "    # Choose predictor which yields lowest rss\n",
    "    min_rss     = sorted(r, key=lambda tup: tup[0])[0]   \n",
    "    new_results = results + [min_rss]\n",
    "    # Recursive call to self\n",
    "    return forward_stepwise(X, y, new_results)"
   ],
   "outputs": [],
   "metadata": {}
  },
  {
   "cell_type": "code",
   "execution_count": 56,
   "source": [
    "def backward_stepwise(X, y, results=[]):\n",
    "    # List predictors that havent's been used so far\n",
    "    p_all    = list(X.columns)\n",
    "\n",
    "    # Check if we're starting out here\n",
    "    if not results:\n",
    "        # Fit model with all features\n",
    "        f     = 'Salary ~ {}'.format('+'.join(p_all))\n",
    "        model = smf.ols(formula=f, data=pd.concat([X, y], axis=1)).fit()\n",
    "        # Begin backward stepwise recursion\n",
    "        return backward_stepwise(X, y, [(model.ssr, p_all)])\n",
    "    else:\n",
    "        p_used = results[-1][1]\n",
    "    \n",
    "    # Job done, exit recursion\n",
    "    if len(p_used) == 1:\n",
    "        rss   = [r[0] for r in results]\n",
    "        preds = [r[1] for r in results]\n",
    "        return pd.DataFrame({'rss': rss, 'predictors': preds})    \n",
    "    \n",
    "    # Get rss score for each possible removed predictor\n",
    "    r = []\n",
    "    for p in p_used:\n",
    "        p_test = [i for i in p_used if i != p]\n",
    "        f     = 'Salary ~ {}'.format('+'.join(p_test))\n",
    "        # Fit model\n",
    "        model = smf.ols(formula=f, data=pd.concat([X, y], axis=1)).fit()\n",
    "        r     += [(model.ssr, p_test)]\n",
    "    \n",
    "    min_rss     = sorted(r, key=lambda tup: tup[0])[0]   \n",
    "    new_results = results + [min_rss]\n",
    "    return backward_stepwise(X, y, new_results)"
   ],
   "outputs": [],
   "metadata": {}
  },
  {
   "cell_type": "code",
   "execution_count": 57,
   "source": [
    "scaler = StandardScaler()\n",
    "X = scaler.fit_transform(hitters.loc[:, 'AtBat':'PutOuts'])\n",
    "X_new = pd.DataFrame(X)\n",
    "X_new.columns = hitters.loc[:, 'AtBat':'PutOuts'].columns\n",
    "y = hitters['Salary']\n",
    "\n",
    "forward_stepwise  = forward_stepwise(X_new, y)\n",
    "print(forward_stepwise)\n",
    "print('-'*30)\n",
    "backward_stepwise = backward_stepwise(X_new, y)\n",
    "print(backward_stepwise)"
   ],
   "outputs": [
    {
     "output_type": "stream",
     "name": "stdout",
     "text": [
      "    index           rss                                         predictors\n",
      "0       1  4.542829e+07                                          [PutOuts]\n",
      "1       2  4.532160e+07                                   [Years, PutOuts]\n",
      "2       3  4.522233e+07                             [CRBI, Years, PutOuts]\n",
      "3       4  4.501844e+07                      [CRuns, CRBI, Years, PutOuts]\n",
      "4       5  4.485676e+07              [CAtBat, CRuns, CRBI, Years, PutOuts]\n",
      "5       6  4.477311e+07       [CHits, CAtBat, CRuns, CRBI, Years, PutOuts]\n",
      "6       7  4.470303e+07  [AtBat, CHits, CAtBat, CRuns, CRBI, Years, Put...\n",
      "7       8  4.426874e+07  [Runs, AtBat, CHits, CAtBat, CRuns, CRBI, Year...\n",
      "8       9  4.416942e+07  [Walks, Runs, AtBat, CHits, CAtBat, CRuns, CRB...\n",
      "9      10  4.411388e+07  [RBI, Walks, Runs, AtBat, CHits, CAtBat, CRuns...\n",
      "10     11  4.409301e+07  [CHmRun, RBI, Walks, Runs, AtBat, CHits, CAtBa...\n",
      "11     12  4.404634e+07  [HmRun, CHmRun, RBI, Walks, Runs, AtBat, CHits...\n",
      "12     13  4.403416e+07  [CWalks, HmRun, CHmRun, RBI, Walks, Runs, AtBa...\n",
      "13     14  4.401455e+07  [Hits, CWalks, HmRun, CHmRun, RBI, Walks, Runs...\n",
      "------------------------------\n",
      "             rss                                         predictors\n",
      "0   4.401455e+07  [AtBat, Hits, HmRun, Runs, RBI, Walks, Years, ...\n",
      "1   4.403319e+07  [AtBat, Hits, HmRun, Runs, RBI, Walks, Years, ...\n",
      "2   4.404850e+07  [AtBat, Hits, HmRun, Runs, RBI, Years, CAtBat,...\n",
      "3   4.411577e+07  [AtBat, HmRun, Runs, RBI, Years, CAtBat, CHits...\n",
      "4   4.420307e+07  [AtBat, Runs, RBI, Years, CAtBat, CHits, CHmRu...\n",
      "5   4.423072e+07  [AtBat, Runs, Years, CAtBat, CHits, CHmRun, CR...\n",
      "6   4.432830e+07  [AtBat, Runs, Years, CAtBat, CHits, CHmRun, CR...\n",
      "7   4.446395e+07  [AtBat, Runs, Years, CAtBat, CHits, CRBI, CWalks]\n",
      "8   4.458186e+07        [AtBat, Runs, Years, CAtBat, CHits, CWalks]\n",
      "9   4.478784e+07               [AtBat, Runs, CAtBat, CHits, CWalks]\n",
      "10  4.503574e+07                       [AtBat, Runs, CAtBat, CHits]\n",
      "11  4.521163e+07                               [AtBat, Runs, CHits]\n",
      "12  4.527554e+07                                      [AtBat, Runs]\n",
      "13  4.548898e+07                                            [AtBat]\n"
     ]
    }
   ],
   "metadata": {}
  },
  {
   "cell_type": "code",
   "execution_count": 58,
   "source": [
    "print('Best Subset Selection       : {}'.format(sorted(best_subset_6)))\n",
    "print('Forward Stepwise Selection  : {}'.format(sorted(forward_stepwise.loc[5]['predictors'])))\n",
    "print('Backward Stepwise Selection : {}'.format(sorted(backward_stepwise.loc[8]['predictors'])))"
   ],
   "outputs": [
    {
     "output_type": "stream",
     "name": "stdout",
     "text": [
      "Best Subset Selection       : ['AtBat', 'CRuns', 'CWalks', 'Hits', 'PutOuts', 'Walks']\n",
      "Forward Stepwise Selection  : ['CAtBat', 'CHits', 'CRBI', 'CRuns', 'PutOuts', 'Years']\n",
      "Backward Stepwise Selection : ['AtBat', 'CAtBat', 'CHits', 'CWalks', 'Runs', 'Years']\n"
     ]
    }
   ],
   "metadata": {}
  },
  {
   "cell_type": "markdown",
   "source": [
    "The above results show that Backward Stepwise Selection chooses the same 6 predictors as Best Subset Selection. Forward Stepwise Selection chooses all but one of the same predictors.\n",
    "\n",
    "Backward Stepwise Selection therefore looks like the best approach as it makes the same optimal selection as best subset selection, but with significantly lower computational cost."
   ],
   "metadata": {}
  },
  {
   "cell_type": "markdown",
   "source": [
    "### 6.5.3 Choosing Among Models Using the Validation Set Approach and Cross-Validation"
   ],
   "metadata": {}
  },
  {
   "cell_type": "code",
   "execution_count": 59,
   "source": [
    "def best_subset_rss(X, y):\n",
    "    model_subsets = []\n",
    "    for k in range(len(X.columns)):\n",
    "        k=k+1\n",
    "        subset = get_models(k, X, y)\n",
    "        model_subsets += [subset]\n",
    "        print('Best subset selected: k = {}/{}, done'.format(k, len(X.columns)))\n",
    "    # Get best rss score for each subset\n",
    "    return [min_rss(m) for m in model_subsets]\n",
    "\n",
    "def mse(y_hat, y):\n",
    "    return np.sum(np.square(y_hat - y)) / y.size"
   ],
   "outputs": [],
   "metadata": {}
  },
  {
   "cell_type": "code",
   "execution_count": 60,
   "source": [
    "np.random.seed(1)\n",
    "train = np.random.rand(len(hitters)) < 0.5\n",
    "\n",
    "response = 'Salary'\n",
    "\n",
    "X_train = hitters[train].loc[:, 'AtBat':'PutOuts']\n",
    "X_test = hitters[~train].loc[:,'AtBat':'PutOuts']\n",
    "y_train =hitters[train][response]\n",
    "y_test =hitters[~train][response]\n",
    "\n",
    "best_subsets = best_subset_rss(X_train, y_train)"
   ],
   "outputs": [
    {
     "output_type": "stream",
     "name": "stdout",
     "text": [
      "Best subset selected: k = 1/14, done\n",
      "Best subset selected: k = 2/14, done\n",
      "Best subset selected: k = 3/14, done\n",
      "Best subset selected: k = 4/14, done\n",
      "Best subset selected: k = 5/14, done\n",
      "Best subset selected: k = 6/14, done\n",
      "Best subset selected: k = 7/14, done\n",
      "Best subset selected: k = 8/14, done\n",
      "Best subset selected: k = 9/14, done\n",
      "Best subset selected: k = 10/14, done\n",
      "Best subset selected: k = 11/14, done\n",
      "Best subset selected: k = 12/14, done\n",
      "Best subset selected: k = 13/14, done\n",
      "Best subset selected: k = 14/14, done\n"
     ]
    }
   ],
   "metadata": {}
  },
  {
   "cell_type": "code",
   "execution_count": 61,
   "source": [
    "# Using 50% hold out set (validation set)\n",
    "MSEs= []\n",
    "for m in best_subsets:\n",
    "    model = m[1]\n",
    "    y_hat = model.predict(X_test)\n",
    "    r =mse(y_hat, y_test)\n",
    "    MSEs += [r]\n",
    "\n",
    "results = pd.DataFrame({'preditors': np.arange(1,15),'MSE':MSEs})\n",
    "display(results)\n",
    "sns.lineplot(x='preditors', y ='MSE', data= results)"
   ],
   "outputs": [
    {
     "output_type": "display_data",
     "data": {
      "text/plain": [
       "    preditors            MSE\n",
       "0           1  178139.358427\n",
       "1           2  165215.400785\n",
       "2           3  170773.977180\n",
       "3           4  154020.720967\n",
       "4           5  147281.971965\n",
       "5           6  148387.589992\n",
       "6           7  149105.946391\n",
       "7           8  138481.274569\n",
       "8           9  133463.544833\n",
       "9          10  134906.763925\n",
       "10         11  135302.429278\n",
       "11         12  135852.565942\n",
       "12         13  136032.669566\n",
       "13         14  136072.224129"
      ],
      "text/html": [
       "<div>\n",
       "<style scoped>\n",
       "    .dataframe tbody tr th:only-of-type {\n",
       "        vertical-align: middle;\n",
       "    }\n",
       "\n",
       "    .dataframe tbody tr th {\n",
       "        vertical-align: top;\n",
       "    }\n",
       "\n",
       "    .dataframe thead th {\n",
       "        text-align: right;\n",
       "    }\n",
       "</style>\n",
       "<table border=\"1\" class=\"dataframe\">\n",
       "  <thead>\n",
       "    <tr style=\"text-align: right;\">\n",
       "      <th></th>\n",
       "      <th>preditors</th>\n",
       "      <th>MSE</th>\n",
       "    </tr>\n",
       "  </thead>\n",
       "  <tbody>\n",
       "    <tr>\n",
       "      <th>0</th>\n",
       "      <td>1</td>\n",
       "      <td>178139.358427</td>\n",
       "    </tr>\n",
       "    <tr>\n",
       "      <th>1</th>\n",
       "      <td>2</td>\n",
       "      <td>165215.400785</td>\n",
       "    </tr>\n",
       "    <tr>\n",
       "      <th>2</th>\n",
       "      <td>3</td>\n",
       "      <td>170773.977180</td>\n",
       "    </tr>\n",
       "    <tr>\n",
       "      <th>3</th>\n",
       "      <td>4</td>\n",
       "      <td>154020.720967</td>\n",
       "    </tr>\n",
       "    <tr>\n",
       "      <th>4</th>\n",
       "      <td>5</td>\n",
       "      <td>147281.971965</td>\n",
       "    </tr>\n",
       "    <tr>\n",
       "      <th>5</th>\n",
       "      <td>6</td>\n",
       "      <td>148387.589992</td>\n",
       "    </tr>\n",
       "    <tr>\n",
       "      <th>6</th>\n",
       "      <td>7</td>\n",
       "      <td>149105.946391</td>\n",
       "    </tr>\n",
       "    <tr>\n",
       "      <th>7</th>\n",
       "      <td>8</td>\n",
       "      <td>138481.274569</td>\n",
       "    </tr>\n",
       "    <tr>\n",
       "      <th>8</th>\n",
       "      <td>9</td>\n",
       "      <td>133463.544833</td>\n",
       "    </tr>\n",
       "    <tr>\n",
       "      <th>9</th>\n",
       "      <td>10</td>\n",
       "      <td>134906.763925</td>\n",
       "    </tr>\n",
       "    <tr>\n",
       "      <th>10</th>\n",
       "      <td>11</td>\n",
       "      <td>135302.429278</td>\n",
       "    </tr>\n",
       "    <tr>\n",
       "      <th>11</th>\n",
       "      <td>12</td>\n",
       "      <td>135852.565942</td>\n",
       "    </tr>\n",
       "    <tr>\n",
       "      <th>12</th>\n",
       "      <td>13</td>\n",
       "      <td>136032.669566</td>\n",
       "    </tr>\n",
       "    <tr>\n",
       "      <th>13</th>\n",
       "      <td>14</td>\n",
       "      <td>136072.224129</td>\n",
       "    </tr>\n",
       "  </tbody>\n",
       "</table>\n",
       "</div>"
      ]
     },
     "metadata": {}
    },
    {
     "output_type": "execute_result",
     "data": {
      "text/plain": [
       "<AxesSubplot:xlabel='preditors', ylabel='MSE'>"
      ]
     },
     "metadata": {},
     "execution_count": 61
    },
    {
     "output_type": "display_data",
     "data": {
      "text/plain": [
       "<Figure size 432x288 with 1 Axes>"
      ],
      "image/svg+xml": "<?xml version=\"1.0\" encoding=\"utf-8\" standalone=\"no\"?>\n<!DOCTYPE svg PUBLIC \"-//W3C//DTD SVG 1.1//EN\"\n  \"http://www.w3.org/Graphics/SVG/1.1/DTD/svg11.dtd\">\n<svg height=\"268.659979pt\" version=\"1.1\" viewBox=\"0 0 410.376562 268.659979\" width=\"410.376562pt\" xmlns=\"http://www.w3.org/2000/svg\" xmlns:xlink=\"http://www.w3.org/1999/xlink\">\n <metadata>\n  <rdf:RDF xmlns:cc=\"http://creativecommons.org/ns#\" xmlns:dc=\"http://purl.org/dc/elements/1.1/\" xmlns:rdf=\"http://www.w3.org/1999/02/22-rdf-syntax-ns#\">\n   <cc:Work>\n    <dc:type rdf:resource=\"http://purl.org/dc/dcmitype/StillImage\"/>\n    <dc:date>2021-08-18T16:15:43.092432</dc:date>\n    <dc:format>image/svg+xml</dc:format>\n    <dc:creator>\n     <cc:Agent>\n      <dc:title>Matplotlib v3.4.2, https://matplotlib.org/</dc:title>\n     </cc:Agent>\n    </dc:creator>\n   </cc:Work>\n  </rdf:RDF>\n </metadata>\n <defs>\n  <style type=\"text/css\">*{stroke-linecap:butt;stroke-linejoin:round;}</style>\n </defs>\n <g id=\"figure_1\">\n  <g id=\"patch_1\">\n   <path d=\"M 0 268.659979 \nL 410.376562 268.659979 \nL 410.376562 0 \nL 0 0 \nz\n\" style=\"fill:none;\"/>\n  </g>\n  <g id=\"axes_1\">\n   <g id=\"patch_2\">\n    <path d=\"M 68.376563 226.92576 \nL 403.176562 226.92576 \nL 403.176562 9.48576 \nL 68.376563 9.48576 \nz\n\" style=\"fill:#eaeaf2;\"/>\n   </g>\n   <g id=\"matplotlib.axis_1\">\n    <g id=\"xtick_1\">\n     <g id=\"line2d_1\">\n      <path clip-path=\"url(#p9c49d003ae)\" d=\"M 107.007332 226.92576 \nL 107.007332 9.48576 \n\" style=\"fill:none;stroke:#ffffff;stroke-linecap:round;\"/>\n     </g>\n     <g id=\"text_1\">\n      <!-- 2 -->\n      <g style=\"fill:#262626;\" transform=\"translate(103.948816 244.299354)scale(0.11 -0.11)\">\n       <defs>\n        <path d=\"M 3222 541 \nL 3222 0 \nL 194 0 \nQ 188 203 259 391 \nQ 375 700 629 1000 \nQ 884 1300 1366 1694 \nQ 2113 2306 2375 2664 \nQ 2638 3022 2638 3341 \nQ 2638 3675 2398 3904 \nQ 2159 4134 1775 4134 \nQ 1369 4134 1125 3890 \nQ 881 3647 878 3216 \nL 300 3275 \nQ 359 3922 746 4261 \nQ 1134 4600 1788 4600 \nQ 2447 4600 2831 4234 \nQ 3216 3869 3216 3328 \nQ 3216 3053 3103 2787 \nQ 2991 2522 2730 2228 \nQ 2469 1934 1863 1422 \nQ 1356 997 1212 845 \nQ 1069 694 975 541 \nL 3222 541 \nz\n\" id=\"ArialMT-32\" transform=\"scale(0.015625)\"/>\n       </defs>\n       <use xlink:href=\"#ArialMT-32\"/>\n      </g>\n     </g>\n    </g>\n    <g id=\"xtick_2\">\n     <g id=\"line2d_2\">\n      <path clip-path=\"url(#p9c49d003ae)\" d=\"M 153.832507 226.92576 \nL 153.832507 9.48576 \n\" style=\"fill:none;stroke:#ffffff;stroke-linecap:round;\"/>\n     </g>\n     <g id=\"text_2\">\n      <!-- 4 -->\n      <g style=\"fill:#262626;\" transform=\"translate(150.773991 244.299354)scale(0.11 -0.11)\">\n       <defs>\n        <path d=\"M 2069 0 \nL 2069 1097 \nL 81 1097 \nL 81 1613 \nL 2172 4581 \nL 2631 4581 \nL 2631 1613 \nL 3250 1613 \nL 3250 1097 \nL 2631 1097 \nL 2631 0 \nL 2069 0 \nz\nM 2069 1613 \nL 2069 3678 \nL 634 1613 \nL 2069 1613 \nz\n\" id=\"ArialMT-34\" transform=\"scale(0.015625)\"/>\n       </defs>\n       <use xlink:href=\"#ArialMT-34\"/>\n      </g>\n     </g>\n    </g>\n    <g id=\"xtick_3\">\n     <g id=\"line2d_3\">\n      <path clip-path=\"url(#p9c49d003ae)\" d=\"M 200.657681 226.92576 \nL 200.657681 9.48576 \n\" style=\"fill:none;stroke:#ffffff;stroke-linecap:round;\"/>\n     </g>\n     <g id=\"text_3\">\n      <!-- 6 -->\n      <g style=\"fill:#262626;\" transform=\"translate(197.599166 244.299354)scale(0.11 -0.11)\">\n       <defs>\n        <path d=\"M 3184 3459 \nL 2625 3416 \nQ 2550 3747 2413 3897 \nQ 2184 4138 1850 4138 \nQ 1581 4138 1378 3988 \nQ 1113 3794 959 3422 \nQ 806 3050 800 2363 \nQ 1003 2672 1297 2822 \nQ 1591 2972 1913 2972 \nQ 2475 2972 2870 2558 \nQ 3266 2144 3266 1488 \nQ 3266 1056 3080 686 \nQ 2894 316 2569 119 \nQ 2244 -78 1831 -78 \nQ 1128 -78 684 439 \nQ 241 956 241 2144 \nQ 241 3472 731 4075 \nQ 1159 4600 1884 4600 \nQ 2425 4600 2770 4297 \nQ 3116 3994 3184 3459 \nz\nM 888 1484 \nQ 888 1194 1011 928 \nQ 1134 663 1356 523 \nQ 1578 384 1822 384 \nQ 2178 384 2434 671 \nQ 2691 959 2691 1453 \nQ 2691 1928 2437 2201 \nQ 2184 2475 1800 2475 \nQ 1419 2475 1153 2201 \nQ 888 1928 888 1484 \nz\n\" id=\"ArialMT-36\" transform=\"scale(0.015625)\"/>\n       </defs>\n       <use xlink:href=\"#ArialMT-36\"/>\n      </g>\n     </g>\n    </g>\n    <g id=\"xtick_4\">\n     <g id=\"line2d_4\">\n      <path clip-path=\"url(#p9c49d003ae)\" d=\"M 247.482856 226.92576 \nL 247.482856 9.48576 \n\" style=\"fill:none;stroke:#ffffff;stroke-linecap:round;\"/>\n     </g>\n     <g id=\"text_4\">\n      <!-- 8 -->\n      <g style=\"fill:#262626;\" transform=\"translate(244.424341 244.299354)scale(0.11 -0.11)\">\n       <defs>\n        <path d=\"M 1131 2484 \nQ 781 2613 612 2850 \nQ 444 3088 444 3419 \nQ 444 3919 803 4259 \nQ 1163 4600 1759 4600 \nQ 2359 4600 2725 4251 \nQ 3091 3903 3091 3403 \nQ 3091 3084 2923 2848 \nQ 2756 2613 2416 2484 \nQ 2838 2347 3058 2040 \nQ 3278 1734 3278 1309 \nQ 3278 722 2862 322 \nQ 2447 -78 1769 -78 \nQ 1091 -78 675 323 \nQ 259 725 259 1325 \nQ 259 1772 486 2073 \nQ 713 2375 1131 2484 \nz\nM 1019 3438 \nQ 1019 3113 1228 2906 \nQ 1438 2700 1772 2700 \nQ 2097 2700 2305 2904 \nQ 2513 3109 2513 3406 \nQ 2513 3716 2298 3927 \nQ 2084 4138 1766 4138 \nQ 1444 4138 1231 3931 \nQ 1019 3725 1019 3438 \nz\nM 838 1322 \nQ 838 1081 952 856 \nQ 1066 631 1291 507 \nQ 1516 384 1775 384 \nQ 2178 384 2440 643 \nQ 2703 903 2703 1303 \nQ 2703 1709 2433 1975 \nQ 2163 2241 1756 2241 \nQ 1359 2241 1098 1978 \nQ 838 1716 838 1322 \nz\n\" id=\"ArialMT-38\" transform=\"scale(0.015625)\"/>\n       </defs>\n       <use xlink:href=\"#ArialMT-38\"/>\n      </g>\n     </g>\n    </g>\n    <g id=\"xtick_5\">\n     <g id=\"line2d_5\">\n      <path clip-path=\"url(#p9c49d003ae)\" d=\"M 294.308031 226.92576 \nL 294.308031 9.48576 \n\" style=\"fill:none;stroke:#ffffff;stroke-linecap:round;\"/>\n     </g>\n     <g id=\"text_5\">\n      <!-- 10 -->\n      <g style=\"fill:#262626;\" transform=\"translate(288.191 244.299354)scale(0.11 -0.11)\">\n       <defs>\n        <path d=\"M 2384 0 \nL 1822 0 \nL 1822 3584 \nQ 1619 3391 1289 3197 \nQ 959 3003 697 2906 \nL 697 3450 \nQ 1169 3672 1522 3987 \nQ 1875 4303 2022 4600 \nL 2384 4600 \nL 2384 0 \nz\n\" id=\"ArialMT-31\" transform=\"scale(0.015625)\"/>\n        <path d=\"M 266 2259 \nQ 266 3072 433 3567 \nQ 600 4063 929 4331 \nQ 1259 4600 1759 4600 \nQ 2128 4600 2406 4451 \nQ 2684 4303 2865 4023 \nQ 3047 3744 3150 3342 \nQ 3253 2941 3253 2259 \nQ 3253 1453 3087 958 \nQ 2922 463 2592 192 \nQ 2263 -78 1759 -78 \nQ 1097 -78 719 397 \nQ 266 969 266 2259 \nz\nM 844 2259 \nQ 844 1131 1108 757 \nQ 1372 384 1759 384 \nQ 2147 384 2411 759 \nQ 2675 1134 2675 2259 \nQ 2675 3391 2411 3762 \nQ 2147 4134 1753 4134 \nQ 1366 4134 1134 3806 \nQ 844 3388 844 2259 \nz\n\" id=\"ArialMT-30\" transform=\"scale(0.015625)\"/>\n       </defs>\n       <use xlink:href=\"#ArialMT-31\"/>\n       <use x=\"55.615234\" xlink:href=\"#ArialMT-30\"/>\n      </g>\n     </g>\n    </g>\n    <g id=\"xtick_6\">\n     <g id=\"line2d_6\">\n      <path clip-path=\"url(#p9c49d003ae)\" d=\"M 341.133206 226.92576 \nL 341.133206 9.48576 \n\" style=\"fill:none;stroke:#ffffff;stroke-linecap:round;\"/>\n     </g>\n     <g id=\"text_6\">\n      <!-- 12 -->\n      <g style=\"fill:#262626;\" transform=\"translate(335.016175 244.299354)scale(0.11 -0.11)\">\n       <use xlink:href=\"#ArialMT-31\"/>\n       <use x=\"55.615234\" xlink:href=\"#ArialMT-32\"/>\n      </g>\n     </g>\n    </g>\n    <g id=\"xtick_7\">\n     <g id=\"line2d_7\">\n      <path clip-path=\"url(#p9c49d003ae)\" d=\"M 387.958381 226.92576 \nL 387.958381 9.48576 \n\" style=\"fill:none;stroke:#ffffff;stroke-linecap:round;\"/>\n     </g>\n     <g id=\"text_7\">\n      <!-- 14 -->\n      <g style=\"fill:#262626;\" transform=\"translate(381.841349 244.299354)scale(0.11 -0.11)\">\n       <use xlink:href=\"#ArialMT-31\"/>\n       <use x=\"55.615234\" xlink:href=\"#ArialMT-34\"/>\n      </g>\n     </g>\n    </g>\n    <g id=\"text_8\">\n     <!-- preditors -->\n     <g style=\"fill:#262626;\" transform=\"translate(212.434687 259.074979)scale(0.12 -0.12)\">\n      <defs>\n       <path d=\"M 422 -1272 \nL 422 3319 \nL 934 3319 \nL 934 2888 \nQ 1116 3141 1344 3267 \nQ 1572 3394 1897 3394 \nQ 2322 3394 2647 3175 \nQ 2972 2956 3137 2557 \nQ 3303 2159 3303 1684 \nQ 3303 1175 3120 767 \nQ 2938 359 2589 142 \nQ 2241 -75 1856 -75 \nQ 1575 -75 1351 44 \nQ 1128 163 984 344 \nL 984 -1272 \nL 422 -1272 \nz\nM 931 1641 \nQ 931 1000 1190 694 \nQ 1450 388 1819 388 \nQ 2194 388 2461 705 \nQ 2728 1022 2728 1688 \nQ 2728 2322 2467 2637 \nQ 2206 2953 1844 2953 \nQ 1484 2953 1207 2617 \nQ 931 2281 931 1641 \nz\n\" id=\"ArialMT-70\" transform=\"scale(0.015625)\"/>\n       <path d=\"M 416 0 \nL 416 3319 \nL 922 3319 \nL 922 2816 \nQ 1116 3169 1280 3281 \nQ 1444 3394 1641 3394 \nQ 1925 3394 2219 3213 \nL 2025 2691 \nQ 1819 2813 1613 2813 \nQ 1428 2813 1281 2702 \nQ 1134 2591 1072 2394 \nQ 978 2094 978 1738 \nL 978 0 \nL 416 0 \nz\n\" id=\"ArialMT-72\" transform=\"scale(0.015625)\"/>\n       <path d=\"M 2694 1069 \nL 3275 997 \nQ 3138 488 2766 206 \nQ 2394 -75 1816 -75 \nQ 1088 -75 661 373 \nQ 234 822 234 1631 \nQ 234 2469 665 2931 \nQ 1097 3394 1784 3394 \nQ 2450 3394 2872 2941 \nQ 3294 2488 3294 1666 \nQ 3294 1616 3291 1516 \nL 816 1516 \nQ 847 969 1125 678 \nQ 1403 388 1819 388 \nQ 2128 388 2347 550 \nQ 2566 713 2694 1069 \nz\nM 847 1978 \nL 2700 1978 \nQ 2663 2397 2488 2606 \nQ 2219 2931 1791 2931 \nQ 1403 2931 1139 2672 \nQ 875 2413 847 1978 \nz\n\" id=\"ArialMT-65\" transform=\"scale(0.015625)\"/>\n       <path d=\"M 2575 0 \nL 2575 419 \nQ 2259 -75 1647 -75 \nQ 1250 -75 917 144 \nQ 584 363 401 755 \nQ 219 1147 219 1656 \nQ 219 2153 384 2558 \nQ 550 2963 881 3178 \nQ 1213 3394 1622 3394 \nQ 1922 3394 2156 3267 \nQ 2391 3141 2538 2938 \nL 2538 4581 \nL 3097 4581 \nL 3097 0 \nL 2575 0 \nz\nM 797 1656 \nQ 797 1019 1065 703 \nQ 1334 388 1700 388 \nQ 2069 388 2326 689 \nQ 2584 991 2584 1609 \nQ 2584 2291 2321 2609 \nQ 2059 2928 1675 2928 \nQ 1300 2928 1048 2622 \nQ 797 2316 797 1656 \nz\n\" id=\"ArialMT-64\" transform=\"scale(0.015625)\"/>\n       <path d=\"M 425 3934 \nL 425 4581 \nL 988 4581 \nL 988 3934 \nL 425 3934 \nz\nM 425 0 \nL 425 3319 \nL 988 3319 \nL 988 0 \nL 425 0 \nz\n\" id=\"ArialMT-69\" transform=\"scale(0.015625)\"/>\n       <path d=\"M 1650 503 \nL 1731 6 \nQ 1494 -44 1306 -44 \nQ 1000 -44 831 53 \nQ 663 150 594 308 \nQ 525 466 525 972 \nL 525 2881 \nL 113 2881 \nL 113 3319 \nL 525 3319 \nL 525 4141 \nL 1084 4478 \nL 1084 3319 \nL 1650 3319 \nL 1650 2881 \nL 1084 2881 \nL 1084 941 \nQ 1084 700 1114 631 \nQ 1144 563 1211 522 \nQ 1278 481 1403 481 \nQ 1497 481 1650 503 \nz\n\" id=\"ArialMT-74\" transform=\"scale(0.015625)\"/>\n       <path d=\"M 213 1659 \nQ 213 2581 725 3025 \nQ 1153 3394 1769 3394 \nQ 2453 3394 2887 2945 \nQ 3322 2497 3322 1706 \nQ 3322 1066 3130 698 \nQ 2938 331 2570 128 \nQ 2203 -75 1769 -75 \nQ 1072 -75 642 372 \nQ 213 819 213 1659 \nz\nM 791 1659 \nQ 791 1022 1069 705 \nQ 1347 388 1769 388 \nQ 2188 388 2466 706 \nQ 2744 1025 2744 1678 \nQ 2744 2294 2464 2611 \nQ 2184 2928 1769 2928 \nQ 1347 2928 1069 2612 \nQ 791 2297 791 1659 \nz\n\" id=\"ArialMT-6f\" transform=\"scale(0.015625)\"/>\n       <path d=\"M 197 991 \nL 753 1078 \nQ 800 744 1014 566 \nQ 1228 388 1613 388 \nQ 2000 388 2187 545 \nQ 2375 703 2375 916 \nQ 2375 1106 2209 1216 \nQ 2094 1291 1634 1406 \nQ 1016 1563 777 1677 \nQ 538 1791 414 1992 \nQ 291 2194 291 2438 \nQ 291 2659 392 2848 \nQ 494 3038 669 3163 \nQ 800 3259 1026 3326 \nQ 1253 3394 1513 3394 \nQ 1903 3394 2198 3281 \nQ 2494 3169 2634 2976 \nQ 2775 2784 2828 2463 \nL 2278 2388 \nQ 2241 2644 2061 2787 \nQ 1881 2931 1553 2931 \nQ 1166 2931 1000 2803 \nQ 834 2675 834 2503 \nQ 834 2394 903 2306 \nQ 972 2216 1119 2156 \nQ 1203 2125 1616 2013 \nQ 2213 1853 2448 1751 \nQ 2684 1650 2818 1456 \nQ 2953 1263 2953 975 \nQ 2953 694 2789 445 \nQ 2625 197 2315 61 \nQ 2006 -75 1616 -75 \nQ 969 -75 630 194 \nQ 291 463 197 991 \nz\n\" id=\"ArialMT-73\" transform=\"scale(0.015625)\"/>\n      </defs>\n      <use xlink:href=\"#ArialMT-70\"/>\n      <use x=\"55.615234\" xlink:href=\"#ArialMT-72\"/>\n      <use x=\"88.916016\" xlink:href=\"#ArialMT-65\"/>\n      <use x=\"144.53125\" xlink:href=\"#ArialMT-64\"/>\n      <use x=\"200.146484\" xlink:href=\"#ArialMT-69\"/>\n      <use x=\"222.363281\" xlink:href=\"#ArialMT-74\"/>\n      <use x=\"250.146484\" xlink:href=\"#ArialMT-6f\"/>\n      <use x=\"305.761719\" xlink:href=\"#ArialMT-72\"/>\n      <use x=\"339.0625\" xlink:href=\"#ArialMT-73\"/>\n     </g>\n    </g>\n   </g>\n   <g id=\"matplotlib.axis_2\">\n    <g id=\"ytick_1\">\n     <g id=\"line2d_8\">\n      <path clip-path=\"url(#p9c49d003ae)\" d=\"M 68.376563 188.120907 \nL 403.176562 188.120907 \n\" style=\"fill:none;stroke:#ffffff;stroke-linecap:round;\"/>\n     </g>\n     <g id=\"text_9\">\n      <!-- 140000 -->\n      <g style=\"fill:#262626;\" transform=\"translate(22.174375 192.057703)scale(0.11 -0.11)\">\n       <use xlink:href=\"#ArialMT-31\"/>\n       <use x=\"55.615234\" xlink:href=\"#ArialMT-34\"/>\n       <use x=\"111.230469\" xlink:href=\"#ArialMT-30\"/>\n       <use x=\"166.845703\" xlink:href=\"#ArialMT-30\"/>\n       <use x=\"222.460938\" xlink:href=\"#ArialMT-30\"/>\n       <use x=\"278.076172\" xlink:href=\"#ArialMT-30\"/>\n      </g>\n     </g>\n    </g>\n    <g id=\"ytick_2\">\n     <g id=\"line2d_9\">\n      <path clip-path=\"url(#p9c49d003ae)\" d=\"M 68.376563 143.874879 \nL 403.176562 143.874879 \n\" style=\"fill:none;stroke:#ffffff;stroke-linecap:round;\"/>\n     </g>\n     <g id=\"text_10\">\n      <!-- 150000 -->\n      <g style=\"fill:#262626;\" transform=\"translate(22.174375 147.811676)scale(0.11 -0.11)\">\n       <defs>\n        <path d=\"M 266 1200 \nL 856 1250 \nQ 922 819 1161 601 \nQ 1400 384 1738 384 \nQ 2144 384 2425 690 \nQ 2706 997 2706 1503 \nQ 2706 1984 2436 2262 \nQ 2166 2541 1728 2541 \nQ 1456 2541 1237 2417 \nQ 1019 2294 894 2097 \nL 366 2166 \nL 809 4519 \nL 3088 4519 \nL 3088 3981 \nL 1259 3981 \nL 1013 2750 \nQ 1425 3038 1878 3038 \nQ 2478 3038 2890 2622 \nQ 3303 2206 3303 1553 \nQ 3303 931 2941 478 \nQ 2500 -78 1738 -78 \nQ 1113 -78 717 272 \nQ 322 622 266 1200 \nz\n\" id=\"ArialMT-35\" transform=\"scale(0.015625)\"/>\n       </defs>\n       <use xlink:href=\"#ArialMT-31\"/>\n       <use x=\"55.615234\" xlink:href=\"#ArialMT-35\"/>\n       <use x=\"111.230469\" xlink:href=\"#ArialMT-30\"/>\n       <use x=\"166.845703\" xlink:href=\"#ArialMT-30\"/>\n       <use x=\"222.460938\" xlink:href=\"#ArialMT-30\"/>\n       <use x=\"278.076172\" xlink:href=\"#ArialMT-30\"/>\n      </g>\n     </g>\n    </g>\n    <g id=\"ytick_3\">\n     <g id=\"line2d_10\">\n      <path clip-path=\"url(#p9c49d003ae)\" d=\"M 68.376563 99.628852 \nL 403.176562 99.628852 \n\" style=\"fill:none;stroke:#ffffff;stroke-linecap:round;\"/>\n     </g>\n     <g id=\"text_11\">\n      <!-- 160000 -->\n      <g style=\"fill:#262626;\" transform=\"translate(22.174375 103.565649)scale(0.11 -0.11)\">\n       <use xlink:href=\"#ArialMT-31\"/>\n       <use x=\"55.615234\" xlink:href=\"#ArialMT-36\"/>\n       <use x=\"111.230469\" xlink:href=\"#ArialMT-30\"/>\n       <use x=\"166.845703\" xlink:href=\"#ArialMT-30\"/>\n       <use x=\"222.460938\" xlink:href=\"#ArialMT-30\"/>\n       <use x=\"278.076172\" xlink:href=\"#ArialMT-30\"/>\n      </g>\n     </g>\n    </g>\n    <g id=\"ytick_4\">\n     <g id=\"line2d_11\">\n      <path clip-path=\"url(#p9c49d003ae)\" d=\"M 68.376563 55.382824 \nL 403.176562 55.382824 \n\" style=\"fill:none;stroke:#ffffff;stroke-linecap:round;\"/>\n     </g>\n     <g id=\"text_12\">\n      <!-- 170000 -->\n      <g style=\"fill:#262626;\" transform=\"translate(22.174375 59.319621)scale(0.11 -0.11)\">\n       <defs>\n        <path d=\"M 303 3981 \nL 303 4522 \nL 3269 4522 \nL 3269 4084 \nQ 2831 3619 2401 2847 \nQ 1972 2075 1738 1259 \nQ 1569 684 1522 0 \nL 944 0 \nQ 953 541 1156 1306 \nQ 1359 2072 1739 2783 \nQ 2119 3494 2547 3981 \nL 303 3981 \nz\n\" id=\"ArialMT-37\" transform=\"scale(0.015625)\"/>\n       </defs>\n       <use xlink:href=\"#ArialMT-31\"/>\n       <use x=\"55.615234\" xlink:href=\"#ArialMT-37\"/>\n       <use x=\"111.230469\" xlink:href=\"#ArialMT-30\"/>\n       <use x=\"166.845703\" xlink:href=\"#ArialMT-30\"/>\n       <use x=\"222.460938\" xlink:href=\"#ArialMT-30\"/>\n       <use x=\"278.076172\" xlink:href=\"#ArialMT-30\"/>\n      </g>\n     </g>\n    </g>\n    <g id=\"ytick_5\">\n     <g id=\"line2d_12\">\n      <path clip-path=\"url(#p9c49d003ae)\" d=\"M 68.376563 11.136797 \nL 403.176562 11.136797 \n\" style=\"fill:none;stroke:#ffffff;stroke-linecap:round;\"/>\n     </g>\n     <g id=\"text_13\">\n      <!-- 180000 -->\n      <g style=\"fill:#262626;\" transform=\"translate(22.174375 15.073594)scale(0.11 -0.11)\">\n       <use xlink:href=\"#ArialMT-31\"/>\n       <use x=\"55.615234\" xlink:href=\"#ArialMT-38\"/>\n       <use x=\"111.230469\" xlink:href=\"#ArialMT-30\"/>\n       <use x=\"166.845703\" xlink:href=\"#ArialMT-30\"/>\n       <use x=\"222.460938\" xlink:href=\"#ArialMT-30\"/>\n       <use x=\"278.076172\" xlink:href=\"#ArialMT-30\"/>\n      </g>\n     </g>\n    </g>\n    <g id=\"text_14\">\n     <!-- MSE -->\n     <g style=\"fill:#262626;\" transform=\"translate(15.789375 131.207948)rotate(-90)scale(0.12 -0.12)\">\n      <defs>\n       <path d=\"M 475 0 \nL 475 4581 \nL 1388 4581 \nL 2472 1338 \nQ 2622 884 2691 659 \nQ 2769 909 2934 1394 \nL 4031 4581 \nL 4847 4581 \nL 4847 0 \nL 4263 0 \nL 4263 3834 \nL 2931 0 \nL 2384 0 \nL 1059 3900 \nL 1059 0 \nL 475 0 \nz\n\" id=\"ArialMT-4d\" transform=\"scale(0.015625)\"/>\n       <path d=\"M 288 1472 \nL 859 1522 \nQ 900 1178 1048 958 \nQ 1197 738 1509 602 \nQ 1822 466 2213 466 \nQ 2559 466 2825 569 \nQ 3091 672 3220 851 \nQ 3350 1031 3350 1244 \nQ 3350 1459 3225 1620 \nQ 3100 1781 2813 1891 \nQ 2628 1963 1997 2114 \nQ 1366 2266 1113 2400 \nQ 784 2572 623 2826 \nQ 463 3081 463 3397 \nQ 463 3744 659 4045 \nQ 856 4347 1234 4503 \nQ 1613 4659 2075 4659 \nQ 2584 4659 2973 4495 \nQ 3363 4331 3572 4012 \nQ 3781 3694 3797 3291 \nL 3216 3247 \nQ 3169 3681 2898 3903 \nQ 2628 4125 2100 4125 \nQ 1550 4125 1298 3923 \nQ 1047 3722 1047 3438 \nQ 1047 3191 1225 3031 \nQ 1400 2872 2139 2705 \nQ 2878 2538 3153 2413 \nQ 3553 2228 3743 1945 \nQ 3934 1663 3934 1294 \nQ 3934 928 3725 604 \nQ 3516 281 3123 101 \nQ 2731 -78 2241 -78 \nQ 1619 -78 1198 103 \nQ 778 284 539 648 \nQ 300 1013 288 1472 \nz\n\" id=\"ArialMT-53\" transform=\"scale(0.015625)\"/>\n       <path d=\"M 506 0 \nL 506 4581 \nL 3819 4581 \nL 3819 4041 \nL 1113 4041 \nL 1113 2638 \nL 3647 2638 \nL 3647 2100 \nL 1113 2100 \nL 1113 541 \nL 3925 541 \nL 3925 0 \nL 506 0 \nz\n\" id=\"ArialMT-45\" transform=\"scale(0.015625)\"/>\n      </defs>\n      <use xlink:href=\"#ArialMT-4d\"/>\n      <use x=\"83.300781\" xlink:href=\"#ArialMT-53\"/>\n      <use x=\"150\" xlink:href=\"#ArialMT-45\"/>\n     </g>\n    </g>\n   </g>\n   <g id=\"line2d_13\">\n    <path clip-path=\"url(#p9c49d003ae)\" d=\"M 83.594744 19.369397 \nL 107.007332 76.552775 \nL 130.419919 51.958283 \nL 153.832507 126.084786 \nL 177.245094 155.901073 \nL 200.657681 151.009153 \nL 224.070269 147.830711 \nL 247.482856 194.840663 \nL 270.895444 217.042124 \nL 294.308031 210.656453 \nL 317.720618 208.905791 \nL 341.133206 206.471655 \nL 364.545793 205.674768 \nL 387.958381 205.499754 \n\" style=\"fill:none;stroke:#4c72b0;stroke-linecap:round;stroke-width:1.5;\"/>\n   </g>\n   <g id=\"patch_3\">\n    <path d=\"M 68.376563 226.92576 \nL 68.376563 9.48576 \n\" style=\"fill:none;stroke:#ffffff;stroke-linecap:square;stroke-linejoin:miter;stroke-width:1.25;\"/>\n   </g>\n   <g id=\"patch_4\">\n    <path d=\"M 403.176562 226.92576 \nL 403.176562 9.48576 \n\" style=\"fill:none;stroke:#ffffff;stroke-linecap:square;stroke-linejoin:miter;stroke-width:1.25;\"/>\n   </g>\n   <g id=\"patch_5\">\n    <path d=\"M 68.376563 226.92576 \nL 403.176562 226.92576 \n\" style=\"fill:none;stroke:#ffffff;stroke-linecap:square;stroke-linejoin:miter;stroke-width:1.25;\"/>\n   </g>\n   <g id=\"patch_6\">\n    <path d=\"M 68.376563 9.48576 \nL 403.176562 9.48576 \n\" style=\"fill:none;stroke:#ffffff;stroke-linecap:square;stroke-linejoin:miter;stroke-width:1.25;\"/>\n   </g>\n  </g>\n </g>\n <defs>\n  <clipPath id=\"p9c49d003ae\">\n   <rect height=\"217.44\" width=\"334.8\" x=\"68.376563\" y=\"9.48576\"/>\n  </clipPath>\n </defs>\n</svg>\n",
      "image/png": "[encoded data removed]"
     },
     "metadata": {
      "needs_background": "light"
     }
    }
   ],
   "metadata": {}
  },
  {
   "cell_type": "markdown",
   "source": [
    "Above we performed best subset selection up to 14 predictors using the training set createad from a 50% hold-out set. We then use the test set to measure the MSE for the selected model in each subset of p predictors. \n",
    "\n",
    "We observe the lowest MSE for the model with 9 predictors."
   ],
   "metadata": {}
  },
  {
   "cell_type": "code",
   "execution_count": 62,
   "source": [
    "# Which 9 predictors did best subset selection choose based on the TRAINING set?\n",
    "best_subsets[8][0]"
   ],
   "outputs": [
    {
     "output_type": "execute_result",
     "data": {
      "text/plain": [
       "'Salary ~ AtBat + Hits + HmRun + Walks + CAtBat + CRuns + CRBI + CWalks + PutOuts'"
      ]
     },
     "metadata": {},
     "execution_count": 62
    }
   ],
   "metadata": {}
  },
  {
   "cell_type": "code",
   "execution_count": 63,
   "source": [
    "# Which 9 predictors does best subset selection choose based on the FULL set?\n",
    "best_subsets_full = best_subset_rss(hitters.loc[:, 'AtBat':'PutOuts'],hitters['Salary'])\n",
    "best_subsets_full =[8][0]"
   ],
   "outputs": [
    {
     "output_type": "stream",
     "name": "stdout",
     "text": [
      "Best subset selected: k = 1/14, done\n",
      "Best subset selected: k = 2/14, done\n",
      "Best subset selected: k = 3/14, done\n",
      "Best subset selected: k = 4/14, done\n",
      "Best subset selected: k = 5/14, done\n",
      "Best subset selected: k = 6/14, done\n",
      "Best subset selected: k = 7/14, done\n",
      "Best subset selected: k = 8/14, done\n",
      "Best subset selected: k = 9/14, done\n",
      "Best subset selected: k = 10/14, done\n",
      "Best subset selected: k = 11/14, done\n",
      "Best subset selected: k = 12/14, done\n",
      "Best subset selected: k = 13/14, done\n",
      "Best subset selected: k = 14/14, done\n"
     ]
    }
   ],
   "metadata": {}
  },
  {
   "cell_type": "markdown",
   "source": [
    "This time the same model is selected using the full dataset, as is selected using just the training set. This won't always be the case however, so the ISL authors reccomend taking the model that best subset selection chooses using the full dataset.\n",
    "\n",
    "**Revision note:** My understanind of what the authors seem to be suggesting is:\n",
    "\n",
    "- fit all possible models on training set\n",
    "- choose best model in each subset by RSS\n",
    "- use test MSE to choose best subset, e.g optimal number of predictors *p*\n",
    "- fit all possible models with optimal value of p predictors on *full* dataset\n",
    "- choose best model by RSS\n",
    "\n",
    "This seems odd to me because the model finaly chosen has not been verified on the test set. If the actual predictors are to be chosen on the full set, why not pass this model through validation? Note that this does not mean the model fitted on full dataset is then used in test:\n",
    "\n",
    "- fit all possible models on full dataset\n",
    "- choose best combination of predictors in each subset by RSS\n",
    "- use above choices to fit models on training set\n",
    "- use test MSE to choose best subset\n",
    "- model with lowest MSE is chosen\n",
    "\n",
    "This approach also seems to simplify use of best subset selection with cross-validation:\n",
    "\n",
    "- fit all possible models on full dataset\n",
    "- choose best combination of predictors in each subset by RSS\n",
    "- choose from above predictor subsets using cross validation"
   ],
   "metadata": {}
  },
  {
   "cell_type": "code",
   "execution_count": 64,
   "source": [
    "def cross_val(fromula, X, y, k):\n",
    "    # Split dataset into k folds:\n",
    "    # Note: np.array_split dose not raise exception is folds folds are unequal in size.\n",
    "    X_folds = np.array_split(X, k)\n",
    "    y_folds = np.array_split(y,k)\n",
    "\n",
    "    MSEs = []\n",
    "    for f in np.arange(len(X_folds)):\n",
    "        # Create training and test sets\n",
    "        X_test = X_folds[f]\n",
    "        y_test = y_folds[f]\n",
    "        X_train = X.drop(X_folds[f].index)\n",
    "        y_train = y.drop(y_folds[f].index)\n",
    "        # Fit model\n",
    "        model = smf.ols(formula=formula, data=pd.concat([X_train, y_train], axis=1)).fit()\n",
    "        \n",
    "        # Measure MSE\n",
    "        y_hat = model.predict(X_test)\n",
    "        MSEs += [mse[y_hat, y_test]]\n",
    "    return (MSEs, formula)"
   ],
   "outputs": [],
   "metadata": {}
  },
  {
   "cell_type": "code",
   "execution_count": 65,
   "source": [
    "# Get best subsets of predictors for full dataset\n",
    "X = hitters.loc[:, 'AtBat':'PutOuts']\n",
    "y = hitters['Salary']\n",
    "\n",
    "best_subsets_full = best_subset_rss(X,y)\n",
    "\n"
   ],
   "outputs": [
    {
     "output_type": "stream",
     "name": "stdout",
     "text": [
      "Best subset selected: k = 1/14, done\n",
      "Best subset selected: k = 2/14, done\n",
      "Best subset selected: k = 3/14, done\n",
      "Best subset selected: k = 4/14, done\n",
      "Best subset selected: k = 5/14, done\n",
      "Best subset selected: k = 6/14, done\n",
      "Best subset selected: k = 7/14, done\n",
      "Best subset selected: k = 8/14, done\n",
      "Best subset selected: k = 9/14, done\n",
      "Best subset selected: k = 10/14, done\n",
      "Best subset selected: k = 11/14, done\n",
      "Best subset selected: k = 12/14, done\n",
      "Best subset selected: k = 13/14, done\n",
      "Best subset selected: k = 14/14, done\n"
     ]
    }
   ],
   "metadata": {}
  },
  {
   "cell_type": "code",
   "execution_count": 66,
   "source": [
    "# Perform cross validation for each subset of predictor\n",
    "restuls = []\n",
    "\n",
    "for sub in best_subsets_full:\n",
    "    results += [cross_val(sub[0],X,y,10)]\n",
    "\n",
    "results_a_df = pd.DataFrame({'preditors': list(np.arange(1,15)),\n",
    "                                                    'MSE_mean':[np.mean(i[0]) for i in results],\n",
    "                                                    'MSE_folds': [i[0] for i in results],\n",
    "                                                    'Model': [i[1] for i in results]}\n",
    ")\n",
    "display(results_a_df)\n",
    "sns.lineplot(x='preditors',y='MSE_mean',data=results_a_df)\n"
   ],
   "outputs": [
    {
     "output_type": "error",
     "ename": "NameError",
     "evalue": "name 'formula' is not defined",
     "traceback": [
      "\u001b[0;31m---------------------------------------------------------------------------\u001b[0m",
      "\u001b[0;31mNameError\u001b[0m                                 Traceback (most recent call last)",
      "\u001b[0;32m/var/folders/1q/m8l_wvxd5dl8kccgv4xrsxtr0000gn/T/ipykernel_1925/958325025.py\u001b[0m in \u001b[0;36m<module>\u001b[0;34m\u001b[0m\n\u001b[1;32m      3\u001b[0m \u001b[0;34m\u001b[0m\u001b[0m\n\u001b[1;32m      4\u001b[0m \u001b[0;32mfor\u001b[0m \u001b[0msub\u001b[0m \u001b[0;32min\u001b[0m \u001b[0mbest_subsets_full\u001b[0m\u001b[0;34m:\u001b[0m\u001b[0;34m\u001b[0m\u001b[0;34m\u001b[0m\u001b[0m\n\u001b[0;32m----> 5\u001b[0;31m     \u001b[0mresults\u001b[0m \u001b[0;34m+=\u001b[0m \u001b[0;34m[\u001b[0m\u001b[0mcross_val\u001b[0m\u001b[0;34m(\u001b[0m\u001b[0msub\u001b[0m\u001b[0;34m[\u001b[0m\u001b[0;36m0\u001b[0m\u001b[0;34m]\u001b[0m\u001b[0;34m,\u001b[0m\u001b[0mX\u001b[0m\u001b[0;34m,\u001b[0m\u001b[0my\u001b[0m\u001b[0;34m,\u001b[0m\u001b[0;36m10\u001b[0m\u001b[0;34m)\u001b[0m\u001b[0;34m]\u001b[0m\u001b[0;34m\u001b[0m\u001b[0;34m\u001b[0m\u001b[0m\n\u001b[0m\u001b[1;32m      6\u001b[0m \u001b[0;34m\u001b[0m\u001b[0m\n\u001b[1;32m      7\u001b[0m results_a_df = pd.DataFrame({'preditors': list(np.arange(1,15)),\n",
      "\u001b[0;32m/var/folders/1q/m8l_wvxd5dl8kccgv4xrsxtr0000gn/T/ipykernel_1925/147474614.py\u001b[0m in \u001b[0;36mcross_val\u001b[0;34m(fromula, X, y, k)\u001b[0m\n\u001b[1;32m     13\u001b[0m         \u001b[0my_train\u001b[0m \u001b[0;34m=\u001b[0m \u001b[0my\u001b[0m\u001b[0;34m.\u001b[0m\u001b[0mdrop\u001b[0m\u001b[0;34m(\u001b[0m\u001b[0my_folds\u001b[0m\u001b[0;34m[\u001b[0m\u001b[0mf\u001b[0m\u001b[0;34m]\u001b[0m\u001b[0;34m.\u001b[0m\u001b[0mindex\u001b[0m\u001b[0;34m)\u001b[0m\u001b[0;34m\u001b[0m\u001b[0;34m\u001b[0m\u001b[0m\n\u001b[1;32m     14\u001b[0m         \u001b[0;31m# Fit model\u001b[0m\u001b[0;34m\u001b[0m\u001b[0;34m\u001b[0m\u001b[0;34m\u001b[0m\u001b[0m\n\u001b[0;32m---> 15\u001b[0;31m         \u001b[0mmodel\u001b[0m \u001b[0;34m=\u001b[0m \u001b[0msmf\u001b[0m\u001b[0;34m.\u001b[0m\u001b[0mols\u001b[0m\u001b[0;34m(\u001b[0m\u001b[0mformula\u001b[0m\u001b[0;34m=\u001b[0m\u001b[0mformula\u001b[0m\u001b[0;34m,\u001b[0m \u001b[0mdata\u001b[0m\u001b[0;34m=\u001b[0m\u001b[0mpd\u001b[0m\u001b[0;34m.\u001b[0m\u001b[0mconcat\u001b[0m\u001b[0;34m(\u001b[0m\u001b[0;34m[\u001b[0m\u001b[0mX_train\u001b[0m\u001b[0;34m,\u001b[0m \u001b[0my_train\u001b[0m\u001b[0;34m]\u001b[0m\u001b[0;34m,\u001b[0m \u001b[0maxis\u001b[0m\u001b[0;34m=\u001b[0m\u001b[0;36m1\u001b[0m\u001b[0;34m)\u001b[0m\u001b[0;34m)\u001b[0m\u001b[0;34m.\u001b[0m\u001b[0mfit\u001b[0m\u001b[0;34m(\u001b[0m\u001b[0;34m)\u001b[0m\u001b[0;34m\u001b[0m\u001b[0;34m\u001b[0m\u001b[0m\n\u001b[0m\u001b[1;32m     16\u001b[0m \u001b[0;34m\u001b[0m\u001b[0m\n\u001b[1;32m     17\u001b[0m         \u001b[0;31m# Measure MSE\u001b[0m\u001b[0;34m\u001b[0m\u001b[0;34m\u001b[0m\u001b[0;34m\u001b[0m\u001b[0m\n",
      "\u001b[0;31mNameError\u001b[0m: name 'formula' is not defined"
     ]
    }
   ],
   "metadata": {}
  },
  {
   "cell_type": "code",
   "execution_count": null,
   "source": [],
   "outputs": [],
   "metadata": {}
  },
  {
   "cell_type": "code",
   "execution_count": 90,
   "source": [
    "# Error, test later"
   ],
   "outputs": [],
   "metadata": {}
  },
  {
   "cell_type": "code",
   "execution_count": null,
   "source": [],
   "outputs": [],
   "metadata": {}
  },
  {
   "cell_type": "markdown",
   "source": [],
   "metadata": {}
  },
  {
   "cell_type": "markdown",
   "source": [
    "## 6.5.2 Ridge Regression and the Lasso\n",
    "[JWarmenhoven version](https://nbviewer.jupyter.org/github/JWarmenhoven/ISLR-python/blob/master/Notebooks/Chapter%206.ipynb#6.6.1-Ridge-Regression)"
   ],
   "metadata": {}
  },
  {
   "cell_type": "code",
   "execution_count": 93,
   "source": [
    "\n",
    "# %load ../standard_import.txt\n",
    "import pandas as pd\n",
    "import numpy as np\n",
    "import matplotlib.pyplot as plt\n",
    "import seaborn as sns\n",
    "\n",
    "import glmnet as gln\n",
    "\n",
    "from sklearn.preprocessing import scale \n",
    "from sklearn import model_selection\n",
    "from sklearn.linear_model import LinearRegression, Ridge, RidgeCV, Lasso, LassoCV\n",
    "\n",
    "from sklearn.decomposition import PCA\n",
    "from sklearn.cross_decomposition import PLSRegression\n",
    "\n",
    "from sklearn.model_selection import KFold, cross_val_score\n",
    "from sklearn.metrics import mean_squared_error\n",
    "\n",
    "%matplotlib inline\n",
    "plt.style.use('seaborn-white')"
   ],
   "outputs": [],
   "metadata": {}
  },
  {
   "cell_type": "code",
   "execution_count": 97,
   "source": [
    "df = pd.read_csv('../data/Hitters.csv', index_col=0).dropna()\n",
    "df.index.name ='Player'\n",
    "df.info()\n",
    "df.head()"
   ],
   "outputs": [
    {
     "output_type": "stream",
     "name": "stdout",
     "text": [
      "<class 'pandas.core.frame.DataFrame'>\n",
      "Int64Index: 263 entries, 315 to 631\n",
      "Data columns (total 19 columns):\n",
      " #   Column     Non-Null Count  Dtype  \n",
      "---  ------     --------------  -----  \n",
      " 0   Hits       263 non-null    int64  \n",
      " 1   HmRun      263 non-null    int64  \n",
      " 2   Runs       263 non-null    int64  \n",
      " 3   RBI        263 non-null    int64  \n",
      " 4   Walks      263 non-null    int64  \n",
      " 5   Years      263 non-null    int64  \n",
      " 6   CAtBat     263 non-null    int64  \n",
      " 7   CHits      263 non-null    int64  \n",
      " 8   CHmRun     263 non-null    int64  \n",
      " 9   CRuns      263 non-null    int64  \n",
      " 10  CRBI       263 non-null    int64  \n",
      " 11  CWalks     263 non-null    int64  \n",
      " 12  League     263 non-null    object \n",
      " 13  Division   263 non-null    object \n",
      " 14  PutOuts    263 non-null    int64  \n",
      " 15  Assists    263 non-null    int64  \n",
      " 16  Errors     263 non-null    int64  \n",
      " 17  Salary     263 non-null    float64\n",
      " 18  NewLeague  263 non-null    object \n",
      "dtypes: float64(1), int64(15), object(3)\n",
      "memory usage: 41.1+ KB\n"
     ]
    },
    {
     "output_type": "execute_result",
     "data": {
      "text/plain": [
       "        Hits  HmRun  Runs  RBI  Walks  Years  CAtBat  CHits  CHmRun  CRuns  \\\n",
       "Player                                                                       \n",
       "315       81      7    24   38     39     14    3449    835      69    321   \n",
       "479      130     18    66   72     76      3    1624    457      63    224   \n",
       "496      141     20    65   78     37     11    5628   1575     225    828   \n",
       "321       87     10    39   42     30      2     396    101      12     48   \n",
       "594      169      4    74   51     35     11    4408   1133      19    501   \n",
       "\n",
       "        CRBI  CWalks League Division  PutOuts  Assists  Errors  Salary  \\\n",
       "Player                                                                   \n",
       "315      414     375      N        W      632       43      10   475.0   \n",
       "479      266     263      A        W      880       82      14   480.0   \n",
       "496      838     354      N        E      200       11       3   500.0   \n",
       "321       46      33      N        E      805       40       4    91.5   \n",
       "594      336     194      A        W      282      421      25   750.0   \n",
       "\n",
       "       NewLeague  \n",
       "Player            \n",
       "315            N  \n",
       "479            A  \n",
       "496            N  \n",
       "321            N  \n",
       "594            A  "
      ],
      "text/html": [
       "<div>\n",
       "<style scoped>\n",
       "    .dataframe tbody tr th:only-of-type {\n",
       "        vertical-align: middle;\n",
       "    }\n",
       "\n",
       "    .dataframe tbody tr th {\n",
       "        vertical-align: top;\n",
       "    }\n",
       "\n",
       "    .dataframe thead th {\n",
       "        text-align: right;\n",
       "    }\n",
       "</style>\n",
       "<table border=\"1\" class=\"dataframe\">\n",
       "  <thead>\n",
       "    <tr style=\"text-align: right;\">\n",
       "      <th></th>\n",
       "      <th>Hits</th>\n",
       "      <th>HmRun</th>\n",
       "      <th>Runs</th>\n",
       "      <th>RBI</th>\n",
       "      <th>Walks</th>\n",
       "      <th>Years</th>\n",
       "      <th>CAtBat</th>\n",
       "      <th>CHits</th>\n",
       "      <th>CHmRun</th>\n",
       "      <th>CRuns</th>\n",
       "      <th>CRBI</th>\n",
       "      <th>CWalks</th>\n",
       "      <th>League</th>\n",
       "      <th>Division</th>\n",
       "      <th>PutOuts</th>\n",
       "      <th>Assists</th>\n",
       "      <th>Errors</th>\n",
       "      <th>Salary</th>\n",
       "      <th>NewLeague</th>\n",
       "    </tr>\n",
       "    <tr>\n",
       "      <th>Player</th>\n",
       "      <th></th>\n",
       "      <th></th>\n",
       "      <th></th>\n",
       "      <th></th>\n",
       "      <th></th>\n",
       "      <th></th>\n",
       "      <th></th>\n",
       "      <th></th>\n",
       "      <th></th>\n",
       "      <th></th>\n",
       "      <th></th>\n",
       "      <th></th>\n",
       "      <th></th>\n",
       "      <th></th>\n",
       "      <th></th>\n",
       "      <th></th>\n",
       "      <th></th>\n",
       "      <th></th>\n",
       "      <th></th>\n",
       "    </tr>\n",
       "  </thead>\n",
       "  <tbody>\n",
       "    <tr>\n",
       "      <th>315</th>\n",
       "      <td>81</td>\n",
       "      <td>7</td>\n",
       "      <td>24</td>\n",
       "      <td>38</td>\n",
       "      <td>39</td>\n",
       "      <td>14</td>\n",
       "      <td>3449</td>\n",
       "      <td>835</td>\n",
       "      <td>69</td>\n",
       "      <td>321</td>\n",
       "      <td>414</td>\n",
       "      <td>375</td>\n",
       "      <td>N</td>\n",
       "      <td>W</td>\n",
       "      <td>632</td>\n",
       "      <td>43</td>\n",
       "      <td>10</td>\n",
       "      <td>475.0</td>\n",
       "      <td>N</td>\n",
       "    </tr>\n",
       "    <tr>\n",
       "      <th>479</th>\n",
       "      <td>130</td>\n",
       "      <td>18</td>\n",
       "      <td>66</td>\n",
       "      <td>72</td>\n",
       "      <td>76</td>\n",
       "      <td>3</td>\n",
       "      <td>1624</td>\n",
       "      <td>457</td>\n",
       "      <td>63</td>\n",
       "      <td>224</td>\n",
       "      <td>266</td>\n",
       "      <td>263</td>\n",
       "      <td>A</td>\n",
       "      <td>W</td>\n",
       "      <td>880</td>\n",
       "      <td>82</td>\n",
       "      <td>14</td>\n",
       "      <td>480.0</td>\n",
       "      <td>A</td>\n",
       "    </tr>\n",
       "    <tr>\n",
       "      <th>496</th>\n",
       "      <td>141</td>\n",
       "      <td>20</td>\n",
       "      <td>65</td>\n",
       "      <td>78</td>\n",
       "      <td>37</td>\n",
       "      <td>11</td>\n",
       "      <td>5628</td>\n",
       "      <td>1575</td>\n",
       "      <td>225</td>\n",
       "      <td>828</td>\n",
       "      <td>838</td>\n",
       "      <td>354</td>\n",
       "      <td>N</td>\n",
       "      <td>E</td>\n",
       "      <td>200</td>\n",
       "      <td>11</td>\n",
       "      <td>3</td>\n",
       "      <td>500.0</td>\n",
       "      <td>N</td>\n",
       "    </tr>\n",
       "    <tr>\n",
       "      <th>321</th>\n",
       "      <td>87</td>\n",
       "      <td>10</td>\n",
       "      <td>39</td>\n",
       "      <td>42</td>\n",
       "      <td>30</td>\n",
       "      <td>2</td>\n",
       "      <td>396</td>\n",
       "      <td>101</td>\n",
       "      <td>12</td>\n",
       "      <td>48</td>\n",
       "      <td>46</td>\n",
       "      <td>33</td>\n",
       "      <td>N</td>\n",
       "      <td>E</td>\n",
       "      <td>805</td>\n",
       "      <td>40</td>\n",
       "      <td>4</td>\n",
       "      <td>91.5</td>\n",
       "      <td>N</td>\n",
       "    </tr>\n",
       "    <tr>\n",
       "      <th>594</th>\n",
       "      <td>169</td>\n",
       "      <td>4</td>\n",
       "      <td>74</td>\n",
       "      <td>51</td>\n",
       "      <td>35</td>\n",
       "      <td>11</td>\n",
       "      <td>4408</td>\n",
       "      <td>1133</td>\n",
       "      <td>19</td>\n",
       "      <td>501</td>\n",
       "      <td>336</td>\n",
       "      <td>194</td>\n",
       "      <td>A</td>\n",
       "      <td>W</td>\n",
       "      <td>282</td>\n",
       "      <td>421</td>\n",
       "      <td>25</td>\n",
       "      <td>750.0</td>\n",
       "      <td>A</td>\n",
       "    </tr>\n",
       "  </tbody>\n",
       "</table>\n",
       "</div>"
      ]
     },
     "metadata": {},
     "execution_count": 97
    }
   ],
   "metadata": {}
  },
  {
   "cell_type": "code",
   "execution_count": 100,
   "source": [
    "dummies = pd.get_dummies(df[['League', 'Division','NewLeague']])\n",
    "dummies.info()\n",
    "print(dummies.head())"
   ],
   "outputs": [
    {
     "output_type": "stream",
     "name": "stdout",
     "text": [
      "<class 'pandas.core.frame.DataFrame'>\n",
      "Int64Index: 263 entries, 315 to 631\n",
      "Data columns (total 6 columns):\n",
      " #   Column       Non-Null Count  Dtype\n",
      "---  ------       --------------  -----\n",
      " 0   League_A     263 non-null    uint8\n",
      " 1   League_N     263 non-null    uint8\n",
      " 2   Division_E   263 non-null    uint8\n",
      " 3   Division_W   263 non-null    uint8\n",
      " 4   NewLeague_A  263 non-null    uint8\n",
      " 5   NewLeague_N  263 non-null    uint8\n",
      "dtypes: uint8(6)\n",
      "memory usage: 3.6 KB\n",
      "        League_A  League_N  Division_E  Division_W  NewLeague_A  NewLeague_N\n",
      "Player                                                                      \n",
      "315            0         1           0           1            0            1\n",
      "479            1         0           0           1            1            0\n",
      "496            0         1           1           0            0            1\n",
      "321            0         1           1           0            0            1\n",
      "594            1         0           0           1            1            0\n"
     ]
    }
   ],
   "metadata": {}
  },
  {
   "cell_type": "code",
   "execution_count": 102,
   "source": [
    "y = df.Salary\n",
    "# Drop the column with the independent variable (Salary),\n",
    "#  and columns for which we created dummy variables. \n",
    "X_ = df.drop(['Salary','League', 'Division','NewLeague'], axis=1).astype('float64')\n",
    "# Define the feature set X.\n",
    "X = pd.concat([X_, dummies[['League_N', 'Division_W', 'NewLeague_N']]], axis=1)\n",
    "X.info()\n",
    "X.head(5)"
   ],
   "outputs": [
    {
     "output_type": "stream",
     "name": "stdout",
     "text": [
      "<class 'pandas.core.frame.DataFrame'>\n",
      "Int64Index: 263 entries, 315 to 631\n",
      "Data columns (total 18 columns):\n",
      " #   Column       Non-Null Count  Dtype  \n",
      "---  ------       --------------  -----  \n",
      " 0   Hits         263 non-null    float64\n",
      " 1   HmRun        263 non-null    float64\n",
      " 2   Runs         263 non-null    float64\n",
      " 3   RBI          263 non-null    float64\n",
      " 4   Walks        263 non-null    float64\n",
      " 5   Years        263 non-null    float64\n",
      " 6   CAtBat       263 non-null    float64\n",
      " 7   CHits        263 non-null    float64\n",
      " 8   CHmRun       263 non-null    float64\n",
      " 9   CRuns        263 non-null    float64\n",
      " 10  CRBI         263 non-null    float64\n",
      " 11  CWalks       263 non-null    float64\n",
      " 12  PutOuts      263 non-null    float64\n",
      " 13  Assists      263 non-null    float64\n",
      " 14  Errors       263 non-null    float64\n",
      " 15  League_N     263 non-null    uint8  \n",
      " 16  Division_W   263 non-null    uint8  \n",
      " 17  NewLeague_N  263 non-null    uint8  \n",
      "dtypes: float64(15), uint8(3)\n",
      "memory usage: 33.6 KB\n"
     ]
    },
    {
     "output_type": "execute_result",
     "data": {
      "text/plain": [
       "         Hits  HmRun  Runs   RBI  Walks  Years  CAtBat   CHits  CHmRun  CRuns  \\\n",
       "Player                                                                          \n",
       "315      81.0    7.0  24.0  38.0   39.0   14.0  3449.0   835.0    69.0  321.0   \n",
       "479     130.0   18.0  66.0  72.0   76.0    3.0  1624.0   457.0    63.0  224.0   \n",
       "496     141.0   20.0  65.0  78.0   37.0   11.0  5628.0  1575.0   225.0  828.0   \n",
       "321      87.0   10.0  39.0  42.0   30.0    2.0   396.0   101.0    12.0   48.0   \n",
       "594     169.0    4.0  74.0  51.0   35.0   11.0  4408.0  1133.0    19.0  501.0   \n",
       "\n",
       "         CRBI  CWalks  PutOuts  Assists  Errors  League_N  Division_W  \\\n",
       "Player                                                                  \n",
       "315     414.0   375.0    632.0     43.0    10.0         1           1   \n",
       "479     266.0   263.0    880.0     82.0    14.0         0           1   \n",
       "496     838.0   354.0    200.0     11.0     3.0         1           0   \n",
       "321      46.0    33.0    805.0     40.0     4.0         1           0   \n",
       "594     336.0   194.0    282.0    421.0    25.0         0           1   \n",
       "\n",
       "        NewLeague_N  \n",
       "Player               \n",
       "315               1  \n",
       "479               0  \n",
       "496               1  \n",
       "321               1  \n",
       "594               0  "
      ],
      "text/html": [
       "<div>\n",
       "<style scoped>\n",
       "    .dataframe tbody tr th:only-of-type {\n",
       "        vertical-align: middle;\n",
       "    }\n",
       "\n",
       "    .dataframe tbody tr th {\n",
       "        vertical-align: top;\n",
       "    }\n",
       "\n",
       "    .dataframe thead th {\n",
       "        text-align: right;\n",
       "    }\n",
       "</style>\n",
       "<table border=\"1\" class=\"dataframe\">\n",
       "  <thead>\n",
       "    <tr style=\"text-align: right;\">\n",
       "      <th></th>\n",
       "      <th>Hits</th>\n",
       "      <th>HmRun</th>\n",
       "      <th>Runs</th>\n",
       "      <th>RBI</th>\n",
       "      <th>Walks</th>\n",
       "      <th>Years</th>\n",
       "      <th>CAtBat</th>\n",
       "      <th>CHits</th>\n",
       "      <th>CHmRun</th>\n",
       "      <th>CRuns</th>\n",
       "      <th>CRBI</th>\n",
       "      <th>CWalks</th>\n",
       "      <th>PutOuts</th>\n",
       "      <th>Assists</th>\n",
       "      <th>Errors</th>\n",
       "      <th>League_N</th>\n",
       "      <th>Division_W</th>\n",
       "      <th>NewLeague_N</th>\n",
       "    </tr>\n",
       "    <tr>\n",
       "      <th>Player</th>\n",
       "      <th></th>\n",
       "      <th></th>\n",
       "      <th></th>\n",
       "      <th></th>\n",
       "      <th></th>\n",
       "      <th></th>\n",
       "      <th></th>\n",
       "      <th></th>\n",
       "      <th></th>\n",
       "      <th></th>\n",
       "      <th></th>\n",
       "      <th></th>\n",
       "      <th></th>\n",
       "      <th></th>\n",
       "      <th></th>\n",
       "      <th></th>\n",
       "      <th></th>\n",
       "      <th></th>\n",
       "    </tr>\n",
       "  </thead>\n",
       "  <tbody>\n",
       "    <tr>\n",
       "      <th>315</th>\n",
       "      <td>81.0</td>\n",
       "      <td>7.0</td>\n",
       "      <td>24.0</td>\n",
       "      <td>38.0</td>\n",
       "      <td>39.0</td>\n",
       "      <td>14.0</td>\n",
       "      <td>3449.0</td>\n",
       "      <td>835.0</td>\n",
       "      <td>69.0</td>\n",
       "      <td>321.0</td>\n",
       "      <td>414.0</td>\n",
       "      <td>375.0</td>\n",
       "      <td>632.0</td>\n",
       "      <td>43.0</td>\n",
       "      <td>10.0</td>\n",
       "      <td>1</td>\n",
       "      <td>1</td>\n",
       "      <td>1</td>\n",
       "    </tr>\n",
       "    <tr>\n",
       "      <th>479</th>\n",
       "      <td>130.0</td>\n",
       "      <td>18.0</td>\n",
       "      <td>66.0</td>\n",
       "      <td>72.0</td>\n",
       "      <td>76.0</td>\n",
       "      <td>3.0</td>\n",
       "      <td>1624.0</td>\n",
       "      <td>457.0</td>\n",
       "      <td>63.0</td>\n",
       "      <td>224.0</td>\n",
       "      <td>266.0</td>\n",
       "      <td>263.0</td>\n",
       "      <td>880.0</td>\n",
       "      <td>82.0</td>\n",
       "      <td>14.0</td>\n",
       "      <td>0</td>\n",
       "      <td>1</td>\n",
       "      <td>0</td>\n",
       "    </tr>\n",
       "    <tr>\n",
       "      <th>496</th>\n",
       "      <td>141.0</td>\n",
       "      <td>20.0</td>\n",
       "      <td>65.0</td>\n",
       "      <td>78.0</td>\n",
       "      <td>37.0</td>\n",
       "      <td>11.0</td>\n",
       "      <td>5628.0</td>\n",
       "      <td>1575.0</td>\n",
       "      <td>225.0</td>\n",
       "      <td>828.0</td>\n",
       "      <td>838.0</td>\n",
       "      <td>354.0</td>\n",
       "      <td>200.0</td>\n",
       "      <td>11.0</td>\n",
       "      <td>3.0</td>\n",
       "      <td>1</td>\n",
       "      <td>0</td>\n",
       "      <td>1</td>\n",
       "    </tr>\n",
       "    <tr>\n",
       "      <th>321</th>\n",
       "      <td>87.0</td>\n",
       "      <td>10.0</td>\n",
       "      <td>39.0</td>\n",
       "      <td>42.0</td>\n",
       "      <td>30.0</td>\n",
       "      <td>2.0</td>\n",
       "      <td>396.0</td>\n",
       "      <td>101.0</td>\n",
       "      <td>12.0</td>\n",
       "      <td>48.0</td>\n",
       "      <td>46.0</td>\n",
       "      <td>33.0</td>\n",
       "      <td>805.0</td>\n",
       "      <td>40.0</td>\n",
       "      <td>4.0</td>\n",
       "      <td>1</td>\n",
       "      <td>0</td>\n",
       "      <td>1</td>\n",
       "    </tr>\n",
       "    <tr>\n",
       "      <th>594</th>\n",
       "      <td>169.0</td>\n",
       "      <td>4.0</td>\n",
       "      <td>74.0</td>\n",
       "      <td>51.0</td>\n",
       "      <td>35.0</td>\n",
       "      <td>11.0</td>\n",
       "      <td>4408.0</td>\n",
       "      <td>1133.0</td>\n",
       "      <td>19.0</td>\n",
       "      <td>501.0</td>\n",
       "      <td>336.0</td>\n",
       "      <td>194.0</td>\n",
       "      <td>282.0</td>\n",
       "      <td>421.0</td>\n",
       "      <td>25.0</td>\n",
       "      <td>0</td>\n",
       "      <td>1</td>\n",
       "      <td>0</td>\n",
       "    </tr>\n",
       "  </tbody>\n",
       "</table>\n",
       "</div>"
      ]
     },
     "metadata": {},
     "execution_count": 102
    }
   ],
   "metadata": {}
  },
  {
   "cell_type": "code",
   "execution_count": 103,
   "source": [
    "# Downloaded the exact same training/test sets used in the book.\n",
    "X_train = pd.read_csv('../data/Hitters_X_train.csv', index_col = 0)\n",
    "y_train = pd.read_csv('../data/Hitters_y_train.csv', index_col = 0)\n",
    "X_test = pd.read_csv('../data/Hitters_X_test.csv', index_col =0)\n",
    "y_test = pd.read_csv('../data/Hitters_y_test.csv', index_col =0)"
   ],
   "outputs": [],
   "metadata": {}
  },
  {
   "cell_type": "markdown",
   "source": [
    "###  6.6.1 Ridge Regression\n",
    "Scikit-learn\n",
    "\n",
    "The glmnet algorithms in R optimize the objective function using cyclical coordinate descent, while scikit-learn Ridge regression uses linear least squares with L2 regularization. They are rather different implementations, but the general principles are the same.\n",
    "\n",
    "The glmnet() function in R optimizes:\n",
    "\n",
    "The function supports L1 and L2 regularization. For just Ridge regression we need to use α=0. This reduces the above cost function to\n",
    "\n",
    "$$\n",
    "\\frac{1}{N}||Xβ - y||_2^2 + λ((1 - α)||β||_2^2 + α||β||_1)\n",
    "$$\n",
    "The sklearn Ridge() function optimizes:\n",
    "$$\n",
    "||X\\beta - y||^2_2 + \\alpha ||\\beta||^2_2\n",
    "$$\n",
    "which is equivalent to optimizing\n",
    "$$\n",
    "\\frac{1}{N}||X\\beta - y||^2_2 + \\frac{\\alpha}{N} ||\\beta||^2_2\n",
    "$$"
   ],
   "metadata": {}
  },
  {
   "cell_type": "code",
   "execution_count": 132,
   "source": [
    "alphas = 10 ** np.linspace(10,-2,100) * 0.5\n",
    "\n",
    "ridge = Ridge()\n",
    "coefs = []\n",
    "\n",
    "for a in alphas:\n",
    "    ridge.set_params(alpha=a)\n",
    "    ridge.fit(scale(X),y)\n",
    "    coefs.append(ridge.coef_)\n",
    "\n",
    "plt.figure(figsize=(16,8))\n",
    "ax = plt.gca()\n",
    "ax.plot(alphas,coefs)\n",
    "ax.set_xscale('log')\n",
    "ax.set(xlabel='alhpa',ylabel='weights',\n",
    "            xlim =ax.get_xlim()[:: -1],# reverse axis\n",
    "            title = 'Ridge coefficients as a function of the regularization')\n",
    "plt.show()"
   ],
   "outputs": [
    {
     "output_type": "display_data",
     "data": {
      "text/plain": [
       "<Figure size 1152x576 with 1 Axes>"
      ],
      "image/svg+xml": "<?xml version=\"1.0\" encoding=\"utf-8\" standalone=\"no\"?>\n<!DOCTYPE svg PUBLIC \"-//W3C//DTD SVG 1.1//EN\"\n  \"http://www.w3.org/Graphics/SVG/1.1/DTD/svg11.dtd\">\n<svg height=\"494.157812pt\" version=\"1.1\" viewBox=\"0 0 958.492187 494.157812\" width=\"958.492187pt\" xmlns=\"http://www.w3.org/2000/svg\" xmlns:xlink=\"http://www.w3.org/1999/xlink\">\n <metadata>\n  <rdf:RDF xmlns:cc=\"http://creativecommons.org/ns#\" xmlns:dc=\"http://purl.org/dc/elements/1.1/\" xmlns:rdf=\"http://www.w3.org/1999/02/22-rdf-syntax-ns#\">\n   <cc:Work>\n    <dc:type rdf:resource=\"http://purl.org/dc/dcmitype/StillImage\"/>\n    <dc:date>2021-08-18T21:05:20.986172</dc:date>\n    <dc:format>image/svg+xml</dc:format>\n    <dc:creator>\n     <cc:Agent>\n      <dc:title>Matplotlib v3.4.2, https://matplotlib.org/</dc:title>\n     </cc:Agent>\n    </dc:creator>\n   </cc:Work>\n  </rdf:RDF>\n </metadata>\n <defs>\n  <style type=\"text/css\">*{stroke-linecap:butt;stroke-linejoin:round;}</style>\n </defs>\n <g id=\"figure_1\">\n  <g id=\"patch_1\">\n   <path d=\"M 0 494.157812 \nL 958.492187 494.157812 \nL 958.492187 0 \nL 0 0 \nz\n\" style=\"fill:#ffffff;\"/>\n  </g>\n  <g id=\"axes_1\">\n   <g id=\"patch_2\">\n    <path d=\"M 58.492188 457.198125 \nL 951.292187 457.198125 \nL 951.292187 22.318125 \nL 58.492188 22.318125 \nz\n\" style=\"fill:#ffffff;\"/>\n   </g>\n   <g id=\"matplotlib.axis_1\">\n    <g id=\"xtick_1\">\n     <g id=\"text_1\">\n      <!-- $\\mathdefault{10^{-1}}$ -->\n      <g style=\"fill:#262626;\" transform=\"translate(808.908431 469.056406)scale(0.11 -0.11)\">\n       <defs>\n        <path d=\"M 750 831 \nL 1813 831 \nL 1813 3847 \nL 722 3622 \nL 722 4441 \nL 1806 4666 \nL 2950 4666 \nL 2950 831 \nL 4013 831 \nL 4013 0 \nL 750 0 \nL 750 831 \nz\n\" id=\"DejaVuSans-Bold-31\" transform=\"scale(0.015625)\"/>\n        <path d=\"M 2944 2338 \nQ 2944 3213 2780 3570 \nQ 2616 3928 2228 3928 \nQ 1841 3928 1675 3570 \nQ 1509 3213 1509 2338 \nQ 1509 1453 1675 1090 \nQ 1841 728 2228 728 \nQ 2613 728 2778 1090 \nQ 2944 1453 2944 2338 \nz\nM 4147 2328 \nQ 4147 1169 3647 539 \nQ 3147 -91 2228 -91 \nQ 1306 -91 806 539 \nQ 306 1169 306 2328 \nQ 306 3491 806 4120 \nQ 1306 4750 2228 4750 \nQ 3147 4750 3647 4120 \nQ 4147 3491 4147 2328 \nz\n\" id=\"DejaVuSans-Bold-30\" transform=\"scale(0.015625)\"/>\n        <path d=\"M 678 2375 \nL 4684 2375 \nL 4684 1638 \nL 678 1638 \nL 678 2375 \nz\n\" id=\"DejaVuSans-Bold-2212\" transform=\"scale(0.015625)\"/>\n       </defs>\n       <use transform=\"translate(0 0.684375)\" xlink:href=\"#DejaVuSans-Bold-31\"/>\n       <use transform=\"translate(69.580078 0.684375)\" xlink:href=\"#DejaVuSans-Bold-30\"/>\n       <use transform=\"translate(140.117188 38.965625)scale(0.7)\" xlink:href=\"#DejaVuSans-Bold-2212\"/>\n       <use transform=\"translate(198.769531 38.965625)scale(0.7)\" xlink:href=\"#DejaVuSans-Bold-31\"/>\n      </g>\n     </g>\n    </g>\n    <g id=\"xtick_2\">\n     <g id=\"text_2\">\n      <!-- $\\mathdefault{10^{1}}$ -->\n      <g style=\"fill:#262626;\" transform=\"translate(676.880704 469.056406)scale(0.11 -0.11)\">\n       <use transform=\"translate(0 0.684375)\" xlink:href=\"#DejaVuSans-Bold-31\"/>\n       <use transform=\"translate(69.580078 0.684375)\" xlink:href=\"#DejaVuSans-Bold-30\"/>\n       <use transform=\"translate(140.117188 38.965625)scale(0.7)\" xlink:href=\"#DejaVuSans-Bold-31\"/>\n      </g>\n     </g>\n    </g>\n    <g id=\"xtick_3\">\n     <g id=\"text_3\">\n      <!-- $\\mathdefault{10^{3}}$ -->\n      <g style=\"fill:#262626;\" transform=\"translate(541.607977 469.056406)scale(0.11 -0.11)\">\n       <defs>\n        <path d=\"M 2981 2516 \nQ 3453 2394 3698 2092 \nQ 3944 1791 3944 1325 \nQ 3944 631 3412 270 \nQ 2881 -91 1863 -91 \nQ 1503 -91 1142 -33 \nQ 781 25 428 141 \nL 428 1069 \nQ 766 900 1098 814 \nQ 1431 728 1753 728 \nQ 2231 728 2486 893 \nQ 2741 1059 2741 1369 \nQ 2741 1688 2480 1852 \nQ 2219 2016 1709 2016 \nL 1228 2016 \nL 1228 2791 \nL 1734 2791 \nQ 2188 2791 2409 2933 \nQ 2631 3075 2631 3366 \nQ 2631 3634 2415 3781 \nQ 2200 3928 1806 3928 \nQ 1516 3928 1219 3862 \nQ 922 3797 628 3669 \nL 628 4550 \nQ 984 4650 1334 4700 \nQ 1684 4750 2022 4750 \nQ 2931 4750 3382 4451 \nQ 3834 4153 3834 3553 \nQ 3834 3144 3618 2883 \nQ 3403 2622 2981 2516 \nz\n\" id=\"DejaVuSans-Bold-33\" transform=\"scale(0.015625)\"/>\n       </defs>\n       <use transform=\"translate(0 0.765625)\" xlink:href=\"#DejaVuSans-Bold-31\"/>\n       <use transform=\"translate(69.580078 0.765625)\" xlink:href=\"#DejaVuSans-Bold-30\"/>\n       <use transform=\"translate(140.117188 39.046875)scale(0.7)\" xlink:href=\"#DejaVuSans-Bold-33\"/>\n      </g>\n     </g>\n    </g>\n    <g id=\"xtick_4\">\n     <g id=\"text_4\">\n      <!-- $\\mathdefault{10^{5}}$ -->\n      <g style=\"fill:#262626;\" transform=\"translate(406.33525 469.056406)scale(0.11 -0.11)\">\n       <defs>\n        <path d=\"M 678 4666 \nL 3669 4666 \nL 3669 3781 \nL 1638 3781 \nL 1638 3059 \nQ 1775 3097 1914 3117 \nQ 2053 3138 2203 3138 \nQ 3056 3138 3531 2711 \nQ 4006 2284 4006 1522 \nQ 4006 766 3489 337 \nQ 2972 -91 2053 -91 \nQ 1656 -91 1267 -14 \nQ 878 63 494 219 \nL 494 1166 \nQ 875 947 1217 837 \nQ 1559 728 1863 728 \nQ 2300 728 2551 942 \nQ 2803 1156 2803 1522 \nQ 2803 1891 2551 2103 \nQ 2300 2316 1863 2316 \nQ 1603 2316 1309 2248 \nQ 1016 2181 678 2041 \nL 678 4666 \nz\n\" id=\"DejaVuSans-Bold-35\" transform=\"scale(0.015625)\"/>\n       </defs>\n       <use transform=\"translate(0 0.684375)\" xlink:href=\"#DejaVuSans-Bold-31\"/>\n       <use transform=\"translate(69.580078 0.684375)\" xlink:href=\"#DejaVuSans-Bold-30\"/>\n       <use transform=\"translate(140.117188 38.965625)scale(0.7)\" xlink:href=\"#DejaVuSans-Bold-35\"/>\n      </g>\n     </g>\n    </g>\n    <g id=\"xtick_5\">\n     <g id=\"text_5\">\n      <!-- $\\mathdefault{10^{7}}$ -->\n      <g style=\"fill:#262626;\" transform=\"translate(271.062522 469.056406)scale(0.11 -0.11)\">\n       <defs>\n        <path d=\"M 428 4666 \nL 3944 4666 \nL 3944 3988 \nL 2125 0 \nL 953 0 \nL 2675 3781 \nL 428 3781 \nL 428 4666 \nz\n\" id=\"DejaVuSans-Bold-37\" transform=\"scale(0.015625)\"/>\n       </defs>\n       <use transform=\"translate(0 0.684375)\" xlink:href=\"#DejaVuSans-Bold-31\"/>\n       <use transform=\"translate(69.580078 0.684375)\" xlink:href=\"#DejaVuSans-Bold-30\"/>\n       <use transform=\"translate(140.117188 38.965625)scale(0.7)\" xlink:href=\"#DejaVuSans-Bold-37\"/>\n      </g>\n     </g>\n    </g>\n    <g id=\"xtick_6\">\n     <g id=\"text_6\">\n      <!-- $\\mathdefault{10^{9}}$ -->\n      <g style=\"fill:#262626;\" transform=\"translate(135.789795 469.056406)scale(0.11 -0.11)\">\n       <defs>\n        <path d=\"M 641 103 \nL 641 966 \nQ 928 831 1190 764 \nQ 1453 697 1709 697 \nQ 2247 697 2547 995 \nQ 2847 1294 2900 1881 \nQ 2688 1725 2447 1647 \nQ 2206 1569 1925 1569 \nQ 1209 1569 770 1986 \nQ 331 2403 331 3084 \nQ 331 3838 820 4291 \nQ 1309 4744 2131 4744 \nQ 3044 4744 3544 4128 \nQ 4044 3513 4044 2388 \nQ 4044 1231 3459 570 \nQ 2875 -91 1856 -91 \nQ 1528 -91 1228 -42 \nQ 928 6 641 103 \nz\nM 2125 2350 \nQ 2441 2350 2600 2554 \nQ 2759 2759 2759 3169 \nQ 2759 3575 2600 3781 \nQ 2441 3988 2125 3988 \nQ 1809 3988 1650 3781 \nQ 1491 3575 1491 3169 \nQ 1491 2759 1650 2554 \nQ 1809 2350 2125 2350 \nz\n\" id=\"DejaVuSans-Bold-39\" transform=\"scale(0.015625)\"/>\n       </defs>\n       <use transform=\"translate(0 0.83125)\" xlink:href=\"#DejaVuSans-Bold-31\"/>\n       <use transform=\"translate(69.580078 0.83125)\" xlink:href=\"#DejaVuSans-Bold-30\"/>\n       <use transform=\"translate(140.117188 39.1125)scale(0.7)\" xlink:href=\"#DejaVuSans-Bold-39\"/>\n      </g>\n     </g>\n    </g>\n    <g id=\"text_7\">\n     <!-- alhpa -->\n     <g style=\"fill:#262626;\" transform=\"translate(488.26 484.462187)scale(0.12 -0.12)\">\n      <defs>\n       <path d=\"M 2194 1759 \nQ 1497 1759 1228 1600 \nQ 959 1441 959 1056 \nQ 959 750 1161 570 \nQ 1363 391 1709 391 \nQ 2188 391 2477 730 \nQ 2766 1069 2766 1631 \nL 2766 1759 \nL 2194 1759 \nz\nM 3341 1997 \nL 3341 0 \nL 2766 0 \nL 2766 531 \nQ 2569 213 2275 61 \nQ 1981 -91 1556 -91 \nQ 1019 -91 701 211 \nQ 384 513 384 1019 \nQ 384 1609 779 1909 \nQ 1175 2209 1959 2209 \nL 2766 2209 \nL 2766 2266 \nQ 2766 2663 2505 2880 \nQ 2244 3097 1772 3097 \nQ 1472 3097 1187 3025 \nQ 903 2953 641 2809 \nL 641 3341 \nQ 956 3463 1253 3523 \nQ 1550 3584 1831 3584 \nQ 2591 3584 2966 3190 \nQ 3341 2797 3341 1997 \nz\n\" id=\"DejaVuSans-61\" transform=\"scale(0.015625)\"/>\n       <path d=\"M 603 4863 \nL 1178 4863 \nL 1178 0 \nL 603 0 \nL 603 4863 \nz\n\" id=\"DejaVuSans-6c\" transform=\"scale(0.015625)\"/>\n       <path d=\"M 3513 2113 \nL 3513 0 \nL 2938 0 \nL 2938 2094 \nQ 2938 2591 2744 2837 \nQ 2550 3084 2163 3084 \nQ 1697 3084 1428 2787 \nQ 1159 2491 1159 1978 \nL 1159 0 \nL 581 0 \nL 581 4863 \nL 1159 4863 \nL 1159 2956 \nQ 1366 3272 1645 3428 \nQ 1925 3584 2291 3584 \nQ 2894 3584 3203 3211 \nQ 3513 2838 3513 2113 \nz\n\" id=\"DejaVuSans-68\" transform=\"scale(0.015625)\"/>\n       <path d=\"M 1159 525 \nL 1159 -1331 \nL 581 -1331 \nL 581 3500 \nL 1159 3500 \nL 1159 2969 \nQ 1341 3281 1617 3432 \nQ 1894 3584 2278 3584 \nQ 2916 3584 3314 3078 \nQ 3713 2572 3713 1747 \nQ 3713 922 3314 415 \nQ 2916 -91 2278 -91 \nQ 1894 -91 1617 61 \nQ 1341 213 1159 525 \nz\nM 3116 1747 \nQ 3116 2381 2855 2742 \nQ 2594 3103 2138 3103 \nQ 1681 3103 1420 2742 \nQ 1159 2381 1159 1747 \nQ 1159 1113 1420 752 \nQ 1681 391 2138 391 \nQ 2594 391 2855 752 \nQ 3116 1113 3116 1747 \nz\n\" id=\"DejaVuSans-70\" transform=\"scale(0.015625)\"/>\n      </defs>\n      <use xlink:href=\"#DejaVuSans-61\"/>\n      <use x=\"61.279297\" xlink:href=\"#DejaVuSans-6c\"/>\n      <use x=\"89.0625\" xlink:href=\"#DejaVuSans-68\"/>\n      <use x=\"152.441406\" xlink:href=\"#DejaVuSans-70\"/>\n      <use x=\"215.917969\" xlink:href=\"#DejaVuSans-61\"/>\n     </g>\n    </g>\n   </g>\n   <g id=\"matplotlib.axis_2\">\n    <g id=\"ytick_1\">\n     <g id=\"text_8\">\n      <!-- −800 -->\n      <g style=\"fill:#262626;\" transform=\"translate(22.81375 448.376374)scale(0.11 -0.11)\">\n       <defs>\n        <path d=\"M 2228 2088 \nQ 1891 2088 1709 1903 \nQ 1528 1719 1528 1375 \nQ 1528 1031 1709 848 \nQ 1891 666 2228 666 \nQ 2563 666 2741 848 \nQ 2919 1031 2919 1375 \nQ 2919 1722 2741 1905 \nQ 2563 2088 2228 2088 \nz\nM 1350 2484 \nQ 925 2613 709 2878 \nQ 494 3144 494 3541 \nQ 494 4131 934 4440 \nQ 1375 4750 2228 4750 \nQ 3075 4750 3515 4442 \nQ 3956 4134 3956 3541 \nQ 3956 3144 3739 2878 \nQ 3522 2613 3097 2484 \nQ 3572 2353 3814 2058 \nQ 4056 1763 4056 1313 \nQ 4056 619 3595 264 \nQ 3134 -91 2228 -91 \nQ 1319 -91 855 264 \nQ 391 619 391 1313 \nQ 391 1763 633 2058 \nQ 875 2353 1350 2484 \nz\nM 1631 3419 \nQ 1631 3141 1786 2991 \nQ 1941 2841 2228 2841 \nQ 2509 2841 2662 2991 \nQ 2816 3141 2816 3419 \nQ 2816 3697 2662 3845 \nQ 2509 3994 2228 3994 \nQ 1941 3994 1786 3844 \nQ 1631 3694 1631 3419 \nz\n\" id=\"DejaVuSans-Bold-38\" transform=\"scale(0.015625)\"/>\n       </defs>\n       <use xlink:href=\"#DejaVuSans-Bold-2212\"/>\n       <use x=\"83.789062\" xlink:href=\"#DejaVuSans-Bold-38\"/>\n       <use x=\"153.369141\" xlink:href=\"#DejaVuSans-Bold-30\"/>\n       <use x=\"222.949219\" xlink:href=\"#DejaVuSans-Bold-30\"/>\n      </g>\n     </g>\n    </g>\n    <g id=\"ytick_2\">\n     <g id=\"text_9\">\n      <!-- −600 -->\n      <g style=\"fill:#262626;\" transform=\"translate(22.81375 386.559905)scale(0.11 -0.11)\">\n       <defs>\n        <path d=\"M 2316 2303 \nQ 2000 2303 1842 2098 \nQ 1684 1894 1684 1484 \nQ 1684 1075 1842 870 \nQ 2000 666 2316 666 \nQ 2634 666 2792 870 \nQ 2950 1075 2950 1484 \nQ 2950 1894 2792 2098 \nQ 2634 2303 2316 2303 \nz\nM 3803 4544 \nL 3803 3681 \nQ 3506 3822 3243 3889 \nQ 2981 3956 2731 3956 \nQ 2194 3956 1894 3657 \nQ 1594 3359 1544 2772 \nQ 1750 2925 1990 3001 \nQ 2231 3078 2516 3078 \nQ 3231 3078 3670 2659 \nQ 4109 2241 4109 1563 \nQ 4109 813 3618 361 \nQ 3128 -91 2303 -91 \nQ 1394 -91 895 523 \nQ 397 1138 397 2266 \nQ 397 3422 980 4083 \nQ 1563 4744 2578 4744 \nQ 2900 4744 3203 4694 \nQ 3506 4644 3803 4544 \nz\n\" id=\"DejaVuSans-Bold-36\" transform=\"scale(0.015625)\"/>\n       </defs>\n       <use xlink:href=\"#DejaVuSans-Bold-2212\"/>\n       <use x=\"83.789062\" xlink:href=\"#DejaVuSans-Bold-36\"/>\n       <use x=\"153.369141\" xlink:href=\"#DejaVuSans-Bold-30\"/>\n       <use x=\"222.949219\" xlink:href=\"#DejaVuSans-Bold-30\"/>\n      </g>\n     </g>\n    </g>\n    <g id=\"ytick_3\">\n     <g id=\"text_10\">\n      <!-- −400 -->\n      <g style=\"fill:#262626;\" transform=\"translate(22.81375 324.743435)scale(0.11 -0.11)\">\n       <defs>\n        <path d=\"M 2356 3675 \nL 1038 1722 \nL 2356 1722 \nL 2356 3675 \nz\nM 2156 4666 \nL 3494 4666 \nL 3494 1722 \nL 4159 1722 \nL 4159 850 \nL 3494 850 \nL 3494 0 \nL 2356 0 \nL 2356 850 \nL 288 850 \nL 288 1881 \nL 2156 4666 \nz\n\" id=\"DejaVuSans-Bold-34\" transform=\"scale(0.015625)\"/>\n       </defs>\n       <use xlink:href=\"#DejaVuSans-Bold-2212\"/>\n       <use x=\"83.789062\" xlink:href=\"#DejaVuSans-Bold-34\"/>\n       <use x=\"153.369141\" xlink:href=\"#DejaVuSans-Bold-30\"/>\n       <use x=\"222.949219\" xlink:href=\"#DejaVuSans-Bold-30\"/>\n      </g>\n     </g>\n    </g>\n    <g id=\"ytick_4\">\n     <g id=\"text_11\">\n      <!-- −200 -->\n      <g style=\"fill:#262626;\" transform=\"translate(22.81375 262.926966)scale(0.11 -0.11)\">\n       <defs>\n        <path d=\"M 1844 884 \nL 3897 884 \nL 3897 0 \nL 506 0 \nL 506 884 \nL 2209 2388 \nQ 2438 2594 2547 2791 \nQ 2656 2988 2656 3200 \nQ 2656 3528 2436 3728 \nQ 2216 3928 1850 3928 \nQ 1569 3928 1234 3808 \nQ 900 3688 519 3450 \nL 519 4475 \nQ 925 4609 1322 4679 \nQ 1719 4750 2100 4750 \nQ 2938 4750 3402 4381 \nQ 3866 4013 3866 3353 \nQ 3866 2972 3669 2642 \nQ 3472 2313 2841 1759 \nL 1844 884 \nz\n\" id=\"DejaVuSans-Bold-32\" transform=\"scale(0.015625)\"/>\n       </defs>\n       <use xlink:href=\"#DejaVuSans-Bold-2212\"/>\n       <use x=\"83.789062\" xlink:href=\"#DejaVuSans-Bold-32\"/>\n       <use x=\"153.369141\" xlink:href=\"#DejaVuSans-Bold-30\"/>\n       <use x=\"222.949219\" xlink:href=\"#DejaVuSans-Bold-30\"/>\n      </g>\n     </g>\n    </g>\n    <g id=\"ytick_5\">\n     <g id=\"text_12\">\n      <!-- 0 -->\n      <g style=\"fill:#262626;\" transform=\"translate(47.338594 201.110497)scale(0.11 -0.11)\">\n       <use xlink:href=\"#DejaVuSans-Bold-30\"/>\n      </g>\n     </g>\n    </g>\n    <g id=\"ytick_6\">\n     <g id=\"text_13\">\n      <!-- 200 -->\n      <g style=\"fill:#262626;\" transform=\"translate(32.031406 139.294027)scale(0.11 -0.11)\">\n       <use xlink:href=\"#DejaVuSans-Bold-32\"/>\n       <use x=\"69.580078\" xlink:href=\"#DejaVuSans-Bold-30\"/>\n       <use x=\"139.160156\" xlink:href=\"#DejaVuSans-Bold-30\"/>\n      </g>\n     </g>\n    </g>\n    <g id=\"ytick_7\">\n     <g id=\"text_14\">\n      <!-- 400 -->\n      <g style=\"fill:#262626;\" transform=\"translate(32.031406 77.477558)scale(0.11 -0.11)\">\n       <use xlink:href=\"#DejaVuSans-Bold-34\"/>\n       <use x=\"69.580078\" xlink:href=\"#DejaVuSans-Bold-30\"/>\n       <use x=\"139.160156\" xlink:href=\"#DejaVuSans-Bold-30\"/>\n      </g>\n     </g>\n    </g>\n    <g id=\"text_15\">\n     <!-- weights -->\n     <g style=\"fill:#262626;\" transform=\"translate(16.318125 263.113125)rotate(-90)scale(0.12 -0.12)\">\n      <defs>\n       <path d=\"M 269 3500 \nL 844 3500 \nL 1563 769 \nL 2278 3500 \nL 2956 3500 \nL 3675 769 \nL 4391 3500 \nL 4966 3500 \nL 4050 0 \nL 3372 0 \nL 2619 2869 \nL 1863 0 \nL 1184 0 \nL 269 3500 \nz\n\" id=\"DejaVuSans-77\" transform=\"scale(0.015625)\"/>\n       <path d=\"M 3597 1894 \nL 3597 1613 \nL 953 1613 \nQ 991 1019 1311 708 \nQ 1631 397 2203 397 \nQ 2534 397 2845 478 \nQ 3156 559 3463 722 \nL 3463 178 \nQ 3153 47 2828 -22 \nQ 2503 -91 2169 -91 \nQ 1331 -91 842 396 \nQ 353 884 353 1716 \nQ 353 2575 817 3079 \nQ 1281 3584 2069 3584 \nQ 2775 3584 3186 3129 \nQ 3597 2675 3597 1894 \nz\nM 3022 2063 \nQ 3016 2534 2758 2815 \nQ 2500 3097 2075 3097 \nQ 1594 3097 1305 2825 \nQ 1016 2553 972 2059 \nL 3022 2063 \nz\n\" id=\"DejaVuSans-65\" transform=\"scale(0.015625)\"/>\n       <path d=\"M 603 3500 \nL 1178 3500 \nL 1178 0 \nL 603 0 \nL 603 3500 \nz\nM 603 4863 \nL 1178 4863 \nL 1178 4134 \nL 603 4134 \nL 603 4863 \nz\n\" id=\"DejaVuSans-69\" transform=\"scale(0.015625)\"/>\n       <path d=\"M 2906 1791 \nQ 2906 2416 2648 2759 \nQ 2391 3103 1925 3103 \nQ 1463 3103 1205 2759 \nQ 947 2416 947 1791 \nQ 947 1169 1205 825 \nQ 1463 481 1925 481 \nQ 2391 481 2648 825 \nQ 2906 1169 2906 1791 \nz\nM 3481 434 \nQ 3481 -459 3084 -895 \nQ 2688 -1331 1869 -1331 \nQ 1566 -1331 1297 -1286 \nQ 1028 -1241 775 -1147 \nL 775 -588 \nQ 1028 -725 1275 -790 \nQ 1522 -856 1778 -856 \nQ 2344 -856 2625 -561 \nQ 2906 -266 2906 331 \nL 2906 616 \nQ 2728 306 2450 153 \nQ 2172 0 1784 0 \nQ 1141 0 747 490 \nQ 353 981 353 1791 \nQ 353 2603 747 3093 \nQ 1141 3584 1784 3584 \nQ 2172 3584 2450 3431 \nQ 2728 3278 2906 2969 \nL 2906 3500 \nL 3481 3500 \nL 3481 434 \nz\n\" id=\"DejaVuSans-67\" transform=\"scale(0.015625)\"/>\n       <path d=\"M 1172 4494 \nL 1172 3500 \nL 2356 3500 \nL 2356 3053 \nL 1172 3053 \nL 1172 1153 \nQ 1172 725 1289 603 \nQ 1406 481 1766 481 \nL 2356 481 \nL 2356 0 \nL 1766 0 \nQ 1100 0 847 248 \nQ 594 497 594 1153 \nL 594 3053 \nL 172 3053 \nL 172 3500 \nL 594 3500 \nL 594 4494 \nL 1172 4494 \nz\n\" id=\"DejaVuSans-74\" transform=\"scale(0.015625)\"/>\n       <path d=\"M 2834 3397 \nL 2834 2853 \nQ 2591 2978 2328 3040 \nQ 2066 3103 1784 3103 \nQ 1356 3103 1142 2972 \nQ 928 2841 928 2578 \nQ 928 2378 1081 2264 \nQ 1234 2150 1697 2047 \nL 1894 2003 \nQ 2506 1872 2764 1633 \nQ 3022 1394 3022 966 \nQ 3022 478 2636 193 \nQ 2250 -91 1575 -91 \nQ 1294 -91 989 -36 \nQ 684 19 347 128 \nL 347 722 \nQ 666 556 975 473 \nQ 1284 391 1588 391 \nQ 1994 391 2212 530 \nQ 2431 669 2431 922 \nQ 2431 1156 2273 1281 \nQ 2116 1406 1581 1522 \nL 1381 1569 \nQ 847 1681 609 1914 \nQ 372 2147 372 2553 \nQ 372 3047 722 3315 \nQ 1072 3584 1716 3584 \nQ 2034 3584 2315 3537 \nQ 2597 3491 2834 3397 \nz\n\" id=\"DejaVuSans-73\" transform=\"scale(0.015625)\"/>\n      </defs>\n      <use xlink:href=\"#DejaVuSans-77\"/>\n      <use x=\"81.787109\" xlink:href=\"#DejaVuSans-65\"/>\n      <use x=\"143.310547\" xlink:href=\"#DejaVuSans-69\"/>\n      <use x=\"171.09375\" xlink:href=\"#DejaVuSans-67\"/>\n      <use x=\"234.570312\" xlink:href=\"#DejaVuSans-68\"/>\n      <use x=\"297.949219\" xlink:href=\"#DejaVuSans-74\"/>\n      <use x=\"337.158203\" xlink:href=\"#DejaVuSans-73\"/>\n     </g>\n    </g>\n   </g>\n   <g id=\"line2d_1\">\n    <path clip-path=\"url(#pd113a0dbb5)\" d=\"M 99.074006 196.931353 \nL 107.272353 196.931352 \nL 115.4707 196.93135 \nL 123.669047 196.931349 \nL 131.867394 196.931346 \nL 140.065741 196.931343 \nL 148.264088 196.931339 \nL 156.462435 196.931333 \nL 164.660783 196.931326 \nL 172.85913 196.931316 \nL 181.057477 196.931304 \nL 189.255824 196.931287 \nL 197.454171 196.931265 \nL 205.652518 196.931235 \nL 213.850865 196.931196 \nL 222.049212 196.931145 \nL 230.247559 196.931077 \nL 238.445907 196.930987 \nL 246.644254 196.930868 \nL 254.842601 196.930711 \nL 263.040948 196.930503 \nL 271.239295 196.930229 \nL 279.437642 196.929866 \nL 287.635989 196.929386 \nL 295.834336 196.928752 \nL 304.032683 196.927914 \nL 312.23103 196.926806 \nL 320.429378 196.925342 \nL 328.627725 196.923407 \nL 336.826072 196.920851 \nL 345.024419 196.917473 \nL 353.222766 196.913011 \nL 361.421113 196.907117 \nL 369.61946 196.899336 \nL 377.817807 196.889066 \nL 386.016154 196.87552 \nL 394.214502 196.857662 \nL 402.412849 196.834143 \nL 410.611196 196.803204 \nL 418.809543 196.762567 \nL 427.00789 196.709302 \nL 435.206237 196.639667 \nL 443.404584 196.548946 \nL 451.602931 196.431278 \nL 459.801278 196.279532 \nL 467.999626 196.08526 \nL 476.197973 195.838822 \nL 484.39632 195.529762 \nL 492.594667 195.147547 \nL 500.793014 194.682699 \nL 508.991361 194.128285 \nL 517.189708 193.481512 \nL 525.388055 192.745035 \nL 533.586402 191.92746 \nL 541.784749 191.042659 \nL 549.983097 190.107818 \nL 558.181444 189.14059 \nL 566.379791 188.156113 \nL 574.578138 187.164778 \nL 582.776485 186.17145 \nL 590.974832 185.176385 \nL 599.173179 184.177494 \nL 607.371526 183.173093 \nL 615.569873 182.164129 \nL 623.768221 181.155029 \nL 631.966568 180.152818 \nL 640.164915 179.164691 \nL 648.363262 178.194811 \nL 656.561609 177.241567 \nL 664.759956 176.296689 \nL 672.958303 175.347091 \nL 681.15665 174.379141 \nL 689.354997 173.383712 \nL 697.553345 172.359962 \nL 705.751692 171.316607 \nL 713.950039 170.27095 \nL 722.148386 169.246845 \nL 730.346733 168.272566 \nL 738.54508 167.378663 \nL 746.743427 166.59525 \nL 754.941774 165.948326 \nL 763.140121 165.455522 \nL 771.338468 165.122502 \nL 779.536816 164.941375 \nL 787.735163 164.891923 \nL 795.93351 164.945398 \nL 804.131857 165.069705 \nL 812.330204 165.234408 \nL 820.528551 165.414319 \nL 828.726898 165.591145 \nL 836.925245 165.753403 \nL 845.123592 165.895261 \nL 853.32194 166.014962 \nL 861.520287 166.113326 \nL 869.718634 166.192555 \nL 877.916981 166.255412 \nL 886.115328 166.30471 \nL 894.313675 166.343037 \nL 902.512022 166.372639 \nL 910.710369 166.395386 \n\" style=\"fill:none;stroke:#4c72b0;stroke-linecap:round;stroke-width:1.5;\"/>\n   </g>\n   <g id=\"line2d_2\">\n    <path clip-path=\"url(#pd113a0dbb5)\" d=\"M 99.074006 196.931353 \nL 107.272353 196.931353 \nL 115.4707 196.931352 \nL 123.669047 196.93135 \nL 131.867394 196.931348 \nL 140.065741 196.931346 \nL 148.264088 196.931343 \nL 156.462435 196.931338 \nL 164.660783 196.931333 \nL 172.85913 196.931325 \nL 181.057477 196.931315 \nL 189.255824 196.931302 \nL 197.454171 196.931284 \nL 205.652518 196.931261 \nL 213.850865 196.931231 \nL 222.049212 196.931191 \nL 230.247559 196.931138 \nL 238.445907 196.931067 \nL 246.644254 196.930974 \nL 254.842601 196.930851 \nL 263.040948 196.930689 \nL 271.239295 196.930474 \nL 279.437642 196.930191 \nL 287.635989 196.929816 \nL 295.834336 196.92932 \nL 304.032683 196.928665 \nL 312.23103 196.927799 \nL 320.429378 196.926654 \nL 328.627725 196.925142 \nL 336.826072 196.923144 \nL 345.024419 196.920504 \nL 353.222766 196.917018 \nL 361.421113 196.912416 \nL 369.61946 196.906341 \nL 377.817807 196.898328 \nL 386.016154 196.887766 \nL 394.214502 196.873856 \nL 402.412849 196.855558 \nL 410.611196 196.831527 \nL 418.809543 196.800033 \nL 427.00789 196.758868 \nL 435.206237 196.705259 \nL 443.404584 196.635766 \nL 451.602931 196.546233 \nL 459.801278 196.431789 \nL 467.999626 196.286989 \nL 476.197973 196.106163 \nL 484.39632 195.884083 \nL 492.594667 195.617021 \nL 500.793014 195.304235 \nL 508.991361 194.949766 \nL 517.189708 194.564222 \nL 525.388055 194.166057 \nL 533.586402 193.78175 \nL 541.784749 193.444454 \nL 549.983097 193.191093 \nL 558.181444 193.058277 \nL 566.379791 193.077749 \nL 574.578138 193.272112 \nL 582.776485 193.651458 \nL 590.974832 194.21129 \nL 599.173179 194.931905 \nL 607.371526 195.779099 \nL 615.569873 196.705859 \nL 623.768221 197.654724 \nL 631.966568 198.560853 \nL 640.164915 199.356337 \nL 648.363262 199.976268 \nL 656.561609 200.366351 \nL 664.759956 200.490465 \nL 672.958303 200.335759 \nL 681.15665 199.913152 \nL 689.354997 199.252807 \nL 697.553345 198.396249 \nL 705.751692 197.388232 \nL 713.950039 196.271281 \nL 722.148386 195.084255 \nL 730.346733 193.864103 \nL 738.54508 192.648432 \nL 746.743427 191.476348 \nL 754.941774 190.38632 \nL 763.140121 189.411656 \nL 771.338468 188.575616 \nL 779.536816 187.888284 \nL 787.735163 187.346381 \nL 795.93351 186.935848 \nL 804.131857 186.636033 \nL 812.330204 186.424031 \nL 820.528551 186.278122 \nL 828.726898 186.179803 \nL 836.925245 186.114537 \nL 845.123592 186.071592 \nL 853.32194 186.043419 \nL 861.520287 186.024893 \nL 869.718634 186.012627 \nL 877.916981 186.004421 \nL 886.115328 185.998862 \nL 894.313675 185.995044 \nL 902.512022 185.992383 \nL 910.710369 185.990504 \n\" style=\"fill:none;stroke:#dd8452;stroke-linecap:round;stroke-width:1.5;\"/>\n   </g>\n   <g id=\"line2d_3\">\n    <path clip-path=\"url(#pd113a0dbb5)\" d=\"M 99.074006 196.931353 \nL 107.272353 196.931352 \nL 115.4707 196.931351 \nL 123.669047 196.931349 \nL 131.867394 196.931347 \nL 140.065741 196.931344 \nL 148.264088 196.93134 \nL 156.462435 196.931334 \nL 164.660783 196.931327 \nL 172.85913 196.931318 \nL 181.057477 196.931306 \nL 189.255824 196.93129 \nL 197.454171 196.931268 \nL 205.652518 196.93124 \nL 213.850865 196.931203 \nL 222.049212 196.931154 \nL 230.247559 196.931089 \nL 238.445907 196.931003 \nL 246.644254 196.930889 \nL 254.842601 196.930738 \nL 263.040948 196.93054 \nL 271.239295 196.930277 \nL 279.437642 196.92993 \nL 287.635989 196.92947 \nL 295.834336 196.928864 \nL 304.032683 196.928061 \nL 312.23103 196.927001 \nL 320.429378 196.9256 \nL 328.627725 196.923749 \nL 336.826072 196.921302 \nL 345.024419 196.918069 \nL 353.222766 196.913799 \nL 361.421113 196.90816 \nL 369.61946 196.900715 \nL 377.817807 196.89089 \nL 386.016154 196.877932 \nL 394.214502 196.860854 \nL 402.412849 196.838366 \nL 410.611196 196.808794 \nL 418.809543 196.769969 \nL 427.00789 196.719107 \nL 435.206237 196.652665 \nL 443.404584 196.56619 \nL 451.602931 196.45418 \nL 459.801278 196.309984 \nL 467.999626 196.125811 \nL 476.197973 195.892912 \nL 484.39632 195.602048 \nL 492.594667 195.244337 \nL 500.793014 194.812537 \nL 508.991361 194.30271 \nL 517.189708 193.716021 \nL 525.388055 193.060267 \nL 533.586402 192.350606 \nL 541.784749 191.609079 \nL 549.983097 190.862854 \nL 558.181444 190.141542 \nL 566.379791 189.474317 \nL 574.578138 188.887649 \nL 582.776485 188.404274 \nL 590.974832 188.043548 \nL 599.173179 187.822826 \nL 607.371526 187.759106 \nL 615.569873 187.870087 \nL 623.768221 188.174019 \nL 631.966568 188.68814 \nL 640.164915 189.426007 \nL 648.363262 190.394363 \nL 656.561609 191.590369 \nL 664.759956 192.999894 \nL 672.958303 194.597278 \nL 681.15665 196.346599 \nL 689.354997 198.20421 \nL 697.553345 200.122048 \nL 705.751692 202.050987 \nL 713.950039 203.943423 \nL 722.148386 205.754629 \nL 730.346733 207.443134 \nL 738.54508 208.971045 \nL 746.743427 210.305356 \nL 754.941774 211.420704 \nL 763.140121 212.303 \nL 771.338468 212.952544 \nL 779.536816 213.385053 \nL 787.735163 213.629761 \nL 795.93351 213.724877 \nL 804.131857 213.711668 \nL 812.330204 213.628869 \nL 820.528551 213.508741 \nL 828.726898 213.375302 \nL 836.925245 213.244467 \nL 845.123592 213.125391 \nL 853.32194 213.022258 \nL 861.520287 212.935998 \nL 869.718634 212.865655 \nL 877.916981 212.809354 \nL 886.115328 212.764916 \nL 894.313675 212.730206 \nL 902.512022 212.703305 \nL 910.710369 212.68258 \n\" style=\"fill:none;stroke:#55a868;stroke-linecap:round;stroke-width:1.5;\"/>\n   </g>\n   <g id=\"line2d_4\">\n    <path clip-path=\"url(#pd113a0dbb5)\" d=\"M 99.074006 196.931353 \nL 107.272353 196.931352 \nL 115.4707 196.93135 \nL 123.669047 196.931348 \nL 131.867394 196.931346 \nL 140.065741 196.931343 \nL 148.264088 196.931338 \nL 156.462435 196.931333 \nL 164.660783 196.931325 \nL 172.85913 196.931315 \nL 181.057477 196.931302 \nL 189.255824 196.931285 \nL 197.454171 196.931262 \nL 205.652518 196.931232 \nL 213.850865 196.931192 \nL 222.049212 196.931139 \nL 230.247559 196.93107 \nL 238.445907 196.930978 \nL 246.644254 196.930856 \nL 254.842601 196.930695 \nL 263.040948 196.930482 \nL 271.239295 196.930201 \nL 279.437642 196.929829 \nL 287.635989 196.929338 \nL 295.834336 196.928688 \nL 304.032683 196.927829 \nL 312.23103 196.926695 \nL 320.429378 196.925195 \nL 328.627725 196.923213 \nL 336.826072 196.920594 \nL 345.024419 196.917135 \nL 353.222766 196.912565 \nL 361.421113 196.906531 \nL 369.61946 196.898565 \nL 377.817807 196.888055 \nL 386.016154 196.874197 \nL 394.214502 196.855937 \nL 402.412849 196.831904 \nL 410.611196 196.800315 \nL 418.809543 196.758873 \nL 427.00789 196.704632 \nL 435.206237 196.633861 \nL 443.404584 196.541901 \nL 451.602931 196.423036 \nL 459.801278 196.270441 \nL 467.999626 196.076251 \nL 476.197973 195.831859 \nL 484.39632 195.528553 \nL 492.594667 195.158589 \nL 500.793014 194.716754 \nL 508.991361 194.202295 \nL 517.189708 193.620904 \nL 525.388055 192.986202 \nL 533.586402 192.32012 \nL 541.784749 191.65171 \nL 549.983097 191.014385 \nL 558.181444 190.442048 \nL 566.379791 189.964974 \nL 574.578138 189.606372 \nL 582.776485 189.380355 \nL 590.974832 189.291764 \nL 599.173179 189.337829 \nL 607.371526 189.511288 \nL 615.569873 189.80418 \nL 623.768221 190.211356 \nL 631.966568 190.73279 \nL 640.164915 191.373984 \nL 648.363262 192.144122 \nL 656.561609 193.052059 \nL 664.759956 194.101071 \nL 672.958303 195.284117 \nL 681.15665 196.581791 \nL 689.354997 197.964302 \nL 697.553345 199.396883 \nL 705.751692 200.846164 \nL 713.950039 202.284494 \nL 722.148386 203.690419 \nL 730.346733 205.04583 \nL 738.54508 206.332106 \nL 746.743427 207.527979 \nL 754.941774 208.610627 \nL 763.140121 209.559508 \nL 771.338468 210.361014 \nL 779.536816 211.011731 \nL 787.735163 211.519053 \nL 795.93351 211.89917 \nL 804.131857 212.1735 \nL 812.330204 212.364857 \nL 820.528551 212.49444 \nL 828.726898 212.58006 \nL 836.925245 212.635558 \nL 845.123592 212.671043 \nL 853.32194 212.693546 \nL 861.520287 212.707773 \nL 869.718634 212.716785 \nL 877.916981 212.722529 \nL 886.115328 212.726226 \nL 894.313675 212.728638 \nL 902.512022 212.730235 \nL 910.710369 212.731309 \n\" style=\"fill:none;stroke:#c44e52;stroke-linecap:round;stroke-width:1.5;\"/>\n   </g>\n   <g id=\"line2d_5\">\n    <path clip-path=\"url(#pd113a0dbb5)\" d=\"M 99.074006 196.931353 \nL 107.272353 196.931352 \nL 115.4707 196.93135 \nL 123.669047 196.931348 \nL 131.867394 196.931346 \nL 140.065741 196.931343 \nL 148.264088 196.931339 \nL 156.462435 196.931333 \nL 164.660783 196.931326 \nL 172.85913 196.931316 \nL 181.057477 196.931303 \nL 189.255824 196.931286 \nL 197.454171 196.931263 \nL 205.652518 196.931234 \nL 213.850865 196.931194 \nL 222.049212 196.931142 \nL 230.247559 196.931073 \nL 238.445907 196.930982 \nL 246.644254 196.930862 \nL 254.842601 196.930703 \nL 263.040948 196.930493 \nL 271.239295 196.930215 \nL 279.437642 196.929848 \nL 287.635989 196.929363 \nL 295.834336 196.928721 \nL 304.032683 196.927873 \nL 312.23103 196.926752 \nL 320.429378 196.925271 \nL 328.627725 196.923314 \nL 336.826072 196.920727 \nL 345.024419 196.91731 \nL 353.222766 196.912796 \nL 361.421113 196.906834 \nL 369.61946 196.898964 \nL 377.817807 196.888578 \nL 386.016154 196.87488 \nL 394.214502 196.856826 \nL 402.412849 196.833056 \nL 410.611196 196.801798 \nL 418.809543 196.760762 \nL 427.00789 196.707007 \nL 435.206237 196.636791 \nL 443.404584 196.545412 \nL 451.602931 196.427062 \nL 459.801278 196.274719 \nL 467.999626 196.080157 \nL 476.197973 195.834124 \nL 484.39632 195.526817 \nL 492.594667 195.148725 \nL 500.793014 194.691889 \nL 508.991361 194.151482 \nL 517.189708 193.527455 \nL 525.388055 192.825791 \nL 533.586402 192.058899 \nL 541.784749 191.244816 \nL 549.983097 190.405263 \nL 558.181444 189.562954 \nL 566.379791 188.738737 \nL 574.578138 187.949014 \nL 582.776485 187.203632 \nL 590.974832 186.504214 \nL 599.173179 185.842881 \nL 607.371526 185.201552 \nL 615.569873 184.552334 \nL 623.768221 183.859648 \nL 631.966568 183.084525 \nL 640.164915 182.190909 \nL 648.363262 181.153009 \nL 656.561609 179.962035 \nL 664.759956 178.630325 \nL 672.958303 177.191257 \nL 681.15665 175.694475 \nL 689.354997 174.19757 \nL 697.553345 172.756634 \nL 705.751692 171.418369 \nL 713.950039 170.215577 \nL 722.148386 169.166334 \nL 730.346733 168.275941 \nL 738.54508 167.540204 \nL 746.743427 166.948753 \nL 754.941774 166.487645 \nL 763.140121 166.141055 \nL 771.338468 165.892243 \nL 779.536816 165.724173 \nL 787.735163 165.620074 \nL 795.93351 165.564129 \nL 804.131857 165.542197 \nL 812.330204 165.542427 \nL 820.528551 165.555576 \nL 828.726898 165.574976 \nL 836.925245 165.596217 \nL 845.123592 165.616665 \nL 853.32194 165.634963 \nL 861.520287 165.650583 \nL 869.718634 165.663494 \nL 877.916981 165.673924 \nL 886.115328 165.68221 \nL 894.313675 165.688712 \nL 902.512022 165.693768 \nL 910.710369 165.697673 \n\" style=\"fill:none;stroke:#8172b3;stroke-linecap:round;stroke-width:1.5;\"/>\n   </g>\n   <g id=\"line2d_6\">\n    <path clip-path=\"url(#pd113a0dbb5)\" d=\"M 99.074006 196.931353 \nL 107.272353 196.931352 \nL 115.4707 196.931351 \nL 123.669047 196.931349 \nL 131.867394 196.931347 \nL 140.065741 196.931344 \nL 148.264088 196.93134 \nL 156.462435 196.931335 \nL 164.660783 196.931329 \nL 172.85913 196.93132 \nL 181.057477 196.931308 \nL 189.255824 196.931293 \nL 197.454171 196.931272 \nL 205.652518 196.931246 \nL 213.850865 196.93121 \nL 222.049212 196.931163 \nL 230.247559 196.931101 \nL 238.445907 196.931019 \nL 246.644254 196.93091 \nL 254.842601 196.930767 \nL 263.040948 196.930577 \nL 271.239295 196.930326 \nL 279.437642 196.929995 \nL 287.635989 196.929557 \nL 295.834336 196.928978 \nL 304.032683 196.928213 \nL 312.23103 196.927201 \nL 320.429378 196.925865 \nL 328.627725 196.924099 \nL 336.826072 196.921766 \nL 345.024419 196.918684 \nL 353.222766 196.914614 \nL 361.421113 196.909242 \nL 369.61946 196.902154 \nL 377.817807 196.892806 \nL 386.016154 196.880489 \nL 394.214502 196.864275 \nL 402.412849 196.842963 \nL 410.611196 196.814997 \nL 418.809543 196.778387 \nL 427.00789 196.730611 \nL 435.206237 196.668516 \nL 443.404584 196.588235 \nL 451.602931 196.48516 \nL 459.801278 196.353997 \nL 467.999626 196.18901 \nL 476.197973 195.984522 \nL 484.39632 195.735792 \nL 492.594667 195.440314 \nL 500.793014 195.09949 \nL 508.991361 194.720413 \nL 517.189708 194.317256 \nL 525.388055 193.91163 \nL 533.586402 193.531407 \nL 541.784749 193.208053 \nL 549.983097 192.973228 \nL 558.181444 192.855875 \nL 566.379791 192.880818 \nL 574.578138 193.069111 \nL 582.776485 193.439407 \nL 590.974832 194.009108 \nL 599.173179 194.794061 \nL 607.371526 195.806083 \nL 615.569873 197.048437 \nL 623.768221 198.510214 \nL 631.966568 200.161321 \nL 640.164915 201.949911 \nL 648.363262 203.803562 \nL 656.561609 205.634333 \nL 664.759956 207.346654 \nL 672.958303 208.846366 \nL 681.15665 210.049282 \nL 689.354997 210.888195 \nL 697.553345 211.317865 \nL 705.751692 211.31804 \nL 713.950039 210.894782 \nL 722.148386 210.080296 \nL 730.346733 208.931024 \nL 738.54508 207.523419 \nL 746.743427 205.94691 \nL 754.941774 204.294449 \nL 763.140121 202.652301 \nL 771.338468 201.091487 \nL 779.536816 199.662853 \nL 787.735163 198.396329 \nL 795.93351 197.303503 \nL 804.131857 196.381936 \nL 812.330204 195.61977 \nL 820.528551 194.999756 \nL 828.726898 194.502377 \nL 836.925245 194.108022 \nL 845.123592 193.798374 \nL 853.32194 193.557167 \nL 861.520287 193.370477 \nL 869.718634 193.226723 \nL 877.916981 193.116479 \nL 886.115328 193.032201 \nL 894.313675 192.967932 \nL 902.512022 192.919015 \nL 910.710369 192.881838 \n\" style=\"fill:none;stroke:#937860;stroke-linecap:round;stroke-width:1.5;\"/>\n   </g>\n   <g id=\"line2d_7\">\n    <path clip-path=\"url(#pd113a0dbb5)\" d=\"M 99.074006 196.931352 \nL 107.272353 196.931351 \nL 115.4707 196.931349 \nL 123.669047 196.931347 \nL 131.867394 196.931344 \nL 140.065741 196.93134 \nL 148.264088 196.931335 \nL 156.462435 196.931329 \nL 164.660783 196.93132 \nL 172.85913 196.931308 \nL 181.057477 196.931293 \nL 189.255824 196.931273 \nL 197.454171 196.931246 \nL 205.652518 196.931211 \nL 213.850865 196.931164 \nL 222.049212 196.931103 \nL 230.247559 196.931021 \nL 238.445907 196.930913 \nL 246.644254 196.930771 \nL 254.842601 196.930582 \nL 263.040948 196.930333 \nL 271.239295 196.930004 \nL 279.437642 196.929569 \nL 287.635989 196.928993 \nL 295.834336 196.928233 \nL 304.032683 196.927228 \nL 312.23103 196.9259 \nL 320.429378 196.924144 \nL 328.627725 196.921825 \nL 336.826072 196.91876 \nL 345.024419 196.914712 \nL 353.222766 196.909366 \nL 361.421113 196.902307 \nL 369.61946 196.892991 \nL 377.817807 196.880703 \nL 386.016154 196.864507 \nL 394.214502 196.843177 \nL 402.412849 196.815123 \nL 410.611196 196.778283 \nL 418.809543 196.730007 \nL 427.00789 196.666922 \nL 435.206237 196.584781 \nL 443.404584 196.47833 \nL 451.602931 196.341219 \nL 459.801278 196.166002 \nL 467.999626 195.944339 \nL 476.197973 195.667491 \nL 484.39632 195.327225 \nL 492.594667 194.917229 \nL 500.793014 194.43496 \nL 508.991361 193.883663 \nL 517.189708 193.27398 \nL 525.388055 192.624417 \nL 533.586402 191.960046 \nL 541.784749 191.309403 \nL 549.983097 190.700362 \nL 558.181444 190.156353 \nL 566.379791 189.694196 \nL 574.578138 189.32415 \nL 582.776485 189.051883 \nL 590.974832 188.881531 \nL 599.173179 188.819002 \nL 607.371526 188.875043 \nL 615.569873 189.06812 \nL 623.768221 189.427601 \nL 631.966568 189.997979 \nL 640.164915 190.844607 \nL 648.363262 192.060741 \nL 656.561609 193.77455 \nL 664.759956 196.153774 \nL 672.958303 199.405254 \nL 681.15665 203.766856 \nL 689.354997 209.490298 \nL 697.553345 216.814472 \nL 705.751692 225.930223 \nL 713.950039 236.939494 \nL 722.148386 249.815101 \nL 730.346733 264.371535 \nL 738.54508 280.259311 \nL 746.743427 296.991931 \nL 754.941774 314.003992 \nL 763.140121 330.725938 \nL 771.338468 346.653689 \nL 779.536816 361.395252 \nL 787.735163 374.688525 \nL 795.93351 386.396027 \nL 804.131857 396.486806 \nL 812.330204 405.013741 \nL 820.528551 412.090383 \nL 828.726898 417.868986 \nL 836.925245 422.520822 \nL 845.123592 426.219953 \nL 853.32194 429.131326 \nL 861.520287 431.403328 \nL 869.718634 433.164232 \nL 877.916981 434.521554 \nL 886.115328 435.563283 \nL 894.313675 436.360107 \nL 902.512022 436.968011 \nL 910.710369 437.430852 \n\" style=\"fill:none;stroke:#da8bc3;stroke-linecap:round;stroke-width:1.5;\"/>\n   </g>\n   <g id=\"line2d_8\">\n    <path clip-path=\"url(#pd113a0dbb5)\" d=\"M 99.074006 196.931352 \nL 107.272353 196.931351 \nL 115.4707 196.931349 \nL 123.669047 196.931347 \nL 131.867394 196.931344 \nL 140.065741 196.93134 \nL 148.264088 196.931335 \nL 156.462435 196.931328 \nL 164.660783 196.931318 \nL 172.85913 196.931306 \nL 181.057477 196.93129 \nL 189.255824 196.931269 \nL 197.454171 196.931242 \nL 205.652518 196.931205 \nL 213.850865 196.931156 \nL 222.049212 196.931092 \nL 230.247559 196.931006 \nL 238.445907 196.930894 \nL 246.644254 196.930745 \nL 254.842601 196.930549 \nL 263.040948 196.930289 \nL 271.239295 196.929945 \nL 279.437642 196.929491 \nL 287.635989 196.928891 \nL 295.834336 196.928098 \nL 304.032683 196.927049 \nL 312.23103 196.925663 \nL 320.429378 196.923832 \nL 328.627725 196.921412 \nL 336.826072 196.918214 \nL 345.024419 196.913991 \nL 353.222766 196.908412 \nL 361.421113 196.901046 \nL 369.61946 196.891324 \nL 377.817807 196.8785 \nL 386.016154 196.861594 \nL 394.214502 196.839328 \nL 402.412849 196.810035 \nL 410.611196 196.771558 \nL 418.809543 196.72112 \nL 427.00789 196.655178 \nL 435.206237 196.569262 \nL 443.404584 196.457829 \nL 451.602931 196.314139 \nL 459.801278 196.130243 \nL 467.999626 195.897136 \nL 476.197973 195.60521 \nL 484.39632 195.2451 \nL 492.594667 194.809023 \nL 500.793014 194.292537 \nL 508.991361 193.696447 \nL 517.189708 193.028278 \nL 525.388055 192.302579 \nL 533.586402 191.539414 \nL 541.784749 190.760996 \nL 549.983097 189.987214 \nL 558.181444 189.231387 \nL 566.379791 188.497514 \nL 574.578138 187.779572 \nL 582.776485 187.062566 \nL 590.974832 186.324463 \nL 599.173179 185.538143 \nL 607.371526 184.672868 \nL 615.569873 183.69529 \nL 623.768221 182.570512 \nL 631.966568 181.263903 \nL 640.164915 179.744133 \nL 648.363262 177.98712 \nL 656.561609 175.979617 \nL 664.759956 173.720455 \nL 672.958303 171.217704 \nL 681.15665 168.481347 \nL 689.354997 165.513015 \nL 697.553345 162.295981 \nL 705.751692 158.788919 \nL 713.950039 154.925803 \nL 722.148386 150.622492 \nL 730.346733 145.78882 \nL 738.54508 140.344267 \nL 746.743427 134.235349 \nL 754.941774 127.453118 \nL 763.140121 120.048795 \nL 771.338468 112.143996 \nL 779.536816 103.93046 \nL 787.735163 95.654806 \nL 795.93351 87.588252 \nL 804.131857 79.987886 \nL 812.330204 73.060698 \nL 820.528551 66.940777 \nL 828.726898 61.684127 \nL 836.925245 57.278688 \nL 845.123592 53.662952 \nL 853.32194 50.746323 \nL 861.520287 48.426531 \nL 869.718634 46.602123 \nL 877.916981 45.180033 \nL 886.115328 44.079237 \nL 894.313675 43.23174 \nL 902.512022 42.581973 \nL 910.710369 42.085398 \n\" style=\"fill:none;stroke:#8c8c8c;stroke-linecap:round;stroke-width:1.5;\"/>\n   </g>\n   <g id=\"line2d_9\">\n    <path clip-path=\"url(#pd113a0dbb5)\" d=\"M 99.074006 196.931352 \nL 107.272353 196.931351 \nL 115.4707 196.931349 \nL 123.669047 196.931347 \nL 131.867394 196.931344 \nL 140.065741 196.93134 \nL 148.264088 196.931335 \nL 156.462435 196.931329 \nL 164.660783 196.93132 \nL 172.85913 196.931309 \nL 181.057477 196.931293 \nL 189.255824 196.931273 \nL 197.454171 196.931247 \nL 205.652518 196.931211 \nL 213.850865 196.931165 \nL 222.049212 196.931103 \nL 230.247559 196.931022 \nL 238.445907 196.930914 \nL 246.644254 196.930772 \nL 254.842601 196.930584 \nL 263.040948 196.930335 \nL 271.239295 196.930007 \nL 279.437642 196.929573 \nL 287.635989 196.928999 \nL 295.834336 196.92824 \nL 304.032683 196.927237 \nL 312.23103 196.925912 \nL 320.429378 196.924161 \nL 328.627725 196.921846 \nL 336.826072 196.918789 \nL 345.024419 196.91475 \nL 353.222766 196.909415 \nL 361.421113 196.902371 \nL 369.61946 196.893075 \nL 377.817807 196.880813 \nL 386.016154 196.864648 \nL 394.214502 196.843359 \nL 402.412849 196.815354 \nL 410.611196 196.778572 \nL 418.809543 196.730362 \nL 427.00789 196.667342 \nL 435.206237 196.585253 \nL 443.404584 196.478815 \nL 451.602931 196.341621 \nL 459.801278 196.166133 \nL 467.999626 195.943848 \nL 476.197973 195.665756 \nL 484.39632 195.323192 \nL 492.594667 194.909171 \nL 500.793014 194.420154 \nL 508.991361 193.857963 \nL 517.189708 193.231292 \nL 525.388055 192.556053 \nL 533.586402 191.853909 \nL 541.784749 191.148853 \nL 549.983097 190.462508 \nL 558.181444 189.809418 \nL 566.379791 189.193666 \nL 574.578138 188.607648 \nL 582.776485 188.033203 \nL 590.974832 187.444873 \nL 599.173179 186.815032 \nL 607.371526 186.120472 \nL 615.569873 185.349652 \nL 623.768221 184.509077 \nL 631.966568 183.62678 \nL 640.164915 182.75116 \nL 648.363262 181.944963 \nL 656.561609 181.276246 \nL 664.759956 180.809673 \nL 672.958303 180.601178 \nL 681.15665 180.697002 \nL 689.354997 181.135418 \nL 697.553345 181.947804 \nL 705.751692 183.155733 \nL 713.950039 184.762646 \nL 722.148386 186.741654 \nL 730.346733 189.0242 \nL 738.54508 191.496008 \nL 746.743427 194.005488 \nL 754.941774 196.385265 \nL 763.140121 198.481529 \nL 771.338468 200.18186 \nL 779.536816 201.432484 \nL 787.735163 202.240329 \nL 795.93351 202.661149 \nL 804.131857 202.779514 \nL 812.330204 202.687879 \nL 820.528551 202.470321 \nL 828.726898 202.193434 \nL 836.925245 201.903873 \nL 845.123592 201.630371 \nL 853.32194 201.387839 \nL 861.520287 201.181748 \nL 869.718634 201.01182 \nL 877.916981 200.87474 \nL 886.115328 200.765923 \nL 894.313675 200.68057 \nL 902.512022 200.614217 \nL 910.710369 200.56298 \n\" style=\"fill:none;stroke:#ccb974;stroke-linecap:round;stroke-width:1.5;\"/>\n   </g>\n   <g id=\"line2d_10\">\n    <path clip-path=\"url(#pd113a0dbb5)\" d=\"M 99.074006 196.931352 \nL 107.272353 196.931351 \nL 115.4707 196.931349 \nL 123.669047 196.931346 \nL 131.867394 196.931343 \nL 140.065741 196.931339 \nL 148.264088 196.931334 \nL 156.462435 196.931327 \nL 164.660783 196.931318 \nL 172.85913 196.931305 \nL 181.057477 196.931289 \nL 189.255824 196.931267 \nL 197.454171 196.931239 \nL 205.652518 196.931201 \nL 213.850865 196.931151 \nL 222.049212 196.931085 \nL 230.247559 196.930998 \nL 238.445907 196.930882 \nL 246.644254 196.93073 \nL 254.842601 196.930528 \nL 263.040948 196.930262 \nL 271.239295 196.92991 \nL 279.437642 196.929444 \nL 287.635989 196.928829 \nL 295.834336 196.928016 \nL 304.032683 196.926941 \nL 312.23103 196.925521 \nL 320.429378 196.923643 \nL 328.627725 196.921163 \nL 336.826072 196.917885 \nL 345.024419 196.913555 \nL 353.222766 196.907836 \nL 361.421113 196.900286 \nL 369.61946 196.89032 \nL 377.817807 196.877174 \nL 386.016154 196.859844 \nL 394.214502 196.837019 \nL 402.412849 196.806991 \nL 410.611196 196.767548 \nL 418.809543 196.715843 \nL 427.00789 196.648244 \nL 435.206237 196.56017 \nL 443.404584 196.445934 \nL 451.602931 196.298629 \nL 459.801278 196.110102 \nL 467.999626 195.87112 \nL 476.197973 195.571829 \nL 484.39632 195.202628 \nL 492.594667 194.755542 \nL 500.793014 194.226037 \nL 508.991361 193.614982 \nL 517.189708 192.930201 \nL 525.388055 192.186803 \nL 533.586402 191.405686 \nL 541.784749 190.610116 \nL 549.983097 189.821146 \nL 558.181444 189.053227 \nL 566.379791 188.3113 \nL 574.578138 187.589932 \nL 582.776485 186.874171 \nL 590.974832 186.141218 \nL 599.173179 185.361996 \nL 607.371526 184.50201 \nL 615.569873 183.521404 \nL 623.768221 182.37448 \nL 631.966568 181.009181 \nL 640.164915 179.366952 \nL 648.363262 177.383241 \nL 656.561609 174.988616 \nL 664.759956 172.110472 \nL 672.958303 168.675604 \nL 681.15665 164.614554 \nL 689.354997 159.869174 \nL 697.553345 154.404635 \nL 705.751692 148.225801 \nL 713.950039 141.395665 \nL 722.148386 134.051099 \nL 730.346733 126.409453 \nL 738.54508 118.759492 \nL 746.743427 111.432995 \nL 754.941774 104.75942 \nL 763.140121 99.013544 \nL 771.338468 94.370928 \nL 779.536816 90.884724 \nL 787.735163 88.489986 \nL 795.93351 87.031855 \nL 804.131857 86.306648 \nL 812.330204 86.102787 \nL 820.528551 86.23159 \nL 828.726898 86.543828 \nL 836.925245 86.933386 \nL 845.123592 87.332395 \nL 853.32194 87.702521 \nL 861.520287 88.025875 \nL 869.718634 88.297371 \nL 877.916981 88.519113 \nL 886.115328 88.696671 \nL 894.313675 88.83681 \nL 902.512022 88.946247 \nL 910.710369 89.031032 \n\" style=\"fill:none;stroke:#64b5cd;stroke-linecap:round;stroke-width:1.5;\"/>\n   </g>\n   <g id=\"line2d_11\">\n    <path clip-path=\"url(#pd113a0dbb5)\" d=\"M 99.074006 196.931352 \nL 107.272353 196.93135 \nL 115.4707 196.931349 \nL 123.669047 196.931346 \nL 131.867394 196.931343 \nL 140.065741 196.931339 \nL 148.264088 196.931334 \nL 156.462435 196.931327 \nL 164.660783 196.931317 \nL 172.85913 196.931305 \nL 181.057477 196.931288 \nL 189.255824 196.931267 \nL 197.454171 196.931238 \nL 205.652518 196.9312 \nL 213.850865 196.931149 \nL 222.049212 196.931083 \nL 230.247559 196.930995 \nL 238.445907 196.930879 \nL 246.644254 196.930725 \nL 254.842601 196.930522 \nL 263.040948 196.930254 \nL 271.239295 196.929899 \nL 279.437642 196.92943 \nL 287.635989 196.92881 \nL 295.834336 196.927991 \nL 304.032683 196.926908 \nL 312.23103 196.925476 \nL 320.429378 196.923584 \nL 328.627725 196.921085 \nL 336.826072 196.917782 \nL 345.024419 196.913419 \nL 353.222766 196.907657 \nL 361.421113 196.900049 \nL 369.61946 196.890008 \nL 377.817807 196.876761 \nL 386.016154 196.859299 \nL 394.214502 196.8363 \nL 402.412849 196.806044 \nL 410.611196 196.766301 \nL 418.809543 196.714203 \nL 427.00789 196.64609 \nL 435.206237 196.557346 \nL 443.404584 196.442244 \nL 451.602931 196.293822 \nL 459.801278 196.103869 \nL 467.999626 195.863083 \nL 476.197973 195.561539 \nL 484.39632 195.18957 \nL 492.594667 194.739145 \nL 500.793014 194.2057 \nL 508.991361 193.590109 \nL 517.189708 192.900219 \nL 525.388055 192.15115 \nL 533.586402 191.3637 \nL 541.784749 190.560756 \nL 549.983097 189.762464 \nL 558.181444 188.981518 \nL 566.379791 188.219938 \nL 574.578138 187.46803 \nL 582.776485 186.705481 \nL 590.974832 185.903981 \nL 599.173179 185.030792 \nL 607.371526 184.052761 \nL 615.569873 182.940354 \nL 623.768221 181.671135 \nL 631.966568 180.23188 \nL 640.164915 178.618455 \nL 648.363262 176.832918 \nL 656.561609 174.877954 \nL 664.759956 172.749483 \nL 672.958303 170.428921 \nL 681.15665 167.877106 \nL 689.354997 165.03243 \nL 697.553345 161.81614 \nL 705.751692 158.147302 \nL 713.950039 153.967649 \nL 722.148386 149.272251 \nL 730.346733 144.136877 \nL 738.54508 138.72995 \nL 746.743427 133.299483 \nL 754.941774 128.133955 \nL 763.140121 123.507382 \nL 771.338468 119.626378 \nL 779.536816 116.596276 \nL 787.735163 114.414974 \nL 795.93351 112.9922 \nL 804.131857 112.183739 \nL 812.330204 111.827841 \nL 820.528551 111.773907 \nL 828.726898 111.89908 \nL 836.925245 112.113485 \nL 845.123592 112.357678 \nL 853.32194 112.596341 \nL 861.520287 112.811254 \nL 869.718634 112.995194 \nL 877.916981 113.147366 \nL 886.115328 113.270304 \nL 894.313675 113.367949 \nL 902.512022 113.444549 \nL 910.710369 113.504093 \n\" style=\"fill:none;stroke:#4c72b0;stroke-linecap:round;stroke-width:1.5;\"/>\n   </g>\n   <g id=\"line2d_12\">\n    <path clip-path=\"url(#pd113a0dbb5)\" d=\"M 99.074006 196.931352 \nL 107.272353 196.931351 \nL 115.4707 196.93135 \nL 123.669047 196.931348 \nL 131.867394 196.931345 \nL 140.065741 196.931341 \nL 148.264088 196.931337 \nL 156.462435 196.931331 \nL 164.660783 196.931323 \nL 172.85913 196.931312 \nL 181.057477 196.931298 \nL 189.255824 196.931279 \nL 197.454171 196.931254 \nL 205.652518 196.931221 \nL 213.850865 196.931178 \nL 222.049212 196.93112 \nL 230.247559 196.931044 \nL 238.445907 196.930944 \nL 246.644254 196.930811 \nL 254.842601 196.930636 \nL 263.040948 196.930404 \nL 271.239295 196.930097 \nL 279.437642 196.929692 \nL 287.635989 196.929156 \nL 295.834336 196.928449 \nL 304.032683 196.927513 \nL 312.23103 196.926276 \nL 320.429378 196.924642 \nL 328.627725 196.922483 \nL 336.826072 196.91963 \nL 345.024419 196.915862 \nL 353.222766 196.910885 \nL 361.421113 196.904315 \nL 369.61946 196.895644 \nL 377.817807 196.884209 \nL 386.016154 196.869136 \nL 394.214502 196.849291 \nL 402.412849 196.823194 \nL 410.611196 196.788932 \nL 418.809543 196.744051 \nL 427.00789 196.685428 \nL 435.206237 196.609143 \nL 443.404584 196.510363 \nL 451.602931 196.383268 \nL 459.801278 196.221089 \nL 467.999626 196.016328 \nL 476.197973 195.761277 \nL 484.39632 195.448967 \nL 492.594667 195.074603 \nL 500.793014 194.637465 \nL 508.991361 194.143009 \nL 517.189708 193.60463 \nL 525.388055 193.044387 \nL 533.586402 192.492121 \nL 541.784749 191.982928 \nL 549.983097 191.55374 \nL 558.181444 191.240279 \nL 566.379791 191.075522 \nL 574.578138 191.090059 \nL 582.776485 191.313811 \nL 590.974832 191.778055 \nL 599.173179 192.516672 \nL 607.371526 193.565941 \nL 615.569873 194.962584 \nL 623.768221 196.740027 \nL 631.966568 198.922961 \nL 640.164915 201.520448 \nL 648.363262 204.518384 \nL 656.561609 207.87301 \nL 664.759956 211.507983 \nL 672.958303 215.317469 \nL 681.15665 219.176193 \nL 689.354997 222.954581 \nL 697.553345 226.534692 \nL 705.751692 229.822192 \nL 713.950039 232.751635 \nL 722.148386 235.285372 \nL 730.346733 237.408576 \nL 738.54508 239.123371 \nL 746.743427 240.444193 \nL 754.941774 241.39523 \nL 763.140121 242.009617 \nL 771.338468 242.329293 \nL 779.536816 242.404216 \nL 787.735163 242.28996 \nL 795.93351 242.043598 \nL 804.131857 241.7187 \nL 812.330204 241.360819 \nL 820.528551 241.00468 \nL 828.726898 240.673542 \nL 836.925245 240.380413 \nL 845.123592 240.130332 \nL 853.32194 239.922905 \nL 861.520287 239.75454 \nL 869.718634 239.620137 \nL 877.916981 239.514208 \nL 886.115328 239.431533 \nL 894.313675 239.36749 \nL 902.512022 239.318162 \nL 910.710369 239.280333 \n\" style=\"fill:none;stroke:#dd8452;stroke-linecap:round;stroke-width:1.5;\"/>\n   </g>\n   <g id=\"line2d_13\">\n    <path clip-path=\"url(#pd113a0dbb5)\" d=\"M 99.074006 196.931354 \nL 107.272353 196.931353 \nL 115.4707 196.931352 \nL 123.669047 196.931351 \nL 131.867394 196.931349 \nL 140.065741 196.931347 \nL 148.264088 196.931344 \nL 156.462435 196.93134 \nL 164.660783 196.931335 \nL 172.85913 196.931329 \nL 181.057477 196.93132 \nL 189.255824 196.931309 \nL 197.454171 196.931293 \nL 205.652518 196.931273 \nL 213.850865 196.931246 \nL 222.049212 196.931211 \nL 230.247559 196.931165 \nL 238.445907 196.931103 \nL 246.644254 196.931022 \nL 254.842601 196.930914 \nL 263.040948 196.930772 \nL 271.239295 196.930584 \nL 279.437642 196.930335 \nL 287.635989 196.930006 \nL 295.834336 196.929572 \nL 304.032683 196.928998 \nL 312.23103 196.928239 \nL 320.429378 196.927236 \nL 328.627725 196.92591 \nL 336.826072 196.924158 \nL 345.024419 196.921843 \nL 353.222766 196.918783 \nL 361.421113 196.914742 \nL 369.61946 196.909403 \nL 377.817807 196.902354 \nL 386.016154 196.893049 \nL 394.214502 196.880772 \nL 402.412849 196.864583 \nL 410.611196 196.843254 \nL 418.809543 196.815182 \nL 427.00789 196.778285 \nL 435.206237 196.729878 \nL 443.404584 196.666515 \nL 451.602931 196.583824 \nL 459.801278 196.476321 \nL 467.999626 196.337236 \nL 476.197973 196.158376 \nL 484.39632 195.930068 \nL 492.594667 195.641245 \nL 500.793014 195.279713 \nL 508.991361 194.832639 \nL 517.189708 194.287245 \nL 525.388055 193.631673 \nL 533.586402 192.855951 \nL 541.784749 191.95306 \nL 549.983097 190.920163 \nL 558.181444 189.760081 \nL 566.379791 188.482992 \nL 574.578138 187.108061 \nL 582.776485 185.664329 \nL 590.974832 184.190066 \nL 599.173179 182.729975 \nL 607.371526 181.330402 \nL 615.569873 180.033586 \nL 623.768221 178.872524 \nL 631.966568 177.867796 \nL 640.164915 177.02689 \nL 648.363262 176.345679 \nL 656.561609 175.811214 \nL 664.759956 175.404952 \nL 672.958303 175.1058 \nL 681.15665 174.892605 \nL 689.354997 174.74597 \nL 697.553345 174.649374 \nL 705.751692 174.589662 \nL 713.950039 174.556979 \nL 722.148386 174.544276 \nL 730.346733 174.546575 \nL 738.54508 174.56019 \nL 746.743427 174.582124 \nL 754.941774 174.609727 \nL 763.140121 174.640595 \nL 771.338468 174.672627 \nL 779.536816 174.704108 \nL 787.735163 174.733756 \nL 795.93351 174.760719 \nL 804.131857 174.784522 \nL 812.330204 174.805001 \nL 820.528551 174.82223 \nL 828.726898 174.836444 \nL 836.925245 174.847975 \nL 845.123592 174.857199 \nL 853.32194 174.86449 \nL 861.520287 174.8702 \nL 869.718634 174.874636 \nL 877.916981 174.878062 \nL 886.115328 174.880695 \nL 894.313675 174.882711 \nL 902.512022 174.884251 \nL 910.710369 174.885424 \n\" style=\"fill:none;stroke:#55a868;stroke-linecap:round;stroke-width:1.5;\"/>\n   </g>\n   <g id=\"line2d_14\">\n    <path clip-path=\"url(#pd113a0dbb5)\" d=\"M 99.074006 196.931356 \nL 107.272353 196.931356 \nL 115.4707 196.931356 \nL 123.669047 196.931356 \nL 131.867394 196.931355 \nL 140.065741 196.931355 \nL 148.264088 196.931355 \nL 156.462435 196.931355 \nL 164.660783 196.931354 \nL 172.85913 196.931354 \nL 181.057477 196.931353 \nL 189.255824 196.931352 \nL 197.454171 196.931351 \nL 205.652518 196.931349 \nL 213.850865 196.931347 \nL 222.049212 196.931344 \nL 230.247559 196.93134 \nL 238.445907 196.931335 \nL 246.644254 196.931328 \nL 254.842601 196.931319 \nL 263.040948 196.931306 \nL 271.239295 196.931291 \nL 279.437642 196.93127 \nL 287.635989 196.931242 \nL 295.834336 196.931205 \nL 304.032683 196.931156 \nL 312.23103 196.931092 \nL 320.429378 196.931007 \nL 328.627725 196.930895 \nL 336.826072 196.930746 \nL 345.024419 196.93055 \nL 353.222766 196.93029 \nL 361.421113 196.929947 \nL 369.61946 196.929493 \nL 377.817807 196.928894 \nL 386.016154 196.9281 \nL 394.214502 196.927052 \nL 402.412849 196.925665 \nL 410.611196 196.92383 \nL 418.809543 196.921404 \nL 427.00789 196.918196 \nL 435.206237 196.913951 \nL 443.404584 196.908338 \nL 451.602931 196.900915 \nL 459.801278 196.891107 \nL 467.999626 196.878164 \nL 476.197973 196.861121 \nL 484.39632 196.838767 \nL 492.594667 196.809623 \nL 500.793014 196.771979 \nL 508.991361 196.723993 \nL 517.189708 196.663913 \nL 525.388055 196.590397 \nL 533.586402 196.502863 \nL 541.784749 196.401718 \nL 549.983097 196.288223 \nL 558.181444 196.163863 \nL 566.379791 196.029303 \nL 574.578138 195.883326 \nL 582.776485 195.7223 \nL 590.974832 195.540631 \nL 599.173179 195.332162 \nL 607.371526 195.092059 \nL 615.569873 194.818425 \nL 623.768221 194.513016 \nL 631.966568 194.180754 \nL 640.164915 193.828273 \nL 648.363262 193.462081 \nL 656.561609 193.087056 \nL 664.759956 192.705682 \nL 672.958303 192.318008 \nL 681.15665 191.92196 \nL 689.354997 191.513768 \nL 697.553345 191.088491 \nL 705.751692 190.640846 \nL 713.950039 190.16647 \nL 722.148386 189.663469 \nL 730.346733 189.133807 \nL 738.54508 188.584015 \nL 746.743427 188.024813 \nL 754.941774 187.469665 \nL 763.140121 186.932698 \nL 771.338468 186.426675 \nL 779.536816 185.961575 \nL 787.735163 185.543985 \nL 795.93351 185.177158 \nL 804.131857 184.861436 \nL 812.330204 184.594828 \nL 820.528551 184.373621 \nL 828.726898 184.19299 \nL 836.925245 184.047565 \nL 845.123592 183.931904 \nL 853.32194 183.84086 \nL 861.520287 183.769799 \nL 869.718634 183.714716 \nL 877.916981 183.672253 \nL 886.115328 183.63966 \nL 894.313675 183.614728 \nL 902.512022 183.595706 \nL 910.710369 183.581223 \n\" style=\"fill:none;stroke:#c44e52;stroke-linecap:round;stroke-width:1.5;\"/>\n   </g>\n   <g id=\"line2d_15\">\n    <path clip-path=\"url(#pd113a0dbb5)\" d=\"M 99.074006 196.931356 \nL 107.272353 196.931356 \nL 115.4707 196.931356 \nL 123.669047 196.931356 \nL 131.867394 196.931356 \nL 140.065741 196.931356 \nL 148.264088 196.931356 \nL 156.462435 196.931356 \nL 164.660783 196.931356 \nL 172.85913 196.931356 \nL 181.057477 196.931357 \nL 189.255824 196.931357 \nL 197.454171 196.931357 \nL 205.652518 196.931357 \nL 213.850865 196.931358 \nL 222.049212 196.931359 \nL 230.247559 196.931359 \nL 238.445907 196.931361 \nL 246.644254 196.931362 \nL 254.842601 196.931364 \nL 263.040948 196.931366 \nL 271.239295 196.93137 \nL 279.437642 196.931374 \nL 287.635989 196.93138 \nL 295.834336 196.931388 \nL 304.032683 196.931398 \nL 312.23103 196.931412 \nL 320.429378 196.93143 \nL 328.627725 196.931454 \nL 336.826072 196.931485 \nL 345.024419 196.931527 \nL 353.222766 196.931581 \nL 361.421113 196.931654 \nL 369.61946 196.931749 \nL 377.817807 196.931874 \nL 386.016154 196.932039 \nL 394.214502 196.932256 \nL 402.412849 196.93254 \nL 410.611196 196.932911 \nL 418.809543 196.933395 \nL 427.00789 196.934024 \nL 435.206237 196.934836 \nL 443.404584 196.935879 \nL 451.602931 196.93721 \nL 459.801278 196.938898 \nL 467.999626 196.941029 \nL 476.197973 196.943721 \nL 484.39632 196.947159 \nL 492.594667 196.951676 \nL 500.793014 196.957918 \nL 508.991361 196.967135 \nL 517.189708 196.98166 \nL 525.388055 197.005559 \nL 533.586402 197.045374 \nL 541.784749 197.110691 \nL 549.983097 197.21418 \nL 558.181444 197.370764 \nL 566.379791 197.595824 \nL 574.578138 197.902694 \nL 582.776485 198.300084 \nL 590.974832 198.790058 \nL 599.173179 199.367046 \nL 607.371526 200.018026 \nL 615.569873 200.723761 \nL 623.768221 201.460873 \nL 631.966568 202.204404 \nL 640.164915 202.930439 \nL 648.363262 203.618287 \nL 656.561609 204.251839 \nL 664.759956 204.819995 \nL 672.958303 205.316366 \nL 681.15665 205.738616 \nL 689.354997 206.087743 \nL 697.553345 206.367448 \nL 705.751692 206.583571 \nL 713.950039 206.743563 \nL 722.148386 206.855976 \nL 730.346733 206.929979 \nL 738.54508 206.974876 \nL 746.743427 206.999601 \nL 754.941774 207.012181 \nL 763.140121 207.019232 \nL 771.338468 207.025578 \nL 779.536816 207.034125 \nL 787.735163 207.046023 \nL 795.93351 207.06107 \nL 804.131857 207.078247 \nL 812.330204 207.09624 \nL 820.528551 207.113822 \nL 828.726898 207.130074 \nL 836.925245 207.144448 \nL 845.123592 207.156723 \nL 853.32194 207.166921 \nL 861.520287 207.175211 \nL 869.718634 207.181838 \nL 877.916981 207.187068 \nL 886.115328 207.191154 \nL 894.313675 207.194321 \nL 902.512022 207.196762 \nL 910.710369 207.198635 \n\" style=\"fill:none;stroke:#8172b3;stroke-linecap:round;stroke-width:1.5;\"/>\n   </g>\n   <g id=\"line2d_16\">\n    <path clip-path=\"url(#pd113a0dbb5)\" d=\"M 99.074006 196.931356 \nL 107.272353 196.931356 \nL 115.4707 196.931356 \nL 123.669047 196.931356 \nL 131.867394 196.931356 \nL 140.065741 196.931356 \nL 148.264088 196.931357 \nL 156.462435 196.931357 \nL 164.660783 196.931357 \nL 172.85913 196.931357 \nL 181.057477 196.931358 \nL 189.255824 196.931358 \nL 197.454171 196.931359 \nL 205.652518 196.93136 \nL 213.850865 196.931361 \nL 222.049212 196.931363 \nL 230.247559 196.931365 \nL 238.445907 196.931368 \nL 246.644254 196.931372 \nL 254.842601 196.931377 \nL 263.040948 196.931384 \nL 271.239295 196.931393 \nL 279.437642 196.931404 \nL 287.635989 196.93142 \nL 295.834336 196.931441 \nL 304.032683 196.931468 \nL 312.23103 196.931504 \nL 320.429378 196.931551 \nL 328.627725 196.931614 \nL 336.826072 196.931696 \nL 345.024419 196.931805 \nL 353.222766 196.931948 \nL 361.421113 196.932135 \nL 369.61946 196.932382 \nL 377.817807 196.932704 \nL 386.016154 196.933123 \nL 394.214502 196.933666 \nL 402.412849 196.934366 \nL 410.611196 196.935259 \nL 418.809543 196.936383 \nL 427.00789 196.937773 \nL 435.206237 196.939447 \nL 443.404584 196.941382 \nL 451.602931 196.943471 \nL 459.801278 196.945455 \nL 467.999626 196.946805 \nL 476.197973 196.946549 \nL 484.39632 196.943022 \nL 492.594667 196.933545 \nL 500.793014 196.914057 \nL 508.991361 196.87879 \nL 517.189708 196.820153 \nL 525.388055 196.72901 \nL 533.586402 196.595575 \nL 541.784749 196.410943 \nL 549.983097 196.169015 \nL 558.181444 195.868221 \nL 566.379791 195.512242 \nL 574.578138 195.109107 \nL 582.776485 194.668666 \nL 590.974832 194.19925 \nL 599.173179 193.704888 \nL 607.371526 193.18432 \nL 615.569873 192.632283 \nL 623.768221 192.042565 \nL 631.966568 191.411684 \nL 640.164915 190.741886 \nL 648.363262 190.042494 \nL 656.561609 189.329247 \nL 664.759956 188.621935 \nL 672.958303 187.941149 \nL 681.15665 187.305167 \nL 689.354997 186.727726 \nL 697.553345 186.21704 \nL 705.751692 185.775941 \nL 713.950039 185.402759 \nL 722.148386 185.092517 \nL 730.346733 184.838105 \nL 738.54508 184.631298 \nL 746.743427 184.463581 \nL 754.941774 184.326833 \nL 763.140121 184.21388 \nL 771.338468 184.118871 \nL 779.536816 184.037455 \nL 787.735163 183.966715 \nL 795.93351 183.904904 \nL 804.131857 183.851066 \nL 812.330204 183.804651 \nL 820.528551 183.765221 \nL 828.726898 183.732279 \nL 836.925245 183.705211 \nL 845.123592 183.683306 \nL 853.32194 183.665817 \nL 861.520287 183.652009 \nL 869.718634 183.64121 \nL 877.916981 183.632826 \nL 886.115328 183.626356 \nL 894.313675 183.621386 \nL 902.512022 183.617582 \nL 910.710369 183.614678 \n\" style=\"fill:none;stroke:#937860;stroke-linecap:round;stroke-width:1.5;\"/>\n   </g>\n   <g id=\"line2d_17\">\n    <path clip-path=\"url(#pd113a0dbb5)\" d=\"M 99.074006 196.931357 \nL 107.272353 196.931358 \nL 115.4707 196.931358 \nL 123.669047 196.931359 \nL 131.867394 196.93136 \nL 140.065741 196.931362 \nL 148.264088 196.931363 \nL 156.462435 196.931366 \nL 164.660783 196.931369 \nL 172.85913 196.931373 \nL 181.057477 196.931379 \nL 189.255824 196.931386 \nL 197.454171 196.931396 \nL 205.652518 196.931409 \nL 213.850865 196.931426 \nL 222.049212 196.931449 \nL 230.247559 196.931479 \nL 238.445907 196.931518 \nL 246.644254 196.93157 \nL 254.842601 196.931639 \nL 263.040948 196.93173 \nL 271.239295 196.931851 \nL 279.437642 196.93201 \nL 287.635989 196.932221 \nL 295.834336 196.932499 \nL 304.032683 196.932867 \nL 312.23103 196.933353 \nL 320.429378 196.933996 \nL 328.627725 196.934846 \nL 336.826072 196.935969 \nL 345.024419 196.937453 \nL 353.222766 196.939414 \nL 361.421113 196.942006 \nL 369.61946 196.94543 \nL 377.817807 196.949953 \nL 386.016154 196.955927 \nL 394.214502 196.963814 \nL 402.412849 196.974223 \nL 410.611196 196.987952 \nL 418.809543 197.006049 \nL 427.00789 197.02988 \nL 435.206237 197.061227 \nL 443.404584 197.102396 \nL 451.602931 197.156357 \nL 459.801278 197.226907 \nL 467.999626 197.318849 \nL 476.197973 197.43819 \nL 484.39632 197.592328 \nL 492.594667 197.790208 \nL 500.793014 198.042417 \nL 508.991361 198.36115 \nL 517.189708 198.760007 \nL 525.388055 199.253516 \nL 533.586402 199.856265 \nL 541.784749 200.58149 \nL 549.983097 201.438986 \nL 558.181444 202.432361 \nL 566.379791 203.555984 \nL 574.578138 204.792462 \nL 582.776485 206.111794 \nL 590.974832 207.473266 \nL 599.173179 208.830303 \nL 607.371526 210.137242 \nL 615.569873 211.356022 \nL 623.768221 212.460731 \nL 631.966568 213.438908 \nL 640.164915 214.289843 \nL 648.363262 215.020999 \nL 656.561609 215.64394 \nL 664.759956 216.17084 \nL 672.958303 216.612185 \nL 681.15665 216.975822 \nL 689.354997 217.267181 \nL 697.553345 217.490244 \nL 705.751692 217.648793 \nL 713.950039 217.747491 \nL 722.148386 217.792551 \nL 730.346733 217.791894 \nL 738.54508 217.754847 \nL 746.743427 217.691483 \nL 754.941774 217.611754 \nL 763.140121 217.524616 \nL 771.338468 217.437347 \nL 779.536816 217.355198 \nL 787.735163 217.281413 \nL 795.93351 217.217522 \nL 804.131857 217.163773 \nL 812.330204 217.119583 \nL 820.528551 217.083905 \nL 828.726898 217.055512 \nL 836.925245 217.033172 \nL 845.123592 217.015751 \nL 853.32194 217.00226 \nL 861.520287 216.99187 \nL 869.718634 216.983902 \nL 877.916981 216.97781 \nL 886.115328 216.973165 \nL 894.313675 216.96963 \nL 902.512022 216.966943 \nL 910.710369 216.964904 \n\" style=\"fill:none;stroke:#da8bc3;stroke-linecap:round;stroke-width:1.5;\"/>\n   </g>\n   <g id=\"line2d_18\">\n    <path clip-path=\"url(#pd113a0dbb5)\" d=\"M 99.074006 196.931356 \nL 107.272353 196.931356 \nL 115.4707 196.931356 \nL 123.669047 196.931356 \nL 131.867394 196.931356 \nL 140.065741 196.931356 \nL 148.264088 196.931356 \nL 156.462435 196.931356 \nL 164.660783 196.931356 \nL 172.85913 196.931356 \nL 181.057477 196.931356 \nL 189.255824 196.931356 \nL 197.454171 196.931357 \nL 205.652518 196.931357 \nL 213.850865 196.931357 \nL 222.049212 196.931357 \nL 230.247559 196.931358 \nL 238.445907 196.931358 \nL 246.644254 196.931359 \nL 254.842601 196.93136 \nL 263.040948 196.931361 \nL 271.239295 196.931363 \nL 279.437642 196.931366 \nL 287.635989 196.931369 \nL 295.834336 196.931373 \nL 304.032683 196.931378 \nL 312.23103 196.931385 \nL 320.429378 196.931394 \nL 328.627725 196.931406 \nL 336.826072 196.931422 \nL 345.024419 196.931443 \nL 353.222766 196.93147 \nL 361.421113 196.931505 \nL 369.61946 196.931549 \nL 377.817807 196.931606 \nL 386.016154 196.931676 \nL 394.214502 196.931761 \nL 402.412849 196.93186 \nL 410.611196 196.931968 \nL 418.809543 196.932071 \nL 427.00789 196.932139 \nL 435.206237 196.932113 \nL 443.404584 196.931883 \nL 451.602931 196.931251 \nL 459.801278 196.92987 \nL 467.999626 196.927161 \nL 476.197973 196.922175 \nL 484.39632 196.913419 \nL 492.594667 196.898635 \nL 500.793014 196.874585 \nL 508.991361 196.836919 \nL 517.189708 196.780276 \nL 525.388055 196.698821 \nL 533.586402 196.587378 \nL 541.784749 196.443192 \nL 549.983097 196.268086 \nL 558.181444 196.070411 \nL 566.379791 195.866014 \nL 574.578138 195.677556 \nL 582.776485 195.532057 \nL 590.974832 195.457283 \nL 599.173179 195.478046 \nL 607.371526 195.61336 \nL 615.569873 195.874751 \nL 623.768221 196.265425 \nL 631.966568 196.779828 \nL 640.164915 197.403478 \nL 648.363262 198.113414 \nL 656.561609 198.87973 \nL 664.759956 199.668343 \nL 672.958303 200.444643 \nL 681.15665 201.177217 \nL 689.354997 201.840869 \nL 697.553345 202.418405 \nL 705.751692 202.901096 \nL 713.950039 203.288048 \nL 722.148386 203.584884 \nL 730.346733 203.802101 \nL 738.54508 203.953333 \nL 746.743427 204.053636 \nL 754.941774 204.117846 \nL 763.140121 204.159154 \nL 771.338468 204.188059 \nL 779.536816 204.211877 \nL 787.735163 204.234826 \nL 795.93351 204.258599 \nL 804.131857 204.28319 \nL 812.330204 204.307725 \nL 820.528551 204.331115 \nL 828.726898 204.352457 \nL 836.925245 204.3712 \nL 845.123592 204.387142 \nL 853.32194 204.400355 \nL 861.520287 204.411082 \nL 869.718634 204.41965 \nL 877.916981 204.426407 \nL 886.115328 204.431684 \nL 894.313675 204.435774 \nL 902.512022 204.438926 \nL 910.710369 204.441344 \n\" style=\"fill:none;stroke:#8c8c8c;stroke-linecap:round;stroke-width:1.5;\"/>\n   </g>\n   <g id=\"patch_3\">\n    <path d=\"M 58.492188 457.198125 \nL 58.492188 22.318125 \n\" style=\"fill:none;stroke:#262626;stroke-linecap:square;stroke-linejoin:miter;stroke-width:1.25;\"/>\n   </g>\n   <g id=\"patch_4\">\n    <path d=\"M 951.292187 457.198125 \nL 951.292187 22.318125 \n\" style=\"fill:none;stroke:#262626;stroke-linecap:square;stroke-linejoin:miter;stroke-width:1.25;\"/>\n   </g>\n   <g id=\"patch_5\">\n    <path d=\"M 58.492187 457.198125 \nL 951.292187 457.198125 \n\" style=\"fill:none;stroke:#262626;stroke-linecap:square;stroke-linejoin:miter;stroke-width:1.25;\"/>\n   </g>\n   <g id=\"patch_6\">\n    <path d=\"M 58.492187 22.318125 \nL 951.292187 22.318125 \n\" style=\"fill:none;stroke:#262626;stroke-linecap:square;stroke-linejoin:miter;stroke-width:1.25;\"/>\n   </g>\n   <g id=\"text_16\">\n    <!-- Ridge coefficients as a function of the regularization -->\n    <g style=\"fill:#262626;\" transform=\"translate(347.857188 16.318125)scale(0.12 -0.12)\">\n     <defs>\n      <path d=\"M 2841 2188 \nQ 3044 2119 3236 1894 \nQ 3428 1669 3622 1275 \nL 4263 0 \nL 3584 0 \nL 2988 1197 \nQ 2756 1666 2539 1819 \nQ 2322 1972 1947 1972 \nL 1259 1972 \nL 1259 0 \nL 628 0 \nL 628 4666 \nL 2053 4666 \nQ 2853 4666 3247 4331 \nQ 3641 3997 3641 3322 \nQ 3641 2881 3436 2590 \nQ 3231 2300 2841 2188 \nz\nM 1259 4147 \nL 1259 2491 \nL 2053 2491 \nQ 2509 2491 2742 2702 \nQ 2975 2913 2975 3322 \nQ 2975 3731 2742 3939 \nQ 2509 4147 2053 4147 \nL 1259 4147 \nz\n\" id=\"DejaVuSans-52\" transform=\"scale(0.015625)\"/>\n      <path d=\"M 2906 2969 \nL 2906 4863 \nL 3481 4863 \nL 3481 0 \nL 2906 0 \nL 2906 525 \nQ 2725 213 2448 61 \nQ 2172 -91 1784 -91 \nQ 1150 -91 751 415 \nQ 353 922 353 1747 \nQ 353 2572 751 3078 \nQ 1150 3584 1784 3584 \nQ 2172 3584 2448 3432 \nQ 2725 3281 2906 2969 \nz\nM 947 1747 \nQ 947 1113 1208 752 \nQ 1469 391 1925 391 \nQ 2381 391 2643 752 \nQ 2906 1113 2906 1747 \nQ 2906 2381 2643 2742 \nQ 2381 3103 1925 3103 \nQ 1469 3103 1208 2742 \nQ 947 2381 947 1747 \nz\n\" id=\"DejaVuSans-64\" transform=\"scale(0.015625)\"/>\n      <path id=\"DejaVuSans-20\" transform=\"scale(0.015625)\"/>\n      <path d=\"M 3122 3366 \nL 3122 2828 \nQ 2878 2963 2633 3030 \nQ 2388 3097 2138 3097 \nQ 1578 3097 1268 2742 \nQ 959 2388 959 1747 \nQ 959 1106 1268 751 \nQ 1578 397 2138 397 \nQ 2388 397 2633 464 \nQ 2878 531 3122 666 \nL 3122 134 \nQ 2881 22 2623 -34 \nQ 2366 -91 2075 -91 \nQ 1284 -91 818 406 \nQ 353 903 353 1747 \nQ 353 2603 823 3093 \nQ 1294 3584 2113 3584 \nQ 2378 3584 2631 3529 \nQ 2884 3475 3122 3366 \nz\n\" id=\"DejaVuSans-63\" transform=\"scale(0.015625)\"/>\n      <path d=\"M 1959 3097 \nQ 1497 3097 1228 2736 \nQ 959 2375 959 1747 \nQ 959 1119 1226 758 \nQ 1494 397 1959 397 \nQ 2419 397 2687 759 \nQ 2956 1122 2956 1747 \nQ 2956 2369 2687 2733 \nQ 2419 3097 1959 3097 \nz\nM 1959 3584 \nQ 2709 3584 3137 3096 \nQ 3566 2609 3566 1747 \nQ 3566 888 3137 398 \nQ 2709 -91 1959 -91 \nQ 1206 -91 779 398 \nQ 353 888 353 1747 \nQ 353 2609 779 3096 \nQ 1206 3584 1959 3584 \nz\n\" id=\"DejaVuSans-6f\" transform=\"scale(0.015625)\"/>\n      <path d=\"M 2375 4863 \nL 2375 4384 \nL 1825 4384 \nQ 1516 4384 1395 4259 \nQ 1275 4134 1275 3809 \nL 1275 3500 \nL 2222 3500 \nL 2222 3053 \nL 1275 3053 \nL 1275 0 \nL 697 0 \nL 697 3053 \nL 147 3053 \nL 147 3500 \nL 697 3500 \nL 697 3744 \nQ 697 4328 969 4595 \nQ 1241 4863 1831 4863 \nL 2375 4863 \nz\n\" id=\"DejaVuSans-66\" transform=\"scale(0.015625)\"/>\n      <path d=\"M 3513 2113 \nL 3513 0 \nL 2938 0 \nL 2938 2094 \nQ 2938 2591 2744 2837 \nQ 2550 3084 2163 3084 \nQ 1697 3084 1428 2787 \nQ 1159 2491 1159 1978 \nL 1159 0 \nL 581 0 \nL 581 3500 \nL 1159 3500 \nL 1159 2956 \nQ 1366 3272 1645 3428 \nQ 1925 3584 2291 3584 \nQ 2894 3584 3203 3211 \nQ 3513 2838 3513 2113 \nz\n\" id=\"DejaVuSans-6e\" transform=\"scale(0.015625)\"/>\n      <path d=\"M 544 1381 \nL 544 3500 \nL 1119 3500 \nL 1119 1403 \nQ 1119 906 1312 657 \nQ 1506 409 1894 409 \nQ 2359 409 2629 706 \nQ 2900 1003 2900 1516 \nL 2900 3500 \nL 3475 3500 \nL 3475 0 \nL 2900 0 \nL 2900 538 \nQ 2691 219 2414 64 \nQ 2138 -91 1772 -91 \nQ 1169 -91 856 284 \nQ 544 659 544 1381 \nz\nM 1991 3584 \nL 1991 3584 \nz\n\" id=\"DejaVuSans-75\" transform=\"scale(0.015625)\"/>\n      <path d=\"M 2631 2963 \nQ 2534 3019 2420 3045 \nQ 2306 3072 2169 3072 \nQ 1681 3072 1420 2755 \nQ 1159 2438 1159 1844 \nL 1159 0 \nL 581 0 \nL 581 3500 \nL 1159 3500 \nL 1159 2956 \nQ 1341 3275 1631 3429 \nQ 1922 3584 2338 3584 \nQ 2397 3584 2469 3576 \nQ 2541 3569 2628 3553 \nL 2631 2963 \nz\n\" id=\"DejaVuSans-72\" transform=\"scale(0.015625)\"/>\n      <path d=\"M 353 3500 \nL 3084 3500 \nL 3084 2975 \nL 922 459 \nL 3084 459 \nL 3084 0 \nL 275 0 \nL 275 525 \nL 2438 3041 \nL 353 3041 \nL 353 3500 \nz\n\" id=\"DejaVuSans-7a\" transform=\"scale(0.015625)\"/>\n     </defs>\n     <use xlink:href=\"#DejaVuSans-52\"/>\n     <use x=\"69.482422\" xlink:href=\"#DejaVuSans-69\"/>\n     <use x=\"97.265625\" xlink:href=\"#DejaVuSans-64\"/>\n     <use x=\"160.742188\" xlink:href=\"#DejaVuSans-67\"/>\n     <use x=\"224.21875\" xlink:href=\"#DejaVuSans-65\"/>\n     <use x=\"285.742188\" xlink:href=\"#DejaVuSans-20\"/>\n     <use x=\"317.529297\" xlink:href=\"#DejaVuSans-63\"/>\n     <use x=\"372.509766\" xlink:href=\"#DejaVuSans-6f\"/>\n     <use x=\"433.691406\" xlink:href=\"#DejaVuSans-65\"/>\n     <use x=\"495.214844\" xlink:href=\"#DejaVuSans-66\"/>\n     <use x=\"530.419922\" xlink:href=\"#DejaVuSans-66\"/>\n     <use x=\"565.625\" xlink:href=\"#DejaVuSans-69\"/>\n     <use x=\"593.408203\" xlink:href=\"#DejaVuSans-63\"/>\n     <use x=\"648.388672\" xlink:href=\"#DejaVuSans-69\"/>\n     <use x=\"676.171875\" xlink:href=\"#DejaVuSans-65\"/>\n     <use x=\"737.695312\" xlink:href=\"#DejaVuSans-6e\"/>\n     <use x=\"801.074219\" xlink:href=\"#DejaVuSans-74\"/>\n     <use x=\"840.283203\" xlink:href=\"#DejaVuSans-73\"/>\n     <use x=\"892.382812\" xlink:href=\"#DejaVuSans-20\"/>\n     <use x=\"924.169922\" xlink:href=\"#DejaVuSans-61\"/>\n     <use x=\"985.449219\" xlink:href=\"#DejaVuSans-73\"/>\n     <use x=\"1037.548828\" xlink:href=\"#DejaVuSans-20\"/>\n     <use x=\"1069.335938\" xlink:href=\"#DejaVuSans-61\"/>\n     <use x=\"1130.615234\" xlink:href=\"#DejaVuSans-20\"/>\n     <use x=\"1162.402344\" xlink:href=\"#DejaVuSans-66\"/>\n     <use x=\"1197.607422\" xlink:href=\"#DejaVuSans-75\"/>\n     <use x=\"1260.986328\" xlink:href=\"#DejaVuSans-6e\"/>\n     <use x=\"1324.365234\" xlink:href=\"#DejaVuSans-63\"/>\n     <use x=\"1379.345703\" xlink:href=\"#DejaVuSans-74\"/>\n     <use x=\"1418.554688\" xlink:href=\"#DejaVuSans-69\"/>\n     <use x=\"1446.337891\" xlink:href=\"#DejaVuSans-6f\"/>\n     <use x=\"1507.519531\" xlink:href=\"#DejaVuSans-6e\"/>\n     <use x=\"1570.898438\" xlink:href=\"#DejaVuSans-20\"/>\n     <use x=\"1602.685547\" xlink:href=\"#DejaVuSans-6f\"/>\n     <use x=\"1663.867188\" xlink:href=\"#DejaVuSans-66\"/>\n     <use x=\"1699.072266\" xlink:href=\"#DejaVuSans-20\"/>\n     <use x=\"1730.859375\" xlink:href=\"#DejaVuSans-74\"/>\n     <use x=\"1770.068359\" xlink:href=\"#DejaVuSans-68\"/>\n     <use x=\"1833.447266\" xlink:href=\"#DejaVuSans-65\"/>\n     <use x=\"1894.970703\" xlink:href=\"#DejaVuSans-20\"/>\n     <use x=\"1926.757812\" xlink:href=\"#DejaVuSans-72\"/>\n     <use x=\"1965.621094\" xlink:href=\"#DejaVuSans-65\"/>\n     <use x=\"2027.144531\" xlink:href=\"#DejaVuSans-67\"/>\n     <use x=\"2090.621094\" xlink:href=\"#DejaVuSans-75\"/>\n     <use x=\"2154\" xlink:href=\"#DejaVuSans-6c\"/>\n     <use x=\"2181.783203\" xlink:href=\"#DejaVuSans-61\"/>\n     <use x=\"2243.0625\" xlink:href=\"#DejaVuSans-72\"/>\n     <use x=\"2284.175781\" xlink:href=\"#DejaVuSans-69\"/>\n     <use x=\"2311.958984\" xlink:href=\"#DejaVuSans-7a\"/>\n     <use x=\"2364.449219\" xlink:href=\"#DejaVuSans-61\"/>\n     <use x=\"2425.728516\" xlink:href=\"#DejaVuSans-74\"/>\n     <use x=\"2464.9375\" xlink:href=\"#DejaVuSans-69\"/>\n     <use x=\"2492.720703\" xlink:href=\"#DejaVuSans-6f\"/>\n     <use x=\"2553.902344\" xlink:href=\"#DejaVuSans-6e\"/>\n    </g>\n   </g>\n  </g>\n </g>\n <defs>\n  <clipPath id=\"pd113a0dbb5\">\n   <rect height=\"434.88\" width=\"892.8\" x=\"58.492188\" y=\"22.318125\"/>\n  </clipPath>\n </defs>\n</svg>\n",
      "image/png": "[encoded data removed]"
     },
     "metadata": {}
    }
   ],
   "metadata": {}
  },
  {
   "cell_type": "code",
   "execution_count": null,
   "source": [],
   "outputs": [],
   "metadata": {}
  },
  {
   "cell_type": "code",
   "execution_count": null,
   "source": [],
   "outputs": [],
   "metadata": {}
  },
  {
   "cell_type": "code",
   "execution_count": null,
   "source": [],
   "outputs": [],
   "metadata": {}
  },
  {
   "cell_type": "code",
   "execution_count": null,
   "source": [],
   "outputs": [],
   "metadata": {}
  },
  {
   "cell_type": "code",
   "execution_count": null,
   "source": [],
   "outputs": [],
   "metadata": {}
  },
  {
   "cell_type": "code",
   "execution_count": null,
   "source": [],
   "outputs": [],
   "metadata": {}
  },
  {
   "cell_type": "code",
   "execution_count": null,
   "source": [],
   "outputs": [],
   "metadata": {}
  },
  {
   "cell_type": "code",
   "execution_count": null,
   "source": [],
   "outputs": [],
   "metadata": {}
  },
  {
   "cell_type": "code",
   "execution_count": null,
   "source": [],
   "outputs": [],
   "metadata": {}
  },
  {
   "cell_type": "code",
   "execution_count": null,
   "source": [],
   "outputs": [],
   "metadata": {}
  },
  {
   "cell_type": "code",
   "execution_count": null,
   "source": [],
   "outputs": [],
   "metadata": {}
  },
  {
   "cell_type": "code",
   "execution_count": null,
   "source": [],
   "outputs": [],
   "metadata": {}
  },
  {
   "cell_type": "code",
   "execution_count": null,
   "source": [],
   "outputs": [],
   "metadata": {}
  },
  {
   "cell_type": "code",
   "execution_count": null,
   "source": [],
   "outputs": [],
   "metadata": {}
  },
  {
   "cell_type": "code",
   "execution_count": null,
   "source": [],
   "outputs": [],
   "metadata": {}
  },
  {
   "cell_type": "code",
   "execution_count": null,
   "source": [],
   "outputs": [],
   "metadata": {}
  },
  {
   "cell_type": "code",
   "execution_count": null,
   "source": [],
   "outputs": [],
   "metadata": {}
  },
  {
   "cell_type": "code",
   "execution_count": null,
   "source": [],
   "outputs": [],
   "metadata": {}
  },
  {
   "cell_type": "code",
   "execution_count": null,
   "source": [],
   "outputs": [],
   "metadata": {}
  },
  {
   "cell_type": "code",
   "execution_count": null,
   "source": [],
   "outputs": [],
   "metadata": {}
  },
  {
   "cell_type": "code",
   "execution_count": null,
   "source": [],
   "outputs": [],
   "metadata": {}
  },
  {
   "cell_type": "code",
   "execution_count": null,
   "source": [],
   "outputs": [],
   "metadata": {}
  },
  {
   "cell_type": "code",
   "execution_count": null,
   "source": [],
   "outputs": [],
   "metadata": {}
  },
  {
   "cell_type": "code",
   "execution_count": null,
   "source": [],
   "outputs": [],
   "metadata": {}
  },
  {
   "cell_type": "code",
   "execution_count": null,
   "source": [],
   "outputs": [],
   "metadata": {}
  },
  {
   "cell_type": "code",
   "execution_count": null,
   "source": [],
   "outputs": [],
   "metadata": {}
  },
  {
   "cell_type": "code",
   "execution_count": null,
   "source": [],
   "outputs": [],
   "metadata": {}
  },
  {
   "cell_type": "code",
   "execution_count": null,
   "source": [],
   "outputs": [],
   "metadata": {}
  },
  {
   "cell_type": "code",
   "execution_count": null,
   "source": [],
   "outputs": [],
   "metadata": {}
  },
  {
   "cell_type": "code",
   "execution_count": null,
   "source": [],
   "outputs": [],
   "metadata": {}
  },
  {
   "cell_type": "code",
   "execution_count": null,
   "source": [],
   "outputs": [],
   "metadata": {}
  },
  {
   "cell_type": "code",
   "execution_count": null,
   "source": [],
   "outputs": [],
   "metadata": {}
  },
  {
   "cell_type": "code",
   "execution_count": null,
   "source": [],
   "outputs": [],
   "metadata": {}
  },
  {
   "cell_type": "code",
   "execution_count": null,
   "source": [],
   "outputs": [],
   "metadata": {}
  },
  {
   "cell_type": "code",
   "execution_count": null,
   "source": [],
   "outputs": [],
   "metadata": {}
  },
  {
   "cell_type": "code",
   "execution_count": null,
   "source": [],
   "outputs": [],
   "metadata": {}
  },
  {
   "cell_type": "code",
   "execution_count": null,
   "source": [],
   "outputs": [],
   "metadata": {}
  },
  {
   "cell_type": "code",
   "execution_count": null,
   "source": [],
   "outputs": [],
   "metadata": {}
  },
  {
   "cell_type": "code",
   "execution_count": null,
   "source": [],
   "outputs": [],
   "metadata": {}
  },
  {
   "cell_type": "code",
   "execution_count": null,
   "source": [],
   "outputs": [],
   "metadata": {}
  },
  {
   "cell_type": "code",
   "execution_count": null,
   "source": [],
   "outputs": [],
   "metadata": {}
  },
  {
   "cell_type": "code",
   "execution_count": null,
   "source": [],
   "outputs": [],
   "metadata": {}
  },
  {
   "cell_type": "code",
   "execution_count": null,
   "source": [],
   "outputs": [],
   "metadata": {}
  },
  {
   "cell_type": "code",
   "execution_count": null,
   "source": [],
   "outputs": [],
   "metadata": {}
  },
  {
   "cell_type": "code",
   "execution_count": null,
   "source": [],
   "outputs": [],
   "metadata": {}
  },
  {
   "cell_type": "code",
   "execution_count": null,
   "source": [],
   "outputs": [],
   "metadata": {}
  },
  {
   "cell_type": "code",
   "execution_count": null,
   "source": [],
   "outputs": [],
   "metadata": {}
  }
 ],
 "metadata": {
  "orig_nbformat": 4,
  "language_info": {
   "name": "python",
   "version": "3.9.6",
   "mimetype": "text/x-python",
   "codemirror_mode": {
    "name": "ipython",
    "version": 3
   },
   "pygments_lexer": "ipython3",
   "nbconvert_exporter": "python",
   "file_extension": ".py"
  },
  "kernelspec": {
   "name": "python3",
   "display_name": "Python 3.9.6 64-bit ('p39': conda)"
  },
  "interpreter": {
   "hash": "30957a78df82087ad0e293b0e2bba94c1e28de38d27414fc41b7300ce0c7e48e"
  }
 },
 "nbformat": 4,
 "nbformat_minor": 2
}