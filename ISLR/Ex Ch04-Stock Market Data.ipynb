{
    "cells": [
        {
            "cell_type": "markdown",
            "metadata": {},
            "source": [
                "# The Stock Market Data"
            ]
        },
        {
            "cell_type": "code",
            "execution_count": 1,
            "metadata": {},
            "outputs": [],
            "source": [
                "import numpy as np\n",
                "import pandas as pd\n",
                "import matplotlib.pyplot as plt\n",
                "import seaborn as sns\n",
                "%matplotlib inline\n",
                "%precision 4\n",
                "pd.set_option('precision', 4)"
            ]
        },
        {
            "cell_type": "code",
            "execution_count": 4,
            "metadata": {},
            "outputs": [
                {
                    "data": {
                        "text/html": [
                            "<div>\n",
                            "<style scoped>\n",
                            "    .dataframe tbody tr th:only-of-type {\n",
                            "        vertical-align: middle;\n",
                            "    }\n",
                            "\n",
                            "    .dataframe tbody tr th {\n",
                            "        vertical-align: top;\n",
                            "    }\n",
                            "\n",
                            "    .dataframe thead th {\n",
                            "        text-align: right;\n",
                            "    }\n",
                            "</style>\n",
                            "<table border=\"1\" class=\"dataframe\">\n",
                            "  <thead>\n",
                            "    <tr style=\"text-align: right;\">\n",
                            "      <th></th>\n",
                            "      <th>Day</th>\n",
                            "      <th>Year</th>\n",
                            "      <th>Lag1</th>\n",
                            "      <th>Lag2</th>\n",
                            "      <th>Lag3</th>\n",
                            "      <th>Lag4</th>\n",
                            "      <th>Lag5</th>\n",
                            "      <th>Volume</th>\n",
                            "      <th>Today</th>\n",
                            "      <th>Direction</th>\n",
                            "    </tr>\n",
                            "  </thead>\n",
                            "  <tbody>\n",
                            "    <tr>\n",
                            "      <th>0</th>\n",
                            "      <td>1</td>\n",
                            "      <td>2001</td>\n",
                            "      <td>0.381</td>\n",
                            "      <td>-0.192</td>\n",
                            "      <td>-2.624</td>\n",
                            "      <td>-1.055</td>\n",
                            "      <td>5.010</td>\n",
                            "      <td>1.1913</td>\n",
                            "      <td>0.959</td>\n",
                            "      <td>Up</td>\n",
                            "    </tr>\n",
                            "    <tr>\n",
                            "      <th>1</th>\n",
                            "      <td>2</td>\n",
                            "      <td>2001</td>\n",
                            "      <td>0.959</td>\n",
                            "      <td>0.381</td>\n",
                            "      <td>-0.192</td>\n",
                            "      <td>-2.624</td>\n",
                            "      <td>-1.055</td>\n",
                            "      <td>1.2965</td>\n",
                            "      <td>1.032</td>\n",
                            "      <td>Up</td>\n",
                            "    </tr>\n",
                            "    <tr>\n",
                            "      <th>2</th>\n",
                            "      <td>3</td>\n",
                            "      <td>2001</td>\n",
                            "      <td>1.032</td>\n",
                            "      <td>0.959</td>\n",
                            "      <td>0.381</td>\n",
                            "      <td>-0.192</td>\n",
                            "      <td>-2.624</td>\n",
                            "      <td>1.4112</td>\n",
                            "      <td>-0.623</td>\n",
                            "      <td>Down</td>\n",
                            "    </tr>\n",
                            "    <tr>\n",
                            "      <th>3</th>\n",
                            "      <td>4</td>\n",
                            "      <td>2001</td>\n",
                            "      <td>-0.623</td>\n",
                            "      <td>1.032</td>\n",
                            "      <td>0.959</td>\n",
                            "      <td>0.381</td>\n",
                            "      <td>-0.192</td>\n",
                            "      <td>1.2760</td>\n",
                            "      <td>0.614</td>\n",
                            "      <td>Up</td>\n",
                            "    </tr>\n",
                            "    <tr>\n",
                            "      <th>4</th>\n",
                            "      <td>5</td>\n",
                            "      <td>2001</td>\n",
                            "      <td>0.614</td>\n",
                            "      <td>-0.623</td>\n",
                            "      <td>1.032</td>\n",
                            "      <td>0.959</td>\n",
                            "      <td>0.381</td>\n",
                            "      <td>1.2057</td>\n",
                            "      <td>0.213</td>\n",
                            "      <td>Up</td>\n",
                            "    </tr>\n",
                            "  </tbody>\n",
                            "</table>\n",
                            "</div>"
                        ],
                        "text/plain": [
                            "   Day  Year   Lag1   Lag2   Lag3   Lag4   Lag5  Volume  Today Direction\n",
                            "0    1  2001  0.381 -0.192 -2.624 -1.055  5.010  1.1913  0.959        Up\n",
                            "1    2  2001  0.959  0.381 -0.192 -2.624 -1.055  1.2965  1.032        Up\n",
                            "2    3  2001  1.032  0.959  0.381 -0.192 -2.624  1.4112 -0.623      Down\n",
                            "3    4  2001 -0.623  1.032  0.959  0.381 -0.192  1.2760  0.614        Up\n",
                            "4    5  2001  0.614 -0.623  1.032  0.959  0.381  1.2057  0.213        Up"
                        ]
                    },
                    "execution_count": 4,
                    "metadata": {},
                    "output_type": "execute_result"
                }
            ],
            "source": [
                "market = pd.read_csv('./data/Smarket.csv', )\n",
                "market = market.rename(columns = {'Unnamed: 0': 'Day'})\n",
                "market.head()"
            ]
        },
        {
            "cell_type": "code",
            "execution_count": 5,
            "metadata": {},
            "outputs": [
                {
                    "data": {
                        "text/plain": [
                            "(1250, 10)"
                        ]
                    },
                    "execution_count": 5,
                    "metadata": {},
                    "output_type": "execute_result"
                }
            ],
            "source": [
                "market.shape"
            ]
        },
        {
            "cell_type": "code",
            "execution_count": 6,
            "metadata": {},
            "outputs": [
                {
                    "data": {
                        "text/html": [
                            "<div>\n",
                            "<style scoped>\n",
                            "    .dataframe tbody tr th:only-of-type {\n",
                            "        vertical-align: middle;\n",
                            "    }\n",
                            "\n",
                            "    .dataframe tbody tr th {\n",
                            "        vertical-align: top;\n",
                            "    }\n",
                            "\n",
                            "    .dataframe thead th {\n",
                            "        text-align: right;\n",
                            "    }\n",
                            "</style>\n",
                            "<table border=\"1\" class=\"dataframe\">\n",
                            "  <thead>\n",
                            "    <tr style=\"text-align: right;\">\n",
                            "      <th></th>\n",
                            "      <th>Day</th>\n",
                            "      <th>Year</th>\n",
                            "      <th>Lag1</th>\n",
                            "      <th>Lag2</th>\n",
                            "      <th>Lag3</th>\n",
                            "      <th>Lag4</th>\n",
                            "      <th>Lag5</th>\n",
                            "      <th>Volume</th>\n",
                            "      <th>Today</th>\n",
                            "    </tr>\n",
                            "  </thead>\n",
                            "  <tbody>\n",
                            "    <tr>\n",
                            "      <th>count</th>\n",
                            "      <td>1250.0000</td>\n",
                            "      <td>1250.000</td>\n",
                            "      <td>1250.0000</td>\n",
                            "      <td>1250.0000</td>\n",
                            "      <td>1250.0000</td>\n",
                            "      <td>1250.0000</td>\n",
                            "      <td>1250.0000</td>\n",
                            "      <td>1250.0000</td>\n",
                            "      <td>1250.0000</td>\n",
                            "    </tr>\n",
                            "    <tr>\n",
                            "      <th>mean</th>\n",
                            "      <td>625.5000</td>\n",
                            "      <td>2003.016</td>\n",
                            "      <td>0.0038</td>\n",
                            "      <td>0.0039</td>\n",
                            "      <td>0.0017</td>\n",
                            "      <td>0.0016</td>\n",
                            "      <td>0.0056</td>\n",
                            "      <td>1.4783</td>\n",
                            "      <td>0.0031</td>\n",
                            "    </tr>\n",
                            "    <tr>\n",
                            "      <th>std</th>\n",
                            "      <td>360.9882</td>\n",
                            "      <td>1.409</td>\n",
                            "      <td>1.1363</td>\n",
                            "      <td>1.1363</td>\n",
                            "      <td>1.1387</td>\n",
                            "      <td>1.1388</td>\n",
                            "      <td>1.1476</td>\n",
                            "      <td>0.3604</td>\n",
                            "      <td>1.1363</td>\n",
                            "    </tr>\n",
                            "    <tr>\n",
                            "      <th>min</th>\n",
                            "      <td>1.0000</td>\n",
                            "      <td>2001.000</td>\n",
                            "      <td>-4.9220</td>\n",
                            "      <td>-4.9220</td>\n",
                            "      <td>-4.9220</td>\n",
                            "      <td>-4.9220</td>\n",
                            "      <td>-4.9220</td>\n",
                            "      <td>0.3561</td>\n",
                            "      <td>-4.9220</td>\n",
                            "    </tr>\n",
                            "    <tr>\n",
                            "      <th>25%</th>\n",
                            "      <td>313.2500</td>\n",
                            "      <td>2002.000</td>\n",
                            "      <td>-0.6395</td>\n",
                            "      <td>-0.6395</td>\n",
                            "      <td>-0.6400</td>\n",
                            "      <td>-0.6400</td>\n",
                            "      <td>-0.6400</td>\n",
                            "      <td>1.2574</td>\n",
                            "      <td>-0.6395</td>\n",
                            "    </tr>\n",
                            "    <tr>\n",
                            "      <th>50%</th>\n",
                            "      <td>625.5000</td>\n",
                            "      <td>2003.000</td>\n",
                            "      <td>0.0390</td>\n",
                            "      <td>0.0390</td>\n",
                            "      <td>0.0385</td>\n",
                            "      <td>0.0385</td>\n",
                            "      <td>0.0385</td>\n",
                            "      <td>1.4230</td>\n",
                            "      <td>0.0385</td>\n",
                            "    </tr>\n",
                            "    <tr>\n",
                            "      <th>75%</th>\n",
                            "      <td>937.7500</td>\n",
                            "      <td>2004.000</td>\n",
                            "      <td>0.5968</td>\n",
                            "      <td>0.5968</td>\n",
                            "      <td>0.5968</td>\n",
                            "      <td>0.5968</td>\n",
                            "      <td>0.5970</td>\n",
                            "      <td>1.6417</td>\n",
                            "      <td>0.5968</td>\n",
                            "    </tr>\n",
                            "    <tr>\n",
                            "      <th>max</th>\n",
                            "      <td>1250.0000</td>\n",
                            "      <td>2005.000</td>\n",
                            "      <td>5.7330</td>\n",
                            "      <td>5.7330</td>\n",
                            "      <td>5.7330</td>\n",
                            "      <td>5.7330</td>\n",
                            "      <td>5.7330</td>\n",
                            "      <td>3.1525</td>\n",
                            "      <td>5.7330</td>\n",
                            "    </tr>\n",
                            "  </tbody>\n",
                            "</table>\n",
                            "</div>"
                        ],
                        "text/plain": [
                            "             Day      Year       Lag1       Lag2       Lag3       Lag4  \\\n",
                            "count  1250.0000  1250.000  1250.0000  1250.0000  1250.0000  1250.0000   \n",
                            "mean    625.5000  2003.016     0.0038     0.0039     0.0017     0.0016   \n",
                            "std     360.9882     1.409     1.1363     1.1363     1.1387     1.1388   \n",
                            "min       1.0000  2001.000    -4.9220    -4.9220    -4.9220    -4.9220   \n",
                            "25%     313.2500  2002.000    -0.6395    -0.6395    -0.6400    -0.6400   \n",
                            "50%     625.5000  2003.000     0.0390     0.0390     0.0385     0.0385   \n",
                            "75%     937.7500  2004.000     0.5968     0.5968     0.5968     0.5968   \n",
                            "max    1250.0000  2005.000     5.7330     5.7330     5.7330     5.7330   \n",
                            "\n",
                            "            Lag5     Volume      Today  \n",
                            "count  1250.0000  1250.0000  1250.0000  \n",
                            "mean      0.0056     1.4783     0.0031  \n",
                            "std       1.1476     0.3604     1.1363  \n",
                            "min      -4.9220     0.3561    -4.9220  \n",
                            "25%      -0.6400     1.2574    -0.6395  \n",
                            "50%       0.0385     1.4230     0.0385  \n",
                            "75%       0.5970     1.6417     0.5968  \n",
                            "max       5.7330     3.1525     5.7330  "
                        ]
                    },
                    "execution_count": 6,
                    "metadata": {},
                    "output_type": "execute_result"
                }
            ],
            "source": [
                "market.describe()"
            ]
        },
        {
            "cell_type": "code",
            "execution_count": 7,
            "metadata": {},
            "outputs": [
                {
                    "data": {
                        "text/html": [
                            "<div>\n",
                            "<style scoped>\n",
                            "    .dataframe tbody tr th:only-of-type {\n",
                            "        vertical-align: middle;\n",
                            "    }\n",
                            "\n",
                            "    .dataframe tbody tr th {\n",
                            "        vertical-align: top;\n",
                            "    }\n",
                            "\n",
                            "    .dataframe thead th {\n",
                            "        text-align: right;\n",
                            "    }\n",
                            "</style>\n",
                            "<table border=\"1\" class=\"dataframe\">\n",
                            "  <thead>\n",
                            "    <tr style=\"text-align: right;\">\n",
                            "      <th></th>\n",
                            "      <th>Day</th>\n",
                            "      <th>Year</th>\n",
                            "      <th>Lag1</th>\n",
                            "      <th>Lag2</th>\n",
                            "      <th>Lag3</th>\n",
                            "      <th>Lag4</th>\n",
                            "      <th>Lag5</th>\n",
                            "      <th>Volume</th>\n",
                            "      <th>Today</th>\n",
                            "    </tr>\n",
                            "  </thead>\n",
                            "  <tbody>\n",
                            "    <tr>\n",
                            "      <th>Day</th>\n",
                            "      <td>1.0000</td>\n",
                            "      <td>0.9798</td>\n",
                            "      <td>0.0354</td>\n",
                            "      <td>0.0360</td>\n",
                            "      <td>0.0390</td>\n",
                            "      <td>0.0414</td>\n",
                            "      <td>0.0350</td>\n",
                            "      <td>0.5463</td>\n",
                            "      <td>0.0353</td>\n",
                            "    </tr>\n",
                            "    <tr>\n",
                            "      <th>Year</th>\n",
                            "      <td>0.9798</td>\n",
                            "      <td>1.0000</td>\n",
                            "      <td>0.0297</td>\n",
                            "      <td>0.0306</td>\n",
                            "      <td>0.0332</td>\n",
                            "      <td>0.0357</td>\n",
                            "      <td>0.0298</td>\n",
                            "      <td>0.5390</td>\n",
                            "      <td>0.0301</td>\n",
                            "    </tr>\n",
                            "    <tr>\n",
                            "      <th>Lag1</th>\n",
                            "      <td>0.0354</td>\n",
                            "      <td>0.0297</td>\n",
                            "      <td>1.0000</td>\n",
                            "      <td>-0.0263</td>\n",
                            "      <td>-0.0108</td>\n",
                            "      <td>-0.0030</td>\n",
                            "      <td>-0.0057</td>\n",
                            "      <td>0.0409</td>\n",
                            "      <td>-0.0262</td>\n",
                            "    </tr>\n",
                            "    <tr>\n",
                            "      <th>Lag2</th>\n",
                            "      <td>0.0360</td>\n",
                            "      <td>0.0306</td>\n",
                            "      <td>-0.0263</td>\n",
                            "      <td>1.0000</td>\n",
                            "      <td>-0.0259</td>\n",
                            "      <td>-0.0109</td>\n",
                            "      <td>-0.0036</td>\n",
                            "      <td>-0.0434</td>\n",
                            "      <td>-0.0103</td>\n",
                            "    </tr>\n",
                            "    <tr>\n",
                            "      <th>Lag3</th>\n",
                            "      <td>0.0390</td>\n",
                            "      <td>0.0332</td>\n",
                            "      <td>-0.0108</td>\n",
                            "      <td>-0.0259</td>\n",
                            "      <td>1.0000</td>\n",
                            "      <td>-0.0241</td>\n",
                            "      <td>-0.0188</td>\n",
                            "      <td>-0.0418</td>\n",
                            "      <td>-0.0024</td>\n",
                            "    </tr>\n",
                            "    <tr>\n",
                            "      <th>Lag4</th>\n",
                            "      <td>0.0414</td>\n",
                            "      <td>0.0357</td>\n",
                            "      <td>-0.0030</td>\n",
                            "      <td>-0.0109</td>\n",
                            "      <td>-0.0241</td>\n",
                            "      <td>1.0000</td>\n",
                            "      <td>-0.0271</td>\n",
                            "      <td>-0.0484</td>\n",
                            "      <td>-0.0069</td>\n",
                            "    </tr>\n",
                            "    <tr>\n",
                            "      <th>Lag5</th>\n",
                            "      <td>0.0350</td>\n",
                            "      <td>0.0298</td>\n",
                            "      <td>-0.0057</td>\n",
                            "      <td>-0.0036</td>\n",
                            "      <td>-0.0188</td>\n",
                            "      <td>-0.0271</td>\n",
                            "      <td>1.0000</td>\n",
                            "      <td>-0.0220</td>\n",
                            "      <td>-0.0349</td>\n",
                            "    </tr>\n",
                            "    <tr>\n",
                            "      <th>Volume</th>\n",
                            "      <td>0.5463</td>\n",
                            "      <td>0.5390</td>\n",
                            "      <td>0.0409</td>\n",
                            "      <td>-0.0434</td>\n",
                            "      <td>-0.0418</td>\n",
                            "      <td>-0.0484</td>\n",
                            "      <td>-0.0220</td>\n",
                            "      <td>1.0000</td>\n",
                            "      <td>0.0146</td>\n",
                            "    </tr>\n",
                            "    <tr>\n",
                            "      <th>Today</th>\n",
                            "      <td>0.0353</td>\n",
                            "      <td>0.0301</td>\n",
                            "      <td>-0.0262</td>\n",
                            "      <td>-0.0103</td>\n",
                            "      <td>-0.0024</td>\n",
                            "      <td>-0.0069</td>\n",
                            "      <td>-0.0349</td>\n",
                            "      <td>0.0146</td>\n",
                            "      <td>1.0000</td>\n",
                            "    </tr>\n",
                            "  </tbody>\n",
                            "</table>\n",
                            "</div>"
                        ],
                        "text/plain": [
                            "           Day    Year    Lag1    Lag2    Lag3    Lag4    Lag5  Volume   Today\n",
                            "Day     1.0000  0.9798  0.0354  0.0360  0.0390  0.0414  0.0350  0.5463  0.0353\n",
                            "Year    0.9798  1.0000  0.0297  0.0306  0.0332  0.0357  0.0298  0.5390  0.0301\n",
                            "Lag1    0.0354  0.0297  1.0000 -0.0263 -0.0108 -0.0030 -0.0057  0.0409 -0.0262\n",
                            "Lag2    0.0360  0.0306 -0.0263  1.0000 -0.0259 -0.0109 -0.0036 -0.0434 -0.0103\n",
                            "Lag3    0.0390  0.0332 -0.0108 -0.0259  1.0000 -0.0241 -0.0188 -0.0418 -0.0024\n",
                            "Lag4    0.0414  0.0357 -0.0030 -0.0109 -0.0241  1.0000 -0.0271 -0.0484 -0.0069\n",
                            "Lag5    0.0350  0.0298 -0.0057 -0.0036 -0.0188 -0.0271  1.0000 -0.0220 -0.0349\n",
                            "Volume  0.5463  0.5390  0.0409 -0.0434 -0.0418 -0.0484 -0.0220  1.0000  0.0146\n",
                            "Today   0.0353  0.0301 -0.0262 -0.0103 -0.0024 -0.0069 -0.0349  0.0146  1.0000"
                        ]
                    },
                    "execution_count": 7,
                    "metadata": {},
                    "output_type": "execute_result"
                }
            ],
            "source": [
                "market.corr(method = 'pearson')"
            ]
        },
        {
            "cell_type": "code",
            "execution_count": 39,
            "metadata": {},
            "outputs": [
                {
                    "data": {
                        "image/png": "[encoded data removed]",
                        "text/plain": [
                            "<Figure size 800x600 with 1 Axes>"
                        ]
                    },
                    "metadata": {
                        "needs_background": "light"
                    },
                    "output_type": "display_data"
                }
            ],
            "source": [
                "# Plot\n",
                "_,ax = plt.subplots(figsize=(8,6), dpi=(100))\n",
                "\n",
                "ax = sns.scatterplot(x = 'Day', y = 'Volume',data =market)\n",
                "ax.set(xlabel = 'Days', ylabel = 'Volume in Billions')\n",
                "plt.show()\n"
            ]
        },
        {
            "cell_type": "markdown",
            "metadata": {},
            "source": [
                "## Logistic regression"
            ]
        },
        {
            "cell_type": "markdown",
            "metadata": {},
            "source": [
                "Note : label the attributes \"up\" and \"down\" as 1/0, transfer the problem in to the logistic regression model"
            ]
        },
        {
            "cell_type": "code",
            "execution_count": 9,
            "metadata": {},
            "outputs": [
                {
                    "data": {
                        "text/html": [
                            "<div>\n",
                            "<style scoped>\n",
                            "    .dataframe tbody tr th:only-of-type {\n",
                            "        vertical-align: middle;\n",
                            "    }\n",
                            "\n",
                            "    .dataframe tbody tr th {\n",
                            "        vertical-align: top;\n",
                            "    }\n",
                            "\n",
                            "    .dataframe thead th {\n",
                            "        text-align: right;\n",
                            "    }\n",
                            "</style>\n",
                            "<table border=\"1\" class=\"dataframe\">\n",
                            "  <thead>\n",
                            "    <tr style=\"text-align: right;\">\n",
                            "      <th></th>\n",
                            "      <th>Day</th>\n",
                            "      <th>Year</th>\n",
                            "      <th>Lag1</th>\n",
                            "      <th>Lag2</th>\n",
                            "      <th>Lag3</th>\n",
                            "      <th>Lag4</th>\n",
                            "      <th>Lag5</th>\n",
                            "      <th>Volume</th>\n",
                            "      <th>Today</th>\n",
                            "      <th>Direction</th>\n",
                            "      <th>DirCoded</th>\n",
                            "    </tr>\n",
                            "  </thead>\n",
                            "  <tbody>\n",
                            "    <tr>\n",
                            "      <th>0</th>\n",
                            "      <td>1</td>\n",
                            "      <td>2001</td>\n",
                            "      <td>0.381</td>\n",
                            "      <td>-0.192</td>\n",
                            "      <td>-2.624</td>\n",
                            "      <td>-1.055</td>\n",
                            "      <td>5.010</td>\n",
                            "      <td>1.1913</td>\n",
                            "      <td>0.959</td>\n",
                            "      <td>Up</td>\n",
                            "      <td>1</td>\n",
                            "    </tr>\n",
                            "    <tr>\n",
                            "      <th>1</th>\n",
                            "      <td>2</td>\n",
                            "      <td>2001</td>\n",
                            "      <td>0.959</td>\n",
                            "      <td>0.381</td>\n",
                            "      <td>-0.192</td>\n",
                            "      <td>-2.624</td>\n",
                            "      <td>-1.055</td>\n",
                            "      <td>1.2965</td>\n",
                            "      <td>1.032</td>\n",
                            "      <td>Up</td>\n",
                            "      <td>1</td>\n",
                            "    </tr>\n",
                            "    <tr>\n",
                            "      <th>2</th>\n",
                            "      <td>3</td>\n",
                            "      <td>2001</td>\n",
                            "      <td>1.032</td>\n",
                            "      <td>0.959</td>\n",
                            "      <td>0.381</td>\n",
                            "      <td>-0.192</td>\n",
                            "      <td>-2.624</td>\n",
                            "      <td>1.4112</td>\n",
                            "      <td>-0.623</td>\n",
                            "      <td>Down</td>\n",
                            "      <td>0</td>\n",
                            "    </tr>\n",
                            "    <tr>\n",
                            "      <th>3</th>\n",
                            "      <td>4</td>\n",
                            "      <td>2001</td>\n",
                            "      <td>-0.623</td>\n",
                            "      <td>1.032</td>\n",
                            "      <td>0.959</td>\n",
                            "      <td>0.381</td>\n",
                            "      <td>-0.192</td>\n",
                            "      <td>1.2760</td>\n",
                            "      <td>0.614</td>\n",
                            "      <td>Up</td>\n",
                            "      <td>1</td>\n",
                            "    </tr>\n",
                            "    <tr>\n",
                            "      <th>4</th>\n",
                            "      <td>5</td>\n",
                            "      <td>2001</td>\n",
                            "      <td>0.614</td>\n",
                            "      <td>-0.623</td>\n",
                            "      <td>1.032</td>\n",
                            "      <td>0.959</td>\n",
                            "      <td>0.381</td>\n",
                            "      <td>1.2057</td>\n",
                            "      <td>0.213</td>\n",
                            "      <td>Up</td>\n",
                            "      <td>1</td>\n",
                            "    </tr>\n",
                            "  </tbody>\n",
                            "</table>\n",
                            "</div>"
                        ],
                        "text/plain": [
                            "   Day  Year   Lag1   Lag2   Lag3   Lag4   Lag5  Volume  Today Direction  \\\n",
                            "0    1  2001  0.381 -0.192 -2.624 -1.055  5.010  1.1913  0.959        Up   \n",
                            "1    2  2001  0.959  0.381 -0.192 -2.624 -1.055  1.2965  1.032        Up   \n",
                            "2    3  2001  1.032  0.959  0.381 -0.192 -2.624  1.4112 -0.623      Down   \n",
                            "3    4  2001 -0.623  1.032  0.959  0.381 -0.192  1.2760  0.614        Up   \n",
                            "4    5  2001  0.614 -0.623  1.032  0.959  0.381  1.2057  0.213        Up   \n",
                            "\n",
                            "   DirCoded  \n",
                            "0         1  \n",
                            "1         1  \n",
                            "2         0  \n",
                            "3         1  \n",
                            "4         1  "
                        ]
                    },
                    "execution_count": 9,
                    "metadata": {},
                    "output_type": "execute_result"
                }
            ],
            "source": [
                "# Encode the response as 0,1 for the down/up\n",
                "market['DirCoded'] = [0 if x == 'Down' else 1 for x in market.Direction]\n",
                "market.head()\n"
            ]
        },
        {
            "cell_type": "markdown",
            "metadata": {},
            "source": [
                "### statsmodels solution"
            ]
        },
        {
            "cell_type": "code",
            "execution_count": 10,
            "metadata": {},
            "outputs": [],
            "source": [
                "import statsmodels.api as sm\n",
                "import statsmodels.formula.api as smf"
            ]
        },
        {
            "cell_type": "code",
            "execution_count": 11,
            "metadata": {},
            "outputs": [
                {
                    "name": "stdout",
                    "output_type": "stream",
                    "text": [
                        "Optimization terminated successfully.\n",
                        "         Current function value: 0.691034\n",
                        "         Iterations 4\n"
                    ]
                },
                {
                    "data": {
                        "text/html": [
                            "<table class=\"simpletable\">\n",
                            "<caption>Logit Regression Results</caption>\n",
                            "<tr>\n",
                            "  <th>Dep. Variable:</th>       <td>DirCoded</td>     <th>  No. Observations:  </th>  <td>  1250</td> \n",
                            "</tr>\n",
                            "<tr>\n",
                            "  <th>Model:</th>                 <td>Logit</td>      <th>  Df Residuals:      </th>  <td>  1243</td> \n",
                            "</tr>\n",
                            "<tr>\n",
                            "  <th>Method:</th>                 <td>MLE</td>       <th>  Df Model:          </th>  <td>     6</td> \n",
                            "</tr>\n",
                            "<tr>\n",
                            "  <th>Date:</th>            <td>Thu, 18 Nov 2021</td> <th>  Pseudo R-squ.:     </th> <td>0.002074</td>\n",
                            "</tr>\n",
                            "<tr>\n",
                            "  <th>Time:</th>                <td>17:24:22</td>     <th>  Log-Likelihood:    </th> <td> -863.79</td>\n",
                            "</tr>\n",
                            "<tr>\n",
                            "  <th>converged:</th>             <td>True</td>       <th>  LL-Null:           </th> <td> -865.59</td>\n",
                            "</tr>\n",
                            "<tr>\n",
                            "  <th>Covariance Type:</th>     <td>nonrobust</td>    <th>  LLR p-value:       </th>  <td>0.7319</td> \n",
                            "</tr>\n",
                            "</table>\n",
                            "<table class=\"simpletable\">\n",
                            "<tr>\n",
                            "      <td></td>         <th>coef</th>     <th>std err</th>      <th>z</th>      <th>P>|z|</th>  <th>[0.025</th>    <th>0.975]</th>  \n",
                            "</tr>\n",
                            "<tr>\n",
                            "  <th>Intercept</th> <td>   -0.1260</td> <td>    0.241</td> <td>   -0.523</td> <td> 0.601</td> <td>   -0.598</td> <td>    0.346</td>\n",
                            "</tr>\n",
                            "<tr>\n",
                            "  <th>Lag1</th>      <td>   -0.0731</td> <td>    0.050</td> <td>   -1.457</td> <td> 0.145</td> <td>   -0.171</td> <td>    0.025</td>\n",
                            "</tr>\n",
                            "<tr>\n",
                            "  <th>Lag2</th>      <td>   -0.0423</td> <td>    0.050</td> <td>   -0.845</td> <td> 0.398</td> <td>   -0.140</td> <td>    0.056</td>\n",
                            "</tr>\n",
                            "<tr>\n",
                            "  <th>Lag3</th>      <td>    0.0111</td> <td>    0.050</td> <td>    0.222</td> <td> 0.824</td> <td>   -0.087</td> <td>    0.109</td>\n",
                            "</tr>\n",
                            "<tr>\n",
                            "  <th>Lag4</th>      <td>    0.0094</td> <td>    0.050</td> <td>    0.187</td> <td> 0.851</td> <td>   -0.089</td> <td>    0.107</td>\n",
                            "</tr>\n",
                            "<tr>\n",
                            "  <th>Lag5</th>      <td>    0.0103</td> <td>    0.050</td> <td>    0.208</td> <td> 0.835</td> <td>   -0.087</td> <td>    0.107</td>\n",
                            "</tr>\n",
                            "<tr>\n",
                            "  <th>Volume</th>    <td>    0.1354</td> <td>    0.158</td> <td>    0.855</td> <td> 0.392</td> <td>   -0.175</td> <td>    0.446</td>\n",
                            "</tr>\n",
                            "</table>"
                        ],
                        "text/plain": [
                            "<class 'statsmodels.iolib.summary.Summary'>\n",
                            "\"\"\"\n",
                            "                           Logit Regression Results                           \n",
                            "==============================================================================\n",
                            "Dep. Variable:               DirCoded   No. Observations:                 1250\n",
                            "Model:                          Logit   Df Residuals:                     1243\n",
                            "Method:                           MLE   Df Model:                            6\n",
                            "Date:                Thu, 18 Nov 2021   Pseudo R-squ.:                0.002074\n",
                            "Time:                        17:24:22   Log-Likelihood:                -863.79\n",
                            "converged:                       True   LL-Null:                       -865.59\n",
                            "Covariance Type:            nonrobust   LLR p-value:                    0.7319\n",
                            "==============================================================================\n",
                            "                 coef    std err          z      P>|z|      [0.025      0.975]\n",
                            "------------------------------------------------------------------------------\n",
                            "Intercept     -0.1260      0.241     -0.523      0.601      -0.598       0.346\n",
                            "Lag1          -0.0731      0.050     -1.457      0.145      -0.171       0.025\n",
                            "Lag2          -0.0423      0.050     -0.845      0.398      -0.140       0.056\n",
                            "Lag3           0.0111      0.050      0.222      0.824      -0.087       0.109\n",
                            "Lag4           0.0094      0.050      0.187      0.851      -0.089       0.107\n",
                            "Lag5           0.0103      0.050      0.208      0.835      -0.087       0.107\n",
                            "Volume         0.1354      0.158      0.855      0.392      -0.175       0.446\n",
                            "==============================================================================\n",
                            "\"\"\""
                        ]
                    },
                    "execution_count": 11,
                    "metadata": {},
                    "output_type": "execute_result"
                }
            ],
            "source": [
                "# Build the model\n",
                "f = \"DirCoded ~ Lag1 + Lag2 + Lag3 + Lag4 + Lag5 + Volume\"\n",
                "logit_fit = smf.logit(f, market).fit()\n",
                "logit_fit.summary()"
            ]
        },
        {
            "cell_type": "code",
            "execution_count": 12,
            "metadata": {},
            "outputs": [
                {
                    "data": {
                        "text/plain": [
                            "Intercept   -0.1260\n",
                            "Lag1        -0.0731\n",
                            "Lag2        -0.0423\n",
                            "Lag3         0.0111\n",
                            "Lag4         0.0094\n",
                            "Lag5         0.0103\n",
                            "Volume       0.1354\n",
                            "dtype: float64"
                        ]
                    },
                    "execution_count": 12,
                    "metadata": {},
                    "output_type": "execute_result"
                }
            ],
            "source": [
                "logit_fit.params"
            ]
        },
        {
            "cell_type": "code",
            "execution_count": 13,
            "metadata": {},
            "outputs": [
                {
                    "data": {
                        "text/plain": [
                            "0    0.5071\n",
                            "1    0.4815\n",
                            "2    0.4811\n",
                            "3    0.5152\n",
                            "4    0.5108\n",
                            "dtype: float64"
                        ]
                    },
                    "execution_count": 13,
                    "metadata": {},
                    "output_type": "execute_result"
                }
            ],
            "source": [
                "logit_probs = logit_fit.predict(market)\n",
                "logit_probs.head()"
            ]
        },
        {
            "cell_type": "markdown",
            "metadata": {},
            "source": [
                "Criterion parameter :The following commands create a vector of class predictions based on whether the predicted probability of a market increase is greater than or less than 0.5."
            ]
        },
        {
            "cell_type": "code",
            "execution_count": 14,
            "metadata": {},
            "outputs": [
                {
                    "data": {
                        "text/html": [
                            "<div>\n",
                            "<style scoped>\n",
                            "    .dataframe tbody tr th:only-of-type {\n",
                            "        vertical-align: middle;\n",
                            "    }\n",
                            "\n",
                            "    .dataframe tbody tr th {\n",
                            "        vertical-align: top;\n",
                            "    }\n",
                            "\n",
                            "    .dataframe thead th {\n",
                            "        text-align: right;\n",
                            "    }\n",
                            "</style>\n",
                            "<table border=\"1\" class=\"dataframe\">\n",
                            "  <thead>\n",
                            "    <tr style=\"text-align: right;\">\n",
                            "      <th>logit_pred</th>\n",
                            "      <th>Down</th>\n",
                            "      <th>Up</th>\n",
                            "    </tr>\n",
                            "    <tr>\n",
                            "      <th>Direction</th>\n",
                            "      <th></th>\n",
                            "      <th></th>\n",
                            "    </tr>\n",
                            "  </thead>\n",
                            "  <tbody>\n",
                            "    <tr>\n",
                            "      <th>Down</th>\n",
                            "      <td>145</td>\n",
                            "      <td>457</td>\n",
                            "    </tr>\n",
                            "    <tr>\n",
                            "      <th>Up</th>\n",
                            "      <td>141</td>\n",
                            "      <td>507</td>\n",
                            "    </tr>\n",
                            "  </tbody>\n",
                            "</table>\n",
                            "</div>"
                        ],
                        "text/plain": [
                            "logit_pred  Down   Up\n",
                            "Direction            \n",
                            "Down         145  457\n",
                            "Up           141  507"
                        ]
                    },
                    "execution_count": 14,
                    "metadata": {},
                    "output_type": "execute_result"
                }
            ],
            "source": [
                "# make logit_pred with the prob theshold = 0.5\n",
                "\n",
                "market['logit_pred'] = ['Up' if p > 0.5 else 'Down' for p in logit_probs]\n",
                "\n",
                "table = pd.crosstab(market.Direction, market.logit_pred)\n",
                "table"
            ]
        },
        {
            "cell_type": "code",
            "execution_count": 15,
            "metadata": {},
            "outputs": [],
            "source": [
                "# Compute Model Accuracy\n",
                "logit_acc = (table.Down[0] + table.Up[1])/logit_fit.nobs"
            ]
        },
        {
            "cell_type": "code",
            "execution_count": 16,
            "metadata": {},
            "outputs": [
                {
                    "name": "stdout",
                    "output_type": "stream",
                    "text": [
                        "The model made 52.16% correct predictions on the trainning set\n"
                    ]
                }
            ],
            "source": [
                "print(f\"The model made {100 * logit_acc}% correct predictions on the trainning set\")"
            ]
        },
        {
            "cell_type": "code",
            "execution_count": 17,
            "metadata": {},
            "outputs": [
                {
                    "data": {
                        "text/plain": [
                            "0.5216"
                        ]
                    },
                    "execution_count": 17,
                    "metadata": {},
                    "output_type": "execute_result"
                }
            ],
            "source": [
                "np.mean(market.logit_pred == market.Direction)"
            ]
        },
        {
            "cell_type": "markdown",
            "metadata": {},
            "source": [
                "### Fit the Model using part of the data (2001-2004)"
            ]
        },
        {
            "cell_type": "code",
            "execution_count": 18,
            "metadata": {},
            "outputs": [],
            "source": [
                "# Split the dataset train years:2001-2004, test year:2005\n",
                "train_df = market[market.Year < 2005]\n",
                "test_df = market[market.Year == 2005]\n",
                "# test_df.shape  variables explorer "
            ]
        },
        {
            "cell_type": "code",
            "execution_count": 19,
            "metadata": {},
            "outputs": [
                {
                    "name": "stdout",
                    "output_type": "stream",
                    "text": [
                        "Optimization terminated successfully.\n",
                        "         Current function value: 0.691936\n",
                        "         Iterations 4\n"
                    ]
                }
            ],
            "source": [
                "# Fit the logistic model with the subset of observations before 2005\n",
                "\n",
                "f = 'DirCoded ~ Lag1 + Lag2 + Lag3 + Lag4 + Lag5 + Volume'\n",
                "logit_fit = smf.logit(f, train_df).fit() # input the trainning data, fit the model\n",
                "predicted_probs = logit_fit.predict(test_df) # make predictions by inputing the test data"
            ]
        },
        {
            "cell_type": "code",
            "execution_count": 20,
            "metadata": {},
            "outputs": [
                {
                    "name": "stdout",
                    "output_type": "stream",
                    "text": [
                        "The model made 48.01587301587302% correct predictions on the Test Set\n"
                    ]
                },
                {
                    "name": "stderr",
                    "output_type": "stream",
                    "text": [
                        "/var/folders/dv/qnpc2tm905n3c2nrmq03c65w0000gn/T/ipykernel_65297/4053333098.py:1: SettingWithCopyWarning: \n",
                        "A value is trying to be set on a copy of a slice from a DataFrame.\n",
                        "Try using .loc[row_indexer,col_indexer] = value instead\n",
                        "\n",
                        "See the caveats in the documentation: https://pandas.pydata.org/pandas-docs/stable/user_guide/indexing.html#returning-a-view-versus-a-copy\n",
                        "  test_df['preds'] = ['Up' if p > 0.5 else 'Down' for p in predicted_probs]\n"
                    ]
                }
            ],
            "source": [
                "test_df['preds'] = ['Up' if p > 0.5 else 'Down' for p in predicted_probs]\n",
                "\n",
                "logit_acc = np.mean(test_df.preds == test_df.Direction) # magic\n",
                "print(f\"The model made {100 * logit_acc}% correct predictions on the Test Set\")"
            ]
        },
        {
            "cell_type": "code",
            "execution_count": 21,
            "metadata": {},
            "outputs": [
                {
                    "data": {
                        "text/plain": [
                            "Down    174\n",
                            "Up       78\n",
                            "Name: preds, dtype: int64"
                        ]
                    },
                    "execution_count": 21,
                    "metadata": {},
                    "output_type": "execute_result"
                }
            ],
            "source": [
                "test_df.preds.value_counts()"
            ]
        },
        {
            "cell_type": "code",
            "execution_count": 22,
            "metadata": {},
            "outputs": [
                {
                    "data": {
                        "text/plain": [
                            "Up      141\n",
                            "Down    111\n",
                            "Name: Direction, dtype: int64"
                        ]
                    },
                    "execution_count": 22,
                    "metadata": {},
                    "output_type": "execute_result"
                }
            ],
            "source": [
                "test_df.Direction.value_counts()"
            ]
        },
        {
            "cell_type": "code",
            "execution_count": 23,
            "metadata": {},
            "outputs": [
                {
                    "data": {
                        "text/plain": [
                            "False    131\n",
                            "True     121\n",
                            "dtype: int64"
                        ]
                    },
                    "execution_count": 23,
                    "metadata": {},
                    "output_type": "execute_result"
                }
            ],
            "source": [
                "(test_df.preds == test_df.Direction) .value_counts()"
            ]
        },
        {
            "cell_type": "code",
            "execution_count": 24,
            "metadata": {},
            "outputs": [
                {
                    "data": {
                        "text/plain": [
                            "0.4802"
                        ]
                    },
                    "execution_count": 24,
                    "metadata": {},
                    "output_type": "execute_result"
                }
            ],
            "source": [
                "121 / 252"
            ]
        },
        {
            "cell_type": "code",
            "execution_count": 25,
            "metadata": {},
            "outputs": [
                {
                    "data": {
                        "text/plain": [
                            "0.4801587301587302"
                        ]
                    },
                    "execution_count": 25,
                    "metadata": {},
                    "output_type": "execute_result"
                }
            ],
            "source": [
                "(test_df.preds == test_df.Direction).mean()"
            ]
        },
        {
            "cell_type": "code",
            "execution_count": 26,
            "metadata": {},
            "outputs": [
                {
                    "data": {
                        "text/html": [
                            "<div>\n",
                            "<style scoped>\n",
                            "    .dataframe tbody tr th:only-of-type {\n",
                            "        vertical-align: middle;\n",
                            "    }\n",
                            "\n",
                            "    .dataframe tbody tr th {\n",
                            "        vertical-align: top;\n",
                            "    }\n",
                            "\n",
                            "    .dataframe thead th {\n",
                            "        text-align: right;\n",
                            "    }\n",
                            "</style>\n",
                            "<table border=\"1\" class=\"dataframe\">\n",
                            "  <thead>\n",
                            "    <tr style=\"text-align: right;\">\n",
                            "      <th>preds</th>\n",
                            "      <th>Down</th>\n",
                            "      <th>Up</th>\n",
                            "    </tr>\n",
                            "    <tr>\n",
                            "      <th>Direction</th>\n",
                            "      <th></th>\n",
                            "      <th></th>\n",
                            "    </tr>\n",
                            "  </thead>\n",
                            "  <tbody>\n",
                            "    <tr>\n",
                            "      <th>Down</th>\n",
                            "      <td>77</td>\n",
                            "      <td>34</td>\n",
                            "    </tr>\n",
                            "    <tr>\n",
                            "      <th>Up</th>\n",
                            "      <td>97</td>\n",
                            "      <td>44</td>\n",
                            "    </tr>\n",
                            "  </tbody>\n",
                            "</table>\n",
                            "</div>"
                        ],
                        "text/plain": [
                            "preds      Down  Up\n",
                            "Direction          \n",
                            "Down         77  34\n",
                            "Up           97  44"
                        ]
                    },
                    "execution_count": 26,
                    "metadata": {},
                    "output_type": "execute_result"
                }
            ],
            "source": [
                "cm_table = pd.crosstab(test_df.Direction, test_df.preds)\n",
                "cm_table"
            ]
        },
        {
            "cell_type": "code",
            "execution_count": 27,
            "metadata": {},
            "outputs": [
                {
                    "data": {
                        "text/html": [
                            "<div>\n",
                            "<style scoped>\n",
                            "    .dataframe tbody tr th:only-of-type {\n",
                            "        vertical-align: middle;\n",
                            "    }\n",
                            "\n",
                            "    .dataframe tbody tr th {\n",
                            "        vertical-align: top;\n",
                            "    }\n",
                            "\n",
                            "    .dataframe thead th {\n",
                            "        text-align: right;\n",
                            "    }\n",
                            "</style>\n",
                            "<table border=\"1\" class=\"dataframe\">\n",
                            "  <thead>\n",
                            "    <tr style=\"text-align: right;\">\n",
                            "      <th></th>\n",
                            "      <th>Down</th>\n",
                            "      <th>Up</th>\n",
                            "    </tr>\n",
                            "  </thead>\n",
                            "  <tbody>\n",
                            "    <tr>\n",
                            "      <th>Down</th>\n",
                            "      <td>175.0</td>\n",
                            "      <td>316.0</td>\n",
                            "    </tr>\n",
                            "    <tr>\n",
                            "      <th>Up</th>\n",
                            "      <td>156.0</td>\n",
                            "      <td>351.0</td>\n",
                            "    </tr>\n",
                            "  </tbody>\n",
                            "</table>\n",
                            "</div>"
                        ],
                        "text/plain": [
                            "       Down     Up\n",
                            "Down  175.0  316.0\n",
                            "Up    156.0  351.0"
                        ]
                    },
                    "execution_count": 27,
                    "metadata": {},
                    "output_type": "execute_result"
                }
            ],
            "source": [
                "table = logit_fit.pred_table(threshold = 0.5)\n",
                "\n",
                "cm_df = pd.DataFrame(table,['Down', 'Up'],['Down', 'Up'])\n",
                "cm_df"
            ]
        },
        {
            "cell_type": "code",
            "execution_count": 28,
            "metadata": {},
            "outputs": [
                {
                    "name": "stdout",
                    "output_type": "stream",
                    "text": [
                        "The model made 51.98412698412699 % incorrect predictions on the Test Set.\n"
                    ]
                }
            ],
            "source": [
                "logit_error = np.mean(test_df.preds != test_df.Direction)\n",
                "\n",
                "print(f\"The model made {100 * logit_error} % incorrect predictions on the Test Set.\")"
            ]
        },
        {
            "cell_type": "code",
            "execution_count": 29,
            "metadata": {},
            "outputs": [
                {
                    "name": "stdout",
                    "output_type": "stream",
                    "text": [
                        "Optimization terminated successfully.\n",
                        "         Current function value: 0.692085\n",
                        "         Iterations 3\n",
                        "The model made 55.952380952380956% correct predictions on the Test Set\n"
                    ]
                },
                {
                    "name": "stderr",
                    "output_type": "stream",
                    "text": [
                        "/var/folders/dv/qnpc2tm905n3c2nrmq03c65w0000gn/T/ipykernel_65297/3985825678.py:4: SettingWithCopyWarning: \n",
                        "A value is trying to be set on a copy of a slice from a DataFrame.\n",
                        "Try using .loc[row_indexer,col_indexer] = value instead\n",
                        "\n",
                        "See the caveats in the documentation: https://pandas.pydata.org/pandas-docs/stable/user_guide/indexing.html#returning-a-view-versus-a-copy\n",
                        "  test_df['preds'] = ['Up' if p > 0.5 else 'Down' for p in predicted_probs_12]\n"
                    ]
                },
                {
                    "data": {
                        "text/html": [
                            "<div>\n",
                            "<style scoped>\n",
                            "    .dataframe tbody tr th:only-of-type {\n",
                            "        vertical-align: middle;\n",
                            "    }\n",
                            "\n",
                            "    .dataframe tbody tr th {\n",
                            "        vertical-align: top;\n",
                            "    }\n",
                            "\n",
                            "    .dataframe thead th {\n",
                            "        text-align: right;\n",
                            "    }\n",
                            "</style>\n",
                            "<table border=\"1\" class=\"dataframe\">\n",
                            "  <thead>\n",
                            "    <tr style=\"text-align: right;\">\n",
                            "      <th>Direction</th>\n",
                            "      <th>Down</th>\n",
                            "      <th>Up</th>\n",
                            "    </tr>\n",
                            "    <tr>\n",
                            "      <th>preds</th>\n",
                            "      <th></th>\n",
                            "      <th></th>\n",
                            "    </tr>\n",
                            "  </thead>\n",
                            "  <tbody>\n",
                            "    <tr>\n",
                            "      <th>Down</th>\n",
                            "      <td>35</td>\n",
                            "      <td>35</td>\n",
                            "    </tr>\n",
                            "    <tr>\n",
                            "      <th>Up</th>\n",
                            "      <td>76</td>\n",
                            "      <td>106</td>\n",
                            "    </tr>\n",
                            "  </tbody>\n",
                            "</table>\n",
                            "</div>"
                        ],
                        "text/plain": [
                            "Direction  Down   Up\n",
                            "preds               \n",
                            "Down         35   35\n",
                            "Up           76  106"
                        ]
                    },
                    "execution_count": 29,
                    "metadata": {},
                    "output_type": "execute_result"
                }
            ],
            "source": [
                "# LR  with just lag1 and lag2, here is why we need PCA\n",
                "train_fit_12 = smf.logit('DirCoded ~ Lag1 + Lag2', train_df).fit()\n",
                "predicted_probs_12 = train_fit_12.predict(test_df)\n",
                "test_df['preds'] = ['Up' if p > 0.5 else 'Down' for p in predicted_probs_12]\n",
                "logit_acc_12 = 100 * np.mean(test_df.preds == test_df.Direction)\n",
                "print(f\"The model made {logit_acc_12}% correct predictions on the Test Set\")\n",
                "cm_table_12 = pd.crosstab(test_df.preds, test_df.Direction)\n",
                "cm_table_12\n"
            ]
        },
        {
            "cell_type": "code",
            "execution_count": 30,
            "metadata": {},
            "outputs": [
                {
                    "name": "stdout",
                    "output_type": "stream",
                    "text": [
                        "On the days where ther prediction day is 'Up' the probability the market will be 'Up' is 0.5824\n"
                    ]
                }
            ],
            "source": [
                "prob_up = round(cm_table_12['Up']['Up'] / (cm_table_12['Down']['Up'] + cm_table_12['Up']['Up']), 4)\n",
                "\n",
                "print(f\"On the days where ther prediction day is \\'Up\\' the probability the market will be \\'Up\\' is {prob_up}\")"
            ]
        },
        {
            "cell_type": "markdown",
            "metadata": {},
            "source": [
                "Suppose that we want to predict the returns associated with particular values of `Lag1` and `Lag2`. In particular, we want to predict `Direction` on a day when `Lag1` and `Lag2` equal 1.2 and 1.1, respectively, and on a day when they equal 1.5 and -0.8. We do this using the predict() function."
            ]
        },
        {
            "cell_type": "code",
            "execution_count": 31,
            "metadata": {},
            "outputs": [
                {
                    "data": {
                        "text/plain": [
                            "0    0.4791\n",
                            "1    0.4961\n",
                            "dtype: float64"
                        ]
                    },
                    "execution_count": 31,
                    "metadata": {},
                    "output_type": "execute_result"
                }
            ],
            "source": [
                "lag_12 = pd.DataFrame({'Lag1': [1.2,1.5], 'Lag2':[1.1, -0.8]})\n",
                "train_fit_12.predict(lag_12)"
            ]
        },
        {
            "cell_type": "markdown",
            "metadata": {},
            "source": [
                "### sklearn solution"
            ]
        },
        {
            "cell_type": "code",
            "execution_count": 32,
            "metadata": {},
            "outputs": [
                {
                    "data": {
                        "text/html": [
                            "<div>\n",
                            "<style scoped>\n",
                            "    .dataframe tbody tr th:only-of-type {\n",
                            "        vertical-align: middle;\n",
                            "    }\n",
                            "\n",
                            "    .dataframe tbody tr th {\n",
                            "        vertical-align: top;\n",
                            "    }\n",
                            "\n",
                            "    .dataframe thead th {\n",
                            "        text-align: right;\n",
                            "    }\n",
                            "</style>\n",
                            "<table border=\"1\" class=\"dataframe\">\n",
                            "  <thead>\n",
                            "    <tr style=\"text-align: right;\">\n",
                            "      <th></th>\n",
                            "      <th>Day</th>\n",
                            "      <th>Year</th>\n",
                            "      <th>Lag1</th>\n",
                            "      <th>Lag2</th>\n",
                            "      <th>Lag3</th>\n",
                            "      <th>Lag4</th>\n",
                            "      <th>Lag5</th>\n",
                            "      <th>Volume</th>\n",
                            "      <th>Today</th>\n",
                            "      <th>Direction</th>\n",
                            "      <th>DirCoded</th>\n",
                            "      <th>logit_pred</th>\n",
                            "    </tr>\n",
                            "  </thead>\n",
                            "  <tbody>\n",
                            "    <tr>\n",
                            "      <th>0</th>\n",
                            "      <td>1</td>\n",
                            "      <td>2001</td>\n",
                            "      <td>0.381</td>\n",
                            "      <td>-0.192</td>\n",
                            "      <td>-2.624</td>\n",
                            "      <td>-1.055</td>\n",
                            "      <td>5.010</td>\n",
                            "      <td>1.1913</td>\n",
                            "      <td>0.959</td>\n",
                            "      <td>Up</td>\n",
                            "      <td>1</td>\n",
                            "      <td>Up</td>\n",
                            "    </tr>\n",
                            "    <tr>\n",
                            "      <th>1</th>\n",
                            "      <td>2</td>\n",
                            "      <td>2001</td>\n",
                            "      <td>0.959</td>\n",
                            "      <td>0.381</td>\n",
                            "      <td>-0.192</td>\n",
                            "      <td>-2.624</td>\n",
                            "      <td>-1.055</td>\n",
                            "      <td>1.2965</td>\n",
                            "      <td>1.032</td>\n",
                            "      <td>Up</td>\n",
                            "      <td>1</td>\n",
                            "      <td>Down</td>\n",
                            "    </tr>\n",
                            "    <tr>\n",
                            "      <th>2</th>\n",
                            "      <td>3</td>\n",
                            "      <td>2001</td>\n",
                            "      <td>1.032</td>\n",
                            "      <td>0.959</td>\n",
                            "      <td>0.381</td>\n",
                            "      <td>-0.192</td>\n",
                            "      <td>-2.624</td>\n",
                            "      <td>1.4112</td>\n",
                            "      <td>-0.623</td>\n",
                            "      <td>Down</td>\n",
                            "      <td>0</td>\n",
                            "      <td>Down</td>\n",
                            "    </tr>\n",
                            "    <tr>\n",
                            "      <th>3</th>\n",
                            "      <td>4</td>\n",
                            "      <td>2001</td>\n",
                            "      <td>-0.623</td>\n",
                            "      <td>1.032</td>\n",
                            "      <td>0.959</td>\n",
                            "      <td>0.381</td>\n",
                            "      <td>-0.192</td>\n",
                            "      <td>1.2760</td>\n",
                            "      <td>0.614</td>\n",
                            "      <td>Up</td>\n",
                            "      <td>1</td>\n",
                            "      <td>Up</td>\n",
                            "    </tr>\n",
                            "    <tr>\n",
                            "      <th>4</th>\n",
                            "      <td>5</td>\n",
                            "      <td>2001</td>\n",
                            "      <td>0.614</td>\n",
                            "      <td>-0.623</td>\n",
                            "      <td>1.032</td>\n",
                            "      <td>0.959</td>\n",
                            "      <td>0.381</td>\n",
                            "      <td>1.2057</td>\n",
                            "      <td>0.213</td>\n",
                            "      <td>Up</td>\n",
                            "      <td>1</td>\n",
                            "      <td>Up</td>\n",
                            "    </tr>\n",
                            "  </tbody>\n",
                            "</table>\n",
                            "</div>"
                        ],
                        "text/plain": [
                            "   Day  Year   Lag1   Lag2   Lag3   Lag4   Lag5  Volume  Today Direction  \\\n",
                            "0    1  2001  0.381 -0.192 -2.624 -1.055  5.010  1.1913  0.959        Up   \n",
                            "1    2  2001  0.959  0.381 -0.192 -2.624 -1.055  1.2965  1.032        Up   \n",
                            "2    3  2001  1.032  0.959  0.381 -0.192 -2.624  1.4112 -0.623      Down   \n",
                            "3    4  2001 -0.623  1.032  0.959  0.381 -0.192  1.2760  0.614        Up   \n",
                            "4    5  2001  0.614 -0.623  1.032  0.959  0.381  1.2057  0.213        Up   \n",
                            "\n",
                            "   DirCoded logit_pred  \n",
                            "0         1         Up  \n",
                            "1         1       Down  \n",
                            "2         0       Down  \n",
                            "3         1         Up  \n",
                            "4         1         Up  "
                        ]
                    },
                    "execution_count": 32,
                    "metadata": {},
                    "output_type": "execute_result"
                }
            ],
            "source": [
                "from sklearn.linear_model import LogisticRegression\n",
                "from sklearn.metrics import *\n",
                "market.head()"
            ]
        },
        {
            "cell_type": "code",
            "execution_count": 40,
            "metadata": {},
            "outputs": [
                {
                    "name": "stdout",
                    "output_type": "stream",
                    "text": [
                        "Optimization terminated successfully.\n",
                        "         Current function value: 0.691936\n",
                        "         Iterations 4\n"
                    ]
                },
                {
                    "data": {
                        "text/plain": [
                            "Intercept    0.1912\n",
                            "Lag1        -0.0542\n",
                            "Lag2        -0.0458\n",
                            "Lag3         0.0072\n",
                            "Lag4         0.0064\n",
                            "Lag5        -0.0042\n",
                            "Volume      -0.1163\n",
                            "dtype: float64"
                        ]
                    },
                    "execution_count": 40,
                    "metadata": {},
                    "output_type": "execute_result"
                }
            ],
            "source": [
                "# Fit the logistic model with the subset of observations before 2005\n",
                "f = 'DirCoded ~ Lag1 + Lag2 + Lag3 + Lag4 + Lag5 + Volume'\n",
                "logit_fit = smf.logit(f, train_df).fit() # input the trainning data, fit the model\n",
                "logit_fit.params"
            ]
        },
        {
            "cell_type": "markdown",
            "metadata": {},
            "source": []
        },
        {
            "cell_type": "code",
            "execution_count": 41,
            "metadata": {},
            "outputs": [],
            "source": [
                "def loading(train_df, test_df, predictions, goal= ' DirCoded'):\n",
                "    X_train = train_df[predictors]\n",
                "    y_train = train_df[goal]\n",
                "    X_test = test_df[predictors]\n",
                "    y_test = test_df[goal]\n",
                "    return X_train, y_train, X_test, y_test"
            ]
        },
        {
            "cell_type": "code",
            "execution_count": 56,
            "metadata": {},
            "outputs": [],
            "source": [
                "def classify(clf,\n",
                "             coef=True,\n",
                "             auc=False,\n",
                "             roc_curve=False,\n",
                "             conf_mat=False,\n",
                "             conf_labels=['Down', 'Up']):\n",
                "    X_train, y_train, X_test, y_test = data[0], data[1], data[2], data[3]\n",
                "    model = clf.fit(model, X_train, y_train)\n",
                "    if coef:\n",
                "        print(\"Parameters: {}\".format(clf.coef))\n",
                "        acc = clf.score(X_test, y_test)\n",
                "        print(\"Accuracy: {}\".format(acc))\n",
                "\n",
                "        y_pred = clf.score(X_test)\n",
                "        precision = precision_score(y_test, y_pred)\n",
                "        print(\"Precision: {}\".format(precision))\n",
                "\n",
                "        recall = recall_score(y_test, y_pred)\n",
                "        print(\"Recall: {}\".format(recall))\n",
                "\n",
                "        mat = confusion_matrix(y_test, y_pred)\n",
                "        print('confusion matrix: \\n {}'.format(mat))\n",
                "\n",
                "    if auc:\n",
                "        y_score = model.decision_function(X_test)\n",
                "        auc = roc_auc_score(y_test, y_score)\n",
                "        print(f'auc:{auc}')\n",
                "\n",
                "    if roc_curve:\n",
                "        plot_roc_curve(clf, X_test, y_test)\n",
                "\n",
                "    if conf_mat:\n",
                "        plot_confusion_matrix(clf,\n",
                "                              X_test,\n",
                "                              y_test,\n",
                "                              cmap=plt.cm.blues,\n",
                "                              display_labels=conf_labels)\n",
                "    return clf"
            ]
        },
        {
            "cell_type": "code",
            "execution_count": 57,
            "metadata": {},
            "outputs": [],
            "source": [
                "predictors = ['Lag1', 'Lag2', 'Lag3', 'Lag4', 'Lag5','Volume']\n",
                "\n",
                "data = loading(train_df, test_df, predictors, goal= 'DirCoded')\n",
                "log_clf = LogisticRegression(solver = 'lbfgs', tol = 0.0001)"
            ]
        },
        {
            "cell_type": "code",
            "execution_count": 58,
            "metadata": {},
            "outputs": [
                {
                    "ename": "UnboundLocalError",
                    "evalue": "local variable 'model' referenced before assignment",
                    "output_type": "error",
                    "traceback": [
                        "\u001b[0;31m---------------------------------------------------------------------------\u001b[0m",
                        "\u001b[0;31mUnboundLocalError\u001b[0m                         Traceback (most recent call last)",
                        "\u001b[0;32m/var/folders/dv/qnpc2tm905n3c2nrmq03c65w0000gn/T/ipykernel_65297/2498784163.py\u001b[0m in \u001b[0;36m<module>\u001b[0;34m\u001b[0m\n\u001b[0;32m----> 1\u001b[0;31m \u001b[0mlogreg\u001b[0m \u001b[0;34m=\u001b[0m \u001b[0mclassify\u001b[0m\u001b[0;34m(\u001b[0m\u001b[0mlog_clf\u001b[0m\u001b[0;34m,\u001b[0m \u001b[0mdata\u001b[0m\u001b[0;34m)\u001b[0m\u001b[0;34m\u001b[0m\u001b[0;34m\u001b[0m\u001b[0m\n\u001b[0m",
                        "\u001b[0;32m/var/folders/dv/qnpc2tm905n3c2nrmq03c65w0000gn/T/ipykernel_65297/228987968.py\u001b[0m in \u001b[0;36mclassify\u001b[0;34m(clf, coef, auc, roc_curve, conf_mat, conf_labels)\u001b[0m\n\u001b[1;32m      6\u001b[0m              conf_labels=['Down', 'Up']):\n\u001b[1;32m      7\u001b[0m     \u001b[0mX_train\u001b[0m\u001b[0;34m,\u001b[0m \u001b[0my_train\u001b[0m\u001b[0;34m,\u001b[0m \u001b[0mX_test\u001b[0m\u001b[0;34m,\u001b[0m \u001b[0my_test\u001b[0m \u001b[0;34m=\u001b[0m \u001b[0mdata\u001b[0m\u001b[0;34m[\u001b[0m\u001b[0;36m0\u001b[0m\u001b[0;34m]\u001b[0m\u001b[0;34m,\u001b[0m \u001b[0mdata\u001b[0m\u001b[0;34m[\u001b[0m\u001b[0;36m1\u001b[0m\u001b[0;34m]\u001b[0m\u001b[0;34m,\u001b[0m \u001b[0mdata\u001b[0m\u001b[0;34m[\u001b[0m\u001b[0;36m2\u001b[0m\u001b[0;34m]\u001b[0m\u001b[0;34m,\u001b[0m \u001b[0mdata\u001b[0m\u001b[0;34m[\u001b[0m\u001b[0;36m3\u001b[0m\u001b[0;34m]\u001b[0m\u001b[0;34m\u001b[0m\u001b[0;34m\u001b[0m\u001b[0m\n\u001b[0;32m----> 8\u001b[0;31m     \u001b[0mmodel\u001b[0m \u001b[0;34m=\u001b[0m \u001b[0mclf\u001b[0m\u001b[0;34m.\u001b[0m\u001b[0mfit\u001b[0m\u001b[0;34m(\u001b[0m\u001b[0mmodel\u001b[0m\u001b[0;34m,\u001b[0m \u001b[0mX_train\u001b[0m\u001b[0;34m,\u001b[0m \u001b[0my_train\u001b[0m\u001b[0;34m)\u001b[0m\u001b[0;34m\u001b[0m\u001b[0;34m\u001b[0m\u001b[0m\n\u001b[0m\u001b[1;32m      9\u001b[0m     \u001b[0;32mif\u001b[0m \u001b[0mcoef\u001b[0m\u001b[0;34m:\u001b[0m\u001b[0;34m\u001b[0m\u001b[0;34m\u001b[0m\u001b[0m\n\u001b[1;32m     10\u001b[0m         \u001b[0mprint\u001b[0m\u001b[0;34m(\u001b[0m\u001b[0;34m\"Parameters: {}\"\u001b[0m\u001b[0;34m.\u001b[0m\u001b[0mformat\u001b[0m\u001b[0;34m(\u001b[0m\u001b[0mclf\u001b[0m\u001b[0;34m.\u001b[0m\u001b[0mcoef\u001b[0m\u001b[0;34m)\u001b[0m\u001b[0;34m)\u001b[0m\u001b[0;34m\u001b[0m\u001b[0;34m\u001b[0m\u001b[0m\n",
                        "\u001b[0;31mUnboundLocalError\u001b[0m: local variable 'model' referenced before assignment"
                    ]
                }
            ],
            "source": [
                "logreg = classify(log_clf, data)"
            ]
        },
        {
            "cell_type": "code",
            "execution_count": 50,
            "metadata": {},
            "outputs": [
                {
                    "ename": "UnboundLocalError",
                    "evalue": "local variable 'model' referenced before assignment",
                    "output_type": "error",
                    "traceback": [
                        "\u001b[0;31m---------------------------------------------------------------------------\u001b[0m",
                        "\u001b[0;31mUnboundLocalError\u001b[0m                         Traceback (most recent call last)",
                        "\u001b[0;32m/var/folders/dv/qnpc2tm905n3c2nrmq03c65w0000gn/T/ipykernel_65297/1858359864.py\u001b[0m in \u001b[0;36m<module>\u001b[0;34m\u001b[0m\n\u001b[1;32m      1\u001b[0m \u001b[0;31m#  predictors = lag1 + lag2 + volume\u001b[0m\u001b[0;34m\u001b[0m\u001b[0;34m\u001b[0m\u001b[0m\n\u001b[1;32m      2\u001b[0m \u001b[0mdata\u001b[0m \u001b[0;34m=\u001b[0m \u001b[0mloading\u001b[0m\u001b[0;34m(\u001b[0m\u001b[0mtrain_df\u001b[0m\u001b[0;34m,\u001b[0m \u001b[0mtest_df\u001b[0m\u001b[0;34m,\u001b[0m \u001b[0mpredictors\u001b[0m\u001b[0;34m,\u001b[0m \u001b[0mgoal\u001b[0m \u001b[0;34m=\u001b[0m \u001b[0;34m'DirCoded'\u001b[0m\u001b[0;34m)\u001b[0m\u001b[0;34m\u001b[0m\u001b[0;34m\u001b[0m\u001b[0m\n\u001b[0;32m----> 3\u001b[0;31m \u001b[0mlogreg\u001b[0m \u001b[0;34m=\u001b[0m \u001b[0mclassify\u001b[0m\u001b[0;34m(\u001b[0m\u001b[0mlog_clf\u001b[0m\u001b[0;34m,\u001b[0m \u001b[0mdata\u001b[0m\u001b[0;34m)\u001b[0m\u001b[0;34m\u001b[0m\u001b[0;34m\u001b[0m\u001b[0m\n\u001b[0m",
                        "\u001b[0;32m/var/folders/dv/qnpc2tm905n3c2nrmq03c65w0000gn/T/ipykernel_65297/443378644.py\u001b[0m in \u001b[0;36mclassify\u001b[0;34m(clf, coef, auc, roc_curve, conf_mat, conf_labels)\u001b[0m\n\u001b[1;32m      6\u001b[0m              conf_labels=['Down', 'Up']):\n\u001b[1;32m      7\u001b[0m     \u001b[0mX_train\u001b[0m\u001b[0;34m,\u001b[0m \u001b[0my_train\u001b[0m\u001b[0;34m,\u001b[0m \u001b[0mX_test\u001b[0m\u001b[0;34m,\u001b[0m \u001b[0my_test\u001b[0m \u001b[0;34m=\u001b[0m \u001b[0mdata\u001b[0m\u001b[0;34m[\u001b[0m\u001b[0;36m0\u001b[0m\u001b[0;34m]\u001b[0m\u001b[0;34m,\u001b[0m \u001b[0mdata\u001b[0m\u001b[0;34m[\u001b[0m\u001b[0;36m1\u001b[0m\u001b[0;34m]\u001b[0m\u001b[0;34m,\u001b[0m \u001b[0mdata\u001b[0m\u001b[0;34m[\u001b[0m\u001b[0;36m2\u001b[0m\u001b[0;34m]\u001b[0m\u001b[0;34m,\u001b[0m \u001b[0mdata\u001b[0m\u001b[0;34m[\u001b[0m\u001b[0;36m3\u001b[0m\u001b[0;34m]\u001b[0m\u001b[0;34m\u001b[0m\u001b[0;34m\u001b[0m\u001b[0m\n\u001b[0;32m----> 8\u001b[0;31m     \u001b[0mmodel\u001b[0m \u001b[0;34m=\u001b[0m \u001b[0mclf\u001b[0m\u001b[0;34m.\u001b[0m\u001b[0mfit\u001b[0m\u001b[0;34m(\u001b[0m\u001b[0mmodel\u001b[0m\u001b[0;34m,\u001b[0m \u001b[0mX_train\u001b[0m\u001b[0;34m,\u001b[0m \u001b[0my_train\u001b[0m\u001b[0;34m)\u001b[0m\u001b[0;34m\u001b[0m\u001b[0;34m\u001b[0m\u001b[0m\n\u001b[0m\u001b[1;32m      9\u001b[0m     \u001b[0;32mif\u001b[0m \u001b[0mcoef\u001b[0m\u001b[0;34m:\u001b[0m\u001b[0;34m\u001b[0m\u001b[0;34m\u001b[0m\u001b[0m\n\u001b[1;32m     10\u001b[0m         \u001b[0mprint\u001b[0m\u001b[0;34m(\u001b[0m\u001b[0;34m\"Parameters: {}\"\u001b[0m\u001b[0;34m.\u001b[0m\u001b[0mformat\u001b[0m\u001b[0;34m(\u001b[0m\u001b[0mclf\u001b[0m\u001b[0;34m.\u001b[0m\u001b[0mcoef\u001b[0m\u001b[0;34m)\u001b[0m\u001b[0;34m)\u001b[0m\u001b[0;34m\u001b[0m\u001b[0;34m\u001b[0m\u001b[0m\n",
                        "\u001b[0;31mUnboundLocalError\u001b[0m: local variable 'model' referenced before assignment"
                    ]
                }
            ],
            "source": [
                "#  predictors = lag1 + lag2 + volume\n",
                "data = loading(train_df, test_df, predictors, goal = 'DirCoded')\n",
                "logreg = classify(log_clf, data)"
            ]
        },
        {
            "cell_type": "code",
            "execution_count": null,
            "metadata": {},
            "outputs": [],
            "source": []
        },
        {
            "cell_type": "code",
            "execution_count": null,
            "metadata": {},
            "outputs": [],
            "source": []
        },
        {
            "cell_type": "code",
            "execution_count": null,
            "metadata": {},
            "outputs": [],
            "source": []
        },
        {
            "cell_type": "code",
            "execution_count": null,
            "metadata": {},
            "outputs": [],
            "source": []
        },
        {
            "cell_type": "code",
            "execution_count": null,
            "metadata": {},
            "outputs": [],
            "source": []
        },
        {
            "cell_type": "code",
            "execution_count": null,
            "metadata": {},
            "outputs": [],
            "source": []
        },
        {
            "cell_type": "code",
            "execution_count": null,
            "metadata": {},
            "outputs": [],
            "source": []
        }
    ],
    "metadata": {
        "interpreter": {
            "hash": "ff2e645ef952f1284ebef59edbc19ad3cff03e6406671d2dab1ca7ad9588368d"
        },
        "kernelspec": {
            "display_name": "Python 3.9.6 64-bit ('p39': conda)",
            "name": "python3"
        },
        "language_info": {
            "codemirror_mode": {
                "name": "ipython",
                "version": 3
            },
            "file_extension": ".py",
            "mimetype": "text/x-python",
            "name": "python",
            "nbconvert_exporter": "python",
            "pygments_lexer": "ipython3",
            "version": "3.9.7"
        },
        "orig_nbformat": 4
    },
    "nbformat": 4,
    "nbformat_minor": 2
}
