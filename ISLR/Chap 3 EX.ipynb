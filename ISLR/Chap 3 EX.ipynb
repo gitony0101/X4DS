{
 "cells": [
  {
   "cell_type": "markdown",
   "id": "eb74eca9",
   "metadata": {},
   "source": [
    "# Chap 3 EX"
   ]
  },
  {
   "cell_type": "markdown",
   "id": "1ccb1d8c",
   "metadata": {},
   "source": [
    "## [Ordinary Least Squares](https://www.statsmodels.org/stable/examples/notebooks/generated/ols.html#examples-notebooks-generated-ols--page-root)"
   ]
  },
  {
   "cell_type": "code",
   "execution_count": 21,
   "id": "81bf8537",
   "metadata": {},
   "outputs": [],
   "source": [
    "%matplotlib inline\n",
    "import numpy as np\n",
    "import pandas as pd\n",
    "import matplotlib.pyplot as plt\n",
    "\n",
    "import statsmodels.api as sm\n",
    "from statsmodels.sandbox.regression.predstd import wls_prediction_std\n",
    "\n",
    "np.random.seed(98766789)"
   ]
  },
  {
   "cell_type": "code",
   "execution_count": 22,
   "id": "aad1ee5c",
   "metadata": {},
   "outputs": [],
   "source": [
    "#Ols estimation\n",
    "# Artificial data:\n",
    "nsample = 100\n",
    "x = np.linspace(0,10,100)\n",
    "X = np.column_stack((x,x ** 2))\n",
    "beta = np.array([1,0.1,10])\n",
    "e = np.random.normal(size=nsample)"
   ]
  },
  {
   "cell_type": "code",
   "execution_count": 23,
   "id": "3cbad93b",
   "metadata": {},
   "outputs": [],
   "source": [
    "#Our model needs an intercept so we add a column of 1s:\n",
    "X = sm.add_constant(X)\n",
    "y = np.dot(X,beta) + e"
   ]
  },
  {
   "cell_type": "code",
   "execution_count": 24,
   "id": "f5b938a7",
   "metadata": {},
   "outputs": [
    {
     "name": "stdout",
     "output_type": "stream",
     "text": [
      "                            OLS Regression Results                            \n",
      "==============================================================================\n",
      "Dep. Variable:                      y   R-squared:                       1.000\n",
      "Model:                            OLS   Adj. R-squared:                  1.000\n",
      "Method:                 Least Squares   F-statistic:                 3.347e+06\n",
      "Date:                Wed, 14 Jul 2021   Prob (F-statistic):          2.05e-235\n",
      "Time:                        14:05:31   Log-Likelihood:                -155.73\n",
      "No. Observations:                 100   AIC:                             317.5\n",
      "Df Residuals:                      97   BIC:                             325.3\n",
      "Df Model:                           2                                         \n",
      "Covariance Type:            nonrobust                                         \n",
      "==============================================================================\n",
      "                 coef    std err          t      P>|t|      [0.025      0.975]\n",
      "------------------------------------------------------------------------------\n",
      "const          0.8308      0.343      2.423      0.017       0.150       1.511\n",
      "x1             0.1287      0.158      0.812      0.419      -0.186       0.443\n",
      "x2             9.9997      0.015    652.036      0.000       9.969      10.030\n",
      "==============================================================================\n",
      "Omnibus:                        0.237   Durbin-Watson:                   2.115\n",
      "Prob(Omnibus):                  0.888   Jarque-Bera (JB):                0.409\n",
      "Skew:                           0.071   Prob(JB):                        0.815\n",
      "Kurtosis:                       2.721   Cond. No.                         144.\n",
      "==============================================================================\n",
      "\n",
      "Notes:\n",
      "[1] Standard Errors assume that the covariance matrix of the errors is correctly specified.\n"
     ]
    }
   ],
   "source": [
    "#Fit and summary\n",
    "model = sm.OLS(y,X)\n",
    "results = model.fit()\n",
    "print(results.summary())"
   ]
  },
  {
   "cell_type": "markdown",
   "id": "ec9ac0ae",
   "metadata": {},
   "source": [
    "Quantities of interest can be extracted directly from the fitted model. Type dir(results) for a full list. Here are some examples:"
   ]
  },
  {
   "cell_type": "code",
   "execution_count": 25,
   "id": "d5276023",
   "metadata": {},
   "outputs": [
    {
     "name": "stdout",
     "output_type": "stream",
     "text": [
      "Parameters: [0.83078393 0.1286874  9.99967965], R2 :0.9999855098683551\n"
     ]
    }
   ],
   "source": [
    "print(f'Parameters: {results.params}, R2 :{results.rsquared}')"
   ]
  },
  {
   "cell_type": "markdown",
   "id": "6adc272f",
   "metadata": {},
   "source": [
    "### OLS non-linear curve but linear in parameters\n",
    "\n",
    "We simulate artificial data with a non-linear relationship between x and y:"
   ]
  },
  {
   "cell_type": "code",
   "execution_count": 29,
   "id": "14227a4c",
   "metadata": {},
   "outputs": [],
   "source": [
    "nsample = 50\n",
    "sig = 0.5\n",
    "x = np.linspace(0,20,nsample)\n",
    "X = np.column_stack((x,np.sin(x),(x-5) ** 2,np.ones(nsample)))\n",
    "beta = [0.5,0.5,-0.02,5]\n",
    "\n",
    "y_true = np.dot(X, beta)\n",
    "y = y_true + sig * np.random.normal(size=nsample)"
   ]
  },
  {
   "cell_type": "code",
   "execution_count": 31,
   "id": "89bc88ea",
   "metadata": {},
   "outputs": [
    {
     "name": "stdout",
     "output_type": "stream",
     "text": [
      "                            OLS Regression Results                            \n",
      "==============================================================================\n",
      "Dep. Variable:                      y   R-squared:                       0.950\n",
      "Model:                            OLS   Adj. R-squared:                  0.947\n",
      "Method:                 Least Squares   F-statistic:                     292.0\n",
      "Date:                Wed, 14 Jul 2021   Prob (F-statistic):           6.07e-30\n",
      "Time:                        14:08:49   Log-Likelihood:                -26.963\n",
      "No. Observations:                  50   AIC:                             61.93\n",
      "Df Residuals:                      46   BIC:                             69.57\n",
      "Df Model:                           3                                         \n",
      "Covariance Type:            nonrobust                                         \n",
      "==============================================================================\n",
      "                 coef    std err          t      P>|t|      [0.025      0.975]\n",
      "------------------------------------------------------------------------------\n",
      "x1             0.4826      0.023     21.224      0.000       0.437       0.528\n",
      "x2             0.4681      0.089      5.237      0.000       0.288       0.648\n",
      "x3            -0.0186      0.002     -9.330      0.000      -0.023      -0.015\n",
      "const          5.1519      0.147     34.942      0.000       4.855       5.449\n",
      "==============================================================================\n",
      "Omnibus:                        1.368   Durbin-Watson:                   2.614\n",
      "Prob(Omnibus):                  0.505   Jarque-Bera (JB):                1.360\n",
      "Skew:                           0.361   Prob(JB):                        0.507\n",
      "Kurtosis:                       2.638   Cond. No.                         221.\n",
      "==============================================================================\n",
      "\n",
      "Notes:\n",
      "[1] Standard Errors assume that the covariance matrix of the errors is correctly specified.\n"
     ]
    }
   ],
   "source": [
    "# Fit and summary\n",
    "res = sm.OLS(y,X).fit()\n",
    "print(res.summary())"
   ]
  },
  {
   "cell_type": "markdown",
   "id": "cf15d666",
   "metadata": {},
   "source": [
    "Extract other quantities of interest:"
   ]
  },
  {
   "cell_type": "code",
   "execution_count": 38,
   "id": "eb03a436",
   "metadata": {},
   "outputs": [
    {
     "name": "stdout",
     "output_type": "stream",
     "text": [
      "Parameters: [ 0.48260882  0.46814383 -0.01862671  5.15185792],Standard errors: [0.02273916 0.08939032 0.00199651 0.14744158], Predicted values: [ 4.68619023  5.14191523  5.56090462  5.91764495  6.19583048  6.39104208\n",
      "  6.51147334  6.57658439  6.61390458  6.65450959  6.72791571  6.85723042\n",
      "  7.05535591  7.32286925  7.64792763  8.00821405  8.37460397  8.71595039\n",
      "  9.0042012   9.21900806  9.35106959  9.40365956  9.39208901  9.34119068\n",
      "  9.28123907  9.24297646  9.25256197  9.32727375  9.47267021  9.68167677\n",
      "  9.93574823 10.20791566 10.46721734 10.68378567 10.83375434 10.90317951\n",
      " 10.89033071 10.80597518 10.67160882 10.51592451 10.3700979  10.2626654\n",
      " 10.21483568 10.23700515 10.32704989 10.47067457 10.64376117 10.81633145\n",
      " 10.95747233 11.04041484]\n"
     ]
    }
   ],
   "source": [
    "print(f'Parameters: {res.params},Standard errors: {res.bse}, Predicted values: {res.predict()}')"
   ]
  },
  {
   "cell_type": "markdown",
   "id": "20fdfd43",
   "metadata": {},
   "source": [
    "### Draw a plot to compare the true relationship to OLS predictions. \n",
    "\n",
    "Confidence intervals around the predictions are built using the `wls_prediction_std` command."
   ]
  },
  {
   "cell_type": "code",
   "execution_count": 46,
   "id": "51abf859",
   "metadata": {},
   "outputs": [
    {
     "data": {
      "text/plain": [
       "<matplotlib.legend.Legend at 0x17862b880>"
      ]
     },
     "execution_count": 46,
     "metadata": {},
     "output_type": "execute_result"
    },
    {
     "data": {
      "image/png": "[encoded data removed]",
      "text/plain": [
       "<Figure size 576x432 with 1 Axes>"
      ]
     },
     "metadata": {
      "needs_background": "light"
     },
     "output_type": "display_data"
    }
   ],
   "source": [
    "prstd, iv_l, iv_u = wls_prediction_std(res) #return std var and confidence intervals\n",
    "\n",
    "__, ax = plt.subplots(figsize=(8,6))\n",
    "\n",
    "ax.plot(x,y,'o',label=\"data\")\n",
    "ax.plot(x,y_true,'b-',label=\"True\")\n",
    "ax.plot(x,res.fittedvalues,'r--.', label=\"OLS\")\n",
    "ax.plot(x, iv_u,\"r--\")\n",
    "ax.plot(x,iv_l,\"r--\")\n",
    "ax.legend(loc=\"best\")"
   ]
  },
  {
   "cell_type": "markdown",
   "id": "5c369677",
   "metadata": {},
   "source": [
    "### OLS with dummy variables\n",
    "\n",
    "We generate some artificial data. There are 3 groups which will be modelled using dummy variables. Group 0 is the omitted/benchmark category. \n",
    "\n",
    "**To be continued...**"
   ]
  },
  {
   "cell_type": "code",
   "execution_count": null,
   "id": "bbd64299",
   "metadata": {},
   "outputs": [],
   "source": []
  },
  {
   "cell_type": "code",
   "execution_count": null,
   "id": "8bfc6eb0",
   "metadata": {},
   "outputs": [],
   "source": []
  },
  {
   "cell_type": "code",
   "execution_count": null,
   "id": "d25ee94a",
   "metadata": {},
   "outputs": [],
   "source": []
  },
  {
   "cell_type": "code",
   "execution_count": null,
   "id": "9fa2e7fd",
   "metadata": {},
   "outputs": [],
   "source": []
  },
  {
   "cell_type": "code",
   "execution_count": null,
   "id": "9d857a94",
   "metadata": {},
   "outputs": [],
   "source": []
  },
  {
   "cell_type": "code",
   "execution_count": null,
   "id": "5d004bda",
   "metadata": {},
   "outputs": [],
   "source": []
  },
  {
   "cell_type": "code",
   "execution_count": null,
   "id": "93d4b202",
   "metadata": {},
   "outputs": [],
   "source": []
  }
 ],
 "metadata": {
  "kernelspec": {
   "display_name": "Python 3.9.6 64-bit ('p39': conda)",
   "language": "python",
   "name": "python396jvsc74a57bd0ff2e645ef952f1284ebef59edbc19ad3cff03e6406671d2dab1ca7ad9588368d"
  },
  "language_info": {
   "codemirror_mode": {
    "name": "ipython",
    "version": 3
   },
   "file_extension": ".py",
   "mimetype": "text/x-python",
   "name": "python",
   "nbconvert_exporter": "python",
   "pygments_lexer": "ipython3",
   "version": "3.9.6"
  },
  "toc": {
   "base_numbering": 1,
   "nav_menu": {},
   "number_sections": true,
   "sideBar": true,
   "skip_h1_title": false,
   "title_cell": "Table of Contents",
   "title_sidebar": "Contents",
   "toc_cell": false,
   "toc_position": {},
   "toc_section_display": true,
   "toc_window_display": true
  },
  "varInspector": {
   "cols": {
    "lenName": 16,
    "lenType": 16,
    "lenVar": 40
   },
   "kernels_config": {
    "python": {
     "delete_cmd_postfix": "",
     "delete_cmd_prefix": "del ",
     "library": "var_list.py",
     "varRefreshCmd": "print(var_dic_list())"
    },
    "r": {
     "delete_cmd_postfix": ") ",
     "delete_cmd_prefix": "rm(",
     "library": "var_list.r",
     "varRefreshCmd": "cat(var_dic_list()) "
    }
   },
   "types_to_exclude": [
    "module",
    "function",
    "builtin_function_or_method",
    "instance",
    "_Feature"
   ],
   "window_display": false
  }
 },
 "nbformat": 4,
 "nbformat_minor": 5
}
