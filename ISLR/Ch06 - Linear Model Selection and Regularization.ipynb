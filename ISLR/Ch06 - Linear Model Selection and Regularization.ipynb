{
 "cells": [
  {
   "cell_type": "markdown",
   "metadata": {},
   "source": [
    "# 6. Linear Model Selection and Regularisation"
   ]
  },
  {
   "cell_type": "code",
   "execution_count": null,
   "metadata": {},
   "outputs": [],
   "source": []
  },
  {
   "cell_type": "code",
   "execution_count": 66,
   "metadata": {},
   "outputs": [],
   "source": [
    "",
    "\n",
    "import numpy as np\n",
    "import pandas as pd\n",
    "import seaborn as sns; sns.set()\n",
    "import matplotlib.pyplot as plt\n",
    "%matplotlib inline\n",
    "",
    "import statsmodels.api as sm\n",
    "import statsmodels.formula.api as smf\n",
    "from itertools import combinations"
   ]
  },
  {
   "cell_type": "code",
   "execution_count": 41,
   "metadata": {},
   "outputs": [],
   "source": [
    "from sklearn.linear_model import *\n",
    "from sklearn.preprocessing import *\n",
    "from sklearn.feature_selection import *\n",
    "from sklearn.metrics import *\n",
    "from sklearn.model_selection import *"
   ]
  },
  {
   "cell_type": "code",
   "execution_count": 7,
   "metadata": {},
   "outputs": [
    {
     "data": {
      "text/html": [
       "<div>\n",
       "<style scoped>\n",
       "    .dataframe tbody tr th:only-of-type {\n",
       "        vertical-align: middle;\n",
       "    }\n",
       "\n",
       "    .dataframe tbody tr th {\n",
       "        vertical-align: top;\n",
       "    }\n",
       "\n",
       "    .dataframe thead th {\n",
       "        text-align: right;\n",
       "    }\n",
       "</style>\n",
       "<table border=\"1\" class=\"dataframe\">\n",
       "  <thead>\n",
       "    <tr style=\"text-align: right;\">\n",
       "      <th></th>\n",
       "      <th>AtBat</th>\n",
       "      <th>Hits</th>\n",
       "      <th>HmRun</th>\n",
       "      <th>Runs</th>\n",
       "      <th>RBI</th>\n",
       "      <th>Walks</th>\n",
       "      <th>Years</th>\n",
       "      <th>CAtBat</th>\n",
       "      <th>CHits</th>\n",
       "      <th>CHmRun</th>\n",
       "      <th>CRuns</th>\n",
       "      <th>CRBI</th>\n",
       "      <th>CWalks</th>\n",
       "      <th>League</th>\n",
       "      <th>Division</th>\n",
       "      <th>PutOuts</th>\n",
       "      <th>Assists</th>\n",
       "      <th>Errors</th>\n",
       "      <th>Salary</th>\n",
       "      <th>NewLeague</th>\n",
       "    </tr>\n",
       "  </thead>\n",
       "  <tbody>\n",
       "    <tr>\n",
       "      <th>1</th>\n",
       "      <td>315</td>\n",
       "      <td>81</td>\n",
       "      <td>7</td>\n",
       "      <td>24</td>\n",
       "      <td>38</td>\n",
       "      <td>39</td>\n",
       "      <td>14</td>\n",
       "      <td>3449</td>\n",
       "      <td>835</td>\n",
       "      <td>69</td>\n",
       "      <td>321</td>\n",
       "      <td>414</td>\n",
       "      <td>375</td>\n",
       "      <td>N</td>\n",
       "      <td>W</td>\n",
       "      <td>632</td>\n",
       "      <td>43</td>\n",
       "      <td>10</td>\n",
       "      <td>475.0</td>\n",
       "      <td>N</td>\n",
       "    </tr>\n",
       "    <tr>\n",
       "      <th>2</th>\n",
       "      <td>479</td>\n",
       "      <td>130</td>\n",
       "      <td>18</td>\n",
       "      <td>66</td>\n",
       "      <td>72</td>\n",
       "      <td>76</td>\n",
       "      <td>3</td>\n",
       "      <td>1624</td>\n",
       "      <td>457</td>\n",
       "      <td>63</td>\n",
       "      <td>224</td>\n",
       "      <td>266</td>\n",
       "      <td>263</td>\n",
       "      <td>A</td>\n",
       "      <td>W</td>\n",
       "      <td>880</td>\n",
       "      <td>82</td>\n",
       "      <td>14</td>\n",
       "      <td>480.0</td>\n",
       "      <td>A</td>\n",
       "    </tr>\n",
       "    <tr>\n",
       "      <th>3</th>\n",
       "      <td>496</td>\n",
       "      <td>141</td>\n",
       "      <td>20</td>\n",
       "      <td>65</td>\n",
       "      <td>78</td>\n",
       "      <td>37</td>\n",
       "      <td>11</td>\n",
       "      <td>5628</td>\n",
       "      <td>1575</td>\n",
       "      <td>225</td>\n",
       "      <td>828</td>\n",
       "      <td>838</td>\n",
       "      <td>354</td>\n",
       "      <td>N</td>\n",
       "      <td>E</td>\n",
       "      <td>200</td>\n",
       "      <td>11</td>\n",
       "      <td>3</td>\n",
       "      <td>500.0</td>\n",
       "      <td>N</td>\n",
       "    </tr>\n",
       "    <tr>\n",
       "      <th>4</th>\n",
       "      <td>321</td>\n",
       "      <td>87</td>\n",
       "      <td>10</td>\n",
       "      <td>39</td>\n",
       "      <td>42</td>\n",
       "      <td>30</td>\n",
       "      <td>2</td>\n",
       "      <td>396</td>\n",
       "      <td>101</td>\n",
       "      <td>12</td>\n",
       "      <td>48</td>\n",
       "      <td>46</td>\n",
       "      <td>33</td>\n",
       "      <td>N</td>\n",
       "      <td>E</td>\n",
       "      <td>805</td>\n",
       "      <td>40</td>\n",
       "      <td>4</td>\n",
       "      <td>91.5</td>\n",
       "      <td>N</td>\n",
       "    </tr>\n",
       "    <tr>\n",
       "      <th>5</th>\n",
       "      <td>594</td>\n",
       "      <td>169</td>\n",
       "      <td>4</td>\n",
       "      <td>74</td>\n",
       "      <td>51</td>\n",
       "      <td>35</td>\n",
       "      <td>11</td>\n",
       "      <td>4408</td>\n",
       "      <td>1133</td>\n",
       "      <td>19</td>\n",
       "      <td>501</td>\n",
       "      <td>336</td>\n",
       "      <td>194</td>\n",
       "      <td>A</td>\n",
       "      <td>W</td>\n",
       "      <td>282</td>\n",
       "      <td>421</td>\n",
       "      <td>25</td>\n",
       "      <td>750.0</td>\n",
       "      <td>A</td>\n",
       "    </tr>\n",
       "  </tbody>\n",
       "</table>\n",
       "</div>"
      ],
      "text/plain": [
       "   AtBat  Hits  HmRun  Runs  RBI  Walks  Years  CAtBat  CHits  CHmRun  CRuns  \\\n",
       "1    315    81      7    24   38     39     14    3449    835      69    321   \n",
       "2    479   130     18    66   72     76      3    1624    457      63    224   \n",
       "3    496   141     20    65   78     37     11    5628   1575     225    828   \n",
       "4    321    87     10    39   42     30      2     396    101      12     48   \n",
       "5    594   169      4    74   51     35     11    4408   1133      19    501   \n",
       "\n",
       "   CRBI  CWalks League Division  PutOuts  Assists  Errors  Salary NewLeague  \n",
       "1   414     375      N        W      632       43      10   475.0         N  \n",
       "2   266     263      A        W      880       82      14   480.0         A  \n",
       "3   838     354      N        E      200       11       3   500.0         N  \n",
       "4    46      33      N        E      805       40       4    91.5         N  \n",
       "5   336     194      A        W      282      421      25   750.0         A  "
      ]
     },
     "execution_count": 7,
     "metadata": {},
     "output_type": "execute_result"
    }
   ],
   "source": [
    "hitters = pd.read_csv('./data/Hitters.csv')\n",
    "\n",
    "hitters = hitters.dropna()\n",
    "assert hitters.isna().sum().sum() == 0\n",
    "\n",
    "hitters.head()"
   ]
  },
  {
   "cell_type": "code",
   "execution_count": 8,
   "metadata": {},
   "outputs": [
    {
     "data": {
      "text/html": [
       "<div>\n",
       "<style scoped>\n",
       "    .dataframe tbody tr th:only-of-type {\n",
       "        vertical-align: middle;\n",
       "    }\n",
       "\n",
       "    .dataframe tbody tr th {\n",
       "        vertical-align: top;\n",
       "    }\n",
       "\n",
       "    .dataframe thead th {\n",
       "        text-align: right;\n",
       "    }\n",
       "</style>\n",
       "<table border=\"1\" class=\"dataframe\">\n",
       "  <thead>\n",
       "    <tr style=\"text-align: right;\">\n",
       "      <th></th>\n",
       "      <th>AtBat</th>\n",
       "      <th>Hits</th>\n",
       "      <th>HmRun</th>\n",
       "      <th>Runs</th>\n",
       "      <th>RBI</th>\n",
       "      <th>Walks</th>\n",
       "      <th>Years</th>\n",
       "      <th>CAtBat</th>\n",
       "      <th>CHits</th>\n",
       "      <th>CHmRun</th>\n",
       "      <th>...</th>\n",
       "      <th>PutOuts</th>\n",
       "      <th>Assists</th>\n",
       "      <th>Errors</th>\n",
       "      <th>Salary</th>\n",
       "      <th>League_A</th>\n",
       "      <th>League_N</th>\n",
       "      <th>Division_E</th>\n",
       "      <th>Division_W</th>\n",
       "      <th>NewLeague_A</th>\n",
       "      <th>NewLeague_N</th>\n",
       "    </tr>\n",
       "  </thead>\n",
       "  <tbody>\n",
       "    <tr>\n",
       "      <th>1</th>\n",
       "      <td>315</td>\n",
       "      <td>81</td>\n",
       "      <td>7</td>\n",
       "      <td>24</td>\n",
       "      <td>38</td>\n",
       "      <td>39</td>\n",
       "      <td>14</td>\n",
       "      <td>3449</td>\n",
       "      <td>835</td>\n",
       "      <td>69</td>\n",
       "      <td>...</td>\n",
       "      <td>632</td>\n",
       "      <td>43</td>\n",
       "      <td>10</td>\n",
       "      <td>475.0</td>\n",
       "      <td>0</td>\n",
       "      <td>1</td>\n",
       "      <td>0</td>\n",
       "      <td>1</td>\n",
       "      <td>0</td>\n",
       "      <td>1</td>\n",
       "    </tr>\n",
       "    <tr>\n",
       "      <th>2</th>\n",
       "      <td>479</td>\n",
       "      <td>130</td>\n",
       "      <td>18</td>\n",
       "      <td>66</td>\n",
       "      <td>72</td>\n",
       "      <td>76</td>\n",
       "      <td>3</td>\n",
       "      <td>1624</td>\n",
       "      <td>457</td>\n",
       "      <td>63</td>\n",
       "      <td>...</td>\n",
       "      <td>880</td>\n",
       "      <td>82</td>\n",
       "      <td>14</td>\n",
       "      <td>480.0</td>\n",
       "      <td>1</td>\n",
       "      <td>0</td>\n",
       "      <td>0</td>\n",
       "      <td>1</td>\n",
       "      <td>1</td>\n",
       "      <td>0</td>\n",
       "    </tr>\n",
       "    <tr>\n",
       "      <th>3</th>\n",
       "      <td>496</td>\n",
       "      <td>141</td>\n",
       "      <td>20</td>\n",
       "      <td>65</td>\n",
       "      <td>78</td>\n",
       "      <td>37</td>\n",
       "      <td>11</td>\n",
       "      <td>5628</td>\n",
       "      <td>1575</td>\n",
       "      <td>225</td>\n",
       "      <td>...</td>\n",
       "      <td>200</td>\n",
       "      <td>11</td>\n",
       "      <td>3</td>\n",
       "      <td>500.0</td>\n",
       "      <td>0</td>\n",
       "      <td>1</td>\n",
       "      <td>1</td>\n",
       "      <td>0</td>\n",
       "      <td>0</td>\n",
       "      <td>1</td>\n",
       "    </tr>\n",
       "    <tr>\n",
       "      <th>4</th>\n",
       "      <td>321</td>\n",
       "      <td>87</td>\n",
       "      <td>10</td>\n",
       "      <td>39</td>\n",
       "      <td>42</td>\n",
       "      <td>30</td>\n",
       "      <td>2</td>\n",
       "      <td>396</td>\n",
       "      <td>101</td>\n",
       "      <td>12</td>\n",
       "      <td>...</td>\n",
       "      <td>805</td>\n",
       "      <td>40</td>\n",
       "      <td>4</td>\n",
       "      <td>91.5</td>\n",
       "      <td>0</td>\n",
       "      <td>1</td>\n",
       "      <td>1</td>\n",
       "      <td>0</td>\n",
       "      <td>0</td>\n",
       "      <td>1</td>\n",
       "    </tr>\n",
       "    <tr>\n",
       "      <th>5</th>\n",
       "      <td>594</td>\n",
       "      <td>169</td>\n",
       "      <td>4</td>\n",
       "      <td>74</td>\n",
       "      <td>51</td>\n",
       "      <td>35</td>\n",
       "      <td>11</td>\n",
       "      <td>4408</td>\n",
       "      <td>1133</td>\n",
       "      <td>19</td>\n",
       "      <td>...</td>\n",
       "      <td>282</td>\n",
       "      <td>421</td>\n",
       "      <td>25</td>\n",
       "      <td>750.0</td>\n",
       "      <td>1</td>\n",
       "      <td>0</td>\n",
       "      <td>0</td>\n",
       "      <td>1</td>\n",
       "      <td>1</td>\n",
       "      <td>0</td>\n",
       "    </tr>\n",
       "  </tbody>\n",
       "</table>\n",
       "<p>5 rows × 23 columns</p>\n",
       "</div>"
      ],
      "text/plain": [
       "   AtBat  Hits  HmRun  Runs  RBI  Walks  Years  CAtBat  CHits  CHmRun  ...  \\\n",
       "1    315    81      7    24   38     39     14    3449    835      69  ...   \n",
       "2    479   130     18    66   72     76      3    1624    457      63  ...   \n",
       "3    496   141     20    65   78     37     11    5628   1575     225  ...   \n",
       "4    321    87     10    39   42     30      2     396    101      12  ...   \n",
       "5    594   169      4    74   51     35     11    4408   1133      19  ...   \n",
       "\n",
       "   PutOuts  Assists  Errors  Salary  League_A  League_N  Division_E  \\\n",
       "1      632       43      10   475.0         0         1           0   \n",
       "2      880       82      14   480.0         1         0           0   \n",
       "3      200       11       3   500.0         0         1           1   \n",
       "4      805       40       4    91.5         0         1           1   \n",
       "5      282      421      25   750.0         1         0           0   \n",
       "\n",
       "   Division_W  NewLeague_A  NewLeague_N  \n",
       "1           1            0            1  \n",
       "2           1            1            0  \n",
       "3           0            0            1  \n",
       "4           0            0            1  \n",
       "5           1            1            0  \n",
       "\n",
       "[5 rows x 23 columns]"
      ]
     },
     "execution_count": 8,
     "metadata": {},
     "output_type": "execute_result"
    }
   ],
   "source": [
    "# Create dummy variables for qualitative features\n",
    "qual = ['League', 'Division', 'NewLeague']\n",
    "hitters = pd.get_dummies(hitters, columns=qual)\n",
    "\n",
    "hitters.head()"
   ]
  },
  {
   "cell_type": "markdown",
   "metadata": {},
   "source": [
    "## Lab 1: Subset Selection Methods\n",
    "\n",
    "### 6.5.1 Best subset selection\n",
    "\n",
    "Perform best subset selection by identifying the best model that contains a given number of predictors, where best is quantified using RSS."
   ]
  },
  {
   "cell_type": "code",
   "execution_count": 18,
   "metadata": {},
   "outputs": [],
   "source": [
    "def get_models(k, X, y):\n",
    "    X_combos = combinations(list(X.columns), k)\n",
    "    \n",
    "    models = []\n",
    "    for X_label in X_combos:\n",
    "        X_smf = ' + '.join(X_label)\n",
    "        f     = 'Salary ~ {}'.format(X_smf)\n",
    "        model = smf.ols(formula=f, data=pd.concat([X, y], axis=1)).fit()\n",
    "        models += [(f, model)]\n",
    "    return models\n",
    "\n",
    "def min_rss(statsmodels):\n",
    "    return sorted(statsmodels, key=lambda tup: tup[1].ssr)[0]\n",
    "\n",
    "def min_bic(statsmodels):\n",
    "    return sorted(statsmodels, reverse=False, key=lambda tup: tup[1].bic)[0]\n",
    "\n",
    "def max_adjr2(statsmodels):\n",
    "    return sorted(statsmodels, reverse=True, key=lambda tup: tup[1].rsquared_adj)[0]\n"
   ]
  },
  {
   "cell_type": "markdown",
   "metadata": {},
   "source": [
    "### Which model with 2 predictors yields lowest RSS score?"
   ]
  },
  {
   "cell_type": "code",
   "execution_count": 13,
   "metadata": {},
   "outputs": [
    {
     "name": "stdout",
     "output_type": "stream",
     "text": [
      "This model yields the lowest RSS score for the subset of models with 2 predictors:\n"
     ]
    },
    {
     "data": {
      "text/plain": [
       "('Salary ~ Hits + CRBI',\n",
       " <statsmodels.regression.linear_model.RegressionResultsWrapper at 0x1d3db444e48>)"
      ]
     },
     "metadata": {},
     "output_type": "display_data"
    },
    {
     "name": "stdout",
     "output_type": "stream",
     "text": [
      "This model yields the highest adjusted R-squared score for the subset of models with 2 predictors:\n"
     ]
    },
    {
     "data": {
      "text/plain": [
       "('Salary ~ Hits + CRBI',\n",
       " <statsmodels.regression.linear_model.RegressionResultsWrapper at 0x1d3dc960248>)"
      ]
     },
     "execution_count": 13,
     "metadata": {},
     "output_type": "execute_result"
    }
   ],
   "source": [
    "X = hitters_pd.drop('Salary', axis=1)\n",
    "y = hitters_pd['Salary']\n",
    "\n",
    "k = 2\n",
    "subset = get_models(k, X, y)\n",
    "\n",
    "print('This model yields the lowest RSS score for the subset of models with {} predictors:'.format(k))\n",
    "display(min_rss(subset))\n",
    "\n",
    "print('This model yields the highest adjusted R-squared score for the subset of models with {} predictors:'.format(k))\n",
    "max_adjr2(get_models(2, X, y))"
   ]
  },
  {
   "cell_type": "code",
   "execution_count": 14,
   "metadata": {},
   "outputs": [
    {
     "data": {
      "text/plain": [
       "Index(['AtBat', 'Hits', 'HmRun', 'Runs', 'RBI', 'Walks', 'Years', 'CAtBat',\n",
       "       'CHits', 'CHmRun', 'CRuns', 'CRBI', 'CWalks', 'League', 'Division',\n",
       "       'PutOuts', 'Assists', 'Errors', 'NewLeague'],\n",
       "      dtype='object')"
      ]
     },
     "execution_count": 14,
     "metadata": {},
     "output_type": "execute_result"
    }
   ],
   "source": [
    "X.columns"
   ]
  },
  {
   "cell_type": "markdown",
   "metadata": {},
   "source": [
    "The model with 2 predictors that yields the lowest RSS score is the one that uses the predictors 'Hits', and 'CRBI'"
   ]
  },
  {
   "cell_type": "markdown",
   "metadata": {},
   "source": [
    "### How do the the maximum $R^2$, minimum RSS, and BIC statistics vary for each subset with k predictors? \n",
    "\n",
    "First we fit all possible models in each subset of models with k predictors. This turns out to be a very computationally expensive process, running on my laptop for 30 minutes yielded results up to only k=6 and occupied 30GB of memeory. Not suprising as number of possible combinations without repetition is given by:\n",
    "\n",
    "$$\\frac{p!}{k!(p-k)!}$$\n",
    "\n",
    "Where *p* is number of predictors to choose from and we choose *k* of them.\n",
    "\n",
    "In this example p=22, there are 22 predictors.\n",
    "\n",
    "For k = 4 the number of possible combinations is given by:\n",
    "\n",
    "$$\\frac{22!}{4!x 18!} = 74,613$$"
   ]
  },
  {
   "cell_type": "code",
   "execution_count": 15,
   "metadata": {},
   "outputs": [
    {
     "data": {
      "image/png": "[encoded data removed]",
      "text/plain": [
       "<Figure size 576x396 with 1 Axes>"
      ]
     },
     "metadata": {},
     "output_type": "display_data"
    }
   ],
   "source": [
    "from scipy.special import factorial\n",
    "\n",
    "n = 14\n",
    "k = np.arange(1, n+1)\n",
    "y = factorial(n) / (factorial(k)*factorial(n-k))\n",
    "\n",
    "ax = sns.lineplot(x=k, y=y)\n",
    "plt.xlabel('k')\n",
    "plt.ylabel('combinations');"
   ]
  },
  {
   "cell_type": "markdown",
   "metadata": {},
   "source": [
    "The plot above shows that there up to ~700,000 possible combinations of the predictors without repetition for some values of k when p = 22/\n",
    "\n",
    "The ISL authors provide comparison of the $R^2$ statistic for all combinations of 19 predictors. When p=19 the max number of combinations for any given subset is reduced by 10x, when p=10 the max combinations is reduced by ~2000x. \n",
    "\n",
    "My current machine maxed out its memory trying to compute all models for p=22. I'll try p=14 by picking 14 of the predictors for brevity. \n",
    "\n"
   ]
  },
  {
   "cell_type": "code",
   "execution_count": 17,
   "metadata": {},
   "outputs": [
    {
     "name": "stdout",
     "output_type": "stream",
     "text": [
      "Progess: k = 1, done\n",
      "Progess: k = 2, done\n",
      "Progess: k = 3, done\n",
      "Progess: k = 4, done\n",
      "Progess: k = 5, done\n",
      "Progess: k = 6, done\n"
     ]
    }
   ],
   "source": [
    "# Pick arbitrary subset of predictors to save compute/memory\n",
    "X = hitters_pd.loc[:, 'AtBat':'PutOuts']\n",
    "y = hitters_pd['Salary']\n",
    "\n",
    "model_subsets = []\n",
    "for k in range(1, 7):\n",
    "    subset = get_models(k, X, y)\n",
    "    model_subsets += [subset]\n",
    "    print('Progess: k = {}, done'.format(k))"
   ]
  },
  {
   "cell_type": "code",
   "execution_count": 19,
   "metadata": {},
   "outputs": [
    {
     "data": {
      "image/png": "[encoded data removed]",
      "text/plain": [
       "<Figure size 576x396 with 1 Axes>"
      ]
     },
     "metadata": {},
     "output_type": "display_data"
    },
    {
     "data": {
      "image/png": "[encoded data removed]",
      "text/plain": [
       "<Figure size 576x396 with 1 Axes>"
      ]
     },
     "metadata": {},
     "output_type": "display_data"
    },
    {
     "data": {
      "image/png": "[encoded data removed]",
      "text/plain": [
       "<Figure size 576x396 with 1 Axes>"
      ]
     },
     "metadata": {},
     "output_type": "display_data"
    }
   ],
   "source": [
    "rss   = [min_rss(m)[1].ssr for m in model_subsets]\n",
    "bic = [min_bic(m)[1].bic for m in model_subsets]\n",
    "adjr2 = [max_adjr2(m)[1].rsquared_adj for m in model_subsets]\n",
    "\n",
    "k     = np.arange(1, len(rss)+1)\n",
    "\n",
    "ax = sns.lineplot(x=k, y=rss)\n",
    "plt.xlabel('k')\n",
    "plt.ylabel('rss')\n",
    "plt.show()\n",
    "\n",
    "sns.lineplot(x=k, y=adjr2)\n",
    "plt.xlabel('k')\n",
    "plt.ylabel('$R^2$')\n",
    "plt.show()\n",
    "\n",
    "sns.lineplot(x=k, y=bic)\n",
    "plt.xlabel('k')\n",
    "plt.ylabel('BIC')\n",
    "plt.show()"
   ]
  },
  {
   "cell_type": "markdown",
   "metadata": {},
   "source": [
    "The stats above seem to confer that a model with around 8 predictors is best. But has each method chosen the same or similar models?"
   ]
  },
  {
   "cell_type": "code",
   "execution_count": 20,
   "metadata": {},
   "outputs": [
    {
     "name": "stdout",
     "output_type": "stream",
     "text": [
      "['Division[T.W]', 'AtBat', 'Hits', 'Walks', 'CRBI', 'PutOuts']\n"
     ]
    }
   ],
   "source": [
    "best_subset_6 = list(min_rss(model_subsets[5])[1].params.index)[1:]\n",
    "print(best_subset_6)"
   ]
  },
  {
   "cell_type": "code",
   "execution_count": 21,
   "metadata": {},
   "outputs": [
    {
     "data": {
      "text/plain": [
       "['Division[T.W]', 'AtBat', 'Hits', 'Walks', 'CRBI', 'PutOuts']"
      ]
     },
     "execution_count": 21,
     "metadata": {},
     "output_type": "execute_result"
    }
   ],
   "source": [
    "list(max_adjr2(model_subsets[5])[1].params.index)[1:]"
   ]
  },
  {
   "cell_type": "code",
   "execution_count": 22,
   "metadata": {},
   "outputs": [
    {
     "data": {
      "text/plain": [
       "['Division[T.W]', 'AtBat', 'Hits', 'Walks', 'CRBI', 'PutOuts']"
      ]
     },
     "execution_count": 22,
     "metadata": {},
     "output_type": "execute_result"
    }
   ],
   "source": [
    "list(min_bic(model_subsets[5])[1].params.index)[1:]"
   ]
  },
  {
   "cell_type": "markdown",
   "metadata": {},
   "source": [
    "All three statisticis yield the same model for the subset with 6 predictors. This is expected for RSS and R-squared stats because they are related."
   ]
  },
  {
   "cell_type": "markdown",
   "metadata": {},
   "source": [
    "### 6.5.2 Forward and Backward Stepwise Selection"
   ]
  },
  {
   "cell_type": "code",
   "execution_count": 23,
   "metadata": {
    "code_folding": [
     0
    ]
   },
   "outputs": [],
   "source": [
    "def forward_stepwise(X, y, results=[(0, [])]):\n",
    "    # List predictors that havent's been used so far\n",
    "    p_all    = list(X.columns)\n",
    "    p_used   = results[-1][1]\n",
    "    p_unused = [p for p in p_all if p not in p_used]\n",
    "    \n",
    "    # Job done, exit recursion\n",
    "    if not p_unused:\n",
    "        rss   = [r[0] for r in results]\n",
    "        preds = [r[1] for r in results]\n",
    "        return pd.DataFrame({'rss': rss, 'predictors': preds}).drop(0).reset_index()\n",
    "    \n",
    "    # Get rss score for each possible additional predictor\n",
    "    r = []\n",
    "    for p in p_unused:\n",
    "        f     = 'Salary ~ {}'.format('+'.join([p]+p_used))\n",
    "        # Fit model\n",
    "        model = smf.ols(formula=f, data=pd.concat([X, y], axis=1)).fit()\n",
    "        r     += [(model.ssr, [p]+p_used)]\n",
    "    \n",
    "    # Choose predictor which yields lowest rss\n",
    "    min_rss     = sorted(r, key=lambda tup: tup[0])[0]   \n",
    "    new_results = results + [min_rss]\n",
    "    # Recursive call to self\n",
    "    return forward_stepwise(X, y, new_results)"
   ]
  },
  {
   "cell_type": "code",
   "execution_count": 24,
   "metadata": {
    "code_folding": [
     0
    ]
   },
   "outputs": [],
   "source": [
    "def backward_stepwise(X, y, results=[]):\n",
    "    # List predictors that havent's been used so far\n",
    "    p_all    = list(X.columns)\n",
    "\n",
    "    # Check if we're starting out here\n",
    "    if not results:\n",
    "        # Fit model with all features\n",
    "        f     = 'Salary ~ {}'.format('+'.join(p_all))\n",
    "        model = smf.ols(formula=f, data=pd.concat([X, y], axis=1)).fit()\n",
    "        # Begin backward stepwise recursion\n",
    "        return backward_stepwise(X, y, [(model.ssr, p_all)])\n",
    "    else:\n",
    "        p_used = results[-1][1]\n",
    "    \n",
    "    # Job done, exit recursion\n",
    "    if len(p_used) == 1:\n",
    "        rss   = [r[0] for r in results]\n",
    "        preds = [r[1] for r in results]\n",
    "        return pd.DataFrame({'rss': rss, 'predictors': preds})    \n",
    "    \n",
    "    # Get rss score for each possible removed predictor\n",
    "    r = []\n",
    "    for p in p_used:\n",
    "        p_test = [i for i in p_used if i != p]\n",
    "        f     = 'Salary ~ {}'.format('+'.join(p_test))\n",
    "        # Fit model\n",
    "        model = smf.ols(formula=f, data=pd.concat([X, y], axis=1)).fit()\n",
    "        r     += [(model.ssr, p_test)]\n",
    "    \n",
    "    min_rss     = sorted(r, key=lambda tup: tup[0])[0]   \n",
    "    new_results = results + [min_rss]\n",
    "    return backward_stepwise(X, y, new_results)"
   ]
  },
  {
   "cell_type": "code",
   "execution_count": 28,
   "metadata": {},
   "outputs": [
    {
     "name": "stdout",
     "output_type": "stream",
     "text": [
      "    index           rss                                         predictors\n",
      "0       1  4.542829e+07                                          [PutOuts]\n",
      "1       2  4.532160e+07                                   [Years, PutOuts]\n",
      "2       3  4.522233e+07                             [CRBI, Years, PutOuts]\n",
      "3       4  4.501844e+07                      [CRuns, CRBI, Years, PutOuts]\n",
      "4       5  4.485676e+07              [CAtBat, CRuns, CRBI, Years, PutOuts]\n",
      "5       6  4.477311e+07       [CHits, CAtBat, CRuns, CRBI, Years, PutOuts]\n",
      "6       7  4.470303e+07  [AtBat, CHits, CAtBat, CRuns, CRBI, Years, Put...\n",
      "7       8  4.426874e+07  [Runs, AtBat, CHits, CAtBat, CRuns, CRBI, Year...\n",
      "8       9  4.416942e+07  [Walks, Runs, AtBat, CHits, CAtBat, CRuns, CRB...\n",
      "9      10  4.411388e+07  [RBI, Walks, Runs, AtBat, CHits, CAtBat, CRuns...\n",
      "10     11  4.409301e+07  [CHmRun, RBI, Walks, Runs, AtBat, CHits, CAtBa...\n",
      "11     12  4.404634e+07  [HmRun, CHmRun, RBI, Walks, Runs, AtBat, CHits...\n",
      "12     13  4.403416e+07  [CWalks, HmRun, CHmRun, RBI, Walks, Runs, AtBa...\n",
      "13     14  4.401455e+07  [Hits, CWalks, HmRun, CHmRun, RBI, Walks, Runs...\n",
      "------------------------------\n",
      "             rss                                         predictors\n",
      "0   4.401455e+07  [AtBat, Hits, HmRun, Runs, RBI, Walks, Years, ...\n",
      "1   4.403319e+07  [AtBat, Hits, HmRun, Runs, RBI, Walks, Years, ...\n",
      "2   4.404850e+07  [AtBat, Hits, HmRun, Runs, RBI, Years, CAtBat,...\n",
      "3   4.411577e+07  [AtBat, HmRun, Runs, RBI, Years, CAtBat, CHits...\n",
      "4   4.420307e+07  [AtBat, Runs, RBI, Years, CAtBat, CHits, CHmRu...\n",
      "5   4.423072e+07  [AtBat, Runs, Years, CAtBat, CHits, CHmRun, CR...\n",
      "6   4.432830e+07  [AtBat, Runs, Years, CAtBat, CHits, CHmRun, CR...\n",
      "7   4.446395e+07  [AtBat, Runs, Years, CAtBat, CHits, CRBI, CWalks]\n",
      "8   4.458186e+07        [AtBat, Runs, Years, CAtBat, CHits, CWalks]\n",
      "9   4.478784e+07               [AtBat, Runs, CAtBat, CHits, CWalks]\n",
      "10  4.503574e+07                       [AtBat, Runs, CAtBat, CHits]\n",
      "11  4.521163e+07                               [AtBat, Runs, CHits]\n",
      "12  4.527554e+07                                      [AtBat, Runs]\n",
      "13  4.548898e+07                                            [AtBat]\n"
     ]
    }
   ],
   "source": [
    "scaler = StandardScaler()\n",
    "X = scaler.fit_transform(hitters.loc[:, 'AtBat':'PutOuts'])\n",
    "X_new = pd.DataFrame(X)\n",
    "X_new.columns = hitters.loc[:, 'AtBat':'PutOuts'].columns\n",
    "y = hitters['Salary']\n",
    "\n",
    "forward_stepwise  = forward_stepwise(X_new, y)\n",
    "print(forward_stepwise)\n",
    "print('-'*30)\n",
    "backward_stepwise = backward_stepwise(X_new, y)\n",
    "print(backward_stepwise)"
   ]
  },
  {
   "cell_type": "code",
   "execution_count": 30,
   "metadata": {},
   "outputs": [
    {
     "name": "stdout",
     "output_type": "stream",
     "text": [
      "Best Subset Selection       : ['AtBat', 'CRBI', 'Division[T.W]', 'Hits', 'PutOuts', 'Walks']\n",
      "Forward Stepwise Selection  : ['CAtBat', 'CHits', 'CRBI', 'CRuns', 'PutOuts', 'Years']\n",
      "Backward Stepwise Selection : ['AtBat', 'CAtBat', 'CHits', 'CWalks', 'Runs', 'Years']\n"
     ]
    }
   ],
   "source": [
    "print('Best Subset Selection       : {}'.format(sorted(best_subset_6)))\n",
    "print('Forward Stepwise Selection  : {}'.format(sorted(forward_stepwise.loc[5]['predictors'])))\n",
    "print('Backward Stepwise Selection : {}'.format(sorted(backward_stepwise.loc[8]['predictors'])))"
   ]
  },
  {
   "cell_type": "markdown",
   "metadata": {},
   "source": [
    "The above results show that Backward Stepwise Selection chooses the same 6 predictors as Best Subset Selection. Forward Stepwise Selection chooses all but one of the same predictors.\n",
    "\n",
    "Backward Stepwise Selection therefore looks like the best approach as it makes the same optimal selection as best subset selection, but with significantly lower computational cost."
   ]
  },
  {
   "cell_type": "markdown",
   "metadata": {},
   "source": [
    "### 6.5.3 Choosing Among Models Using the Validation Set Approach and Cross-Validation"
   ]
  },
  {
   "cell_type": "code",
   "execution_count": 31,
   "metadata": {},
   "outputs": [],
   "source": [
    "def best_subset_rss(X, y):\n",
    "    model_subsets = []\n",
    "    for k in range(len(X.columns)):\n",
    "        k=k+1\n",
    "        subset = get_models(k, X, y)\n",
    "        model_subsets += [subset]\n",
    "        print('Best subset selected: k = {}/{}, done'.format(k, len(X.columns)))\n",
    "    # Get best rss score for each subset\n",
    "    return [min_rss(m) for m in model_subsets]\n",
    "\n",
    "def mse(y_hat, y):\n",
    "    return np.sum(np.square(y_hat - y)) / y.size"
   ]
  },
  {
   "cell_type": "code",
   "execution_count": 16,
   "metadata": {},
   "outputs": [
    {
     "name": "stdout",
     "output_type": "stream",
     "text": [
      "Best subset selected: k = 1/14, done\n",
      "Best subset selected: k = 2/14, done\n",
      "Best subset selected: k = 3/14, done\n",
      "Best subset selected: k = 4/14, done\n",
      "Best subset selected: k = 5/14, done\n",
      "Best subset selected: k = 6/14, done\n",
      "Best subset selected: k = 7/14, done\n",
      "Best subset selected: k = 8/14, done\n",
      "Best subset selected: k = 9/14, done\n",
      "Best subset selected: k = 10/14, done\n",
      "Best subset selected: k = 11/14, done\n",
      "Best subset selected: k = 12/14, done\n",
      "Best subset selected: k = 13/14, done\n",
      "Best subset selected: k = 14/14, done\n"
     ]
    }
   ],
   "source": [
    "np.random.seed(1)\n",
    "train = np.random.rand(len(hitters_pd)) < 0.5\n",
    "\n",
    "response   = 'Salary'\n",
    "\n",
    "X_train = hitters_pd[train].loc[:, 'AtBat':'PutOuts']\n",
    "X_test  = hitters_pd[~train].loc[:, 'AtBat':'PutOuts']\n",
    "y_train = hitters_pd[train][response]\n",
    "y_test  = hitters_pd[~train][response]\n",
    "\n",
    "best_subsets = best_subset_rss(X_train, y_train)"
   ]
  },
  {
   "cell_type": "code",
   "execution_count": 17,
   "metadata": {},
   "outputs": [
    {
     "data": {
      "text/html": [
       "<div>\n",
       "<style scoped>\n",
       "    .dataframe tbody tr th:only-of-type {\n",
       "        vertical-align: middle;\n",
       "    }\n",
       "\n",
       "    .dataframe tbody tr th {\n",
       "        vertical-align: top;\n",
       "    }\n",
       "\n",
       "    .dataframe thead th {\n",
       "        text-align: right;\n",
       "    }\n",
       "</style>\n",
       "<table border=\"1\" class=\"dataframe\">\n",
       "  <thead>\n",
       "    <tr style=\"text-align: right;\">\n",
       "      <th></th>\n",
       "      <th>predictors</th>\n",
       "      <th>MSE</th>\n",
       "    </tr>\n",
       "  </thead>\n",
       "  <tbody>\n",
       "    <tr>\n",
       "      <th>0</th>\n",
       "      <td>1</td>\n",
       "      <td>178139.358427</td>\n",
       "    </tr>\n",
       "    <tr>\n",
       "      <th>1</th>\n",
       "      <td>2</td>\n",
       "      <td>165215.400785</td>\n",
       "    </tr>\n",
       "    <tr>\n",
       "      <th>2</th>\n",
       "      <td>3</td>\n",
       "      <td>170773.977180</td>\n",
       "    </tr>\n",
       "    <tr>\n",
       "      <th>3</th>\n",
       "      <td>4</td>\n",
       "      <td>154020.720967</td>\n",
       "    </tr>\n",
       "    <tr>\n",
       "      <th>4</th>\n",
       "      <td>5</td>\n",
       "      <td>147281.971965</td>\n",
       "    </tr>\n",
       "    <tr>\n",
       "      <th>5</th>\n",
       "      <td>6</td>\n",
       "      <td>148387.589992</td>\n",
       "    </tr>\n",
       "    <tr>\n",
       "      <th>6</th>\n",
       "      <td>7</td>\n",
       "      <td>149105.946391</td>\n",
       "    </tr>\n",
       "    <tr>\n",
       "      <th>7</th>\n",
       "      <td>8</td>\n",
       "      <td>138481.274569</td>\n",
       "    </tr>\n",
       "    <tr>\n",
       "      <th>8</th>\n",
       "      <td>9</td>\n",
       "      <td>133463.544833</td>\n",
       "    </tr>\n",
       "    <tr>\n",
       "      <th>9</th>\n",
       "      <td>10</td>\n",
       "      <td>134906.763925</td>\n",
       "    </tr>\n",
       "    <tr>\n",
       "      <th>10</th>\n",
       "      <td>11</td>\n",
       "      <td>135302.429278</td>\n",
       "    </tr>\n",
       "    <tr>\n",
       "      <th>11</th>\n",
       "      <td>12</td>\n",
       "      <td>135852.565942</td>\n",
       "    </tr>\n",
       "    <tr>\n",
       "      <th>12</th>\n",
       "      <td>13</td>\n",
       "      <td>136032.669566</td>\n",
       "    </tr>\n",
       "    <tr>\n",
       "      <th>13</th>\n",
       "      <td>14</td>\n",
       "      <td>136072.224129</td>\n",
       "    </tr>\n",
       "  </tbody>\n",
       "</table>\n",
       "</div>"
      ],
      "text/plain": [
       "    predictors            MSE\n",
       "0            1  178139.358427\n",
       "1            2  165215.400785\n",
       "2            3  170773.977180\n",
       "3            4  154020.720967\n",
       "4            5  147281.971965\n",
       "5            6  148387.589992\n",
       "6            7  149105.946391\n",
       "7            8  138481.274569\n",
       "8            9  133463.544833\n",
       "9           10  134906.763925\n",
       "10          11  135302.429278\n",
       "11          12  135852.565942\n",
       "12          13  136032.669566\n",
       "13          14  136072.224129"
      ]
     },
     "metadata": {},
     "output_type": "display_data"
    },
    {
     "data": {
      "image/png": "[encoded data removed]",
      "text/plain": [
       "<Figure size 432x288 with 1 Axes>"
      ]
     },
     "metadata": {},
     "output_type": "display_data"
    }
   ],
   "source": [
    "# Using 50% hold out set\n",
    "MSEs = []\n",
    "for m in best_subsets:\n",
    "    model = m[1]\n",
    "    y_hat = model.predict(X_test)\n",
    "    r     = mse(y_hat, y_test)\n",
    "    MSEs += [r]\n",
    "\n",
    "results = pd.DataFrame({'predictors': np.arange(1, 15), 'MSE': MSEs})\n",
    "display(results)\n",
    "sns.lineplot(x='predictors', y='MSE', data=results);"
   ]
  },
  {
   "cell_type": "markdown",
   "metadata": {},
   "source": [
    "Above we performed best subset selection up to 14 predictors using the training set createad from a 50% hold-out set. We then use the test set to measure the MSE for the selected model in each subset of p predictors. \n",
    "\n",
    "We observe the lowest MSE for the model with 9 predictors."
   ]
  },
  {
   "cell_type": "code",
   "execution_count": 18,
   "metadata": {},
   "outputs": [
    {
     "data": {
      "text/plain": [
       "'Salary ~ AtBat + Hits + HmRun + Walks + CAtBat + CRuns + CRBI + CWalks + PutOuts'"
      ]
     },
     "execution_count": 18,
     "metadata": {},
     "output_type": "execute_result"
    }
   ],
   "source": [
    "# Which 9 predictors did best subset selection choose based on the TRAINING set?\n",
    "best_subsets[8][0]"
   ]
  },
  {
   "cell_type": "code",
   "execution_count": 19,
   "metadata": {
    "scrolled": true
   },
   "outputs": [
    {
     "name": "stdout",
     "output_type": "stream",
     "text": [
      "Best subset selected: k = 1/14, done\n",
      "Best subset selected: k = 2/14, done\n",
      "Best subset selected: k = 3/14, done\n",
      "Best subset selected: k = 4/14, done\n",
      "Best subset selected: k = 5/14, done\n",
      "Best subset selected: k = 6/14, done\n",
      "Best subset selected: k = 7/14, done\n",
      "Best subset selected: k = 8/14, done\n",
      "Best subset selected: k = 9/14, done\n",
      "Best subset selected: k = 10/14, done\n",
      "Best subset selected: k = 11/14, done\n",
      "Best subset selected: k = 12/14, done\n",
      "Best subset selected: k = 13/14, done\n",
      "Best subset selected: k = 14/14, done\n"
     ]
    },
    {
     "data": {
      "text/plain": [
       "'Salary ~ AtBat + Hits + Runs + Walks + CAtBat + CRuns + CRBI + CWalks + PutOuts'"
      ]
     },
     "execution_count": 19,
     "metadata": {},
     "output_type": "execute_result"
    }
   ],
   "source": [
    "# Which 9 predictors does best subset selection choose based on the FULL set?\n",
    "best_subsets_full = best_subset_rss(hitters_pd.loc[:, 'AtBat':'PutOuts'], hitters_pd['Salary'])\n",
    "best_subsets_full[8][0]"
   ]
  },
  {
   "cell_type": "markdown",
   "metadata": {},
   "source": [
    "This time the same model is selected using the full dataset, as is selected using just the training set. This won't always be the case however, so the ISL authors reccomend taking the model that best subset selection chooses using the full dataset.\n",
    "\n",
    "**Revision note:** My understanind of what the authors seem to be suggesting is:\n",
    "\n",
    "- fit all possible models on training set\n",
    "- choose best model in each subset by RSS\n",
    "- use test MSE to choose best subset, e.g optimal number of predictors *p*\n",
    "- fit all possible models with optimal value of p predictors on *full* dataset\n",
    "- choose best model by RSS\n",
    "\n",
    "This seems odd to me because the model finaly chosen has not been verified on the test set. If the actual predictors are to be chosen on the full set, why not pass this model through validation? Note that this does not mean the model fitted on full dataset is then used in test:\n",
    "\n",
    "- fit all possible models on full dataset\n",
    "- choose best combination of predictors in each subset by RSS\n",
    "- use above choices to fit models on training set\n",
    "- use test MSE to choose best subset\n",
    "- model with lowest MSE is chosen\n",
    "\n",
    "This approach also seems to simplify use of best subset selection with cross-validation:\n",
    "\n",
    "- fit all possible models on full dataset\n",
    "- choose best combination of predictors in each subset by RSS\n",
    "- choose from above predictor subsets using cross validation"
   ]
  },
  {
   "cell_type": "code",
   "execution_count": 20,
   "metadata": {},
   "outputs": [],
   "source": [
    "def cross_val(formula, X, y, k):\n",
    "    # Split dataset into k-folds\n",
    "    # Note: np.array_split doesn't raise excpetion is folds are unequal in size\n",
    "    X_folds = np.array_split(X, k)\n",
    "    y_folds = np.array_split(y, k)\n",
    "    \n",
    "    MSEs = []\n",
    "    for f in np.arange(len(X_folds)):\n",
    "        # Create training and test sets\n",
    "        X_test  = X_folds[f]\n",
    "        y_test  = y_folds[f]\n",
    "        X_train = X.drop(X_folds[f].index)\n",
    "        y_train = y.drop(y_folds[f].index)\n",
    "        \n",
    "        # Fit model\n",
    "        model = smf.ols(formula=formula, data=pd.concat([X_train, y_train], axis=1)).fit()\n",
    "        \n",
    "        # Measure MSE\n",
    "        y_hat = model.predict(X_test)\n",
    "        MSEs += [mse(y_hat, y_test)]\n",
    "    return (MSEs, formula)\n",
    "    "
   ]
  },
  {
   "cell_type": "code",
   "execution_count": 21,
   "metadata": {
    "scrolled": true
   },
   "outputs": [
    {
     "name": "stdout",
     "output_type": "stream",
     "text": [
      "Best subset selected: k = 1/14, done\n",
      "Best subset selected: k = 2/14, done\n",
      "Best subset selected: k = 3/14, done\n",
      "Best subset selected: k = 4/14, done\n",
      "Best subset selected: k = 5/14, done\n",
      "Best subset selected: k = 6/14, done\n",
      "Best subset selected: k = 7/14, done\n",
      "Best subset selected: k = 8/14, done\n",
      "Best subset selected: k = 9/14, done\n",
      "Best subset selected: k = 10/14, done\n",
      "Best subset selected: k = 11/14, done\n",
      "Best subset selected: k = 12/14, done\n",
      "Best subset selected: k = 13/14, done\n",
      "Best subset selected: k = 14/14, done\n"
     ]
    }
   ],
   "source": [
    "# Get best subsets of predictors for full dataset\n",
    "X = hitters_pd.loc[:, 'AtBat':'PutOuts']\n",
    "y = hitters_pd['Salary']\n",
    "\n",
    "best_subsets_full = best_subset_rss(X, y)"
   ]
  },
  {
   "cell_type": "code",
   "execution_count": 22,
   "metadata": {},
   "outputs": [
    {
     "data": {
      "text/html": [
       "<div>\n",
       "<style scoped>\n",
       "    .dataframe tbody tr th:only-of-type {\n",
       "        vertical-align: middle;\n",
       "    }\n",
       "\n",
       "    .dataframe tbody tr th {\n",
       "        vertical-align: top;\n",
       "    }\n",
       "\n",
       "    .dataframe thead th {\n",
       "        text-align: right;\n",
       "    }\n",
       "</style>\n",
       "<table border=\"1\" class=\"dataframe\">\n",
       "  <thead>\n",
       "    <tr style=\"text-align: right;\">\n",
       "      <th></th>\n",
       "      <th>predictors</th>\n",
       "      <th>MSE_mean</th>\n",
       "      <th>MSE_folds</th>\n",
       "      <th>Model</th>\n",
       "    </tr>\n",
       "  </thead>\n",
       "  <tbody>\n",
       "    <tr>\n",
       "      <th>0</th>\n",
       "      <td>1</td>\n",
       "      <td>142840.888022</td>\n",
       "      <td>[52976.57302399576, 80338.281999855, 282759.54...</td>\n",
       "      <td>Salary ~ CRBI</td>\n",
       "    </tr>\n",
       "    <tr>\n",
       "      <th>1</th>\n",
       "      <td>2</td>\n",
       "      <td>124466.240992</td>\n",
       "      <td>[60439.110444577454, 44215.5427373037, 210423....</td>\n",
       "      <td>Salary ~ Hits + CRBI</td>\n",
       "    </tr>\n",
       "    <tr>\n",
       "      <th>2</th>\n",
       "      <td>3</td>\n",
       "      <td>119812.512799</td>\n",
       "      <td>[71609.19418407278, 42531.326374113065, 189132...</td>\n",
       "      <td>Salary ~ Hits + CRBI + PutOuts</td>\n",
       "    </tr>\n",
       "    <tr>\n",
       "      <th>3</th>\n",
       "      <td>4</td>\n",
       "      <td>116723.518363</td>\n",
       "      <td>[70957.22282838816, 45714.23594875619, 174585....</td>\n",
       "      <td>Salary ~ AtBat + Hits + CRBI + PutOuts</td>\n",
       "    </tr>\n",
       "    <tr>\n",
       "      <th>4</th>\n",
       "      <td>5</td>\n",
       "      <td>112340.754784</td>\n",
       "      <td>[67046.46201253521, 43301.142890066694, 178826...</td>\n",
       "      <td>Salary ~ AtBat + Hits + Walks + CRBI + PutOuts</td>\n",
       "    </tr>\n",
       "    <tr>\n",
       "      <th>5</th>\n",
       "      <td>6</td>\n",
       "      <td>113132.633435</td>\n",
       "      <td>[88211.72188654834, 36778.67067994044, 188866....</td>\n",
       "      <td>Salary ~ AtBat + Hits + Walks + CRuns + CWalks...</td>\n",
       "    </tr>\n",
       "    <tr>\n",
       "      <th>6</th>\n",
       "      <td>7</td>\n",
       "      <td>110827.847248</td>\n",
       "      <td>[87533.41276121038, 31125.84402692224, 172726....</td>\n",
       "      <td>Salary ~ AtBat + Hits + Walks + CHmRun + CRuns...</td>\n",
       "    </tr>\n",
       "    <tr>\n",
       "      <th>7</th>\n",
       "      <td>8</td>\n",
       "      <td>109522.011671</td>\n",
       "      <td>[86417.0694422955, 30716.914843531533, 165276....</td>\n",
       "      <td>Salary ~ AtBat + Hits + Walks + CAtBat + CRuns...</td>\n",
       "    </tr>\n",
       "    <tr>\n",
       "      <th>8</th>\n",
       "      <td>9</td>\n",
       "      <td>110455.064295</td>\n",
       "      <td>[83928.29301348924, 30475.3767711306, 162469.7...</td>\n",
       "      <td>Salary ~ AtBat + Hits + Runs + Walks + CAtBat ...</td>\n",
       "    </tr>\n",
       "    <tr>\n",
       "      <th>9</th>\n",
       "      <td>10</td>\n",
       "      <td>111701.134543</td>\n",
       "      <td>[88528.56340836613, 31534.424862039876, 162165...</td>\n",
       "      <td>Salary ~ AtBat + Hits + Runs + Walks + Years +...</td>\n",
       "    </tr>\n",
       "    <tr>\n",
       "      <th>10</th>\n",
       "      <td>11</td>\n",
       "      <td>112521.007737</td>\n",
       "      <td>[88525.39130127529, 32233.417562426817, 162177...</td>\n",
       "      <td>Salary ~ AtBat + Hits + Runs + Walks + Years +...</td>\n",
       "    </tr>\n",
       "    <tr>\n",
       "      <th>11</th>\n",
       "      <td>12</td>\n",
       "      <td>114113.347167</td>\n",
       "      <td>[90156.22832070397, 32996.29665092049, 163856....</td>\n",
       "      <td>Salary ~ AtBat + Hits + Runs + Walks + Years +...</td>\n",
       "    </tr>\n",
       "    <tr>\n",
       "      <th>12</th>\n",
       "      <td>13</td>\n",
       "      <td>114788.299569</td>\n",
       "      <td>[90168.61111067011, 32965.618160201964, 164098...</td>\n",
       "      <td>Salary ~ AtBat + Hits + HmRun + Runs + Walks +...</td>\n",
       "    </tr>\n",
       "    <tr>\n",
       "      <th>13</th>\n",
       "      <td>14</td>\n",
       "      <td>116527.299332</td>\n",
       "      <td>[90817.75925294032, 32980.994138704256, 164194...</td>\n",
       "      <td>Salary ~ AtBat + Hits + HmRun + Runs + RBI + W...</td>\n",
       "    </tr>\n",
       "  </tbody>\n",
       "</table>\n",
       "</div>"
      ],
      "text/plain": [
       "    predictors       MSE_mean  \\\n",
       "0            1  142840.888022   \n",
       "1            2  124466.240992   \n",
       "2            3  119812.512799   \n",
       "3            4  116723.518363   \n",
       "4            5  112340.754784   \n",
       "5            6  113132.633435   \n",
       "6            7  110827.847248   \n",
       "7            8  109522.011671   \n",
       "8            9  110455.064295   \n",
       "9           10  111701.134543   \n",
       "10          11  112521.007737   \n",
       "11          12  114113.347167   \n",
       "12          13  114788.299569   \n",
       "13          14  116527.299332   \n",
       "\n",
       "                                            MSE_folds  \\\n",
       "0   [52976.57302399576, 80338.281999855, 282759.54...   \n",
       "1   [60439.110444577454, 44215.5427373037, 210423....   \n",
       "2   [71609.19418407278, 42531.326374113065, 189132...   \n",
       "3   [70957.22282838816, 45714.23594875619, 174585....   \n",
       "4   [67046.46201253521, 43301.142890066694, 178826...   \n",
       "5   [88211.72188654834, 36778.67067994044, 188866....   \n",
       "6   [87533.41276121038, 31125.84402692224, 172726....   \n",
       "7   [86417.0694422955, 30716.914843531533, 165276....   \n",
       "8   [83928.29301348924, 30475.3767711306, 162469.7...   \n",
       "9   [88528.56340836613, 31534.424862039876, 162165...   \n",
       "10  [88525.39130127529, 32233.417562426817, 162177...   \n",
       "11  [90156.22832070397, 32996.29665092049, 163856....   \n",
       "12  [90168.61111067011, 32965.618160201964, 164098...   \n",
       "13  [90817.75925294032, 32980.994138704256, 164194...   \n",
       "\n",
       "                                                Model  \n",
       "0                                       Salary ~ CRBI  \n",
       "1                                Salary ~ Hits + CRBI  \n",
       "2                      Salary ~ Hits + CRBI + PutOuts  \n",
       "3              Salary ~ AtBat + Hits + CRBI + PutOuts  \n",
       "4      Salary ~ AtBat + Hits + Walks + CRBI + PutOuts  \n",
       "5   Salary ~ AtBat + Hits + Walks + CRuns + CWalks...  \n",
       "6   Salary ~ AtBat + Hits + Walks + CHmRun + CRuns...  \n",
       "7   Salary ~ AtBat + Hits + Walks + CAtBat + CRuns...  \n",
       "8   Salary ~ AtBat + Hits + Runs + Walks + CAtBat ...  \n",
       "9   Salary ~ AtBat + Hits + Runs + Walks + Years +...  \n",
       "10  Salary ~ AtBat + Hits + Runs + Walks + Years +...  \n",
       "11  Salary ~ AtBat + Hits + Runs + Walks + Years +...  \n",
       "12  Salary ~ AtBat + Hits + HmRun + Runs + Walks +...  \n",
       "13  Salary ~ AtBat + Hits + HmRun + Runs + RBI + W...  "
      ]
     },
     "metadata": {},
     "output_type": "display_data"
    },
    {
     "data": {
      "image/png": "[encoded data removed]",
      "text/plain": [
       "<Figure size 432x288 with 1 Axes>"
      ]
     },
     "metadata": {},
     "output_type": "display_data"
    }
   ],
   "source": [
    "# Perform cross validation for each subset of predictors\n",
    "results = []\n",
    "for sub in best_subsets_full:\n",
    "    results += [cross_val(sub[0], X, y, 10)]\n",
    "\n",
    "results_a_df = pd.DataFrame({'predictors': list(np.arange(1, 15)),\n",
    "                           'MSE_mean': [np.mean(i[0]) for i in results],\n",
    "                           'MSE_folds': [i[0] for i in results],\n",
    "                           'Model': [i[1] for i in results]})\n",
    "display(results_a_df)\n",
    "sns.lineplot(x='predictors', y='MSE_mean', data=results_a_df);"
   ]
  },
  {
   "cell_type": "code",
   "execution_count": 23,
   "metadata": {},
   "outputs": [
    {
     "data": {
      "text/html": [
       "<div>\n",
       "<style scoped>\n",
       "    .dataframe tbody tr th:only-of-type {\n",
       "        vertical-align: middle;\n",
       "    }\n",
       "\n",
       "    .dataframe tbody tr th {\n",
       "        vertical-align: top;\n",
       "    }\n",
       "\n",
       "    .dataframe thead th {\n",
       "        text-align: right;\n",
       "    }\n",
       "</style>\n",
       "<table border=\"1\" class=\"dataframe\">\n",
       "  <thead>\n",
       "    <tr style=\"text-align: right;\">\n",
       "      <th></th>\n",
       "      <th>predictors</th>\n",
       "      <th>MSE_mean</th>\n",
       "      <th>MSE_folds</th>\n",
       "      <th>Model</th>\n",
       "    </tr>\n",
       "  </thead>\n",
       "  <tbody>\n",
       "    <tr>\n",
       "      <th>7</th>\n",
       "      <td>8</td>\n",
       "      <td>109522.011671</td>\n",
       "      <td>[86417.0694422955, 30716.914843531533, 165276....</td>\n",
       "      <td>Salary ~ AtBat + Hits + Walks + CAtBat + CRuns...</td>\n",
       "    </tr>\n",
       "  </tbody>\n",
       "</table>\n",
       "</div>"
      ],
      "text/plain": [
       "   predictors       MSE_mean  \\\n",
       "7           8  109522.011671   \n",
       "\n",
       "                                           MSE_folds  \\\n",
       "7  [86417.0694422955, 30716.914843531533, 165276....   \n",
       "\n",
       "                                               Model  \n",
       "7  Salary ~ AtBat + Hits + Walks + CAtBat + CRuns...  "
      ]
     },
     "metadata": {},
     "output_type": "display_data"
    },
    {
     "data": {
      "text/plain": [
       "'Salary ~ AtBat + Hits + Walks + CAtBat + CRuns + CRBI + CWalks + PutOuts'"
      ]
     },
     "execution_count": 23,
     "metadata": {},
     "output_type": "execute_result"
    }
   ],
   "source": [
    "best_subset_choice = results_a_df[results_a_df['MSE_mean'] == results_a_df['MSE_mean'].min()]\n",
    "display(best_subset_choice)\n",
    "\n",
    "best_subset_choice['Model'].iloc[0]"
   ]
  },
  {
   "cell_type": "markdown",
   "metadata": {},
   "source": [
    "We see that 10-fold cross validation selects an 8 variable model. The estimated test MSE is 109,522.\n",
    "\n",
    "**Revision note:** The ISL authors (p.250) land on an 11 variable model with a higher average MSE of 125,154. Why is this?\n",
    "\n"
   ]
  },
  {
   "cell_type": "markdown",
   "metadata": {},
   "source": [
    "### Can we get a better model by Backwards Stepwise on all features?"
   ]
  },
  {
   "cell_type": "code",
   "execution_count": 24,
   "metadata": {},
   "outputs": [
    {
     "data": {
      "text/html": [
       "<div>\n",
       "<style scoped>\n",
       "    .dataframe tbody tr th:only-of-type {\n",
       "        vertical-align: middle;\n",
       "    }\n",
       "\n",
       "    .dataframe tbody tr th {\n",
       "        vertical-align: top;\n",
       "    }\n",
       "\n",
       "    .dataframe thead th {\n",
       "        text-align: right;\n",
       "    }\n",
       "</style>\n",
       "<table border=\"1\" class=\"dataframe\">\n",
       "  <thead>\n",
       "    <tr style=\"text-align: right;\">\n",
       "      <th></th>\n",
       "      <th>rss</th>\n",
       "      <th>predictors</th>\n",
       "      <th>predictor_count</th>\n",
       "    </tr>\n",
       "  </thead>\n",
       "  <tbody>\n",
       "    <tr>\n",
       "      <th>0</th>\n",
       "      <td>2.420070e+07</td>\n",
       "      <td>[AtBat, Hits, HmRun, Runs, RBI, Walks, Years, ...</td>\n",
       "      <td>1</td>\n",
       "    </tr>\n",
       "    <tr>\n",
       "      <th>1</th>\n",
       "      <td>2.420070e+07</td>\n",
       "      <td>[AtBat, Hits, HmRun, Runs, RBI, Walks, Years, ...</td>\n",
       "      <td>2</td>\n",
       "    </tr>\n",
       "    <tr>\n",
       "      <th>2</th>\n",
       "      <td>2.420070e+07</td>\n",
       "      <td>[AtBat, Hits, HmRun, Runs, RBI, Walks, Years, ...</td>\n",
       "      <td>3</td>\n",
       "    </tr>\n",
       "    <tr>\n",
       "      <th>3</th>\n",
       "      <td>2.420070e+07</td>\n",
       "      <td>[AtBat, Hits, HmRun, Runs, RBI, Walks, Years, ...</td>\n",
       "      <td>4</td>\n",
       "    </tr>\n",
       "    <tr>\n",
       "      <th>4</th>\n",
       "      <td>2.420184e+07</td>\n",
       "      <td>[AtBat, Hits, HmRun, Runs, RBI, Walks, Years, ...</td>\n",
       "      <td>5</td>\n",
       "    </tr>\n",
       "    <tr>\n",
       "      <th>5</th>\n",
       "      <td>2.420945e+07</td>\n",
       "      <td>[AtBat, Hits, HmRun, Runs, RBI, Walks, CAtBat,...</td>\n",
       "      <td>6</td>\n",
       "    </tr>\n",
       "    <tr>\n",
       "      <th>6</th>\n",
       "      <td>2.421938e+07</td>\n",
       "      <td>[AtBat, Hits, HmRun, Runs, RBI, Walks, CAtBat,...</td>\n",
       "      <td>7</td>\n",
       "    </tr>\n",
       "    <tr>\n",
       "      <th>7</th>\n",
       "      <td>2.423518e+07</td>\n",
       "      <td>[AtBat, Hits, HmRun, Runs, Walks, CAtBat, CHit...</td>\n",
       "      <td>8</td>\n",
       "    </tr>\n",
       "    <tr>\n",
       "      <th>8</th>\n",
       "      <td>2.424866e+07</td>\n",
       "      <td>[AtBat, Hits, HmRun, Runs, Walks, CAtBat, CRun...</td>\n",
       "      <td>9</td>\n",
       "    </tr>\n",
       "    <tr>\n",
       "      <th>9</th>\n",
       "      <td>2.428915e+07</td>\n",
       "      <td>[AtBat, Hits, Runs, Walks, CAtBat, CRuns, CRBI...</td>\n",
       "      <td>10</td>\n",
       "    </tr>\n",
       "    <tr>\n",
       "      <th>10</th>\n",
       "      <td>2.433323e+07</td>\n",
       "      <td>[AtBat, Hits, Runs, Walks, CAtBat, CRuns, CRBI...</td>\n",
       "      <td>11</td>\n",
       "    </tr>\n",
       "    <tr>\n",
       "      <th>11</th>\n",
       "      <td>2.438735e+07</td>\n",
       "      <td>[AtBat, Hits, Walks, CAtBat, CRuns, CRBI, CWal...</td>\n",
       "      <td>12</td>\n",
       "    </tr>\n",
       "    <tr>\n",
       "      <th>12</th>\n",
       "      <td>2.450040e+07</td>\n",
       "      <td>[AtBat, Hits, Walks, CAtBat, CRuns, CRBI, CWal...</td>\n",
       "      <td>13</td>\n",
       "    </tr>\n",
       "    <tr>\n",
       "      <th>13</th>\n",
       "      <td>2.481405e+07</td>\n",
       "      <td>[AtBat, Hits, Walks, CAtBat, CRuns, CRBI, CWal...</td>\n",
       "      <td>14</td>\n",
       "    </tr>\n",
       "    <tr>\n",
       "      <th>14</th>\n",
       "      <td>2.515923e+07</td>\n",
       "      <td>[AtBat, Hits, Walks, CRuns, CRBI, CWalks, PutO...</td>\n",
       "      <td>15</td>\n",
       "    </tr>\n",
       "    <tr>\n",
       "      <th>15</th>\n",
       "      <td>2.593349e+07</td>\n",
       "      <td>[AtBat, Hits, Walks, CRuns, CWalks, PutOuts, D...</td>\n",
       "      <td>16</td>\n",
       "    </tr>\n",
       "    <tr>\n",
       "      <th>16</th>\n",
       "      <td>2.667409e+07</td>\n",
       "      <td>[AtBat, Hits, Walks, CRuns, PutOuts, Division_W]</td>\n",
       "      <td>17</td>\n",
       "    </tr>\n",
       "    <tr>\n",
       "      <th>17</th>\n",
       "      <td>2.750952e+07</td>\n",
       "      <td>[AtBat, Hits, Walks, CRuns, PutOuts]</td>\n",
       "      <td>18</td>\n",
       "    </tr>\n",
       "    <tr>\n",
       "      <th>18</th>\n",
       "      <td>2.845081e+07</td>\n",
       "      <td>[AtBat, Hits, CRuns, PutOuts]</td>\n",
       "      <td>19</td>\n",
       "    </tr>\n",
       "    <tr>\n",
       "      <th>19</th>\n",
       "      <td>2.940730e+07</td>\n",
       "      <td>[Hits, CRuns, PutOuts]</td>\n",
       "      <td>20</td>\n",
       "    </tr>\n",
       "    <tr>\n",
       "      <th>20</th>\n",
       "      <td>3.120346e+07</td>\n",
       "      <td>[Hits, CRuns]</td>\n",
       "      <td>21</td>\n",
       "    </tr>\n",
       "    <tr>\n",
       "      <th>21</th>\n",
       "      <td>3.643795e+07</td>\n",
       "      <td>[CRuns]</td>\n",
       "      <td>22</td>\n",
       "    </tr>\n",
       "  </tbody>\n",
       "</table>\n",
       "</div>"
      ],
      "text/plain": [
       "             rss                                         predictors  \\\n",
       "0   2.420070e+07  [AtBat, Hits, HmRun, Runs, RBI, Walks, Years, ...   \n",
       "1   2.420070e+07  [AtBat, Hits, HmRun, Runs, RBI, Walks, Years, ...   \n",
       "2   2.420070e+07  [AtBat, Hits, HmRun, Runs, RBI, Walks, Years, ...   \n",
       "3   2.420070e+07  [AtBat, Hits, HmRun, Runs, RBI, Walks, Years, ...   \n",
       "4   2.420184e+07  [AtBat, Hits, HmRun, Runs, RBI, Walks, Years, ...   \n",
       "5   2.420945e+07  [AtBat, Hits, HmRun, Runs, RBI, Walks, CAtBat,...   \n",
       "6   2.421938e+07  [AtBat, Hits, HmRun, Runs, RBI, Walks, CAtBat,...   \n",
       "7   2.423518e+07  [AtBat, Hits, HmRun, Runs, Walks, CAtBat, CHit...   \n",
       "8   2.424866e+07  [AtBat, Hits, HmRun, Runs, Walks, CAtBat, CRun...   \n",
       "9   2.428915e+07  [AtBat, Hits, Runs, Walks, CAtBat, CRuns, CRBI...   \n",
       "10  2.433323e+07  [AtBat, Hits, Runs, Walks, CAtBat, CRuns, CRBI...   \n",
       "11  2.438735e+07  [AtBat, Hits, Walks, CAtBat, CRuns, CRBI, CWal...   \n",
       "12  2.450040e+07  [AtBat, Hits, Walks, CAtBat, CRuns, CRBI, CWal...   \n",
       "13  2.481405e+07  [AtBat, Hits, Walks, CAtBat, CRuns, CRBI, CWal...   \n",
       "14  2.515923e+07  [AtBat, Hits, Walks, CRuns, CRBI, CWalks, PutO...   \n",
       "15  2.593349e+07  [AtBat, Hits, Walks, CRuns, CWalks, PutOuts, D...   \n",
       "16  2.667409e+07   [AtBat, Hits, Walks, CRuns, PutOuts, Division_W]   \n",
       "17  2.750952e+07               [AtBat, Hits, Walks, CRuns, PutOuts]   \n",
       "18  2.845081e+07                      [AtBat, Hits, CRuns, PutOuts]   \n",
       "19  2.940730e+07                             [Hits, CRuns, PutOuts]   \n",
       "20  3.120346e+07                                      [Hits, CRuns]   \n",
       "21  3.643795e+07                                            [CRuns]   \n",
       "\n",
       "    predictor_count  \n",
       "0                 1  \n",
       "1                 2  \n",
       "2                 3  \n",
       "3                 4  \n",
       "4                 5  \n",
       "5                 6  \n",
       "6                 7  \n",
       "7                 8  \n",
       "8                 9  \n",
       "9                10  \n",
       "10               11  \n",
       "11               12  \n",
       "12               13  \n",
       "13               14  \n",
       "14               15  \n",
       "15               16  \n",
       "16               17  \n",
       "17               18  \n",
       "18               19  \n",
       "19               20  \n",
       "20               21  \n",
       "21               22  "
      ]
     },
     "metadata": {},
     "output_type": "display_data"
    },
    {
     "data": {
      "image/png": "[encoded data removed]",
      "text/plain": [
       "<Figure size 432x288 with 1 Axes>"
      ]
     },
     "metadata": {},
     "output_type": "display_data"
    }
   ],
   "source": [
    "X = hitters_pd.drop('Salary', axis=1)\n",
    "y = hitters_pd['Salary']\n",
    "\n",
    "backward_stepwise_subsets = backward_stepwise(X, y)\n",
    "backward_stepwise_subsets['predictor_count'] = np.arange(1, 23)\n",
    "display(backward_stepwise_subsets)\n",
    "\n",
    "sns.lineplot(x='predictor_count', y='rss', data=backward_stepwise_subsets);"
   ]
  },
  {
   "cell_type": "code",
   "execution_count": 25,
   "metadata": {},
   "outputs": [
    {
     "data": {
      "text/html": [
       "<div>\n",
       "<style scoped>\n",
       "    .dataframe tbody tr th:only-of-type {\n",
       "        vertical-align: middle;\n",
       "    }\n",
       "\n",
       "    .dataframe tbody tr th {\n",
       "        vertical-align: top;\n",
       "    }\n",
       "\n",
       "    .dataframe thead th {\n",
       "        text-align: right;\n",
       "    }\n",
       "</style>\n",
       "<table border=\"1\" class=\"dataframe\">\n",
       "  <thead>\n",
       "    <tr style=\"text-align: right;\">\n",
       "      <th></th>\n",
       "      <th>predictors</th>\n",
       "      <th>MSE_mean</th>\n",
       "      <th>MSE_folds</th>\n",
       "      <th>Model</th>\n",
       "    </tr>\n",
       "  </thead>\n",
       "  <tbody>\n",
       "    <tr>\n",
       "      <th>0</th>\n",
       "      <td>1</td>\n",
       "      <td>116599.013674</td>\n",
       "      <td>[109666.77700982487, 37953.39175638854, 156572...</td>\n",
       "      <td>Salary ~ AtBat + Hits + HmRun + Runs + RBI + W...</td>\n",
       "    </tr>\n",
       "    <tr>\n",
       "      <th>1</th>\n",
       "      <td>2</td>\n",
       "      <td>116599.013674</td>\n",
       "      <td>[109666.7770098258, 37953.39175638837, 156572....</td>\n",
       "      <td>Salary ~ AtBat + Hits + HmRun + Runs + RBI + W...</td>\n",
       "    </tr>\n",
       "    <tr>\n",
       "      <th>2</th>\n",
       "      <td>3</td>\n",
       "      <td>116599.013674</td>\n",
       "      <td>[109666.77700982455, 37953.39175638841, 156572...</td>\n",
       "      <td>Salary ~ AtBat + Hits + HmRun + Runs + RBI + W...</td>\n",
       "    </tr>\n",
       "    <tr>\n",
       "      <th>3</th>\n",
       "      <td>4</td>\n",
       "      <td>116599.013674</td>\n",
       "      <td>[109666.77700982522, 37953.39175638851, 156572...</td>\n",
       "      <td>Salary ~ AtBat + Hits + HmRun + Runs + RBI + W...</td>\n",
       "    </tr>\n",
       "    <tr>\n",
       "      <th>4</th>\n",
       "      <td>5</td>\n",
       "      <td>114963.338465</td>\n",
       "      <td>[108403.40077544513, 36671.65478063551, 156237...</td>\n",
       "      <td>Salary ~ AtBat + Hits + HmRun + Runs + RBI + W...</td>\n",
       "    </tr>\n",
       "    <tr>\n",
       "      <th>5</th>\n",
       "      <td>6</td>\n",
       "      <td>113635.830694</td>\n",
       "      <td>[103548.9789642152, 34980.6193407436, 156343.0...</td>\n",
       "      <td>Salary ~ AtBat + Hits + HmRun + Runs + RBI + W...</td>\n",
       "    </tr>\n",
       "    <tr>\n",
       "      <th>6</th>\n",
       "      <td>7</td>\n",
       "      <td>112921.381689</td>\n",
       "      <td>[103109.24440272473, 35032.07078000676, 155352...</td>\n",
       "      <td>Salary ~ AtBat + Hits + HmRun + Runs + RBI + W...</td>\n",
       "    </tr>\n",
       "    <tr>\n",
       "      <th>7</th>\n",
       "      <td>8</td>\n",
       "      <td>111081.510651</td>\n",
       "      <td>[103134.03455700394, 35026.977780520996, 15560...</td>\n",
       "      <td>Salary ~ AtBat + Hits + HmRun + Runs + Walks +...</td>\n",
       "    </tr>\n",
       "    <tr>\n",
       "      <th>8</th>\n",
       "      <td>9</td>\n",
       "      <td>110333.364753</td>\n",
       "      <td>[98326.25400454745, 35152.30612149243, 155838....</td>\n",
       "      <td>Salary ~ AtBat + Hits + HmRun + Runs + Walks +...</td>\n",
       "    </tr>\n",
       "    <tr>\n",
       "      <th>9</th>\n",
       "      <td>10</td>\n",
       "      <td>109979.410931</td>\n",
       "      <td>[95894.57297758816, 35826.8320322134, 155992.7...</td>\n",
       "      <td>Salary ~ AtBat + Hits + Runs + Walks + CAtBat ...</td>\n",
       "    </tr>\n",
       "    <tr>\n",
       "      <th>10</th>\n",
       "      <td>11</td>\n",
       "      <td>109465.608056</td>\n",
       "      <td>[95474.56130642013, 36674.05253166958, 155314....</td>\n",
       "      <td>Salary ~ AtBat + Hits + Runs + Walks + CAtBat ...</td>\n",
       "    </tr>\n",
       "    <tr>\n",
       "      <th>11</th>\n",
       "      <td>12</td>\n",
       "      <td>108361.210922</td>\n",
       "      <td>[96478.69537945797, 37028.22102864172, 156381....</td>\n",
       "      <td>Salary ~ AtBat + Hits + Walks + CAtBat + CRuns...</td>\n",
       "    </tr>\n",
       "    <tr>\n",
       "      <th>12</th>\n",
       "      <td>13</td>\n",
       "      <td>108080.651150</td>\n",
       "      <td>[95668.93613092588, 38005.3532605013, 157372.4...</td>\n",
       "      <td>Salary ~ AtBat + Hits + Walks + CAtBat + CRuns...</td>\n",
       "    </tr>\n",
       "    <tr>\n",
       "      <th>13</th>\n",
       "      <td>14</td>\n",
       "      <td>106618.881999</td>\n",
       "      <td>[94639.91163274275, 40255.25372375629, 160138....</td>\n",
       "      <td>Salary ~ AtBat + Hits + Walks + CAtBat + CRuns...</td>\n",
       "    </tr>\n",
       "    <tr>\n",
       "      <th>14</th>\n",
       "      <td>15</td>\n",
       "      <td>107458.440564</td>\n",
       "      <td>[102234.83312594146, 44434.3360053928, 167235....</td>\n",
       "      <td>Salary ~ AtBat + Hits + Walks + CRuns + CRBI +...</td>\n",
       "    </tr>\n",
       "    <tr>\n",
       "      <th>15</th>\n",
       "      <td>16</td>\n",
       "      <td>110072.974721</td>\n",
       "      <td>[93818.13946902656, 44682.17006469622, 183278....</td>\n",
       "      <td>Salary ~ AtBat + Hits + Walks + CRuns + CWalks...</td>\n",
       "    </tr>\n",
       "    <tr>\n",
       "      <th>16</th>\n",
       "      <td>17</td>\n",
       "      <td>111600.002770</td>\n",
       "      <td>[60065.57347320864, 51405.12237311822, 197485....</td>\n",
       "      <td>Salary ~ AtBat + Hits + Walks + CRuns + PutOut...</td>\n",
       "    </tr>\n",
       "    <tr>\n",
       "      <th>17</th>\n",
       "      <td>18</td>\n",
       "      <td>114825.616417</td>\n",
       "      <td>[59641.61586843947, 42937.47973254201, 202202....</td>\n",
       "      <td>Salary ~ AtBat + Hits + Walks + CRuns + PutOuts</td>\n",
       "    </tr>\n",
       "    <tr>\n",
       "      <th>18</th>\n",
       "      <td>19</td>\n",
       "      <td>118903.869957</td>\n",
       "      <td>[62757.32659627064, 45045.26338550094, 200078....</td>\n",
       "      <td>Salary ~ AtBat + Hits + CRuns + PutOuts</td>\n",
       "    </tr>\n",
       "    <tr>\n",
       "      <th>19</th>\n",
       "      <td>20</td>\n",
       "      <td>121665.135093</td>\n",
       "      <td>[63353.793665842975, 40682.828845045886, 21475...</td>\n",
       "      <td>Salary ~ Hits + CRuns + PutOuts</td>\n",
       "    </tr>\n",
       "    <tr>\n",
       "      <th>20</th>\n",
       "      <td>21</td>\n",
       "      <td>127363.032055</td>\n",
       "      <td>[54080.259651755165, 40412.1288381487, 241637....</td>\n",
       "      <td>Salary ~ Hits + CRuns</td>\n",
       "    </tr>\n",
       "    <tr>\n",
       "      <th>21</th>\n",
       "      <td>22</td>\n",
       "      <td>144100.590668</td>\n",
       "      <td>[43851.510692018775, 75280.33764810773, 317903...</td>\n",
       "      <td>Salary ~ CRuns</td>\n",
       "    </tr>\n",
       "  </tbody>\n",
       "</table>\n",
       "</div>"
      ],
      "text/plain": [
       "    predictors       MSE_mean  \\\n",
       "0            1  116599.013674   \n",
       "1            2  116599.013674   \n",
       "2            3  116599.013674   \n",
       "3            4  116599.013674   \n",
       "4            5  114963.338465   \n",
       "5            6  113635.830694   \n",
       "6            7  112921.381689   \n",
       "7            8  111081.510651   \n",
       "8            9  110333.364753   \n",
       "9           10  109979.410931   \n",
       "10          11  109465.608056   \n",
       "11          12  108361.210922   \n",
       "12          13  108080.651150   \n",
       "13          14  106618.881999   \n",
       "14          15  107458.440564   \n",
       "15          16  110072.974721   \n",
       "16          17  111600.002770   \n",
       "17          18  114825.616417   \n",
       "18          19  118903.869957   \n",
       "19          20  121665.135093   \n",
       "20          21  127363.032055   \n",
       "21          22  144100.590668   \n",
       "\n",
       "                                            MSE_folds  \\\n",
       "0   [109666.77700982487, 37953.39175638854, 156572...   \n",
       "1   [109666.7770098258, 37953.39175638837, 156572....   \n",
       "2   [109666.77700982455, 37953.39175638841, 156572...   \n",
       "3   [109666.77700982522, 37953.39175638851, 156572...   \n",
       "4   [108403.40077544513, 36671.65478063551, 156237...   \n",
       "5   [103548.9789642152, 34980.6193407436, 156343.0...   \n",
       "6   [103109.24440272473, 35032.07078000676, 155352...   \n",
       "7   [103134.03455700394, 35026.977780520996, 15560...   \n",
       "8   [98326.25400454745, 35152.30612149243, 155838....   \n",
       "9   [95894.57297758816, 35826.8320322134, 155992.7...   \n",
       "10  [95474.56130642013, 36674.05253166958, 155314....   \n",
       "11  [96478.69537945797, 37028.22102864172, 156381....   \n",
       "12  [95668.93613092588, 38005.3532605013, 157372.4...   \n",
       "13  [94639.91163274275, 40255.25372375629, 160138....   \n",
       "14  [102234.83312594146, 44434.3360053928, 167235....   \n",
       "15  [93818.13946902656, 44682.17006469622, 183278....   \n",
       "16  [60065.57347320864, 51405.12237311822, 197485....   \n",
       "17  [59641.61586843947, 42937.47973254201, 202202....   \n",
       "18  [62757.32659627064, 45045.26338550094, 200078....   \n",
       "19  [63353.793665842975, 40682.828845045886, 21475...   \n",
       "20  [54080.259651755165, 40412.1288381487, 241637....   \n",
       "21  [43851.510692018775, 75280.33764810773, 317903...   \n",
       "\n",
       "                                                Model  \n",
       "0   Salary ~ AtBat + Hits + HmRun + Runs + RBI + W...  \n",
       "1   Salary ~ AtBat + Hits + HmRun + Runs + RBI + W...  \n",
       "2   Salary ~ AtBat + Hits + HmRun + Runs + RBI + W...  \n",
       "3   Salary ~ AtBat + Hits + HmRun + Runs + RBI + W...  \n",
       "4   Salary ~ AtBat + Hits + HmRun + Runs + RBI + W...  \n",
       "5   Salary ~ AtBat + Hits + HmRun + Runs + RBI + W...  \n",
       "6   Salary ~ AtBat + Hits + HmRun + Runs + RBI + W...  \n",
       "7   Salary ~ AtBat + Hits + HmRun + Runs + Walks +...  \n",
       "8   Salary ~ AtBat + Hits + HmRun + Runs + Walks +...  \n",
       "9   Salary ~ AtBat + Hits + Runs + Walks + CAtBat ...  \n",
       "10  Salary ~ AtBat + Hits + Runs + Walks + CAtBat ...  \n",
       "11  Salary ~ AtBat + Hits + Walks + CAtBat + CRuns...  \n",
       "12  Salary ~ AtBat + Hits + Walks + CAtBat + CRuns...  \n",
       "13  Salary ~ AtBat + Hits + Walks + CAtBat + CRuns...  \n",
       "14  Salary ~ AtBat + Hits + Walks + CRuns + CRBI +...  \n",
       "15  Salary ~ AtBat + Hits + Walks + CRuns + CWalks...  \n",
       "16  Salary ~ AtBat + Hits + Walks + CRuns + PutOut...  \n",
       "17    Salary ~ AtBat + Hits + Walks + CRuns + PutOuts  \n",
       "18            Salary ~ AtBat + Hits + CRuns + PutOuts  \n",
       "19                    Salary ~ Hits + CRuns + PutOuts  \n",
       "20                              Salary ~ Hits + CRuns  \n",
       "21                                     Salary ~ CRuns  "
      ]
     },
     "metadata": {},
     "output_type": "display_data"
    },
    {
     "data": {
      "image/png": "[encoded data removed]",
      "text/plain": [
       "<Figure size 432x288 with 1 Axes>"
      ]
     },
     "metadata": {},
     "output_type": "display_data"
    }
   ],
   "source": [
    "# Perform cross validation for each subset of predictors\n",
    "results = []\n",
    "for preds in backward_stepwise_subsets['predictors']:\n",
    "    f = 'Salary ~ {}'.format(' + '.join(preds))\n",
    "    results += [cross_val(f, X, y, 10)]\n",
    "\n",
    "results_b_df = pd.DataFrame({'predictors': list(np.arange(1, len(results)+1)),\n",
    "                           'MSE_mean': [np.mean(i[0]) for i in results],\n",
    "                           'MSE_folds': [i[0] for i in results],\n",
    "                           'Model': [i[1] for i in results]})\n",
    "display(results_b_df)\n",
    "sns.lineplot(x='predictors', y='MSE_mean', data=results_b_df);"
   ]
  },
  {
   "cell_type": "code",
   "execution_count": 26,
   "metadata": {},
   "outputs": [
    {
     "data": {
      "text/html": [
       "</br><h4>Best Subset Selection from 14 predictors, with 10-fold Cross Validation</h4>"
      ],
      "text/plain": [
       "<IPython.core.display.HTML object>"
      ]
     },
     "metadata": {},
     "output_type": "display_data"
    },
    {
     "data": {
      "text/html": [
       "<div>\n",
       "<style scoped>\n",
       "    .dataframe tbody tr th:only-of-type {\n",
       "        vertical-align: middle;\n",
       "    }\n",
       "\n",
       "    .dataframe tbody tr th {\n",
       "        vertical-align: top;\n",
       "    }\n",
       "\n",
       "    .dataframe thead th {\n",
       "        text-align: right;\n",
       "    }\n",
       "</style>\n",
       "<table border=\"1\" class=\"dataframe\">\n",
       "  <thead>\n",
       "    <tr style=\"text-align: right;\">\n",
       "      <th></th>\n",
       "      <th>predictors</th>\n",
       "      <th>MSE_mean</th>\n",
       "      <th>MSE_folds</th>\n",
       "      <th>Model</th>\n",
       "    </tr>\n",
       "  </thead>\n",
       "  <tbody>\n",
       "    <tr>\n",
       "      <th>7</th>\n",
       "      <td>8</td>\n",
       "      <td>109522.011671</td>\n",
       "      <td>[86417.0694422955, 30716.914843531533, 165276....</td>\n",
       "      <td>Salary ~ AtBat + Hits + Walks + CAtBat + CRuns...</td>\n",
       "    </tr>\n",
       "  </tbody>\n",
       "</table>\n",
       "</div>"
      ],
      "text/plain": [
       "   predictors       MSE_mean  \\\n",
       "7           8  109522.011671   \n",
       "\n",
       "                                           MSE_folds  \\\n",
       "7  [86417.0694422955, 30716.914843531533, 165276....   \n",
       "\n",
       "                                               Model  \n",
       "7  Salary ~ AtBat + Hits + Walks + CAtBat + CRuns...  "
      ]
     },
     "metadata": {},
     "output_type": "display_data"
    },
    {
     "name": "stdout",
     "output_type": "stream",
     "text": [
      "Salary ~ AtBat + Hits + Walks + CAtBat + CRuns + CRBI + CWalks + PutOuts\n"
     ]
    },
    {
     "data": {
      "text/html": [
       "</br><h4>Backward Stepwise Selection from all 22 predictors, with 10-fold Cross Validation</h4>"
      ],
      "text/plain": [
       "<IPython.core.display.HTML object>"
      ]
     },
     "metadata": {},
     "output_type": "display_data"
    },
    {
     "data": {
      "text/html": [
       "<div>\n",
       "<style scoped>\n",
       "    .dataframe tbody tr th:only-of-type {\n",
       "        vertical-align: middle;\n",
       "    }\n",
       "\n",
       "    .dataframe tbody tr th {\n",
       "        vertical-align: top;\n",
       "    }\n",
       "\n",
       "    .dataframe thead th {\n",
       "        text-align: right;\n",
       "    }\n",
       "</style>\n",
       "<table border=\"1\" class=\"dataframe\">\n",
       "  <thead>\n",
       "    <tr style=\"text-align: right;\">\n",
       "      <th></th>\n",
       "      <th>predictors</th>\n",
       "      <th>MSE_mean</th>\n",
       "      <th>MSE_folds</th>\n",
       "      <th>Model</th>\n",
       "    </tr>\n",
       "  </thead>\n",
       "  <tbody>\n",
       "    <tr>\n",
       "      <th>13</th>\n",
       "      <td>14</td>\n",
       "      <td>106618.881999</td>\n",
       "      <td>[94639.91163274275, 40255.25372375629, 160138....</td>\n",
       "      <td>Salary ~ AtBat + Hits + Walks + CAtBat + CRuns...</td>\n",
       "    </tr>\n",
       "  </tbody>\n",
       "</table>\n",
       "</div>"
      ],
      "text/plain": [
       "    predictors       MSE_mean  \\\n",
       "13          14  106618.881999   \n",
       "\n",
       "                                            MSE_folds  \\\n",
       "13  [94639.91163274275, 40255.25372375629, 160138....   \n",
       "\n",
       "                                                Model  \n",
       "13  Salary ~ AtBat + Hits + Walks + CAtBat + CRuns...  "
      ]
     },
     "metadata": {},
     "output_type": "display_data"
    },
    {
     "name": "stdout",
     "output_type": "stream",
     "text": [
      "Salary ~ AtBat + Hits + Walks + CAtBat + CRuns + CRBI + CWalks + PutOuts + Division_W\n"
     ]
    }
   ],
   "source": [
    "display(HTML('</br><h4>Best Subset Selection from 14 predictors, with 10-fold Cross Validation</h4>'))\n",
    "best_subset_choice = results_a_df[results_a_df['MSE_mean'] == results_a_df['MSE_mean'].min()]\n",
    "display(best_subset_choice)\n",
    "print(best_subset_choice['Model'].iloc[0])\n",
    "\n",
    "display(HTML('</br><h4>Backward Stepwise Selection from all 22 predictors, with 10-fold Cross Validation</h4>'))\n",
    "backward_select_choice = results_b_df[results_b_df['MSE_mean'] == results_b_df['MSE_mean'].min()]\n",
    "display(backward_select_choice)\n",
    "print(backward_select_choice['Model'].iloc[0])"
   ]
  },
  {
   "cell_type": "markdown",
   "metadata": {},
   "source": [
    "Abov we used backward stepwise selection to make it computationally feasible (on my laptop) to select from all 22 features. \n",
    "\n",
    "We see that 10-fold cross validation selects a 14 variable model. The estimated test MSE is 106,618. This represents an improvement on the lowest esitmate MSe achived for best subset selection from 14 features which was 109,522.\n",
    "\n",
    "Note that Backward Stepwise Selection found the same model, but gained an improved MSE by adding one additional predictor, 'Division_W', which wasn't available to best subset selection due to the constraints of the available compute. "
   ]
  },
  {
   "cell_type": "markdown",
   "metadata": {},
   "source": [
    "## Lab 2: Ridge Regression and the Lasso\n",
    "\n",
    "### 6.6.1 Ridge Regression\n",
    "\n",
    "Let's perform ridge regression with 10-fold cross-validation to produce results comparable to those obtained for model selection approaches aboce."
   ]
  },
  {
   "cell_type": "code",
   "execution_count": 27,
   "metadata": {},
   "outputs": [],
   "source": [
    "def ridge_cv(X, y, λ, k):\n",
    "    \"\"\"Perform ridge regresion with \n",
    "    k-fold cross validation to return mean MSE scores for each fold\"\"\"\n",
    "    # Split dataset into k-folds\n",
    "    # Note: np.array_split doesn't raise excpetion is folds are unequal in size\n",
    "    X_folds = np.array_split(X, k)\n",
    "    y_folds = np.array_split(y, k)\n",
    "    \n",
    "    MSEs = []\n",
    "    for f in np.arange(len(X_folds)):\n",
    "        # Create training and test sets\n",
    "        X_test  = X_folds[f]\n",
    "        y_test  = y_folds[f]\n",
    "        X_train = X.drop(X_folds[f].index)\n",
    "        y_train = y.drop(y_folds[f].index)\n",
    "        \n",
    "        # Fit model\n",
    "        model = Ridge(alpha=λ, fit_intercept=False, solver='cholesky').fit(X_train, y_train)\n",
    "        \n",
    "        # Measure MSE\n",
    "        y_hat = model.predict(X_test)\n",
    "        MSEs += [mse(y_hat, y_test)]\n",
    "    return MSEs"
   ]
  },
  {
   "cell_type": "code",
   "execution_count": 30,
   "metadata": {},
   "outputs": [
    {
     "data": {
      "image/png": "[encoded data removed]",
      "text/plain": [
       "<Figure size 432x288 with 1 Axes>"
      ]
     },
     "metadata": {},
     "output_type": "display_data"
    }
   ],
   "source": [
    "X = hitters_pd.drop('Salary', axis=1)\n",
    "y = hitters_pd['Salary']\n",
    "\n",
    "#lambdas = np.arange(0, 0.08, 0.0005)\n",
    "lambdas = np.arange(1, 300, 1)\n",
    "MSEs    = [] \n",
    "for l in lambdas:\n",
    "    MSEs += [np.mean(ridge_cv(X, y, λ=l, k=10))]\n",
    "\n",
    "sns.scatterplot(x='λ', y='MSE', data=pd.DataFrame({'λ': lambdas, 'MSE': MSEs}));"
   ]
  },
  {
   "cell_type": "code",
   "execution_count": 31,
   "metadata": {},
   "outputs": [
    {
     "data": {
      "text/plain": [
       "(114903.19824046272, 53)"
      ]
     },
     "execution_count": 31,
     "metadata": {},
     "output_type": "execute_result"
    }
   ],
   "source": [
    "min(zip(MSEs, lambdas))"
   ]
  },
  {
   "cell_type": "markdown",
   "metadata": {},
   "source": [
    "Here we use 10-fold cross-validation to find the optimal value for lambda. The lowest MSE score achieved is 114,903 when λ=53.\n",
    "\n",
    "**Revision note:** This result is worst than our results for backward stepwise selection (106,618) and best subset (109,522), and not as good as that reported by ISL authors (96,016) on p.254.\n",
    "\n",
    "A very small improvement was observed by setting fit_intercept and normalize to True - in which case the optimal values of lambda became significantly smaller."
   ]
  },
  {
   "cell_type": "code",
   "execution_count": 32,
   "metadata": {},
   "outputs": [
    {
     "data": {
      "text/plain": [
       "(array([-40., -30., -20., -10.,   0.,  10.,  20.,  30.,  40.,  50.,  60.]),\n",
       " <a list of 11 Text xticklabel objects>)"
      ]
     },
     "execution_count": 32,
     "metadata": {},
     "output_type": "execute_result"
    },
    {
     "data": {
      "image/png": "[encoded data removed]",
      "text/plain": [
       "<Figure size 432x288 with 1 Axes>"
      ]
     },
     "metadata": {},
     "output_type": "display_data"
    }
   ],
   "source": [
    "# What coefficients does ridge regression choose for the optimal lambda value?\n",
    "model = Ridge(alpha=53, fit_intercept=False, solver='cholesky').fit(X, y)\n",
    "df = pd.DataFrame({'feature': X.columns, 'coefficient': model.coef_})\n",
    "ax = sns.barplot(x='coefficient', y='feature', data=df);\n",
    "plt.xticks(rotation=90)"
   ]
  },
  {
   "cell_type": "markdown",
   "metadata": {},
   "source": [
    "### 6.6.2 The Lasso"
   ]
  },
  {
   "cell_type": "code",
   "execution_count": 33,
   "metadata": {},
   "outputs": [],
   "source": [
    "def lasso_cv(X, y, λ, k):\n",
    "    # Split dataset into k-folds\n",
    "    # Note: np.array_split doesn't raise excpetion is folds are unequal in size\n",
    "    X_folds = np.array_split(X, k)\n",
    "    y_folds = np.array_split(y, k)\n",
    "    \n",
    "    MSEs = []\n",
    "    for f in np.arange(len(X_folds)):\n",
    "        # Create training and test sets\n",
    "        X_test  = X_folds[f]\n",
    "        y_test  = y_folds[f]\n",
    "        X_train = X.drop(X_folds[f].index)\n",
    "        y_train = y.drop(y_folds[f].index)\n",
    "        \n",
    "        # Fit model\n",
    "        model = linear_model.Lasso(alpha=λ, copy_X=True, fit_intercept=False, max_iter=10000,\n",
    "                                   normalize=False, positive=False, precompute=False, random_state=None,\n",
    "                                   selection='cyclic', tol=0.0001, warm_start=False).fit(X_train, y_train)\n",
    "        \n",
    "        # Measure MSE\n",
    "        y_hat = model.predict(X_test)\n",
    "        MSEs += [mse(y_hat, y_test)]\n",
    "    return MSEs"
   ]
  },
  {
   "cell_type": "code",
   "execution_count": 34,
   "metadata": {},
   "outputs": [
    {
     "data": {
      "image/png": "[encoded data removed]",
      "text/plain": [
       "<Figure size 432x288 with 1 Axes>"
      ]
     },
     "metadata": {},
     "output_type": "display_data"
    }
   ],
   "source": [
    "X = hitters_pd.drop('Salary', axis=1)\n",
    "y = hitters_pd['Salary']\n",
    "\n",
    "lambdas = np.arange(1, 300, 1)\n",
    "MSEs    = [] \n",
    "for l in lambdas:\n",
    "    MSEs += [np.mean(lasso_cv(X, y, λ=l, k=10))]\n",
    "\n",
    "sns.scatterplot(x='λ', y='MSE', data=pd.DataFrame({'λ': lambdas, 'MSE': MSEs}));"
   ]
  },
  {
   "cell_type": "code",
   "execution_count": 35,
   "metadata": {},
   "outputs": [
    {
     "data": {
      "text/plain": [
       "(113299.42601088567, 126)"
      ]
     },
     "execution_count": 35,
     "metadata": {},
     "output_type": "execute_result"
    }
   ],
   "source": [
    "min(zip(MSEs, lambdas))"
   ]
  },
  {
   "cell_type": "markdown",
   "metadata": {},
   "source": [
    "Here we use 10-fold cross-validation to find the optimal lambda value for the lasso. The lowest MSE score achieved is 113,299 when λ=126.\n",
    "\n",
    "**Revision note:** This result is marginally better than the result for ridge regression (114,903) which is suprising because the ISL authors observed the opposite."
   ]
  },
  {
   "cell_type": "code",
   "execution_count": 36,
   "metadata": {},
   "outputs": [
    {
     "data": {
      "text/plain": [
       "(array([-2., -1.,  0.,  1.,  2.,  3.,  4.,  5.,  6.]),\n",
       " <a list of 9 Text xticklabel objects>)"
      ]
     },
     "execution_count": 36,
     "metadata": {},
     "output_type": "execute_result"
    },
    {
     "data": {
      "image/png": "[encoded data removed]",
      "text/plain": [
       "<Figure size 432x288 with 1 Axes>"
      ]
     },
     "metadata": {},
     "output_type": "display_data"
    }
   ],
   "source": [
    "# What coefficients does the lasso choose for the optimal lambda value?\n",
    "model = linear_model.Lasso(alpha=126, copy_X=True, fit_intercept=False, max_iter=10000,\n",
    "                           normalize=False, positive=False, precompute=False, random_state=None,\n",
    "                           selection='cyclic', tol=0.0001, warm_start=False).fit(X, y)\n",
    "df = pd.DataFrame({'feature': X.columns, 'coefficient': model.coef_})\n",
    "ax = sns.barplot(x='coefficient', y='feature', data=df);\n",
    "plt.xticks(rotation=90)"
   ]
  },
  {
   "cell_type": "markdown",
   "metadata": {},
   "source": [
    "Lasso makes quite different feature choices to ridge regression, completeley ignoring the dummy variables."
   ]
  },
  {
   "cell_type": "code",
   "execution_count": 37,
   "metadata": {},
   "outputs": [
    {
     "data": {
      "text/html": [
       "<h4>Model chosen by lasso:</h4>"
      ],
      "text/plain": [
       "<IPython.core.display.HTML object>"
      ]
     },
     "metadata": {},
     "output_type": "display_data"
    },
    {
     "name": "stdout",
     "output_type": "stream",
     "text": [
      "Salary ~ AtBat + Hits + Walks + CAtBat + CHits + CRuns + CRBI + CWalks + PutOuts + Assists\n",
      "MSE: 113299\n"
     ]
    },
    {
     "data": {
      "text/html": [
       "<h4>Model chosen by backward stepwise selection:</h4>"
      ],
      "text/plain": [
       "<IPython.core.display.HTML object>"
      ]
     },
     "metadata": {},
     "output_type": "display_data"
    },
    {
     "name": "stdout",
     "output_type": "stream",
     "text": [
      "Salary ~ AtBat + Hits + Walks + CAtBat + CRuns + CRBI + CWalks + PutOuts + Division_W\n",
      "MSE: 106619\n"
     ]
    }
   ],
   "source": [
    "print('Salary ~ {}'.format(' + '.join(X.columns[model.coef_ != 0])))\n",
    "print('MSE: {:01.0f}'.format(min(MSEs)))\n",
    "\n",
    "print(backward_select_choice['Model'].iloc[0])\n",
    "print('MSE: {:01.0f}'.format(backward_select_choice['MSE_mean'].iloc[0]))"
   ]
  },
  {
   "cell_type": "markdown",
   "metadata": {},
   "source": [
    "The results here suggesat that backward stepwise finds as simpler model tha toutperforms lasso and ridge regression. \n",
    "\n",
    "**Revision note:** This is contrary to ISL authors results so needs checking."
   ]
  },
  {
   "cell_type": "markdown",
   "metadata": {},
   "source": [
    "## Lab 3: PCR and PLS Regression\n",
    "\n",
    "### 6.7.1 Principle Components Regression"
   ]
  },
  {
   "cell_type": "code",
   "execution_count": 58,
   "metadata": {},
   "outputs": [],
   "source": [
    "from sklearn.decomposition import *\n",
    "from sklearn.cross_decomposition import *"
   ]
  },
  {
   "cell_type": "code",
   "execution_count": 33,
   "metadata": {},
   "outputs": [],
   "source": [
    "X = hitters.drop('Salary', axis=1)\n",
    "y = hitters['Salary']"
   ]
  },
  {
   "cell_type": "markdown",
   "metadata": {},
   "source": [
    "#### PCA\n",
    "\n",
    "What percentage of total variance in our dataset is ecplained by succesive accumulation of principal components?\n",
    "\n",
    "Get all principal components of the predictors in X, using principal component analysis (PCA)"
   ]
  },
  {
   "cell_type": "code",
   "execution_count": 34,
   "metadata": {},
   "outputs": [
    {
     "data": {
      "image/png": "[encoded data removed]",
      "text/plain": [
       "<Figure size 576x396 with 1 Axes>"
      ]
     },
     "metadata": {},
     "output_type": "display_data"
    }
   ],
   "source": [
    "pca = PCA()\n",
    "X_reduced = pca.fit_transform(scale(X))\n",
    "\n",
    "variance_explained   = np.cumsum(np.around(pca.explained_variance_ratio_ *100, decimals=1))\n",
    "principal_components = np.arange(1, len(variance_explained)+1)\n",
    "\n",
    "sns.lineplot(x='principal components count', y='% variance explained', \n",
    "             data=pd.DataFrame({'principal components count': principal_components, \n",
    "                                '% variance explained': variance_explained}));"
   ]
  },
  {
   "cell_type": "code",
   "execution_count": 36,
   "metadata": {},
   "outputs": [
    {
     "data": {
      "text/plain": [
       "(263, 22)"
      ]
     },
     "execution_count": 36,
     "metadata": {},
     "output_type": "execute_result"
    }
   ],
   "source": [
    "X_reduced = pca.fit_transform(scale(X))\n",
    "X_reduced.shape"
   ]
  },
  {
   "cell_type": "markdown",
   "metadata": {},
   "source": [
    "#### PCR \n",
    "\n",
    "How does linear regression perform when these principle components are used as predictors?"
   ]
  },
  {
   "cell_type": "code",
   "execution_count": 38,
   "metadata": {},
   "outputs": [],
   "source": [
    "def pcr_cv(seed, cv_folds):\n",
    "    # Load data\n",
    "    X = hitters.drop('Salary', axis=1)\n",
    "    y = hitters['Salary']\n",
    "    \n",
    "    pca = PCA()\n",
    "    X_reduced = pca.fit_transform(scale(X))\n",
    "    \n",
    "    M = X_reduced.shape[1]\n",
    "    MSEs = []\n",
    "    for m in range(M):\n",
    "        model = LinearRegression()\n",
    "        cv    = KFold(n_splits=cv_folds, random_state=seed, shuffle=True)\n",
    "        cv10  = cross_val_score(model, X_reduced[:, 0:m+1], y, cv=cv, scoring='neg_mean_squared_error')\n",
    "        MSEs += [np.mean(np.abs(cv10))]\n",
    "        \n",
    "    ax = sns.lineplot(x='principal components count', y='MSE', \n",
    "                 data=pd.DataFrame({'principal components count': principal_components, \n",
    "                                    'MSE': MSEs}));\n",
    "    ax.axes.set(ylim=(100000, 140000)"
   ]
  },
  {
   "cell_type": "code",
   "execution_count": 48,
   "metadata": {},
   "outputs": [
    {
     "data": {
      "image/png": "[encoded data removed]",
      "text/plain": [
       "<Figure size 576x396 with 1 Axes>"
      ]
     },
     "metadata": {},
     "output_type": "display_data"
    },
    {
     "data": {
      "text/plain": [
       "<function __main__.pcr_cv(seed, cv_folds)>"
      ]
     },
     "execution_count": 48,
     "metadata": {},
     "output_type": "execute_result"
    }
   ],
   "source": [
    "from ipywidgets import *\n",
    "\n",
    "interact(pcr_cv, \n",
    "         seed=widgets.IntSlider(min=1, max=50, step=1, value=10), \n",
    "         cv_folds=widgets.IntSlider(min=2, max=100, step=1, value=10))"
   ]
  },
  {
   "cell_type": "markdown",
   "metadata": {},
   "source": [
    "The ISL authors report a minimum MSE when the number of principle componenents M = 16.  \n",
    "\n",
    "Above I've implemented the same with interactive sliders to control the random seed used to shuffle observations before splitting into cross validation folds, and a seperate control for number of cross validation folds k. \n",
    "\n",
    "Interacting with the seed slider we see that there is some significant variability in the results. With 10 folds, most seed values would lead us to conclude the between 16-18 principal components are optimal, but there are some seed values – such as 8 – that suggest 6-7 components is in fact optimal. This is a significantly different conclusion!\n",
    "\n",
    "The results seem to have higher variance when cv_folds is lower, with variance decreasing as the number of folds increases.\n",
    "\n",
    "**Revision note:** The above point seems counter to what we learned in ch.5, e.g. we expect LOOCV to exhibit highest variance and lowest bias."
   ]
  },
  {
   "cell_type": "code",
   "execution_count": 50,
   "metadata": {},
   "outputs": [],
   "source": [
    "def pcr_holdout(seed):\n",
    "    # With 50% holdout set\n",
    "    np.random.seed(seed)\n",
    "    train = np.random.rand(len(hitters)) < 0.5\n",
    "    \n",
    "    pca = PCA()\n",
    "    X_train = pca.fit_transform(scale(hitters.drop('Salary', axis=1)[train]))\n",
    "    y_train = hitters['Salary'][train]\n",
    "    X_test  = pca.fit_transform(scale(hitters.drop('Salary', axis=1)[~train]))\n",
    "    y_test  = hitters['Salary'][~train]\n",
    "    \n",
    "    M = X_train.shape[1]\n",
    "    \n",
    "    MSEs = []\n",
    "    for m in range(M):\n",
    "        model = LinearRegression().fit(X_train[:, 0:m+1], y_train)\n",
    "        y_hat = model.predict(X_test[:, 0:m+1])\n",
    "        MSEs += [mse(y_hat, y_test)]\n",
    "    \n",
    "    \n",
    "    ax = sns.lineplot(x='principal components count', y='MSE', \n",
    "                      data=pd.DataFrame({'principal components count': principal_components, \n",
    "                                         'MSE': MSEs}))\n",
    "    ax.axes.set(ylim=(50000, 200000)"
   ]
  },
  {
   "cell_type": "code",
   "execution_count": 51,
   "metadata": {},
   "outputs": [
    {
     "data": {
      "image/png": "[encoded data removed]",
      "text/plain": [
       "<Figure size 576x396 with 1 Axes>"
      ]
     },
     "metadata": {},
     "output_type": "display_data"
    },
    {
     "data": {
      "text/plain": [
       "<function __main__.pcr_holdout(seed)>"
      ]
     },
     "execution_count": 51,
     "metadata": {},
     "output_type": "execute_result"
    }
   ],
   "source": [
    "interact(pcr_holdout, seed=widgets.IntSlider(min=1, max=50, step=1, value=10))"
   ]
  },
  {
   "cell_type": "markdown",
   "metadata": {},
   "source": [
    "The ISL authors report an 50% hold-out MSE of 96556 when M=7. This seems low in comparison to the initial result we observe above, with a random seed of 10 we see min MSE of about 140000 with M=1. \n",
    "\n",
    "Interacting with the seed slider we can find results comparable to those reported by the authors – for example when the seed = 3 a minimum MSE of about 85000 is observed for M=7. \n",
    "\n",
    "This outlines the importance of understanding the variance in results due to training/test set sampling, before making any comparisons.\n",
    "\n",
    "For example previously I concluded that backward stepwise selection yielded the lowest MSE, whereas the ISL found ridge regression most effective. It seems that either of these observations could be correct, or both wrong, given the unquantified variance in results due to cross validation sampling.\n",
    "\n",
    "Possible mitigations:\n",
    "\n",
    "1. Ensure that identical observation samples are used in each fold when comparing techniques. This approach is limited because a certain approach might just happen to perform particularly well with the chosen samples.\n",
    "2. Measure the probabilistic distribution of results for each approach and compare. This allows you to quantify the confidence of any conclusions.\n",
    "\n",
    "**Revision notes:** discuss\n",
    "\n",
    "#### PLS"
   ]
  },
  {
   "cell_type": "code",
   "execution_count": 64,
   "metadata": {
    "scrolled": true
   },
   "outputs": [],
   "source": [
    "def pls_cv(seed, cv_folds):\n",
    "    X = hitters.drop('Salary', axis=1)\n",
    "    y = hitters['Salary']\n",
    "    \n",
    "    M = X.shape[1]\n",
    "    MSEs = []\n",
    "    for m in range(M):\n",
    "        cv      = KFold(n_splits=cv_folds, random_state=seed, shuffle=True)\n",
    "        results = cross_val_score(PLSRegression(n_components=m+1, scale=True, max_iter=10), \n",
    "                                  X, y, cv=cv, scoring='neg_mean_squared_error')\n",
    "        MSEs   += [np.mean(np.abs(results))]\n",
    "        \n",
    "    ax = sns.lineplot(x='principal components count', y='MSE', \n",
    "                 data=pd.DataFrame({'principal components count': principal_components, \n",
    "                                    'MSE': MSEs}))\n",
    "    ax.axes.set(ylim=(100000, 140000)"
   ]
  },
  {
   "cell_type": "code",
   "execution_count": 67,
   "metadata": {},
   "outputs": [
    {
     "data": {
      "image/png": "[encoded data removed]",
      "text/plain": [
       "<Figure size 576x396 with 1 Axes>"
      ]
     },
     "metadata": {},
     "output_type": "display_data"
    },
    {
     "data": {
      "text/plain": [
       "<function __main__.pls_cv(seed, cv_folds)>"
      ]
     },
     "execution_count": 67,
     "metadata": {},
     "output_type": "execute_result"
    }
   ],
   "source": [
    "interact(pls_cv, \n",
    "         seed=widgets.IntSlider(min=1, max=50, step=1, value=10), \n",
    "         cv_folds=widgets.IntSlider(min=2, max=100, step=1, value=10))"
   ]
  },
  {
   "cell_type": "markdown",
   "metadata": {},
   "source": [
    "PLS seems to perform similarly to PCR with fewer predictors, although we cannot be conclusive due to variance in our cv."
   ]
  },
  {
   "cell_type": "code",
   "execution_count": null,
   "metadata": {},
   "outputs": [],
   "source": []
  },
  {
   "cell_type": "code",
   "execution_count": null,
   "metadata": {},
   "outputs": [],
   "source": []
  },
  {
   "cell_type": "markdown",
   "metadata": {},
   "source": [
    "# Conceptual"
   ]
  },
  {
   "cell_type": "code",
   "execution_count": 1,
   "metadata": {},
   "outputs": [],
   "source": [
    "import numpy as np"
   ]
  },
  {
   "cell_type": "markdown",
   "metadata": {},
   "source": [
    "## 1. We perform best subset, forward stepwise, and backward stepwise selection on a single data set. For each approach, we obtain p + 1 models, containing 0, 1, 2, . . . , p predictors. Explain your answers:"
   ]
  },
  {
   "cell_type": "markdown",
   "metadata": {},
   "source": [
    "### (a) Which of the three models with k predictors has the smallest training RSS?\n",
    "\n",
    "`Best subset selection` will exhibit the smallest training RSS because all possible combinations of predictors are considered for a given k. It is possible that the most effective model is also found by forward stepwise or backward stepwise, but not possible that they will find a model more effective than best subset, as the former consider a subset of the models considered by best subset selection."
   ]
  },
  {
   "cell_type": "markdown",
   "metadata": {},
   "source": [
    "### (b) Which of the three models with k predictors has the smallest test RSS?\n",
    "\n",
    "`Best subset selection` will certainly yield the smallest test rss, this model might also be discovered by forward stepwise or backward stepwise but this is not certain."
   ]
  },
  {
   "cell_type": "markdown",
   "metadata": {},
   "source": [
    "### (c) True or False:\n",
    "\n",
    "- i. The predictors in the k-variable model identified by forward stepwise are a subset of the predictors in the (k+1)-variable model identified by forward stepwise selection.\n",
    "\n",
    "    - True\n",
    "\n",
    "- ii. The predictors in the k-variable model identified by backward stepwise are a subset of the predictors in the (k + 1)- variable model identified by backward stepwise selection.\n",
    "\n",
    "    - True\n",
    "\n",
    "- iii. The predictors in the k-variable model identified by backward stepwise are a subset of the predictors in the (k + 1)- variable model identified by forward stepwise selection.\n",
    "\n",
    "    - False\n",
    "\n",
    "- iv. The predictors in the k-variable model identified by forward stepwise are a subset of the predictors in the (k+1)-variable model identified by backward stepwise selection.\n",
    "\n",
    "    - False\n",
    "\n",
    "- v. The predictors in the k-variable model identified by best subset are a subset of the predictors in the (k + 1)-variable model identified by best subset selection.\n",
    "\n",
    "    - False"
   ]
  },
  {
   "cell_type": "markdown",
   "metadata": {},
   "source": [
    "## 2. For parts (a) through (c), indicate which of i. through iv. is correct. Justify your answer."
   ]
  },
  {
   "cell_type": "markdown",
   "metadata": {},
   "source": [
    "### (a) The lasso, relative to least squares, is:\n",
    "\n",
    "- i. More flexible and hence will give improved prediction accuracy when its increase in bias is less than its decrease in variance.\n",
    "\n",
    "    - Incorrect. Least squares uses all features, whereas lasso wil either use all features or set coefficients to zero for some features – so lasso is either equivalent to least squares or less flexible.\n",
    "\n",
    "- ii. More flexible and hence will give improved prediction accuracy when its increase in variance is less than its decrease in bias.\n",
    "\n",
    "    - Incorrect\n",
    "\n",
    "- iii. Less flexible and hence will give improved prediction accuracy when its increase in bias is less than its decrease in variance.\n",
    "\n",
    "    - Correct. As λ is increased the variance of the model will decrease quickly for a small increase in bias resulting in improved test MSE. At some point the bias will start to increase dramatically outweighing any benefits from further reduction in variance, at the expense of test MSE.\n",
    "\n",
    "- iv. Less flexible and hence will give improved prediction accuracy when its increase in variance is less than its decrease in bias.\n",
    "\n",
    "    - Incorrect"
   ]
  },
  {
   "cell_type": "markdown",
   "metadata": {},
   "source": [
    "### (b) Repeat (a) for ridge regression relative to least squares.\n",
    "\n",
    "- i. More flexible and hence will give improved prediction accuracy when its increase in bias is less than its decrease in variance.\n",
    "\n",
    "    - Incorrect. Same as for lasso\n",
    "\n",
    "- ii. More flexible and hence will give improved prediction accuracy when its increase in variance is less than its decrease in bias.\n",
    "\n",
    "    - Incorrect. Same as for lasso\n",
    "\n",
    "- iii. Less flexible and hence will give improved prediction accuracy when its increase in bias is less than its decrease in variance.\n",
    "\n",
    "    - Correct. Same as for lasso\n",
    "\n",
    "- iv. Less flexible and hence will give improved prediction accuracy when its increase in variance is less than its decrease in bias.\n",
    "    - Incorrect. Same as for lasso"
   ]
  },
  {
   "cell_type": "markdown",
   "metadata": {},
   "source": [
    "### (c) Repeat (a) for non-linear methods relative to least squares.\n",
    "\n",
    "- i. More flexible and hence will give improved prediction accuracy when its increase in bias is less than its decrease in variance.\n",
    "\n",
    "    - Incorrect\n",
    "\n",
    "- ii. More flexible and hence will give improved prediction accuracy when its increase in variance is less than its decrease in bias.\n",
    "\n",
    "    - Correct. If the data contains non-linear relationships then the reduction in bias will outweigh the increase in variance as the model better fitst the data. At some point the model will become too flexible and will start to overfit the data at which point increased variance will begin to outwiegh any further reduction in bias.\n",
    "\n",
    "- iii. Less flexible and hence will give improved prediction accuracy when its increase in bias is less than its decrease in variance.\n",
    "\n",
    "    - Incorrect\n",
    "\n",
    "- iv. Less flexible and hence will give improved prediction accuracy when its increase in variance is less than its decrease in bias.\n",
    "\n",
    "\n",
    "    - Incorrect\n"
   ]
  },
  {
   "cell_type": "markdown",
   "metadata": {},
   "source": [
    "## 3. Suppose we estimate the regression coefficients in a linear regression model by minimizing for a particular value of s. For parts (a) through (e), indicate which of i. through v. is correct. Justify your answer."
   ]
  },
  {
   "cell_type": "markdown",
   "metadata": {},
   "source": [
    "### (a) As we increase s from 0, the training RSS will:\n",
    "\n",
    "- iv. Steadily decrease.\n",
    "\n",
    "As we increase s we increase the models flexibility, in the training setting this will lead to overfitting and a monotonic decrease in the RSS error."
   ]
  },
  {
   "cell_type": "markdown",
   "metadata": {},
   "source": [
    "### (b) Repeat (a) for test RSS.\n",
    "\n",
    "- ii. Decrease initially, and then eventually start increasing in a U shape.\n",
    "\n",
    "The increased flexibility of our model improves our models performance in the test setting up until the point where our model starts to overfit the data."
   ]
  },
  {
   "cell_type": "markdown",
   "metadata": {},
   "source": [
    "### (c) Repeat (a) for variance.\n",
    "\n",
    "- iii. Steadily increase.\n",
    "\n",
    "Reduced constraint on sum of coefficients means monotonic increase in flexibility – increase variance"
   ]
  },
  {
   "cell_type": "markdown",
   "metadata": {},
   "source": [
    "### (d) Repeat (a) for (squared) bias.\n",
    "\n",
    "- iv. Steadily decrease.\n",
    "\n",
    "Reduced constraint on sum of coefficients means monotonic decrease in bias."
   ]
  },
  {
   "cell_type": "markdown",
   "metadata": {},
   "source": [
    "### (e) Repeat (a) for the irreducible error.\n",
    "\n",
    "- v. Remain constant.\n",
    "\n",
    "The irreducible error represents the inherent noise in our data, because this noise is random it contains no useful information and remains constant regardless of the models flexibility."
   ]
  },
  {
   "cell_type": "markdown",
   "metadata": {},
   "source": [
    "## 4. Suppose we estimate the regression coefficients in a linear regression model by minimizing for a particular value of λ. For parts (a) through (e), indicate which of i. through v. is correct. Justify your answer.\n",
    "\n",
    "### (a) As we increase λ from 0, the training RSS will:\n",
    "\n",
    "- iii. Steadily increase.\n",
    "\n",
    "As lambda increases a heavier penalty is placed on a higher total value of coefficients so the model becomes less flexible and so is less able to fite variability in the training data.\n",
    "\n",
    "### (b) Repeat (a) for test RSS.\n",
    "\n",
    "- ii. Decrease initially, and then eventually start increasing in a U shape.\n",
    "\n",
    "As lambda increases the models bias is increased reducing any overfitting of the training data and so improving the test RSS accuracy. At some point the bias will increase to the point that our model is less able to represent true relationships in the data.\n",
    "\n",
    "\n",
    "\n",
    "### (c) Repeat (a) for variance.\n",
    "\n",
    "- iv. Steadily decrease.\n",
    "\n",
    "As lambas increases a higher penalty is placed on model flexibility and so variance decreases.\n",
    "\n",
    "\n",
    "### (d) Repeat (a) for (squared) bias.\n",
    "\n",
    "- iii. Steadily increase.\n",
    "\n",
    "As lambda increases coefficient estimates are reduced and so bias increases.\n",
    "\n",
    "### (e) Repeat (a) for the irreducible error.\n",
    "\n",
    "- v. Remain constant.\n",
    "\n",
    "Irreducible error is not effected by the model."
   ]
  },
  {
   "cell_type": "markdown",
   "metadata": {},
   "source": [
    "## 5. It is well-known that ridge regression tends to give similar coefficient values to correlated variables, whereas the lasso may give quite different coefficient values to correlated variables. We will now explore this property in a very simple setting.\n",
    "\n",
    "## Suppose that n = 2, p = 2, x11 = x12, x21 = x22. Furthermore, suppose that y1+y2 =0 and x11+x21 =0 and x12+x22 =0, so that the estimate for the intercept in a least squares, ridge regression, or lasso model is zero: βˆ0 = 0.\n",
    "\n",
    "### (a) Write out the ridge regression optimization problem in this setting.\n",
    "\n",
    "![6_5.jpg](./images/6_5.jpg)\n",
    "\n",
    "### (b) Argue that in this setting, the ridge coefficient estimates satisfy βˆ 1 = βˆ 2 .\n",
    "\n",
    "![6_5bi.jpg](./images/6_5bi.jpg)\n",
    "![6_5bii.jpg](./images/6_5bii.jpg)\n",
    "\n",
    "### (c) Write out the lasso optimization problem in this setting.\n",
    "\n",
    "### (d) Argue that in this setting, the lasso coefficients βˆ1 and βˆ2 are not unique—in other words, there are many possible solutions to the optimization problem in (c). Describe these solutions.\n",
    "\n",
    "![6_5cd.jpg](./images/6_5cd.jpg)"
   ]
  },
  {
   "cell_type": "markdown",
   "metadata": {},
   "source": [
    "## 6. We will now explore (6.12) and (6.13) further."
   ]
  },
  {
   "cell_type": "markdown",
   "metadata": {},
   "source": [
    "### (a) Consider (6.12) with p = 1. For some choice of y1 and λ > 0, plot (6.12) as a function of β1. Your plot should confirm that (6.12) is solved by (6.14)."
   ]
  },
  {
   "cell_type": "code",
   "execution_count": 52,
   "metadata": {},
   "outputs": [
    {
     "data": {
      "image/png": "[encoded data removed]",
      "text/plain": [
       "<Figure size 432x288 with 1 Axes>"
      ]
     },
     "metadata": {},
     "output_type": "display_data"
    }
   ],
   "source": [
    "import matplotlib.pyplot as plt\n",
    "import seaborn as sns\n",
    "\n",
    "\n",
    "def rr(y1, β1, λ):\n",
    "    return np.power(y1 - β1, 2) + λ*(β1**2)\n",
    "\n",
    "y1 = 5\n",
    "λ  = 1\n",
    "β = list(range(-10, 15))\n",
    "results = [rr(y1, β1, λ) for β1 in β]\n",
    "βR = y1/(1+λ)\n",
    "\n",
    "ax = sns.scatterplot(x=β, y=results)\n",
    "ax.axvline(x=βR, color='r')\n",
    "plt.xlabel('β1')\n",
    "plt.ylabel('Cost');\n"
   ]
  },
  {
   "cell_type": "markdown",
   "metadata": {},
   "source": [
    "### (b) Consider (6.13) with p = 1. For some choice of y1 and λ > 0, plot (6.13) as a function of β1. Your plot should confirm that (6.13) is solved by (6.15)."
   ]
  },
  {
   "cell_type": "code",
   "execution_count": 62,
   "metadata": {},
   "outputs": [
    {
     "name": "stdout",
     "output_type": "stream",
     "text": [
      "np.absolute(y1) <= λ/2\n"
     ]
    },
    {
     "data": {
      "image/png": "[encoded data removed]",
      "text/plain": [
       "<Figure size 432x288 with 1 Axes>"
      ]
     },
     "metadata": {},
     "output_type": "display_data"
    }
   ],
   "source": [
    "def lasso(y1, β1, λ):\n",
    "    return np.power(y1 - β1, 2) + λ*(np.absolute(β1))\n",
    "\n",
    "y1 = -1\n",
    "λ  = 3\n",
    "β = list(range(-10, 15))\n",
    "results = [lasso(y1, β1, λ) for β1 in β]\n",
    "\n",
    "if y1 > λ/2:\n",
    "    print('y1 > λ/2')\n",
    "    βL = y1 - λ/2\n",
    "if y1 < -λ/2:\n",
    "    print('y1 < -λ/2')\n",
    "    βL = y1 + λ/2\n",
    "if np.absolute(y1) <= λ/2:\n",
    "    print('np.absolute(y1) <= λ/2')\n",
    "    βL = 0\n",
    "\n",
    "ax = sns.scatterplot(x=β, y=results)\n",
    "ax.axvline(x=βL, color='r')\n",
    "plt.xlabel('β1')\n",
    "plt.ylabel('Cost');"
   ]
  },
  {
   "cell_type": "code",
   "execution_count": 75,
   "metadata": {
    "scrolled": true
   },
   "outputs": [
    {
     "data": {
      "image/png": "[encoded data removed]",
      "text/plain": [
       "<Figure size 432x288 with 1 Axes>"
      ]
     },
     "metadata": {},
     "output_type": "display_data"
    }
   ],
   "source": [
    "np.random.seed(1)\n",
    "x1 = np.random.normal(0, 1, 100)\n",
    "y_hat = x1 + np.random.normal(0, 1, 100)*0.2\n",
    "\n",
    "ax = sns.scatterplot(x=x1, y=y_hat)\n",
    "plt.xlabel('x1')\n",
    "plt.ylabel('y_hat');"
   ]
  },
  {
   "cell_type": "code",
   "execution_count": 76,
   "metadata": {},
   "outputs": [
    {
     "data": {
      "image/png": "[encoded data removed]",
      "text/plain": [
       "<Figure size 432x288 with 1 Axes>"
      ]
     },
     "metadata": {},
     "output_type": "display_data"
    }
   ],
   "source": [
    "np.random.seed(1)\n",
    "x1 = np.random.normal(0, 1, 100)\n",
    "y_hat = np.random.normal(0, 1, 100)*0.2\n",
    "\n",
    "sns.scatterplot(x=x1, y=y_hat)\n",
    "plt.xlabel('x1')\n",
    "plt.ylabel('y_hat');"
   ]
  }
 ],
 "metadata": {
  "hide_input": false,
  "kernelspec": {
   "display_name": "Python 3",
   "language": "python",
   "name": "python3"
  },
  "language_info": {
   "codemirror_mode": {
    "name": "ipython",
    "version": 3
   },
   "file_extension": ".py",
   "mimetype": "text/x-python",
   "name": "python",
   "nbconvert_exporter": "python",
   "pygments_lexer": "ipython3",
   "version": "3.8.8"
  },
  "toc": {
   "base_numbering": 1,
   "nav_menu": {},
   "number_sections": false,
   "sideBar": true,
   "skip_h1_title": false,
   "title_cell": "Table of Contents",
   "title_sidebar": "Contents",
   "toc_cell": false,
   "toc_position": {
    "height": "calc(100% - 180px)",
    "left": "10px",
    "top": "150px",
    "width": "256px"
   },
   "toc_section_display": true,
   "toc_window_display": true
  },
  "varInspector": {
   "cols": {
    "lenName": 16,
    "lenType": 16,
    "lenVar": 40
   },
   "kernels_config": {
    "python": {
     "delete_cmd_postfix": "",
     "delete_cmd_prefix": "del ",
     "library": "var_list.py",
     "varRefreshCmd": "print(var_dic_list())"
    },
    "r": {
     "delete_cmd_postfix": ") ",
     "delete_cmd_prefix": "rm(",
     "library": "var_list.r",
     "varRefreshCmd": "cat(var_dic_list()) "
    }
   },
   "types_to_exclude": [
    "module",
    "function",
    "builtin_function_or_method",
    "instance",
    "_Feature"
   ],
   "window_display": false
  }
 },
 "nbformat": 4,
 "nbformat_minor": 4
}
