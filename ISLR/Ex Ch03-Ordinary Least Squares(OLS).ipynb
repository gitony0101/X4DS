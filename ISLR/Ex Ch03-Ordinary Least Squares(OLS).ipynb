{
 "cells": [
  {
   "cell_type": "markdown",
   "id": "181e149e",
   "metadata": {},
   "source": [
    "# Chap 3 EX"
   ]
  },
  {
   "cell_type": "markdown",
   "id": "46dd8f33",
   "metadata": {},
   "source": [
    "## [Ordinary Least Squares](https://www.statsmodels.org/stable/examples/notebooks/generated/ols.html#examples-notebooks-generated-ols--page-root)"
   ]
  },
  {
   "cell_type": "code",
   "execution_count": 1,
   "id": "1bd19954",
   "metadata": {},
   "outputs": [],
   "source": [
    "%matplotlib inline\n",
    "import numpy as np\n",
    "import pandas as pd\n",
    "import matplotlib.pyplot as plt\n",
    "\n",
    "import statsmodels.api as sm\n",
    "from statsmodels.sandbox.regression.predstd import wls_prediction_std\n",
    "\n",
    "np.random.seed(98766789)"
   ]
  },
  {
   "cell_type": "code",
   "execution_count": 2,
   "id": "bdf27d93",
   "metadata": {},
   "outputs": [],
   "source": [
    "#Ols estimation\n",
    "# Artificial data:\n",
    "nsample = 100\n",
    "x = np.linspace(0,10,100)\n",
    "X = np.column_stack((x,x ** 2))\n",
    "beta = np.array([1,0.1,10])\n",
    "e = np.random.normal(size=nsample)"
   ]
  },
  {
   "cell_type": "markdown",
   "id": "f5626e41",
   "metadata": {},
   "source": []
  },
  {
   "cell_type": "code",
   "execution_count": 3,
   "id": "b778b325",
   "metadata": {},
   "outputs": [],
   "source": [
    "#Our model needs an intercept so we add a column of 1s:\n",
    "X = sm.add_constant(X)\n",
    "y = np.dot(X,beta) + e"
   ]
  },
  {
   "cell_type": "code",
   "execution_count": 4,
   "id": "290f75b5",
   "metadata": {},
   "outputs": [
    {
     "name": "stdout",
     "output_type": "stream",
     "text": [
      "                            OLS Regression Results                            \n",
      "==============================================================================\n",
      "Dep. Variable:                      y   R-squared:                       1.000\n",
      "Model:                            OLS   Adj. R-squared:                  1.000\n",
      "Method:                 Least Squares   F-statistic:                 3.347e+06\n",
      "Date:                Thu, 18 Nov 2021   Prob (F-statistic):          2.05e-235\n",
      "Time:                        17:57:31   Log-Likelihood:                -155.73\n",
      "No. Observations:                 100   AIC:                             317.5\n",
      "Df Residuals:                      97   BIC:                             325.3\n",
      "Df Model:                           2                                         \n",
      "Covariance Type:            nonrobust                                         \n",
      "==============================================================================\n",
      "                 coef    std err          t      P>|t|      [0.025      0.975]\n",
      "------------------------------------------------------------------------------\n",
      "const          0.8308      0.343      2.423      0.017       0.150       1.511\n",
      "x1             0.1287      0.158      0.812      0.419      -0.186       0.443\n",
      "x2             9.9997      0.015    652.036      0.000       9.969      10.030\n",
      "==============================================================================\n",
      "Omnibus:                        0.237   Durbin-Watson:                   2.115\n",
      "Prob(Omnibus):                  0.888   Jarque-Bera (JB):                0.409\n",
      "Skew:                           0.071   Prob(JB):                        0.815\n",
      "Kurtosis:                       2.721   Cond. No.                         144.\n",
      "==============================================================================\n",
      "\n",
      "Notes:\n",
      "[1] Standard Errors assume that the covariance matrix of the errors is correctly specified.\n"
     ]
    }
   ],
   "source": [
    "#Fit and summary\n",
    "model = sm.OLS(y,X)\n",
    "results = model.fit()\n",
    "print(results.summary())"
   ]
  },
  {
   "cell_type": "markdown",
   "id": "b3f600e7",
   "metadata": {},
   "source": [
    "Quantities of interest can be extracted directly from the fitted model. Type dir(results) for a full list. Here are some examples:"
   ]
  },
  {
   "cell_type": "code",
   "execution_count": 5,
   "id": "d5042cd9",
   "metadata": {},
   "outputs": [
    {
     "name": "stdout",
     "output_type": "stream",
     "text": [
      "Parameters: [0.83078393 0.1286874  9.99967965], R2 :0.9999855098683551\n"
     ]
    }
   ],
   "source": [
    "print(f'Parameters: {results.params}, R2 :{results.rsquared}')"
   ]
  },
  {
   "cell_type": "markdown",
   "id": "805f8fb8",
   "metadata": {},
   "source": [
    "### OLS non-linear curve but linear in parameters\n",
    "\n",
    "We simulate artificial data with a non-linear relationship between x and y:"
   ]
  },
  {
   "cell_type": "code",
   "execution_count": 6,
   "id": "8096d2d4",
   "metadata": {},
   "outputs": [],
   "source": [
    "nsample = 50\n",
    "sig = 0.5\n",
    "x = np.linspace(0,20,nsample)\n",
    "X = np.column_stack((x,np.sin(x),(x-5) ** 2,np.ones(nsample)))\n",
    "beta = [0.5,0.5,-0.02,5]\n",
    "\n",
    "y_true = np.dot(X, beta)\n",
    "y = y_true + sig * np.random.normal(size=nsample)"
   ]
  },
  {
   "cell_type": "code",
   "execution_count": 7,
   "id": "d964c0cb",
   "metadata": {},
   "outputs": [
    {
     "name": "stdout",
     "output_type": "stream",
     "text": [
      "                            OLS Regression Results                            \n",
      "==============================================================================\n",
      "Dep. Variable:                      y   R-squared:                       0.952\n",
      "Model:                            OLS   Adj. R-squared:                  0.949\n",
      "Method:                 Least Squares   F-statistic:                     307.0\n",
      "Date:                Thu, 18 Nov 2021   Prob (F-statistic):           2.03e-30\n",
      "Time:                        17:57:31   Log-Likelihood:                -27.416\n",
      "No. Observations:                  50   AIC:                             62.83\n",
      "Df Residuals:                      46   BIC:                             70.48\n",
      "Df Model:                           3                                         \n",
      "Covariance Type:            nonrobust                                         \n",
      "==============================================================================\n",
      "                 coef    std err          t      P>|t|      [0.025      0.975]\n",
      "------------------------------------------------------------------------------\n",
      "x1             0.5176      0.023     22.556      0.000       0.471       0.564\n",
      "x2             0.6602      0.090      7.319      0.000       0.479       0.842\n",
      "x3            -0.0216      0.002    -10.707      0.000      -0.026      -0.018\n",
      "const          5.0162      0.149     33.714      0.000       4.717       5.316\n",
      "==============================================================================\n",
      "Omnibus:                        0.798   Durbin-Watson:                   2.063\n",
      "Prob(Omnibus):                  0.671   Jarque-Bera (JB):                0.856\n",
      "Skew:                           0.273   Prob(JB):                        0.652\n",
      "Kurtosis:                       2.664   Cond. No.                         221.\n",
      "==============================================================================\n",
      "\n",
      "Notes:\n",
      "[1] Standard Errors assume that the covariance matrix of the errors is correctly specified.\n"
     ]
    }
   ],
   "source": [
    "# Fit and summary\n",
    "res = sm.OLS(y,X).fit()\n",
    "print(res.summary())"
   ]
  },
  {
   "cell_type": "markdown",
   "id": "343dd76a",
   "metadata": {},
   "source": [
    "Extract other quantities of interest:"
   ]
  },
  {
   "cell_type": "code",
   "execution_count": 8,
   "id": "2c3f6c79",
   "metadata": {},
   "outputs": [
    {
     "name": "stdout",
     "output_type": "stream",
     "text": [
      "Parameters: [ 0.51756497  0.66021463 -0.02157196  5.01618193],Standard errors: [0.02294622 0.09020428 0.00201469 0.14878414], Predicted values: [ 4.47688295  5.03464407  5.54216262  5.96345748  6.27553293  6.47215678\n",
      "  6.5648843   6.58115972  6.55980722  6.54465222  6.57732102  6.69040168\n",
      "  6.9020899   7.21319953  7.60702886  8.05210464  8.50735308  8.92884813\n",
      "  9.2770284   9.52319702  9.65423644  9.67476356  9.60637127  9.48408073\n",
      "  9.35058753  9.24924691  9.21695061  9.2780657   9.44043107  9.69406959\n",
      " 10.01282731 10.35867044 10.68793423 10.95849696 11.13670042 11.20287986\n",
      " 11.15459482 11.00703015 10.79050113 10.54547278 10.31591158 10.14206188\n",
      " 10.05383386 10.06588942 10.17523321 10.36170481 10.59129099 10.82171403\n",
      " 11.00937776 11.11653038]\n"
     ]
    }
   ],
   "source": [
    "print(f'Parameters: {res.params},Standard errors: {res.bse}, Predicted values: {res.predict()}')"
   ]
  },
  {
   "cell_type": "markdown",
   "id": "91da4a97",
   "metadata": {},
   "source": [
    "### Draw a plot to compare the true relationship to OLS predictions. \n",
    "\n",
    "Confidence intervals around the predictions are built using the `wls_prediction_std` command."
   ]
  },
  {
   "cell_type": "code",
   "execution_count": 9,
   "id": "d0ca41e7",
   "metadata": {},
   "outputs": [
    {
     "data": {
      "text/plain": [
       "<matplotlib.legend.Legend at 0x7ff0027bce80>"
      ]
     },
     "execution_count": 9,
     "metadata": {},
     "output_type": "execute_result"
    },
    {
     "data": {
      "image/png": "[encoded data removed]",
      "text/plain": [
       "<Figure size 576x432 with 1 Axes>"
      ]
     },
     "metadata": {
      "needs_background": "light"
     },
     "output_type": "display_data"
    }
   ],
   "source": [
    "prstd, iv_l, iv_u = wls_prediction_std(res) #return std var and confidence intervals\n",
    "\n",
    "__, ax = plt.subplots(figsize=(8,6))\n",
    "\n",
    "ax.plot(x,y,'o',label=\"data\")\n",
    "ax.plot(x,y_true,'b-',label=\"True\")\n",
    "ax.plot(x,res.fittedvalues,'r--.', label=\"OLS\")\n",
    "ax.plot(x, iv_u,\"r--\")\n",
    "ax.plot(x,iv_l,\"r--\")\n",
    "ax.legend(loc=\"best\")"
   ]
  },
  {
   "cell_type": "markdown",
   "id": "1840e63e",
   "metadata": {},
   "source": [
    "### OLS with dummy variables\n",
    "\n",
    "We generate some artificial data. There are 3 groups which will be modelled using dummy variables. Group 0 is the omitted/benchmark category. \n",
    "\n",
    "**To be continued...**"
   ]
  }
 ],
 "metadata": {
  "interpreter": {
   "hash": "30957a78df82087ad0e293b0e2bba94c1e28de38d27414fc41b7300ce0c7e48e"
  },
  "kernelspec": {
   "display_name": "Python 3.9.6 64-bit ('p39': conda)",
   "name": "python3"
  },
  "language_info": {
   "codemirror_mode": {
    "name": "ipython",
    "version": 3
   },
   "file_extension": ".py",
   "mimetype": "text/x-python",
   "name": "python",
   "nbconvert_exporter": "python",
   "pygments_lexer": "ipython3",
   "version": "3.9.7"
  },
  "toc": {
   "base_numbering": 1,
   "nav_menu": {},
   "number_sections": true,
   "sideBar": true,
   "skip_h1_title": false,
   "title_cell": "Table of Contents",
   "title_sidebar": "Contents",
   "toc_cell": false,
   "toc_position": {},
   "toc_section_display": true,
   "toc_window_display": true
  },
  "varInspector": {
   "cols": {
    "lenName": 16,
    "lenType": 16,
    "lenVar": 40
   },
   "kernels_config": {
    "python": {
     "delete_cmd_postfix": "",
     "delete_cmd_prefix": "del ",
     "library": "var_list.py",
     "varRefreshCmd": "print(var_dic_list())"
    },
    "r": {
     "delete_cmd_postfix": ") ",
     "delete_cmd_prefix": "rm(",
     "library": "var_list.r",
     "varRefreshCmd": "cat(var_dic_list()) "
    }
   },
   "types_to_exclude": [
    "module",
    "function",
    "builtin_function_or_method",
    "instance",
    "_Feature"
   ],
   "window_display": false
  }
 },
 "nbformat": 4,
 "nbformat_minor": 5
}
