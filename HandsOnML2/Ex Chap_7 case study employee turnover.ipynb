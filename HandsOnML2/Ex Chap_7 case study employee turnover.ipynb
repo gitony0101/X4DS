{
 "cells": [
  {
   "cell_type": "markdown",
   "id": "cc6a4549-bb18-4cd8-a122-1a433fc5957d",
   "metadata": {},
   "source": [
    "### [Hr_comma_sep](https://www.kaggle.com/liujiaqi/hr-comma-sepcsv/code)\n",
    "\n",
    "Data Science Exercise\n",
    "\n",
    "this is an analysis of employee data in the dataset \"HR_comma_sep.csv\" to find out what contributes to employees leaving the company"
   ]
  },
  {
   "cell_type": "code",
   "execution_count": 1,
   "id": "5966f2c1-3fca-4e6e-aa40-62f59e661b7c",
   "metadata": {},
   "outputs": [],
   "source": [
    "import pandas as pd\n",
    "import numpy as np\n",
    "import matplotlib.pyplot as plt\n",
    "import matplotlib as matplot\n",
    "import seaborn as sns\n"
   ]
  },
  {
   "cell_type": "code",
   "execution_count": 2,
   "id": "39a24c88-e2e9-461c-af07-0ba07cec9918",
   "metadata": {},
   "outputs": [
    {
     "data": {
      "text/plain": [
       "satisfaction_level       False\n",
       "last_evaluation          False\n",
       "number_project           False\n",
       "average_montly_hours     False\n",
       "time_spend_company       False\n",
       "Work_accident            False\n",
       "left                     False\n",
       "promotion_last_5years    False\n",
       "sales                    False\n",
       "salary                   False\n",
       "dtype: bool"
      ]
     },
     "execution_count": 2,
     "metadata": {},
     "output_type": "execute_result"
    }
   ],
   "source": [
    "df = pd.read_csv('../data/HR_comma_sep.csv',index_col=None)\n",
    "df.isnull().any() # Check the N/A values"
   ]
  },
  {
   "cell_type": "code",
   "execution_count": 3,
   "id": "1a76409c-b785-4822-b041-d265ee788dee",
   "metadata": {},
   "outputs": [
    {
     "data": {
      "text/html": [
       "<div>\n",
       "<style scoped>\n",
       "    .dataframe tbody tr th:only-of-type {\n",
       "        vertical-align: middle;\n",
       "    }\n",
       "\n",
       "    .dataframe tbody tr th {\n",
       "        vertical-align: top;\n",
       "    }\n",
       "\n",
       "    .dataframe thead th {\n",
       "        text-align: right;\n",
       "    }\n",
       "</style>\n",
       "<table border=\"1\" class=\"dataframe\">\n",
       "  <thead>\n",
       "    <tr style=\"text-align: right;\">\n",
       "      <th></th>\n",
       "      <th>satisfaction_level</th>\n",
       "      <th>last_evaluation</th>\n",
       "      <th>number_project</th>\n",
       "      <th>average_montly_hours</th>\n",
       "      <th>time_spend_company</th>\n",
       "      <th>Work_accident</th>\n",
       "      <th>left</th>\n",
       "      <th>promotion_last_5years</th>\n",
       "      <th>sales</th>\n",
       "      <th>salary</th>\n",
       "    </tr>\n",
       "  </thead>\n",
       "  <tbody>\n",
       "    <tr>\n",
       "      <th>0</th>\n",
       "      <td>0.38</td>\n",
       "      <td>0.53</td>\n",
       "      <td>2</td>\n",
       "      <td>157</td>\n",
       "      <td>3</td>\n",
       "      <td>0</td>\n",
       "      <td>1</td>\n",
       "      <td>0</td>\n",
       "      <td>sales</td>\n",
       "      <td>low</td>\n",
       "    </tr>\n",
       "    <tr>\n",
       "      <th>1</th>\n",
       "      <td>0.80</td>\n",
       "      <td>0.86</td>\n",
       "      <td>5</td>\n",
       "      <td>262</td>\n",
       "      <td>6</td>\n",
       "      <td>0</td>\n",
       "      <td>1</td>\n",
       "      <td>0</td>\n",
       "      <td>sales</td>\n",
       "      <td>medium</td>\n",
       "    </tr>\n",
       "    <tr>\n",
       "      <th>2</th>\n",
       "      <td>0.11</td>\n",
       "      <td>0.88</td>\n",
       "      <td>7</td>\n",
       "      <td>272</td>\n",
       "      <td>4</td>\n",
       "      <td>0</td>\n",
       "      <td>1</td>\n",
       "      <td>0</td>\n",
       "      <td>sales</td>\n",
       "      <td>medium</td>\n",
       "    </tr>\n",
       "    <tr>\n",
       "      <th>3</th>\n",
       "      <td>0.72</td>\n",
       "      <td>0.87</td>\n",
       "      <td>5</td>\n",
       "      <td>223</td>\n",
       "      <td>5</td>\n",
       "      <td>0</td>\n",
       "      <td>1</td>\n",
       "      <td>0</td>\n",
       "      <td>sales</td>\n",
       "      <td>low</td>\n",
       "    </tr>\n",
       "    <tr>\n",
       "      <th>4</th>\n",
       "      <td>0.37</td>\n",
       "      <td>0.52</td>\n",
       "      <td>2</td>\n",
       "      <td>159</td>\n",
       "      <td>3</td>\n",
       "      <td>0</td>\n",
       "      <td>1</td>\n",
       "      <td>0</td>\n",
       "      <td>sales</td>\n",
       "      <td>low</td>\n",
       "    </tr>\n",
       "  </tbody>\n",
       "</table>\n",
       "</div>"
      ],
      "text/plain": [
       "   satisfaction_level  last_evaluation  number_project  average_montly_hours  \\\n",
       "0                0.38             0.53               2                   157   \n",
       "1                0.80             0.86               5                   262   \n",
       "2                0.11             0.88               7                   272   \n",
       "3                0.72             0.87               5                   223   \n",
       "4                0.37             0.52               2                   159   \n",
       "\n",
       "   time_spend_company  Work_accident  left  promotion_last_5years  sales  \\\n",
       "0                   3              0     1                      0  sales   \n",
       "1                   6              0     1                      0  sales   \n",
       "2                   4              0     1                      0  sales   \n",
       "3                   5              0     1                      0  sales   \n",
       "4                   3              0     1                      0  sales   \n",
       "\n",
       "   salary  \n",
       "0     low  \n",
       "1  medium  \n",
       "2  medium  \n",
       "3     low  \n",
       "4     low  "
      ]
     },
     "execution_count": 3,
     "metadata": {},
     "output_type": "execute_result"
    }
   ],
   "source": [
    "df.head()"
   ]
  },
  {
   "cell_type": "code",
   "execution_count": 4,
   "id": "cf5aadb6-4d45-438b-957b-fd2ba5090235",
   "metadata": {},
   "outputs": [],
   "source": [
    "df.rename(columns=({\n",
    "    'satisfaction_level': 'satisfaction',\n",
    "    'last_evaluation': 'evaluation',\n",
    "    'number_project': 'projectCount',\n",
    "    'average_montly_hours': 'averageMonthlyHours',\n",
    "    'time_spend_company': 'yearsAtCompany',\n",
    "    'Work_accident': 'workAccident',\n",
    "    'promotion_last_5years': 'promotion',\n",
    "    'sales': 'department',\n",
    "    'left': 'turnover'\n",
    "}),\n",
    "          inplace=True)\n",
    "cols = list(df)"
   ]
  },
  {
   "cell_type": "code",
   "execution_count": 5,
   "id": "64dc0378-8aa2-45bc-9e63-3f5e11a5a3df",
   "metadata": {},
   "outputs": [
    {
     "data": {
      "text/html": [
       "<div>\n",
       "<style scoped>\n",
       "    .dataframe tbody tr th:only-of-type {\n",
       "        vertical-align: middle;\n",
       "    }\n",
       "\n",
       "    .dataframe tbody tr th {\n",
       "        vertical-align: top;\n",
       "    }\n",
       "\n",
       "    .dataframe thead th {\n",
       "        text-align: right;\n",
       "    }\n",
       "</style>\n",
       "<table border=\"1\" class=\"dataframe\">\n",
       "  <thead>\n",
       "    <tr style=\"text-align: right;\">\n",
       "      <th></th>\n",
       "      <th>turnover</th>\n",
       "      <th>satisfaction</th>\n",
       "      <th>evaluation</th>\n",
       "      <th>projectCount</th>\n",
       "      <th>averageMonthlyHours</th>\n",
       "      <th>yearsAtCompany</th>\n",
       "      <th>workAccident</th>\n",
       "      <th>promotion</th>\n",
       "      <th>department</th>\n",
       "      <th>salary</th>\n",
       "    </tr>\n",
       "  </thead>\n",
       "  <tbody>\n",
       "    <tr>\n",
       "      <th>0</th>\n",
       "      <td>1</td>\n",
       "      <td>0.38</td>\n",
       "      <td>0.53</td>\n",
       "      <td>2</td>\n",
       "      <td>157</td>\n",
       "      <td>3</td>\n",
       "      <td>0</td>\n",
       "      <td>0</td>\n",
       "      <td>sales</td>\n",
       "      <td>low</td>\n",
       "    </tr>\n",
       "    <tr>\n",
       "      <th>1</th>\n",
       "      <td>1</td>\n",
       "      <td>0.80</td>\n",
       "      <td>0.86</td>\n",
       "      <td>5</td>\n",
       "      <td>262</td>\n",
       "      <td>6</td>\n",
       "      <td>0</td>\n",
       "      <td>0</td>\n",
       "      <td>sales</td>\n",
       "      <td>medium</td>\n",
       "    </tr>\n",
       "    <tr>\n",
       "      <th>2</th>\n",
       "      <td>1</td>\n",
       "      <td>0.11</td>\n",
       "      <td>0.88</td>\n",
       "      <td>7</td>\n",
       "      <td>272</td>\n",
       "      <td>4</td>\n",
       "      <td>0</td>\n",
       "      <td>0</td>\n",
       "      <td>sales</td>\n",
       "      <td>medium</td>\n",
       "    </tr>\n",
       "    <tr>\n",
       "      <th>3</th>\n",
       "      <td>1</td>\n",
       "      <td>0.72</td>\n",
       "      <td>0.87</td>\n",
       "      <td>5</td>\n",
       "      <td>223</td>\n",
       "      <td>5</td>\n",
       "      <td>0</td>\n",
       "      <td>0</td>\n",
       "      <td>sales</td>\n",
       "      <td>low</td>\n",
       "    </tr>\n",
       "    <tr>\n",
       "      <th>4</th>\n",
       "      <td>1</td>\n",
       "      <td>0.37</td>\n",
       "      <td>0.52</td>\n",
       "      <td>2</td>\n",
       "      <td>159</td>\n",
       "      <td>3</td>\n",
       "      <td>0</td>\n",
       "      <td>0</td>\n",
       "      <td>sales</td>\n",
       "      <td>low</td>\n",
       "    </tr>\n",
       "  </tbody>\n",
       "</table>\n",
       "</div>"
      ],
      "text/plain": [
       "   turnover  satisfaction  evaluation  projectCount  averageMonthlyHours  \\\n",
       "0         1          0.38        0.53             2                  157   \n",
       "1         1          0.80        0.86             5                  262   \n",
       "2         1          0.11        0.88             7                  272   \n",
       "3         1          0.72        0.87             5                  223   \n",
       "4         1          0.37        0.52             2                  159   \n",
       "\n",
       "   yearsAtCompany  workAccident  promotion department  salary  \n",
       "0               3             0          0      sales     low  \n",
       "1               6             0          0      sales  medium  \n",
       "2               4             0          0      sales  medium  \n",
       "3               5             0          0      sales     low  \n",
       "4               3             0          0      sales     low  "
      ]
     },
     "execution_count": 5,
     "metadata": {},
     "output_type": "execute_result"
    }
   ],
   "source": [
    "# Move 'turnover' to the first column.\n",
    "cols.insert(0, cols.pop(cols.index('turnover')))\n",
    "df = df.loc[:, cols]\n",
    "df.head()"
   ]
  },
  {
   "cell_type": "code",
   "execution_count": 6,
   "id": "f1fce78a-14ed-4016-8c4d-72a06a3c89b3",
   "metadata": {},
   "outputs": [
    {
     "data": {
      "text/plain": [
       "(14999, 10)"
      ]
     },
     "execution_count": 6,
     "metadata": {},
     "output_type": "execute_result"
    }
   ],
   "source": [
    "# Statitical Analysis\n",
    "df.shape\n"
   ]
  },
  {
   "cell_type": "code",
   "execution_count": 7,
   "id": "f21e705c-1558-49b7-8f01-d4f09dc7cfd3",
   "metadata": {},
   "outputs": [
    {
     "data": {
      "text/plain": [
       "turnover                 int64\n",
       "satisfaction           float64\n",
       "evaluation             float64\n",
       "projectCount             int64\n",
       "averageMonthlyHours      int64\n",
       "yearsAtCompany           int64\n",
       "workAccident             int64\n",
       "promotion                int64\n",
       "department              object\n",
       "salary                  object\n",
       "dtype: object"
      ]
     },
     "execution_count": 7,
     "metadata": {},
     "output_type": "execute_result"
    }
   ],
   "source": [
    "df.dtypes\n"
   ]
  },
  {
   "cell_type": "code",
   "execution_count": 8,
   "id": "2c0c1a88-c114-4623-8229-66f0b612dbfb",
   "metadata": {},
   "outputs": [
    {
     "data": {
      "text/plain": [
       "0    0.761917\n",
       "1    0.238083\n",
       "Name: turnover, dtype: float64"
      ]
     },
     "execution_count": 8,
     "metadata": {},
     "output_type": "execute_result"
    }
   ],
   "source": [
    "# turnover rate\n",
    "turnover_rate = df.turnover.value_counts() / len(df)\n",
    "turnover_rate"
   ]
  },
  {
   "cell_type": "code",
   "execution_count": 9,
   "id": "a724ea80-d304-4848-9997-72ef4624cf5c",
   "metadata": {},
   "outputs": [
    {
     "data": {
      "text/html": [
       "<div>\n",
       "<style scoped>\n",
       "    .dataframe tbody tr th:only-of-type {\n",
       "        vertical-align: middle;\n",
       "    }\n",
       "\n",
       "    .dataframe tbody tr th {\n",
       "        vertical-align: top;\n",
       "    }\n",
       "\n",
       "    .dataframe thead th {\n",
       "        text-align: right;\n",
       "    }\n",
       "</style>\n",
       "<table border=\"1\" class=\"dataframe\">\n",
       "  <thead>\n",
       "    <tr style=\"text-align: right;\">\n",
       "      <th></th>\n",
       "      <th>turnover</th>\n",
       "      <th>satisfaction</th>\n",
       "      <th>evaluation</th>\n",
       "      <th>projectCount</th>\n",
       "      <th>averageMonthlyHours</th>\n",
       "      <th>yearsAtCompany</th>\n",
       "      <th>workAccident</th>\n",
       "      <th>promotion</th>\n",
       "    </tr>\n",
       "  </thead>\n",
       "  <tbody>\n",
       "    <tr>\n",
       "      <th>count</th>\n",
       "      <td>14999.000000</td>\n",
       "      <td>14999.000000</td>\n",
       "      <td>14999.000000</td>\n",
       "      <td>14999.000000</td>\n",
       "      <td>14999.000000</td>\n",
       "      <td>14999.000000</td>\n",
       "      <td>14999.000000</td>\n",
       "      <td>14999.000000</td>\n",
       "    </tr>\n",
       "    <tr>\n",
       "      <th>mean</th>\n",
       "      <td>0.238083</td>\n",
       "      <td>0.612834</td>\n",
       "      <td>0.716102</td>\n",
       "      <td>3.803054</td>\n",
       "      <td>201.050337</td>\n",
       "      <td>3.498233</td>\n",
       "      <td>0.144610</td>\n",
       "      <td>0.021268</td>\n",
       "    </tr>\n",
       "    <tr>\n",
       "      <th>std</th>\n",
       "      <td>0.425924</td>\n",
       "      <td>0.248631</td>\n",
       "      <td>0.171169</td>\n",
       "      <td>1.232592</td>\n",
       "      <td>49.943099</td>\n",
       "      <td>1.460136</td>\n",
       "      <td>0.351719</td>\n",
       "      <td>0.144281</td>\n",
       "    </tr>\n",
       "    <tr>\n",
       "      <th>min</th>\n",
       "      <td>0.000000</td>\n",
       "      <td>0.090000</td>\n",
       "      <td>0.360000</td>\n",
       "      <td>2.000000</td>\n",
       "      <td>96.000000</td>\n",
       "      <td>2.000000</td>\n",
       "      <td>0.000000</td>\n",
       "      <td>0.000000</td>\n",
       "    </tr>\n",
       "    <tr>\n",
       "      <th>25%</th>\n",
       "      <td>0.000000</td>\n",
       "      <td>0.440000</td>\n",
       "      <td>0.560000</td>\n",
       "      <td>3.000000</td>\n",
       "      <td>156.000000</td>\n",
       "      <td>3.000000</td>\n",
       "      <td>0.000000</td>\n",
       "      <td>0.000000</td>\n",
       "    </tr>\n",
       "    <tr>\n",
       "      <th>50%</th>\n",
       "      <td>0.000000</td>\n",
       "      <td>0.640000</td>\n",
       "      <td>0.720000</td>\n",
       "      <td>4.000000</td>\n",
       "      <td>200.000000</td>\n",
       "      <td>3.000000</td>\n",
       "      <td>0.000000</td>\n",
       "      <td>0.000000</td>\n",
       "    </tr>\n",
       "    <tr>\n",
       "      <th>75%</th>\n",
       "      <td>0.000000</td>\n",
       "      <td>0.820000</td>\n",
       "      <td>0.870000</td>\n",
       "      <td>5.000000</td>\n",
       "      <td>245.000000</td>\n",
       "      <td>4.000000</td>\n",
       "      <td>0.000000</td>\n",
       "      <td>0.000000</td>\n",
       "    </tr>\n",
       "    <tr>\n",
       "      <th>max</th>\n",
       "      <td>1.000000</td>\n",
       "      <td>1.000000</td>\n",
       "      <td>1.000000</td>\n",
       "      <td>7.000000</td>\n",
       "      <td>310.000000</td>\n",
       "      <td>10.000000</td>\n",
       "      <td>1.000000</td>\n",
       "      <td>1.000000</td>\n",
       "    </tr>\n",
       "  </tbody>\n",
       "</table>\n",
       "</div>"
      ],
      "text/plain": [
       "           turnover  satisfaction    evaluation  projectCount  \\\n",
       "count  14999.000000  14999.000000  14999.000000  14999.000000   \n",
       "mean       0.238083      0.612834      0.716102      3.803054   \n",
       "std        0.425924      0.248631      0.171169      1.232592   \n",
       "min        0.000000      0.090000      0.360000      2.000000   \n",
       "25%        0.000000      0.440000      0.560000      3.000000   \n",
       "50%        0.000000      0.640000      0.720000      4.000000   \n",
       "75%        0.000000      0.820000      0.870000      5.000000   \n",
       "max        1.000000      1.000000      1.000000      7.000000   \n",
       "\n",
       "       averageMonthlyHours  yearsAtCompany  workAccident     promotion  \n",
       "count         14999.000000    14999.000000  14999.000000  14999.000000  \n",
       "mean            201.050337        3.498233      0.144610      0.021268  \n",
       "std              49.943099        1.460136      0.351719      0.144281  \n",
       "min              96.000000        2.000000      0.000000      0.000000  \n",
       "25%             156.000000        3.000000      0.000000      0.000000  \n",
       "50%             200.000000        3.000000      0.000000      0.000000  \n",
       "75%             245.000000        4.000000      0.000000      0.000000  \n",
       "max             310.000000       10.000000      1.000000      1.000000  "
      ]
     },
     "execution_count": 9,
     "metadata": {},
     "output_type": "execute_result"
    }
   ],
   "source": [
    "df.describe()"
   ]
  },
  {
   "cell_type": "code",
   "execution_count": 10,
   "id": "1bef4581-9f94-4e3d-808a-5a2c44293d0f",
   "metadata": {},
   "outputs": [],
   "source": [
    "# Average statistics by groups\n",
    "turnover_Summary = df.groupby('turnover')"
   ]
  },
  {
   "cell_type": "code",
   "execution_count": 11,
   "id": "869b29b3-46b2-4c0c-b884-b109dca9d6c3",
   "metadata": {},
   "outputs": [
    {
     "data": {
      "text/html": [
       "<div>\n",
       "<style scoped>\n",
       "    .dataframe tbody tr th:only-of-type {\n",
       "        vertical-align: middle;\n",
       "    }\n",
       "\n",
       "    .dataframe tbody tr th {\n",
       "        vertical-align: top;\n",
       "    }\n",
       "\n",
       "    .dataframe thead th {\n",
       "        text-align: right;\n",
       "    }\n",
       "</style>\n",
       "<table border=\"1\" class=\"dataframe\">\n",
       "  <thead>\n",
       "    <tr style=\"text-align: right;\">\n",
       "      <th></th>\n",
       "      <th>satisfaction</th>\n",
       "      <th>evaluation</th>\n",
       "      <th>projectCount</th>\n",
       "      <th>averageMonthlyHours</th>\n",
       "      <th>yearsAtCompany</th>\n",
       "      <th>workAccident</th>\n",
       "      <th>promotion</th>\n",
       "    </tr>\n",
       "    <tr>\n",
       "      <th>turnover</th>\n",
       "      <th></th>\n",
       "      <th></th>\n",
       "      <th></th>\n",
       "      <th></th>\n",
       "      <th></th>\n",
       "      <th></th>\n",
       "      <th></th>\n",
       "    </tr>\n",
       "  </thead>\n",
       "  <tbody>\n",
       "    <tr>\n",
       "      <th>0</th>\n",
       "      <td>0.666810</td>\n",
       "      <td>0.715473</td>\n",
       "      <td>3.786664</td>\n",
       "      <td>199.060203</td>\n",
       "      <td>3.380032</td>\n",
       "      <td>0.175009</td>\n",
       "      <td>0.026251</td>\n",
       "    </tr>\n",
       "    <tr>\n",
       "      <th>1</th>\n",
       "      <td>0.440098</td>\n",
       "      <td>0.718113</td>\n",
       "      <td>3.855503</td>\n",
       "      <td>207.419210</td>\n",
       "      <td>3.876505</td>\n",
       "      <td>0.047326</td>\n",
       "      <td>0.005321</td>\n",
       "    </tr>\n",
       "  </tbody>\n",
       "</table>\n",
       "</div>"
      ],
      "text/plain": [
       "          satisfaction  evaluation  projectCount  averageMonthlyHours  \\\n",
       "turnover                                                                \n",
       "0             0.666810    0.715473      3.786664           199.060203   \n",
       "1             0.440098    0.718113      3.855503           207.419210   \n",
       "\n",
       "          yearsAtCompany  workAccident  promotion  \n",
       "turnover                                           \n",
       "0               3.380032      0.175009   0.026251  \n",
       "1               3.876505      0.047326   0.005321  "
      ]
     },
     "execution_count": 11,
     "metadata": {},
     "output_type": "execute_result"
    }
   ],
   "source": [
    "turnover_Summary.mean()"
   ]
  },
  {
   "cell_type": "code",
   "execution_count": 12,
   "id": "806c7250-d8cf-4311-9ac4-fd87ec14d3a1",
   "metadata": {},
   "outputs": [
    {
     "data": {
      "text/html": [
       "<div>\n",
       "<style scoped>\n",
       "    .dataframe tbody tr th:only-of-type {\n",
       "        vertical-align: middle;\n",
       "    }\n",
       "\n",
       "    .dataframe tbody tr th {\n",
       "        vertical-align: top;\n",
       "    }\n",
       "\n",
       "    .dataframe thead th {\n",
       "        text-align: right;\n",
       "    }\n",
       "</style>\n",
       "<table border=\"1\" class=\"dataframe\">\n",
       "  <thead>\n",
       "    <tr style=\"text-align: right;\">\n",
       "      <th></th>\n",
       "      <th>turnover</th>\n",
       "      <th>satisfaction</th>\n",
       "      <th>evaluation</th>\n",
       "      <th>projectCount</th>\n",
       "      <th>averageMonthlyHours</th>\n",
       "      <th>yearsAtCompany</th>\n",
       "      <th>workAccident</th>\n",
       "      <th>promotion</th>\n",
       "    </tr>\n",
       "  </thead>\n",
       "  <tbody>\n",
       "    <tr>\n",
       "      <th>turnover</th>\n",
       "      <td>1.000000</td>\n",
       "      <td>-0.388375</td>\n",
       "      <td>0.006567</td>\n",
       "      <td>0.023787</td>\n",
       "      <td>0.071287</td>\n",
       "      <td>0.144822</td>\n",
       "      <td>-0.154622</td>\n",
       "      <td>-0.061788</td>\n",
       "    </tr>\n",
       "    <tr>\n",
       "      <th>satisfaction</th>\n",
       "      <td>-0.388375</td>\n",
       "      <td>1.000000</td>\n",
       "      <td>0.105021</td>\n",
       "      <td>-0.142970</td>\n",
       "      <td>-0.020048</td>\n",
       "      <td>-0.100866</td>\n",
       "      <td>0.058697</td>\n",
       "      <td>0.025605</td>\n",
       "    </tr>\n",
       "    <tr>\n",
       "      <th>evaluation</th>\n",
       "      <td>0.006567</td>\n",
       "      <td>0.105021</td>\n",
       "      <td>1.000000</td>\n",
       "      <td>0.349333</td>\n",
       "      <td>0.339742</td>\n",
       "      <td>0.131591</td>\n",
       "      <td>-0.007104</td>\n",
       "      <td>-0.008684</td>\n",
       "    </tr>\n",
       "    <tr>\n",
       "      <th>projectCount</th>\n",
       "      <td>0.023787</td>\n",
       "      <td>-0.142970</td>\n",
       "      <td>0.349333</td>\n",
       "      <td>1.000000</td>\n",
       "      <td>0.417211</td>\n",
       "      <td>0.196786</td>\n",
       "      <td>-0.004741</td>\n",
       "      <td>-0.006064</td>\n",
       "    </tr>\n",
       "    <tr>\n",
       "      <th>averageMonthlyHours</th>\n",
       "      <td>0.071287</td>\n",
       "      <td>-0.020048</td>\n",
       "      <td>0.339742</td>\n",
       "      <td>0.417211</td>\n",
       "      <td>1.000000</td>\n",
       "      <td>0.127755</td>\n",
       "      <td>-0.010143</td>\n",
       "      <td>-0.003544</td>\n",
       "    </tr>\n",
       "    <tr>\n",
       "      <th>yearsAtCompany</th>\n",
       "      <td>0.144822</td>\n",
       "      <td>-0.100866</td>\n",
       "      <td>0.131591</td>\n",
       "      <td>0.196786</td>\n",
       "      <td>0.127755</td>\n",
       "      <td>1.000000</td>\n",
       "      <td>0.002120</td>\n",
       "      <td>0.067433</td>\n",
       "    </tr>\n",
       "    <tr>\n",
       "      <th>workAccident</th>\n",
       "      <td>-0.154622</td>\n",
       "      <td>0.058697</td>\n",
       "      <td>-0.007104</td>\n",
       "      <td>-0.004741</td>\n",
       "      <td>-0.010143</td>\n",
       "      <td>0.002120</td>\n",
       "      <td>1.000000</td>\n",
       "      <td>0.039245</td>\n",
       "    </tr>\n",
       "    <tr>\n",
       "      <th>promotion</th>\n",
       "      <td>-0.061788</td>\n",
       "      <td>0.025605</td>\n",
       "      <td>-0.008684</td>\n",
       "      <td>-0.006064</td>\n",
       "      <td>-0.003544</td>\n",
       "      <td>0.067433</td>\n",
       "      <td>0.039245</td>\n",
       "      <td>1.000000</td>\n",
       "    </tr>\n",
       "  </tbody>\n",
       "</table>\n",
       "</div>"
      ],
      "text/plain": [
       "                     turnover  satisfaction  evaluation  projectCount  \\\n",
       "turnover             1.000000     -0.388375    0.006567      0.023787   \n",
       "satisfaction        -0.388375      1.000000    0.105021     -0.142970   \n",
       "evaluation           0.006567      0.105021    1.000000      0.349333   \n",
       "projectCount         0.023787     -0.142970    0.349333      1.000000   \n",
       "averageMonthlyHours  0.071287     -0.020048    0.339742      0.417211   \n",
       "yearsAtCompany       0.144822     -0.100866    0.131591      0.196786   \n",
       "workAccident        -0.154622      0.058697   -0.007104     -0.004741   \n",
       "promotion           -0.061788      0.025605   -0.008684     -0.006064   \n",
       "\n",
       "                     averageMonthlyHours  yearsAtCompany  workAccident  \\\n",
       "turnover                        0.071287        0.144822     -0.154622   \n",
       "satisfaction                   -0.020048       -0.100866      0.058697   \n",
       "evaluation                      0.339742        0.131591     -0.007104   \n",
       "projectCount                    0.417211        0.196786     -0.004741   \n",
       "averageMonthlyHours             1.000000        0.127755     -0.010143   \n",
       "yearsAtCompany                  0.127755        1.000000      0.002120   \n",
       "workAccident                   -0.010143        0.002120      1.000000   \n",
       "promotion                      -0.003544        0.067433      0.039245   \n",
       "\n",
       "                     promotion  \n",
       "turnover             -0.061788  \n",
       "satisfaction          0.025605  \n",
       "evaluation           -0.008684  \n",
       "projectCount         -0.006064  \n",
       "averageMonthlyHours  -0.003544  \n",
       "yearsAtCompany        0.067433  \n",
       "workAccident          0.039245  \n",
       "promotion             1.000000  "
      ]
     },
     "execution_count": 12,
     "metadata": {},
     "output_type": "execute_result"
    }
   ],
   "source": [
    "# Correlation analysis\n",
    "corr = df.corr()\n",
    "corr"
   ]
  },
  {
   "cell_type": "code",
   "execution_count": 13,
   "id": "ee2c815e-7e73-44a3-95cf-2816797133c2",
   "metadata": {},
   "outputs": [
    {
     "data": {
      "image/png": "[encoded data removed]",
      "text/plain": [
       "<Figure size 432x360 with 2 Axes>"
      ]
     },
     "metadata": {
      "needs_background": "light"
     },
     "output_type": "display_data"
    }
   ],
   "source": [
    "_, ax = plt.subplots(figsize=(6,5))\n",
    "\n",
    "C = sns.heatmap(corr,xticklabels=corr.columns.values,yticklabels=corr.columns.values)\n",
    "plt.xticks(rotation=45)\n",
    "plt.show()"
   ]
  },
  {
   "cell_type": "code",
   "execution_count": 14,
   "id": "877997f9-1902-496d-b328-85156d753aba",
   "metadata": {},
   "outputs": [
    {
     "name": "stdout",
     "output_type": "stream",
     "text": [
      "Satisfaction of working employees:0.6668, \n",
      "Satisfaction of turnover employees: 0.4401\n"
     ]
    }
   ],
   "source": [
    "# Compare with the satisfaction rate between empolyees and turnover employees\n",
    "\n",
    "emp_population = df['satisfaction'][df['turnover'] == 0].mean()\n",
    "emp_turnover_satisfaction = df['satisfaction'][df['turnover'] == 1].mean()\n",
    "print(\n",
    "    f\"Satisfaction of working employees:{round(emp_population,4)}, \\nSatisfaction of turnover employees: {round(emp_turnover_satisfaction,4)}\"\n",
    ")\n"
   ]
  },
  {
   "cell_type": "code",
   "execution_count": 15,
   "id": "27524ebe-2213-4baa-8419-c31d7902dceb",
   "metadata": {},
   "outputs": [],
   "source": [
    "# T-test\n",
    "import scipy.stats as stats"
   ]
  },
  {
   "cell_type": "code",
   "execution_count": 16,
   "id": "2bf2be31-1b34-4586-9bbf-df65901d154a",
   "metadata": {},
   "outputs": [
    {
     "data": {
      "text/plain": [
       "Ttest_1sampResult(statistic=-51.3303486754725, pvalue=0.0)"
      ]
     },
     "execution_count": 16,
     "metadata": {},
     "output_type": "execute_result"
    }
   ],
   "source": [
    "# Satisfaction t-test\n",
    "stats.ttest_1samp(a=df['satisfaction'][df['turnover'] == 1],\n",
    "                  popmean=emp_population)\n"
   ]
  },
  {
   "cell_type": "markdown",
   "id": "7bcf3451-4b26-421d-9ca5-79617036a878",
   "metadata": {},
   "source": [
    "The p-value is very small, indicating that the satisfaction and employment are aparently different."
   ]
  },
  {
   "cell_type": "code",
   "execution_count": 17,
   "id": "d4fa4387-9cec-4c61-b18f-fdd55c4c9ccf",
   "metadata": {},
   "outputs": [
    {
     "name": "stdout",
     "output_type": "stream",
     "text": [
      "The t-distribution left limit: -1.9606 \n",
      "The t-distribution right limit: 1.9606\n"
     ]
    }
   ],
   "source": [
    "# Threshold\n",
    "degree_freedom = len(df[df['turnover'] == 1])\n",
    "# 95% confidence intervals left limit\n",
    "LQ = stats.t.ppf(0.025,degree_freedom)\n",
    "# 95% confidence intervals left limit\n",
    "RQ = stats.t.ppf(0.975,degree_freedom)\n",
    "\n",
    "print(\n",
    "    f\"The t-distribution left limit: {round(LQ,4)} \\nThe t-distribution right limit: {round(RQ,4)}\"\n",
    ")\n"
   ]
  },
  {
   "cell_type": "code",
   "execution_count": 18,
   "id": "7cf9c007-c384-4da8-810b-b863474337d6",
   "metadata": {},
   "outputs": [
    {
     "data": {
      "image/png": "[encoded data removed]",
      "text/plain": [
       "<Figure size 1080x288 with 1 Axes>"
      ]
     },
     "metadata": {
      "needs_background": "light"
     },
     "output_type": "display_data"
    }
   ],
   "source": [
    "# pdf of \"evaluation\"\n",
    "_, ax = plt.subplots(figsize=(15, 4))\n",
    "\n",
    "ax = sns.kdeplot(df.loc[(df['turnover'] == 0), 'averageMonthlyHours'],\n",
    "                 color='b',\n",
    "                 shade=True,\n",
    "                 label='No turnover')\n",
    "ax = sns.kdeplot(df.loc[(df['turnover'] == 1), 'averageMonthlyHours'],\n",
    "                 color='r',\n",
    "                 shade=True,\n",
    "                 label='Turnover')\n",
    "\n",
    "ax.set(title=\"averageMonthlyHours pdf : Turnover v.s. No Turnover\",\n",
    "       xlabel='averageMonthlyHours',\n",
    "       ylabel='Frequency')\n",
    "\n",
    "plt.show()"
   ]
  },
  {
   "cell_type": "code",
   "execution_count": 19,
   "id": "02311b90-a9e5-406b-94ae-8033f79872e9",
   "metadata": {},
   "outputs": [
    {
     "data": {
      "image/png": "[encoded data removed]",
      "text/plain": [
       "<Figure size 1080x288 with 1 Axes>"
      ]
     },
     "metadata": {
      "needs_background": "light"
     },
     "output_type": "display_data"
    }
   ],
   "source": [
    "_, ax = plt.subplots(figsize=(15, 4))\n",
    "\n",
    "ax = sns.kdeplot(df.loc[(df['turnover'] == 0), 'evaluation'],\n",
    "                 color='b',\n",
    "                 shade=True,\n",
    "                 label='No turnover')\n",
    "ax = sns.kdeplot(df.loc[(df['turnover'] == 1), 'evaluation'],\n",
    "                 color='r',\n",
    "                 shade=True,\n",
    "                 label='Turnover')\n",
    "\n",
    "ax.set(title=\"Evaluation of work pdf : Turnover v.s. No Turnover\",\n",
    "       xlabel='evaluation',\n",
    "       ylabel='Frequency')\n",
    "plt.show()"
   ]
  },
  {
   "cell_type": "code",
   "execution_count": 20,
   "id": "242d3cc4-a06f-46ef-8586-6a30ff64728e",
   "metadata": {},
   "outputs": [
    {
     "data": {
      "image/png": "[encoded data removed]",
      "text/plain": [
       "<Figure size 1080x288 with 1 Axes>"
      ]
     },
     "metadata": {
      "needs_background": "light"
     },
     "output_type": "display_data"
    }
   ],
   "source": [
    "# Satisfaction evaluation\n",
    "\n",
    "_,ax = plt.subplots(figsize=(15,4))\n",
    "\n",
    "ax = sns.kdeplot(df.loc[(df['turnover'] == 1),'satisfaction'],color='b',shade=True,label='No turnover')\n",
    "ax = sns.kdeplot(df.loc[(df['turnover'] == 0), 'satisfaction'],\n",
    "                 color='r',\n",
    "                 shade=True,\n",
    "                 label='Turnover')\n",
    "ax.set(title=\"Satisfaction : Turnover v.s. No Turnover\",\n",
    "       xlabel='satisfaction',\n",
    "       ylabel='Frequency')\n",
    "plt.show()"
   ]
  },
  {
   "cell_type": "code",
   "execution_count": null,
   "metadata": {},
   "outputs": [],
   "source": []
  },
  {
   "cell_type": "code",
   "execution_count": 22,
   "id": "2570b683-9aed-447e-8c89-c0e764a85376",
   "metadata": {},
   "outputs": [],
   "source": [
    "from sklearn.preprocessing import LabelEncoder\n",
    "from sklearn.metrics import roc_auc_score, classification_report,precision_score,recall_score,confusion_matrix,precision_recall_curve\n",
    "from sklearn.ensemble import RandomForestClassifier\n",
    "from sklearn import tree\n",
    "from sklearn.tree import DecisionTreeClassifier,export_graphviz\n",
    "from sklearn.model_selection import train_test_split\n",
    "from six import StringIO \n",
    "from IPython.display import Image\n",
    "\n",
    "import pydotplus"
   ]
  },
  {
   "cell_type": "code",
   "execution_count": 39,
   "metadata": {},
   "outputs": [
    {
     "data": {
      "text/html": [
       "<div>\n",
       "<style scoped>\n",
       "    .dataframe tbody tr th:only-of-type {\n",
       "        vertical-align: middle;\n",
       "    }\n",
       "\n",
       "    .dataframe tbody tr th {\n",
       "        vertical-align: top;\n",
       "    }\n",
       "\n",
       "    .dataframe thead th {\n",
       "        text-align: right;\n",
       "    }\n",
       "</style>\n",
       "<table border=\"1\" class=\"dataframe\">\n",
       "  <thead>\n",
       "    <tr style=\"text-align: right;\">\n",
       "      <th></th>\n",
       "      <th>turnover</th>\n",
       "      <th>satisfaction</th>\n",
       "      <th>evaluation</th>\n",
       "      <th>projectCount</th>\n",
       "      <th>averageMonthlyHours</th>\n",
       "      <th>yearsAtCompany</th>\n",
       "      <th>workAccident</th>\n",
       "      <th>promotion</th>\n",
       "      <th>department</th>\n",
       "      <th>salary</th>\n",
       "    </tr>\n",
       "  </thead>\n",
       "  <tbody>\n",
       "    <tr>\n",
       "      <th>0</th>\n",
       "      <td>1</td>\n",
       "      <td>0.38</td>\n",
       "      <td>0.53</td>\n",
       "      <td>2</td>\n",
       "      <td>157</td>\n",
       "      <td>3</td>\n",
       "      <td>0</td>\n",
       "      <td>0</td>\n",
       "      <td>7</td>\n",
       "      <td>7</td>\n",
       "    </tr>\n",
       "    <tr>\n",
       "      <th>1</th>\n",
       "      <td>1</td>\n",
       "      <td>0.80</td>\n",
       "      <td>0.86</td>\n",
       "      <td>5</td>\n",
       "      <td>262</td>\n",
       "      <td>6</td>\n",
       "      <td>0</td>\n",
       "      <td>0</td>\n",
       "      <td>7</td>\n",
       "      <td>7</td>\n",
       "    </tr>\n",
       "    <tr>\n",
       "      <th>2</th>\n",
       "      <td>1</td>\n",
       "      <td>0.11</td>\n",
       "      <td>0.88</td>\n",
       "      <td>7</td>\n",
       "      <td>272</td>\n",
       "      <td>4</td>\n",
       "      <td>0</td>\n",
       "      <td>0</td>\n",
       "      <td>7</td>\n",
       "      <td>7</td>\n",
       "    </tr>\n",
       "    <tr>\n",
       "      <th>3</th>\n",
       "      <td>1</td>\n",
       "      <td>0.72</td>\n",
       "      <td>0.87</td>\n",
       "      <td>5</td>\n",
       "      <td>223</td>\n",
       "      <td>5</td>\n",
       "      <td>0</td>\n",
       "      <td>0</td>\n",
       "      <td>7</td>\n",
       "      <td>7</td>\n",
       "    </tr>\n",
       "    <tr>\n",
       "      <th>4</th>\n",
       "      <td>1</td>\n",
       "      <td>0.37</td>\n",
       "      <td>0.52</td>\n",
       "      <td>2</td>\n",
       "      <td>159</td>\n",
       "      <td>3</td>\n",
       "      <td>0</td>\n",
       "      <td>0</td>\n",
       "      <td>7</td>\n",
       "      <td>7</td>\n",
       "    </tr>\n",
       "  </tbody>\n",
       "</table>\n",
       "</div>"
      ],
      "text/plain": [
       "   turnover  satisfaction  evaluation  projectCount  averageMonthlyHours  \\\n",
       "0         1          0.38        0.53             2                  157   \n",
       "1         1          0.80        0.86             5                  262   \n",
       "2         1          0.11        0.88             7                  272   \n",
       "3         1          0.72        0.87             5                  223   \n",
       "4         1          0.37        0.52             2                  159   \n",
       "\n",
       "   yearsAtCompany  workAccident  promotion  department  salary  \n",
       "0               3             0          0           7       7  \n",
       "1               6             0          0           7       7  \n",
       "2               4             0          0           7       7  \n",
       "3               5             0          0           7       7  \n",
       "4               3             0          0           7       7  "
      ]
     },
     "execution_count": 39,
     "metadata": {},
     "output_type": "execute_result"
    }
   ],
   "source": [
    "# change the string to int\n",
    "\n",
    "df['department'] = df['department'].astype('category').cat.codes\n",
    "df['salary'] = df['department'].astype('category').cat.codes\n",
    "df.head()"
   ]
  },
  {
   "cell_type": "code",
   "execution_count": 35,
   "id": "9f73cbce-f011-47bd-9a24-377a2f541b6b",
   "metadata": {},
   "outputs": [],
   "source": [
    "y = df['turnover']\n",
    "X = df.drop('turnover', axis = 1)"
   ]
  },
  {
   "cell_type": "code",
   "execution_count": 36,
   "id": "458d8fef-799c-4b19-9370-e92f8c3817f5",
   "metadata": {},
   "outputs": [],
   "source": [
    "X_train, X_test, y_train, y_test = train_test_split(X,\n",
    "                                                    y,\n",
    "                                                    test_size=0.2,\n",
    "                                                    stratify=y,\n",
    "                                                    random_state=42)\n"
   ]
  },
  {
   "cell_type": "code",
   "execution_count": 37,
   "id": "b5e78572-bb86-4695-8c65-44114686a22b",
   "metadata": {},
   "outputs": [],
   "source": [
    "dtree = tree.DecisionTreeClassifier(\n",
    "    criterion=\"entropy\", \n",
    "    max_depth=3,  # define the depth of tree, preventing overfitting\n",
    "    min_weight_fraction_leaf=0.1 # define leaf nodes\n",
    ")"
   ]
  },
  {
   "cell_type": "code",
   "execution_count": 42,
   "id": "708ea034-81ee-4b3c-9d53-a8ad852678b5",
   "metadata": {},
   "outputs": [],
   "source": [
    "dtree = dtree.fit(X_train, y_train)"
   ]
  },
  {
   "cell_type": "code",
   "execution_count": 43,
   "metadata": {},
   "outputs": [],
   "source": [
    "y_pred_dt = dtree.predict(X_test)\n",
    "dt_roc_auc = roc_auc_score"
   ]
  },
  {
   "cell_type": "code",
   "execution_count": 41,
   "metadata": {},
   "outputs": [
    {
     "name": "stdout",
     "output_type": "stream",
     "text": [
      "\n",
      "\n",
      " $Decision Trees$\n"
     ]
    }
   ],
   "source": [
    "print('\\n\\n ----Decision Trees----')"
   ]
  },
  {
   "cell_type": "code",
   "execution_count": null,
   "id": "0383278a-c896-4d56-9ff8-6bcda83ce0bc",
   "metadata": {},
   "outputs": [],
   "source": []
  },
  {
   "cell_type": "code",
   "execution_count": null,
   "id": "e03f1d2d-2324-42d1-b1f3-6791c2f2a60f",
   "metadata": {},
   "outputs": [],
   "source": []
  },
  {
   "cell_type": "code",
   "execution_count": null,
   "id": "5ec6850e-d786-462d-a787-39a8a3a7bad9",
   "metadata": {},
   "outputs": [],
   "source": []
  },
  {
   "cell_type": "code",
   "execution_count": null,
   "id": "48bfa490-3fff-4f94-82ba-b900684f052f",
   "metadata": {},
   "outputs": [],
   "source": []
  },
  {
   "cell_type": "code",
   "execution_count": null,
   "id": "f5219039-6dc6-459a-a63b-d4550185c45c",
   "metadata": {},
   "outputs": [],
   "source": []
  },
  {
   "cell_type": "code",
   "execution_count": null,
   "id": "4f5c2652-5568-4e3b-85b9-28c99cdc37bd",
   "metadata": {},
   "outputs": [],
   "source": []
  }
 ],
 "metadata": {
  "interpreter": {
   "hash": "79ced899a43f7df7e0b43ccfea1e449df2c094fe6ab014d9b4f5da5fe72ade41"
  },
  "kernelspec": {
   "display_name": "Python 3.9.7 64-bit ('p39': conda)",
   "name": "python3"
  },
  "language_info": {
   "codemirror_mode": {
    "name": "ipython",
    "version": 3
   },
   "file_extension": ".py",
   "mimetype": "text/x-python",
   "name": "python",
   "nbconvert_exporter": "python",
   "pygments_lexer": "ipython3",
   "version": "3.9.7"
  }
 },
 "nbformat": 4,
 "nbformat_minor": 5
}
