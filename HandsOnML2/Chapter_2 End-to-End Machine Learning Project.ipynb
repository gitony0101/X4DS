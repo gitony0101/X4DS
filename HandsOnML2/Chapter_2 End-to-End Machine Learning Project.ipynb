{
    "cells": [
        {
            "cell_type": "markdown",
            "source": [
                "# Chap02 End-to-End Machine Learning Project\n",
                "\n",
                "Your task is to predict median house values in Californian districts, given a number of features from these districts."
            ],
            "metadata": {}
        },
        {
            "cell_type": "code",
            "execution_count": 3,
            "source": [
                "import numpy as np\n",
                "import pandas as pd\n",
                "import matplotlib as mpl\n",
                "import matplotlib.pyplot as plt\n",
                "# sklearn later for use\n"
            ],
            "outputs": [],
            "metadata": {}
        },
        {
            "cell_type": "code",
            "execution_count": 4,
            "source": [
                "# Load the data\n",
                "housing = pd.read_csv('../data/housing.csv')\n",
                "housing.head()"
            ],
            "outputs": [
                {
                    "output_type": "execute_result",
                    "data": {
                        "text/plain": [
                            "   longitude  latitude  housing_median_age  total_rooms  total_bedrooms  \\\n",
                            "0    -122.23     37.88                41.0        880.0           129.0   \n",
                            "1    -122.22     37.86                21.0       7099.0          1106.0   \n",
                            "2    -122.24     37.85                52.0       1467.0           190.0   \n",
                            "3    -122.25     37.85                52.0       1274.0           235.0   \n",
                            "4    -122.25     37.85                52.0       1627.0           280.0   \n",
                            "\n",
                            "   population  households  median_income  median_house_value ocean_proximity  \n",
                            "0       322.0       126.0         8.3252            452600.0        NEAR BAY  \n",
                            "1      2401.0      1138.0         8.3014            358500.0        NEAR BAY  \n",
                            "2       496.0       177.0         7.2574            352100.0        NEAR BAY  \n",
                            "3       558.0       219.0         5.6431            341300.0        NEAR BAY  \n",
                            "4       565.0       259.0         3.8462            342200.0        NEAR BAY  "
                        ],
                        "text/html": [
                            "<div>\n",
                            "<style scoped>\n",
                            "    .dataframe tbody tr th:only-of-type {\n",
                            "        vertical-align: middle;\n",
                            "    }\n",
                            "\n",
                            "    .dataframe tbody tr th {\n",
                            "        vertical-align: top;\n",
                            "    }\n",
                            "\n",
                            "    .dataframe thead th {\n",
                            "        text-align: right;\n",
                            "    }\n",
                            "</style>\n",
                            "<table border=\"1\" class=\"dataframe\">\n",
                            "  <thead>\n",
                            "    <tr style=\"text-align: right;\">\n",
                            "      <th></th>\n",
                            "      <th>longitude</th>\n",
                            "      <th>latitude</th>\n",
                            "      <th>housing_median_age</th>\n",
                            "      <th>total_rooms</th>\n",
                            "      <th>total_bedrooms</th>\n",
                            "      <th>population</th>\n",
                            "      <th>households</th>\n",
                            "      <th>median_income</th>\n",
                            "      <th>median_house_value</th>\n",
                            "      <th>ocean_proximity</th>\n",
                            "    </tr>\n",
                            "  </thead>\n",
                            "  <tbody>\n",
                            "    <tr>\n",
                            "      <th>0</th>\n",
                            "      <td>-122.23</td>\n",
                            "      <td>37.88</td>\n",
                            "      <td>41.0</td>\n",
                            "      <td>880.0</td>\n",
                            "      <td>129.0</td>\n",
                            "      <td>322.0</td>\n",
                            "      <td>126.0</td>\n",
                            "      <td>8.3252</td>\n",
                            "      <td>452600.0</td>\n",
                            "      <td>NEAR BAY</td>\n",
                            "    </tr>\n",
                            "    <tr>\n",
                            "      <th>1</th>\n",
                            "      <td>-122.22</td>\n",
                            "      <td>37.86</td>\n",
                            "      <td>21.0</td>\n",
                            "      <td>7099.0</td>\n",
                            "      <td>1106.0</td>\n",
                            "      <td>2401.0</td>\n",
                            "      <td>1138.0</td>\n",
                            "      <td>8.3014</td>\n",
                            "      <td>358500.0</td>\n",
                            "      <td>NEAR BAY</td>\n",
                            "    </tr>\n",
                            "    <tr>\n",
                            "      <th>2</th>\n",
                            "      <td>-122.24</td>\n",
                            "      <td>37.85</td>\n",
                            "      <td>52.0</td>\n",
                            "      <td>1467.0</td>\n",
                            "      <td>190.0</td>\n",
                            "      <td>496.0</td>\n",
                            "      <td>177.0</td>\n",
                            "      <td>7.2574</td>\n",
                            "      <td>352100.0</td>\n",
                            "      <td>NEAR BAY</td>\n",
                            "    </tr>\n",
                            "    <tr>\n",
                            "      <th>3</th>\n",
                            "      <td>-122.25</td>\n",
                            "      <td>37.85</td>\n",
                            "      <td>52.0</td>\n",
                            "      <td>1274.0</td>\n",
                            "      <td>235.0</td>\n",
                            "      <td>558.0</td>\n",
                            "      <td>219.0</td>\n",
                            "      <td>5.6431</td>\n",
                            "      <td>341300.0</td>\n",
                            "      <td>NEAR BAY</td>\n",
                            "    </tr>\n",
                            "    <tr>\n",
                            "      <th>4</th>\n",
                            "      <td>-122.25</td>\n",
                            "      <td>37.85</td>\n",
                            "      <td>52.0</td>\n",
                            "      <td>1627.0</td>\n",
                            "      <td>280.0</td>\n",
                            "      <td>565.0</td>\n",
                            "      <td>259.0</td>\n",
                            "      <td>3.8462</td>\n",
                            "      <td>342200.0</td>\n",
                            "      <td>NEAR BAY</td>\n",
                            "    </tr>\n",
                            "  </tbody>\n",
                            "</table>\n",
                            "</div>"
                        ]
                    },
                    "metadata": {},
                    "execution_count": 4
                }
            ],
            "metadata": {}
        },
        {
            "cell_type": "code",
            "execution_count": null,
            "source": [],
            "outputs": [],
            "metadata": {}
        },
        {
            "cell_type": "code",
            "execution_count": null,
            "source": [],
            "outputs": [],
            "metadata": {}
        }
    ],
    "metadata": {
        "orig_nbformat": 4,
        "language_info": {
            "name": "python",
            "version": "3.9.6",
            "mimetype": "text/x-python",
            "codemirror_mode": {
                "name": "ipython",
                "version": 3
            },
            "pygments_lexer": "ipython3",
            "nbconvert_exporter": "python",
            "file_extension": ".py"
        },
        "kernelspec": {
            "name": "python3",
            "display_name": "Python 3.9.6 64-bit ('p39': conda)"
        },
        "interpreter": {
            "hash": "ff2e645ef952f1284ebef59edbc19ad3cff03e6406671d2dab1ca7ad9588368d"
        }
    },
    "nbformat": 4,
    "nbformat_minor": 2
}