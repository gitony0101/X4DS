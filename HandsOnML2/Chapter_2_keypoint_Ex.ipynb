{
    "cells": [
        {
            "cell_type": "markdown",
            "source": [
                "# Chapter 2 keypoint EX"
            ],
            "metadata": {}
        },
        {
            "cell_type": "markdown",
            "source": [
                "## Pipeline"
            ],
            "metadata": {}
        },
        {
            "cell_type": "code",
            "execution_count": 16,
            "source": [
                "import pandas as pd\n",
                "import numpy as np\n",
                "\n",
                "from sklearn.model_selection import train_test_split"
            ],
            "outputs": [],
            "metadata": {}
        },
        {
            "cell_type": "code",
            "execution_count": 17,
            "source": [
                "titanic = pd.read_csv('../data/titanic.csv')\n",
                "titanic.head()"
            ],
            "outputs": [
                {
                    "output_type": "execute_result",
                    "data": {
                        "text/plain": [
                            "   survived  pclass     sex   age  sibsp  parch     fare embarked  class  \\\n",
                            "0         0       3    male  22.0      1      0   7.2500        S  Third   \n",
                            "1         1       1  female  38.0      1      0  71.2833        C  First   \n",
                            "2         1       3  female  26.0      0      0   7.9250        S  Third   \n",
                            "3         1       1  female  35.0      1      0  53.1000        S  First   \n",
                            "4         0       3    male  35.0      0      0   8.0500        S  Third   \n",
                            "\n",
                            "     who  adult_male deck  embark_town alive  alone  \n",
                            "0    man        True  NaN  Southampton    no  False  \n",
                            "1  woman       False    C    Cherbourg   yes  False  \n",
                            "2  woman       False  NaN  Southampton   yes   True  \n",
                            "3  woman       False    C  Southampton   yes  False  \n",
                            "4    man        True  NaN  Southampton    no   True  "
                        ],
                        "text/html": [
                            "<div>\n",
                            "<style scoped>\n",
                            "    .dataframe tbody tr th:only-of-type {\n",
                            "        vertical-align: middle;\n",
                            "    }\n",
                            "\n",
                            "    .dataframe tbody tr th {\n",
                            "        vertical-align: top;\n",
                            "    }\n",
                            "\n",
                            "    .dataframe thead th {\n",
                            "        text-align: right;\n",
                            "    }\n",
                            "</style>\n",
                            "<table border=\"1\" class=\"dataframe\">\n",
                            "  <thead>\n",
                            "    <tr style=\"text-align: right;\">\n",
                            "      <th></th>\n",
                            "      <th>survived</th>\n",
                            "      <th>pclass</th>\n",
                            "      <th>sex</th>\n",
                            "      <th>age</th>\n",
                            "      <th>sibsp</th>\n",
                            "      <th>parch</th>\n",
                            "      <th>fare</th>\n",
                            "      <th>embarked</th>\n",
                            "      <th>class</th>\n",
                            "      <th>who</th>\n",
                            "      <th>adult_male</th>\n",
                            "      <th>deck</th>\n",
                            "      <th>embark_town</th>\n",
                            "      <th>alive</th>\n",
                            "      <th>alone</th>\n",
                            "    </tr>\n",
                            "  </thead>\n",
                            "  <tbody>\n",
                            "    <tr>\n",
                            "      <th>0</th>\n",
                            "      <td>0</td>\n",
                            "      <td>3</td>\n",
                            "      <td>male</td>\n",
                            "      <td>22.0</td>\n",
                            "      <td>1</td>\n",
                            "      <td>0</td>\n",
                            "      <td>7.2500</td>\n",
                            "      <td>S</td>\n",
                            "      <td>Third</td>\n",
                            "      <td>man</td>\n",
                            "      <td>True</td>\n",
                            "      <td>NaN</td>\n",
                            "      <td>Southampton</td>\n",
                            "      <td>no</td>\n",
                            "      <td>False</td>\n",
                            "    </tr>\n",
                            "    <tr>\n",
                            "      <th>1</th>\n",
                            "      <td>1</td>\n",
                            "      <td>1</td>\n",
                            "      <td>female</td>\n",
                            "      <td>38.0</td>\n",
                            "      <td>1</td>\n",
                            "      <td>0</td>\n",
                            "      <td>71.2833</td>\n",
                            "      <td>C</td>\n",
                            "      <td>First</td>\n",
                            "      <td>woman</td>\n",
                            "      <td>False</td>\n",
                            "      <td>C</td>\n",
                            "      <td>Cherbourg</td>\n",
                            "      <td>yes</td>\n",
                            "      <td>False</td>\n",
                            "    </tr>\n",
                            "    <tr>\n",
                            "      <th>2</th>\n",
                            "      <td>1</td>\n",
                            "      <td>3</td>\n",
                            "      <td>female</td>\n",
                            "      <td>26.0</td>\n",
                            "      <td>0</td>\n",
                            "      <td>0</td>\n",
                            "      <td>7.9250</td>\n",
                            "      <td>S</td>\n",
                            "      <td>Third</td>\n",
                            "      <td>woman</td>\n",
                            "      <td>False</td>\n",
                            "      <td>NaN</td>\n",
                            "      <td>Southampton</td>\n",
                            "      <td>yes</td>\n",
                            "      <td>True</td>\n",
                            "    </tr>\n",
                            "    <tr>\n",
                            "      <th>3</th>\n",
                            "      <td>1</td>\n",
                            "      <td>1</td>\n",
                            "      <td>female</td>\n",
                            "      <td>35.0</td>\n",
                            "      <td>1</td>\n",
                            "      <td>0</td>\n",
                            "      <td>53.1000</td>\n",
                            "      <td>S</td>\n",
                            "      <td>First</td>\n",
                            "      <td>woman</td>\n",
                            "      <td>False</td>\n",
                            "      <td>C</td>\n",
                            "      <td>Southampton</td>\n",
                            "      <td>yes</td>\n",
                            "      <td>False</td>\n",
                            "    </tr>\n",
                            "    <tr>\n",
                            "      <th>4</th>\n",
                            "      <td>0</td>\n",
                            "      <td>3</td>\n",
                            "      <td>male</td>\n",
                            "      <td>35.0</td>\n",
                            "      <td>0</td>\n",
                            "      <td>0</td>\n",
                            "      <td>8.0500</td>\n",
                            "      <td>S</td>\n",
                            "      <td>Third</td>\n",
                            "      <td>man</td>\n",
                            "      <td>True</td>\n",
                            "      <td>NaN</td>\n",
                            "      <td>Southampton</td>\n",
                            "      <td>no</td>\n",
                            "      <td>True</td>\n",
                            "    </tr>\n",
                            "  </tbody>\n",
                            "</table>\n",
                            "</div>"
                        ]
                    },
                    "metadata": {},
                    "execution_count": 17
                }
            ],
            "metadata": {}
        },
        {
            "cell_type": "code",
            "execution_count": 18,
            "source": [
                "titanic.info"
            ],
            "outputs": [
                {
                    "output_type": "execute_result",
                    "data": {
                        "text/plain": [
                            "<bound method DataFrame.info of      survived  pclass     sex   age  sibsp  parch     fare embarked   class  \\\n",
                            "0           0       3    male  22.0      1      0   7.2500        S   Third   \n",
                            "1           1       1  female  38.0      1      0  71.2833        C   First   \n",
                            "2           1       3  female  26.0      0      0   7.9250        S   Third   \n",
                            "3           1       1  female  35.0      1      0  53.1000        S   First   \n",
                            "4           0       3    male  35.0      0      0   8.0500        S   Third   \n",
                            "..        ...     ...     ...   ...    ...    ...      ...      ...     ...   \n",
                            "886         0       2    male  27.0      0      0  13.0000        S  Second   \n",
                            "887         1       1  female  19.0      0      0  30.0000        S   First   \n",
                            "888         0       3  female   NaN      1      2  23.4500        S   Third   \n",
                            "889         1       1    male  26.0      0      0  30.0000        C   First   \n",
                            "890         0       3    male  32.0      0      0   7.7500        Q   Third   \n",
                            "\n",
                            "       who  adult_male deck  embark_town alive  alone  \n",
                            "0      man        True  NaN  Southampton    no  False  \n",
                            "1    woman       False    C    Cherbourg   yes  False  \n",
                            "2    woman       False  NaN  Southampton   yes   True  \n",
                            "3    woman       False    C  Southampton   yes  False  \n",
                            "4      man        True  NaN  Southampton    no   True  \n",
                            "..     ...         ...  ...          ...   ...    ...  \n",
                            "886    man        True  NaN  Southampton    no   True  \n",
                            "887  woman       False    B  Southampton   yes   True  \n",
                            "888  woman       False  NaN  Southampton    no  False  \n",
                            "889    man        True    C    Cherbourg   yes   True  \n",
                            "890    man        True  NaN   Queenstown    no   True  \n",
                            "\n",
                            "[891 rows x 15 columns]>"
                        ]
                    },
                    "metadata": {},
                    "execution_count": 18
                }
            ],
            "metadata": {}
        },
        {
            "cell_type": "code",
            "execution_count": 19,
            "source": [
                "X = titanic[['pclass', 'age', 'sex']]\n",
                "y = titanic['survived']"
            ],
            "outputs": [],
            "metadata": {}
        },
        {
            "cell_type": "code",
            "execution_count": 23,
            "source": [
                "X['age'].fillna(X['age'].mean(), inplace= True)\n",
                "# X.info"
            ],
            "outputs": [],
            "metadata": {}
        },
        {
            "cell_type": "code",
            "execution_count": 24,
            "source": [
                "X_train, X_test, y_train, y_test = train_test_split(X,y,test_size=0.25, random_state=42)\n",
                "X"
            ],
            "outputs": [],
            "metadata": {}
        },
        {
            "cell_type": "code",
            "execution_count": null,
            "source": [],
            "outputs": [],
            "metadata": {}
        },
        {
            "cell_type": "code",
            "execution_count": 21,
            "source": [
                "\n",
                "\n",
                "X_train,X_test,y_train,y_test = train_test_split(X,y,test_size=0.25,random_state=33)\n",
                "X_train = X_train.to_dict(orient='record')\n",
                "X_test = X_test.to_dict(orient='record')\n",
                "#将非数值型数据转换为数值型数据\n",
                "from sklearn.feature_extraction import DictVectorizer\n",
                "from sklearn.tree import DecisionTreeClassifier\n",
                "from sklearn.pipeline import Pipeline\n",
                "clf = Pipeline([('vecd',DictVectorizer(sparse=False)),('dtc',DecisionTreeClassifier())])\n",
                "vec = DictVectorizer(sparse=False)\n",
                "\n",
                "clf.fit(X_train,y_train)\n",
                "y_predict = clf.predict(X_test)\n",
                "from sklearn.metrics import classification_report\n",
                "print (clf.score(X_test,y_test))\n",
                "print(classification_report(y_predict,y_test,target_names=['died','survivied']))\n"
            ],
            "outputs": [
                {
                    "output_type": "stream",
                    "name": "stderr",
                    "text": [
                        "/var/folders/1q/m8l_wvxd5dl8kccgv4xrsxtr0000gn/T/ipykernel_83958/318166747.py:2: FutureWarning: Using short name for 'orient' is deprecated. Only the options: ('dict', list, 'series', 'split', 'records', 'index') will be used in a future version. Use one of the above to silence this warning.\n",
                        "  X_train = X_train.to_dict(orient='record')\n",
                        "/var/folders/1q/m8l_wvxd5dl8kccgv4xrsxtr0000gn/T/ipykernel_83958/318166747.py:3: FutureWarning: Using short name for 'orient' is deprecated. Only the options: ('dict', list, 'series', 'split', 'records', 'index') will be used in a future version. Use one of the above to silence this warning.\n",
                        "  X_test = X_test.to_dict(orient='record')\n"
                    ]
                },
                {
                    "output_type": "stream",
                    "name": "stdout",
                    "text": [
                        "0.8340807174887892\n",
                        "              precision    recall  f1-score   support\n",
                        "\n",
                        "        died       0.90      0.84      0.87       143\n",
                        "   survivied       0.74      0.82      0.78        80\n",
                        "\n",
                        "    accuracy                           0.83       223\n",
                        "   macro avg       0.82      0.83      0.82       223\n",
                        "weighted avg       0.84      0.83      0.84       223\n",
                        "\n"
                    ]
                }
            ],
            "metadata": {}
        },
        {
            "cell_type": "code",
            "execution_count": null,
            "source": [],
            "outputs": [],
            "metadata": {}
        },
        {
            "cell_type": "code",
            "execution_count": null,
            "source": [],
            "outputs": [],
            "metadata": {}
        }
    ],
    "metadata": {
        "orig_nbformat": 4,
        "language_info": {
            "name": "python",
            "version": "3.9.6",
            "mimetype": "text/x-python",
            "codemirror_mode": {
                "name": "ipython",
                "version": 3
            },
            "pygments_lexer": "ipython3",
            "nbconvert_exporter": "python",
            "file_extension": ".py"
        },
        "kernelspec": {
            "name": "python3",
            "display_name": "Python 3.9.6 64-bit ('p39': conda)"
        },
        "interpreter": {
            "hash": "30957a78df82087ad0e293b0e2bba94c1e28de38d27414fc41b7300ce0c7e48e"
        }
    },
    "nbformat": 4,
    "nbformat_minor": 2
}