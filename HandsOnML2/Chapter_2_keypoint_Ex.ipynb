{
    "cells": [
        {
            "cell_type": "markdown",
            "source": [
                "# Chapter 2 keypoint EX"
            ],
            "metadata": {}
        },
        {
            "cell_type": "markdown",
            "source": [
                "## [Pipeline](https://towardsdatascience.com/step-by-step-tutorial-of-sci-kit-learn-pipeline-62402d5629b6)"
            ],
            "metadata": {}
        },
        {
            "cell_type": "markdown",
            "source": [
                "Most of the data science projects (as keen as I am to say all of them) require a certain level of data cleaning and preprocessing to make the most of the machine learning models. \n",
                "\n",
                "Some common preprocessing or transformations are:\n",
                "\n",
                "- Imputing missing values\n",
                "\n",
                "- Removing outliers\n",
                "\n",
                "- Normalising or standardising numerical features\n",
                "\n",
                "- Encoding categorical features\n",
                "\n",
                "A  typical and simplified data science workflow would like\n",
                "\n",
                "1. Get the training data\n",
                "\n",
                "2. **Clean/preprocess/transform the data**\n",
                "\n",
                "3. Train a machine learning model\n",
                "\n",
                "4. Evaluate and optimise the model\n",
                "\n",
                "5. **Clean/preprocess/transform new data**\n",
                "\n",
                "6. Fit the model on new data to make predictions.\n",
                "\n",
                "The data preprocessing has to be done at least twice in the workflow. As tedious and time-consuming as this step is, how nice it would be if only we could automate this process and apply it to all of the future new datasets.\n",
                "\n",
                "With the **scikit learn pipeline**, we can easily systemise the process and therefore make it extremely reproducible."
            ],
            "metadata": {}
        },
        {
            "cell_type": "markdown",
            "source": [
                "### Pipeline 1 :Daily bike share"
            ],
            "metadata": {}
        },
        {
            "cell_type": "code",
            "execution_count": 25,
            "source": [
                "import pandas as pd\n",
                "import numpy as np"
            ],
            "outputs": [],
            "metadata": {}
        },
        {
            "cell_type": "code",
            "execution_count": 30,
            "source": [
                "data = pd.read_csv('../data/daily-bike-share.csv')\n",
                "data.dtypes"
            ],
            "outputs": [
                {
                    "output_type": "execute_result",
                    "data": {
                        "text/plain": [
                            "instant         int64\n",
                            "dteday         object\n",
                            "season          int64\n",
                            "yr              int64\n",
                            "mnth            int64\n",
                            "holiday         int64\n",
                            "weekday         int64\n",
                            "workingday      int64\n",
                            "weathersit      int64\n",
                            "temp          float64\n",
                            "atemp         float64\n",
                            "hum           float64\n",
                            "windspeed     float64\n",
                            "rentals         int64\n",
                            "dtype: object"
                        ]
                    },
                    "metadata": {},
                    "execution_count": 30
                }
            ],
            "metadata": {}
        },
        {
            "cell_type": "code",
            "execution_count": 32,
            "source": [
                "data.isnull().sum() # clear"
            ],
            "outputs": [
                {
                    "output_type": "execute_result",
                    "data": {
                        "text/plain": [
                            "instant       0\n",
                            "dteday        0\n",
                            "season        0\n",
                            "yr            0\n",
                            "mnth          0\n",
                            "holiday       0\n",
                            "weekday       0\n",
                            "workingday    0\n",
                            "weathersit    0\n",
                            "temp          0\n",
                            "atemp         0\n",
                            "hum           0\n",
                            "windspeed     0\n",
                            "rentals       0\n",
                            "dtype: int64"
                        ]
                    },
                    "metadata": {},
                    "execution_count": 32
                }
            ],
            "metadata": {}
        },
        {
            "cell_type": "code",
            "execution_count": 37,
            "source": [
                "# label\n",
                "data = data[['season'\n",
                "             , 'mnth'\n",
                "             , 'holiday'\n",
                "             , 'weekday'\n",
                "             , 'workingday'\n",
                "             , 'weathersit'\n",
                "             , 'temp'\n",
                "             , 'atemp'\n",
                "             , 'hum'\n",
                "             , 'windspeed'\n",
                "             , 'rentals']]"
            ],
            "outputs": [],
            "metadata": {}
        },
        {
            "cell_type": "code",
            "execution_count": 40,
            "source": [
                "# split the data\n",
                "from sklearn.model_selection import train_test_split\n",
                "X = data.drop('rentals', axis=1)\n",
                "y = data['rentals']\n",
                "\n",
                "X_train,X_test,y_train,y_test = train_test_split(X,y,test_size=0.2,random_state=123)"
            ],
            "outputs": [],
            "metadata": {}
        },
        {
            "cell_type": "markdown",
            "source": [
                "#### Create the pipeline\n",
                "\n",
                "The main parameter of a pipeline we’ll be working on is ‘steps’.\n",
                "\n",
                " From the [documentation](https://scikit-learn.org/stable/modules/generated/sklearn.pipeline.Pipeline.html#examples-using-sklearn-pipeline-pipeline),it is a *‘list of (name, transform) tuples (implementing fit/transform) that are chained, in the order in which they are chained, with the last object an estimator.'*\n",
                "\n",
                "It’s easier to just have a glance at what the pipeline should look like:\n",
                "\n",
                "        Pipeline(steps=[('name_of_preprocessor', preprocessor),\n",
                "                        ('name_of_ml_model', ml_model())])"
            ],
            "metadata": {}
        },
        {
            "cell_type": "code",
            "execution_count": 45,
            "source": [
                "from sklearn.preprocessing import StandardScaler, OrdinalEncoder\n",
                "from sklearn.impute import SimpleImputer\n",
                "from sklearn.compose import ColumnTransformer\n",
                "from sklearn.pipeline import Pipeline"
            ],
            "outputs": [],
            "metadata": {}
        },
        {
            "cell_type": "code",
            "execution_count": 46,
            "source": [
                "numeric_transformer = Pipeline(steps=[\n",
                "    ('imputer', SimpleImputer(strategy='mean')),\n",
                "    ('scaler', StandardScaler())\n",
                "])\n",
                "\n",
                "categorical_transformer = Pipeline(steps=[\n",
                "    ('imputer', SimpleImputer(strategy='constant')), \n",
                "    ('encoder',OrdinalEncoder())\n",
                "])"
            ],
            "outputs": [],
            "metadata": {}
        },
        {
            "cell_type": "markdown",
            "source": [
                "####  Apply ColumnTransformer\n",
                "\n",
                "Specify which columns are numeric and which are categorical, so we can apply the transformers accordingly.\n",
                "\n",
                " We apply the transformers to features by using `ColumnTransformer`. \n",
                " \n",
                " Applying the transformers to features is our preprocessor. \n",
                " \n",
                " Similar to pipeline, we pass **a list of tuples**, which is composed of *(‘name’, ‘transformer’, ‘features’)*, to the parameter **‘transformers’.**\n",
                "\n"
            ],
            "metadata": {}
        },
        {
            "cell_type": "code",
            "execution_count": null,
            "source": [
                "numeric_features =['temp', 'atemp', 'hum', 'windspeed']\n",
                "\n",
                "categorical_features = ['season', 'mnth', 'holiday', 'weekday', 'workingday', 'weathersit']\n",
                "\n",
                "preprocessor = ColumnTransformer(transformers=[\n",
                "    ('numeric',numeric_transformer, numeric_features),  ## Specify, or \"map\" the num pipeline with the num features\n",
                "    ('categorical',categorical_transformer, categorical_features)  ## Specify, or \"map\" the cat pipeline with the cat features\n",
                "])"
            ],
            "outputs": [],
            "metadata": {}
        },
        {
            "cell_type": "code",
            "execution_count": null,
            "source": [],
            "outputs": [],
            "metadata": {}
        },
        {
            "cell_type": "code",
            "execution_count": null,
            "source": [],
            "outputs": [],
            "metadata": {}
        },
        {
            "cell_type": "code",
            "execution_count": null,
            "source": [],
            "outputs": [],
            "metadata": {}
        },
        {
            "cell_type": "code",
            "execution_count": 16,
            "source": [
                "import pandas as pd\n",
                "import numpy as np\n",
                "\n",
                "from sklearn.model_selection import train_test_split"
            ],
            "outputs": [],
            "metadata": {}
        },
        {
            "cell_type": "code",
            "execution_count": 17,
            "source": [
                "titanic = pd.read_csv('../data/titanic.csv')\n",
                "titanic.head()"
            ],
            "outputs": [
                {
                    "output_type": "execute_result",
                    "data": {
                        "text/plain": [
                            "   survived  pclass     sex   age  sibsp  parch     fare embarked  class  \\\n",
                            "0         0       3    male  22.0      1      0   7.2500        S  Third   \n",
                            "1         1       1  female  38.0      1      0  71.2833        C  First   \n",
                            "2         1       3  female  26.0      0      0   7.9250        S  Third   \n",
                            "3         1       1  female  35.0      1      0  53.1000        S  First   \n",
                            "4         0       3    male  35.0      0      0   8.0500        S  Third   \n",
                            "\n",
                            "     who  adult_male deck  embark_town alive  alone  \n",
                            "0    man        True  NaN  Southampton    no  False  \n",
                            "1  woman       False    C    Cherbourg   yes  False  \n",
                            "2  woman       False  NaN  Southampton   yes   True  \n",
                            "3  woman       False    C  Southampton   yes  False  \n",
                            "4    man        True  NaN  Southampton    no   True  "
                        ],
                        "text/html": [
                            "<div>\n",
                            "<style scoped>\n",
                            "    .dataframe tbody tr th:only-of-type {\n",
                            "        vertical-align: middle;\n",
                            "    }\n",
                            "\n",
                            "    .dataframe tbody tr th {\n",
                            "        vertical-align: top;\n",
                            "    }\n",
                            "\n",
                            "    .dataframe thead th {\n",
                            "        text-align: right;\n",
                            "    }\n",
                            "</style>\n",
                            "<table border=\"1\" class=\"dataframe\">\n",
                            "  <thead>\n",
                            "    <tr style=\"text-align: right;\">\n",
                            "      <th></th>\n",
                            "      <th>survived</th>\n",
                            "      <th>pclass</th>\n",
                            "      <th>sex</th>\n",
                            "      <th>age</th>\n",
                            "      <th>sibsp</th>\n",
                            "      <th>parch</th>\n",
                            "      <th>fare</th>\n",
                            "      <th>embarked</th>\n",
                            "      <th>class</th>\n",
                            "      <th>who</th>\n",
                            "      <th>adult_male</th>\n",
                            "      <th>deck</th>\n",
                            "      <th>embark_town</th>\n",
                            "      <th>alive</th>\n",
                            "      <th>alone</th>\n",
                            "    </tr>\n",
                            "  </thead>\n",
                            "  <tbody>\n",
                            "    <tr>\n",
                            "      <th>0</th>\n",
                            "      <td>0</td>\n",
                            "      <td>3</td>\n",
                            "      <td>male</td>\n",
                            "      <td>22.0</td>\n",
                            "      <td>1</td>\n",
                            "      <td>0</td>\n",
                            "      <td>7.2500</td>\n",
                            "      <td>S</td>\n",
                            "      <td>Third</td>\n",
                            "      <td>man</td>\n",
                            "      <td>True</td>\n",
                            "      <td>NaN</td>\n",
                            "      <td>Southampton</td>\n",
                            "      <td>no</td>\n",
                            "      <td>False</td>\n",
                            "    </tr>\n",
                            "    <tr>\n",
                            "      <th>1</th>\n",
                            "      <td>1</td>\n",
                            "      <td>1</td>\n",
                            "      <td>female</td>\n",
                            "      <td>38.0</td>\n",
                            "      <td>1</td>\n",
                            "      <td>0</td>\n",
                            "      <td>71.2833</td>\n",
                            "      <td>C</td>\n",
                            "      <td>First</td>\n",
                            "      <td>woman</td>\n",
                            "      <td>False</td>\n",
                            "      <td>C</td>\n",
                            "      <td>Cherbourg</td>\n",
                            "      <td>yes</td>\n",
                            "      <td>False</td>\n",
                            "    </tr>\n",
                            "    <tr>\n",
                            "      <th>2</th>\n",
                            "      <td>1</td>\n",
                            "      <td>3</td>\n",
                            "      <td>female</td>\n",
                            "      <td>26.0</td>\n",
                            "      <td>0</td>\n",
                            "      <td>0</td>\n",
                            "      <td>7.9250</td>\n",
                            "      <td>S</td>\n",
                            "      <td>Third</td>\n",
                            "      <td>woman</td>\n",
                            "      <td>False</td>\n",
                            "      <td>NaN</td>\n",
                            "      <td>Southampton</td>\n",
                            "      <td>yes</td>\n",
                            "      <td>True</td>\n",
                            "    </tr>\n",
                            "    <tr>\n",
                            "      <th>3</th>\n",
                            "      <td>1</td>\n",
                            "      <td>1</td>\n",
                            "      <td>female</td>\n",
                            "      <td>35.0</td>\n",
                            "      <td>1</td>\n",
                            "      <td>0</td>\n",
                            "      <td>53.1000</td>\n",
                            "      <td>S</td>\n",
                            "      <td>First</td>\n",
                            "      <td>woman</td>\n",
                            "      <td>False</td>\n",
                            "      <td>C</td>\n",
                            "      <td>Southampton</td>\n",
                            "      <td>yes</td>\n",
                            "      <td>False</td>\n",
                            "    </tr>\n",
                            "    <tr>\n",
                            "      <th>4</th>\n",
                            "      <td>0</td>\n",
                            "      <td>3</td>\n",
                            "      <td>male</td>\n",
                            "      <td>35.0</td>\n",
                            "      <td>0</td>\n",
                            "      <td>0</td>\n",
                            "      <td>8.0500</td>\n",
                            "      <td>S</td>\n",
                            "      <td>Third</td>\n",
                            "      <td>man</td>\n",
                            "      <td>True</td>\n",
                            "      <td>NaN</td>\n",
                            "      <td>Southampton</td>\n",
                            "      <td>no</td>\n",
                            "      <td>True</td>\n",
                            "    </tr>\n",
                            "  </tbody>\n",
                            "</table>\n",
                            "</div>"
                        ]
                    },
                    "metadata": {},
                    "execution_count": 17
                }
            ],
            "metadata": {}
        },
        {
            "cell_type": "code",
            "execution_count": 18,
            "source": [
                "titanic.info"
            ],
            "outputs": [
                {
                    "output_type": "execute_result",
                    "data": {
                        "text/plain": [
                            "<bound method DataFrame.info of      survived  pclass     sex   age  sibsp  parch     fare embarked   class  \\\n",
                            "0           0       3    male  22.0      1      0   7.2500        S   Third   \n",
                            "1           1       1  female  38.0      1      0  71.2833        C   First   \n",
                            "2           1       3  female  26.0      0      0   7.9250        S   Third   \n",
                            "3           1       1  female  35.0      1      0  53.1000        S   First   \n",
                            "4           0       3    male  35.0      0      0   8.0500        S   Third   \n",
                            "..        ...     ...     ...   ...    ...    ...      ...      ...     ...   \n",
                            "886         0       2    male  27.0      0      0  13.0000        S  Second   \n",
                            "887         1       1  female  19.0      0      0  30.0000        S   First   \n",
                            "888         0       3  female   NaN      1      2  23.4500        S   Third   \n",
                            "889         1       1    male  26.0      0      0  30.0000        C   First   \n",
                            "890         0       3    male  32.0      0      0   7.7500        Q   Third   \n",
                            "\n",
                            "       who  adult_male deck  embark_town alive  alone  \n",
                            "0      man        True  NaN  Southampton    no  False  \n",
                            "1    woman       False    C    Cherbourg   yes  False  \n",
                            "2    woman       False  NaN  Southampton   yes   True  \n",
                            "3    woman       False    C  Southampton   yes  False  \n",
                            "4      man        True  NaN  Southampton    no   True  \n",
                            "..     ...         ...  ...          ...   ...    ...  \n",
                            "886    man        True  NaN  Southampton    no   True  \n",
                            "887  woman       False    B  Southampton   yes   True  \n",
                            "888  woman       False  NaN  Southampton    no  False  \n",
                            "889    man        True    C    Cherbourg   yes   True  \n",
                            "890    man        True  NaN   Queenstown    no   True  \n",
                            "\n",
                            "[891 rows x 15 columns]>"
                        ]
                    },
                    "metadata": {},
                    "execution_count": 18
                }
            ],
            "metadata": {}
        },
        {
            "cell_type": "code",
            "execution_count": 19,
            "source": [
                "X = titanic[['pclass', 'age', 'sex']]\n",
                "y = titanic['survived']"
            ],
            "outputs": [],
            "metadata": {}
        },
        {
            "cell_type": "code",
            "execution_count": 23,
            "source": [
                "X['age'].fillna(X['age'].mean(), inplace= True)\n",
                "# X.info"
            ],
            "outputs": [],
            "metadata": {}
        },
        {
            "cell_type": "code",
            "execution_count": 24,
            "source": [
                "X_train, X_test, y_train, y_test = train_test_split(X,y,test_size=0.25, random_state=42)\n",
                "X"
            ],
            "outputs": [],
            "metadata": {}
        },
        {
            "cell_type": "code",
            "execution_count": null,
            "source": [],
            "outputs": [],
            "metadata": {}
        },
        {
            "cell_type": "code",
            "execution_count": 21,
            "source": [
                "\n",
                "\n",
                "X_train,X_test,y_train,y_test = train_test_split(X,y,test_size=0.25,random_state=33)\n",
                "X_train = X_train.to_dict(orient='record')\n",
                "X_test = X_test.to_dict(orient='record')\n",
                "#将非数值型数据转换为数值型数据\n",
                "from sklearn.feature_extraction import DictVectorizer\n",
                "from sklearn.tree import DecisionTreeClassifier\n",
                "from sklearn.pipeline import Pipeline\n",
                "clf = Pipeline([('vecd',DictVectorizer(sparse=False)),('dtc',DecisionTreeClassifier())])\n",
                "vec = DictVectorizer(sparse=False)\n",
                "\n",
                "clf.fit(X_train,y_train)\n",
                "y_predict = clf.predict(X_test)\n",
                "from sklearn.metrics import classification_report\n",
                "print (clf.score(X_test,y_test))\n",
                "print(classification_report(y_predict,y_test,target_names=['died','survivied']))\n"
            ],
            "outputs": [
                {
                    "output_type": "stream",
                    "name": "stderr",
                    "text": [
                        "/var/folders/1q/m8l_wvxd5dl8kccgv4xrsxtr0000gn/T/ipykernel_83958/318166747.py:2: FutureWarning: Using short name for 'orient' is deprecated. Only the options: ('dict', list, 'series', 'split', 'records', 'index') will be used in a future version. Use one of the above to silence this warning.\n",
                        "  X_train = X_train.to_dict(orient='record')\n",
                        "/var/folders/1q/m8l_wvxd5dl8kccgv4xrsxtr0000gn/T/ipykernel_83958/318166747.py:3: FutureWarning: Using short name for 'orient' is deprecated. Only the options: ('dict', list, 'series', 'split', 'records', 'index') will be used in a future version. Use one of the above to silence this warning.\n",
                        "  X_test = X_test.to_dict(orient='record')\n"
                    ]
                },
                {
                    "output_type": "stream",
                    "name": "stdout",
                    "text": [
                        "0.8340807174887892\n",
                        "              precision    recall  f1-score   support\n",
                        "\n",
                        "        died       0.90      0.84      0.87       143\n",
                        "   survivied       0.74      0.82      0.78        80\n",
                        "\n",
                        "    accuracy                           0.83       223\n",
                        "   macro avg       0.82      0.83      0.82       223\n",
                        "weighted avg       0.84      0.83      0.84       223\n",
                        "\n"
                    ]
                }
            ],
            "metadata": {}
        },
        {
            "cell_type": "code",
            "execution_count": null,
            "source": [],
            "outputs": [],
            "metadata": {}
        },
        {
            "cell_type": "code",
            "execution_count": null,
            "source": [],
            "outputs": [],
            "metadata": {}
        }
    ],
    "metadata": {
        "orig_nbformat": 4,
        "language_info": {
            "name": "python",
            "version": "3.9.6",
            "mimetype": "text/x-python",
            "codemirror_mode": {
                "name": "ipython",
                "version": 3
            },
            "pygments_lexer": "ipython3",
            "nbconvert_exporter": "python",
            "file_extension": ".py"
        },
        "kernelspec": {
            "name": "python3",
            "display_name": "Python 3.9.6 64-bit ('p39': conda)"
        },
        "interpreter": {
            "hash": "30957a78df82087ad0e293b0e2bba94c1e28de38d27414fc41b7300ce0c7e48e"
        }
    },
    "nbformat": 4,
    "nbformat_minor": 2
}