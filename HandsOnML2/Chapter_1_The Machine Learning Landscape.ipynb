{
 "cells": [
  {
   "cell_type": "markdown",
   "metadata": {
    "id": "XDy8CexqGKim"
   },
   "source": [
    "**Chapter 1 – The Machine Learning Landscape**"
   ]
  },
  {
   "cell_type": "code",
   "execution_count": 3,
   "metadata": {
    "id": "0byk2Hs5GKiq"
   },
   "outputs": [],
   "source": [
    "import matplotlib as mpl\n",
    "import matplotlib.pyplot as plt\n",
    "import numpy as np\n",
    "import pandas as pd\n",
    "import sklearn.linear_model\n",
    "import seaborn as sns"
   ]
  },
  {
   "cell_type": "code",
   "execution_count": 4,
   "metadata": {
    "id": "Y6yq9kDUGKis",
    "outputId": "18b972d9-f244-46e7-fdff-74d2d9ee8744"
   },
   "outputs": [
    {
     "data": {
      "text/plain": [
       "(  LOCATION    Country INDICATOR                           Indicator MEASURE  \\\n",
       " 0      AUS  Australia   HO_BASE  Dwellings without basic facilities       L   \n",
       " 1      AUT    Austria   HO_BASE  Dwellings without basic facilities       L   \n",
       " 2      BEL    Belgium   HO_BASE  Dwellings without basic facilities       L   \n",
       " \n",
       "   Measure INEQUALITY Inequality Unit Code        Unit  PowerCode Code  \\\n",
       " 0   Value        TOT      Total        PC  Percentage               0   \n",
       " 1   Value        TOT      Total        PC  Percentage               0   \n",
       " 2   Value        TOT      Total        PC  Percentage               0   \n",
       " \n",
       "   PowerCode  Reference Period Code  Reference Period  Value Flag Codes  \\\n",
       " 0     units                    NaN               NaN    1.1          E   \n",
       " 1     units                    NaN               NaN    1.0        NaN   \n",
       " 2     units                    NaN               NaN    2.0        NaN   \n",
       " \n",
       "              Flags  \n",
       " 0  Estimated value  \n",
       " 1              NaN  \n",
       " 2              NaN  ,\n",
       "        Country                                 Subject Descriptor  \\\n",
       " 0  Afghanistan  Gross domestic product per capita, current prices   \n",
       " 1      Albania  Gross domestic product per capita, current prices   \n",
       " 2      Algeria  Gross domestic product per capita, current prices   \n",
       " \n",
       "           Units  Scale                      Country/Series-specific Notes  \\\n",
       " 0  U.S. dollars  Units  See notes for:  Gross domestic product, curren...   \n",
       " 1  U.S. dollars  Units  See notes for:  Gross domestic product, curren...   \n",
       " 2  U.S. dollars  Units  See notes for:  Gross domestic product, curren...   \n",
       " \n",
       "        2015  Estimates Start After  \n",
       " 0   599.994                 2013.0  \n",
       " 1  3995.383                 2010.0  \n",
       " 2  4318.135                 2014.0  )"
      ]
     },
     "execution_count": 4,
     "metadata": {},
     "output_type": "execute_result"
    }
   ],
   "source": [
    "odbi = pd.read_csv('../data/oecd_bli_2015.csv', thousands = ',')\n",
    "gdpc = pd.read_csv('../data/gdp_per_capita.csv', thousands = ',',delimiter ='\\t',encoding = 'latin1',na_values = 'n/a')\n",
    "odbi.head(3), gdpc.head(3)"
   ]
  },
  {
   "cell_type": "code",
   "execution_count": 5,
   "metadata": {
    "id": "vDPX5gE2GKiu",
    "outputId": "8b71123d-2065-4f47-f1ab-0537a03b3340"
   },
   "outputs": [
    {
     "data": {
      "text/plain": [
       "((3292, 17), (190, 7))"
      ]
     },
     "execution_count": 5,
     "metadata": {},
     "output_type": "execute_result"
    }
   ],
   "source": [
    "odbi.shape, gdpc.shape"
   ]
  },
  {
   "cell_type": "code",
   "execution_count": 6,
   "metadata": {
    "id": "1Z9nEkCRGKiv"
   },
   "outputs": [],
   "source": [
    "#  Prepare oecd 2015 dataset \n",
    "odbi = odbi.query(\"INEQUALITY=='TOT'\")\n",
    "odbi = odbi.pivot(index=\"Country\", columns=\"Indicator\", values=\"Value\")\n",
    "\n",
    "# Prepare gdp dataset\n",
    "gdpc.rename(columns={\"2015\": \"GDP per capita\"}, inplace=True)\n",
    "gdpc.set_index('Country',inplace = True)"
   ]
  },
  {
   "cell_type": "code",
   "execution_count": 7,
   "metadata": {
    "id": "xoat97PuGKiv",
    "outputId": "d63d624f-262f-4727-c2dd-d50b551fe479"
   },
   "outputs": [
    {
     "data": {
      "text/plain": [
       "(Indicator  Air pollution  Assault rate  Consultation on rule-making  \\\n",
       " Country                                                               \n",
       " Australia           13.0           2.1                         10.5   \n",
       " Austria             27.0           3.4                          7.1   \n",
       " Belgium             21.0           6.6                          4.5   \n",
       " \n",
       " Indicator  Dwellings without basic facilities  Educational attainment  \\\n",
       " Country                                                                 \n",
       " Australia                                 1.1                    76.0   \n",
       " Austria                                   1.0                    83.0   \n",
       " Belgium                                   2.0                    72.0   \n",
       " \n",
       " Indicator  Employees working very long hours  Employment rate  Homicide rate  \\\n",
       " Country                                                                        \n",
       " Australia                              14.02             72.0            0.8   \n",
       " Austria                                 7.61             72.0            0.4   \n",
       " Belgium                                 4.57             62.0            1.1   \n",
       " \n",
       " Indicator  Household net adjusted disposable income  \\\n",
       " Country                                               \n",
       " Australia                                   31588.0   \n",
       " Austria                                     31173.0   \n",
       " Belgium                                     28307.0   \n",
       " \n",
       " Indicator  Household net financial wealth  ...  Long-term unemployment rate  \\\n",
       " Country                                    ...                                \n",
       " Australia                         47657.0  ...                         1.08   \n",
       " Austria                           49887.0  ...                         1.19   \n",
       " Belgium                           83876.0  ...                         3.88   \n",
       " \n",
       " Indicator  Personal earnings  Quality of support network  Rooms per person  \\\n",
       " Country                                                                      \n",
       " Australia            50449.0                        92.0               2.3   \n",
       " Austria              45199.0                        89.0               1.6   \n",
       " Belgium              48082.0                        94.0               2.2   \n",
       " \n",
       " Indicator  Self-reported health  Student skills  \\\n",
       " Country                                           \n",
       " Australia                  85.0           512.0   \n",
       " Austria                    69.0           500.0   \n",
       " Belgium                    74.0           509.0   \n",
       " \n",
       " Indicator  Time devoted to leisure and personal care  Voter turnout  \\\n",
       " Country                                                               \n",
       " Australia                                      14.41           93.0   \n",
       " Austria                                        14.46           75.0   \n",
       " Belgium                                        15.71           89.0   \n",
       " \n",
       " Indicator  Water quality  Years in education  \n",
       " Country                                       \n",
       " Australia           91.0                19.4  \n",
       " Austria             94.0                17.0  \n",
       " Belgium             87.0                18.9  \n",
       " \n",
       " [3 rows x 24 columns],\n",
       "                                             Subject Descriptor         Units  \\\n",
       " Country                                                                        \n",
       " Afghanistan  Gross domestic product per capita, current prices  U.S. dollars   \n",
       " Albania      Gross domestic product per capita, current prices  U.S. dollars   \n",
       " Algeria      Gross domestic product per capita, current prices  U.S. dollars   \n",
       " \n",
       "              Scale                      Country/Series-specific Notes  \\\n",
       " Country                                                                 \n",
       " Afghanistan  Units  See notes for:  Gross domestic product, curren...   \n",
       " Albania      Units  See notes for:  Gross domestic product, curren...   \n",
       " Algeria      Units  See notes for:  Gross domestic product, curren...   \n",
       " \n",
       "              GDP per capita  Estimates Start After  \n",
       " Country                                             \n",
       " Afghanistan         599.994                 2013.0  \n",
       " Albania            3995.383                 2010.0  \n",
       " Algeria            4318.135                 2014.0  )"
      ]
     },
     "execution_count": 7,
     "metadata": {},
     "output_type": "execute_result"
    }
   ],
   "source": [
    "odbi.head(3), gdpc.head(3)"
   ]
  },
  {
   "cell_type": "code",
   "execution_count": 8,
   "metadata": {
    "id": "zx-se-x1GKix"
   },
   "outputs": [],
   "source": [
    "# Merge odbi and gdpc dataset\n",
    "stats_ful_contry = pd.merge(left = odbi, right = gdpc,left_index = True, right_index = True)\n",
    "stats_ful_contry.sort_values(by = 'GDP per capita', inplace = True)\n",
    "\n",
    "# remove irrelevant counties\n",
    "keep_indices = list(set(range(36)) - set([0,1,6,8,33,34,35]))\n",
    "stats_ful_contry = stats_ful_contry[['GDP per capita', 'Life satisfaction']].iloc[keep_indices]"
   ]
  },
  {
   "cell_type": "code",
   "execution_count": 9,
   "metadata": {
    "id": "WeH0Oo8LGKi0",
    "outputId": "aeb49e3a-0a94-4239-9867-3e929a23bdba"
   },
   "outputs": [
    {
     "data": {
      "text/html": [
       "<div>\n",
       "<style scoped>\n",
       "    .dataframe tbody tr th:only-of-type {\n",
       "        vertical-align: middle;\n",
       "    }\n",
       "\n",
       "    .dataframe tbody tr th {\n",
       "        vertical-align: top;\n",
       "    }\n",
       "\n",
       "    .dataframe thead th {\n",
       "        text-align: right;\n",
       "    }\n",
       "</style>\n",
       "<table border=\"1\" class=\"dataframe\">\n",
       "  <thead>\n",
       "    <tr style=\"text-align: right;\">\n",
       "      <th></th>\n",
       "      <th>GDP per capita</th>\n",
       "      <th>Life satisfaction</th>\n",
       "    </tr>\n",
       "    <tr>\n",
       "      <th>Country</th>\n",
       "      <th></th>\n",
       "      <th></th>\n",
       "    </tr>\n",
       "  </thead>\n",
       "  <tbody>\n",
       "    <tr>\n",
       "      <th>Russia</th>\n",
       "      <td>9054.914</td>\n",
       "      <td>6.0</td>\n",
       "    </tr>\n",
       "    <tr>\n",
       "      <th>Turkey</th>\n",
       "      <td>9437.372</td>\n",
       "      <td>5.6</td>\n",
       "    </tr>\n",
       "    <tr>\n",
       "      <th>Hungary</th>\n",
       "      <td>12239.894</td>\n",
       "      <td>4.9</td>\n",
       "    </tr>\n",
       "    <tr>\n",
       "      <th>Poland</th>\n",
       "      <td>12495.334</td>\n",
       "      <td>5.8</td>\n",
       "    </tr>\n",
       "    <tr>\n",
       "      <th>Slovak Republic</th>\n",
       "      <td>15991.736</td>\n",
       "      <td>6.1</td>\n",
       "    </tr>\n",
       "  </tbody>\n",
       "</table>\n",
       "</div>"
      ],
      "text/plain": [
       "                 GDP per capita  Life satisfaction\n",
       "Country                                           \n",
       "Russia                 9054.914                6.0\n",
       "Turkey                 9437.372                5.6\n",
       "Hungary               12239.894                4.9\n",
       "Poland                12495.334                5.8\n",
       "Slovak Republic       15991.736                6.1"
      ]
     },
     "execution_count": 9,
     "metadata": {},
     "output_type": "execute_result"
    }
   ],
   "source": [
    "stats_ful_contry.head()"
   ]
  },
  {
   "cell_type": "code",
   "execution_count": 10,
   "metadata": {
    "id": "J4K--68sGKi2",
    "outputId": "288e13ce-d680-4d01-8dd4-5b8c41424ba5"
   },
   "outputs": [
    {
     "data": {
      "image/png": "[encoded data removed]",
      "text/plain": [
       "<Figure size 480x320 with 1 Axes>"
      ]
     },
     "metadata": {
      "needs_background": "light"
     },
     "output_type": "display_data"
    }
   ],
   "source": [
    " # Visualization\n",
    "_, ax = plt.subplots(figsize=(6, 4), dpi=80)\n",
    "g = sns.scatterplot(\n",
    "    x=\"GDP per capita\", y=\"Life satisfaction\", data=stats_ful_contry, ax=ax\n",
    ")"
   ]
  },
  {
   "cell_type": "code",
   "execution_count": 11,
   "metadata": {
    "id": "tUGnhK4GGKi4",
    "outputId": "bab6e068-9d2b-471c-8674-89f5aaf64614"
   },
   "outputs": [
    {
     "name": "stdout",
     "output_type": "stream",
     "text": [
      "[array([[5.96242338]])]\n",
      "[array([[5.96242338]]), array([[5.76666667]])]\n"
     ]
    }
   ],
   "source": [
    "X = np.c_[stats_ful_contry['GDP per capita']]\n",
    "y = np.c_[stats_ful_contry['Life satisfaction']]\n",
    "\n",
    "# Select  linear , KNN model by sklearn\n",
    "from sklearn.linear_model import LinearRegression\n",
    "from sklearn.neighbors import KNeighborsRegressor\n",
    "\n",
    "models = [LinearRegression(),KNeighborsRegressor(n_neighbors=3)]\n",
    "\n",
    "# Make a prediction for Cyprus:22587\n",
    "X_new = [[22587]]  # Cyprus' GDP per capita\n",
    "\n",
    "results = []\n",
    "for m in models:\n",
    "    m.fit(X,y)\n",
    "    results.append(m.predict(X_new))\n",
    "    print(results)"
   ]
  },
  {
   "cell_type": "code",
   "execution_count": 12,
   "metadata": {
    "id": "C0UNYdTlGKi5",
    "outputId": "6cf5261e-c750-4a1f-b16a-83bfdb5dbc25"
   },
   "outputs": [
    {
     "data": {
      "text/plain": [
       "Country\n",
       "Australia    7.3\n",
       "Austria      6.9\n",
       "Belgium      6.9\n",
       "Brazil       7.0\n",
       "Canada       7.3\n",
       "Name: Life satisfaction, dtype: float64"
      ]
     },
     "execution_count": 12,
     "metadata": {},
     "output_type": "execute_result"
    }
   ],
   "source": [
    "odbi[\"Life satisfaction\"].head()"
   ]
  },
  {
   "cell_type": "code",
   "execution_count": 13,
   "metadata": {
    "id": "Z-hwe8DEGKi6",
    "outputId": "49f82b23-0dbf-4946-ba80-8f68fb7fadaa"
   },
   "outputs": [
    {
     "data": {
      "text/html": [
       "<div>\n",
       "<style scoped>\n",
       "    .dataframe tbody tr th:only-of-type {\n",
       "        vertical-align: middle;\n",
       "    }\n",
       "\n",
       "    .dataframe tbody tr th {\n",
       "        vertical-align: top;\n",
       "    }\n",
       "\n",
       "    .dataframe thead th {\n",
       "        text-align: right;\n",
       "    }\n",
       "</style>\n",
       "<table border=\"1\" class=\"dataframe\">\n",
       "  <thead>\n",
       "    <tr style=\"text-align: right;\">\n",
       "      <th></th>\n",
       "      <th>Subject Descriptor</th>\n",
       "      <th>Units</th>\n",
       "      <th>Scale</th>\n",
       "      <th>Country/Series-specific Notes</th>\n",
       "      <th>GDP per capita</th>\n",
       "      <th>Estimates Start After</th>\n",
       "    </tr>\n",
       "    <tr>\n",
       "      <th>Country</th>\n",
       "      <th></th>\n",
       "      <th></th>\n",
       "      <th></th>\n",
       "      <th></th>\n",
       "      <th></th>\n",
       "      <th></th>\n",
       "    </tr>\n",
       "  </thead>\n",
       "  <tbody>\n",
       "    <tr>\n",
       "      <th>Afghanistan</th>\n",
       "      <td>Gross domestic product per capita, current prices</td>\n",
       "      <td>U.S. dollars</td>\n",
       "      <td>Units</td>\n",
       "      <td>See notes for:  Gross domestic product, curren...</td>\n",
       "      <td>599.994</td>\n",
       "      <td>2013.0</td>\n",
       "    </tr>\n",
       "    <tr>\n",
       "      <th>Albania</th>\n",
       "      <td>Gross domestic product per capita, current prices</td>\n",
       "      <td>U.S. dollars</td>\n",
       "      <td>Units</td>\n",
       "      <td>See notes for:  Gross domestic product, curren...</td>\n",
       "      <td>3995.383</td>\n",
       "      <td>2010.0</td>\n",
       "    </tr>\n",
       "    <tr>\n",
       "      <th>Algeria</th>\n",
       "      <td>Gross domestic product per capita, current prices</td>\n",
       "      <td>U.S. dollars</td>\n",
       "      <td>Units</td>\n",
       "      <td>See notes for:  Gross domestic product, curren...</td>\n",
       "      <td>4318.135</td>\n",
       "      <td>2014.0</td>\n",
       "    </tr>\n",
       "    <tr>\n",
       "      <th>Angola</th>\n",
       "      <td>Gross domestic product per capita, current prices</td>\n",
       "      <td>U.S. dollars</td>\n",
       "      <td>Units</td>\n",
       "      <td>See notes for:  Gross domestic product, curren...</td>\n",
       "      <td>4100.315</td>\n",
       "      <td>2014.0</td>\n",
       "    </tr>\n",
       "    <tr>\n",
       "      <th>Antigua and Barbuda</th>\n",
       "      <td>Gross domestic product per capita, current prices</td>\n",
       "      <td>U.S. dollars</td>\n",
       "      <td>Units</td>\n",
       "      <td>See notes for:  Gross domestic product, curren...</td>\n",
       "      <td>14414.302</td>\n",
       "      <td>2011.0</td>\n",
       "    </tr>\n",
       "  </tbody>\n",
       "</table>\n",
       "</div>"
      ],
      "text/plain": [
       "                                                    Subject Descriptor  \\\n",
       "Country                                                                  \n",
       "Afghanistan          Gross domestic product per capita, current prices   \n",
       "Albania              Gross domestic product per capita, current prices   \n",
       "Algeria              Gross domestic product per capita, current prices   \n",
       "Angola               Gross domestic product per capita, current prices   \n",
       "Antigua and Barbuda  Gross domestic product per capita, current prices   \n",
       "\n",
       "                            Units  Scale  \\\n",
       "Country                                    \n",
       "Afghanistan          U.S. dollars  Units   \n",
       "Albania              U.S. dollars  Units   \n",
       "Algeria              U.S. dollars  Units   \n",
       "Angola               U.S. dollars  Units   \n",
       "Antigua and Barbuda  U.S. dollars  Units   \n",
       "\n",
       "                                         Country/Series-specific Notes  \\\n",
       "Country                                                                  \n",
       "Afghanistan          See notes for:  Gross domestic product, curren...   \n",
       "Albania              See notes for:  Gross domestic product, curren...   \n",
       "Algeria              See notes for:  Gross domestic product, curren...   \n",
       "Angola               See notes for:  Gross domestic product, curren...   \n",
       "Antigua and Barbuda  See notes for:  Gross domestic product, curren...   \n",
       "\n",
       "                     GDP per capita  Estimates Start After  \n",
       "Country                                                     \n",
       "Afghanistan                 599.994                 2013.0  \n",
       "Albania                    3995.383                 2010.0  \n",
       "Algeria                    4318.135                 2014.0  \n",
       "Angola                     4100.315                 2014.0  \n",
       "Antigua and Barbuda       14414.302                 2011.0  "
      ]
     },
     "execution_count": 13,
     "metadata": {},
     "output_type": "execute_result"
    }
   ],
   "source": [
    "gdpc.head()"
   ]
  },
  {
   "cell_type": "code",
   "execution_count": 14,
   "metadata": {
    "id": "mW1-W-lBGKi7"
   },
   "outputs": [],
   "source": [
    "stats_ful_contry= pd.merge(left = odbi,right=gdpc,left_index=True,right_index=True)\n",
    "stats_ful_contry.sort_values(by = 'GDP per capita', inplace=True)"
   ]
  },
  {
   "cell_type": "code",
   "execution_count": 15,
   "metadata": {
    "id": "lrvwm3uBGKi7",
    "outputId": "42167522-8e46-4b39-de4d-b32af51f3ffc"
   },
   "outputs": [
    {
     "data": {
      "text/plain": [
       "(36, 30)"
      ]
     },
     "execution_count": 15,
     "metadata": {},
     "output_type": "execute_result"
    }
   ],
   "source": [
    "stats_ful_contry.shape"
   ]
  },
  {
   "cell_type": "code",
   "execution_count": 16,
   "metadata": {
    "id": "-VTLXCLhGKi8"
   },
   "outputs": [],
   "source": [
    "remove_indices = [0, 1, 6, 8, 33, 34, 35]\n",
    "keep_indices = list(set(range(36)) - set(remove_indices))\n",
    "\n",
    "sample_data = stats_ful_contry[[\"GDP per capita\", \"Life satisfaction\"]].iloc[\n",
    "    keep_indices\n",
    "]\n",
    "missing_data = stats_ful_contry[[\"GDP per capita\", \"Life satisfaction\"]].iloc[\n",
    "    remove_indices\n",
    "]\n"
   ]
  },
  {
   "cell_type": "code",
   "execution_count": 17,
   "metadata": {
    "id": "iUNNHxw4GKi8",
    "outputId": "041db941-9a9b-40cb-a07e-c11f0f010ffd"
   },
   "outputs": [
    {
     "data": {
      "image/png": "[encoded data removed]",
      "text/plain": [
       "<Figure size 480x320 with 1 Axes>"
      ]
     },
     "metadata": {
      "needs_background": "light"
     },
     "output_type": "display_data"
    }
   ],
   "source": [
    "_, ax = plt.subplots(figsize=(6, 4), dpi=80)\n",
    "g = sns.scatterplot(x=\"GDP per capita\", y=\"Life satisfaction\", data=sample_data, ax=ax)\n",
    "\n",
    "position_text = {\n",
    "    \"Hungary\": (5000, 1),\n",
    "    \"Korea\": (18000, 1.7),\n",
    "    \"France\": (29000, 2.4),\n",
    "    \"Australia\": (40000, 3.0),\n",
    "    \"United States\": (52000, 3.8),\n",
    "}\n",
    "\n",
    "for country, pos_text in position_text.items():\n",
    "    pos_data_x, pos_data_y = sample_data.loc[country]\n",
    "    country = \"U.S.\" if country == \"United States\" else country\n",
    "    ax.annotate(\n",
    "        country,\n",
    "        xy=(pos_data_x, pos_data_y),\n",
    "        xytext=pos_text,\n",
    "        arrowprops=dict(facecolor=\"black\", width=0.5, shrink=0.1, headwidth=5),\n",
    "    )\n",
    "    ax.plot(pos_data_x, pos_data_y, \"ro\")\n",
    "    \n",
    "ax.set(xlabel=\"GDP per capita (USD)\")\n",
    "plt.show()\n"
   ]
  },
  {
   "cell_type": "code",
   "execution_count": 18,
   "metadata": {
    "id": "wb3wS3htGKi9"
   },
   "outputs": [],
   "source": [
    "# save data\n",
    "sample_data.to_csv(\"../data/lifesat.csv\")"
   ]
  },
  {
   "cell_type": "code",
   "execution_count": 19,
   "metadata": {
    "id": "WnEhsR-ZGKi9",
    "outputId": "5a491b29-0151-4e07-f078-d9d5b9667573"
   },
   "outputs": [
    {
     "data": {
      "text/html": [
       "<div>\n",
       "<style scoped>\n",
       "    .dataframe tbody tr th:only-of-type {\n",
       "        vertical-align: middle;\n",
       "    }\n",
       "\n",
       "    .dataframe tbody tr th {\n",
       "        vertical-align: top;\n",
       "    }\n",
       "\n",
       "    .dataframe thead th {\n",
       "        text-align: right;\n",
       "    }\n",
       "</style>\n",
       "<table border=\"1\" class=\"dataframe\">\n",
       "  <thead>\n",
       "    <tr style=\"text-align: right;\">\n",
       "      <th></th>\n",
       "      <th>GDP per capita</th>\n",
       "      <th>Life satisfaction</th>\n",
       "    </tr>\n",
       "    <tr>\n",
       "      <th>Country</th>\n",
       "      <th></th>\n",
       "      <th></th>\n",
       "    </tr>\n",
       "  </thead>\n",
       "  <tbody>\n",
       "    <tr>\n",
       "      <th>Hungary</th>\n",
       "      <td>12239.894</td>\n",
       "      <td>4.9</td>\n",
       "    </tr>\n",
       "    <tr>\n",
       "      <th>Korea</th>\n",
       "      <td>27195.197</td>\n",
       "      <td>5.8</td>\n",
       "    </tr>\n",
       "    <tr>\n",
       "      <th>France</th>\n",
       "      <td>37675.006</td>\n",
       "      <td>6.5</td>\n",
       "    </tr>\n",
       "    <tr>\n",
       "      <th>Australia</th>\n",
       "      <td>50961.865</td>\n",
       "      <td>7.3</td>\n",
       "    </tr>\n",
       "    <tr>\n",
       "      <th>United States</th>\n",
       "      <td>55805.204</td>\n",
       "      <td>7.2</td>\n",
       "    </tr>\n",
       "  </tbody>\n",
       "</table>\n",
       "</div>"
      ],
      "text/plain": [
       "               GDP per capita  Life satisfaction\n",
       "Country                                         \n",
       "Hungary             12239.894                4.9\n",
       "Korea               27195.197                5.8\n",
       "France              37675.006                6.5\n",
       "Australia           50961.865                7.3\n",
       "United States       55805.204                7.2"
      ]
     },
     "execution_count": 19,
     "metadata": {},
     "output_type": "execute_result"
    }
   ],
   "source": [
    "sample_data.loc[list(position_text.keys())]"
   ]
  },
  {
   "cell_type": "code",
   "execution_count": null,
   "metadata": {
    "id": "16gTNWxUGKi-"
   },
   "outputs": [],
   "source": []
  }
 ],
 "metadata": {
  "colab": {
   "name": "Chapter_1_The Machine Learning Landscape.ipynb",
   "provenance": []
  },
  "interpreter": {
   "hash": "30957a78df82087ad0e293b0e2bba94c1e28de38d27414fc41b7300ce0c7e48e"
  },
  "kernelspec": {
   "display_name": "Python 3 (ipykernel)",
   "language": "python",
   "name": "python3"
  },
  "language_info": {
   "codemirror_mode": {
    "name": "ipython",
    "version": 3
   },
   "file_extension": ".py",
   "mimetype": "text/x-python",
   "name": "python",
   "nbconvert_exporter": "python",
   "pygments_lexer": "ipython3",
   "version": "3.9.7"
  }
 },
 "nbformat": 4,
 "nbformat_minor": 4
}
