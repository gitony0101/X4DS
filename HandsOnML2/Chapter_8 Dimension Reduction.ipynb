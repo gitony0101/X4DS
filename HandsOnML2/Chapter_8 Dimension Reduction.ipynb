{
 "cells": [
  {
   "cell_type": "markdown",
   "metadata": {},
   "source": [
    "# Chap 8 Dimension Reduction"
   ]
  },
  {
   "cell_type": "code",
   "execution_count": 4,
   "metadata": {},
   "outputs": [],
   "source": [
    "import numpy as np\n",
    "import pandas as pd\n",
    "import matplotlib.pyplot as plt"
   ]
  },
  {
   "cell_type": "markdown",
   "metadata": {},
   "source": [
    "## Projection methods"
   ]
  },
  {
   "cell_type": "code",
   "execution_count": 5,
   "metadata": {},
   "outputs": [],
   "source": [
    "np.random.seed(42)\n",
    "m = 60\n",
    "w_1, w_2 = 0.1,0.3\n",
    "noise = 0.1\n",
    "\n",
    "angles = np.random.rand(m) * 3 * np.pi/2 - 0.5\n",
    "X = np.empty((m,3))\n",
    "\n",
    "X[:,0] = np.cos(angles) + np.sin(angles)/2 + noise*np.random.rand(m)/2\n",
    "X[:,1] = np.sin(angles)*0.7 + noise*np.random.randn(m)/2\n",
    "X[:,2] = X[:,0]*w_1 + X[:,1]*w_2 + np.random.rand(m)"
   ]
  },
  {
   "cell_type": "code",
   "execution_count": 6,
   "metadata": {},
   "outputs": [
    {
     "data": {
      "text/plain": [
       "(60, 3)"
      ]
     },
     "execution_count": 6,
     "metadata": {},
     "output_type": "execute_result"
    }
   ],
   "source": [
    "X.shape"
   ]
  },
  {
   "cell_type": "markdown",
   "metadata": {},
   "source": [
    "## PCA by SVD"
   ]
  },
  {
   "cell_type": "code",
   "execution_count": 7,
   "metadata": {},
   "outputs": [],
   "source": [
    "X_centered = X - X.mean(axis=0)\n",
    "U,s,V_T = np.linalg.svd(X_centered)\n",
    "c_1 = V_T.T[:,0]\n",
    "c_2 = V_T.T[:,1]"
   ]
  },
  {
   "cell_type": "code",
   "execution_count": 8,
   "metadata": {},
   "outputs": [
    {
     "data": {
      "text/plain": [
       "(60, 3)"
      ]
     },
     "execution_count": 8,
     "metadata": {},
     "output_type": "execute_result"
    }
   ],
   "source": [
    "X_centered.shape"
   ]
  },
  {
   "cell_type": "code",
   "execution_count": 9,
   "metadata": {},
   "outputs": [
    {
     "data": {
      "text/plain": [
       "(60, 60)"
      ]
     },
     "execution_count": 9,
     "metadata": {},
     "output_type": "execute_result"
    }
   ],
   "source": [
    "U.shape"
   ]
  },
  {
   "cell_type": "code",
   "execution_count": 10,
   "metadata": {},
   "outputs": [
    {
     "data": {
      "text/plain": [
       "array([7.05506099, 2.98798215, 2.04209023])"
      ]
     },
     "execution_count": 10,
     "metadata": {},
     "output_type": "execute_result"
    }
   ],
   "source": [
    "s"
   ]
  },
  {
   "cell_type": "code",
   "execution_count": 11,
   "metadata": {},
   "outputs": [
    {
     "data": {
      "text/plain": [
       "array([[-0.94360818, -0.26476013, -0.19876034],\n",
       "       [ 0.33084931, -0.73250113, -0.59496288],\n",
       "       [ 0.01193027, -0.62717156,  0.77878977]])"
      ]
     },
     "execution_count": 11,
     "metadata": {},
     "output_type": "execute_result"
    }
   ],
   "source": [
    "V_T "
   ]
  },
  {
   "cell_type": "code",
   "execution_count": 12,
   "metadata": {},
   "outputs": [
    {
     "data": {
      "text/plain": [
       "((3,), (3,))"
      ]
     },
     "execution_count": 12,
     "metadata": {},
     "output_type": "execute_result"
    }
   ],
   "source": [
    "c_1.shape,c_2.shape"
   ]
  },
  {
   "cell_type": "code",
   "execution_count": 13,
   "metadata": {},
   "outputs": [],
   "source": [
    "m,n = X.shape\n",
    "\n",
    "S= np.zeros(X_centered.shape)\n",
    "S[:n,:n] = np.diag(s)"
   ]
  },
  {
   "cell_type": "code",
   "execution_count": 14,
   "metadata": {},
   "outputs": [
    {
     "data": {
      "text/plain": [
       "array([[7.05506099, 0.        , 0.        ],\n",
       "       [0.        , 2.98798215, 0.        ],\n",
       "       [0.        , 0.        , 2.04209023],\n",
       "       [0.        , 0.        , 0.        ],\n",
       "       [0.        , 0.        , 0.        ],\n",
       "       [0.        , 0.        , 0.        ],\n",
       "       [0.        , 0.        , 0.        ],\n",
       "       [0.        , 0.        , 0.        ],\n",
       "       [0.        , 0.        , 0.        ],\n",
       "       [0.        , 0.        , 0.        ],\n",
       "       [0.        , 0.        , 0.        ],\n",
       "       [0.        , 0.        , 0.        ],\n",
       "       [0.        , 0.        , 0.        ],\n",
       "       [0.        , 0.        , 0.        ],\n",
       "       [0.        , 0.        , 0.        ],\n",
       "       [0.        , 0.        , 0.        ],\n",
       "       [0.        , 0.        , 0.        ],\n",
       "       [0.        , 0.        , 0.        ],\n",
       "       [0.        , 0.        , 0.        ],\n",
       "       [0.        , 0.        , 0.        ],\n",
       "       [0.        , 0.        , 0.        ],\n",
       "       [0.        , 0.        , 0.        ],\n",
       "       [0.        , 0.        , 0.        ],\n",
       "       [0.        , 0.        , 0.        ],\n",
       "       [0.        , 0.        , 0.        ],\n",
       "       [0.        , 0.        , 0.        ],\n",
       "       [0.        , 0.        , 0.        ],\n",
       "       [0.        , 0.        , 0.        ],\n",
       "       [0.        , 0.        , 0.        ],\n",
       "       [0.        , 0.        , 0.        ],\n",
       "       [0.        , 0.        , 0.        ],\n",
       "       [0.        , 0.        , 0.        ],\n",
       "       [0.        , 0.        , 0.        ],\n",
       "       [0.        , 0.        , 0.        ],\n",
       "       [0.        , 0.        , 0.        ],\n",
       "       [0.        , 0.        , 0.        ],\n",
       "       [0.        , 0.        , 0.        ],\n",
       "       [0.        , 0.        , 0.        ],\n",
       "       [0.        , 0.        , 0.        ],\n",
       "       [0.        , 0.        , 0.        ],\n",
       "       [0.        , 0.        , 0.        ],\n",
       "       [0.        , 0.        , 0.        ],\n",
       "       [0.        , 0.        , 0.        ],\n",
       "       [0.        , 0.        , 0.        ],\n",
       "       [0.        , 0.        , 0.        ],\n",
       "       [0.        , 0.        , 0.        ],\n",
       "       [0.        , 0.        , 0.        ],\n",
       "       [0.        , 0.        , 0.        ],\n",
       "       [0.        , 0.        , 0.        ],\n",
       "       [0.        , 0.        , 0.        ],\n",
       "       [0.        , 0.        , 0.        ],\n",
       "       [0.        , 0.        , 0.        ],\n",
       "       [0.        , 0.        , 0.        ],\n",
       "       [0.        , 0.        , 0.        ],\n",
       "       [0.        , 0.        , 0.        ],\n",
       "       [0.        , 0.        , 0.        ],\n",
       "       [0.        , 0.        , 0.        ],\n",
       "       [0.        , 0.        , 0.        ],\n",
       "       [0.        , 0.        , 0.        ],\n",
       "       [0.        , 0.        , 0.        ]])"
      ]
     },
     "execution_count": 14,
     "metadata": {},
     "output_type": "execute_result"
    }
   ],
   "source": [
    "S"
   ]
  },
  {
   "cell_type": "code",
   "execution_count": 15,
   "metadata": {},
   "outputs": [
    {
     "data": {
      "text/plain": [
       "True"
      ]
     },
     "execution_count": 15,
     "metadata": {},
     "output_type": "execute_result"
    }
   ],
   "source": [
    "np.allclose(X_centered,U.dot(S).dot(V_T))"
   ]
  },
  {
   "cell_type": "code",
   "execution_count": 16,
   "metadata": {},
   "outputs": [],
   "source": [
    "W_2 = V_T.T[:,:2]\n",
    "X2D = X_centered.dot(W_2)"
   ]
  },
  {
   "cell_type": "code",
   "execution_count": 17,
   "metadata": {},
   "outputs": [
    {
     "name": "stdout",
     "output_type": "stream",
     "text": [
      "[[-0.94360818  0.33084931]\n",
      " [-0.26476013 -0.73250113]\n",
      " [-0.19876034 -0.59496288]],\n",
      "\n",
      "[[-0.94360818 -0.26476013 -0.19876034]\n",
      " [ 0.33084931 -0.73250113 -0.59496288]\n",
      " [ 0.01193027 -0.62717156  0.77878977]],\n",
      "\n",
      "[[-0.76507398 -0.33168158]\n",
      " [ 1.48265532  0.57054673]\n",
      " [ 1.0805771  -0.01921057]\n",
      " [ 0.30232421 -0.60526476]\n",
      " [-0.90513931  0.18648104]\n",
      " [-0.79842186  0.54702328]\n",
      " [-0.47105278  0.7284537 ]\n",
      " [ 1.34282445  0.00530485]\n",
      " [ 0.50647291 -0.07798973]\n",
      " [ 0.96947746 -0.06258005]\n",
      " [-0.41314956  0.55618453]\n",
      " [ 1.34634769  0.27735024]\n",
      " [ 1.33098835 -0.09177379]\n",
      " [-0.9399952   0.2664047 ]\n",
      " [-1.02070551 -0.0110634 ]\n",
      " [-0.90202069  0.3455568 ]\n",
      " [-0.91303326 -0.02690949]\n",
      " [-0.09011892 -0.59782944]\n",
      " [-0.52176961 -0.3762926 ]\n",
      " [-1.00044287 -0.3023946 ]\n",
      " [ 0.37466292 -0.51444565]\n",
      " [-0.90971111  0.15754732]\n",
      " [-0.85671069  0.15531324]\n",
      " [-0.73762689 -0.20251007]\n",
      " [-0.36244576 -0.26362968]\n",
      " [ 1.29392605  0.08100081]\n",
      " [-1.08504393 -0.17984033]\n",
      " [-0.11778305 -0.41423049]\n",
      " [ 0.20648304 -0.70088149]\n",
      " [-0.52659285  0.48237464]\n",
      " [ 0.33749548 -0.67081317]\n",
      " [-0.90696516  0.29343343]\n",
      " [-0.63420018  0.4132355 ]\n",
      " [ 1.34872409  0.21217331]\n",
      " [ 1.42731928  0.57869119]\n",
      " [ 1.24606222 -0.17090919]\n",
      " [-0.8890095   0.00255792]\n",
      " [-0.6159543   0.71542419]\n",
      " [ 0.82511967 -0.35448061]\n",
      " [-0.4111933  -0.19988423]\n",
      " [-0.84927655  0.13228064]\n",
      " [-0.32638818 -0.72566802]\n",
      " [-0.52016977  0.33436122]\n",
      " [ 1.40874256  0.2102638 ]\n",
      " [-0.88999892  0.32214906]\n",
      " [ 0.62902846 -0.60897071]\n",
      " [-0.91197106 -0.1363167 ]\n",
      " [-0.17360148 -0.66558232]\n",
      " [-0.02394625 -0.74112807]\n",
      " [-1.01352107 -0.08509933]\n",
      " [ 1.43454979  0.55093392]\n",
      " [ 1.21989176 -0.0910097 ]\n",
      " [ 1.30014408  0.06772407]\n",
      " [ 1.41531476  0.2422742 ]\n",
      " [ 0.42598303 -0.1785772 ]\n",
      " [ 1.39797606  0.2681109 ]\n",
      " [-0.79878588  0.1522638 ]\n",
      " [-0.98593735  0.02601824]\n",
      " [-0.54803757  0.47392399]\n",
      " [-0.81729635  0.05160568]]\n"
     ]
    }
   ],
   "source": [
    "print(f\"{W_2},\\n\\n{V_T},\\n\\n{X2D}\")\n"
   ]
  },
  {
   "cell_type": "code",
   "execution_count": 18,
   "metadata": {},
   "outputs": [],
   "source": [
    "X2D_using_svd = X2D"
   ]
  },
  {
   "cell_type": "markdown",
   "metadata": {},
   "source": [
    "## PCA using Scikit-Learn"
   ]
  },
  {
   "cell_type": "code",
   "execution_count": 19,
   "metadata": {},
   "outputs": [],
   "source": [
    "from sklearn.decomposition import PCA"
   ]
  },
  {
   "cell_type": "code",
   "execution_count": 20,
   "metadata": {},
   "outputs": [],
   "source": [
    "pca = PCA(n_components=2)\n",
    "X2D = pca.fit_transform(X)"
   ]
  },
  {
   "cell_type": "code",
   "execution_count": 21,
   "metadata": {},
   "outputs": [
    {
     "data": {
      "text/plain": [
       "array([[-0.76507398,  0.33168158],\n",
       "       [ 1.48265532, -0.57054673],\n",
       "       [ 1.0805771 ,  0.01921057],\n",
       "       [ 0.30232421,  0.60526476],\n",
       "       [-0.90513931, -0.18648104]])"
      ]
     },
     "execution_count": 21,
     "metadata": {},
     "output_type": "execute_result"
    }
   ],
   "source": [
    "X2D[:5]"
   ]
  },
  {
   "cell_type": "code",
   "execution_count": 22,
   "metadata": {},
   "outputs": [
    {
     "data": {
      "text/plain": [
       "array([[-0.76507398, -0.33168158],\n",
       "       [ 1.48265532,  0.57054673],\n",
       "       [ 1.0805771 , -0.01921057],\n",
       "       [ 0.30232421, -0.60526476],\n",
       "       [-0.90513931,  0.18648104]])"
      ]
     },
     "execution_count": 22,
     "metadata": {},
     "output_type": "execute_result"
    }
   ],
   "source": [
    "X2D_using_svd[:5]"
   ]
  },
  {
   "cell_type": "markdown",
   "metadata": {},
   "source": [
    "Notice that running PCA multiple times on slightly different datasets may result in different results. In general the only difference is that some axes may be flipped. In this example, PCA using Scikit-Learn gives the same projection as the one given by the SVD approach, except both axes are flipped:"
   ]
  },
  {
   "cell_type": "code",
   "execution_count": 23,
   "metadata": {},
   "outputs": [
    {
     "data": {
      "text/plain": [
       "False"
      ]
     },
     "execution_count": 23,
     "metadata": {},
     "output_type": "execute_result"
    }
   ],
   "source": [
    "np.allclose(X2D,-X2D_using_svd)"
   ]
  },
  {
   "cell_type": "code",
   "execution_count": 24,
   "metadata": {},
   "outputs": [],
   "source": [
    "X3D_inv = pca.inverse_transform(X2D)"
   ]
  },
  {
   "cell_type": "code",
   "execution_count": 25,
   "metadata": {},
   "outputs": [
    {
     "data": {
      "text/plain": [
       "False"
      ]
     },
     "execution_count": 25,
     "metadata": {},
     "output_type": "execute_result"
    }
   ],
   "source": [
    "np.allclose(X3D_inv,X)"
   ]
  },
  {
   "cell_type": "markdown",
   "metadata": {},
   "source": [
    "need more reading"
   ]
  },
  {
   "cell_type": "code",
   "execution_count": null,
   "metadata": {},
   "outputs": [],
   "source": []
  },
  {
   "cell_type": "code",
   "execution_count": null,
   "metadata": {},
   "outputs": [],
   "source": []
  },
  {
   "cell_type": "code",
   "execution_count": null,
   "metadata": {},
   "outputs": [],
   "source": []
  },
  {
   "cell_type": "code",
   "execution_count": null,
   "metadata": {},
   "outputs": [],
   "source": []
  },
  {
   "cell_type": "code",
   "execution_count": null,
   "metadata": {},
   "outputs": [],
   "source": []
  }
 ],
 "metadata": {
  "interpreter": {
   "hash": "79ced899a43f7df7e0b43ccfea1e449df2c094fe6ab014d9b4f5da5fe72ade41"
  },
  "kernelspec": {
   "display_name": "Python 3.9.7 64-bit ('p39': conda)",
   "name": "python3"
  },
  "language_info": {
   "codemirror_mode": {
    "name": "ipython",
    "version": 3
   },
   "file_extension": ".py",
   "mimetype": "text/x-python",
   "name": "python",
   "nbconvert_exporter": "python",
   "pygments_lexer": "ipython3",
   "version": "3.9.7"
  },
  "orig_nbformat": 4
 },
 "nbformat": 4,
 "nbformat_minor": 2
}
