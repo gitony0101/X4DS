{
 "cells": [
  {
   "cell_type": "code",
   "execution_count": null,
   "id": "d54bca98-57d2-4acf-9c5d-ef95f3402428",
   "metadata": {},
   "outputs": [],
   "source": []
  },
  {
   "cell_type": "code",
   "execution_count": null,
   "id": "954734be-e365-4143-86c5-53c6ab193681",
   "metadata": {},
   "outputs": [],
   "source": []
  },
  {
   "cell_type": "code",
   "execution_count": null,
   "id": "659870c1-c612-4dee-9069-010d321204b7",
   "metadata": {},
   "outputs": [],
   "source": []
  },
  {
   "cell_type": "markdown",
   "id": "8d05d349-8497-4c06-8ef5-d5b332940afd",
   "metadata": {},
   "source": [
    "\n",
    "MNIST\n",
    "本章将使用NfNIST数据集，这是一组由美国高中生和人口调查局员工手写的70000个数字的图片每张图像都用其代表的数字标记\n",
    "这个数据集被广为使用，因此也被称作是机器学习领域的“Hello World\"\n",
    "但凡有人想到了一个新的分类算法，都会想看看在MNIST上的执行结果\n",
    "因此只要是学习机器学习的人，早晚都要面对MNIST\n",
    "\n",
    "\n",
    "Scikit-Learn提供了许多辅助功能来帮助你下载常见的数据集\n",
    "sklearn.datasets提供了数据集加载工具\n",
    "\n",
    "根据所需数据集的类型，有三种数据集API接口:\n",
    "- . loaders可用来加载小的标准数据集,即玩具数据集\n",
    "- 。fetchers可用来下载并加载大的真实数据集,即真实世界中的数据集\n",
    "- generation functions它们可以用来生成受控的合成数据集(synthetic datasets),即人工合成的数据集"
   ]
  },
  {
   "cell_type": "code",
   "execution_count": null,
   "id": "0e8258e3-e9ec-4c1f-9c86-9de78d1e7c9b",
   "metadata": {},
   "outputs": [],
   "source": []
  },
  {
   "cell_type": "code",
   "execution_count": null,
   "id": "f3e78b70-d4e3-4f8b-9677-0be849526aeb",
   "metadata": {},
   "outputs": [],
   "source": []
  },
  {
   "cell_type": "code",
   "execution_count": null,
   "id": "b6fd717f-8583-4eec-b33d-ad57e7ff13a2",
   "metadata": {},
   "outputs": [],
   "source": []
  },
  {
   "cell_type": "code",
   "execution_count": null,
   "id": "9b2969fc-7ead-4e6d-b51b-26b5c76d5466",
   "metadata": {},
   "outputs": [],
   "source": []
  },
  {
   "cell_type": "code",
   "execution_count": null,
   "id": "652b29e6-03d8-4b48-a196-fdb2eab39e75",
   "metadata": {},
   "outputs": [],
   "source": []
  },
  {
   "cell_type": "markdown",
   "id": "0525ef8f-69ab-4699-ae87-50b45eccec30",
   "metadata": {},
   "source": [
    "带有SGD训练的线性分类器(SVM，逻辑回归等)\n",
    "该估计器通过随机梯度下降(SGD)学习实现正则化线性模型:\n",
    "一次估计每个样本的损失梯度，并随着强度进度表(即学习率)的降低而更新模型。SGD允许进行小批量学习\n",
    "为了使用默认学习率计划获得最佳结果，数据应具有零均值和单位方差\n",
    "下面使用SGDClassifier进行训练\n",
    "\n",
    "        class sklearn.linear model.SGDClassifier\n",
    "        class sklearn.linear_model.SGDClassifier(loss='hinge', penalty='l2', alpha=0.0001,l1_ratio=0.15,fit intercept=True,max_iter=1000,tol=0.001, shuffle=True, verbose=0, epsilon=0.1,n_jobs=None,random_state=None,\n",
    "        learning_ rate='optimal', eta0=0.0, power_t=0.5, early_stopping=False,validation fraction=0.1, n_iter_no_ change=5,class_ weight=None, warm start=False, average=False\n",
    "\n"
   ]
  },
  {
   "cell_type": "code",
   "execution_count": null,
   "id": "6b923350-40d5-4608-979f-a37816762f5a",
   "metadata": {},
   "outputs": [],
   "source": []
  },
  {
   "cell_type": "code",
   "execution_count": null,
   "id": "969d0e54-5225-4f05-90db-0140e129c257",
   "metadata": {},
   "outputs": [],
   "source": []
  },
  {
   "cell_type": "code",
   "execution_count": null,
   "id": "ee32fc06-03ae-4e6b-9116-c5991be92241",
   "metadata": {},
   "outputs": [],
   "source": []
  }
 ],
 "metadata": {
  "kernelspec": {
   "display_name": "p39",
   "language": "python",
   "name": "p39"
  },
  "language_info": {
   "codemirror_mode": {
    "name": "ipython",
    "version": 3
   },
   "file_extension": ".py",
   "mimetype": "text/x-python",
   "name": "python",
   "nbconvert_exporter": "python",
   "pygments_lexer": "ipython3",
   "version": "3.9.6"
  }
 },
 "nbformat": 4,
 "nbformat_minor": 5
}
