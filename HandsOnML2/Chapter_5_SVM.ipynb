{
 "cells": [
  {
   "cell_type": "markdown",
   "id": "d91e864e-5635-44b5-86a9-af6b4ff3b53f",
   "metadata": {},
   "source": [
    "# Support Vector Machines"
   ]
  },
  {
   "cell_type": "code",
   "execution_count": 1,
   "id": "6e9357ae-8cc3-40a9-937a-7dfa363b2daf",
   "metadata": {},
   "outputs": [],
   "source": [
    "import matplotlib.pyplot as plt\n",
    "import numpy as np\n",
    "import pandas as pd\n",
    "import seaborn as sns"
   ]
  },
  {
   "cell_type": "markdown",
   "id": "9ce4bf43-4461-433e-8531-9a92c577c411",
   "metadata": {},
   "source": [
    "## Large Margin Classification"
   ]
  },
  {
   "cell_type": "code",
   "execution_count": 2,
   "id": "0b7b9d74-1228-46b6-b4f8-8605dfc2267b",
   "metadata": {},
   "outputs": [],
   "source": [
    "from sklearn import datasets"
   ]
  },
  {
   "cell_type": "code",
   "execution_count": 3,
   "id": "4888cdf2-c8b9-4ee1-ad30-df1c32742ec0",
   "metadata": {},
   "outputs": [],
   "source": [
    "iris = datasets.load_iris()\n",
    "\n",
    "X = iris[\"data\"][:,(2,3)] # petal length, petal length\n",
    "y = iris[\"target\"]"
   ]
  },
  {
   "cell_type": "code",
   "execution_count": 5,
   "id": "72d041c5-7352-419d-9492-6c1384b413c2",
   "metadata": {},
   "outputs": [],
   "source": [
    "# y"
   ]
  },
  {
   "cell_type": "code",
   "execution_count": 6,
   "id": "9e7605a7-db99-4d0e-8669-3c91352012cf",
   "metadata": {},
   "outputs": [],
   "source": [
    "setosa_or_versicolor = (y == 0)|(y == 1)\n",
    "X = X[setosa_or_versicolor]\n",
    "y = y[setosa_or_versicolor]"
   ]
  },
  {
   "cell_type": "code",
   "execution_count": 9,
   "id": "2fe773ce-4094-4242-9c0e-8ba5ba211298",
   "metadata": {},
   "outputs": [],
   "source": [
    "from sklearn.svm import SVC"
   ]
  },
  {
   "cell_type": "code",
   "execution_count": 10,
   "id": "f080ee78-2bf6-4594-8671-f03bf17d0b1e",
   "metadata": {},
   "outputs": [
    {
     "data": {
      "text/plain": [
       "SVC(C=inf, kernel='linear')"
      ]
     },
     "execution_count": 10,
     "metadata": {},
     "output_type": "execute_result"
    }
   ],
   "source": [
    "# SVM Classifier Model\n",
    "svm_clf = SVC(kernel=\"linear\",C=float(\"inf\"))\n",
    "svm_clf.fit(X,y)"
   ]
  },
  {
   "cell_type": "markdown",
   "id": "4c34ff8d-c4c0-40a4-babd-5e568e12ed1d",
   "metadata": {},
   "source": [
    "Bad Models"
   ]
  },
  {
   "cell_type": "code",
   "execution_count": 11,
   "id": "98a12da7-6ec1-4002-9be5-c66ba9070591",
   "metadata": {},
   "outputs": [],
   "source": [
    "x0 = np.linspace(0,5.5,200)\n",
    "pred_1 = 5 * x0 - 20\n",
    "pred_2 = x0 - 1.8\n",
    "pred_3 = 0.1 * x0 + 0.5"
   ]
  },
  {
   "cell_type": "code",
   "execution_count": null,
   "id": "7244924a-8ad9-4984-b4b6-6161ca7ef2ef",
   "metadata": {},
   "outputs": [],
   "source": [
    "def plot_svc_decision_boundary(svm_clf,xmin,xmax,ax):\n",
    "    w = svm_clf.coef_[0]\n",
    "    b = svm_clf.intercept_[0]\n",
    "    \n",
    "    # At the decision boundary, w0*x0 + w1*x1 + b = 0\n",
    "    # => x1 = -w0/w1 * x0 - b/w1    \n",
    "    x0 = np.linspace(xmin,xmax,200)\n",
    "    decision_boundary = -w[0] / w[1] * x[0] - b/w[1]\n",
    "    \n",
    "    margin = 1/ w[1]\n",
    "    gutter_up = decision_boundary + margin\n",
    "    gutter_down = decision_boundary - margin\n",
    "    \n",
    "    svs = svm_clf.support_vectors_"
   ]
  },
  {
   "cell_type": "code",
   "execution_count": null,
   "id": "e57e2d0c-1ced-4f47-8158-82b8d49a8f86",
   "metadata": {},
   "outputs": [],
   "source": []
  },
  {
   "cell_type": "code",
   "execution_count": null,
   "id": "26b5892b-b40d-4051-95cf-bc3c9b7d526f",
   "metadata": {},
   "outputs": [],
   "source": []
  },
  {
   "cell_type": "code",
   "execution_count": null,
   "id": "6dafdbf4-9d76-408a-a6a1-5f9914913ca3",
   "metadata": {},
   "outputs": [],
   "source": []
  },
  {
   "cell_type": "code",
   "execution_count": null,
   "id": "f8d3e5b0-0c09-4050-832f-2a44b6215ede",
   "metadata": {},
   "outputs": [],
   "source": []
  },
  {
   "cell_type": "code",
   "execution_count": null,
   "id": "e9756278-fc96-4597-9b8a-4e7c7fd3d0b3",
   "metadata": {},
   "outputs": [],
   "source": []
  },
  {
   "cell_type": "code",
   "execution_count": null,
   "id": "fbf85789-7074-4b06-8814-8f6721a4c839",
   "metadata": {},
   "outputs": [],
   "source": []
  },
  {
   "cell_type": "code",
   "execution_count": null,
   "id": "eafaeb80-f1b9-4b40-acca-33364e8438bb",
   "metadata": {},
   "outputs": [],
   "source": []
  },
  {
   "cell_type": "code",
   "execution_count": null,
   "id": "1e375804-4421-4393-bb0d-5a1c8e8b5262",
   "metadata": {},
   "outputs": [],
   "source": []
  }
 ],
 "metadata": {
  "kernelspec": {
   "display_name": "Python 3 (ipykernel)",
   "language": "python",
   "name": "python3"
  },
  "language_info": {
   "codemirror_mode": {
    "name": "ipython",
    "version": 3
   },
   "file_extension": ".py",
   "mimetype": "text/x-python",
   "name": "python",
   "nbconvert_exporter": "python",
   "pygments_lexer": "ipython3",
   "version": "3.9.7"
  }
 },
 "nbformat": 4,
 "nbformat_minor": 5
}
