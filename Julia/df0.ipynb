{
 "cells": [
  {
   "cell_type": "code",
   "execution_count": 1,
   "metadata": {},
   "outputs": [
    {
     "data": {
      "text/plain": [
       "v\"1.6.3\""
      ]
     },
     "execution_count": 1,
     "metadata": {},
     "output_type": "execute_result"
    }
   ],
   "source": [
    "VERSION"
   ]
  },
  {
   "cell_type": "code",
   "execution_count": 2,
   "metadata": {},
   "outputs": [
    {
     "data": {
      "text/plain": [
       "2-element BitVector:\n",
       " 0\n",
       " 0"
      ]
     },
     "execution_count": 2,
     "metadata": {},
     "output_type": "execute_result"
    }
   ],
   "source": [
    "isfile.([\"Projet.toml\",\"Manifest.toml\"])"
   ]
  },
  {
   "cell_type": "code",
   "execution_count": 3,
   "metadata": {},
   "outputs": [
    {
     "name": "stdout",
     "output_type": "stream",
     "text": [
      "\u001b[32m\u001b[1m      Status\u001b[22m\u001b[39m `~/.julia/environments/v1.6/Project.toml`\n",
      " \u001b[90m [49dc2e85] \u001b[39mCalculus v0.5.1\n",
      " \u001b[90m [aaaa29a8] \u001b[39mClustering v0.14.2\n",
      " \u001b[90m [861a8166] \u001b[39mCombinatorics v1.0.2\n",
      " \u001b[90m [a93c6f00] \u001b[39mDataFrames v1.2.2\n",
      " \u001b[90m [864edb3b] \u001b[39mDataStructures v0.18.10\n",
      " \u001b[90m [0c46a032] \u001b[39mDifferentialEquations v6.19.0\n",
      " \u001b[90m [31c24e10] \u001b[39mDistributions v0.25.21\n",
      " \u001b[90m [587475ba] \u001b[39mFlux v0.12.7\n",
      " \u001b[90m [38e38edf] \u001b[39mGLM v1.5.1\n",
      " \u001b[90m [e9467ef8] \u001b[39mGLMakie v0.4.7\n",
      " \u001b[90m [a75be94c] \u001b[39mGalacticOptim v2.2.0\n",
      " \u001b[90m [09f84164] \u001b[39mHypothesisTests v0.10.4\n",
      " \u001b[90m [7073ff75] \u001b[39mIJulia v1.23.2\n",
      " \u001b[90m [652e05fd] \u001b[39mJuliaZH v1.6.0\n",
      " \u001b[90m [2b0e0bc5] \u001b[39mLanguageServer v4.1.0\n",
      " \u001b[90m [ff71e718] \u001b[39mMixedModels v4.4.0\n",
      " \u001b[90m [961ee093] \u001b[39mModelingToolkit v6.7.0\n",
      " \u001b[90m [6f286f6a] \u001b[39mMultivariateStats v0.8.0\n",
      " \u001b[90m [429524aa] \u001b[39mOptim v1.4.1\n",
      " \u001b[90m [f27b6e38] \u001b[39mPolynomials v2.0.17\n",
      " \u001b[90m [d330b81b] \u001b[39mPyPlot v2.10.0\n",
      " \u001b[90m [295af30f] \u001b[39mRevise v3.1.20\n",
      " \u001b[90m [276daf66] \u001b[39mSpecialFunctions v1.8.0\n",
      " \u001b[90m [2913bbd2] \u001b[39mStatsBase v0.33.12\n",
      " \u001b[90m [0c5d862f] \u001b[39mSymbolics v3.5.0\n",
      " \u001b[90m [9e3dc215] \u001b[39mTimeSeries v0.23.0\n"
     ]
    }
   ],
   "source": [
    "] status"
   ]
  },
  {
   "cell_type": "code",
   "execution_count": 4,
   "metadata": {},
   "outputs": [],
   "source": [
    "] instantiate"
   ]
  },
  {
   "cell_type": "markdown",
   "metadata": {},
   "source": []
  },
  {
   "cell_type": "code",
   "execution_count": null,
   "metadata": {},
   "outputs": [],
   "source": []
  },
  {
   "cell_type": "code",
   "execution_count": null,
   "metadata": {},
   "outputs": [],
   "source": []
  },
  {
   "cell_type": "code",
   "execution_count": null,
   "metadata": {},
   "outputs": [],
   "source": []
  },
  {
   "cell_type": "code",
   "execution_count": null,
   "metadata": {},
   "outputs": [],
   "source": []
  },
  {
   "cell_type": "code",
   "execution_count": null,
   "metadata": {},
   "outputs": [],
   "source": []
  }
 ],
 "metadata": {
  "kernelspec": {
   "display_name": "Julia 1.6.3",
   "language": "julia",
   "name": "julia-1.6"
  },
  "language_info": {
   "file_extension": ".jl",
   "mimetype": "application/julia",
   "name": "julia",
   "version": "1.6.3"
  }
 },
 "nbformat": 4,
 "nbformat_minor": 4
}
