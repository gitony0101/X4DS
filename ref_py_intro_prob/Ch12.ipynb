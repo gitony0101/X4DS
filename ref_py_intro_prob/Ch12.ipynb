{
 "cells": [
  {
   "cell_type": "markdown",
   "source": [
    "# Chapter 12: Markov Chain Monte Carlo\n",
    " \n",
    "This Jupyter notebook is the Python equivalent of the R code in section 12.4 R, pp. 512 - 517, [Introduction to Probability, 2nd Edition](https://www.crcpress.com/Introduction-to-Probability-Second-Edition/Blitzstein-Hwang/p/book/9781138369917), Blitzstein & Hwang.\n",
    "\n",
    "----"
   ],
   "metadata": {}
  },
  {
   "cell_type": "code",
   "execution_count": 1,
   "source": [
    "import matplotlib.pyplot as plt\n",
    "import numpy as np\n",
    "\n",
    "%matplotlib inline"
   ],
   "outputs": [],
   "metadata": {}
  },
  {
   "cell_type": "markdown",
   "source": [
    "## Metropolis-Hastings\n",
    "\n",
    "Here's how to implement the Metropolis-Hastings algorithm for Example 12.1.8, the Normal-Normal model. First, we choose our observed value of $Y$ and decide on values for the constants $\\sigma$, $\\mu$, and $\\tau$:"
   ],
   "metadata": {}
  },
  {
   "cell_type": "code",
   "execution_count": 2,
   "source": [
    "y = 3\n",
    "sigma = 1\n",
    "mu = 0\n",
    "tau = 2"
   ],
   "outputs": [],
   "metadata": {}
  },
  {
   "cell_type": "markdown",
   "source": [
    "We also need to choose the standard deviation of the proposals for step 1 of the algorithm, as explained in Example 12.1.8; for this problem, we let $d = 1$. We set the number of iterations to run, and we allocate a NumPy array `theta` of length 10<sup>4</sup> which we will fill with our simulated draws:"
   ],
   "metadata": {}
  },
  {
   "cell_type": "code",
   "execution_count": 3,
   "source": [
    "d = 1\n",
    "niter = 10**4\n",
    "theta = np.zeros(niter)"
   ],
   "outputs": [],
   "metadata": {}
  },
  {
   "cell_type": "markdown",
   "source": [
    "Now for the main loop. We initialize $\\theta$ to the observed value $y$, then run the algorithm described in Example 12.1.8:"
   ],
   "metadata": {}
  },
  {
   "cell_type": "code",
   "execution_count": 4,
   "source": [
    "theta[0] = y\n",
    "\n",
    "np.random.seed(1134903170)\n",
    "\n",
    "from scipy.stats import binom, norm\n",
    "\n",
    "for i in range(1, niter):\n",
    "    theta_p = theta[i-1] + norm.rvs(loc=mu, scale=2, size=1)[0]\n",
    "    numer = norm.pdf(y, loc=theta_p, scale=sigma) * norm.pdf(theta_p, loc=mu, scale=tau)\n",
    "    denom = norm.pdf(y, loc=theta[i-1], scale=sigma) * norm.pdf(theta[i-1], loc=mu, scale=tau)\n",
    "    r = numer / denom\n",
    "    flip = binom.rvs(1, np.min([r, 1]), size=1)[0]\n",
    "    theta[i] = theta_p if flip==1 else theta[i-1]"
   ],
   "outputs": [],
   "metadata": {}
  },
  {
   "cell_type": "markdown",
   "source": [
    "Let's step through each line inside the loop. The proposed value of $\\theta$ is `theta_p`, which equals the previous value of $\\theta$ plus a Normal random variable with mean 0 and standard deviation $d$ (recall that [`scipy.stats.norm.rvs`](https://docs.scipy.org/doc/scipy/reference/generated/scipy.stats.norm.html) function takes as parameter `scale` the standard deviation and _not_ the variance). The ratio `r` is\n",
    "\n",
    "$$\n",
    "\\begin{align}\n",
    "  \\frac{f_{\\theta|Y}(x^{\\prime}|y)}{f_{\\theta|Y}(x|y)} &= \\frac{e^{-\\frac{1}{2 \\, \\sigma^2}(y-x^{\\prime})^2} \\,\\, e^{-\\frac{1}{2 \\, \\tau^2}(x^{\\prime}-\\mu)^2}}{e^{-\\frac{1}{2 \\, \\sigma^2}(y-x)^2} \\,\\, e^{-\\frac{1}{2 \\, \\tau^2}(x-\\mu)^2}}\n",
    "\\end{align}\n",
    "$$\n",
    "\n",
    "where `theta_p` is playing the role of $x^{\\prime}$ and `theta[i-1]` is playing the role of $x$. The coin flip to determine whether to accept or reject the proposal is `flip`, which is a coin flip with probability `numpy.min([r, 1])` of Heads (encoding Heads as 1 and Tails as 0). Finally, we set `theta[i]` equal to the proposed value if the coin flip lands Heads, or keep it at the previous value otherwise.\n",
    "\n",
    "The array `theta` now contains all of our simulation draws. We typically discard some of the initial draws to give the chain some time to approach the stationary distribution. The following line of code discards the first half of the draws:"
   ],
   "metadata": {}
  },
  {
   "cell_type": "code",
   "execution_count": 5,
   "source": [
    "theta = theta[-int(niter/2):]"
   ],
   "outputs": [],
   "metadata": {}
  },
  {
   "cell_type": "markdown",
   "source": [
    "To see what the remaining draws look like, we can create a histogram using [`matplotlib.axes.Axes.hist`](https://matplotlib.org/api/_as_gen/matplotlib.axes.Axes.hist.html) function. We can also compute summary statistics such as `numpy.mean(theta)` and `numpy.var(theta)`, which give us the sample mean and sample variance."
   ],
   "metadata": {}
  },
  {
   "cell_type": "code",
   "execution_count": 6,
   "source": [
    "_, ax = plt.subplots(figsize=(8, 5))\n",
    "\n",
    "ax.hist(theta, bins=16)\n",
    "\n",
    "ax.set_xlabel(r'$\\theta$')\n",
    "ax.set_ylabel(r'Frequency')\n",
    "ax.set_title(r'Metropolis-Hastings: Histogram of posterior distribution of $\\theta | Y=3$')\n",
    "\n",
    "plt.show()"
   ],
   "outputs": [
    {
     "output_type": "display_data",
     "data": {
      "text/plain": [
       "<Figure size 576x360 with 1 Axes>"
      ],
      "image/png": "[encoded data removed]"
     },
     "metadata": {
      "needs_background": "light"
     }
    }
   ],
   "metadata": {}
  },
  {
   "cell_type": "code",
   "execution_count": 7,
   "source": [
    "sample_mean = np.mean(theta)\n",
    "print('sample mean = {}'.format(sample_mean))\n",
    "\n",
    "sample_var = np.var(theta, ddof=1)\n",
    "print('sample var = {}'.format(sample_var))"
   ],
   "outputs": [
    {
     "output_type": "stream",
     "name": "stdout",
     "text": [
      "sample mean = 2.3538455429726186\n",
      "sample var = 0.8442196578144929\n"
     ]
    }
   ],
   "metadata": {}
  },
  {
   "cell_type": "markdown",
   "source": [
    "## Gibbs\n",
    "\n",
    "Now let's implement Gibbs sampling for Example 12.2.6, the chicken-egg problem with unknown hatching probability and invisible unhatched eggs. The first step is to decide on our observed value of $X$, as well as the constants $\\lambda$, $a$, $b$:"
   ],
   "metadata": {}
  },
  {
   "cell_type": "code",
   "execution_count": 8,
   "source": [
    "x = 7\n",
    "# 'lambda' is a reserved keyword in Python!\n",
    "lambd = 10 \n",
    "a = 1 \n",
    "b = 1"
   ],
   "outputs": [],
   "metadata": {}
  },
  {
   "cell_type": "markdown",
   "source": [
    "Next we decide how many iterations to run, and we allocate space for our results, creating two NumPy arrays `p` and `N` of length 10<sup>4</sup> which we will fill with our simulated draws:"
   ],
   "metadata": {}
  },
  {
   "cell_type": "code",
   "execution_count": 9,
   "source": [
    "niter = 10**4 \n",
    "p = np.zeros(niter) \n",
    "N = np.zeros(niter)"
   ],
   "outputs": [],
   "metadata": {}
  },
  {
   "cell_type": "markdown",
   "source": [
    "Finally, we're ready to run the Gibbs sampler. We initialize `p` and `N` to the values 0.5 and $2x$, respectively, and then we run the algorithm as explained in Example 12.2.6:"
   ],
   "metadata": {}
  },
  {
   "cell_type": "code",
   "execution_count": 10,
   "source": [
    "p[0] = 0.5 \n",
    "N[0] = 2*x\n",
    "\n",
    "np.random.seed(1836311903)\n",
    "\n",
    "from scipy.stats import beta, poisson\n",
    " \n",
    "for i in range(1, niter):\n",
    "    p[i] = beta.rvs(x+b, N[i-1]-x+b, size=1)[0]\n",
    "    N[i] = x + poisson.rvs(lambd*(1-p[i-1]), size=1)[0]"
   ],
   "outputs": [],
   "metadata": {}
  },
  {
   "cell_type": "markdown",
   "source": [
    "Again, we discard the initial draws:"
   ],
   "metadata": {}
  },
  {
   "cell_type": "code",
   "execution_count": 11,
   "source": [
    "p = p[-int(niter/2):]\n",
    "N = N[-int(niter/2):]"
   ],
   "outputs": [],
   "metadata": {}
  },
  {
   "cell_type": "markdown",
   "source": [
    "To see what the remaining draws look like, we can make histograms using `Axes.hist(p)` and `Axes.hist(N)`, which will result in graphs similar to those R-generated ones in Figure 12.5. We can also compute summary statistics such as `numpy.mean(p)` or `numpy.median(p)`."
   ],
   "metadata": {}
  },
  {
   "cell_type": "code",
   "execution_count": 12,
   "source": [
    "_, (ax1, ax2) = plt.subplots(1, 2, figsize=(14, 6))\n",
    "\n",
    "# graph for hist(p)\n",
    "ax1.hist(p, bins=16)\n",
    "ax1.set_xlim((0,1))\n",
    "ax1.set_xlabel(r'$x$')\n",
    "ax1.set_ylabel('Frequency')\n",
    "ax1.set_title(r'Histogram of $p$')\n",
    "\n",
    "# graph for hist(N)\n",
    "ax2.hist(N, bins=16)\n",
    "ax2.set_xticks(range(0,35,5))\n",
    "ax2.set_xlabel(r'$N$')\n",
    "ax2.set_ylabel('Frequency')\n",
    "ax2.set_title(r'Histogram of $N$')\n",
    "\n",
    "plt.suptitle(r'Gibbs: Histograms of posterior distributions $p$ and $N$')\n",
    "\n",
    "plt.show()"
   ],
   "outputs": [
    {
     "output_type": "display_data",
     "data": {
      "text/plain": [
       "<Figure size 1008x432 with 2 Axes>"
      ],
      "image/png": "[encoded data removed]"
     },
     "metadata": {
      "needs_background": "light"
     }
    }
   ],
   "metadata": {}
  },
  {
   "cell_type": "code",
   "execution_count": 13,
   "source": [
    "mean_p = np.mean(p)\n",
    "print('mean of p = {}'.format(mean_p))\n",
    "\n",
    "med_p = np.median(p)\n",
    "print('median of p = {}'.format(med_p))"
   ],
   "outputs": [
    {
     "output_type": "stream",
     "name": "stdout",
     "text": [
      "mean of p = 0.6822187872541091\n",
      "median of p = 0.6921336843178136\n"
     ]
    }
   ],
   "metadata": {}
  },
  {
   "cell_type": "markdown",
   "source": [
    "----\n",
    "\n",
    "Joseph K. Blitzstein and Jessica Hwang, Harvard University and Stanford University, &copy; 2019 by Taylor and Francis Group, LLC"
   ],
   "metadata": {}
  }
 ],
 "metadata": {
  "kernelspec": {
   "name": "python3",
   "display_name": "Python 3.9.6 64-bit ('p39': conda)"
  },
  "language_info": {
   "codemirror_mode": {
    "name": "ipython",
    "version": 3
   },
   "file_extension": ".py",
   "mimetype": "text/x-python",
   "name": "python",
   "nbconvert_exporter": "python",
   "pygments_lexer": "ipython3",
   "version": "3.9.6"
  },
  "notebook_info": {
   "author": "Joseph K. Blitzstein, Jessica Hwang",
   "chapter": "12. Markov Chain Monte Carlo",
   "creator": "buruzaemon",
   "section": "12.4",
   "title": "Introduction to Probability, 1st Edition"
  },
  "interpreter": {
   "hash": "ff2e645ef952f1284ebef59edbc19ad3cff03e6406671d2dab1ca7ad9588368d"
  }
 },
 "nbformat": 4,
 "nbformat_minor": 2
}