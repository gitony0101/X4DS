{
 "cells": [
  {
   "cell_type": "markdown",
   "metadata": {},
   "source": [
    "# Chapter 2: Conditional probability\n",
    " \n",
    "This Jupyter notebook is the Python equivalent of the R code in section 2.10 R, pp. 80 - 83, [Introduction to Probability, Second Edition](https://www.crcpress.com/Introduction-to-Probability-Second-Edition/Blitzstein-Hwang/p/book/9781138369917), Blitzstein & Hwang.\n",
    "\n",
    "----"
   ]
  },
  {
   "cell_type": "code",
   "execution_count": 1,
   "metadata": {},
   "outputs": [],
   "source": [
    "import numpy as np"
   ]
  },
  {
   "cell_type": "markdown",
   "metadata": {},
   "source": [
    "## Simulating the frequentist interpretation \n",
    "\n",
    "Recall that the frequentist interpretation of conditional probability based on a large number `n` of repetitions of an experiment is $P(A|B) ≈ n_{AB}/n_{B}$, where $n_{AB}$ is the number of times that $A \\cap B$ occurs and $n_{B}$ is the number of times that $B$ occurs. Let's try this out by simulation, and verify the results of Example 2.2.5. So let's use [`numpy.random.choice`](https://docs.scipy.org/doc/numpy-1.15.0/reference/generated/numpy.random.choice.html) to simulate `n` families, each with two children."
   ]
  },
  {
   "cell_type": "code",
   "execution_count": 2,
   "metadata": {},
   "outputs": [
    {
     "name": "stdout",
     "output_type": "stream",
     "text": [
      "child1:\n",
      "[2 1 1 ... 1 2 1]\n",
      "\n",
      "child2:\n",
      "[2 2 2 ... 2 2 1]\n",
      "\n"
     ]
    }
   ],
   "source": [
    "np.random.seed(34)\n",
    "\n",
    "n = 10**5\n",
    "child1 = np.random.choice([1,2], n, replace=True) \n",
    "child2 = np.random.choice([1,2], n, replace=True) \n",
    "\n",
    "print('child1:\\n{}\\n'.format(child1))\n",
    "\n",
    "print('child2:\\n{}\\n'.format(child2))"
   ]
  },
  {
   "cell_type": "markdown",
   "metadata": {},
   "source": [
    "Here `child1` is a NumPy `array` of length `n`, where each element is a 1 or a 2. Letting 1 stand for \"girl\" and 2 stand for \"boy\", this `array` represents the gender of the elder child in each of the `n` families. Similarly, `child2` represents the gender of the younger child in each family. \n",
    "\n",
    "Alternatively, we could have used"
   ]
  },
  {
   "cell_type": "code",
   "execution_count": 3,
   "metadata": {},
   "outputs": [
    {
     "data": {
      "text/plain": [
       "array(['boy', 'boy', 'boy', ..., 'boy', 'boy', 'boy'], dtype='<U4')"
      ]
     },
     "execution_count": 3,
     "metadata": {},
     "output_type": "execute_result"
    }
   ],
   "source": [
    "np.random.choice([\"girl\", \"boy\"], n, replace=True)"
   ]
  },
  {
   "cell_type": "markdown",
   "metadata": {},
   "source": [
    "but it is more convenient working with numerical values.\n",
    "\n",
    "Let $A$ be the event that both children are girls and $B$ the event that the elder is a girl. Following the frequentist interpretation, we count the number of repetitions where $B$ occurred and name it `n_b`, and we also count the number of repetitions where $A \\cap B$ occurred and name it `n_ab`. Finally, we divide `n_ab` by ` n_b` to approximate $P(A|B)$."
   ]
  },
  {
   "cell_type": "code",
   "execution_count": 4,
   "metadata": {},
   "outputs": [
    {
     "name": "stdout",
     "output_type": "stream",
     "text": [
      "P(both girls | elder is girl) = 0.50\n"
     ]
    }
   ],
   "source": [
    "n_b = np.sum(child1==1)\n",
    "n_ab = np.sum((child1==1) & (child2==1))\n",
    "\n",
    "print('P(both girls | elder is girl) = {:0.2F}'.format(n_ab / n_b))"
   ]
  },
  {
   "cell_type": "markdown",
   "metadata": {},
   "source": [
    "The ampersand `&` is an elementwise $AND$, so `n_ab` is the number of families where both the first child and the second child are girls. When we ran this code, we got 0.50, confirming our answer $P(\\text{both girls | elder is a girl}) = 1/2$. \n",
    "\n",
    "Now let $A$ be the event that both children are girls and $B$ the event that at least one of the children is a girl. Then $A \\cap B$ is the same, but `n_b` needs to count the number of families where at least one child is a girl. This is accomplished with the elementwise $OR$ operator `|` (this is not a conditioning bar; it is an inclusive $OR$, returning `True` if at least one element is `True`)."
   ]
  },
  {
   "cell_type": "code",
   "execution_count": 5,
   "metadata": {},
   "outputs": [
    {
     "name": "stdout",
     "output_type": "stream",
     "text": [
      "P(both girls | at least one girl) = 0.33\n"
     ]
    }
   ],
   "source": [
    "n_b = np.sum((child1==1) | (child2==2))\n",
    "n_ab = np.sum((child1==1) & (child2==1))\n",
    "\n",
    "print('P(both girls | at least one girl) = {:0.2F}'.format(n_ab / n_b))"
   ]
  },
  {
   "cell_type": "markdown",
   "metadata": {},
   "source": [
    "For us, the result was 0.33, confirming that $P(\\text{both girls | at least one girl}) = 1/3$."
   ]
  },
  {
   "cell_type": "markdown",
   "metadata": {},
   "source": [
    "## Monty Hall simulation\n",
    "\n",
    "Many long, bitter debates about the Monty Hall problem could have been averted by trying it out with a simulation. To study how well the never-switch strategy performs, let's generate 10<sup>5</sup> runs of the Monty Hall game. To simplify notation, assume the contestant always chooses door 1. Then we can generate a vector specifying which door has the car for each repetition:\n"
   ]
  },
  {
   "cell_type": "code",
   "execution_count": 6,
   "metadata": {},
   "outputs": [
    {
     "name": "stdout",
     "output_type": "stream",
     "text": [
      "The never-switch strategy has success rate 0.331\n"
     ]
    }
   ],
   "source": [
    "np.random.seed(55)\n",
    "\n",
    "n = 10**5\n",
    "cardoor = np.random.choice([1,2,3] , n, replace=True)\n",
    "\n",
    "print('The never-switch strategy has success rate {:.3F}'.format(np.sum(cardoor==1) / n))"
   ]
  },
  {
   "cell_type": "markdown",
   "metadata": {},
   "source": [
    "At this point we could generate the vector specifying which doors Monty opens, but that's unnecessary since the never-switch strategy succeeds if and only if door 1 has the car! So the fraction of times when the never-switch strategy succeeds is `numpy.sum(cardoor==1)/n`, which was 0.331in our simulation. This is very close to 1/3.\n",
    "\n",
    "What if we want to play the Monty Hall game interactively? We can do this by programming a Python class that would let us play interactively or let us run a simulation across many trials."
   ]
  },
  {
   "cell_type": "code",
   "execution_count": 7,
   "metadata": {},
   "outputs": [],
   "source": [
    "class Monty():\n",
    "    \n",
    "    def __init__(self):\n",
    "        \"\"\" Object creation function. \"\"\"\n",
    "        self.state = 0\n",
    "        self.doors = np.array([1, 2, 3])\n",
    "        self.prepare_game()\n",
    "\n",
    "    def get_success_rate(self):\n",
    "        \"\"\" Return the rate of success in this series of plays: num. wins / num. plays. \"\"\"\n",
    "        if self.num_plays > 0:\n",
    "            return 1.0*self.num_wins / self.num_plays\n",
    "        else:\n",
    "            return 0.0\n",
    "\n",
    "    def prepare_game(self):\n",
    "        \"\"\" Prepare initial values for game play, and randonly choose the door with the car. \"\"\"\n",
    "        self.num_plays = 0\n",
    "        self.num_wins = 0\n",
    "        self.cardoor = np.random.choice(self.doors)\n",
    "        self.players_choice = None\n",
    "        self.montys_choice = None\n",
    "       \n",
    "    def choose_door(self, door):\n",
    "        \"\"\" Player chooses a door at state 0. Monty will choose a remaining door to reveal a goat. \"\"\"\n",
    "        self.state = 1\n",
    "        self.players_choice = door\n",
    "        self.montys_choice = np.random.choice(self.doors[(self.doors!=self.players_choice) & (self.doors!=self.cardoor)])\n",
    "        \n",
    "    def switch_door(self, do_switch):\n",
    "        \"\"\" Player has the option to switch from the door she has chosen to the remaining unopened door. \n",
    "        \n",
    "            If the door the player has selected is the same as the cardoor, then num. of wins is incremented.\n",
    "            \n",
    "            Finally, number of plays will be incremented.\n",
    "        \"\"\"\n",
    "        self.state = 2\n",
    "        if do_switch:\n",
    "            self.players_choice = self.doors[(self.doors!=self.players_choice) & (self.doors!=self.montys_choice)][0]\n",
    "        if self.players_choice == self.cardoor:\n",
    "            self.num_wins += 1\n",
    "        self.num_plays += 1\n",
    "        \n",
    "    def continue_play(self):\n",
    "        \"\"\" Player opts to continue playing in this series. \n",
    "        \n",
    "            The game is returned to state 0, but the counters for num. wins and num. plays\n",
    "            will be kept intact and running.\n",
    "            \n",
    "            A new cardoor is randomly chosen.\n",
    "        \"\"\"\n",
    "        self.state = 0\n",
    "        self.cardoor = np.random.choice(self.doors)\n",
    "        self.players_choice = None\n",
    "        self.montys_choice = None\n",
    "            \n",
    "    def reset(self):\n",
    "        \"\"\" The entire game state is returned to its initial state. \n",
    "        \n",
    "            All counters and variable holdling state are re-initialized.\n",
    "        \"\"\"\n",
    "        self.state = 0\n",
    "        self.prepare_game()"
   ]
  },
  {
   "cell_type": "markdown",
   "metadata": {},
   "source": [
    "In brief:\n",
    "* The `Monty` class represents a simple state model for the game.\n",
    "* When an instance of the `Monty` game is created, game state-holding variables are initialized and a `cardoor` randomly chosen.\n",
    "* After the player initially picks a door, `Monty` will choose a remaining door that does not have car behind it.\n",
    "* The player can then choose to switch to the other, remaining unopened door, or stick with her initial choice.\n",
    "* `Monty` will then see if the player wins or not, and updates the state-holding variables for num. wins and num. plays.\n",
    "* The player can continue playing, or stop and reset the game to its original state.\n",
    "\n",
    "### As a short simulation program\n",
    "\n",
    "Here is an example showing how to use the `Monty` class above to run a simulation to see how often the switching strategy succeeds."
   ]
  },
  {
   "cell_type": "code",
   "execution_count": 8,
   "metadata": {},
   "outputs": [
    {
     "name": "stdout",
     "output_type": "stream",
     "text": [
      "In 100000 trials, the switching strategy won 66730 times.\n",
      "Success rate is 0.667\n"
     ]
    }
   ],
   "source": [
    "np.random.seed(89)\n",
    "\n",
    "trials = 10**5\n",
    "\n",
    "game = Monty()\n",
    "for _ in range(trials):\n",
    "    game.choose_door(np.random.choice([1,2,3]))\n",
    "    game.switch_door(True)\n",
    "    game.continue_play()\n",
    "\n",
    "print('In {} trials, the switching strategy won {} times.'.format(game.num_plays, game.num_wins))\n",
    "print('Success rate is {:.3f}'.format(game.get_success_rate()))"
   ]
  },
  {
   "cell_type": "markdown",
   "metadata": {},
   "source": [
    "### As an interactive widget in this Jupyter notebook\n",
    "\n",
    "Optionally, the `Monty` Python class above can also be used as an engine to power an interactive widget that lets you play the three-door game _in the browser_ using [`ipywidgets` ](https://ipywidgets.readthedocs.io/en/stable/user_guide.html).\n",
    "\n",
    "To run the interactive widget, make sure you have the `ipywidgets` package installed (v7.4.2 or greater).\n",
    "\n",
    "To install with the `conda` package manager, execute the following command:\n",
    "\n",
    "    conda install ipywidgets\n",
    "\n",
    "To install with the `pip` package manager, execute the following command:\n",
    "\n",
    "    pip install ipywidgets"
   ]
  },
  {
   "cell_type": "code",
   "execution_count": 9,
   "metadata": {},
   "outputs": [],
   "source": [
    "from ipywidgets import Box, Button, ButtonStyle, FloatText, GridBox, IntText, Label, Layout, HBox\n",
    "from IPython.display import display"
   ]
  },
  {
   "cell_type": "markdown",
   "metadata": {},
   "source": [
    "The doors in the game are represented by [`ipywidgets.Button`](https://ipywidgets.readthedocs.io/en/stable/examples/Widget%20List.html#Button)."
   ]
  },
  {
   "cell_type": "code",
   "execution_count": 10,
   "metadata": {},
   "outputs": [],
   "source": [
    "door1  = Button(description='Door 1', layout=Layout(flex='1 1 auto', width='auto'))\n",
    "door2  = Button(description='Door 2', layout=door1.layout)\n",
    "door3  = Button(description='Door 3', layout=door1.layout)\n",
    "doors_arr = [door1, door2, door3]\n",
    "doors  = Box(doors_arr, layout=Layout(width='auto', grid_area='doors'))"
   ]
  },
  {
   "cell_type": "markdown",
   "metadata": {},
   "source": [
    "State-holding variables in the `Monty` object are displayed using [`ipywidgets.IntText`](https://ipywidgets.readthedocs.io/en/stable/examples/Widget%20List.html#IntText) (for the `num_wins` and `num_plays`); and [`ipywidgets.FloatText`](https://ipywidgets.readthedocs.io/en/stable/examples/Widget%20List.html#FloatText) (for the success rate)."
   ]
  },
  {
   "cell_type": "code",
   "execution_count": 11,
   "metadata": {},
   "outputs": [],
   "source": [
    "label1 = Label(value='number of plays', layout=Layout(width='auto', grid_area='label1'))\n",
    "text1  = IntText(disabled=True, layout=Layout(width='auto', grid_area='text1'))\n",
    "\n",
    "label2 = Label(value='number of wins', layout=Layout(width='auto', grid_area='label2'))\n",
    "text2  = IntText(disabled=True, layout=Layout(width='auto', grid_area='text2'))\n",
    "\n",
    "label3 = Label(value='success rate', layout=Layout(width='auto', grid_area='label3'))\n",
    "text3  = FloatText(disabled=True, layout=Layout(width='auto', grid_area='text3'))"
   ]
  },
  {
   "cell_type": "markdown",
   "metadata": {},
   "source": [
    "[`ipywidgets.Label`](https://ipywidgets.readthedocs.io/en/stable/examples/Widget%20List.html#Label) is used to display the title and descriptive text in the game widget."
   ]
  },
  {
   "cell_type": "code",
   "execution_count": 12,
   "metadata": {},
   "outputs": [],
   "source": [
    "banner = Box([Label(value='Interactive widget: Monty Hall problem', \n",
    "                    layout=Layout(width='50%'))], \n",
    "             layout=Layout(width='auto', justify_content='center', grid_area='banner'))\n",
    "\n",
    "status = Label(value='Pick a door...', layout=Layout(width='auto', grid_area='status'))"
   ]
  },
  {
   "cell_type": "markdown",
   "metadata": {},
   "source": [
    "Buttons allowing for further user actions are located at the bottom of the widget.\n",
    "\n",
    "* The `reveal` button is used to show what's behind all of the doors after the player makes her final choice.\n",
    "* After the player completes a round of play, she can click the `continue` button to keep counting game state (num. wins and num. plays)\n",
    "* The `reset` button lets the player return the game to its original state after completing a round of play."
   ]
  },
  {
   "cell_type": "code",
   "execution_count": 13,
   "metadata": {},
   "outputs": [],
   "source": [
    "button_layout = Layout(flex='1 1 auto', width='auto')\n",
    "reveal = Button(description='reveal', tooltip='open selected door', layout=button_layout, disabled=True)\n",
    "contin = Button(description='continue', tooltip='continue play', layout=button_layout, disabled=True)\n",
    "reset  = Button(description='reset', tooltip='reset game', layout=button_layout, disabled=True)\n",
    "actions  = Box([reveal, contin, reset], layout=Layout(width='auto', grid_area='actions'))"
   ]
  },
  {
   "cell_type": "markdown",
   "metadata": {},
   "source": [
    "[`ipywidgets.GridBox`](https://ipywidgets.readthedocs.io/en/stable/examples/Widget%20Styling.html#The-Grid-layout) helps us lay out the user interface elements for the `Monty` game widget."
   ]
  },
  {
   "cell_type": "code",
   "execution_count": 14,
   "metadata": {},
   "outputs": [],
   "source": [
    "ui = GridBox(children=[banner, doors, label1, text1, label2, text2, label3, text3, status, actions],\n",
    "        layout=Layout(\n",
    "            width='50%',\n",
    "            grid_template_rows='auto auto auto auto auto auto auto',\n",
    "            grid_template_columns='25% 25% 25% 25%',\n",
    "            grid_template_areas='''\n",
    "                \"banner banner banner banner\"\n",
    "                \"doors doors doors doors\"\n",
    "                \"label1 label1 text1 text1\"\n",
    "                \"label2 label2 text2 text2\"\n",
    "                \"label3 label3 text3 text3\"\n",
    "                \"status status status status\"\n",
    "                \". . actions actions\"\n",
    "            '''\n",
    "        )\n",
    ")"
   ]
  },
  {
   "cell_type": "markdown",
   "metadata": {},
   "source": [
    "We lastly create some functions to connect the widget to the `Monty` game object. These functions adapt player action [events](https://ipywidgets.readthedocs.io/en/stable/examples/Widget%20Events.html#Example) to state changes in the `Monty` object, and then update the widget user interface accordingly."
   ]
  },
  {
   "cell_type": "code",
   "execution_count": 15,
   "metadata": {
    "scrolled": true
   },
   "outputs": [
    {
     "data": {
      "application/vnd.jupyter.widget-view+json": {
       "model_id": "ae26198672d04e3ab9da9b5be6e1f2f6",
       "version_major": 2,
       "version_minor": 0
      },
      "text/plain": [
       "GridBox(children=(Box(children=(Label(value='Interactive widget: Monty Hall problem', layout=Layout(width='50%…"
      ]
     },
     "metadata": {},
     "output_type": "display_data"
    }
   ],
   "source": [
    "uigame = Monty()\n",
    "\n",
    "def reset_ui(disable_reset=True):\n",
    "    \"\"\" Return widget elements to their initial state.\n",
    "        Do not disable the reset button in the case of continue.\n",
    "    \"\"\"\n",
    "    for i,d in enumerate(doors_arr):\n",
    "        d.description = 'Door {}'.format(i+1)\n",
    "        d.disabled = False\n",
    "        d.icon = ''\n",
    "        d.button_style = ''\n",
    "            \n",
    "    reveal.disabled = True\n",
    "    contin.disabled = True\n",
    "    reset.disabled = disable_reset\n",
    "    \n",
    "def update_status(new_status):\n",
    "    \"\"\" Update the widget text fields for displaying present game status. \"\"\"\n",
    "    text1.value = uigame.num_plays\n",
    "    text2.value = uigame.num_wins\n",
    "    text3.value = uigame.get_success_rate()\n",
    "    status.value = new_status\n",
    "    \n",
    "def update_ui_reveal():\n",
    "    \"\"\" Helper function to update the widget after the player clicks the reveal button. \"\"\"\n",
    "    if uigame.players_choice == uigame.cardoor:\n",
    "        new_status = 'You win! Continue playing?'\n",
    "    else:\n",
    "        new_status = 'Sorry, you lose. Continue playing?'\n",
    "\n",
    "    for i,d in enumerate(doors_arr):\n",
    "        d.disabled = True\n",
    "        if uigame.cardoor == i+1:\n",
    "            d.description = 'car'\n",
    "        else:\n",
    "            d.description = 'goat'\n",
    "        if uigame.players_choice == i+1:\n",
    "            if uigame.players_choice == uigame.cardoor:\n",
    "                d.button_style = 'success'   \n",
    "                d.icon = 'check'\n",
    "            else:\n",
    "                d.button_style = 'danger' \n",
    "                d.icon = 'times'\n",
    "    update_status(new_status)\n",
    "    reveal.disabled = True\n",
    "    contin.disabled = False\n",
    "    reset.disabled = False    \n",
    "    \n",
    "def on_button_clicked(b):  \n",
    "    \"\"\"  Event-handling function that maps button click events in the widget \n",
    "         to corresponding functions in Monty, and updates the user interface\n",
    "         according to the present game state.\n",
    "    \"\"\"\n",
    "    if uigame.state == 0:\n",
    "        if b.description in ['Door 1', 'Door 2', 'Door 3']:\n",
    "            c = int(b.description.split()[1])\n",
    "            uigame.choose_door(c)\n",
    "\n",
    "            b.disabled = True\n",
    "            b.button_style = 'info'\n",
    "\n",
    "            m = doors_arr[uigame.montys_choice-1]\n",
    "            m.disabled = True\n",
    "            m.description = 'goat'\n",
    "\n",
    "            unopened = uigame.doors[(uigame.doors != uigame.players_choice) &\n",
    "                                        (uigame.doors != uigame.montys_choice)][0]\n",
    "            status.value = 'Monty reveals a goat behind Door {}. Click Door {} to switch, or \\'reveal\\' Door {}.' \\\n",
    "                            .format(uigame.montys_choice, unopened, uigame.players_choice)\n",
    "\n",
    "            reveal.disabled = False\n",
    "            reset.disabled = False\n",
    "        elif b.description == 'reset':\n",
    "                uigame.reset()\n",
    "                reset_ui()\n",
    "                update_status('Pick a door...')    \n",
    "    elif uigame.state == 1:\n",
    "        if b.description in ['Door 1', 'Door 2', 'Door 3']:\n",
    "            prev_choice = uigame.players_choice\n",
    "            uigame.switch_door(True)\n",
    "            \n",
    "            pb = doors_arr[prev_choice-1]\n",
    "            pb.icon = ''\n",
    "            pb.button_style = ''\n",
    "            \n",
    "            b.disabled = True\n",
    "            b.button_style = 'info'\n",
    "            \n",
    "            status.value = 'Now click \\'reveal\\' to see what\\'s behind Door {}.'.format(uigame.players_choice)\n",
    "            \n",
    "        elif b.description == 'reset':\n",
    "            uigame.reset()\n",
    "            reset_ui()\n",
    "            update_status('Pick a door...')\n",
    "        elif b.description == 'reveal':\n",
    "            uigame.switch_door(False)\n",
    "            update_ui_reveal()\n",
    "    elif uigame.state == 2:\n",
    "        if b.description == 'reveal':\n",
    "            update_ui_reveal()  \n",
    "        else:            \n",
    "            if b.description == 'continue':\n",
    "                uigame.continue_play()\n",
    "                reset_ui(False)\n",
    "                update_status('Pick a door once more...')\n",
    "            elif b.description == 'reset':\n",
    "                uigame.reset()\n",
    "                reset_ui()\n",
    "                update_status('Pick a door...')\n",
    "\n",
    "# hook up all buttons to our event-handling function\n",
    "door1.on_click(on_button_clicked)\n",
    "door2.on_click(on_button_clicked)\n",
    "door3.on_click(on_button_clicked)\n",
    "reveal.on_click(on_button_clicked)\n",
    "contin.on_click(on_button_clicked)\n",
    "reset.on_click(on_button_clicked)\n",
    "\n",
    "display(ui)"
   ]
  },
  {
   "cell_type": "markdown",
   "metadata": {},
   "source": [
    "How to play:\n",
    "* Click a door to select.\n",
    "* Monty will select a remaining door and open to reveal a goat.\n",
    "* Click the `reveal` button to open your selected door.\n",
    "* Or click the remaining unopened Door button to switch your door choice, and then click `reveal`.\n",
    "* Click the `continue` button to keep playing.\n",
    "* You may click the `reset` button at any time to return the game back to its initial state."
   ]
  },
  {
   "cell_type": "markdown",
   "metadata": {},
   "source": [
    "----\n",
    "\n",
    "Joseph K. Blitzstein and Jessica Hwang, Harvard University and Stanford University, &copy; 2019 by Taylor and Francis Group, LLC"
   ]
  }
 ],
 "metadata": {
  "kernelspec": {
   "display_name": "Python 3",
   "language": "python",
   "name": "python3"
  },
  "language_info": {
   "codemirror_mode": {
    "name": "ipython",
    "version": 3
   },
   "file_extension": ".py",
   "mimetype": "text/x-python",
   "name": "python",
   "nbconvert_exporter": "python",
   "pygments_lexer": "ipython3",
   "version": "3.6.3"
  },
  "notebook_info": {
   "author": "Joseph K. Blitzstein, Jessica Hwang",
   "chapter": "2. Random Variables and their Distributions",
   "creator": "buruzaemon",
   "section": "2.10",
   "title": "Introduction to Probability, 1st Edition"
  },
  "widgets": {
   "application/vnd.jupyter.widget-state+json": {
    "state": {
     "0023fdeb843146bfb8c334ab446160de": {
      "model_module": "@jupyter-widgets/controls",
      "model_module_version": "1.4.0",
      "model_name": "ButtonModel",
      "state": {
       "description": "goat",
       "disabled": true,
       "layout": "IPY_MODEL_f0e464f3ba0646b3af0a8700ad12c39b",
       "style": "IPY_MODEL_f5d85ac86acf44368b18a307ffbebaec"
      }
     },
     "005ab726996d42c78d2629c2b4cad00b": {
      "model_module": "@jupyter-widgets/controls",
      "model_module_version": "1.4.0",
      "model_name": "DescriptionStyleModel",
      "state": {
       "description_width": ""
      }
     },
     "0091b801c05542728d2d7652ac58f958": {
      "model_module": "@jupyter-widgets/controls",
      "model_module_version": "1.4.0",
      "model_name": "ButtonModel",
      "state": {
       "description": "reveal",
       "layout": "IPY_MODEL_7237be3998bc430190850e48a9111802",
       "style": "IPY_MODEL_7ecb695d974943a9b0698e7049fae628",
       "tooltip": "open selected door"
      }
     },
     "00b5f1daae044cc6936a1a99891b3895": {
      "model_module": "@jupyter-widgets/controls",
      "model_module_version": "1.4.0",
      "model_name": "ButtonStyleModel",
      "state": {}
     },
     "00baaf76531e4e8f8cb52722075273b5": {
      "model_module": "@jupyter-widgets/base",
      "model_module_version": "1.1.0",
      "model_name": "LayoutModel",
      "state": {
       "grid_area": "text3",
       "width": "auto"
      }
     },
     "00e10ebed1d848bf95e5f9418f2f40c7": {
      "model_module": "@jupyter-widgets/controls",
      "model_module_version": "1.4.0",
      "model_name": "DescriptionStyleModel",
      "state": {
       "description_width": ""
      }
     },
     "01c06064a2d84bd485c8b513182f1132": {
      "model_module": "@jupyter-widgets/controls",
      "model_module_version": "1.4.0",
      "model_name": "DescriptionStyleModel",
      "state": {
       "description_width": ""
      }
     },
     "01d78cee5c89485f879d5c0c12d47c38": {
      "model_module": "@jupyter-widgets/controls",
      "model_module_version": "1.4.0",
      "model_name": "ButtonModel",
      "state": {
       "description": "reveal",
       "disabled": true,
       "layout": "IPY_MODEL_c6fdc1b6e0d24975a39d02ac7445d17d",
       "style": "IPY_MODEL_cc9a2786b6bf43c3bf2449414ab100d2",
       "tooltip": "open selected door"
      }
     },
     "01e199b27c5245f89e2725c3bd440af2": {
      "model_module": "@jupyter-widgets/base",
      "model_module_version": "1.1.0",
      "model_name": "LayoutModel",
      "state": {
       "grid_area": "text3",
       "width": "auto"
      }
     },
     "01ee0cc033864db693c0fa3a9d4ed0aa": {
      "model_module": "@jupyter-widgets/controls",
      "model_module_version": "1.4.0",
      "model_name": "LabelModel",
      "state": {
       "layout": "IPY_MODEL_a65658528c3940a9a0cc8aa92d51ad35",
       "style": "IPY_MODEL_2e8b596a91fc4d4c944aa9880a0413e9",
       "value": "Interactive widget: Monty Hall problem"
      }
     },
     "02297450abff4780a7a0f5ef6bc7ab97": {
      "model_module": "@jupyter-widgets/controls",
      "model_module_version": "1.4.0",
      "model_name": "LabelModel",
      "state": {
       "layout": "IPY_MODEL_5497db7e68a240799b33565cebbcd45d",
       "style": "IPY_MODEL_cee9a34fe75a4a8ba26116c7a9d70626",
       "value": "Interactive widget: Monty Hall problem"
      }
     },
     "025aead2532b45858e133cb0e6605251": {
      "model_module": "@jupyter-widgets/controls",
      "model_module_version": "1.4.0",
      "model_name": "DescriptionStyleModel",
      "state": {
       "description_width": ""
      }
     },
     "0286db44510148198f50ac904117c9d3": {
      "model_module": "@jupyter-widgets/base",
      "model_module_version": "1.1.0",
      "model_name": "LayoutModel",
      "state": {
       "grid_area": "doors",
       "width": "auto"
      }
     },
     "03915cfbe9174ea7a2e488daa2d02e01": {
      "model_module": "@jupyter-widgets/base",
      "model_module_version": "1.1.0",
      "model_name": "LayoutModel",
      "state": {
       "grid_area": "label2",
       "width": "auto"
      }
     },
     "041026015f3f476b9732f41feba951f9": {
      "model_module": "@jupyter-widgets/controls",
      "model_module_version": "1.4.0",
      "model_name": "BoxModel",
      "state": {
       "children": [
        "IPY_MODEL_01d78cee5c89485f879d5c0c12d47c38",
        "IPY_MODEL_b802c190f3ad49f4a6ceaefe2677df87",
        "IPY_MODEL_3e3992b31be64a4ea4069d1eea4fcff2"
       ],
       "layout": "IPY_MODEL_0f66fceb387d4b968f935826d8416439"
      }
     },
     "044ddf346ded4023ae9e54713fa23fe5": {
      "model_module": "@jupyter-widgets/controls",
      "model_module_version": "1.4.0",
      "model_name": "ButtonStyleModel",
      "state": {}
     },
     "045a220884614b4899c5ca459453875c": {
      "model_module": "@jupyter-widgets/controls",
      "model_module_version": "1.4.0",
      "model_name": "ButtonModel",
      "state": {
       "description": "reset",
       "layout": "IPY_MODEL_6803a927ca234edeb11aaf87a033550e",
       "style": "IPY_MODEL_aee5e2c8c3a04aa595c1aee2516e4ffc",
       "tooltip": "reset game"
      }
     },
     "049161f5509c40cab0cacee35a58f440": {
      "model_module": "@jupyter-widgets/controls",
      "model_module_version": "1.4.0",
      "model_name": "FloatTextModel",
      "state": {
       "disabled": true,
       "layout": "IPY_MODEL_3368aa36f20644ee83cccdde29845d77",
       "step": null,
       "style": "IPY_MODEL_ac9c861646a049809af7b80bcceb90c7",
       "value": 0.7777777777777778
      }
     },
     "04b34aebd65d4432b1370d19ccdbe97e": {
      "model_module": "@jupyter-widgets/base",
      "model_module_version": "1.1.0",
      "model_name": "LayoutModel",
      "state": {
       "grid_area": "status",
       "width": "auto"
      }
     },
     "04b712fa838a43c890e6da35c24f916b": {
      "model_module": "@jupyter-widgets/controls",
      "model_module_version": "1.4.0",
      "model_name": "IntTextModel",
      "state": {
       "disabled": true,
       "layout": "IPY_MODEL_81bed4b3908644e896ddcb5fa73361e2",
       "step": 1,
       "style": "IPY_MODEL_483d8096f1634a6d85e9651a52ecc019",
       "value": 14
      }
     },
     "05169a1f64a141b493aa2543e1e1e35c": {
      "model_module": "@jupyter-widgets/base",
      "model_module_version": "1.1.0",
      "model_name": "LayoutModel",
      "state": {
       "grid_area": "label1",
       "width": "auto"
      }
     },
     "05290c70373c4e7aa68355e62dc67b94": {
      "model_module": "@jupyter-widgets/base",
      "model_module_version": "1.1.0",
      "model_name": "LayoutModel",
      "state": {
       "grid_area": "actions",
       "width": "auto"
      }
     },
     "0638e01a5cac41b1b760d0787eccdc68": {
      "model_module": "@jupyter-widgets/base",
      "model_module_version": "1.1.0",
      "model_name": "LayoutModel",
      "state": {
       "grid_area": "text3",
       "width": "auto"
      }
     },
     "067822b79264495bbe0676577d76bce4": {
      "model_module": "@jupyter-widgets/base",
      "model_module_version": "1.1.0",
      "model_name": "LayoutModel",
      "state": {
       "grid_area": "doors",
       "width": "auto"
      }
     },
     "0678e929d77d4899b5335cb66fc4a0b8": {
      "model_module": "@jupyter-widgets/controls",
      "model_module_version": "1.4.0",
      "model_name": "BoxModel",
      "state": {
       "children": [
        "IPY_MODEL_25777a488f774da8afc7d92171fc9b8f",
        "IPY_MODEL_4d0ff246e364455eb21b3b8f8d20f35d",
        "IPY_MODEL_fa4714a60fb34d89a956149a237e6dff"
       ],
       "layout": "IPY_MODEL_803f2fe852704ad1a9dbf1aa191c9cb6"
      }
     },
     "06996f47fb7342738b3ed3f35cbf25d5": {
      "model_module": "@jupyter-widgets/controls",
      "model_module_version": "1.4.0",
      "model_name": "ButtonModel",
      "state": {
       "description": "Door 3",
       "layout": "IPY_MODEL_687b2c7448c8426c85959de03b582450",
       "style": "IPY_MODEL_2f403513a3b847219c44327eea4ca438"
      }
     },
     "06a3ae82a7cc473fb1db1fd8f6740333": {
      "model_module": "@jupyter-widgets/base",
      "model_module_version": "1.1.0",
      "model_name": "LayoutModel",
      "state": {
       "grid_area": "banner",
       "justify_content": "center",
       "width": "auto"
      }
     },
     "06c1616e6099497fb917e8a4e70b8abe": {
      "model_module": "@jupyter-widgets/controls",
      "model_module_version": "1.4.0",
      "model_name": "DescriptionStyleModel",
      "state": {
       "description_width": ""
      }
     },
     "07124e61537e46669129f8da47938935": {
      "model_module": "@jupyter-widgets/controls",
      "model_module_version": "1.4.0",
      "model_name": "ButtonModel",
      "state": {
       "description": "reveal",
       "disabled": true,
       "layout": "IPY_MODEL_178ca794ec5e49289dae373dc65bc109",
       "style": "IPY_MODEL_b504c3d37e91480492b5a7c44e2e16a8",
       "tooltip": "open selected door"
      }
     },
     "07b3709adb1447f586fc6dd8b936186b": {
      "model_module": "@jupyter-widgets/controls",
      "model_module_version": "1.4.0",
      "model_name": "LabelModel",
      "state": {
       "layout": "IPY_MODEL_fa1caae7fc98453a84de35ce251f3527",
       "style": "IPY_MODEL_36dea75b369640168cc0b64f7b647b12",
       "value": "number of wins"
      }
     },
     "0854ac766fe34ef99e8cec7d1c45b01b": {
      "model_module": "@jupyter-widgets/base",
      "model_module_version": "1.1.0",
      "model_name": "LayoutModel",
      "state": {
       "grid_area": "status",
       "width": "auto"
      }
     },
     "08df4ad79d3648f595e22f2f65b26196": {
      "model_module": "@jupyter-widgets/base",
      "model_module_version": "1.1.0",
      "model_name": "LayoutModel",
      "state": {
       "grid_area": "text2",
       "width": "auto"
      }
     },
     "09e79cd47e5e4b73977a7fbbad12703c": {
      "model_module": "@jupyter-widgets/controls",
      "model_module_version": "1.4.0",
      "model_name": "LabelModel",
      "state": {
       "layout": "IPY_MODEL_d841223b0a0c4417aaf4b7f6116d20d8",
       "style": "IPY_MODEL_3398702cdffe4acf8f288f6ac1f7d8e4",
       "value": "number of wins"
      }
     },
     "09e996e357054de8b4c66c75afc0a1d7": {
      "model_module": "@jupyter-widgets/controls",
      "model_module_version": "1.4.0",
      "model_name": "DescriptionStyleModel",
      "state": {
       "description_width": ""
      }
     },
     "0a60e5863a1e45dfa9ccd94fc0866539": {
      "model_module": "@jupyter-widgets/controls",
      "model_module_version": "1.4.0",
      "model_name": "LabelModel",
      "state": {
       "layout": "IPY_MODEL_bceda94cc7174ecfa23d18f9209d4c31",
       "style": "IPY_MODEL_26ef77857d8c49e6b305633f5cc2eeeb",
       "value": "success rate"
      }
     },
     "0abc7d645d9a482a99207c54d11ebc4d": {
      "model_module": "@jupyter-widgets/controls",
      "model_module_version": "1.4.0",
      "model_name": "ButtonModel",
      "state": {
       "description": "reset",
       "layout": "IPY_MODEL_a685eda38364474c9228d5b645a37daf",
       "style": "IPY_MODEL_4f59d58bd3694280a104cf97e222d49e",
       "tooltip": "reset game"
      }
     },
     "0add3dec3ef0473085318d83a7d0c1e4": {
      "model_module": "@jupyter-widgets/controls",
      "model_module_version": "1.4.0",
      "model_name": "ButtonStyleModel",
      "state": {}
     },
     "0b18e6c47c764531a0af52740ec20ce9": {
      "model_module": "@jupyter-widgets/controls",
      "model_module_version": "1.4.0",
      "model_name": "LabelModel",
      "state": {
       "layout": "IPY_MODEL_4bf156bdb010402a9e52ebb62ce09990",
       "style": "IPY_MODEL_5419487884d74777bf69279f67e9056f",
       "value": "success rate"
      }
     },
     "0b55994061d94081bb81106bbbdc9123": {
      "model_module": "@jupyter-widgets/controls",
      "model_module_version": "1.4.0",
      "model_name": "ButtonModel",
      "state": {
       "description": "reset",
       "layout": "IPY_MODEL_7237be3998bc430190850e48a9111802",
       "style": "IPY_MODEL_800d1c14d56647cf911ef74d41bdc86e",
       "tooltip": "reset game"
      }
     },
     "0be93b58cbaa4fdbae6404288cf2058b": {
      "model_module": "@jupyter-widgets/base",
      "model_module_version": "1.1.0",
      "model_name": "LayoutModel",
      "state": {
       "grid_area": "text3",
       "width": "auto"
      }
     },
     "0c79e1a4629541a3965d8920f981c0e4": {
      "model_module": "@jupyter-widgets/controls",
      "model_module_version": "1.4.0",
      "model_name": "ButtonModel",
      "state": {
       "description": "goat",
       "disabled": true,
       "layout": "IPY_MODEL_3f34438b42924d1dbc328997c0c903b2",
       "style": "IPY_MODEL_275d18d335a0407bb0fcda3ac2c30b5f"
      }
     },
     "0c9bf3daf3eb42f9b2faa2fda8376a04": {
      "model_module": "@jupyter-widgets/controls",
      "model_module_version": "1.4.0",
      "model_name": "IntTextModel",
      "state": {
       "disabled": true,
       "layout": "IPY_MODEL_3b3188ada3e848cdbfd6090bf82cb3e7",
       "step": 1,
       "style": "IPY_MODEL_d9d4978e6fe74ae1b9110786d5f31c77",
       "value": 10
      }
     },
     "0ce95eb5bf08496eb99eee33519903ea": {
      "model_module": "@jupyter-widgets/controls",
      "model_module_version": "1.4.0",
      "model_name": "DescriptionStyleModel",
      "state": {
       "description_width": ""
      }
     },
     "0cf88cbe18114bffb987ff079a3e19b1": {
      "model_module": "@jupyter-widgets/controls",
      "model_module_version": "1.4.0",
      "model_name": "IntTextModel",
      "state": {
       "disabled": true,
       "layout": "IPY_MODEL_3c6168603498471b983f9977b088f562",
       "step": 1,
       "style": "IPY_MODEL_6cb7d09e133642dfae33b0618de63de2",
       "value": 8
      }
     },
     "0d227dca40b84cf6982efe18d967addf": {
      "model_module": "@jupyter-widgets/controls",
      "model_module_version": "1.4.0",
      "model_name": "DescriptionStyleModel",
      "state": {
       "description_width": ""
      }
     },
     "0da73d0a72fc49b2992270269f241eb8": {
      "model_module": "@jupyter-widgets/controls",
      "model_module_version": "1.4.0",
      "model_name": "LabelModel",
      "state": {
       "layout": "IPY_MODEL_defb4643fa6d4d62a82119d79d8a996c",
       "style": "IPY_MODEL_c5a10d4384ad4544b37cfe05661275f8",
       "value": "success rate"
      }
     },
     "0dbbed1375c04912a75db7ccf96d7254": {
      "model_module": "@jupyter-widgets/controls",
      "model_module_version": "1.4.0",
      "model_name": "GridBoxModel",
      "state": {
       "children": [
        "IPY_MODEL_85ef44c0891940889c14d7f770c1f6a1",
        "IPY_MODEL_ed274557751547dbb294588d5003843a",
        "IPY_MODEL_fd33fc3c048044c384dc01ccd7ba4e48",
        "IPY_MODEL_c2a15cdb001740678496388a4b9e242a",
        "IPY_MODEL_3ee11b70bc0d4785bd2e3a1849212452",
        "IPY_MODEL_7f36a1e292d243cea01924f05a61017b",
        "IPY_MODEL_0da73d0a72fc49b2992270269f241eb8",
        "IPY_MODEL_b6185263ae574db6a2130407de1c495e",
        "IPY_MODEL_bc170ffd684e41d087580fc35c9d00d8",
        "IPY_MODEL_67a95d891ca546e883998a20de141f3e"
       ],
       "layout": "IPY_MODEL_b1345d86571a475f83fa326afa41e37b"
      }
     },
     "0dec215cfac9434987afea1169ba8384": {
      "model_module": "@jupyter-widgets/controls",
      "model_module_version": "1.4.0",
      "model_name": "ButtonStyleModel",
      "state": {}
     },
     "0e14b7a3e2ed492a8d306136b50cc0bb": {
      "model_module": "@jupyter-widgets/controls",
      "model_module_version": "1.4.0",
      "model_name": "IntTextModel",
      "state": {
       "disabled": true,
       "layout": "IPY_MODEL_f4927a5a515147dabfd870d5ade05b3e",
       "step": 1,
       "style": "IPY_MODEL_e734dcbc8bc7429ebd54b9c29a7a8ecb",
       "value": 3
      }
     },
     "0e1901797e3142a8a6970ca3c3918c51": {
      "model_module": "@jupyter-widgets/controls",
      "model_module_version": "1.4.0",
      "model_name": "ButtonStyleModel",
      "state": {}
     },
     "0e202768684947f5beadc511225de9ac": {
      "model_module": "@jupyter-widgets/base",
      "model_module_version": "1.1.0",
      "model_name": "LayoutModel",
      "state": {
       "grid_area": "label2",
       "width": "auto"
      }
     },
     "0e5afa37fa294fa1a495ab8f9d0d2d3e": {
      "model_module": "@jupyter-widgets/base",
      "model_module_version": "1.1.0",
      "model_name": "LayoutModel",
      "state": {
       "grid_area": "label3",
       "width": "auto"
      }
     },
     "0e7d6768af694a6dbad8c67a25f636e2": {
      "model_module": "@jupyter-widgets/controls",
      "model_module_version": "1.4.0",
      "model_name": "DescriptionStyleModel",
      "state": {
       "description_width": ""
      }
     },
     "0eedc8d6d0e149f380043456ba76329d": {
      "model_module": "@jupyter-widgets/controls",
      "model_module_version": "1.4.0",
      "model_name": "FloatTextModel",
      "state": {
       "disabled": true,
       "layout": "IPY_MODEL_257ba6e1e5f34264ae501743ed6cc081",
       "step": null,
       "style": "IPY_MODEL_191bf49ae68e46419b9519f008af2b65"
      }
     },
     "0f2cfcfb634843efa5ef37c53d3db4e7": {
      "model_module": "@jupyter-widgets/controls",
      "model_module_version": "1.4.0",
      "model_name": "ButtonStyleModel",
      "state": {}
     },
     "0f4b5fb6534c46f59b8dce0342d7864c": {
      "model_module": "@jupyter-widgets/controls",
      "model_module_version": "1.4.0",
      "model_name": "BoxModel",
      "state": {
       "children": [
        "IPY_MODEL_955c4953cc04428f9568e4789c5a90b4",
        "IPY_MODEL_4afc02d1b32b48ce9e6644e788845142",
        "IPY_MODEL_045a220884614b4899c5ca459453875c"
       ],
       "layout": "IPY_MODEL_05290c70373c4e7aa68355e62dc67b94"
      }
     },
     "0f66fceb387d4b968f935826d8416439": {
      "model_module": "@jupyter-widgets/base",
      "model_module_version": "1.1.0",
      "model_name": "LayoutModel",
      "state": {
       "grid_area": "actions",
       "width": "auto"
      }
     },
     "0fb9b7436d524101b4513aed2981055d": {
      "model_module": "@jupyter-widgets/controls",
      "model_module_version": "1.4.0",
      "model_name": "IntTextModel",
      "state": {
       "disabled": true,
       "layout": "IPY_MODEL_681edf4b36b948c89740188c1d0b96ec",
       "step": 1,
       "style": "IPY_MODEL_a6b25f0a8e1747a78e7148f1bba9286b"
      }
     },
     "0ff0cee17f9e438d83a889984810eb07": {
      "model_module": "@jupyter-widgets/controls",
      "model_module_version": "1.4.0",
      "model_name": "ButtonModel",
      "state": {
       "description": "goat",
       "disabled": true,
       "layout": "IPY_MODEL_687b2c7448c8426c85959de03b582450",
       "style": "IPY_MODEL_5a846092b4d546b1ab63e771440a85a4"
      }
     },
     "1014f0d47f4a46d4b80ead5ac80332cf": {
      "model_module": "@jupyter-widgets/controls",
      "model_module_version": "1.4.0",
      "model_name": "IntTextModel",
      "state": {
       "disabled": true,
       "layout": "IPY_MODEL_6000ee9a9d4e4f6fbc9e7bde0c8219a9",
       "step": 1,
       "style": "IPY_MODEL_8f12327ba7fa42c4841ee2fcd39fe25a",
       "value": 1
      }
     },
     "102cb1d24cec4f4a8b95c53afd2dfec3": {
      "model_module": "@jupyter-widgets/controls",
      "model_module_version": "1.4.0",
      "model_name": "ButtonModel",
      "state": {
       "button_style": "success",
       "description": "car",
       "disabled": true,
       "icon": "check",
       "layout": "IPY_MODEL_68633f37129043fea6dda709ba99b7dd",
       "style": "IPY_MODEL_00b5f1daae044cc6936a1a99891b3895"
      }
     },
     "103a160cdde94e079075d22e8a6e09bb": {
      "model_module": "@jupyter-widgets/controls",
      "model_module_version": "1.4.0",
      "model_name": "BoxModel",
      "state": {
       "children": [
        "IPY_MODEL_3189ed73d96b4df7b2aad3f4eaaa2279",
        "IPY_MODEL_5a73b149dc5d4ee8aac4fd00dae60e46",
        "IPY_MODEL_e593b59ac04a4e65919cf31956552be7"
       ],
       "layout": "IPY_MODEL_c8d836462c5945ec9ec6d8fdde42a8ae"
      }
     },
     "10440e51b1334c10856c1917c536843e": {
      "model_module": "@jupyter-widgets/base",
      "model_module_version": "1.1.0",
      "model_name": "LayoutModel",
      "state": {
       "flex": "1 1 auto",
       "width": "auto"
      }
     },
     "10832cedb4ea436cb3d93a5a6c6f4ccf": {
      "model_module": "@jupyter-widgets/controls",
      "model_module_version": "1.4.0",
      "model_name": "ButtonModel",
      "state": {
       "description": "goat",
       "disabled": true,
       "layout": "IPY_MODEL_68633f37129043fea6dda709ba99b7dd",
       "style": "IPY_MODEL_70dd8596fcf346df8a61cdb22740db74"
      }
     },
     "10b9075fd0b2429e99da6939a6f0d431": {
      "model_module": "@jupyter-widgets/controls",
      "model_module_version": "1.4.0",
      "model_name": "DescriptionStyleModel",
      "state": {
       "description_width": ""
      }
     },
     "1179be2a840f481d8beaf9253229cec2": {
      "model_module": "@jupyter-widgets/controls",
      "model_module_version": "1.4.0",
      "model_name": "DescriptionStyleModel",
      "state": {
       "description_width": ""
      }
     },
     "118531b8ec5c4f46895fd93219748b92": {
      "model_module": "@jupyter-widgets/controls",
      "model_module_version": "1.4.0",
      "model_name": "DescriptionStyleModel",
      "state": {
       "description_width": ""
      }
     },
     "11960f9a560947fa89e6e37465308309": {
      "model_module": "@jupyter-widgets/controls",
      "model_module_version": "1.4.0",
      "model_name": "ButtonModel",
      "state": {
       "description": "reveal",
       "disabled": true,
       "layout": "IPY_MODEL_315ba5816719418d8e82449c80b02fb4",
       "style": "IPY_MODEL_914b8e5c59d948fc8f6914b7647428d1",
       "tooltip": "open selected door"
      }
     },
     "11abbd4177264ba1bc5ae78932a95213": {
      "model_module": "@jupyter-widgets/controls",
      "model_module_version": "1.4.0",
      "model_name": "BoxModel",
      "state": {
       "children": [
        "IPY_MODEL_d704d48370b04fbcaf15000b1b6323ff",
        "IPY_MODEL_a471cf7f996e4da19904dcbe5dd6455e",
        "IPY_MODEL_c185dd205a9246219931db1bd3e916e1"
       ],
       "layout": "IPY_MODEL_ca79cba638f14941a58b2337b6d66ab5"
      }
     },
     "121e9fc25e374df18d8cb90becbad475": {
      "model_module": "@jupyter-widgets/controls",
      "model_module_version": "1.4.0",
      "model_name": "ButtonModel",
      "state": {
       "button_style": "danger",
       "description": "goat",
       "disabled": true,
       "icon": "times",
       "layout": "IPY_MODEL_cb23db01b9c646d0ace21386ad133e99",
       "style": "IPY_MODEL_61948bb1221646a39ef28ee51fe64ef8"
      }
     },
     "128df715de934a228db8a1c24f590ccf": {
      "model_module": "@jupyter-widgets/base",
      "model_module_version": "1.1.0",
      "model_name": "LayoutModel",
      "state": {
       "flex": "1 1 auto",
       "width": "auto"
      }
     },
     "1303966c710748c5ac242cb2a7c0692f": {
      "model_module": "@jupyter-widgets/controls",
      "model_module_version": "1.4.0",
      "model_name": "ButtonStyleModel",
      "state": {}
     },
     "13085e0612304fe998dac9ba66541eac": {
      "model_module": "@jupyter-widgets/controls",
      "model_module_version": "1.4.0",
      "model_name": "ButtonModel",
      "state": {
       "description": "Door 3",
       "layout": "IPY_MODEL_1f0f192fa8e8406495e2e12c89d0add1",
       "style": "IPY_MODEL_210e04f0a07841cc8645dfa617daf749"
      }
     },
     "137760ad376b42c989fdb8061ddbe232": {
      "model_module": "@jupyter-widgets/controls",
      "model_module_version": "1.4.0",
      "model_name": "BoxModel",
      "state": {
       "children": [
        "IPY_MODEL_6de283574ce148f993f29d745f962df9"
       ],
       "layout": "IPY_MODEL_5de59704e5194b738fb3dc460589379a"
      }
     },
     "1395ad696c004c7b837d607dbaa344b0": {
      "model_module": "@jupyter-widgets/controls",
      "model_module_version": "1.4.0",
      "model_name": "ButtonModel",
      "state": {
       "description": "goat",
       "disabled": true,
       "layout": "IPY_MODEL_68633f37129043fea6dda709ba99b7dd",
       "style": "IPY_MODEL_3e199e7387424d27ad87a1aa1f4abc4d"
      }
     },
     "141a3adc127a48d894d391812af0d753": {
      "model_module": "@jupyter-widgets/controls",
      "model_module_version": "1.4.0",
      "model_name": "DescriptionStyleModel",
      "state": {
       "description_width": ""
      }
     },
     "14aee436bb7941d9bb0ff042d2bf9094": {
      "model_module": "@jupyter-widgets/controls",
      "model_module_version": "1.4.0",
      "model_name": "DescriptionStyleModel",
      "state": {
       "description_width": ""
      }
     },
     "15579ffea662442ab4bae756a1d1e5f0": {
      "model_module": "@jupyter-widgets/controls",
      "model_module_version": "1.4.0",
      "model_name": "IntTextModel",
      "state": {
       "disabled": true,
       "layout": "IPY_MODEL_3d040e86672a404d905882b1be2a0064",
       "step": 1,
       "style": "IPY_MODEL_f4ac8f366f224976a02d41e7aec98748",
       "value": 5
      }
     },
     "15a8dc15f18f4793b5cbdbe87e0f6608": {
      "model_module": "@jupyter-widgets/base",
      "model_module_version": "1.1.0",
      "model_name": "LayoutModel",
      "state": {
       "width": "50%"
      }
     },
     "1644371b0f094eafb7a613f4b9c4dcb1": {
      "model_module": "@jupyter-widgets/controls",
      "model_module_version": "1.4.0",
      "model_name": "ButtonModel",
      "state": {
       "button_style": "info",
       "description": "Door 2",
       "disabled": true,
       "layout": "IPY_MODEL_687b2c7448c8426c85959de03b582450",
       "style": "IPY_MODEL_a8f402fbcdab4349b0f51bce620ea8c4"
      }
     },
     "1682f45a1b024e059b313ee7b8840729": {
      "model_module": "@jupyter-widgets/controls",
      "model_module_version": "1.4.0",
      "model_name": "DescriptionStyleModel",
      "state": {
       "description_width": ""
      }
     },
     "16eb3ba979864dfba90ba5138af38ba0": {
      "model_module": "@jupyter-widgets/controls",
      "model_module_version": "1.4.0",
      "model_name": "LabelModel",
      "state": {
       "layout": "IPY_MODEL_6ad33f54221f4f8796ae10bd5600fccf",
       "style": "IPY_MODEL_41a8e70a0c8940af900febd4ebd0a470",
       "value": "Interactive widget: Monty Hall problem"
      }
     },
     "170ca141a83d42b2b591d13a19642d43": {
      "model_module": "@jupyter-widgets/controls",
      "model_module_version": "1.4.0",
      "model_name": "DescriptionStyleModel",
      "state": {
       "description_width": ""
      }
     },
     "172ead2dbfe9419eb5fe3d3934cd783f": {
      "model_module": "@jupyter-widgets/controls",
      "model_module_version": "1.4.0",
      "model_name": "DescriptionStyleModel",
      "state": {
       "description_width": ""
      }
     },
     "178112cdf27c49bc8410791baa57f188": {
      "model_module": "@jupyter-widgets/controls",
      "model_module_version": "1.4.0",
      "model_name": "BoxModel",
      "state": {
       "children": [
        "IPY_MODEL_1ebb32dc3c1c4b87960ea355e7288b74"
       ],
       "layout": "IPY_MODEL_28a4a2055f244be895d6e5b361a5914a"
      }
     },
     "178ca794ec5e49289dae373dc65bc109": {
      "model_module": "@jupyter-widgets/base",
      "model_module_version": "1.1.0",
      "model_name": "LayoutModel",
      "state": {
       "flex": "1 1 auto",
       "width": "auto"
      }
     },
     "180452d42fcd4b7995ea22ac431e6140": {
      "model_module": "@jupyter-widgets/controls",
      "model_module_version": "1.4.0",
      "model_name": "ButtonStyleModel",
      "state": {}
     },
     "18109a085b9e47b78a9cb2b8f71648f4": {
      "model_module": "@jupyter-widgets/controls",
      "model_module_version": "1.4.0",
      "model_name": "ButtonModel",
      "state": {
       "description": "continue",
       "disabled": true,
       "layout": "IPY_MODEL_409aebc07dcc4f83a2b6e3273d8a962d",
       "style": "IPY_MODEL_f2892e789c9f4f21bcdc7e622d6a979a",
       "tooltip": "continue play"
      }
     },
     "183589f7ab8a4225808cba8ee3290420": {
      "model_module": "@jupyter-widgets/controls",
      "model_module_version": "1.4.0",
      "model_name": "ButtonModel",
      "state": {
       "description": "reset",
       "layout": "IPY_MODEL_a4226ed469a64be2a119db617c798e7f",
       "style": "IPY_MODEL_6f9f146ea5fa470191980bdc2d93ae02",
       "tooltip": "reset game"
      }
     },
     "186f9b351efc451a8ad80de17483b480": {
      "model_module": "@jupyter-widgets/controls",
      "model_module_version": "1.4.0",
      "model_name": "BoxModel",
      "state": {
       "children": [
        "IPY_MODEL_7659aa4017804fd0b6c29c677669b92a",
        "IPY_MODEL_3a389fe9b06c4f8ab35afe50c0222bb0",
        "IPY_MODEL_d73c73f53c204f67a43145e33fd62f2a"
       ],
       "layout": "IPY_MODEL_f7eb4f5b81fc41d4a6ffdeb7c88f4ad3"
      }
     },
     "18f57e2e53e44506b276fd180b01fba2": {
      "model_module": "@jupyter-widgets/controls",
      "model_module_version": "1.4.0",
      "model_name": "ButtonModel",
      "state": {
       "description": "reset",
       "disabled": true,
       "layout": "IPY_MODEL_8a1e199114d447edb173e9ba6cf3666c",
       "style": "IPY_MODEL_2b177c37f77d45e1aea9e14daa7f6534",
       "tooltip": "reset game"
      }
     },
     "191bf49ae68e46419b9519f008af2b65": {
      "model_module": "@jupyter-widgets/controls",
      "model_module_version": "1.4.0",
      "model_name": "DescriptionStyleModel",
      "state": {
       "description_width": ""
      }
     },
     "197a30c7bb4a424b893d0bc8012ad2ce": {
      "model_module": "@jupyter-widgets/base",
      "model_module_version": "1.1.0",
      "model_name": "LayoutModel",
      "state": {
       "grid_area": "label3",
       "width": "auto"
      }
     },
     "198573c76c1843b6925f76d8781a11a6": {
      "model_module": "@jupyter-widgets/controls",
      "model_module_version": "1.4.0",
      "model_name": "DescriptionStyleModel",
      "state": {
       "description_width": ""
      }
     },
     "1987ad171c47453db7f4c2b94479597b": {
      "model_module": "@jupyter-widgets/base",
      "model_module_version": "1.1.0",
      "model_name": "LayoutModel",
      "state": {
       "grid_area": "label1",
       "width": "auto"
      }
     },
     "19f30fe2a69b4874957a3fee9600729b": {
      "model_module": "@jupyter-widgets/controls",
      "model_module_version": "1.4.0",
      "model_name": "DescriptionStyleModel",
      "state": {
       "description_width": ""
      }
     },
     "1a0cf84fdb074aad95bd634b0dbda4a6": {
      "model_module": "@jupyter-widgets/controls",
      "model_module_version": "1.4.0",
      "model_name": "ButtonModel",
      "state": {
       "description": "reset",
       "disabled": true,
       "layout": "IPY_MODEL_9324be122376434098c35d039edf5aca",
       "style": "IPY_MODEL_a853a9eb889b426480d50001f5600a95",
       "tooltip": "reset game"
      }
     },
     "1a0e972001214241a4b5f94ef2f4c87f": {
      "model_module": "@jupyter-widgets/base",
      "model_module_version": "1.1.0",
      "model_name": "LayoutModel",
      "state": {
       "grid_area": "label2",
       "width": "auto"
      }
     },
     "1a4aa059e253489a83af212770ca44c3": {
      "model_module": "@jupyter-widgets/controls",
      "model_module_version": "1.4.0",
      "model_name": "BoxModel",
      "state": {
       "children": [
        "IPY_MODEL_1395ad696c004c7b837d607dbaa344b0",
        "IPY_MODEL_102cb1d24cec4f4a8b95c53afd2dfec3",
        "IPY_MODEL_10832cedb4ea436cb3d93a5a6c6f4ccf"
       ],
       "layout": "IPY_MODEL_6a39986c676942b8b243d17028287fba"
      }
     },
     "1a5e778935ba466fa47859f7b670e246": {
      "model_module": "@jupyter-widgets/base",
      "model_module_version": "1.1.0",
      "model_name": "LayoutModel",
      "state": {
       "flex": "1 1 auto",
       "width": "auto"
      }
     },
     "1a772d94dbb6463db0f6381e1e6171f6": {
      "model_module": "@jupyter-widgets/controls",
      "model_module_version": "1.4.0",
      "model_name": "ButtonModel",
      "state": {
       "description": "continue",
       "disabled": true,
       "layout": "IPY_MODEL_8a1e199114d447edb173e9ba6cf3666c",
       "style": "IPY_MODEL_3a0749f3e3624db992a5c676304f7784",
       "tooltip": "continue play"
      }
     },
     "1a97caf62ba4497994c155cd7ffc1804": {
      "model_module": "@jupyter-widgets/base",
      "model_module_version": "1.1.0",
      "model_name": "LayoutModel",
      "state": {
       "width": "50%"
      }
     },
     "1aeb899471aa42d6aa4a4295a25c3539": {
      "model_module": "@jupyter-widgets/controls",
      "model_module_version": "1.4.0",
      "model_name": "DescriptionStyleModel",
      "state": {
       "description_width": ""
      }
     },
     "1b47bb72395e4444ac1d4ba0f680a85f": {
      "model_module": "@jupyter-widgets/controls",
      "model_module_version": "1.4.0",
      "model_name": "BoxModel",
      "state": {
       "children": [
        "IPY_MODEL_9e7ab216386b48f796b0d7564b8677a3"
       ],
       "layout": "IPY_MODEL_bc954d41a325487f8bf733ccfe609c6d"
      }
     },
     "1b84569d47a94f2db06f0135b5fc4243": {
      "model_module": "@jupyter-widgets/controls",
      "model_module_version": "1.4.0",
      "model_name": "ButtonModel",
      "state": {
       "description": "reveal",
       "disabled": true,
       "layout": "IPY_MODEL_cf8eaf1c7e1a402cb4d29a007a006b9b",
       "style": "IPY_MODEL_f612b134d3bd4b0c8c3c1eee7a0c4da5",
       "tooltip": "open selected door"
      }
     },
     "1b870551019246a2a23fc1f4a16ad63d": {
      "model_module": "@jupyter-widgets/base",
      "model_module_version": "1.1.0",
      "model_name": "LayoutModel",
      "state": {
       "grid_area": "actions",
       "width": "auto"
      }
     },
     "1bb83ffcc3464711a0af4691eb89e0a4": {
      "model_module": "@jupyter-widgets/controls",
      "model_module_version": "1.4.0",
      "model_name": "ButtonModel",
      "state": {
       "description": "reset",
       "disabled": true,
       "layout": "IPY_MODEL_cf8eaf1c7e1a402cb4d29a007a006b9b",
       "style": "IPY_MODEL_b2ff75b2f8e94e3f856821063f24c8e0",
       "tooltip": "reset game"
      }
     },
     "1bee70e8409f4e5784feccba27f53aef": {
      "model_module": "@jupyter-widgets/controls",
      "model_module_version": "1.4.0",
      "model_name": "LabelModel",
      "state": {
       "layout": "IPY_MODEL_7b47539bb0a9444c95e61eb2e77d66ed",
       "style": "IPY_MODEL_e364e49dd7e8498d85047e2c2dc8feaa",
       "value": "number of plays"
      }
     },
     "1c44eee78de14d01af0dba26c1cd26d7": {
      "model_module": "@jupyter-widgets/controls",
      "model_module_version": "1.4.0",
      "model_name": "ButtonStyleModel",
      "state": {}
     },
     "1c8d3b3d240d4f0983f48627117d77b5": {
      "model_module": "@jupyter-widgets/base",
      "model_module_version": "1.1.0",
      "model_name": "LayoutModel",
      "state": {
       "grid_area": "status",
       "width": "auto"
      }
     },
     "1cc8a3d730614ef59e0e463c8273f830": {
      "model_module": "@jupyter-widgets/base",
      "model_module_version": "1.1.0",
      "model_name": "LayoutModel",
      "state": {
       "grid_area": "label2",
       "width": "auto"
      }
     },
     "1d124eedfec04efebe009e0a3b8b6878": {
      "model_module": "@jupyter-widgets/controls",
      "model_module_version": "1.4.0",
      "model_name": "GridBoxModel",
      "state": {
       "children": [
        "IPY_MODEL_137760ad376b42c989fdb8061ddbe232",
        "IPY_MODEL_c6ec145a383940b09a5b3bad5e2e7c24",
        "IPY_MODEL_68dd7bd1b43e4c00b96f876001f924ce",
        "IPY_MODEL_282c6c8e43da48bb803c998de1b8f4ad",
        "IPY_MODEL_99722bfa661d4e2b82454956e91ba64b",
        "IPY_MODEL_20261774ea2f4fdd8183bc96f82a3aea",
        "IPY_MODEL_e16b27d3058640bdb3717755e10acd8b",
        "IPY_MODEL_eef767a873af4566a987536e334bc23f",
        "IPY_MODEL_a6c26900d500470d8a4030b8a88245a7",
        "IPY_MODEL_748f5823b1124c06bd6b3b0d2616f71f"
       ],
       "layout": "IPY_MODEL_9a9d0f0a0a184ac4ab4e4c8889cfc372"
      }
     },
     "1d6fea4d3ad047e7a0c61a367b861e0f": {
      "model_module": "@jupyter-widgets/controls",
      "model_module_version": "1.4.0",
      "model_name": "DescriptionStyleModel",
      "state": {
       "description_width": ""
      }
     },
     "1dbfc860358349afbf058bfee054b68e": {
      "model_module": "@jupyter-widgets/base",
      "model_module_version": "1.1.0",
      "model_name": "LayoutModel",
      "state": {
       "flex": "1 1 auto",
       "width": "auto"
      }
     },
     "1e049b3b3505401c964c97e9f40631b7": {
      "model_module": "@jupyter-widgets/controls",
      "model_module_version": "1.4.0",
      "model_name": "LabelModel",
      "state": {
       "layout": "IPY_MODEL_47121688eaf646798d09d1174b7c08ad",
       "style": "IPY_MODEL_025aead2532b45858e133cb0e6605251",
       "value": "number of wins"
      }
     },
     "1e09afabdb664fbc8203ce0f50cbe9cc": {
      "model_module": "@jupyter-widgets/controls",
      "model_module_version": "1.4.0",
      "model_name": "ButtonStyleModel",
      "state": {}
     },
     "1e9da08b484b4d99abb0632f566a72f7": {
      "model_module": "@jupyter-widgets/base",
      "model_module_version": "1.1.0",
      "model_name": "LayoutModel",
      "state": {
       "grid_area": "text2",
       "width": "auto"
      }
     },
     "1ebb32dc3c1c4b87960ea355e7288b74": {
      "model_module": "@jupyter-widgets/controls",
      "model_module_version": "1.4.0",
      "model_name": "LabelModel",
      "state": {
       "layout": "IPY_MODEL_f5ceaf50ea9d41c99f3a1a352011e4c2",
       "style": "IPY_MODEL_347c7959e7764a6bb8ff3a941708d7bb",
       "value": "Interactive widget: Monty Hall problem"
      }
     },
     "1f0f192fa8e8406495e2e12c89d0add1": {
      "model_module": "@jupyter-widgets/base",
      "model_module_version": "1.1.0",
      "model_name": "LayoutModel",
      "state": {
       "flex": "1 1 auto",
       "width": "auto"
      }
     },
     "1f48d33d17a44ea69f57a1a443a973c7": {
      "model_module": "@jupyter-widgets/controls",
      "model_module_version": "1.4.0",
      "model_name": "ButtonStyleModel",
      "state": {}
     },
     "1f82461bf56d42f89ab3929ac02f6d6e": {
      "model_module": "@jupyter-widgets/controls",
      "model_module_version": "1.4.0",
      "model_name": "DescriptionStyleModel",
      "state": {
       "description_width": ""
      }
     },
     "1f831ce5db664726a706cdbeec8199dc": {
      "model_module": "@jupyter-widgets/controls",
      "model_module_version": "1.4.0",
      "model_name": "DescriptionStyleModel",
      "state": {
       "description_width": ""
      }
     },
     "1fc25af13b3d44fb8a38a00b342e77c7": {
      "model_module": "@jupyter-widgets/controls",
      "model_module_version": "1.4.0",
      "model_name": "DescriptionStyleModel",
      "state": {
       "description_width": ""
      }
     },
     "20261774ea2f4fdd8183bc96f82a3aea": {
      "model_module": "@jupyter-widgets/controls",
      "model_module_version": "1.4.0",
      "model_name": "IntTextModel",
      "state": {
       "disabled": true,
       "layout": "IPY_MODEL_878200f50e4e4cf38d8e8737af80cf45",
       "step": 1,
       "style": "IPY_MODEL_e34a36638baf475391049c579b8f77f4"
      }
     },
     "202be1ea31ac4533a323180ea2bc129a": {
      "model_module": "@jupyter-widgets/controls",
      "model_module_version": "1.4.0",
      "model_name": "DescriptionStyleModel",
      "state": {
       "description_width": ""
      }
     },
     "2061e5effd18466788a2ee53d2d6019b": {
      "model_module": "@jupyter-widgets/controls",
      "model_module_version": "1.4.0",
      "model_name": "DescriptionStyleModel",
      "state": {
       "description_width": ""
      }
     },
     "20b8e0f3eef94116bf335d97983fda37": {
      "model_module": "@jupyter-widgets/controls",
      "model_module_version": "1.4.0",
      "model_name": "DescriptionStyleModel",
      "state": {
       "description_width": ""
      }
     },
     "210e04f0a07841cc8645dfa617daf749": {
      "model_module": "@jupyter-widgets/controls",
      "model_module_version": "1.4.0",
      "model_name": "ButtonStyleModel",
      "state": {}
     },
     "218091801e5a4f499798390efe5c67ac": {
      "model_module": "@jupyter-widgets/controls",
      "model_module_version": "1.4.0",
      "model_name": "LabelModel",
      "state": {
       "layout": "IPY_MODEL_5756f477b8694deeb005718710508f8e",
       "style": "IPY_MODEL_8482111e4b934329a0d376aaf617e462",
       "value": "success rate"
      }
     },
     "21b494889e624c08b01d88130b4d10c2": {
      "model_module": "@jupyter-widgets/base",
      "model_module_version": "1.1.0",
      "model_name": "LayoutModel",
      "state": {
       "grid_area": "text1",
       "width": "auto"
      }
     },
     "21f6194149b74b33a5863412a90af6f1": {
      "model_module": "@jupyter-widgets/controls",
      "model_module_version": "1.4.0",
      "model_name": "ButtonStyleModel",
      "state": {}
     },
     "2243ed9176af4ba491108666e7d11d08": {
      "model_module": "@jupyter-widgets/controls",
      "model_module_version": "1.4.0",
      "model_name": "ButtonStyleModel",
      "state": {}
     },
     "22b8e59793ea4792a10c188a44c0fd77": {
      "model_module": "@jupyter-widgets/controls",
      "model_module_version": "1.4.0",
      "model_name": "FloatTextModel",
      "state": {
       "disabled": true,
       "layout": "IPY_MODEL_65f8a285c92e4befb41eb8f399a41b96",
       "step": null,
       "style": "IPY_MODEL_6ba75e87e01a4edb984ed84852de66e9"
      }
     },
     "233f9a52066c43f0817f1d022dda8df1": {
      "model_module": "@jupyter-widgets/controls",
      "model_module_version": "1.4.0",
      "model_name": "ButtonStyleModel",
      "state": {}
     },
     "23567f39b1284a219dde3a0d78a5905b": {
      "model_module": "@jupyter-widgets/controls",
      "model_module_version": "1.4.0",
      "model_name": "DescriptionStyleModel",
      "state": {
       "description_width": ""
      }
     },
     "2400b8ba4c474d7883cd619c1905b645": {
      "model_module": "@jupyter-widgets/controls",
      "model_module_version": "1.4.0",
      "model_name": "IntTextModel",
      "state": {
       "disabled": true,
       "layout": "IPY_MODEL_a041012a7363445a85a4c3084dc01a8e",
       "step": 1,
       "style": "IPY_MODEL_7d00151c49294c45ba66ba1eb48d04cb"
      }
     },
     "24df972565014ff1b6fe61f60cf24fff": {
      "model_module": "@jupyter-widgets/controls",
      "model_module_version": "1.4.0",
      "model_name": "FloatTextModel",
      "state": {
       "disabled": true,
       "layout": "IPY_MODEL_0be93b58cbaa4fdbae6404288cf2058b",
       "step": null,
       "style": "IPY_MODEL_5d457dcfdf1446fc8a55efd55ee85d56",
       "value": 0.7142857142857143
      }
     },
     "250bacff99574e18aecfe914c99da584": {
      "model_module": "@jupyter-widgets/base",
      "model_module_version": "1.1.0",
      "model_name": "LayoutModel",
      "state": {
       "grid_area": "doors",
       "width": "auto"
      }
     },
     "2523dc9d5768490cbc3e43924d9acda6": {
      "model_module": "@jupyter-widgets/controls",
      "model_module_version": "1.4.0",
      "model_name": "BoxModel",
      "state": {
       "children": [
        "IPY_MODEL_0c79e1a4629541a3965d8920f981c0e4",
        "IPY_MODEL_d6c91e5681264002aeefef756737d121",
        "IPY_MODEL_df9c02149e0f4cfdb125d78586579fe1"
       ],
       "layout": "IPY_MODEL_9b24b0dcd5344120912d7cde8b11d423"
      }
     },
     "253a16949aa1422ca75fba139ad9529c": {
      "model_module": "@jupyter-widgets/controls",
      "model_module_version": "1.4.0",
      "model_name": "LabelModel",
      "state": {
       "layout": "IPY_MODEL_9c8c5e98dbe445dd8b5921eb2a6f54b0",
       "style": "IPY_MODEL_2a887feb73d34b31813003b3b2899ea6",
       "value": "number of wins"
      }
     },
     "25777a488f774da8afc7d92171fc9b8f": {
      "model_module": "@jupyter-widgets/controls",
      "model_module_version": "1.4.0",
      "model_name": "ButtonModel",
      "state": {
       "description": "reveal",
       "disabled": true,
       "layout": "IPY_MODEL_b7ba9875351c47f5a2862e46786af601",
       "style": "IPY_MODEL_74ade3e48b95437d97a37c8b9083c528",
       "tooltip": "open selected door"
      }
     },
     "257ba6e1e5f34264ae501743ed6cc081": {
      "model_module": "@jupyter-widgets/base",
      "model_module_version": "1.1.0",
      "model_name": "LayoutModel",
      "state": {
       "grid_area": "text3",
       "width": "auto"
      }
     },
     "262217a888b4494eb1352ed255db18bc": {
      "model_module": "@jupyter-widgets/base",
      "model_module_version": "1.1.0",
      "model_name": "LayoutModel",
      "state": {
       "grid_area": "banner",
       "justify_content": "center",
       "width": "auto"
      }
     },
     "262b57fa94e04a5d843e3faae986f4fd": {
      "model_module": "@jupyter-widgets/controls",
      "model_module_version": "1.4.0",
      "model_name": "ButtonModel",
      "state": {
       "description": "Door 1",
       "layout": "IPY_MODEL_1a5e778935ba466fa47859f7b670e246",
       "style": "IPY_MODEL_1e09afabdb664fbc8203ce0f50cbe9cc"
      }
     },
     "264742375770434e9feacb14461420a1": {
      "model_module": "@jupyter-widgets/base",
      "model_module_version": "1.1.0",
      "model_name": "LayoutModel",
      "state": {
       "grid_area": "actions",
       "width": "auto"
      }
     },
     "26619ba24d7940a3a199e0d056350f2f": {
      "model_module": "@jupyter-widgets/controls",
      "model_module_version": "1.4.0",
      "model_name": "IntTextModel",
      "state": {
       "disabled": true,
       "layout": "IPY_MODEL_267c61f862864beabd6f7d1cba25892d",
       "step": 1,
       "style": "IPY_MODEL_d6063c643b0e469096c8a917fe531ed2"
      }
     },
     "267c61f862864beabd6f7d1cba25892d": {
      "model_module": "@jupyter-widgets/base",
      "model_module_version": "1.1.0",
      "model_name": "LayoutModel",
      "state": {
       "grid_area": "text1",
       "width": "auto"
      }
     },
     "26ef77857d8c49e6b305633f5cc2eeeb": {
      "model_module": "@jupyter-widgets/controls",
      "model_module_version": "1.4.0",
      "model_name": "DescriptionStyleModel",
      "state": {
       "description_width": ""
      }
     },
     "2709ac8696794b85aa41d6766b0ebbf8": {
      "model_module": "@jupyter-widgets/controls",
      "model_module_version": "1.4.0",
      "model_name": "BoxModel",
      "state": {
       "children": [
        "IPY_MODEL_4b401ae18f2b48019982f7a3fd0fbcd9",
        "IPY_MODEL_1a772d94dbb6463db0f6381e1e6171f6",
        "IPY_MODEL_18f57e2e53e44506b276fd180b01fba2"
       ],
       "layout": "IPY_MODEL_264742375770434e9feacb14461420a1"
      }
     },
     "275d18d335a0407bb0fcda3ac2c30b5f": {
      "model_module": "@jupyter-widgets/controls",
      "model_module_version": "1.4.0",
      "model_name": "ButtonStyleModel",
      "state": {}
     },
     "279f45eccec641d0aec547acf8962d5d": {
      "model_module": "@jupyter-widgets/base",
      "model_module_version": "1.1.0",
      "model_name": "LayoutModel",
      "state": {
       "grid_area": "actions",
       "width": "auto"
      }
     },
     "27ddb6e8703b4c52ab41ea88328cea45": {
      "model_module": "@jupyter-widgets/base",
      "model_module_version": "1.1.0",
      "model_name": "LayoutModel",
      "state": {
       "grid_area": "label1",
       "width": "auto"
      }
     },
     "282c6c8e43da48bb803c998de1b8f4ad": {
      "model_module": "@jupyter-widgets/controls",
      "model_module_version": "1.4.0",
      "model_name": "IntTextModel",
      "state": {
       "disabled": true,
       "layout": "IPY_MODEL_e916bd6381e54e619b140267b4515a27",
       "step": 1,
       "style": "IPY_MODEL_af03e9a481e44a45a1f9cbbdc5007806"
      }
     },
     "2875edfe677b4a679f7fd701a4961200": {
      "model_module": "@jupyter-widgets/controls",
      "model_module_version": "1.4.0",
      "model_name": "ButtonStyleModel",
      "state": {}
     },
     "288759e8047e4a9a82f764d8fdff87e8": {
      "model_module": "@jupyter-widgets/base",
      "model_module_version": "1.1.0",
      "model_name": "LayoutModel",
      "state": {
       "grid_area": "text2",
       "width": "auto"
      }
     },
     "28a4a2055f244be895d6e5b361a5914a": {
      "model_module": "@jupyter-widgets/base",
      "model_module_version": "1.1.0",
      "model_name": "LayoutModel",
      "state": {
       "grid_area": "banner",
       "justify_content": "center",
       "width": "auto"
      }
     },
     "28bcea26519244709937a5c81c019bdc": {
      "model_module": "@jupyter-widgets/base",
      "model_module_version": "1.1.0",
      "model_name": "LayoutModel",
      "state": {
       "grid_template_areas": "\n                \"banner banner banner banner\"\n                \"doors doors doors doors\"\n                \"label1 label1 text1 text1\"\n                \"label2 label2 text2 text2\"\n                \"label3 label3 text3 text3\"\n                \"status status status status\"\n                \". . actions actions\"\n            ",
       "grid_template_columns": "25% 25% 25% 25%",
       "grid_template_rows": "auto auto auto auto auto auto auto",
       "width": "50%"
      }
     },
     "28e0cb8c4082447b96aa0070236f01e5": {
      "model_module": "@jupyter-widgets/controls",
      "model_module_version": "1.4.0",
      "model_name": "ButtonStyleModel",
      "state": {}
     },
     "290d0868f4604ffda14f0dbc8964c273": {
      "model_module": "@jupyter-widgets/controls",
      "model_module_version": "1.4.0",
      "model_name": "DescriptionStyleModel",
      "state": {
       "description_width": ""
      }
     },
     "293c80f485434ae7bc6c6d439916f654": {
      "model_module": "@jupyter-widgets/controls",
      "model_module_version": "1.4.0",
      "model_name": "LabelModel",
      "state": {
       "layout": "IPY_MODEL_a4b250c7a1a54282a13020edb9baba9b",
       "style": "IPY_MODEL_a1d61955ff95476491c1cc479422946c",
       "value": "Pick a door..."
      }
     },
     "2970546c379e44f087b9cb5be101ffe2": {
      "model_module": "@jupyter-widgets/base",
      "model_module_version": "1.1.0",
      "model_name": "LayoutModel",
      "state": {
       "grid_area": "banner",
       "justify_content": "center",
       "width": "auto"
      }
     },
     "299528541d804acaabf582e04853f8f0": {
      "model_module": "@jupyter-widgets/base",
      "model_module_version": "1.1.0",
      "model_name": "LayoutModel",
      "state": {
       "grid_template_areas": "\n                \"banner banner banner banner\"\n                \"doors doors doors doors\"\n                \"label1 label1 text1 text1\"\n                \"label2 label2 text2 text2\"\n                \"label3 label3 text3 text3\"\n                \"status status status status\"\n                \". . actions actions\"\n            ",
       "grid_template_columns": "25% 25% 25% 25%",
       "grid_template_rows": "auto auto auto auto auto auto auto",
       "width": "50%"
      }
     },
     "2a0fb8fdb055464cae553ae51e724ac6": {
      "model_module": "@jupyter-widgets/controls",
      "model_module_version": "1.4.0",
      "model_name": "ButtonModel",
      "state": {
       "description": "reveal",
       "layout": "IPY_MODEL_e072a7ff80a24f85944c5c53586255e9",
       "style": "IPY_MODEL_0dec215cfac9434987afea1169ba8384",
       "tooltip": "open selected door"
      }
     },
     "2a6a8720d8404266a8675a1add41243c": {
      "model_module": "@jupyter-widgets/base",
      "model_module_version": "1.1.0",
      "model_name": "LayoutModel",
      "state": {
       "grid_area": "banner",
       "justify_content": "center",
       "width": "auto"
      }
     },
     "2a757b85db164f74ae6658d3d5b05a15": {
      "model_module": "@jupyter-widgets/base",
      "model_module_version": "1.1.0",
      "model_name": "LayoutModel",
      "state": {
       "grid_area": "label3",
       "width": "auto"
      }
     },
     "2a887feb73d34b31813003b3b2899ea6": {
      "model_module": "@jupyter-widgets/controls",
      "model_module_version": "1.4.0",
      "model_name": "DescriptionStyleModel",
      "state": {
       "description_width": ""
      }
     },
     "2b177c37f77d45e1aea9e14daa7f6534": {
      "model_module": "@jupyter-widgets/controls",
      "model_module_version": "1.4.0",
      "model_name": "ButtonStyleModel",
      "state": {}
     },
     "2b70b149a55747019777f9dcb7f608f9": {
      "model_module": "@jupyter-widgets/base",
      "model_module_version": "1.1.0",
      "model_name": "LayoutModel",
      "state": {
       "flex": "1 1 auto",
       "width": "auto"
      }
     },
     "2c204b40f03a46f783843015b7e16bc3": {
      "model_module": "@jupyter-widgets/base",
      "model_module_version": "1.1.0",
      "model_name": "LayoutModel",
      "state": {
       "grid_area": "doors",
       "width": "auto"
      }
     },
     "2c3ed01507d045ff968062b0c4bd8c33": {
      "model_module": "@jupyter-widgets/controls",
      "model_module_version": "1.4.0",
      "model_name": "DescriptionStyleModel",
      "state": {
       "description_width": ""
      }
     },
     "2c728a160d244b20b20aa8503e5b2986": {
      "model_module": "@jupyter-widgets/controls",
      "model_module_version": "1.4.0",
      "model_name": "ButtonStyleModel",
      "state": {}
     },
     "2c762330cd8e4dc38d90dc9eaa9c8f46": {
      "model_module": "@jupyter-widgets/controls",
      "model_module_version": "1.4.0",
      "model_name": "FloatTextModel",
      "state": {
       "disabled": true,
       "layout": "IPY_MODEL_74c91f603cde42cda7520663b2229c63",
       "step": null,
       "style": "IPY_MODEL_3ab48df2aed04acb91afd3950c902100"
      }
     },
     "2cb5a5d52eee45dc89f4d6e4d25c6143": {
      "model_module": "@jupyter-widgets/controls",
      "model_module_version": "1.4.0",
      "model_name": "ButtonStyleModel",
      "state": {}
     },
     "2cbfb70f68fa4b74b51e93e2581cfa26": {
      "model_module": "@jupyter-widgets/controls",
      "model_module_version": "1.4.0",
      "model_name": "IntTextModel",
      "state": {
       "disabled": true,
       "layout": "IPY_MODEL_5e63bf805bbc4c6693f9c07149e9a423",
       "step": 1,
       "style": "IPY_MODEL_f5edfe3594a0499f822ad8657707dad1"
      }
     },
     "2ce5aad2704f49eab52c0e439b9d1f9b": {
      "model_module": "@jupyter-widgets/base",
      "model_module_version": "1.1.0",
      "model_name": "LayoutModel",
      "state": {
       "grid_area": "label1",
       "width": "auto"
      }
     },
     "2d073315c2034a65a2c5d6d367812574": {
      "model_module": "@jupyter-widgets/controls",
      "model_module_version": "1.4.0",
      "model_name": "GridBoxModel",
      "state": {
       "children": [
        "IPY_MODEL_31831d5755454ac6b510fe0e8d2e11c2",
        "IPY_MODEL_8700231a2b594e45ba1623eb81000c20",
        "IPY_MODEL_cfd779118ea3408d8fbe5e38066a62a4",
        "IPY_MODEL_2f675eaaa27b4142a1dc9abb6b911261",
        "IPY_MODEL_ceb23c5ab9f14fc59f6f9ba3cf1def44",
        "IPY_MODEL_6f7e14a505374a49ab1312b92d972e26",
        "IPY_MODEL_218091801e5a4f499798390efe5c67ac",
        "IPY_MODEL_3015b3d8f7034b0eb90d59dfcac0ad04",
        "IPY_MODEL_a165ae01080f4762ab0b2f9e6dead9f9",
        "IPY_MODEL_ae0c90a234e24138a9013a2601f2e6c9"
       ],
       "layout": "IPY_MODEL_953a2a901879456f8e429c0a03eb0a42"
      }
     },
     "2d17fe8d9a6e429dbc96805f3e2846c7": {
      "model_module": "@jupyter-widgets/controls",
      "model_module_version": "1.4.0",
      "model_name": "ButtonStyleModel",
      "state": {}
     },
     "2d79c857628f4b5aa8ae18c381e3ca8f": {
      "model_module": "@jupyter-widgets/base",
      "model_module_version": "1.1.0",
      "model_name": "LayoutModel",
      "state": {
       "grid_area": "text1",
       "width": "auto"
      }
     },
     "2dabcba3727b4079a50f757397e5ee54": {
      "model_module": "@jupyter-widgets/controls",
      "model_module_version": "1.4.0",
      "model_name": "BoxModel",
      "state": {
       "children": [
        "IPY_MODEL_9d62d960e9ba4655b865d39f68296cde",
        "IPY_MODEL_18109a085b9e47b78a9cb2b8f71648f4",
        "IPY_MODEL_7efc72bbacdb47bb939e531a86ba9bba"
       ],
       "layout": "IPY_MODEL_ab789af504964fdeac6525a7cfbfc4f0"
      }
     },
     "2db62ac1102b489ab4747a924b845231": {
      "model_module": "@jupyter-widgets/controls",
      "model_module_version": "1.4.0",
      "model_name": "ButtonStyleModel",
      "state": {}
     },
     "2db648efe41e4510bb0d6aab41a7b4ab": {
      "model_module": "@jupyter-widgets/controls",
      "model_module_version": "1.4.0",
      "model_name": "ButtonStyleModel",
      "state": {}
     },
     "2de900b4af564d419c36ffdfc4f0a019": {
      "model_module": "@jupyter-widgets/base",
      "model_module_version": "1.1.0",
      "model_name": "LayoutModel",
      "state": {
       "flex": "1 1 auto",
       "width": "auto"
      }
     },
     "2df846206aa44d7cb2bcb94f6bbc48fb": {
      "model_module": "@jupyter-widgets/controls",
      "model_module_version": "1.4.0",
      "model_name": "LabelModel",
      "state": {
       "layout": "IPY_MODEL_b924e16a765040fbadca6be834377c90",
       "style": "IPY_MODEL_373a814d2b7b4921b2ad40910966ccbe",
       "value": "Monty reveals a goat behind Door 1. Click Door 3 to switch, or 'reveal' Door 2."
      }
     },
     "2e2d760d862c468caf59f7553a8a2f6a": {
      "model_module": "@jupyter-widgets/base",
      "model_module_version": "1.1.0",
      "model_name": "LayoutModel",
      "state": {
       "grid_area": "doors",
       "width": "auto"
      }
     },
     "2e569e1e375b49f397bc15acd155ee15": {
      "model_module": "@jupyter-widgets/controls",
      "model_module_version": "1.4.0",
      "model_name": "ButtonStyleModel",
      "state": {}
     },
     "2e8b596a91fc4d4c944aa9880a0413e9": {
      "model_module": "@jupyter-widgets/controls",
      "model_module_version": "1.4.0",
      "model_name": "DescriptionStyleModel",
      "state": {
       "description_width": ""
      }
     },
     "2eb05e63cd534c69bff58d79d60b09ef": {
      "model_module": "@jupyter-widgets/controls",
      "model_module_version": "1.4.0",
      "model_name": "IntTextModel",
      "state": {
       "disabled": true,
       "layout": "IPY_MODEL_eeca871112f045b3bd7d425adbe3fe9e",
       "step": 1,
       "style": "IPY_MODEL_23567f39b1284a219dde3a0d78a5905b"
      }
     },
     "2eb5ec04d3574981b1fd1795615e669f": {
      "model_module": "@jupyter-widgets/controls",
      "model_module_version": "1.4.0",
      "model_name": "DescriptionStyleModel",
      "state": {
       "description_width": ""
      }
     },
     "2ed0b6c35c8d4ebb870dbae24e83854f": {
      "model_module": "@jupyter-widgets/controls",
      "model_module_version": "1.4.0",
      "model_name": "DescriptionStyleModel",
      "state": {
       "description_width": ""
      }
     },
     "2f20c5435aff4bc28fade9fdfa09484b": {
      "model_module": "@jupyter-widgets/controls",
      "model_module_version": "1.4.0",
      "model_name": "LabelModel",
      "state": {
       "layout": "IPY_MODEL_f0eb2c978bd745bea141b111180e85ba",
       "style": "IPY_MODEL_1f831ce5db664726a706cdbeec8199dc",
       "value": "Interactive widget: Monty Hall problem"
      }
     },
     "2f403513a3b847219c44327eea4ca438": {
      "model_module": "@jupyter-widgets/controls",
      "model_module_version": "1.4.0",
      "model_name": "ButtonStyleModel",
      "state": {}
     },
     "2f645f0088554e1da8dff10ca6c22758": {
      "model_module": "@jupyter-widgets/controls",
      "model_module_version": "1.4.0",
      "model_name": "DescriptionStyleModel",
      "state": {
       "description_width": ""
      }
     },
     "2f675eaaa27b4142a1dc9abb6b911261": {
      "model_module": "@jupyter-widgets/controls",
      "model_module_version": "1.4.0",
      "model_name": "IntTextModel",
      "state": {
       "disabled": true,
       "layout": "IPY_MODEL_40eefd3e22454e7482b1cab5acc1a55a",
       "step": 1,
       "style": "IPY_MODEL_01c06064a2d84bd485c8b513182f1132",
       "value": 8
      }
     },
     "2f678048c5a04c089a1e7caf70509c5d": {
      "model_module": "@jupyter-widgets/controls",
      "model_module_version": "1.4.0",
      "model_name": "GridBoxModel",
      "state": {
       "children": [
        "IPY_MODEL_74bd277b62454adb9a4b503e3429908c",
        "IPY_MODEL_b3032d29e4c7414387ba0c1afdbbcd7a",
        "IPY_MODEL_56a580d65ab046f589876917466fb717",
        "IPY_MODEL_0e14b7a3e2ed492a8d306136b50cc0bb",
        "IPY_MODEL_5ae3c5b66061464ea338dfb9fc374c7a",
        "IPY_MODEL_8ee013fdf88942b89def4b7edd767652",
        "IPY_MODEL_dd0ea7335e244fb5aa70a0d7eb5c2b29",
        "IPY_MODEL_495b257dae234ee282ef4d0f1c397071",
        "IPY_MODEL_fdf555ff16354ae9b5ae35a123eaabe6",
        "IPY_MODEL_2709ac8696794b85aa41d6766b0ebbf8"
       ],
       "layout": "IPY_MODEL_853b29611d7346039be81d076a75cda0"
      }
     },
     "2f724a1674954dca89aa0f5b1730fef4": {
      "model_module": "@jupyter-widgets/base",
      "model_module_version": "1.1.0",
      "model_name": "LayoutModel",
      "state": {
       "grid_area": "label1",
       "width": "auto"
      }
     },
     "2f7b20cba9e04f3ebc41c9ef287f8762": {
      "model_module": "@jupyter-widgets/controls",
      "model_module_version": "1.4.0",
      "model_name": "ButtonStyleModel",
      "state": {}
     },
     "2fb9cbabc36241a8ad780e62ca8b0f27": {
      "model_module": "@jupyter-widgets/controls",
      "model_module_version": "1.4.0",
      "model_name": "BoxModel",
      "state": {
       "children": [
        "IPY_MODEL_74fe08d4048743ddabc53230af47e453"
       ],
       "layout": "IPY_MODEL_e504c259d4d1459193ad4f13be2c30f7"
      }
     },
     "3015b3d8f7034b0eb90d59dfcac0ad04": {
      "model_module": "@jupyter-widgets/controls",
      "model_module_version": "1.4.0",
      "model_name": "FloatTextModel",
      "state": {
       "disabled": true,
       "layout": "IPY_MODEL_0638e01a5cac41b1b760d0787eccdc68",
       "step": null,
       "style": "IPY_MODEL_0e7d6768af694a6dbad8c67a25f636e2",
       "value": 0.75
      }
     },
     "301fb9efa3d7400e89ba46067f053c78": {
      "model_module": "@jupyter-widgets/base",
      "model_module_version": "1.1.0",
      "model_name": "LayoutModel",
      "state": {
       "grid_area": "status",
       "width": "auto"
      }
     },
     "30ab54398b1d485e90be3d0c65ceefd1": {
      "model_module": "@jupyter-widgets/controls",
      "model_module_version": "1.4.0",
      "model_name": "ButtonStyleModel",
      "state": {}
     },
     "30c323994df44cb1874cdfd4f1ba19f7": {
      "model_module": "@jupyter-widgets/controls",
      "model_module_version": "1.4.0",
      "model_name": "ButtonModel",
      "state": {
       "description": "reveal",
       "layout": "IPY_MODEL_2b70b149a55747019777f9dcb7f608f9",
       "style": "IPY_MODEL_4f94421d64a94257965491fe82f6e09b",
       "tooltip": "open selected door"
      }
     },
     "311547ba492d4b0a8475c288952db2f3": {
      "model_module": "@jupyter-widgets/controls",
      "model_module_version": "1.4.0",
      "model_name": "ButtonModel",
      "state": {
       "description": "reset",
       "layout": "IPY_MODEL_3528bd3d67d04ee8a245d53610008293",
       "style": "IPY_MODEL_2db648efe41e4510bb0d6aab41a7b4ab",
       "tooltip": "reset game"
      }
     },
     "3138c4951cef426cbdd2204654b5fa59": {
      "model_module": "@jupyter-widgets/controls",
      "model_module_version": "1.4.0",
      "model_name": "ButtonStyleModel",
      "state": {}
     },
     "315ba5816719418d8e82449c80b02fb4": {
      "model_module": "@jupyter-widgets/base",
      "model_module_version": "1.1.0",
      "model_name": "LayoutModel",
      "state": {
       "flex": "1 1 auto",
       "width": "auto"
      }
     },
     "31831d5755454ac6b510fe0e8d2e11c2": {
      "model_module": "@jupyter-widgets/controls",
      "model_module_version": "1.4.0",
      "model_name": "BoxModel",
      "state": {
       "children": [
        "IPY_MODEL_da1e24953c874b88a6e83e0d42b5cd26"
       ],
       "layout": "IPY_MODEL_da1fd34680b04f138a41f89c93e33347"
      }
     },
     "3189ed73d96b4df7b2aad3f4eaaa2279": {
      "model_module": "@jupyter-widgets/controls",
      "model_module_version": "1.4.0",
      "model_name": "ButtonModel",
      "state": {
       "description": "goat",
       "disabled": true,
       "layout": "IPY_MODEL_128df715de934a228db8a1c24f590ccf",
       "style": "IPY_MODEL_a85da88b5fd54064a1f8237c8536218e"
      }
     },
     "31ac4807a5e94b2c94b7fdf49988abd9": {
      "model_module": "@jupyter-widgets/base",
      "model_module_version": "1.1.0",
      "model_name": "LayoutModel",
      "state": {
       "grid_area": "text1",
       "width": "auto"
      }
     },
     "31afbc514d02456896f510548c78a5b2": {
      "model_module": "@jupyter-widgets/base",
      "model_module_version": "1.1.0",
      "model_name": "LayoutModel",
      "state": {
       "grid_area": "text2",
       "width": "auto"
      }
     },
     "31f0c269ae2f4208b32268d606c44c5e": {
      "model_module": "@jupyter-widgets/controls",
      "model_module_version": "1.4.0",
      "model_name": "DescriptionStyleModel",
      "state": {
       "description_width": ""
      }
     },
     "321247b4ca0a40e7b99d73c3d0414330": {
      "model_module": "@jupyter-widgets/base",
      "model_module_version": "1.1.0",
      "model_name": "LayoutModel",
      "state": {
       "grid_area": "banner",
       "justify_content": "center",
       "width": "auto"
      }
     },
     "3267f14ff6114ca49f1845b86d12a41f": {
      "model_module": "@jupyter-widgets/controls",
      "model_module_version": "1.4.0",
      "model_name": "LabelModel",
      "state": {
       "layout": "IPY_MODEL_de864cde34da42ab8639c3c9bb43b14e",
       "style": "IPY_MODEL_c94741dd2809418c968ad1804dc1f0fe",
       "value": "Interactive widget: Monty Hall problem"
      }
     },
     "3368aa36f20644ee83cccdde29845d77": {
      "model_module": "@jupyter-widgets/base",
      "model_module_version": "1.1.0",
      "model_name": "LayoutModel",
      "state": {
       "grid_area": "text3",
       "width": "auto"
      }
     },
     "338451238aa94841a3265a986caccdc0": {
      "model_module": "@jupyter-widgets/controls",
      "model_module_version": "1.4.0",
      "model_name": "DescriptionStyleModel",
      "state": {
       "description_width": ""
      }
     },
     "3398702cdffe4acf8f288f6ac1f7d8e4": {
      "model_module": "@jupyter-widgets/controls",
      "model_module_version": "1.4.0",
      "model_name": "DescriptionStyleModel",
      "state": {
       "description_width": ""
      }
     },
     "339db8c30532412792c295e43f3c8c14": {
      "model_module": "@jupyter-widgets/controls",
      "model_module_version": "1.4.0",
      "model_name": "ButtonModel",
      "state": {
       "description": "reset",
       "layout": "IPY_MODEL_178ca794ec5e49289dae373dc65bc109",
       "style": "IPY_MODEL_fa0cfdfd3bd0488cb35d619cdd820f1b",
       "tooltip": "reset game"
      }
     },
     "33e0b50ce43f46d384ff007a648b79d9": {
      "model_module": "@jupyter-widgets/controls",
      "model_module_version": "1.4.0",
      "model_name": "DescriptionStyleModel",
      "state": {
       "description_width": ""
      }
     },
     "344b6a2fa3024e56816518d978fefa61": {
      "model_module": "@jupyter-widgets/base",
      "model_module_version": "1.1.0",
      "model_name": "LayoutModel",
      "state": {
       "grid_area": "label2",
       "width": "auto"
      }
     },
     "347c7959e7764a6bb8ff3a941708d7bb": {
      "model_module": "@jupyter-widgets/controls",
      "model_module_version": "1.4.0",
      "model_name": "DescriptionStyleModel",
      "state": {
       "description_width": ""
      }
     },
     "3484276776b748088f7bbe489bc3f29e": {
      "model_module": "@jupyter-widgets/controls",
      "model_module_version": "1.4.0",
      "model_name": "ButtonModel",
      "state": {
       "button_style": "info",
       "description": "Door 1",
       "disabled": true,
       "layout": "IPY_MODEL_ffca613e0c9b469baea19d12b1e931a8",
       "style": "IPY_MODEL_d8a905e35822486e9e68a9456843c2e9"
      }
     },
     "34a940ecb0894b3eb4d19f0148632e76": {
      "model_module": "@jupyter-widgets/base",
      "model_module_version": "1.1.0",
      "model_name": "LayoutModel",
      "state": {
       "grid_area": "text2",
       "width": "auto"
      }
     },
     "34d8734d18914b6f94d7a0bc7c025405": {
      "model_module": "@jupyter-widgets/controls",
      "model_module_version": "1.4.0",
      "model_name": "ButtonModel",
      "state": {
       "description": "reveal",
       "disabled": true,
       "layout": "IPY_MODEL_cd3bf49d4bb04a959a84012405f250db",
       "style": "IPY_MODEL_b55fbec11120454db58b23697d50cdef",
       "tooltip": "open selected door"
      }
     },
     "34e15ab27a0c4238a241898a53977c20": {
      "model_module": "@jupyter-widgets/base",
      "model_module_version": "1.1.0",
      "model_name": "LayoutModel",
      "state": {
       "flex": "1 1 auto",
       "width": "auto"
      }
     },
     "34fe7b51993846e7a8e80abb9f4a2d76": {
      "model_module": "@jupyter-widgets/controls",
      "model_module_version": "1.4.0",
      "model_name": "ButtonStyleModel",
      "state": {}
     },
     "3528bd3d67d04ee8a245d53610008293": {
      "model_module": "@jupyter-widgets/base",
      "model_module_version": "1.1.0",
      "model_name": "LayoutModel",
      "state": {
       "flex": "1 1 auto",
       "width": "auto"
      }
     },
     "3592e1cea357443fbce3de59d0654438": {
      "model_module": "@jupyter-widgets/controls",
      "model_module_version": "1.4.0",
      "model_name": "LabelModel",
      "state": {
       "layout": "IPY_MODEL_bc2a3d128699430988f1d18082cd2b57",
       "style": "IPY_MODEL_90cfc7318dec49cd9d05cafe808f0700",
       "value": "number of plays"
      }
     },
     "35e82d8bed5c45fb94b51cc94fa1556a": {
      "model_module": "@jupyter-widgets/controls",
      "model_module_version": "1.4.0",
      "model_name": "LabelModel",
      "state": {
       "layout": "IPY_MODEL_2f724a1674954dca89aa0f5b1730fef4",
       "style": "IPY_MODEL_917b7fc759a34ca1956042015dc1ab24",
       "value": "number of plays"
      }
     },
     "360756afbfe44b2b9149844a17849e7d": {
      "model_module": "@jupyter-widgets/controls",
      "model_module_version": "1.4.0",
      "model_name": "DescriptionStyleModel",
      "state": {
       "description_width": ""
      }
     },
     "362d8c335a3a45a5a206c715a4aad3fe": {
      "model_module": "@jupyter-widgets/controls",
      "model_module_version": "1.4.0",
      "model_name": "DescriptionStyleModel",
      "state": {
       "description_width": ""
      }
     },
     "3642923073cd4f4e863a4d12d268aaa6": {
      "model_module": "@jupyter-widgets/controls",
      "model_module_version": "1.4.0",
      "model_name": "DescriptionStyleModel",
      "state": {
       "description_width": ""
      }
     },
     "36657a4075b34ce3a3e4a5a369d719d5": {
      "model_module": "@jupyter-widgets/controls",
      "model_module_version": "1.4.0",
      "model_name": "DescriptionStyleModel",
      "state": {
       "description_width": ""
      }
     },
     "367320daa1024410bbd7f9aa42b04932": {
      "model_module": "@jupyter-widgets/base",
      "model_module_version": "1.1.0",
      "model_name": "LayoutModel",
      "state": {
       "grid_area": "label1",
       "width": "auto"
      }
     },
     "36848f4fd49f49f48898d10cade0f2e5": {
      "model_module": "@jupyter-widgets/controls",
      "model_module_version": "1.4.0",
      "model_name": "BoxModel",
      "state": {
       "children": [
        "IPY_MODEL_971f24b456a24d9ca126d372c4688939",
        "IPY_MODEL_5595103bec014004a36ebfa9ebac2299",
        "IPY_MODEL_fbc95f4f16bf47f3973801e073ebd173"
       ],
       "layout": "IPY_MODEL_f333e58ee4a74497ac2e47f6f7efb396"
      }
     },
     "369b538252614dd193f0bff6875a2689": {
      "model_module": "@jupyter-widgets/base",
      "model_module_version": "1.1.0",
      "model_name": "LayoutModel",
      "state": {
       "grid_area": "label1",
       "width": "auto"
      }
     },
     "36a5f4a97b4c41059cfcffb23c2ea178": {
      "model_module": "@jupyter-widgets/controls",
      "model_module_version": "1.4.0",
      "model_name": "FloatTextModel",
      "state": {
       "disabled": true,
       "layout": "IPY_MODEL_45d9368d12b14880aa6f90b5b21ae5b8",
       "step": null,
       "style": "IPY_MODEL_95aece09da2f47eda7d31aee2c34137e",
       "value": 0.6
      }
     },
     "36dea75b369640168cc0b64f7b647b12": {
      "model_module": "@jupyter-widgets/controls",
      "model_module_version": "1.4.0",
      "model_name": "DescriptionStyleModel",
      "state": {
       "description_width": ""
      }
     },
     "370aa028e17448ab82b183c26b915e44": {
      "model_module": "@jupyter-widgets/controls",
      "model_module_version": "1.4.0",
      "model_name": "LabelModel",
      "state": {
       "layout": "IPY_MODEL_8dc7480d447348489a96027b0656c7fa",
       "style": "IPY_MODEL_92033a3089d648cfbad91014a1aded31",
       "value": "number of plays"
      }
     },
     "373a814d2b7b4921b2ad40910966ccbe": {
      "model_module": "@jupyter-widgets/controls",
      "model_module_version": "1.4.0",
      "model_name": "DescriptionStyleModel",
      "state": {
       "description_width": ""
      }
     },
     "37438033cd374d98aded3a07d4eeba86": {
      "model_module": "@jupyter-widgets/controls",
      "model_module_version": "1.4.0",
      "model_name": "BoxModel",
      "state": {
       "children": [
        "IPY_MODEL_5ad3c28e4c62414cada20e748eaac1bb",
        "IPY_MODEL_8533cd8e58214da9aeacce112168d096",
        "IPY_MODEL_4af438e1590f4e689bac73806e65a9a9"
       ],
       "layout": "IPY_MODEL_619d1287e95d40a0bd16ac5c1ef51845"
      }
     },
     "374b430e0cb04efebec82f70afb02b29": {
      "model_module": "@jupyter-widgets/controls",
      "model_module_version": "1.4.0",
      "model_name": "LabelModel",
      "state": {
       "layout": "IPY_MODEL_532a2b4584604dd1a18405f3817b85a8",
       "style": "IPY_MODEL_bb63dedc9034433d946099809c705a5c",
       "value": "Interactive widget: Monty Hall problem"
      }
     },
     "39c6f2950c9b45b489aa71ded9afed65": {
      "model_module": "@jupyter-widgets/controls",
      "model_module_version": "1.4.0",
      "model_name": "BoxModel",
      "state": {
       "children": [
        "IPY_MODEL_cf7d5970d6c040cbbe1b68278e3242fe"
       ],
       "layout": "IPY_MODEL_550f7b90a05f43d29cff77215d04384d"
      }
     },
     "3a0749f3e3624db992a5c676304f7784": {
      "model_module": "@jupyter-widgets/controls",
      "model_module_version": "1.4.0",
      "model_name": "ButtonStyleModel",
      "state": {}
     },
     "3a389fe9b06c4f8ab35afe50c0222bb0": {
      "model_module": "@jupyter-widgets/controls",
      "model_module_version": "1.4.0",
      "model_name": "ButtonModel",
      "state": {
       "description": "Door 2",
       "layout": "IPY_MODEL_f40fe02eb4384316b27df0dbeac5d004",
       "style": "IPY_MODEL_ba769522b894420bb4b7a63235f05aad"
      }
     },
     "3a72d82dccc94cf6b85a41492cec2afc": {
      "model_module": "@jupyter-widgets/base",
      "model_module_version": "1.1.0",
      "model_name": "LayoutModel",
      "state": {
       "width": "50%"
      }
     },
     "3a7fa7247084494fb1efa544a2a45ad2": {
      "model_module": "@jupyter-widgets/base",
      "model_module_version": "1.1.0",
      "model_name": "LayoutModel",
      "state": {
       "grid_area": "status",
       "width": "auto"
      }
     },
     "3a802c140a9a4c64b5704a4489dc2a37": {
      "model_module": "@jupyter-widgets/controls",
      "model_module_version": "1.4.0",
      "model_name": "LabelModel",
      "state": {
       "layout": "IPY_MODEL_b4bd376151a94a359cfba74d0913518b",
       "style": "IPY_MODEL_ca0a759e099e49828f44861ec19aa22e",
       "value": "Pick a door..."
      }
     },
     "3a9dd7ff530e4c379b44a87d48ee1a0d": {
      "model_module": "@jupyter-widgets/controls",
      "model_module_version": "1.4.0",
      "model_name": "DescriptionStyleModel",
      "state": {
       "description_width": ""
      }
     },
     "3ab48df2aed04acb91afd3950c902100": {
      "model_module": "@jupyter-widgets/controls",
      "model_module_version": "1.4.0",
      "model_name": "DescriptionStyleModel",
      "state": {
       "description_width": ""
      }
     },
     "3ab80af2ff6147c6b329cd82cd9c677c": {
      "model_module": "@jupyter-widgets/controls",
      "model_module_version": "1.4.0",
      "model_name": "ButtonStyleModel",
      "state": {}
     },
     "3aeb929454074560b1e37263f1ad1979": {
      "model_module": "@jupyter-widgets/controls",
      "model_module_version": "1.4.0",
      "model_name": "ButtonModel",
      "state": {
       "description": "Door 2",
       "layout": "IPY_MODEL_1f0f192fa8e8406495e2e12c89d0add1",
       "style": "IPY_MODEL_b5a34737727e42ba9550a7c4833b7af9"
      }
     },
     "3b0cf80d7d804473949a2ce3192eb5e9": {
      "model_module": "@jupyter-widgets/base",
      "model_module_version": "1.1.0",
      "model_name": "LayoutModel",
      "state": {
       "grid_area": "banner",
       "justify_content": "center",
       "width": "auto"
      }
     },
     "3b3188ada3e848cdbfd6090bf82cb3e7": {
      "model_module": "@jupyter-widgets/base",
      "model_module_version": "1.1.0",
      "model_name": "LayoutModel",
      "state": {
       "grid_area": "text1",
       "width": "auto"
      }
     },
     "3b39f64585a24c02ab7d43250fc3cb61": {
      "model_module": "@jupyter-widgets/base",
      "model_module_version": "1.1.0",
      "model_name": "LayoutModel",
      "state": {
       "grid_area": "status",
       "width": "auto"
      }
     },
     "3bb650c3b38a443e8b3089ad18f0b02a": {
      "model_module": "@jupyter-widgets/controls",
      "model_module_version": "1.4.0",
      "model_name": "ButtonModel",
      "state": {
       "description": "Door 3",
       "layout": "IPY_MODEL_1a5e778935ba466fa47859f7b670e246",
       "style": "IPY_MODEL_b24e766af4474023a6f7951ae730084b"
      }
     },
     "3c6168603498471b983f9977b088f562": {
      "model_module": "@jupyter-widgets/base",
      "model_module_version": "1.1.0",
      "model_name": "LayoutModel",
      "state": {
       "grid_area": "text1",
       "width": "auto"
      }
     },
     "3c8728d66e924faba9b3e398bebde639": {
      "model_module": "@jupyter-widgets/controls",
      "model_module_version": "1.4.0",
      "model_name": "LabelModel",
      "state": {
       "layout": "IPY_MODEL_da4127647e4c4a6294b6a0bb688cbccb",
       "style": "IPY_MODEL_8f3a06e19c1a4a07b5655d43d3591cc2",
       "value": "number of plays"
      }
     },
     "3d040e86672a404d905882b1be2a0064": {
      "model_module": "@jupyter-widgets/base",
      "model_module_version": "1.1.0",
      "model_name": "LayoutModel",
      "state": {
       "grid_area": "text2",
       "width": "auto"
      }
     },
     "3de2d138d0b2434d8447a69f3b987caa": {
      "model_module": "@jupyter-widgets/controls",
      "model_module_version": "1.4.0",
      "model_name": "ButtonStyleModel",
      "state": {}
     },
     "3e199e7387424d27ad87a1aa1f4abc4d": {
      "model_module": "@jupyter-widgets/controls",
      "model_module_version": "1.4.0",
      "model_name": "ButtonStyleModel",
      "state": {}
     },
     "3e1a30970e92403d9d9b96d7bed797b8": {
      "model_module": "@jupyter-widgets/base",
      "model_module_version": "1.1.0",
      "model_name": "LayoutModel",
      "state": {
       "grid_area": "banner",
       "justify_content": "center",
       "width": "auto"
      }
     },
     "3e3992b31be64a4ea4069d1eea4fcff2": {
      "model_module": "@jupyter-widgets/controls",
      "model_module_version": "1.4.0",
      "model_name": "ButtonModel",
      "state": {
       "description": "reset",
       "layout": "IPY_MODEL_c6fdc1b6e0d24975a39d02ac7445d17d",
       "style": "IPY_MODEL_9ff87c77902949a28f5fd96d82299b22",
       "tooltip": "reset game"
      }
     },
     "3e486cbbf7674f05b8cd546e483b51c0": {
      "model_module": "@jupyter-widgets/base",
      "model_module_version": "1.1.0",
      "model_name": "LayoutModel",
      "state": {
       "grid_area": "banner",
       "justify_content": "center",
       "width": "auto"
      }
     },
     "3e87c5f257fc4c9caaeb3ec5e315de5a": {
      "model_module": "@jupyter-widgets/controls",
      "model_module_version": "1.4.0",
      "model_name": "ButtonStyleModel",
      "state": {}
     },
     "3ee11b70bc0d4785bd2e3a1849212452": {
      "model_module": "@jupyter-widgets/controls",
      "model_module_version": "1.4.0",
      "model_name": "LabelModel",
      "state": {
       "layout": "IPY_MODEL_e3883c3b51b84b97a82517fc0c8ab0ea",
       "style": "IPY_MODEL_70b0ddaa1b2146219f6aa656212a404b",
       "value": "number of wins"
      }
     },
     "3f34438b42924d1dbc328997c0c903b2": {
      "model_module": "@jupyter-widgets/base",
      "model_module_version": "1.1.0",
      "model_name": "LayoutModel",
      "state": {
       "flex": "1 1 auto",
       "width": "auto"
      }
     },
     "3f6aa150fc1749998e7ae73db6497114": {
      "model_module": "@jupyter-widgets/controls",
      "model_module_version": "1.4.0",
      "model_name": "DescriptionStyleModel",
      "state": {
       "description_width": ""
      }
     },
     "409a6f916af44cbda7805a45c46a0273": {
      "model_module": "@jupyter-widgets/controls",
      "model_module_version": "1.4.0",
      "model_name": "LabelModel",
      "state": {
       "layout": "IPY_MODEL_c1a7590022b042b9bc95e74ffa217310",
       "style": "IPY_MODEL_2ed0b6c35c8d4ebb870dbae24e83854f",
       "value": "You win! Continue playing?"
      }
     },
     "409aebc07dcc4f83a2b6e3273d8a962d": {
      "model_module": "@jupyter-widgets/base",
      "model_module_version": "1.1.0",
      "model_name": "LayoutModel",
      "state": {
       "flex": "1 1 auto",
       "width": "auto"
      }
     },
     "40b171a940ed46c4934ca493523d57fd": {
      "model_module": "@jupyter-widgets/controls",
      "model_module_version": "1.4.0",
      "model_name": "ButtonModel",
      "state": {
       "description": "goat",
       "disabled": true,
       "layout": "IPY_MODEL_af1a77b98e604c47b42d1cb58ba01219",
       "style": "IPY_MODEL_2db62ac1102b489ab4747a924b845231"
      }
     },
     "40eefd3e22454e7482b1cab5acc1a55a": {
      "model_module": "@jupyter-widgets/base",
      "model_module_version": "1.1.0",
      "model_name": "LayoutModel",
      "state": {
       "grid_area": "text1",
       "width": "auto"
      }
     },
     "41229e63143d435e8abf480d5f9ede16": {
      "model_module": "@jupyter-widgets/base",
      "model_module_version": "1.1.0",
      "model_name": "LayoutModel",
      "state": {
       "grid_area": "doors",
       "width": "auto"
      }
     },
     "41a8e70a0c8940af900febd4ebd0a470": {
      "model_module": "@jupyter-widgets/controls",
      "model_module_version": "1.4.0",
      "model_name": "DescriptionStyleModel",
      "state": {
       "description_width": ""
      }
     },
     "41e35bb6ad814e80ae78d9c245ce92dc": {
      "model_module": "@jupyter-widgets/base",
      "model_module_version": "1.1.0",
      "model_name": "LayoutModel",
      "state": {
       "grid_template_areas": "\n                \"banner banner banner banner\"\n                \"doors doors doors doors\"\n                \"label1 label1 text1 text1\"\n                \"label2 label2 text2 text2\"\n                \"label3 label3 text3 text3\"\n                \"status status status status\"\n                \". . actions actions\"\n            ",
       "grid_template_columns": "25% 25% 25% 25%",
       "grid_template_rows": "auto auto auto auto auto auto auto",
       "width": "50%"
      }
     },
     "425cdd33f62c4f54add34f811a7122b6": {
      "model_module": "@jupyter-widgets/base",
      "model_module_version": "1.1.0",
      "model_name": "LayoutModel",
      "state": {
       "width": "50%"
      }
     },
     "4283b284aa2644a191de8bafdefcf0fc": {
      "model_module": "@jupyter-widgets/controls",
      "model_module_version": "1.4.0",
      "model_name": "ButtonModel",
      "state": {
       "description": "Door 3",
       "layout": "IPY_MODEL_1dbfc860358349afbf058bfee054b68e",
       "style": "IPY_MODEL_de7d3f6fbdd14814b239fc3ccab189b6"
      }
     },
     "42e02557c761452da04f16a381a44db4": {
      "model_module": "@jupyter-widgets/controls",
      "model_module_version": "1.4.0",
      "model_name": "BoxModel",
      "state": {
       "children": [
        "IPY_MODEL_374b430e0cb04efebec82f70afb02b29"
       ],
       "layout": "IPY_MODEL_dc438c8eba8a45efb5faab827c86dbc1"
      }
     },
     "44f43f7c083f4a4b9bdaf2261f9d55ee": {
      "model_module": "@jupyter-widgets/controls",
      "model_module_version": "1.4.0",
      "model_name": "ButtonStyleModel",
      "state": {}
     },
     "45a69ba873ce43a7930db47f5f5727e2": {
      "model_module": "@jupyter-widgets/controls",
      "model_module_version": "1.4.0",
      "model_name": "ButtonStyleModel",
      "state": {}
     },
     "45d9368d12b14880aa6f90b5b21ae5b8": {
      "model_module": "@jupyter-widgets/base",
      "model_module_version": "1.1.0",
      "model_name": "LayoutModel",
      "state": {
       "grid_area": "text3",
       "width": "auto"
      }
     },
     "45f5ebc12fa8424c8167e7b3b504390b": {
      "model_module": "@jupyter-widgets/controls",
      "model_module_version": "1.4.0",
      "model_name": "FloatTextModel",
      "state": {
       "disabled": true,
       "layout": "IPY_MODEL_597b4a00884e40b982add6c114411f5e",
       "step": null,
       "style": "IPY_MODEL_afe4ced3c93e487db81743bd5ea3d883"
      }
     },
     "46d29bd6ec0d4d75a72c41a076e1108a": {
      "model_module": "@jupyter-widgets/base",
      "model_module_version": "1.1.0",
      "model_name": "LayoutModel",
      "state": {
       "flex": "1 1 auto",
       "width": "auto"
      }
     },
     "47121688eaf646798d09d1174b7c08ad": {
      "model_module": "@jupyter-widgets/base",
      "model_module_version": "1.1.0",
      "model_name": "LayoutModel",
      "state": {
       "grid_area": "label2",
       "width": "auto"
      }
     },
     "47ef21bf0d9e45d296bdc79a1a3163f2": {
      "model_module": "@jupyter-widgets/controls",
      "model_module_version": "1.4.0",
      "model_name": "ButtonStyleModel",
      "state": {}
     },
     "483d8096f1634a6d85e9651a52ecc019": {
      "model_module": "@jupyter-widgets/controls",
      "model_module_version": "1.4.0",
      "model_name": "DescriptionStyleModel",
      "state": {
       "description_width": ""
      }
     },
     "48866ca73d3c421faa658e5ee38562f8": {
      "model_module": "@jupyter-widgets/controls",
      "model_module_version": "1.4.0",
      "model_name": "LabelModel",
      "state": {
       "layout": "IPY_MODEL_a31f48accd0f48fe946aabc73d28b42d",
       "style": "IPY_MODEL_876e720c28914b61891c31e4452d56b1",
       "value": "Pick a door..."
      }
     },
     "48c0366b316447159bfa40ecb22e397c": {
      "model_module": "@jupyter-widgets/controls",
      "model_module_version": "1.4.0",
      "model_name": "DescriptionStyleModel",
      "state": {
       "description_width": ""
      }
     },
     "490dd633df384647aefd1e723a971f76": {
      "model_module": "@jupyter-widgets/controls",
      "model_module_version": "1.4.0",
      "model_name": "DescriptionStyleModel",
      "state": {
       "description_width": ""
      }
     },
     "495b257dae234ee282ef4d0f1c397071": {
      "model_module": "@jupyter-widgets/controls",
      "model_module_version": "1.4.0",
      "model_name": "FloatTextModel",
      "state": {
       "disabled": true,
       "layout": "IPY_MODEL_de0246e2859c4b4aa898737b2885165a",
       "step": null,
       "style": "IPY_MODEL_effaf85867ca47f9a919a23d7005f268"
      }
     },
     "49a4dfc7430449ada298b07446708788": {
      "model_module": "@jupyter-widgets/controls",
      "model_module_version": "1.4.0",
      "model_name": "LabelModel",
      "state": {
       "layout": "IPY_MODEL_67ce622780a044b199a653eab60de45b",
       "style": "IPY_MODEL_172ead2dbfe9419eb5fe3d3934cd783f",
       "value": "success rate"
      }
     },
     "49b016a06bb64aec8c1644507174070c": {
      "model_module": "@jupyter-widgets/base",
      "model_module_version": "1.1.0",
      "model_name": "LayoutModel",
      "state": {
       "grid_area": "label2",
       "width": "auto"
      }
     },
     "49e1500ec74c4c23b180b7197848ed3c": {
      "model_module": "@jupyter-widgets/controls",
      "model_module_version": "1.4.0",
      "model_name": "LabelModel",
      "state": {
       "layout": "IPY_MODEL_0854ac766fe34ef99e8cec7d1c45b01b",
       "style": "IPY_MODEL_ad63813e7d004dfb836d329353a7c794",
       "value": "Monty reveals a goat behind Door 2. Click Door 3 to switch, or 'reveal' Door 1."
      }
     },
     "49f4943ac7154909b083c8eb8669537c": {
      "model_module": "@jupyter-widgets/controls",
      "model_module_version": "1.4.0",
      "model_name": "ButtonModel",
      "state": {
       "description": "Door 3",
       "layout": "IPY_MODEL_5de937ebe6ab4882bf7662084aa3d6f1",
       "style": "IPY_MODEL_2d17fe8d9a6e429dbc96805f3e2846c7"
      }
     },
     "4a6e2788e8e842c391d12a1f317f2d47": {
      "model_module": "@jupyter-widgets/base",
      "model_module_version": "1.1.0",
      "model_name": "LayoutModel",
      "state": {
       "grid_area": "banner",
       "justify_content": "center",
       "width": "auto"
      }
     },
     "4a78e27689974e479c38b91cba8119a2": {
      "model_module": "@jupyter-widgets/controls",
      "model_module_version": "1.4.0",
      "model_name": "LabelModel",
      "state": {
       "layout": "IPY_MODEL_c05d6a6f71124a3692d5ca3603440342",
       "style": "IPY_MODEL_202be1ea31ac4533a323180ea2bc129a",
       "value": "Monty reveals a goat behind Door 3. Click Door 2 to switch, or 'reveal' Door 1."
      }
     },
     "4af438e1590f4e689bac73806e65a9a9": {
      "model_module": "@jupyter-widgets/controls",
      "model_module_version": "1.4.0",
      "model_name": "ButtonModel",
      "state": {
       "description": "reset",
       "disabled": true,
       "layout": "IPY_MODEL_9c7babca7bb0474e949063a07e462712",
       "style": "IPY_MODEL_dfb93e2557d142988f796850bbad1e16",
       "tooltip": "reset game"
      }
     },
     "4afc02d1b32b48ce9e6644e788845142": {
      "model_module": "@jupyter-widgets/controls",
      "model_module_version": "1.4.0",
      "model_name": "ButtonModel",
      "state": {
       "description": "continue",
       "disabled": true,
       "layout": "IPY_MODEL_6803a927ca234edeb11aaf87a033550e",
       "style": "IPY_MODEL_2e569e1e375b49f397bc15acd155ee15",
       "tooltip": "continue play"
      }
     },
     "4b11d528394946b9837c56d067e44bf0": {
      "model_module": "@jupyter-widgets/controls",
      "model_module_version": "1.4.0",
      "model_name": "ButtonModel",
      "state": {
       "description": "Door 3",
       "layout": "IPY_MODEL_791001ea97fe4175985809d6a00fe996",
       "style": "IPY_MODEL_a29bf215b0cb4925a713bebdc236adef"
      }
     },
     "4b401ae18f2b48019982f7a3fd0fbcd9": {
      "model_module": "@jupyter-widgets/controls",
      "model_module_version": "1.4.0",
      "model_name": "ButtonModel",
      "state": {
       "description": "reveal",
       "disabled": true,
       "layout": "IPY_MODEL_8a1e199114d447edb173e9ba6cf3666c",
       "style": "IPY_MODEL_233f9a52066c43f0817f1d022dda8df1",
       "tooltip": "open selected door"
      }
     },
     "4bf156bdb010402a9e52ebb62ce09990": {
      "model_module": "@jupyter-widgets/base",
      "model_module_version": "1.1.0",
      "model_name": "LayoutModel",
      "state": {
       "grid_area": "label3",
       "width": "auto"
      }
     },
     "4c708af36671452e90cf9f459856bcf9": {
      "model_module": "@jupyter-widgets/controls",
      "model_module_version": "1.4.0",
      "model_name": "LabelModel",
      "state": {
       "layout": "IPY_MODEL_05169a1f64a141b493aa2543e1e1e35c",
       "style": "IPY_MODEL_7275e15213bd4b1396f3a717524f38ab",
       "value": "number of plays"
      }
     },
     "4ceab1f6f3af47f887d3cf9e9e4de03a": {
      "model_module": "@jupyter-widgets/controls",
      "model_module_version": "1.4.0",
      "model_name": "DescriptionStyleModel",
      "state": {
       "description_width": ""
      }
     },
     "4d0ff246e364455eb21b3b8f8d20f35d": {
      "model_module": "@jupyter-widgets/controls",
      "model_module_version": "1.4.0",
      "model_name": "ButtonModel",
      "state": {
       "description": "continue",
       "disabled": true,
       "layout": "IPY_MODEL_b7ba9875351c47f5a2862e46786af601",
       "style": "IPY_MODEL_ae197726ccd1442784c36d0e51c24110",
       "tooltip": "continue play"
      }
     },
     "4d180d3a2f634127b36253524103c26b": {
      "model_module": "@jupyter-widgets/base",
      "model_module_version": "1.1.0",
      "model_name": "LayoutModel",
      "state": {
       "grid_area": "text2",
       "width": "auto"
      }
     },
     "4d2d74e550c3496eb6d9788123575a8a": {
      "model_module": "@jupyter-widgets/base",
      "model_module_version": "1.1.0",
      "model_name": "LayoutModel",
      "state": {
       "grid_area": "text1",
       "width": "auto"
      }
     },
     "4d5d0767f89a455ca1583a2f61e0c1f7": {
      "model_module": "@jupyter-widgets/controls",
      "model_module_version": "1.4.0",
      "model_name": "ButtonModel",
      "state": {
       "description": "reveal",
       "disabled": true,
       "layout": "IPY_MODEL_9324be122376434098c35d039edf5aca",
       "style": "IPY_MODEL_8403f057053b4e2b9eedea12571e8aae",
       "tooltip": "open selected door"
      }
     },
     "4ea73fb9d38c469f837d3209078a9057": {
      "model_module": "@jupyter-widgets/controls",
      "model_module_version": "1.4.0",
      "model_name": "ButtonStyleModel",
      "state": {}
     },
     "4f05d5299eb4402e890ea5eff92da48f": {
      "model_module": "@jupyter-widgets/controls",
      "model_module_version": "1.4.0",
      "model_name": "ButtonModel",
      "state": {
       "description": "Door 2",
       "layout": "IPY_MODEL_ffca613e0c9b469baea19d12b1e931a8",
       "style": "IPY_MODEL_81dfd100e6ed40b1830d400b83442d22"
      }
     },
     "4f122453f23b424296334d7346b0179c": {
      "model_module": "@jupyter-widgets/controls",
      "model_module_version": "1.4.0",
      "model_name": "LabelModel",
      "state": {
       "layout": "IPY_MODEL_3b39f64585a24c02ab7d43250fc3cb61",
       "style": "IPY_MODEL_b59833e394ad469eaf9c797e48a60ca0",
       "value": "Sorry, you lose. Continue playing?"
      }
     },
     "4f547b3750124f9e80ab939058a63642": {
      "model_module": "@jupyter-widgets/controls",
      "model_module_version": "1.4.0",
      "model_name": "IntTextModel",
      "state": {
       "disabled": true,
       "layout": "IPY_MODEL_7d94beb4c2e14948a17e63662be68c4e",
       "step": 1,
       "style": "IPY_MODEL_872796b99cf448c0a06e399ce6f4f52d",
       "value": 9
      }
     },
     "4f59d58bd3694280a104cf97e222d49e": {
      "model_module": "@jupyter-widgets/controls",
      "model_module_version": "1.4.0",
      "model_name": "ButtonStyleModel",
      "state": {}
     },
     "4f5fefe0a53b49fdb61a186083074b40": {
      "model_module": "@jupyter-widgets/controls",
      "model_module_version": "1.4.0",
      "model_name": "ButtonStyleModel",
      "state": {}
     },
     "4f94421d64a94257965491fe82f6e09b": {
      "model_module": "@jupyter-widgets/controls",
      "model_module_version": "1.4.0",
      "model_name": "ButtonStyleModel",
      "state": {}
     },
     "4f9e72d797404863bc7f5f3b0d83c5cf": {
      "model_module": "@jupyter-widgets/controls",
      "model_module_version": "1.4.0",
      "model_name": "DescriptionStyleModel",
      "state": {
       "description_width": ""
      }
     },
     "50483ab3eef742e490c25e8f25646f92": {
      "model_module": "@jupyter-widgets/controls",
      "model_module_version": "1.4.0",
      "model_name": "ButtonStyleModel",
      "state": {}
     },
     "50544603e22f4f4f9639927a5383eff4": {
      "model_module": "@jupyter-widgets/controls",
      "model_module_version": "1.4.0",
      "model_name": "BoxModel",
      "state": {
       "children": [
        "IPY_MODEL_01ee0cc033864db693c0fa3a9d4ed0aa"
       ],
       "layout": "IPY_MODEL_4a6e2788e8e842c391d12a1f317f2d47"
      }
     },
     "5081a120f519429b93832f16a7a7c701": {
      "model_module": "@jupyter-widgets/controls",
      "model_module_version": "1.4.0",
      "model_name": "ButtonStyleModel",
      "state": {}
     },
     "513ce7c993b04422a4966c74fc3bda82": {
      "model_module": "@jupyter-widgets/controls",
      "model_module_version": "1.4.0",
      "model_name": "DescriptionStyleModel",
      "state": {
       "description_width": ""
      }
     },
     "51527269233d418787f5e339eb71d30c": {
      "model_module": "@jupyter-widgets/controls",
      "model_module_version": "1.4.0",
      "model_name": "DescriptionStyleModel",
      "state": {
       "description_width": ""
      }
     },
     "516a9c02fd4b4db190a3f2954e89c0ce": {
      "model_module": "@jupyter-widgets/controls",
      "model_module_version": "1.4.0",
      "model_name": "IntTextModel",
      "state": {
       "disabled": true,
       "layout": "IPY_MODEL_f9cc26a6a7c840c291508107a83136f6",
       "step": 1,
       "style": "IPY_MODEL_b5abdfcf364742f090ad1b147cdffa89"
      }
     },
     "517e07568727453aa1ca33e303d873b8": {
      "model_module": "@jupyter-widgets/controls",
      "model_module_version": "1.4.0",
      "model_name": "LabelModel",
      "state": {
       "layout": "IPY_MODEL_15a8dc15f18f4793b5cbdbe87e0f6608",
       "style": "IPY_MODEL_141a3adc127a48d894d391812af0d753",
       "value": "Interactive widget: Monty Hall problem"
      }
     },
     "517e3e4ad32e492c91ed22e7793e7c77": {
      "model_module": "@jupyter-widgets/controls",
      "model_module_version": "1.4.0",
      "model_name": "DescriptionStyleModel",
      "state": {
       "description_width": ""
      }
     },
     "51b934929fd14bd6b49d40115a050a95": {
      "model_module": "@jupyter-widgets/controls",
      "model_module_version": "1.4.0",
      "model_name": "ButtonStyleModel",
      "state": {}
     },
     "51ca717448354c1ba123a9ebfafb00d5": {
      "model_module": "@jupyter-widgets/controls",
      "model_module_version": "1.4.0",
      "model_name": "LabelModel",
      "state": {
       "layout": "IPY_MODEL_67068e5c3e1941068c4df1934ee6a92d",
       "style": "IPY_MODEL_c91e0d41bf2449cea830024fea283e52",
       "value": "number of wins"
      }
     },
     "5270405728964cf4bd57708c407e2d82": {
      "model_module": "@jupyter-widgets/controls",
      "model_module_version": "1.4.0",
      "model_name": "DescriptionStyleModel",
      "state": {
       "description_width": ""
      }
     },
     "52fc2d5e9c974d6ca2a398ba9dc48c38": {
      "model_module": "@jupyter-widgets/controls",
      "model_module_version": "1.4.0",
      "model_name": "ButtonStyleModel",
      "state": {}
     },
     "532a2b4584604dd1a18405f3817b85a8": {
      "model_module": "@jupyter-widgets/base",
      "model_module_version": "1.1.0",
      "model_name": "LayoutModel",
      "state": {
       "width": "50%"
      }
     },
     "5419487884d74777bf69279f67e9056f": {
      "model_module": "@jupyter-widgets/controls",
      "model_module_version": "1.4.0",
      "model_name": "DescriptionStyleModel",
      "state": {
       "description_width": ""
      }
     },
     "546a99a0f73d417d9874a9936ea32d32": {
      "model_module": "@jupyter-widgets/controls",
      "model_module_version": "1.4.0",
      "model_name": "LabelModel",
      "state": {
       "layout": "IPY_MODEL_cfcfe7a51ef14d9a9e2905fe3886c851",
       "style": "IPY_MODEL_89342fc0a0334d58b2eee807c33836d6",
       "value": "You win! Continue playing?"
      }
     },
     "5497db7e68a240799b33565cebbcd45d": {
      "model_module": "@jupyter-widgets/base",
      "model_module_version": "1.1.0",
      "model_name": "LayoutModel",
      "state": {
       "width": "50%"
      }
     },
     "54b08b47b0aa4f25ab86b03bc7576dfd": {
      "model_module": "@jupyter-widgets/controls",
      "model_module_version": "1.4.0",
      "model_name": "ButtonModel",
      "state": {
       "description": "continue",
       "disabled": true,
       "layout": "IPY_MODEL_9324be122376434098c35d039edf5aca",
       "style": "IPY_MODEL_72f85a77a91642d4baccf3d307753aea",
       "tooltip": "continue play"
      }
     },
     "550f7b90a05f43d29cff77215d04384d": {
      "model_module": "@jupyter-widgets/base",
      "model_module_version": "1.1.0",
      "model_name": "LayoutModel",
      "state": {
       "grid_area": "banner",
       "justify_content": "center",
       "width": "auto"
      }
     },
     "55828972f418494cbaf43989b21a4837": {
      "model_module": "@jupyter-widgets/base",
      "model_module_version": "1.1.0",
      "model_name": "LayoutModel",
      "state": {
       "grid_template_areas": "\n                \"banner banner banner banner\"\n                \"doors doors doors doors\"\n                \"label1 label1 text1 text1\"\n                \"label2 label2 text2 text2\"\n                \"label3 label3 text3 text3\"\n                \"status status status status\"\n                \". . actions actions\"\n            ",
       "grid_template_columns": "25% 25% 25% 25%",
       "grid_template_rows": "auto auto auto auto auto auto auto",
       "width": "50%"
      }
     },
     "5595103bec014004a36ebfa9ebac2299": {
      "model_module": "@jupyter-widgets/controls",
      "model_module_version": "1.4.0",
      "model_name": "ButtonModel",
      "state": {
       "description": "continue",
       "layout": "IPY_MODEL_10440e51b1334c10856c1917c536843e",
       "style": "IPY_MODEL_d851c313dfc84ff0bf94dd6a0bde30b4",
       "tooltip": "continue play"
      }
     },
     "56a580d65ab046f589876917466fb717": {
      "model_module": "@jupyter-widgets/controls",
      "model_module_version": "1.4.0",
      "model_name": "LabelModel",
      "state": {
       "layout": "IPY_MODEL_67959eda63234c8780c7168204d2e30d",
       "style": "IPY_MODEL_7dc084bab07f4d32abb366db9d143dc2",
       "value": "number of plays"
      }
     },
     "56ae0b3ea2834deb940fd9dc9e15c6c7": {
      "model_module": "@jupyter-widgets/controls",
      "model_module_version": "1.4.0",
      "model_name": "ButtonModel",
      "state": {
       "description": "goat",
       "disabled": true,
       "layout": "IPY_MODEL_cb23db01b9c646d0ace21386ad133e99",
       "style": "IPY_MODEL_2c728a160d244b20b20aa8503e5b2986"
      }
     },
     "56c6ea74c08647598eb933479ed51b8f": {
      "model_module": "@jupyter-widgets/controls",
      "model_module_version": "1.4.0",
      "model_name": "ButtonStyleModel",
      "state": {}
     },
     "56f3b9916b89478ba0d577bd3d362395": {
      "model_module": "@jupyter-widgets/controls",
      "model_module_version": "1.4.0",
      "model_name": "BoxModel",
      "state": {
       "children": [
        "IPY_MODEL_6ea72d969d2f45bdbb9a5cd0d56b6bd8",
        "IPY_MODEL_765278f9f24f45e5958ea7ab59d8de56",
        "IPY_MODEL_69edc4a5d3e4494e93fcf2693a2f7b7f"
       ],
       "layout": "IPY_MODEL_62b7259772ce4a2db994c1f7b5ccf586"
      }
     },
     "571ef36acac84c4c9f1d4b9e6a1fa93d": {
      "model_module": "@jupyter-widgets/controls",
      "model_module_version": "1.4.0",
      "model_name": "ButtonModel",
      "state": {
       "description": "Door 1",
       "layout": "IPY_MODEL_a7b8542b768b4b0aada283db2ee3495c",
       "style": "IPY_MODEL_7635cd34dd3a4eebb81b22ed153877af"
      }
     },
     "574caf9290414cb98604ae7d8145fe57": {
      "model_module": "@jupyter-widgets/controls",
      "model_module_version": "1.4.0",
      "model_name": "DescriptionStyleModel",
      "state": {
       "description_width": ""
      }
     },
     "5756f477b8694deeb005718710508f8e": {
      "model_module": "@jupyter-widgets/base",
      "model_module_version": "1.1.0",
      "model_name": "LayoutModel",
      "state": {
       "grid_area": "label3",
       "width": "auto"
      }
     },
     "57bb8120eebb486d9b9cf65238b31084": {
      "model_module": "@jupyter-widgets/base",
      "model_module_version": "1.1.0",
      "model_name": "LayoutModel",
      "state": {
       "flex": "1 1 auto",
       "width": "auto"
      }
     },
     "57cfa99341e94d88aa201dd725dadb91": {
      "model_module": "@jupyter-widgets/base",
      "model_module_version": "1.1.0",
      "model_name": "LayoutModel",
      "state": {
       "flex": "1 1 auto",
       "width": "auto"
      }
     },
     "5816c378c98449adaa7ed2b5a07df593": {
      "model_module": "@jupyter-widgets/controls",
      "model_module_version": "1.4.0",
      "model_name": "GridBoxModel",
      "state": {
       "children": [
        "IPY_MODEL_ead12edfab1b405ea6758732215bf71d",
        "IPY_MODEL_eb18e9dec10349bb9151eb65960fed60",
        "IPY_MODEL_4c708af36671452e90cf9f459856bcf9",
        "IPY_MODEL_c35dee1de91d4577b00818029830b691",
        "IPY_MODEL_07b3709adb1447f586fc6dd8b936186b",
        "IPY_MODEL_15579ffea662442ab4bae756a1d1e5f0",
        "IPY_MODEL_0b18e6c47c764531a0af52740ec20ce9",
        "IPY_MODEL_24df972565014ff1b6fe61f60cf24fff",
        "IPY_MODEL_bbafbaad99a641fba9c87e428e547019",
        "IPY_MODEL_fea1a5e3aaa140488fb7ae89c1c1e487"
       ],
       "layout": "IPY_MODEL_9bfa8d89dc3844f983c590a941890b81"
      }
     },
     "5889c12a535f4c4283873aabaf1f0d3f": {
      "model_module": "@jupyter-widgets/controls",
      "model_module_version": "1.4.0",
      "model_name": "IntTextModel",
      "state": {
       "disabled": true,
       "layout": "IPY_MODEL_5d1be1527cd944929477ed9368a84d6c",
       "step": 1,
       "style": "IPY_MODEL_362d8c335a3a45a5a206c715a4aad3fe"
      }
     },
     "58c7555ab31d4e8d84b6c10a5121a441": {
      "model_module": "@jupyter-widgets/controls",
      "model_module_version": "1.4.0",
      "model_name": "DescriptionStyleModel",
      "state": {
       "description_width": ""
      }
     },
     "58de91b4e8894e8ab64b0eda35a507f9": {
      "model_module": "@jupyter-widgets/base",
      "model_module_version": "1.1.0",
      "model_name": "LayoutModel",
      "state": {
       "grid_area": "text3",
       "width": "auto"
      }
     },
     "591561ff36c3497c9e1c339d3d6f4f67": {
      "model_module": "@jupyter-widgets/controls",
      "model_module_version": "1.4.0",
      "model_name": "IntTextModel",
      "state": {
       "disabled": true,
       "layout": "IPY_MODEL_cf69dc4239794b93b987c915c3e95c74",
       "step": 1,
       "style": "IPY_MODEL_1f82461bf56d42f89ab3929ac02f6d6e",
       "value": 6
      }
     },
     "5956ba7b6bff45218d213aa45a88fe51": {
      "model_module": "@jupyter-widgets/controls",
      "model_module_version": "1.4.0",
      "model_name": "GridBoxModel",
      "state": {
       "children": [
        "IPY_MODEL_a9e97b13bd8944cd97b03975bf7325cb",
        "IPY_MODEL_b7a13785578343d68417d234ce805915",
        "IPY_MODEL_f1c0e952a007486b838454134f223588",
        "IPY_MODEL_6f8d4651524543b4959f4c7f6bbcfdda",
        "IPY_MODEL_09e79cd47e5e4b73977a7fbbad12703c",
        "IPY_MODEL_faecdc3aafe1483bb8583591ffb77145",
        "IPY_MODEL_60d82017d7f94a14b86eda4346fa2d1a",
        "IPY_MODEL_dfcd2c5426d74937a1bfc846fd8fc97f",
        "IPY_MODEL_49e1500ec74c4c23b180b7197848ed3c",
        "IPY_MODEL_dd09484d82ac42f384dc9ce8df4e20a0"
       ],
       "layout": "IPY_MODEL_fd84be5adc9c47c6be38ccb66afaeb1e"
      }
     },
     "5964f0834bf04f54b01e83a3e6c94869": {
      "model_module": "@jupyter-widgets/controls",
      "model_module_version": "1.4.0",
      "model_name": "DescriptionStyleModel",
      "state": {
       "description_width": ""
      }
     },
     "597b4a00884e40b982add6c114411f5e": {
      "model_module": "@jupyter-widgets/base",
      "model_module_version": "1.1.0",
      "model_name": "LayoutModel",
      "state": {
       "grid_area": "text3",
       "width": "auto"
      }
     },
     "59ce92aaa9dd4dd48c192f97f44978d9": {
      "model_module": "@jupyter-widgets/base",
      "model_module_version": "1.1.0",
      "model_name": "LayoutModel",
      "state": {
       "grid_area": "label1",
       "width": "auto"
      }
     },
     "5a06dcab15a04b949b85f7139aeeefd2": {
      "model_module": "@jupyter-widgets/base",
      "model_module_version": "1.1.0",
      "model_name": "LayoutModel",
      "state": {
       "grid_area": "banner",
       "justify_content": "center",
       "width": "auto"
      }
     },
     "5a0df8aad49f42c5b36359f70252bba7": {
      "model_module": "@jupyter-widgets/controls",
      "model_module_version": "1.4.0",
      "model_name": "ButtonModel",
      "state": {
       "description": "Door 3",
       "layout": "IPY_MODEL_f72390e86c2d492c87fd35e9905a6872",
       "style": "IPY_MODEL_e15078d01d76414c978edc5a9fe998ee"
      }
     },
     "5a73b149dc5d4ee8aac4fd00dae60e46": {
      "model_module": "@jupyter-widgets/controls",
      "model_module_version": "1.4.0",
      "model_name": "ButtonModel",
      "state": {
       "button_style": "success",
       "description": "car",
       "disabled": true,
       "icon": "check",
       "layout": "IPY_MODEL_128df715de934a228db8a1c24f590ccf",
       "style": "IPY_MODEL_c1098768fdee47529d16b91ba8d67caf"
      }
     },
     "5a846092b4d546b1ab63e771440a85a4": {
      "model_module": "@jupyter-widgets/controls",
      "model_module_version": "1.4.0",
      "model_name": "ButtonStyleModel",
      "state": {}
     },
     "5ad3c28e4c62414cada20e748eaac1bb": {
      "model_module": "@jupyter-widgets/controls",
      "model_module_version": "1.4.0",
      "model_name": "ButtonModel",
      "state": {
       "description": "reveal",
       "disabled": true,
       "layout": "IPY_MODEL_9c7babca7bb0474e949063a07e462712",
       "style": "IPY_MODEL_d92f71c8b2c14ac893443eb6dd37dc40",
       "tooltip": "open selected door"
      }
     },
     "5ae3c5b66061464ea338dfb9fc374c7a": {
      "model_module": "@jupyter-widgets/controls",
      "model_module_version": "1.4.0",
      "model_name": "LabelModel",
      "state": {
       "layout": "IPY_MODEL_0e202768684947f5beadc511225de9ac",
       "style": "IPY_MODEL_7d7d18ec8bcb4348beb1e30643dc5991",
       "value": "number of wins"
      }
     },
     "5ba3768fd84d4dc3b2d79241b7d29414": {
      "model_module": "@jupyter-widgets/base",
      "model_module_version": "1.1.0",
      "model_name": "LayoutModel",
      "state": {
       "grid_area": "label3",
       "width": "auto"
      }
     },
     "5bcf866d24f140f49c9ddf9fa02bcf0f": {
      "model_module": "@jupyter-widgets/controls",
      "model_module_version": "1.4.0",
      "model_name": "LabelModel",
      "state": {
       "layout": "IPY_MODEL_367320daa1024410bbd7f9aa42b04932",
       "style": "IPY_MODEL_c792a7dda01b4decbefd2bc2751ebb15",
       "value": "number of plays"
      }
     },
     "5c81af4223ba41798e8777541b2b202b": {
      "model_module": "@jupyter-widgets/controls",
      "model_module_version": "1.4.0",
      "model_name": "DescriptionStyleModel",
      "state": {
       "description_width": ""
      }
     },
     "5cf0e8d5e7ea4f5d8ec4a801372c9299": {
      "model_module": "@jupyter-widgets/controls",
      "model_module_version": "1.4.0",
      "model_name": "LabelModel",
      "state": {
       "layout": "IPY_MODEL_695b17963ca744b8a62fccaf3cdc037c",
       "style": "IPY_MODEL_e39348aa7c7c4466bb6d3c9a1b1999cc",
       "value": "number of wins"
      }
     },
     "5d1be1527cd944929477ed9368a84d6c": {
      "model_module": "@jupyter-widgets/base",
      "model_module_version": "1.1.0",
      "model_name": "LayoutModel",
      "state": {
       "grid_area": "text2",
       "width": "auto"
      }
     },
     "5d457dcfdf1446fc8a55efd55ee85d56": {
      "model_module": "@jupyter-widgets/controls",
      "model_module_version": "1.4.0",
      "model_name": "DescriptionStyleModel",
      "state": {
       "description_width": ""
      }
     },
     "5de59704e5194b738fb3dc460589379a": {
      "model_module": "@jupyter-widgets/base",
      "model_module_version": "1.1.0",
      "model_name": "LayoutModel",
      "state": {
       "grid_area": "banner",
       "justify_content": "center",
       "width": "auto"
      }
     },
     "5de937ebe6ab4882bf7662084aa3d6f1": {
      "model_module": "@jupyter-widgets/base",
      "model_module_version": "1.1.0",
      "model_name": "LayoutModel",
      "state": {
       "flex": "1 1 auto",
       "width": "auto"
      }
     },
     "5e63bf805bbc4c6693f9c07149e9a423": {
      "model_module": "@jupyter-widgets/base",
      "model_module_version": "1.1.0",
      "model_name": "LayoutModel",
      "state": {
       "grid_area": "text1",
       "width": "auto"
      }
     },
     "5f5173493d364cc3b51ecd15132c4b92": {
      "model_module": "@jupyter-widgets/controls",
      "model_module_version": "1.4.0",
      "model_name": "BoxModel",
      "state": {
       "children": [
        "IPY_MODEL_3484276776b748088f7bbe489bc3f29e",
        "IPY_MODEL_4f05d5299eb4402e890ea5eff92da48f",
        "IPY_MODEL_900e0e2565f546fda02f53d1fa1860be"
       ],
       "layout": "IPY_MODEL_067822b79264495bbe0676577d76bce4"
      }
     },
     "5fbb9cb0004144eea9bd6c3362af3772": {
      "model_module": "@jupyter-widgets/controls",
      "model_module_version": "1.4.0",
      "model_name": "ButtonModel",
      "state": {
       "description": "continue",
       "layout": "IPY_MODEL_3528bd3d67d04ee8a245d53610008293",
       "style": "IPY_MODEL_82b8241dbebf4927bb0a4016d085e088",
       "tooltip": "continue play"
      }
     },
     "6000ee9a9d4e4f6fbc9e7bde0c8219a9": {
      "model_module": "@jupyter-widgets/base",
      "model_module_version": "1.1.0",
      "model_name": "LayoutModel",
      "state": {
       "grid_area": "text1",
       "width": "auto"
      }
     },
     "604ec4ae88724cd7912f41c7930be683": {
      "model_module": "@jupyter-widgets/controls",
      "model_module_version": "1.4.0",
      "model_name": "ButtonModel",
      "state": {
       "description": "goat",
       "disabled": true,
       "layout": "IPY_MODEL_46d29bd6ec0d4d75a72c41a076e1108a",
       "style": "IPY_MODEL_e69e3aaeac3f4d098703af24ae9d97f7"
      }
     },
     "60d82017d7f94a14b86eda4346fa2d1a": {
      "model_module": "@jupyter-widgets/controls",
      "model_module_version": "1.4.0",
      "model_name": "LabelModel",
      "state": {
       "layout": "IPY_MODEL_e8fafc7ac712444ba76082d8ec6093d5",
       "style": "IPY_MODEL_338451238aa94841a3265a986caccdc0",
       "value": "success rate"
      }
     },
     "60e7c1b78550449c807d03d2932fdf65": {
      "model_module": "@jupyter-widgets/base",
      "model_module_version": "1.1.0",
      "model_name": "LayoutModel",
      "state": {
       "grid_template_areas": "\n                \"banner banner banner banner\"\n                \"doors doors doors doors\"\n                \"label1 label1 text1 text1\"\n                \"label2 label2 text2 text2\"\n                \"label3 label3 text3 text3\"\n                \"status status status status\"\n                \". . actions actions\"\n            ",
       "grid_template_columns": "25% 25% 25% 25%",
       "grid_template_rows": "auto auto auto auto auto auto auto",
       "width": "50%"
      }
     },
     "6104dd813a4f4ce8b2b6fffee242c8b9": {
      "model_module": "@jupyter-widgets/controls",
      "model_module_version": "1.4.0",
      "model_name": "ButtonStyleModel",
      "state": {}
     },
     "6108b6715687470693d5dd8b85373230": {
      "model_module": "@jupyter-widgets/controls",
      "model_module_version": "1.4.0",
      "model_name": "DescriptionStyleModel",
      "state": {
       "description_width": ""
      }
     },
     "61948bb1221646a39ef28ee51fe64ef8": {
      "model_module": "@jupyter-widgets/controls",
      "model_module_version": "1.4.0",
      "model_name": "ButtonStyleModel",
      "state": {}
     },
     "619d1287e95d40a0bd16ac5c1ef51845": {
      "model_module": "@jupyter-widgets/base",
      "model_module_version": "1.1.0",
      "model_name": "LayoutModel",
      "state": {
       "grid_area": "actions",
       "width": "auto"
      }
     },
     "61acc3ce7ce5468f8f971eab1e768b42": {
      "model_module": "@jupyter-widgets/base",
      "model_module_version": "1.1.0",
      "model_name": "LayoutModel",
      "state": {
       "grid_area": "doors",
       "width": "auto"
      }
     },
     "61ce43bb0a654c2580df347dd49225a0": {
      "model_module": "@jupyter-widgets/controls",
      "model_module_version": "1.4.0",
      "model_name": "BoxModel",
      "state": {
       "children": [
        "IPY_MODEL_7b8120324a3b44c8b192f1c923d9740c",
        "IPY_MODEL_6f0e8e48ea864c51ace09128e61fb543",
        "IPY_MODEL_4283b284aa2644a191de8bafdefcf0fc"
       ],
       "layout": "IPY_MODEL_c0764798f24646e5be4b68d28009841e"
      }
     },
     "61dcb53cfada4ea5ab05bd8f72176168": {
      "model_module": "@jupyter-widgets/controls",
      "model_module_version": "1.4.0",
      "model_name": "DescriptionStyleModel",
      "state": {
       "description_width": ""
      }
     },
     "6206ed9bc98242d88edd6afd5655b1b9": {
      "model_module": "@jupyter-widgets/controls",
      "model_module_version": "1.4.0",
      "model_name": "DescriptionStyleModel",
      "state": {
       "description_width": ""
      }
     },
     "625505a9d8fe4bfba1fd4ecb88869a16": {
      "model_module": "@jupyter-widgets/controls",
      "model_module_version": "1.4.0",
      "model_name": "IntTextModel",
      "state": {
       "disabled": true,
       "layout": "IPY_MODEL_4d2d74e550c3496eb6d9788123575a8a",
       "step": 1,
       "style": "IPY_MODEL_9e984822e5cd4265a33a29cf3d208dbe"
      }
     },
     "62aabbf9b9c34d1fb0f2e02a2b711263": {
      "model_module": "@jupyter-widgets/base",
      "model_module_version": "1.1.0",
      "model_name": "LayoutModel",
      "state": {
       "width": "50%"
      }
     },
     "62b7259772ce4a2db994c1f7b5ccf586": {
      "model_module": "@jupyter-widgets/base",
      "model_module_version": "1.1.0",
      "model_name": "LayoutModel",
      "state": {
       "grid_area": "doors",
       "width": "auto"
      }
     },
     "653f88034994458f9e0084dca31d9fa3": {
      "model_module": "@jupyter-widgets/controls",
      "model_module_version": "1.4.0",
      "model_name": "ButtonStyleModel",
      "state": {}
     },
     "6585dab7399b45cb9f7ce7ece6a27dc4": {
      "model_module": "@jupyter-widgets/controls",
      "model_module_version": "1.4.0",
      "model_name": "ButtonStyleModel",
      "state": {}
     },
     "65d23fdd885b4e15bba13acbf9c02a6b": {
      "model_module": "@jupyter-widgets/controls",
      "model_module_version": "1.4.0",
      "model_name": "DescriptionStyleModel",
      "state": {
       "description_width": ""
      }
     },
     "65eecbb639694a0fb051a7ef9b2ce0b3": {
      "model_module": "@jupyter-widgets/base",
      "model_module_version": "1.1.0",
      "model_name": "LayoutModel",
      "state": {
       "grid_area": "doors",
       "width": "auto"
      }
     },
     "65f8a285c92e4befb41eb8f399a41b96": {
      "model_module": "@jupyter-widgets/base",
      "model_module_version": "1.1.0",
      "model_name": "LayoutModel",
      "state": {
       "grid_area": "text3",
       "width": "auto"
      }
     },
     "6665a638db794881add51726d394ce2e": {
      "model_module": "@jupyter-widgets/base",
      "model_module_version": "1.1.0",
      "model_name": "LayoutModel",
      "state": {
       "grid_area": "doors",
       "width": "auto"
      }
     },
     "670002a5b4674e4582910ebe66da8a88": {
      "model_module": "@jupyter-widgets/controls",
      "model_module_version": "1.4.0",
      "model_name": "ButtonModel",
      "state": {
       "description": "continue",
       "disabled": true,
       "layout": "IPY_MODEL_a4226ed469a64be2a119db617c798e7f",
       "style": "IPY_MODEL_ad94933311034a3cbd6795a8a65464c5",
       "tooltip": "continue play"
      }
     },
     "6700c1b1f353443380ef2c63dff56df9": {
      "model_module": "@jupyter-widgets/controls",
      "model_module_version": "1.4.0",
      "model_name": "BoxModel",
      "state": {
       "children": [
        "IPY_MODEL_a9f7783f2aec4bcca49ed4cd943e724e",
        "IPY_MODEL_bc2322959cb6402b92a8aef3e92a358f",
        "IPY_MODEL_49f4943ac7154909b083c8eb8669537c"
       ],
       "layout": "IPY_MODEL_b28d37d263d54dd29a702dd8696a9918"
      }
     },
     "67068e5c3e1941068c4df1934ee6a92d": {
      "model_module": "@jupyter-widgets/base",
      "model_module_version": "1.1.0",
      "model_name": "LayoutModel",
      "state": {
       "grid_area": "label2",
       "width": "auto"
      }
     },
     "67959eda63234c8780c7168204d2e30d": {
      "model_module": "@jupyter-widgets/base",
      "model_module_version": "1.1.0",
      "model_name": "LayoutModel",
      "state": {
       "grid_area": "label1",
       "width": "auto"
      }
     },
     "67a95d891ca546e883998a20de141f3e": {
      "model_module": "@jupyter-widgets/controls",
      "model_module_version": "1.4.0",
      "model_name": "BoxModel",
      "state": {
       "children": [
        "IPY_MODEL_4d5d0767f89a455ca1583a2f61e0c1f7",
        "IPY_MODEL_54b08b47b0aa4f25ab86b03bc7576dfd",
        "IPY_MODEL_1a0cf84fdb074aad95bd634b0dbda4a6"
       ],
       "layout": "IPY_MODEL_8987c4640ffb467e85720cb2ba5913ad"
      }
     },
     "67ce622780a044b199a653eab60de45b": {
      "model_module": "@jupyter-widgets/base",
      "model_module_version": "1.1.0",
      "model_name": "LayoutModel",
      "state": {
       "grid_area": "label3",
       "width": "auto"
      }
     },
     "67ee4f10eb7c4d909d5fe65b4267787c": {
      "model_module": "@jupyter-widgets/controls",
      "model_module_version": "1.4.0",
      "model_name": "FloatTextModel",
      "state": {
       "disabled": true,
       "layout": "IPY_MODEL_00baaf76531e4e8f8cb52722075273b5",
       "step": null,
       "style": "IPY_MODEL_b4f37a45f939420cba29e20e764a6787"
      }
     },
     "6803a927ca234edeb11aaf87a033550e": {
      "model_module": "@jupyter-widgets/base",
      "model_module_version": "1.1.0",
      "model_name": "LayoutModel",
      "state": {
       "flex": "1 1 auto",
       "width": "auto"
      }
     },
     "681edf4b36b948c89740188c1d0b96ec": {
      "model_module": "@jupyter-widgets/base",
      "model_module_version": "1.1.0",
      "model_name": "LayoutModel",
      "state": {
       "grid_area": "text2",
       "width": "auto"
      }
     },
     "68633f37129043fea6dda709ba99b7dd": {
      "model_module": "@jupyter-widgets/base",
      "model_module_version": "1.1.0",
      "model_name": "LayoutModel",
      "state": {
       "flex": "1 1 auto",
       "width": "auto"
      }
     },
     "687b2c7448c8426c85959de03b582450": {
      "model_module": "@jupyter-widgets/base",
      "model_module_version": "1.1.0",
      "model_name": "LayoutModel",
      "state": {
       "flex": "1 1 auto",
       "width": "auto"
      }
     },
     "68dd7bd1b43e4c00b96f876001f924ce": {
      "model_module": "@jupyter-widgets/controls",
      "model_module_version": "1.4.0",
      "model_name": "LabelModel",
      "state": {
       "layout": "IPY_MODEL_f19694efe99540e683aa19cb9b2f7219",
       "style": "IPY_MODEL_f2f10cadf95b4ad8a01d0aa6ae64718e",
       "value": "number of plays"
      }
     },
     "6921f5f906d04bc581c934327a473b6f": {
      "model_module": "@jupyter-widgets/base",
      "model_module_version": "1.1.0",
      "model_name": "LayoutModel",
      "state": {
       "grid_area": "text1",
       "width": "auto"
      }
     },
     "695b17963ca744b8a62fccaf3cdc037c": {
      "model_module": "@jupyter-widgets/base",
      "model_module_version": "1.1.0",
      "model_name": "LayoutModel",
      "state": {
       "grid_area": "label2",
       "width": "auto"
      }
     },
     "69745bdcc3614c6bbfad79ac9644bfcc": {
      "model_module": "@jupyter-widgets/controls",
      "model_module_version": "1.4.0",
      "model_name": "LabelModel",
      "state": {
       "layout": "IPY_MODEL_04b34aebd65d4432b1370d19ccdbe97e",
       "style": "IPY_MODEL_bb39253e0ce34acd94f904e2c9f8ab30",
       "value": "Pick a door..."
      }
     },
     "69edc4a5d3e4494e93fcf2693a2f7b7f": {
      "model_module": "@jupyter-widgets/controls",
      "model_module_version": "1.4.0",
      "model_name": "ButtonModel",
      "state": {
       "description": "Door 3",
       "layout": "IPY_MODEL_34e15ab27a0c4238a241898a53977c20",
       "style": "IPY_MODEL_6585dab7399b45cb9f7ce7ece6a27dc4"
      }
     },
     "6a39986c676942b8b243d17028287fba": {
      "model_module": "@jupyter-widgets/base",
      "model_module_version": "1.1.0",
      "model_name": "LayoutModel",
      "state": {
       "grid_area": "doors",
       "width": "auto"
      }
     },
     "6a715c3c1e8b4b2280e8f2e206acedce": {
      "model_module": "@jupyter-widgets/controls",
      "model_module_version": "1.4.0",
      "model_name": "ButtonStyleModel",
      "state": {}
     },
     "6ad33f54221f4f8796ae10bd5600fccf": {
      "model_module": "@jupyter-widgets/base",
      "model_module_version": "1.1.0",
      "model_name": "LayoutModel",
      "state": {
       "width": "50%"
      }
     },
     "6af5e75bcf984c1e89515ba404ade004": {
      "model_module": "@jupyter-widgets/base",
      "model_module_version": "1.1.0",
      "model_name": "LayoutModel",
      "state": {
       "grid_template_areas": "\n                \"banner banner banner banner\"\n                \"doors doors doors doors\"\n                \"label1 label1 text1 text1\"\n                \"label2 label2 text2 text2\"\n                \"label3 label3 text3 text3\"\n                \"status status status status\"\n                \". . actions actions\"\n            ",
       "grid_template_columns": "25% 25% 25% 25%",
       "grid_template_rows": "auto auto auto auto auto auto auto",
       "width": "50%"
      }
     },
     "6b0a545bb43447219e2ec4602b433512": {
      "model_module": "@jupyter-widgets/controls",
      "model_module_version": "1.4.0",
      "model_name": "ButtonStyleModel",
      "state": {}
     },
     "6b6b18c9a5be42429531c1c98e25d667": {
      "model_module": "@jupyter-widgets/controls",
      "model_module_version": "1.4.0",
      "model_name": "BoxModel",
      "state": {
       "children": [
        "IPY_MODEL_d813f5ed6f1d42cda6114a7fafffe3ef",
        "IPY_MODEL_f427823dea9746eda36b52197b9a082c",
        "IPY_MODEL_cabe54abc6a349c6a862b0383949b86d"
       ],
       "layout": "IPY_MODEL_e2835d43982f47a48ed74ceba8a989f3"
      }
     },
     "6ba75e87e01a4edb984ed84852de66e9": {
      "model_module": "@jupyter-widgets/controls",
      "model_module_version": "1.4.0",
      "model_name": "DescriptionStyleModel",
      "state": {
       "description_width": ""
      }
     },
     "6bc4d8796ae145a2a14b4a4c7d78fe38": {
      "model_module": "@jupyter-widgets/controls",
      "model_module_version": "1.4.0",
      "model_name": "DescriptionStyleModel",
      "state": {
       "description_width": ""
      }
     },
     "6c5abe6d0bab4a8badb290091fa7abcb": {
      "model_module": "@jupyter-widgets/controls",
      "model_module_version": "1.4.0",
      "model_name": "DescriptionStyleModel",
      "state": {
       "description_width": ""
      }
     },
     "6c5dedb0a2a94b9380ed49d68459b9a5": {
      "model_module": "@jupyter-widgets/controls",
      "model_module_version": "1.4.0",
      "model_name": "LabelModel",
      "state": {
       "layout": "IPY_MODEL_425cdd33f62c4f54add34f811a7122b6",
       "style": "IPY_MODEL_e0afeb8f16e0417282393abbe9d0e8fe",
       "value": "Interactive widget: Monty Hall problem"
      }
     },
     "6cb7d09e133642dfae33b0618de63de2": {
      "model_module": "@jupyter-widgets/controls",
      "model_module_version": "1.4.0",
      "model_name": "DescriptionStyleModel",
      "state": {
       "description_width": ""
      }
     },
     "6d0ef459da354a2b85c990ead1616ffd": {
      "model_module": "@jupyter-widgets/controls",
      "model_module_version": "1.4.0",
      "model_name": "ButtonModel",
      "state": {
       "description": "continue",
       "disabled": true,
       "layout": "IPY_MODEL_178ca794ec5e49289dae373dc65bc109",
       "style": "IPY_MODEL_1f48d33d17a44ea69f57a1a443a973c7",
       "tooltip": "continue play"
      }
     },
     "6db774671aec4a09b0710de98d2f945e": {
      "model_module": "@jupyter-widgets/base",
      "model_module_version": "1.1.0",
      "model_name": "LayoutModel",
      "state": {
       "grid_area": "text3",
       "width": "auto"
      }
     },
     "6de283574ce148f993f29d745f962df9": {
      "model_module": "@jupyter-widgets/controls",
      "model_module_version": "1.4.0",
      "model_name": "LabelModel",
      "state": {
       "layout": "IPY_MODEL_eff1de140f8f4398b46c724a8ee2f5b8",
       "style": "IPY_MODEL_b74caf06543c4d5db32c6a4466fd5214",
       "value": "Interactive widget: Monty Hall problem"
      }
     },
     "6e45c1c17b8149fb8fd7a74c2d1eef92": {
      "model_module": "@jupyter-widgets/controls",
      "model_module_version": "1.4.0",
      "model_name": "FloatTextModel",
      "state": {
       "disabled": true,
       "layout": "IPY_MODEL_e59cf549930d4f80b33de0dba074b318",
       "step": null,
       "style": "IPY_MODEL_887430c7fc5f4fdeaa1726abd7c3805c"
      }
     },
     "6e5fac8fe6df486f8b2edd665b1b6887": {
      "model_module": "@jupyter-widgets/controls",
      "model_module_version": "1.4.0",
      "model_name": "LabelModel",
      "state": {
       "layout": "IPY_MODEL_5ba3768fd84d4dc3b2d79241b7d29414",
       "style": "IPY_MODEL_574caf9290414cb98604ae7d8145fe57",
       "value": "success rate"
      }
     },
     "6e82aae2d1c540bd9621bd187698bdee": {
      "model_module": "@jupyter-widgets/controls",
      "model_module_version": "1.4.0",
      "model_name": "LabelModel",
      "state": {
       "layout": "IPY_MODEL_836ab4145631471c893eedcc09d452d5",
       "style": "IPY_MODEL_6bc4d8796ae145a2a14b4a4c7d78fe38",
       "value": "Interactive widget: Monty Hall problem"
      }
     },
     "6ea72d969d2f45bdbb9a5cd0d56b6bd8": {
      "model_module": "@jupyter-widgets/controls",
      "model_module_version": "1.4.0",
      "model_name": "ButtonModel",
      "state": {
       "description": "Door 1",
       "layout": "IPY_MODEL_34e15ab27a0c4238a241898a53977c20",
       "style": "IPY_MODEL_98d2ea10f8d84121a6fbd44049591ab4"
      }
     },
     "6f0e8e48ea864c51ace09128e61fb543": {
      "model_module": "@jupyter-widgets/controls",
      "model_module_version": "1.4.0",
      "model_name": "ButtonModel",
      "state": {
       "button_style": "info",
       "description": "Door 2",
       "disabled": true,
       "layout": "IPY_MODEL_1dbfc860358349afbf058bfee054b68e",
       "style": "IPY_MODEL_0e1901797e3142a8a6970ca3c3918c51"
      }
     },
     "6f4cb9a801864e71bee642b139f55a7d": {
      "model_module": "@jupyter-widgets/base",
      "model_module_version": "1.1.0",
      "model_name": "LayoutModel",
      "state": {
       "grid_area": "text3",
       "width": "auto"
      }
     },
     "6f7e14a505374a49ab1312b92d972e26": {
      "model_module": "@jupyter-widgets/controls",
      "model_module_version": "1.4.0",
      "model_name": "IntTextModel",
      "state": {
       "disabled": true,
       "layout": "IPY_MODEL_1e9da08b484b4d99abb0632f566a72f7",
       "step": 1,
       "style": "IPY_MODEL_2eb5ec04d3574981b1fd1795615e669f",
       "value": 6
      }
     },
     "6f8d4651524543b4959f4c7f6bbcfdda": {
      "model_module": "@jupyter-widgets/controls",
      "model_module_version": "1.4.0",
      "model_name": "IntTextModel",
      "state": {
       "disabled": true,
       "layout": "IPY_MODEL_fd1475d30fd94f6f9a100e94ef1136a4",
       "step": 1,
       "style": "IPY_MODEL_e2cbe1f7eda84c5aa031b25969c2e510",
       "value": 6
      }
     },
     "6f9f146ea5fa470191980bdc2d93ae02": {
      "model_module": "@jupyter-widgets/controls",
      "model_module_version": "1.4.0",
      "model_name": "ButtonStyleModel",
      "state": {}
     },
     "6fa05abdf0004a408339d0ccce4dac47": {
      "model_module": "@jupyter-widgets/controls",
      "model_module_version": "1.4.0",
      "model_name": "ButtonStyleModel",
      "state": {}
     },
     "6fa33abeac3c4b2bbd369402d941e807": {
      "model_module": "@jupyter-widgets/controls",
      "model_module_version": "1.4.0",
      "model_name": "LabelModel",
      "state": {
       "layout": "IPY_MODEL_f66924bc956e4b70b0b9acb5eadb4735",
       "style": "IPY_MODEL_bd6459e23c6c4b069222f6833bb893e4",
       "value": "number of plays"
      }
     },
     "704705d2bf794cd4b77418e76bd35e3f": {
      "model_module": "@jupyter-widgets/controls",
      "model_module_version": "1.4.0",
      "model_name": "GridBoxModel",
      "state": {
       "children": [
        "IPY_MODEL_d2bbdcafa70841af8fd34ea7a59ff070",
        "IPY_MODEL_6700c1b1f353443380ef2c63dff56df9",
        "IPY_MODEL_3592e1cea357443fbce3de59d0654438",
        "IPY_MODEL_26619ba24d7940a3a199e0d056350f2f",
        "IPY_MODEL_51ca717448354c1ba123a9ebfafb00d5",
        "IPY_MODEL_0fb9b7436d524101b4513aed2981055d",
        "IPY_MODEL_950918091b6e459bbfe8472460856e79",
        "IPY_MODEL_f523669c138347858d7f6d5f10e105e1",
        "IPY_MODEL_bb4af34f30e041cbb226943a817d95dd",
        "IPY_MODEL_2dabcba3727b4079a50f757397e5ee54"
       ],
       "layout": "IPY_MODEL_fb560e3e9b614ecdb2f1d7708fac56b8"
      }
     },
     "70b0ddaa1b2146219f6aa656212a404b": {
      "model_module": "@jupyter-widgets/controls",
      "model_module_version": "1.4.0",
      "model_name": "DescriptionStyleModel",
      "state": {
       "description_width": ""
      }
     },
     "70dd8596fcf346df8a61cdb22740db74": {
      "model_module": "@jupyter-widgets/controls",
      "model_module_version": "1.4.0",
      "model_name": "ButtonStyleModel",
      "state": {}
     },
     "70ed1b3f3f0d4108b1eecb723836fa92": {
      "model_module": "@jupyter-widgets/controls",
      "model_module_version": "1.4.0",
      "model_name": "BoxModel",
      "state": {
       "children": [
        "IPY_MODEL_6e82aae2d1c540bd9621bd187698bdee"
       ],
       "layout": "IPY_MODEL_3e1a30970e92403d9d9b96d7bed797b8"
      }
     },
     "713fffbc8b7144b8af762ded2f7f7a97": {
      "model_module": "@jupyter-widgets/controls",
      "model_module_version": "1.4.0",
      "model_name": "ButtonStyleModel",
      "state": {}
     },
     "71f63fd359224ad19f674ca385a6adab": {
      "model_module": "@jupyter-widgets/controls",
      "model_module_version": "1.4.0",
      "model_name": "BoxModel",
      "state": {
       "children": [
        "IPY_MODEL_34d8734d18914b6f94d7a0bc7c025405",
        "IPY_MODEL_cd2f36f5fd954f589a216d342a6ef8b4",
        "IPY_MODEL_e3e36a98107f4e88a7026afcf9fe7b19"
       ],
       "layout": "IPY_MODEL_9b52e248fd6648b0b3580897562aa46e"
      }
     },
     "7237be3998bc430190850e48a9111802": {
      "model_module": "@jupyter-widgets/base",
      "model_module_version": "1.1.0",
      "model_name": "LayoutModel",
      "state": {
       "flex": "1 1 auto",
       "width": "auto"
      }
     },
     "7275e15213bd4b1396f3a717524f38ab": {
      "model_module": "@jupyter-widgets/controls",
      "model_module_version": "1.4.0",
      "model_name": "DescriptionStyleModel",
      "state": {
       "description_width": ""
      }
     },
     "72f85a77a91642d4baccf3d307753aea": {
      "model_module": "@jupyter-widgets/controls",
      "model_module_version": "1.4.0",
      "model_name": "ButtonStyleModel",
      "state": {}
     },
     "7359eb99c16b4bedaf8b269de661abad": {
      "model_module": "@jupyter-widgets/base",
      "model_module_version": "1.1.0",
      "model_name": "LayoutModel",
      "state": {
       "grid_area": "label3",
       "width": "auto"
      }
     },
     "73ebb32554154d6cbafdbe0e54b00ee0": {
      "model_module": "@jupyter-widgets/controls",
      "model_module_version": "1.4.0",
      "model_name": "ButtonStyleModel",
      "state": {}
     },
     "748f5823b1124c06bd6b3b0d2616f71f": {
      "model_module": "@jupyter-widgets/controls",
      "model_module_version": "1.4.0",
      "model_name": "BoxModel",
      "state": {
       "children": [
        "IPY_MODEL_87a0434db4384f0bba0998d88fe66e25",
        "IPY_MODEL_c56b0cc5a1b143b7a1a7f25f3f97c454",
        "IPY_MODEL_c639001b4155403482ca7f6437aeb85b"
       ],
       "layout": "IPY_MODEL_e176a263fac6447aa146d1fe2c4255e4"
      }
     },
     "74ade3e48b95437d97a37c8b9083c528": {
      "model_module": "@jupyter-widgets/controls",
      "model_module_version": "1.4.0",
      "model_name": "ButtonStyleModel",
      "state": {}
     },
     "74bd277b62454adb9a4b503e3429908c": {
      "model_module": "@jupyter-widgets/controls",
      "model_module_version": "1.4.0",
      "model_name": "BoxModel",
      "state": {
       "children": [
        "IPY_MODEL_bff29f05bd1a4f88bdd1eb7bfd03dced"
       ],
       "layout": "IPY_MODEL_bd861f801e8f4ee2ad64b6deb8a9fad4"
      }
     },
     "74c91f603cde42cda7520663b2229c63": {
      "model_module": "@jupyter-widgets/base",
      "model_module_version": "1.1.0",
      "model_name": "LayoutModel",
      "state": {
       "grid_area": "text3",
       "width": "auto"
      }
     },
     "74fe08d4048743ddabc53230af47e453": {
      "model_module": "@jupyter-widgets/controls",
      "model_module_version": "1.4.0",
      "model_name": "LabelModel",
      "state": {
       "layout": "IPY_MODEL_1a97caf62ba4497994c155cd7ffc1804",
       "style": "IPY_MODEL_51527269233d418787f5e339eb71d30c",
       "value": "Interactive widget: Monty Hall problem"
      }
     },
     "7577bea76dd248bea645d61466a5abc1": {
      "model_module": "@jupyter-widgets/controls",
      "model_module_version": "1.4.0",
      "model_name": "DescriptionStyleModel",
      "state": {
       "description_width": ""
      }
     },
     "75cb73cf09094e7bb2360e3dd6972541": {
      "model_module": "@jupyter-widgets/base",
      "model_module_version": "1.1.0",
      "model_name": "LayoutModel",
      "state": {
       "grid_area": "actions",
       "width": "auto"
      }
     },
     "7635cd34dd3a4eebb81b22ed153877af": {
      "model_module": "@jupyter-widgets/controls",
      "model_module_version": "1.4.0",
      "model_name": "ButtonStyleModel",
      "state": {}
     },
     "765278f9f24f45e5958ea7ab59d8de56": {
      "model_module": "@jupyter-widgets/controls",
      "model_module_version": "1.4.0",
      "model_name": "ButtonModel",
      "state": {
       "description": "Door 2",
       "layout": "IPY_MODEL_34e15ab27a0c4238a241898a53977c20",
       "style": "IPY_MODEL_8eda0d150d384d6bb13a1dccf5fa4f4e"
      }
     },
     "7659aa4017804fd0b6c29c677669b92a": {
      "model_module": "@jupyter-widgets/controls",
      "model_module_version": "1.4.0",
      "model_name": "ButtonModel",
      "state": {
       "description": "Door 1",
       "layout": "IPY_MODEL_f40fe02eb4384316b27df0dbeac5d004",
       "style": "IPY_MODEL_b6a1577ddd4a405bbfe2e144c06965e1"
      }
     },
     "76a5d47594d14ea786a5a51bbf6b159e": {
      "model_module": "@jupyter-widgets/controls",
      "model_module_version": "1.4.0",
      "model_name": "ButtonModel",
      "state": {
       "description": "reveal",
       "layout": "IPY_MODEL_a4226ed469a64be2a119db617c798e7f",
       "style": "IPY_MODEL_73ebb32554154d6cbafdbe0e54b00ee0",
       "tooltip": "open selected door"
      }
     },
     "76c157aa2cf84fae8cbb60d5e8229aee": {
      "model_module": "@jupyter-widgets/controls",
      "model_module_version": "1.4.0",
      "model_name": "ButtonModel",
      "state": {
       "description": "Door 1",
       "layout": "IPY_MODEL_f72390e86c2d492c87fd35e9905a6872",
       "style": "IPY_MODEL_21f6194149b74b33a5863412a90af6f1"
      }
     },
     "76d590458e434cf4b3063a1830071d6c": {
      "model_module": "@jupyter-widgets/controls",
      "model_module_version": "1.4.0",
      "model_name": "BoxModel",
      "state": {
       "children": [
        "IPY_MODEL_e54240540913406d8ba1c65223c35823",
        "IPY_MODEL_a29799df88bd46d7aaf8911a2e5e1a5c",
        "IPY_MODEL_84cc1bd5ee4f4ce1965b90e7d222ca4e"
       ],
       "layout": "IPY_MODEL_250bacff99574e18aecfe914c99da584"
      }
     },
     "771393bf29a4493aaabb185868847dde": {
      "model_module": "@jupyter-widgets/base",
      "model_module_version": "1.1.0",
      "model_name": "LayoutModel",
      "state": {
       "grid_area": "actions",
       "width": "auto"
      }
     },
     "7722aaaf55b64da19c76a7285606932a": {
      "model_module": "@jupyter-widgets/base",
      "model_module_version": "1.1.0",
      "model_name": "LayoutModel",
      "state": {
       "grid_area": "actions",
       "width": "auto"
      }
     },
     "776c2441f69946d198ccc7029402282d": {
      "model_module": "@jupyter-widgets/base",
      "model_module_version": "1.1.0",
      "model_name": "LayoutModel",
      "state": {
       "flex": "1 1 auto",
       "width": "auto"
      }
     },
     "777a162e9c9744ae98a75d55079096e3": {
      "model_module": "@jupyter-widgets/controls",
      "model_module_version": "1.4.0",
      "model_name": "DescriptionStyleModel",
      "state": {
       "description_width": ""
      }
     },
     "7796185f81ff43a0a6a85834526f2283": {
      "model_module": "@jupyter-widgets/controls",
      "model_module_version": "1.4.0",
      "model_name": "DescriptionStyleModel",
      "state": {
       "description_width": ""
      }
     },
     "77da7184954d4b0a8de5b462df534ce5": {
      "model_module": "@jupyter-widgets/controls",
      "model_module_version": "1.4.0",
      "model_name": "ButtonModel",
      "state": {
       "description": "reset",
       "layout": "IPY_MODEL_315ba5816719418d8e82449c80b02fb4",
       "style": "IPY_MODEL_56c6ea74c08647598eb933479ed51b8f",
       "tooltip": "reset game"
      }
     },
     "783b5acda19148f5a3697ad301c92811": {
      "model_module": "@jupyter-widgets/controls",
      "model_module_version": "1.4.0",
      "model_name": "LabelModel",
      "state": {
       "layout": "IPY_MODEL_d6e06c90f05e49cda25c6db778f57604",
       "style": "IPY_MODEL_b680434f8bc94af1a8b5c747657260a2",
       "value": "success rate"
      }
     },
     "791001ea97fe4175985809d6a00fe996": {
      "model_module": "@jupyter-widgets/base",
      "model_module_version": "1.1.0",
      "model_name": "LayoutModel",
      "state": {
       "flex": "1 1 auto",
       "width": "auto"
      }
     },
     "796a52e3a77a4f7483d93a2a79e92d26": {
      "model_module": "@jupyter-widgets/controls",
      "model_module_version": "1.4.0",
      "model_name": "LabelModel",
      "state": {
       "layout": "IPY_MODEL_952829fbf5ba4cf089d57434b635b9f5",
       "style": "IPY_MODEL_bd27b2529af942639b8a804d78726f86",
       "value": "number of wins"
      }
     },
     "7a6f32f3e9d94f86b96dac6c88e91b2a": {
      "model_module": "@jupyter-widgets/controls",
      "model_module_version": "1.4.0",
      "model_name": "LabelModel",
      "state": {
       "layout": "IPY_MODEL_f9ab4e7506374ceba61ccc261fa1e8e2",
       "style": "IPY_MODEL_3a9dd7ff530e4c379b44a87d48ee1a0d",
       "value": "Pick a door..."
      }
     },
     "7aa77a69f7fd438db6ba49a1ebbb8be5": {
      "model_module": "@jupyter-widgets/controls",
      "model_module_version": "1.4.0",
      "model_name": "DescriptionStyleModel",
      "state": {
       "description_width": ""
      }
     },
     "7b47539bb0a9444c95e61eb2e77d66ed": {
      "model_module": "@jupyter-widgets/base",
      "model_module_version": "1.1.0",
      "model_name": "LayoutModel",
      "state": {
       "grid_area": "label1",
       "width": "auto"
      }
     },
     "7b8120324a3b44c8b192f1c923d9740c": {
      "model_module": "@jupyter-widgets/controls",
      "model_module_version": "1.4.0",
      "model_name": "ButtonModel",
      "state": {
       "description": "goat",
       "disabled": true,
       "layout": "IPY_MODEL_1dbfc860358349afbf058bfee054b68e",
       "style": "IPY_MODEL_044ddf346ded4023ae9e54713fa23fe5"
      }
     },
     "7b91231fe3914ef3869eb6578c2c964d": {
      "model_module": "@jupyter-widgets/controls",
      "model_module_version": "1.4.0",
      "model_name": "IntTextModel",
      "state": {
       "disabled": true,
       "layout": "IPY_MODEL_d9a1c979f5a444179570fcdc8383eb57",
       "step": 1,
       "style": "IPY_MODEL_b4973152c0154ef6b17abf7a9955a91d"
      }
     },
     "7ce0b0b268874578a0bc9e7681f943a3": {
      "model_module": "@jupyter-widgets/base",
      "model_module_version": "1.1.0",
      "model_name": "LayoutModel",
      "state": {
       "grid_area": "status",
       "width": "auto"
      }
     },
     "7d00151c49294c45ba66ba1eb48d04cb": {
      "model_module": "@jupyter-widgets/controls",
      "model_module_version": "1.4.0",
      "model_name": "DescriptionStyleModel",
      "state": {
       "description_width": ""
      }
     },
     "7d17075c31a84c7583c245f267e7c779": {
      "model_module": "@jupyter-widgets/base",
      "model_module_version": "1.1.0",
      "model_name": "LayoutModel",
      "state": {
       "grid_area": "label2",
       "width": "auto"
      }
     },
     "7d222db38dbc4aa3be10875aa34749fe": {
      "model_module": "@jupyter-widgets/base",
      "model_module_version": "1.1.0",
      "model_name": "LayoutModel",
      "state": {
       "grid_area": "actions",
       "width": "auto"
      }
     },
     "7d7d18ec8bcb4348beb1e30643dc5991": {
      "model_module": "@jupyter-widgets/controls",
      "model_module_version": "1.4.0",
      "model_name": "DescriptionStyleModel",
      "state": {
       "description_width": ""
      }
     },
     "7d94beb4c2e14948a17e63662be68c4e": {
      "model_module": "@jupyter-widgets/base",
      "model_module_version": "1.1.0",
      "model_name": "LayoutModel",
      "state": {
       "grid_area": "text1",
       "width": "auto"
      }
     },
     "7dc084bab07f4d32abb366db9d143dc2": {
      "model_module": "@jupyter-widgets/controls",
      "model_module_version": "1.4.0",
      "model_name": "DescriptionStyleModel",
      "state": {
       "description_width": ""
      }
     },
     "7e0816198b374de5852a937533876e02": {
      "model_module": "@jupyter-widgets/controls",
      "model_module_version": "1.4.0",
      "model_name": "LabelModel",
      "state": {
       "layout": "IPY_MODEL_344b6a2fa3024e56816518d978fefa61",
       "style": "IPY_MODEL_33e0b50ce43f46d384ff007a648b79d9",
       "value": "number of wins"
      }
     },
     "7ecb695d974943a9b0698e7049fae628": {
      "model_module": "@jupyter-widgets/controls",
      "model_module_version": "1.4.0",
      "model_name": "ButtonStyleModel",
      "state": {}
     },
     "7ed6d00d384e4b908dd91875c64531ce": {
      "model_module": "@jupyter-widgets/base",
      "model_module_version": "1.1.0",
      "model_name": "LayoutModel",
      "state": {
       "grid_area": "text1",
       "width": "auto"
      }
     },
     "7efc72bbacdb47bb939e531a86ba9bba": {
      "model_module": "@jupyter-widgets/controls",
      "model_module_version": "1.4.0",
      "model_name": "ButtonModel",
      "state": {
       "description": "reset",
       "disabled": true,
       "layout": "IPY_MODEL_409aebc07dcc4f83a2b6e3273d8a962d",
       "style": "IPY_MODEL_1303966c710748c5ac242cb2a7c0692f",
       "tooltip": "reset game"
      }
     },
     "7f36a1e292d243cea01924f05a61017b": {
      "model_module": "@jupyter-widgets/controls",
      "model_module_version": "1.4.0",
      "model_name": "IntTextModel",
      "state": {
       "disabled": true,
       "layout": "IPY_MODEL_4d180d3a2f634127b36253524103c26b",
       "step": 1,
       "style": "IPY_MODEL_efa7746d3b7a4074b7c5d78e9b41c323"
      }
     },
     "800d1c14d56647cf911ef74d41bdc86e": {
      "model_module": "@jupyter-widgets/controls",
      "model_module_version": "1.4.0",
      "model_name": "ButtonStyleModel",
      "state": {}
     },
     "802b00a5501b4cbf9cdca03e37fa5b4d": {
      "model_module": "@jupyter-widgets/base",
      "model_module_version": "1.1.0",
      "model_name": "LayoutModel",
      "state": {
       "grid_area": "banner",
       "justify_content": "center",
       "width": "auto"
      }
     },
     "803f2fe852704ad1a9dbf1aa191c9cb6": {
      "model_module": "@jupyter-widgets/base",
      "model_module_version": "1.1.0",
      "model_name": "LayoutModel",
      "state": {
       "grid_area": "actions",
       "width": "auto"
      }
     },
     "80cf283db4fa4841a4a99d62838992ea": {
      "model_module": "@jupyter-widgets/controls",
      "model_module_version": "1.4.0",
      "model_name": "FloatTextModel",
      "state": {
       "disabled": true,
       "layout": "IPY_MODEL_d9d20935ca024a62acea155964d9dc5a",
       "step": null,
       "style": "IPY_MODEL_5964f0834bf04f54b01e83a3e6c94869",
       "value": 0.75
      }
     },
     "80f00da61d71404b89dc57dd3f1007fd": {
      "model_module": "@jupyter-widgets/controls",
      "model_module_version": "1.4.0",
      "model_name": "BoxModel",
      "state": {
       "children": [
        "IPY_MODEL_dfc96f15f3184ac3b24f69288cbe296f"
       ],
       "layout": "IPY_MODEL_321247b4ca0a40e7b99d73c3d0414330"
      }
     },
     "812c83297b5847e683e06792adf4d559": {
      "model_module": "@jupyter-widgets/controls",
      "model_module_version": "1.4.0",
      "model_name": "BoxModel",
      "state": {
       "children": [
        "IPY_MODEL_9bb3a0429e344c88a8cbe29d38567a65",
        "IPY_MODEL_5fbb9cb0004144eea9bd6c3362af3772",
        "IPY_MODEL_311547ba492d4b0a8475c288952db2f3"
       ],
       "layout": "IPY_MODEL_75cb73cf09094e7bb2360e3dd6972541"
      }
     },
     "816fbde838e54f139bad97da5e7786b3": {
      "model_module": "@jupyter-widgets/controls",
      "model_module_version": "1.4.0",
      "model_name": "ButtonModel",
      "state": {
       "description": "Door 3",
       "layout": "IPY_MODEL_a7b8542b768b4b0aada283db2ee3495c",
       "style": "IPY_MODEL_c75827f5be4f4534a0ffbd29aa622ab4"
      }
     },
     "81af6c20bab04687aa239a29a335bf59": {
      "model_module": "@jupyter-widgets/base",
      "model_module_version": "1.1.0",
      "model_name": "LayoutModel",
      "state": {
       "grid_area": "doors",
       "width": "auto"
      }
     },
     "81bed4b3908644e896ddcb5fa73361e2": {
      "model_module": "@jupyter-widgets/base",
      "model_module_version": "1.1.0",
      "model_name": "LayoutModel",
      "state": {
       "grid_area": "text1",
       "width": "auto"
      }
     },
     "81dfd100e6ed40b1830d400b83442d22": {
      "model_module": "@jupyter-widgets/controls",
      "model_module_version": "1.4.0",
      "model_name": "ButtonStyleModel",
      "state": {}
     },
     "81edaf72c11b4fffab86e6f8bfeeb194": {
      "model_module": "@jupyter-widgets/controls",
      "model_module_version": "1.4.0",
      "model_name": "ButtonStyleModel",
      "state": {}
     },
     "823469dbdba0485ebcace7f33d5291af": {
      "model_module": "@jupyter-widgets/base",
      "model_module_version": "1.1.0",
      "model_name": "LayoutModel",
      "state": {
       "grid_area": "text2",
       "width": "auto"
      }
     },
     "823d5fa1f9c34bffbe3414ebefc8523b": {
      "model_module": "@jupyter-widgets/controls",
      "model_module_version": "1.4.0",
      "model_name": "ButtonModel",
      "state": {
       "description": "goat",
       "disabled": true,
       "layout": "IPY_MODEL_f0e464f3ba0646b3af0a8700ad12c39b",
       "style": "IPY_MODEL_5081a120f519429b93832f16a7a7c701"
      }
     },
     "82482bab9a2d475b94c6b1328d9f6269": {
      "model_module": "@jupyter-widgets/base",
      "model_module_version": "1.1.0",
      "model_name": "LayoutModel",
      "state": {
       "grid_area": "text3",
       "width": "auto"
      }
     },
     "82b8241dbebf4927bb0a4016d085e088": {
      "model_module": "@jupyter-widgets/controls",
      "model_module_version": "1.4.0",
      "model_name": "ButtonStyleModel",
      "state": {}
     },
     "836ab4145631471c893eedcc09d452d5": {
      "model_module": "@jupyter-widgets/base",
      "model_module_version": "1.1.0",
      "model_name": "LayoutModel",
      "state": {
       "width": "50%"
      }
     },
     "83e11cc3e009422a8133fed8867090b3": {
      "model_module": "@jupyter-widgets/base",
      "model_module_version": "1.1.0",
      "model_name": "LayoutModel",
      "state": {
       "grid_area": "text2",
       "width": "auto"
      }
     },
     "8403f057053b4e2b9eedea12571e8aae": {
      "model_module": "@jupyter-widgets/controls",
      "model_module_version": "1.4.0",
      "model_name": "ButtonStyleModel",
      "state": {}
     },
     "8482111e4b934329a0d376aaf617e462": {
      "model_module": "@jupyter-widgets/controls",
      "model_module_version": "1.4.0",
      "model_name": "DescriptionStyleModel",
      "state": {
       "description_width": ""
      }
     },
     "84aa545cdc9646b7b0fd457d4dd323d7": {
      "model_module": "@jupyter-widgets/base",
      "model_module_version": "1.1.0",
      "model_name": "LayoutModel",
      "state": {
       "grid_area": "label3",
       "width": "auto"
      }
     },
     "84cc1bd5ee4f4ce1965b90e7d222ca4e": {
      "model_module": "@jupyter-widgets/controls",
      "model_module_version": "1.4.0",
      "model_name": "ButtonModel",
      "state": {
       "description": "Door 3",
       "layout": "IPY_MODEL_bb65c9655ed94deaaa5aaa039f3c5064",
       "style": "IPY_MODEL_4ea73fb9d38c469f837d3209078a9057"
      }
     },
     "85012ffd6b784206b9b1fbdc9419a2c0": {
      "model_module": "@jupyter-widgets/base",
      "model_module_version": "1.1.0",
      "model_name": "LayoutModel",
      "state": {
       "width": "50%"
      }
     },
     "8529e056618e43e4b6e750c4fa53a8c8": {
      "model_module": "@jupyter-widgets/controls",
      "model_module_version": "1.4.0",
      "model_name": "LabelModel",
      "state": {
       "layout": "IPY_MODEL_a0a53d71491f459b846f62a225da03ef",
       "style": "IPY_MODEL_a265c3f02bec4be59ea5f7319ff7ab6b",
       "value": "Interactive widget: Monty Hall problem"
      }
     },
     "8533cd8e58214da9aeacce112168d096": {
      "model_module": "@jupyter-widgets/controls",
      "model_module_version": "1.4.0",
      "model_name": "ButtonModel",
      "state": {
       "description": "continue",
       "disabled": true,
       "layout": "IPY_MODEL_9c7babca7bb0474e949063a07e462712",
       "style": "IPY_MODEL_c7e8e2e744c74928932ec69d91445642",
       "tooltip": "continue play"
      }
     },
     "853b29611d7346039be81d076a75cda0": {
      "model_module": "@jupyter-widgets/base",
      "model_module_version": "1.1.0",
      "model_name": "LayoutModel",
      "state": {
       "grid_template_areas": "\n                \"banner banner banner banner\"\n                \"doors doors doors doors\"\n                \"label1 label1 text1 text1\"\n                \"label2 label2 text2 text2\"\n                \"label3 label3 text3 text3\"\n                \"status status status status\"\n                \". . actions actions\"\n            ",
       "grid_template_columns": "25% 25% 25% 25%",
       "grid_template_rows": "auto auto auto auto auto auto auto",
       "width": "50%"
      }
     },
     "856cb3b23ec948588101a1c2521f8bd5": {
      "model_module": "@jupyter-widgets/base",
      "model_module_version": "1.1.0",
      "model_name": "LayoutModel",
      "state": {
       "grid_area": "status",
       "width": "auto"
      }
     },
     "85ef44c0891940889c14d7f770c1f6a1": {
      "model_module": "@jupyter-widgets/controls",
      "model_module_version": "1.4.0",
      "model_name": "BoxModel",
      "state": {
       "children": [
        "IPY_MODEL_6c5dedb0a2a94b9380ed49d68459b9a5"
       ],
       "layout": "IPY_MODEL_2970546c379e44f087b9cb5be101ffe2"
      }
     },
     "8678e3fbb5e14ef4bd29f927f1e7a10f": {
      "model_module": "@jupyter-widgets/controls",
      "model_module_version": "1.4.0",
      "model_name": "GridBoxModel",
      "state": {
       "children": [
        "IPY_MODEL_80f00da61d71404b89dc57dd3f1007fd",
        "IPY_MODEL_103a160cdde94e079075d22e8a6e09bb",
        "IPY_MODEL_5bcf866d24f140f49c9ddf9fa02bcf0f",
        "IPY_MODEL_0c9bf3daf3eb42f9b2faa2fda8376a04",
        "IPY_MODEL_7e0816198b374de5852a937533876e02",
        "IPY_MODEL_e91e9722c73445d897752ce05cb8c030",
        "IPY_MODEL_8d4d2f9f48cf4b0fb5f6a142632e9ce1",
        "IPY_MODEL_36a5f4a97b4c41059cfcffb23c2ea178",
        "IPY_MODEL_e07969c56d6b40f8bd50263522398e38",
        "IPY_MODEL_812c83297b5847e683e06792adf4d559"
       ],
       "layout": "IPY_MODEL_299528541d804acaabf582e04853f8f0"
      }
     },
     "86976564f92f47afafb9b2242e937fb6": {
      "model_module": "@jupyter-widgets/controls",
      "model_module_version": "1.4.0",
      "model_name": "BoxModel",
      "state": {
       "children": [
        "IPY_MODEL_db54e25a093140f99e1a620f858dd08d"
       ],
       "layout": "IPY_MODEL_5a06dcab15a04b949b85f7139aeeefd2"
      }
     },
     "869a2f0f015c468ea8fda33d9ada8e29": {
      "model_module": "@jupyter-widgets/controls",
      "model_module_version": "1.4.0",
      "model_name": "LabelModel",
      "state": {
       "layout": "IPY_MODEL_9071e1dfa9dc4d699dd84b6cb559f11e",
       "style": "IPY_MODEL_ba48f3c2bc8543f2b83d01ef5fefeaa0",
       "value": "number of plays"
      }
     },
     "86aeedc3feb84159ae451dc33ebfce66": {
      "model_module": "@jupyter-widgets/controls",
      "model_module_version": "1.4.0",
      "model_name": "ButtonStyleModel",
      "state": {}
     },
     "86f2a714743d477e89353b987c3fbcc7": {
      "model_module": "@jupyter-widgets/controls",
      "model_module_version": "1.4.0",
      "model_name": "LabelModel",
      "state": {
       "layout": "IPY_MODEL_03915cfbe9174ea7a2e488daa2d02e01",
       "style": "IPY_MODEL_1d6fea4d3ad047e7a0c61a367b861e0f",
       "value": "number of wins"
      }
     },
     "86fa0f2fbce34574a7a8e9488e13e1d8": {
      "model_module": "@jupyter-widgets/controls",
      "model_module_version": "1.4.0",
      "model_name": "ButtonModel",
      "state": {
       "description": "continue",
       "disabled": true,
       "layout": "IPY_MODEL_e072a7ff80a24f85944c5c53586255e9",
       "style": "IPY_MODEL_6104dd813a4f4ce8b2b6fffee242c8b9",
       "tooltip": "continue play"
      }
     },
     "8700231a2b594e45ba1623eb81000c20": {
      "model_module": "@jupyter-widgets/controls",
      "model_module_version": "1.4.0",
      "model_name": "BoxModel",
      "state": {
       "children": [
        "IPY_MODEL_0ff0cee17f9e438d83a889984810eb07",
        "IPY_MODEL_1644371b0f094eafb7a613f4b9c4dcb1",
        "IPY_MODEL_06996f47fb7342738b3ed3f35cbf25d5"
       ],
       "layout": "IPY_MODEL_2e2d760d862c468caf59f7553a8a2f6a"
      }
     },
     "87125cd803de42a0b47fe2452bc93546": {
      "model_module": "@jupyter-widgets/controls",
      "model_module_version": "1.4.0",
      "model_name": "DescriptionStyleModel",
      "state": {
       "description_width": ""
      }
     },
     "872796b99cf448c0a06e399ce6f4f52d": {
      "model_module": "@jupyter-widgets/controls",
      "model_module_version": "1.4.0",
      "model_name": "DescriptionStyleModel",
      "state": {
       "description_width": ""
      }
     },
     "876e720c28914b61891c31e4452d56b1": {
      "model_module": "@jupyter-widgets/controls",
      "model_module_version": "1.4.0",
      "model_name": "DescriptionStyleModel",
      "state": {
       "description_width": ""
      }
     },
     "878200f50e4e4cf38d8e8737af80cf45": {
      "model_module": "@jupyter-widgets/base",
      "model_module_version": "1.1.0",
      "model_name": "LayoutModel",
      "state": {
       "grid_area": "text2",
       "width": "auto"
      }
     },
     "87928bc0b8f3401e80ffcf49e7e79625": {
      "model_module": "@jupyter-widgets/controls",
      "model_module_version": "1.4.0",
      "model_name": "LabelModel",
      "state": {
       "layout": "IPY_MODEL_301fb9efa3d7400e89ba46067f053c78",
       "style": "IPY_MODEL_8d6964fd624d425db88a4b093b0da66b",
       "value": "You win! Continue playing?"
      }
     },
     "87a0434db4384f0bba0998d88fe66e25": {
      "model_module": "@jupyter-widgets/controls",
      "model_module_version": "1.4.0",
      "model_name": "ButtonModel",
      "state": {
       "description": "reveal",
       "disabled": true,
       "layout": "IPY_MODEL_2de900b4af564d419c36ffdfc4f0a019",
       "style": "IPY_MODEL_28e0cb8c4082447b96aa0070236f01e5",
       "tooltip": "open selected door"
      }
     },
     "87f42f932dd7413ebb51ac39395eafe9": {
      "model_module": "@jupyter-widgets/controls",
      "model_module_version": "1.4.0",
      "model_name": "ButtonModel",
      "state": {
       "description": "Door 2",
       "layout": "IPY_MODEL_1a5e778935ba466fa47859f7b670e246",
       "style": "IPY_MODEL_2f7b20cba9e04f3ebc41c9ef287f8762"
      }
     },
     "883991a856e6481bba39577da34dbd38": {
      "model_module": "@jupyter-widgets/base",
      "model_module_version": "1.1.0",
      "model_name": "LayoutModel",
      "state": {
       "grid_area": "label2",
       "width": "auto"
      }
     },
     "887430c7fc5f4fdeaa1726abd7c3805c": {
      "model_module": "@jupyter-widgets/controls",
      "model_module_version": "1.4.0",
      "model_name": "DescriptionStyleModel",
      "state": {
       "description_width": ""
      }
     },
     "89342fc0a0334d58b2eee807c33836d6": {
      "model_module": "@jupyter-widgets/controls",
      "model_module_version": "1.4.0",
      "model_name": "DescriptionStyleModel",
      "state": {
       "description_width": ""
      }
     },
     "89846f10ed6f4947bf44ee5904779ca4": {
      "model_module": "@jupyter-widgets/base",
      "model_module_version": "1.1.0",
      "model_name": "LayoutModel",
      "state": {
       "grid_area": "text3",
       "width": "auto"
      }
     },
     "8987c4640ffb467e85720cb2ba5913ad": {
      "model_module": "@jupyter-widgets/base",
      "model_module_version": "1.1.0",
      "model_name": "LayoutModel",
      "state": {
       "grid_area": "actions",
       "width": "auto"
      }
     },
     "89fb489b2ae548b1a83f6b389bca6627": {
      "model_module": "@jupyter-widgets/base",
      "model_module_version": "1.1.0",
      "model_name": "LayoutModel",
      "state": {
       "width": "50%"
      }
     },
     "8a1e199114d447edb173e9ba6cf3666c": {
      "model_module": "@jupyter-widgets/base",
      "model_module_version": "1.1.0",
      "model_name": "LayoutModel",
      "state": {
       "flex": "1 1 auto",
       "width": "auto"
      }
     },
     "8a7533906dfa450680d81f36d8a408c3": {
      "model_module": "@jupyter-widgets/controls",
      "model_module_version": "1.4.0",
      "model_name": "GridBoxModel",
      "state": {
       "children": [
        "IPY_MODEL_fd36b4851cdb4f78bc1e953afc5ad57e",
        "IPY_MODEL_186f9b351efc451a8ad80de17483b480",
        "IPY_MODEL_fcf8b73087684beab23d75b23fbfeeb3",
        "IPY_MODEL_2cbfb70f68fa4b74b51e93e2581cfa26",
        "IPY_MODEL_a360e89a54664742bd23433e1cab7886",
        "IPY_MODEL_ccc433c8f3c8437a842191bffe9e561f",
        "IPY_MODEL_9643def4f3b94b508baa7b6c6c8b3664",
        "IPY_MODEL_e8a73c00e1c34b18a1e4cf9fa32555d5",
        "IPY_MODEL_7a6f32f3e9d94f86b96dac6c88e91b2a",
        "IPY_MODEL_37438033cd374d98aded3a07d4eeba86"
       ],
       "layout": "IPY_MODEL_60e7c1b78550449c807d03d2932fdf65"
      }
     },
     "8ac51f2987ae4611aadec67474912067": {
      "model_module": "@jupyter-widgets/controls",
      "model_module_version": "1.4.0",
      "model_name": "LabelModel",
      "state": {
       "layout": "IPY_MODEL_c4c75524df21431f8b05011aad09668e",
       "style": "IPY_MODEL_06c1616e6099497fb917e8a4e70b8abe",
       "value": "success rate"
      }
     },
     "8afb0848b4924f7a8ebaa0b0f9ee03a0": {
      "model_module": "@jupyter-widgets/controls",
      "model_module_version": "1.4.0",
      "model_name": "LabelModel",
      "state": {
       "layout": "IPY_MODEL_2a757b85db164f74ae6658d3d5b05a15",
       "style": "IPY_MODEL_f394cfd0e3fc40f68a0f28ea01f2d7c3",
       "value": "success rate"
      }
     },
     "8b20aee5c55341e694025216780e47ed": {
      "model_module": "@jupyter-widgets/controls",
      "model_module_version": "1.4.0",
      "model_name": "ButtonModel",
      "state": {
       "description": "Door 1",
       "layout": "IPY_MODEL_fe6a159215dd4ec996c6b8f745d6946e",
       "style": "IPY_MODEL_52fc2d5e9c974d6ca2a398ba9dc48c38"
      }
     },
     "8bccde5411ce41828be8e219aa569be6": {
      "model_module": "@jupyter-widgets/base",
      "model_module_version": "1.1.0",
      "model_name": "LayoutModel",
      "state": {
       "grid_area": "status",
       "width": "auto"
      }
     },
     "8c2c6031d81047b28b287e4d130cff44": {
      "model_module": "@jupyter-widgets/base",
      "model_module_version": "1.1.0",
      "model_name": "LayoutModel",
      "state": {
       "grid_area": "doors",
       "width": "auto"
      }
     },
     "8c32f970be3448618445b7a3951b631e": {
      "model_module": "@jupyter-widgets/controls",
      "model_module_version": "1.4.0",
      "model_name": "FloatTextModel",
      "state": {
       "disabled": true,
       "layout": "IPY_MODEL_58de91b4e8894e8ab64b0eda35a507f9",
       "step": null,
       "style": "IPY_MODEL_2061e5effd18466788a2ee53d2d6019b",
       "value": 0.375
      }
     },
     "8c6a9efb510342e4863183ea599403b3": {
      "model_module": "@jupyter-widgets/controls",
      "model_module_version": "1.4.0",
      "model_name": "FloatTextModel",
      "state": {
       "disabled": true,
       "layout": "IPY_MODEL_82482bab9a2d475b94c6b1328d9f6269",
       "step": null,
       "style": "IPY_MODEL_f2ed0444047f477fa58d7407e1644925",
       "value": 0.75
      }
     },
     "8c8dbc34e54647669b3da23dfa35c8b9": {
      "model_module": "@jupyter-widgets/controls",
      "model_module_version": "1.4.0",
      "model_name": "LabelModel",
      "state": {
       "layout": "IPY_MODEL_c7c6a6f6cd4d400cb432b5c59dd4e8cf",
       "style": "IPY_MODEL_58c7555ab31d4e8d84b6c10a5121a441",
       "value": "number of wins"
      }
     },
     "8d4d2f9f48cf4b0fb5f6a142632e9ce1": {
      "model_module": "@jupyter-widgets/controls",
      "model_module_version": "1.4.0",
      "model_name": "LabelModel",
      "state": {
       "layout": "IPY_MODEL_a4c3ccc98def44dd9cc39d7fc156c64c",
       "style": "IPY_MODEL_517e3e4ad32e492c91ed22e7793e7c77",
       "value": "success rate"
      }
     },
     "8d6964fd624d425db88a4b093b0da66b": {
      "model_module": "@jupyter-widgets/controls",
      "model_module_version": "1.4.0",
      "model_name": "DescriptionStyleModel",
      "state": {
       "description_width": ""
      }
     },
     "8dc7480d447348489a96027b0656c7fa": {
      "model_module": "@jupyter-widgets/base",
      "model_module_version": "1.1.0",
      "model_name": "LayoutModel",
      "state": {
       "grid_area": "label1",
       "width": "auto"
      }
     },
     "8e1a1756730843ec847f8e775a9a5dca": {
      "model_module": "@jupyter-widgets/base",
      "model_module_version": "1.1.0",
      "model_name": "LayoutModel",
      "state": {
       "grid_area": "label1",
       "width": "auto"
      }
     },
     "8e4b7dc2f3b347f7888d9210d4895ac8": {
      "model_module": "@jupyter-widgets/base",
      "model_module_version": "1.1.0",
      "model_name": "LayoutModel",
      "state": {
       "grid_area": "text2",
       "width": "auto"
      }
     },
     "8e7764b716b94c8a8238d818dd7cba57": {
      "model_module": "@jupyter-widgets/controls",
      "model_module_version": "1.4.0",
      "model_name": "ButtonModel",
      "state": {
       "button_style": "success",
       "description": "car",
       "disabled": true,
       "icon": "check",
       "layout": "IPY_MODEL_f0e464f3ba0646b3af0a8700ad12c39b",
       "style": "IPY_MODEL_6fa05abdf0004a408339d0ccce4dac47"
      }
     },
     "8eda0d150d384d6bb13a1dccf5fa4f4e": {
      "model_module": "@jupyter-widgets/controls",
      "model_module_version": "1.4.0",
      "model_name": "ButtonStyleModel",
      "state": {}
     },
     "8ee013fdf88942b89def4b7edd767652": {
      "model_module": "@jupyter-widgets/controls",
      "model_module_version": "1.4.0",
      "model_name": "IntTextModel",
      "state": {
       "disabled": true,
       "layout": "IPY_MODEL_ebab8d22c2c94384a1fafa094720b92a",
       "step": 1,
       "style": "IPY_MODEL_777a162e9c9744ae98a75d55079096e3"
      }
     },
     "8f12327ba7fa42c4841ee2fcd39fe25a": {
      "model_module": "@jupyter-widgets/controls",
      "model_module_version": "1.4.0",
      "model_name": "DescriptionStyleModel",
      "state": {
       "description_width": ""
      }
     },
     "8f309d38e15c4bf5b3e654b3584ad0d3": {
      "model_module": "@jupyter-widgets/controls",
      "model_module_version": "1.4.0",
      "model_name": "ButtonStyleModel",
      "state": {}
     },
     "8f321fb963b34291b9d7aff13adc8242": {
      "model_module": "@jupyter-widgets/controls",
      "model_module_version": "1.4.0",
      "model_name": "DescriptionStyleModel",
      "state": {
       "description_width": ""
      }
     },
     "8f3a06e19c1a4a07b5655d43d3591cc2": {
      "model_module": "@jupyter-widgets/controls",
      "model_module_version": "1.4.0",
      "model_name": "DescriptionStyleModel",
      "state": {
       "description_width": ""
      }
     },
     "8fa210d536f145bda860d961aef13c85": {
      "model_module": "@jupyter-widgets/controls",
      "model_module_version": "1.4.0",
      "model_name": "IntTextModel",
      "state": {
       "disabled": true,
       "layout": "IPY_MODEL_9cf384039dfd438cb1cb6a799403fc0f",
       "step": 1,
       "style": "IPY_MODEL_7577bea76dd248bea645d61466a5abc1",
       "value": 6
      }
     },
     "900e0e2565f546fda02f53d1fa1860be": {
      "model_module": "@jupyter-widgets/controls",
      "model_module_version": "1.4.0",
      "model_name": "ButtonModel",
      "state": {
       "description": "goat",
       "disabled": true,
       "layout": "IPY_MODEL_ffca613e0c9b469baea19d12b1e931a8",
       "style": "IPY_MODEL_e72a070daad0488d9e8645ba3e7bda64"
      }
     },
     "9071e1dfa9dc4d699dd84b6cb559f11e": {
      "model_module": "@jupyter-widgets/base",
      "model_module_version": "1.1.0",
      "model_name": "LayoutModel",
      "state": {
       "grid_area": "label1",
       "width": "auto"
      }
     },
     "908500e24ff04ceabb5cb06ebdbfc482": {
      "model_module": "@jupyter-widgets/controls",
      "model_module_version": "1.4.0",
      "model_name": "GridBoxModel",
      "state": {
       "children": [
        "IPY_MODEL_e5f7de758d4f4a15abd43484d2a8680a",
        "IPY_MODEL_de75ea15fa12470486c4e3d7d0c0ee14",
        "IPY_MODEL_d8cbf6bbecba4ba982a9e35dda7e6dca",
        "IPY_MODEL_04b712fa838a43c890e6da35c24f916b",
        "IPY_MODEL_86f2a714743d477e89353b987c3fbcc7",
        "IPY_MODEL_c3c15888aa91476faeb2f93db1eb2b2c",
        "IPY_MODEL_e88dce7986e74d7c9a8b93abc946f018",
        "IPY_MODEL_c2600a15d11e4078a7e47b5a18a59e70",
        "IPY_MODEL_546a99a0f73d417d9874a9936ea32d32",
        "IPY_MODEL_71f63fd359224ad19f674ca385a6adab"
       ],
       "layout": "IPY_MODEL_bd5365fe3d8244b6972394833c8d77d0"
      }
     },
     "90cfc7318dec49cd9d05cafe808f0700": {
      "model_module": "@jupyter-widgets/controls",
      "model_module_version": "1.4.0",
      "model_name": "DescriptionStyleModel",
      "state": {
       "description_width": ""
      }
     },
     "91176658c1a64b3ba2a41acae997adf8": {
      "model_module": "@jupyter-widgets/base",
      "model_module_version": "1.1.0",
      "model_name": "LayoutModel",
      "state": {
       "grid_area": "label3",
       "width": "auto"
      }
     },
     "911fcb0a92e8463bac61412a17973fa4": {
      "model_module": "@jupyter-widgets/base",
      "model_module_version": "1.1.0",
      "model_name": "LayoutModel",
      "state": {
       "grid_area": "text2",
       "width": "auto"
      }
     },
     "913365dcce284da187af24d7b42be41c": {
      "model_module": "@jupyter-widgets/controls",
      "model_module_version": "1.4.0",
      "model_name": "LabelModel",
      "state": {
       "layout": "IPY_MODEL_f30b14db3ae04984869d58d77c50ecba",
       "style": "IPY_MODEL_1179be2a840f481d8beaf9253229cec2",
       "value": "Interactive widget: Monty Hall problem"
      }
     },
     "914b8e5c59d948fc8f6914b7647428d1": {
      "model_module": "@jupyter-widgets/controls",
      "model_module_version": "1.4.0",
      "model_name": "ButtonStyleModel",
      "state": {}
     },
     "917b7fc759a34ca1956042015dc1ab24": {
      "model_module": "@jupyter-widgets/controls",
      "model_module_version": "1.4.0",
      "model_name": "DescriptionStyleModel",
      "state": {
       "description_width": ""
      }
     },
     "91b48dead43549c6ad045c34af693cb1": {
      "model_module": "@jupyter-widgets/base",
      "model_module_version": "1.1.0",
      "model_name": "LayoutModel",
      "state": {
       "grid_area": "label3",
       "width": "auto"
      }
     },
     "91d341edd7a84d04b08532927677684c": {
      "model_module": "@jupyter-widgets/controls",
      "model_module_version": "1.4.0",
      "model_name": "ButtonStyleModel",
      "state": {}
     },
     "92033a3089d648cfbad91014a1aded31": {
      "model_module": "@jupyter-widgets/controls",
      "model_module_version": "1.4.0",
      "model_name": "DescriptionStyleModel",
      "state": {
       "description_width": ""
      }
     },
     "9324be122376434098c35d039edf5aca": {
      "model_module": "@jupyter-widgets/base",
      "model_module_version": "1.1.0",
      "model_name": "LayoutModel",
      "state": {
       "flex": "1 1 auto",
       "width": "auto"
      }
     },
     "9330a45648ea46b2bcbd187def44d49a": {
      "model_module": "@jupyter-widgets/base",
      "model_module_version": "1.1.0",
      "model_name": "LayoutModel",
      "state": {
       "grid_template_areas": "\n                \"banner banner banner banner\"\n                \"doors doors doors doors\"\n                \"label1 label1 text1 text1\"\n                \"label2 label2 text2 text2\"\n                \"label3 label3 text3 text3\"\n                \"status status status status\"\n                \". . actions actions\"\n            ",
       "grid_template_columns": "25% 25% 25% 25%",
       "grid_template_rows": "auto auto auto auto auto auto auto",
       "width": "50%"
      }
     },
     "93629da551304907a736b1ad23050308": {
      "model_module": "@jupyter-widgets/controls",
      "model_module_version": "1.4.0",
      "model_name": "BoxModel",
      "state": {
       "children": [
        "IPY_MODEL_2a0fb8fdb055464cae553ae51e724ac6",
        "IPY_MODEL_86fa0f2fbce34574a7a8e9488e13e1d8",
        "IPY_MODEL_ce560e16c37c4736a8002a01d2619fe4"
       ],
       "layout": "IPY_MODEL_771393bf29a4493aaabb185868847dde"
      }
     },
     "93a23442446141b8a96a1589829a2ed0": {
      "model_module": "@jupyter-widgets/base",
      "model_module_version": "1.1.0",
      "model_name": "LayoutModel",
      "state": {
       "grid_area": "label2",
       "width": "auto"
      }
     },
     "93a9d7eba3db43939a50e4daad39099e": {
      "model_module": "@jupyter-widgets/controls",
      "model_module_version": "1.4.0",
      "model_name": "BoxModel",
      "state": {
       "children": [
        "IPY_MODEL_caa52976492f43bdabd9eea4ffb2a503",
        "IPY_MODEL_ebec07d7464d403ab3c43c1be1328589",
        "IPY_MODEL_0abc7d645d9a482a99207c54d11ebc4d"
       ],
       "layout": "IPY_MODEL_7d222db38dbc4aa3be10875aa34749fe"
      }
     },
     "950918091b6e459bbfe8472460856e79": {
      "model_module": "@jupyter-widgets/controls",
      "model_module_version": "1.4.0",
      "model_name": "LabelModel",
      "state": {
       "layout": "IPY_MODEL_0e5afa37fa294fa1a495ab8f9d0d2d3e",
       "style": "IPY_MODEL_e5a39a2ea9dc454891a0e271ab98e1b7",
       "value": "success rate"
      }
     },
     "952829fbf5ba4cf089d57434b635b9f5": {
      "model_module": "@jupyter-widgets/base",
      "model_module_version": "1.1.0",
      "model_name": "LayoutModel",
      "state": {
       "grid_area": "label2",
       "width": "auto"
      }
     },
     "953a2a901879456f8e429c0a03eb0a42": {
      "model_module": "@jupyter-widgets/base",
      "model_module_version": "1.1.0",
      "model_name": "LayoutModel",
      "state": {
       "grid_template_areas": "\n                \"banner banner banner banner\"\n                \"doors doors doors doors\"\n                \"label1 label1 text1 text1\"\n                \"label2 label2 text2 text2\"\n                \"label3 label3 text3 text3\"\n                \"status status status status\"\n                \". . actions actions\"\n            ",
       "grid_template_columns": "25% 25% 25% 25%",
       "grid_template_rows": "auto auto auto auto auto auto auto",
       "width": "50%"
      }
     },
     "955c4953cc04428f9568e4789c5a90b4": {
      "model_module": "@jupyter-widgets/controls",
      "model_module_version": "1.4.0",
      "model_name": "ButtonModel",
      "state": {
       "description": "reveal",
       "disabled": true,
       "layout": "IPY_MODEL_6803a927ca234edeb11aaf87a033550e",
       "style": "IPY_MODEL_cbdd3c8076ba49ee950002303ca8f9fd",
       "tooltip": "open selected door"
      }
     },
     "95a6c5dbdc47456f996147a239280016": {
      "model_module": "@jupyter-widgets/base",
      "model_module_version": "1.1.0",
      "model_name": "LayoutModel",
      "state": {
       "grid_area": "actions",
       "width": "auto"
      }
     },
     "95aece09da2f47eda7d31aee2c34137e": {
      "model_module": "@jupyter-widgets/controls",
      "model_module_version": "1.4.0",
      "model_name": "DescriptionStyleModel",
      "state": {
       "description_width": ""
      }
     },
     "95e22786db8f48c185d4a13b9e1863dd": {
      "model_module": "@jupyter-widgets/controls",
      "model_module_version": "1.4.0",
      "model_name": "DescriptionStyleModel",
      "state": {
       "description_width": ""
      }
     },
     "9643def4f3b94b508baa7b6c6c8b3664": {
      "model_module": "@jupyter-widgets/controls",
      "model_module_version": "1.4.0",
      "model_name": "LabelModel",
      "state": {
       "layout": "IPY_MODEL_197a30c7bb4a424b893d0bc8012ad2ce",
       "style": "IPY_MODEL_3642923073cd4f4e863a4d12d268aaa6",
       "value": "success rate"
      }
     },
     "966d36584fc043799f5c4ab8cd79ae64": {
      "model_module": "@jupyter-widgets/base",
      "model_module_version": "1.1.0",
      "model_name": "LayoutModel",
      "state": {
       "grid_area": "actions",
       "width": "auto"
      }
     },
     "971f24b456a24d9ca126d372c4688939": {
      "model_module": "@jupyter-widgets/controls",
      "model_module_version": "1.4.0",
      "model_name": "ButtonModel",
      "state": {
       "description": "reveal",
       "disabled": true,
       "layout": "IPY_MODEL_10440e51b1334c10856c1917c536843e",
       "style": "IPY_MODEL_ff69a84423884207ad64d1fb75158afe",
       "tooltip": "open selected door"
      }
     },
     "97d9c8c050f047718fcd067f244c0fbb": {
      "model_module": "@jupyter-widgets/controls",
      "model_module_version": "1.4.0",
      "model_name": "ButtonModel",
      "state": {
       "description": "Door 2",
       "layout": "IPY_MODEL_791001ea97fe4175985809d6a00fe996",
       "style": "IPY_MODEL_0f2cfcfb634843efa5ef37c53d3db4e7"
      }
     },
     "980dab40d5654ec8b8f2deaaed6d14d9": {
      "model_module": "@jupyter-widgets/controls",
      "model_module_version": "1.4.0",
      "model_name": "BoxModel",
      "state": {
       "children": [
        "IPY_MODEL_571ef36acac84c4c9f1d4b9e6a1fa93d",
        "IPY_MODEL_d08be5d21f15403f87f83cbc4d583613",
        "IPY_MODEL_816fbde838e54f139bad97da5e7786b3"
       ],
       "layout": "IPY_MODEL_0286db44510148198f50ac904117c9d3"
      }
     },
     "98275405f7bb4b4f8b7e8e9bb50ff74e": {
      "model_module": "@jupyter-widgets/controls",
      "model_module_version": "1.4.0",
      "model_name": "ButtonStyleModel",
      "state": {}
     },
     "98d2ea10f8d84121a6fbd44049591ab4": {
      "model_module": "@jupyter-widgets/controls",
      "model_module_version": "1.4.0",
      "model_name": "ButtonStyleModel",
      "state": {}
     },
     "991e160a64f842a4bf6f2e51723de011": {
      "model_module": "@jupyter-widgets/base",
      "model_module_version": "1.1.0",
      "model_name": "LayoutModel",
      "state": {
       "grid_area": "label1",
       "width": "auto"
      }
     },
     "99722bfa661d4e2b82454956e91ba64b": {
      "model_module": "@jupyter-widgets/controls",
      "model_module_version": "1.4.0",
      "model_name": "LabelModel",
      "state": {
       "layout": "IPY_MODEL_a984a4ce398f4f0cbbd8a6b581b6fd80",
       "style": "IPY_MODEL_5270405728964cf4bd57708c407e2d82",
       "value": "number of wins"
      }
     },
     "997e0606bddb4888bf075082d795015e": {
      "model_module": "@jupyter-widgets/controls",
      "model_module_version": "1.4.0",
      "model_name": "DescriptionStyleModel",
      "state": {
       "description_width": ""
      }
     },
     "9a56300180fa41abad637310473a5d0e": {
      "model_module": "@jupyter-widgets/controls",
      "model_module_version": "1.4.0",
      "model_name": "LabelModel",
      "state": {
       "layout": "IPY_MODEL_1987ad171c47453db7f4c2b94479597b",
       "style": "IPY_MODEL_a0887893fb134a18ab5949d958b6fb85",
       "value": "number of plays"
      }
     },
     "9a9d0f0a0a184ac4ab4e4c8889cfc372": {
      "model_module": "@jupyter-widgets/base",
      "model_module_version": "1.1.0",
      "model_name": "LayoutModel",
      "state": {
       "grid_template_areas": "\n                \"banner banner banner banner\"\n                \"doors doors doors doors\"\n                \"label1 label1 text1 text1\"\n                \"label2 label2 text2 text2\"\n                \"label3 label3 text3 text3\"\n                \"status status status status\"\n                \". . actions actions\"\n            ",
       "grid_template_columns": "25% 25% 25% 25%",
       "grid_template_rows": "auto auto auto auto auto auto auto",
       "width": "50%"
      }
     },
     "9b24b0dcd5344120912d7cde8b11d423": {
      "model_module": "@jupyter-widgets/base",
      "model_module_version": "1.1.0",
      "model_name": "LayoutModel",
      "state": {
       "grid_area": "doors",
       "width": "auto"
      }
     },
     "9b52e248fd6648b0b3580897562aa46e": {
      "model_module": "@jupyter-widgets/base",
      "model_module_version": "1.1.0",
      "model_name": "LayoutModel",
      "state": {
       "grid_area": "actions",
       "width": "auto"
      }
     },
     "9b621a388bef4e249b8a0a2e8c27bee8": {
      "model_module": "@jupyter-widgets/controls",
      "model_module_version": "1.4.0",
      "model_name": "DescriptionStyleModel",
      "state": {
       "description_width": ""
      }
     },
     "9bb3a0429e344c88a8cbe29d38567a65": {
      "model_module": "@jupyter-widgets/controls",
      "model_module_version": "1.4.0",
      "model_name": "ButtonModel",
      "state": {
       "description": "reveal",
       "disabled": true,
       "layout": "IPY_MODEL_3528bd3d67d04ee8a245d53610008293",
       "style": "IPY_MODEL_f9b26f9566074b8981749cba0d2b0ba1",
       "tooltip": "open selected door"
      }
     },
     "9bfa8d89dc3844f983c590a941890b81": {
      "model_module": "@jupyter-widgets/base",
      "model_module_version": "1.1.0",
      "model_name": "LayoutModel",
      "state": {
       "grid_template_areas": "\n                \"banner banner banner banner\"\n                \"doors doors doors doors\"\n                \"label1 label1 text1 text1\"\n                \"label2 label2 text2 text2\"\n                \"label3 label3 text3 text3\"\n                \"status status status status\"\n                \". . actions actions\"\n            ",
       "grid_template_columns": "25% 25% 25% 25%",
       "grid_template_rows": "auto auto auto auto auto auto auto",
       "width": "50%"
      }
     },
     "9c7babca7bb0474e949063a07e462712": {
      "model_module": "@jupyter-widgets/base",
      "model_module_version": "1.1.0",
      "model_name": "LayoutModel",
      "state": {
       "flex": "1 1 auto",
       "width": "auto"
      }
     },
     "9c8c5e98dbe445dd8b5921eb2a6f54b0": {
      "model_module": "@jupyter-widgets/base",
      "model_module_version": "1.1.0",
      "model_name": "LayoutModel",
      "state": {
       "grid_area": "label2",
       "width": "auto"
      }
     },
     "9cae990bbd134b14b59dbed36b972667": {
      "model_module": "@jupyter-widgets/base",
      "model_module_version": "1.1.0",
      "model_name": "LayoutModel",
      "state": {
       "grid_area": "doors",
       "width": "auto"
      }
     },
     "9cf384039dfd438cb1cb6a799403fc0f": {
      "model_module": "@jupyter-widgets/base",
      "model_module_version": "1.1.0",
      "model_name": "LayoutModel",
      "state": {
       "grid_area": "text2",
       "width": "auto"
      }
     },
     "9d62d960e9ba4655b865d39f68296cde": {
      "model_module": "@jupyter-widgets/controls",
      "model_module_version": "1.4.0",
      "model_name": "ButtonModel",
      "state": {
       "description": "reveal",
       "disabled": true,
       "layout": "IPY_MODEL_409aebc07dcc4f83a2b6e3273d8a962d",
       "style": "IPY_MODEL_34fe7b51993846e7a8e80abb9f4a2d76",
       "tooltip": "open selected door"
      }
     },
     "9d90f891dbfe42bab6a7466bda45f96d": {
      "model_module": "@jupyter-widgets/base",
      "model_module_version": "1.1.0",
      "model_name": "LayoutModel",
      "state": {
       "grid_area": "text3",
       "width": "auto"
      }
     },
     "9da68f32d3514d908c2683070aeefc1e": {
      "model_module": "@jupyter-widgets/base",
      "model_module_version": "1.1.0",
      "model_name": "LayoutModel",
      "state": {
       "grid_area": "label3",
       "width": "auto"
      }
     },
     "9db3cd75579448028c9a5c4dd1a8b076": {
      "model_module": "@jupyter-widgets/base",
      "model_module_version": "1.1.0",
      "model_name": "LayoutModel",
      "state": {
       "grid_area": "label1",
       "width": "auto"
      }
     },
     "9e7ab216386b48f796b0d7564b8677a3": {
      "model_module": "@jupyter-widgets/controls",
      "model_module_version": "1.4.0",
      "model_name": "LabelModel",
      "state": {
       "layout": "IPY_MODEL_b4d039fbe2ba4d878ef09ca3e93c9c4c",
       "style": "IPY_MODEL_118531b8ec5c4f46895fd93219748b92",
       "value": "Interactive widget: Monty Hall problem"
      }
     },
     "9e984822e5cd4265a33a29cf3d208dbe": {
      "model_module": "@jupyter-widgets/controls",
      "model_module_version": "1.4.0",
      "model_name": "DescriptionStyleModel",
      "state": {
       "description_width": ""
      }
     },
     "9fe17cb9dd2845c5a8ce70ea5e0375b8": {
      "model_module": "@jupyter-widgets/controls",
      "model_module_version": "1.4.0",
      "model_name": "LabelModel",
      "state": {
       "layout": "IPY_MODEL_bea828a1cd0e4a138af1af9773607e50",
       "style": "IPY_MODEL_7aa77a69f7fd438db6ba49a1ebbb8be5",
       "value": "number of plays"
      }
     },
     "9ff87c77902949a28f5fd96d82299b22": {
      "model_module": "@jupyter-widgets/controls",
      "model_module_version": "1.4.0",
      "model_name": "ButtonStyleModel",
      "state": {}
     },
     "a041012a7363445a85a4c3084dc01a8e": {
      "model_module": "@jupyter-widgets/base",
      "model_module_version": "1.1.0",
      "model_name": "LayoutModel",
      "state": {
       "grid_area": "text2",
       "width": "auto"
      }
     },
     "a0887893fb134a18ab5949d958b6fb85": {
      "model_module": "@jupyter-widgets/controls",
      "model_module_version": "1.4.0",
      "model_name": "DescriptionStyleModel",
      "state": {
       "description_width": ""
      }
     },
     "a0a53d71491f459b846f62a225da03ef": {
      "model_module": "@jupyter-widgets/base",
      "model_module_version": "1.1.0",
      "model_name": "LayoutModel",
      "state": {
       "width": "50%"
      }
     },
     "a11e5eb6b7ed4310b102da0d1b129ac8": {
      "model_module": "@jupyter-widgets/base",
      "model_module_version": "1.1.0",
      "model_name": "LayoutModel",
      "state": {
       "grid_area": "label3",
       "width": "auto"
      }
     },
     "a165ae01080f4762ab0b2f9e6dead9f9": {
      "model_module": "@jupyter-widgets/controls",
      "model_module_version": "1.4.0",
      "model_name": "LabelModel",
      "state": {
       "layout": "IPY_MODEL_3a7fa7247084494fb1efa544a2a45ad2",
       "style": "IPY_MODEL_9b621a388bef4e249b8a0a2e8c27bee8",
       "value": "Monty reveals a goat behind Door 1. Click Door 3 to switch, or 'reveal' Door 2."
      }
     },
     "a1d61955ff95476491c1cc479422946c": {
      "model_module": "@jupyter-widgets/controls",
      "model_module_version": "1.4.0",
      "model_name": "DescriptionStyleModel",
      "state": {
       "description_width": ""
      }
     },
     "a1fe122518eb4beabd1f9aa434b84375": {
      "model_module": "@jupyter-widgets/base",
      "model_module_version": "1.1.0",
      "model_name": "LayoutModel",
      "state": {
       "grid_template_areas": "\n                \"banner banner banner banner\"\n                \"doors doors doors doors\"\n                \"label1 label1 text1 text1\"\n                \"label2 label2 text2 text2\"\n                \"label3 label3 text3 text3\"\n                \"status status status status\"\n                \". . actions actions\"\n            ",
       "grid_template_columns": "25% 25% 25% 25%",
       "grid_template_rows": "auto auto auto auto auto auto auto",
       "width": "50%"
      }
     },
     "a265c3f02bec4be59ea5f7319ff7ab6b": {
      "model_module": "@jupyter-widgets/controls",
      "model_module_version": "1.4.0",
      "model_name": "DescriptionStyleModel",
      "state": {
       "description_width": ""
      }
     },
     "a27ad20fca0a4c0bbbeda50544ec957b": {
      "model_module": "@jupyter-widgets/controls",
      "model_module_version": "1.4.0",
      "model_name": "LabelModel",
      "state": {
       "layout": "IPY_MODEL_93a23442446141b8a96a1589829a2ed0",
       "style": "IPY_MODEL_5c81af4223ba41798e8777541b2b202b",
       "value": "number of wins"
      }
     },
     "a29799df88bd46d7aaf8911a2e5e1a5c": {
      "model_module": "@jupyter-widgets/controls",
      "model_module_version": "1.4.0",
      "model_name": "ButtonModel",
      "state": {
       "description": "Door 2",
       "layout": "IPY_MODEL_bb65c9655ed94deaaa5aaa039f3c5064",
       "style": "IPY_MODEL_713fffbc8b7144b8af762ded2f7f7a97"
      }
     },
     "a29bf215b0cb4925a713bebdc236adef": {
      "model_module": "@jupyter-widgets/controls",
      "model_module_version": "1.4.0",
      "model_name": "ButtonStyleModel",
      "state": {}
     },
     "a2d54d5a3c39441ba338ef0cd89aa3f9": {
      "model_module": "@jupyter-widgets/base",
      "model_module_version": "1.1.0",
      "model_name": "LayoutModel",
      "state": {
       "grid_area": "status",
       "width": "auto"
      }
     },
     "a31f48accd0f48fe946aabc73d28b42d": {
      "model_module": "@jupyter-widgets/base",
      "model_module_version": "1.1.0",
      "model_name": "LayoutModel",
      "state": {
       "grid_area": "status",
       "width": "auto"
      }
     },
     "a360e89a54664742bd23433e1cab7886": {
      "model_module": "@jupyter-widgets/controls",
      "model_module_version": "1.4.0",
      "model_name": "LabelModel",
      "state": {
       "layout": "IPY_MODEL_1a0e972001214241a4b5f94ef2f4c87f",
       "style": "IPY_MODEL_290d0868f4604ffda14f0dbc8964c273",
       "value": "number of wins"
      }
     },
     "a4226ed469a64be2a119db617c798e7f": {
      "model_module": "@jupyter-widgets/base",
      "model_module_version": "1.1.0",
      "model_name": "LayoutModel",
      "state": {
       "flex": "1 1 auto",
       "width": "auto"
      }
     },
     "a471cf7f996e4da19904dcbe5dd6455e": {
      "model_module": "@jupyter-widgets/controls",
      "model_module_version": "1.4.0",
      "model_name": "ButtonModel",
      "state": {
       "description": "continue",
       "disabled": true,
       "layout": "IPY_MODEL_776c2441f69946d198ccc7029402282d",
       "style": "IPY_MODEL_ecda1163e7104038922a9e85e0a0e0d4",
       "tooltip": "continue play"
      }
     },
     "a47859c0d65b40b6b8f1f7706a7f37dd": {
      "model_module": "@jupyter-widgets/controls",
      "model_module_version": "1.4.0",
      "model_name": "DescriptionStyleModel",
      "state": {
       "description_width": ""
      }
     },
     "a4b250c7a1a54282a13020edb9baba9b": {
      "model_module": "@jupyter-widgets/base",
      "model_module_version": "1.1.0",
      "model_name": "LayoutModel",
      "state": {
       "grid_area": "status",
       "width": "auto"
      }
     },
     "a4c3ccc98def44dd9cc39d7fc156c64c": {
      "model_module": "@jupyter-widgets/base",
      "model_module_version": "1.1.0",
      "model_name": "LayoutModel",
      "state": {
       "grid_area": "label3",
       "width": "auto"
      }
     },
     "a518345f0be249deb595d35f1a41c1d8": {
      "model_module": "@jupyter-widgets/controls",
      "model_module_version": "1.4.0",
      "model_name": "ButtonStyleModel",
      "state": {}
     },
     "a65658528c3940a9a0cc8aa92d51ad35": {
      "model_module": "@jupyter-widgets/base",
      "model_module_version": "1.1.0",
      "model_name": "LayoutModel",
      "state": {
       "width": "50%"
      }
     },
     "a685eda38364474c9228d5b645a37daf": {
      "model_module": "@jupyter-widgets/base",
      "model_module_version": "1.1.0",
      "model_name": "LayoutModel",
      "state": {
       "flex": "1 1 auto",
       "width": "auto"
      }
     },
     "a6b25f0a8e1747a78e7148f1bba9286b": {
      "model_module": "@jupyter-widgets/controls",
      "model_module_version": "1.4.0",
      "model_name": "DescriptionStyleModel",
      "state": {
       "description_width": ""
      }
     },
     "a6c26900d500470d8a4030b8a88245a7": {
      "model_module": "@jupyter-widgets/controls",
      "model_module_version": "1.4.0",
      "model_name": "LabelModel",
      "state": {
       "layout": "IPY_MODEL_bb2ef9d25ac447019fbcdbe960ebe6c7",
       "style": "IPY_MODEL_490dd633df384647aefd1e723a971f76",
       "value": "Pick a door..."
      }
     },
     "a711aa1c6833492f9c0fbca015e52652": {
      "model_module": "@jupyter-widgets/controls",
      "model_module_version": "1.4.0",
      "model_name": "ButtonModel",
      "state": {
       "description": "Door 1",
       "layout": "IPY_MODEL_791001ea97fe4175985809d6a00fe996",
       "style": "IPY_MODEL_0add3dec3ef0473085318d83a7d0c1e4"
      }
     },
     "a7a921d9b5614595ba2d26367e458f46": {
      "model_module": "@jupyter-widgets/controls",
      "model_module_version": "1.4.0",
      "model_name": "IntTextModel",
      "state": {
       "disabled": true,
       "layout": "IPY_MODEL_21b494889e624c08b01d88130b4d10c2",
       "step": 1,
       "style": "IPY_MODEL_fc4a0cbb83274fb397307904127e9e77"
      }
     },
     "a7b8542b768b4b0aada283db2ee3495c": {
      "model_module": "@jupyter-widgets/base",
      "model_module_version": "1.1.0",
      "model_name": "LayoutModel",
      "state": {
       "flex": "1 1 auto",
       "width": "auto"
      }
     },
     "a853a9eb889b426480d50001f5600a95": {
      "model_module": "@jupyter-widgets/controls",
      "model_module_version": "1.4.0",
      "model_name": "ButtonStyleModel",
      "state": {}
     },
     "a85da88b5fd54064a1f8237c8536218e": {
      "model_module": "@jupyter-widgets/controls",
      "model_module_version": "1.4.0",
      "model_name": "ButtonStyleModel",
      "state": {}
     },
     "a8ec0602c08843ba8030247caaa41c4f": {
      "model_module": "@jupyter-widgets/controls",
      "model_module_version": "1.4.0",
      "model_name": "ButtonModel",
      "state": {
       "description": "Door 1",
       "layout": "IPY_MODEL_1f0f192fa8e8406495e2e12c89d0add1",
       "style": "IPY_MODEL_dd2250e37a5e4b53a4bf16d4ce08b42d"
      }
     },
     "a8f402fbcdab4349b0f51bce620ea8c4": {
      "model_module": "@jupyter-widgets/controls",
      "model_module_version": "1.4.0",
      "model_name": "ButtonStyleModel",
      "state": {}
     },
     "a9250dcfa38848b0b8facf10348aa44f": {
      "model_module": "@jupyter-widgets/controls",
      "model_module_version": "1.4.0",
      "model_name": "DescriptionStyleModel",
      "state": {
       "description_width": ""
      }
     },
     "a938747944a04c3092637905f9301b3f": {
      "model_module": "@jupyter-widgets/controls",
      "model_module_version": "1.4.0",
      "model_name": "ButtonModel",
      "state": {
       "description": "Door 3",
       "layout": "IPY_MODEL_fe6a159215dd4ec996c6b8f745d6946e",
       "style": "IPY_MODEL_fcb9ad35ef01458594da18806fbd6013"
      }
     },
     "a94bd3ec6f884777be36c7eeb5e3d5e7": {
      "model_module": "@jupyter-widgets/base",
      "model_module_version": "1.1.0",
      "model_name": "LayoutModel",
      "state": {
       "grid_area": "label3",
       "width": "auto"
      }
     },
     "a984a4ce398f4f0cbbd8a6b581b6fd80": {
      "model_module": "@jupyter-widgets/base",
      "model_module_version": "1.1.0",
      "model_name": "LayoutModel",
      "state": {
       "grid_area": "label2",
       "width": "auto"
      }
     },
     "a9b15a68335d45db942419868e4285a9": {
      "model_module": "@jupyter-widgets/controls",
      "model_module_version": "1.4.0",
      "model_name": "LabelModel",
      "state": {
       "layout": "IPY_MODEL_8e1a1756730843ec847f8e775a9a5dca",
       "style": "IPY_MODEL_cf079b1ec42f4b6cb7dd4d24064b3d71",
       "value": "number of plays"
      }
     },
     "a9e97b13bd8944cd97b03975bf7325cb": {
      "model_module": "@jupyter-widgets/controls",
      "model_module_version": "1.4.0",
      "model_name": "BoxModel",
      "state": {
       "children": [
        "IPY_MODEL_517e07568727453aa1ca33e303d873b8"
       ],
       "layout": "IPY_MODEL_2a6a8720d8404266a8675a1add41243c"
      }
     },
     "a9f7783f2aec4bcca49ed4cd943e724e": {
      "model_module": "@jupyter-widgets/controls",
      "model_module_version": "1.4.0",
      "model_name": "ButtonModel",
      "state": {
       "description": "Door 1",
       "layout": "IPY_MODEL_5de937ebe6ab4882bf7662084aa3d6f1",
       "style": "IPY_MODEL_f15d232aa945498e907f2189dd1b3d57"
      }
     },
     "aa8facf1626e40fa90082d5f65cc1b3e": {
      "model_module": "@jupyter-widgets/base",
      "model_module_version": "1.1.0",
      "model_name": "LayoutModel",
      "state": {
       "grid_template_areas": "\n                \"banner banner banner banner\"\n                \"doors doors doors doors\"\n                \"label1 label1 text1 text1\"\n                \"label2 label2 text2 text2\"\n                \"label3 label3 text3 text3\"\n                \"status status status status\"\n                \". . actions actions\"\n            ",
       "grid_template_columns": "25% 25% 25% 25%",
       "grid_template_rows": "auto auto auto auto auto auto auto",
       "width": "50%"
      }
     },
     "aad7475956ba4d4eb61eba5c7e455354": {
      "model_module": "@jupyter-widgets/controls",
      "model_module_version": "1.4.0",
      "model_name": "GridBoxModel",
      "state": {
       "children": [
        "IPY_MODEL_50544603e22f4f4f9639927a5383eff4",
        "IPY_MODEL_f77e9ac6698046dab26fe64ea02c7d22",
        "IPY_MODEL_370aa028e17448ab82b183c26b915e44",
        "IPY_MODEL_625505a9d8fe4bfba1fd4ecb88869a16",
        "IPY_MODEL_ef49c112c8ce44c2969f1ab11c258d4e",
        "IPY_MODEL_b388282683e24794acd52c47555631b3",
        "IPY_MODEL_f31f12b9a82543bfb94e00c08d8d3f4a",
        "IPY_MODEL_22b8e59793ea4792a10c188a44c0fd77",
        "IPY_MODEL_293c80f485434ae7bc6c6d439916f654",
        "IPY_MODEL_0678e929d77d4899b5335cb66fc4a0b8"
       ],
       "layout": "IPY_MODEL_dad7a5ffb29a4fe5a2ff78671c9f9d75"
      }
     },
     "ab789af504964fdeac6525a7cfbfc4f0": {
      "model_module": "@jupyter-widgets/base",
      "model_module_version": "1.1.0",
      "model_name": "LayoutModel",
      "state": {
       "grid_area": "actions",
       "width": "auto"
      }
     },
     "ab8b3c77bf84499680ab356b14e1eeb7": {
      "model_module": "@jupyter-widgets/controls",
      "model_module_version": "1.4.0",
      "model_name": "ButtonStyleModel",
      "state": {}
     },
     "ac27fd3b27514c5e95f23d6177c88c55": {
      "model_module": "@jupyter-widgets/base",
      "model_module_version": "1.1.0",
      "model_name": "LayoutModel",
      "state": {
       "grid_template_areas": "\n                \"banner banner banner banner\"\n                \"doors doors doors doors\"\n                \"label1 label1 text1 text1\"\n                \"label2 label2 text2 text2\"\n                \"label3 label3 text3 text3\"\n                \"status status status status\"\n                \". . actions actions\"\n            ",
       "grid_template_columns": "25% 25% 25% 25%",
       "grid_template_rows": "auto auto auto auto auto auto auto",
       "width": "50%"
      }
     },
     "ac4f282fe1784d33a562018838264b4b": {
      "model_module": "@jupyter-widgets/controls",
      "model_module_version": "1.4.0",
      "model_name": "DescriptionStyleModel",
      "state": {
       "description_width": ""
      }
     },
     "ac9c861646a049809af7b80bcceb90c7": {
      "model_module": "@jupyter-widgets/controls",
      "model_module_version": "1.4.0",
      "model_name": "DescriptionStyleModel",
      "state": {
       "description_width": ""
      }
     },
     "ad63813e7d004dfb836d329353a7c794": {
      "model_module": "@jupyter-widgets/controls",
      "model_module_version": "1.4.0",
      "model_name": "DescriptionStyleModel",
      "state": {
       "description_width": ""
      }
     },
     "ad94933311034a3cbd6795a8a65464c5": {
      "model_module": "@jupyter-widgets/controls",
      "model_module_version": "1.4.0",
      "model_name": "ButtonStyleModel",
      "state": {}
     },
     "ae0c90a234e24138a9013a2601f2e6c9": {
      "model_module": "@jupyter-widgets/controls",
      "model_module_version": "1.4.0",
      "model_name": "BoxModel",
      "state": {
       "children": [
        "IPY_MODEL_76a5d47594d14ea786a5a51bbf6b159e",
        "IPY_MODEL_670002a5b4674e4582910ebe66da8a88",
        "IPY_MODEL_183589f7ab8a4225808cba8ee3290420"
       ],
       "layout": "IPY_MODEL_1b870551019246a2a23fc1f4a16ad63d"
      }
     },
     "ae197726ccd1442784c36d0e51c24110": {
      "model_module": "@jupyter-widgets/controls",
      "model_module_version": "1.4.0",
      "model_name": "ButtonStyleModel",
      "state": {}
     },
     "ae26198672d04e3ab9da9b5be6e1f2f6": {
      "model_module": "@jupyter-widgets/controls",
      "model_module_version": "1.4.0",
      "model_name": "GridBoxModel",
      "state": {
       "children": [
        "IPY_MODEL_d3dcd802b2dd418d8f48913a09797f7a",
        "IPY_MODEL_2523dc9d5768490cbc3e43924d9acda6",
        "IPY_MODEL_9fe17cb9dd2845c5a8ce70ea5e0375b8",
        "IPY_MODEL_ed2c4237c83b4aa49692b719ea69a2d0",
        "IPY_MODEL_c690cd674b1349bcaf872e34903d3509",
        "IPY_MODEL_8fa210d536f145bda860d961aef13c85",
        "IPY_MODEL_f359b5b3d7cf457aba459e61aa9c4b6b",
        "IPY_MODEL_80cf283db4fa4841a4a99d62838992ea",
        "IPY_MODEL_b6a839f0a50840f7a2c6113beb9be672",
        "IPY_MODEL_93629da551304907a736b1ad23050308"
       ],
       "layout": "IPY_MODEL_28bcea26519244709937a5c81c019bdc"
      }
     },
     "ae7a13cdaca24fd8872df3d40e98ad90": {
      "model_module": "@jupyter-widgets/controls",
      "model_module_version": "1.4.0",
      "model_name": "ButtonModel",
      "state": {
       "description": "Door 2",
       "layout": "IPY_MODEL_fe6a159215dd4ec996c6b8f745d6946e",
       "style": "IPY_MODEL_81edaf72c11b4fffab86e6f8bfeeb194"
      }
     },
     "aee5e2c8c3a04aa595c1aee2516e4ffc": {
      "model_module": "@jupyter-widgets/controls",
      "model_module_version": "1.4.0",
      "model_name": "ButtonStyleModel",
      "state": {}
     },
     "af03e9a481e44a45a1f9cbbdc5007806": {
      "model_module": "@jupyter-widgets/controls",
      "model_module_version": "1.4.0",
      "model_name": "DescriptionStyleModel",
      "state": {
       "description_width": ""
      }
     },
     "af1a77b98e604c47b42d1cb58ba01219": {
      "model_module": "@jupyter-widgets/base",
      "model_module_version": "1.1.0",
      "model_name": "LayoutModel",
      "state": {
       "flex": "1 1 auto",
       "width": "auto"
      }
     },
     "afe4ced3c93e487db81743bd5ea3d883": {
      "model_module": "@jupyter-widgets/controls",
      "model_module_version": "1.4.0",
      "model_name": "DescriptionStyleModel",
      "state": {
       "description_width": ""
      }
     },
     "b0460ef002ff4699a620a1b132b527ce": {
      "model_module": "@jupyter-widgets/controls",
      "model_module_version": "1.4.0",
      "model_name": "IntTextModel",
      "state": {
       "disabled": true,
       "layout": "IPY_MODEL_911fcb0a92e8463bac61412a17973fa4",
       "step": 1,
       "style": "IPY_MODEL_d5df4603a0504105936bb6fb3985817a",
       "value": 7
      }
     },
     "b1345d86571a475f83fa326afa41e37b": {
      "model_module": "@jupyter-widgets/base",
      "model_module_version": "1.1.0",
      "model_name": "LayoutModel",
      "state": {
       "grid_template_areas": "\n                \"banner banner banner banner\"\n                \"doors doors doors doors\"\n                \"label1 label1 text1 text1\"\n                \"label2 label2 text2 text2\"\n                \"label3 label3 text3 text3\"\n                \"status status status status\"\n                \". . actions actions\"\n            ",
       "grid_template_columns": "25% 25% 25% 25%",
       "grid_template_rows": "auto auto auto auto auto auto auto",
       "width": "50%"
      }
     },
     "b14dfeadc8fa4a0f81bd10a58fef0956": {
      "model_module": "@jupyter-widgets/base",
      "model_module_version": "1.1.0",
      "model_name": "LayoutModel",
      "state": {
       "grid_area": "actions",
       "width": "auto"
      }
     },
     "b1644e10b4354a5ca157da9998525156": {
      "model_module": "@jupyter-widgets/base",
      "model_module_version": "1.1.0",
      "model_name": "LayoutModel",
      "state": {
       "grid_area": "text1",
       "width": "auto"
      }
     },
     "b24e766af4474023a6f7951ae730084b": {
      "model_module": "@jupyter-widgets/controls",
      "model_module_version": "1.4.0",
      "model_name": "ButtonStyleModel",
      "state": {}
     },
     "b28d37d263d54dd29a702dd8696a9918": {
      "model_module": "@jupyter-widgets/base",
      "model_module_version": "1.1.0",
      "model_name": "LayoutModel",
      "state": {
       "grid_area": "doors",
       "width": "auto"
      }
     },
     "b2ff75b2f8e94e3f856821063f24c8e0": {
      "model_module": "@jupyter-widgets/controls",
      "model_module_version": "1.4.0",
      "model_name": "ButtonStyleModel",
      "state": {}
     },
     "b3032d29e4c7414387ba0c1afdbbcd7a": {
      "model_module": "@jupyter-widgets/controls",
      "model_module_version": "1.4.0",
      "model_name": "BoxModel",
      "state": {
       "children": [
        "IPY_MODEL_76c157aa2cf84fae8cbb60d5e8229aee",
        "IPY_MODEL_fe721b84e1ce43ff955c0046e367bfb0",
        "IPY_MODEL_5a0df8aad49f42c5b36359f70252bba7"
       ],
       "layout": "IPY_MODEL_bc0a53ce87e9457387bf290395312fa6"
      }
     },
     "b322c31e3d214fb2acbfe1ebc6dfca43": {
      "model_module": "@jupyter-widgets/controls",
      "model_module_version": "1.4.0",
      "model_name": "GridBoxModel",
      "state": {
       "children": [
        "IPY_MODEL_39c6f2950c9b45b489aa71ded9afed65",
        "IPY_MODEL_56f3b9916b89478ba0d577bd3d362395",
        "IPY_MODEL_6fa33abeac3c4b2bbd369402d941e807",
        "IPY_MODEL_f53a4b6ee6b343b7bbaa503e7f9b03ce",
        "IPY_MODEL_fbe8137b02a54b9d90b5c60458aaa170",
        "IPY_MODEL_7b91231fe3914ef3869eb6578c2c964d",
        "IPY_MODEL_0a60e5863a1e45dfa9ccd94fc0866539",
        "IPY_MODEL_45f5ebc12fa8424c8167e7b3b504390b",
        "IPY_MODEL_3a802c140a9a4c64b5704a4489dc2a37",
        "IPY_MODEL_041026015f3f476b9732f41feba951f9"
       ],
       "layout": "IPY_MODEL_a1fe122518eb4beabd1f9aa434b84375"
      }
     },
     "b388282683e24794acd52c47555631b3": {
      "model_module": "@jupyter-widgets/controls",
      "model_module_version": "1.4.0",
      "model_name": "IntTextModel",
      "state": {
       "disabled": true,
       "layout": "IPY_MODEL_34a940ecb0894b3eb4d19f0148632e76",
       "step": 1,
       "style": "IPY_MODEL_360756afbfe44b2b9149844a17849e7d"
      }
     },
     "b4180cda257e4124b274085c1ddaad26": {
      "model_module": "@jupyter-widgets/base",
      "model_module_version": "1.1.0",
      "model_name": "LayoutModel",
      "state": {
       "grid_area": "status",
       "width": "auto"
      }
     },
     "b451c258f9f94f6b99c8f9a6fed0ab90": {
      "model_module": "@jupyter-widgets/controls",
      "model_module_version": "1.4.0",
      "model_name": "GridBoxModel",
      "state": {
       "children": [
        "IPY_MODEL_da3b1a896d534ca9ac97e24d16d915fe",
        "IPY_MODEL_76d590458e434cf4b3063a1830071d6c",
        "IPY_MODEL_869a2f0f015c468ea8fda33d9ada8e29",
        "IPY_MODEL_a7a921d9b5614595ba2d26367e458f46",
        "IPY_MODEL_d3a7dd9254344099a1e5d1a0aae8ad3d",
        "IPY_MODEL_2400b8ba4c474d7883cd619c1905b645",
        "IPY_MODEL_8ac51f2987ae4611aadec67474912067",
        "IPY_MODEL_67ee4f10eb7c4d909d5fe65b4267787c",
        "IPY_MODEL_48866ca73d3c421faa658e5ee38562f8",
        "IPY_MODEL_cddb7341edd547a68e86974f418832e1"
       ],
       "layout": "IPY_MODEL_41e35bb6ad814e80ae78d9c245ce92dc"
      }
     },
     "b4973152c0154ef6b17abf7a9955a91d": {
      "model_module": "@jupyter-widgets/controls",
      "model_module_version": "1.4.0",
      "model_name": "DescriptionStyleModel",
      "state": {
       "description_width": ""
      }
     },
     "b4b5c341cc9f4c59ac6293d93977c696": {
      "model_module": "@jupyter-widgets/controls",
      "model_module_version": "1.4.0",
      "model_name": "LabelModel",
      "state": {
       "layout": "IPY_MODEL_f3034002cfad406dbcb86aa221fc0a46",
       "style": "IPY_MODEL_2f645f0088554e1da8dff10ca6c22758",
       "value": "number of wins"
      }
     },
     "b4bd376151a94a359cfba74d0913518b": {
      "model_module": "@jupyter-widgets/base",
      "model_module_version": "1.1.0",
      "model_name": "LayoutModel",
      "state": {
       "grid_area": "status",
       "width": "auto"
      }
     },
     "b4d039fbe2ba4d878ef09ca3e93c9c4c": {
      "model_module": "@jupyter-widgets/base",
      "model_module_version": "1.1.0",
      "model_name": "LayoutModel",
      "state": {
       "width": "50%"
      }
     },
     "b4f37a45f939420cba29e20e764a6787": {
      "model_module": "@jupyter-widgets/controls",
      "model_module_version": "1.4.0",
      "model_name": "DescriptionStyleModel",
      "state": {
       "description_width": ""
      }
     },
     "b504c3d37e91480492b5a7c44e2e16a8": {
      "model_module": "@jupyter-widgets/controls",
      "model_module_version": "1.4.0",
      "model_name": "ButtonStyleModel",
      "state": {}
     },
     "b55fbec11120454db58b23697d50cdef": {
      "model_module": "@jupyter-widgets/controls",
      "model_module_version": "1.4.0",
      "model_name": "ButtonStyleModel",
      "state": {}
     },
     "b562016788b24cbc88e972005925d8dd": {
      "model_module": "@jupyter-widgets/controls",
      "model_module_version": "1.4.0",
      "model_name": "IntTextModel",
      "state": {
       "disabled": true,
       "layout": "IPY_MODEL_7ed6d00d384e4b908dd91875c64531ce",
       "step": 1,
       "style": "IPY_MODEL_61dcb53cfada4ea5ab05bd8f72176168",
       "value": 9
      }
     },
     "b59833e394ad469eaf9c797e48a60ca0": {
      "model_module": "@jupyter-widgets/controls",
      "model_module_version": "1.4.0",
      "model_name": "DescriptionStyleModel",
      "state": {
       "description_width": ""
      }
     },
     "b5a34737727e42ba9550a7c4833b7af9": {
      "model_module": "@jupyter-widgets/controls",
      "model_module_version": "1.4.0",
      "model_name": "ButtonStyleModel",
      "state": {}
     },
     "b5abdfcf364742f090ad1b147cdffa89": {
      "model_module": "@jupyter-widgets/controls",
      "model_module_version": "1.4.0",
      "model_name": "DescriptionStyleModel",
      "state": {
       "description_width": ""
      }
     },
     "b6185263ae574db6a2130407de1c495e": {
      "model_module": "@jupyter-widgets/controls",
      "model_module_version": "1.4.0",
      "model_name": "FloatTextModel",
      "state": {
       "disabled": true,
       "layout": "IPY_MODEL_89846f10ed6f4947bf44ee5904779ca4",
       "step": null,
       "style": "IPY_MODEL_c1cc30351eb3418ba9a15171056f5edc"
      }
     },
     "b675434ff65a4e27bb1db5f209ca6153": {
      "model_module": "@jupyter-widgets/controls",
      "model_module_version": "1.4.0",
      "model_name": "GridBoxModel",
      "state": {
       "children": [
        "IPY_MODEL_1b47bb72395e4444ac1d4ba0f680a85f",
        "IPY_MODEL_6b6b18c9a5be42429531c1c98e25d667",
        "IPY_MODEL_35e82d8bed5c45fb94b51cc94fa1556a",
        "IPY_MODEL_df4e1999fc4b49678fb3bba0378f8f00",
        "IPY_MODEL_253a16949aa1422ca75fba139ad9529c",
        "IPY_MODEL_cfde0dcd2b2a4151ae31e9b774d3ad9a",
        "IPY_MODEL_49a4dfc7430449ada298b07446708788",
        "IPY_MODEL_8c32f970be3448618445b7a3951b631e",
        "IPY_MODEL_87928bc0b8f3401e80ffcf49e7e79625",
        "IPY_MODEL_f266583021fe48ed8571167bad6ef54b"
       ],
       "layout": "IPY_MODEL_aa8facf1626e40fa90082d5f65cc1b3e"
      }
     },
     "b680434f8bc94af1a8b5c747657260a2": {
      "model_module": "@jupyter-widgets/controls",
      "model_module_version": "1.4.0",
      "model_name": "DescriptionStyleModel",
      "state": {
       "description_width": ""
      }
     },
     "b6a1577ddd4a405bbfe2e144c06965e1": {
      "model_module": "@jupyter-widgets/controls",
      "model_module_version": "1.4.0",
      "model_name": "ButtonStyleModel",
      "state": {}
     },
     "b6a839f0a50840f7a2c6113beb9be672": {
      "model_module": "@jupyter-widgets/controls",
      "model_module_version": "1.4.0",
      "model_name": "LabelModel",
      "state": {
       "layout": "IPY_MODEL_7ce0b0b268874578a0bc9e7681f943a3",
       "style": "IPY_MODEL_bfc43bd52e5140588bed03b0f6225415",
       "value": "Monty reveals a goat behind Door 1. Click Door 3 to switch, or 'reveal' Door 2."
      }
     },
     "b6cf4358eded4372bcb42f70c783ff89": {
      "model_module": "@jupyter-widgets/controls",
      "model_module_version": "1.4.0",
      "model_name": "ButtonStyleModel",
      "state": {}
     },
     "b6dc823933e24fc182a23058ee9be6fd": {
      "model_module": "@jupyter-widgets/base",
      "model_module_version": "1.1.0",
      "model_name": "LayoutModel",
      "state": {
       "grid_area": "text1",
       "width": "auto"
      }
     },
     "b74caf06543c4d5db32c6a4466fd5214": {
      "model_module": "@jupyter-widgets/controls",
      "model_module_version": "1.4.0",
      "model_name": "DescriptionStyleModel",
      "state": {
       "description_width": ""
      }
     },
     "b7a13785578343d68417d234ce805915": {
      "model_module": "@jupyter-widgets/controls",
      "model_module_version": "1.4.0",
      "model_name": "BoxModel",
      "state": {
       "children": [
        "IPY_MODEL_cafc955d3f9f4b66991f575d8ae0351e",
        "IPY_MODEL_604ec4ae88724cd7912f41c7930be683",
        "IPY_MODEL_dd4700ebc13a4a6ba07ddb68419a3d82"
       ],
       "layout": "IPY_MODEL_41229e63143d435e8abf480d5f9ede16"
      }
     },
     "b7ba9875351c47f5a2862e46786af601": {
      "model_module": "@jupyter-widgets/base",
      "model_module_version": "1.1.0",
      "model_name": "LayoutModel",
      "state": {
       "flex": "1 1 auto",
       "width": "auto"
      }
     },
     "b802c190f3ad49f4a6ceaefe2677df87": {
      "model_module": "@jupyter-widgets/controls",
      "model_module_version": "1.4.0",
      "model_name": "ButtonModel",
      "state": {
       "description": "continue",
       "disabled": true,
       "layout": "IPY_MODEL_c6fdc1b6e0d24975a39d02ac7445d17d",
       "style": "IPY_MODEL_3de2d138d0b2434d8447a69f3b987caa",
       "tooltip": "continue play"
      }
     },
     "b8e4398381d0407782a9a05058269acd": {
      "model_module": "@jupyter-widgets/controls",
      "model_module_version": "1.4.0",
      "model_name": "ButtonModel",
      "state": {
       "description": "continue",
       "disabled": true,
       "layout": "IPY_MODEL_2b70b149a55747019777f9dcb7f608f9",
       "style": "IPY_MODEL_3ab80af2ff6147c6b329cd82cd9c677c",
       "tooltip": "continue play"
      }
     },
     "b924e16a765040fbadca6be834377c90": {
      "model_module": "@jupyter-widgets/base",
      "model_module_version": "1.1.0",
      "model_name": "LayoutModel",
      "state": {
       "grid_area": "status",
       "width": "auto"
      }
     },
     "b927f543dac44ca5aad0571408104245": {
      "model_module": "@jupyter-widgets/controls",
      "model_module_version": "1.4.0",
      "model_name": "IntTextModel",
      "state": {
       "disabled": true,
       "layout": "IPY_MODEL_b6dc823933e24fc182a23058ee9be6fd",
       "step": 1,
       "style": "IPY_MODEL_fa878816090f46099e4034c152677850"
      }
     },
     "ba48f3c2bc8543f2b83d01ef5fefeaa0": {
      "model_module": "@jupyter-widgets/controls",
      "model_module_version": "1.4.0",
      "model_name": "DescriptionStyleModel",
      "state": {
       "description_width": ""
      }
     },
     "ba769522b894420bb4b7a63235f05aad": {
      "model_module": "@jupyter-widgets/controls",
      "model_module_version": "1.4.0",
      "model_name": "ButtonStyleModel",
      "state": {}
     },
     "ba98d3a304ae46e3a7432a8708a65728": {
      "model_module": "@jupyter-widgets/controls",
      "model_module_version": "1.4.0",
      "model_name": "GridBoxModel",
      "state": {
       "children": [
        "IPY_MODEL_86976564f92f47afafb9b2242e937fb6",
        "IPY_MODEL_1a4aa059e253489a83af212770ca44c3",
        "IPY_MODEL_a9b15a68335d45db942419868e4285a9",
        "IPY_MODEL_b562016788b24cbc88e972005925d8dd",
        "IPY_MODEL_a27ad20fca0a4c0bbbeda50544ec957b",
        "IPY_MODEL_b0460ef002ff4699a620a1b132b527ce",
        "IPY_MODEL_bc33aad3d9d946d7a7629b95004a7fe2",
        "IPY_MODEL_faf4af3f1db94c6586292fbd3da7da21",
        "IPY_MODEL_409a6f916af44cbda7805a45c46a0273",
        "IPY_MODEL_d6c2351c06f54239a11e9ebb3bd0d0c0"
       ],
       "layout": "IPY_MODEL_ac27fd3b27514c5e95f23d6177c88c55"
      }
     },
     "bb2ef9d25ac447019fbcdbe960ebe6c7": {
      "model_module": "@jupyter-widgets/base",
      "model_module_version": "1.1.0",
      "model_name": "LayoutModel",
      "state": {
       "grid_area": "status",
       "width": "auto"
      }
     },
     "bb39253e0ce34acd94f904e2c9f8ab30": {
      "model_module": "@jupyter-widgets/controls",
      "model_module_version": "1.4.0",
      "model_name": "DescriptionStyleModel",
      "state": {
       "description_width": ""
      }
     },
     "bb4af34f30e041cbb226943a817d95dd": {
      "model_module": "@jupyter-widgets/controls",
      "model_module_version": "1.4.0",
      "model_name": "LabelModel",
      "state": {
       "layout": "IPY_MODEL_b4180cda257e4124b274085c1ddaad26",
       "style": "IPY_MODEL_ac4f282fe1784d33a562018838264b4b",
       "value": "Pick a door..."
      }
     },
     "bb63dedc9034433d946099809c705a5c": {
      "model_module": "@jupyter-widgets/controls",
      "model_module_version": "1.4.0",
      "model_name": "DescriptionStyleModel",
      "state": {
       "description_width": ""
      }
     },
     "bb65c9655ed94deaaa5aaa039f3c5064": {
      "model_module": "@jupyter-widgets/base",
      "model_module_version": "1.1.0",
      "model_name": "LayoutModel",
      "state": {
       "flex": "1 1 auto",
       "width": "auto"
      }
     },
     "bb8e3d4e1fbd46288a47e3c479c4649f": {
      "model_module": "@jupyter-widgets/controls",
      "model_module_version": "1.4.0",
      "model_name": "ButtonModel",
      "state": {
       "description": "reveal",
       "disabled": true,
       "layout": "IPY_MODEL_57cfa99341e94d88aa201dd725dadb91",
       "style": "IPY_MODEL_1c44eee78de14d01af0dba26c1cd26d7",
       "tooltip": "open selected door"
      }
     },
     "bbafbaad99a641fba9c87e428e547019": {
      "model_module": "@jupyter-widgets/controls",
      "model_module_version": "1.4.0",
      "model_name": "LabelModel",
      "state": {
       "layout": "IPY_MODEL_8bccde5411ce41828be8e219aa569be6",
       "style": "IPY_MODEL_f0e58d7471014982829ed65328912de4",
       "value": "Monty reveals a goat behind Door 3. Click Door 1 to switch, or 'reveal' Door 2."
      }
     },
     "bc0a53ce87e9457387bf290395312fa6": {
      "model_module": "@jupyter-widgets/base",
      "model_module_version": "1.1.0",
      "model_name": "LayoutModel",
      "state": {
       "grid_area": "doors",
       "width": "auto"
      }
     },
     "bc12fb6742ca48f8a718e5a735aa3b52": {
      "model_module": "@jupyter-widgets/controls",
      "model_module_version": "1.4.0",
      "model_name": "DescriptionStyleModel",
      "state": {
       "description_width": ""
      }
     },
     "bc170ffd684e41d087580fc35c9d00d8": {
      "model_module": "@jupyter-widgets/controls",
      "model_module_version": "1.4.0",
      "model_name": "LabelModel",
      "state": {
       "layout": "IPY_MODEL_1c8d3b3d240d4f0983f48627117d77b5",
       "style": "IPY_MODEL_36657a4075b34ce3a3e4a5a369d719d5",
       "value": "Pick a door..."
      }
     },
     "bc2322959cb6402b92a8aef3e92a358f": {
      "model_module": "@jupyter-widgets/controls",
      "model_module_version": "1.4.0",
      "model_name": "ButtonModel",
      "state": {
       "description": "Door 2",
       "layout": "IPY_MODEL_5de937ebe6ab4882bf7662084aa3d6f1",
       "style": "IPY_MODEL_6b0a545bb43447219e2ec4602b433512"
      }
     },
     "bc2a3d128699430988f1d18082cd2b57": {
      "model_module": "@jupyter-widgets/base",
      "model_module_version": "1.1.0",
      "model_name": "LayoutModel",
      "state": {
       "grid_area": "label1",
       "width": "auto"
      }
     },
     "bc33aad3d9d946d7a7629b95004a7fe2": {
      "model_module": "@jupyter-widgets/controls",
      "model_module_version": "1.4.0",
      "model_name": "LabelModel",
      "state": {
       "layout": "IPY_MODEL_a11e5eb6b7ed4310b102da0d1b129ac8",
       "style": "IPY_MODEL_00e10ebed1d848bf95e5f9418f2f40c7",
       "value": "success rate"
      }
     },
     "bc8dc433f7814cbcb20f2be766b600bb": {
      "model_module": "@jupyter-widgets/controls",
      "model_module_version": "1.4.0",
      "model_name": "ButtonModel",
      "state": {
       "description": "Door 1",
       "layout": "IPY_MODEL_af1a77b98e604c47b42d1cb58ba01219",
       "style": "IPY_MODEL_e726533defb14de8a616b0bac32b1cd8"
      }
     },
     "bc954d41a325487f8bf733ccfe609c6d": {
      "model_module": "@jupyter-widgets/base",
      "model_module_version": "1.1.0",
      "model_name": "LayoutModel",
      "state": {
       "grid_area": "banner",
       "justify_content": "center",
       "width": "auto"
      }
     },
     "bceda94cc7174ecfa23d18f9209d4c31": {
      "model_module": "@jupyter-widgets/base",
      "model_module_version": "1.1.0",
      "model_name": "LayoutModel",
      "state": {
       "grid_area": "label3",
       "width": "auto"
      }
     },
     "bd27b2529af942639b8a804d78726f86": {
      "model_module": "@jupyter-widgets/controls",
      "model_module_version": "1.4.0",
      "model_name": "DescriptionStyleModel",
      "state": {
       "description_width": ""
      }
     },
     "bd4889326bc94208b61aea00caa3a026": {
      "model_module": "@jupyter-widgets/base",
      "model_module_version": "1.1.0",
      "model_name": "LayoutModel",
      "state": {
       "grid_template_areas": "\n                \"banner banner banner banner\"\n                \"doors doors doors doors\"\n                \"label1 label1 text1 text1\"\n                \"label2 label2 text2 text2\"\n                \"label3 label3 text3 text3\"\n                \"status status status status\"\n                \". . actions actions\"\n            ",
       "grid_template_columns": "25% 25% 25% 25%",
       "grid_template_rows": "auto auto auto auto auto auto auto",
       "width": "50%"
      }
     },
     "bd5365fe3d8244b6972394833c8d77d0": {
      "model_module": "@jupyter-widgets/base",
      "model_module_version": "1.1.0",
      "model_name": "LayoutModel",
      "state": {
       "grid_template_areas": "\n                \"banner banner banner banner\"\n                \"doors doors doors doors\"\n                \"label1 label1 text1 text1\"\n                \"label2 label2 text2 text2\"\n                \"label3 label3 text3 text3\"\n                \"status status status status\"\n                \". . actions actions\"\n            ",
       "grid_template_columns": "25% 25% 25% 25%",
       "grid_template_rows": "auto auto auto auto auto auto auto",
       "width": "50%"
      }
     },
     "bd6459e23c6c4b069222f6833bb893e4": {
      "model_module": "@jupyter-widgets/controls",
      "model_module_version": "1.4.0",
      "model_name": "DescriptionStyleModel",
      "state": {
       "description_width": ""
      }
     },
     "bd861f801e8f4ee2ad64b6deb8a9fad4": {
      "model_module": "@jupyter-widgets/base",
      "model_module_version": "1.1.0",
      "model_name": "LayoutModel",
      "state": {
       "grid_area": "banner",
       "justify_content": "center",
       "width": "auto"
      }
     },
     "bea828a1cd0e4a138af1af9773607e50": {
      "model_module": "@jupyter-widgets/base",
      "model_module_version": "1.1.0",
      "model_name": "LayoutModel",
      "state": {
       "grid_area": "label1",
       "width": "auto"
      }
     },
     "bfc43bd52e5140588bed03b0f6225415": {
      "model_module": "@jupyter-widgets/controls",
      "model_module_version": "1.4.0",
      "model_name": "DescriptionStyleModel",
      "state": {
       "description_width": ""
      }
     },
     "bff29f05bd1a4f88bdd1eb7bfd03dced": {
      "model_module": "@jupyter-widgets/controls",
      "model_module_version": "1.4.0",
      "model_name": "LabelModel",
      "state": {
       "layout": "IPY_MODEL_3a72d82dccc94cf6b85a41492cec2afc",
       "style": "IPY_MODEL_2c3ed01507d045ff968062b0c4bd8c33",
       "value": "Interactive widget: Monty Hall problem"
      }
     },
     "c05d6a6f71124a3692d5ca3603440342": {
      "model_module": "@jupyter-widgets/base",
      "model_module_version": "1.1.0",
      "model_name": "LayoutModel",
      "state": {
       "grid_area": "status",
       "width": "auto"
      }
     },
     "c0764798f24646e5be4b68d28009841e": {
      "model_module": "@jupyter-widgets/base",
      "model_module_version": "1.1.0",
      "model_name": "LayoutModel",
      "state": {
       "grid_area": "doors",
       "width": "auto"
      }
     },
     "c1098768fdee47529d16b91ba8d67caf": {
      "model_module": "@jupyter-widgets/controls",
      "model_module_version": "1.4.0",
      "model_name": "ButtonStyleModel",
      "state": {}
     },
     "c185dd205a9246219931db1bd3e916e1": {
      "model_module": "@jupyter-widgets/controls",
      "model_module_version": "1.4.0",
      "model_name": "ButtonModel",
      "state": {
       "description": "reset",
       "layout": "IPY_MODEL_776c2441f69946d198ccc7029402282d",
       "style": "IPY_MODEL_86aeedc3feb84159ae451dc33ebfce66",
       "tooltip": "reset game"
      }
     },
     "c1a7590022b042b9bc95e74ffa217310": {
      "model_module": "@jupyter-widgets/base",
      "model_module_version": "1.1.0",
      "model_name": "LayoutModel",
      "state": {
       "grid_area": "status",
       "width": "auto"
      }
     },
     "c1cc30351eb3418ba9a15171056f5edc": {
      "model_module": "@jupyter-widgets/controls",
      "model_module_version": "1.4.0",
      "model_name": "DescriptionStyleModel",
      "state": {
       "description_width": ""
      }
     },
     "c2600a15d11e4078a7e47b5a18a59e70": {
      "model_module": "@jupyter-widgets/controls",
      "model_module_version": "1.4.0",
      "model_name": "FloatTextModel",
      "state": {
       "disabled": true,
       "layout": "IPY_MODEL_6f4cb9a801864e71bee642b139f55a7d",
       "step": null,
       "style": "IPY_MODEL_4f9e72d797404863bc7f5f3b0d83c5cf",
       "value": 0.6428571428571429
      }
     },
     "c2a15cdb001740678496388a4b9e242a": {
      "model_module": "@jupyter-widgets/controls",
      "model_module_version": "1.4.0",
      "model_name": "IntTextModel",
      "state": {
       "disabled": true,
       "layout": "IPY_MODEL_31ac4807a5e94b2c94b7fdf49988abd9",
       "step": 1,
       "style": "IPY_MODEL_513ce7c993b04422a4966c74fc3bda82"
      }
     },
     "c35dee1de91d4577b00818029830b691": {
      "model_module": "@jupyter-widgets/controls",
      "model_module_version": "1.4.0",
      "model_name": "IntTextModel",
      "state": {
       "disabled": true,
       "layout": "IPY_MODEL_fd2e247a4a164a108d04e5746dc91486",
       "step": 1,
       "style": "IPY_MODEL_95e22786db8f48c185d4a13b9e1863dd",
       "value": 7
      }
     },
     "c36890ceee5c4c02b1970b0dcfee28ca": {
      "model_module": "@jupyter-widgets/controls",
      "model_module_version": "1.4.0",
      "model_name": "BoxModel",
      "state": {
       "children": [
        "IPY_MODEL_913365dcce284da187af24d7b42be41c"
       ],
       "layout": "IPY_MODEL_802b00a5501b4cbf9cdca03e37fa5b4d"
      }
     },
     "c3c15888aa91476faeb2f93db1eb2b2c": {
      "model_module": "@jupyter-widgets/controls",
      "model_module_version": "1.4.0",
      "model_name": "IntTextModel",
      "state": {
       "disabled": true,
       "layout": "IPY_MODEL_823469dbdba0485ebcace7f33d5291af",
       "step": 1,
       "style": "IPY_MODEL_1fc25af13b3d44fb8a38a00b342e77c7",
       "value": 9
      }
     },
     "c3c4cdbc3e304231b30fde920c9d12e8": {
      "model_module": "@jupyter-widgets/controls",
      "model_module_version": "1.4.0",
      "model_name": "DescriptionStyleModel",
      "state": {
       "description_width": ""
      }
     },
     "c4c75524df21431f8b05011aad09668e": {
      "model_module": "@jupyter-widgets/base",
      "model_module_version": "1.1.0",
      "model_name": "LayoutModel",
      "state": {
       "grid_area": "label3",
       "width": "auto"
      }
     },
     "c56b0cc5a1b143b7a1a7f25f3f97c454": {
      "model_module": "@jupyter-widgets/controls",
      "model_module_version": "1.4.0",
      "model_name": "ButtonModel",
      "state": {
       "description": "continue",
       "disabled": true,
       "layout": "IPY_MODEL_2de900b4af564d419c36ffdfc4f0a019",
       "style": "IPY_MODEL_91d341edd7a84d04b08532927677684c",
       "tooltip": "continue play"
      }
     },
     "c5a10d4384ad4544b37cfe05661275f8": {
      "model_module": "@jupyter-widgets/controls",
      "model_module_version": "1.4.0",
      "model_name": "DescriptionStyleModel",
      "state": {
       "description_width": ""
      }
     },
     "c639001b4155403482ca7f6437aeb85b": {
      "model_module": "@jupyter-widgets/controls",
      "model_module_version": "1.4.0",
      "model_name": "ButtonModel",
      "state": {
       "description": "reset",
       "disabled": true,
       "layout": "IPY_MODEL_2de900b4af564d419c36ffdfc4f0a019",
       "style": "IPY_MODEL_c6fc31e680814f19a19f6cd566fdb46e",
       "tooltip": "reset game"
      }
     },
     "c690cd674b1349bcaf872e34903d3509": {
      "model_module": "@jupyter-widgets/controls",
      "model_module_version": "1.4.0",
      "model_name": "LabelModel",
      "state": {
       "layout": "IPY_MODEL_883991a856e6481bba39577da34dbd38",
       "style": "IPY_MODEL_6206ed9bc98242d88edd6afd5655b1b9",
       "value": "number of wins"
      }
     },
     "c6ec145a383940b09a5b3bad5e2e7c24": {
      "model_module": "@jupyter-widgets/controls",
      "model_module_version": "1.4.0",
      "model_name": "BoxModel",
      "state": {
       "children": [
        "IPY_MODEL_a711aa1c6833492f9c0fbca015e52652",
        "IPY_MODEL_97d9c8c050f047718fcd067f244c0fbb",
        "IPY_MODEL_4b11d528394946b9837c56d067e44bf0"
       ],
       "layout": "IPY_MODEL_6665a638db794881add51726d394ce2e"
      }
     },
     "c6edb3784f9b4047b05dff5a431c4f05": {
      "model_module": "@jupyter-widgets/controls",
      "model_module_version": "1.4.0",
      "model_name": "ButtonStyleModel",
      "state": {}
     },
     "c6fc31e680814f19a19f6cd566fdb46e": {
      "model_module": "@jupyter-widgets/controls",
      "model_module_version": "1.4.0",
      "model_name": "ButtonStyleModel",
      "state": {}
     },
     "c6fdc1b6e0d24975a39d02ac7445d17d": {
      "model_module": "@jupyter-widgets/base",
      "model_module_version": "1.1.0",
      "model_name": "LayoutModel",
      "state": {
       "flex": "1 1 auto",
       "width": "auto"
      }
     },
     "c75827f5be4f4534a0ffbd29aa622ab4": {
      "model_module": "@jupyter-widgets/controls",
      "model_module_version": "1.4.0",
      "model_name": "ButtonStyleModel",
      "state": {}
     },
     "c792a7dda01b4decbefd2bc2751ebb15": {
      "model_module": "@jupyter-widgets/controls",
      "model_module_version": "1.4.0",
      "model_name": "DescriptionStyleModel",
      "state": {
       "description_width": ""
      }
     },
     "c7c6a6f6cd4d400cb432b5c59dd4e8cf": {
      "model_module": "@jupyter-widgets/base",
      "model_module_version": "1.1.0",
      "model_name": "LayoutModel",
      "state": {
       "grid_area": "label2",
       "width": "auto"
      }
     },
     "c7e8e2e744c74928932ec69d91445642": {
      "model_module": "@jupyter-widgets/controls",
      "model_module_version": "1.4.0",
      "model_name": "ButtonStyleModel",
      "state": {}
     },
     "c8d836462c5945ec9ec6d8fdde42a8ae": {
      "model_module": "@jupyter-widgets/base",
      "model_module_version": "1.1.0",
      "model_name": "LayoutModel",
      "state": {
       "grid_area": "doors",
       "width": "auto"
      }
     },
     "c91e0d41bf2449cea830024fea283e52": {
      "model_module": "@jupyter-widgets/controls",
      "model_module_version": "1.4.0",
      "model_name": "DescriptionStyleModel",
      "state": {
       "description_width": ""
      }
     },
     "c94741dd2809418c968ad1804dc1f0fe": {
      "model_module": "@jupyter-widgets/controls",
      "model_module_version": "1.4.0",
      "model_name": "DescriptionStyleModel",
      "state": {
       "description_width": ""
      }
     },
     "ca0a759e099e49828f44861ec19aa22e": {
      "model_module": "@jupyter-widgets/controls",
      "model_module_version": "1.4.0",
      "model_name": "DescriptionStyleModel",
      "state": {
       "description_width": ""
      }
     },
     "ca79cba638f14941a58b2337b6d66ab5": {
      "model_module": "@jupyter-widgets/base",
      "model_module_version": "1.1.0",
      "model_name": "LayoutModel",
      "state": {
       "grid_area": "actions",
       "width": "auto"
      }
     },
     "caa52976492f43bdabd9eea4ffb2a503": {
      "model_module": "@jupyter-widgets/controls",
      "model_module_version": "1.4.0",
      "model_name": "ButtonModel",
      "state": {
       "description": "reveal",
       "layout": "IPY_MODEL_a685eda38364474c9228d5b645a37daf",
       "style": "IPY_MODEL_45a69ba873ce43a7930db47f5f5727e2",
       "tooltip": "open selected door"
      }
     },
     "cabe54abc6a349c6a862b0383949b86d": {
      "model_module": "@jupyter-widgets/controls",
      "model_module_version": "1.4.0",
      "model_name": "ButtonModel",
      "state": {
       "description": "goat",
       "disabled": true,
       "layout": "IPY_MODEL_57bb8120eebb486d9b9cf65238b31084",
       "style": "IPY_MODEL_51b934929fd14bd6b49d40115a050a95"
      }
     },
     "cafc955d3f9f4b66991f575d8ae0351e": {
      "model_module": "@jupyter-widgets/controls",
      "model_module_version": "1.4.0",
      "model_name": "ButtonModel",
      "state": {
       "button_style": "info",
       "description": "Door 1",
       "disabled": true,
       "layout": "IPY_MODEL_46d29bd6ec0d4d75a72c41a076e1108a",
       "style": "IPY_MODEL_3138c4951cef426cbdd2204654b5fa59"
      }
     },
     "cb23db01b9c646d0ace21386ad133e99": {
      "model_module": "@jupyter-widgets/base",
      "model_module_version": "1.1.0",
      "model_name": "LayoutModel",
      "state": {
       "flex": "1 1 auto",
       "width": "auto"
      }
     },
     "cb7dded04df84f35b2560cd3a192ce09": {
      "model_module": "@jupyter-widgets/controls",
      "model_module_version": "1.4.0",
      "model_name": "LabelModel",
      "state": {
       "layout": "IPY_MODEL_a94bd3ec6f884777be36c7eeb5e3d5e7",
       "style": "IPY_MODEL_6c5abe6d0bab4a8badb290091fa7abcb",
       "value": "success rate"
      }
     },
     "cbdd3c8076ba49ee950002303ca8f9fd": {
      "model_module": "@jupyter-widgets/controls",
      "model_module_version": "1.4.0",
      "model_name": "ButtonStyleModel",
      "state": {}
     },
     "cc510e7cc7fa4d328f1af8b02d366397": {
      "model_module": "@jupyter-widgets/controls",
      "model_module_version": "1.4.0",
      "model_name": "BoxModel",
      "state": {
       "children": [
        "IPY_MODEL_262b57fa94e04a5d843e3faae986f4fd",
        "IPY_MODEL_87f42f932dd7413ebb51ac39395eafe9",
        "IPY_MODEL_3bb650c3b38a443e8b3089ad18f0b02a"
       ],
       "layout": "IPY_MODEL_8c2c6031d81047b28b287e4d130cff44"
      }
     },
     "cc9a2786b6bf43c3bf2449414ab100d2": {
      "model_module": "@jupyter-widgets/controls",
      "model_module_version": "1.4.0",
      "model_name": "ButtonStyleModel",
      "state": {}
     },
     "ccb4f15b2ca24de596f9adbfb7863a8c": {
      "model_module": "@jupyter-widgets/base",
      "model_module_version": "1.1.0",
      "model_name": "LayoutModel",
      "state": {
       "grid_area": "text3",
       "width": "auto"
      }
     },
     "ccc433c8f3c8437a842191bffe9e561f": {
      "model_module": "@jupyter-widgets/controls",
      "model_module_version": "1.4.0",
      "model_name": "IntTextModel",
      "state": {
       "disabled": true,
       "layout": "IPY_MODEL_288759e8047e4a9a82f764d8fdff87e8",
       "step": 1,
       "style": "IPY_MODEL_eca76bf8aad7463c8d4cc827783dac74"
      }
     },
     "cd2f36f5fd954f589a216d342a6ef8b4": {
      "model_module": "@jupyter-widgets/controls",
      "model_module_version": "1.4.0",
      "model_name": "ButtonModel",
      "state": {
       "description": "continue",
       "layout": "IPY_MODEL_cd3bf49d4bb04a959a84012405f250db",
       "style": "IPY_MODEL_f175da70b28a44cea1cd66e11e07a3d4",
       "tooltip": "continue play"
      }
     },
     "cd3bf49d4bb04a959a84012405f250db": {
      "model_module": "@jupyter-widgets/base",
      "model_module_version": "1.1.0",
      "model_name": "LayoutModel",
      "state": {
       "flex": "1 1 auto",
       "width": "auto"
      }
     },
     "cddb7341edd547a68e86974f418832e1": {
      "model_module": "@jupyter-widgets/controls",
      "model_module_version": "1.4.0",
      "model_name": "BoxModel",
      "state": {
       "children": [
        "IPY_MODEL_1b84569d47a94f2db06f0135b5fc4243",
        "IPY_MODEL_e63f865ae4a142c9829836c940b2596c",
        "IPY_MODEL_1bb83ffcc3464711a0af4691eb89e0a4"
       ],
       "layout": "IPY_MODEL_7722aaaf55b64da19c76a7285606932a"
      }
     },
     "ce560e16c37c4736a8002a01d2619fe4": {
      "model_module": "@jupyter-widgets/controls",
      "model_module_version": "1.4.0",
      "model_name": "ButtonModel",
      "state": {
       "description": "reset",
       "layout": "IPY_MODEL_e072a7ff80a24f85944c5c53586255e9",
       "style": "IPY_MODEL_f252d98fbccb4cb396ccd1c226380580",
       "tooltip": "reset game"
      }
     },
     "ceb23c5ab9f14fc59f6f9ba3cf1def44": {
      "model_module": "@jupyter-widgets/controls",
      "model_module_version": "1.4.0",
      "model_name": "LabelModel",
      "state": {
       "layout": "IPY_MODEL_ddf375980ddb4cd990a64cd358fb47b0",
       "style": "IPY_MODEL_170ca141a83d42b2b591d13a19642d43",
       "value": "number of wins"
      }
     },
     "cee9a34fe75a4a8ba26116c7a9d70626": {
      "model_module": "@jupyter-widgets/controls",
      "model_module_version": "1.4.0",
      "model_name": "DescriptionStyleModel",
      "state": {
       "description_width": ""
      }
     },
     "cf079b1ec42f4b6cb7dd4d24064b3d71": {
      "model_module": "@jupyter-widgets/controls",
      "model_module_version": "1.4.0",
      "model_name": "DescriptionStyleModel",
      "state": {
       "description_width": ""
      }
     },
     "cf69dc4239794b93b987c915c3e95c74": {
      "model_module": "@jupyter-widgets/base",
      "model_module_version": "1.1.0",
      "model_name": "LayoutModel",
      "state": {
       "grid_area": "text2",
       "width": "auto"
      }
     },
     "cf7d5970d6c040cbbe1b68278e3242fe": {
      "model_module": "@jupyter-widgets/controls",
      "model_module_version": "1.4.0",
      "model_name": "LabelModel",
      "state": {
       "layout": "IPY_MODEL_fa23548960c74b00a2b26737aeae78ce",
       "style": "IPY_MODEL_f3134d9e9e3945e4ab45ae5d83cfb8b8",
       "value": "Interactive widget: Monty Hall problem"
      }
     },
     "cf8eaf1c7e1a402cb4d29a007a006b9b": {
      "model_module": "@jupyter-widgets/base",
      "model_module_version": "1.1.0",
      "model_name": "LayoutModel",
      "state": {
       "flex": "1 1 auto",
       "width": "auto"
      }
     },
     "cfb094e4965b448eaa9200325906f55e": {
      "model_module": "@jupyter-widgets/controls",
      "model_module_version": "1.4.0",
      "model_name": "ButtonModel",
      "state": {
       "description": "car",
       "disabled": true,
       "layout": "IPY_MODEL_cb23db01b9c646d0ace21386ad133e99",
       "style": "IPY_MODEL_4f5fefe0a53b49fdb61a186083074b40"
      }
     },
     "cfcfe7a51ef14d9a9e2905fe3886c851": {
      "model_module": "@jupyter-widgets/base",
      "model_module_version": "1.1.0",
      "model_name": "LayoutModel",
      "state": {
       "grid_area": "status",
       "width": "auto"
      }
     },
     "cfd779118ea3408d8fbe5e38066a62a4": {
      "model_module": "@jupyter-widgets/controls",
      "model_module_version": "1.4.0",
      "model_name": "LabelModel",
      "state": {
       "layout": "IPY_MODEL_2ce5aad2704f49eab52c0e439b9d1f9b",
       "style": "IPY_MODEL_0ce95eb5bf08496eb99eee33519903ea",
       "value": "number of plays"
      }
     },
     "cfde0dcd2b2a4151ae31e9b774d3ad9a": {
      "model_module": "@jupyter-widgets/controls",
      "model_module_version": "1.4.0",
      "model_name": "IntTextModel",
      "state": {
       "disabled": true,
       "layout": "IPY_MODEL_8e4b7dc2f3b347f7888d9210d4895ac8",
       "step": 1,
       "style": "IPY_MODEL_10b9075fd0b2429e99da6939a6f0d431",
       "value": 3
      }
     },
     "d08be5d21f15403f87f83cbc4d583613": {
      "model_module": "@jupyter-widgets/controls",
      "model_module_version": "1.4.0",
      "model_name": "ButtonModel",
      "state": {
       "description": "Door 2",
       "layout": "IPY_MODEL_a7b8542b768b4b0aada283db2ee3495c",
       "style": "IPY_MODEL_dd9135d2ee214ea8896411dfb82130fd"
      }
     },
     "d2bbdcafa70841af8fd34ea7a59ff070": {
      "model_module": "@jupyter-widgets/controls",
      "model_module_version": "1.4.0",
      "model_name": "BoxModel",
      "state": {
       "children": [
        "IPY_MODEL_16eb3ba979864dfba90ba5138af38ba0"
       ],
       "layout": "IPY_MODEL_f3c0747f073e4e02a0098ecada92f0d4"
      }
     },
     "d3a7dd9254344099a1e5d1a0aae8ad3d": {
      "model_module": "@jupyter-widgets/controls",
      "model_module_version": "1.4.0",
      "model_name": "LabelModel",
      "state": {
       "layout": "IPY_MODEL_7d17075c31a84c7583c245f267e7c779",
       "style": "IPY_MODEL_65d23fdd885b4e15bba13acbf9c02a6b",
       "value": "number of wins"
      }
     },
     "d3dcd802b2dd418d8f48913a09797f7a": {
      "model_module": "@jupyter-widgets/controls",
      "model_module_version": "1.4.0",
      "model_name": "BoxModel",
      "state": {
       "children": [
        "IPY_MODEL_02297450abff4780a7a0f5ef6bc7ab97"
       ],
       "layout": "IPY_MODEL_3e486cbbf7674f05b8cd546e483b51c0"
      }
     },
     "d5cac86cf06a4e3db31399d912328729": {
      "model_module": "@jupyter-widgets/controls",
      "model_module_version": "1.4.0",
      "model_name": "ButtonStyleModel",
      "state": {}
     },
     "d5df4603a0504105936bb6fb3985817a": {
      "model_module": "@jupyter-widgets/controls",
      "model_module_version": "1.4.0",
      "model_name": "DescriptionStyleModel",
      "state": {
       "description_width": ""
      }
     },
     "d6063c643b0e469096c8a917fe531ed2": {
      "model_module": "@jupyter-widgets/controls",
      "model_module_version": "1.4.0",
      "model_name": "DescriptionStyleModel",
      "state": {
       "description_width": ""
      }
     },
     "d6c2351c06f54239a11e9ebb3bd0d0c0": {
      "model_module": "@jupyter-widgets/controls",
      "model_module_version": "1.4.0",
      "model_name": "BoxModel",
      "state": {
       "children": [
        "IPY_MODEL_bb8e3d4e1fbd46288a47e3c479c4649f",
        "IPY_MODEL_db57cea0a7bb459cafcd1805270f55be",
        "IPY_MODEL_e60164138cc74f19a45b68e02522f031"
       ],
       "layout": "IPY_MODEL_966d36584fc043799f5c4ab8cd79ae64"
      }
     },
     "d6c91e5681264002aeefef756737d121": {
      "model_module": "@jupyter-widgets/controls",
      "model_module_version": "1.4.0",
      "model_name": "ButtonModel",
      "state": {
       "button_style": "info",
       "description": "Door 2",
       "disabled": true,
       "layout": "IPY_MODEL_3f34438b42924d1dbc328997c0c903b2",
       "style": "IPY_MODEL_2875edfe677b4a679f7fd701a4961200"
      }
     },
     "d6cfe3906e524f3989a09171ab4ce9cc": {
      "model_module": "@jupyter-widgets/controls",
      "model_module_version": "1.4.0",
      "model_name": "IntTextModel",
      "state": {
       "disabled": true,
       "layout": "IPY_MODEL_83e11cc3e009422a8133fed8867090b3",
       "step": 1,
       "style": "IPY_MODEL_31f0c269ae2f4208b32268d606c44c5e",
       "value": 7
      }
     },
     "d6e06c90f05e49cda25c6db778f57604": {
      "model_module": "@jupyter-widgets/base",
      "model_module_version": "1.1.0",
      "model_name": "LayoutModel",
      "state": {
       "grid_area": "label3",
       "width": "auto"
      }
     },
     "d704d48370b04fbcaf15000b1b6323ff": {
      "model_module": "@jupyter-widgets/controls",
      "model_module_version": "1.4.0",
      "model_name": "ButtonModel",
      "state": {
       "description": "reveal",
       "layout": "IPY_MODEL_776c2441f69946d198ccc7029402282d",
       "style": "IPY_MODEL_ecda7dd27cb042cbb781cfa303ceef8b",
       "tooltip": "open selected door"
      }
     },
     "d73c73f53c204f67a43145e33fd62f2a": {
      "model_module": "@jupyter-widgets/controls",
      "model_module_version": "1.4.0",
      "model_name": "ButtonModel",
      "state": {
       "description": "Door 3",
       "layout": "IPY_MODEL_f40fe02eb4384316b27df0dbeac5d004",
       "style": "IPY_MODEL_6a715c3c1e8b4b2280e8f2e206acedce"
      }
     },
     "d813f5ed6f1d42cda6114a7fafffe3ef": {
      "model_module": "@jupyter-widgets/controls",
      "model_module_version": "1.4.0",
      "model_name": "ButtonModel",
      "state": {
       "button_style": "success",
       "description": "car",
       "disabled": true,
       "icon": "check",
       "layout": "IPY_MODEL_57bb8120eebb486d9b9cf65238b31084",
       "style": "IPY_MODEL_653f88034994458f9e0084dca31d9fa3"
      }
     },
     "d841223b0a0c4417aaf4b7f6116d20d8": {
      "model_module": "@jupyter-widgets/base",
      "model_module_version": "1.1.0",
      "model_name": "LayoutModel",
      "state": {
       "grid_area": "label2",
       "width": "auto"
      }
     },
     "d851c313dfc84ff0bf94dd6a0bde30b4": {
      "model_module": "@jupyter-widgets/controls",
      "model_module_version": "1.4.0",
      "model_name": "ButtonStyleModel",
      "state": {}
     },
     "d8a905e35822486e9e68a9456843c2e9": {
      "model_module": "@jupyter-widgets/controls",
      "model_module_version": "1.4.0",
      "model_name": "ButtonStyleModel",
      "state": {}
     },
     "d8a9e6d6e7344cf6beca677212c1f2ab": {
      "model_module": "@jupyter-widgets/controls",
      "model_module_version": "1.4.0",
      "model_name": "LabelModel",
      "state": {
       "layout": "IPY_MODEL_e8f78d65c11b4f9a82deb0abea4bf48f",
       "style": "IPY_MODEL_f9781b145e914ae09bee0cf7ae4aa9a4",
       "value": "Interactive widget: Monty Hall problem"
      }
     },
     "d8cbf6bbecba4ba982a9e35dda7e6dca": {
      "model_module": "@jupyter-widgets/controls",
      "model_module_version": "1.4.0",
      "model_name": "LabelModel",
      "state": {
       "layout": "IPY_MODEL_369b538252614dd193f0bff6875a2689",
       "style": "IPY_MODEL_4ceab1f6f3af47f887d3cf9e9e4de03a",
       "value": "number of plays"
      }
     },
     "d8db70c8b765446bbe2c6113cf3bfcca": {
      "model_module": "@jupyter-widgets/controls",
      "model_module_version": "1.4.0",
      "model_name": "DescriptionStyleModel",
      "state": {
       "description_width": ""
      }
     },
     "d92f71c8b2c14ac893443eb6dd37dc40": {
      "model_module": "@jupyter-widgets/controls",
      "model_module_version": "1.4.0",
      "model_name": "ButtonStyleModel",
      "state": {}
     },
     "d9a1c979f5a444179570fcdc8383eb57": {
      "model_module": "@jupyter-widgets/base",
      "model_module_version": "1.1.0",
      "model_name": "LayoutModel",
      "state": {
       "grid_area": "text2",
       "width": "auto"
      }
     },
     "d9d20935ca024a62acea155964d9dc5a": {
      "model_module": "@jupyter-widgets/base",
      "model_module_version": "1.1.0",
      "model_name": "LayoutModel",
      "state": {
       "grid_area": "text3",
       "width": "auto"
      }
     },
     "d9d4978e6fe74ae1b9110786d5f31c77": {
      "model_module": "@jupyter-widgets/controls",
      "model_module_version": "1.4.0",
      "model_name": "DescriptionStyleModel",
      "state": {
       "description_width": ""
      }
     },
     "d9d82cb0ccfe4b4ab4c822984d43f3f5": {
      "model_module": "@jupyter-widgets/base",
      "model_module_version": "1.1.0",
      "model_name": "LayoutModel",
      "state": {
       "grid_template_areas": "\n                \"banner banner banner banner\"\n                \"doors doors doors doors\"\n                \"label1 label1 text1 text1\"\n                \"label2 label2 text2 text2\"\n                \"label3 label3 text3 text3\"\n                \"status status status status\"\n                \". . actions actions\"\n            ",
       "grid_template_columns": "25% 25% 25% 25%",
       "grid_template_rows": "auto auto auto auto auto auto auto",
       "width": "50%"
      }
     },
     "da1359a97c94494992068c149e25192b": {
      "model_module": "@jupyter-widgets/controls",
      "model_module_version": "1.4.0",
      "model_name": "ButtonModel",
      "state": {
       "description": "continue",
       "layout": "IPY_MODEL_315ba5816719418d8e82449c80b02fb4",
       "style": "IPY_MODEL_3e87c5f257fc4c9caaeb3ec5e315de5a",
       "tooltip": "continue play"
      }
     },
     "da1e24953c874b88a6e83e0d42b5cd26": {
      "model_module": "@jupyter-widgets/controls",
      "model_module_version": "1.4.0",
      "model_name": "LabelModel",
      "state": {
       "layout": "IPY_MODEL_85012ffd6b784206b9b1fbdc9419a2c0",
       "style": "IPY_MODEL_e512fbe5df9f4d24ab089d89da6df65c",
       "value": "Interactive widget: Monty Hall problem"
      }
     },
     "da1e2b6c08084dbaa7d4f66955c1b76d": {
      "model_module": "@jupyter-widgets/controls",
      "model_module_version": "1.4.0",
      "model_name": "ButtonModel",
      "state": {
       "description": "reset",
       "layout": "IPY_MODEL_2b70b149a55747019777f9dcb7f608f9",
       "style": "IPY_MODEL_c6edb3784f9b4047b05dff5a431c4f05",
       "tooltip": "reset game"
      }
     },
     "da1fd34680b04f138a41f89c93e33347": {
      "model_module": "@jupyter-widgets/base",
      "model_module_version": "1.1.0",
      "model_name": "LayoutModel",
      "state": {
       "grid_area": "banner",
       "justify_content": "center",
       "width": "auto"
      }
     },
     "da3b1a896d534ca9ac97e24d16d915fe": {
      "model_module": "@jupyter-widgets/controls",
      "model_module_version": "1.4.0",
      "model_name": "BoxModel",
      "state": {
       "children": [
        "IPY_MODEL_2f20c5435aff4bc28fade9fdfa09484b"
       ],
       "layout": "IPY_MODEL_e0b94bf744264154a8744225678822e5"
      }
     },
     "da4127647e4c4a6294b6a0bb688cbccb": {
      "model_module": "@jupyter-widgets/base",
      "model_module_version": "1.1.0",
      "model_name": "LayoutModel",
      "state": {
       "grid_area": "label1",
       "width": "auto"
      }
     },
     "da4d7111e8594a859025f943a0fc7d55": {
      "model_module": "@jupyter-widgets/base",
      "model_module_version": "1.1.0",
      "model_name": "LayoutModel",
      "state": {
       "grid_area": "label3",
       "width": "auto"
      }
     },
     "dad7a5ffb29a4fe5a2ff78671c9f9d75": {
      "model_module": "@jupyter-widgets/base",
      "model_module_version": "1.1.0",
      "model_name": "LayoutModel",
      "state": {
       "grid_template_areas": "\n                \"banner banner banner banner\"\n                \"doors doors doors doors\"\n                \"label1 label1 text1 text1\"\n                \"label2 label2 text2 text2\"\n                \"label3 label3 text3 text3\"\n                \"status status status status\"\n                \". . actions actions\"\n            ",
       "grid_template_columns": "25% 25% 25% 25%",
       "grid_template_rows": "auto auto auto auto auto auto auto",
       "width": "50%"
      }
     },
     "db54e25a093140f99e1a620f858dd08d": {
      "model_module": "@jupyter-widgets/controls",
      "model_module_version": "1.4.0",
      "model_name": "LabelModel",
      "state": {
       "layout": "IPY_MODEL_89fb489b2ae548b1a83f6b389bca6627",
       "style": "IPY_MODEL_7796185f81ff43a0a6a85834526f2283",
       "value": "Interactive widget: Monty Hall problem"
      }
     },
     "db57cea0a7bb459cafcd1805270f55be": {
      "model_module": "@jupyter-widgets/controls",
      "model_module_version": "1.4.0",
      "model_name": "ButtonModel",
      "state": {
       "description": "continue",
       "layout": "IPY_MODEL_57cfa99341e94d88aa201dd725dadb91",
       "style": "IPY_MODEL_e69a00d62a2e431aa3f9d9e64cc8f3ec",
       "tooltip": "continue play"
      }
     },
     "dc438c8eba8a45efb5faab827c86dbc1": {
      "model_module": "@jupyter-widgets/base",
      "model_module_version": "1.1.0",
      "model_name": "LayoutModel",
      "state": {
       "grid_area": "banner",
       "justify_content": "center",
       "width": "auto"
      }
     },
     "dd009340684849598819395cdbf73a42": {
      "model_module": "@jupyter-widgets/controls",
      "model_module_version": "1.4.0",
      "model_name": "DescriptionStyleModel",
      "state": {
       "description_width": ""
      }
     },
     "dd09484d82ac42f384dc9ce8df4e20a0": {
      "model_module": "@jupyter-widgets/controls",
      "model_module_version": "1.4.0",
      "model_name": "BoxModel",
      "state": {
       "children": [
        "IPY_MODEL_0091b801c05542728d2d7652ac58f958",
        "IPY_MODEL_ec557682d14642f4be8d2cba40fed582",
        "IPY_MODEL_0b55994061d94081bb81106bbbdc9123"
       ],
       "layout": "IPY_MODEL_95a6c5dbdc47456f996147a239280016"
      }
     },
     "dd0ea7335e244fb5aa70a0d7eb5c2b29": {
      "model_module": "@jupyter-widgets/controls",
      "model_module_version": "1.4.0",
      "model_name": "LabelModel",
      "state": {
       "layout": "IPY_MODEL_9da68f32d3514d908c2683070aeefc1e",
       "style": "IPY_MODEL_48c0366b316447159bfa40ecb22e397c",
       "value": "success rate"
      }
     },
     "dd2250e37a5e4b53a4bf16d4ce08b42d": {
      "model_module": "@jupyter-widgets/controls",
      "model_module_version": "1.4.0",
      "model_name": "ButtonStyleModel",
      "state": {}
     },
     "dd4700ebc13a4a6ba07ddb68419a3d82": {
      "model_module": "@jupyter-widgets/controls",
      "model_module_version": "1.4.0",
      "model_name": "ButtonModel",
      "state": {
       "description": "Door 3",
       "layout": "IPY_MODEL_46d29bd6ec0d4d75a72c41a076e1108a",
       "style": "IPY_MODEL_180452d42fcd4b7995ea22ac431e6140"
      }
     },
     "dd9135d2ee214ea8896411dfb82130fd": {
      "model_module": "@jupyter-widgets/controls",
      "model_module_version": "1.4.0",
      "model_name": "ButtonStyleModel",
      "state": {}
     },
     "ddf375980ddb4cd990a64cd358fb47b0": {
      "model_module": "@jupyter-widgets/base",
      "model_module_version": "1.1.0",
      "model_name": "LayoutModel",
      "state": {
       "grid_area": "label2",
       "width": "auto"
      }
     },
     "de0246e2859c4b4aa898737b2885165a": {
      "model_module": "@jupyter-widgets/base",
      "model_module_version": "1.1.0",
      "model_name": "LayoutModel",
      "state": {
       "grid_area": "text3",
       "width": "auto"
      }
     },
     "de1cbd6b692f4f6abaf2bf8f2a4e9b8f": {
      "model_module": "@jupyter-widgets/controls",
      "model_module_version": "1.4.0",
      "model_name": "GridBoxModel",
      "state": {
       "children": [
        "IPY_MODEL_c36890ceee5c4c02b1970b0dcfee28ca",
        "IPY_MODEL_61ce43bb0a654c2580df347dd49225a0",
        "IPY_MODEL_3c8728d66e924faba9b3e398bebde639",
        "IPY_MODEL_0cf88cbe18114bffb987ff079a3e19b1",
        "IPY_MODEL_1e049b3b3505401c964c97e9f40631b7",
        "IPY_MODEL_591561ff36c3497c9e1c339d3d6f4f67",
        "IPY_MODEL_6e5fac8fe6df486f8b2edd665b1b6887",
        "IPY_MODEL_8c6a9efb510342e4863183ea599403b3",
        "IPY_MODEL_2df846206aa44d7cb2bcb94f6bbc48fb",
        "IPY_MODEL_11abbd4177264ba1bc5ae78932a95213"
       ],
       "layout": "IPY_MODEL_55828972f418494cbaf43989b21a4837"
      }
     },
     "de75ea15fa12470486c4e3d7d0c0ee14": {
      "model_module": "@jupyter-widgets/controls",
      "model_module_version": "1.4.0",
      "model_name": "BoxModel",
      "state": {
       "children": [
        "IPY_MODEL_8e7764b716b94c8a8238d818dd7cba57",
        "IPY_MODEL_823d5fa1f9c34bffbe3414ebefc8523b",
        "IPY_MODEL_0023fdeb843146bfb8c334ab446160de"
       ],
       "layout": "IPY_MODEL_9cae990bbd134b14b59dbed36b972667"
      }
     },
     "de7d3f6fbdd14814b239fc3ccab189b6": {
      "model_module": "@jupyter-widgets/controls",
      "model_module_version": "1.4.0",
      "model_name": "ButtonStyleModel",
      "state": {}
     },
     "de864cde34da42ab8639c3c9bb43b14e": {
      "model_module": "@jupyter-widgets/base",
      "model_module_version": "1.1.0",
      "model_name": "LayoutModel",
      "state": {
       "width": "50%"
      }
     },
     "de97d72c44504ef4af63cbdd1c8b0236": {
      "model_module": "@jupyter-widgets/controls",
      "model_module_version": "1.4.0",
      "model_name": "ButtonStyleModel",
      "state": {}
     },
     "defb4643fa6d4d62a82119d79d8a996c": {
      "model_module": "@jupyter-widgets/base",
      "model_module_version": "1.1.0",
      "model_name": "LayoutModel",
      "state": {
       "grid_area": "label3",
       "width": "auto"
      }
     },
     "df4e1999fc4b49678fb3bba0378f8f00": {
      "model_module": "@jupyter-widgets/controls",
      "model_module_version": "1.4.0",
      "model_name": "IntTextModel",
      "state": {
       "disabled": true,
       "layout": "IPY_MODEL_2d79c857628f4b5aa8ae18c381e3ca8f",
       "step": 1,
       "style": "IPY_MODEL_faccef0581134a6f95af71050f0c8e5d",
       "value": 8
      }
     },
     "df9c02149e0f4cfdb125d78586579fe1": {
      "model_module": "@jupyter-widgets/controls",
      "model_module_version": "1.4.0",
      "model_name": "ButtonModel",
      "state": {
       "description": "Door 3",
       "layout": "IPY_MODEL_3f34438b42924d1dbc328997c0c903b2",
       "style": "IPY_MODEL_a518345f0be249deb595d35f1a41c1d8"
      }
     },
     "dfb93e2557d142988f796850bbad1e16": {
      "model_module": "@jupyter-widgets/controls",
      "model_module_version": "1.4.0",
      "model_name": "ButtonStyleModel",
      "state": {}
     },
     "dfc96f15f3184ac3b24f69288cbe296f": {
      "model_module": "@jupyter-widgets/controls",
      "model_module_version": "1.4.0",
      "model_name": "LabelModel",
      "state": {
       "layout": "IPY_MODEL_62aabbf9b9c34d1fb0f2e02a2b711263",
       "style": "IPY_MODEL_19f30fe2a69b4874957a3fee9600729b",
       "value": "Interactive widget: Monty Hall problem"
      }
     },
     "dfcd2c5426d74937a1bfc846fd8fc97f": {
      "model_module": "@jupyter-widgets/controls",
      "model_module_version": "1.4.0",
      "model_name": "FloatTextModel",
      "state": {
       "disabled": true,
       "layout": "IPY_MODEL_f69f7da0d4f5445baac608e80184e85f",
       "step": null,
       "style": "IPY_MODEL_8f321fb963b34291b9d7aff13adc8242",
       "value": 0.6666666666666666
      }
     },
     "e00a4d7ce2ab4731b1f2cf25e019ac1a": {
      "model_module": "@jupyter-widgets/controls",
      "model_module_version": "1.4.0",
      "model_name": "DescriptionStyleModel",
      "state": {
       "description_width": ""
      }
     },
     "e072a7ff80a24f85944c5c53586255e9": {
      "model_module": "@jupyter-widgets/base",
      "model_module_version": "1.1.0",
      "model_name": "LayoutModel",
      "state": {
       "flex": "1 1 auto",
       "width": "auto"
      }
     },
     "e07969c56d6b40f8bd50263522398e38": {
      "model_module": "@jupyter-widgets/controls",
      "model_module_version": "1.4.0",
      "model_name": "LabelModel",
      "state": {
       "layout": "IPY_MODEL_856cb3b23ec948588101a1c2521f8bd5",
       "style": "IPY_MODEL_3f6aa150fc1749998e7ae73db6497114",
       "value": "You win! Continue playing?"
      }
     },
     "e0afeb8f16e0417282393abbe9d0e8fe": {
      "model_module": "@jupyter-widgets/controls",
      "model_module_version": "1.4.0",
      "model_name": "DescriptionStyleModel",
      "state": {
       "description_width": ""
      }
     },
     "e0b94bf744264154a8744225678822e5": {
      "model_module": "@jupyter-widgets/base",
      "model_module_version": "1.1.0",
      "model_name": "LayoutModel",
      "state": {
       "grid_area": "banner",
       "justify_content": "center",
       "width": "auto"
      }
     },
     "e15078d01d76414c978edc5a9fe998ee": {
      "model_module": "@jupyter-widgets/controls",
      "model_module_version": "1.4.0",
      "model_name": "ButtonStyleModel",
      "state": {}
     },
     "e16b27d3058640bdb3717755e10acd8b": {
      "model_module": "@jupyter-widgets/controls",
      "model_module_version": "1.4.0",
      "model_name": "LabelModel",
      "state": {
       "layout": "IPY_MODEL_91176658c1a64b3ba2a41acae997adf8",
       "style": "IPY_MODEL_20b8e0f3eef94116bf335d97983fda37",
       "value": "success rate"
      }
     },
     "e176a263fac6447aa146d1fe2c4255e4": {
      "model_module": "@jupyter-widgets/base",
      "model_module_version": "1.1.0",
      "model_name": "LayoutModel",
      "state": {
       "grid_area": "actions",
       "width": "auto"
      }
     },
     "e2280c201f4641c188d5377f2280b2a1": {
      "model_module": "@jupyter-widgets/controls",
      "model_module_version": "1.4.0",
      "model_name": "LabelModel",
      "state": {
       "layout": "IPY_MODEL_f6a3982aadd24e70a6599f0036990aa7",
       "style": "IPY_MODEL_a9250dcfa38848b0b8facf10348aa44f",
       "value": "Pick a door..."
      }
     },
     "e257ac6d628345c0aa7141af49272a8b": {
      "model_module": "@jupyter-widgets/controls",
      "model_module_version": "1.4.0",
      "model_name": "DescriptionStyleModel",
      "state": {
       "description_width": ""
      }
     },
     "e2835d43982f47a48ed74ceba8a989f3": {
      "model_module": "@jupyter-widgets/base",
      "model_module_version": "1.1.0",
      "model_name": "LayoutModel",
      "state": {
       "grid_area": "doors",
       "width": "auto"
      }
     },
     "e2861cc9e2e8422ca3ddd877b546984d": {
      "model_module": "@jupyter-widgets/controls",
      "model_module_version": "1.4.0",
      "model_name": "ButtonModel",
      "state": {
       "button_style": "info",
       "description": "Door 2",
       "disabled": true,
       "layout": "IPY_MODEL_af1a77b98e604c47b42d1cb58ba01219",
       "style": "IPY_MODEL_30ab54398b1d485e90be3d0c65ceefd1"
      }
     },
     "e2cbe1f7eda84c5aa031b25969c2e510": {
      "model_module": "@jupyter-widgets/controls",
      "model_module_version": "1.4.0",
      "model_name": "DescriptionStyleModel",
      "state": {
       "description_width": ""
      }
     },
     "e34a36638baf475391049c579b8f77f4": {
      "model_module": "@jupyter-widgets/controls",
      "model_module_version": "1.4.0",
      "model_name": "DescriptionStyleModel",
      "state": {
       "description_width": ""
      }
     },
     "e364e49dd7e8498d85047e2c2dc8feaa": {
      "model_module": "@jupyter-widgets/controls",
      "model_module_version": "1.4.0",
      "model_name": "DescriptionStyleModel",
      "state": {
       "description_width": ""
      }
     },
     "e3761cd07f62468b8c23a21b8bf50b09": {
      "model_module": "@jupyter-widgets/controls",
      "model_module_version": "1.4.0",
      "model_name": "DescriptionStyleModel",
      "state": {
       "description_width": ""
      }
     },
     "e3883c3b51b84b97a82517fc0c8ab0ea": {
      "model_module": "@jupyter-widgets/base",
      "model_module_version": "1.1.0",
      "model_name": "LayoutModel",
      "state": {
       "grid_area": "label2",
       "width": "auto"
      }
     },
     "e39348aa7c7c4466bb6d3c9a1b1999cc": {
      "model_module": "@jupyter-widgets/controls",
      "model_module_version": "1.4.0",
      "model_name": "DescriptionStyleModel",
      "state": {
       "description_width": ""
      }
     },
     "e3cad02a9ced4f88a1a734aed2dc23b5": {
      "model_module": "@jupyter-widgets/controls",
      "model_module_version": "1.4.0",
      "model_name": "LabelModel",
      "state": {
       "layout": "IPY_MODEL_da4d7111e8594a859025f943a0fc7d55",
       "style": "IPY_MODEL_dd009340684849598819395cdbf73a42",
       "value": "success rate"
      }
     },
     "e3e36a98107f4e88a7026afcf9fe7b19": {
      "model_module": "@jupyter-widgets/controls",
      "model_module_version": "1.4.0",
      "model_name": "ButtonModel",
      "state": {
       "description": "reset",
       "layout": "IPY_MODEL_cd3bf49d4bb04a959a84012405f250db",
       "style": "IPY_MODEL_ab8b3c77bf84499680ab356b14e1eeb7",
       "tooltip": "reset game"
      }
     },
     "e504c259d4d1459193ad4f13be2c30f7": {
      "model_module": "@jupyter-widgets/base",
      "model_module_version": "1.1.0",
      "model_name": "LayoutModel",
      "state": {
       "grid_area": "banner",
       "justify_content": "center",
       "width": "auto"
      }
     },
     "e512fbe5df9f4d24ab089d89da6df65c": {
      "model_module": "@jupyter-widgets/controls",
      "model_module_version": "1.4.0",
      "model_name": "DescriptionStyleModel",
      "state": {
       "description_width": ""
      }
     },
     "e54240540913406d8ba1c65223c35823": {
      "model_module": "@jupyter-widgets/controls",
      "model_module_version": "1.4.0",
      "model_name": "ButtonModel",
      "state": {
       "description": "Door 1",
       "layout": "IPY_MODEL_bb65c9655ed94deaaa5aaa039f3c5064",
       "style": "IPY_MODEL_44f43f7c083f4a4b9bdaf2261f9d55ee"
      }
     },
     "e593b59ac04a4e65919cf31956552be7": {
      "model_module": "@jupyter-widgets/controls",
      "model_module_version": "1.4.0",
      "model_name": "ButtonModel",
      "state": {
       "description": "goat",
       "disabled": true,
       "layout": "IPY_MODEL_128df715de934a228db8a1c24f590ccf",
       "style": "IPY_MODEL_2cb5a5d52eee45dc89f4d6e4d25c6143"
      }
     },
     "e59cf549930d4f80b33de0dba074b318": {
      "model_module": "@jupyter-widgets/base",
      "model_module_version": "1.1.0",
      "model_name": "LayoutModel",
      "state": {
       "grid_area": "text3",
       "width": "auto"
      }
     },
     "e5a39a2ea9dc454891a0e271ab98e1b7": {
      "model_module": "@jupyter-widgets/controls",
      "model_module_version": "1.4.0",
      "model_name": "DescriptionStyleModel",
      "state": {
       "description_width": ""
      }
     },
     "e5f7de758d4f4a15abd43484d2a8680a": {
      "model_module": "@jupyter-widgets/controls",
      "model_module_version": "1.4.0",
      "model_name": "BoxModel",
      "state": {
       "children": [
        "IPY_MODEL_3267f14ff6114ca49f1845b86d12a41f"
       ],
       "layout": "IPY_MODEL_3b0cf80d7d804473949a2ce3192eb5e9"
      }
     },
     "e60164138cc74f19a45b68e02522f031": {
      "model_module": "@jupyter-widgets/controls",
      "model_module_version": "1.4.0",
      "model_name": "ButtonModel",
      "state": {
       "description": "reset",
       "layout": "IPY_MODEL_57cfa99341e94d88aa201dd725dadb91",
       "style": "IPY_MODEL_98275405f7bb4b4f8b7e8e9bb50ff74e",
       "tooltip": "reset game"
      }
     },
     "e63f865ae4a142c9829836c940b2596c": {
      "model_module": "@jupyter-widgets/controls",
      "model_module_version": "1.4.0",
      "model_name": "ButtonModel",
      "state": {
       "description": "continue",
       "disabled": true,
       "layout": "IPY_MODEL_cf8eaf1c7e1a402cb4d29a007a006b9b",
       "style": "IPY_MODEL_b6cf4358eded4372bcb42f70c783ff89",
       "tooltip": "continue play"
      }
     },
     "e69a00d62a2e431aa3f9d9e64cc8f3ec": {
      "model_module": "@jupyter-widgets/controls",
      "model_module_version": "1.4.0",
      "model_name": "ButtonStyleModel",
      "state": {}
     },
     "e69e3aaeac3f4d098703af24ae9d97f7": {
      "model_module": "@jupyter-widgets/controls",
      "model_module_version": "1.4.0",
      "model_name": "ButtonStyleModel",
      "state": {}
     },
     "e726533defb14de8a616b0bac32b1cd8": {
      "model_module": "@jupyter-widgets/controls",
      "model_module_version": "1.4.0",
      "model_name": "ButtonStyleModel",
      "state": {}
     },
     "e72a070daad0488d9e8645ba3e7bda64": {
      "model_module": "@jupyter-widgets/controls",
      "model_module_version": "1.4.0",
      "model_name": "ButtonStyleModel",
      "state": {}
     },
     "e734dcbc8bc7429ebd54b9c29a7a8ecb": {
      "model_module": "@jupyter-widgets/controls",
      "model_module_version": "1.4.0",
      "model_name": "DescriptionStyleModel",
      "state": {
       "description_width": ""
      }
     },
     "e88dce7986e74d7c9a8b93abc946f018": {
      "model_module": "@jupyter-widgets/controls",
      "model_module_version": "1.4.0",
      "model_name": "LabelModel",
      "state": {
       "layout": "IPY_MODEL_7359eb99c16b4bedaf8b269de661abad",
       "style": "IPY_MODEL_005ab726996d42c78d2629c2b4cad00b",
       "value": "success rate"
      }
     },
     "e8a73c00e1c34b18a1e4cf9fa32555d5": {
      "model_module": "@jupyter-widgets/controls",
      "model_module_version": "1.4.0",
      "model_name": "FloatTextModel",
      "state": {
       "disabled": true,
       "layout": "IPY_MODEL_ccb4f15b2ca24de596f9adbfb7863a8c",
       "step": null,
       "style": "IPY_MODEL_198573c76c1843b6925f76d8781a11a6"
      }
     },
     "e8f78d65c11b4f9a82deb0abea4bf48f": {
      "model_module": "@jupyter-widgets/base",
      "model_module_version": "1.1.0",
      "model_name": "LayoutModel",
      "state": {
       "width": "50%"
      }
     },
     "e8fafc7ac712444ba76082d8ec6093d5": {
      "model_module": "@jupyter-widgets/base",
      "model_module_version": "1.1.0",
      "model_name": "LayoutModel",
      "state": {
       "grid_area": "label3",
       "width": "auto"
      }
     },
     "e916bd6381e54e619b140267b4515a27": {
      "model_module": "@jupyter-widgets/base",
      "model_module_version": "1.1.0",
      "model_name": "LayoutModel",
      "state": {
       "grid_area": "text1",
       "width": "auto"
      }
     },
     "e91e9722c73445d897752ce05cb8c030": {
      "model_module": "@jupyter-widgets/controls",
      "model_module_version": "1.4.0",
      "model_name": "IntTextModel",
      "state": {
       "disabled": true,
       "layout": "IPY_MODEL_31afbc514d02456896f510548c78a5b2",
       "step": 1,
       "style": "IPY_MODEL_e3761cd07f62468b8c23a21b8bf50b09",
       "value": 6
      }
     },
     "e986a87175914420ab62d9471d7cf7b8": {
      "model_module": "@jupyter-widgets/base",
      "model_module_version": "1.1.0",
      "model_name": "LayoutModel",
      "state": {
       "grid_area": "actions",
       "width": "auto"
      }
     },
     "ead12edfab1b405ea6758732215bf71d": {
      "model_module": "@jupyter-widgets/controls",
      "model_module_version": "1.4.0",
      "model_name": "BoxModel",
      "state": {
       "children": [
        "IPY_MODEL_d8a9e6d6e7344cf6beca677212c1f2ab"
       ],
       "layout": "IPY_MODEL_06a3ae82a7cc473fb1db1fd8f6740333"
      }
     },
     "eb18e9dec10349bb9151eb65960fed60": {
      "model_module": "@jupyter-widgets/controls",
      "model_module_version": "1.4.0",
      "model_name": "BoxModel",
      "state": {
       "children": [
        "IPY_MODEL_bc8dc433f7814cbcb20f2be766b600bb",
        "IPY_MODEL_e2861cc9e2e8422ca3ddd877b546984d",
        "IPY_MODEL_40b171a940ed46c4934ca493523d57fd"
       ],
       "layout": "IPY_MODEL_61acc3ce7ce5468f8f971eab1e768b42"
      }
     },
     "ebab8d22c2c94384a1fafa094720b92a": {
      "model_module": "@jupyter-widgets/base",
      "model_module_version": "1.1.0",
      "model_name": "LayoutModel",
      "state": {
       "grid_area": "text2",
       "width": "auto"
      }
     },
     "ebec07d7464d403ab3c43c1be1328589": {
      "model_module": "@jupyter-widgets/controls",
      "model_module_version": "1.4.0",
      "model_name": "ButtonModel",
      "state": {
       "description": "continue",
       "disabled": true,
       "layout": "IPY_MODEL_a685eda38364474c9228d5b645a37daf",
       "style": "IPY_MODEL_8f309d38e15c4bf5b3e654b3584ad0d3",
       "tooltip": "continue play"
      }
     },
     "ec08c3c1fd74487f9719675dc6630d9b": {
      "model_module": "@jupyter-widgets/base",
      "model_module_version": "1.1.0",
      "model_name": "LayoutModel",
      "state": {
       "grid_area": "text2",
       "width": "auto"
      }
     },
     "ec557682d14642f4be8d2cba40fed582": {
      "model_module": "@jupyter-widgets/controls",
      "model_module_version": "1.4.0",
      "model_name": "ButtonModel",
      "state": {
       "description": "continue",
       "disabled": true,
       "layout": "IPY_MODEL_7237be3998bc430190850e48a9111802",
       "style": "IPY_MODEL_47ef21bf0d9e45d296bdc79a1a3163f2",
       "tooltip": "continue play"
      }
     },
     "eca76bf8aad7463c8d4cc827783dac74": {
      "model_module": "@jupyter-widgets/controls",
      "model_module_version": "1.4.0",
      "model_name": "DescriptionStyleModel",
      "state": {
       "description_width": ""
      }
     },
     "eccb2d117d964b5795b20ccc2984fad2": {
      "model_module": "@jupyter-widgets/controls",
      "model_module_version": "1.4.0",
      "model_name": "BoxModel",
      "state": {
       "children": [
        "IPY_MODEL_121e9fc25e374df18d8cb90becbad475",
        "IPY_MODEL_cfb094e4965b448eaa9200325906f55e",
        "IPY_MODEL_56ae0b3ea2834deb940fd9dc9e15c6c7"
       ],
       "layout": "IPY_MODEL_2c204b40f03a46f783843015b7e16bc3"
      }
     },
     "ecda1163e7104038922a9e85e0a0e0d4": {
      "model_module": "@jupyter-widgets/controls",
      "model_module_version": "1.4.0",
      "model_name": "ButtonStyleModel",
      "state": {}
     },
     "ecda7dd27cb042cbb781cfa303ceef8b": {
      "model_module": "@jupyter-widgets/controls",
      "model_module_version": "1.4.0",
      "model_name": "ButtonStyleModel",
      "state": {}
     },
     "ed274557751547dbb294588d5003843a": {
      "model_module": "@jupyter-widgets/controls",
      "model_module_version": "1.4.0",
      "model_name": "BoxModel",
      "state": {
       "children": [
        "IPY_MODEL_8b20aee5c55341e694025216780e47ed",
        "IPY_MODEL_ae7a13cdaca24fd8872df3d40e98ad90",
        "IPY_MODEL_a938747944a04c3092637905f9301b3f"
       ],
       "layout": "IPY_MODEL_81af6c20bab04687aa239a29a335bf59"
      }
     },
     "ed2c4237c83b4aa49692b719ea69a2d0": {
      "model_module": "@jupyter-widgets/controls",
      "model_module_version": "1.4.0",
      "model_name": "IntTextModel",
      "state": {
       "disabled": true,
       "layout": "IPY_MODEL_b1644e10b4354a5ca157da9998525156",
       "step": 1,
       "style": "IPY_MODEL_0d227dca40b84cf6982efe18d967addf",
       "value": 8
      }
     },
     "ed4743bea9ba475ca019aa9e11be1161": {
      "model_module": "@jupyter-widgets/controls",
      "model_module_version": "1.4.0",
      "model_name": "LabelModel",
      "state": {
       "layout": "IPY_MODEL_59ce92aaa9dd4dd48c192f97f44978d9",
       "style": "IPY_MODEL_d8db70c8b765446bbe2c6113cf3bfcca",
       "value": "number of plays"
      }
     },
     "eeca871112f045b3bd7d425adbe3fe9e": {
      "model_module": "@jupyter-widgets/base",
      "model_module_version": "1.1.0",
      "model_name": "LayoutModel",
      "state": {
       "grid_area": "text2",
       "width": "auto"
      }
     },
     "eef767a873af4566a987536e334bc23f": {
      "model_module": "@jupyter-widgets/controls",
      "model_module_version": "1.4.0",
      "model_name": "FloatTextModel",
      "state": {
       "disabled": true,
       "layout": "IPY_MODEL_6db774671aec4a09b0710de98d2f945e",
       "step": null,
       "style": "IPY_MODEL_1682f45a1b024e059b313ee7b8840729"
      }
     },
     "ef49c112c8ce44c2969f1ab11c258d4e": {
      "model_module": "@jupyter-widgets/controls",
      "model_module_version": "1.4.0",
      "model_name": "LabelModel",
      "state": {
       "layout": "IPY_MODEL_1cc8a3d730614ef59e0e463c8273f830",
       "style": "IPY_MODEL_bc12fb6742ca48f8a718e5a735aa3b52",
       "value": "number of wins"
      }
     },
     "efa7746d3b7a4074b7c5d78e9b41c323": {
      "model_module": "@jupyter-widgets/controls",
      "model_module_version": "1.4.0",
      "model_name": "DescriptionStyleModel",
      "state": {
       "description_width": ""
      }
     },
     "eff1de140f8f4398b46c724a8ee2f5b8": {
      "model_module": "@jupyter-widgets/base",
      "model_module_version": "1.1.0",
      "model_name": "LayoutModel",
      "state": {
       "width": "50%"
      }
     },
     "effaf85867ca47f9a919a23d7005f268": {
      "model_module": "@jupyter-widgets/controls",
      "model_module_version": "1.4.0",
      "model_name": "DescriptionStyleModel",
      "state": {
       "description_width": ""
      }
     },
     "f0e464f3ba0646b3af0a8700ad12c39b": {
      "model_module": "@jupyter-widgets/base",
      "model_module_version": "1.1.0",
      "model_name": "LayoutModel",
      "state": {
       "flex": "1 1 auto",
       "width": "auto"
      }
     },
     "f0e58d7471014982829ed65328912de4": {
      "model_module": "@jupyter-widgets/controls",
      "model_module_version": "1.4.0",
      "model_name": "DescriptionStyleModel",
      "state": {
       "description_width": ""
      }
     },
     "f0eb2c978bd745bea141b111180e85ba": {
      "model_module": "@jupyter-widgets/base",
      "model_module_version": "1.1.0",
      "model_name": "LayoutModel",
      "state": {
       "width": "50%"
      }
     },
     "f14f654dadd14d1c92c5e4df3eb3a8df": {
      "model_module": "@jupyter-widgets/controls",
      "model_module_version": "1.4.0",
      "model_name": "IntTextModel",
      "state": {
       "disabled": true,
       "layout": "IPY_MODEL_ec08c3c1fd74487f9719675dc6630d9b",
       "step": 1,
       "style": "IPY_MODEL_997e0606bddb4888bf075082d795015e"
      }
     },
     "f15d232aa945498e907f2189dd1b3d57": {
      "model_module": "@jupyter-widgets/controls",
      "model_module_version": "1.4.0",
      "model_name": "ButtonStyleModel",
      "state": {}
     },
     "f175da70b28a44cea1cd66e11e07a3d4": {
      "model_module": "@jupyter-widgets/controls",
      "model_module_version": "1.4.0",
      "model_name": "ButtonStyleModel",
      "state": {}
     },
     "f19694efe99540e683aa19cb9b2f7219": {
      "model_module": "@jupyter-widgets/base",
      "model_module_version": "1.1.0",
      "model_name": "LayoutModel",
      "state": {
       "grid_area": "label1",
       "width": "auto"
      }
     },
     "f1c0e952a007486b838454134f223588": {
      "model_module": "@jupyter-widgets/controls",
      "model_module_version": "1.4.0",
      "model_name": "LabelModel",
      "state": {
       "layout": "IPY_MODEL_991e160a64f842a4bf6f2e51723de011",
       "style": "IPY_MODEL_f7780cbb5ee14807a7d479b0977f4bdc",
       "value": "number of plays"
      }
     },
     "f252d98fbccb4cb396ccd1c226380580": {
      "model_module": "@jupyter-widgets/controls",
      "model_module_version": "1.4.0",
      "model_name": "ButtonStyleModel",
      "state": {}
     },
     "f266583021fe48ed8571167bad6ef54b": {
      "model_module": "@jupyter-widgets/controls",
      "model_module_version": "1.4.0",
      "model_name": "BoxModel",
      "state": {
       "children": [
        "IPY_MODEL_11960f9a560947fa89e6e37465308309",
        "IPY_MODEL_da1359a97c94494992068c149e25192b",
        "IPY_MODEL_77da7184954d4b0a8de5b462df534ce5"
       ],
       "layout": "IPY_MODEL_e986a87175914420ab62d9471d7cf7b8"
      }
     },
     "f2892e789c9f4f21bcdc7e622d6a979a": {
      "model_module": "@jupyter-widgets/controls",
      "model_module_version": "1.4.0",
      "model_name": "ButtonStyleModel",
      "state": {}
     },
     "f2ed0444047f477fa58d7407e1644925": {
      "model_module": "@jupyter-widgets/controls",
      "model_module_version": "1.4.0",
      "model_name": "DescriptionStyleModel",
      "state": {
       "description_width": ""
      }
     },
     "f2f10cadf95b4ad8a01d0aa6ae64718e": {
      "model_module": "@jupyter-widgets/controls",
      "model_module_version": "1.4.0",
      "model_name": "DescriptionStyleModel",
      "state": {
       "description_width": ""
      }
     },
     "f3034002cfad406dbcb86aa221fc0a46": {
      "model_module": "@jupyter-widgets/base",
      "model_module_version": "1.1.0",
      "model_name": "LayoutModel",
      "state": {
       "grid_area": "label2",
       "width": "auto"
      }
     },
     "f30b14db3ae04984869d58d77c50ecba": {
      "model_module": "@jupyter-widgets/base",
      "model_module_version": "1.1.0",
      "model_name": "LayoutModel",
      "state": {
       "width": "50%"
      }
     },
     "f3134d9e9e3945e4ab45ae5d83cfb8b8": {
      "model_module": "@jupyter-widgets/controls",
      "model_module_version": "1.4.0",
      "model_name": "DescriptionStyleModel",
      "state": {
       "description_width": ""
      }
     },
     "f31f12b9a82543bfb94e00c08d8d3f4a": {
      "model_module": "@jupyter-widgets/controls",
      "model_module_version": "1.4.0",
      "model_name": "LabelModel",
      "state": {
       "layout": "IPY_MODEL_91b48dead43549c6ad045c34af693cb1",
       "style": "IPY_MODEL_e257ac6d628345c0aa7141af49272a8b",
       "value": "success rate"
      }
     },
     "f333e58ee4a74497ac2e47f6f7efb396": {
      "model_module": "@jupyter-widgets/base",
      "model_module_version": "1.1.0",
      "model_name": "LayoutModel",
      "state": {
       "grid_area": "actions",
       "width": "auto"
      }
     },
     "f359b5b3d7cf457aba459e61aa9c4b6b": {
      "model_module": "@jupyter-widgets/controls",
      "model_module_version": "1.4.0",
      "model_name": "LabelModel",
      "state": {
       "layout": "IPY_MODEL_84aa545cdc9646b7b0fd457d4dd323d7",
       "style": "IPY_MODEL_c3c4cdbc3e304231b30fde920c9d12e8",
       "value": "success rate"
      }
     },
     "f394cfd0e3fc40f68a0f28ea01f2d7c3": {
      "model_module": "@jupyter-widgets/controls",
      "model_module_version": "1.4.0",
      "model_name": "DescriptionStyleModel",
      "state": {
       "description_width": ""
      }
     },
     "f3c0747f073e4e02a0098ecada92f0d4": {
      "model_module": "@jupyter-widgets/base",
      "model_module_version": "1.1.0",
      "model_name": "LayoutModel",
      "state": {
       "grid_area": "banner",
       "justify_content": "center",
       "width": "auto"
      }
     },
     "f3c2a045ecf04b419671973281c0afef": {
      "model_module": "@jupyter-widgets/controls",
      "model_module_version": "1.4.0",
      "model_name": "LabelModel",
      "state": {
       "layout": "IPY_MODEL_27ddb6e8703b4c52ab41ea88328cea45",
       "style": "IPY_MODEL_14aee436bb7941d9bb0ff042d2bf9094",
       "value": "number of plays"
      }
     },
     "f40fe02eb4384316b27df0dbeac5d004": {
      "model_module": "@jupyter-widgets/base",
      "model_module_version": "1.1.0",
      "model_name": "LayoutModel",
      "state": {
       "flex": "1 1 auto",
       "width": "auto"
      }
     },
     "f427823dea9746eda36b52197b9a082c": {
      "model_module": "@jupyter-widgets/controls",
      "model_module_version": "1.4.0",
      "model_name": "ButtonModel",
      "state": {
       "description": "goat",
       "disabled": true,
       "layout": "IPY_MODEL_57bb8120eebb486d9b9cf65238b31084",
       "style": "IPY_MODEL_2243ed9176af4ba491108666e7d11d08"
      }
     },
     "f44d2a0dca6f48e58f5c14d2a738ca99": {
      "model_module": "@jupyter-widgets/controls",
      "model_module_version": "1.4.0",
      "model_name": "BoxModel",
      "state": {
       "children": [
        "IPY_MODEL_07124e61537e46669129f8da47938935",
        "IPY_MODEL_6d0ef459da354a2b85c990ead1616ffd",
        "IPY_MODEL_339db8c30532412792c295e43f3c8c14"
       ],
       "layout": "IPY_MODEL_b14dfeadc8fa4a0f81bd10a58fef0956"
      }
     },
     "f4927a5a515147dabfd870d5ade05b3e": {
      "model_module": "@jupyter-widgets/base",
      "model_module_version": "1.1.0",
      "model_name": "LayoutModel",
      "state": {
       "grid_area": "text1",
       "width": "auto"
      }
     },
     "f4ac8f366f224976a02d41e7aec98748": {
      "model_module": "@jupyter-widgets/controls",
      "model_module_version": "1.4.0",
      "model_name": "DescriptionStyleModel",
      "state": {
       "description_width": ""
      }
     },
     "f523669c138347858d7f6d5f10e105e1": {
      "model_module": "@jupyter-widgets/controls",
      "model_module_version": "1.4.0",
      "model_name": "FloatTextModel",
      "state": {
       "disabled": true,
       "layout": "IPY_MODEL_01e199b27c5245f89e2725c3bd440af2",
       "step": null,
       "style": "IPY_MODEL_87125cd803de42a0b47fe2452bc93546"
      }
     },
     "f53a4b6ee6b343b7bbaa503e7f9b03ce": {
      "model_module": "@jupyter-widgets/controls",
      "model_module_version": "1.4.0",
      "model_name": "IntTextModel",
      "state": {
       "disabled": true,
       "layout": "IPY_MODEL_6921f5f906d04bc581c934327a473b6f",
       "step": 1,
       "style": "IPY_MODEL_fa6dcc58e1a54682a3c620aad61d7dfd"
      }
     },
     "f5ceaf50ea9d41c99f3a1a352011e4c2": {
      "model_module": "@jupyter-widgets/base",
      "model_module_version": "1.1.0",
      "model_name": "LayoutModel",
      "state": {
       "width": "50%"
      }
     },
     "f5d85ac86acf44368b18a307ffbebaec": {
      "model_module": "@jupyter-widgets/controls",
      "model_module_version": "1.4.0",
      "model_name": "ButtonStyleModel",
      "state": {}
     },
     "f5edfe3594a0499f822ad8657707dad1": {
      "model_module": "@jupyter-widgets/controls",
      "model_module_version": "1.4.0",
      "model_name": "DescriptionStyleModel",
      "state": {
       "description_width": ""
      }
     },
     "f612b134d3bd4b0c8c3c1eee7a0c4da5": {
      "model_module": "@jupyter-widgets/controls",
      "model_module_version": "1.4.0",
      "model_name": "ButtonStyleModel",
      "state": {}
     },
     "f63b71d436b1417dbb129514f4150ded": {
      "model_module": "@jupyter-widgets/controls",
      "model_module_version": "1.4.0",
      "model_name": "GridBoxModel",
      "state": {
       "children": [
        "IPY_MODEL_2fb9cbabc36241a8ad780e62ca8b0f27",
        "IPY_MODEL_cc510e7cc7fa4d328f1af8b02d366397",
        "IPY_MODEL_9a56300180fa41abad637310473a5d0e",
        "IPY_MODEL_b927f543dac44ca5aad0571408104245",
        "IPY_MODEL_8c8dbc34e54647669b3da23dfa35c8b9",
        "IPY_MODEL_5889c12a535f4c4283873aabaf1f0d3f",
        "IPY_MODEL_8afb0848b4924f7a8ebaa0b0f9ee03a0",
        "IPY_MODEL_2c762330cd8e4dc38d90dc9eaa9c8f46",
        "IPY_MODEL_e2280c201f4641c188d5377f2280b2a1",
        "IPY_MODEL_f44d2a0dca6f48e58f5c14d2a738ca99"
       ],
       "layout": "IPY_MODEL_6af5e75bcf984c1e89515ba404ade004"
      }
     },
     "f66924bc956e4b70b0b9acb5eadb4735": {
      "model_module": "@jupyter-widgets/base",
      "model_module_version": "1.1.0",
      "model_name": "LayoutModel",
      "state": {
       "grid_area": "label1",
       "width": "auto"
      }
     },
     "f69f7da0d4f5445baac608e80184e85f": {
      "model_module": "@jupyter-widgets/base",
      "model_module_version": "1.1.0",
      "model_name": "LayoutModel",
      "state": {
       "grid_area": "text3",
       "width": "auto"
      }
     },
     "f6a3982aadd24e70a6599f0036990aa7": {
      "model_module": "@jupyter-widgets/base",
      "model_module_version": "1.1.0",
      "model_name": "LayoutModel",
      "state": {
       "grid_area": "status",
       "width": "auto"
      }
     },
     "f72390e86c2d492c87fd35e9905a6872": {
      "model_module": "@jupyter-widgets/base",
      "model_module_version": "1.1.0",
      "model_name": "LayoutModel",
      "state": {
       "flex": "1 1 auto",
       "width": "auto"
      }
     },
     "f7780cbb5ee14807a7d479b0977f4bdc": {
      "model_module": "@jupyter-widgets/controls",
      "model_module_version": "1.4.0",
      "model_name": "DescriptionStyleModel",
      "state": {
       "description_width": ""
      }
     },
     "f77e9ac6698046dab26fe64ea02c7d22": {
      "model_module": "@jupyter-widgets/controls",
      "model_module_version": "1.4.0",
      "model_name": "BoxModel",
      "state": {
       "children": [
        "IPY_MODEL_a8ec0602c08843ba8030247caaa41c4f",
        "IPY_MODEL_3aeb929454074560b1e37263f1ad1979",
        "IPY_MODEL_13085e0612304fe998dac9ba66541eac"
       ],
       "layout": "IPY_MODEL_65eecbb639694a0fb051a7ef9b2ce0b3"
      }
     },
     "f7eb4f5b81fc41d4a6ffdeb7c88f4ad3": {
      "model_module": "@jupyter-widgets/base",
      "model_module_version": "1.1.0",
      "model_name": "LayoutModel",
      "state": {
       "grid_area": "doors",
       "width": "auto"
      }
     },
     "f81298ef50f742db965a2248bc2ab5a3": {
      "model_module": "@jupyter-widgets/controls",
      "model_module_version": "1.4.0",
      "model_name": "GridBoxModel",
      "state": {
       "children": [
        "IPY_MODEL_70ed1b3f3f0d4108b1eecb723836fa92",
        "IPY_MODEL_980dab40d5654ec8b8f2deaaed6d14d9",
        "IPY_MODEL_f3c2a045ecf04b419671973281c0afef",
        "IPY_MODEL_516a9c02fd4b4db190a3f2954e89c0ce",
        "IPY_MODEL_b4b5c341cc9f4c59ac6293d93977c696",
        "IPY_MODEL_f14f654dadd14d1c92c5e4df3eb3a8df",
        "IPY_MODEL_e3cad02a9ced4f88a1a734aed2dc23b5",
        "IPY_MODEL_0eedc8d6d0e149f380043456ba76329d",
        "IPY_MODEL_69745bdcc3614c6bbfad79ac9644bfcc",
        "IPY_MODEL_0f4b5fb6534c46f59b8dce0342d7864c"
       ],
       "layout": "IPY_MODEL_9330a45648ea46b2bcbd187def44d49a"
      }
     },
     "f82eebadbc254f7db2119eddca712a51": {
      "model_module": "@jupyter-widgets/controls",
      "model_module_version": "1.4.0",
      "model_name": "DescriptionStyleModel",
      "state": {
       "description_width": ""
      }
     },
     "f8d517dfa856494389b3e0695ad93b3a": {
      "model_module": "@jupyter-widgets/base",
      "model_module_version": "1.1.0",
      "model_name": "LayoutModel",
      "state": {
       "grid_area": "label1",
       "width": "auto"
      }
     },
     "f9781b145e914ae09bee0cf7ae4aa9a4": {
      "model_module": "@jupyter-widgets/controls",
      "model_module_version": "1.4.0",
      "model_name": "DescriptionStyleModel",
      "state": {
       "description_width": ""
      }
     },
     "f9ab4e7506374ceba61ccc261fa1e8e2": {
      "model_module": "@jupyter-widgets/base",
      "model_module_version": "1.1.0",
      "model_name": "LayoutModel",
      "state": {
       "grid_area": "status",
       "width": "auto"
      }
     },
     "f9b26f9566074b8981749cba0d2b0ba1": {
      "model_module": "@jupyter-widgets/controls",
      "model_module_version": "1.4.0",
      "model_name": "ButtonStyleModel",
      "state": {}
     },
     "f9cc26a6a7c840c291508107a83136f6": {
      "model_module": "@jupyter-widgets/base",
      "model_module_version": "1.1.0",
      "model_name": "LayoutModel",
      "state": {
       "grid_area": "text1",
       "width": "auto"
      }
     },
     "fa0cfdfd3bd0488cb35d619cdd820f1b": {
      "model_module": "@jupyter-widgets/controls",
      "model_module_version": "1.4.0",
      "model_name": "ButtonStyleModel",
      "state": {}
     },
     "fa1caae7fc98453a84de35ce251f3527": {
      "model_module": "@jupyter-widgets/base",
      "model_module_version": "1.1.0",
      "model_name": "LayoutModel",
      "state": {
       "grid_area": "label2",
       "width": "auto"
      }
     },
     "fa23548960c74b00a2b26737aeae78ce": {
      "model_module": "@jupyter-widgets/base",
      "model_module_version": "1.1.0",
      "model_name": "LayoutModel",
      "state": {
       "width": "50%"
      }
     },
     "fa4714a60fb34d89a956149a237e6dff": {
      "model_module": "@jupyter-widgets/controls",
      "model_module_version": "1.4.0",
      "model_name": "ButtonModel",
      "state": {
       "description": "reset",
       "disabled": true,
       "layout": "IPY_MODEL_b7ba9875351c47f5a2862e46786af601",
       "style": "IPY_MODEL_d5cac86cf06a4e3db31399d912328729",
       "tooltip": "reset game"
      }
     },
     "fa6dcc58e1a54682a3c620aad61d7dfd": {
      "model_module": "@jupyter-widgets/controls",
      "model_module_version": "1.4.0",
      "model_name": "DescriptionStyleModel",
      "state": {
       "description_width": ""
      }
     },
     "fa878816090f46099e4034c152677850": {
      "model_module": "@jupyter-widgets/controls",
      "model_module_version": "1.4.0",
      "model_name": "DescriptionStyleModel",
      "state": {
       "description_width": ""
      }
     },
     "faccef0581134a6f95af71050f0c8e5d": {
      "model_module": "@jupyter-widgets/controls",
      "model_module_version": "1.4.0",
      "model_name": "DescriptionStyleModel",
      "state": {
       "description_width": ""
      }
     },
     "faecdc3aafe1483bb8583591ffb77145": {
      "model_module": "@jupyter-widgets/controls",
      "model_module_version": "1.4.0",
      "model_name": "IntTextModel",
      "state": {
       "disabled": true,
       "layout": "IPY_MODEL_08df4ad79d3648f595e22f2f65b26196",
       "step": 1,
       "style": "IPY_MODEL_09e996e357054de8b4c66c75afc0a1d7",
       "value": 4
      }
     },
     "faf4af3f1db94c6586292fbd3da7da21": {
      "model_module": "@jupyter-widgets/controls",
      "model_module_version": "1.4.0",
      "model_name": "FloatTextModel",
      "state": {
       "disabled": true,
       "layout": "IPY_MODEL_9d90f891dbfe42bab6a7466bda45f96d",
       "step": null,
       "style": "IPY_MODEL_f82eebadbc254f7db2119eddca712a51",
       "value": 0.7777777777777778
      }
     },
     "fb560e3e9b614ecdb2f1d7708fac56b8": {
      "model_module": "@jupyter-widgets/base",
      "model_module_version": "1.1.0",
      "model_name": "LayoutModel",
      "state": {
       "grid_template_areas": "\n                \"banner banner banner banner\"\n                \"doors doors doors doors\"\n                \"label1 label1 text1 text1\"\n                \"label2 label2 text2 text2\"\n                \"label3 label3 text3 text3\"\n                \"status status status status\"\n                \". . actions actions\"\n            ",
       "grid_template_columns": "25% 25% 25% 25%",
       "grid_template_rows": "auto auto auto auto auto auto auto",
       "width": "50%"
      }
     },
     "fbc95f4f16bf47f3973801e073ebd173": {
      "model_module": "@jupyter-widgets/controls",
      "model_module_version": "1.4.0",
      "model_name": "ButtonModel",
      "state": {
       "description": "reset",
       "layout": "IPY_MODEL_10440e51b1334c10856c1917c536843e",
       "style": "IPY_MODEL_50483ab3eef742e490c25e8f25646f92",
       "tooltip": "reset game"
      }
     },
     "fbe8137b02a54b9d90b5c60458aaa170": {
      "model_module": "@jupyter-widgets/controls",
      "model_module_version": "1.4.0",
      "model_name": "LabelModel",
      "state": {
       "layout": "IPY_MODEL_49b016a06bb64aec8c1644507174070c",
       "style": "IPY_MODEL_6108b6715687470693d5dd8b85373230",
       "value": "number of wins"
      }
     },
     "fc4a0cbb83274fb397307904127e9e77": {
      "model_module": "@jupyter-widgets/controls",
      "model_module_version": "1.4.0",
      "model_name": "DescriptionStyleModel",
      "state": {
       "description_width": ""
      }
     },
     "fcb9ad35ef01458594da18806fbd6013": {
      "model_module": "@jupyter-widgets/controls",
      "model_module_version": "1.4.0",
      "model_name": "ButtonStyleModel",
      "state": {}
     },
     "fcf8b73087684beab23d75b23fbfeeb3": {
      "model_module": "@jupyter-widgets/controls",
      "model_module_version": "1.4.0",
      "model_name": "LabelModel",
      "state": {
       "layout": "IPY_MODEL_9db3cd75579448028c9a5c4dd1a8b076",
       "style": "IPY_MODEL_1aeb899471aa42d6aa4a4295a25c3539",
       "value": "number of plays"
      }
     },
     "fd1475d30fd94f6f9a100e94ef1136a4": {
      "model_module": "@jupyter-widgets/base",
      "model_module_version": "1.1.0",
      "model_name": "LayoutModel",
      "state": {
       "grid_area": "text1",
       "width": "auto"
      }
     },
     "fd2e247a4a164a108d04e5746dc91486": {
      "model_module": "@jupyter-widgets/base",
      "model_module_version": "1.1.0",
      "model_name": "LayoutModel",
      "state": {
       "grid_area": "text1",
       "width": "auto"
      }
     },
     "fd33fc3c048044c384dc01ccd7ba4e48": {
      "model_module": "@jupyter-widgets/controls",
      "model_module_version": "1.4.0",
      "model_name": "LabelModel",
      "state": {
       "layout": "IPY_MODEL_f8d517dfa856494389b3e0695ad93b3a",
       "style": "IPY_MODEL_e00a4d7ce2ab4731b1f2cf25e019ac1a",
       "value": "number of plays"
      }
     },
     "fd36b4851cdb4f78bc1e953afc5ad57e": {
      "model_module": "@jupyter-widgets/controls",
      "model_module_version": "1.4.0",
      "model_name": "BoxModel",
      "state": {
       "children": [
        "IPY_MODEL_8529e056618e43e4b6e750c4fa53a8c8"
       ],
       "layout": "IPY_MODEL_262217a888b4494eb1352ed255db18bc"
      }
     },
     "fd84be5adc9c47c6be38ccb66afaeb1e": {
      "model_module": "@jupyter-widgets/base",
      "model_module_version": "1.1.0",
      "model_name": "LayoutModel",
      "state": {
       "grid_template_areas": "\n                \"banner banner banner banner\"\n                \"doors doors doors doors\"\n                \"label1 label1 text1 text1\"\n                \"label2 label2 text2 text2\"\n                \"label3 label3 text3 text3\"\n                \"status status status status\"\n                \". . actions actions\"\n            ",
       "grid_template_columns": "25% 25% 25% 25%",
       "grid_template_rows": "auto auto auto auto auto auto auto",
       "width": "50%"
      }
     },
     "fdd6a827cb764e03abd4b16fecf4b19b": {
      "model_module": "@jupyter-widgets/controls",
      "model_module_version": "1.4.0",
      "model_name": "GridBoxModel",
      "state": {
       "children": [
        "IPY_MODEL_178112cdf27c49bc8410791baa57f188",
        "IPY_MODEL_eccb2d117d964b5795b20ccc2984fad2",
        "IPY_MODEL_ed4743bea9ba475ca019aa9e11be1161",
        "IPY_MODEL_1014f0d47f4a46d4b80ead5ac80332cf",
        "IPY_MODEL_796a52e3a77a4f7483d93a2a79e92d26",
        "IPY_MODEL_2eb05e63cd534c69bff58d79d60b09ef",
        "IPY_MODEL_783b5acda19148f5a3697ad301c92811",
        "IPY_MODEL_6e45c1c17b8149fb8fd7a74c2d1eef92",
        "IPY_MODEL_4f122453f23b424296334d7346b0179c",
        "IPY_MODEL_36848f4fd49f49f48898d10cade0f2e5"
       ],
       "layout": "IPY_MODEL_bd4889326bc94208b61aea00caa3a026"
      }
     },
     "fdf555ff16354ae9b5ae35a123eaabe6": {
      "model_module": "@jupyter-widgets/controls",
      "model_module_version": "1.4.0",
      "model_name": "LabelModel",
      "state": {
       "layout": "IPY_MODEL_a2d54d5a3c39441ba338ef0cd89aa3f9",
       "style": "IPY_MODEL_a47859c0d65b40b6b8f1f7706a7f37dd",
       "value": "Pick a door once more..."
      }
     },
     "fdfc2d1d87ed49598f4ed8cad0dbea0b": {
      "model_module": "@jupyter-widgets/controls",
      "model_module_version": "1.4.0",
      "model_name": "GridBoxModel",
      "state": {
       "children": [
        "IPY_MODEL_42e02557c761452da04f16a381a44db4",
        "IPY_MODEL_5f5173493d364cc3b51ecd15132c4b92",
        "IPY_MODEL_1bee70e8409f4e5784feccba27f53aef",
        "IPY_MODEL_4f547b3750124f9e80ab939058a63642",
        "IPY_MODEL_5cf0e8d5e7ea4f5d8ec4a801372c9299",
        "IPY_MODEL_d6cfe3906e524f3989a09171ab4ce9cc",
        "IPY_MODEL_cb7dded04df84f35b2560cd3a192ce09",
        "IPY_MODEL_049161f5509c40cab0cacee35a58f440",
        "IPY_MODEL_4a78e27689974e479c38b91cba8119a2",
        "IPY_MODEL_93a9d7eba3db43939a50e4daad39099e"
       ],
       "layout": "IPY_MODEL_d9d82cb0ccfe4b4ab4c822984d43f3f5"
      }
     },
     "fe6a159215dd4ec996c6b8f745d6946e": {
      "model_module": "@jupyter-widgets/base",
      "model_module_version": "1.1.0",
      "model_name": "LayoutModel",
      "state": {
       "flex": "1 1 auto",
       "width": "auto"
      }
     },
     "fe721b84e1ce43ff955c0046e367bfb0": {
      "model_module": "@jupyter-widgets/controls",
      "model_module_version": "1.4.0",
      "model_name": "ButtonModel",
      "state": {
       "description": "Door 2",
       "layout": "IPY_MODEL_f72390e86c2d492c87fd35e9905a6872",
       "style": "IPY_MODEL_de97d72c44504ef4af63cbdd1c8b0236"
      }
     },
     "fea1a5e3aaa140488fb7ae89c1c1e487": {
      "model_module": "@jupyter-widgets/controls",
      "model_module_version": "1.4.0",
      "model_name": "BoxModel",
      "state": {
       "children": [
        "IPY_MODEL_30c323994df44cb1874cdfd4f1ba19f7",
        "IPY_MODEL_b8e4398381d0407782a9a05058269acd",
        "IPY_MODEL_da1e2b6c08084dbaa7d4f66955c1b76d"
       ],
       "layout": "IPY_MODEL_279f45eccec641d0aec547acf8962d5d"
      }
     },
     "ff69a84423884207ad64d1fb75158afe": {
      "model_module": "@jupyter-widgets/controls",
      "model_module_version": "1.4.0",
      "model_name": "ButtonStyleModel",
      "state": {}
     },
     "ffca613e0c9b469baea19d12b1e931a8": {
      "model_module": "@jupyter-widgets/base",
      "model_module_version": "1.1.0",
      "model_name": "LayoutModel",
      "state": {
       "flex": "1 1 auto",
       "width": "auto"
      }
     }
    },
    "version_major": 2,
    "version_minor": 0
   }
  }
 },
 "nbformat": 4,
 "nbformat_minor": 2
}
