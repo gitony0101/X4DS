{
 "cells": [
  {
   "cell_type": "markdown",
   "metadata": {},
   "source": [
    "# Setup"
   ]
  },
  {
   "cell_type": "markdown",
   "metadata": {},
   "source": [
    "First, let's import `pandas`. People usually import it as `pd`:"
   ]
  },
  {
   "cell_type": "code",
   "execution_count": 1,
   "metadata": {},
   "outputs": [],
   "source": [
    "import pandas as pd"
   ]
  },
  {
   "cell_type": "markdown",
   "metadata": {},
   "source": [
    "# `Series` objects\n",
    "The `pandas` library contains these useful data structures:\n",
    "* `Series` objects, that we will discuss now. A `Series` object is 1D array, similar to a column in a spreadsheet (with a column name and row labels).\n",
    "* `DataFrame` objects. This is a 2D table, similar to a spreadsheet (with column names and row labels).\n",
    "* `Panel` objects. You can see a `Panel` as a dictionary of `DataFrame`s. These are less used, so we will not discuss them here."
   ]
  },
  {
   "cell_type": "markdown",
   "metadata": {},
   "source": [
    "## Creating a `Series`\n",
    "Let's start by creating our first `Series` object!"
   ]
  },
  {
   "cell_type": "code",
   "execution_count": 2,
   "metadata": {},
   "outputs": [
    {
     "output_type": "execute_result",
     "data": {
      "text/plain": [
       "0    2\n",
       "1   -1\n",
       "2    3\n",
       "3    5\n",
       "dtype: int64"
      ]
     },
     "metadata": {},
     "execution_count": 2
    }
   ],
   "source": [
    "s = pd.Series([2, -1, 3, 5])\n",
    "s"
   ]
  },
  {
   "cell_type": "markdown",
   "metadata": {},
   "source": [
    "## Similar to a 1D `ndarray`\n",
    "`Series` objects behave much like one-dimensional NumPy `ndarray`s, and you can often pass them as parameters to NumPy functions:"
   ]
  },
  {
   "cell_type": "code",
   "execution_count": 3,
   "metadata": {},
   "outputs": [
    {
     "output_type": "execute_result",
     "data": {
      "text/plain": [
       "0      7.389056\n",
       "1      0.367879\n",
       "2     20.085537\n",
       "3    148.413159\n",
       "dtype: float64"
      ]
     },
     "metadata": {},
     "execution_count": 3
    }
   ],
   "source": [
    "import numpy as np\n",
    "\n",
    "np.exp(s)"
   ]
  },
  {
   "cell_type": "markdown",
   "metadata": {},
   "source": [
    "Arithmetic operations on `Series` are also possible, and they apply *elementwise*, just like for `ndarray`s:"
   ]
  },
  {
   "cell_type": "code",
   "execution_count": 4,
   "metadata": {},
   "outputs": [
    {
     "output_type": "execute_result",
     "data": {
      "text/plain": [
       "0    1002\n",
       "1    1999\n",
       "2    3003\n",
       "3    4005\n",
       "dtype: int64"
      ]
     },
     "metadata": {},
     "execution_count": 4
    }
   ],
   "source": [
    "s + [1000, 2000, 3000, 4000]"
   ]
  },
  {
   "cell_type": "markdown",
   "metadata": {},
   "source": [
    "Similar to NumPy, if you add a single number to a `Series`, that number is added to all items in the `Series`. This is called * broadcasting*:"
   ]
  },
  {
   "cell_type": "code",
   "execution_count": 5,
   "metadata": {},
   "outputs": [
    {
     "output_type": "execute_result",
     "data": {
      "text/plain": [
       "0    1002\n",
       "1     999\n",
       "2    1003\n",
       "3    1005\n",
       "dtype: int64"
      ]
     },
     "metadata": {},
     "execution_count": 5
    }
   ],
   "source": [
    "s + 1000"
   ]
  },
  {
   "cell_type": "markdown",
   "metadata": {},
   "source": [
    "The same is true for all binary operations such as `*` or `/`, and even conditional operations:"
   ]
  },
  {
   "cell_type": "code",
   "execution_count": 6,
   "metadata": {},
   "outputs": [
    {
     "output_type": "execute_result",
     "data": {
      "text/plain": [
       "0    False\n",
       "1     True\n",
       "2    False\n",
       "3    False\n",
       "dtype: bool"
      ]
     },
     "metadata": {},
     "execution_count": 6
    }
   ],
   "source": [
    "s < 0"
   ]
  },
  {
   "cell_type": "markdown",
   "metadata": {},
   "source": [
    "## Index labels\n",
    "Each item in a `Series` object has a unique identifier called the *index label*. By default, it is simply the rank of the item in the `Series` (starting at `0`) but you can also set the index labels manually:"
   ]
  },
  {
   "cell_type": "code",
   "execution_count": 7,
   "metadata": {},
   "outputs": [
    {
     "output_type": "execute_result",
     "data": {
      "text/plain": [
       "alice       68\n",
       "bob         83\n",
       "charles    112\n",
       "darwin      68\n",
       "dtype: int64"
      ]
     },
     "metadata": {},
     "execution_count": 7
    }
   ],
   "source": [
    "s2 = pd.Series([68, 83, 112, 68], index=[\"alice\", \"bob\", \"charles\", \"darwin\"])\n",
    "s2"
   ]
  },
  {
   "cell_type": "markdown",
   "metadata": {},
   "source": [
    "You can then use the `Series` just like a `dict`:"
   ]
  },
  {
   "cell_type": "code",
   "execution_count": 8,
   "metadata": {},
   "outputs": [
    {
     "output_type": "execute_result",
     "data": {
      "text/plain": [
       "83"
      ]
     },
     "metadata": {},
     "execution_count": 8
    }
   ],
   "source": [
    "s2[\"bob\"]"
   ]
  },
  {
   "cell_type": "markdown",
   "metadata": {},
   "source": [
    "You can still access the items by integer location, like in a regular array:"
   ]
  },
  {
   "cell_type": "code",
   "execution_count": 9,
   "metadata": {},
   "outputs": [
    {
     "output_type": "execute_result",
     "data": {
      "text/plain": [
       "83"
      ]
     },
     "metadata": {},
     "execution_count": 9
    }
   ],
   "source": [
    "s2[1]"
   ]
  },
  {
   "cell_type": "markdown",
   "metadata": {},
   "source": [
    "To make it clear when you are accessing by label or by integer location, it is recommended to always use the `loc` attribute when accessing by label, and the `iloc` attribute when accessing by integer location:"
   ]
  },
  {
   "cell_type": "code",
   "execution_count": 10,
   "metadata": {},
   "outputs": [
    {
     "output_type": "execute_result",
     "data": {
      "text/plain": [
       "83"
      ]
     },
     "metadata": {},
     "execution_count": 10
    }
   ],
   "source": [
    "s2.loc[\"bob\"]"
   ]
  },
  {
   "cell_type": "code",
   "execution_count": 11,
   "metadata": {},
   "outputs": [
    {
     "output_type": "execute_result",
     "data": {
      "text/plain": [
       "83"
      ]
     },
     "metadata": {},
     "execution_count": 11
    }
   ],
   "source": [
    "s2.iloc[1]"
   ]
  },
  {
   "cell_type": "markdown",
   "metadata": {},
   "source": [
    "Slicing a `Series` also slices the index labels:"
   ]
  },
  {
   "cell_type": "code",
   "execution_count": 12,
   "metadata": {},
   "outputs": [
    {
     "output_type": "execute_result",
     "data": {
      "text/plain": [
       "bob         83\n",
       "charles    112\n",
       "dtype: int64"
      ]
     },
     "metadata": {},
     "execution_count": 12
    }
   ],
   "source": [
    "s2.iloc[1:3]"
   ]
  },
  {
   "cell_type": "markdown",
   "metadata": {},
   "source": [
    "This can lead to unexpected results when using the default numeric labels, so be careful:"
   ]
  },
  {
   "cell_type": "code",
   "execution_count": 13,
   "metadata": {},
   "outputs": [
    {
     "output_type": "execute_result",
     "data": {
      "text/plain": [
       "0    1000\n",
       "1    1001\n",
       "2    1002\n",
       "3    1003\n",
       "dtype: int64"
      ]
     },
     "metadata": {},
     "execution_count": 13
    }
   ],
   "source": [
    "surprise = pd.Series([1000, 1001, 1002, 1003])\n",
    "surprise"
   ]
  },
  {
   "cell_type": "code",
   "execution_count": 14,
   "metadata": {},
   "outputs": [
    {
     "output_type": "execute_result",
     "data": {
      "text/plain": [
       "2    1002\n",
       "3    1003\n",
       "dtype: int64"
      ]
     },
     "metadata": {},
     "execution_count": 14
    }
   ],
   "source": [
    "surprise_slice = surprise[2:]\n",
    "surprise_slice"
   ]
  },
  {
   "cell_type": "markdown",
   "metadata": {},
   "source": [
    "Oh look! The first element has index label `2`. The element with index label `0` is absent from the slice:"
   ]
  },
  {
   "cell_type": "code",
   "execution_count": 15,
   "metadata": {},
   "outputs": [
    {
     "output_type": "stream",
     "name": "stdout",
     "text": [
      "Key error: 0\n"
     ]
    }
   ],
   "source": [
    "try:\n",
    "    surprise_slice[0]\n",
    "except KeyError as e:\n",
    "    print(\"Key error:\", e)"
   ]
  },
  {
   "cell_type": "markdown",
   "metadata": {},
   "source": [
    "But remember that you can access elements by integer location using the `iloc` attribute. This illustrates another reason why it's always better to use `loc` and `iloc` to access `Series` objects:"
   ]
  },
  {
   "cell_type": "code",
   "execution_count": 16,
   "metadata": {},
   "outputs": [
    {
     "output_type": "execute_result",
     "data": {
      "text/plain": [
       "1002"
      ]
     },
     "metadata": {},
     "execution_count": 16
    }
   ],
   "source": [
    "surprise_slice.iloc[0]"
   ]
  },
  {
   "cell_type": "markdown",
   "metadata": {},
   "source": [
    "## Init from `dict`\n",
    "You can create a `Series` object from a `dict`. The keys will be used as index labels:"
   ]
  },
  {
   "cell_type": "code",
   "execution_count": 17,
   "metadata": {},
   "outputs": [
    {
     "output_type": "execute_result",
     "data": {
      "text/plain": [
       "alice     68\n",
       "bob       83\n",
       "colin     86\n",
       "darwin    68\n",
       "dtype: int64"
      ]
     },
     "metadata": {},
     "execution_count": 17
    }
   ],
   "source": [
    "weights = {\"alice\": 68, \"bob\": 83, \"colin\": 86, \"darwin\": 68}\n",
    "s3 = pd.Series(weights)\n",
    "s3"
   ]
  },
  {
   "cell_type": "markdown",
   "metadata": {},
   "source": [
    "You can control which elements you want to include in the `Series` and in what order by explicitly specifying the desired `index`:"
   ]
  },
  {
   "cell_type": "code",
   "execution_count": 18,
   "metadata": {},
   "outputs": [
    {
     "output_type": "execute_result",
     "data": {
      "text/plain": [
       "colin    86\n",
       "alice    68\n",
       "dtype: int64"
      ]
     },
     "metadata": {},
     "execution_count": 18
    }
   ],
   "source": [
    "s4 = pd.Series(weights, index=[\"colin\", \"alice\"])\n",
    "s4"
   ]
  },
  {
   "cell_type": "markdown",
   "metadata": {},
   "source": [
    "## Automatic alignment\n",
    "When an operation involves multiple `Series` objects, `pandas` automatically aligns items by matching index labels."
   ]
  },
  {
   "cell_type": "code",
   "execution_count": 19,
   "metadata": {},
   "outputs": [
    {
     "output_type": "stream",
     "name": "stdout",
     "text": [
      "Index(['alice', 'bob', 'charles', 'darwin'], dtype='object')\nIndex(['alice', 'bob', 'colin', 'darwin'], dtype='object')\n"
     ]
    },
    {
     "output_type": "execute_result",
     "data": {
      "text/plain": [
       "alice      136.0\n",
       "bob        166.0\n",
       "charles      NaN\n",
       "colin        NaN\n",
       "darwin     136.0\n",
       "dtype: float64"
      ]
     },
     "metadata": {},
     "execution_count": 19
    }
   ],
   "source": [
    "print(s2.keys())\n",
    "print(s3.keys())\n",
    "\n",
    "s2 + s3"
   ]
  },
  {
   "cell_type": "markdown",
   "metadata": {},
   "source": [
    "The resulting `Series` contains the union of index labels from `s2` and `s3`. Since `\"colin\"` is missing from `s2` and `\"charles\"` is missing from `s3`, these items have a `NaN` result value. (ie. Not-a-Number means *missing*).\n",
    "\n",
    "Automatic alignment is very handy when working with data that may come from various sources with varying structure and missing items. But if you forget to set the right index labels, you can have surprising results:"
   ]
  },
  {
   "cell_type": "code",
   "execution_count": 20,
   "metadata": {},
   "outputs": [
    {
     "output_type": "stream",
     "name": "stdout",
     "text": [
      "s2 = [ 68  83 112  68]\ns5 = [1000 1000 1000 1000]\n"
     ]
    },
    {
     "output_type": "execute_result",
     "data": {
      "text/plain": [
       "alice     NaN\n",
       "bob       NaN\n",
       "charles   NaN\n",
       "darwin    NaN\n",
       "0         NaN\n",
       "1         NaN\n",
       "2         NaN\n",
       "3         NaN\n",
       "dtype: float64"
      ]
     },
     "metadata": {},
     "execution_count": 20
    }
   ],
   "source": [
    "s5 = pd.Series([1000, 1000, 1000, 1000])\n",
    "print(\"s2 =\", s2.values)\n",
    "print(\"s5 =\", s5.values)\n",
    "\n",
    "s2 + s5"
   ]
  },
  {
   "cell_type": "markdown",
   "metadata": {},
   "source": [
    "Pandas could not align the `Series`, since their labels do not match at all, hence the full `NaN` result."
   ]
  },
  {
   "cell_type": "markdown",
   "metadata": {},
   "source": [
    "## Init with a scalar\n",
    "You can also initialize a `Series` object using a scalar and a list of index labels: all items will be set to the scalar."
   ]
  },
  {
   "cell_type": "code",
   "execution_count": 21,
   "metadata": {},
   "outputs": [
    {
     "output_type": "execute_result",
     "data": {
      "text/plain": [
       "life          42\n",
       "universe      42\n",
       "everything    42\n",
       "dtype: int64"
      ]
     },
     "metadata": {},
     "execution_count": 21
    }
   ],
   "source": [
    "meaning = pd.Series(42, [\"life\", \"universe\", \"everything\"])\n",
    "meaning"
   ]
  },
  {
   "cell_type": "markdown",
   "metadata": {},
   "source": [
    "## `Series` name\n",
    "A `Series` can have a `name`:"
   ]
  },
  {
   "cell_type": "code",
   "execution_count": 22,
   "metadata": {},
   "outputs": [
    {
     "output_type": "execute_result",
     "data": {
      "text/plain": [
       "bob      83\n",
       "alice    68\n",
       "Name: weights, dtype: int64"
      ]
     },
     "metadata": {},
     "execution_count": 22
    }
   ],
   "source": [
    "s6 = pd.Series([83, 68], index=[\"bob\", \"alice\"], name=\"weights\")\n",
    "s6"
   ]
  },
  {
   "cell_type": "markdown",
   "metadata": {},
   "source": [
    "## Plotting a `Series`\n",
    "Pandas makes it easy to plot `Series` data using matplotlib (for more details on matplotlib, check out the [matplotlib tutorial](tools_matplotlib.ipynb)). Just import matplotlib and call the `plot()` method:"
   ]
  },
  {
   "cell_type": "code",
   "execution_count": 23,
   "metadata": {
    "scrolled": true
   },
   "outputs": [
    {
     "output_type": "execute_result",
     "data": {
      "text/plain": [
       "<AxesSubplot:>"
      ]
     },
     "metadata": {},
     "execution_count": 23
    },
    {
     "output_type": "display_data",
     "data": {
      "text/plain": "<Figure size 432x288 with 1 Axes>",
      "image/svg+xml": "<?xml version=\"1.0\" encoding=\"utf-8\" standalone=\"no\"?>\n<!DOCTYPE svg PUBLIC \"-//W3C//DTD SVG 1.1//EN\"\n  \"http://www.w3.org/Graphics/SVG/1.1/DTD/svg11.dtd\">\n<svg height=\"248.518125pt\" version=\"1.1\" viewBox=\"0 0 372.103125 248.518125\" width=\"372.103125pt\" xmlns=\"http://www.w3.org/2000/svg\" xmlns:xlink=\"http://www.w3.org/1999/xlink\">\n <metadata>\n  <rdf:RDF xmlns:cc=\"http://creativecommons.org/ns#\" xmlns:dc=\"http://purl.org/dc/elements/1.1/\" xmlns:rdf=\"http://www.w3.org/1999/02/22-rdf-syntax-ns#\">\n   <cc:Work>\n    <dc:type rdf:resource=\"http://purl.org/dc/dcmitype/StillImage\"/>\n    <dc:date>2021-05-14T08:48:44.582074</dc:date>\n    <dc:format>image/svg+xml</dc:format>\n    <dc:creator>\n     <cc:Agent>\n      <dc:title>Matplotlib v3.4.2, https://matplotlib.org/</dc:title>\n     </cc:Agent>\n    </dc:creator>\n   </cc:Work>\n  </rdf:RDF>\n </metadata>\n <defs>\n  <style type=\"text/css\">*{stroke-linecap:butt;stroke-linejoin:round;}</style>\n </defs>\n <g id=\"figure_1\">\n  <g id=\"patch_1\">\n   <path d=\"M 0 248.518125 \nL 372.103125 248.518125 \nL 372.103125 0 \nL 0 0 \nz\n\" style=\"fill:none;\"/>\n  </g>\n  <g id=\"axes_1\">\n   <g id=\"patch_2\">\n    <path d=\"M 30.103125 224.64 \nL 364.903125 224.64 \nL 364.903125 7.2 \nL 30.103125 7.2 \nz\n\" style=\"fill:#ffffff;\"/>\n   </g>\n   <g id=\"matplotlib.axis_1\">\n    <g id=\"xtick_1\">\n     <g id=\"line2d_1\">\n      <defs>\n       <path d=\"M 0 0 \nL 0 3.5 \n\" id=\"mba9968604e\" style=\"stroke:#000000;stroke-width:0.8;\"/>\n      </defs>\n      <g>\n       <use style=\"stroke:#000000;stroke-width:0.8;\" x=\"45.321307\" xlink:href=\"#mba9968604e\" y=\"224.64\"/>\n      </g>\n     </g>\n     <g id=\"text_1\">\n      <!-- 0 -->\n      <g transform=\"translate(42.140057 239.238437)scale(0.1 -0.1)\">\n       <defs>\n        <path d=\"M 2034 4250 \nQ 1547 4250 1301 3770 \nQ 1056 3291 1056 2328 \nQ 1056 1369 1301 889 \nQ 1547 409 2034 409 \nQ 2525 409 2770 889 \nQ 3016 1369 3016 2328 \nQ 3016 3291 2770 3770 \nQ 2525 4250 2034 4250 \nz\nM 2034 4750 \nQ 2819 4750 3233 4129 \nQ 3647 3509 3647 2328 \nQ 3647 1150 3233 529 \nQ 2819 -91 2034 -91 \nQ 1250 -91 836 529 \nQ 422 1150 422 2328 \nQ 422 3509 836 4129 \nQ 1250 4750 2034 4750 \nz\n\" id=\"DejaVuSans-30\" transform=\"scale(0.015625)\"/>\n       </defs>\n       <use xlink:href=\"#DejaVuSans-30\"/>\n      </g>\n     </g>\n    </g>\n    <g id=\"xtick_2\">\n     <g id=\"line2d_2\">\n      <g>\n       <use style=\"stroke:#000000;stroke-width:0.8;\" x=\"100.66015\" xlink:href=\"#mba9968604e\" y=\"224.64\"/>\n      </g>\n     </g>\n     <g id=\"text_2\">\n      <!-- 2 -->\n      <g transform=\"translate(97.4789 239.238437)scale(0.1 -0.1)\">\n       <defs>\n        <path d=\"M 1228 531 \nL 3431 531 \nL 3431 0 \nL 469 0 \nL 469 531 \nQ 828 903 1448 1529 \nQ 2069 2156 2228 2338 \nQ 2531 2678 2651 2914 \nQ 2772 3150 2772 3378 \nQ 2772 3750 2511 3984 \nQ 2250 4219 1831 4219 \nQ 1534 4219 1204 4116 \nQ 875 4013 500 3803 \nL 500 4441 \nQ 881 4594 1212 4672 \nQ 1544 4750 1819 4750 \nQ 2544 4750 2975 4387 \nQ 3406 4025 3406 3419 \nQ 3406 3131 3298 2873 \nQ 3191 2616 2906 2266 \nQ 2828 2175 2409 1742 \nQ 1991 1309 1228 531 \nz\n\" id=\"DejaVuSans-32\" transform=\"scale(0.015625)\"/>\n       </defs>\n       <use xlink:href=\"#DejaVuSans-32\"/>\n      </g>\n     </g>\n    </g>\n    <g id=\"xtick_3\">\n     <g id=\"line2d_3\">\n      <g>\n       <use style=\"stroke:#000000;stroke-width:0.8;\" x=\"155.998993\" xlink:href=\"#mba9968604e\" y=\"224.64\"/>\n      </g>\n     </g>\n     <g id=\"text_3\">\n      <!-- 4 -->\n      <g transform=\"translate(152.817743 239.238437)scale(0.1 -0.1)\">\n       <defs>\n        <path d=\"M 2419 4116 \nL 825 1625 \nL 2419 1625 \nL 2419 4116 \nz\nM 2253 4666 \nL 3047 4666 \nL 3047 1625 \nL 3713 1625 \nL 3713 1100 \nL 3047 1100 \nL 3047 0 \nL 2419 0 \nL 2419 1100 \nL 313 1100 \nL 313 1709 \nL 2253 4666 \nz\n\" id=\"DejaVuSans-34\" transform=\"scale(0.015625)\"/>\n       </defs>\n       <use xlink:href=\"#DejaVuSans-34\"/>\n      </g>\n     </g>\n    </g>\n    <g id=\"xtick_4\">\n     <g id=\"line2d_4\">\n      <g>\n       <use style=\"stroke:#000000;stroke-width:0.8;\" x=\"211.337836\" xlink:href=\"#mba9968604e\" y=\"224.64\"/>\n      </g>\n     </g>\n     <g id=\"text_4\">\n      <!-- 6 -->\n      <g transform=\"translate(208.156586 239.238437)scale(0.1 -0.1)\">\n       <defs>\n        <path d=\"M 2113 2584 \nQ 1688 2584 1439 2293 \nQ 1191 2003 1191 1497 \nQ 1191 994 1439 701 \nQ 1688 409 2113 409 \nQ 2538 409 2786 701 \nQ 3034 994 3034 1497 \nQ 3034 2003 2786 2293 \nQ 2538 2584 2113 2584 \nz\nM 3366 4563 \nL 3366 3988 \nQ 3128 4100 2886 4159 \nQ 2644 4219 2406 4219 \nQ 1781 4219 1451 3797 \nQ 1122 3375 1075 2522 \nQ 1259 2794 1537 2939 \nQ 1816 3084 2150 3084 \nQ 2853 3084 3261 2657 \nQ 3669 2231 3669 1497 \nQ 3669 778 3244 343 \nQ 2819 -91 2113 -91 \nQ 1303 -91 875 529 \nQ 447 1150 447 2328 \nQ 447 3434 972 4092 \nQ 1497 4750 2381 4750 \nQ 2619 4750 2861 4703 \nQ 3103 4656 3366 4563 \nz\n\" id=\"DejaVuSans-36\" transform=\"scale(0.015625)\"/>\n       </defs>\n       <use xlink:href=\"#DejaVuSans-36\"/>\n      </g>\n     </g>\n    </g>\n    <g id=\"xtick_5\">\n     <g id=\"line2d_5\">\n      <g>\n       <use style=\"stroke:#000000;stroke-width:0.8;\" x=\"266.676679\" xlink:href=\"#mba9968604e\" y=\"224.64\"/>\n      </g>\n     </g>\n     <g id=\"text_5\">\n      <!-- 8 -->\n      <g transform=\"translate(263.495429 239.238437)scale(0.1 -0.1)\">\n       <defs>\n        <path d=\"M 2034 2216 \nQ 1584 2216 1326 1975 \nQ 1069 1734 1069 1313 \nQ 1069 891 1326 650 \nQ 1584 409 2034 409 \nQ 2484 409 2743 651 \nQ 3003 894 3003 1313 \nQ 3003 1734 2745 1975 \nQ 2488 2216 2034 2216 \nz\nM 1403 2484 \nQ 997 2584 770 2862 \nQ 544 3141 544 3541 \nQ 544 4100 942 4425 \nQ 1341 4750 2034 4750 \nQ 2731 4750 3128 4425 \nQ 3525 4100 3525 3541 \nQ 3525 3141 3298 2862 \nQ 3072 2584 2669 2484 \nQ 3125 2378 3379 2068 \nQ 3634 1759 3634 1313 \nQ 3634 634 3220 271 \nQ 2806 -91 2034 -91 \nQ 1263 -91 848 271 \nQ 434 634 434 1313 \nQ 434 1759 690 2068 \nQ 947 2378 1403 2484 \nz\nM 1172 3481 \nQ 1172 3119 1398 2916 \nQ 1625 2713 2034 2713 \nQ 2441 2713 2670 2916 \nQ 2900 3119 2900 3481 \nQ 2900 3844 2670 4047 \nQ 2441 4250 2034 4250 \nQ 1625 4250 1398 4047 \nQ 1172 3844 1172 3481 \nz\n\" id=\"DejaVuSans-38\" transform=\"scale(0.015625)\"/>\n       </defs>\n       <use xlink:href=\"#DejaVuSans-38\"/>\n      </g>\n     </g>\n    </g>\n    <g id=\"xtick_6\">\n     <g id=\"line2d_6\">\n      <g>\n       <use style=\"stroke:#000000;stroke-width:0.8;\" x=\"322.015522\" xlink:href=\"#mba9968604e\" y=\"224.64\"/>\n      </g>\n     </g>\n     <g id=\"text_6\">\n      <!-- 10 -->\n      <g transform=\"translate(315.653022 239.238437)scale(0.1 -0.1)\">\n       <defs>\n        <path d=\"M 794 531 \nL 1825 531 \nL 1825 4091 \nL 703 3866 \nL 703 4441 \nL 1819 4666 \nL 2450 4666 \nL 2450 531 \nL 3481 531 \nL 3481 0 \nL 794 0 \nL 794 531 \nz\n\" id=\"DejaVuSans-31\" transform=\"scale(0.015625)\"/>\n       </defs>\n       <use xlink:href=\"#DejaVuSans-31\"/>\n       <use x=\"63.623047\" xlink:href=\"#DejaVuSans-30\"/>\n      </g>\n     </g>\n    </g>\n   </g>\n   <g id=\"matplotlib.axis_2\">\n    <g id=\"ytick_1\">\n     <g id=\"line2d_7\">\n      <defs>\n       <path d=\"M 0 0 \nL -3.5 0 \n\" id=\"med85a2acd9\" style=\"stroke:#000000;stroke-width:0.8;\"/>\n      </defs>\n      <g>\n       <use style=\"stroke:#000000;stroke-width:0.8;\" x=\"30.103125\" xlink:href=\"#med85a2acd9\" y=\"214.756364\"/>\n      </g>\n     </g>\n     <g id=\"text_7\">\n      <!-- 3.5 -->\n      <g transform=\"translate(7.2 218.555582)scale(0.1 -0.1)\">\n       <defs>\n        <path d=\"M 2597 2516 \nQ 3050 2419 3304 2112 \nQ 3559 1806 3559 1356 \nQ 3559 666 3084 287 \nQ 2609 -91 1734 -91 \nQ 1441 -91 1130 -33 \nQ 819 25 488 141 \nL 488 750 \nQ 750 597 1062 519 \nQ 1375 441 1716 441 \nQ 2309 441 2620 675 \nQ 2931 909 2931 1356 \nQ 2931 1769 2642 2001 \nQ 2353 2234 1838 2234 \nL 1294 2234 \nL 1294 2753 \nL 1863 2753 \nQ 2328 2753 2575 2939 \nQ 2822 3125 2822 3475 \nQ 2822 3834 2567 4026 \nQ 2313 4219 1838 4219 \nQ 1578 4219 1281 4162 \nQ 984 4106 628 3988 \nL 628 4550 \nQ 988 4650 1302 4700 \nQ 1616 4750 1894 4750 \nQ 2613 4750 3031 4423 \nQ 3450 4097 3450 3541 \nQ 3450 3153 3228 2886 \nQ 3006 2619 2597 2516 \nz\n\" id=\"DejaVuSans-33\" transform=\"scale(0.015625)\"/>\n        <path d=\"M 684 794 \nL 1344 794 \nL 1344 0 \nL 684 0 \nL 684 794 \nz\n\" id=\"DejaVuSans-2e\" transform=\"scale(0.015625)\"/>\n        <path d=\"M 691 4666 \nL 3169 4666 \nL 3169 4134 \nL 1269 4134 \nL 1269 2991 \nQ 1406 3038 1543 3061 \nQ 1681 3084 1819 3084 \nQ 2600 3084 3056 2656 \nQ 3513 2228 3513 1497 \nQ 3513 744 3044 326 \nQ 2575 -91 1722 -91 \nQ 1428 -91 1123 -41 \nQ 819 9 494 109 \nL 494 744 \nQ 775 591 1075 516 \nQ 1375 441 1709 441 \nQ 2250 441 2565 725 \nQ 2881 1009 2881 1497 \nQ 2881 1984 2565 2268 \nQ 2250 2553 1709 2553 \nQ 1456 2553 1204 2497 \nQ 953 2441 691 2322 \nL 691 4666 \nz\n\" id=\"DejaVuSans-35\" transform=\"scale(0.015625)\"/>\n       </defs>\n       <use xlink:href=\"#DejaVuSans-33\"/>\n       <use x=\"63.623047\" xlink:href=\"#DejaVuSans-2e\"/>\n       <use x=\"95.410156\" xlink:href=\"#DejaVuSans-35\"/>\n      </g>\n     </g>\n    </g>\n    <g id=\"ytick_2\">\n     <g id=\"line2d_8\">\n      <g>\n       <use style=\"stroke:#000000;stroke-width:0.8;\" x=\"30.103125\" xlink:href=\"#med85a2acd9\" y=\"178.150303\"/>\n      </g>\n     </g>\n     <g id=\"text_8\">\n      <!-- 4.0 -->\n      <g transform=\"translate(7.2 181.949522)scale(0.1 -0.1)\">\n       <use xlink:href=\"#DejaVuSans-34\"/>\n       <use x=\"63.623047\" xlink:href=\"#DejaVuSans-2e\"/>\n       <use x=\"95.410156\" xlink:href=\"#DejaVuSans-30\"/>\n      </g>\n     </g>\n    </g>\n    <g id=\"ytick_3\">\n     <g id=\"line2d_9\">\n      <g>\n       <use style=\"stroke:#000000;stroke-width:0.8;\" x=\"30.103125\" xlink:href=\"#med85a2acd9\" y=\"141.544242\"/>\n      </g>\n     </g>\n     <g id=\"text_9\">\n      <!-- 4.5 -->\n      <g transform=\"translate(7.2 145.343461)scale(0.1 -0.1)\">\n       <use xlink:href=\"#DejaVuSans-34\"/>\n       <use x=\"63.623047\" xlink:href=\"#DejaVuSans-2e\"/>\n       <use x=\"95.410156\" xlink:href=\"#DejaVuSans-35\"/>\n      </g>\n     </g>\n    </g>\n    <g id=\"ytick_4\">\n     <g id=\"line2d_10\">\n      <g>\n       <use style=\"stroke:#000000;stroke-width:0.8;\" x=\"30.103125\" xlink:href=\"#med85a2acd9\" y=\"104.938182\"/>\n      </g>\n     </g>\n     <g id=\"text_10\">\n      <!-- 5.0 -->\n      <g transform=\"translate(7.2 108.737401)scale(0.1 -0.1)\">\n       <use xlink:href=\"#DejaVuSans-35\"/>\n       <use x=\"63.623047\" xlink:href=\"#DejaVuSans-2e\"/>\n       <use x=\"95.410156\" xlink:href=\"#DejaVuSans-30\"/>\n      </g>\n     </g>\n    </g>\n    <g id=\"ytick_5\">\n     <g id=\"line2d_11\">\n      <g>\n       <use style=\"stroke:#000000;stroke-width:0.8;\" x=\"30.103125\" xlink:href=\"#med85a2acd9\" y=\"68.332121\"/>\n      </g>\n     </g>\n     <g id=\"text_11\">\n      <!-- 5.5 -->\n      <g transform=\"translate(7.2 72.13134)scale(0.1 -0.1)\">\n       <use xlink:href=\"#DejaVuSans-35\"/>\n       <use x=\"63.623047\" xlink:href=\"#DejaVuSans-2e\"/>\n       <use x=\"95.410156\" xlink:href=\"#DejaVuSans-35\"/>\n      </g>\n     </g>\n    </g>\n    <g id=\"ytick_6\">\n     <g id=\"line2d_12\">\n      <g>\n       <use style=\"stroke:#000000;stroke-width:0.8;\" x=\"30.103125\" xlink:href=\"#med85a2acd9\" y=\"31.726061\"/>\n      </g>\n     </g>\n     <g id=\"text_12\">\n      <!-- 6.0 -->\n      <g transform=\"translate(7.2 35.525279)scale(0.1 -0.1)\">\n       <use xlink:href=\"#DejaVuSans-36\"/>\n       <use x=\"63.623047\" xlink:href=\"#DejaVuSans-2e\"/>\n       <use x=\"95.410156\" xlink:href=\"#DejaVuSans-30\"/>\n      </g>\n     </g>\n    </g>\n   </g>\n   <g id=\"line2d_13\">\n    <path clip-path=\"url(#p0a6fbb4998)\" d=\"M 45.321307 148.865455 \nL 72.990728 97.61697 \nL 100.66015 24.404848 \nL 128.329571 17.083636 \nL 155.998993 24.404848 \nL 183.668414 24.404848 \nL 211.337836 53.689697 \nL 239.007257 90.295758 \nL 266.676679 126.901818 \nL 294.3461 170.829091 \nL 322.015522 185.471515 \nL 349.684943 214.756364 \n\" style=\"fill:none;stroke:#1f77b4;stroke-linecap:square;stroke-width:1.5;\"/>\n   </g>\n   <g id=\"patch_3\">\n    <path d=\"M 30.103125 224.64 \nL 30.103125 7.2 \n\" style=\"fill:none;stroke:#000000;stroke-linecap:square;stroke-linejoin:miter;stroke-width:0.8;\"/>\n   </g>\n   <g id=\"patch_4\">\n    <path d=\"M 364.903125 224.64 \nL 364.903125 7.2 \n\" style=\"fill:none;stroke:#000000;stroke-linecap:square;stroke-linejoin:miter;stroke-width:0.8;\"/>\n   </g>\n   <g id=\"patch_5\">\n    <path d=\"M 30.103125 224.64 \nL 364.903125 224.64 \n\" style=\"fill:none;stroke:#000000;stroke-linecap:square;stroke-linejoin:miter;stroke-width:0.8;\"/>\n   </g>\n   <g id=\"patch_6\">\n    <path d=\"M 30.103125 7.2 \nL 364.903125 7.2 \n\" style=\"fill:none;stroke:#000000;stroke-linecap:square;stroke-linejoin:miter;stroke-width:0.8;\"/>\n   </g>\n  </g>\n </g>\n <defs>\n  <clipPath id=\"p0a6fbb4998\">\n   <rect height=\"217.44\" width=\"334.8\" x=\"30.103125\" y=\"7.2\"/>\n  </clipPath>\n </defs>\n</svg>\n",
      "image/png": "[encoded data removed]"
     },
     "metadata": {
      "needs_background": "light"
     }
    }
   ],
   "source": [
    "%matplotlib inline\n",
    "import matplotlib.pyplot as plt\n",
    "\n",
    "temperatures = [4.4, 5.1, 6.1, 6.2, 6.1, 6.1, 5.7, 5.2, 4.7, 4.1, 3.9, 3.5]\n",
    "s7 = pd.Series(temperatures, name=\"Temperature\")\n",
    "s7.plot()\n"
   ]
  },
  {
   "cell_type": "markdown",
   "metadata": {},
   "source": [
    "There are *many* options for plotting your data. It is not necessary to list them all here: if you need a particular type of plot (histograms, pie charts, etc.), just look for it in the excellent [Visualization](http://pandas.pydata.org/pandas-docs/stable/visualization.html) section of pandas' documentation, and look at the example code."
   ]
  },
  {
   "cell_type": "markdown",
   "metadata": {},
   "source": [
    "# Handling time\n",
    "Many datasets have timestamps, and pandas is awesome at manipulating such data:\n",
    "* it can represent periods (such as 2016Q3) and frequencies (such as \"monthly\"),\n",
    "* it can convert periods to actual timestamps, and *vice versa*,\n",
    "* it can resample data and aggregate values any way you like,\n",
    "* it can handle timezones.\n",
    "\n",
    "## Time range\n",
    "Let's start by creating a time series using `pd.date_range()`. This returns a `DatetimeIndex` containing one datetime per hour for 12 hours starting on October 29th 2016 at 5:30pm."
   ]
  },
  {
   "cell_type": "code",
   "execution_count": 24,
   "metadata": {},
   "outputs": [
    {
     "output_type": "execute_result",
     "data": {
      "text/plain": [
       "DatetimeIndex(['2016-10-29 17:30:00', '2016-10-29 18:30:00',\n",
       "               '2016-10-29 19:30:00', '2016-10-29 20:30:00',\n",
       "               '2016-10-29 21:30:00', '2016-10-29 22:30:00',\n",
       "               '2016-10-29 23:30:00', '2016-10-30 00:30:00',\n",
       "               '2016-10-30 01:30:00', '2016-10-30 02:30:00',\n",
       "               '2016-10-30 03:30:00', '2016-10-30 04:30:00'],\n",
       "              dtype='datetime64[ns]', freq='H')"
      ]
     },
     "metadata": {},
     "execution_count": 24
    }
   ],
   "source": [
    "dates = pd.date_range('2016/10/29 5:30pm', periods=12, freq='H')\n",
    "dates"
   ]
  },
  {
   "cell_type": "markdown",
   "metadata": {},
   "source": [
    "This `DatetimeIndex` may be used as an index in a `Series`:"
   ]
  },
  {
   "cell_type": "code",
   "execution_count": 25,
   "metadata": {},
   "outputs": [
    {
     "output_type": "execute_result",
     "data": {
      "text/plain": [
       "2016-10-29 17:30:00    4.4\n",
       "2016-10-29 18:30:00    5.1\n",
       "2016-10-29 19:30:00    6.1\n",
       "2016-10-29 20:30:00    6.2\n",
       "2016-10-29 21:30:00    6.1\n",
       "2016-10-29 22:30:00    6.1\n",
       "2016-10-29 23:30:00    5.7\n",
       "2016-10-30 00:30:00    5.2\n",
       "2016-10-30 01:30:00    4.7\n",
       "2016-10-30 02:30:00    4.1\n",
       "2016-10-30 03:30:00    3.9\n",
       "2016-10-30 04:30:00    3.5\n",
       "Freq: H, dtype: float64"
      ]
     },
     "metadata": {},
     "execution_count": 25
    }
   ],
   "source": [
    "temp_series = pd.Series(temperatures, dates)\n",
    "temp_series"
   ]
  },
  {
   "cell_type": "markdown",
   "metadata": {},
   "source": [
    "Let's plot this series:"
   ]
  },
  {
   "cell_type": "code",
   "execution_count": 26,
   "metadata": {},
   "outputs": [
    {
     "output_type": "display_data",
     "data": {
      "text/plain": "<Figure size 432x288 with 1 Axes>",
      "image/svg+xml": "<?xml version=\"1.0\" encoding=\"utf-8\" standalone=\"no\"?>\n<!DOCTYPE svg PUBLIC \"-//W3C//DTD SVG 1.1//EN\"\n  \"http://www.w3.org/Graphics/SVG/1.1/DTD/svg11.dtd\">\n<svg height=\"345.04625pt\" version=\"1.1\" viewBox=\"0 0 362.5625 345.04625\" width=\"362.5625pt\" xmlns=\"http://www.w3.org/2000/svg\" xmlns:xlink=\"http://www.w3.org/1999/xlink\">\n <metadata>\n  <rdf:RDF xmlns:cc=\"http://creativecommons.org/ns#\" xmlns:dc=\"http://purl.org/dc/elements/1.1/\" xmlns:rdf=\"http://www.w3.org/1999/02/22-rdf-syntax-ns#\">\n   <cc:Work>\n    <dc:type rdf:resource=\"http://purl.org/dc/dcmitype/StillImage\"/>\n    <dc:date>2021-05-14T08:48:44.829707</dc:date>\n    <dc:format>image/svg+xml</dc:format>\n    <dc:creator>\n     <cc:Agent>\n      <dc:title>Matplotlib v3.4.2, https://matplotlib.org/</dc:title>\n     </cc:Agent>\n    </dc:creator>\n   </cc:Work>\n  </rdf:RDF>\n </metadata>\n <defs>\n  <style type=\"text/css\">*{stroke-linecap:butt;stroke-linejoin:round;}</style>\n </defs>\n <g id=\"figure_1\">\n  <g id=\"patch_1\">\n   <path d=\"M 0 345.04625 \nL 362.5625 345.04625 \nL 362.5625 0 \nL 0 0 \nz\n\" style=\"fill:none;\"/>\n  </g>\n  <g id=\"axes_1\">\n   <g id=\"patch_2\">\n    <path d=\"M 20.5625 224.64 \nL 355.3625 224.64 \nL 355.3625 7.2 \nL 20.5625 7.2 \nz\n\" style=\"fill:#ffffff;\"/>\n   </g>\n   <g id=\"patch_3\">\n    <path clip-path=\"url(#p0a702ab9b1)\" d=\"M 27.5375 224.64 \nL 41.4875 224.64 \nL 41.4875 77.675945 \nL 27.5375 77.675945 \nz\n\" style=\"fill:#1f77b4;\"/>\n   </g>\n   <g id=\"patch_4\">\n    <path clip-path=\"url(#p0a702ab9b1)\" d=\"M 55.4375 224.64 \nL 69.3875 224.64 \nL 69.3875 54.2953 \nL 55.4375 54.2953 \nz\n\" style=\"fill:#1f77b4;\"/>\n   </g>\n   <g id=\"patch_5\">\n    <path clip-path=\"url(#p0a702ab9b1)\" d=\"M 83.3375 224.64 \nL 97.2875 224.64 \nL 97.2875 20.894378 \nL 83.3375 20.894378 \nz\n\" style=\"fill:#1f77b4;\"/>\n   </g>\n   <g id=\"patch_6\">\n    <path clip-path=\"url(#p0a702ab9b1)\" d=\"M 111.2375 224.64 \nL 125.1875 224.64 \nL 125.1875 17.554286 \nL 111.2375 17.554286 \nz\n\" style=\"fill:#1f77b4;\"/>\n   </g>\n   <g id=\"patch_7\">\n    <path clip-path=\"url(#p0a702ab9b1)\" d=\"M 139.1375 224.64 \nL 153.0875 224.64 \nL 153.0875 20.894378 \nL 139.1375 20.894378 \nz\n\" style=\"fill:#1f77b4;\"/>\n   </g>\n   <g id=\"patch_8\">\n    <path clip-path=\"url(#p0a702ab9b1)\" d=\"M 167.0375 224.64 \nL 180.9875 224.64 \nL 180.9875 20.894378 \nL 167.0375 20.894378 \nz\n\" style=\"fill:#1f77b4;\"/>\n   </g>\n   <g id=\"patch_9\">\n    <path clip-path=\"url(#p0a702ab9b1)\" d=\"M 194.9375 224.64 \nL 208.8875 224.64 \nL 208.8875 34.254747 \nL 194.9375 34.254747 \nz\n\" style=\"fill:#1f77b4;\"/>\n   </g>\n   <g id=\"patch_10\">\n    <path clip-path=\"url(#p0a702ab9b1)\" d=\"M 222.8375 224.64 \nL 236.7875 224.64 \nL 236.7875 50.955207 \nL 222.8375 50.955207 \nz\n\" style=\"fill:#1f77b4;\"/>\n   </g>\n   <g id=\"patch_11\">\n    <path clip-path=\"url(#p0a702ab9b1)\" d=\"M 250.7375 224.64 \nL 264.6875 224.64 \nL 264.6875 67.655668 \nL 250.7375 67.655668 \nz\n\" style=\"fill:#1f77b4;\"/>\n   </g>\n   <g id=\"patch_12\">\n    <path clip-path=\"url(#p0a702ab9b1)\" d=\"M 278.6375 224.64 \nL 292.5875 224.64 \nL 292.5875 87.696221 \nL 278.6375 87.696221 \nz\n\" style=\"fill:#1f77b4;\"/>\n   </g>\n   <g id=\"patch_13\">\n    <path clip-path=\"url(#p0a702ab9b1)\" d=\"M 306.5375 224.64 \nL 320.4875 224.64 \nL 320.4875 94.376406 \nL 306.5375 94.376406 \nz\n\" style=\"fill:#1f77b4;\"/>\n   </g>\n   <g id=\"patch_14\">\n    <path clip-path=\"url(#p0a702ab9b1)\" d=\"M 334.4375 224.64 \nL 348.3875 224.64 \nL 348.3875 107.736774 \nL 334.4375 107.736774 \nz\n\" style=\"fill:#1f77b4;\"/>\n   </g>\n   <g id=\"matplotlib.axis_1\">\n    <g id=\"xtick_1\">\n     <g id=\"line2d_1\">\n      <path clip-path=\"url(#p0a702ab9b1)\" d=\"M 34.5125 224.64 \nL 34.5125 7.2 \n\" style=\"fill:none;stroke:#b0b0b0;stroke-linecap:square;stroke-width:0.8;\"/>\n     </g>\n     <g id=\"line2d_2\">\n      <defs>\n       <path d=\"M 0 0 \nL 0 3.5 \n\" id=\"m949ad2b200\" style=\"stroke:#000000;stroke-width:0.8;\"/>\n      </defs>\n      <g>\n       <use style=\"stroke:#000000;stroke-width:0.8;\" x=\"34.5125\" xlink:href=\"#m949ad2b200\" y=\"224.64\"/>\n      </g>\n     </g>\n     <g id=\"text_1\">\n      <!-- 2016-10-29 17:30:00 -->\n      <g transform=\"translate(37.271875 337.84625)rotate(-90)scale(0.1 -0.1)\">\n       <defs>\n        <path d=\"M 1228 531 \nL 3431 531 \nL 3431 0 \nL 469 0 \nL 469 531 \nQ 828 903 1448 1529 \nQ 2069 2156 2228 2338 \nQ 2531 2678 2651 2914 \nQ 2772 3150 2772 3378 \nQ 2772 3750 2511 3984 \nQ 2250 4219 1831 4219 \nQ 1534 4219 1204 4116 \nQ 875 4013 500 3803 \nL 500 4441 \nQ 881 4594 1212 4672 \nQ 1544 4750 1819 4750 \nQ 2544 4750 2975 4387 \nQ 3406 4025 3406 3419 \nQ 3406 3131 3298 2873 \nQ 3191 2616 2906 2266 \nQ 2828 2175 2409 1742 \nQ 1991 1309 1228 531 \nz\n\" id=\"DejaVuSans-32\" transform=\"scale(0.015625)\"/>\n        <path d=\"M 2034 4250 \nQ 1547 4250 1301 3770 \nQ 1056 3291 1056 2328 \nQ 1056 1369 1301 889 \nQ 1547 409 2034 409 \nQ 2525 409 2770 889 \nQ 3016 1369 3016 2328 \nQ 3016 3291 2770 3770 \nQ 2525 4250 2034 4250 \nz\nM 2034 4750 \nQ 2819 4750 3233 4129 \nQ 3647 3509 3647 2328 \nQ 3647 1150 3233 529 \nQ 2819 -91 2034 -91 \nQ 1250 -91 836 529 \nQ 422 1150 422 2328 \nQ 422 3509 836 4129 \nQ 1250 4750 2034 4750 \nz\n\" id=\"DejaVuSans-30\" transform=\"scale(0.015625)\"/>\n        <path d=\"M 794 531 \nL 1825 531 \nL 1825 4091 \nL 703 3866 \nL 703 4441 \nL 1819 4666 \nL 2450 4666 \nL 2450 531 \nL 3481 531 \nL 3481 0 \nL 794 0 \nL 794 531 \nz\n\" id=\"DejaVuSans-31\" transform=\"scale(0.015625)\"/>\n        <path d=\"M 2113 2584 \nQ 1688 2584 1439 2293 \nQ 1191 2003 1191 1497 \nQ 1191 994 1439 701 \nQ 1688 409 2113 409 \nQ 2538 409 2786 701 \nQ 3034 994 3034 1497 \nQ 3034 2003 2786 2293 \nQ 2538 2584 2113 2584 \nz\nM 3366 4563 \nL 3366 3988 \nQ 3128 4100 2886 4159 \nQ 2644 4219 2406 4219 \nQ 1781 4219 1451 3797 \nQ 1122 3375 1075 2522 \nQ 1259 2794 1537 2939 \nQ 1816 3084 2150 3084 \nQ 2853 3084 3261 2657 \nQ 3669 2231 3669 1497 \nQ 3669 778 3244 343 \nQ 2819 -91 2113 -91 \nQ 1303 -91 875 529 \nQ 447 1150 447 2328 \nQ 447 3434 972 4092 \nQ 1497 4750 2381 4750 \nQ 2619 4750 2861 4703 \nQ 3103 4656 3366 4563 \nz\n\" id=\"DejaVuSans-36\" transform=\"scale(0.015625)\"/>\n        <path d=\"M 313 2009 \nL 1997 2009 \nL 1997 1497 \nL 313 1497 \nL 313 2009 \nz\n\" id=\"DejaVuSans-2d\" transform=\"scale(0.015625)\"/>\n        <path d=\"M 703 97 \nL 703 672 \nQ 941 559 1184 500 \nQ 1428 441 1663 441 \nQ 2288 441 2617 861 \nQ 2947 1281 2994 2138 \nQ 2813 1869 2534 1725 \nQ 2256 1581 1919 1581 \nQ 1219 1581 811 2004 \nQ 403 2428 403 3163 \nQ 403 3881 828 4315 \nQ 1253 4750 1959 4750 \nQ 2769 4750 3195 4129 \nQ 3622 3509 3622 2328 \nQ 3622 1225 3098 567 \nQ 2575 -91 1691 -91 \nQ 1453 -91 1209 -44 \nQ 966 3 703 97 \nz\nM 1959 2075 \nQ 2384 2075 2632 2365 \nQ 2881 2656 2881 3163 \nQ 2881 3666 2632 3958 \nQ 2384 4250 1959 4250 \nQ 1534 4250 1286 3958 \nQ 1038 3666 1038 3163 \nQ 1038 2656 1286 2365 \nQ 1534 2075 1959 2075 \nz\n\" id=\"DejaVuSans-39\" transform=\"scale(0.015625)\"/>\n        <path id=\"DejaVuSans-20\" transform=\"scale(0.015625)\"/>\n        <path d=\"M 525 4666 \nL 3525 4666 \nL 3525 4397 \nL 1831 0 \nL 1172 0 \nL 2766 4134 \nL 525 4134 \nL 525 4666 \nz\n\" id=\"DejaVuSans-37\" transform=\"scale(0.015625)\"/>\n        <path d=\"M 750 794 \nL 1409 794 \nL 1409 0 \nL 750 0 \nL 750 794 \nz\nM 750 3309 \nL 1409 3309 \nL 1409 2516 \nL 750 2516 \nL 750 3309 \nz\n\" id=\"DejaVuSans-3a\" transform=\"scale(0.015625)\"/>\n        <path d=\"M 2597 2516 \nQ 3050 2419 3304 2112 \nQ 3559 1806 3559 1356 \nQ 3559 666 3084 287 \nQ 2609 -91 1734 -91 \nQ 1441 -91 1130 -33 \nQ 819 25 488 141 \nL 488 750 \nQ 750 597 1062 519 \nQ 1375 441 1716 441 \nQ 2309 441 2620 675 \nQ 2931 909 2931 1356 \nQ 2931 1769 2642 2001 \nQ 2353 2234 1838 2234 \nL 1294 2234 \nL 1294 2753 \nL 1863 2753 \nQ 2328 2753 2575 2939 \nQ 2822 3125 2822 3475 \nQ 2822 3834 2567 4026 \nQ 2313 4219 1838 4219 \nQ 1578 4219 1281 4162 \nQ 984 4106 628 3988 \nL 628 4550 \nQ 988 4650 1302 4700 \nQ 1616 4750 1894 4750 \nQ 2613 4750 3031 4423 \nQ 3450 4097 3450 3541 \nQ 3450 3153 3228 2886 \nQ 3006 2619 2597 2516 \nz\n\" id=\"DejaVuSans-33\" transform=\"scale(0.015625)\"/>\n       </defs>\n       <use xlink:href=\"#DejaVuSans-32\"/>\n       <use x=\"63.623047\" xlink:href=\"#DejaVuSans-30\"/>\n       <use x=\"127.246094\" xlink:href=\"#DejaVuSans-31\"/>\n       <use x=\"190.869141\" xlink:href=\"#DejaVuSans-36\"/>\n       <use x=\"254.492188\" xlink:href=\"#DejaVuSans-2d\"/>\n       <use x=\"290.576172\" xlink:href=\"#DejaVuSans-31\"/>\n       <use x=\"354.199219\" xlink:href=\"#DejaVuSans-30\"/>\n       <use x=\"417.822266\" xlink:href=\"#DejaVuSans-2d\"/>\n       <use x=\"453.90625\" xlink:href=\"#DejaVuSans-32\"/>\n       <use x=\"517.529297\" xlink:href=\"#DejaVuSans-39\"/>\n       <use x=\"581.152344\" xlink:href=\"#DejaVuSans-20\"/>\n       <use x=\"612.939453\" xlink:href=\"#DejaVuSans-31\"/>\n       <use x=\"676.5625\" xlink:href=\"#DejaVuSans-37\"/>\n       <use x=\"740.185547\" xlink:href=\"#DejaVuSans-3a\"/>\n       <use x=\"773.876953\" xlink:href=\"#DejaVuSans-33\"/>\n       <use x=\"837.5\" xlink:href=\"#DejaVuSans-30\"/>\n       <use x=\"901.123047\" xlink:href=\"#DejaVuSans-3a\"/>\n       <use x=\"934.814453\" xlink:href=\"#DejaVuSans-30\"/>\n       <use x=\"998.4375\" xlink:href=\"#DejaVuSans-30\"/>\n      </g>\n     </g>\n    </g>\n    <g id=\"xtick_2\">\n     <g id=\"line2d_3\">\n      <path clip-path=\"url(#p0a702ab9b1)\" d=\"M 62.4125 224.64 \nL 62.4125 7.2 \n\" style=\"fill:none;stroke:#b0b0b0;stroke-linecap:square;stroke-width:0.8;\"/>\n     </g>\n     <g id=\"line2d_4\">\n      <g>\n       <use style=\"stroke:#000000;stroke-width:0.8;\" x=\"62.4125\" xlink:href=\"#m949ad2b200\" y=\"224.64\"/>\n      </g>\n     </g>\n     <g id=\"text_2\">\n      <!-- 2016-10-29 18:30:00 -->\n      <g transform=\"translate(65.171875 337.84625)rotate(-90)scale(0.1 -0.1)\">\n       <defs>\n        <path d=\"M 2034 2216 \nQ 1584 2216 1326 1975 \nQ 1069 1734 1069 1313 \nQ 1069 891 1326 650 \nQ 1584 409 2034 409 \nQ 2484 409 2743 651 \nQ 3003 894 3003 1313 \nQ 3003 1734 2745 1975 \nQ 2488 2216 2034 2216 \nz\nM 1403 2484 \nQ 997 2584 770 2862 \nQ 544 3141 544 3541 \nQ 544 4100 942 4425 \nQ 1341 4750 2034 4750 \nQ 2731 4750 3128 4425 \nQ 3525 4100 3525 3541 \nQ 3525 3141 3298 2862 \nQ 3072 2584 2669 2484 \nQ 3125 2378 3379 2068 \nQ 3634 1759 3634 1313 \nQ 3634 634 3220 271 \nQ 2806 -91 2034 -91 \nQ 1263 -91 848 271 \nQ 434 634 434 1313 \nQ 434 1759 690 2068 \nQ 947 2378 1403 2484 \nz\nM 1172 3481 \nQ 1172 3119 1398 2916 \nQ 1625 2713 2034 2713 \nQ 2441 2713 2670 2916 \nQ 2900 3119 2900 3481 \nQ 2900 3844 2670 4047 \nQ 2441 4250 2034 4250 \nQ 1625 4250 1398 4047 \nQ 1172 3844 1172 3481 \nz\n\" id=\"DejaVuSans-38\" transform=\"scale(0.015625)\"/>\n       </defs>\n       <use xlink:href=\"#DejaVuSans-32\"/>\n       <use x=\"63.623047\" xlink:href=\"#DejaVuSans-30\"/>\n       <use x=\"127.246094\" xlink:href=\"#DejaVuSans-31\"/>\n       <use x=\"190.869141\" xlink:href=\"#DejaVuSans-36\"/>\n       <use x=\"254.492188\" xlink:href=\"#DejaVuSans-2d\"/>\n       <use x=\"290.576172\" xlink:href=\"#DejaVuSans-31\"/>\n       <use x=\"354.199219\" xlink:href=\"#DejaVuSans-30\"/>\n       <use x=\"417.822266\" xlink:href=\"#DejaVuSans-2d\"/>\n       <use x=\"453.90625\" xlink:href=\"#DejaVuSans-32\"/>\n       <use x=\"517.529297\" xlink:href=\"#DejaVuSans-39\"/>\n       <use x=\"581.152344\" xlink:href=\"#DejaVuSans-20\"/>\n       <use x=\"612.939453\" xlink:href=\"#DejaVuSans-31\"/>\n       <use x=\"676.5625\" xlink:href=\"#DejaVuSans-38\"/>\n       <use x=\"740.185547\" xlink:href=\"#DejaVuSans-3a\"/>\n       <use x=\"773.876953\" xlink:href=\"#DejaVuSans-33\"/>\n       <use x=\"837.5\" xlink:href=\"#DejaVuSans-30\"/>\n       <use x=\"901.123047\" xlink:href=\"#DejaVuSans-3a\"/>\n       <use x=\"934.814453\" xlink:href=\"#DejaVuSans-30\"/>\n       <use x=\"998.4375\" xlink:href=\"#DejaVuSans-30\"/>\n      </g>\n     </g>\n    </g>\n    <g id=\"xtick_3\">\n     <g id=\"line2d_5\">\n      <path clip-path=\"url(#p0a702ab9b1)\" d=\"M 90.3125 224.64 \nL 90.3125 7.2 \n\" style=\"fill:none;stroke:#b0b0b0;stroke-linecap:square;stroke-width:0.8;\"/>\n     </g>\n     <g id=\"line2d_6\">\n      <g>\n       <use style=\"stroke:#000000;stroke-width:0.8;\" x=\"90.3125\" xlink:href=\"#m949ad2b200\" y=\"224.64\"/>\n      </g>\n     </g>\n     <g id=\"text_3\">\n      <!-- 2016-10-29 19:30:00 -->\n      <g transform=\"translate(93.071875 337.84625)rotate(-90)scale(0.1 -0.1)\">\n       <use xlink:href=\"#DejaVuSans-32\"/>\n       <use x=\"63.623047\" xlink:href=\"#DejaVuSans-30\"/>\n       <use x=\"127.246094\" xlink:href=\"#DejaVuSans-31\"/>\n       <use x=\"190.869141\" xlink:href=\"#DejaVuSans-36\"/>\n       <use x=\"254.492188\" xlink:href=\"#DejaVuSans-2d\"/>\n       <use x=\"290.576172\" xlink:href=\"#DejaVuSans-31\"/>\n       <use x=\"354.199219\" xlink:href=\"#DejaVuSans-30\"/>\n       <use x=\"417.822266\" xlink:href=\"#DejaVuSans-2d\"/>\n       <use x=\"453.90625\" xlink:href=\"#DejaVuSans-32\"/>\n       <use x=\"517.529297\" xlink:href=\"#DejaVuSans-39\"/>\n       <use x=\"581.152344\" xlink:href=\"#DejaVuSans-20\"/>\n       <use x=\"612.939453\" xlink:href=\"#DejaVuSans-31\"/>\n       <use x=\"676.5625\" xlink:href=\"#DejaVuSans-39\"/>\n       <use x=\"740.185547\" xlink:href=\"#DejaVuSans-3a\"/>\n       <use x=\"773.876953\" xlink:href=\"#DejaVuSans-33\"/>\n       <use x=\"837.5\" xlink:href=\"#DejaVuSans-30\"/>\n       <use x=\"901.123047\" xlink:href=\"#DejaVuSans-3a\"/>\n       <use x=\"934.814453\" xlink:href=\"#DejaVuSans-30\"/>\n       <use x=\"998.4375\" xlink:href=\"#DejaVuSans-30\"/>\n      </g>\n     </g>\n    </g>\n    <g id=\"xtick_4\">\n     <g id=\"line2d_7\">\n      <path clip-path=\"url(#p0a702ab9b1)\" d=\"M 118.2125 224.64 \nL 118.2125 7.2 \n\" style=\"fill:none;stroke:#b0b0b0;stroke-linecap:square;stroke-width:0.8;\"/>\n     </g>\n     <g id=\"line2d_8\">\n      <g>\n       <use style=\"stroke:#000000;stroke-width:0.8;\" x=\"118.2125\" xlink:href=\"#m949ad2b200\" y=\"224.64\"/>\n      </g>\n     </g>\n     <g id=\"text_4\">\n      <!-- 2016-10-29 20:30:00 -->\n      <g transform=\"translate(120.971875 337.84625)rotate(-90)scale(0.1 -0.1)\">\n       <use xlink:href=\"#DejaVuSans-32\"/>\n       <use x=\"63.623047\" xlink:href=\"#DejaVuSans-30\"/>\n       <use x=\"127.246094\" xlink:href=\"#DejaVuSans-31\"/>\n       <use x=\"190.869141\" xlink:href=\"#DejaVuSans-36\"/>\n       <use x=\"254.492188\" xlink:href=\"#DejaVuSans-2d\"/>\n       <use x=\"290.576172\" xlink:href=\"#DejaVuSans-31\"/>\n       <use x=\"354.199219\" xlink:href=\"#DejaVuSans-30\"/>\n       <use x=\"417.822266\" xlink:href=\"#DejaVuSans-2d\"/>\n       <use x=\"453.90625\" xlink:href=\"#DejaVuSans-32\"/>\n       <use x=\"517.529297\" xlink:href=\"#DejaVuSans-39\"/>\n       <use x=\"581.152344\" xlink:href=\"#DejaVuSans-20\"/>\n       <use x=\"612.939453\" xlink:href=\"#DejaVuSans-32\"/>\n       <use x=\"676.5625\" xlink:href=\"#DejaVuSans-30\"/>\n       <use x=\"740.185547\" xlink:href=\"#DejaVuSans-3a\"/>\n       <use x=\"773.876953\" xlink:href=\"#DejaVuSans-33\"/>\n       <use x=\"837.5\" xlink:href=\"#DejaVuSans-30\"/>\n       <use x=\"901.123047\" xlink:href=\"#DejaVuSans-3a\"/>\n       <use x=\"934.814453\" xlink:href=\"#DejaVuSans-30\"/>\n       <use x=\"998.4375\" xlink:href=\"#DejaVuSans-30\"/>\n      </g>\n     </g>\n    </g>\n    <g id=\"xtick_5\">\n     <g id=\"line2d_9\">\n      <path clip-path=\"url(#p0a702ab9b1)\" d=\"M 146.1125 224.64 \nL 146.1125 7.2 \n\" style=\"fill:none;stroke:#b0b0b0;stroke-linecap:square;stroke-width:0.8;\"/>\n     </g>\n     <g id=\"line2d_10\">\n      <g>\n       <use style=\"stroke:#000000;stroke-width:0.8;\" x=\"146.1125\" xlink:href=\"#m949ad2b200\" y=\"224.64\"/>\n      </g>\n     </g>\n     <g id=\"text_5\">\n      <!-- 2016-10-29 21:30:00 -->\n      <g transform=\"translate(148.871875 337.84625)rotate(-90)scale(0.1 -0.1)\">\n       <use xlink:href=\"#DejaVuSans-32\"/>\n       <use x=\"63.623047\" xlink:href=\"#DejaVuSans-30\"/>\n       <use x=\"127.246094\" xlink:href=\"#DejaVuSans-31\"/>\n       <use x=\"190.869141\" xlink:href=\"#DejaVuSans-36\"/>\n       <use x=\"254.492188\" xlink:href=\"#DejaVuSans-2d\"/>\n       <use x=\"290.576172\" xlink:href=\"#DejaVuSans-31\"/>\n       <use x=\"354.199219\" xlink:href=\"#DejaVuSans-30\"/>\n       <use x=\"417.822266\" xlink:href=\"#DejaVuSans-2d\"/>\n       <use x=\"453.90625\" xlink:href=\"#DejaVuSans-32\"/>\n       <use x=\"517.529297\" xlink:href=\"#DejaVuSans-39\"/>\n       <use x=\"581.152344\" xlink:href=\"#DejaVuSans-20\"/>\n       <use x=\"612.939453\" xlink:href=\"#DejaVuSans-32\"/>\n       <use x=\"676.5625\" xlink:href=\"#DejaVuSans-31\"/>\n       <use x=\"740.185547\" xlink:href=\"#DejaVuSans-3a\"/>\n       <use x=\"773.876953\" xlink:href=\"#DejaVuSans-33\"/>\n       <use x=\"837.5\" xlink:href=\"#DejaVuSans-30\"/>\n       <use x=\"901.123047\" xlink:href=\"#DejaVuSans-3a\"/>\n       <use x=\"934.814453\" xlink:href=\"#DejaVuSans-30\"/>\n       <use x=\"998.4375\" xlink:href=\"#DejaVuSans-30\"/>\n      </g>\n     </g>\n    </g>\n    <g id=\"xtick_6\">\n     <g id=\"line2d_11\">\n      <path clip-path=\"url(#p0a702ab9b1)\" d=\"M 174.0125 224.64 \nL 174.0125 7.2 \n\" style=\"fill:none;stroke:#b0b0b0;stroke-linecap:square;stroke-width:0.8;\"/>\n     </g>\n     <g id=\"line2d_12\">\n      <g>\n       <use style=\"stroke:#000000;stroke-width:0.8;\" x=\"174.0125\" xlink:href=\"#m949ad2b200\" y=\"224.64\"/>\n      </g>\n     </g>\n     <g id=\"text_6\">\n      <!-- 2016-10-29 22:30:00 -->\n      <g transform=\"translate(176.771875 337.84625)rotate(-90)scale(0.1 -0.1)\">\n       <use xlink:href=\"#DejaVuSans-32\"/>\n       <use x=\"63.623047\" xlink:href=\"#DejaVuSans-30\"/>\n       <use x=\"127.246094\" xlink:href=\"#DejaVuSans-31\"/>\n       <use x=\"190.869141\" xlink:href=\"#DejaVuSans-36\"/>\n       <use x=\"254.492188\" xlink:href=\"#DejaVuSans-2d\"/>\n       <use x=\"290.576172\" xlink:href=\"#DejaVuSans-31\"/>\n       <use x=\"354.199219\" xlink:href=\"#DejaVuSans-30\"/>\n       <use x=\"417.822266\" xlink:href=\"#DejaVuSans-2d\"/>\n       <use x=\"453.90625\" xlink:href=\"#DejaVuSans-32\"/>\n       <use x=\"517.529297\" xlink:href=\"#DejaVuSans-39\"/>\n       <use x=\"581.152344\" xlink:href=\"#DejaVuSans-20\"/>\n       <use x=\"612.939453\" xlink:href=\"#DejaVuSans-32\"/>\n       <use x=\"676.5625\" xlink:href=\"#DejaVuSans-32\"/>\n       <use x=\"740.185547\" xlink:href=\"#DejaVuSans-3a\"/>\n       <use x=\"773.876953\" xlink:href=\"#DejaVuSans-33\"/>\n       <use x=\"837.5\" xlink:href=\"#DejaVuSans-30\"/>\n       <use x=\"901.123047\" xlink:href=\"#DejaVuSans-3a\"/>\n       <use x=\"934.814453\" xlink:href=\"#DejaVuSans-30\"/>\n       <use x=\"998.4375\" xlink:href=\"#DejaVuSans-30\"/>\n      </g>\n     </g>\n    </g>\n    <g id=\"xtick_7\">\n     <g id=\"line2d_13\">\n      <path clip-path=\"url(#p0a702ab9b1)\" d=\"M 201.9125 224.64 \nL 201.9125 7.2 \n\" style=\"fill:none;stroke:#b0b0b0;stroke-linecap:square;stroke-width:0.8;\"/>\n     </g>\n     <g id=\"line2d_14\">\n      <g>\n       <use style=\"stroke:#000000;stroke-width:0.8;\" x=\"201.9125\" xlink:href=\"#m949ad2b200\" y=\"224.64\"/>\n      </g>\n     </g>\n     <g id=\"text_7\">\n      <!-- 2016-10-29 23:30:00 -->\n      <g transform=\"translate(204.671875 337.84625)rotate(-90)scale(0.1 -0.1)\">\n       <use xlink:href=\"#DejaVuSans-32\"/>\n       <use x=\"63.623047\" xlink:href=\"#DejaVuSans-30\"/>\n       <use x=\"127.246094\" xlink:href=\"#DejaVuSans-31\"/>\n       <use x=\"190.869141\" xlink:href=\"#DejaVuSans-36\"/>\n       <use x=\"254.492188\" xlink:href=\"#DejaVuSans-2d\"/>\n       <use x=\"290.576172\" xlink:href=\"#DejaVuSans-31\"/>\n       <use x=\"354.199219\" xlink:href=\"#DejaVuSans-30\"/>\n       <use x=\"417.822266\" xlink:href=\"#DejaVuSans-2d\"/>\n       <use x=\"453.90625\" xlink:href=\"#DejaVuSans-32\"/>\n       <use x=\"517.529297\" xlink:href=\"#DejaVuSans-39\"/>\n       <use x=\"581.152344\" xlink:href=\"#DejaVuSans-20\"/>\n       <use x=\"612.939453\" xlink:href=\"#DejaVuSans-32\"/>\n       <use x=\"676.5625\" xlink:href=\"#DejaVuSans-33\"/>\n       <use x=\"740.185547\" xlink:href=\"#DejaVuSans-3a\"/>\n       <use x=\"773.876953\" xlink:href=\"#DejaVuSans-33\"/>\n       <use x=\"837.5\" xlink:href=\"#DejaVuSans-30\"/>\n       <use x=\"901.123047\" xlink:href=\"#DejaVuSans-3a\"/>\n       <use x=\"934.814453\" xlink:href=\"#DejaVuSans-30\"/>\n       <use x=\"998.4375\" xlink:href=\"#DejaVuSans-30\"/>\n      </g>\n     </g>\n    </g>\n    <g id=\"xtick_8\">\n     <g id=\"line2d_15\">\n      <path clip-path=\"url(#p0a702ab9b1)\" d=\"M 229.8125 224.64 \nL 229.8125 7.2 \n\" style=\"fill:none;stroke:#b0b0b0;stroke-linecap:square;stroke-width:0.8;\"/>\n     </g>\n     <g id=\"line2d_16\">\n      <g>\n       <use style=\"stroke:#000000;stroke-width:0.8;\" x=\"229.8125\" xlink:href=\"#m949ad2b200\" y=\"224.64\"/>\n      </g>\n     </g>\n     <g id=\"text_8\">\n      <!-- 2016-10-30 00:30:00 -->\n      <g transform=\"translate(232.571875 337.84625)rotate(-90)scale(0.1 -0.1)\">\n       <use xlink:href=\"#DejaVuSans-32\"/>\n       <use x=\"63.623047\" xlink:href=\"#DejaVuSans-30\"/>\n       <use x=\"127.246094\" xlink:href=\"#DejaVuSans-31\"/>\n       <use x=\"190.869141\" xlink:href=\"#DejaVuSans-36\"/>\n       <use x=\"254.492188\" xlink:href=\"#DejaVuSans-2d\"/>\n       <use x=\"290.576172\" xlink:href=\"#DejaVuSans-31\"/>\n       <use x=\"354.199219\" xlink:href=\"#DejaVuSans-30\"/>\n       <use x=\"417.822266\" xlink:href=\"#DejaVuSans-2d\"/>\n       <use x=\"453.90625\" xlink:href=\"#DejaVuSans-33\"/>\n       <use x=\"517.529297\" xlink:href=\"#DejaVuSans-30\"/>\n       <use x=\"581.152344\" xlink:href=\"#DejaVuSans-20\"/>\n       <use x=\"612.939453\" xlink:href=\"#DejaVuSans-30\"/>\n       <use x=\"676.5625\" xlink:href=\"#DejaVuSans-30\"/>\n       <use x=\"740.185547\" xlink:href=\"#DejaVuSans-3a\"/>\n       <use x=\"773.876953\" xlink:href=\"#DejaVuSans-33\"/>\n       <use x=\"837.5\" xlink:href=\"#DejaVuSans-30\"/>\n       <use x=\"901.123047\" xlink:href=\"#DejaVuSans-3a\"/>\n       <use x=\"934.814453\" xlink:href=\"#DejaVuSans-30\"/>\n       <use x=\"998.4375\" xlink:href=\"#DejaVuSans-30\"/>\n      </g>\n     </g>\n    </g>\n    <g id=\"xtick_9\">\n     <g id=\"line2d_17\">\n      <path clip-path=\"url(#p0a702ab9b1)\" d=\"M 257.7125 224.64 \nL 257.7125 7.2 \n\" style=\"fill:none;stroke:#b0b0b0;stroke-linecap:square;stroke-width:0.8;\"/>\n     </g>\n     <g id=\"line2d_18\">\n      <g>\n       <use style=\"stroke:#000000;stroke-width:0.8;\" x=\"257.7125\" xlink:href=\"#m949ad2b200\" y=\"224.64\"/>\n      </g>\n     </g>\n     <g id=\"text_9\">\n      <!-- 2016-10-30 01:30:00 -->\n      <g transform=\"translate(260.471875 337.84625)rotate(-90)scale(0.1 -0.1)\">\n       <use xlink:href=\"#DejaVuSans-32\"/>\n       <use x=\"63.623047\" xlink:href=\"#DejaVuSans-30\"/>\n       <use x=\"127.246094\" xlink:href=\"#DejaVuSans-31\"/>\n       <use x=\"190.869141\" xlink:href=\"#DejaVuSans-36\"/>\n       <use x=\"254.492188\" xlink:href=\"#DejaVuSans-2d\"/>\n       <use x=\"290.576172\" xlink:href=\"#DejaVuSans-31\"/>\n       <use x=\"354.199219\" xlink:href=\"#DejaVuSans-30\"/>\n       <use x=\"417.822266\" xlink:href=\"#DejaVuSans-2d\"/>\n       <use x=\"453.90625\" xlink:href=\"#DejaVuSans-33\"/>\n       <use x=\"517.529297\" xlink:href=\"#DejaVuSans-30\"/>\n       <use x=\"581.152344\" xlink:href=\"#DejaVuSans-20\"/>\n       <use x=\"612.939453\" xlink:href=\"#DejaVuSans-30\"/>\n       <use x=\"676.5625\" xlink:href=\"#DejaVuSans-31\"/>\n       <use x=\"740.185547\" xlink:href=\"#DejaVuSans-3a\"/>\n       <use x=\"773.876953\" xlink:href=\"#DejaVuSans-33\"/>\n       <use x=\"837.5\" xlink:href=\"#DejaVuSans-30\"/>\n       <use x=\"901.123047\" xlink:href=\"#DejaVuSans-3a\"/>\n       <use x=\"934.814453\" xlink:href=\"#DejaVuSans-30\"/>\n       <use x=\"998.4375\" xlink:href=\"#DejaVuSans-30\"/>\n      </g>\n     </g>\n    </g>\n    <g id=\"xtick_10\">\n     <g id=\"line2d_19\">\n      <path clip-path=\"url(#p0a702ab9b1)\" d=\"M 285.6125 224.64 \nL 285.6125 7.2 \n\" style=\"fill:none;stroke:#b0b0b0;stroke-linecap:square;stroke-width:0.8;\"/>\n     </g>\n     <g id=\"line2d_20\">\n      <g>\n       <use style=\"stroke:#000000;stroke-width:0.8;\" x=\"285.6125\" xlink:href=\"#m949ad2b200\" y=\"224.64\"/>\n      </g>\n     </g>\n     <g id=\"text_10\">\n      <!-- 2016-10-30 02:30:00 -->\n      <g transform=\"translate(288.371875 337.84625)rotate(-90)scale(0.1 -0.1)\">\n       <use xlink:href=\"#DejaVuSans-32\"/>\n       <use x=\"63.623047\" xlink:href=\"#DejaVuSans-30\"/>\n       <use x=\"127.246094\" xlink:href=\"#DejaVuSans-31\"/>\n       <use x=\"190.869141\" xlink:href=\"#DejaVuSans-36\"/>\n       <use x=\"254.492188\" xlink:href=\"#DejaVuSans-2d\"/>\n       <use x=\"290.576172\" xlink:href=\"#DejaVuSans-31\"/>\n       <use x=\"354.199219\" xlink:href=\"#DejaVuSans-30\"/>\n       <use x=\"417.822266\" xlink:href=\"#DejaVuSans-2d\"/>\n       <use x=\"453.90625\" xlink:href=\"#DejaVuSans-33\"/>\n       <use x=\"517.529297\" xlink:href=\"#DejaVuSans-30\"/>\n       <use x=\"581.152344\" xlink:href=\"#DejaVuSans-20\"/>\n       <use x=\"612.939453\" xlink:href=\"#DejaVuSans-30\"/>\n       <use x=\"676.5625\" xlink:href=\"#DejaVuSans-32\"/>\n       <use x=\"740.185547\" xlink:href=\"#DejaVuSans-3a\"/>\n       <use x=\"773.876953\" xlink:href=\"#DejaVuSans-33\"/>\n       <use x=\"837.5\" xlink:href=\"#DejaVuSans-30\"/>\n       <use x=\"901.123047\" xlink:href=\"#DejaVuSans-3a\"/>\n       <use x=\"934.814453\" xlink:href=\"#DejaVuSans-30\"/>\n       <use x=\"998.4375\" xlink:href=\"#DejaVuSans-30\"/>\n      </g>\n     </g>\n    </g>\n    <g id=\"xtick_11\">\n     <g id=\"line2d_21\">\n      <path clip-path=\"url(#p0a702ab9b1)\" d=\"M 313.5125 224.64 \nL 313.5125 7.2 \n\" style=\"fill:none;stroke:#b0b0b0;stroke-linecap:square;stroke-width:0.8;\"/>\n     </g>\n     <g id=\"line2d_22\">\n      <g>\n       <use style=\"stroke:#000000;stroke-width:0.8;\" x=\"313.5125\" xlink:href=\"#m949ad2b200\" y=\"224.64\"/>\n      </g>\n     </g>\n     <g id=\"text_11\">\n      <!-- 2016-10-30 03:30:00 -->\n      <g transform=\"translate(316.271875 337.84625)rotate(-90)scale(0.1 -0.1)\">\n       <use xlink:href=\"#DejaVuSans-32\"/>\n       <use x=\"63.623047\" xlink:href=\"#DejaVuSans-30\"/>\n       <use x=\"127.246094\" xlink:href=\"#DejaVuSans-31\"/>\n       <use x=\"190.869141\" xlink:href=\"#DejaVuSans-36\"/>\n       <use x=\"254.492188\" xlink:href=\"#DejaVuSans-2d\"/>\n       <use x=\"290.576172\" xlink:href=\"#DejaVuSans-31\"/>\n       <use x=\"354.199219\" xlink:href=\"#DejaVuSans-30\"/>\n       <use x=\"417.822266\" xlink:href=\"#DejaVuSans-2d\"/>\n       <use x=\"453.90625\" xlink:href=\"#DejaVuSans-33\"/>\n       <use x=\"517.529297\" xlink:href=\"#DejaVuSans-30\"/>\n       <use x=\"581.152344\" xlink:href=\"#DejaVuSans-20\"/>\n       <use x=\"612.939453\" xlink:href=\"#DejaVuSans-30\"/>\n       <use x=\"676.5625\" xlink:href=\"#DejaVuSans-33\"/>\n       <use x=\"740.185547\" xlink:href=\"#DejaVuSans-3a\"/>\n       <use x=\"773.876953\" xlink:href=\"#DejaVuSans-33\"/>\n       <use x=\"837.5\" xlink:href=\"#DejaVuSans-30\"/>\n       <use x=\"901.123047\" xlink:href=\"#DejaVuSans-3a\"/>\n       <use x=\"934.814453\" xlink:href=\"#DejaVuSans-30\"/>\n       <use x=\"998.4375\" xlink:href=\"#DejaVuSans-30\"/>\n      </g>\n     </g>\n    </g>\n    <g id=\"xtick_12\">\n     <g id=\"line2d_23\">\n      <path clip-path=\"url(#p0a702ab9b1)\" d=\"M 341.4125 224.64 \nL 341.4125 7.2 \n\" style=\"fill:none;stroke:#b0b0b0;stroke-linecap:square;stroke-width:0.8;\"/>\n     </g>\n     <g id=\"line2d_24\">\n      <g>\n       <use style=\"stroke:#000000;stroke-width:0.8;\" x=\"341.4125\" xlink:href=\"#m949ad2b200\" y=\"224.64\"/>\n      </g>\n     </g>\n     <g id=\"text_12\">\n      <!-- 2016-10-30 04:30:00 -->\n      <g transform=\"translate(344.171875 337.84625)rotate(-90)scale(0.1 -0.1)\">\n       <defs>\n        <path d=\"M 2419 4116 \nL 825 1625 \nL 2419 1625 \nL 2419 4116 \nz\nM 2253 4666 \nL 3047 4666 \nL 3047 1625 \nL 3713 1625 \nL 3713 1100 \nL 3047 1100 \nL 3047 0 \nL 2419 0 \nL 2419 1100 \nL 313 1100 \nL 313 1709 \nL 2253 4666 \nz\n\" id=\"DejaVuSans-34\" transform=\"scale(0.015625)\"/>\n       </defs>\n       <use xlink:href=\"#DejaVuSans-32\"/>\n       <use x=\"63.623047\" xlink:href=\"#DejaVuSans-30\"/>\n       <use x=\"127.246094\" xlink:href=\"#DejaVuSans-31\"/>\n       <use x=\"190.869141\" xlink:href=\"#DejaVuSans-36\"/>\n       <use x=\"254.492188\" xlink:href=\"#DejaVuSans-2d\"/>\n       <use x=\"290.576172\" xlink:href=\"#DejaVuSans-31\"/>\n       <use x=\"354.199219\" xlink:href=\"#DejaVuSans-30\"/>\n       <use x=\"417.822266\" xlink:href=\"#DejaVuSans-2d\"/>\n       <use x=\"453.90625\" xlink:href=\"#DejaVuSans-33\"/>\n       <use x=\"517.529297\" xlink:href=\"#DejaVuSans-30\"/>\n       <use x=\"581.152344\" xlink:href=\"#DejaVuSans-20\"/>\n       <use x=\"612.939453\" xlink:href=\"#DejaVuSans-30\"/>\n       <use x=\"676.5625\" xlink:href=\"#DejaVuSans-34\"/>\n       <use x=\"740.185547\" xlink:href=\"#DejaVuSans-3a\"/>\n       <use x=\"773.876953\" xlink:href=\"#DejaVuSans-33\"/>\n       <use x=\"837.5\" xlink:href=\"#DejaVuSans-30\"/>\n       <use x=\"901.123047\" xlink:href=\"#DejaVuSans-3a\"/>\n       <use x=\"934.814453\" xlink:href=\"#DejaVuSans-30\"/>\n       <use x=\"998.4375\" xlink:href=\"#DejaVuSans-30\"/>\n      </g>\n     </g>\n    </g>\n   </g>\n   <g id=\"matplotlib.axis_2\">\n    <g id=\"ytick_1\">\n     <g id=\"line2d_25\">\n      <path clip-path=\"url(#p0a702ab9b1)\" d=\"M 20.5625 224.64 \nL 355.3625 224.64 \n\" style=\"fill:none;stroke:#b0b0b0;stroke-linecap:square;stroke-width:0.8;\"/>\n     </g>\n     <g id=\"line2d_26\">\n      <defs>\n       <path d=\"M 0 0 \nL -3.5 0 \n\" id=\"m48d28beb37\" style=\"stroke:#000000;stroke-width:0.8;\"/>\n      </defs>\n      <g>\n       <use style=\"stroke:#000000;stroke-width:0.8;\" x=\"20.5625\" xlink:href=\"#m48d28beb37\" y=\"224.64\"/>\n      </g>\n     </g>\n     <g id=\"text_13\">\n      <!-- 0 -->\n      <g transform=\"translate(7.2 228.439219)scale(0.1 -0.1)\">\n       <use xlink:href=\"#DejaVuSans-30\"/>\n      </g>\n     </g>\n    </g>\n    <g id=\"ytick_2\">\n     <g id=\"line2d_27\">\n      <path clip-path=\"url(#p0a702ab9b1)\" d=\"M 20.5625 191.239078 \nL 355.3625 191.239078 \n\" style=\"fill:none;stroke:#b0b0b0;stroke-linecap:square;stroke-width:0.8;\"/>\n     </g>\n     <g id=\"line2d_28\">\n      <g>\n       <use style=\"stroke:#000000;stroke-width:0.8;\" x=\"20.5625\" xlink:href=\"#m48d28beb37\" y=\"191.239078\"/>\n      </g>\n     </g>\n     <g id=\"text_14\">\n      <!-- 1 -->\n      <g transform=\"translate(7.2 195.038297)scale(0.1 -0.1)\">\n       <use xlink:href=\"#DejaVuSans-31\"/>\n      </g>\n     </g>\n    </g>\n    <g id=\"ytick_3\">\n     <g id=\"line2d_29\">\n      <path clip-path=\"url(#p0a702ab9b1)\" d=\"M 20.5625 157.838157 \nL 355.3625 157.838157 \n\" style=\"fill:none;stroke:#b0b0b0;stroke-linecap:square;stroke-width:0.8;\"/>\n     </g>\n     <g id=\"line2d_30\">\n      <g>\n       <use style=\"stroke:#000000;stroke-width:0.8;\" x=\"20.5625\" xlink:href=\"#m48d28beb37\" y=\"157.838157\"/>\n      </g>\n     </g>\n     <g id=\"text_15\">\n      <!-- 2 -->\n      <g transform=\"translate(7.2 161.637375)scale(0.1 -0.1)\">\n       <use xlink:href=\"#DejaVuSans-32\"/>\n      </g>\n     </g>\n    </g>\n    <g id=\"ytick_4\">\n     <g id=\"line2d_31\">\n      <path clip-path=\"url(#p0a702ab9b1)\" d=\"M 20.5625 124.437235 \nL 355.3625 124.437235 \n\" style=\"fill:none;stroke:#b0b0b0;stroke-linecap:square;stroke-width:0.8;\"/>\n     </g>\n     <g id=\"line2d_32\">\n      <g>\n       <use style=\"stroke:#000000;stroke-width:0.8;\" x=\"20.5625\" xlink:href=\"#m48d28beb37\" y=\"124.437235\"/>\n      </g>\n     </g>\n     <g id=\"text_16\">\n      <!-- 3 -->\n      <g transform=\"translate(7.2 128.236454)scale(0.1 -0.1)\">\n       <use xlink:href=\"#DejaVuSans-33\"/>\n      </g>\n     </g>\n    </g>\n    <g id=\"ytick_5\">\n     <g id=\"line2d_33\">\n      <path clip-path=\"url(#p0a702ab9b1)\" d=\"M 20.5625 91.036313 \nL 355.3625 91.036313 \n\" style=\"fill:none;stroke:#b0b0b0;stroke-linecap:square;stroke-width:0.8;\"/>\n     </g>\n     <g id=\"line2d_34\">\n      <g>\n       <use style=\"stroke:#000000;stroke-width:0.8;\" x=\"20.5625\" xlink:href=\"#m48d28beb37\" y=\"91.036313\"/>\n      </g>\n     </g>\n     <g id=\"text_17\">\n      <!-- 4 -->\n      <g transform=\"translate(7.2 94.835532)scale(0.1 -0.1)\">\n       <use xlink:href=\"#DejaVuSans-34\"/>\n      </g>\n     </g>\n    </g>\n    <g id=\"ytick_6\">\n     <g id=\"line2d_35\">\n      <path clip-path=\"url(#p0a702ab9b1)\" d=\"M 20.5625 57.635392 \nL 355.3625 57.635392 \n\" style=\"fill:none;stroke:#b0b0b0;stroke-linecap:square;stroke-width:0.8;\"/>\n     </g>\n     <g id=\"line2d_36\">\n      <g>\n       <use style=\"stroke:#000000;stroke-width:0.8;\" x=\"20.5625\" xlink:href=\"#m48d28beb37\" y=\"57.635392\"/>\n      </g>\n     </g>\n     <g id=\"text_18\">\n      <!-- 5 -->\n      <g transform=\"translate(7.2 61.43461)scale(0.1 -0.1)\">\n       <defs>\n        <path d=\"M 691 4666 \nL 3169 4666 \nL 3169 4134 \nL 1269 4134 \nL 1269 2991 \nQ 1406 3038 1543 3061 \nQ 1681 3084 1819 3084 \nQ 2600 3084 3056 2656 \nQ 3513 2228 3513 1497 \nQ 3513 744 3044 326 \nQ 2575 -91 1722 -91 \nQ 1428 -91 1123 -41 \nQ 819 9 494 109 \nL 494 744 \nQ 775 591 1075 516 \nQ 1375 441 1709 441 \nQ 2250 441 2565 725 \nQ 2881 1009 2881 1497 \nQ 2881 1984 2565 2268 \nQ 2250 2553 1709 2553 \nQ 1456 2553 1204 2497 \nQ 953 2441 691 2322 \nL 691 4666 \nz\n\" id=\"DejaVuSans-35\" transform=\"scale(0.015625)\"/>\n       </defs>\n       <use xlink:href=\"#DejaVuSans-35\"/>\n      </g>\n     </g>\n    </g>\n    <g id=\"ytick_7\">\n     <g id=\"line2d_37\">\n      <path clip-path=\"url(#p0a702ab9b1)\" d=\"M 20.5625 24.23447 \nL 355.3625 24.23447 \n\" style=\"fill:none;stroke:#b0b0b0;stroke-linecap:square;stroke-width:0.8;\"/>\n     </g>\n     <g id=\"line2d_38\">\n      <g>\n       <use style=\"stroke:#000000;stroke-width:0.8;\" x=\"20.5625\" xlink:href=\"#m48d28beb37\" y=\"24.23447\"/>\n      </g>\n     </g>\n     <g id=\"text_19\">\n      <!-- 6 -->\n      <g transform=\"translate(7.2 28.033689)scale(0.1 -0.1)\">\n       <use xlink:href=\"#DejaVuSans-36\"/>\n      </g>\n     </g>\n    </g>\n   </g>\n   <g id=\"patch_15\">\n    <path d=\"M 20.5625 224.64 \nL 20.5625 7.2 \n\" style=\"fill:none;stroke:#000000;stroke-linecap:square;stroke-linejoin:miter;stroke-width:0.8;\"/>\n   </g>\n   <g id=\"patch_16\">\n    <path d=\"M 355.3625 224.64 \nL 355.3625 7.2 \n\" style=\"fill:none;stroke:#000000;stroke-linecap:square;stroke-linejoin:miter;stroke-width:0.8;\"/>\n   </g>\n   <g id=\"patch_17\">\n    <path d=\"M 20.5625 224.64 \nL 355.3625 224.64 \n\" style=\"fill:none;stroke:#000000;stroke-linecap:square;stroke-linejoin:miter;stroke-width:0.8;\"/>\n   </g>\n   <g id=\"patch_18\">\n    <path d=\"M 20.5625 7.2 \nL 355.3625 7.2 \n\" style=\"fill:none;stroke:#000000;stroke-linecap:square;stroke-linejoin:miter;stroke-width:0.8;\"/>\n   </g>\n  </g>\n </g>\n <defs>\n  <clipPath id=\"p0a702ab9b1\">\n   <rect height=\"217.44\" width=\"334.8\" x=\"20.5625\" y=\"7.2\"/>\n  </clipPath>\n </defs>\n</svg>\n",
      "image/png": "[encoded data removed]"
     },
     "metadata": {
      "needs_background": "light"
     }
    }
   ],
   "source": [
    "temp_series.plot(kind=\"bar\")\n",
    "\n",
    "plt.grid(True)"
   ]
  },
  {
   "cell_type": "markdown",
   "metadata": {},
   "source": [
    "## Resampling\n",
    "Pandas lets us resample a time series very simply. Just call the `resample()` method and specify a new frequency:"
   ]
  },
  {
   "cell_type": "code",
   "execution_count": 27,
   "metadata": {},
   "outputs": [
    {
     "output_type": "execute_result",
     "data": {
      "text/plain": [
       "<pandas.core.resample.DatetimeIndexResampler object at 0x7f8818a785e0>"
      ]
     },
     "metadata": {},
     "execution_count": 27
    }
   ],
   "source": [
    "temp_series_freq_2H = temp_series.resample(\"2H\")\n",
    "temp_series_freq_2H"
   ]
  },
  {
   "cell_type": "markdown",
   "metadata": {},
   "source": [
    "The resampling operation is actually a deferred operation, which is why we did not get a `Series` object, but a `DatetimeIndexResampler` object instead. To actually perform the resampling operation, we can simply call the `mean()` method: Pandas will compute the mean of every pair of consecutive hours:"
   ]
  },
  {
   "cell_type": "code",
   "execution_count": 28,
   "metadata": {},
   "outputs": [],
   "source": [
    "temp_series_freq_2H = temp_series_freq_2H.mean()"
   ]
  },
  {
   "cell_type": "markdown",
   "metadata": {},
   "source": [
    "Let's plot the result:"
   ]
  },
  {
   "cell_type": "code",
   "execution_count": 29,
   "metadata": {},
   "outputs": [
    {
     "output_type": "display_data",
     "data": {
      "text/plain": "<Figure size 432x288 with 1 Axes>",
      "image/svg+xml": "<?xml version=\"1.0\" encoding=\"utf-8\" standalone=\"no\"?>\n<!DOCTYPE svg PUBLIC \"-//W3C//DTD SVG 1.1//EN\"\n  \"http://www.w3.org/Graphics/SVG/1.1/DTD/svg11.dtd\">\n<svg height=\"345.04625pt\" version=\"1.1\" viewBox=\"0 0 362.5625 345.04625\" width=\"362.5625pt\" xmlns=\"http://www.w3.org/2000/svg\" xmlns:xlink=\"http://www.w3.org/1999/xlink\">\n <metadata>\n  <rdf:RDF xmlns:cc=\"http://creativecommons.org/ns#\" xmlns:dc=\"http://purl.org/dc/elements/1.1/\" xmlns:rdf=\"http://www.w3.org/1999/02/22-rdf-syntax-ns#\">\n   <cc:Work>\n    <dc:type rdf:resource=\"http://purl.org/dc/dcmitype/StillImage\"/>\n    <dc:date>2021-05-14T08:48:45.070413</dc:date>\n    <dc:format>image/svg+xml</dc:format>\n    <dc:creator>\n     <cc:Agent>\n      <dc:title>Matplotlib v3.4.2, https://matplotlib.org/</dc:title>\n     </cc:Agent>\n    </dc:creator>\n   </cc:Work>\n  </rdf:RDF>\n </metadata>\n <defs>\n  <style type=\"text/css\">*{stroke-linecap:butt;stroke-linejoin:round;}</style>\n </defs>\n <g id=\"figure_1\">\n  <g id=\"patch_1\">\n   <path d=\"M 0 345.04625 \nL 362.5625 345.04625 \nL 362.5625 0 \nL 0 0 \nz\n\" style=\"fill:none;\"/>\n  </g>\n  <g id=\"axes_1\">\n   <g id=\"patch_2\">\n    <path d=\"M 20.5625 224.64 \nL 355.3625 224.64 \nL 355.3625 7.2 \nL 20.5625 7.2 \nz\n\" style=\"fill:#ffffff;\"/>\n   </g>\n   <g id=\"patch_3\">\n    <path clip-path=\"url(#p7ad0ade6b2)\" d=\"M 32.519643 224.64 \nL 56.433929 224.64 \nL 56.433929 76.481115 \nL 32.519643 76.481115 \nz\n\" style=\"fill:#1f77b4;\"/>\n   </g>\n   <g id=\"patch_4\">\n    <path clip-path=\"url(#p7ad0ade6b2)\" d=\"M 80.348214 224.64 \nL 104.2625 224.64 \nL 104.2625 36.074146 \nL 80.348214 36.074146 \nz\n\" style=\"fill:#1f77b4;\"/>\n   </g>\n   <g id=\"patch_5\">\n    <path clip-path=\"url(#p7ad0ade6b2)\" d=\"M 128.176786 224.64 \nL 152.091071 224.64 \nL 152.091071 17.554286 \nL 128.176786 17.554286 \nz\n\" style=\"fill:#1f77b4;\"/>\n   </g>\n   <g id=\"patch_6\">\n    <path clip-path=\"url(#p7ad0ade6b2)\" d=\"M 176.005357 224.64 \nL 199.919643 224.64 \nL 199.919643 25.972404 \nL 176.005357 25.972404 \nz\n\" style=\"fill:#1f77b4;\"/>\n   </g>\n   <g id=\"patch_7\">\n    <path clip-path=\"url(#p7ad0ade6b2)\" d=\"M 223.833929 224.64 \nL 247.748214 224.64 \nL 247.748214 57.961254 \nL 223.833929 57.961254 \nz\n\" style=\"fill:#1f77b4;\"/>\n   </g>\n   <g id=\"patch_8\">\n    <path clip-path=\"url(#p7ad0ade6b2)\" d=\"M 271.6625 224.64 \nL 295.576786 224.64 \nL 295.576786 89.950105 \nL 271.6625 89.950105 \nz\n\" style=\"fill:#1f77b4;\"/>\n   </g>\n   <g id=\"patch_9\">\n    <path clip-path=\"url(#p7ad0ade6b2)\" d=\"M 319.491071 224.64 \nL 343.405357 224.64 \nL 343.405357 106.786341 \nL 319.491071 106.786341 \nz\n\" style=\"fill:#1f77b4;\"/>\n   </g>\n   <g id=\"matplotlib.axis_1\">\n    <g id=\"xtick_1\">\n     <g id=\"line2d_1\">\n      <defs>\n       <path d=\"M 0 0 \nL 0 3.5 \n\" id=\"m948f9c7847\" style=\"stroke:#000000;stroke-width:0.8;\"/>\n      </defs>\n      <g>\n       <use style=\"stroke:#000000;stroke-width:0.8;\" x=\"44.476786\" xlink:href=\"#m948f9c7847\" y=\"224.64\"/>\n      </g>\n     </g>\n     <g id=\"text_1\">\n      <!-- 2016-10-29 16:00:00 -->\n      <g transform=\"translate(47.236161 337.84625)rotate(-90)scale(0.1 -0.1)\">\n       <defs>\n        <path d=\"M 1228 531 \nL 3431 531 \nL 3431 0 \nL 469 0 \nL 469 531 \nQ 828 903 1448 1529 \nQ 2069 2156 2228 2338 \nQ 2531 2678 2651 2914 \nQ 2772 3150 2772 3378 \nQ 2772 3750 2511 3984 \nQ 2250 4219 1831 4219 \nQ 1534 4219 1204 4116 \nQ 875 4013 500 3803 \nL 500 4441 \nQ 881 4594 1212 4672 \nQ 1544 4750 1819 4750 \nQ 2544 4750 2975 4387 \nQ 3406 4025 3406 3419 \nQ 3406 3131 3298 2873 \nQ 3191 2616 2906 2266 \nQ 2828 2175 2409 1742 \nQ 1991 1309 1228 531 \nz\n\" id=\"DejaVuSans-32\" transform=\"scale(0.015625)\"/>\n        <path d=\"M 2034 4250 \nQ 1547 4250 1301 3770 \nQ 1056 3291 1056 2328 \nQ 1056 1369 1301 889 \nQ 1547 409 2034 409 \nQ 2525 409 2770 889 \nQ 3016 1369 3016 2328 \nQ 3016 3291 2770 3770 \nQ 2525 4250 2034 4250 \nz\nM 2034 4750 \nQ 2819 4750 3233 4129 \nQ 3647 3509 3647 2328 \nQ 3647 1150 3233 529 \nQ 2819 -91 2034 -91 \nQ 1250 -91 836 529 \nQ 422 1150 422 2328 \nQ 422 3509 836 4129 \nQ 1250 4750 2034 4750 \nz\n\" id=\"DejaVuSans-30\" transform=\"scale(0.015625)\"/>\n        <path d=\"M 794 531 \nL 1825 531 \nL 1825 4091 \nL 703 3866 \nL 703 4441 \nL 1819 4666 \nL 2450 4666 \nL 2450 531 \nL 3481 531 \nL 3481 0 \nL 794 0 \nL 794 531 \nz\n\" id=\"DejaVuSans-31\" transform=\"scale(0.015625)\"/>\n        <path d=\"M 2113 2584 \nQ 1688 2584 1439 2293 \nQ 1191 2003 1191 1497 \nQ 1191 994 1439 701 \nQ 1688 409 2113 409 \nQ 2538 409 2786 701 \nQ 3034 994 3034 1497 \nQ 3034 2003 2786 2293 \nQ 2538 2584 2113 2584 \nz\nM 3366 4563 \nL 3366 3988 \nQ 3128 4100 2886 4159 \nQ 2644 4219 2406 4219 \nQ 1781 4219 1451 3797 \nQ 1122 3375 1075 2522 \nQ 1259 2794 1537 2939 \nQ 1816 3084 2150 3084 \nQ 2853 3084 3261 2657 \nQ 3669 2231 3669 1497 \nQ 3669 778 3244 343 \nQ 2819 -91 2113 -91 \nQ 1303 -91 875 529 \nQ 447 1150 447 2328 \nQ 447 3434 972 4092 \nQ 1497 4750 2381 4750 \nQ 2619 4750 2861 4703 \nQ 3103 4656 3366 4563 \nz\n\" id=\"DejaVuSans-36\" transform=\"scale(0.015625)\"/>\n        <path d=\"M 313 2009 \nL 1997 2009 \nL 1997 1497 \nL 313 1497 \nL 313 2009 \nz\n\" id=\"DejaVuSans-2d\" transform=\"scale(0.015625)\"/>\n        <path d=\"M 703 97 \nL 703 672 \nQ 941 559 1184 500 \nQ 1428 441 1663 441 \nQ 2288 441 2617 861 \nQ 2947 1281 2994 2138 \nQ 2813 1869 2534 1725 \nQ 2256 1581 1919 1581 \nQ 1219 1581 811 2004 \nQ 403 2428 403 3163 \nQ 403 3881 828 4315 \nQ 1253 4750 1959 4750 \nQ 2769 4750 3195 4129 \nQ 3622 3509 3622 2328 \nQ 3622 1225 3098 567 \nQ 2575 -91 1691 -91 \nQ 1453 -91 1209 -44 \nQ 966 3 703 97 \nz\nM 1959 2075 \nQ 2384 2075 2632 2365 \nQ 2881 2656 2881 3163 \nQ 2881 3666 2632 3958 \nQ 2384 4250 1959 4250 \nQ 1534 4250 1286 3958 \nQ 1038 3666 1038 3163 \nQ 1038 2656 1286 2365 \nQ 1534 2075 1959 2075 \nz\n\" id=\"DejaVuSans-39\" transform=\"scale(0.015625)\"/>\n        <path id=\"DejaVuSans-20\" transform=\"scale(0.015625)\"/>\n        <path d=\"M 750 794 \nL 1409 794 \nL 1409 0 \nL 750 0 \nL 750 794 \nz\nM 750 3309 \nL 1409 3309 \nL 1409 2516 \nL 750 2516 \nL 750 3309 \nz\n\" id=\"DejaVuSans-3a\" transform=\"scale(0.015625)\"/>\n       </defs>\n       <use xlink:href=\"#DejaVuSans-32\"/>\n       <use x=\"63.623047\" xlink:href=\"#DejaVuSans-30\"/>\n       <use x=\"127.246094\" xlink:href=\"#DejaVuSans-31\"/>\n       <use x=\"190.869141\" xlink:href=\"#DejaVuSans-36\"/>\n       <use x=\"254.492188\" xlink:href=\"#DejaVuSans-2d\"/>\n       <use x=\"290.576172\" xlink:href=\"#DejaVuSans-31\"/>\n       <use x=\"354.199219\" xlink:href=\"#DejaVuSans-30\"/>\n       <use x=\"417.822266\" xlink:href=\"#DejaVuSans-2d\"/>\n       <use x=\"453.90625\" xlink:href=\"#DejaVuSans-32\"/>\n       <use x=\"517.529297\" xlink:href=\"#DejaVuSans-39\"/>\n       <use x=\"581.152344\" xlink:href=\"#DejaVuSans-20\"/>\n       <use x=\"612.939453\" xlink:href=\"#DejaVuSans-31\"/>\n       <use x=\"676.5625\" xlink:href=\"#DejaVuSans-36\"/>\n       <use x=\"740.185547\" xlink:href=\"#DejaVuSans-3a\"/>\n       <use x=\"773.876953\" xlink:href=\"#DejaVuSans-30\"/>\n       <use x=\"837.5\" xlink:href=\"#DejaVuSans-30\"/>\n       <use x=\"901.123047\" xlink:href=\"#DejaVuSans-3a\"/>\n       <use x=\"934.814453\" xlink:href=\"#DejaVuSans-30\"/>\n       <use x=\"998.4375\" xlink:href=\"#DejaVuSans-30\"/>\n      </g>\n     </g>\n    </g>\n    <g id=\"xtick_2\">\n     <g id=\"line2d_2\">\n      <g>\n       <use style=\"stroke:#000000;stroke-width:0.8;\" x=\"92.305357\" xlink:href=\"#m948f9c7847\" y=\"224.64\"/>\n      </g>\n     </g>\n     <g id=\"text_2\">\n      <!-- 2016-10-29 18:00:00 -->\n      <g transform=\"translate(95.064732 337.84625)rotate(-90)scale(0.1 -0.1)\">\n       <defs>\n        <path d=\"M 2034 2216 \nQ 1584 2216 1326 1975 \nQ 1069 1734 1069 1313 \nQ 1069 891 1326 650 \nQ 1584 409 2034 409 \nQ 2484 409 2743 651 \nQ 3003 894 3003 1313 \nQ 3003 1734 2745 1975 \nQ 2488 2216 2034 2216 \nz\nM 1403 2484 \nQ 997 2584 770 2862 \nQ 544 3141 544 3541 \nQ 544 4100 942 4425 \nQ 1341 4750 2034 4750 \nQ 2731 4750 3128 4425 \nQ 3525 4100 3525 3541 \nQ 3525 3141 3298 2862 \nQ 3072 2584 2669 2484 \nQ 3125 2378 3379 2068 \nQ 3634 1759 3634 1313 \nQ 3634 634 3220 271 \nQ 2806 -91 2034 -91 \nQ 1263 -91 848 271 \nQ 434 634 434 1313 \nQ 434 1759 690 2068 \nQ 947 2378 1403 2484 \nz\nM 1172 3481 \nQ 1172 3119 1398 2916 \nQ 1625 2713 2034 2713 \nQ 2441 2713 2670 2916 \nQ 2900 3119 2900 3481 \nQ 2900 3844 2670 4047 \nQ 2441 4250 2034 4250 \nQ 1625 4250 1398 4047 \nQ 1172 3844 1172 3481 \nz\n\" id=\"DejaVuSans-38\" transform=\"scale(0.015625)\"/>\n       </defs>\n       <use xlink:href=\"#DejaVuSans-32\"/>\n       <use x=\"63.623047\" xlink:href=\"#DejaVuSans-30\"/>\n       <use x=\"127.246094\" xlink:href=\"#DejaVuSans-31\"/>\n       <use x=\"190.869141\" xlink:href=\"#DejaVuSans-36\"/>\n       <use x=\"254.492188\" xlink:href=\"#DejaVuSans-2d\"/>\n       <use x=\"290.576172\" xlink:href=\"#DejaVuSans-31\"/>\n       <use x=\"354.199219\" xlink:href=\"#DejaVuSans-30\"/>\n       <use x=\"417.822266\" xlink:href=\"#DejaVuSans-2d\"/>\n       <use x=\"453.90625\" xlink:href=\"#DejaVuSans-32\"/>\n       <use x=\"517.529297\" xlink:href=\"#DejaVuSans-39\"/>\n       <use x=\"581.152344\" xlink:href=\"#DejaVuSans-20\"/>\n       <use x=\"612.939453\" xlink:href=\"#DejaVuSans-31\"/>\n       <use x=\"676.5625\" xlink:href=\"#DejaVuSans-38\"/>\n       <use x=\"740.185547\" xlink:href=\"#DejaVuSans-3a\"/>\n       <use x=\"773.876953\" xlink:href=\"#DejaVuSans-30\"/>\n       <use x=\"837.5\" xlink:href=\"#DejaVuSans-30\"/>\n       <use x=\"901.123047\" xlink:href=\"#DejaVuSans-3a\"/>\n       <use x=\"934.814453\" xlink:href=\"#DejaVuSans-30\"/>\n       <use x=\"998.4375\" xlink:href=\"#DejaVuSans-30\"/>\n      </g>\n     </g>\n    </g>\n    <g id=\"xtick_3\">\n     <g id=\"line2d_3\">\n      <g>\n       <use style=\"stroke:#000000;stroke-width:0.8;\" x=\"140.133929\" xlink:href=\"#m948f9c7847\" y=\"224.64\"/>\n      </g>\n     </g>\n     <g id=\"text_3\">\n      <!-- 2016-10-29 20:00:00 -->\n      <g transform=\"translate(142.893304 337.84625)rotate(-90)scale(0.1 -0.1)\">\n       <use xlink:href=\"#DejaVuSans-32\"/>\n       <use x=\"63.623047\" xlink:href=\"#DejaVuSans-30\"/>\n       <use x=\"127.246094\" xlink:href=\"#DejaVuSans-31\"/>\n       <use x=\"190.869141\" xlink:href=\"#DejaVuSans-36\"/>\n       <use x=\"254.492188\" xlink:href=\"#DejaVuSans-2d\"/>\n       <use x=\"290.576172\" xlink:href=\"#DejaVuSans-31\"/>\n       <use x=\"354.199219\" xlink:href=\"#DejaVuSans-30\"/>\n       <use x=\"417.822266\" xlink:href=\"#DejaVuSans-2d\"/>\n       <use x=\"453.90625\" xlink:href=\"#DejaVuSans-32\"/>\n       <use x=\"517.529297\" xlink:href=\"#DejaVuSans-39\"/>\n       <use x=\"581.152344\" xlink:href=\"#DejaVuSans-20\"/>\n       <use x=\"612.939453\" xlink:href=\"#DejaVuSans-32\"/>\n       <use x=\"676.5625\" xlink:href=\"#DejaVuSans-30\"/>\n       <use x=\"740.185547\" xlink:href=\"#DejaVuSans-3a\"/>\n       <use x=\"773.876953\" xlink:href=\"#DejaVuSans-30\"/>\n       <use x=\"837.5\" xlink:href=\"#DejaVuSans-30\"/>\n       <use x=\"901.123047\" xlink:href=\"#DejaVuSans-3a\"/>\n       <use x=\"934.814453\" xlink:href=\"#DejaVuSans-30\"/>\n       <use x=\"998.4375\" xlink:href=\"#DejaVuSans-30\"/>\n      </g>\n     </g>\n    </g>\n    <g id=\"xtick_4\">\n     <g id=\"line2d_4\">\n      <g>\n       <use style=\"stroke:#000000;stroke-width:0.8;\" x=\"187.9625\" xlink:href=\"#m948f9c7847\" y=\"224.64\"/>\n      </g>\n     </g>\n     <g id=\"text_4\">\n      <!-- 2016-10-29 22:00:00 -->\n      <g transform=\"translate(190.721875 337.84625)rotate(-90)scale(0.1 -0.1)\">\n       <use xlink:href=\"#DejaVuSans-32\"/>\n       <use x=\"63.623047\" xlink:href=\"#DejaVuSans-30\"/>\n       <use x=\"127.246094\" xlink:href=\"#DejaVuSans-31\"/>\n       <use x=\"190.869141\" xlink:href=\"#DejaVuSans-36\"/>\n       <use x=\"254.492188\" xlink:href=\"#DejaVuSans-2d\"/>\n       <use x=\"290.576172\" xlink:href=\"#DejaVuSans-31\"/>\n       <use x=\"354.199219\" xlink:href=\"#DejaVuSans-30\"/>\n       <use x=\"417.822266\" xlink:href=\"#DejaVuSans-2d\"/>\n       <use x=\"453.90625\" xlink:href=\"#DejaVuSans-32\"/>\n       <use x=\"517.529297\" xlink:href=\"#DejaVuSans-39\"/>\n       <use x=\"581.152344\" xlink:href=\"#DejaVuSans-20\"/>\n       <use x=\"612.939453\" xlink:href=\"#DejaVuSans-32\"/>\n       <use x=\"676.5625\" xlink:href=\"#DejaVuSans-32\"/>\n       <use x=\"740.185547\" xlink:href=\"#DejaVuSans-3a\"/>\n       <use x=\"773.876953\" xlink:href=\"#DejaVuSans-30\"/>\n       <use x=\"837.5\" xlink:href=\"#DejaVuSans-30\"/>\n       <use x=\"901.123047\" xlink:href=\"#DejaVuSans-3a\"/>\n       <use x=\"934.814453\" xlink:href=\"#DejaVuSans-30\"/>\n       <use x=\"998.4375\" xlink:href=\"#DejaVuSans-30\"/>\n      </g>\n     </g>\n    </g>\n    <g id=\"xtick_5\">\n     <g id=\"line2d_5\">\n      <g>\n       <use style=\"stroke:#000000;stroke-width:0.8;\" x=\"235.791071\" xlink:href=\"#m948f9c7847\" y=\"224.64\"/>\n      </g>\n     </g>\n     <g id=\"text_5\">\n      <!-- 2016-10-30 00:00:00 -->\n      <g transform=\"translate(238.550446 337.84625)rotate(-90)scale(0.1 -0.1)\">\n       <defs>\n        <path d=\"M 2597 2516 \nQ 3050 2419 3304 2112 \nQ 3559 1806 3559 1356 \nQ 3559 666 3084 287 \nQ 2609 -91 1734 -91 \nQ 1441 -91 1130 -33 \nQ 819 25 488 141 \nL 488 750 \nQ 750 597 1062 519 \nQ 1375 441 1716 441 \nQ 2309 441 2620 675 \nQ 2931 909 2931 1356 \nQ 2931 1769 2642 2001 \nQ 2353 2234 1838 2234 \nL 1294 2234 \nL 1294 2753 \nL 1863 2753 \nQ 2328 2753 2575 2939 \nQ 2822 3125 2822 3475 \nQ 2822 3834 2567 4026 \nQ 2313 4219 1838 4219 \nQ 1578 4219 1281 4162 \nQ 984 4106 628 3988 \nL 628 4550 \nQ 988 4650 1302 4700 \nQ 1616 4750 1894 4750 \nQ 2613 4750 3031 4423 \nQ 3450 4097 3450 3541 \nQ 3450 3153 3228 2886 \nQ 3006 2619 2597 2516 \nz\n\" id=\"DejaVuSans-33\" transform=\"scale(0.015625)\"/>\n       </defs>\n       <use xlink:href=\"#DejaVuSans-32\"/>\n       <use x=\"63.623047\" xlink:href=\"#DejaVuSans-30\"/>\n       <use x=\"127.246094\" xlink:href=\"#DejaVuSans-31\"/>\n       <use x=\"190.869141\" xlink:href=\"#DejaVuSans-36\"/>\n       <use x=\"254.492188\" xlink:href=\"#DejaVuSans-2d\"/>\n       <use x=\"290.576172\" xlink:href=\"#DejaVuSans-31\"/>\n       <use x=\"354.199219\" xlink:href=\"#DejaVuSans-30\"/>\n       <use x=\"417.822266\" xlink:href=\"#DejaVuSans-2d\"/>\n       <use x=\"453.90625\" xlink:href=\"#DejaVuSans-33\"/>\n       <use x=\"517.529297\" xlink:href=\"#DejaVuSans-30\"/>\n       <use x=\"581.152344\" xlink:href=\"#DejaVuSans-20\"/>\n       <use x=\"612.939453\" xlink:href=\"#DejaVuSans-30\"/>\n       <use x=\"676.5625\" xlink:href=\"#DejaVuSans-30\"/>\n       <use x=\"740.185547\" xlink:href=\"#DejaVuSans-3a\"/>\n       <use x=\"773.876953\" xlink:href=\"#DejaVuSans-30\"/>\n       <use x=\"837.5\" xlink:href=\"#DejaVuSans-30\"/>\n       <use x=\"901.123047\" xlink:href=\"#DejaVuSans-3a\"/>\n       <use x=\"934.814453\" xlink:href=\"#DejaVuSans-30\"/>\n       <use x=\"998.4375\" xlink:href=\"#DejaVuSans-30\"/>\n      </g>\n     </g>\n    </g>\n    <g id=\"xtick_6\">\n     <g id=\"line2d_6\">\n      <g>\n       <use style=\"stroke:#000000;stroke-width:0.8;\" x=\"283.619643\" xlink:href=\"#m948f9c7847\" y=\"224.64\"/>\n      </g>\n     </g>\n     <g id=\"text_6\">\n      <!-- 2016-10-30 02:00:00 -->\n      <g transform=\"translate(286.379018 337.84625)rotate(-90)scale(0.1 -0.1)\">\n       <use xlink:href=\"#DejaVuSans-32\"/>\n       <use x=\"63.623047\" xlink:href=\"#DejaVuSans-30\"/>\n       <use x=\"127.246094\" xlink:href=\"#DejaVuSans-31\"/>\n       <use x=\"190.869141\" xlink:href=\"#DejaVuSans-36\"/>\n       <use x=\"254.492188\" xlink:href=\"#DejaVuSans-2d\"/>\n       <use x=\"290.576172\" xlink:href=\"#DejaVuSans-31\"/>\n       <use x=\"354.199219\" xlink:href=\"#DejaVuSans-30\"/>\n       <use x=\"417.822266\" xlink:href=\"#DejaVuSans-2d\"/>\n       <use x=\"453.90625\" xlink:href=\"#DejaVuSans-33\"/>\n       <use x=\"517.529297\" xlink:href=\"#DejaVuSans-30\"/>\n       <use x=\"581.152344\" xlink:href=\"#DejaVuSans-20\"/>\n       <use x=\"612.939453\" xlink:href=\"#DejaVuSans-30\"/>\n       <use x=\"676.5625\" xlink:href=\"#DejaVuSans-32\"/>\n       <use x=\"740.185547\" xlink:href=\"#DejaVuSans-3a\"/>\n       <use x=\"773.876953\" xlink:href=\"#DejaVuSans-30\"/>\n       <use x=\"837.5\" xlink:href=\"#DejaVuSans-30\"/>\n       <use x=\"901.123047\" xlink:href=\"#DejaVuSans-3a\"/>\n       <use x=\"934.814453\" xlink:href=\"#DejaVuSans-30\"/>\n       <use x=\"998.4375\" xlink:href=\"#DejaVuSans-30\"/>\n      </g>\n     </g>\n    </g>\n    <g id=\"xtick_7\">\n     <g id=\"line2d_7\">\n      <g>\n       <use style=\"stroke:#000000;stroke-width:0.8;\" x=\"331.448214\" xlink:href=\"#m948f9c7847\" y=\"224.64\"/>\n      </g>\n     </g>\n     <g id=\"text_7\">\n      <!-- 2016-10-30 04:00:00 -->\n      <g transform=\"translate(334.207589 337.84625)rotate(-90)scale(0.1 -0.1)\">\n       <defs>\n        <path d=\"M 2419 4116 \nL 825 1625 \nL 2419 1625 \nL 2419 4116 \nz\nM 2253 4666 \nL 3047 4666 \nL 3047 1625 \nL 3713 1625 \nL 3713 1100 \nL 3047 1100 \nL 3047 0 \nL 2419 0 \nL 2419 1100 \nL 313 1100 \nL 313 1709 \nL 2253 4666 \nz\n\" id=\"DejaVuSans-34\" transform=\"scale(0.015625)\"/>\n       </defs>\n       <use xlink:href=\"#DejaVuSans-32\"/>\n       <use x=\"63.623047\" xlink:href=\"#DejaVuSans-30\"/>\n       <use x=\"127.246094\" xlink:href=\"#DejaVuSans-31\"/>\n       <use x=\"190.869141\" xlink:href=\"#DejaVuSans-36\"/>\n       <use x=\"254.492188\" xlink:href=\"#DejaVuSans-2d\"/>\n       <use x=\"290.576172\" xlink:href=\"#DejaVuSans-31\"/>\n       <use x=\"354.199219\" xlink:href=\"#DejaVuSans-30\"/>\n       <use x=\"417.822266\" xlink:href=\"#DejaVuSans-2d\"/>\n       <use x=\"453.90625\" xlink:href=\"#DejaVuSans-33\"/>\n       <use x=\"517.529297\" xlink:href=\"#DejaVuSans-30\"/>\n       <use x=\"581.152344\" xlink:href=\"#DejaVuSans-20\"/>\n       <use x=\"612.939453\" xlink:href=\"#DejaVuSans-30\"/>\n       <use x=\"676.5625\" xlink:href=\"#DejaVuSans-34\"/>\n       <use x=\"740.185547\" xlink:href=\"#DejaVuSans-3a\"/>\n       <use x=\"773.876953\" xlink:href=\"#DejaVuSans-30\"/>\n       <use x=\"837.5\" xlink:href=\"#DejaVuSans-30\"/>\n       <use x=\"901.123047\" xlink:href=\"#DejaVuSans-3a\"/>\n       <use x=\"934.814453\" xlink:href=\"#DejaVuSans-30\"/>\n       <use x=\"998.4375\" xlink:href=\"#DejaVuSans-30\"/>\n      </g>\n     </g>\n    </g>\n   </g>\n   <g id=\"matplotlib.axis_2\">\n    <g id=\"ytick_1\">\n     <g id=\"line2d_8\">\n      <defs>\n       <path d=\"M 0 0 \nL -3.5 0 \n\" id=\"mb506064fcd\" style=\"stroke:#000000;stroke-width:0.8;\"/>\n      </defs>\n      <g>\n       <use style=\"stroke:#000000;stroke-width:0.8;\" x=\"20.5625\" xlink:href=\"#mb506064fcd\" y=\"224.64\"/>\n      </g>\n     </g>\n     <g id=\"text_8\">\n      <!-- 0 -->\n      <g transform=\"translate(7.2 228.439219)scale(0.1 -0.1)\">\n       <use xlink:href=\"#DejaVuSans-30\"/>\n      </g>\n     </g>\n    </g>\n    <g id=\"ytick_2\">\n     <g id=\"line2d_9\">\n      <g>\n       <use style=\"stroke:#000000;stroke-width:0.8;\" x=\"20.5625\" xlink:href=\"#mb506064fcd\" y=\"190.967526\"/>\n      </g>\n     </g>\n     <g id=\"text_9\">\n      <!-- 1 -->\n      <g transform=\"translate(7.2 194.766745)scale(0.1 -0.1)\">\n       <use xlink:href=\"#DejaVuSans-31\"/>\n      </g>\n     </g>\n    </g>\n    <g id=\"ytick_3\">\n     <g id=\"line2d_10\">\n      <g>\n       <use style=\"stroke:#000000;stroke-width:0.8;\" x=\"20.5625\" xlink:href=\"#mb506064fcd\" y=\"157.295052\"/>\n      </g>\n     </g>\n     <g id=\"text_10\">\n      <!-- 2 -->\n      <g transform=\"translate(7.2 161.094271)scale(0.1 -0.1)\">\n       <use xlink:href=\"#DejaVuSans-32\"/>\n      </g>\n     </g>\n    </g>\n    <g id=\"ytick_4\">\n     <g id=\"line2d_11\">\n      <g>\n       <use style=\"stroke:#000000;stroke-width:0.8;\" x=\"20.5625\" xlink:href=\"#mb506064fcd\" y=\"123.622578\"/>\n      </g>\n     </g>\n     <g id=\"text_11\">\n      <!-- 3 -->\n      <g transform=\"translate(7.2 127.421797)scale(0.1 -0.1)\">\n       <use xlink:href=\"#DejaVuSans-33\"/>\n      </g>\n     </g>\n    </g>\n    <g id=\"ytick_5\">\n     <g id=\"line2d_12\">\n      <g>\n       <use style=\"stroke:#000000;stroke-width:0.8;\" x=\"20.5625\" xlink:href=\"#mb506064fcd\" y=\"89.950105\"/>\n      </g>\n     </g>\n     <g id=\"text_12\">\n      <!-- 4 -->\n      <g transform=\"translate(7.2 93.749323)scale(0.1 -0.1)\">\n       <use xlink:href=\"#DejaVuSans-34\"/>\n      </g>\n     </g>\n    </g>\n    <g id=\"ytick_6\">\n     <g id=\"line2d_13\">\n      <g>\n       <use style=\"stroke:#000000;stroke-width:0.8;\" x=\"20.5625\" xlink:href=\"#mb506064fcd\" y=\"56.277631\"/>\n      </g>\n     </g>\n     <g id=\"text_13\">\n      <!-- 5 -->\n      <g transform=\"translate(7.2 60.076849)scale(0.1 -0.1)\">\n       <defs>\n        <path d=\"M 691 4666 \nL 3169 4666 \nL 3169 4134 \nL 1269 4134 \nL 1269 2991 \nQ 1406 3038 1543 3061 \nQ 1681 3084 1819 3084 \nQ 2600 3084 3056 2656 \nQ 3513 2228 3513 1497 \nQ 3513 744 3044 326 \nQ 2575 -91 1722 -91 \nQ 1428 -91 1123 -41 \nQ 819 9 494 109 \nL 494 744 \nQ 775 591 1075 516 \nQ 1375 441 1709 441 \nQ 2250 441 2565 725 \nQ 2881 1009 2881 1497 \nQ 2881 1984 2565 2268 \nQ 2250 2553 1709 2553 \nQ 1456 2553 1204 2497 \nQ 953 2441 691 2322 \nL 691 4666 \nz\n\" id=\"DejaVuSans-35\" transform=\"scale(0.015625)\"/>\n       </defs>\n       <use xlink:href=\"#DejaVuSans-35\"/>\n      </g>\n     </g>\n    </g>\n    <g id=\"ytick_7\">\n     <g id=\"line2d_14\">\n      <g>\n       <use style=\"stroke:#000000;stroke-width:0.8;\" x=\"20.5625\" xlink:href=\"#mb506064fcd\" y=\"22.605157\"/>\n      </g>\n     </g>\n     <g id=\"text_14\">\n      <!-- 6 -->\n      <g transform=\"translate(7.2 26.404376)scale(0.1 -0.1)\">\n       <use xlink:href=\"#DejaVuSans-36\"/>\n      </g>\n     </g>\n    </g>\n   </g>\n   <g id=\"patch_10\">\n    <path d=\"M 20.5625 224.64 \nL 20.5625 7.2 \n\" style=\"fill:none;stroke:#000000;stroke-linecap:square;stroke-linejoin:miter;stroke-width:0.8;\"/>\n   </g>\n   <g id=\"patch_11\">\n    <path d=\"M 355.3625 224.64 \nL 355.3625 7.2 \n\" style=\"fill:none;stroke:#000000;stroke-linecap:square;stroke-linejoin:miter;stroke-width:0.8;\"/>\n   </g>\n   <g id=\"patch_12\">\n    <path d=\"M 20.5625 224.64 \nL 355.3625 224.64 \n\" style=\"fill:none;stroke:#000000;stroke-linecap:square;stroke-linejoin:miter;stroke-width:0.8;\"/>\n   </g>\n   <g id=\"patch_13\">\n    <path d=\"M 20.5625 7.2 \nL 355.3625 7.2 \n\" style=\"fill:none;stroke:#000000;stroke-linecap:square;stroke-linejoin:miter;stroke-width:0.8;\"/>\n   </g>\n  </g>\n </g>\n <defs>\n  <clipPath id=\"p7ad0ade6b2\">\n   <rect height=\"217.44\" width=\"334.8\" x=\"20.5625\" y=\"7.2\"/>\n  </clipPath>\n </defs>\n</svg>\n",
      "image/png": "[encoded data removed]"
     },
     "metadata": {
      "needs_background": "light"
     }
    }
   ],
   "source": [
    "temp_series_freq_2H.plot(kind=\"bar\")\n",
    "plt.show()"
   ]
  },
  {
   "cell_type": "markdown",
   "metadata": {},
   "source": [
    "Note how the values have automatically been aggregated into 2-hour periods. If we look at the 6-8pm period, for example, we had a value of `5.1` at 6:30pm, and `6.1` at 7:30pm. After resampling, we just have one value of `5.6`, which is the mean of `5.1` and `6.1`. Rather than computing the mean, we could have used any other aggregation function, for example we can decide to keep the minimum value of each period:"
   ]
  },
  {
   "cell_type": "code",
   "execution_count": 30,
   "metadata": {},
   "outputs": [
    {
     "output_type": "execute_result",
     "data": {
      "text/plain": [
       "2016-10-29 16:00:00    4.4\n",
       "2016-10-29 18:00:00    5.1\n",
       "2016-10-29 20:00:00    6.1\n",
       "2016-10-29 22:00:00    5.7\n",
       "2016-10-30 00:00:00    4.7\n",
       "2016-10-30 02:00:00    3.9\n",
       "2016-10-30 04:00:00    3.5\n",
       "Freq: 2H, dtype: float64"
      ]
     },
     "metadata": {},
     "execution_count": 30
    }
   ],
   "source": [
    "temp_series_freq_2H = temp_series.resample(\"2H\").min()\n",
    "temp_series_freq_2H"
   ]
  },
  {
   "cell_type": "markdown",
   "metadata": {},
   "source": [
    "Or, equivalently, we could use the `apply()` method instead:"
   ]
  },
  {
   "cell_type": "code",
   "execution_count": 31,
   "metadata": {},
   "outputs": [
    {
     "output_type": "execute_result",
     "data": {
      "text/plain": [
       "2016-10-29 16:00:00    4.4\n",
       "2016-10-29 18:00:00    5.1\n",
       "2016-10-29 20:00:00    6.1\n",
       "2016-10-29 22:00:00    5.7\n",
       "2016-10-30 00:00:00    4.7\n",
       "2016-10-30 02:00:00    3.9\n",
       "2016-10-30 04:00:00    3.5\n",
       "Freq: 2H, dtype: float64"
      ]
     },
     "metadata": {},
     "execution_count": 31
    }
   ],
   "source": [
    "temp_series_freq_2H = temp_series.resample(\"2H\").apply(np.min)\n",
    "temp_series_freq_2H"
   ]
  },
  {
   "cell_type": "markdown",
   "metadata": {},
   "source": [
    "## Upsampling and interpolation\n",
    "This was an example of downsampling. We can also upsample (ie. increase the frequency), but this creates holes in our data:"
   ]
  },
  {
   "cell_type": "code",
   "execution_count": 32,
   "metadata": {},
   "outputs": [
    {
     "output_type": "execute_result",
     "data": {
      "text/plain": [
       "2016-10-29 17:30:00    4.4\n",
       "2016-10-29 17:45:00    NaN\n",
       "2016-10-29 18:00:00    NaN\n",
       "2016-10-29 18:15:00    NaN\n",
       "2016-10-29 18:30:00    5.1\n",
       "2016-10-29 18:45:00    NaN\n",
       "2016-10-29 19:00:00    NaN\n",
       "2016-10-29 19:15:00    NaN\n",
       "2016-10-29 19:30:00    6.1\n",
       "2016-10-29 19:45:00    NaN\n",
       "Freq: 15T, dtype: float64"
      ]
     },
     "metadata": {},
     "execution_count": 32
    }
   ],
   "source": [
    "temp_series_freq_15min = temp_series.resample(\"15Min\").mean()\n",
    "temp_series_freq_15min.head(n=10)  # `head` displays the top n values"
   ]
  },
  {
   "cell_type": "markdown",
   "metadata": {},
   "source": [
    "One solution is to fill the gaps by interpolating. We just call the `interpolate()` method. The default is to use linear interpolation, but we can also select another method, such as cubic interpolation:"
   ]
  },
  {
   "cell_type": "code",
   "execution_count": 33,
   "metadata": {
    "scrolled": true
   },
   "outputs": [
    {
     "output_type": "execute_result",
     "data": {
      "text/plain": [
       "2016-10-29 17:30:00    4.400000\n",
       "2016-10-29 17:45:00    4.452911\n",
       "2016-10-29 18:00:00    4.605113\n",
       "2016-10-29 18:15:00    4.829758\n",
       "2016-10-29 18:30:00    5.100000\n",
       "2016-10-29 18:45:00    5.388992\n",
       "2016-10-29 19:00:00    5.669887\n",
       "2016-10-29 19:15:00    5.915839\n",
       "2016-10-29 19:30:00    6.100000\n",
       "2016-10-29 19:45:00    6.203621\n",
       "Freq: 15T, dtype: float64"
      ]
     },
     "metadata": {},
     "execution_count": 33
    }
   ],
   "source": [
    "temp_series_freq_15min = temp_series.resample(\"15Min\").interpolate(\n",
    "    method=\"cubic\")\n",
    "temp_series_freq_15min.head(n=10)"
   ]
  },
  {
   "cell_type": "code",
   "execution_count": 34,
   "metadata": {},
   "outputs": [
    {
     "output_type": "display_data",
     "data": {
      "text/plain": "<Figure size 432x288 with 1 Axes>",
      "image/svg+xml": "<?xml version=\"1.0\" encoding=\"utf-8\" standalone=\"no\"?>\n<!DOCTYPE svg PUBLIC \"-//W3C//DTD SVG 1.1//EN\"\n  \"http://www.w3.org/Graphics/SVG/1.1/DTD/svg11.dtd\">\n<svg height=\"248.101971pt\" version=\"1.1\" viewBox=\"0 0 372.103125 248.101971\" width=\"372.103125pt\" xmlns=\"http://www.w3.org/2000/svg\" xmlns:xlink=\"http://www.w3.org/1999/xlink\">\n <metadata>\n  <rdf:RDF xmlns:cc=\"http://creativecommons.org/ns#\" xmlns:dc=\"http://purl.org/dc/elements/1.1/\" xmlns:rdf=\"http://www.w3.org/1999/02/22-rdf-syntax-ns#\">\n   <cc:Work>\n    <dc:type rdf:resource=\"http://purl.org/dc/dcmitype/StillImage\"/>\n    <dc:date>2021-05-14T08:48:45.453133</dc:date>\n    <dc:format>image/svg+xml</dc:format>\n    <dc:creator>\n     <cc:Agent>\n      <dc:title>Matplotlib v3.4.2, https://matplotlib.org/</dc:title>\n     </cc:Agent>\n    </dc:creator>\n   </cc:Work>\n  </rdf:RDF>\n </metadata>\n <defs>\n  <style type=\"text/css\">*{stroke-linecap:butt;stroke-linejoin:round;}</style>\n </defs>\n <g id=\"figure_1\">\n  <g id=\"patch_1\">\n   <path d=\"M 0 248.101971 \nL 372.103125 248.101971 \nL 372.103125 0 \nL 0 0 \nz\n\" style=\"fill:none;\"/>\n  </g>\n  <g id=\"axes_1\">\n   <g id=\"patch_2\">\n    <path d=\"M 30.103125 203.04 \nL 364.903125 203.04 \nL 364.903125 7.2 \nL 30.103125 7.2 \nz\n\" style=\"fill:#ffffff;\"/>\n   </g>\n   <g id=\"matplotlib.axis_1\">\n    <g id=\"xtick_1\">\n     <g id=\"line2d_1\">\n      <defs>\n       <path d=\"M 0 0 \nL 0 3.5 \n\" id=\"m58d011bb47\" style=\"stroke:#000000;stroke-width:0.8;\"/>\n      </defs>\n      <g>\n       <use style=\"stroke:#000000;stroke-width:0.8;\" x=\"59.156018\" xlink:href=\"#m58d011bb47\" y=\"203.04\"/>\n      </g>\n     </g>\n     <g id=\"text_1\">\n      <!-- 10-29 18 -->\n      <g transform=\"translate(19.17886 239.100909)rotate(-30)scale(0.1 -0.1)\">\n       <defs>\n        <path d=\"M 794 531 \nL 1825 531 \nL 1825 4091 \nL 703 3866 \nL 703 4441 \nL 1819 4666 \nL 2450 4666 \nL 2450 531 \nL 3481 531 \nL 3481 0 \nL 794 0 \nL 794 531 \nz\n\" id=\"DejaVuSans-31\" transform=\"scale(0.015625)\"/>\n        <path d=\"M 2034 4250 \nQ 1547 4250 1301 3770 \nQ 1056 3291 1056 2328 \nQ 1056 1369 1301 889 \nQ 1547 409 2034 409 \nQ 2525 409 2770 889 \nQ 3016 1369 3016 2328 \nQ 3016 3291 2770 3770 \nQ 2525 4250 2034 4250 \nz\nM 2034 4750 \nQ 2819 4750 3233 4129 \nQ 3647 3509 3647 2328 \nQ 3647 1150 3233 529 \nQ 2819 -91 2034 -91 \nQ 1250 -91 836 529 \nQ 422 1150 422 2328 \nQ 422 3509 836 4129 \nQ 1250 4750 2034 4750 \nz\n\" id=\"DejaVuSans-30\" transform=\"scale(0.015625)\"/>\n        <path d=\"M 313 2009 \nL 1997 2009 \nL 1997 1497 \nL 313 1497 \nL 313 2009 \nz\n\" id=\"DejaVuSans-2d\" transform=\"scale(0.015625)\"/>\n        <path d=\"M 1228 531 \nL 3431 531 \nL 3431 0 \nL 469 0 \nL 469 531 \nQ 828 903 1448 1529 \nQ 2069 2156 2228 2338 \nQ 2531 2678 2651 2914 \nQ 2772 3150 2772 3378 \nQ 2772 3750 2511 3984 \nQ 2250 4219 1831 4219 \nQ 1534 4219 1204 4116 \nQ 875 4013 500 3803 \nL 500 4441 \nQ 881 4594 1212 4672 \nQ 1544 4750 1819 4750 \nQ 2544 4750 2975 4387 \nQ 3406 4025 3406 3419 \nQ 3406 3131 3298 2873 \nQ 3191 2616 2906 2266 \nQ 2828 2175 2409 1742 \nQ 1991 1309 1228 531 \nz\n\" id=\"DejaVuSans-32\" transform=\"scale(0.015625)\"/>\n        <path d=\"M 703 97 \nL 703 672 \nQ 941 559 1184 500 \nQ 1428 441 1663 441 \nQ 2288 441 2617 861 \nQ 2947 1281 2994 2138 \nQ 2813 1869 2534 1725 \nQ 2256 1581 1919 1581 \nQ 1219 1581 811 2004 \nQ 403 2428 403 3163 \nQ 403 3881 828 4315 \nQ 1253 4750 1959 4750 \nQ 2769 4750 3195 4129 \nQ 3622 3509 3622 2328 \nQ 3622 1225 3098 567 \nQ 2575 -91 1691 -91 \nQ 1453 -91 1209 -44 \nQ 966 3 703 97 \nz\nM 1959 2075 \nQ 2384 2075 2632 2365 \nQ 2881 2656 2881 3163 \nQ 2881 3666 2632 3958 \nQ 2384 4250 1959 4250 \nQ 1534 4250 1286 3958 \nQ 1038 3666 1038 3163 \nQ 1038 2656 1286 2365 \nQ 1534 2075 1959 2075 \nz\n\" id=\"DejaVuSans-39\" transform=\"scale(0.015625)\"/>\n        <path id=\"DejaVuSans-20\" transform=\"scale(0.015625)\"/>\n        <path d=\"M 2034 2216 \nQ 1584 2216 1326 1975 \nQ 1069 1734 1069 1313 \nQ 1069 891 1326 650 \nQ 1584 409 2034 409 \nQ 2484 409 2743 651 \nQ 3003 894 3003 1313 \nQ 3003 1734 2745 1975 \nQ 2488 2216 2034 2216 \nz\nM 1403 2484 \nQ 997 2584 770 2862 \nQ 544 3141 544 3541 \nQ 544 4100 942 4425 \nQ 1341 4750 2034 4750 \nQ 2731 4750 3128 4425 \nQ 3525 4100 3525 3541 \nQ 3525 3141 3298 2862 \nQ 3072 2584 2669 2484 \nQ 3125 2378 3379 2068 \nQ 3634 1759 3634 1313 \nQ 3634 634 3220 271 \nQ 2806 -91 2034 -91 \nQ 1263 -91 848 271 \nQ 434 634 434 1313 \nQ 434 1759 690 2068 \nQ 947 2378 1403 2484 \nz\nM 1172 3481 \nQ 1172 3119 1398 2916 \nQ 1625 2713 2034 2713 \nQ 2441 2713 2670 2916 \nQ 2900 3119 2900 3481 \nQ 2900 3844 2670 4047 \nQ 2441 4250 2034 4250 \nQ 1625 4250 1398 4047 \nQ 1172 3844 1172 3481 \nz\n\" id=\"DejaVuSans-38\" transform=\"scale(0.015625)\"/>\n       </defs>\n       <use xlink:href=\"#DejaVuSans-31\"/>\n       <use x=\"63.623047\" xlink:href=\"#DejaVuSans-30\"/>\n       <use x=\"127.246094\" xlink:href=\"#DejaVuSans-2d\"/>\n       <use x=\"163.330078\" xlink:href=\"#DejaVuSans-32\"/>\n       <use x=\"226.953125\" xlink:href=\"#DejaVuSans-39\"/>\n       <use x=\"290.576172\" xlink:href=\"#DejaVuSans-20\"/>\n       <use x=\"322.363281\" xlink:href=\"#DejaVuSans-31\"/>\n       <use x=\"385.986328\" xlink:href=\"#DejaVuSans-38\"/>\n      </g>\n     </g>\n    </g>\n    <g id=\"xtick_2\">\n     <g id=\"line2d_2\">\n      <g>\n       <use style=\"stroke:#000000;stroke-width:0.8;\" x=\"114.494861\" xlink:href=\"#m58d011bb47\" y=\"203.04\"/>\n      </g>\n     </g>\n     <g id=\"text_2\">\n      <!-- 10-29 20 -->\n      <g transform=\"translate(74.517703 239.100909)rotate(-30)scale(0.1 -0.1)\">\n       <use xlink:href=\"#DejaVuSans-31\"/>\n       <use x=\"63.623047\" xlink:href=\"#DejaVuSans-30\"/>\n       <use x=\"127.246094\" xlink:href=\"#DejaVuSans-2d\"/>\n       <use x=\"163.330078\" xlink:href=\"#DejaVuSans-32\"/>\n       <use x=\"226.953125\" xlink:href=\"#DejaVuSans-39\"/>\n       <use x=\"290.576172\" xlink:href=\"#DejaVuSans-20\"/>\n       <use x=\"322.363281\" xlink:href=\"#DejaVuSans-32\"/>\n       <use x=\"385.986328\" xlink:href=\"#DejaVuSans-30\"/>\n      </g>\n     </g>\n    </g>\n    <g id=\"xtick_3\">\n     <g id=\"line2d_3\">\n      <g>\n       <use style=\"stroke:#000000;stroke-width:0.8;\" x=\"169.833704\" xlink:href=\"#m58d011bb47\" y=\"203.04\"/>\n      </g>\n     </g>\n     <g id=\"text_3\">\n      <!-- 10-29 22 -->\n      <g transform=\"translate(129.856546 239.100909)rotate(-30)scale(0.1 -0.1)\">\n       <use xlink:href=\"#DejaVuSans-31\"/>\n       <use x=\"63.623047\" xlink:href=\"#DejaVuSans-30\"/>\n       <use x=\"127.246094\" xlink:href=\"#DejaVuSans-2d\"/>\n       <use x=\"163.330078\" xlink:href=\"#DejaVuSans-32\"/>\n       <use x=\"226.953125\" xlink:href=\"#DejaVuSans-39\"/>\n       <use x=\"290.576172\" xlink:href=\"#DejaVuSans-20\"/>\n       <use x=\"322.363281\" xlink:href=\"#DejaVuSans-32\"/>\n       <use x=\"385.986328\" xlink:href=\"#DejaVuSans-32\"/>\n      </g>\n     </g>\n    </g>\n    <g id=\"xtick_4\">\n     <g id=\"line2d_4\">\n      <g>\n       <use style=\"stroke:#000000;stroke-width:0.8;\" x=\"225.172546\" xlink:href=\"#m58d011bb47\" y=\"203.04\"/>\n      </g>\n     </g>\n     <g id=\"text_4\">\n      <!-- 10-30 00 -->\n      <g transform=\"translate(185.195389 239.100909)rotate(-30)scale(0.1 -0.1)\">\n       <defs>\n        <path d=\"M 2597 2516 \nQ 3050 2419 3304 2112 \nQ 3559 1806 3559 1356 \nQ 3559 666 3084 287 \nQ 2609 -91 1734 -91 \nQ 1441 -91 1130 -33 \nQ 819 25 488 141 \nL 488 750 \nQ 750 597 1062 519 \nQ 1375 441 1716 441 \nQ 2309 441 2620 675 \nQ 2931 909 2931 1356 \nQ 2931 1769 2642 2001 \nQ 2353 2234 1838 2234 \nL 1294 2234 \nL 1294 2753 \nL 1863 2753 \nQ 2328 2753 2575 2939 \nQ 2822 3125 2822 3475 \nQ 2822 3834 2567 4026 \nQ 2313 4219 1838 4219 \nQ 1578 4219 1281 4162 \nQ 984 4106 628 3988 \nL 628 4550 \nQ 988 4650 1302 4700 \nQ 1616 4750 1894 4750 \nQ 2613 4750 3031 4423 \nQ 3450 4097 3450 3541 \nQ 3450 3153 3228 2886 \nQ 3006 2619 2597 2516 \nz\n\" id=\"DejaVuSans-33\" transform=\"scale(0.015625)\"/>\n       </defs>\n       <use xlink:href=\"#DejaVuSans-31\"/>\n       <use x=\"63.623047\" xlink:href=\"#DejaVuSans-30\"/>\n       <use x=\"127.246094\" xlink:href=\"#DejaVuSans-2d\"/>\n       <use x=\"163.330078\" xlink:href=\"#DejaVuSans-33\"/>\n       <use x=\"226.953125\" xlink:href=\"#DejaVuSans-30\"/>\n       <use x=\"290.576172\" xlink:href=\"#DejaVuSans-20\"/>\n       <use x=\"322.363281\" xlink:href=\"#DejaVuSans-30\"/>\n       <use x=\"385.986328\" xlink:href=\"#DejaVuSans-30\"/>\n      </g>\n     </g>\n    </g>\n    <g id=\"xtick_5\">\n     <g id=\"line2d_5\">\n      <g>\n       <use style=\"stroke:#000000;stroke-width:0.8;\" x=\"280.511389\" xlink:href=\"#m58d011bb47\" y=\"203.04\"/>\n      </g>\n     </g>\n     <g id=\"text_5\">\n      <!-- 10-30 02 -->\n      <g transform=\"translate(240.534232 239.100909)rotate(-30)scale(0.1 -0.1)\">\n       <use xlink:href=\"#DejaVuSans-31\"/>\n       <use x=\"63.623047\" xlink:href=\"#DejaVuSans-30\"/>\n       <use x=\"127.246094\" xlink:href=\"#DejaVuSans-2d\"/>\n       <use x=\"163.330078\" xlink:href=\"#DejaVuSans-33\"/>\n       <use x=\"226.953125\" xlink:href=\"#DejaVuSans-30\"/>\n       <use x=\"290.576172\" xlink:href=\"#DejaVuSans-20\"/>\n       <use x=\"322.363281\" xlink:href=\"#DejaVuSans-30\"/>\n       <use x=\"385.986328\" xlink:href=\"#DejaVuSans-32\"/>\n      </g>\n     </g>\n    </g>\n    <g id=\"xtick_6\">\n     <g id=\"line2d_6\">\n      <g>\n       <use style=\"stroke:#000000;stroke-width:0.8;\" x=\"335.850232\" xlink:href=\"#m58d011bb47\" y=\"203.04\"/>\n      </g>\n     </g>\n     <g id=\"text_6\">\n      <!-- 10-30 04 -->\n      <g transform=\"translate(295.873075 239.100909)rotate(-30)scale(0.1 -0.1)\">\n       <defs>\n        <path d=\"M 2419 4116 \nL 825 1625 \nL 2419 1625 \nL 2419 4116 \nz\nM 2253 4666 \nL 3047 4666 \nL 3047 1625 \nL 3713 1625 \nL 3713 1100 \nL 3047 1100 \nL 3047 0 \nL 2419 0 \nL 2419 1100 \nL 313 1100 \nL 313 1709 \nL 2253 4666 \nz\n\" id=\"DejaVuSans-34\" transform=\"scale(0.015625)\"/>\n       </defs>\n       <use xlink:href=\"#DejaVuSans-31\"/>\n       <use x=\"63.623047\" xlink:href=\"#DejaVuSans-30\"/>\n       <use x=\"127.246094\" xlink:href=\"#DejaVuSans-2d\"/>\n       <use x=\"163.330078\" xlink:href=\"#DejaVuSans-33\"/>\n       <use x=\"226.953125\" xlink:href=\"#DejaVuSans-30\"/>\n       <use x=\"290.576172\" xlink:href=\"#DejaVuSans-20\"/>\n       <use x=\"322.363281\" xlink:href=\"#DejaVuSans-30\"/>\n       <use x=\"385.986328\" xlink:href=\"#DejaVuSans-34\"/>\n      </g>\n     </g>\n    </g>\n   </g>\n   <g id=\"matplotlib.axis_2\">\n    <g id=\"ytick_1\">\n     <g id=\"line2d_7\">\n      <defs>\n       <path d=\"M 0 0 \nL -3.5 0 \n\" id=\"meb27a9be8d\" style=\"stroke:#000000;stroke-width:0.8;\"/>\n      </defs>\n      <g>\n       <use style=\"stroke:#000000;stroke-width:0.8;\" x=\"30.103125\" xlink:href=\"#meb27a9be8d\" y=\"194.138182\"/>\n      </g>\n     </g>\n     <g id=\"text_7\">\n      <!-- 3.5 -->\n      <g transform=\"translate(7.2 197.937401)scale(0.1 -0.1)\">\n       <defs>\n        <path d=\"M 684 794 \nL 1344 794 \nL 1344 0 \nL 684 0 \nL 684 794 \nz\n\" id=\"DejaVuSans-2e\" transform=\"scale(0.015625)\"/>\n        <path d=\"M 691 4666 \nL 3169 4666 \nL 3169 4134 \nL 1269 4134 \nL 1269 2991 \nQ 1406 3038 1543 3061 \nQ 1681 3084 1819 3084 \nQ 2600 3084 3056 2656 \nQ 3513 2228 3513 1497 \nQ 3513 744 3044 326 \nQ 2575 -91 1722 -91 \nQ 1428 -91 1123 -41 \nQ 819 9 494 109 \nL 494 744 \nQ 775 591 1075 516 \nQ 1375 441 1709 441 \nQ 2250 441 2565 725 \nQ 2881 1009 2881 1497 \nQ 2881 1984 2565 2268 \nQ 2250 2553 1709 2553 \nQ 1456 2553 1204 2497 \nQ 953 2441 691 2322 \nL 691 4666 \nz\n\" id=\"DejaVuSans-35\" transform=\"scale(0.015625)\"/>\n       </defs>\n       <use xlink:href=\"#DejaVuSans-33\"/>\n       <use x=\"63.623047\" xlink:href=\"#DejaVuSans-2e\"/>\n       <use x=\"95.410156\" xlink:href=\"#DejaVuSans-35\"/>\n      </g>\n     </g>\n    </g>\n    <g id=\"ytick_2\">\n     <g id=\"line2d_8\">\n      <g>\n       <use style=\"stroke:#000000;stroke-width:0.8;\" x=\"30.103125\" xlink:href=\"#meb27a9be8d\" y=\"161.653813\"/>\n      </g>\n     </g>\n     <g id=\"text_8\">\n      <!-- 4.0 -->\n      <g transform=\"translate(7.2 165.453032)scale(0.1 -0.1)\">\n       <use xlink:href=\"#DejaVuSans-34\"/>\n       <use x=\"63.623047\" xlink:href=\"#DejaVuSans-2e\"/>\n       <use x=\"95.410156\" xlink:href=\"#DejaVuSans-30\"/>\n      </g>\n     </g>\n    </g>\n    <g id=\"ytick_3\">\n     <g id=\"line2d_9\">\n      <g>\n       <use style=\"stroke:#000000;stroke-width:0.8;\" x=\"30.103125\" xlink:href=\"#meb27a9be8d\" y=\"129.169444\"/>\n      </g>\n     </g>\n     <g id=\"text_9\">\n      <!-- 4.5 -->\n      <g transform=\"translate(7.2 132.968663)scale(0.1 -0.1)\">\n       <use xlink:href=\"#DejaVuSans-34\"/>\n       <use x=\"63.623047\" xlink:href=\"#DejaVuSans-2e\"/>\n       <use x=\"95.410156\" xlink:href=\"#DejaVuSans-35\"/>\n      </g>\n     </g>\n    </g>\n    <g id=\"ytick_4\">\n     <g id=\"line2d_10\">\n      <g>\n       <use style=\"stroke:#000000;stroke-width:0.8;\" x=\"30.103125\" xlink:href=\"#meb27a9be8d\" y=\"96.685076\"/>\n      </g>\n     </g>\n     <g id=\"text_10\">\n      <!-- 5.0 -->\n      <g transform=\"translate(7.2 100.484294)scale(0.1 -0.1)\">\n       <use xlink:href=\"#DejaVuSans-35\"/>\n       <use x=\"63.623047\" xlink:href=\"#DejaVuSans-2e\"/>\n       <use x=\"95.410156\" xlink:href=\"#DejaVuSans-30\"/>\n      </g>\n     </g>\n    </g>\n    <g id=\"ytick_5\">\n     <g id=\"line2d_11\">\n      <g>\n       <use style=\"stroke:#000000;stroke-width:0.8;\" x=\"30.103125\" xlink:href=\"#meb27a9be8d\" y=\"64.200707\"/>\n      </g>\n     </g>\n     <g id=\"text_11\">\n      <!-- 5.5 -->\n      <g transform=\"translate(7.2 67.999925)scale(0.1 -0.1)\">\n       <use xlink:href=\"#DejaVuSans-35\"/>\n       <use x=\"63.623047\" xlink:href=\"#DejaVuSans-2e\"/>\n       <use x=\"95.410156\" xlink:href=\"#DejaVuSans-35\"/>\n      </g>\n     </g>\n    </g>\n    <g id=\"ytick_6\">\n     <g id=\"line2d_12\">\n      <g>\n       <use style=\"stroke:#000000;stroke-width:0.8;\" x=\"30.103125\" xlink:href=\"#meb27a9be8d\" y=\"31.716338\"/>\n      </g>\n     </g>\n     <g id=\"text_12\">\n      <!-- 6.0 -->\n      <g transform=\"translate(7.2 35.515557)scale(0.1 -0.1)\">\n       <defs>\n        <path d=\"M 2113 2584 \nQ 1688 2584 1439 2293 \nQ 1191 2003 1191 1497 \nQ 1191 994 1439 701 \nQ 1688 409 2113 409 \nQ 2538 409 2786 701 \nQ 3034 994 3034 1497 \nQ 3034 2003 2786 2293 \nQ 2538 2584 2113 2584 \nz\nM 3366 4563 \nL 3366 3988 \nQ 3128 4100 2886 4159 \nQ 2644 4219 2406 4219 \nQ 1781 4219 1451 3797 \nQ 1122 3375 1075 2522 \nQ 1259 2794 1537 2939 \nQ 1816 3084 2150 3084 \nQ 2853 3084 3261 2657 \nQ 3669 2231 3669 1497 \nQ 3669 778 3244 343 \nQ 2819 -91 2113 -91 \nQ 1303 -91 875 529 \nQ 447 1150 447 2328 \nQ 447 3434 972 4092 \nQ 1497 4750 2381 4750 \nQ 2619 4750 2861 4703 \nQ 3103 4656 3366 4563 \nz\n\" id=\"DejaVuSans-36\" transform=\"scale(0.015625)\"/>\n       </defs>\n       <use xlink:href=\"#DejaVuSans-36\"/>\n       <use x=\"63.623047\" xlink:href=\"#DejaVuSans-2e\"/>\n       <use x=\"95.410156\" xlink:href=\"#DejaVuSans-30\"/>\n      </g>\n     </g>\n    </g>\n   </g>\n   <g id=\"line2d_13\">\n    <path clip-path=\"url(#pd753eb374c)\" d=\"M 45.321307 135.666318 \nL 72.990728 90.188202 \nL 100.66015 25.219464 \nL 128.329571 18.72259 \nL 155.998993 25.219464 \nL 183.668414 25.219464 \nL 211.337836 51.206959 \nL 239.007257 83.691328 \nL 266.676679 116.175697 \nL 294.3461 155.156939 \nL 322.015522 168.150687 \nL 349.684943 194.138182 \n\" style=\"fill:none;stroke:#1f77b4;stroke-linecap:square;stroke-width:1.5;\"/>\n   </g>\n   <g id=\"line2d_14\">\n    <path clip-path=\"url(#pd753eb374c)\" d=\"M 45.321307 135.666318 \nL 52.238662 132.228733 \nL 59.156018 122.340386 \nL 66.073373 107.745476 \nL 72.990728 90.188202 \nL 79.908084 71.412764 \nL 86.825439 53.163362 \nL 93.742794 37.184196 \nL 100.66015 25.219464 \nL 107.577505 18.487331 \nL 114.494861 16.101818 \nL 121.412216 16.65091 \nL 128.329571 18.72259 \nL 135.246927 21.08023 \nL 142.164282 23.18873 \nL 149.081637 24.68838 \nL 155.998993 25.219464 \nL 162.916348 24.652827 \nL 169.833704 23.781533 \nL 176.751059 23.629205 \nL 183.668414 25.219464 \nL 190.58577 29.290435 \nL 197.503125 35.43825 \nL 204.42048 42.973546 \nL 211.337836 51.206959 \nL 218.255191 59.548451 \nL 225.172546 67.805284 \nL 232.089902 75.884047 \nL 239.007257 83.691328 \nL 245.924613 91.224939 \nL 252.841968 98.847585 \nL 259.759323 107.013195 \nL 266.676679 116.175697 \nL 273.594034 126.527827 \nL 280.511389 137.217558 \nL 287.428745 147.131669 \nL 294.3461 155.156939 \nL 301.263456 160.52461 \nL 308.180811 163.843764 \nL 315.098166 166.067942 \nL 322.015522 168.150687 \nL 328.932877 171.045541 \nL 335.850232 175.706047 \nL 342.767588 183.085746 \nL 349.684943 194.138182 \n\" style=\"fill:none;stroke:#ff7f0e;stroke-linecap:square;stroke-width:1.5;\"/>\n   </g>\n   <g id=\"patch_3\">\n    <path d=\"M 30.103125 203.04 \nL 30.103125 7.2 \n\" style=\"fill:none;stroke:#000000;stroke-linecap:square;stroke-linejoin:miter;stroke-width:0.8;\"/>\n   </g>\n   <g id=\"patch_4\">\n    <path d=\"M 364.903125 203.04 \nL 364.903125 7.2 \n\" style=\"fill:none;stroke:#000000;stroke-linecap:square;stroke-linejoin:miter;stroke-width:0.8;\"/>\n   </g>\n   <g id=\"patch_5\">\n    <path d=\"M 30.103125 203.04 \nL 364.903125 203.04 \n\" style=\"fill:none;stroke:#000000;stroke-linecap:square;stroke-linejoin:miter;stroke-width:0.8;\"/>\n   </g>\n   <g id=\"patch_6\">\n    <path d=\"M 30.103125 7.2 \nL 364.903125 7.2 \n\" style=\"fill:none;stroke:#000000;stroke-linecap:square;stroke-linejoin:miter;stroke-width:0.8;\"/>\n   </g>\n   <g id=\"legend_1\">\n    <g id=\"patch_7\">\n     <path d=\"M 231.8 44.55625 \nL 357.903125 44.55625 \nQ 359.903125 44.55625 359.903125 42.55625 \nL 359.903125 14.2 \nQ 359.903125 12.2 357.903125 12.2 \nL 231.8 12.2 \nQ 229.8 12.2 229.8 14.2 \nL 229.8 42.55625 \nQ 229.8 44.55625 231.8 44.55625 \nz\n\" style=\"fill:#ffffff;opacity:0.8;stroke:#cccccc;stroke-linejoin:miter;\"/>\n    </g>\n    <g id=\"line2d_15\">\n     <path d=\"M 233.8 20.298438 \nL 253.8 20.298438 \n\" style=\"fill:none;stroke:#1f77b4;stroke-linecap:square;stroke-width:1.5;\"/>\n    </g>\n    <g id=\"line2d_16\"/>\n    <g id=\"text_13\">\n     <!-- Period: 1 hour -->\n     <g transform=\"translate(261.8 23.798438)scale(0.1 -0.1)\">\n      <defs>\n       <path d=\"M 1259 4147 \nL 1259 2394 \nL 2053 2394 \nQ 2494 2394 2734 2622 \nQ 2975 2850 2975 3272 \nQ 2975 3691 2734 3919 \nQ 2494 4147 2053 4147 \nL 1259 4147 \nz\nM 628 4666 \nL 2053 4666 \nQ 2838 4666 3239 4311 \nQ 3641 3956 3641 3272 \nQ 3641 2581 3239 2228 \nQ 2838 1875 2053 1875 \nL 1259 1875 \nL 1259 0 \nL 628 0 \nL 628 4666 \nz\n\" id=\"DejaVuSans-50\" transform=\"scale(0.015625)\"/>\n       <path d=\"M 3597 1894 \nL 3597 1613 \nL 953 1613 \nQ 991 1019 1311 708 \nQ 1631 397 2203 397 \nQ 2534 397 2845 478 \nQ 3156 559 3463 722 \nL 3463 178 \nQ 3153 47 2828 -22 \nQ 2503 -91 2169 -91 \nQ 1331 -91 842 396 \nQ 353 884 353 1716 \nQ 353 2575 817 3079 \nQ 1281 3584 2069 3584 \nQ 2775 3584 3186 3129 \nQ 3597 2675 3597 1894 \nz\nM 3022 2063 \nQ 3016 2534 2758 2815 \nQ 2500 3097 2075 3097 \nQ 1594 3097 1305 2825 \nQ 1016 2553 972 2059 \nL 3022 2063 \nz\n\" id=\"DejaVuSans-65\" transform=\"scale(0.015625)\"/>\n       <path d=\"M 2631 2963 \nQ 2534 3019 2420 3045 \nQ 2306 3072 2169 3072 \nQ 1681 3072 1420 2755 \nQ 1159 2438 1159 1844 \nL 1159 0 \nL 581 0 \nL 581 3500 \nL 1159 3500 \nL 1159 2956 \nQ 1341 3275 1631 3429 \nQ 1922 3584 2338 3584 \nQ 2397 3584 2469 3576 \nQ 2541 3569 2628 3553 \nL 2631 2963 \nz\n\" id=\"DejaVuSans-72\" transform=\"scale(0.015625)\"/>\n       <path d=\"M 603 3500 \nL 1178 3500 \nL 1178 0 \nL 603 0 \nL 603 3500 \nz\nM 603 4863 \nL 1178 4863 \nL 1178 4134 \nL 603 4134 \nL 603 4863 \nz\n\" id=\"DejaVuSans-69\" transform=\"scale(0.015625)\"/>\n       <path d=\"M 1959 3097 \nQ 1497 3097 1228 2736 \nQ 959 2375 959 1747 \nQ 959 1119 1226 758 \nQ 1494 397 1959 397 \nQ 2419 397 2687 759 \nQ 2956 1122 2956 1747 \nQ 2956 2369 2687 2733 \nQ 2419 3097 1959 3097 \nz\nM 1959 3584 \nQ 2709 3584 3137 3096 \nQ 3566 2609 3566 1747 \nQ 3566 888 3137 398 \nQ 2709 -91 1959 -91 \nQ 1206 -91 779 398 \nQ 353 888 353 1747 \nQ 353 2609 779 3096 \nQ 1206 3584 1959 3584 \nz\n\" id=\"DejaVuSans-6f\" transform=\"scale(0.015625)\"/>\n       <path d=\"M 2906 2969 \nL 2906 4863 \nL 3481 4863 \nL 3481 0 \nL 2906 0 \nL 2906 525 \nQ 2725 213 2448 61 \nQ 2172 -91 1784 -91 \nQ 1150 -91 751 415 \nQ 353 922 353 1747 \nQ 353 2572 751 3078 \nQ 1150 3584 1784 3584 \nQ 2172 3584 2448 3432 \nQ 2725 3281 2906 2969 \nz\nM 947 1747 \nQ 947 1113 1208 752 \nQ 1469 391 1925 391 \nQ 2381 391 2643 752 \nQ 2906 1113 2906 1747 \nQ 2906 2381 2643 2742 \nQ 2381 3103 1925 3103 \nQ 1469 3103 1208 2742 \nQ 947 2381 947 1747 \nz\n\" id=\"DejaVuSans-64\" transform=\"scale(0.015625)\"/>\n       <path d=\"M 750 794 \nL 1409 794 \nL 1409 0 \nL 750 0 \nL 750 794 \nz\nM 750 3309 \nL 1409 3309 \nL 1409 2516 \nL 750 2516 \nL 750 3309 \nz\n\" id=\"DejaVuSans-3a\" transform=\"scale(0.015625)\"/>\n       <path d=\"M 3513 2113 \nL 3513 0 \nL 2938 0 \nL 2938 2094 \nQ 2938 2591 2744 2837 \nQ 2550 3084 2163 3084 \nQ 1697 3084 1428 2787 \nQ 1159 2491 1159 1978 \nL 1159 0 \nL 581 0 \nL 581 4863 \nL 1159 4863 \nL 1159 2956 \nQ 1366 3272 1645 3428 \nQ 1925 3584 2291 3584 \nQ 2894 3584 3203 3211 \nQ 3513 2838 3513 2113 \nz\n\" id=\"DejaVuSans-68\" transform=\"scale(0.015625)\"/>\n       <path d=\"M 544 1381 \nL 544 3500 \nL 1119 3500 \nL 1119 1403 \nQ 1119 906 1312 657 \nQ 1506 409 1894 409 \nQ 2359 409 2629 706 \nQ 2900 1003 2900 1516 \nL 2900 3500 \nL 3475 3500 \nL 3475 0 \nL 2900 0 \nL 2900 538 \nQ 2691 219 2414 64 \nQ 2138 -91 1772 -91 \nQ 1169 -91 856 284 \nQ 544 659 544 1381 \nz\nM 1991 3584 \nL 1991 3584 \nz\n\" id=\"DejaVuSans-75\" transform=\"scale(0.015625)\"/>\n      </defs>\n      <use xlink:href=\"#DejaVuSans-50\"/>\n      <use x=\"56.677734\" xlink:href=\"#DejaVuSans-65\"/>\n      <use x=\"118.201172\" xlink:href=\"#DejaVuSans-72\"/>\n      <use x=\"159.314453\" xlink:href=\"#DejaVuSans-69\"/>\n      <use x=\"187.097656\" xlink:href=\"#DejaVuSans-6f\"/>\n      <use x=\"248.279297\" xlink:href=\"#DejaVuSans-64\"/>\n      <use x=\"311.755859\" xlink:href=\"#DejaVuSans-3a\"/>\n      <use x=\"345.447266\" xlink:href=\"#DejaVuSans-20\"/>\n      <use x=\"377.234375\" xlink:href=\"#DejaVuSans-31\"/>\n      <use x=\"440.857422\" xlink:href=\"#DejaVuSans-20\"/>\n      <use x=\"472.644531\" xlink:href=\"#DejaVuSans-68\"/>\n      <use x=\"536.023438\" xlink:href=\"#DejaVuSans-6f\"/>\n      <use x=\"597.205078\" xlink:href=\"#DejaVuSans-75\"/>\n      <use x=\"660.583984\" xlink:href=\"#DejaVuSans-72\"/>\n     </g>\n    </g>\n    <g id=\"line2d_17\">\n     <path d=\"M 233.8 34.976563 \nL 253.8 34.976563 \n\" style=\"fill:none;stroke:#ff7f0e;stroke-linecap:square;stroke-width:1.5;\"/>\n    </g>\n    <g id=\"line2d_18\"/>\n    <g id=\"text_14\">\n     <!-- Period: 15 minutes -->\n     <g transform=\"translate(261.8 38.476563)scale(0.1 -0.1)\">\n      <defs>\n       <path d=\"M 3328 2828 \nQ 3544 3216 3844 3400 \nQ 4144 3584 4550 3584 \nQ 5097 3584 5394 3201 \nQ 5691 2819 5691 2113 \nL 5691 0 \nL 5113 0 \nL 5113 2094 \nQ 5113 2597 4934 2840 \nQ 4756 3084 4391 3084 \nQ 3944 3084 3684 2787 \nQ 3425 2491 3425 1978 \nL 3425 0 \nL 2847 0 \nL 2847 2094 \nQ 2847 2600 2669 2842 \nQ 2491 3084 2119 3084 \nQ 1678 3084 1418 2786 \nQ 1159 2488 1159 1978 \nL 1159 0 \nL 581 0 \nL 581 3500 \nL 1159 3500 \nL 1159 2956 \nQ 1356 3278 1631 3431 \nQ 1906 3584 2284 3584 \nQ 2666 3584 2933 3390 \nQ 3200 3197 3328 2828 \nz\n\" id=\"DejaVuSans-6d\" transform=\"scale(0.015625)\"/>\n       <path d=\"M 3513 2113 \nL 3513 0 \nL 2938 0 \nL 2938 2094 \nQ 2938 2591 2744 2837 \nQ 2550 3084 2163 3084 \nQ 1697 3084 1428 2787 \nQ 1159 2491 1159 1978 \nL 1159 0 \nL 581 0 \nL 581 3500 \nL 1159 3500 \nL 1159 2956 \nQ 1366 3272 1645 3428 \nQ 1925 3584 2291 3584 \nQ 2894 3584 3203 3211 \nQ 3513 2838 3513 2113 \nz\n\" id=\"DejaVuSans-6e\" transform=\"scale(0.015625)\"/>\n       <path d=\"M 1172 4494 \nL 1172 3500 \nL 2356 3500 \nL 2356 3053 \nL 1172 3053 \nL 1172 1153 \nQ 1172 725 1289 603 \nQ 1406 481 1766 481 \nL 2356 481 \nL 2356 0 \nL 1766 0 \nQ 1100 0 847 248 \nQ 594 497 594 1153 \nL 594 3053 \nL 172 3053 \nL 172 3500 \nL 594 3500 \nL 594 4494 \nL 1172 4494 \nz\n\" id=\"DejaVuSans-74\" transform=\"scale(0.015625)\"/>\n       <path d=\"M 2834 3397 \nL 2834 2853 \nQ 2591 2978 2328 3040 \nQ 2066 3103 1784 3103 \nQ 1356 3103 1142 2972 \nQ 928 2841 928 2578 \nQ 928 2378 1081 2264 \nQ 1234 2150 1697 2047 \nL 1894 2003 \nQ 2506 1872 2764 1633 \nQ 3022 1394 3022 966 \nQ 3022 478 2636 193 \nQ 2250 -91 1575 -91 \nQ 1294 -91 989 -36 \nQ 684 19 347 128 \nL 347 722 \nQ 666 556 975 473 \nQ 1284 391 1588 391 \nQ 1994 391 2212 530 \nQ 2431 669 2431 922 \nQ 2431 1156 2273 1281 \nQ 2116 1406 1581 1522 \nL 1381 1569 \nQ 847 1681 609 1914 \nQ 372 2147 372 2553 \nQ 372 3047 722 3315 \nQ 1072 3584 1716 3584 \nQ 2034 3584 2315 3537 \nQ 2597 3491 2834 3397 \nz\n\" id=\"DejaVuSans-73\" transform=\"scale(0.015625)\"/>\n      </defs>\n      <use xlink:href=\"#DejaVuSans-50\"/>\n      <use x=\"56.677734\" xlink:href=\"#DejaVuSans-65\"/>\n      <use x=\"118.201172\" xlink:href=\"#DejaVuSans-72\"/>\n      <use x=\"159.314453\" xlink:href=\"#DejaVuSans-69\"/>\n      <use x=\"187.097656\" xlink:href=\"#DejaVuSans-6f\"/>\n      <use x=\"248.279297\" xlink:href=\"#DejaVuSans-64\"/>\n      <use x=\"311.755859\" xlink:href=\"#DejaVuSans-3a\"/>\n      <use x=\"345.447266\" xlink:href=\"#DejaVuSans-20\"/>\n      <use x=\"377.234375\" xlink:href=\"#DejaVuSans-31\"/>\n      <use x=\"440.857422\" xlink:href=\"#DejaVuSans-35\"/>\n      <use x=\"504.480469\" xlink:href=\"#DejaVuSans-20\"/>\n      <use x=\"536.267578\" xlink:href=\"#DejaVuSans-6d\"/>\n      <use x=\"633.679688\" xlink:href=\"#DejaVuSans-69\"/>\n      <use x=\"661.462891\" xlink:href=\"#DejaVuSans-6e\"/>\n      <use x=\"724.841797\" xlink:href=\"#DejaVuSans-75\"/>\n      <use x=\"788.220703\" xlink:href=\"#DejaVuSans-74\"/>\n      <use x=\"827.429688\" xlink:href=\"#DejaVuSans-65\"/>\n      <use x=\"888.953125\" xlink:href=\"#DejaVuSans-73\"/>\n     </g>\n    </g>\n   </g>\n  </g>\n </g>\n <defs>\n  <clipPath id=\"pd753eb374c\">\n   <rect height=\"195.84\" width=\"334.8\" x=\"30.103125\" y=\"7.2\"/>\n  </clipPath>\n </defs>\n</svg>\n",
      "image/png": "[encoded data removed]"
     },
     "metadata": {
      "needs_background": "light"
     }
    }
   ],
   "source": [
    "temp_series.plot(label=\"Period: 1 hour\")\n",
    "temp_series_freq_15min.plot(label=\"Period: 15 minutes\")\n",
    "plt.legend()\n",
    "plt.show()"
   ]
  },
  {
   "cell_type": "markdown",
   "metadata": {},
   "source": [
    "## Timezones\n",
    "By default datetimes are *naive*: they are not aware of timezones, so 2016-10-30 02:30 might mean October 30th 2016 at 2:30am in Paris or in New York. We can make datetimes timezone *aware* by calling the `tz_localize()` method:"
   ]
  },
  {
   "cell_type": "code",
   "execution_count": 35,
   "metadata": {},
   "outputs": [
    {
     "output_type": "execute_result",
     "data": {
      "text/plain": [
       "2016-10-29 17:30:00-04:00    4.4\n",
       "2016-10-29 18:30:00-04:00    5.1\n",
       "2016-10-29 19:30:00-04:00    6.1\n",
       "2016-10-29 20:30:00-04:00    6.2\n",
       "2016-10-29 21:30:00-04:00    6.1\n",
       "2016-10-29 22:30:00-04:00    6.1\n",
       "2016-10-29 23:30:00-04:00    5.7\n",
       "2016-10-30 00:30:00-04:00    5.2\n",
       "2016-10-30 01:30:00-04:00    4.7\n",
       "2016-10-30 02:30:00-04:00    4.1\n",
       "2016-10-30 03:30:00-04:00    3.9\n",
       "2016-10-30 04:30:00-04:00    3.5\n",
       "dtype: float64"
      ]
     },
     "metadata": {},
     "execution_count": 35
    }
   ],
   "source": [
    "temp_series_ny = temp_series.tz_localize(\"America/New_York\")\n",
    "temp_series_ny"
   ]
  },
  {
   "cell_type": "markdown",
   "metadata": {},
   "source": [
    "Note that `-04:00` is now appended to all the datetimes. This means that these datetimes refer to [UTC](https://en.wikipedia.org/wiki/Coordinated_Universal_Time) - 4 hours.\n",
    "\n",
    "We can convert these datetimes to Paris time like this:"
   ]
  },
  {
   "cell_type": "code",
   "execution_count": 36,
   "metadata": {},
   "outputs": [
    {
     "output_type": "execute_result",
     "data": {
      "text/plain": [
       "2016-10-29 23:30:00+02:00    4.4\n",
       "2016-10-30 00:30:00+02:00    5.1\n",
       "2016-10-30 01:30:00+02:00    6.1\n",
       "2016-10-30 02:30:00+02:00    6.2\n",
       "2016-10-30 02:30:00+01:00    6.1\n",
       "2016-10-30 03:30:00+01:00    6.1\n",
       "2016-10-30 04:30:00+01:00    5.7\n",
       "2016-10-30 05:30:00+01:00    5.2\n",
       "2016-10-30 06:30:00+01:00    4.7\n",
       "2016-10-30 07:30:00+01:00    4.1\n",
       "2016-10-30 08:30:00+01:00    3.9\n",
       "2016-10-30 09:30:00+01:00    3.5\n",
       "dtype: float64"
      ]
     },
     "metadata": {},
     "execution_count": 36
    }
   ],
   "source": [
    "temp_series_paris = temp_series_ny.tz_convert(\"Europe/Paris\")\n",
    "temp_series_paris"
   ]
  },
  {
   "cell_type": "markdown",
   "metadata": {},
   "source": [
    "You may have noticed that the UTC offset changes from `+02:00` to `+01:00`: this is because France switches to winter time at 3am that particular night (time goes back to 2am). Notice that 2:30am occurs twice! Let's go back to a naive representation (if you log some data hourly using local time, without storing the timezone, you might get something like this):"
   ]
  },
  {
   "cell_type": "code",
   "execution_count": 37,
   "metadata": {},
   "outputs": [
    {
     "output_type": "execute_result",
     "data": {
      "text/plain": [
       "2016-10-29 23:30:00    4.4\n",
       "2016-10-30 00:30:00    5.1\n",
       "2016-10-30 01:30:00    6.1\n",
       "2016-10-30 02:30:00    6.2\n",
       "2016-10-30 02:30:00    6.1\n",
       "2016-10-30 03:30:00    6.1\n",
       "2016-10-30 04:30:00    5.7\n",
       "2016-10-30 05:30:00    5.2\n",
       "2016-10-30 06:30:00    4.7\n",
       "2016-10-30 07:30:00    4.1\n",
       "2016-10-30 08:30:00    3.9\n",
       "2016-10-30 09:30:00    3.5\n",
       "dtype: float64"
      ]
     },
     "metadata": {},
     "execution_count": 37
    }
   ],
   "source": [
    "temp_series_paris_naive = temp_series_paris.tz_localize(None)\n",
    "temp_series_paris_naive"
   ]
  },
  {
   "cell_type": "markdown",
   "metadata": {},
   "source": [
    "Now `02:30` is really ambiguous. If we try to localize these naive datetimes to the Paris timezone, we get an error:"
   ]
  },
  {
   "cell_type": "code",
   "execution_count": 38,
   "metadata": {},
   "outputs": [
    {
     "output_type": "stream",
     "name": "stdout",
     "text": [
      "<class 'pytz.exceptions.AmbiguousTimeError'>\nCannot infer dst time from 2016-10-30 02:30:00, try using the 'ambiguous' argument\n"
     ]
    }
   ],
   "source": [
    "try:\n",
    "    temp_series_paris_naive.tz_localize(\"Europe/Paris\")\n",
    "except Exception as e:\n",
    "    print(type(e))\n",
    "    print(e)"
   ]
  },
  {
   "cell_type": "markdown",
   "metadata": {},
   "source": [
    "Fortunately using the `ambiguous` argument we can tell pandas to infer the right DST (Daylight Saving Time) based on the order of the ambiguous timestamps:"
   ]
  },
  {
   "cell_type": "code",
   "execution_count": 39,
   "metadata": {},
   "outputs": [
    {
     "output_type": "execute_result",
     "data": {
      "text/plain": [
       "2016-10-29 23:30:00+02:00    4.4\n",
       "2016-10-30 00:30:00+02:00    5.1\n",
       "2016-10-30 01:30:00+02:00    6.1\n",
       "2016-10-30 02:30:00+02:00    6.2\n",
       "2016-10-30 02:30:00+01:00    6.1\n",
       "2016-10-30 03:30:00+01:00    6.1\n",
       "2016-10-30 04:30:00+01:00    5.7\n",
       "2016-10-30 05:30:00+01:00    5.2\n",
       "2016-10-30 06:30:00+01:00    4.7\n",
       "2016-10-30 07:30:00+01:00    4.1\n",
       "2016-10-30 08:30:00+01:00    3.9\n",
       "2016-10-30 09:30:00+01:00    3.5\n",
       "dtype: float64"
      ]
     },
     "metadata": {},
     "execution_count": 39
    }
   ],
   "source": [
    "temp_series_paris_naive.tz_localize(\"Europe/Paris\", ambiguous=\"infer\")"
   ]
  },
  {
   "cell_type": "markdown",
   "metadata": {},
   "source": [
    "## Periods\n",
    "The `pd.period_range()` function returns a `PeriodIndex` instead of a `DatetimeIndex`. For example, let's get all quarters in 2016 and 2017:"
   ]
  },
  {
   "cell_type": "code",
   "execution_count": 40,
   "metadata": {},
   "outputs": [
    {
     "output_type": "execute_result",
     "data": {
      "text/plain": [
       "PeriodIndex(['2016Q1', '2016Q2', '2016Q3', '2016Q4', '2017Q1', '2017Q2',\n",
       "             '2017Q3', '2017Q4'],\n",
       "            dtype='period[Q-DEC]', freq='Q-DEC')"
      ]
     },
     "metadata": {},
     "execution_count": 40
    }
   ],
   "source": [
    "quarters = pd.period_range('2016Q1', periods=8, freq='Q')\n",
    "quarters"
   ]
  },
  {
   "cell_type": "markdown",
   "metadata": {},
   "source": [
    "Adding a number `N` to a `PeriodIndex` shifts the periods by `N` times the `PeriodIndex`'s frequency:"
   ]
  },
  {
   "cell_type": "code",
   "execution_count": 41,
   "metadata": {},
   "outputs": [
    {
     "output_type": "execute_result",
     "data": {
      "text/plain": [
       "PeriodIndex(['2016Q4', '2017Q1', '2017Q2', '2017Q3', '2017Q4', '2018Q1',\n",
       "             '2018Q2', '2018Q3'],\n",
       "            dtype='period[Q-DEC]', freq='Q-DEC')"
      ]
     },
     "metadata": {},
     "execution_count": 41
    }
   ],
   "source": [
    "quarters + 3"
   ]
  },
  {
   "cell_type": "markdown",
   "metadata": {},
   "source": [
    "The `asfreq()` method lets us change the frequency of the `PeriodIndex`. All periods are lengthened or shortened accordingly. For example, let's convert all the quarterly periods to monthly periods (zooming in):"
   ]
  },
  {
   "cell_type": "code",
   "execution_count": 42,
   "metadata": {},
   "outputs": [
    {
     "output_type": "execute_result",
     "data": {
      "text/plain": [
       "PeriodIndex(['2016-03', '2016-06', '2016-09', '2016-12', '2017-03', '2017-06',\n",
       "             '2017-09', '2017-12'],\n",
       "            dtype='period[M]', freq='M')"
      ]
     },
     "metadata": {},
     "execution_count": 42
    }
   ],
   "source": [
    "quarters.asfreq(\"M\")"
   ]
  },
  {
   "cell_type": "markdown",
   "metadata": {},
   "source": [
    "By default, the `asfreq` zooms on the end of each period. We can tell it to zoom on the start of each period instead:"
   ]
  },
  {
   "cell_type": "code",
   "execution_count": 43,
   "metadata": {},
   "outputs": [
    {
     "output_type": "execute_result",
     "data": {
      "text/plain": [
       "PeriodIndex(['2016-01', '2016-04', '2016-07', '2016-10', '2017-01', '2017-04',\n",
       "             '2017-07', '2017-10'],\n",
       "            dtype='period[M]', freq='M')"
      ]
     },
     "metadata": {},
     "execution_count": 43
    }
   ],
   "source": [
    "quarters.asfreq(\"M\", how=\"start\")"
   ]
  },
  {
   "cell_type": "markdown",
   "metadata": {},
   "source": [
    "And we can zoom out:"
   ]
  },
  {
   "cell_type": "code",
   "execution_count": 44,
   "metadata": {},
   "outputs": [
    {
     "output_type": "execute_result",
     "data": {
      "text/plain": [
       "PeriodIndex(['2016', '2016', '2016', '2016', '2017', '2017', '2017', '2017'], dtype='period[A-DEC]', freq='A-DEC')"
      ]
     },
     "metadata": {},
     "execution_count": 44
    }
   ],
   "source": [
    "quarters.asfreq(\"A\")"
   ]
  },
  {
   "cell_type": "markdown",
   "metadata": {},
   "source": [
    "Of course we can create a `Series` with a `PeriodIndex`:"
   ]
  },
  {
   "cell_type": "code",
   "execution_count": 45,
   "metadata": {},
   "outputs": [
    {
     "output_type": "execute_result",
     "data": {
      "text/plain": [
       "2016Q1    300\n",
       "2016Q2    320\n",
       "2016Q3    290\n",
       "2016Q4    390\n",
       "2017Q1    320\n",
       "2017Q2    360\n",
       "2017Q3    310\n",
       "2017Q4    410\n",
       "Freq: Q-DEC, dtype: int64"
      ]
     },
     "metadata": {},
     "execution_count": 45
    }
   ],
   "source": [
    "quarterly_revenue = pd.Series([300, 320, 290, 390, 320, 360, 310, 410],\n",
    "                              index=quarters)\n",
    "quarterly_revenue"
   ]
  },
  {
   "cell_type": "code",
   "execution_count": 46,
   "metadata": {},
   "outputs": [
    {
     "output_type": "display_data",
     "data": {
      "text/plain": "<Figure size 432x288 with 1 Axes>",
      "image/svg+xml": "<?xml version=\"1.0\" encoding=\"utf-8\" standalone=\"no\"?>\n<!DOCTYPE svg PUBLIC \"-//W3C//DTD SVG 1.1//EN\"\n  \"http://www.w3.org/Graphics/SVG/1.1/DTD/svg11.dtd\">\n<svg height=\"259.715937pt\" version=\"1.1\" viewBox=\"0 0 382.404687 259.715937\" width=\"382.404687pt\" xmlns=\"http://www.w3.org/2000/svg\" xmlns:xlink=\"http://www.w3.org/1999/xlink\">\n <metadata>\n  <rdf:RDF xmlns:cc=\"http://creativecommons.org/ns#\" xmlns:dc=\"http://purl.org/dc/elements/1.1/\" xmlns:rdf=\"http://www.w3.org/1999/02/22-rdf-syntax-ns#\">\n   <cc:Work>\n    <dc:type rdf:resource=\"http://purl.org/dc/dcmitype/StillImage\"/>\n    <dc:date>2021-05-14T08:48:45.803007</dc:date>\n    <dc:format>image/svg+xml</dc:format>\n    <dc:creator>\n     <cc:Agent>\n      <dc:title>Matplotlib v3.4.2, https://matplotlib.org/</dc:title>\n     </cc:Agent>\n    </dc:creator>\n   </cc:Work>\n  </rdf:RDF>\n </metadata>\n <defs>\n  <style type=\"text/css\">*{stroke-linecap:butt;stroke-linejoin:round;}</style>\n </defs>\n <g id=\"figure_1\">\n  <g id=\"patch_1\">\n   <path d=\"M 0 259.715937 \nL 382.404687 259.715937 \nL 382.404687 0 \nL 0 0 \nz\n\" style=\"fill:none;\"/>\n  </g>\n  <g id=\"axes_1\">\n   <g id=\"patch_2\">\n    <path d=\"M 33.2875 224.64 \nL 368.0875 224.64 \nL 368.0875 7.2 \nL 33.2875 7.2 \nz\n\" style=\"fill:#ffffff;\"/>\n   </g>\n   <g id=\"matplotlib.axis_1\">\n    <g id=\"xtick_1\">\n     <g id=\"line2d_1\">\n      <defs>\n       <path d=\"M 0 0 \nL 0 3.5 \n\" id=\"m50535c81da\" style=\"stroke:#000000;stroke-width:0.8;\"/>\n      </defs>\n      <g>\n       <use style=\"stroke:#000000;stroke-width:0.8;\" x=\"33.2875\" xlink:href=\"#m50535c81da\" y=\"224.64\"/>\n      </g>\n     </g>\n     <g id=\"text_1\">\n      <!-- Q1 -->\n      <g transform=\"translate(26.170313 239.238438)scale(0.1 -0.1)\">\n       <defs>\n        <path d=\"M 2522 4238 \nQ 1834 4238 1429 3725 \nQ 1025 3213 1025 2328 \nQ 1025 1447 1429 934 \nQ 1834 422 2522 422 \nQ 3209 422 3611 934 \nQ 4013 1447 4013 2328 \nQ 4013 3213 3611 3725 \nQ 3209 4238 2522 4238 \nz\nM 3406 84 \nL 4238 -825 \nL 3475 -825 \nL 2784 -78 \nQ 2681 -84 2626 -87 \nQ 2572 -91 2522 -91 \nQ 1538 -91 948 567 \nQ 359 1225 359 2328 \nQ 359 3434 948 4092 \nQ 1538 4750 2522 4750 \nQ 3503 4750 4090 4092 \nQ 4678 3434 4678 2328 \nQ 4678 1516 4351 937 \nQ 4025 359 3406 84 \nz\n\" id=\"DejaVuSans-51\" transform=\"scale(0.015625)\"/>\n        <path d=\"M 794 531 \nL 1825 531 \nL 1825 4091 \nL 703 3866 \nL 703 4441 \nL 1819 4666 \nL 2450 4666 \nL 2450 531 \nL 3481 531 \nL 3481 0 \nL 794 0 \nL 794 531 \nz\n\" id=\"DejaVuSans-31\" transform=\"scale(0.015625)\"/>\n       </defs>\n       <use xlink:href=\"#DejaVuSans-51\"/>\n       <use x=\"78.710938\" xlink:href=\"#DejaVuSans-31\"/>\n      </g>\n      <!-- 2016 -->\n      <g transform=\"translate(20.5625 250.43625)scale(0.1 -0.1)\">\n       <defs>\n        <path d=\"M 1228 531 \nL 3431 531 \nL 3431 0 \nL 469 0 \nL 469 531 \nQ 828 903 1448 1529 \nQ 2069 2156 2228 2338 \nQ 2531 2678 2651 2914 \nQ 2772 3150 2772 3378 \nQ 2772 3750 2511 3984 \nQ 2250 4219 1831 4219 \nQ 1534 4219 1204 4116 \nQ 875 4013 500 3803 \nL 500 4441 \nQ 881 4594 1212 4672 \nQ 1544 4750 1819 4750 \nQ 2544 4750 2975 4387 \nQ 3406 4025 3406 3419 \nQ 3406 3131 3298 2873 \nQ 3191 2616 2906 2266 \nQ 2828 2175 2409 1742 \nQ 1991 1309 1228 531 \nz\n\" id=\"DejaVuSans-32\" transform=\"scale(0.015625)\"/>\n        <path d=\"M 2034 4250 \nQ 1547 4250 1301 3770 \nQ 1056 3291 1056 2328 \nQ 1056 1369 1301 889 \nQ 1547 409 2034 409 \nQ 2525 409 2770 889 \nQ 3016 1369 3016 2328 \nQ 3016 3291 2770 3770 \nQ 2525 4250 2034 4250 \nz\nM 2034 4750 \nQ 2819 4750 3233 4129 \nQ 3647 3509 3647 2328 \nQ 3647 1150 3233 529 \nQ 2819 -91 2034 -91 \nQ 1250 -91 836 529 \nQ 422 1150 422 2328 \nQ 422 3509 836 4129 \nQ 1250 4750 2034 4750 \nz\n\" id=\"DejaVuSans-30\" transform=\"scale(0.015625)\"/>\n        <path d=\"M 2113 2584 \nQ 1688 2584 1439 2293 \nQ 1191 2003 1191 1497 \nQ 1191 994 1439 701 \nQ 1688 409 2113 409 \nQ 2538 409 2786 701 \nQ 3034 994 3034 1497 \nQ 3034 2003 2786 2293 \nQ 2538 2584 2113 2584 \nz\nM 3366 4563 \nL 3366 3988 \nQ 3128 4100 2886 4159 \nQ 2644 4219 2406 4219 \nQ 1781 4219 1451 3797 \nQ 1122 3375 1075 2522 \nQ 1259 2794 1537 2939 \nQ 1816 3084 2150 3084 \nQ 2853 3084 3261 2657 \nQ 3669 2231 3669 1497 \nQ 3669 778 3244 343 \nQ 2819 -91 2113 -91 \nQ 1303 -91 875 529 \nQ 447 1150 447 2328 \nQ 447 3434 972 4092 \nQ 1497 4750 2381 4750 \nQ 2619 4750 2861 4703 \nQ 3103 4656 3366 4563 \nz\n\" id=\"DejaVuSans-36\" transform=\"scale(0.015625)\"/>\n       </defs>\n       <use xlink:href=\"#DejaVuSans-32\"/>\n       <use x=\"63.623047\" xlink:href=\"#DejaVuSans-30\"/>\n       <use x=\"127.246094\" xlink:href=\"#DejaVuSans-31\"/>\n       <use x=\"190.869141\" xlink:href=\"#DejaVuSans-36\"/>\n      </g>\n     </g>\n    </g>\n    <g id=\"xtick_2\">\n     <g id=\"line2d_2\">\n      <g>\n       <use style=\"stroke:#000000;stroke-width:0.8;\" x=\"224.601786\" xlink:href=\"#m50535c81da\" y=\"224.64\"/>\n      </g>\n     </g>\n     <g id=\"text_2\">\n      <!-- Q1 -->\n      <g transform=\"translate(217.484598 239.238438)scale(0.1 -0.1)\">\n       <use xlink:href=\"#DejaVuSans-51\"/>\n       <use x=\"78.710938\" xlink:href=\"#DejaVuSans-31\"/>\n      </g>\n      <!-- 2017 -->\n      <g transform=\"translate(211.876786 250.43625)scale(0.1 -0.1)\">\n       <defs>\n        <path d=\"M 525 4666 \nL 3525 4666 \nL 3525 4397 \nL 1831 0 \nL 1172 0 \nL 2766 4134 \nL 525 4134 \nL 525 4666 \nz\n\" id=\"DejaVuSans-37\" transform=\"scale(0.015625)\"/>\n       </defs>\n       <use xlink:href=\"#DejaVuSans-32\"/>\n       <use x=\"63.623047\" xlink:href=\"#DejaVuSans-30\"/>\n       <use x=\"127.246094\" xlink:href=\"#DejaVuSans-31\"/>\n       <use x=\"190.869141\" xlink:href=\"#DejaVuSans-37\"/>\n      </g>\n     </g>\n    </g>\n    <g id=\"xtick_3\">\n     <g id=\"line2d_3\">\n      <defs>\n       <path d=\"M 0 0 \nL 0 2 \n\" id=\"me73461cf90\" style=\"stroke:#000000;stroke-width:0.6;\"/>\n      </defs>\n      <g>\n       <use style=\"stroke:#000000;stroke-width:0.6;\" x=\"81.116071\" xlink:href=\"#me73461cf90\" y=\"224.64\"/>\n      </g>\n     </g>\n     <g id=\"text_3\">\n      <!-- Q2 -->\n      <g transform=\"translate(73.998884 237.638438)scale(0.1 -0.1)\">\n       <use xlink:href=\"#DejaVuSans-51\"/>\n       <use x=\"78.710938\" xlink:href=\"#DejaVuSans-32\"/>\n      </g>\n     </g>\n    </g>\n    <g id=\"xtick_4\">\n     <g id=\"line2d_4\">\n      <g>\n       <use style=\"stroke:#000000;stroke-width:0.6;\" x=\"128.944643\" xlink:href=\"#me73461cf90\" y=\"224.64\"/>\n      </g>\n     </g>\n     <g id=\"text_4\">\n      <!-- Q3 -->\n      <g transform=\"translate(121.827455 237.638438)scale(0.1 -0.1)\">\n       <defs>\n        <path d=\"M 2597 2516 \nQ 3050 2419 3304 2112 \nQ 3559 1806 3559 1356 \nQ 3559 666 3084 287 \nQ 2609 -91 1734 -91 \nQ 1441 -91 1130 -33 \nQ 819 25 488 141 \nL 488 750 \nQ 750 597 1062 519 \nQ 1375 441 1716 441 \nQ 2309 441 2620 675 \nQ 2931 909 2931 1356 \nQ 2931 1769 2642 2001 \nQ 2353 2234 1838 2234 \nL 1294 2234 \nL 1294 2753 \nL 1863 2753 \nQ 2328 2753 2575 2939 \nQ 2822 3125 2822 3475 \nQ 2822 3834 2567 4026 \nQ 2313 4219 1838 4219 \nQ 1578 4219 1281 4162 \nQ 984 4106 628 3988 \nL 628 4550 \nQ 988 4650 1302 4700 \nQ 1616 4750 1894 4750 \nQ 2613 4750 3031 4423 \nQ 3450 4097 3450 3541 \nQ 3450 3153 3228 2886 \nQ 3006 2619 2597 2516 \nz\n\" id=\"DejaVuSans-33\" transform=\"scale(0.015625)\"/>\n       </defs>\n       <use xlink:href=\"#DejaVuSans-51\"/>\n       <use x=\"78.710938\" xlink:href=\"#DejaVuSans-33\"/>\n      </g>\n     </g>\n    </g>\n    <g id=\"xtick_5\">\n     <g id=\"line2d_5\">\n      <g>\n       <use style=\"stroke:#000000;stroke-width:0.6;\" x=\"176.773214\" xlink:href=\"#me73461cf90\" y=\"224.64\"/>\n      </g>\n     </g>\n     <g id=\"text_5\">\n      <!-- Q4 -->\n      <g transform=\"translate(169.656027 237.638438)scale(0.1 -0.1)\">\n       <defs>\n        <path d=\"M 2419 4116 \nL 825 1625 \nL 2419 1625 \nL 2419 4116 \nz\nM 2253 4666 \nL 3047 4666 \nL 3047 1625 \nL 3713 1625 \nL 3713 1100 \nL 3047 1100 \nL 3047 0 \nL 2419 0 \nL 2419 1100 \nL 313 1100 \nL 313 1709 \nL 2253 4666 \nz\n\" id=\"DejaVuSans-34\" transform=\"scale(0.015625)\"/>\n       </defs>\n       <use xlink:href=\"#DejaVuSans-51\"/>\n       <use x=\"78.710938\" xlink:href=\"#DejaVuSans-34\"/>\n      </g>\n     </g>\n    </g>\n    <g id=\"xtick_6\">\n     <g id=\"line2d_6\">\n      <g>\n       <use style=\"stroke:#000000;stroke-width:0.6;\" x=\"272.430357\" xlink:href=\"#me73461cf90\" y=\"224.64\"/>\n      </g>\n     </g>\n     <g id=\"text_6\">\n      <!-- Q2 -->\n      <g transform=\"translate(265.31317 237.638438)scale(0.1 -0.1)\">\n       <use xlink:href=\"#DejaVuSans-51\"/>\n       <use x=\"78.710938\" xlink:href=\"#DejaVuSans-32\"/>\n      </g>\n     </g>\n    </g>\n    <g id=\"xtick_7\">\n     <g id=\"line2d_7\">\n      <g>\n       <use style=\"stroke:#000000;stroke-width:0.6;\" x=\"320.258929\" xlink:href=\"#me73461cf90\" y=\"224.64\"/>\n      </g>\n     </g>\n     <g id=\"text_7\">\n      <!-- Q3 -->\n      <g transform=\"translate(313.141741 237.638438)scale(0.1 -0.1)\">\n       <use xlink:href=\"#DejaVuSans-51\"/>\n       <use x=\"78.710938\" xlink:href=\"#DejaVuSans-33\"/>\n      </g>\n     </g>\n    </g>\n    <g id=\"xtick_8\">\n     <g id=\"line2d_8\">\n      <g>\n       <use style=\"stroke:#000000;stroke-width:0.6;\" x=\"368.0875\" xlink:href=\"#me73461cf90\" y=\"224.64\"/>\n      </g>\n     </g>\n     <g id=\"text_8\">\n      <!-- Q4 -->\n      <g transform=\"translate(360.970312 237.638438)scale(0.1 -0.1)\">\n       <use xlink:href=\"#DejaVuSans-51\"/>\n       <use x=\"78.710938\" xlink:href=\"#DejaVuSans-34\"/>\n      </g>\n     </g>\n    </g>\n   </g>\n   <g id=\"matplotlib.axis_2\">\n    <g id=\"ytick_1\">\n     <g id=\"line2d_9\">\n      <defs>\n       <path d=\"M 0 0 \nL -3.5 0 \n\" id=\"m76a80babbf\" style=\"stroke:#000000;stroke-width:0.8;\"/>\n      </defs>\n      <g>\n       <use style=\"stroke:#000000;stroke-width:0.8;\" x=\"33.2875\" xlink:href=\"#m76a80babbf\" y=\"198.283636\"/>\n      </g>\n     </g>\n     <g id=\"text_9\">\n      <!-- 300 -->\n      <g transform=\"translate(7.2 202.082855)scale(0.1 -0.1)\">\n       <use xlink:href=\"#DejaVuSans-33\"/>\n       <use x=\"63.623047\" xlink:href=\"#DejaVuSans-30\"/>\n       <use x=\"127.246094\" xlink:href=\"#DejaVuSans-30\"/>\n      </g>\n     </g>\n    </g>\n    <g id=\"ytick_2\">\n     <g id=\"line2d_10\">\n      <g>\n       <use style=\"stroke:#000000;stroke-width:0.8;\" x=\"33.2875\" xlink:href=\"#m76a80babbf\" y=\"165.338182\"/>\n      </g>\n     </g>\n     <g id=\"text_10\">\n      <!-- 320 -->\n      <g transform=\"translate(7.2 169.137401)scale(0.1 -0.1)\">\n       <use xlink:href=\"#DejaVuSans-33\"/>\n       <use x=\"63.623047\" xlink:href=\"#DejaVuSans-32\"/>\n       <use x=\"127.246094\" xlink:href=\"#DejaVuSans-30\"/>\n      </g>\n     </g>\n    </g>\n    <g id=\"ytick_3\">\n     <g id=\"line2d_11\">\n      <g>\n       <use style=\"stroke:#000000;stroke-width:0.8;\" x=\"33.2875\" xlink:href=\"#m76a80babbf\" y=\"132.392727\"/>\n      </g>\n     </g>\n     <g id=\"text_11\">\n      <!-- 340 -->\n      <g transform=\"translate(7.2 136.191946)scale(0.1 -0.1)\">\n       <use xlink:href=\"#DejaVuSans-33\"/>\n       <use x=\"63.623047\" xlink:href=\"#DejaVuSans-34\"/>\n       <use x=\"127.246094\" xlink:href=\"#DejaVuSans-30\"/>\n      </g>\n     </g>\n    </g>\n    <g id=\"ytick_4\">\n     <g id=\"line2d_12\">\n      <g>\n       <use style=\"stroke:#000000;stroke-width:0.8;\" x=\"33.2875\" xlink:href=\"#m76a80babbf\" y=\"99.447273\"/>\n      </g>\n     </g>\n     <g id=\"text_12\">\n      <!-- 360 -->\n      <g transform=\"translate(7.2 103.246491)scale(0.1 -0.1)\">\n       <use xlink:href=\"#DejaVuSans-33\"/>\n       <use x=\"63.623047\" xlink:href=\"#DejaVuSans-36\"/>\n       <use x=\"127.246094\" xlink:href=\"#DejaVuSans-30\"/>\n      </g>\n     </g>\n    </g>\n    <g id=\"ytick_5\">\n     <g id=\"line2d_13\">\n      <g>\n       <use style=\"stroke:#000000;stroke-width:0.8;\" x=\"33.2875\" xlink:href=\"#m76a80babbf\" y=\"66.501818\"/>\n      </g>\n     </g>\n     <g id=\"text_13\">\n      <!-- 380 -->\n      <g transform=\"translate(7.2 70.301037)scale(0.1 -0.1)\">\n       <defs>\n        <path d=\"M 2034 2216 \nQ 1584 2216 1326 1975 \nQ 1069 1734 1069 1313 \nQ 1069 891 1326 650 \nQ 1584 409 2034 409 \nQ 2484 409 2743 651 \nQ 3003 894 3003 1313 \nQ 3003 1734 2745 1975 \nQ 2488 2216 2034 2216 \nz\nM 1403 2484 \nQ 997 2584 770 2862 \nQ 544 3141 544 3541 \nQ 544 4100 942 4425 \nQ 1341 4750 2034 4750 \nQ 2731 4750 3128 4425 \nQ 3525 4100 3525 3541 \nQ 3525 3141 3298 2862 \nQ 3072 2584 2669 2484 \nQ 3125 2378 3379 2068 \nQ 3634 1759 3634 1313 \nQ 3634 634 3220 271 \nQ 2806 -91 2034 -91 \nQ 1263 -91 848 271 \nQ 434 634 434 1313 \nQ 434 1759 690 2068 \nQ 947 2378 1403 2484 \nz\nM 1172 3481 \nQ 1172 3119 1398 2916 \nQ 1625 2713 2034 2713 \nQ 2441 2713 2670 2916 \nQ 2900 3119 2900 3481 \nQ 2900 3844 2670 4047 \nQ 2441 4250 2034 4250 \nQ 1625 4250 1398 4047 \nQ 1172 3844 1172 3481 \nz\n\" id=\"DejaVuSans-38\" transform=\"scale(0.015625)\"/>\n       </defs>\n       <use xlink:href=\"#DejaVuSans-33\"/>\n       <use x=\"63.623047\" xlink:href=\"#DejaVuSans-38\"/>\n       <use x=\"127.246094\" xlink:href=\"#DejaVuSans-30\"/>\n      </g>\n     </g>\n    </g>\n    <g id=\"ytick_6\">\n     <g id=\"line2d_14\">\n      <g>\n       <use style=\"stroke:#000000;stroke-width:0.8;\" x=\"33.2875\" xlink:href=\"#m76a80babbf\" y=\"33.556364\"/>\n      </g>\n     </g>\n     <g id=\"text_14\">\n      <!-- 400 -->\n      <g transform=\"translate(7.2 37.355582)scale(0.1 -0.1)\">\n       <use xlink:href=\"#DejaVuSans-34\"/>\n       <use x=\"63.623047\" xlink:href=\"#DejaVuSans-30\"/>\n       <use x=\"127.246094\" xlink:href=\"#DejaVuSans-30\"/>\n      </g>\n     </g>\n    </g>\n   </g>\n   <g id=\"line2d_15\">\n    <path clip-path=\"url(#p455249a02c)\" d=\"M 33.2875 198.283636 \nL 81.116071 165.338182 \nL 128.944643 214.756364 \nL 176.773214 50.029091 \nL 224.601786 165.338182 \nL 272.430357 99.447273 \nL 320.258929 181.810909 \nL 368.0875 17.083636 \n\" style=\"fill:none;stroke:#1f77b4;stroke-linecap:square;stroke-width:1.5;\"/>\n   </g>\n   <g id=\"patch_3\">\n    <path d=\"M 33.2875 224.64 \nL 33.2875 7.2 \n\" style=\"fill:none;stroke:#000000;stroke-linecap:square;stroke-linejoin:miter;stroke-width:0.8;\"/>\n   </g>\n   <g id=\"patch_4\">\n    <path d=\"M 368.0875 224.64 \nL 368.0875 7.2 \n\" style=\"fill:none;stroke:#000000;stroke-linecap:square;stroke-linejoin:miter;stroke-width:0.8;\"/>\n   </g>\n   <g id=\"patch_5\">\n    <path d=\"M 33.2875 224.64 \nL 368.0875 224.64 \n\" style=\"fill:none;stroke:#000000;stroke-linecap:square;stroke-linejoin:miter;stroke-width:0.8;\"/>\n   </g>\n   <g id=\"patch_6\">\n    <path d=\"M 33.2875 7.2 \nL 368.0875 7.2 \n\" style=\"fill:none;stroke:#000000;stroke-linecap:square;stroke-linejoin:miter;stroke-width:0.8;\"/>\n   </g>\n  </g>\n </g>\n <defs>\n  <clipPath id=\"p455249a02c\">\n   <rect height=\"217.44\" width=\"334.8\" x=\"33.2875\" y=\"7.2\"/>\n  </clipPath>\n </defs>\n</svg>\n",
      "image/png": "[encoded data removed]"
     },
     "metadata": {
      "needs_background": "light"
     }
    }
   ],
   "source": [
    "quarterly_revenue.plot(kind=\"line\")\n",
    "plt.show()"
   ]
  },
  {
   "cell_type": "markdown",
   "metadata": {},
   "source": [
    "We can convert periods to timestamps by calling `to_timestamp`. By default this will give us the first day of each period, but by setting `how` and `freq`, we can get the last hour of each period:"
   ]
  },
  {
   "cell_type": "code",
   "execution_count": 47,
   "metadata": {},
   "outputs": [
    {
     "output_type": "execute_result",
     "data": {
      "text/plain": [
       "2016-03-31 23:59:59.999999999    300\n",
       "2016-06-30 23:59:59.999999999    320\n",
       "2016-09-30 23:59:59.999999999    290\n",
       "2016-12-31 23:59:59.999999999    390\n",
       "2017-03-31 23:59:59.999999999    320\n",
       "2017-06-30 23:59:59.999999999    360\n",
       "2017-09-30 23:59:59.999999999    310\n",
       "2017-12-31 23:59:59.999999999    410\n",
       "dtype: int64"
      ]
     },
     "metadata": {},
     "execution_count": 47
    }
   ],
   "source": [
    "last_hours = quarterly_revenue.to_timestamp(how=\"end\", freq=\"H\")\n",
    "last_hours"
   ]
  },
  {
   "cell_type": "markdown",
   "metadata": {},
   "source": [
    "And back to periods by calling `to_period`:"
   ]
  },
  {
   "cell_type": "code",
   "execution_count": 48,
   "metadata": {},
   "outputs": [
    {
     "output_type": "execute_result",
     "data": {
      "text/plain": [
       "2016Q1    300\n",
       "2016Q2    320\n",
       "2016Q3    290\n",
       "2016Q4    390\n",
       "2017Q1    320\n",
       "2017Q2    360\n",
       "2017Q3    310\n",
       "2017Q4    410\n",
       "Freq: Q-DEC, dtype: int64"
      ]
     },
     "metadata": {},
     "execution_count": 48
    }
   ],
   "source": [
    "last_hours.to_period()"
   ]
  },
  {
   "cell_type": "markdown",
   "metadata": {},
   "source": [
    "Pandas also provides many other time-related functions that we recommend you check out in the [documentation](http://pandas.pydata.org/pandas-docs/stable/timeseries.html). To whet your appetite, here is one way to get the last business day of each month in 2016, at 9am:"
   ]
  },
  {
   "cell_type": "code",
   "execution_count": 49,
   "metadata": {},
   "outputs": [
    {
     "output_type": "execute_result",
     "data": {
      "text/plain": [
       "PeriodIndex(['2016-01-29 09:00', '2016-02-29 09:00', '2016-03-31 09:00',\n",
       "             '2016-04-29 09:00', '2016-05-31 09:00', '2016-06-30 09:00',\n",
       "             '2016-07-29 09:00', '2016-08-31 09:00', '2016-09-30 09:00',\n",
       "             '2016-10-31 09:00', '2016-11-30 09:00', '2016-12-30 09:00'],\n",
       "            dtype='period[H]', freq='H')"
      ]
     },
     "metadata": {},
     "execution_count": 49
    }
   ],
   "source": [
    "months_2016 = pd.period_range(\"2016\", periods=12, freq=\"M\")\n",
    "one_day_after_last_days = months_2016.asfreq(\"D\") + 1\n",
    "last_bdays = one_day_after_last_days.to_timestamp() - pd.tseries.offsets.BDay()\n",
    "last_bdays.to_period(\"H\") + 9"
   ]
  },
  {
   "cell_type": "markdown",
   "metadata": {},
   "source": [
    "# `DataFrame` objects\n",
    "A DataFrame object represents a spreadsheet, with cell values, column names and row index labels. You can define expressions to compute columns based on other columns, create pivot-tables, group rows, draw graphs, etc. You can see `DataFrame`s as dictionaries of `Series`.\n",
    "\n",
    "## Creating a `DataFrame`\n",
    "You can create a DataFrame by passing a dictionary of `Series` objects:"
   ]
  },
  {
   "cell_type": "code",
   "execution_count": 50,
   "metadata": {},
   "outputs": [
    {
     "output_type": "execute_result",
     "data": {
      "text/plain": [
       "         weight  birthyear  children    hobby\n",
       "alice        68       1985       NaN   Biking\n",
       "bob          83       1984       3.0  Dancing\n",
       "charles     112       1992       0.0      NaN"
      ],
      "text/html": "<div>\n<style scoped>\n    .dataframe tbody tr th:only-of-type {\n        vertical-align: middle;\n    }\n\n    .dataframe tbody tr th {\n        vertical-align: top;\n    }\n\n    .dataframe thead th {\n        text-align: right;\n    }\n</style>\n<table border=\"1\" class=\"dataframe\">\n  <thead>\n    <tr style=\"text-align: right;\">\n      <th></th>\n      <th>weight</th>\n      <th>birthyear</th>\n      <th>children</th>\n      <th>hobby</th>\n    </tr>\n  </thead>\n  <tbody>\n    <tr>\n      <th>alice</th>\n      <td>68</td>\n      <td>1985</td>\n      <td>NaN</td>\n      <td>Biking</td>\n    </tr>\n    <tr>\n      <th>bob</th>\n      <td>83</td>\n      <td>1984</td>\n      <td>3.0</td>\n      <td>Dancing</td>\n    </tr>\n    <tr>\n      <th>charles</th>\n      <td>112</td>\n      <td>1992</td>\n      <td>0.0</td>\n      <td>NaN</td>\n    </tr>\n  </tbody>\n</table>\n</div>"
     },
     "metadata": {},
     "execution_count": 50
    }
   ],
   "source": [
    "people_dict = {\n",
    "    \"weight\":\n",
    "        pd.Series([68, 83, 112], index=[\"alice\", \"bob\", \"charles\"]),\n",
    "    \"birthyear\":\n",
    "        pd.Series([1984, 1985, 1992],\n",
    "                  index=[\"bob\", \"alice\", \"charles\"],\n",
    "                  name=\"year\"),\n",
    "    \"children\":\n",
    "        pd.Series([0, 3], index=[\"charles\", \"bob\"]),\n",
    "    \"hobby\":\n",
    "        pd.Series([\"Biking\", \"Dancing\"], index=[\"alice\", \"bob\"]),\n",
    "}\n",
    "people = pd.DataFrame(people_dict)\n",
    "people"
   ]
  },
  {
   "cell_type": "markdown",
   "metadata": {},
   "source": [
    "A few things to note:\n",
    "* the `Series` were automatically aligned based on their index,\n",
    "* missing values are represented as `NaN`,\n",
    "* `Series` names are ignored (the name `\"year\"` was dropped),\n",
    "* `DataFrame`s are displayed nicely in Jupyter notebooks, woohoo!"
   ]
  },
  {
   "cell_type": "markdown",
   "metadata": {},
   "source": [
    "You can access columns pretty much as you would expect. They are returned as `Series` objects:"
   ]
  },
  {
   "cell_type": "code",
   "execution_count": 51,
   "metadata": {},
   "outputs": [
    {
     "output_type": "execute_result",
     "data": {
      "text/plain": [
       "alice      1985\n",
       "bob        1984\n",
       "charles    1992\n",
       "Name: birthyear, dtype: int64"
      ]
     },
     "metadata": {},
     "execution_count": 51
    }
   ],
   "source": [
    "people[\"birthyear\"]"
   ]
  },
  {
   "cell_type": "markdown",
   "metadata": {},
   "source": [
    "You can also get multiple columns at once:"
   ]
  },
  {
   "cell_type": "code",
   "execution_count": 52,
   "metadata": {},
   "outputs": [
    {
     "output_type": "execute_result",
     "data": {
      "text/plain": [
       "         birthyear    hobby\n",
       "alice         1985   Biking\n",
       "bob           1984  Dancing\n",
       "charles       1992      NaN"
      ],
      "text/html": "<div>\n<style scoped>\n    .dataframe tbody tr th:only-of-type {\n        vertical-align: middle;\n    }\n\n    .dataframe tbody tr th {\n        vertical-align: top;\n    }\n\n    .dataframe thead th {\n        text-align: right;\n    }\n</style>\n<table border=\"1\" class=\"dataframe\">\n  <thead>\n    <tr style=\"text-align: right;\">\n      <th></th>\n      <th>birthyear</th>\n      <th>hobby</th>\n    </tr>\n  </thead>\n  <tbody>\n    <tr>\n      <th>alice</th>\n      <td>1985</td>\n      <td>Biking</td>\n    </tr>\n    <tr>\n      <th>bob</th>\n      <td>1984</td>\n      <td>Dancing</td>\n    </tr>\n    <tr>\n      <th>charles</th>\n      <td>1992</td>\n      <td>NaN</td>\n    </tr>\n  </tbody>\n</table>\n</div>"
     },
     "metadata": {},
     "execution_count": 52
    }
   ],
   "source": [
    "people[[\"birthyear\", \"hobby\"]]"
   ]
  },
  {
   "cell_type": "markdown",
   "metadata": {},
   "source": [
    "If you pass a list of columns and/or index row labels to the `DataFrame` constructor, it will guarantee that these columns and/or rows will exist, in that order, and no other column/row will exist. For example:"
   ]
  },
  {
   "cell_type": "code",
   "execution_count": 53,
   "metadata": {},
   "outputs": [
    {
     "output_type": "execute_result",
     "data": {
      "text/plain": [
       "        birthyear  weight height\n",
       "bob        1984.0    83.0    NaN\n",
       "alice      1985.0    68.0    NaN\n",
       "eugene        NaN     NaN    NaN"
      ],
      "text/html": "<div>\n<style scoped>\n    .dataframe tbody tr th:only-of-type {\n        vertical-align: middle;\n    }\n\n    .dataframe tbody tr th {\n        vertical-align: top;\n    }\n\n    .dataframe thead th {\n        text-align: right;\n    }\n</style>\n<table border=\"1\" class=\"dataframe\">\n  <thead>\n    <tr style=\"text-align: right;\">\n      <th></th>\n      <th>birthyear</th>\n      <th>weight</th>\n      <th>height</th>\n    </tr>\n  </thead>\n  <tbody>\n    <tr>\n      <th>bob</th>\n      <td>1984.0</td>\n      <td>83.0</td>\n      <td>NaN</td>\n    </tr>\n    <tr>\n      <th>alice</th>\n      <td>1985.0</td>\n      <td>68.0</td>\n      <td>NaN</td>\n    </tr>\n    <tr>\n      <th>eugene</th>\n      <td>NaN</td>\n      <td>NaN</td>\n      <td>NaN</td>\n    </tr>\n  </tbody>\n</table>\n</div>"
     },
     "metadata": {},
     "execution_count": 53
    }
   ],
   "source": [
    "d2 = pd.DataFrame(people_dict,\n",
    "                  columns=[\"birthyear\", \"weight\", \"height\"],\n",
    "                  index=[\"bob\", \"alice\", \"eugene\"])\n",
    "d2"
   ]
  },
  {
   "cell_type": "markdown",
   "metadata": {},
   "source": [
    "Another convenient way to create a `DataFrame` is to pass all the values to the constructor as an `ndarray`, or a list of lists, and specify the column names and row index labels separately:"
   ]
  },
  {
   "cell_type": "code",
   "execution_count": 54,
   "metadata": {},
   "outputs": [
    {
     "output_type": "execute_result",
     "data": {
      "text/plain": [
       "         birthyear  children    hobby  weight\n",
       "alice         1985       NaN   Biking      68\n",
       "bob           1984       3.0  Dancing      83\n",
       "charles       1992       0.0      NaN     112"
      ],
      "text/html": "<div>\n<style scoped>\n    .dataframe tbody tr th:only-of-type {\n        vertical-align: middle;\n    }\n\n    .dataframe tbody tr th {\n        vertical-align: top;\n    }\n\n    .dataframe thead th {\n        text-align: right;\n    }\n</style>\n<table border=\"1\" class=\"dataframe\">\n  <thead>\n    <tr style=\"text-align: right;\">\n      <th></th>\n      <th>birthyear</th>\n      <th>children</th>\n      <th>hobby</th>\n      <th>weight</th>\n    </tr>\n  </thead>\n  <tbody>\n    <tr>\n      <th>alice</th>\n      <td>1985</td>\n      <td>NaN</td>\n      <td>Biking</td>\n      <td>68</td>\n    </tr>\n    <tr>\n      <th>bob</th>\n      <td>1984</td>\n      <td>3.0</td>\n      <td>Dancing</td>\n      <td>83</td>\n    </tr>\n    <tr>\n      <th>charles</th>\n      <td>1992</td>\n      <td>0.0</td>\n      <td>NaN</td>\n      <td>112</td>\n    </tr>\n  </tbody>\n</table>\n</div>"
     },
     "metadata": {},
     "execution_count": 54
    }
   ],
   "source": [
    "values = [[1985, np.nan, \"Biking\", 68], [1984, 3, \"Dancing\", 83],\n",
    "          [1992, 0, np.nan, 112]]\n",
    "d3 = pd.DataFrame(values,\n",
    "                  columns=[\"birthyear\", \"children\", \"hobby\", \"weight\"],\n",
    "                  index=[\"alice\", \"bob\", \"charles\"])\n",
    "d3"
   ]
  },
  {
   "cell_type": "markdown",
   "metadata": {},
   "source": [
    "To specify missing values, you can either use `np.nan` or NumPy's masked arrays:"
   ]
  },
  {
   "cell_type": "code",
   "execution_count": 55,
   "metadata": {},
   "outputs": [
    {
     "output_type": "stream",
     "name": "stderr",
     "text": [
      "<ipython-input-55-e3547112b01e>:1: DeprecationWarning: `np.object` is a deprecated alias for the builtin `object`. To silence this warning, use `object` by itself. Doing this will not modify any behavior and is safe. \nDeprecated in NumPy 1.20; for more details and guidance: https://numpy.org/devdocs/release/1.20.0-notes.html#deprecations\n  masked_array = np.ma.asarray(values, dtype=np.object)\n"
     ]
    },
    {
     "output_type": "execute_result",
     "data": {
      "text/plain": [
       "        birthyear children    hobby weight\n",
       "alice        1985      NaN   Biking     68\n",
       "bob          1984        3  Dancing     83\n",
       "charles      1992        0      NaN    112"
      ],
      "text/html": "<div>\n<style scoped>\n    .dataframe tbody tr th:only-of-type {\n        vertical-align: middle;\n    }\n\n    .dataframe tbody tr th {\n        vertical-align: top;\n    }\n\n    .dataframe thead th {\n        text-align: right;\n    }\n</style>\n<table border=\"1\" class=\"dataframe\">\n  <thead>\n    <tr style=\"text-align: right;\">\n      <th></th>\n      <th>birthyear</th>\n      <th>children</th>\n      <th>hobby</th>\n      <th>weight</th>\n    </tr>\n  </thead>\n  <tbody>\n    <tr>\n      <th>alice</th>\n      <td>1985</td>\n      <td>NaN</td>\n      <td>Biking</td>\n      <td>68</td>\n    </tr>\n    <tr>\n      <th>bob</th>\n      <td>1984</td>\n      <td>3</td>\n      <td>Dancing</td>\n      <td>83</td>\n    </tr>\n    <tr>\n      <th>charles</th>\n      <td>1992</td>\n      <td>0</td>\n      <td>NaN</td>\n      <td>112</td>\n    </tr>\n  </tbody>\n</table>\n</div>"
     },
     "metadata": {},
     "execution_count": 55
    }
   ],
   "source": [
    "masked_array = np.ma.asarray(values, dtype=np.object)\n",
    "masked_array[(0, 2), (1, 2)] = np.ma.masked\n",
    "d3 = pd.DataFrame(masked_array,\n",
    "                  columns=[\"birthyear\", \"children\", \"hobby\", \"weight\"],\n",
    "                  index=[\"alice\", \"bob\", \"charles\"])\n",
    "d3"
   ]
  },
  {
   "cell_type": "markdown",
   "metadata": {},
   "source": [
    "Instead of an `ndarray`, you can also pass a `DataFrame` object:"
   ]
  },
  {
   "cell_type": "code",
   "execution_count": 56,
   "metadata": {},
   "outputs": [
    {
     "output_type": "execute_result",
     "data": {
      "text/plain": [
       "         hobby children\n",
       "alice   Biking      NaN\n",
       "bob    Dancing        3"
      ],
      "text/html": "<div>\n<style scoped>\n    .dataframe tbody tr th:only-of-type {\n        vertical-align: middle;\n    }\n\n    .dataframe tbody tr th {\n        vertical-align: top;\n    }\n\n    .dataframe thead th {\n        text-align: right;\n    }\n</style>\n<table border=\"1\" class=\"dataframe\">\n  <thead>\n    <tr style=\"text-align: right;\">\n      <th></th>\n      <th>hobby</th>\n      <th>children</th>\n    </tr>\n  </thead>\n  <tbody>\n    <tr>\n      <th>alice</th>\n      <td>Biking</td>\n      <td>NaN</td>\n    </tr>\n    <tr>\n      <th>bob</th>\n      <td>Dancing</td>\n      <td>3</td>\n    </tr>\n  </tbody>\n</table>\n</div>"
     },
     "metadata": {},
     "execution_count": 56
    }
   ],
   "source": [
    "d4 = pd.DataFrame(d3, columns=[\"hobby\", \"children\"], index=[\"alice\", \"bob\"])\n",
    "d4"
   ]
  },
  {
   "cell_type": "markdown",
   "metadata": {},
   "source": [
    "It is also possible to create a `DataFrame` with a dictionary (or list) of dictionaries (or list):"
   ]
  },
  {
   "cell_type": "code",
   "execution_count": 57,
   "metadata": {},
   "outputs": [
    {
     "output_type": "execute_result",
     "data": {
      "text/plain": [
       "         birthyear    hobby  weight  children\n",
       "alice         1985   Biking      68       NaN\n",
       "bob           1984  Dancing      83       3.0\n",
       "charles       1992      NaN     112       0.0"
      ],
      "text/html": "<div>\n<style scoped>\n    .dataframe tbody tr th:only-of-type {\n        vertical-align: middle;\n    }\n\n    .dataframe tbody tr th {\n        vertical-align: top;\n    }\n\n    .dataframe thead th {\n        text-align: right;\n    }\n</style>\n<table border=\"1\" class=\"dataframe\">\n  <thead>\n    <tr style=\"text-align: right;\">\n      <th></th>\n      <th>birthyear</th>\n      <th>hobby</th>\n      <th>weight</th>\n      <th>children</th>\n    </tr>\n  </thead>\n  <tbody>\n    <tr>\n      <th>alice</th>\n      <td>1985</td>\n      <td>Biking</td>\n      <td>68</td>\n      <td>NaN</td>\n    </tr>\n    <tr>\n      <th>bob</th>\n      <td>1984</td>\n      <td>Dancing</td>\n      <td>83</td>\n      <td>3.0</td>\n    </tr>\n    <tr>\n      <th>charles</th>\n      <td>1992</td>\n      <td>NaN</td>\n      <td>112</td>\n      <td>0.0</td>\n    </tr>\n  </tbody>\n</table>\n</div>"
     },
     "metadata": {},
     "execution_count": 57
    }
   ],
   "source": [
    "people = pd.DataFrame({\n",
    "    \"birthyear\": {\n",
    "        \"alice\": 1985,\n",
    "        \"bob\": 1984,\n",
    "        \"charles\": 1992\n",
    "    },\n",
    "    \"hobby\": {\n",
    "        \"alice\": \"Biking\",\n",
    "        \"bob\": \"Dancing\"\n",
    "    },\n",
    "    \"weight\": {\n",
    "        \"alice\": 68,\n",
    "        \"bob\": 83,\n",
    "        \"charles\": 112\n",
    "    },\n",
    "    \"children\": {\n",
    "        \"bob\": 3,\n",
    "        \"charles\": 0\n",
    "    }\n",
    "})\n",
    "people"
   ]
  },
  {
   "cell_type": "markdown",
   "metadata": {},
   "source": [
    "## Multi-indexing\n",
    "If all columns are tuples of the same size, then they are understood as a multi-index. The same goes for row index labels. For example:"
   ]
  },
  {
   "cell_type": "code",
   "execution_count": 58,
   "metadata": {},
   "outputs": [
    {
     "output_type": "execute_result",
     "data": {
      "text/plain": [
       "                  public          private         \n",
       "               birthyear    hobby  weight children\n",
       "Paris  alice        1985   Biking      68      NaN\n",
       "       bob          1984  Dancing      83      3.0\n",
       "London charles      1992      NaN     112      0.0"
      ],
      "text/html": "<div>\n<style scoped>\n    .dataframe tbody tr th:only-of-type {\n        vertical-align: middle;\n    }\n\n    .dataframe tbody tr th {\n        vertical-align: top;\n    }\n\n    .dataframe thead tr th {\n        text-align: left;\n    }\n</style>\n<table border=\"1\" class=\"dataframe\">\n  <thead>\n    <tr>\n      <th></th>\n      <th></th>\n      <th colspan=\"2\" halign=\"left\">public</th>\n      <th colspan=\"2\" halign=\"left\">private</th>\n    </tr>\n    <tr>\n      <th></th>\n      <th></th>\n      <th>birthyear</th>\n      <th>hobby</th>\n      <th>weight</th>\n      <th>children</th>\n    </tr>\n  </thead>\n  <tbody>\n    <tr>\n      <th rowspan=\"2\" valign=\"top\">Paris</th>\n      <th>alice</th>\n      <td>1985</td>\n      <td>Biking</td>\n      <td>68</td>\n      <td>NaN</td>\n    </tr>\n    <tr>\n      <th>bob</th>\n      <td>1984</td>\n      <td>Dancing</td>\n      <td>83</td>\n      <td>3.0</td>\n    </tr>\n    <tr>\n      <th>London</th>\n      <th>charles</th>\n      <td>1992</td>\n      <td>NaN</td>\n      <td>112</td>\n      <td>0.0</td>\n    </tr>\n  </tbody>\n</table>\n</div>"
     },
     "metadata": {},
     "execution_count": 58
    }
   ],
   "source": [
    "d5 = pd.DataFrame({\n",
    "    (\"public\", \"birthyear\"): {\n",
    "        (\"Paris\", \"alice\"): 1985,\n",
    "        (\"Paris\", \"bob\"): 1984,\n",
    "        (\"London\", \"charles\"): 1992\n",
    "    },\n",
    "    (\"public\", \"hobby\"): {\n",
    "        (\"Paris\", \"alice\"): \"Biking\",\n",
    "        (\"Paris\", \"bob\"): \"Dancing\"\n",
    "    },\n",
    "    (\"private\", \"weight\"): {\n",
    "        (\"Paris\", \"alice\"): 68,\n",
    "        (\"Paris\", \"bob\"): 83,\n",
    "        (\"London\", \"charles\"): 112\n",
    "    },\n",
    "    (\"private\", \"children\"): {\n",
    "        (\"Paris\", \"alice\"): np.nan,\n",
    "        (\"Paris\", \"bob\"): 3,\n",
    "        (\"London\", \"charles\"): 0\n",
    "    }\n",
    "})\n",
    "d5"
   ]
  },
  {
   "cell_type": "markdown",
   "metadata": {},
   "source": [
    "You can now get a `DataFrame` containing all the `\"public\"` columns very simply:"
   ]
  },
  {
   "cell_type": "code",
   "execution_count": 59,
   "metadata": {},
   "outputs": [
    {
     "output_type": "execute_result",
     "data": {
      "text/plain": [
       "                birthyear    hobby\n",
       "Paris  alice         1985   Biking\n",
       "       bob           1984  Dancing\n",
       "London charles       1992      NaN"
      ],
      "text/html": "<div>\n<style scoped>\n    .dataframe tbody tr th:only-of-type {\n        vertical-align: middle;\n    }\n\n    .dataframe tbody tr th {\n        vertical-align: top;\n    }\n\n    .dataframe thead th {\n        text-align: right;\n    }\n</style>\n<table border=\"1\" class=\"dataframe\">\n  <thead>\n    <tr style=\"text-align: right;\">\n      <th></th>\n      <th></th>\n      <th>birthyear</th>\n      <th>hobby</th>\n    </tr>\n  </thead>\n  <tbody>\n    <tr>\n      <th rowspan=\"2\" valign=\"top\">Paris</th>\n      <th>alice</th>\n      <td>1985</td>\n      <td>Biking</td>\n    </tr>\n    <tr>\n      <th>bob</th>\n      <td>1984</td>\n      <td>Dancing</td>\n    </tr>\n    <tr>\n      <th>London</th>\n      <th>charles</th>\n      <td>1992</td>\n      <td>NaN</td>\n    </tr>\n  </tbody>\n</table>\n</div>"
     },
     "metadata": {},
     "execution_count": 59
    }
   ],
   "source": [
    "d5[\"public\"]"
   ]
  },
  {
   "cell_type": "code",
   "execution_count": 60,
   "metadata": {},
   "outputs": [
    {
     "output_type": "execute_result",
     "data": {
      "text/plain": [
       "Paris   alice       Biking\n",
       "        bob        Dancing\n",
       "London  charles        NaN\n",
       "Name: (public, hobby), dtype: object"
      ]
     },
     "metadata": {},
     "execution_count": 60
    }
   ],
   "source": [
    "d5[\"public\", \"hobby\"]  # Same result as d5[\"public\"][\"hobby\"]"
   ]
  },
  {
   "cell_type": "markdown",
   "metadata": {},
   "source": [
    "## Dropping a level\n",
    "Let's look at `d5` again:"
   ]
  },
  {
   "cell_type": "code",
   "execution_count": 61,
   "metadata": {},
   "outputs": [
    {
     "output_type": "execute_result",
     "data": {
      "text/plain": [
       "                  public          private         \n",
       "               birthyear    hobby  weight children\n",
       "Paris  alice        1985   Biking      68      NaN\n",
       "       bob          1984  Dancing      83      3.0\n",
       "London charles      1992      NaN     112      0.0"
      ],
      "text/html": "<div>\n<style scoped>\n    .dataframe tbody tr th:only-of-type {\n        vertical-align: middle;\n    }\n\n    .dataframe tbody tr th {\n        vertical-align: top;\n    }\n\n    .dataframe thead tr th {\n        text-align: left;\n    }\n</style>\n<table border=\"1\" class=\"dataframe\">\n  <thead>\n    <tr>\n      <th></th>\n      <th></th>\n      <th colspan=\"2\" halign=\"left\">public</th>\n      <th colspan=\"2\" halign=\"left\">private</th>\n    </tr>\n    <tr>\n      <th></th>\n      <th></th>\n      <th>birthyear</th>\n      <th>hobby</th>\n      <th>weight</th>\n      <th>children</th>\n    </tr>\n  </thead>\n  <tbody>\n    <tr>\n      <th rowspan=\"2\" valign=\"top\">Paris</th>\n      <th>alice</th>\n      <td>1985</td>\n      <td>Biking</td>\n      <td>68</td>\n      <td>NaN</td>\n    </tr>\n    <tr>\n      <th>bob</th>\n      <td>1984</td>\n      <td>Dancing</td>\n      <td>83</td>\n      <td>3.0</td>\n    </tr>\n    <tr>\n      <th>London</th>\n      <th>charles</th>\n      <td>1992</td>\n      <td>NaN</td>\n      <td>112</td>\n      <td>0.0</td>\n    </tr>\n  </tbody>\n</table>\n</div>"
     },
     "metadata": {},
     "execution_count": 61
    }
   ],
   "source": [
    "d5"
   ]
  },
  {
   "cell_type": "markdown",
   "metadata": {},
   "source": [
    "There are two levels of columns, and two levels of indices. We can drop a column level by calling `droplevel()` (the same goes for indices):"
   ]
  },
  {
   "cell_type": "code",
   "execution_count": 62,
   "metadata": {},
   "outputs": [
    {
     "output_type": "execute_result",
     "data": {
      "text/plain": [
       "                birthyear    hobby  weight  children\n",
       "Paris  alice         1985   Biking      68       NaN\n",
       "       bob           1984  Dancing      83       3.0\n",
       "London charles       1992      NaN     112       0.0"
      ],
      "text/html": "<div>\n<style scoped>\n    .dataframe tbody tr th:only-of-type {\n        vertical-align: middle;\n    }\n\n    .dataframe tbody tr th {\n        vertical-align: top;\n    }\n\n    .dataframe thead th {\n        text-align: right;\n    }\n</style>\n<table border=\"1\" class=\"dataframe\">\n  <thead>\n    <tr style=\"text-align: right;\">\n      <th></th>\n      <th></th>\n      <th>birthyear</th>\n      <th>hobby</th>\n      <th>weight</th>\n      <th>children</th>\n    </tr>\n  </thead>\n  <tbody>\n    <tr>\n      <th rowspan=\"2\" valign=\"top\">Paris</th>\n      <th>alice</th>\n      <td>1985</td>\n      <td>Biking</td>\n      <td>68</td>\n      <td>NaN</td>\n    </tr>\n    <tr>\n      <th>bob</th>\n      <td>1984</td>\n      <td>Dancing</td>\n      <td>83</td>\n      <td>3.0</td>\n    </tr>\n    <tr>\n      <th>London</th>\n      <th>charles</th>\n      <td>1992</td>\n      <td>NaN</td>\n      <td>112</td>\n      <td>0.0</td>\n    </tr>\n  </tbody>\n</table>\n</div>"
     },
     "metadata": {},
     "execution_count": 62
    }
   ],
   "source": [
    "d5.columns = d5.columns.droplevel(level=0)\n",
    "d5"
   ]
  },
  {
   "cell_type": "markdown",
   "metadata": {},
   "source": [
    "## Transposing\n",
    "You can swap columns and indices using the `T` attribute:"
   ]
  },
  {
   "cell_type": "code",
   "execution_count": 63,
   "metadata": {},
   "outputs": [
    {
     "output_type": "execute_result",
     "data": {
      "text/plain": [
       "            Paris           London\n",
       "            alice      bob charles\n",
       "birthyear    1985     1984    1992\n",
       "hobby      Biking  Dancing     NaN\n",
       "weight         68       83     112\n",
       "children      NaN      3.0     0.0"
      ],
      "text/html": "<div>\n<style scoped>\n    .dataframe tbody tr th:only-of-type {\n        vertical-align: middle;\n    }\n\n    .dataframe tbody tr th {\n        vertical-align: top;\n    }\n\n    .dataframe thead tr th {\n        text-align: left;\n    }\n</style>\n<table border=\"1\" class=\"dataframe\">\n  <thead>\n    <tr>\n      <th></th>\n      <th colspan=\"2\" halign=\"left\">Paris</th>\n      <th>London</th>\n    </tr>\n    <tr>\n      <th></th>\n      <th>alice</th>\n      <th>bob</th>\n      <th>charles</th>\n    </tr>\n  </thead>\n  <tbody>\n    <tr>\n      <th>birthyear</th>\n      <td>1985</td>\n      <td>1984</td>\n      <td>1992</td>\n    </tr>\n    <tr>\n      <th>hobby</th>\n      <td>Biking</td>\n      <td>Dancing</td>\n      <td>NaN</td>\n    </tr>\n    <tr>\n      <th>weight</th>\n      <td>68</td>\n      <td>83</td>\n      <td>112</td>\n    </tr>\n    <tr>\n      <th>children</th>\n      <td>NaN</td>\n      <td>3.0</td>\n      <td>0.0</td>\n    </tr>\n  </tbody>\n</table>\n</div>"
     },
     "metadata": {},
     "execution_count": 63
    }
   ],
   "source": [
    "d6 = d5.T\n",
    "d6"
   ]
  },
  {
   "cell_type": "markdown",
   "metadata": {},
   "source": [
    "## Stacking and unstacking levels\n",
    "Calling the `stack()` method will push the lowest column level after the lowest index:"
   ]
  },
  {
   "cell_type": "code",
   "execution_count": 64,
   "metadata": {},
   "outputs": [
    {
     "output_type": "execute_result",
     "data": {
      "text/plain": [
       "                  London    Paris\n",
       "birthyear alice      NaN     1985\n",
       "          bob        NaN     1984\n",
       "          charles   1992      NaN\n",
       "hobby     alice      NaN   Biking\n",
       "          bob        NaN  Dancing\n",
       "weight    alice      NaN       68\n",
       "          bob        NaN       83\n",
       "          charles    112      NaN\n",
       "children  bob        NaN      3.0\n",
       "          charles    0.0      NaN"
      ],
      "text/html": "<div>\n<style scoped>\n    .dataframe tbody tr th:only-of-type {\n        vertical-align: middle;\n    }\n\n    .dataframe tbody tr th {\n        vertical-align: top;\n    }\n\n    .dataframe thead th {\n        text-align: right;\n    }\n</style>\n<table border=\"1\" class=\"dataframe\">\n  <thead>\n    <tr style=\"text-align: right;\">\n      <th></th>\n      <th></th>\n      <th>London</th>\n      <th>Paris</th>\n    </tr>\n  </thead>\n  <tbody>\n    <tr>\n      <th rowspan=\"3\" valign=\"top\">birthyear</th>\n      <th>alice</th>\n      <td>NaN</td>\n      <td>1985</td>\n    </tr>\n    <tr>\n      <th>bob</th>\n      <td>NaN</td>\n      <td>1984</td>\n    </tr>\n    <tr>\n      <th>charles</th>\n      <td>1992</td>\n      <td>NaN</td>\n    </tr>\n    <tr>\n      <th rowspan=\"2\" valign=\"top\">hobby</th>\n      <th>alice</th>\n      <td>NaN</td>\n      <td>Biking</td>\n    </tr>\n    <tr>\n      <th>bob</th>\n      <td>NaN</td>\n      <td>Dancing</td>\n    </tr>\n    <tr>\n      <th rowspan=\"3\" valign=\"top\">weight</th>\n      <th>alice</th>\n      <td>NaN</td>\n      <td>68</td>\n    </tr>\n    <tr>\n      <th>bob</th>\n      <td>NaN</td>\n      <td>83</td>\n    </tr>\n    <tr>\n      <th>charles</th>\n      <td>112</td>\n      <td>NaN</td>\n    </tr>\n    <tr>\n      <th rowspan=\"2\" valign=\"top\">children</th>\n      <th>bob</th>\n      <td>NaN</td>\n      <td>3.0</td>\n    </tr>\n    <tr>\n      <th>charles</th>\n      <td>0.0</td>\n      <td>NaN</td>\n    </tr>\n  </tbody>\n</table>\n</div>"
     },
     "metadata": {},
     "execution_count": 64
    }
   ],
   "source": [
    "d7 = d6.stack()\n",
    "d7"
   ]
  },
  {
   "cell_type": "markdown",
   "metadata": {},
   "source": [
    "Note that many `NaN` values appeared. This makes sense because many new combinations did not exist before (eg. there was no `bob` in `London`).\n",
    "\n",
    "Calling `unstack()` will do the reverse, once again creating many `NaN` values."
   ]
  },
  {
   "cell_type": "code",
   "execution_count": 65,
   "metadata": {},
   "outputs": [
    {
     "output_type": "execute_result",
     "data": {
      "text/plain": [
       "          London                Paris                 \n",
       "           alice  bob charles   alice      bob charles\n",
       "birthyear    NaN  NaN    1992    1985     1984     NaN\n",
       "children     NaN  NaN     0.0     NaN      3.0     NaN\n",
       "hobby        NaN  NaN     NaN  Biking  Dancing     NaN\n",
       "weight       NaN  NaN     112      68       83     NaN"
      ],
      "text/html": "<div>\n<style scoped>\n    .dataframe tbody tr th:only-of-type {\n        vertical-align: middle;\n    }\n\n    .dataframe tbody tr th {\n        vertical-align: top;\n    }\n\n    .dataframe thead tr th {\n        text-align: left;\n    }\n</style>\n<table border=\"1\" class=\"dataframe\">\n  <thead>\n    <tr>\n      <th></th>\n      <th colspan=\"3\" halign=\"left\">London</th>\n      <th colspan=\"3\" halign=\"left\">Paris</th>\n    </tr>\n    <tr>\n      <th></th>\n      <th>alice</th>\n      <th>bob</th>\n      <th>charles</th>\n      <th>alice</th>\n      <th>bob</th>\n      <th>charles</th>\n    </tr>\n  </thead>\n  <tbody>\n    <tr>\n      <th>birthyear</th>\n      <td>NaN</td>\n      <td>NaN</td>\n      <td>1992</td>\n      <td>1985</td>\n      <td>1984</td>\n      <td>NaN</td>\n    </tr>\n    <tr>\n      <th>children</th>\n      <td>NaN</td>\n      <td>NaN</td>\n      <td>0.0</td>\n      <td>NaN</td>\n      <td>3.0</td>\n      <td>NaN</td>\n    </tr>\n    <tr>\n      <th>hobby</th>\n      <td>NaN</td>\n      <td>NaN</td>\n      <td>NaN</td>\n      <td>Biking</td>\n      <td>Dancing</td>\n      <td>NaN</td>\n    </tr>\n    <tr>\n      <th>weight</th>\n      <td>NaN</td>\n      <td>NaN</td>\n      <td>112</td>\n      <td>68</td>\n      <td>83</td>\n      <td>NaN</td>\n    </tr>\n  </tbody>\n</table>\n</div>"
     },
     "metadata": {},
     "execution_count": 65
    }
   ],
   "source": [
    "d8 = d7.unstack()\n",
    "d8"
   ]
  },
  {
   "cell_type": "markdown",
   "metadata": {},
   "source": [
    "If we call `unstack` again, we end up with a `Series` object:"
   ]
  },
  {
   "cell_type": "code",
   "execution_count": 66,
   "metadata": {},
   "outputs": [
    {
     "output_type": "execute_result",
     "data": {
      "text/plain": [
       "London  alice    birthyear        NaN\n",
       "                 children         NaN\n",
       "                 hobby            NaN\n",
       "                 weight           NaN\n",
       "        bob      birthyear        NaN\n",
       "                 children         NaN\n",
       "                 hobby            NaN\n",
       "                 weight           NaN\n",
       "        charles  birthyear       1992\n",
       "                 children         0.0\n",
       "                 hobby            NaN\n",
       "                 weight           112\n",
       "Paris   alice    birthyear       1985\n",
       "                 children         NaN\n",
       "                 hobby         Biking\n",
       "                 weight            68\n",
       "        bob      birthyear       1984\n",
       "                 children         3.0\n",
       "                 hobby        Dancing\n",
       "                 weight            83\n",
       "        charles  birthyear        NaN\n",
       "                 children         NaN\n",
       "                 hobby            NaN\n",
       "                 weight           NaN\n",
       "dtype: object"
      ]
     },
     "metadata": {},
     "execution_count": 66
    }
   ],
   "source": [
    "d9 = d8.unstack()\n",
    "d9"
   ]
  },
  {
   "cell_type": "markdown",
   "metadata": {},
   "source": [
    "The `stack()` and `unstack()` methods let you select the `level` to stack/unstack. You can even stack/unstack multiple levels at once:"
   ]
  },
  {
   "cell_type": "code",
   "execution_count": 67,
   "metadata": {
    "scrolled": true
   },
   "outputs": [
    {
     "output_type": "execute_result",
     "data": {
      "text/plain": [
       "          London                Paris                 \n",
       "           alice  bob charles   alice      bob charles\n",
       "birthyear    NaN  NaN    1992    1985     1984     NaN\n",
       "children     NaN  NaN     0.0     NaN      3.0     NaN\n",
       "hobby        NaN  NaN     NaN  Biking  Dancing     NaN\n",
       "weight       NaN  NaN     112      68       83     NaN"
      ],
      "text/html": "<div>\n<style scoped>\n    .dataframe tbody tr th:only-of-type {\n        vertical-align: middle;\n    }\n\n    .dataframe tbody tr th {\n        vertical-align: top;\n    }\n\n    .dataframe thead tr th {\n        text-align: left;\n    }\n</style>\n<table border=\"1\" class=\"dataframe\">\n  <thead>\n    <tr>\n      <th></th>\n      <th colspan=\"3\" halign=\"left\">London</th>\n      <th colspan=\"3\" halign=\"left\">Paris</th>\n    </tr>\n    <tr>\n      <th></th>\n      <th>alice</th>\n      <th>bob</th>\n      <th>charles</th>\n      <th>alice</th>\n      <th>bob</th>\n      <th>charles</th>\n    </tr>\n  </thead>\n  <tbody>\n    <tr>\n      <th>birthyear</th>\n      <td>NaN</td>\n      <td>NaN</td>\n      <td>1992</td>\n      <td>1985</td>\n      <td>1984</td>\n      <td>NaN</td>\n    </tr>\n    <tr>\n      <th>children</th>\n      <td>NaN</td>\n      <td>NaN</td>\n      <td>0.0</td>\n      <td>NaN</td>\n      <td>3.0</td>\n      <td>NaN</td>\n    </tr>\n    <tr>\n      <th>hobby</th>\n      <td>NaN</td>\n      <td>NaN</td>\n      <td>NaN</td>\n      <td>Biking</td>\n      <td>Dancing</td>\n      <td>NaN</td>\n    </tr>\n    <tr>\n      <th>weight</th>\n      <td>NaN</td>\n      <td>NaN</td>\n      <td>112</td>\n      <td>68</td>\n      <td>83</td>\n      <td>NaN</td>\n    </tr>\n  </tbody>\n</table>\n</div>"
     },
     "metadata": {},
     "execution_count": 67
    }
   ],
   "source": [
    "d10 = d9.unstack(level=(0, 1))\n",
    "d10"
   ]
  },
  {
   "cell_type": "markdown",
   "metadata": {},
   "source": [
    "## Most methods return modified copies\n",
    "As you may have noticed, the `stack()` and `unstack()` methods do not modify the object they apply to. Instead, they work on a copy and return that copy. This is true of most methods in pandas."
   ]
  },
  {
   "cell_type": "markdown",
   "metadata": {},
   "source": [
    "## Accessing rows\n",
    "Let's go back to the `people` `DataFrame`:"
   ]
  },
  {
   "cell_type": "code",
   "execution_count": 68,
   "metadata": {},
   "outputs": [
    {
     "output_type": "execute_result",
     "data": {
      "text/plain": [
       "         birthyear    hobby  weight  children\n",
       "alice         1985   Biking      68       NaN\n",
       "bob           1984  Dancing      83       3.0\n",
       "charles       1992      NaN     112       0.0"
      ],
      "text/html": "<div>\n<style scoped>\n    .dataframe tbody tr th:only-of-type {\n        vertical-align: middle;\n    }\n\n    .dataframe tbody tr th {\n        vertical-align: top;\n    }\n\n    .dataframe thead th {\n        text-align: right;\n    }\n</style>\n<table border=\"1\" class=\"dataframe\">\n  <thead>\n    <tr style=\"text-align: right;\">\n      <th></th>\n      <th>birthyear</th>\n      <th>hobby</th>\n      <th>weight</th>\n      <th>children</th>\n    </tr>\n  </thead>\n  <tbody>\n    <tr>\n      <th>alice</th>\n      <td>1985</td>\n      <td>Biking</td>\n      <td>68</td>\n      <td>NaN</td>\n    </tr>\n    <tr>\n      <th>bob</th>\n      <td>1984</td>\n      <td>Dancing</td>\n      <td>83</td>\n      <td>3.0</td>\n    </tr>\n    <tr>\n      <th>charles</th>\n      <td>1992</td>\n      <td>NaN</td>\n      <td>112</td>\n      <td>0.0</td>\n    </tr>\n  </tbody>\n</table>\n</div>"
     },
     "metadata": {},
     "execution_count": 68
    }
   ],
   "source": [
    "people"
   ]
  },
  {
   "cell_type": "markdown",
   "metadata": {},
   "source": [
    "The `loc` attribute lets you access rows instead of columns. The result is a `Series` object in which the `DataFrame`'s column names are mapped to row index labels:"
   ]
  },
  {
   "cell_type": "code",
   "execution_count": 69,
   "metadata": {},
   "outputs": [
    {
     "output_type": "execute_result",
     "data": {
      "text/plain": [
       "birthyear    1992\n",
       "hobby         NaN\n",
       "weight        112\n",
       "children      0.0\n",
       "Name: charles, dtype: object"
      ]
     },
     "metadata": {},
     "execution_count": 69
    }
   ],
   "source": [
    "people.loc[\"charles\"]"
   ]
  },
  {
   "cell_type": "markdown",
   "metadata": {},
   "source": [
    "You can also access rows by integer location using the `iloc` attribute:"
   ]
  },
  {
   "cell_type": "code",
   "execution_count": 70,
   "metadata": {},
   "outputs": [
    {
     "output_type": "execute_result",
     "data": {
      "text/plain": [
       "birthyear    1992\n",
       "hobby         NaN\n",
       "weight        112\n",
       "children      0.0\n",
       "Name: charles, dtype: object"
      ]
     },
     "metadata": {},
     "execution_count": 70
    }
   ],
   "source": [
    "people.iloc[2]"
   ]
  },
  {
   "cell_type": "markdown",
   "metadata": {},
   "source": [
    "You can also get a slice of rows, and this returns a `DataFrame` object:"
   ]
  },
  {
   "cell_type": "code",
   "execution_count": 71,
   "metadata": {},
   "outputs": [
    {
     "output_type": "execute_result",
     "data": {
      "text/plain": [
       "         birthyear    hobby  weight  children\n",
       "bob           1984  Dancing      83       3.0\n",
       "charles       1992      NaN     112       0.0"
      ],
      "text/html": "<div>\n<style scoped>\n    .dataframe tbody tr th:only-of-type {\n        vertical-align: middle;\n    }\n\n    .dataframe tbody tr th {\n        vertical-align: top;\n    }\n\n    .dataframe thead th {\n        text-align: right;\n    }\n</style>\n<table border=\"1\" class=\"dataframe\">\n  <thead>\n    <tr style=\"text-align: right;\">\n      <th></th>\n      <th>birthyear</th>\n      <th>hobby</th>\n      <th>weight</th>\n      <th>children</th>\n    </tr>\n  </thead>\n  <tbody>\n    <tr>\n      <th>bob</th>\n      <td>1984</td>\n      <td>Dancing</td>\n      <td>83</td>\n      <td>3.0</td>\n    </tr>\n    <tr>\n      <th>charles</th>\n      <td>1992</td>\n      <td>NaN</td>\n      <td>112</td>\n      <td>0.0</td>\n    </tr>\n  </tbody>\n</table>\n</div>"
     },
     "metadata": {},
     "execution_count": 71
    }
   ],
   "source": [
    "people.iloc[1:3]"
   ]
  },
  {
   "cell_type": "markdown",
   "metadata": {},
   "source": [
    "Finally, you can pass a boolean array to get the matching rows:"
   ]
  },
  {
   "cell_type": "code",
   "execution_count": 72,
   "metadata": {},
   "outputs": [
    {
     "output_type": "execute_result",
     "data": {
      "text/plain": [
       "         birthyear   hobby  weight  children\n",
       "alice         1985  Biking      68       NaN\n",
       "charles       1992     NaN     112       0.0"
      ],
      "text/html": "<div>\n<style scoped>\n    .dataframe tbody tr th:only-of-type {\n        vertical-align: middle;\n    }\n\n    .dataframe tbody tr th {\n        vertical-align: top;\n    }\n\n    .dataframe thead th {\n        text-align: right;\n    }\n</style>\n<table border=\"1\" class=\"dataframe\">\n  <thead>\n    <tr style=\"text-align: right;\">\n      <th></th>\n      <th>birthyear</th>\n      <th>hobby</th>\n      <th>weight</th>\n      <th>children</th>\n    </tr>\n  </thead>\n  <tbody>\n    <tr>\n      <th>alice</th>\n      <td>1985</td>\n      <td>Biking</td>\n      <td>68</td>\n      <td>NaN</td>\n    </tr>\n    <tr>\n      <th>charles</th>\n      <td>1992</td>\n      <td>NaN</td>\n      <td>112</td>\n      <td>0.0</td>\n    </tr>\n  </tbody>\n</table>\n</div>"
     },
     "metadata": {},
     "execution_count": 72
    }
   ],
   "source": [
    "people[np.array([True, False, True])]"
   ]
  },
  {
   "cell_type": "markdown",
   "metadata": {},
   "source": [
    "This is most useful when combined with boolean expressions:"
   ]
  },
  {
   "cell_type": "code",
   "execution_count": 73,
   "metadata": {},
   "outputs": [
    {
     "output_type": "execute_result",
     "data": {
      "text/plain": [
       "       birthyear    hobby  weight  children\n",
       "alice       1985   Biking      68       NaN\n",
       "bob         1984  Dancing      83       3.0"
      ],
      "text/html": "<div>\n<style scoped>\n    .dataframe tbody tr th:only-of-type {\n        vertical-align: middle;\n    }\n\n    .dataframe tbody tr th {\n        vertical-align: top;\n    }\n\n    .dataframe thead th {\n        text-align: right;\n    }\n</style>\n<table border=\"1\" class=\"dataframe\">\n  <thead>\n    <tr style=\"text-align: right;\">\n      <th></th>\n      <th>birthyear</th>\n      <th>hobby</th>\n      <th>weight</th>\n      <th>children</th>\n    </tr>\n  </thead>\n  <tbody>\n    <tr>\n      <th>alice</th>\n      <td>1985</td>\n      <td>Biking</td>\n      <td>68</td>\n      <td>NaN</td>\n    </tr>\n    <tr>\n      <th>bob</th>\n      <td>1984</td>\n      <td>Dancing</td>\n      <td>83</td>\n      <td>3.0</td>\n    </tr>\n  </tbody>\n</table>\n</div>"
     },
     "metadata": {},
     "execution_count": 73
    }
   ],
   "source": [
    "people[people[\"birthyear\"] < 1990]"
   ]
  },
  {
   "cell_type": "markdown",
   "metadata": {},
   "source": [
    "## Adding and removing columns\n",
    "You can generally treat `DataFrame` objects like dictionaries of `Series`, so the following work fine:"
   ]
  },
  {
   "cell_type": "code",
   "execution_count": 74,
   "metadata": {},
   "outputs": [
    {
     "output_type": "execute_result",
     "data": {
      "text/plain": [
       "         birthyear    hobby  weight  children\n",
       "alice         1985   Biking      68       NaN\n",
       "bob           1984  Dancing      83       3.0\n",
       "charles       1992      NaN     112       0.0"
      ],
      "text/html": "<div>\n<style scoped>\n    .dataframe tbody tr th:only-of-type {\n        vertical-align: middle;\n    }\n\n    .dataframe tbody tr th {\n        vertical-align: top;\n    }\n\n    .dataframe thead th {\n        text-align: right;\n    }\n</style>\n<table border=\"1\" class=\"dataframe\">\n  <thead>\n    <tr style=\"text-align: right;\">\n      <th></th>\n      <th>birthyear</th>\n      <th>hobby</th>\n      <th>weight</th>\n      <th>children</th>\n    </tr>\n  </thead>\n  <tbody>\n    <tr>\n      <th>alice</th>\n      <td>1985</td>\n      <td>Biking</td>\n      <td>68</td>\n      <td>NaN</td>\n    </tr>\n    <tr>\n      <th>bob</th>\n      <td>1984</td>\n      <td>Dancing</td>\n      <td>83</td>\n      <td>3.0</td>\n    </tr>\n    <tr>\n      <th>charles</th>\n      <td>1992</td>\n      <td>NaN</td>\n      <td>112</td>\n      <td>0.0</td>\n    </tr>\n  </tbody>\n</table>\n</div>"
     },
     "metadata": {},
     "execution_count": 74
    }
   ],
   "source": [
    "people"
   ]
  },
  {
   "cell_type": "code",
   "execution_count": 75,
   "metadata": {},
   "outputs": [
    {
     "output_type": "execute_result",
     "data": {
      "text/plain": [
       "           hobby  weight  age  over 30\n",
       "alice     Biking      68   33     True\n",
       "bob      Dancing      83   34     True\n",
       "charles      NaN     112   26    False"
      ],
      "text/html": "<div>\n<style scoped>\n    .dataframe tbody tr th:only-of-type {\n        vertical-align: middle;\n    }\n\n    .dataframe tbody tr th {\n        vertical-align: top;\n    }\n\n    .dataframe thead th {\n        text-align: right;\n    }\n</style>\n<table border=\"1\" class=\"dataframe\">\n  <thead>\n    <tr style=\"text-align: right;\">\n      <th></th>\n      <th>hobby</th>\n      <th>weight</th>\n      <th>age</th>\n      <th>over 30</th>\n    </tr>\n  </thead>\n  <tbody>\n    <tr>\n      <th>alice</th>\n      <td>Biking</td>\n      <td>68</td>\n      <td>33</td>\n      <td>True</td>\n    </tr>\n    <tr>\n      <th>bob</th>\n      <td>Dancing</td>\n      <td>83</td>\n      <td>34</td>\n      <td>True</td>\n    </tr>\n    <tr>\n      <th>charles</th>\n      <td>NaN</td>\n      <td>112</td>\n      <td>26</td>\n      <td>False</td>\n    </tr>\n  </tbody>\n</table>\n</div>"
     },
     "metadata": {},
     "execution_count": 75
    }
   ],
   "source": [
    "people[\"age\"] = 2018 - people[\"birthyear\"]  # adds a new column \"age\"\n",
    "people[\"over 30\"] = people[\"age\"] > 30  # adds another column \"over 30\"\n",
    "birthyears = people.pop(\"birthyear\")\n",
    "del people[\"children\"]\n",
    "\n",
    "people"
   ]
  },
  {
   "cell_type": "code",
   "execution_count": 76,
   "metadata": {},
   "outputs": [
    {
     "output_type": "execute_result",
     "data": {
      "text/plain": [
       "alice      1985\n",
       "bob        1984\n",
       "charles    1992\n",
       "Name: birthyear, dtype: int64"
      ]
     },
     "metadata": {},
     "execution_count": 76
    }
   ],
   "source": [
    "birthyears"
   ]
  },
  {
   "cell_type": "markdown",
   "metadata": {},
   "source": [
    "When you add a new colum, it must have the same number of rows. Missing rows are filled with NaN, and extra rows are ignored:"
   ]
  },
  {
   "cell_type": "code",
   "execution_count": 77,
   "metadata": {},
   "outputs": [
    {
     "output_type": "execute_result",
     "data": {
      "text/plain": [
       "           hobby  weight  age  over 30  pets\n",
       "alice     Biking      68   33     True   NaN\n",
       "bob      Dancing      83   34     True   0.0\n",
       "charles      NaN     112   26    False   5.0"
      ],
      "text/html": "<div>\n<style scoped>\n    .dataframe tbody tr th:only-of-type {\n        vertical-align: middle;\n    }\n\n    .dataframe tbody tr th {\n        vertical-align: top;\n    }\n\n    .dataframe thead th {\n        text-align: right;\n    }\n</style>\n<table border=\"1\" class=\"dataframe\">\n  <thead>\n    <tr style=\"text-align: right;\">\n      <th></th>\n      <th>hobby</th>\n      <th>weight</th>\n      <th>age</th>\n      <th>over 30</th>\n      <th>pets</th>\n    </tr>\n  </thead>\n  <tbody>\n    <tr>\n      <th>alice</th>\n      <td>Biking</td>\n      <td>68</td>\n      <td>33</td>\n      <td>True</td>\n      <td>NaN</td>\n    </tr>\n    <tr>\n      <th>bob</th>\n      <td>Dancing</td>\n      <td>83</td>\n      <td>34</td>\n      <td>True</td>\n      <td>0.0</td>\n    </tr>\n    <tr>\n      <th>charles</th>\n      <td>NaN</td>\n      <td>112</td>\n      <td>26</td>\n      <td>False</td>\n      <td>5.0</td>\n    </tr>\n  </tbody>\n</table>\n</div>"
     },
     "metadata": {},
     "execution_count": 77
    }
   ],
   "source": [
    "people[\"pets\"] = pd.Series({\n",
    "    \"bob\": 0,\n",
    "    \"charles\": 5,\n",
    "    \"eugene\": 1\n",
    "})  # alice is missing, eugene is ignored\n",
    "people"
   ]
  },
  {
   "cell_type": "markdown",
   "metadata": {},
   "source": [
    "When adding a new column, it is added at the end (on the right) by default. You can also insert a column anywhere else using the `insert()` method:"
   ]
  },
  {
   "cell_type": "code",
   "execution_count": 78,
   "metadata": {},
   "outputs": [
    {
     "output_type": "execute_result",
     "data": {
      "text/plain": [
       "           hobby  height  weight  age  over 30  pets\n",
       "alice     Biking     172      68   33     True   NaN\n",
       "bob      Dancing     181      83   34     True   0.0\n",
       "charles      NaN     185     112   26    False   5.0"
      ],
      "text/html": "<div>\n<style scoped>\n    .dataframe tbody tr th:only-of-type {\n        vertical-align: middle;\n    }\n\n    .dataframe tbody tr th {\n        vertical-align: top;\n    }\n\n    .dataframe thead th {\n        text-align: right;\n    }\n</style>\n<table border=\"1\" class=\"dataframe\">\n  <thead>\n    <tr style=\"text-align: right;\">\n      <th></th>\n      <th>hobby</th>\n      <th>height</th>\n      <th>weight</th>\n      <th>age</th>\n      <th>over 30</th>\n      <th>pets</th>\n    </tr>\n  </thead>\n  <tbody>\n    <tr>\n      <th>alice</th>\n      <td>Biking</td>\n      <td>172</td>\n      <td>68</td>\n      <td>33</td>\n      <td>True</td>\n      <td>NaN</td>\n    </tr>\n    <tr>\n      <th>bob</th>\n      <td>Dancing</td>\n      <td>181</td>\n      <td>83</td>\n      <td>34</td>\n      <td>True</td>\n      <td>0.0</td>\n    </tr>\n    <tr>\n      <th>charles</th>\n      <td>NaN</td>\n      <td>185</td>\n      <td>112</td>\n      <td>26</td>\n      <td>False</td>\n      <td>5.0</td>\n    </tr>\n  </tbody>\n</table>\n</div>"
     },
     "metadata": {},
     "execution_count": 78
    }
   ],
   "source": [
    "people.insert(1, \"height\", [172, 181, 185])\n",
    "people"
   ]
  },
  {
   "cell_type": "markdown",
   "metadata": {},
   "source": [
    "## Assigning new columns\n",
    "You can also create new columns by calling the `assign()` method. Note that this returns a new `DataFrame` object, the original is not modified:"
   ]
  },
  {
   "cell_type": "code",
   "execution_count": 79,
   "metadata": {},
   "outputs": [
    {
     "output_type": "execute_result",
     "data": {
      "text/plain": [
       "           hobby  height  weight  age  over 30  pets  body_mass_index  \\\n",
       "alice     Biking     172      68   33     True   NaN        22.985398   \n",
       "bob      Dancing     181      83   34     True   0.0        25.335002   \n",
       "charles      NaN     185     112   26    False   5.0        32.724617   \n",
       "\n",
       "         has_pets  \n",
       "alice       False  \n",
       "bob         False  \n",
       "charles      True  "
      ],
      "text/html": "<div>\n<style scoped>\n    .dataframe tbody tr th:only-of-type {\n        vertical-align: middle;\n    }\n\n    .dataframe tbody tr th {\n        vertical-align: top;\n    }\n\n    .dataframe thead th {\n        text-align: right;\n    }\n</style>\n<table border=\"1\" class=\"dataframe\">\n  <thead>\n    <tr style=\"text-align: right;\">\n      <th></th>\n      <th>hobby</th>\n      <th>height</th>\n      <th>weight</th>\n      <th>age</th>\n      <th>over 30</th>\n      <th>pets</th>\n      <th>body_mass_index</th>\n      <th>has_pets</th>\n    </tr>\n  </thead>\n  <tbody>\n    <tr>\n      <th>alice</th>\n      <td>Biking</td>\n      <td>172</td>\n      <td>68</td>\n      <td>33</td>\n      <td>True</td>\n      <td>NaN</td>\n      <td>22.985398</td>\n      <td>False</td>\n    </tr>\n    <tr>\n      <th>bob</th>\n      <td>Dancing</td>\n      <td>181</td>\n      <td>83</td>\n      <td>34</td>\n      <td>True</td>\n      <td>0.0</td>\n      <td>25.335002</td>\n      <td>False</td>\n    </tr>\n    <tr>\n      <th>charles</th>\n      <td>NaN</td>\n      <td>185</td>\n      <td>112</td>\n      <td>26</td>\n      <td>False</td>\n      <td>5.0</td>\n      <td>32.724617</td>\n      <td>True</td>\n    </tr>\n  </tbody>\n</table>\n</div>"
     },
     "metadata": {},
     "execution_count": 79
    }
   ],
   "source": [
    "people.assign(body_mass_index=people[\"weight\"] / (people[\"height\"] / 100)**2,\n",
    "              has_pets=people[\"pets\"] > 0) #body_mass_index:BMI"
   ]
  },
  {
   "cell_type": "markdown",
   "metadata": {},
   "source": [
    "Note that you cannot access columns created within the same assignment:"
   ]
  },
  {
   "cell_type": "code",
   "execution_count": 80,
   "metadata": {},
   "outputs": [
    {
     "output_type": "stream",
     "name": "stdout",
     "text": [
      "Key error: 'body_mass_index'\n"
     ]
    }
   ],
   "source": [
    "try:\n",
    "    people.assign(body_mass_index=people[\"weight\"] /\n",
    "                  (people[\"height\"] / 100)**2,\n",
    "                  overweight=people[\"body_mass_index\"] > 25)\n",
    "except KeyError as e:\n",
    "    print(\"Key error:\", e)"
   ]
  },
  {
   "cell_type": "markdown",
   "metadata": {},
   "source": [
    "The solution is to split this assignment in two consecutive assignments:"
   ]
  },
  {
   "cell_type": "code",
   "execution_count": 81,
   "metadata": {},
   "outputs": [
    {
     "output_type": "execute_result",
     "data": {
      "text/plain": [
       "           hobby  height  weight  age  over 30  pets  body_mass_index  \\\n",
       "alice     Biking     172      68   33     True   NaN        22.985398   \n",
       "bob      Dancing     181      83   34     True   0.0        25.335002   \n",
       "charles      NaN     185     112   26    False   5.0        32.724617   \n",
       "\n",
       "         overweight  \n",
       "alice         False  \n",
       "bob            True  \n",
       "charles        True  "
      ],
      "text/html": "<div>\n<style scoped>\n    .dataframe tbody tr th:only-of-type {\n        vertical-align: middle;\n    }\n\n    .dataframe tbody tr th {\n        vertical-align: top;\n    }\n\n    .dataframe thead th {\n        text-align: right;\n    }\n</style>\n<table border=\"1\" class=\"dataframe\">\n  <thead>\n    <tr style=\"text-align: right;\">\n      <th></th>\n      <th>hobby</th>\n      <th>height</th>\n      <th>weight</th>\n      <th>age</th>\n      <th>over 30</th>\n      <th>pets</th>\n      <th>body_mass_index</th>\n      <th>overweight</th>\n    </tr>\n  </thead>\n  <tbody>\n    <tr>\n      <th>alice</th>\n      <td>Biking</td>\n      <td>172</td>\n      <td>68</td>\n      <td>33</td>\n      <td>True</td>\n      <td>NaN</td>\n      <td>22.985398</td>\n      <td>False</td>\n    </tr>\n    <tr>\n      <th>bob</th>\n      <td>Dancing</td>\n      <td>181</td>\n      <td>83</td>\n      <td>34</td>\n      <td>True</td>\n      <td>0.0</td>\n      <td>25.335002</td>\n      <td>True</td>\n    </tr>\n    <tr>\n      <th>charles</th>\n      <td>NaN</td>\n      <td>185</td>\n      <td>112</td>\n      <td>26</td>\n      <td>False</td>\n      <td>5.0</td>\n      <td>32.724617</td>\n      <td>True</td>\n    </tr>\n  </tbody>\n</table>\n</div>"
     },
     "metadata": {},
     "execution_count": 81
    }
   ],
   "source": [
    "d6 = people.assign(body_mass_index=people[\"weight\"] /\n",
    "                   (people[\"height\"] / 100)**2)\n",
    "d6.assign(overweight=d6[\"body_mass_index\"] > 25)"
   ]
  },
  {
   "cell_type": "markdown",
   "metadata": {},
   "source": [
    "Having to create a temporary variable `d6` is not very convenient. You may want to just chain the assigment calls, but it does not work because the `people` object is not actually modified by the first assignment:"
   ]
  },
  {
   "cell_type": "code",
   "execution_count": 82,
   "metadata": {},
   "outputs": [
    {
     "output_type": "stream",
     "name": "stdout",
     "text": [
      "Key error: 'body_mass_index'\n"
     ]
    }
   ],
   "source": [
    "try:\n",
    "    (people.assign(body_mass_index=people[\"weight\"] /\n",
    "                   (people[\"height\"] / 100)**2).assign(\n",
    "                       overweight=people[\"body_mass_index\"] > 25))\n",
    "except KeyError as e:\n",
    "    print(\"Key error:\", e)"
   ]
  },
  {
   "cell_type": "markdown",
   "metadata": {},
   "source": [
    "But fear not, there is a simple solution. You can pass a function to the `assign()` method (typically a `lambda` function), and this function will be called with the `DataFrame` as a parameter:"
   ]
  },
  {
   "cell_type": "code",
   "execution_count": 83,
   "metadata": {},
   "outputs": [
    {
     "output_type": "execute_result",
     "data": {
      "text/plain": [
       "           hobby  height  weight  age  over 30  pets  body_mass_index  \\\n",
       "alice     Biking     172      68   33     True   NaN        22.985398   \n",
       "bob      Dancing     181      83   34     True   0.0        25.335002   \n",
       "charles      NaN     185     112   26    False   5.0        32.724617   \n",
       "\n",
       "         overweight  \n",
       "alice         False  \n",
       "bob            True  \n",
       "charles        True  "
      ],
      "text/html": "<div>\n<style scoped>\n    .dataframe tbody tr th:only-of-type {\n        vertical-align: middle;\n    }\n\n    .dataframe tbody tr th {\n        vertical-align: top;\n    }\n\n    .dataframe thead th {\n        text-align: right;\n    }\n</style>\n<table border=\"1\" class=\"dataframe\">\n  <thead>\n    <tr style=\"text-align: right;\">\n      <th></th>\n      <th>hobby</th>\n      <th>height</th>\n      <th>weight</th>\n      <th>age</th>\n      <th>over 30</th>\n      <th>pets</th>\n      <th>body_mass_index</th>\n      <th>overweight</th>\n    </tr>\n  </thead>\n  <tbody>\n    <tr>\n      <th>alice</th>\n      <td>Biking</td>\n      <td>172</td>\n      <td>68</td>\n      <td>33</td>\n      <td>True</td>\n      <td>NaN</td>\n      <td>22.985398</td>\n      <td>False</td>\n    </tr>\n    <tr>\n      <th>bob</th>\n      <td>Dancing</td>\n      <td>181</td>\n      <td>83</td>\n      <td>34</td>\n      <td>True</td>\n      <td>0.0</td>\n      <td>25.335002</td>\n      <td>True</td>\n    </tr>\n    <tr>\n      <th>charles</th>\n      <td>NaN</td>\n      <td>185</td>\n      <td>112</td>\n      <td>26</td>\n      <td>False</td>\n      <td>5.0</td>\n      <td>32.724617</td>\n      <td>True</td>\n    </tr>\n  </tbody>\n</table>\n</div>"
     },
     "metadata": {},
     "execution_count": 83
    }
   ],
   "source": [
    "(people.assign(\n",
    "    body_mass_index=lambda df: df[\"weight\"] / (df[\"height\"] / 100)**2).assign(\n",
    "        overweight=lambda df: df[\"body_mass_index\"] > 25))"
   ]
  },
  {
   "cell_type": "markdown",
   "metadata": {},
   "source": [
    "Problem solved!"
   ]
  },
  {
   "cell_type": "markdown",
   "metadata": {},
   "source": [
    "## Evaluating an expression\n",
    "A great feature supported by pandas is expression evaluation. This relies on the `numexpr` library which must be installed."
   ]
  },
  {
   "cell_type": "code",
   "execution_count": 84,
   "metadata": {},
   "outputs": [
    {
     "output_type": "execute_result",
     "data": {
      "text/plain": [
       "alice      False\n",
       "bob         True\n",
       "charles     True\n",
       "dtype: bool"
      ]
     },
     "metadata": {},
     "execution_count": 84
    }
   ],
   "source": [
    "people.eval(\"weight / (height/100) ** 2 > 25\")"
   ]
  },
  {
   "cell_type": "markdown",
   "metadata": {},
   "source": [
    "Assignment expressions are also supported. Let's set `inplace=True` to directly modify the `DataFrame` rather than getting a modified copy:"
   ]
  },
  {
   "cell_type": "code",
   "execution_count": 85,
   "metadata": {},
   "outputs": [
    {
     "output_type": "execute_result",
     "data": {
      "text/plain": [
       "           hobby  height  weight  age  over 30  pets  body_mass_index\n",
       "alice     Biking     172      68   33     True   NaN        22.985398\n",
       "bob      Dancing     181      83   34     True   0.0        25.335002\n",
       "charles      NaN     185     112   26    False   5.0        32.724617"
      ],
      "text/html": "<div>\n<style scoped>\n    .dataframe tbody tr th:only-of-type {\n        vertical-align: middle;\n    }\n\n    .dataframe tbody tr th {\n        vertical-align: top;\n    }\n\n    .dataframe thead th {\n        text-align: right;\n    }\n</style>\n<table border=\"1\" class=\"dataframe\">\n  <thead>\n    <tr style=\"text-align: right;\">\n      <th></th>\n      <th>hobby</th>\n      <th>height</th>\n      <th>weight</th>\n      <th>age</th>\n      <th>over 30</th>\n      <th>pets</th>\n      <th>body_mass_index</th>\n    </tr>\n  </thead>\n  <tbody>\n    <tr>\n      <th>alice</th>\n      <td>Biking</td>\n      <td>172</td>\n      <td>68</td>\n      <td>33</td>\n      <td>True</td>\n      <td>NaN</td>\n      <td>22.985398</td>\n    </tr>\n    <tr>\n      <th>bob</th>\n      <td>Dancing</td>\n      <td>181</td>\n      <td>83</td>\n      <td>34</td>\n      <td>True</td>\n      <td>0.0</td>\n      <td>25.335002</td>\n    </tr>\n    <tr>\n      <th>charles</th>\n      <td>NaN</td>\n      <td>185</td>\n      <td>112</td>\n      <td>26</td>\n      <td>False</td>\n      <td>5.0</td>\n      <td>32.724617</td>\n    </tr>\n  </tbody>\n</table>\n</div>"
     },
     "metadata": {},
     "execution_count": 85
    }
   ],
   "source": [
    "people.eval(\"body_mass_index = weight / (height/100) ** 2\", inplace=True)\n",
    "people"
   ]
  },
  {
   "cell_type": "markdown",
   "metadata": {},
   "source": [
    "You can use a local or global variable in an expression by prefixing it with `'@'`:"
   ]
  },
  {
   "cell_type": "code",
   "execution_count": 86,
   "metadata": {},
   "outputs": [
    {
     "output_type": "execute_result",
     "data": {
      "text/plain": [
       "           hobby  height  weight  age  over 30  pets  body_mass_index  \\\n",
       "alice     Biking     172      68   33     True   NaN        22.985398   \n",
       "bob      Dancing     181      83   34     True   0.0        25.335002   \n",
       "charles      NaN     185     112   26    False   5.0        32.724617   \n",
       "\n",
       "         overweight  \n",
       "alice         False  \n",
       "bob           False  \n",
       "charles        True  "
      ],
      "text/html": "<div>\n<style scoped>\n    .dataframe tbody tr th:only-of-type {\n        vertical-align: middle;\n    }\n\n    .dataframe tbody tr th {\n        vertical-align: top;\n    }\n\n    .dataframe thead th {\n        text-align: right;\n    }\n</style>\n<table border=\"1\" class=\"dataframe\">\n  <thead>\n    <tr style=\"text-align: right;\">\n      <th></th>\n      <th>hobby</th>\n      <th>height</th>\n      <th>weight</th>\n      <th>age</th>\n      <th>over 30</th>\n      <th>pets</th>\n      <th>body_mass_index</th>\n      <th>overweight</th>\n    </tr>\n  </thead>\n  <tbody>\n    <tr>\n      <th>alice</th>\n      <td>Biking</td>\n      <td>172</td>\n      <td>68</td>\n      <td>33</td>\n      <td>True</td>\n      <td>NaN</td>\n      <td>22.985398</td>\n      <td>False</td>\n    </tr>\n    <tr>\n      <th>bob</th>\n      <td>Dancing</td>\n      <td>181</td>\n      <td>83</td>\n      <td>34</td>\n      <td>True</td>\n      <td>0.0</td>\n      <td>25.335002</td>\n      <td>False</td>\n    </tr>\n    <tr>\n      <th>charles</th>\n      <td>NaN</td>\n      <td>185</td>\n      <td>112</td>\n      <td>26</td>\n      <td>False</td>\n      <td>5.0</td>\n      <td>32.724617</td>\n      <td>True</td>\n    </tr>\n  </tbody>\n</table>\n</div>"
     },
     "metadata": {},
     "execution_count": 86
    }
   ],
   "source": [
    "overweight_threshold = 30\n",
    "people.eval(\"overweight = body_mass_index > @overweight_threshold\",\n",
    "            inplace=True)\n",
    "people"
   ]
  },
  {
   "cell_type": "markdown",
   "metadata": {},
   "source": [
    "## Querying a `DataFrame`\n",
    "The `query()` method lets you filter a `DataFrame` based on a query expression:"
   ]
  },
  {
   "cell_type": "code",
   "execution_count": 87,
   "metadata": {},
   "outputs": [
    {
     "output_type": "execute_result",
     "data": {
      "text/plain": [
       "       hobby  height  weight  age  over 30  pets  body_mass_index  overweight\n",
       "bob  Dancing     181      83   34     True   0.0        25.335002       False"
      ],
      "text/html": "<div>\n<style scoped>\n    .dataframe tbody tr th:only-of-type {\n        vertical-align: middle;\n    }\n\n    .dataframe tbody tr th {\n        vertical-align: top;\n    }\n\n    .dataframe thead th {\n        text-align: right;\n    }\n</style>\n<table border=\"1\" class=\"dataframe\">\n  <thead>\n    <tr style=\"text-align: right;\">\n      <th></th>\n      <th>hobby</th>\n      <th>height</th>\n      <th>weight</th>\n      <th>age</th>\n      <th>over 30</th>\n      <th>pets</th>\n      <th>body_mass_index</th>\n      <th>overweight</th>\n    </tr>\n  </thead>\n  <tbody>\n    <tr>\n      <th>bob</th>\n      <td>Dancing</td>\n      <td>181</td>\n      <td>83</td>\n      <td>34</td>\n      <td>True</td>\n      <td>0.0</td>\n      <td>25.335002</td>\n      <td>False</td>\n    </tr>\n  </tbody>\n</table>\n</div>"
     },
     "metadata": {},
     "execution_count": 87
    }
   ],
   "source": [
    "people.query(\"age > 30 and pets == 0\")"
   ]
  },
  {
   "cell_type": "markdown",
   "metadata": {},
   "source": [
    "## Sorting a `DataFrame`\n",
    "You can sort a `DataFrame` by calling its `sort_index` method. By default it sorts the rows by their index label, in ascending order, but let's reverse the order:"
   ]
  },
  {
   "cell_type": "code",
   "execution_count": 88,
   "metadata": {},
   "outputs": [
    {
     "output_type": "execute_result",
     "data": {
      "text/plain": [
       "           hobby  height  weight  age  over 30  pets  body_mass_index  \\\n",
       "charles      NaN     185     112   26    False   5.0        32.724617   \n",
       "bob      Dancing     181      83   34     True   0.0        25.335002   \n",
       "alice     Biking     172      68   33     True   NaN        22.985398   \n",
       "\n",
       "         overweight  \n",
       "charles        True  \n",
       "bob           False  \n",
       "alice         False  "
      ],
      "text/html": "<div>\n<style scoped>\n    .dataframe tbody tr th:only-of-type {\n        vertical-align: middle;\n    }\n\n    .dataframe tbody tr th {\n        vertical-align: top;\n    }\n\n    .dataframe thead th {\n        text-align: right;\n    }\n</style>\n<table border=\"1\" class=\"dataframe\">\n  <thead>\n    <tr style=\"text-align: right;\">\n      <th></th>\n      <th>hobby</th>\n      <th>height</th>\n      <th>weight</th>\n      <th>age</th>\n      <th>over 30</th>\n      <th>pets</th>\n      <th>body_mass_index</th>\n      <th>overweight</th>\n    </tr>\n  </thead>\n  <tbody>\n    <tr>\n      <th>charles</th>\n      <td>NaN</td>\n      <td>185</td>\n      <td>112</td>\n      <td>26</td>\n      <td>False</td>\n      <td>5.0</td>\n      <td>32.724617</td>\n      <td>True</td>\n    </tr>\n    <tr>\n      <th>bob</th>\n      <td>Dancing</td>\n      <td>181</td>\n      <td>83</td>\n      <td>34</td>\n      <td>True</td>\n      <td>0.0</td>\n      <td>25.335002</td>\n      <td>False</td>\n    </tr>\n    <tr>\n      <th>alice</th>\n      <td>Biking</td>\n      <td>172</td>\n      <td>68</td>\n      <td>33</td>\n      <td>True</td>\n      <td>NaN</td>\n      <td>22.985398</td>\n      <td>False</td>\n    </tr>\n  </tbody>\n</table>\n</div>"
     },
     "metadata": {},
     "execution_count": 88
    }
   ],
   "source": [
    "people.sort_index(ascending=False)"
   ]
  },
  {
   "cell_type": "markdown",
   "metadata": {},
   "source": [
    "Note that `sort_index` returned a sorted *copy* of the `DataFrame`. To modify `people` directly, we can set the `inplace` argument to `True`. Also, we can sort the columns instead of the rows by setting `axis=1`:"
   ]
  },
  {
   "cell_type": "code",
   "execution_count": 89,
   "metadata": {},
   "outputs": [
    {
     "output_type": "execute_result",
     "data": {
      "text/plain": [
       "         age  body_mass_index  height    hobby  over 30  overweight  pets  \\\n",
       "alice     33        22.985398     172   Biking     True       False   NaN   \n",
       "bob       34        25.335002     181  Dancing     True       False   0.0   \n",
       "charles   26        32.724617     185      NaN    False        True   5.0   \n",
       "\n",
       "         weight  \n",
       "alice        68  \n",
       "bob          83  \n",
       "charles     112  "
      ],
      "text/html": "<div>\n<style scoped>\n    .dataframe tbody tr th:only-of-type {\n        vertical-align: middle;\n    }\n\n    .dataframe tbody tr th {\n        vertical-align: top;\n    }\n\n    .dataframe thead th {\n        text-align: right;\n    }\n</style>\n<table border=\"1\" class=\"dataframe\">\n  <thead>\n    <tr style=\"text-align: right;\">\n      <th></th>\n      <th>age</th>\n      <th>body_mass_index</th>\n      <th>height</th>\n      <th>hobby</th>\n      <th>over 30</th>\n      <th>overweight</th>\n      <th>pets</th>\n      <th>weight</th>\n    </tr>\n  </thead>\n  <tbody>\n    <tr>\n      <th>alice</th>\n      <td>33</td>\n      <td>22.985398</td>\n      <td>172</td>\n      <td>Biking</td>\n      <td>True</td>\n      <td>False</td>\n      <td>NaN</td>\n      <td>68</td>\n    </tr>\n    <tr>\n      <th>bob</th>\n      <td>34</td>\n      <td>25.335002</td>\n      <td>181</td>\n      <td>Dancing</td>\n      <td>True</td>\n      <td>False</td>\n      <td>0.0</td>\n      <td>83</td>\n    </tr>\n    <tr>\n      <th>charles</th>\n      <td>26</td>\n      <td>32.724617</td>\n      <td>185</td>\n      <td>NaN</td>\n      <td>False</td>\n      <td>True</td>\n      <td>5.0</td>\n      <td>112</td>\n    </tr>\n  </tbody>\n</table>\n</div>"
     },
     "metadata": {},
     "execution_count": 89
    }
   ],
   "source": [
    "people.sort_index(axis=1, inplace=True)\n",
    "people"
   ]
  },
  {
   "cell_type": "markdown",
   "metadata": {},
   "source": [
    "To sort the `DataFrame` by the values instead of the labels, we can use `sort_values` and specify the column to sort by:"
   ]
  },
  {
   "cell_type": "code",
   "execution_count": 90,
   "metadata": {},
   "outputs": [
    {
     "output_type": "execute_result",
     "data": {
      "text/plain": [
       "         age  body_mass_index  height    hobby  over 30  overweight  pets  \\\n",
       "charles   26        32.724617     185      NaN    False        True   5.0   \n",
       "alice     33        22.985398     172   Biking     True       False   NaN   \n",
       "bob       34        25.335002     181  Dancing     True       False   0.0   \n",
       "\n",
       "         weight  \n",
       "charles     112  \n",
       "alice        68  \n",
       "bob          83  "
      ],
      "text/html": "<div>\n<style scoped>\n    .dataframe tbody tr th:only-of-type {\n        vertical-align: middle;\n    }\n\n    .dataframe tbody tr th {\n        vertical-align: top;\n    }\n\n    .dataframe thead th {\n        text-align: right;\n    }\n</style>\n<table border=\"1\" class=\"dataframe\">\n  <thead>\n    <tr style=\"text-align: right;\">\n      <th></th>\n      <th>age</th>\n      <th>body_mass_index</th>\n      <th>height</th>\n      <th>hobby</th>\n      <th>over 30</th>\n      <th>overweight</th>\n      <th>pets</th>\n      <th>weight</th>\n    </tr>\n  </thead>\n  <tbody>\n    <tr>\n      <th>charles</th>\n      <td>26</td>\n      <td>32.724617</td>\n      <td>185</td>\n      <td>NaN</td>\n      <td>False</td>\n      <td>True</td>\n      <td>5.0</td>\n      <td>112</td>\n    </tr>\n    <tr>\n      <th>alice</th>\n      <td>33</td>\n      <td>22.985398</td>\n      <td>172</td>\n      <td>Biking</td>\n      <td>True</td>\n      <td>False</td>\n      <td>NaN</td>\n      <td>68</td>\n    </tr>\n    <tr>\n      <th>bob</th>\n      <td>34</td>\n      <td>25.335002</td>\n      <td>181</td>\n      <td>Dancing</td>\n      <td>True</td>\n      <td>False</td>\n      <td>0.0</td>\n      <td>83</td>\n    </tr>\n  </tbody>\n</table>\n</div>"
     },
     "metadata": {},
     "execution_count": 90
    }
   ],
   "source": [
    "people.sort_values(by=\"age\", inplace=True)\n",
    "people"
   ]
  },
  {
   "cell_type": "markdown",
   "metadata": {},
   "source": [
    "## Plotting a `DataFrame`\n",
    "Just like for `Series`, pandas makes it easy to draw nice graphs based on a `DataFrame`.\n",
    "\n",
    "For example, it is trivial to create a line plot from a `DataFrame`'s data by calling its `plot` method:"
   ]
  },
  {
   "cell_type": "code",
   "execution_count": 91,
   "metadata": {},
   "outputs": [
    {
     "output_type": "display_data",
     "data": {
      "text/plain": "<Figure size 432x288 with 1 Axes>",
      "image/svg+xml": "<?xml version=\"1.0\" encoding=\"utf-8\" standalone=\"no\"?>\n<!DOCTYPE svg PUBLIC \"-//W3C//DTD SVG 1.1//EN\"\n  \"http://www.w3.org/Graphics/SVG/1.1/DTD/svg11.dtd\">\n<svg height=\"262.474375pt\" version=\"1.1\" viewBox=\"0 0 375.2875 262.474375\" width=\"375.2875pt\" xmlns=\"http://www.w3.org/2000/svg\" xmlns:xlink=\"http://www.w3.org/1999/xlink\">\n <metadata>\n  <rdf:RDF xmlns:cc=\"http://creativecommons.org/ns#\" xmlns:dc=\"http://purl.org/dc/elements/1.1/\" xmlns:rdf=\"http://www.w3.org/1999/02/22-rdf-syntax-ns#\">\n   <cc:Work>\n    <dc:type rdf:resource=\"http://purl.org/dc/dcmitype/StillImage\"/>\n    <dc:date>2021-05-14T08:48:46.662506</dc:date>\n    <dc:format>image/svg+xml</dc:format>\n    <dc:creator>\n     <cc:Agent>\n      <dc:title>Matplotlib v3.4.2, https://matplotlib.org/</dc:title>\n     </cc:Agent>\n    </dc:creator>\n   </cc:Work>\n  </rdf:RDF>\n </metadata>\n <defs>\n  <style type=\"text/css\">*{stroke-linecap:butt;stroke-linejoin:round;}</style>\n </defs>\n <g id=\"figure_1\">\n  <g id=\"patch_1\">\n   <path d=\"M 0 262.474375 \nL 375.2875 262.474375 \nL 375.2875 0 \nL 0 0 \nz\n\" style=\"fill:none;\"/>\n  </g>\n  <g id=\"axes_1\">\n   <g id=\"patch_2\">\n    <path d=\"M 33.2875 224.64 \nL 368.0875 224.64 \nL 368.0875 7.2 \nL 33.2875 7.2 \nz\n\" style=\"fill:#ffffff;\"/>\n   </g>\n   <g id=\"matplotlib.axis_1\">\n    <g id=\"xtick_1\">\n     <g id=\"line2d_1\">\n      <defs>\n       <path d=\"M 0 0 \nL 0 3.5 \n\" id=\"mde62e0d69c\" style=\"stroke:#000000;stroke-width:0.8;\"/>\n      </defs>\n      <g>\n       <use style=\"stroke:#000000;stroke-width:0.8;\" x=\"80.213368\" xlink:href=\"#mde62e0d69c\" y=\"224.64\"/>\n      </g>\n     </g>\n     <g id=\"text_1\">\n      <!-- 24 -->\n      <g transform=\"translate(73.850868 239.238438)scale(0.1 -0.1)\">\n       <defs>\n        <path d=\"M 1228 531 \nL 3431 531 \nL 3431 0 \nL 469 0 \nL 469 531 \nQ 828 903 1448 1529 \nQ 2069 2156 2228 2338 \nQ 2531 2678 2651 2914 \nQ 2772 3150 2772 3378 \nQ 2772 3750 2511 3984 \nQ 2250 4219 1831 4219 \nQ 1534 4219 1204 4116 \nQ 875 4013 500 3803 \nL 500 4441 \nQ 881 4594 1212 4672 \nQ 1544 4750 1819 4750 \nQ 2544 4750 2975 4387 \nQ 3406 4025 3406 3419 \nQ 3406 3131 3298 2873 \nQ 3191 2616 2906 2266 \nQ 2828 2175 2409 1742 \nQ 1991 1309 1228 531 \nz\n\" id=\"DejaVuSans-32\" transform=\"scale(0.015625)\"/>\n        <path d=\"M 2419 4116 \nL 825 1625 \nL 2419 1625 \nL 2419 4116 \nz\nM 2253 4666 \nL 3047 4666 \nL 3047 1625 \nL 3713 1625 \nL 3713 1100 \nL 3047 1100 \nL 3047 0 \nL 2419 0 \nL 2419 1100 \nL 313 1100 \nL 313 1709 \nL 2253 4666 \nz\n\" id=\"DejaVuSans-34\" transform=\"scale(0.015625)\"/>\n       </defs>\n       <use xlink:href=\"#DejaVuSans-32\"/>\n       <use x=\"63.623047\" xlink:href=\"#DejaVuSans-34\"/>\n      </g>\n     </g>\n    </g>\n    <g id=\"xtick_2\">\n     <g id=\"line2d_2\">\n      <g>\n       <use style=\"stroke:#000000;stroke-width:0.8;\" x=\"142.716047\" xlink:href=\"#mde62e0d69c\" y=\"224.64\"/>\n      </g>\n     </g>\n     <g id=\"text_2\">\n      <!-- 26 -->\n      <g transform=\"translate(136.353547 239.238438)scale(0.1 -0.1)\">\n       <defs>\n        <path d=\"M 2113 2584 \nQ 1688 2584 1439 2293 \nQ 1191 2003 1191 1497 \nQ 1191 994 1439 701 \nQ 1688 409 2113 409 \nQ 2538 409 2786 701 \nQ 3034 994 3034 1497 \nQ 3034 2003 2786 2293 \nQ 2538 2584 2113 2584 \nz\nM 3366 4563 \nL 3366 3988 \nQ 3128 4100 2886 4159 \nQ 2644 4219 2406 4219 \nQ 1781 4219 1451 3797 \nQ 1122 3375 1075 2522 \nQ 1259 2794 1537 2939 \nQ 1816 3084 2150 3084 \nQ 2853 3084 3261 2657 \nQ 3669 2231 3669 1497 \nQ 3669 778 3244 343 \nQ 2819 -91 2113 -91 \nQ 1303 -91 875 529 \nQ 447 1150 447 2328 \nQ 447 3434 972 4092 \nQ 1497 4750 2381 4750 \nQ 2619 4750 2861 4703 \nQ 3103 4656 3366 4563 \nz\n\" id=\"DejaVuSans-36\" transform=\"scale(0.015625)\"/>\n       </defs>\n       <use xlink:href=\"#DejaVuSans-32\"/>\n       <use x=\"63.623047\" xlink:href=\"#DejaVuSans-36\"/>\n      </g>\n     </g>\n    </g>\n    <g id=\"xtick_3\">\n     <g id=\"line2d_3\">\n      <g>\n       <use style=\"stroke:#000000;stroke-width:0.8;\" x=\"205.218725\" xlink:href=\"#mde62e0d69c\" y=\"224.64\"/>\n      </g>\n     </g>\n     <g id=\"text_3\">\n      <!-- 28 -->\n      <g transform=\"translate(198.856225 239.238438)scale(0.1 -0.1)\">\n       <defs>\n        <path d=\"M 2034 2216 \nQ 1584 2216 1326 1975 \nQ 1069 1734 1069 1313 \nQ 1069 891 1326 650 \nQ 1584 409 2034 409 \nQ 2484 409 2743 651 \nQ 3003 894 3003 1313 \nQ 3003 1734 2745 1975 \nQ 2488 2216 2034 2216 \nz\nM 1403 2484 \nQ 997 2584 770 2862 \nQ 544 3141 544 3541 \nQ 544 4100 942 4425 \nQ 1341 4750 2034 4750 \nQ 2731 4750 3128 4425 \nQ 3525 4100 3525 3541 \nQ 3525 3141 3298 2862 \nQ 3072 2584 2669 2484 \nQ 3125 2378 3379 2068 \nQ 3634 1759 3634 1313 \nQ 3634 634 3220 271 \nQ 2806 -91 2034 -91 \nQ 1263 -91 848 271 \nQ 434 634 434 1313 \nQ 434 1759 690 2068 \nQ 947 2378 1403 2484 \nz\nM 1172 3481 \nQ 1172 3119 1398 2916 \nQ 1625 2713 2034 2713 \nQ 2441 2713 2670 2916 \nQ 2900 3119 2900 3481 \nQ 2900 3844 2670 4047 \nQ 2441 4250 2034 4250 \nQ 1625 4250 1398 4047 \nQ 1172 3844 1172 3481 \nz\n\" id=\"DejaVuSans-38\" transform=\"scale(0.015625)\"/>\n       </defs>\n       <use xlink:href=\"#DejaVuSans-32\"/>\n       <use x=\"63.623047\" xlink:href=\"#DejaVuSans-38\"/>\n      </g>\n     </g>\n    </g>\n    <g id=\"xtick_4\">\n     <g id=\"line2d_4\">\n      <g>\n       <use style=\"stroke:#000000;stroke-width:0.8;\" x=\"267.721403\" xlink:href=\"#mde62e0d69c\" y=\"224.64\"/>\n      </g>\n     </g>\n     <g id=\"text_4\">\n      <!-- 30 -->\n      <g transform=\"translate(261.358903 239.238438)scale(0.1 -0.1)\">\n       <defs>\n        <path d=\"M 2597 2516 \nQ 3050 2419 3304 2112 \nQ 3559 1806 3559 1356 \nQ 3559 666 3084 287 \nQ 2609 -91 1734 -91 \nQ 1441 -91 1130 -33 \nQ 819 25 488 141 \nL 488 750 \nQ 750 597 1062 519 \nQ 1375 441 1716 441 \nQ 2309 441 2620 675 \nQ 2931 909 2931 1356 \nQ 2931 1769 2642 2001 \nQ 2353 2234 1838 2234 \nL 1294 2234 \nL 1294 2753 \nL 1863 2753 \nQ 2328 2753 2575 2939 \nQ 2822 3125 2822 3475 \nQ 2822 3834 2567 4026 \nQ 2313 4219 1838 4219 \nQ 1578 4219 1281 4162 \nQ 984 4106 628 3988 \nL 628 4550 \nQ 988 4650 1302 4700 \nQ 1616 4750 1894 4750 \nQ 2613 4750 3031 4423 \nQ 3450 4097 3450 3541 \nQ 3450 3153 3228 2886 \nQ 3006 2619 2597 2516 \nz\n\" id=\"DejaVuSans-33\" transform=\"scale(0.015625)\"/>\n        <path d=\"M 2034 4250 \nQ 1547 4250 1301 3770 \nQ 1056 3291 1056 2328 \nQ 1056 1369 1301 889 \nQ 1547 409 2034 409 \nQ 2525 409 2770 889 \nQ 3016 1369 3016 2328 \nQ 3016 3291 2770 3770 \nQ 2525 4250 2034 4250 \nz\nM 2034 4750 \nQ 2819 4750 3233 4129 \nQ 3647 3509 3647 2328 \nQ 3647 1150 3233 529 \nQ 2819 -91 2034 -91 \nQ 1250 -91 836 529 \nQ 422 1150 422 2328 \nQ 422 3509 836 4129 \nQ 1250 4750 2034 4750 \nz\n\" id=\"DejaVuSans-30\" transform=\"scale(0.015625)\"/>\n       </defs>\n       <use xlink:href=\"#DejaVuSans-33\"/>\n       <use x=\"63.623047\" xlink:href=\"#DejaVuSans-30\"/>\n      </g>\n     </g>\n    </g>\n    <g id=\"xtick_5\">\n     <g id=\"line2d_5\">\n      <g>\n       <use style=\"stroke:#000000;stroke-width:0.8;\" x=\"330.224082\" xlink:href=\"#mde62e0d69c\" y=\"224.64\"/>\n      </g>\n     </g>\n     <g id=\"text_5\">\n      <!-- 32 -->\n      <g transform=\"translate(323.861582 239.238438)scale(0.1 -0.1)\">\n       <use xlink:href=\"#DejaVuSans-33\"/>\n       <use x=\"63.623047\" xlink:href=\"#DejaVuSans-32\"/>\n      </g>\n     </g>\n    </g>\n    <g id=\"text_6\">\n     <!-- body_mass_index -->\n     <g transform=\"translate(156.496094 252.916562)scale(0.1 -0.1)\">\n      <defs>\n       <path d=\"M 3116 1747 \nQ 3116 2381 2855 2742 \nQ 2594 3103 2138 3103 \nQ 1681 3103 1420 2742 \nQ 1159 2381 1159 1747 \nQ 1159 1113 1420 752 \nQ 1681 391 2138 391 \nQ 2594 391 2855 752 \nQ 3116 1113 3116 1747 \nz\nM 1159 2969 \nQ 1341 3281 1617 3432 \nQ 1894 3584 2278 3584 \nQ 2916 3584 3314 3078 \nQ 3713 2572 3713 1747 \nQ 3713 922 3314 415 \nQ 2916 -91 2278 -91 \nQ 1894 -91 1617 61 \nQ 1341 213 1159 525 \nL 1159 0 \nL 581 0 \nL 581 4863 \nL 1159 4863 \nL 1159 2969 \nz\n\" id=\"DejaVuSans-62\" transform=\"scale(0.015625)\"/>\n       <path d=\"M 1959 3097 \nQ 1497 3097 1228 2736 \nQ 959 2375 959 1747 \nQ 959 1119 1226 758 \nQ 1494 397 1959 397 \nQ 2419 397 2687 759 \nQ 2956 1122 2956 1747 \nQ 2956 2369 2687 2733 \nQ 2419 3097 1959 3097 \nz\nM 1959 3584 \nQ 2709 3584 3137 3096 \nQ 3566 2609 3566 1747 \nQ 3566 888 3137 398 \nQ 2709 -91 1959 -91 \nQ 1206 -91 779 398 \nQ 353 888 353 1747 \nQ 353 2609 779 3096 \nQ 1206 3584 1959 3584 \nz\n\" id=\"DejaVuSans-6f\" transform=\"scale(0.015625)\"/>\n       <path d=\"M 2906 2969 \nL 2906 4863 \nL 3481 4863 \nL 3481 0 \nL 2906 0 \nL 2906 525 \nQ 2725 213 2448 61 \nQ 2172 -91 1784 -91 \nQ 1150 -91 751 415 \nQ 353 922 353 1747 \nQ 353 2572 751 3078 \nQ 1150 3584 1784 3584 \nQ 2172 3584 2448 3432 \nQ 2725 3281 2906 2969 \nz\nM 947 1747 \nQ 947 1113 1208 752 \nQ 1469 391 1925 391 \nQ 2381 391 2643 752 \nQ 2906 1113 2906 1747 \nQ 2906 2381 2643 2742 \nQ 2381 3103 1925 3103 \nQ 1469 3103 1208 2742 \nQ 947 2381 947 1747 \nz\n\" id=\"DejaVuSans-64\" transform=\"scale(0.015625)\"/>\n       <path d=\"M 2059 -325 \nQ 1816 -950 1584 -1140 \nQ 1353 -1331 966 -1331 \nL 506 -1331 \nL 506 -850 \nL 844 -850 \nQ 1081 -850 1212 -737 \nQ 1344 -625 1503 -206 \nL 1606 56 \nL 191 3500 \nL 800 3500 \nL 1894 763 \nL 2988 3500 \nL 3597 3500 \nL 2059 -325 \nz\n\" id=\"DejaVuSans-79\" transform=\"scale(0.015625)\"/>\n       <path d=\"M 3263 -1063 \nL 3263 -1509 \nL -63 -1509 \nL -63 -1063 \nL 3263 -1063 \nz\n\" id=\"DejaVuSans-5f\" transform=\"scale(0.015625)\"/>\n       <path d=\"M 3328 2828 \nQ 3544 3216 3844 3400 \nQ 4144 3584 4550 3584 \nQ 5097 3584 5394 3201 \nQ 5691 2819 5691 2113 \nL 5691 0 \nL 5113 0 \nL 5113 2094 \nQ 5113 2597 4934 2840 \nQ 4756 3084 4391 3084 \nQ 3944 3084 3684 2787 \nQ 3425 2491 3425 1978 \nL 3425 0 \nL 2847 0 \nL 2847 2094 \nQ 2847 2600 2669 2842 \nQ 2491 3084 2119 3084 \nQ 1678 3084 1418 2786 \nQ 1159 2488 1159 1978 \nL 1159 0 \nL 581 0 \nL 581 3500 \nL 1159 3500 \nL 1159 2956 \nQ 1356 3278 1631 3431 \nQ 1906 3584 2284 3584 \nQ 2666 3584 2933 3390 \nQ 3200 3197 3328 2828 \nz\n\" id=\"DejaVuSans-6d\" transform=\"scale(0.015625)\"/>\n       <path d=\"M 2194 1759 \nQ 1497 1759 1228 1600 \nQ 959 1441 959 1056 \nQ 959 750 1161 570 \nQ 1363 391 1709 391 \nQ 2188 391 2477 730 \nQ 2766 1069 2766 1631 \nL 2766 1759 \nL 2194 1759 \nz\nM 3341 1997 \nL 3341 0 \nL 2766 0 \nL 2766 531 \nQ 2569 213 2275 61 \nQ 1981 -91 1556 -91 \nQ 1019 -91 701 211 \nQ 384 513 384 1019 \nQ 384 1609 779 1909 \nQ 1175 2209 1959 2209 \nL 2766 2209 \nL 2766 2266 \nQ 2766 2663 2505 2880 \nQ 2244 3097 1772 3097 \nQ 1472 3097 1187 3025 \nQ 903 2953 641 2809 \nL 641 3341 \nQ 956 3463 1253 3523 \nQ 1550 3584 1831 3584 \nQ 2591 3584 2966 3190 \nQ 3341 2797 3341 1997 \nz\n\" id=\"DejaVuSans-61\" transform=\"scale(0.015625)\"/>\n       <path d=\"M 2834 3397 \nL 2834 2853 \nQ 2591 2978 2328 3040 \nQ 2066 3103 1784 3103 \nQ 1356 3103 1142 2972 \nQ 928 2841 928 2578 \nQ 928 2378 1081 2264 \nQ 1234 2150 1697 2047 \nL 1894 2003 \nQ 2506 1872 2764 1633 \nQ 3022 1394 3022 966 \nQ 3022 478 2636 193 \nQ 2250 -91 1575 -91 \nQ 1294 -91 989 -36 \nQ 684 19 347 128 \nL 347 722 \nQ 666 556 975 473 \nQ 1284 391 1588 391 \nQ 1994 391 2212 530 \nQ 2431 669 2431 922 \nQ 2431 1156 2273 1281 \nQ 2116 1406 1581 1522 \nL 1381 1569 \nQ 847 1681 609 1914 \nQ 372 2147 372 2553 \nQ 372 3047 722 3315 \nQ 1072 3584 1716 3584 \nQ 2034 3584 2315 3537 \nQ 2597 3491 2834 3397 \nz\n\" id=\"DejaVuSans-73\" transform=\"scale(0.015625)\"/>\n       <path d=\"M 603 3500 \nL 1178 3500 \nL 1178 0 \nL 603 0 \nL 603 3500 \nz\nM 603 4863 \nL 1178 4863 \nL 1178 4134 \nL 603 4134 \nL 603 4863 \nz\n\" id=\"DejaVuSans-69\" transform=\"scale(0.015625)\"/>\n       <path d=\"M 3513 2113 \nL 3513 0 \nL 2938 0 \nL 2938 2094 \nQ 2938 2591 2744 2837 \nQ 2550 3084 2163 3084 \nQ 1697 3084 1428 2787 \nQ 1159 2491 1159 1978 \nL 1159 0 \nL 581 0 \nL 581 3500 \nL 1159 3500 \nL 1159 2956 \nQ 1366 3272 1645 3428 \nQ 1925 3584 2291 3584 \nQ 2894 3584 3203 3211 \nQ 3513 2838 3513 2113 \nz\n\" id=\"DejaVuSans-6e\" transform=\"scale(0.015625)\"/>\n       <path d=\"M 3597 1894 \nL 3597 1613 \nL 953 1613 \nQ 991 1019 1311 708 \nQ 1631 397 2203 397 \nQ 2534 397 2845 478 \nQ 3156 559 3463 722 \nL 3463 178 \nQ 3153 47 2828 -22 \nQ 2503 -91 2169 -91 \nQ 1331 -91 842 396 \nQ 353 884 353 1716 \nQ 353 2575 817 3079 \nQ 1281 3584 2069 3584 \nQ 2775 3584 3186 3129 \nQ 3597 2675 3597 1894 \nz\nM 3022 2063 \nQ 3016 2534 2758 2815 \nQ 2500 3097 2075 3097 \nQ 1594 3097 1305 2825 \nQ 1016 2553 972 2059 \nL 3022 2063 \nz\n\" id=\"DejaVuSans-65\" transform=\"scale(0.015625)\"/>\n       <path d=\"M 3513 3500 \nL 2247 1797 \nL 3578 0 \nL 2900 0 \nL 1881 1375 \nL 863 0 \nL 184 0 \nL 1544 1831 \nL 300 3500 \nL 978 3500 \nL 1906 2253 \nL 2834 3500 \nL 3513 3500 \nz\n\" id=\"DejaVuSans-78\" transform=\"scale(0.015625)\"/>\n      </defs>\n      <use xlink:href=\"#DejaVuSans-62\"/>\n      <use x=\"63.476562\" xlink:href=\"#DejaVuSans-6f\"/>\n      <use x=\"124.658203\" xlink:href=\"#DejaVuSans-64\"/>\n      <use x=\"188.134766\" xlink:href=\"#DejaVuSans-79\"/>\n      <use x=\"247.314453\" xlink:href=\"#DejaVuSans-5f\"/>\n      <use x=\"297.314453\" xlink:href=\"#DejaVuSans-6d\"/>\n      <use x=\"394.726562\" xlink:href=\"#DejaVuSans-61\"/>\n      <use x=\"456.005859\" xlink:href=\"#DejaVuSans-73\"/>\n      <use x=\"508.105469\" xlink:href=\"#DejaVuSans-73\"/>\n      <use x=\"560.205078\" xlink:href=\"#DejaVuSans-5f\"/>\n      <use x=\"610.205078\" xlink:href=\"#DejaVuSans-69\"/>\n      <use x=\"637.988281\" xlink:href=\"#DejaVuSans-6e\"/>\n      <use x=\"701.367188\" xlink:href=\"#DejaVuSans-64\"/>\n      <use x=\"764.84375\" xlink:href=\"#DejaVuSans-65\"/>\n      <use x=\"824.617188\" xlink:href=\"#DejaVuSans-78\"/>\n     </g>\n    </g>\n   </g>\n   <g id=\"matplotlib.axis_2\">\n    <g id=\"ytick_1\">\n     <g id=\"line2d_6\">\n      <defs>\n       <path d=\"M 0 0 \nL -3.5 0 \n\" id=\"m323c283dc7\" style=\"stroke:#000000;stroke-width:0.8;\"/>\n      </defs>\n      <g>\n       <use style=\"stroke:#000000;stroke-width:0.8;\" x=\"33.2875\" xlink:href=\"#m323c283dc7\" y=\"194.482238\"/>\n      </g>\n     </g>\n     <g id=\"text_7\">\n      <!-- 80 -->\n      <g transform=\"translate(13.5625 198.281457)scale(0.1 -0.1)\">\n       <use xlink:href=\"#DejaVuSans-38\"/>\n       <use x=\"63.623047\" xlink:href=\"#DejaVuSans-30\"/>\n      </g>\n     </g>\n    </g>\n    <g id=\"ytick_2\">\n     <g id=\"line2d_7\">\n      <g>\n       <use style=\"stroke:#000000;stroke-width:0.8;\" x=\"33.2875\" xlink:href=\"#m323c283dc7\" y=\"160.692028\"/>\n      </g>\n     </g>\n     <g id=\"text_8\">\n      <!-- 100 -->\n      <g transform=\"translate(7.2 164.491247)scale(0.1 -0.1)\">\n       <defs>\n        <path d=\"M 794 531 \nL 1825 531 \nL 1825 4091 \nL 703 3866 \nL 703 4441 \nL 1819 4666 \nL 2450 4666 \nL 2450 531 \nL 3481 531 \nL 3481 0 \nL 794 0 \nL 794 531 \nz\n\" id=\"DejaVuSans-31\" transform=\"scale(0.015625)\"/>\n       </defs>\n       <use xlink:href=\"#DejaVuSans-31\"/>\n       <use x=\"63.623047\" xlink:href=\"#DejaVuSans-30\"/>\n       <use x=\"127.246094\" xlink:href=\"#DejaVuSans-30\"/>\n      </g>\n     </g>\n    </g>\n    <g id=\"ytick_3\">\n     <g id=\"line2d_8\">\n      <g>\n       <use style=\"stroke:#000000;stroke-width:0.8;\" x=\"33.2875\" xlink:href=\"#m323c283dc7\" y=\"126.901818\"/>\n      </g>\n     </g>\n     <g id=\"text_9\">\n      <!-- 120 -->\n      <g transform=\"translate(7.2 130.701037)scale(0.1 -0.1)\">\n       <use xlink:href=\"#DejaVuSans-31\"/>\n       <use x=\"63.623047\" xlink:href=\"#DejaVuSans-32\"/>\n       <use x=\"127.246094\" xlink:href=\"#DejaVuSans-30\"/>\n      </g>\n     </g>\n    </g>\n    <g id=\"ytick_4\">\n     <g id=\"line2d_9\">\n      <g>\n       <use style=\"stroke:#000000;stroke-width:0.8;\" x=\"33.2875\" xlink:href=\"#m323c283dc7\" y=\"93.111608\"/>\n      </g>\n     </g>\n     <g id=\"text_10\">\n      <!-- 140 -->\n      <g transform=\"translate(7.2 96.910827)scale(0.1 -0.1)\">\n       <use xlink:href=\"#DejaVuSans-31\"/>\n       <use x=\"63.623047\" xlink:href=\"#DejaVuSans-34\"/>\n       <use x=\"127.246094\" xlink:href=\"#DejaVuSans-30\"/>\n      </g>\n     </g>\n    </g>\n    <g id=\"ytick_5\">\n     <g id=\"line2d_10\">\n      <g>\n       <use style=\"stroke:#000000;stroke-width:0.8;\" x=\"33.2875\" xlink:href=\"#m323c283dc7\" y=\"59.321399\"/>\n      </g>\n     </g>\n     <g id=\"text_11\">\n      <!-- 160 -->\n      <g transform=\"translate(7.2 63.120617)scale(0.1 -0.1)\">\n       <use xlink:href=\"#DejaVuSans-31\"/>\n       <use x=\"63.623047\" xlink:href=\"#DejaVuSans-36\"/>\n       <use x=\"127.246094\" xlink:href=\"#DejaVuSans-30\"/>\n      </g>\n     </g>\n    </g>\n    <g id=\"ytick_6\">\n     <g id=\"line2d_11\">\n      <g>\n       <use style=\"stroke:#000000;stroke-width:0.8;\" x=\"33.2875\" xlink:href=\"#m323c283dc7\" y=\"25.531189\"/>\n      </g>\n     </g>\n     <g id=\"text_12\">\n      <!-- 180 -->\n      <g transform=\"translate(7.2 29.330408)scale(0.1 -0.1)\">\n       <use xlink:href=\"#DejaVuSans-31\"/>\n       <use x=\"63.623047\" xlink:href=\"#DejaVuSans-38\"/>\n       <use x=\"127.246094\" xlink:href=\"#DejaVuSans-30\"/>\n      </g>\n     </g>\n    </g>\n   </g>\n   <g id=\"line2d_12\">\n    <path clip-path=\"url(#p26291fa833)\" d=\"M 352.869318 17.083636 \nL 48.505682 39.047273 \nL 121.933968 23.841678 \n\" style=\"fill:none;stroke:#1f77b4;stroke-linecap:square;stroke-width:1.5;\"/>\n   </g>\n   <g id=\"line2d_13\">\n    <path clip-path=\"url(#p26291fa833)\" d=\"M 352.869318 140.417902 \nL 48.505682 214.756364 \nL 121.933968 189.413706 \n\" style=\"fill:none;stroke:#ff7f0e;stroke-linecap:square;stroke-width:1.5;\"/>\n   </g>\n   <g id=\"patch_3\">\n    <path d=\"M 33.2875 224.64 \nL 33.2875 7.2 \n\" style=\"fill:none;stroke:#000000;stroke-linecap:square;stroke-linejoin:miter;stroke-width:0.8;\"/>\n   </g>\n   <g id=\"patch_4\">\n    <path d=\"M 368.0875 224.64 \nL 368.0875 7.2 \n\" style=\"fill:none;stroke:#000000;stroke-linecap:square;stroke-linejoin:miter;stroke-width:0.8;\"/>\n   </g>\n   <g id=\"patch_5\">\n    <path d=\"M 33.2875 224.64 \nL 368.0875 224.64 \n\" style=\"fill:none;stroke:#000000;stroke-linecap:square;stroke-linejoin:miter;stroke-width:0.8;\"/>\n   </g>\n   <g id=\"patch_6\">\n    <path d=\"M 33.2875 7.2 \nL 368.0875 7.2 \n\" style=\"fill:none;stroke:#000000;stroke-linecap:square;stroke-linejoin:miter;stroke-width:0.8;\"/>\n   </g>\n   <g id=\"legend_1\">\n    <g id=\"patch_7\">\n     <path d=\"M 295.371875 219.64 \nL 361.0875 219.64 \nQ 363.0875 219.64 363.0875 217.64 \nL 363.0875 189.28375 \nQ 363.0875 187.28375 361.0875 187.28375 \nL 295.371875 187.28375 \nQ 293.371875 187.28375 293.371875 189.28375 \nL 293.371875 217.64 \nQ 293.371875 219.64 295.371875 219.64 \nz\n\" style=\"fill:#ffffff;opacity:0.8;stroke:#cccccc;stroke-linejoin:miter;\"/>\n    </g>\n    <g id=\"line2d_14\">\n     <path d=\"M 297.371875 195.382188 \nL 317.371875 195.382188 \n\" style=\"fill:none;stroke:#1f77b4;stroke-linecap:square;stroke-width:1.5;\"/>\n    </g>\n    <g id=\"line2d_15\"/>\n    <g id=\"text_13\">\n     <!-- height -->\n     <g transform=\"translate(325.371875 198.882188)scale(0.1 -0.1)\">\n      <defs>\n       <path d=\"M 3513 2113 \nL 3513 0 \nL 2938 0 \nL 2938 2094 \nQ 2938 2591 2744 2837 \nQ 2550 3084 2163 3084 \nQ 1697 3084 1428 2787 \nQ 1159 2491 1159 1978 \nL 1159 0 \nL 581 0 \nL 581 4863 \nL 1159 4863 \nL 1159 2956 \nQ 1366 3272 1645 3428 \nQ 1925 3584 2291 3584 \nQ 2894 3584 3203 3211 \nQ 3513 2838 3513 2113 \nz\n\" id=\"DejaVuSans-68\" transform=\"scale(0.015625)\"/>\n       <path d=\"M 2906 1791 \nQ 2906 2416 2648 2759 \nQ 2391 3103 1925 3103 \nQ 1463 3103 1205 2759 \nQ 947 2416 947 1791 \nQ 947 1169 1205 825 \nQ 1463 481 1925 481 \nQ 2391 481 2648 825 \nQ 2906 1169 2906 1791 \nz\nM 3481 434 \nQ 3481 -459 3084 -895 \nQ 2688 -1331 1869 -1331 \nQ 1566 -1331 1297 -1286 \nQ 1028 -1241 775 -1147 \nL 775 -588 \nQ 1028 -725 1275 -790 \nQ 1522 -856 1778 -856 \nQ 2344 -856 2625 -561 \nQ 2906 -266 2906 331 \nL 2906 616 \nQ 2728 306 2450 153 \nQ 2172 0 1784 0 \nQ 1141 0 747 490 \nQ 353 981 353 1791 \nQ 353 2603 747 3093 \nQ 1141 3584 1784 3584 \nQ 2172 3584 2450 3431 \nQ 2728 3278 2906 2969 \nL 2906 3500 \nL 3481 3500 \nL 3481 434 \nz\n\" id=\"DejaVuSans-67\" transform=\"scale(0.015625)\"/>\n       <path d=\"M 1172 4494 \nL 1172 3500 \nL 2356 3500 \nL 2356 3053 \nL 1172 3053 \nL 1172 1153 \nQ 1172 725 1289 603 \nQ 1406 481 1766 481 \nL 2356 481 \nL 2356 0 \nL 1766 0 \nQ 1100 0 847 248 \nQ 594 497 594 1153 \nL 594 3053 \nL 172 3053 \nL 172 3500 \nL 594 3500 \nL 594 4494 \nL 1172 4494 \nz\n\" id=\"DejaVuSans-74\" transform=\"scale(0.015625)\"/>\n      </defs>\n      <use xlink:href=\"#DejaVuSans-68\"/>\n      <use x=\"63.378906\" xlink:href=\"#DejaVuSans-65\"/>\n      <use x=\"124.902344\" xlink:href=\"#DejaVuSans-69\"/>\n      <use x=\"152.685547\" xlink:href=\"#DejaVuSans-67\"/>\n      <use x=\"216.162109\" xlink:href=\"#DejaVuSans-68\"/>\n      <use x=\"279.541016\" xlink:href=\"#DejaVuSans-74\"/>\n     </g>\n    </g>\n    <g id=\"line2d_16\">\n     <path d=\"M 297.371875 210.060313 \nL 317.371875 210.060313 \n\" style=\"fill:none;stroke:#ff7f0e;stroke-linecap:square;stroke-width:1.5;\"/>\n    </g>\n    <g id=\"line2d_17\"/>\n    <g id=\"text_14\">\n     <!-- weight -->\n     <g transform=\"translate(325.371875 213.560313)scale(0.1 -0.1)\">\n      <defs>\n       <path d=\"M 269 3500 \nL 844 3500 \nL 1563 769 \nL 2278 3500 \nL 2956 3500 \nL 3675 769 \nL 4391 3500 \nL 4966 3500 \nL 4050 0 \nL 3372 0 \nL 2619 2869 \nL 1863 0 \nL 1184 0 \nL 269 3500 \nz\n\" id=\"DejaVuSans-77\" transform=\"scale(0.015625)\"/>\n      </defs>\n      <use xlink:href=\"#DejaVuSans-77\"/>\n      <use x=\"81.787109\" xlink:href=\"#DejaVuSans-65\"/>\n      <use x=\"143.310547\" xlink:href=\"#DejaVuSans-69\"/>\n      <use x=\"171.09375\" xlink:href=\"#DejaVuSans-67\"/>\n      <use x=\"234.570312\" xlink:href=\"#DejaVuSans-68\"/>\n      <use x=\"297.949219\" xlink:href=\"#DejaVuSans-74\"/>\n     </g>\n    </g>\n   </g>\n  </g>\n </g>\n <defs>\n  <clipPath id=\"p26291fa833\">\n   <rect height=\"217.44\" width=\"334.8\" x=\"33.2875\" y=\"7.2\"/>\n  </clipPath>\n </defs>\n</svg>\n",
      "image/png": "[encoded data removed]"
     },
     "metadata": {
      "needs_background": "light"
     }
    }
   ],
   "source": [
    "people.plot(kind=\"line\", x=\"body_mass_index\", y=[\"height\", \"weight\"])\n",
    "plt.show()"
   ]
  },
  {
   "cell_type": "markdown",
   "metadata": {},
   "source": [
    "You can pass extra arguments supported by matplotlib's functions. For example, we can create scatterplot and pass it a list of sizes using the `s` argument of matplotlib's `scatter()` function:"
   ]
  },
  {
   "cell_type": "code",
   "execution_count": 92,
   "metadata": {
    "scrolled": true
   },
   "outputs": [
    {
     "output_type": "display_data",
     "data": {
      "text/plain": "<Figure size 432x288 with 1 Axes>",
      "image/svg+xml": "<?xml version=\"1.0\" encoding=\"utf-8\" standalone=\"no\"?>\n<!DOCTYPE svg PUBLIC \"-//W3C//DTD SVG 1.1//EN\"\n  \"http://www.w3.org/Graphics/SVG/1.1/DTD/svg11.dtd\">\n<svg height=\"262.19625pt\" version=\"1.1\" viewBox=\"0 0 388.965625 262.19625\" width=\"388.965625pt\" xmlns=\"http://www.w3.org/2000/svg\" xmlns:xlink=\"http://www.w3.org/1999/xlink\">\n <metadata>\n  <rdf:RDF xmlns:cc=\"http://creativecommons.org/ns#\" xmlns:dc=\"http://purl.org/dc/elements/1.1/\" xmlns:rdf=\"http://www.w3.org/1999/02/22-rdf-syntax-ns#\">\n   <cc:Work>\n    <dc:type rdf:resource=\"http://purl.org/dc/dcmitype/StillImage\"/>\n    <dc:date>2021-05-14T08:48:46.781710</dc:date>\n    <dc:format>image/svg+xml</dc:format>\n    <dc:creator>\n     <cc:Agent>\n      <dc:title>Matplotlib v3.4.2, https://matplotlib.org/</dc:title>\n     </cc:Agent>\n    </dc:creator>\n   </cc:Work>\n  </rdf:RDF>\n </metadata>\n <defs>\n  <style type=\"text/css\">*{stroke-linecap:butt;stroke-linejoin:round;}</style>\n </defs>\n <g id=\"figure_1\">\n  <g id=\"patch_1\">\n   <path d=\"M 0 262.19625 \nL 388.965625 262.19625 \nL 388.965625 0 \nL 0 0 \nz\n\" style=\"fill:none;\"/>\n  </g>\n  <g id=\"axes_1\">\n   <g id=\"patch_2\">\n    <path d=\"M 46.965625 224.64 \nL 381.765625 224.64 \nL 381.765625 7.2 \nL 46.965625 7.2 \nz\n\" style=\"fill:#ffffff;\"/>\n   </g>\n   <g id=\"PathCollection_1\">\n    <path clip-path=\"url(#p510e08027e)\" d=\"M 366.547443 20.245914 \nC 367.386089 20.245914 368.190499 19.912717 368.783511 19.319704 \nC 369.376523 18.726692 369.709721 17.922282 369.709721 17.083636 \nC 369.709721 16.244991 369.376523 15.440581 368.783511 14.847568 \nC 368.190499 14.254556 367.386089 13.921359 366.547443 13.921359 \nC 365.708797 13.921359 364.904387 14.254556 364.311375 14.847568 \nC 363.718363 15.440581 363.385166 16.244991 363.385166 17.083636 \nC 363.385166 17.922282 363.718363 18.726692 364.311375 19.319704 \nC 364.904387 19.912717 365.708797 20.245914 366.547443 20.245914 \nz\n\" style=\"fill:#1f77b4;stroke:#1f77b4;\"/>\n    <path clip-path=\"url(#p510e08027e)\" d=\"M 62.183807 220.233589 \nC 63.636384 220.233589 65.029663 219.656474 66.05679 218.629347 \nC 67.083917 217.60222 67.661032 216.208941 67.661032 214.756364 \nC 67.661032 213.303786 67.083917 211.910507 66.05679 210.88338 \nC 65.029663 209.856253 63.636384 209.279138 62.183807 209.279138 \nC 60.73123 209.279138 59.337951 209.856253 58.310823 210.88338 \nC 57.283696 211.910507 56.706581 213.303786 56.706581 214.756364 \nC 56.706581 216.208941 57.283696 217.60222 58.310823 218.629347 \nC 59.337951 219.656474 60.73123 220.233589 62.183807 220.233589 \nz\n\" style=\"fill:#1f77b4;stroke:#1f77b4;\"/>\n    <path clip-path=\"url(#p510e08027e)\" d=\"M 272.897094 154.439002 \nC 274.772363 154.439002 276.571078 153.693949 277.897094 152.367934 \nC 279.223109 151.041918 279.968161 149.243203 279.968161 147.367934 \nC 279.968161 145.492665 279.223109 143.693949 277.897094 142.367934 \nC 276.571078 141.041918 274.772363 140.296866 272.897094 140.296866 \nC 271.021824 140.296866 269.223109 141.041918 267.897094 142.367934 \nC 266.571078 143.693949 265.826026 145.492665 265.826026 147.367934 \nC 265.826026 149.243203 266.571078 151.041918 267.897094 152.367934 \nC 269.223109 153.693949 271.021824 154.439002 272.897094 154.439002 \nz\n\" style=\"fill:#1f77b4;stroke:#1f77b4;\"/>\n   </g>\n   <g id=\"matplotlib.axis_1\">\n    <g id=\"xtick_1\">\n     <g id=\"line2d_1\">\n      <defs>\n       <path d=\"M 0 0 \nL 0 3.5 \n\" id=\"mbd624bc41b\" style=\"stroke:#000000;stroke-width:0.8;\"/>\n      </defs>\n      <g>\n       <use style=\"stroke:#000000;stroke-width:0.8;\" x=\"62.183807\" xlink:href=\"#mbd624bc41b\" y=\"224.64\"/>\n      </g>\n     </g>\n     <g id=\"text_1\">\n      <!-- 172 -->\n      <g transform=\"translate(52.640057 239.238437)scale(0.1 -0.1)\">\n       <defs>\n        <path d=\"M 794 531 \nL 1825 531 \nL 1825 4091 \nL 703 3866 \nL 703 4441 \nL 1819 4666 \nL 2450 4666 \nL 2450 531 \nL 3481 531 \nL 3481 0 \nL 794 0 \nL 794 531 \nz\n\" id=\"DejaVuSans-31\" transform=\"scale(0.015625)\"/>\n        <path d=\"M 525 4666 \nL 3525 4666 \nL 3525 4397 \nL 1831 0 \nL 1172 0 \nL 2766 4134 \nL 525 4134 \nL 525 4666 \nz\n\" id=\"DejaVuSans-37\" transform=\"scale(0.015625)\"/>\n        <path d=\"M 1228 531 \nL 3431 531 \nL 3431 0 \nL 469 0 \nL 469 531 \nQ 828 903 1448 1529 \nQ 2069 2156 2228 2338 \nQ 2531 2678 2651 2914 \nQ 2772 3150 2772 3378 \nQ 2772 3750 2511 3984 \nQ 2250 4219 1831 4219 \nQ 1534 4219 1204 4116 \nQ 875 4013 500 3803 \nL 500 4441 \nQ 881 4594 1212 4672 \nQ 1544 4750 1819 4750 \nQ 2544 4750 2975 4387 \nQ 3406 4025 3406 3419 \nQ 3406 3131 3298 2873 \nQ 3191 2616 2906 2266 \nQ 2828 2175 2409 1742 \nQ 1991 1309 1228 531 \nz\n\" id=\"DejaVuSans-32\" transform=\"scale(0.015625)\"/>\n       </defs>\n       <use xlink:href=\"#DejaVuSans-31\"/>\n       <use x=\"63.623047\" xlink:href=\"#DejaVuSans-37\"/>\n       <use x=\"127.246094\" xlink:href=\"#DejaVuSans-32\"/>\n      </g>\n     </g>\n    </g>\n    <g id=\"xtick_2\">\n     <g id=\"line2d_2\">\n      <g>\n       <use style=\"stroke:#000000;stroke-width:0.8;\" x=\"109.008982\" xlink:href=\"#mbd624bc41b\" y=\"224.64\"/>\n      </g>\n     </g>\n     <g id=\"text_2\">\n      <!-- 174 -->\n      <g transform=\"translate(99.465232 239.238437)scale(0.1 -0.1)\">\n       <defs>\n        <path d=\"M 2419 4116 \nL 825 1625 \nL 2419 1625 \nL 2419 4116 \nz\nM 2253 4666 \nL 3047 4666 \nL 3047 1625 \nL 3713 1625 \nL 3713 1100 \nL 3047 1100 \nL 3047 0 \nL 2419 0 \nL 2419 1100 \nL 313 1100 \nL 313 1709 \nL 2253 4666 \nz\n\" id=\"DejaVuSans-34\" transform=\"scale(0.015625)\"/>\n       </defs>\n       <use xlink:href=\"#DejaVuSans-31\"/>\n       <use x=\"63.623047\" xlink:href=\"#DejaVuSans-37\"/>\n       <use x=\"127.246094\" xlink:href=\"#DejaVuSans-34\"/>\n      </g>\n     </g>\n    </g>\n    <g id=\"xtick_3\">\n     <g id=\"line2d_3\">\n      <g>\n       <use style=\"stroke:#000000;stroke-width:0.8;\" x=\"155.834156\" xlink:href=\"#mbd624bc41b\" y=\"224.64\"/>\n      </g>\n     </g>\n     <g id=\"text_3\">\n      <!-- 176 -->\n      <g transform=\"translate(146.290406 239.238437)scale(0.1 -0.1)\">\n       <defs>\n        <path d=\"M 2113 2584 \nQ 1688 2584 1439 2293 \nQ 1191 2003 1191 1497 \nQ 1191 994 1439 701 \nQ 1688 409 2113 409 \nQ 2538 409 2786 701 \nQ 3034 994 3034 1497 \nQ 3034 2003 2786 2293 \nQ 2538 2584 2113 2584 \nz\nM 3366 4563 \nL 3366 3988 \nQ 3128 4100 2886 4159 \nQ 2644 4219 2406 4219 \nQ 1781 4219 1451 3797 \nQ 1122 3375 1075 2522 \nQ 1259 2794 1537 2939 \nQ 1816 3084 2150 3084 \nQ 2853 3084 3261 2657 \nQ 3669 2231 3669 1497 \nQ 3669 778 3244 343 \nQ 2819 -91 2113 -91 \nQ 1303 -91 875 529 \nQ 447 1150 447 2328 \nQ 447 3434 972 4092 \nQ 1497 4750 2381 4750 \nQ 2619 4750 2861 4703 \nQ 3103 4656 3366 4563 \nz\n\" id=\"DejaVuSans-36\" transform=\"scale(0.015625)\"/>\n       </defs>\n       <use xlink:href=\"#DejaVuSans-31\"/>\n       <use x=\"63.623047\" xlink:href=\"#DejaVuSans-37\"/>\n       <use x=\"127.246094\" xlink:href=\"#DejaVuSans-36\"/>\n      </g>\n     </g>\n    </g>\n    <g id=\"xtick_4\">\n     <g id=\"line2d_4\">\n      <g>\n       <use style=\"stroke:#000000;stroke-width:0.8;\" x=\"202.659331\" xlink:href=\"#mbd624bc41b\" y=\"224.64\"/>\n      </g>\n     </g>\n     <g id=\"text_4\">\n      <!-- 178 -->\n      <g transform=\"translate(193.115581 239.238437)scale(0.1 -0.1)\">\n       <defs>\n        <path d=\"M 2034 2216 \nQ 1584 2216 1326 1975 \nQ 1069 1734 1069 1313 \nQ 1069 891 1326 650 \nQ 1584 409 2034 409 \nQ 2484 409 2743 651 \nQ 3003 894 3003 1313 \nQ 3003 1734 2745 1975 \nQ 2488 2216 2034 2216 \nz\nM 1403 2484 \nQ 997 2584 770 2862 \nQ 544 3141 544 3541 \nQ 544 4100 942 4425 \nQ 1341 4750 2034 4750 \nQ 2731 4750 3128 4425 \nQ 3525 4100 3525 3541 \nQ 3525 3141 3298 2862 \nQ 3072 2584 2669 2484 \nQ 3125 2378 3379 2068 \nQ 3634 1759 3634 1313 \nQ 3634 634 3220 271 \nQ 2806 -91 2034 -91 \nQ 1263 -91 848 271 \nQ 434 634 434 1313 \nQ 434 1759 690 2068 \nQ 947 2378 1403 2484 \nz\nM 1172 3481 \nQ 1172 3119 1398 2916 \nQ 1625 2713 2034 2713 \nQ 2441 2713 2670 2916 \nQ 2900 3119 2900 3481 \nQ 2900 3844 2670 4047 \nQ 2441 4250 2034 4250 \nQ 1625 4250 1398 4047 \nQ 1172 3844 1172 3481 \nz\n\" id=\"DejaVuSans-38\" transform=\"scale(0.015625)\"/>\n       </defs>\n       <use xlink:href=\"#DejaVuSans-31\"/>\n       <use x=\"63.623047\" xlink:href=\"#DejaVuSans-37\"/>\n       <use x=\"127.246094\" xlink:href=\"#DejaVuSans-38\"/>\n      </g>\n     </g>\n    </g>\n    <g id=\"xtick_5\">\n     <g id=\"line2d_5\">\n      <g>\n       <use style=\"stroke:#000000;stroke-width:0.8;\" x=\"249.484506\" xlink:href=\"#mbd624bc41b\" y=\"224.64\"/>\n      </g>\n     </g>\n     <g id=\"text_5\">\n      <!-- 180 -->\n      <g transform=\"translate(239.940756 239.238437)scale(0.1 -0.1)\">\n       <defs>\n        <path d=\"M 2034 4250 \nQ 1547 4250 1301 3770 \nQ 1056 3291 1056 2328 \nQ 1056 1369 1301 889 \nQ 1547 409 2034 409 \nQ 2525 409 2770 889 \nQ 3016 1369 3016 2328 \nQ 3016 3291 2770 3770 \nQ 2525 4250 2034 4250 \nz\nM 2034 4750 \nQ 2819 4750 3233 4129 \nQ 3647 3509 3647 2328 \nQ 3647 1150 3233 529 \nQ 2819 -91 2034 -91 \nQ 1250 -91 836 529 \nQ 422 1150 422 2328 \nQ 422 3509 836 4129 \nQ 1250 4750 2034 4750 \nz\n\" id=\"DejaVuSans-30\" transform=\"scale(0.015625)\"/>\n       </defs>\n       <use xlink:href=\"#DejaVuSans-31\"/>\n       <use x=\"63.623047\" xlink:href=\"#DejaVuSans-38\"/>\n       <use x=\"127.246094\" xlink:href=\"#DejaVuSans-30\"/>\n      </g>\n     </g>\n    </g>\n    <g id=\"xtick_6\">\n     <g id=\"line2d_6\">\n      <g>\n       <use style=\"stroke:#000000;stroke-width:0.8;\" x=\"296.309681\" xlink:href=\"#mbd624bc41b\" y=\"224.64\"/>\n      </g>\n     </g>\n     <g id=\"text_6\">\n      <!-- 182 -->\n      <g transform=\"translate(286.765931 239.238437)scale(0.1 -0.1)\">\n       <use xlink:href=\"#DejaVuSans-31\"/>\n       <use x=\"63.623047\" xlink:href=\"#DejaVuSans-38\"/>\n       <use x=\"127.246094\" xlink:href=\"#DejaVuSans-32\"/>\n      </g>\n     </g>\n    </g>\n    <g id=\"xtick_7\">\n     <g id=\"line2d_7\">\n      <g>\n       <use style=\"stroke:#000000;stroke-width:0.8;\" x=\"343.134856\" xlink:href=\"#mbd624bc41b\" y=\"224.64\"/>\n      </g>\n     </g>\n     <g id=\"text_7\">\n      <!-- 184 -->\n      <g transform=\"translate(333.591106 239.238437)scale(0.1 -0.1)\">\n       <use xlink:href=\"#DejaVuSans-31\"/>\n       <use x=\"63.623047\" xlink:href=\"#DejaVuSans-38\"/>\n       <use x=\"127.246094\" xlink:href=\"#DejaVuSans-34\"/>\n      </g>\n     </g>\n    </g>\n    <g id=\"text_8\">\n     <!-- height -->\n     <g transform=\"translate(198.428125 252.916562)scale(0.1 -0.1)\">\n      <defs>\n       <path d=\"M 3513 2113 \nL 3513 0 \nL 2938 0 \nL 2938 2094 \nQ 2938 2591 2744 2837 \nQ 2550 3084 2163 3084 \nQ 1697 3084 1428 2787 \nQ 1159 2491 1159 1978 \nL 1159 0 \nL 581 0 \nL 581 4863 \nL 1159 4863 \nL 1159 2956 \nQ 1366 3272 1645 3428 \nQ 1925 3584 2291 3584 \nQ 2894 3584 3203 3211 \nQ 3513 2838 3513 2113 \nz\n\" id=\"DejaVuSans-68\" transform=\"scale(0.015625)\"/>\n       <path d=\"M 3597 1894 \nL 3597 1613 \nL 953 1613 \nQ 991 1019 1311 708 \nQ 1631 397 2203 397 \nQ 2534 397 2845 478 \nQ 3156 559 3463 722 \nL 3463 178 \nQ 3153 47 2828 -22 \nQ 2503 -91 2169 -91 \nQ 1331 -91 842 396 \nQ 353 884 353 1716 \nQ 353 2575 817 3079 \nQ 1281 3584 2069 3584 \nQ 2775 3584 3186 3129 \nQ 3597 2675 3597 1894 \nz\nM 3022 2063 \nQ 3016 2534 2758 2815 \nQ 2500 3097 2075 3097 \nQ 1594 3097 1305 2825 \nQ 1016 2553 972 2059 \nL 3022 2063 \nz\n\" id=\"DejaVuSans-65\" transform=\"scale(0.015625)\"/>\n       <path d=\"M 603 3500 \nL 1178 3500 \nL 1178 0 \nL 603 0 \nL 603 3500 \nz\nM 603 4863 \nL 1178 4863 \nL 1178 4134 \nL 603 4134 \nL 603 4863 \nz\n\" id=\"DejaVuSans-69\" transform=\"scale(0.015625)\"/>\n       <path d=\"M 2906 1791 \nQ 2906 2416 2648 2759 \nQ 2391 3103 1925 3103 \nQ 1463 3103 1205 2759 \nQ 947 2416 947 1791 \nQ 947 1169 1205 825 \nQ 1463 481 1925 481 \nQ 2391 481 2648 825 \nQ 2906 1169 2906 1791 \nz\nM 3481 434 \nQ 3481 -459 3084 -895 \nQ 2688 -1331 1869 -1331 \nQ 1566 -1331 1297 -1286 \nQ 1028 -1241 775 -1147 \nL 775 -588 \nQ 1028 -725 1275 -790 \nQ 1522 -856 1778 -856 \nQ 2344 -856 2625 -561 \nQ 2906 -266 2906 331 \nL 2906 616 \nQ 2728 306 2450 153 \nQ 2172 0 1784 0 \nQ 1141 0 747 490 \nQ 353 981 353 1791 \nQ 353 2603 747 3093 \nQ 1141 3584 1784 3584 \nQ 2172 3584 2450 3431 \nQ 2728 3278 2906 2969 \nL 2906 3500 \nL 3481 3500 \nL 3481 434 \nz\n\" id=\"DejaVuSans-67\" transform=\"scale(0.015625)\"/>\n       <path d=\"M 1172 4494 \nL 1172 3500 \nL 2356 3500 \nL 2356 3053 \nL 1172 3053 \nL 1172 1153 \nQ 1172 725 1289 603 \nQ 1406 481 1766 481 \nL 2356 481 \nL 2356 0 \nL 1766 0 \nQ 1100 0 847 248 \nQ 594 497 594 1153 \nL 594 3053 \nL 172 3053 \nL 172 3500 \nL 594 3500 \nL 594 4494 \nL 1172 4494 \nz\n\" id=\"DejaVuSans-74\" transform=\"scale(0.015625)\"/>\n      </defs>\n      <use xlink:href=\"#DejaVuSans-68\"/>\n      <use x=\"63.378906\" xlink:href=\"#DejaVuSans-65\"/>\n      <use x=\"124.902344\" xlink:href=\"#DejaVuSans-69\"/>\n      <use x=\"152.685547\" xlink:href=\"#DejaVuSans-67\"/>\n      <use x=\"216.162109\" xlink:href=\"#DejaVuSans-68\"/>\n      <use x=\"279.541016\" xlink:href=\"#DejaVuSans-74\"/>\n     </g>\n    </g>\n   </g>\n   <g id=\"matplotlib.axis_2\">\n    <g id=\"ytick_1\">\n     <g id=\"line2d_8\">\n      <defs>\n       <path d=\"M 0 0 \nL -3.5 0 \n\" id=\"m582f13959a\" style=\"stroke:#000000;stroke-width:0.8;\"/>\n      </defs>\n      <g>\n       <use style=\"stroke:#000000;stroke-width:0.8;\" x=\"46.965625\" xlink:href=\"#m582f13959a\" y=\"205.77124\"/>\n      </g>\n     </g>\n     <g id=\"text_9\">\n      <!-- 70 -->\n      <g transform=\"translate(27.240625 209.570458)scale(0.1 -0.1)\">\n       <use xlink:href=\"#DejaVuSans-37\"/>\n       <use x=\"63.623047\" xlink:href=\"#DejaVuSans-30\"/>\n      </g>\n     </g>\n    </g>\n    <g id=\"ytick_2\">\n     <g id=\"line2d_9\">\n      <g>\n       <use style=\"stroke:#000000;stroke-width:0.8;\" x=\"46.965625\" xlink:href=\"#m582f13959a\" y=\"160.84562\"/>\n      </g>\n     </g>\n     <g id=\"text_10\">\n      <!-- 80 -->\n      <g transform=\"translate(27.240625 164.644839)scale(0.1 -0.1)\">\n       <use xlink:href=\"#DejaVuSans-38\"/>\n       <use x=\"63.623047\" xlink:href=\"#DejaVuSans-30\"/>\n      </g>\n     </g>\n    </g>\n    <g id=\"ytick_3\">\n     <g id=\"line2d_10\">\n      <g>\n       <use style=\"stroke:#000000;stroke-width:0.8;\" x=\"46.965625\" xlink:href=\"#m582f13959a\" y=\"115.92\"/>\n      </g>\n     </g>\n     <g id=\"text_11\">\n      <!-- 90 -->\n      <g transform=\"translate(27.240625 119.719219)scale(0.1 -0.1)\">\n       <defs>\n        <path d=\"M 703 97 \nL 703 672 \nQ 941 559 1184 500 \nQ 1428 441 1663 441 \nQ 2288 441 2617 861 \nQ 2947 1281 2994 2138 \nQ 2813 1869 2534 1725 \nQ 2256 1581 1919 1581 \nQ 1219 1581 811 2004 \nQ 403 2428 403 3163 \nQ 403 3881 828 4315 \nQ 1253 4750 1959 4750 \nQ 2769 4750 3195 4129 \nQ 3622 3509 3622 2328 \nQ 3622 1225 3098 567 \nQ 2575 -91 1691 -91 \nQ 1453 -91 1209 -44 \nQ 966 3 703 97 \nz\nM 1959 2075 \nQ 2384 2075 2632 2365 \nQ 2881 2656 2881 3163 \nQ 2881 3666 2632 3958 \nQ 2384 4250 1959 4250 \nQ 1534 4250 1286 3958 \nQ 1038 3666 1038 3163 \nQ 1038 2656 1286 2365 \nQ 1534 2075 1959 2075 \nz\n\" id=\"DejaVuSans-39\" transform=\"scale(0.015625)\"/>\n       </defs>\n       <use xlink:href=\"#DejaVuSans-39\"/>\n       <use x=\"63.623047\" xlink:href=\"#DejaVuSans-30\"/>\n      </g>\n     </g>\n    </g>\n    <g id=\"ytick_4\">\n     <g id=\"line2d_11\">\n      <g>\n       <use style=\"stroke:#000000;stroke-width:0.8;\" x=\"46.965625\" xlink:href=\"#m582f13959a\" y=\"70.99438\"/>\n      </g>\n     </g>\n     <g id=\"text_12\">\n      <!-- 100 -->\n      <g transform=\"translate(20.878125 74.793599)scale(0.1 -0.1)\">\n       <use xlink:href=\"#DejaVuSans-31\"/>\n       <use x=\"63.623047\" xlink:href=\"#DejaVuSans-30\"/>\n       <use x=\"127.246094\" xlink:href=\"#DejaVuSans-30\"/>\n      </g>\n     </g>\n    </g>\n    <g id=\"ytick_5\">\n     <g id=\"line2d_12\">\n      <g>\n       <use style=\"stroke:#000000;stroke-width:0.8;\" x=\"46.965625\" xlink:href=\"#m582f13959a\" y=\"26.06876\"/>\n      </g>\n     </g>\n     <g id=\"text_13\">\n      <!-- 110 -->\n      <g transform=\"translate(20.878125 29.867979)scale(0.1 -0.1)\">\n       <use xlink:href=\"#DejaVuSans-31\"/>\n       <use x=\"63.623047\" xlink:href=\"#DejaVuSans-31\"/>\n       <use x=\"127.246094\" xlink:href=\"#DejaVuSans-30\"/>\n      </g>\n     </g>\n    </g>\n    <g id=\"text_14\">\n     <!-- weight -->\n     <g transform=\"translate(14.798438 132.777812)rotate(-90)scale(0.1 -0.1)\">\n      <defs>\n       <path d=\"M 269 3500 \nL 844 3500 \nL 1563 769 \nL 2278 3500 \nL 2956 3500 \nL 3675 769 \nL 4391 3500 \nL 4966 3500 \nL 4050 0 \nL 3372 0 \nL 2619 2869 \nL 1863 0 \nL 1184 0 \nL 269 3500 \nz\n\" id=\"DejaVuSans-77\" transform=\"scale(0.015625)\"/>\n      </defs>\n      <use xlink:href=\"#DejaVuSans-77\"/>\n      <use x=\"81.787109\" xlink:href=\"#DejaVuSans-65\"/>\n      <use x=\"143.310547\" xlink:href=\"#DejaVuSans-69\"/>\n      <use x=\"171.09375\" xlink:href=\"#DejaVuSans-67\"/>\n      <use x=\"234.570312\" xlink:href=\"#DejaVuSans-68\"/>\n      <use x=\"297.949219\" xlink:href=\"#DejaVuSans-74\"/>\n     </g>\n    </g>\n   </g>\n   <g id=\"patch_3\">\n    <path d=\"M 46.965625 224.64 \nL 46.965625 7.2 \n\" style=\"fill:none;stroke:#000000;stroke-linecap:square;stroke-linejoin:miter;stroke-width:0.8;\"/>\n   </g>\n   <g id=\"patch_4\">\n    <path d=\"M 381.765625 224.64 \nL 381.765625 7.2 \n\" style=\"fill:none;stroke:#000000;stroke-linecap:square;stroke-linejoin:miter;stroke-width:0.8;\"/>\n   </g>\n   <g id=\"patch_5\">\n    <path d=\"M 46.965625 224.64 \nL 381.765625 224.64 \n\" style=\"fill:none;stroke:#000000;stroke-linecap:square;stroke-linejoin:miter;stroke-width:0.8;\"/>\n   </g>\n   <g id=\"patch_6\">\n    <path d=\"M 46.965625 7.2 \nL 381.765625 7.2 \n\" style=\"fill:none;stroke:#000000;stroke-linecap:square;stroke-linejoin:miter;stroke-width:0.8;\"/>\n   </g>\n  </g>\n </g>\n <defs>\n  <clipPath id=\"p510e08027e\">\n   <rect height=\"217.44\" width=\"334.8\" x=\"46.965625\" y=\"7.2\"/>\n  </clipPath>\n </defs>\n</svg>\n",
      "image/png": "[encoded data removed]"
     },
     "metadata": {
      "needs_background": "light"
     }
    }
   ],
   "source": [
    "people.plot(kind=\"scatter\", x=\"height\", y=\"weight\", s=[40, 120, 200])\n",
    "plt.show()"
   ]
  },
  {
   "cell_type": "markdown",
   "metadata": {},
   "source": [
    "Again, there are way too many options to list here: the best option is to scroll through the [Visualization](http://pandas.pydata.org/pandas-docs/stable/visualization.html) page in pandas' documentation, find the plot you are interested in and look at the example code."
   ]
  },
  {
   "cell_type": "markdown",
   "metadata": {},
   "source": [
    "## Operations on `DataFrame`s\n",
    "Although `DataFrame`s do not try to mimick NumPy arrays, there are a few similarities. Let's create a `DataFrame` to demonstrate this:"
   ]
  },
  {
   "cell_type": "code",
   "execution_count": 93,
   "metadata": {},
   "outputs": [
    {
     "output_type": "execute_result",
     "data": {
      "text/plain": [
       "         sep  oct  nov\n",
       "alice      8    8    9\n",
       "bob       10    9    9\n",
       "charles    4    8    2\n",
       "darwin     9   10   10"
      ],
      "text/html": "<div>\n<style scoped>\n    .dataframe tbody tr th:only-of-type {\n        vertical-align: middle;\n    }\n\n    .dataframe tbody tr th {\n        vertical-align: top;\n    }\n\n    .dataframe thead th {\n        text-align: right;\n    }\n</style>\n<table border=\"1\" class=\"dataframe\">\n  <thead>\n    <tr style=\"text-align: right;\">\n      <th></th>\n      <th>sep</th>\n      <th>oct</th>\n      <th>nov</th>\n    </tr>\n  </thead>\n  <tbody>\n    <tr>\n      <th>alice</th>\n      <td>8</td>\n      <td>8</td>\n      <td>9</td>\n    </tr>\n    <tr>\n      <th>bob</th>\n      <td>10</td>\n      <td>9</td>\n      <td>9</td>\n    </tr>\n    <tr>\n      <th>charles</th>\n      <td>4</td>\n      <td>8</td>\n      <td>2</td>\n    </tr>\n    <tr>\n      <th>darwin</th>\n      <td>9</td>\n      <td>10</td>\n      <td>10</td>\n    </tr>\n  </tbody>\n</table>\n</div>"
     },
     "metadata": {},
     "execution_count": 93
    }
   ],
   "source": [
    "grades_array = np.array([[8, 8, 9], [10, 9, 9], [4, 8, 2], [9, 10, 10]])\n",
    "grades = pd.DataFrame(grades_array,\n",
    "                      columns=[\"sep\", \"oct\", \"nov\"],\n",
    "                      index=[\"alice\", \"bob\", \"charles\", \"darwin\"])\n",
    "grades"
   ]
  },
  {
   "cell_type": "markdown",
   "metadata": {},
   "source": [
    "You can apply NumPy mathematical functions on a `DataFrame`: the function is applied to all values:"
   ]
  },
  {
   "cell_type": "code",
   "execution_count": 94,
   "metadata": {},
   "outputs": [
    {
     "output_type": "execute_result",
     "data": {
      "text/plain": [
       "              sep       oct       nov\n",
       "alice    2.828427  2.828427  3.000000\n",
       "bob      3.162278  3.000000  3.000000\n",
       "charles  2.000000  2.828427  1.414214\n",
       "darwin   3.000000  3.162278  3.162278"
      ],
      "text/html": "<div>\n<style scoped>\n    .dataframe tbody tr th:only-of-type {\n        vertical-align: middle;\n    }\n\n    .dataframe tbody tr th {\n        vertical-align: top;\n    }\n\n    .dataframe thead th {\n        text-align: right;\n    }\n</style>\n<table border=\"1\" class=\"dataframe\">\n  <thead>\n    <tr style=\"text-align: right;\">\n      <th></th>\n      <th>sep</th>\n      <th>oct</th>\n      <th>nov</th>\n    </tr>\n  </thead>\n  <tbody>\n    <tr>\n      <th>alice</th>\n      <td>2.828427</td>\n      <td>2.828427</td>\n      <td>3.000000</td>\n    </tr>\n    <tr>\n      <th>bob</th>\n      <td>3.162278</td>\n      <td>3.000000</td>\n      <td>3.000000</td>\n    </tr>\n    <tr>\n      <th>charles</th>\n      <td>2.000000</td>\n      <td>2.828427</td>\n      <td>1.414214</td>\n    </tr>\n    <tr>\n      <th>darwin</th>\n      <td>3.000000</td>\n      <td>3.162278</td>\n      <td>3.162278</td>\n    </tr>\n  </tbody>\n</table>\n</div>"
     },
     "metadata": {},
     "execution_count": 94
    }
   ],
   "source": [
    "np.sqrt(grades)"
   ]
  },
  {
   "cell_type": "markdown",
   "metadata": {},
   "source": [
    "Similarly, adding a single value to a `DataFrame` will add that value to all elements in the `DataFrame`. This is called *broadcasting*:"
   ]
  },
  {
   "cell_type": "code",
   "execution_count": 95,
   "metadata": {},
   "outputs": [
    {
     "output_type": "execute_result",
     "data": {
      "text/plain": [
       "         sep  oct  nov\n",
       "alice      9    9   10\n",
       "bob       11   10   10\n",
       "charles    5    9    3\n",
       "darwin    10   11   11"
      ],
      "text/html": "<div>\n<style scoped>\n    .dataframe tbody tr th:only-of-type {\n        vertical-align: middle;\n    }\n\n    .dataframe tbody tr th {\n        vertical-align: top;\n    }\n\n    .dataframe thead th {\n        text-align: right;\n    }\n</style>\n<table border=\"1\" class=\"dataframe\">\n  <thead>\n    <tr style=\"text-align: right;\">\n      <th></th>\n      <th>sep</th>\n      <th>oct</th>\n      <th>nov</th>\n    </tr>\n  </thead>\n  <tbody>\n    <tr>\n      <th>alice</th>\n      <td>9</td>\n      <td>9</td>\n      <td>10</td>\n    </tr>\n    <tr>\n      <th>bob</th>\n      <td>11</td>\n      <td>10</td>\n      <td>10</td>\n    </tr>\n    <tr>\n      <th>charles</th>\n      <td>5</td>\n      <td>9</td>\n      <td>3</td>\n    </tr>\n    <tr>\n      <th>darwin</th>\n      <td>10</td>\n      <td>11</td>\n      <td>11</td>\n    </tr>\n  </tbody>\n</table>\n</div>"
     },
     "metadata": {},
     "execution_count": 95
    }
   ],
   "source": [
    "grades + 1"
   ]
  },
  {
   "cell_type": "markdown",
   "metadata": {},
   "source": [
    "Of course, the same is true for all other binary operations, including arithmetic (`*`,`/`,`**`...) and conditional (`>`, `==`...) operations:"
   ]
  },
  {
   "cell_type": "code",
   "execution_count": 96,
   "metadata": {},
   "outputs": [
    {
     "output_type": "execute_result",
     "data": {
      "text/plain": [
       "           sep   oct    nov\n",
       "alice     True  True   True\n",
       "bob       True  True   True\n",
       "charles  False  True  False\n",
       "darwin    True  True   True"
      ],
      "text/html": "<div>\n<style scoped>\n    .dataframe tbody tr th:only-of-type {\n        vertical-align: middle;\n    }\n\n    .dataframe tbody tr th {\n        vertical-align: top;\n    }\n\n    .dataframe thead th {\n        text-align: right;\n    }\n</style>\n<table border=\"1\" class=\"dataframe\">\n  <thead>\n    <tr style=\"text-align: right;\">\n      <th></th>\n      <th>sep</th>\n      <th>oct</th>\n      <th>nov</th>\n    </tr>\n  </thead>\n  <tbody>\n    <tr>\n      <th>alice</th>\n      <td>True</td>\n      <td>True</td>\n      <td>True</td>\n    </tr>\n    <tr>\n      <th>bob</th>\n      <td>True</td>\n      <td>True</td>\n      <td>True</td>\n    </tr>\n    <tr>\n      <th>charles</th>\n      <td>False</td>\n      <td>True</td>\n      <td>False</td>\n    </tr>\n    <tr>\n      <th>darwin</th>\n      <td>True</td>\n      <td>True</td>\n      <td>True</td>\n    </tr>\n  </tbody>\n</table>\n</div>"
     },
     "metadata": {},
     "execution_count": 96
    }
   ],
   "source": [
    "grades >= 5"
   ]
  },
  {
   "cell_type": "markdown",
   "metadata": {},
   "source": [
    "Aggregation operations, such as computing the `max`, the `sum` or the `mean` of a `DataFrame`, apply to each column, and you get back a `Series` object:"
   ]
  },
  {
   "cell_type": "code",
   "execution_count": 97,
   "metadata": {},
   "outputs": [
    {
     "output_type": "execute_result",
     "data": {
      "text/plain": [
       "sep    7.75\n",
       "oct    8.75\n",
       "nov    7.50\n",
       "dtype: float64"
      ]
     },
     "metadata": {},
     "execution_count": 97
    }
   ],
   "source": [
    "grades.mean()"
   ]
  },
  {
   "cell_type": "markdown",
   "metadata": {},
   "source": [
    "The `all` method is also an aggregation operation: it checks whether all values are `True` or not. Let's see during which months all students got a grade greater than `5`:"
   ]
  },
  {
   "cell_type": "code",
   "execution_count": 98,
   "metadata": {},
   "outputs": [
    {
     "output_type": "execute_result",
     "data": {
      "text/plain": [
       "sep    False\n",
       "oct     True\n",
       "nov    False\n",
       "dtype: bool"
      ]
     },
     "metadata": {},
     "execution_count": 98
    }
   ],
   "source": [
    "(grades > 5).all()"
   ]
  },
  {
   "cell_type": "markdown",
   "metadata": {},
   "source": [
    "Most of these functions take an optional `axis` parameter which lets you specify along which axis of the `DataFrame` you want the operation executed. The default is `axis=0`, meaning that the operation is executed vertically (on each column). You can set `axis=1` to execute the operation horizontally (on each row). For example, let's find out which students had all grades greater than `5`:"
   ]
  },
  {
   "cell_type": "code",
   "execution_count": 99,
   "metadata": {},
   "outputs": [
    {
     "output_type": "execute_result",
     "data": {
      "text/plain": [
       "alice       True\n",
       "bob         True\n",
       "charles    False\n",
       "darwin      True\n",
       "dtype: bool"
      ]
     },
     "metadata": {},
     "execution_count": 99
    }
   ],
   "source": [
    "(grades > 5).all(axis=1)"
   ]
  },
  {
   "cell_type": "markdown",
   "metadata": {},
   "source": [
    "The `any` method returns `True` if any value is True. Let's see who got at least one grade 10:"
   ]
  },
  {
   "cell_type": "code",
   "execution_count": 100,
   "metadata": {},
   "outputs": [
    {
     "output_type": "execute_result",
     "data": {
      "text/plain": [
       "alice      False\n",
       "bob         True\n",
       "charles    False\n",
       "darwin      True\n",
       "dtype: bool"
      ]
     },
     "metadata": {},
     "execution_count": 100
    }
   ],
   "source": [
    "(grades == 10).any(axis=1)"
   ]
  },
  {
   "cell_type": "markdown",
   "metadata": {},
   "source": [
    "If you add a `Series` object to a `DataFrame` (or execute any other binary operation), pandas attempts to broadcast the operation to all *rows* in the `DataFrame`. This only works if the `Series` has the same size as the `DataFrame`s rows. For example, let's substract the `mean` of the `DataFrame` (a `Series` object) from the `DataFrame`:"
   ]
  },
  {
   "cell_type": "code",
   "execution_count": 101,
   "metadata": {},
   "outputs": [
    {
     "output_type": "execute_result",
     "data": {
      "text/plain": [
       "          sep   oct  nov\n",
       "alice    0.25 -0.75  1.5\n",
       "bob      2.25  0.25  1.5\n",
       "charles -3.75 -0.75 -5.5\n",
       "darwin   1.25  1.25  2.5"
      ],
      "text/html": "<div>\n<style scoped>\n    .dataframe tbody tr th:only-of-type {\n        vertical-align: middle;\n    }\n\n    .dataframe tbody tr th {\n        vertical-align: top;\n    }\n\n    .dataframe thead th {\n        text-align: right;\n    }\n</style>\n<table border=\"1\" class=\"dataframe\">\n  <thead>\n    <tr style=\"text-align: right;\">\n      <th></th>\n      <th>sep</th>\n      <th>oct</th>\n      <th>nov</th>\n    </tr>\n  </thead>\n  <tbody>\n    <tr>\n      <th>alice</th>\n      <td>0.25</td>\n      <td>-0.75</td>\n      <td>1.5</td>\n    </tr>\n    <tr>\n      <th>bob</th>\n      <td>2.25</td>\n      <td>0.25</td>\n      <td>1.5</td>\n    </tr>\n    <tr>\n      <th>charles</th>\n      <td>-3.75</td>\n      <td>-0.75</td>\n      <td>-5.5</td>\n    </tr>\n    <tr>\n      <th>darwin</th>\n      <td>1.25</td>\n      <td>1.25</td>\n      <td>2.5</td>\n    </tr>\n  </tbody>\n</table>\n</div>"
     },
     "metadata": {},
     "execution_count": 101
    }
   ],
   "source": [
    "grades - grades.mean()  # equivalent to: grades - [7.75, 8.75, 7.50]"
   ]
  },
  {
   "cell_type": "markdown",
   "metadata": {},
   "source": [
    "We substracted `7.75` from all September grades, `8.75` from October grades and `7.50` from November grades. It is equivalent to substracting this `DataFrame`:"
   ]
  },
  {
   "cell_type": "code",
   "execution_count": 102,
   "metadata": {},
   "outputs": [
    {
     "output_type": "execute_result",
     "data": {
      "text/plain": [
       "          sep   oct  nov\n",
       "alice    7.75  8.75  7.5\n",
       "bob      7.75  8.75  7.5\n",
       "charles  7.75  8.75  7.5\n",
       "darwin   7.75  8.75  7.5"
      ],
      "text/html": "<div>\n<style scoped>\n    .dataframe tbody tr th:only-of-type {\n        vertical-align: middle;\n    }\n\n    .dataframe tbody tr th {\n        vertical-align: top;\n    }\n\n    .dataframe thead th {\n        text-align: right;\n    }\n</style>\n<table border=\"1\" class=\"dataframe\">\n  <thead>\n    <tr style=\"text-align: right;\">\n      <th></th>\n      <th>sep</th>\n      <th>oct</th>\n      <th>nov</th>\n    </tr>\n  </thead>\n  <tbody>\n    <tr>\n      <th>alice</th>\n      <td>7.75</td>\n      <td>8.75</td>\n      <td>7.5</td>\n    </tr>\n    <tr>\n      <th>bob</th>\n      <td>7.75</td>\n      <td>8.75</td>\n      <td>7.5</td>\n    </tr>\n    <tr>\n      <th>charles</th>\n      <td>7.75</td>\n      <td>8.75</td>\n      <td>7.5</td>\n    </tr>\n    <tr>\n      <th>darwin</th>\n      <td>7.75</td>\n      <td>8.75</td>\n      <td>7.5</td>\n    </tr>\n  </tbody>\n</table>\n</div>"
     },
     "metadata": {},
     "execution_count": 102
    }
   ],
   "source": [
    "pd.DataFrame([[7.75, 8.75, 7.50]] * 4,\n",
    "             index=grades.index,\n",
    "             columns=grades.columns)"
   ]
  },
  {
   "cell_type": "markdown",
   "metadata": {},
   "source": [
    "If you want to substract the global mean from every grade, here is one way to do it:"
   ]
  },
  {
   "cell_type": "code",
   "execution_count": 103,
   "metadata": {
    "scrolled": true
   },
   "outputs": [
    {
     "output_type": "execute_result",
     "data": {
      "text/plain": [
       "         sep  oct  nov\n",
       "alice    0.0  0.0  1.0\n",
       "bob      2.0  1.0  1.0\n",
       "charles -4.0  0.0 -6.0\n",
       "darwin   1.0  2.0  2.0"
      ],
      "text/html": "<div>\n<style scoped>\n    .dataframe tbody tr th:only-of-type {\n        vertical-align: middle;\n    }\n\n    .dataframe tbody tr th {\n        vertical-align: top;\n    }\n\n    .dataframe thead th {\n        text-align: right;\n    }\n</style>\n<table border=\"1\" class=\"dataframe\">\n  <thead>\n    <tr style=\"text-align: right;\">\n      <th></th>\n      <th>sep</th>\n      <th>oct</th>\n      <th>nov</th>\n    </tr>\n  </thead>\n  <tbody>\n    <tr>\n      <th>alice</th>\n      <td>0.0</td>\n      <td>0.0</td>\n      <td>1.0</td>\n    </tr>\n    <tr>\n      <th>bob</th>\n      <td>2.0</td>\n      <td>1.0</td>\n      <td>1.0</td>\n    </tr>\n    <tr>\n      <th>charles</th>\n      <td>-4.0</td>\n      <td>0.0</td>\n      <td>-6.0</td>\n    </tr>\n    <tr>\n      <th>darwin</th>\n      <td>1.0</td>\n      <td>2.0</td>\n      <td>2.0</td>\n    </tr>\n  </tbody>\n</table>\n</div>"
     },
     "metadata": {},
     "execution_count": 103
    }
   ],
   "source": [
    "grades - grades.values.mean(\n",
    ")  # substracts the global mean (8.00) from all grades"
   ]
  },
  {
   "cell_type": "markdown",
   "metadata": {},
   "source": [
    "## Automatic alignment\n",
    "Similar to `Series`, when operating on multiple `DataFrame`s, pandas automatically aligns them by row index label, but also by column names. Let's create a `DataFrame` with bonus points for each person from October to December:"
   ]
  },
  {
   "cell_type": "code",
   "execution_count": 104,
   "metadata": {},
   "outputs": [
    {
     "output_type": "execute_result",
     "data": {
      "text/plain": [
       "         oct  nov  dec\n",
       "bob      0.0  NaN  2.0\n",
       "colin    NaN  1.0  0.0\n",
       "darwin   0.0  1.0  0.0\n",
       "charles  3.0  3.0  0.0"
      ],
      "text/html": "<div>\n<style scoped>\n    .dataframe tbody tr th:only-of-type {\n        vertical-align: middle;\n    }\n\n    .dataframe tbody tr th {\n        vertical-align: top;\n    }\n\n    .dataframe thead th {\n        text-align: right;\n    }\n</style>\n<table border=\"1\" class=\"dataframe\">\n  <thead>\n    <tr style=\"text-align: right;\">\n      <th></th>\n      <th>oct</th>\n      <th>nov</th>\n      <th>dec</th>\n    </tr>\n  </thead>\n  <tbody>\n    <tr>\n      <th>bob</th>\n      <td>0.0</td>\n      <td>NaN</td>\n      <td>2.0</td>\n    </tr>\n    <tr>\n      <th>colin</th>\n      <td>NaN</td>\n      <td>1.0</td>\n      <td>0.0</td>\n    </tr>\n    <tr>\n      <th>darwin</th>\n      <td>0.0</td>\n      <td>1.0</td>\n      <td>0.0</td>\n    </tr>\n    <tr>\n      <th>charles</th>\n      <td>3.0</td>\n      <td>3.0</td>\n      <td>0.0</td>\n    </tr>\n  </tbody>\n</table>\n</div>"
     },
     "metadata": {},
     "execution_count": 104
    }
   ],
   "source": [
    "bonus_array = np.array([[0, np.nan, 2], [np.nan, 1, 0], [0, 1, 0], [3, 3, 0]])\n",
    "bonus_points = pd.DataFrame(bonus_array,\n",
    "                            columns=[\"oct\", \"nov\", \"dec\"],\n",
    "                            index=[\"bob\", \"colin\", \"darwin\", \"charles\"])\n",
    "bonus_points"
   ]
  },
  {
   "cell_type": "code",
   "execution_count": 105,
   "metadata": {
    "scrolled": true
   },
   "outputs": [
    {
     "output_type": "execute_result",
     "data": {
      "text/plain": [
       "         dec   nov   oct  sep\n",
       "alice    NaN   NaN   NaN  NaN\n",
       "bob      NaN   NaN   9.0  NaN\n",
       "charles  NaN   5.0  11.0  NaN\n",
       "colin    NaN   NaN   NaN  NaN\n",
       "darwin   NaN  11.0  10.0  NaN"
      ],
      "text/html": "<div>\n<style scoped>\n    .dataframe tbody tr th:only-of-type {\n        vertical-align: middle;\n    }\n\n    .dataframe tbody tr th {\n        vertical-align: top;\n    }\n\n    .dataframe thead th {\n        text-align: right;\n    }\n</style>\n<table border=\"1\" class=\"dataframe\">\n  <thead>\n    <tr style=\"text-align: right;\">\n      <th></th>\n      <th>dec</th>\n      <th>nov</th>\n      <th>oct</th>\n      <th>sep</th>\n    </tr>\n  </thead>\n  <tbody>\n    <tr>\n      <th>alice</th>\n      <td>NaN</td>\n      <td>NaN</td>\n      <td>NaN</td>\n      <td>NaN</td>\n    </tr>\n    <tr>\n      <th>bob</th>\n      <td>NaN</td>\n      <td>NaN</td>\n      <td>9.0</td>\n      <td>NaN</td>\n    </tr>\n    <tr>\n      <th>charles</th>\n      <td>NaN</td>\n      <td>5.0</td>\n      <td>11.0</td>\n      <td>NaN</td>\n    </tr>\n    <tr>\n      <th>colin</th>\n      <td>NaN</td>\n      <td>NaN</td>\n      <td>NaN</td>\n      <td>NaN</td>\n    </tr>\n    <tr>\n      <th>darwin</th>\n      <td>NaN</td>\n      <td>11.0</td>\n      <td>10.0</td>\n      <td>NaN</td>\n    </tr>\n  </tbody>\n</table>\n</div>"
     },
     "metadata": {},
     "execution_count": 105
    }
   ],
   "source": [
    "grades + bonus_points"
   ]
  },
  {
   "cell_type": "markdown",
   "metadata": {},
   "source": [
    "Looks like the addition worked in some cases but way too many elements are now empty. That's because when aligning the `DataFrame`s, some columns and rows were only present on one side, and thus they were considered missing on the other side (`NaN`). Then adding `NaN` to a number results in `NaN`, hence the result.\n",
    "\n",
    "## Handling missing data\n",
    "Dealing with missing data is a frequent task when working with real life data. Pandas offers a few tools to handle missing data.\n",
    " \n",
    "Let's try to fix the problem above. For example, we can decide that missing data should result in a zero, instead of `NaN`. We can replace all `NaN` values by a any value using the `fillna()` method:"
   ]
  },
  {
   "cell_type": "code",
   "execution_count": 106,
   "metadata": {
    "scrolled": true
   },
   "outputs": [
    {
     "output_type": "execute_result",
     "data": {
      "text/plain": [
       "         dec   nov   oct  sep\n",
       "alice    0.0   0.0   0.0  0.0\n",
       "bob      0.0   0.0   9.0  0.0\n",
       "charles  0.0   5.0  11.0  0.0\n",
       "colin    0.0   0.0   0.0  0.0\n",
       "darwin   0.0  11.0  10.0  0.0"
      ],
      "text/html": "<div>\n<style scoped>\n    .dataframe tbody tr th:only-of-type {\n        vertical-align: middle;\n    }\n\n    .dataframe tbody tr th {\n        vertical-align: top;\n    }\n\n    .dataframe thead th {\n        text-align: right;\n    }\n</style>\n<table border=\"1\" class=\"dataframe\">\n  <thead>\n    <tr style=\"text-align: right;\">\n      <th></th>\n      <th>dec</th>\n      <th>nov</th>\n      <th>oct</th>\n      <th>sep</th>\n    </tr>\n  </thead>\n  <tbody>\n    <tr>\n      <th>alice</th>\n      <td>0.0</td>\n      <td>0.0</td>\n      <td>0.0</td>\n      <td>0.0</td>\n    </tr>\n    <tr>\n      <th>bob</th>\n      <td>0.0</td>\n      <td>0.0</td>\n      <td>9.0</td>\n      <td>0.0</td>\n    </tr>\n    <tr>\n      <th>charles</th>\n      <td>0.0</td>\n      <td>5.0</td>\n      <td>11.0</td>\n      <td>0.0</td>\n    </tr>\n    <tr>\n      <th>colin</th>\n      <td>0.0</td>\n      <td>0.0</td>\n      <td>0.0</td>\n      <td>0.0</td>\n    </tr>\n    <tr>\n      <th>darwin</th>\n      <td>0.0</td>\n      <td>11.0</td>\n      <td>10.0</td>\n      <td>0.0</td>\n    </tr>\n  </tbody>\n</table>\n</div>"
     },
     "metadata": {},
     "execution_count": 106
    }
   ],
   "source": [
    "(grades + bonus_points).fillna(0)"
   ]
  },
  {
   "cell_type": "markdown",
   "metadata": {},
   "source": [
    "It's a bit unfair that we're setting grades to zero in September, though. Perhaps we should decide that missing grades are missing grades, but missing bonus points should be replaced by zeros:"
   ]
  },
  {
   "cell_type": "code",
   "execution_count": 107,
   "metadata": {},
   "outputs": [
    {
     "output_type": "execute_result",
     "data": {
      "text/plain": [
       "         dec   nov   oct   sep\n",
       "alice    NaN   9.0   8.0   8.0\n",
       "bob      NaN   9.0   9.0  10.0\n",
       "charles  NaN   5.0  11.0   4.0\n",
       "colin    NaN   NaN   NaN   NaN\n",
       "darwin   NaN  11.0  10.0   9.0"
      ],
      "text/html": "<div>\n<style scoped>\n    .dataframe tbody tr th:only-of-type {\n        vertical-align: middle;\n    }\n\n    .dataframe tbody tr th {\n        vertical-align: top;\n    }\n\n    .dataframe thead th {\n        text-align: right;\n    }\n</style>\n<table border=\"1\" class=\"dataframe\">\n  <thead>\n    <tr style=\"text-align: right;\">\n      <th></th>\n      <th>dec</th>\n      <th>nov</th>\n      <th>oct</th>\n      <th>sep</th>\n    </tr>\n  </thead>\n  <tbody>\n    <tr>\n      <th>alice</th>\n      <td>NaN</td>\n      <td>9.0</td>\n      <td>8.0</td>\n      <td>8.0</td>\n    </tr>\n    <tr>\n      <th>bob</th>\n      <td>NaN</td>\n      <td>9.0</td>\n      <td>9.0</td>\n      <td>10.0</td>\n    </tr>\n    <tr>\n      <th>charles</th>\n      <td>NaN</td>\n      <td>5.0</td>\n      <td>11.0</td>\n      <td>4.0</td>\n    </tr>\n    <tr>\n      <th>colin</th>\n      <td>NaN</td>\n      <td>NaN</td>\n      <td>NaN</td>\n      <td>NaN</td>\n    </tr>\n    <tr>\n      <th>darwin</th>\n      <td>NaN</td>\n      <td>11.0</td>\n      <td>10.0</td>\n      <td>9.0</td>\n    </tr>\n  </tbody>\n</table>\n</div>"
     },
     "metadata": {},
     "execution_count": 107
    }
   ],
   "source": [
    "fixed_bonus_points = bonus_points.fillna(0)\n",
    "fixed_bonus_points.insert(0, \"sep\", 0)\n",
    "fixed_bonus_points.loc[\"alice\"] = 0\n",
    "grades + fixed_bonus_points"
   ]
  },
  {
   "cell_type": "markdown",
   "metadata": {},
   "source": [
    "That's much better: although we made up some data, we have not been too unfair.\n",
    "\n",
    "Another way to handle missing data is to interpolate. Let's look at the `bonus_points` `DataFrame` again:"
   ]
  },
  {
   "cell_type": "code",
   "execution_count": 108,
   "metadata": {},
   "outputs": [
    {
     "output_type": "execute_result",
     "data": {
      "text/plain": [
       "         oct  nov  dec\n",
       "bob      0.0  NaN  2.0\n",
       "colin    NaN  1.0  0.0\n",
       "darwin   0.0  1.0  0.0\n",
       "charles  3.0  3.0  0.0"
      ],
      "text/html": "<div>\n<style scoped>\n    .dataframe tbody tr th:only-of-type {\n        vertical-align: middle;\n    }\n\n    .dataframe tbody tr th {\n        vertical-align: top;\n    }\n\n    .dataframe thead th {\n        text-align: right;\n    }\n</style>\n<table border=\"1\" class=\"dataframe\">\n  <thead>\n    <tr style=\"text-align: right;\">\n      <th></th>\n      <th>oct</th>\n      <th>nov</th>\n      <th>dec</th>\n    </tr>\n  </thead>\n  <tbody>\n    <tr>\n      <th>bob</th>\n      <td>0.0</td>\n      <td>NaN</td>\n      <td>2.0</td>\n    </tr>\n    <tr>\n      <th>colin</th>\n      <td>NaN</td>\n      <td>1.0</td>\n      <td>0.0</td>\n    </tr>\n    <tr>\n      <th>darwin</th>\n      <td>0.0</td>\n      <td>1.0</td>\n      <td>0.0</td>\n    </tr>\n    <tr>\n      <th>charles</th>\n      <td>3.0</td>\n      <td>3.0</td>\n      <td>0.0</td>\n    </tr>\n  </tbody>\n</table>\n</div>"
     },
     "metadata": {},
     "execution_count": 108
    }
   ],
   "source": [
    "bonus_points"
   ]
  },
  {
   "cell_type": "markdown",
   "metadata": {},
   "source": [
    "Now let's call the `interpolate` method. By default, it interpolates vertically (`axis=0`), so let's tell it to interpolate horizontally (`axis=1`)."
   ]
  },
  {
   "cell_type": "code",
   "execution_count": 109,
   "metadata": {},
   "outputs": [
    {
     "output_type": "execute_result",
     "data": {
      "text/plain": [
       "         oct  nov  dec\n",
       "bob      0.0  1.0  2.0\n",
       "colin    NaN  1.0  0.0\n",
       "darwin   0.0  1.0  0.0\n",
       "charles  3.0  3.0  0.0"
      ],
      "text/html": "<div>\n<style scoped>\n    .dataframe tbody tr th:only-of-type {\n        vertical-align: middle;\n    }\n\n    .dataframe tbody tr th {\n        vertical-align: top;\n    }\n\n    .dataframe thead th {\n        text-align: right;\n    }\n</style>\n<table border=\"1\" class=\"dataframe\">\n  <thead>\n    <tr style=\"text-align: right;\">\n      <th></th>\n      <th>oct</th>\n      <th>nov</th>\n      <th>dec</th>\n    </tr>\n  </thead>\n  <tbody>\n    <tr>\n      <th>bob</th>\n      <td>0.0</td>\n      <td>1.0</td>\n      <td>2.0</td>\n    </tr>\n    <tr>\n      <th>colin</th>\n      <td>NaN</td>\n      <td>1.0</td>\n      <td>0.0</td>\n    </tr>\n    <tr>\n      <th>darwin</th>\n      <td>0.0</td>\n      <td>1.0</td>\n      <td>0.0</td>\n    </tr>\n    <tr>\n      <th>charles</th>\n      <td>3.0</td>\n      <td>3.0</td>\n      <td>0.0</td>\n    </tr>\n  </tbody>\n</table>\n</div>"
     },
     "metadata": {},
     "execution_count": 109
    }
   ],
   "source": [
    "bonus_points.interpolate(axis=1)"
   ]
  },
  {
   "cell_type": "markdown",
   "metadata": {},
   "source": [
    "Bob had 0 bonus points in October, and 2 in December. When we interpolate for November, we get the mean: 1 bonus point. Colin had 1 bonus point in November, but we do not know how many bonus points he had in September, so we cannot interpolate, this is why there is still a missing value in October after interpolation. To fix this, we can set the September bonus points to 0 before interpolation."
   ]
  },
  {
   "cell_type": "code",
   "execution_count": 110,
   "metadata": {},
   "outputs": [
    {
     "output_type": "execute_result",
     "data": {
      "text/plain": [
       "         sep  oct  nov  dec\n",
       "bob      0.0  0.0  1.0  2.0\n",
       "colin    0.0  0.5  1.0  0.0\n",
       "darwin   0.0  0.0  1.0  0.0\n",
       "charles  0.0  3.0  3.0  0.0\n",
       "alice    0.0  0.0  0.0  0.0"
      ],
      "text/html": "<div>\n<style scoped>\n    .dataframe tbody tr th:only-of-type {\n        vertical-align: middle;\n    }\n\n    .dataframe tbody tr th {\n        vertical-align: top;\n    }\n\n    .dataframe thead th {\n        text-align: right;\n    }\n</style>\n<table border=\"1\" class=\"dataframe\">\n  <thead>\n    <tr style=\"text-align: right;\">\n      <th></th>\n      <th>sep</th>\n      <th>oct</th>\n      <th>nov</th>\n      <th>dec</th>\n    </tr>\n  </thead>\n  <tbody>\n    <tr>\n      <th>bob</th>\n      <td>0.0</td>\n      <td>0.0</td>\n      <td>1.0</td>\n      <td>2.0</td>\n    </tr>\n    <tr>\n      <th>colin</th>\n      <td>0.0</td>\n      <td>0.5</td>\n      <td>1.0</td>\n      <td>0.0</td>\n    </tr>\n    <tr>\n      <th>darwin</th>\n      <td>0.0</td>\n      <td>0.0</td>\n      <td>1.0</td>\n      <td>0.0</td>\n    </tr>\n    <tr>\n      <th>charles</th>\n      <td>0.0</td>\n      <td>3.0</td>\n      <td>3.0</td>\n      <td>0.0</td>\n    </tr>\n    <tr>\n      <th>alice</th>\n      <td>0.0</td>\n      <td>0.0</td>\n      <td>0.0</td>\n      <td>0.0</td>\n    </tr>\n  </tbody>\n</table>\n</div>"
     },
     "metadata": {},
     "execution_count": 110
    }
   ],
   "source": [
    "better_bonus_points = bonus_points.copy()\n",
    "better_bonus_points.insert(0, \"sep\", 0)\n",
    "better_bonus_points.loc[\"alice\"] = 0\n",
    "better_bonus_points = better_bonus_points.interpolate(axis=1)\n",
    "better_bonus_points"
   ]
  },
  {
   "cell_type": "markdown",
   "metadata": {},
   "source": [
    "Great, now we have reasonable bonus points everywhere. Let's find out the final grades:"
   ]
  },
  {
   "cell_type": "code",
   "execution_count": 111,
   "metadata": {},
   "outputs": [
    {
     "output_type": "execute_result",
     "data": {
      "text/plain": [
       "         dec   nov   oct   sep\n",
       "alice    NaN   9.0   8.0   8.0\n",
       "bob      NaN  10.0   9.0  10.0\n",
       "charles  NaN   5.0  11.0   4.0\n",
       "colin    NaN   NaN   NaN   NaN\n",
       "darwin   NaN  11.0  10.0   9.0"
      ],
      "text/html": "<div>\n<style scoped>\n    .dataframe tbody tr th:only-of-type {\n        vertical-align: middle;\n    }\n\n    .dataframe tbody tr th {\n        vertical-align: top;\n    }\n\n    .dataframe thead th {\n        text-align: right;\n    }\n</style>\n<table border=\"1\" class=\"dataframe\">\n  <thead>\n    <tr style=\"text-align: right;\">\n      <th></th>\n      <th>dec</th>\n      <th>nov</th>\n      <th>oct</th>\n      <th>sep</th>\n    </tr>\n  </thead>\n  <tbody>\n    <tr>\n      <th>alice</th>\n      <td>NaN</td>\n      <td>9.0</td>\n      <td>8.0</td>\n      <td>8.0</td>\n    </tr>\n    <tr>\n      <th>bob</th>\n      <td>NaN</td>\n      <td>10.0</td>\n      <td>9.0</td>\n      <td>10.0</td>\n    </tr>\n    <tr>\n      <th>charles</th>\n      <td>NaN</td>\n      <td>5.0</td>\n      <td>11.0</td>\n      <td>4.0</td>\n    </tr>\n    <tr>\n      <th>colin</th>\n      <td>NaN</td>\n      <td>NaN</td>\n      <td>NaN</td>\n      <td>NaN</td>\n    </tr>\n    <tr>\n      <th>darwin</th>\n      <td>NaN</td>\n      <td>11.0</td>\n      <td>10.0</td>\n      <td>9.0</td>\n    </tr>\n  </tbody>\n</table>\n</div>"
     },
     "metadata": {},
     "execution_count": 111
    }
   ],
   "source": [
    "grades + better_bonus_points"
   ]
  },
  {
   "cell_type": "markdown",
   "metadata": {},
   "source": [
    "It is slightly annoying that the September column ends up on the right. This is because the `DataFrame`s we are adding do not have the exact same columns (the `grades` `DataFrame` is missing the `\"dec\"` column), so to make things predictable, pandas orders the final columns alphabetically. To fix this, we can simply add the missing column before adding:"
   ]
  },
  {
   "cell_type": "code",
   "execution_count": 112,
   "metadata": {
    "scrolled": true
   },
   "outputs": [
    {
     "output_type": "execute_result",
     "data": {
      "text/plain": [
       "          sep   oct   nov  dec\n",
       "alice     8.0   8.0   9.0  NaN\n",
       "bob      10.0   9.0  10.0  NaN\n",
       "charles   4.0  11.0   5.0  NaN\n",
       "colin     NaN   NaN   NaN  NaN\n",
       "darwin    9.0  10.0  11.0  NaN"
      ],
      "text/html": "<div>\n<style scoped>\n    .dataframe tbody tr th:only-of-type {\n        vertical-align: middle;\n    }\n\n    .dataframe tbody tr th {\n        vertical-align: top;\n    }\n\n    .dataframe thead th {\n        text-align: right;\n    }\n</style>\n<table border=\"1\" class=\"dataframe\">\n  <thead>\n    <tr style=\"text-align: right;\">\n      <th></th>\n      <th>sep</th>\n      <th>oct</th>\n      <th>nov</th>\n      <th>dec</th>\n    </tr>\n  </thead>\n  <tbody>\n    <tr>\n      <th>alice</th>\n      <td>8.0</td>\n      <td>8.0</td>\n      <td>9.0</td>\n      <td>NaN</td>\n    </tr>\n    <tr>\n      <th>bob</th>\n      <td>10.0</td>\n      <td>9.0</td>\n      <td>10.0</td>\n      <td>NaN</td>\n    </tr>\n    <tr>\n      <th>charles</th>\n      <td>4.0</td>\n      <td>11.0</td>\n      <td>5.0</td>\n      <td>NaN</td>\n    </tr>\n    <tr>\n      <th>colin</th>\n      <td>NaN</td>\n      <td>NaN</td>\n      <td>NaN</td>\n      <td>NaN</td>\n    </tr>\n    <tr>\n      <th>darwin</th>\n      <td>9.0</td>\n      <td>10.0</td>\n      <td>11.0</td>\n      <td>NaN</td>\n    </tr>\n  </tbody>\n</table>\n</div>"
     },
     "metadata": {},
     "execution_count": 112
    }
   ],
   "source": [
    "grades[\"dec\"] = np.nan\n",
    "final_grades = grades + better_bonus_points\n",
    "final_grades"
   ]
  },
  {
   "cell_type": "markdown",
   "metadata": {},
   "source": [
    "There's not much we can do about December and Colin: it's bad enough that we are making up bonus points, but we can't reasonably make up grades (well I guess some teachers probably do). So let's call the `dropna()` method to get rid of rows that are full of `NaN`s:"
   ]
  },
  {
   "cell_type": "code",
   "execution_count": 113,
   "metadata": {},
   "outputs": [
    {
     "output_type": "execute_result",
     "data": {
      "text/plain": [
       "          sep   oct   nov  dec\n",
       "alice     8.0   8.0   9.0  NaN\n",
       "bob      10.0   9.0  10.0  NaN\n",
       "charles   4.0  11.0   5.0  NaN\n",
       "darwin    9.0  10.0  11.0  NaN"
      ],
      "text/html": "<div>\n<style scoped>\n    .dataframe tbody tr th:only-of-type {\n        vertical-align: middle;\n    }\n\n    .dataframe tbody tr th {\n        vertical-align: top;\n    }\n\n    .dataframe thead th {\n        text-align: right;\n    }\n</style>\n<table border=\"1\" class=\"dataframe\">\n  <thead>\n    <tr style=\"text-align: right;\">\n      <th></th>\n      <th>sep</th>\n      <th>oct</th>\n      <th>nov</th>\n      <th>dec</th>\n    </tr>\n  </thead>\n  <tbody>\n    <tr>\n      <th>alice</th>\n      <td>8.0</td>\n      <td>8.0</td>\n      <td>9.0</td>\n      <td>NaN</td>\n    </tr>\n    <tr>\n      <th>bob</th>\n      <td>10.0</td>\n      <td>9.0</td>\n      <td>10.0</td>\n      <td>NaN</td>\n    </tr>\n    <tr>\n      <th>charles</th>\n      <td>4.0</td>\n      <td>11.0</td>\n      <td>5.0</td>\n      <td>NaN</td>\n    </tr>\n    <tr>\n      <th>darwin</th>\n      <td>9.0</td>\n      <td>10.0</td>\n      <td>11.0</td>\n      <td>NaN</td>\n    </tr>\n  </tbody>\n</table>\n</div>"
     },
     "metadata": {},
     "execution_count": 113
    }
   ],
   "source": [
    "final_grades_clean = final_grades.dropna(how=\"all\")\n",
    "final_grades_clean"
   ]
  },
  {
   "cell_type": "markdown",
   "metadata": {},
   "source": [
    "Now let's remove columns that are full of `NaN`s by setting the `axis` argument to `1`:"
   ]
  },
  {
   "cell_type": "code",
   "execution_count": 114,
   "metadata": {},
   "outputs": [
    {
     "output_type": "execute_result",
     "data": {
      "text/plain": [
       "          sep   oct   nov\n",
       "alice     8.0   8.0   9.0\n",
       "bob      10.0   9.0  10.0\n",
       "charles   4.0  11.0   5.0\n",
       "darwin    9.0  10.0  11.0"
      ],
      "text/html": "<div>\n<style scoped>\n    .dataframe tbody tr th:only-of-type {\n        vertical-align: middle;\n    }\n\n    .dataframe tbody tr th {\n        vertical-align: top;\n    }\n\n    .dataframe thead th {\n        text-align: right;\n    }\n</style>\n<table border=\"1\" class=\"dataframe\">\n  <thead>\n    <tr style=\"text-align: right;\">\n      <th></th>\n      <th>sep</th>\n      <th>oct</th>\n      <th>nov</th>\n    </tr>\n  </thead>\n  <tbody>\n    <tr>\n      <th>alice</th>\n      <td>8.0</td>\n      <td>8.0</td>\n      <td>9.0</td>\n    </tr>\n    <tr>\n      <th>bob</th>\n      <td>10.0</td>\n      <td>9.0</td>\n      <td>10.0</td>\n    </tr>\n    <tr>\n      <th>charles</th>\n      <td>4.0</td>\n      <td>11.0</td>\n      <td>5.0</td>\n    </tr>\n    <tr>\n      <th>darwin</th>\n      <td>9.0</td>\n      <td>10.0</td>\n      <td>11.0</td>\n    </tr>\n  </tbody>\n</table>\n</div>"
     },
     "metadata": {},
     "execution_count": 114
    }
   ],
   "source": [
    "final_grades_clean = final_grades_clean.dropna(axis=1, how=\"all\")\n",
    "final_grades_clean"
   ]
  },
  {
   "cell_type": "markdown",
   "metadata": {},
   "source": [
    "## Aggregating with `groupby`\n",
    "Similar to the SQL language, pandas allows grouping your data into groups to run calculations over each group.\n",
    "\n",
    "First, let's add some extra data about each person so we can group them, and let's go back to the `final_grades` `DataFrame` so we can see how `NaN` values are handled:"
   ]
  },
  {
   "cell_type": "code",
   "execution_count": 115,
   "metadata": {
    "scrolled": true
   },
   "outputs": [
    {
     "output_type": "execute_result",
     "data": {
      "text/plain": [
       "          sep   oct   nov  dec    hobby\n",
       "alice     8.0   8.0   9.0  NaN   Biking\n",
       "bob      10.0   9.0  10.0  NaN  Dancing\n",
       "charles   4.0  11.0   5.0  NaN      NaN\n",
       "colin     NaN   NaN   NaN  NaN  Dancing\n",
       "darwin    9.0  10.0  11.0  NaN   Biking"
      ],
      "text/html": "<div>\n<style scoped>\n    .dataframe tbody tr th:only-of-type {\n        vertical-align: middle;\n    }\n\n    .dataframe tbody tr th {\n        vertical-align: top;\n    }\n\n    .dataframe thead th {\n        text-align: right;\n    }\n</style>\n<table border=\"1\" class=\"dataframe\">\n  <thead>\n    <tr style=\"text-align: right;\">\n      <th></th>\n      <th>sep</th>\n      <th>oct</th>\n      <th>nov</th>\n      <th>dec</th>\n      <th>hobby</th>\n    </tr>\n  </thead>\n  <tbody>\n    <tr>\n      <th>alice</th>\n      <td>8.0</td>\n      <td>8.0</td>\n      <td>9.0</td>\n      <td>NaN</td>\n      <td>Biking</td>\n    </tr>\n    <tr>\n      <th>bob</th>\n      <td>10.0</td>\n      <td>9.0</td>\n      <td>10.0</td>\n      <td>NaN</td>\n      <td>Dancing</td>\n    </tr>\n    <tr>\n      <th>charles</th>\n      <td>4.0</td>\n      <td>11.0</td>\n      <td>5.0</td>\n      <td>NaN</td>\n      <td>NaN</td>\n    </tr>\n    <tr>\n      <th>colin</th>\n      <td>NaN</td>\n      <td>NaN</td>\n      <td>NaN</td>\n      <td>NaN</td>\n      <td>Dancing</td>\n    </tr>\n    <tr>\n      <th>darwin</th>\n      <td>9.0</td>\n      <td>10.0</td>\n      <td>11.0</td>\n      <td>NaN</td>\n      <td>Biking</td>\n    </tr>\n  </tbody>\n</table>\n</div>"
     },
     "metadata": {},
     "execution_count": 115
    }
   ],
   "source": [
    "final_grades[\"hobby\"] = [\"Biking\", \"Dancing\", np.nan, \"Dancing\", \"Biking\"]\n",
    "final_grades"
   ]
  },
  {
   "cell_type": "markdown",
   "metadata": {},
   "source": [
    "Now let's group data in this `DataFrame` by hobby:"
   ]
  },
  {
   "cell_type": "code",
   "execution_count": 116,
   "metadata": {},
   "outputs": [
    {
     "output_type": "execute_result",
     "data": {
      "text/plain": [
       "<pandas.core.groupby.generic.DataFrameGroupBy object at 0x7f8848dfd700>"
      ]
     },
     "metadata": {},
     "execution_count": 116
    }
   ],
   "source": [
    "grouped_grades = final_grades.groupby(\"hobby\")\n",
    "grouped_grades"
   ]
  },
  {
   "cell_type": "markdown",
   "metadata": {},
   "source": [
    "We are ready to compute the average grade per hobby:"
   ]
  },
  {
   "cell_type": "code",
   "execution_count": 117,
   "metadata": {},
   "outputs": [
    {
     "output_type": "execute_result",
     "data": {
      "text/plain": [
       "          sep  oct   nov  dec\n",
       "hobby                        \n",
       "Biking    8.5  9.0  10.0  NaN\n",
       "Dancing  10.0  9.0  10.0  NaN"
      ],
      "text/html": "<div>\n<style scoped>\n    .dataframe tbody tr th:only-of-type {\n        vertical-align: middle;\n    }\n\n    .dataframe tbody tr th {\n        vertical-align: top;\n    }\n\n    .dataframe thead th {\n        text-align: right;\n    }\n</style>\n<table border=\"1\" class=\"dataframe\">\n  <thead>\n    <tr style=\"text-align: right;\">\n      <th></th>\n      <th>sep</th>\n      <th>oct</th>\n      <th>nov</th>\n      <th>dec</th>\n    </tr>\n    <tr>\n      <th>hobby</th>\n      <th></th>\n      <th></th>\n      <th></th>\n      <th></th>\n    </tr>\n  </thead>\n  <tbody>\n    <tr>\n      <th>Biking</th>\n      <td>8.5</td>\n      <td>9.0</td>\n      <td>10.0</td>\n      <td>NaN</td>\n    </tr>\n    <tr>\n      <th>Dancing</th>\n      <td>10.0</td>\n      <td>9.0</td>\n      <td>10.0</td>\n      <td>NaN</td>\n    </tr>\n  </tbody>\n</table>\n</div>"
     },
     "metadata": {},
     "execution_count": 117
    }
   ],
   "source": [
    "grouped_grades.mean()"
   ]
  },
  {
   "cell_type": "markdown",
   "metadata": {},
   "source": [
    "That was easy! Note that the `NaN` values have simply been skipped when computing the means."
   ]
  },
  {
   "cell_type": "markdown",
   "metadata": {},
   "source": [
    "## Pivot tables\n",
    "Pandas supports spreadsheet-like [pivot tables](https://en.wikipedia.org/wiki/Pivot_table) that allow quick data summarization. To illustrate this, let's create a simple `DataFrame`:"
   ]
  },
  {
   "cell_type": "code",
   "execution_count": 118,
   "metadata": {},
   "outputs": [
    {
     "output_type": "execute_result",
     "data": {
      "text/plain": [
       "         oct  nov  dec\n",
       "bob      0.0  NaN  2.0\n",
       "colin    NaN  1.0  0.0\n",
       "darwin   0.0  1.0  0.0\n",
       "charles  3.0  3.0  0.0"
      ],
      "text/html": "<div>\n<style scoped>\n    .dataframe tbody tr th:only-of-type {\n        vertical-align: middle;\n    }\n\n    .dataframe tbody tr th {\n        vertical-align: top;\n    }\n\n    .dataframe thead th {\n        text-align: right;\n    }\n</style>\n<table border=\"1\" class=\"dataframe\">\n  <thead>\n    <tr style=\"text-align: right;\">\n      <th></th>\n      <th>oct</th>\n      <th>nov</th>\n      <th>dec</th>\n    </tr>\n  </thead>\n  <tbody>\n    <tr>\n      <th>bob</th>\n      <td>0.0</td>\n      <td>NaN</td>\n      <td>2.0</td>\n    </tr>\n    <tr>\n      <th>colin</th>\n      <td>NaN</td>\n      <td>1.0</td>\n      <td>0.0</td>\n    </tr>\n    <tr>\n      <th>darwin</th>\n      <td>0.0</td>\n      <td>1.0</td>\n      <td>0.0</td>\n    </tr>\n    <tr>\n      <th>charles</th>\n      <td>3.0</td>\n      <td>3.0</td>\n      <td>0.0</td>\n    </tr>\n  </tbody>\n</table>\n</div>"
     },
     "metadata": {},
     "execution_count": 118
    }
   ],
   "source": [
    "bonus_points"
   ]
  },
  {
   "cell_type": "code",
   "execution_count": 119,
   "metadata": {},
   "outputs": [
    {
     "output_type": "execute_result",
     "data": {
      "text/plain": [
       "       name month  grade  bonus\n",
       "0     alice   sep    8.0    NaN\n",
       "1     alice   oct    8.0    NaN\n",
       "2     alice   nov    9.0    NaN\n",
       "3       bob   sep   10.0    0.0\n",
       "4       bob   oct    9.0    NaN\n",
       "5       bob   nov   10.0    2.0\n",
       "6   charles   sep    4.0    3.0\n",
       "7   charles   oct   11.0    3.0\n",
       "8   charles   nov    5.0    0.0\n",
       "9    darwin   sep    9.0    0.0\n",
       "10   darwin   oct   10.0    1.0\n",
       "11   darwin   nov   11.0    0.0"
      ],
      "text/html": "<div>\n<style scoped>\n    .dataframe tbody tr th:only-of-type {\n        vertical-align: middle;\n    }\n\n    .dataframe tbody tr th {\n        vertical-align: top;\n    }\n\n    .dataframe thead th {\n        text-align: right;\n    }\n</style>\n<table border=\"1\" class=\"dataframe\">\n  <thead>\n    <tr style=\"text-align: right;\">\n      <th></th>\n      <th>name</th>\n      <th>month</th>\n      <th>grade</th>\n      <th>bonus</th>\n    </tr>\n  </thead>\n  <tbody>\n    <tr>\n      <th>0</th>\n      <td>alice</td>\n      <td>sep</td>\n      <td>8.0</td>\n      <td>NaN</td>\n    </tr>\n    <tr>\n      <th>1</th>\n      <td>alice</td>\n      <td>oct</td>\n      <td>8.0</td>\n      <td>NaN</td>\n    </tr>\n    <tr>\n      <th>2</th>\n      <td>alice</td>\n      <td>nov</td>\n      <td>9.0</td>\n      <td>NaN</td>\n    </tr>\n    <tr>\n      <th>3</th>\n      <td>bob</td>\n      <td>sep</td>\n      <td>10.0</td>\n      <td>0.0</td>\n    </tr>\n    <tr>\n      <th>4</th>\n      <td>bob</td>\n      <td>oct</td>\n      <td>9.0</td>\n      <td>NaN</td>\n    </tr>\n    <tr>\n      <th>5</th>\n      <td>bob</td>\n      <td>nov</td>\n      <td>10.0</td>\n      <td>2.0</td>\n    </tr>\n    <tr>\n      <th>6</th>\n      <td>charles</td>\n      <td>sep</td>\n      <td>4.0</td>\n      <td>3.0</td>\n    </tr>\n    <tr>\n      <th>7</th>\n      <td>charles</td>\n      <td>oct</td>\n      <td>11.0</td>\n      <td>3.0</td>\n    </tr>\n    <tr>\n      <th>8</th>\n      <td>charles</td>\n      <td>nov</td>\n      <td>5.0</td>\n      <td>0.0</td>\n    </tr>\n    <tr>\n      <th>9</th>\n      <td>darwin</td>\n      <td>sep</td>\n      <td>9.0</td>\n      <td>0.0</td>\n    </tr>\n    <tr>\n      <th>10</th>\n      <td>darwin</td>\n      <td>oct</td>\n      <td>10.0</td>\n      <td>1.0</td>\n    </tr>\n    <tr>\n      <th>11</th>\n      <td>darwin</td>\n      <td>nov</td>\n      <td>11.0</td>\n      <td>0.0</td>\n    </tr>\n  </tbody>\n</table>\n</div>"
     },
     "metadata": {},
     "execution_count": 119
    }
   ],
   "source": [
    "more_grades = final_grades_clean.stack().reset_index()\n",
    "more_grades.columns = [\"name\", \"month\", \"grade\"]\n",
    "more_grades[\"bonus\"] = [np.nan, np.nan, np.nan, 0, np.nan, 2, 3, 3, 0, 0, 1, 0]\n",
    "more_grades"
   ]
  },
  {
   "cell_type": "markdown",
   "metadata": {},
   "source": [
    "Now we can call the `pd.pivot_table()` function for this `DataFrame`, asking to group by the `name` column. By default, `pivot_table()` computes the mean of each numeric column:"
   ]
  },
  {
   "cell_type": "code",
   "execution_count": 120,
   "metadata": {},
   "outputs": [
    {
     "output_type": "execute_result",
     "data": {
      "text/plain": [
       "            bonus      grade\n",
       "name                        \n",
       "alice         NaN   8.333333\n",
       "bob      1.000000   9.666667\n",
       "charles  2.000000   6.666667\n",
       "darwin   0.333333  10.000000"
      ],
      "text/html": "<div>\n<style scoped>\n    .dataframe tbody tr th:only-of-type {\n        vertical-align: middle;\n    }\n\n    .dataframe tbody tr th {\n        vertical-align: top;\n    }\n\n    .dataframe thead th {\n        text-align: right;\n    }\n</style>\n<table border=\"1\" class=\"dataframe\">\n  <thead>\n    <tr style=\"text-align: right;\">\n      <th></th>\n      <th>bonus</th>\n      <th>grade</th>\n    </tr>\n    <tr>\n      <th>name</th>\n      <th></th>\n      <th></th>\n    </tr>\n  </thead>\n  <tbody>\n    <tr>\n      <th>alice</th>\n      <td>NaN</td>\n      <td>8.333333</td>\n    </tr>\n    <tr>\n      <th>bob</th>\n      <td>1.000000</td>\n      <td>9.666667</td>\n    </tr>\n    <tr>\n      <th>charles</th>\n      <td>2.000000</td>\n      <td>6.666667</td>\n    </tr>\n    <tr>\n      <th>darwin</th>\n      <td>0.333333</td>\n      <td>10.000000</td>\n    </tr>\n  </tbody>\n</table>\n</div>"
     },
     "metadata": {},
     "execution_count": 120
    }
   ],
   "source": [
    "pd.pivot_table(more_grades, index=\"name\")"
   ]
  },
  {
   "cell_type": "markdown",
   "metadata": {},
   "source": [
    "We can change the aggregation function by setting the `aggfunc` argument, and we can also specify the list of columns whose values will be aggregated:"
   ]
  },
  {
   "cell_type": "code",
   "execution_count": 121,
   "metadata": {},
   "outputs": [
    {
     "output_type": "execute_result",
     "data": {
      "text/plain": [
       "         bonus  grade\n",
       "name                 \n",
       "alice      NaN    9.0\n",
       "bob        2.0   10.0\n",
       "charles    3.0   11.0\n",
       "darwin     1.0   11.0"
      ],
      "text/html": "<div>\n<style scoped>\n    .dataframe tbody tr th:only-of-type {\n        vertical-align: middle;\n    }\n\n    .dataframe tbody tr th {\n        vertical-align: top;\n    }\n\n    .dataframe thead th {\n        text-align: right;\n    }\n</style>\n<table border=\"1\" class=\"dataframe\">\n  <thead>\n    <tr style=\"text-align: right;\">\n      <th></th>\n      <th>bonus</th>\n      <th>grade</th>\n    </tr>\n    <tr>\n      <th>name</th>\n      <th></th>\n      <th></th>\n    </tr>\n  </thead>\n  <tbody>\n    <tr>\n      <th>alice</th>\n      <td>NaN</td>\n      <td>9.0</td>\n    </tr>\n    <tr>\n      <th>bob</th>\n      <td>2.0</td>\n      <td>10.0</td>\n    </tr>\n    <tr>\n      <th>charles</th>\n      <td>3.0</td>\n      <td>11.0</td>\n    </tr>\n    <tr>\n      <th>darwin</th>\n      <td>1.0</td>\n      <td>11.0</td>\n    </tr>\n  </tbody>\n</table>\n</div>"
     },
     "metadata": {},
     "execution_count": 121
    }
   ],
   "source": [
    "pd.pivot_table(more_grades,\n",
    "               index=\"name\",\n",
    "               values=[\"grade\", \"bonus\"],\n",
    "               aggfunc=np.max)"
   ]
  },
  {
   "cell_type": "markdown",
   "metadata": {},
   "source": [
    "We can also specify the `columns` to aggregate over horizontally, and request the grand totals for each row and column by setting `margins=True`:"
   ]
  },
  {
   "cell_type": "code",
   "execution_count": 122,
   "metadata": {},
   "outputs": [
    {
     "output_type": "execute_result",
     "data": {
      "text/plain": [
       "month      nov   oct    sep        All\n",
       "name                                  \n",
       "alice     9.00   8.0   8.00   8.333333\n",
       "bob      10.00   9.0  10.00   9.666667\n",
       "charles   5.00  11.0   4.00   6.666667\n",
       "darwin   11.00  10.0   9.00  10.000000\n",
       "All       8.75   9.5   7.75   8.666667"
      ],
      "text/html": "<div>\n<style scoped>\n    .dataframe tbody tr th:only-of-type {\n        vertical-align: middle;\n    }\n\n    .dataframe tbody tr th {\n        vertical-align: top;\n    }\n\n    .dataframe thead th {\n        text-align: right;\n    }\n</style>\n<table border=\"1\" class=\"dataframe\">\n  <thead>\n    <tr style=\"text-align: right;\">\n      <th>month</th>\n      <th>nov</th>\n      <th>oct</th>\n      <th>sep</th>\n      <th>All</th>\n    </tr>\n    <tr>\n      <th>name</th>\n      <th></th>\n      <th></th>\n      <th></th>\n      <th></th>\n    </tr>\n  </thead>\n  <tbody>\n    <tr>\n      <th>alice</th>\n      <td>9.00</td>\n      <td>8.0</td>\n      <td>8.00</td>\n      <td>8.333333</td>\n    </tr>\n    <tr>\n      <th>bob</th>\n      <td>10.00</td>\n      <td>9.0</td>\n      <td>10.00</td>\n      <td>9.666667</td>\n    </tr>\n    <tr>\n      <th>charles</th>\n      <td>5.00</td>\n      <td>11.0</td>\n      <td>4.00</td>\n      <td>6.666667</td>\n    </tr>\n    <tr>\n      <th>darwin</th>\n      <td>11.00</td>\n      <td>10.0</td>\n      <td>9.00</td>\n      <td>10.000000</td>\n    </tr>\n    <tr>\n      <th>All</th>\n      <td>8.75</td>\n      <td>9.5</td>\n      <td>7.75</td>\n      <td>8.666667</td>\n    </tr>\n  </tbody>\n</table>\n</div>"
     },
     "metadata": {},
     "execution_count": 122
    }
   ],
   "source": [
    "pd.pivot_table(more_grades,\n",
    "               index=\"name\",\n",
    "               values=\"grade\",\n",
    "               columns=\"month\",\n",
    "               margins=True)"
   ]
  },
  {
   "cell_type": "markdown",
   "metadata": {},
   "source": [
    "Finally, we can specify multiple index or column names, and pandas will create multi-level indices:"
   ]
  },
  {
   "cell_type": "code",
   "execution_count": 123,
   "metadata": {},
   "outputs": [
    {
     "output_type": "execute_result",
     "data": {
      "text/plain": [
       "               bonus  grade\n",
       "name    month              \n",
       "alice   nov      NaN   9.00\n",
       "        oct      NaN   8.00\n",
       "        sep      NaN   8.00\n",
       "bob     nov    2.000  10.00\n",
       "        oct      NaN   9.00\n",
       "        sep    0.000  10.00\n",
       "charles nov    0.000   5.00\n",
       "        oct    3.000  11.00\n",
       "        sep    3.000   4.00\n",
       "darwin  nov    0.000  11.00\n",
       "        oct    1.000  10.00\n",
       "        sep    0.000   9.00\n",
       "All            1.125   8.75"
      ],
      "text/html": "<div>\n<style scoped>\n    .dataframe tbody tr th:only-of-type {\n        vertical-align: middle;\n    }\n\n    .dataframe tbody tr th {\n        vertical-align: top;\n    }\n\n    .dataframe thead th {\n        text-align: right;\n    }\n</style>\n<table border=\"1\" class=\"dataframe\">\n  <thead>\n    <tr style=\"text-align: right;\">\n      <th></th>\n      <th></th>\n      <th>bonus</th>\n      <th>grade</th>\n    </tr>\n    <tr>\n      <th>name</th>\n      <th>month</th>\n      <th></th>\n      <th></th>\n    </tr>\n  </thead>\n  <tbody>\n    <tr>\n      <th rowspan=\"3\" valign=\"top\">alice</th>\n      <th>nov</th>\n      <td>NaN</td>\n      <td>9.00</td>\n    </tr>\n    <tr>\n      <th>oct</th>\n      <td>NaN</td>\n      <td>8.00</td>\n    </tr>\n    <tr>\n      <th>sep</th>\n      <td>NaN</td>\n      <td>8.00</td>\n    </tr>\n    <tr>\n      <th rowspan=\"3\" valign=\"top\">bob</th>\n      <th>nov</th>\n      <td>2.000</td>\n      <td>10.00</td>\n    </tr>\n    <tr>\n      <th>oct</th>\n      <td>NaN</td>\n      <td>9.00</td>\n    </tr>\n    <tr>\n      <th>sep</th>\n      <td>0.000</td>\n      <td>10.00</td>\n    </tr>\n    <tr>\n      <th rowspan=\"3\" valign=\"top\">charles</th>\n      <th>nov</th>\n      <td>0.000</td>\n      <td>5.00</td>\n    </tr>\n    <tr>\n      <th>oct</th>\n      <td>3.000</td>\n      <td>11.00</td>\n    </tr>\n    <tr>\n      <th>sep</th>\n      <td>3.000</td>\n      <td>4.00</td>\n    </tr>\n    <tr>\n      <th rowspan=\"3\" valign=\"top\">darwin</th>\n      <th>nov</th>\n      <td>0.000</td>\n      <td>11.00</td>\n    </tr>\n    <tr>\n      <th>oct</th>\n      <td>1.000</td>\n      <td>10.00</td>\n    </tr>\n    <tr>\n      <th>sep</th>\n      <td>0.000</td>\n      <td>9.00</td>\n    </tr>\n    <tr>\n      <th>All</th>\n      <th></th>\n      <td>1.125</td>\n      <td>8.75</td>\n    </tr>\n  </tbody>\n</table>\n</div>"
     },
     "metadata": {},
     "execution_count": 123
    }
   ],
   "source": [
    "pd.pivot_table(more_grades, index=(\"name\", \"month\"), margins=True)"
   ]
  },
  {
   "cell_type": "markdown",
   "metadata": {},
   "source": [
    "## Overview functions\n",
    "When dealing with large `DataFrames`, it is useful to get a quick overview of its content. Pandas offers a few functions for this. First, let's create a large `DataFrame` with a mix of numeric values, missing values and text values. Notice how Jupyter displays only the corners of the `DataFrame`:"
   ]
  },
  {
   "cell_type": "code",
   "execution_count": 124,
   "metadata": {},
   "outputs": [
    {
     "output_type": "execute_result",
     "data": {
      "text/plain": [
       "         A     B     C some_text      D      E      F     G      H      I  \\\n",
       "0      NaN  11.0  44.0    Blabla   99.0    NaN   88.0  22.0  165.0  143.0   \n",
       "1     11.0  22.0  55.0    Blabla  110.0    NaN   99.0  33.0    NaN  154.0   \n",
       "2     22.0  33.0  66.0    Blabla  121.0   11.0  110.0  44.0    NaN  165.0   \n",
       "3     33.0  44.0  77.0    Blabla  132.0   22.0  121.0  55.0   11.0    NaN   \n",
       "4     44.0  55.0  88.0    Blabla  143.0   33.0  132.0  66.0   22.0    NaN   \n",
       "...    ...   ...   ...       ...    ...    ...    ...   ...    ...    ...   \n",
       "9995   NaN   NaN  33.0    Blabla   88.0  165.0   77.0  11.0  154.0  132.0   \n",
       "9996   NaN  11.0  44.0    Blabla   99.0    NaN   88.0  22.0  165.0  143.0   \n",
       "9997  11.0  22.0  55.0    Blabla  110.0    NaN   99.0  33.0    NaN  154.0   \n",
       "9998  22.0  33.0  66.0    Blabla  121.0   11.0  110.0  44.0    NaN  165.0   \n",
       "9999  33.0  44.0  77.0    Blabla  132.0   22.0  121.0  55.0   11.0    NaN   \n",
       "\n",
       "      ...     Q     R     S     T      U      V      W     X      Y      Z  \n",
       "0     ...  11.0   NaN  11.0  44.0   99.0    NaN   88.0  22.0  165.0  143.0  \n",
       "1     ...  22.0  11.0  22.0  55.0  110.0    NaN   99.0  33.0    NaN  154.0  \n",
       "2     ...  33.0  22.0  33.0  66.0  121.0   11.0  110.0  44.0    NaN  165.0  \n",
       "3     ...  44.0  33.0  44.0  77.0  132.0   22.0  121.0  55.0   11.0    NaN  \n",
       "4     ...  55.0  44.0  55.0  88.0  143.0   33.0  132.0  66.0   22.0    NaN  \n",
       "...   ...   ...   ...   ...   ...    ...    ...    ...   ...    ...    ...  \n",
       "9995  ...   NaN   NaN   NaN  33.0   88.0  165.0   77.0  11.0  154.0  132.0  \n",
       "9996  ...  11.0   NaN  11.0  44.0   99.0    NaN   88.0  22.0  165.0  143.0  \n",
       "9997  ...  22.0  11.0  22.0  55.0  110.0    NaN   99.0  33.0    NaN  154.0  \n",
       "9998  ...  33.0  22.0  33.0  66.0  121.0   11.0  110.0  44.0    NaN  165.0  \n",
       "9999  ...  44.0  33.0  44.0  77.0  132.0   22.0  121.0  55.0   11.0    NaN  \n",
       "\n",
       "[10000 rows x 27 columns]"
      ],
      "text/html": "<div>\n<style scoped>\n    .dataframe tbody tr th:only-of-type {\n        vertical-align: middle;\n    }\n\n    .dataframe tbody tr th {\n        vertical-align: top;\n    }\n\n    .dataframe thead th {\n        text-align: right;\n    }\n</style>\n<table border=\"1\" class=\"dataframe\">\n  <thead>\n    <tr style=\"text-align: right;\">\n      <th></th>\n      <th>A</th>\n      <th>B</th>\n      <th>C</th>\n      <th>some_text</th>\n      <th>D</th>\n      <th>E</th>\n      <th>F</th>\n      <th>G</th>\n      <th>H</th>\n      <th>I</th>\n      <th>...</th>\n      <th>Q</th>\n      <th>R</th>\n      <th>S</th>\n      <th>T</th>\n      <th>U</th>\n      <th>V</th>\n      <th>W</th>\n      <th>X</th>\n      <th>Y</th>\n      <th>Z</th>\n    </tr>\n  </thead>\n  <tbody>\n    <tr>\n      <th>0</th>\n      <td>NaN</td>\n      <td>11.0</td>\n      <td>44.0</td>\n      <td>Blabla</td>\n      <td>99.0</td>\n      <td>NaN</td>\n      <td>88.0</td>\n      <td>22.0</td>\n      <td>165.0</td>\n      <td>143.0</td>\n      <td>...</td>\n      <td>11.0</td>\n      <td>NaN</td>\n      <td>11.0</td>\n      <td>44.0</td>\n      <td>99.0</td>\n      <td>NaN</td>\n      <td>88.0</td>\n      <td>22.0</td>\n      <td>165.0</td>\n      <td>143.0</td>\n    </tr>\n    <tr>\n      <th>1</th>\n      <td>11.0</td>\n      <td>22.0</td>\n      <td>55.0</td>\n      <td>Blabla</td>\n      <td>110.0</td>\n      <td>NaN</td>\n      <td>99.0</td>\n      <td>33.0</td>\n      <td>NaN</td>\n      <td>154.0</td>\n      <td>...</td>\n      <td>22.0</td>\n      <td>11.0</td>\n      <td>22.0</td>\n      <td>55.0</td>\n      <td>110.0</td>\n      <td>NaN</td>\n      <td>99.0</td>\n      <td>33.0</td>\n      <td>NaN</td>\n      <td>154.0</td>\n    </tr>\n    <tr>\n      <th>2</th>\n      <td>22.0</td>\n      <td>33.0</td>\n      <td>66.0</td>\n      <td>Blabla</td>\n      <td>121.0</td>\n      <td>11.0</td>\n      <td>110.0</td>\n      <td>44.0</td>\n      <td>NaN</td>\n      <td>165.0</td>\n      <td>...</td>\n      <td>33.0</td>\n      <td>22.0</td>\n      <td>33.0</td>\n      <td>66.0</td>\n      <td>121.0</td>\n      <td>11.0</td>\n      <td>110.0</td>\n      <td>44.0</td>\n      <td>NaN</td>\n      <td>165.0</td>\n    </tr>\n    <tr>\n      <th>3</th>\n      <td>33.0</td>\n      <td>44.0</td>\n      <td>77.0</td>\n      <td>Blabla</td>\n      <td>132.0</td>\n      <td>22.0</td>\n      <td>121.0</td>\n      <td>55.0</td>\n      <td>11.0</td>\n      <td>NaN</td>\n      <td>...</td>\n      <td>44.0</td>\n      <td>33.0</td>\n      <td>44.0</td>\n      <td>77.0</td>\n      <td>132.0</td>\n      <td>22.0</td>\n      <td>121.0</td>\n      <td>55.0</td>\n      <td>11.0</td>\n      <td>NaN</td>\n    </tr>\n    <tr>\n      <th>4</th>\n      <td>44.0</td>\n      <td>55.0</td>\n      <td>88.0</td>\n      <td>Blabla</td>\n      <td>143.0</td>\n      <td>33.0</td>\n      <td>132.0</td>\n      <td>66.0</td>\n      <td>22.0</td>\n      <td>NaN</td>\n      <td>...</td>\n      <td>55.0</td>\n      <td>44.0</td>\n      <td>55.0</td>\n      <td>88.0</td>\n      <td>143.0</td>\n      <td>33.0</td>\n      <td>132.0</td>\n      <td>66.0</td>\n      <td>22.0</td>\n      <td>NaN</td>\n    </tr>\n    <tr>\n      <th>...</th>\n      <td>...</td>\n      <td>...</td>\n      <td>...</td>\n      <td>...</td>\n      <td>...</td>\n      <td>...</td>\n      <td>...</td>\n      <td>...</td>\n      <td>...</td>\n      <td>...</td>\n      <td>...</td>\n      <td>...</td>\n      <td>...</td>\n      <td>...</td>\n      <td>...</td>\n      <td>...</td>\n      <td>...</td>\n      <td>...</td>\n      <td>...</td>\n      <td>...</td>\n      <td>...</td>\n    </tr>\n    <tr>\n      <th>9995</th>\n      <td>NaN</td>\n      <td>NaN</td>\n      <td>33.0</td>\n      <td>Blabla</td>\n      <td>88.0</td>\n      <td>165.0</td>\n      <td>77.0</td>\n      <td>11.0</td>\n      <td>154.0</td>\n      <td>132.0</td>\n      <td>...</td>\n      <td>NaN</td>\n      <td>NaN</td>\n      <td>NaN</td>\n      <td>33.0</td>\n      <td>88.0</td>\n      <td>165.0</td>\n      <td>77.0</td>\n      <td>11.0</td>\n      <td>154.0</td>\n      <td>132.0</td>\n    </tr>\n    <tr>\n      <th>9996</th>\n      <td>NaN</td>\n      <td>11.0</td>\n      <td>44.0</td>\n      <td>Blabla</td>\n      <td>99.0</td>\n      <td>NaN</td>\n      <td>88.0</td>\n      <td>22.0</td>\n      <td>165.0</td>\n      <td>143.0</td>\n      <td>...</td>\n      <td>11.0</td>\n      <td>NaN</td>\n      <td>11.0</td>\n      <td>44.0</td>\n      <td>99.0</td>\n      <td>NaN</td>\n      <td>88.0</td>\n      <td>22.0</td>\n      <td>165.0</td>\n      <td>143.0</td>\n    </tr>\n    <tr>\n      <th>9997</th>\n      <td>11.0</td>\n      <td>22.0</td>\n      <td>55.0</td>\n      <td>Blabla</td>\n      <td>110.0</td>\n      <td>NaN</td>\n      <td>99.0</td>\n      <td>33.0</td>\n      <td>NaN</td>\n      <td>154.0</td>\n      <td>...</td>\n      <td>22.0</td>\n      <td>11.0</td>\n      <td>22.0</td>\n      <td>55.0</td>\n      <td>110.0</td>\n      <td>NaN</td>\n      <td>99.0</td>\n      <td>33.0</td>\n      <td>NaN</td>\n      <td>154.0</td>\n    </tr>\n    <tr>\n      <th>9998</th>\n      <td>22.0</td>\n      <td>33.0</td>\n      <td>66.0</td>\n      <td>Blabla</td>\n      <td>121.0</td>\n      <td>11.0</td>\n      <td>110.0</td>\n      <td>44.0</td>\n      <td>NaN</td>\n      <td>165.0</td>\n      <td>...</td>\n      <td>33.0</td>\n      <td>22.0</td>\n      <td>33.0</td>\n      <td>66.0</td>\n      <td>121.0</td>\n      <td>11.0</td>\n      <td>110.0</td>\n      <td>44.0</td>\n      <td>NaN</td>\n      <td>165.0</td>\n    </tr>\n    <tr>\n      <th>9999</th>\n      <td>33.0</td>\n      <td>44.0</td>\n      <td>77.0</td>\n      <td>Blabla</td>\n      <td>132.0</td>\n      <td>22.0</td>\n      <td>121.0</td>\n      <td>55.0</td>\n      <td>11.0</td>\n      <td>NaN</td>\n      <td>...</td>\n      <td>44.0</td>\n      <td>33.0</td>\n      <td>44.0</td>\n      <td>77.0</td>\n      <td>132.0</td>\n      <td>22.0</td>\n      <td>121.0</td>\n      <td>55.0</td>\n      <td>11.0</td>\n      <td>NaN</td>\n    </tr>\n  </tbody>\n</table>\n<p>10000 rows × 27 columns</p>\n</div>"
     },
     "metadata": {},
     "execution_count": 124
    }
   ],
   "source": [
    "much_data = np.fromfunction(lambda x, y: (x + y * y) % 17 * 11, (10000, 26))\n",
    "large_df = pd.DataFrame(much_data, columns=list(\"ABCDEFGHIJKLMNOPQRSTUVWXYZ\"))\n",
    "large_df[large_df % 16 == 0] = np.nan\n",
    "large_df.insert(3, \"some_text\", \"Blabla\")\n",
    "large_df"
   ]
  },
  {
   "cell_type": "markdown",
   "metadata": {},
   "source": [
    "The `head()` method returns the top 5 rows:"
   ]
  },
  {
   "cell_type": "code",
   "execution_count": 125,
   "metadata": {},
   "outputs": [
    {
     "output_type": "execute_result",
     "data": {
      "text/plain": [
       "      A     B     C some_text      D     E      F     G      H      I  ...  \\\n",
       "0   NaN  11.0  44.0    Blabla   99.0   NaN   88.0  22.0  165.0  143.0  ...   \n",
       "1  11.0  22.0  55.0    Blabla  110.0   NaN   99.0  33.0    NaN  154.0  ...   \n",
       "2  22.0  33.0  66.0    Blabla  121.0  11.0  110.0  44.0    NaN  165.0  ...   \n",
       "3  33.0  44.0  77.0    Blabla  132.0  22.0  121.0  55.0   11.0    NaN  ...   \n",
       "4  44.0  55.0  88.0    Blabla  143.0  33.0  132.0  66.0   22.0    NaN  ...   \n",
       "\n",
       "      Q     R     S     T      U     V      W     X      Y      Z  \n",
       "0  11.0   NaN  11.0  44.0   99.0   NaN   88.0  22.0  165.0  143.0  \n",
       "1  22.0  11.0  22.0  55.0  110.0   NaN   99.0  33.0    NaN  154.0  \n",
       "2  33.0  22.0  33.0  66.0  121.0  11.0  110.0  44.0    NaN  165.0  \n",
       "3  44.0  33.0  44.0  77.0  132.0  22.0  121.0  55.0   11.0    NaN  \n",
       "4  55.0  44.0  55.0  88.0  143.0  33.0  132.0  66.0   22.0    NaN  \n",
       "\n",
       "[5 rows x 27 columns]"
      ],
      "text/html": "<div>\n<style scoped>\n    .dataframe tbody tr th:only-of-type {\n        vertical-align: middle;\n    }\n\n    .dataframe tbody tr th {\n        vertical-align: top;\n    }\n\n    .dataframe thead th {\n        text-align: right;\n    }\n</style>\n<table border=\"1\" class=\"dataframe\">\n  <thead>\n    <tr style=\"text-align: right;\">\n      <th></th>\n      <th>A</th>\n      <th>B</th>\n      <th>C</th>\n      <th>some_text</th>\n      <th>D</th>\n      <th>E</th>\n      <th>F</th>\n      <th>G</th>\n      <th>H</th>\n      <th>I</th>\n      <th>...</th>\n      <th>Q</th>\n      <th>R</th>\n      <th>S</th>\n      <th>T</th>\n      <th>U</th>\n      <th>V</th>\n      <th>W</th>\n      <th>X</th>\n      <th>Y</th>\n      <th>Z</th>\n    </tr>\n  </thead>\n  <tbody>\n    <tr>\n      <th>0</th>\n      <td>NaN</td>\n      <td>11.0</td>\n      <td>44.0</td>\n      <td>Blabla</td>\n      <td>99.0</td>\n      <td>NaN</td>\n      <td>88.0</td>\n      <td>22.0</td>\n      <td>165.0</td>\n      <td>143.0</td>\n      <td>...</td>\n      <td>11.0</td>\n      <td>NaN</td>\n      <td>11.0</td>\n      <td>44.0</td>\n      <td>99.0</td>\n      <td>NaN</td>\n      <td>88.0</td>\n      <td>22.0</td>\n      <td>165.0</td>\n      <td>143.0</td>\n    </tr>\n    <tr>\n      <th>1</th>\n      <td>11.0</td>\n      <td>22.0</td>\n      <td>55.0</td>\n      <td>Blabla</td>\n      <td>110.0</td>\n      <td>NaN</td>\n      <td>99.0</td>\n      <td>33.0</td>\n      <td>NaN</td>\n      <td>154.0</td>\n      <td>...</td>\n      <td>22.0</td>\n      <td>11.0</td>\n      <td>22.0</td>\n      <td>55.0</td>\n      <td>110.0</td>\n      <td>NaN</td>\n      <td>99.0</td>\n      <td>33.0</td>\n      <td>NaN</td>\n      <td>154.0</td>\n    </tr>\n    <tr>\n      <th>2</th>\n      <td>22.0</td>\n      <td>33.0</td>\n      <td>66.0</td>\n      <td>Blabla</td>\n      <td>121.0</td>\n      <td>11.0</td>\n      <td>110.0</td>\n      <td>44.0</td>\n      <td>NaN</td>\n      <td>165.0</td>\n      <td>...</td>\n      <td>33.0</td>\n      <td>22.0</td>\n      <td>33.0</td>\n      <td>66.0</td>\n      <td>121.0</td>\n      <td>11.0</td>\n      <td>110.0</td>\n      <td>44.0</td>\n      <td>NaN</td>\n      <td>165.0</td>\n    </tr>\n    <tr>\n      <th>3</th>\n      <td>33.0</td>\n      <td>44.0</td>\n      <td>77.0</td>\n      <td>Blabla</td>\n      <td>132.0</td>\n      <td>22.0</td>\n      <td>121.0</td>\n      <td>55.0</td>\n      <td>11.0</td>\n      <td>NaN</td>\n      <td>...</td>\n      <td>44.0</td>\n      <td>33.0</td>\n      <td>44.0</td>\n      <td>77.0</td>\n      <td>132.0</td>\n      <td>22.0</td>\n      <td>121.0</td>\n      <td>55.0</td>\n      <td>11.0</td>\n      <td>NaN</td>\n    </tr>\n    <tr>\n      <th>4</th>\n      <td>44.0</td>\n      <td>55.0</td>\n      <td>88.0</td>\n      <td>Blabla</td>\n      <td>143.0</td>\n      <td>33.0</td>\n      <td>132.0</td>\n      <td>66.0</td>\n      <td>22.0</td>\n      <td>NaN</td>\n      <td>...</td>\n      <td>55.0</td>\n      <td>44.0</td>\n      <td>55.0</td>\n      <td>88.0</td>\n      <td>143.0</td>\n      <td>33.0</td>\n      <td>132.0</td>\n      <td>66.0</td>\n      <td>22.0</td>\n      <td>NaN</td>\n    </tr>\n  </tbody>\n</table>\n<p>5 rows × 27 columns</p>\n</div>"
     },
     "metadata": {},
     "execution_count": 125
    }
   ],
   "source": [
    "large_df.head()"
   ]
  },
  {
   "cell_type": "markdown",
   "metadata": {},
   "source": [
    "Of course there's also a `tail()` function to view the bottom 5 rows. You can pass the number of rows you want:"
   ]
  },
  {
   "cell_type": "code",
   "execution_count": 126,
   "metadata": {},
   "outputs": [
    {
     "output_type": "execute_result",
     "data": {
      "text/plain": [
       "         A     B     C some_text      D     E      F     G     H      I  ...  \\\n",
       "9998  22.0  33.0  66.0    Blabla  121.0  11.0  110.0  44.0   NaN  165.0  ...   \n",
       "9999  33.0  44.0  77.0    Blabla  132.0  22.0  121.0  55.0  11.0    NaN  ...   \n",
       "\n",
       "         Q     R     S     T      U     V      W     X     Y      Z  \n",
       "9998  33.0  22.0  33.0  66.0  121.0  11.0  110.0  44.0   NaN  165.0  \n",
       "9999  44.0  33.0  44.0  77.0  132.0  22.0  121.0  55.0  11.0    NaN  \n",
       "\n",
       "[2 rows x 27 columns]"
      ],
      "text/html": "<div>\n<style scoped>\n    .dataframe tbody tr th:only-of-type {\n        vertical-align: middle;\n    }\n\n    .dataframe tbody tr th {\n        vertical-align: top;\n    }\n\n    .dataframe thead th {\n        text-align: right;\n    }\n</style>\n<table border=\"1\" class=\"dataframe\">\n  <thead>\n    <tr style=\"text-align: right;\">\n      <th></th>\n      <th>A</th>\n      <th>B</th>\n      <th>C</th>\n      <th>some_text</th>\n      <th>D</th>\n      <th>E</th>\n      <th>F</th>\n      <th>G</th>\n      <th>H</th>\n      <th>I</th>\n      <th>...</th>\n      <th>Q</th>\n      <th>R</th>\n      <th>S</th>\n      <th>T</th>\n      <th>U</th>\n      <th>V</th>\n      <th>W</th>\n      <th>X</th>\n      <th>Y</th>\n      <th>Z</th>\n    </tr>\n  </thead>\n  <tbody>\n    <tr>\n      <th>9998</th>\n      <td>22.0</td>\n      <td>33.0</td>\n      <td>66.0</td>\n      <td>Blabla</td>\n      <td>121.0</td>\n      <td>11.0</td>\n      <td>110.0</td>\n      <td>44.0</td>\n      <td>NaN</td>\n      <td>165.0</td>\n      <td>...</td>\n      <td>33.0</td>\n      <td>22.0</td>\n      <td>33.0</td>\n      <td>66.0</td>\n      <td>121.0</td>\n      <td>11.0</td>\n      <td>110.0</td>\n      <td>44.0</td>\n      <td>NaN</td>\n      <td>165.0</td>\n    </tr>\n    <tr>\n      <th>9999</th>\n      <td>33.0</td>\n      <td>44.0</td>\n      <td>77.0</td>\n      <td>Blabla</td>\n      <td>132.0</td>\n      <td>22.0</td>\n      <td>121.0</td>\n      <td>55.0</td>\n      <td>11.0</td>\n      <td>NaN</td>\n      <td>...</td>\n      <td>44.0</td>\n      <td>33.0</td>\n      <td>44.0</td>\n      <td>77.0</td>\n      <td>132.0</td>\n      <td>22.0</td>\n      <td>121.0</td>\n      <td>55.0</td>\n      <td>11.0</td>\n      <td>NaN</td>\n    </tr>\n  </tbody>\n</table>\n<p>2 rows × 27 columns</p>\n</div>"
     },
     "metadata": {},
     "execution_count": 126
    }
   ],
   "source": [
    "large_df.tail(n=2)"
   ]
  },
  {
   "cell_type": "markdown",
   "metadata": {},
   "source": [
    "The `info()` method prints out a summary of each columns contents:"
   ]
  },
  {
   "cell_type": "code",
   "execution_count": 127,
   "metadata": {},
   "outputs": [
    {
     "output_type": "stream",
     "name": "stdout",
     "text": [
      "<class 'pandas.core.frame.DataFrame'>\nRangeIndex: 10000 entries, 0 to 9999\nData columns (total 27 columns):\n #   Column     Non-Null Count  Dtype  \n---  ------     --------------  -----  \n 0   A          8823 non-null   float64\n 1   B          8824 non-null   float64\n 2   C          8824 non-null   float64\n 3   some_text  10000 non-null  object \n 4   D          8824 non-null   float64\n 5   E          8822 non-null   float64\n 6   F          8824 non-null   float64\n 7   G          8824 non-null   float64\n 8   H          8822 non-null   float64\n 9   I          8823 non-null   float64\n 10  J          8823 non-null   float64\n 11  K          8822 non-null   float64\n 12  L          8824 non-null   float64\n 13  M          8824 non-null   float64\n 14  N          8822 non-null   float64\n 15  O          8824 non-null   float64\n 16  P          8824 non-null   float64\n 17  Q          8824 non-null   float64\n 18  R          8823 non-null   float64\n 19  S          8824 non-null   float64\n 20  T          8824 non-null   float64\n 21  U          8824 non-null   float64\n 22  V          8822 non-null   float64\n 23  W          8824 non-null   float64\n 24  X          8824 non-null   float64\n 25  Y          8822 non-null   float64\n 26  Z          8823 non-null   float64\ndtypes: float64(26), object(1)\nmemory usage: 2.1+ MB\n"
     ]
    }
   ],
   "source": [
    "large_df.info()"
   ]
  },
  {
   "cell_type": "markdown",
   "metadata": {},
   "source": [
    "Finally, the `describe()` method gives a nice overview of the main aggregated values over each column:\n",
    "* `count`: number of non-null (not NaN) values\n",
    "* `mean`: mean of non-null values\n",
    "* `std`: [standard deviation](https://en.wikipedia.org/wiki/Standard_deviation) of non-null values\n",
    "* `min`: minimum of non-null values\n",
    "* `25%`, `50%`, `75%`: 25th, 50th and 75th [percentile](https://en.wikipedia.org/wiki/Percentile) of non-null values\n",
    "* `max`: maximum of non-null values"
   ]
  },
  {
   "cell_type": "code",
   "execution_count": 128,
   "metadata": {},
   "outputs": [
    {
     "output_type": "execute_result",
     "data": {
      "text/plain": [
       "                 A            B            C            D            E  \\\n",
       "count  8823.000000  8824.000000  8824.000000  8824.000000  8822.000000   \n",
       "mean     87.977559    87.972575    87.987534    88.012466    87.983791   \n",
       "std      47.535911    47.535523    47.521679    47.521679    47.535001   \n",
       "min      11.000000    11.000000    11.000000    11.000000    11.000000   \n",
       "25%      44.000000    44.000000    44.000000    44.000000    44.000000   \n",
       "50%      88.000000    88.000000    88.000000    88.000000    88.000000   \n",
       "75%     132.000000   132.000000   132.000000   132.000000   132.000000   \n",
       "max     165.000000   165.000000   165.000000   165.000000   165.000000   \n",
       "\n",
       "                 F            G            H            I            J  ...  \\\n",
       "count  8824.000000  8824.000000  8822.000000  8823.000000  8823.000000  ...   \n",
       "mean     88.007480    87.977561    88.000000    88.022441    88.022441  ...   \n",
       "std      47.519371    47.529755    47.536879    47.535911    47.535911  ...   \n",
       "min      11.000000    11.000000    11.000000    11.000000    11.000000  ...   \n",
       "25%      44.000000    44.000000    44.000000    44.000000    44.000000  ...   \n",
       "50%      88.000000    88.000000    88.000000    88.000000    88.000000  ...   \n",
       "75%     132.000000   132.000000   132.000000   132.000000   132.000000  ...   \n",
       "max     165.000000   165.000000   165.000000   165.000000   165.000000  ...   \n",
       "\n",
       "                 Q            R            S            T            U  \\\n",
       "count  8824.000000  8823.000000  8824.000000  8824.000000  8824.000000   \n",
       "mean     87.972575    87.977559    87.972575    87.987534    88.012466   \n",
       "std      47.535523    47.535911    47.535523    47.521679    47.521679   \n",
       "min      11.000000    11.000000    11.000000    11.000000    11.000000   \n",
       "25%      44.000000    44.000000    44.000000    44.000000    44.000000   \n",
       "50%      88.000000    88.000000    88.000000    88.000000    88.000000   \n",
       "75%     132.000000   132.000000   132.000000   132.000000   132.000000   \n",
       "max     165.000000   165.000000   165.000000   165.000000   165.000000   \n",
       "\n",
       "                 V            W            X            Y            Z  \n",
       "count  8822.000000  8824.000000  8824.000000  8822.000000  8823.000000  \n",
       "mean     87.983791    88.007480    87.977561    88.000000    88.022441  \n",
       "std      47.535001    47.519371    47.529755    47.536879    47.535911  \n",
       "min      11.000000    11.000000    11.000000    11.000000    11.000000  \n",
       "25%      44.000000    44.000000    44.000000    44.000000    44.000000  \n",
       "50%      88.000000    88.000000    88.000000    88.000000    88.000000  \n",
       "75%     132.000000   132.000000   132.000000   132.000000   132.000000  \n",
       "max     165.000000   165.000000   165.000000   165.000000   165.000000  \n",
       "\n",
       "[8 rows x 26 columns]"
      ],
      "text/html": "<div>\n<style scoped>\n    .dataframe tbody tr th:only-of-type {\n        vertical-align: middle;\n    }\n\n    .dataframe tbody tr th {\n        vertical-align: top;\n    }\n\n    .dataframe thead th {\n        text-align: right;\n    }\n</style>\n<table border=\"1\" class=\"dataframe\">\n  <thead>\n    <tr style=\"text-align: right;\">\n      <th></th>\n      <th>A</th>\n      <th>B</th>\n      <th>C</th>\n      <th>D</th>\n      <th>E</th>\n      <th>F</th>\n      <th>G</th>\n      <th>H</th>\n      <th>I</th>\n      <th>J</th>\n      <th>...</th>\n      <th>Q</th>\n      <th>R</th>\n      <th>S</th>\n      <th>T</th>\n      <th>U</th>\n      <th>V</th>\n      <th>W</th>\n      <th>X</th>\n      <th>Y</th>\n      <th>Z</th>\n    </tr>\n  </thead>\n  <tbody>\n    <tr>\n      <th>count</th>\n      <td>8823.000000</td>\n      <td>8824.000000</td>\n      <td>8824.000000</td>\n      <td>8824.000000</td>\n      <td>8822.000000</td>\n      <td>8824.000000</td>\n      <td>8824.000000</td>\n      <td>8822.000000</td>\n      <td>8823.000000</td>\n      <td>8823.000000</td>\n      <td>...</td>\n      <td>8824.000000</td>\n      <td>8823.000000</td>\n      <td>8824.000000</td>\n      <td>8824.000000</td>\n      <td>8824.000000</td>\n      <td>8822.000000</td>\n      <td>8824.000000</td>\n      <td>8824.000000</td>\n      <td>8822.000000</td>\n      <td>8823.000000</td>\n    </tr>\n    <tr>\n      <th>mean</th>\n      <td>87.977559</td>\n      <td>87.972575</td>\n      <td>87.987534</td>\n      <td>88.012466</td>\n      <td>87.983791</td>\n      <td>88.007480</td>\n      <td>87.977561</td>\n      <td>88.000000</td>\n      <td>88.022441</td>\n      <td>88.022441</td>\n      <td>...</td>\n      <td>87.972575</td>\n      <td>87.977559</td>\n      <td>87.972575</td>\n      <td>87.987534</td>\n      <td>88.012466</td>\n      <td>87.983791</td>\n      <td>88.007480</td>\n      <td>87.977561</td>\n      <td>88.000000</td>\n      <td>88.022441</td>\n    </tr>\n    <tr>\n      <th>std</th>\n      <td>47.535911</td>\n      <td>47.535523</td>\n      <td>47.521679</td>\n      <td>47.521679</td>\n      <td>47.535001</td>\n      <td>47.519371</td>\n      <td>47.529755</td>\n      <td>47.536879</td>\n      <td>47.535911</td>\n      <td>47.535911</td>\n      <td>...</td>\n      <td>47.535523</td>\n      <td>47.535911</td>\n      <td>47.535523</td>\n      <td>47.521679</td>\n      <td>47.521679</td>\n      <td>47.535001</td>\n      <td>47.519371</td>\n      <td>47.529755</td>\n      <td>47.536879</td>\n      <td>47.535911</td>\n    </tr>\n    <tr>\n      <th>min</th>\n      <td>11.000000</td>\n      <td>11.000000</td>\n      <td>11.000000</td>\n      <td>11.000000</td>\n      <td>11.000000</td>\n      <td>11.000000</td>\n      <td>11.000000</td>\n      <td>11.000000</td>\n      <td>11.000000</td>\n      <td>11.000000</td>\n      <td>...</td>\n      <td>11.000000</td>\n      <td>11.000000</td>\n      <td>11.000000</td>\n      <td>11.000000</td>\n      <td>11.000000</td>\n      <td>11.000000</td>\n      <td>11.000000</td>\n      <td>11.000000</td>\n      <td>11.000000</td>\n      <td>11.000000</td>\n    </tr>\n    <tr>\n      <th>25%</th>\n      <td>44.000000</td>\n      <td>44.000000</td>\n      <td>44.000000</td>\n      <td>44.000000</td>\n      <td>44.000000</td>\n      <td>44.000000</td>\n      <td>44.000000</td>\n      <td>44.000000</td>\n      <td>44.000000</td>\n      <td>44.000000</td>\n      <td>...</td>\n      <td>44.000000</td>\n      <td>44.000000</td>\n      <td>44.000000</td>\n      <td>44.000000</td>\n      <td>44.000000</td>\n      <td>44.000000</td>\n      <td>44.000000</td>\n      <td>44.000000</td>\n      <td>44.000000</td>\n      <td>44.000000</td>\n    </tr>\n    <tr>\n      <th>50%</th>\n      <td>88.000000</td>\n      <td>88.000000</td>\n      <td>88.000000</td>\n      <td>88.000000</td>\n      <td>88.000000</td>\n      <td>88.000000</td>\n      <td>88.000000</td>\n      <td>88.000000</td>\n      <td>88.000000</td>\n      <td>88.000000</td>\n      <td>...</td>\n      <td>88.000000</td>\n      <td>88.000000</td>\n      <td>88.000000</td>\n      <td>88.000000</td>\n      <td>88.000000</td>\n      <td>88.000000</td>\n      <td>88.000000</td>\n      <td>88.000000</td>\n      <td>88.000000</td>\n      <td>88.000000</td>\n    </tr>\n    <tr>\n      <th>75%</th>\n      <td>132.000000</td>\n      <td>132.000000</td>\n      <td>132.000000</td>\n      <td>132.000000</td>\n      <td>132.000000</td>\n      <td>132.000000</td>\n      <td>132.000000</td>\n      <td>132.000000</td>\n      <td>132.000000</td>\n      <td>132.000000</td>\n      <td>...</td>\n      <td>132.000000</td>\n      <td>132.000000</td>\n      <td>132.000000</td>\n      <td>132.000000</td>\n      <td>132.000000</td>\n      <td>132.000000</td>\n      <td>132.000000</td>\n      <td>132.000000</td>\n      <td>132.000000</td>\n      <td>132.000000</td>\n    </tr>\n    <tr>\n      <th>max</th>\n      <td>165.000000</td>\n      <td>165.000000</td>\n      <td>165.000000</td>\n      <td>165.000000</td>\n      <td>165.000000</td>\n      <td>165.000000</td>\n      <td>165.000000</td>\n      <td>165.000000</td>\n      <td>165.000000</td>\n      <td>165.000000</td>\n      <td>...</td>\n      <td>165.000000</td>\n      <td>165.000000</td>\n      <td>165.000000</td>\n      <td>165.000000</td>\n      <td>165.000000</td>\n      <td>165.000000</td>\n      <td>165.000000</td>\n      <td>165.000000</td>\n      <td>165.000000</td>\n      <td>165.000000</td>\n    </tr>\n  </tbody>\n</table>\n<p>8 rows × 26 columns</p>\n</div>"
     },
     "metadata": {},
     "execution_count": 128
    }
   ],
   "source": [
    "large_df.describe()"
   ]
  },
  {
   "cell_type": "markdown",
   "metadata": {},
   "source": [
    "# Saving & loading\n",
    "Pandas can save `DataFrame`s to various backends, including file formats such as CSV, Excel, JSON, HTML and HDF5, or to a SQL database. Let's create a `DataFrame` to demonstrate this:"
   ]
  },
  {
   "cell_type": "code",
   "execution_count": 129,
   "metadata": {},
   "outputs": [
    {
     "output_type": "execute_result",
     "data": {
      "text/plain": [
       "         hobby  weight  birthyear  children\n",
       "alice   Biking    68.5       1985       NaN\n",
       "bob    Dancing    83.1       1984       3.0"
      ],
      "text/html": "<div>\n<style scoped>\n    .dataframe tbody tr th:only-of-type {\n        vertical-align: middle;\n    }\n\n    .dataframe tbody tr th {\n        vertical-align: top;\n    }\n\n    .dataframe thead th {\n        text-align: right;\n    }\n</style>\n<table border=\"1\" class=\"dataframe\">\n  <thead>\n    <tr style=\"text-align: right;\">\n      <th></th>\n      <th>hobby</th>\n      <th>weight</th>\n      <th>birthyear</th>\n      <th>children</th>\n    </tr>\n  </thead>\n  <tbody>\n    <tr>\n      <th>alice</th>\n      <td>Biking</td>\n      <td>68.5</td>\n      <td>1985</td>\n      <td>NaN</td>\n    </tr>\n    <tr>\n      <th>bob</th>\n      <td>Dancing</td>\n      <td>83.1</td>\n      <td>1984</td>\n      <td>3.0</td>\n    </tr>\n  </tbody>\n</table>\n</div>"
     },
     "metadata": {},
     "execution_count": 129
    }
   ],
   "source": [
    "my_df = pd.DataFrame(\n",
    "    [[\"Biking\", 68.5, 1985, np.nan], [\"Dancing\", 83.1, 1984, 3]],\n",
    "    columns=[\"hobby\", \"weight\", \"birthyear\", \"children\"],\n",
    "    index=[\"alice\", \"bob\"])\n",
    "my_df"
   ]
  },
  {
   "cell_type": "markdown",
   "metadata": {},
   "source": [
    "## Saving\n",
    "Let's save it to CSV, HTML and JSON:"
   ]
  },
  {
   "cell_type": "code",
   "execution_count": 130,
   "metadata": {},
   "outputs": [],
   "source": [
    "my_df.to_csv(\"my_df.csv\")\n",
    "my_df.to_html(\"my_df.html\")\n",
    "my_df.to_json(\"my_df.json\")"
   ]
  },
  {
   "cell_type": "markdown",
   "metadata": {},
   "source": [
    "## Loading\n",
    "Now let's load our CSV file back into a `DataFrame`:"
   ]
  },
  {
   "cell_type": "code",
   "execution_count": 131,
   "metadata": {},
   "outputs": [
    {
     "output_type": "execute_result",
     "data": {
      "text/plain": [
       "         hobby  weight  birthyear  children\n",
       "alice   Biking    68.5       1985       NaN\n",
       "bob    Dancing    83.1       1984       3.0"
      ],
      "text/html": "<div>\n<style scoped>\n    .dataframe tbody tr th:only-of-type {\n        vertical-align: middle;\n    }\n\n    .dataframe tbody tr th {\n        vertical-align: top;\n    }\n\n    .dataframe thead th {\n        text-align: right;\n    }\n</style>\n<table border=\"1\" class=\"dataframe\">\n  <thead>\n    <tr style=\"text-align: right;\">\n      <th></th>\n      <th>hobby</th>\n      <th>weight</th>\n      <th>birthyear</th>\n      <th>children</th>\n    </tr>\n  </thead>\n  <tbody>\n    <tr>\n      <th>alice</th>\n      <td>Biking</td>\n      <td>68.5</td>\n      <td>1985</td>\n      <td>NaN</td>\n    </tr>\n    <tr>\n      <th>bob</th>\n      <td>Dancing</td>\n      <td>83.1</td>\n      <td>1984</td>\n      <td>3.0</td>\n    </tr>\n  </tbody>\n</table>\n</div>"
     },
     "metadata": {},
     "execution_count": 131
    }
   ],
   "source": [
    "my_df_loaded = pd.read_csv(\"my_df.csv\", index_col=0)\n",
    "my_df_loaded"
   ]
  },
  {
   "cell_type": "markdown",
   "metadata": {},
   "source": [
    "As you might guess, there are similar `read_json`, `read_html`, `read_excel` functions as well.  We can also read data straight from the Internet. For example, let's load all U.S. cities from [simplemaps.com](http://simplemaps.com/):"
   ]
  },
  {
   "cell_type": "code",
   "execution_count": 132,
   "metadata": {},
   "outputs": [
    {
     "output_type": "stream",
     "name": "stdout",
     "text": [
      "HTTP Error 403: Forbidden\n"
     ]
    }
   ],
   "source": [
    "us_cities = None\n",
    "try:\n",
    "    csv_url = \"http://simplemaps.com/files/cities.csv\"\n",
    "    us_cities = pd.read_csv(csv_url, index_col=0)\n",
    "    us_cities = us_cities.head()\n",
    "except IOError as e:\n",
    "    print(e)\n",
    "us_cities"
   ]
  },
  {
   "cell_type": "markdown",
   "metadata": {},
   "source": [
    "There are more options available, in particular regarding datetime format. Check out the [documentation](http://pandas.pydata.org/pandas-docs/stable/io.html) for more details."
   ]
  },
  {
   "cell_type": "markdown",
   "metadata": {},
   "source": [
    "# Combining `DataFrame`s\n",
    "\n",
    "## SQL-like joins\n",
    "One powerful feature of pandas is it's ability to perform SQL-like joins on `DataFrame`s. Various types of joins are supported: inner joins, left/right outer joins and full joins. To illustrate this, let's start by creating a couple simple `DataFrame`s:"
   ]
  },
  {
   "cell_type": "code",
   "execution_count": 133,
   "metadata": {},
   "outputs": [
    {
     "output_type": "execute_result",
     "data": {
      "text/plain": [
       "  state            city        lat         lng\n",
       "0    CA   San Francisco  37.781334 -122.416728\n",
       "1    NY        New York  40.705649  -74.008344\n",
       "2    FL           Miami  25.791100  -80.320733\n",
       "3    OH       Cleveland  41.473508  -81.739791\n",
       "4    UT  Salt Lake City  40.755851 -111.896657"
      ],
      "text/html": "<div>\n<style scoped>\n    .dataframe tbody tr th:only-of-type {\n        vertical-align: middle;\n    }\n\n    .dataframe tbody tr th {\n        vertical-align: top;\n    }\n\n    .dataframe thead th {\n        text-align: right;\n    }\n</style>\n<table border=\"1\" class=\"dataframe\">\n  <thead>\n    <tr style=\"text-align: right;\">\n      <th></th>\n      <th>state</th>\n      <th>city</th>\n      <th>lat</th>\n      <th>lng</th>\n    </tr>\n  </thead>\n  <tbody>\n    <tr>\n      <th>0</th>\n      <td>CA</td>\n      <td>San Francisco</td>\n      <td>37.781334</td>\n      <td>-122.416728</td>\n    </tr>\n    <tr>\n      <th>1</th>\n      <td>NY</td>\n      <td>New York</td>\n      <td>40.705649</td>\n      <td>-74.008344</td>\n    </tr>\n    <tr>\n      <th>2</th>\n      <td>FL</td>\n      <td>Miami</td>\n      <td>25.791100</td>\n      <td>-80.320733</td>\n    </tr>\n    <tr>\n      <th>3</th>\n      <td>OH</td>\n      <td>Cleveland</td>\n      <td>41.473508</td>\n      <td>-81.739791</td>\n    </tr>\n    <tr>\n      <th>4</th>\n      <td>UT</td>\n      <td>Salt Lake City</td>\n      <td>40.755851</td>\n      <td>-111.896657</td>\n    </tr>\n  </tbody>\n</table>\n</div>"
     },
     "metadata": {},
     "execution_count": 133
    }
   ],
   "source": [
    "city_loc = pd.DataFrame([[\"CA\", \"San Francisco\", 37.781334, -122.416728],\n",
    "                         [\"NY\", \"New York\", 40.705649, -74.008344],\n",
    "                         [\"FL\", \"Miami\", 25.791100, -80.320733],\n",
    "                         [\"OH\", \"Cleveland\", 41.473508, -81.739791],\n",
    "                         [\"UT\", \"Salt Lake City\", 40.755851, -111.896657]],\n",
    "                        columns=[\"state\", \"city\", \"lat\", \"lng\"])\n",
    "city_loc"
   ]
  },
  {
   "cell_type": "code",
   "execution_count": 134,
   "metadata": {},
   "outputs": [
    {
     "output_type": "execute_result",
     "data": {
      "text/plain": [
       "   population           city       state\n",
       "3      808976  San Francisco  California\n",
       "4     8363710       New York    New-York\n",
       "5      413201          Miami     Florida\n",
       "6     2242193        Houston       Texas"
      ],
      "text/html": "<div>\n<style scoped>\n    .dataframe tbody tr th:only-of-type {\n        vertical-align: middle;\n    }\n\n    .dataframe tbody tr th {\n        vertical-align: top;\n    }\n\n    .dataframe thead th {\n        text-align: right;\n    }\n</style>\n<table border=\"1\" class=\"dataframe\">\n  <thead>\n    <tr style=\"text-align: right;\">\n      <th></th>\n      <th>population</th>\n      <th>city</th>\n      <th>state</th>\n    </tr>\n  </thead>\n  <tbody>\n    <tr>\n      <th>3</th>\n      <td>808976</td>\n      <td>San Francisco</td>\n      <td>California</td>\n    </tr>\n    <tr>\n      <th>4</th>\n      <td>8363710</td>\n      <td>New York</td>\n      <td>New-York</td>\n    </tr>\n    <tr>\n      <th>5</th>\n      <td>413201</td>\n      <td>Miami</td>\n      <td>Florida</td>\n    </tr>\n    <tr>\n      <th>6</th>\n      <td>2242193</td>\n      <td>Houston</td>\n      <td>Texas</td>\n    </tr>\n  </tbody>\n</table>\n</div>"
     },
     "metadata": {},
     "execution_count": 134
    }
   ],
   "source": [
    "city_pop = pd.DataFrame(\n",
    "    [[808976, \"San Francisco\", \"California\"], [8363710, \"New York\", \"New-York\"],\n",
    "     [413201, \"Miami\", \"Florida\"], [2242193, \"Houston\", \"Texas\"]],\n",
    "    index=[3, 4, 5, 6],\n",
    "    columns=[\"population\", \"city\", \"state\"])\n",
    "city_pop"
   ]
  },
  {
   "cell_type": "markdown",
   "metadata": {},
   "source": [
    "Now let's join these `DataFrame`s using the `merge()` function:"
   ]
  },
  {
   "cell_type": "code",
   "execution_count": 135,
   "metadata": {},
   "outputs": [
    {
     "output_type": "execute_result",
     "data": {
      "text/plain": [
       "  state_x           city        lat         lng  population     state_y\n",
       "0      CA  San Francisco  37.781334 -122.416728      808976  California\n",
       "1      NY       New York  40.705649  -74.008344     8363710    New-York\n",
       "2      FL          Miami  25.791100  -80.320733      413201     Florida"
      ],
      "text/html": "<div>\n<style scoped>\n    .dataframe tbody tr th:only-of-type {\n        vertical-align: middle;\n    }\n\n    .dataframe tbody tr th {\n        vertical-align: top;\n    }\n\n    .dataframe thead th {\n        text-align: right;\n    }\n</style>\n<table border=\"1\" class=\"dataframe\">\n  <thead>\n    <tr style=\"text-align: right;\">\n      <th></th>\n      <th>state_x</th>\n      <th>city</th>\n      <th>lat</th>\n      <th>lng</th>\n      <th>population</th>\n      <th>state_y</th>\n    </tr>\n  </thead>\n  <tbody>\n    <tr>\n      <th>0</th>\n      <td>CA</td>\n      <td>San Francisco</td>\n      <td>37.781334</td>\n      <td>-122.416728</td>\n      <td>808976</td>\n      <td>California</td>\n    </tr>\n    <tr>\n      <th>1</th>\n      <td>NY</td>\n      <td>New York</td>\n      <td>40.705649</td>\n      <td>-74.008344</td>\n      <td>8363710</td>\n      <td>New-York</td>\n    </tr>\n    <tr>\n      <th>2</th>\n      <td>FL</td>\n      <td>Miami</td>\n      <td>25.791100</td>\n      <td>-80.320733</td>\n      <td>413201</td>\n      <td>Florida</td>\n    </tr>\n  </tbody>\n</table>\n</div>"
     },
     "metadata": {},
     "execution_count": 135
    }
   ],
   "source": [
    "pd.merge(left=city_loc, right=city_pop, on=\"city\")"
   ]
  },
  {
   "cell_type": "markdown",
   "metadata": {},
   "source": [
    "Note that both `DataFrame`s have a column named `state`, so in the result they got renamed to `state_x` and `state_y`.\n",
    "\n",
    "Also, note that Cleveland, Salt Lake City and Houston were dropped because they don't exist in *both* `DataFrame`s. This is the equivalent of a SQL `INNER JOIN`. If you want a `FULL OUTER JOIN`, where no city gets dropped and `NaN` values are added, you must specify `how=\"outer\"`:"
   ]
  },
  {
   "cell_type": "code",
   "execution_count": 136,
   "metadata": {},
   "outputs": [
    {
     "output_type": "execute_result",
     "data": {
      "text/plain": [
       "  state_x            city        lat         lng  population     state_y\n",
       "0      CA   San Francisco  37.781334 -122.416728    808976.0  California\n",
       "1      NY        New York  40.705649  -74.008344   8363710.0    New-York\n",
       "2      FL           Miami  25.791100  -80.320733    413201.0     Florida\n",
       "3      OH       Cleveland  41.473508  -81.739791         NaN         NaN\n",
       "4      UT  Salt Lake City  40.755851 -111.896657         NaN         NaN\n",
       "5     NaN         Houston        NaN         NaN   2242193.0       Texas"
      ],
      "text/html": "<div>\n<style scoped>\n    .dataframe tbody tr th:only-of-type {\n        vertical-align: middle;\n    }\n\n    .dataframe tbody tr th {\n        vertical-align: top;\n    }\n\n    .dataframe thead th {\n        text-align: right;\n    }\n</style>\n<table border=\"1\" class=\"dataframe\">\n  <thead>\n    <tr style=\"text-align: right;\">\n      <th></th>\n      <th>state_x</th>\n      <th>city</th>\n      <th>lat</th>\n      <th>lng</th>\n      <th>population</th>\n      <th>state_y</th>\n    </tr>\n  </thead>\n  <tbody>\n    <tr>\n      <th>0</th>\n      <td>CA</td>\n      <td>San Francisco</td>\n      <td>37.781334</td>\n      <td>-122.416728</td>\n      <td>808976.0</td>\n      <td>California</td>\n    </tr>\n    <tr>\n      <th>1</th>\n      <td>NY</td>\n      <td>New York</td>\n      <td>40.705649</td>\n      <td>-74.008344</td>\n      <td>8363710.0</td>\n      <td>New-York</td>\n    </tr>\n    <tr>\n      <th>2</th>\n      <td>FL</td>\n      <td>Miami</td>\n      <td>25.791100</td>\n      <td>-80.320733</td>\n      <td>413201.0</td>\n      <td>Florida</td>\n    </tr>\n    <tr>\n      <th>3</th>\n      <td>OH</td>\n      <td>Cleveland</td>\n      <td>41.473508</td>\n      <td>-81.739791</td>\n      <td>NaN</td>\n      <td>NaN</td>\n    </tr>\n    <tr>\n      <th>4</th>\n      <td>UT</td>\n      <td>Salt Lake City</td>\n      <td>40.755851</td>\n      <td>-111.896657</td>\n      <td>NaN</td>\n      <td>NaN</td>\n    </tr>\n    <tr>\n      <th>5</th>\n      <td>NaN</td>\n      <td>Houston</td>\n      <td>NaN</td>\n      <td>NaN</td>\n      <td>2242193.0</td>\n      <td>Texas</td>\n    </tr>\n  </tbody>\n</table>\n</div>"
     },
     "metadata": {},
     "execution_count": 136
    }
   ],
   "source": [
    "all_cities = pd.merge(left=city_loc, right=city_pop, on=\"city\", how=\"outer\")\n",
    "all_cities"
   ]
  },
  {
   "cell_type": "markdown",
   "metadata": {},
   "source": [
    "Of course `LEFT OUTER JOIN` is also available by setting `how=\"left\"`: only the cities present in the left `DataFrame` end up in the result. Similarly, with `how=\"right\"` only cities in the right `DataFrame` appear in the result. For example:"
   ]
  },
  {
   "cell_type": "code",
   "execution_count": 137,
   "metadata": {},
   "outputs": [
    {
     "output_type": "execute_result",
     "data": {
      "text/plain": [
       "  state_x           city        lat         lng  population     state_y\n",
       "0      CA  San Francisco  37.781334 -122.416728      808976  California\n",
       "1      NY       New York  40.705649  -74.008344     8363710    New-York\n",
       "2      FL          Miami  25.791100  -80.320733      413201     Florida\n",
       "3     NaN        Houston        NaN         NaN     2242193       Texas"
      ],
      "text/html": "<div>\n<style scoped>\n    .dataframe tbody tr th:only-of-type {\n        vertical-align: middle;\n    }\n\n    .dataframe tbody tr th {\n        vertical-align: top;\n    }\n\n    .dataframe thead th {\n        text-align: right;\n    }\n</style>\n<table border=\"1\" class=\"dataframe\">\n  <thead>\n    <tr style=\"text-align: right;\">\n      <th></th>\n      <th>state_x</th>\n      <th>city</th>\n      <th>lat</th>\n      <th>lng</th>\n      <th>population</th>\n      <th>state_y</th>\n    </tr>\n  </thead>\n  <tbody>\n    <tr>\n      <th>0</th>\n      <td>CA</td>\n      <td>San Francisco</td>\n      <td>37.781334</td>\n      <td>-122.416728</td>\n      <td>808976</td>\n      <td>California</td>\n    </tr>\n    <tr>\n      <th>1</th>\n      <td>NY</td>\n      <td>New York</td>\n      <td>40.705649</td>\n      <td>-74.008344</td>\n      <td>8363710</td>\n      <td>New-York</td>\n    </tr>\n    <tr>\n      <th>2</th>\n      <td>FL</td>\n      <td>Miami</td>\n      <td>25.791100</td>\n      <td>-80.320733</td>\n      <td>413201</td>\n      <td>Florida</td>\n    </tr>\n    <tr>\n      <th>3</th>\n      <td>NaN</td>\n      <td>Houston</td>\n      <td>NaN</td>\n      <td>NaN</td>\n      <td>2242193</td>\n      <td>Texas</td>\n    </tr>\n  </tbody>\n</table>\n</div>"
     },
     "metadata": {},
     "execution_count": 137
    }
   ],
   "source": [
    "pd.merge(left=city_loc, right=city_pop, on=\"city\", how=\"right\")"
   ]
  },
  {
   "cell_type": "markdown",
   "metadata": {},
   "source": [
    "If the key to join on is actually in one (or both) `DataFrame`'s index, you must use `left_index=True` and/or `right_index=True`. If the key column names differ, you must use `left_on` and `right_on`. For example:"
   ]
  },
  {
   "cell_type": "code",
   "execution_count": 138,
   "metadata": {},
   "outputs": [
    {
     "output_type": "execute_result",
     "data": {
      "text/plain": [
       "  state_x           city        lat         lng  population           name  \\\n",
       "0      CA  San Francisco  37.781334 -122.416728      808976  San Francisco   \n",
       "1      NY       New York  40.705649  -74.008344     8363710       New York   \n",
       "2      FL          Miami  25.791100  -80.320733      413201          Miami   \n",
       "\n",
       "      state_y  \n",
       "0  California  \n",
       "1    New-York  \n",
       "2     Florida  "
      ],
      "text/html": "<div>\n<style scoped>\n    .dataframe tbody tr th:only-of-type {\n        vertical-align: middle;\n    }\n\n    .dataframe tbody tr th {\n        vertical-align: top;\n    }\n\n    .dataframe thead th {\n        text-align: right;\n    }\n</style>\n<table border=\"1\" class=\"dataframe\">\n  <thead>\n    <tr style=\"text-align: right;\">\n      <th></th>\n      <th>state_x</th>\n      <th>city</th>\n      <th>lat</th>\n      <th>lng</th>\n      <th>population</th>\n      <th>name</th>\n      <th>state_y</th>\n    </tr>\n  </thead>\n  <tbody>\n    <tr>\n      <th>0</th>\n      <td>CA</td>\n      <td>San Francisco</td>\n      <td>37.781334</td>\n      <td>-122.416728</td>\n      <td>808976</td>\n      <td>San Francisco</td>\n      <td>California</td>\n    </tr>\n    <tr>\n      <th>1</th>\n      <td>NY</td>\n      <td>New York</td>\n      <td>40.705649</td>\n      <td>-74.008344</td>\n      <td>8363710</td>\n      <td>New York</td>\n      <td>New-York</td>\n    </tr>\n    <tr>\n      <th>2</th>\n      <td>FL</td>\n      <td>Miami</td>\n      <td>25.791100</td>\n      <td>-80.320733</td>\n      <td>413201</td>\n      <td>Miami</td>\n      <td>Florida</td>\n    </tr>\n  </tbody>\n</table>\n</div>"
     },
     "metadata": {},
     "execution_count": 138
    }
   ],
   "source": [
    "city_pop2 = city_pop.copy()\n",
    "city_pop2.columns = [\"population\", \"name\", \"state\"]\n",
    "pd.merge(left=city_loc, right=city_pop2, left_on=\"city\", right_on=\"name\")"
   ]
  },
  {
   "cell_type": "markdown",
   "metadata": {},
   "source": [
    "## Concatenation\n",
    "Rather than joining `DataFrame`s, we may just want to concatenate them. That's what `concat()` is for:"
   ]
  },
  {
   "cell_type": "code",
   "execution_count": 139,
   "metadata": {},
   "outputs": [
    {
     "output_type": "execute_result",
     "data": {
      "text/plain": [
       "        state            city        lat         lng  population\n",
       "0          CA   San Francisco  37.781334 -122.416728         NaN\n",
       "1          NY        New York  40.705649  -74.008344         NaN\n",
       "2          FL           Miami  25.791100  -80.320733         NaN\n",
       "3          OH       Cleveland  41.473508  -81.739791         NaN\n",
       "4          UT  Salt Lake City  40.755851 -111.896657         NaN\n",
       "3  California   San Francisco        NaN         NaN    808976.0\n",
       "4    New-York        New York        NaN         NaN   8363710.0\n",
       "5     Florida           Miami        NaN         NaN    413201.0\n",
       "6       Texas         Houston        NaN         NaN   2242193.0"
      ],
      "text/html": "<div>\n<style scoped>\n    .dataframe tbody tr th:only-of-type {\n        vertical-align: middle;\n    }\n\n    .dataframe tbody tr th {\n        vertical-align: top;\n    }\n\n    .dataframe thead th {\n        text-align: right;\n    }\n</style>\n<table border=\"1\" class=\"dataframe\">\n  <thead>\n    <tr style=\"text-align: right;\">\n      <th></th>\n      <th>state</th>\n      <th>city</th>\n      <th>lat</th>\n      <th>lng</th>\n      <th>population</th>\n    </tr>\n  </thead>\n  <tbody>\n    <tr>\n      <th>0</th>\n      <td>CA</td>\n      <td>San Francisco</td>\n      <td>37.781334</td>\n      <td>-122.416728</td>\n      <td>NaN</td>\n    </tr>\n    <tr>\n      <th>1</th>\n      <td>NY</td>\n      <td>New York</td>\n      <td>40.705649</td>\n      <td>-74.008344</td>\n      <td>NaN</td>\n    </tr>\n    <tr>\n      <th>2</th>\n      <td>FL</td>\n      <td>Miami</td>\n      <td>25.791100</td>\n      <td>-80.320733</td>\n      <td>NaN</td>\n    </tr>\n    <tr>\n      <th>3</th>\n      <td>OH</td>\n      <td>Cleveland</td>\n      <td>41.473508</td>\n      <td>-81.739791</td>\n      <td>NaN</td>\n    </tr>\n    <tr>\n      <th>4</th>\n      <td>UT</td>\n      <td>Salt Lake City</td>\n      <td>40.755851</td>\n      <td>-111.896657</td>\n      <td>NaN</td>\n    </tr>\n    <tr>\n      <th>3</th>\n      <td>California</td>\n      <td>San Francisco</td>\n      <td>NaN</td>\n      <td>NaN</td>\n      <td>808976.0</td>\n    </tr>\n    <tr>\n      <th>4</th>\n      <td>New-York</td>\n      <td>New York</td>\n      <td>NaN</td>\n      <td>NaN</td>\n      <td>8363710.0</td>\n    </tr>\n    <tr>\n      <th>5</th>\n      <td>Florida</td>\n      <td>Miami</td>\n      <td>NaN</td>\n      <td>NaN</td>\n      <td>413201.0</td>\n    </tr>\n    <tr>\n      <th>6</th>\n      <td>Texas</td>\n      <td>Houston</td>\n      <td>NaN</td>\n      <td>NaN</td>\n      <td>2242193.0</td>\n    </tr>\n  </tbody>\n</table>\n</div>"
     },
     "metadata": {},
     "execution_count": 139
    }
   ],
   "source": [
    "result_concat = pd.concat([city_loc, city_pop])\n",
    "result_concat"
   ]
  },
  {
   "cell_type": "markdown",
   "metadata": {},
   "source": [
    "Note that this operation aligned the data horizontally (by columns) but not vertically (by rows). In this example, we end up with multiple rows having the same index (eg. 3). Pandas handles this rather gracefully:"
   ]
  },
  {
   "cell_type": "code",
   "execution_count": 140,
   "metadata": {},
   "outputs": [
    {
     "output_type": "execute_result",
     "data": {
      "text/plain": [
       "        state           city        lat        lng  population\n",
       "3          OH      Cleveland  41.473508 -81.739791         NaN\n",
       "3  California  San Francisco        NaN        NaN    808976.0"
      ],
      "text/html": "<div>\n<style scoped>\n    .dataframe tbody tr th:only-of-type {\n        vertical-align: middle;\n    }\n\n    .dataframe tbody tr th {\n        vertical-align: top;\n    }\n\n    .dataframe thead th {\n        text-align: right;\n    }\n</style>\n<table border=\"1\" class=\"dataframe\">\n  <thead>\n    <tr style=\"text-align: right;\">\n      <th></th>\n      <th>state</th>\n      <th>city</th>\n      <th>lat</th>\n      <th>lng</th>\n      <th>population</th>\n    </tr>\n  </thead>\n  <tbody>\n    <tr>\n      <th>3</th>\n      <td>OH</td>\n      <td>Cleveland</td>\n      <td>41.473508</td>\n      <td>-81.739791</td>\n      <td>NaN</td>\n    </tr>\n    <tr>\n      <th>3</th>\n      <td>California</td>\n      <td>San Francisco</td>\n      <td>NaN</td>\n      <td>NaN</td>\n      <td>808976.0</td>\n    </tr>\n  </tbody>\n</table>\n</div>"
     },
     "metadata": {},
     "execution_count": 140
    }
   ],
   "source": [
    "result_concat.loc[3]"
   ]
  },
  {
   "cell_type": "markdown",
   "metadata": {},
   "source": [
    "Or you can tell pandas to just ignore the index:"
   ]
  },
  {
   "cell_type": "code",
   "execution_count": 141,
   "metadata": {},
   "outputs": [
    {
     "output_type": "execute_result",
     "data": {
      "text/plain": [
       "        state            city        lat         lng  population\n",
       "0          CA   San Francisco  37.781334 -122.416728         NaN\n",
       "1          NY        New York  40.705649  -74.008344         NaN\n",
       "2          FL           Miami  25.791100  -80.320733         NaN\n",
       "3          OH       Cleveland  41.473508  -81.739791         NaN\n",
       "4          UT  Salt Lake City  40.755851 -111.896657         NaN\n",
       "5  California   San Francisco        NaN         NaN    808976.0\n",
       "6    New-York        New York        NaN         NaN   8363710.0\n",
       "7     Florida           Miami        NaN         NaN    413201.0\n",
       "8       Texas         Houston        NaN         NaN   2242193.0"
      ],
      "text/html": "<div>\n<style scoped>\n    .dataframe tbody tr th:only-of-type {\n        vertical-align: middle;\n    }\n\n    .dataframe tbody tr th {\n        vertical-align: top;\n    }\n\n    .dataframe thead th {\n        text-align: right;\n    }\n</style>\n<table border=\"1\" class=\"dataframe\">\n  <thead>\n    <tr style=\"text-align: right;\">\n      <th></th>\n      <th>state</th>\n      <th>city</th>\n      <th>lat</th>\n      <th>lng</th>\n      <th>population</th>\n    </tr>\n  </thead>\n  <tbody>\n    <tr>\n      <th>0</th>\n      <td>CA</td>\n      <td>San Francisco</td>\n      <td>37.781334</td>\n      <td>-122.416728</td>\n      <td>NaN</td>\n    </tr>\n    <tr>\n      <th>1</th>\n      <td>NY</td>\n      <td>New York</td>\n      <td>40.705649</td>\n      <td>-74.008344</td>\n      <td>NaN</td>\n    </tr>\n    <tr>\n      <th>2</th>\n      <td>FL</td>\n      <td>Miami</td>\n      <td>25.791100</td>\n      <td>-80.320733</td>\n      <td>NaN</td>\n    </tr>\n    <tr>\n      <th>3</th>\n      <td>OH</td>\n      <td>Cleveland</td>\n      <td>41.473508</td>\n      <td>-81.739791</td>\n      <td>NaN</td>\n    </tr>\n    <tr>\n      <th>4</th>\n      <td>UT</td>\n      <td>Salt Lake City</td>\n      <td>40.755851</td>\n      <td>-111.896657</td>\n      <td>NaN</td>\n    </tr>\n    <tr>\n      <th>5</th>\n      <td>California</td>\n      <td>San Francisco</td>\n      <td>NaN</td>\n      <td>NaN</td>\n      <td>808976.0</td>\n    </tr>\n    <tr>\n      <th>6</th>\n      <td>New-York</td>\n      <td>New York</td>\n      <td>NaN</td>\n      <td>NaN</td>\n      <td>8363710.0</td>\n    </tr>\n    <tr>\n      <th>7</th>\n      <td>Florida</td>\n      <td>Miami</td>\n      <td>NaN</td>\n      <td>NaN</td>\n      <td>413201.0</td>\n    </tr>\n    <tr>\n      <th>8</th>\n      <td>Texas</td>\n      <td>Houston</td>\n      <td>NaN</td>\n      <td>NaN</td>\n      <td>2242193.0</td>\n    </tr>\n  </tbody>\n</table>\n</div>"
     },
     "metadata": {},
     "execution_count": 141
    }
   ],
   "source": [
    "pd.concat([city_loc, city_pop], ignore_index=True)"
   ]
  },
  {
   "cell_type": "markdown",
   "metadata": {},
   "source": [
    "Notice that when a column does not exist in a `DataFrame`, it acts as if it was filled with `NaN` values. If we set `join=\"inner\"`, then only columns that exist in *both* `DataFrame`s are returned:"
   ]
  },
  {
   "cell_type": "code",
   "execution_count": 142,
   "metadata": {},
   "outputs": [
    {
     "output_type": "execute_result",
     "data": {
      "text/plain": [
       "        state            city\n",
       "0          CA   San Francisco\n",
       "1          NY        New York\n",
       "2          FL           Miami\n",
       "3          OH       Cleveland\n",
       "4          UT  Salt Lake City\n",
       "3  California   San Francisco\n",
       "4    New-York        New York\n",
       "5     Florida           Miami\n",
       "6       Texas         Houston"
      ],
      "text/html": "<div>\n<style scoped>\n    .dataframe tbody tr th:only-of-type {\n        vertical-align: middle;\n    }\n\n    .dataframe tbody tr th {\n        vertical-align: top;\n    }\n\n    .dataframe thead th {\n        text-align: right;\n    }\n</style>\n<table border=\"1\" class=\"dataframe\">\n  <thead>\n    <tr style=\"text-align: right;\">\n      <th></th>\n      <th>state</th>\n      <th>city</th>\n    </tr>\n  </thead>\n  <tbody>\n    <tr>\n      <th>0</th>\n      <td>CA</td>\n      <td>San Francisco</td>\n    </tr>\n    <tr>\n      <th>1</th>\n      <td>NY</td>\n      <td>New York</td>\n    </tr>\n    <tr>\n      <th>2</th>\n      <td>FL</td>\n      <td>Miami</td>\n    </tr>\n    <tr>\n      <th>3</th>\n      <td>OH</td>\n      <td>Cleveland</td>\n    </tr>\n    <tr>\n      <th>4</th>\n      <td>UT</td>\n      <td>Salt Lake City</td>\n    </tr>\n    <tr>\n      <th>3</th>\n      <td>California</td>\n      <td>San Francisco</td>\n    </tr>\n    <tr>\n      <th>4</th>\n      <td>New-York</td>\n      <td>New York</td>\n    </tr>\n    <tr>\n      <th>5</th>\n      <td>Florida</td>\n      <td>Miami</td>\n    </tr>\n    <tr>\n      <th>6</th>\n      <td>Texas</td>\n      <td>Houston</td>\n    </tr>\n  </tbody>\n</table>\n</div>"
     },
     "metadata": {},
     "execution_count": 142
    }
   ],
   "source": [
    "pd.concat([city_loc, city_pop], join=\"inner\")"
   ]
  },
  {
   "cell_type": "markdown",
   "metadata": {},
   "source": [
    "You can concatenate `DataFrame`s horizontally instead of vertically by setting `axis=1`:"
   ]
  },
  {
   "cell_type": "code",
   "execution_count": 143,
   "metadata": {
    "scrolled": true
   },
   "outputs": [
    {
     "output_type": "execute_result",
     "data": {
      "text/plain": [
       "  state            city        lat         lng  population           city  \\\n",
       "0    CA   San Francisco  37.781334 -122.416728         NaN            NaN   \n",
       "1    NY        New York  40.705649  -74.008344         NaN            NaN   \n",
       "2    FL           Miami  25.791100  -80.320733         NaN            NaN   \n",
       "3    OH       Cleveland  41.473508  -81.739791    808976.0  San Francisco   \n",
       "4    UT  Salt Lake City  40.755851 -111.896657   8363710.0       New York   \n",
       "5   NaN             NaN        NaN         NaN    413201.0          Miami   \n",
       "6   NaN             NaN        NaN         NaN   2242193.0        Houston   \n",
       "\n",
       "        state  \n",
       "0         NaN  \n",
       "1         NaN  \n",
       "2         NaN  \n",
       "3  California  \n",
       "4    New-York  \n",
       "5     Florida  \n",
       "6       Texas  "
      ],
      "text/html": "<div>\n<style scoped>\n    .dataframe tbody tr th:only-of-type {\n        vertical-align: middle;\n    }\n\n    .dataframe tbody tr th {\n        vertical-align: top;\n    }\n\n    .dataframe thead th {\n        text-align: right;\n    }\n</style>\n<table border=\"1\" class=\"dataframe\">\n  <thead>\n    <tr style=\"text-align: right;\">\n      <th></th>\n      <th>state</th>\n      <th>city</th>\n      <th>lat</th>\n      <th>lng</th>\n      <th>population</th>\n      <th>city</th>\n      <th>state</th>\n    </tr>\n  </thead>\n  <tbody>\n    <tr>\n      <th>0</th>\n      <td>CA</td>\n      <td>San Francisco</td>\n      <td>37.781334</td>\n      <td>-122.416728</td>\n      <td>NaN</td>\n      <td>NaN</td>\n      <td>NaN</td>\n    </tr>\n    <tr>\n      <th>1</th>\n      <td>NY</td>\n      <td>New York</td>\n      <td>40.705649</td>\n      <td>-74.008344</td>\n      <td>NaN</td>\n      <td>NaN</td>\n      <td>NaN</td>\n    </tr>\n    <tr>\n      <th>2</th>\n      <td>FL</td>\n      <td>Miami</td>\n      <td>25.791100</td>\n      <td>-80.320733</td>\n      <td>NaN</td>\n      <td>NaN</td>\n      <td>NaN</td>\n    </tr>\n    <tr>\n      <th>3</th>\n      <td>OH</td>\n      <td>Cleveland</td>\n      <td>41.473508</td>\n      <td>-81.739791</td>\n      <td>808976.0</td>\n      <td>San Francisco</td>\n      <td>California</td>\n    </tr>\n    <tr>\n      <th>4</th>\n      <td>UT</td>\n      <td>Salt Lake City</td>\n      <td>40.755851</td>\n      <td>-111.896657</td>\n      <td>8363710.0</td>\n      <td>New York</td>\n      <td>New-York</td>\n    </tr>\n    <tr>\n      <th>5</th>\n      <td>NaN</td>\n      <td>NaN</td>\n      <td>NaN</td>\n      <td>NaN</td>\n      <td>413201.0</td>\n      <td>Miami</td>\n      <td>Florida</td>\n    </tr>\n    <tr>\n      <th>6</th>\n      <td>NaN</td>\n      <td>NaN</td>\n      <td>NaN</td>\n      <td>NaN</td>\n      <td>2242193.0</td>\n      <td>Houston</td>\n      <td>Texas</td>\n    </tr>\n  </tbody>\n</table>\n</div>"
     },
     "metadata": {},
     "execution_count": 143
    }
   ],
   "source": [
    "pd.concat([city_loc, city_pop], axis=1)"
   ]
  },
  {
   "cell_type": "markdown",
   "metadata": {},
   "source": [
    "In this case it really does not make much sense because the indices do not align well (eg. Cleveland and San Francisco end up on the same row, because they shared the index label `3`). So let's reindex the `DataFrame`s by city name before concatenating:"
   ]
  },
  {
   "cell_type": "code",
   "execution_count": 144,
   "metadata": {
    "scrolled": true
   },
   "outputs": [
    {
     "output_type": "execute_result",
     "data": {
      "text/plain": [
       "               state        lat         lng  population       state\n",
       "city                                                               \n",
       "San Francisco     CA  37.781334 -122.416728    808976.0  California\n",
       "New York          NY  40.705649  -74.008344   8363710.0    New-York\n",
       "Miami             FL  25.791100  -80.320733    413201.0     Florida\n",
       "Cleveland         OH  41.473508  -81.739791         NaN         NaN\n",
       "Salt Lake City    UT  40.755851 -111.896657         NaN         NaN\n",
       "Houston          NaN        NaN         NaN   2242193.0       Texas"
      ],
      "text/html": "<div>\n<style scoped>\n    .dataframe tbody tr th:only-of-type {\n        vertical-align: middle;\n    }\n\n    .dataframe tbody tr th {\n        vertical-align: top;\n    }\n\n    .dataframe thead th {\n        text-align: right;\n    }\n</style>\n<table border=\"1\" class=\"dataframe\">\n  <thead>\n    <tr style=\"text-align: right;\">\n      <th></th>\n      <th>state</th>\n      <th>lat</th>\n      <th>lng</th>\n      <th>population</th>\n      <th>state</th>\n    </tr>\n    <tr>\n      <th>city</th>\n      <th></th>\n      <th></th>\n      <th></th>\n      <th></th>\n      <th></th>\n    </tr>\n  </thead>\n  <tbody>\n    <tr>\n      <th>San Francisco</th>\n      <td>CA</td>\n      <td>37.781334</td>\n      <td>-122.416728</td>\n      <td>808976.0</td>\n      <td>California</td>\n    </tr>\n    <tr>\n      <th>New York</th>\n      <td>NY</td>\n      <td>40.705649</td>\n      <td>-74.008344</td>\n      <td>8363710.0</td>\n      <td>New-York</td>\n    </tr>\n    <tr>\n      <th>Miami</th>\n      <td>FL</td>\n      <td>25.791100</td>\n      <td>-80.320733</td>\n      <td>413201.0</td>\n      <td>Florida</td>\n    </tr>\n    <tr>\n      <th>Cleveland</th>\n      <td>OH</td>\n      <td>41.473508</td>\n      <td>-81.739791</td>\n      <td>NaN</td>\n      <td>NaN</td>\n    </tr>\n    <tr>\n      <th>Salt Lake City</th>\n      <td>UT</td>\n      <td>40.755851</td>\n      <td>-111.896657</td>\n      <td>NaN</td>\n      <td>NaN</td>\n    </tr>\n    <tr>\n      <th>Houston</th>\n      <td>NaN</td>\n      <td>NaN</td>\n      <td>NaN</td>\n      <td>2242193.0</td>\n      <td>Texas</td>\n    </tr>\n  </tbody>\n</table>\n</div>"
     },
     "metadata": {},
     "execution_count": 144
    }
   ],
   "source": [
    "pd.concat([city_loc.set_index(\"city\"), city_pop.set_index(\"city\")], axis=1)"
   ]
  },
  {
   "cell_type": "markdown",
   "metadata": {},
   "source": [
    "This looks a lot like a `FULL OUTER JOIN`, except that the `state` columns were not renamed to `state_x` and `state_y`, and the `city` column is now the index."
   ]
  },
  {
   "cell_type": "markdown",
   "metadata": {},
   "source": [
    "The `append()` method is a useful shorthand for concatenating `DataFrame`s vertically:"
   ]
  },
  {
   "cell_type": "code",
   "execution_count": 145,
   "metadata": {},
   "outputs": [
    {
     "output_type": "execute_result",
     "data": {
      "text/plain": [
       "        state            city        lat         lng  population\n",
       "0          CA   San Francisco  37.781334 -122.416728         NaN\n",
       "1          NY        New York  40.705649  -74.008344         NaN\n",
       "2          FL           Miami  25.791100  -80.320733         NaN\n",
       "3          OH       Cleveland  41.473508  -81.739791         NaN\n",
       "4          UT  Salt Lake City  40.755851 -111.896657         NaN\n",
       "3  California   San Francisco        NaN         NaN    808976.0\n",
       "4    New-York        New York        NaN         NaN   8363710.0\n",
       "5     Florida           Miami        NaN         NaN    413201.0\n",
       "6       Texas         Houston        NaN         NaN   2242193.0"
      ],
      "text/html": "<div>\n<style scoped>\n    .dataframe tbody tr th:only-of-type {\n        vertical-align: middle;\n    }\n\n    .dataframe tbody tr th {\n        vertical-align: top;\n    }\n\n    .dataframe thead th {\n        text-align: right;\n    }\n</style>\n<table border=\"1\" class=\"dataframe\">\n  <thead>\n    <tr style=\"text-align: right;\">\n      <th></th>\n      <th>state</th>\n      <th>city</th>\n      <th>lat</th>\n      <th>lng</th>\n      <th>population</th>\n    </tr>\n  </thead>\n  <tbody>\n    <tr>\n      <th>0</th>\n      <td>CA</td>\n      <td>San Francisco</td>\n      <td>37.781334</td>\n      <td>-122.416728</td>\n      <td>NaN</td>\n    </tr>\n    <tr>\n      <th>1</th>\n      <td>NY</td>\n      <td>New York</td>\n      <td>40.705649</td>\n      <td>-74.008344</td>\n      <td>NaN</td>\n    </tr>\n    <tr>\n      <th>2</th>\n      <td>FL</td>\n      <td>Miami</td>\n      <td>25.791100</td>\n      <td>-80.320733</td>\n      <td>NaN</td>\n    </tr>\n    <tr>\n      <th>3</th>\n      <td>OH</td>\n      <td>Cleveland</td>\n      <td>41.473508</td>\n      <td>-81.739791</td>\n      <td>NaN</td>\n    </tr>\n    <tr>\n      <th>4</th>\n      <td>UT</td>\n      <td>Salt Lake City</td>\n      <td>40.755851</td>\n      <td>-111.896657</td>\n      <td>NaN</td>\n    </tr>\n    <tr>\n      <th>3</th>\n      <td>California</td>\n      <td>San Francisco</td>\n      <td>NaN</td>\n      <td>NaN</td>\n      <td>808976.0</td>\n    </tr>\n    <tr>\n      <th>4</th>\n      <td>New-York</td>\n      <td>New York</td>\n      <td>NaN</td>\n      <td>NaN</td>\n      <td>8363710.0</td>\n    </tr>\n    <tr>\n      <th>5</th>\n      <td>Florida</td>\n      <td>Miami</td>\n      <td>NaN</td>\n      <td>NaN</td>\n      <td>413201.0</td>\n    </tr>\n    <tr>\n      <th>6</th>\n      <td>Texas</td>\n      <td>Houston</td>\n      <td>NaN</td>\n      <td>NaN</td>\n      <td>2242193.0</td>\n    </tr>\n  </tbody>\n</table>\n</div>"
     },
     "metadata": {},
     "execution_count": 145
    }
   ],
   "source": [
    "city_loc.append(city_pop)"
   ]
  },
  {
   "cell_type": "markdown",
   "metadata": {},
   "source": [
    "As always in pandas, the `append()` method does *not* actually modify `city_loc`: it works on a copy and returns the modified copy."
   ]
  },
  {
   "cell_type": "markdown",
   "metadata": {},
   "source": [
    "# Categories\n",
    "It is quite frequent to have values that represent categories, for example `1` for female and `2` for male, or `\"A\"` for Good, `\"B\"` for Average, `\"C\"` for Bad. These categorical values can be hard to read and cumbersome to handle, but fortunately pandas makes it easy. To illustrate this, let's take the `city_pop` `DataFrame` we created earlier, and add a column that represents a category:"
   ]
  },
  {
   "cell_type": "code",
   "execution_count": 146,
   "metadata": {},
   "outputs": [
    {
     "output_type": "execute_result",
     "data": {
      "text/plain": [
       "   population           city       state  eco_code\n",
       "3      808976  San Francisco  California        17\n",
       "4     8363710       New York    New-York        17\n",
       "5      413201          Miami     Florida        34\n",
       "6     2242193        Houston       Texas        20"
      ],
      "text/html": "<div>\n<style scoped>\n    .dataframe tbody tr th:only-of-type {\n        vertical-align: middle;\n    }\n\n    .dataframe tbody tr th {\n        vertical-align: top;\n    }\n\n    .dataframe thead th {\n        text-align: right;\n    }\n</style>\n<table border=\"1\" class=\"dataframe\">\n  <thead>\n    <tr style=\"text-align: right;\">\n      <th></th>\n      <th>population</th>\n      <th>city</th>\n      <th>state</th>\n      <th>eco_code</th>\n    </tr>\n  </thead>\n  <tbody>\n    <tr>\n      <th>3</th>\n      <td>808976</td>\n      <td>San Francisco</td>\n      <td>California</td>\n      <td>17</td>\n    </tr>\n    <tr>\n      <th>4</th>\n      <td>8363710</td>\n      <td>New York</td>\n      <td>New-York</td>\n      <td>17</td>\n    </tr>\n    <tr>\n      <th>5</th>\n      <td>413201</td>\n      <td>Miami</td>\n      <td>Florida</td>\n      <td>34</td>\n    </tr>\n    <tr>\n      <th>6</th>\n      <td>2242193</td>\n      <td>Houston</td>\n      <td>Texas</td>\n      <td>20</td>\n    </tr>\n  </tbody>\n</table>\n</div>"
     },
     "metadata": {},
     "execution_count": 146
    }
   ],
   "source": [
    "city_eco = city_pop.copy()\n",
    "city_eco[\"eco_code\"] = [17, 17, 34, 20]\n",
    "city_eco"
   ]
  },
  {
   "cell_type": "markdown",
   "metadata": {},
   "source": [
    "Right now the `eco_code` column is full of apparently meaningless codes. Let's fix that. First, we will create a new categorical column based on the `eco_code`s:"
   ]
  },
  {
   "cell_type": "code",
   "execution_count": 147,
   "metadata": {},
   "outputs": [
    {
     "output_type": "execute_result",
     "data": {
      "text/plain": [
       "Int64Index([17, 20, 34], dtype='int64')"
      ]
     },
     "metadata": {},
     "execution_count": 147
    }
   ],
   "source": [
    "city_eco[\"economy\"] = city_eco[\"eco_code\"].astype('category')\n",
    "city_eco[\"economy\"].cat.categories"
   ]
  },
  {
   "cell_type": "markdown",
   "metadata": {},
   "source": [
    "Now we can give each category a meaningful name:"
   ]
  },
  {
   "cell_type": "code",
   "execution_count": 148,
   "metadata": {},
   "outputs": [
    {
     "output_type": "execute_result",
     "data": {
      "text/plain": [
       "   population           city       state  eco_code  economy\n",
       "3      808976  San Francisco  California        17  Finance\n",
       "4     8363710       New York    New-York        17  Finance\n",
       "5      413201          Miami     Florida        34  Tourism\n",
       "6     2242193        Houston       Texas        20   Energy"
      ],
      "text/html": "<div>\n<style scoped>\n    .dataframe tbody tr th:only-of-type {\n        vertical-align: middle;\n    }\n\n    .dataframe tbody tr th {\n        vertical-align: top;\n    }\n\n    .dataframe thead th {\n        text-align: right;\n    }\n</style>\n<table border=\"1\" class=\"dataframe\">\n  <thead>\n    <tr style=\"text-align: right;\">\n      <th></th>\n      <th>population</th>\n      <th>city</th>\n      <th>state</th>\n      <th>eco_code</th>\n      <th>economy</th>\n    </tr>\n  </thead>\n  <tbody>\n    <tr>\n      <th>3</th>\n      <td>808976</td>\n      <td>San Francisco</td>\n      <td>California</td>\n      <td>17</td>\n      <td>Finance</td>\n    </tr>\n    <tr>\n      <th>4</th>\n      <td>8363710</td>\n      <td>New York</td>\n      <td>New-York</td>\n      <td>17</td>\n      <td>Finance</td>\n    </tr>\n    <tr>\n      <th>5</th>\n      <td>413201</td>\n      <td>Miami</td>\n      <td>Florida</td>\n      <td>34</td>\n      <td>Tourism</td>\n    </tr>\n    <tr>\n      <th>6</th>\n      <td>2242193</td>\n      <td>Houston</td>\n      <td>Texas</td>\n      <td>20</td>\n      <td>Energy</td>\n    </tr>\n  </tbody>\n</table>\n</div>"
     },
     "metadata": {},
     "execution_count": 148
    }
   ],
   "source": [
    "city_eco[\"economy\"].cat.categories = [\"Finance\", \"Energy\", \"Tourism\"]\n",
    "city_eco"
   ]
  },
  {
   "cell_type": "markdown",
   "metadata": {},
   "source": [
    "Note that categorical values are sorted according to their categorical order, *not* their alphabetical order:"
   ]
  },
  {
   "cell_type": "code",
   "execution_count": 149,
   "metadata": {},
   "outputs": [
    {
     "output_type": "execute_result",
     "data": {
      "text/plain": [
       "   population           city       state  eco_code  economy\n",
       "5      413201          Miami     Florida        34  Tourism\n",
       "6     2242193        Houston       Texas        20   Energy\n",
       "3      808976  San Francisco  California        17  Finance\n",
       "4     8363710       New York    New-York        17  Finance"
      ],
      "text/html": "<div>\n<style scoped>\n    .dataframe tbody tr th:only-of-type {\n        vertical-align: middle;\n    }\n\n    .dataframe tbody tr th {\n        vertical-align: top;\n    }\n\n    .dataframe thead th {\n        text-align: right;\n    }\n</style>\n<table border=\"1\" class=\"dataframe\">\n  <thead>\n    <tr style=\"text-align: right;\">\n      <th></th>\n      <th>population</th>\n      <th>city</th>\n      <th>state</th>\n      <th>eco_code</th>\n      <th>economy</th>\n    </tr>\n  </thead>\n  <tbody>\n    <tr>\n      <th>5</th>\n      <td>413201</td>\n      <td>Miami</td>\n      <td>Florida</td>\n      <td>34</td>\n      <td>Tourism</td>\n    </tr>\n    <tr>\n      <th>6</th>\n      <td>2242193</td>\n      <td>Houston</td>\n      <td>Texas</td>\n      <td>20</td>\n      <td>Energy</td>\n    </tr>\n    <tr>\n      <th>3</th>\n      <td>808976</td>\n      <td>San Francisco</td>\n      <td>California</td>\n      <td>17</td>\n      <td>Finance</td>\n    </tr>\n    <tr>\n      <th>4</th>\n      <td>8363710</td>\n      <td>New York</td>\n      <td>New-York</td>\n      <td>17</td>\n      <td>Finance</td>\n    </tr>\n  </tbody>\n</table>\n</div>"
     },
     "metadata": {},
     "execution_count": 149
    }
   ],
   "source": [
    "city_eco.sort_values(by=\"economy\", ascending=False)"
   ]
  },
  {
   "cell_type": "code",
   "execution_count": null,
   "metadata": {},
   "outputs": [],
   "source": []
  }
 ],
 "metadata": {
  "kernelspec": {
   "name": "python394jvsc74a57bd0ff2e645ef952f1284ebef59edbc19ad3cff03e6406671d2dab1ca7ad9588368d",
   "display_name": "Python 3.9.4 64-bit ('p39': conda)"
  },
  "language_info": {
   "codemirror_mode": {
    "name": "ipython",
    "version": 3
   },
   "file_extension": ".py",
   "mimetype": "text/x-python",
   "name": "python",
   "nbconvert_exporter": "python",
   "pygments_lexer": "ipython3",
   "version": "3.9.4"
  },
  "toc": {
   "toc_cell": false,
   "toc_number_sections": true,
   "toc_section_display": "none",
   "toc_threshold": 6,
   "toc_window_display": true
  },
  "metadata": {
   "interpreter": {
    "hash": "ff2e645ef952f1284ebef59edbc19ad3cff03e6406671d2dab1ca7ad9588368d"
   }
  }
 },
 "nbformat": 4,
 "nbformat_minor": 4
}