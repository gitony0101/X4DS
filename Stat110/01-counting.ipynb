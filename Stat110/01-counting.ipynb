{
    "cells": [
        {
            "cell_type": "markdown",
            "metadata": {},
            "source": [
                "# Counting\n"
            ]
        },
        {
            "cell_type": "code",
            "execution_count": 1,
            "metadata": {},
            "outputs": [],
            "source": [
                "using Combinatorics\n",
                "using DataStructures"
            ]
        },
        {
            "cell_type": "markdown",
            "metadata": {},
            "source": [
                "# Sets\n"
            ]
        },
        {
            "cell_type": "markdown",
            "metadata": {},
            "source": [
                "## Set Operations\n"
            ]
        },
        {
            "cell_type": "code",
            "execution_count": 2,
            "metadata": {},
            "outputs": [],
            "source": [
                "const ⊂ = issubset;\n",
                "const ⊖ = setdiff;\n",
                "const × = Iterators.product;"
            ]
        },
        {
            "cell_type": "markdown",
            "metadata": {},
            "source": [
                "## Subsets, Supersets and Power Sets\n"
            ]
        },
        {
            "cell_type": "markdown",
            "metadata": {},
            "source": [
                "Now define two sets, $a$ is a **superset** of $b$ ($a ⊇ b$), then $b$ is called a **subset** of $a$ ($b ⊆ a$).\n"
            ]
        },
        {
            "cell_type": "code",
            "execution_count": 3,
            "metadata": {},
            "outputs": [],
            "source": [
                "a = Set(['♡', '♧', '♢']);\n",
                "b = Set(['♡', '♧']);"
            ]
        },
        {
            "cell_type": "code",
            "execution_count": 4,
            "metadata": {},
            "outputs": [
                {
                    "name": "stdout",
                    "output_type": "stream",
                    "text": [
                        "true\n",
                        "true\n",
                        "false\n"
                    ]
                }
            ],
            "source": [
                "(b ⊆ a) |> println\n",
                "(a ⊆ a) |> println\n",
                "(a ⊈ a) |> println"
            ]
        },
        {
            "cell_type": "markdown",
            "metadata": {},
            "source": [
                "In this example, $a$ is a **proper superset** of $b$ denoted as $a ⊃ b$, $b$ is a **proper subset** of $a$ denoted as $b ⊂ a$.\n"
            ]
        },
        {
            "cell_type": "code",
            "execution_count": 5,
            "metadata": {},
            "outputs": [
                {
                    "name": "stdout",
                    "output_type": "stream",
                    "text": [
                        "true\n",
                        "false\n"
                    ]
                }
            ],
            "source": [
                "(b ⊊ a) |> println\n",
                "(a ⊊ a) |> println"
            ]
        },
        {
            "cell_type": "code",
            "execution_count": 6,
            "metadata": {},
            "outputs": [
                {
                    "name": "stdout",
                    "output_type": "stream",
                    "text": [
                        "true\n",
                        "true\n"
                    ]
                }
            ],
            "source": [
                "((a ∪ b) == a) |> println\n",
                "((a ∩ b) == b) |> println"
            ]
        },
        {
            "cell_type": "code",
            "execution_count": 7,
            "metadata": {},
            "outputs": [
                {
                    "name": "stdout",
                    "output_type": "stream",
                    "text": [
                        "Set(['♢'])\n",
                        "Set{Char}()\n"
                    ]
                }
            ],
            "source": [
                "(a ⊖ b) |> println\n",
                "(b ⊖ a) |> println"
            ]
        },
        {
            "cell_type": "code",
            "execution_count": 8,
            "metadata": {},
            "outputs": [],
            "source": [
                "c = Set(['♤', '♡', '♧']);"
            ]
        },
        {
            "cell_type": "code",
            "execution_count": 9,
            "metadata": {},
            "outputs": [
                {
                    "name": "stdout",
                    "output_type": "stream",
                    "text": [
                        "Set(['♤', '♢', '♧', '♡'])\n",
                        "Set(['♧', '♡'])\n"
                    ]
                }
            ],
            "source": [
                "(a ∪ c) |> println\n",
                "(a ∩ c) |> println"
            ]
        },
        {
            "cell_type": "code",
            "execution_count": 10,
            "metadata": {},
            "outputs": [
                {
                    "name": "stdout",
                    "output_type": "stream",
                    "text": [
                        "Set(['♢'])\n",
                        "Set(['♤'])\n"
                    ]
                }
            ],
            "source": [
                "(a ⊖ c) |> println\n",
                "(c ⊖ a) |> println"
            ]
        },
        {
            "cell_type": "markdown",
            "metadata": {},
            "source": [
                "The **powerset** is set contains all subsets, including the empty set and itself.\n"
            ]
        },
        {
            "cell_type": "code",
            "execution_count": 11,
            "metadata": {},
            "outputs": [
                {
                    "data": {
                        "text/plain": [
                            "8-element Vector{Vector{Char}}:\n",
                            " []\n",
                            " ['♢']\n",
                            " ['♧']\n",
                            " ['♡']\n",
                            " ['♢', '♧']\n",
                            " ['♢', '♡']\n",
                            " ['♧', '♡']\n",
                            " ['♢', '♧', '♡']"
                        ]
                    },
                    "execution_count": 11,
                    "metadata": {},
                    "output_type": "execute_result"
                }
            ],
            "source": [
                "vcat(a...) |> powerset |> collect"
            ]
        },
        {
            "cell_type": "markdown",
            "metadata": {},
            "source": [
                "## Combination & Permutation\n"
            ]
        },
        {
            "cell_type": "markdown",
            "metadata": {},
            "source": [
                "Again, high school skills, two question to help differentiate them.\n",
                "\n",
                "- Pick 3 letters from English alphabet, how many ways to choose ?\n",
                "- Pick 3 letters from English alphabet to construct a word (doesn't have to be meaningful), how many ways to choose ?\n"
            ]
        },
        {
            "cell_type": "markdown",
            "metadata": {},
            "source": [
                "$$\n",
                "C_N^n = \\frac{N!}{n!(N-n)!}\\\\\n",
                "P_N^n = \\frac{N!}{(N-n)!}\n",
                "$$\n"
            ]
        },
        {
            "cell_type": "code",
            "execution_count": 12,
            "metadata": {},
            "outputs": [],
            "source": [
                "a = Set(['♡', '♧', '♢']);\n",
                "b = Set(['♡', '♧']);\n"
            ]
        },
        {
            "cell_type": "code",
            "execution_count": 13,
            "metadata": {},
            "outputs": [
                {
                    "data": {
                        "text/plain": [
                            "3×1 Matrix{Vector{Char}}:\n",
                            " ['♢', '♧']\n",
                            " ['♢', '♡']\n",
                            " ['♧', '♡']"
                        ]
                    },
                    "execution_count": 13,
                    "metadata": {},
                    "output_type": "execute_result"
                }
            ],
            "source": [
                "comb = vcat(a...) |> x -> combinations(x, 2) |> collect |> hcat"
            ]
        },
        {
            "cell_type": "code",
            "execution_count": 14,
            "metadata": {},
            "outputs": [
                {
                    "data": {
                        "text/plain": [
                            "3"
                        ]
                    },
                    "execution_count": 14,
                    "metadata": {},
                    "output_type": "execute_result"
                }
            ],
            "source": [
                "comb |> size |> prod"
            ]
        },
        {
            "cell_type": "code",
            "execution_count": 15,
            "metadata": {},
            "outputs": [
                {
                    "data": {
                        "text/plain": [
                            "6×1 Matrix{Vector{Char}}:\n",
                            " ['♢', '♧']\n",
                            " ['♢', '♡']\n",
                            " ['♧', '♢']\n",
                            " ['♧', '♡']\n",
                            " ['♡', '♢']\n",
                            " ['♡', '♧']"
                        ]
                    },
                    "execution_count": 15,
                    "metadata": {},
                    "output_type": "execute_result"
                }
            ],
            "source": [
                "perm = vcat(a...) |> x -> permutations(x, 2) |> collect |> hcat"
            ]
        },
        {
            "cell_type": "code",
            "execution_count": 16,
            "metadata": {},
            "outputs": [
                {
                    "data": {
                        "text/plain": [
                            "6"
                        ]
                    },
                    "execution_count": 16,
                    "metadata": {},
                    "output_type": "execute_result"
                }
            ],
            "source": [
                "perm |> size |> prod"
            ]
        },
        {
            "cell_type": "markdown",
            "metadata": {},
            "source": [
                "## Cartesian product\n"
            ]
        },
        {
            "cell_type": "markdown",
            "metadata": {},
            "source": [
                "The famous **Cartesian product** is defined mathematically as below.\n",
                "\n",
                "Two sets multiply each other, the result presents all the possible ordered paired, the first element from $A$, the second element from $B$.\n",
                "\n",
                "$$\n",
                "A × B = \\{(a, b)∣ a∈ A\\ {\\text{ and }}\\ b∈ B\\}\n",
                "$$\n"
            ]
        },
        {
            "cell_type": "code",
            "execution_count": 17,
            "metadata": {},
            "outputs": [
                {
                    "data": {
                        "text/plain": [
                            "3×2 Matrix{Tuple{Char, Char}}:\n",
                            " ('♢', '♧')  ('♢', '♡')\n",
                            " ('♧', '♧')  ('♧', '♡')\n",
                            " ('♡', '♧')  ('♡', '♡')"
                        ]
                    },
                    "execution_count": 17,
                    "metadata": {},
                    "output_type": "execute_result"
                }
            ],
            "source": [
                "product = a × b |> collect"
            ]
        },
        {
            "cell_type": "code",
            "execution_count": 18,
            "metadata": {},
            "outputs": [
                {
                    "data": {
                        "text/plain": [
                            "6"
                        ]
                    },
                    "execution_count": 18,
                    "metadata": {},
                    "output_type": "execute_result"
                }
            ],
            "source": [
                "product |> size |> prod"
            ]
        },
        {
            "cell_type": "markdown",
            "metadata": {},
            "source": [
                "# Events\n"
            ]
        },
        {
            "cell_type": "markdown",
            "metadata": {},
            "source": [
                "How is sets theory applied in probability ?\n",
                "\n",
                "Dice rolling problem never gets old. To answer the question: _what is the probability of rolling an odd number_? We will show how to answer the question with set operations.\n"
            ]
        },
        {
            "cell_type": "code",
            "execution_count": 19,
            "metadata": {},
            "outputs": [],
            "source": [
                "s1 = Set(1:6);\n",
                "s2 = Set(1:2:6);"
            ]
        },
        {
            "cell_type": "code",
            "execution_count": 20,
            "metadata": {},
            "outputs": [
                {
                    "name": "stdout",
                    "output_type": "stream",
                    "text": [
                        "0.5\n"
                    ]
                }
            ],
            "source": [
                "(length(s2) / length(s1)) |> println"
            ]
        },
        {
            "cell_type": "markdown",
            "metadata": {},
            "source": [
                "This is vastly intuitive, just the proportion of odd sides over all sides.\n"
            ]
        },
        {
            "cell_type": "markdown",
            "metadata": {},
            "source": [
                "# Two Dices Problem\n"
            ]
        },
        {
            "cell_type": "code",
            "execution_count": 21,
            "metadata": {},
            "outputs": [
                {
                    "data": {
                        "text/plain": [
                            "5-element Vector{Pair{Tuple{Int64, Int64}, Int64}}:\n",
                            " (4, 5) => 9\n",
                            " (1, 2) => 3\n",
                            " (3, 1) => 4\n",
                            " (2, 5) => 7\n",
                            " (6, 2) => 8"
                        ]
                    },
                    "execution_count": 21,
                    "metadata": {},
                    "output_type": "execute_result"
                }
            ],
            "source": [
                "dice = Set(1:6) × Set(1:6);\n",
                "dice_pair = Dict{Tuple{Int64,Int64},Int64}([]);\n",
                "\n",
                "for (i, j) ∈ dice\n",
                "    dice_pair[(i, j)] = (i + j)\n",
                "end\n",
                "\n",
                "dice_pair |> x -> first(x, 5)"
            ]
        },
        {
            "cell_type": "markdown",
            "metadata": {},
            "source": [
                "Use `DefaultDict` from `DataStructures` package, it creates a dictionary which doesn't report errors and suitable for counting.\n"
            ]
        },
        {
            "cell_type": "code",
            "execution_count": 22,
            "metadata": {},
            "outputs": [
                {
                    "data": {
                        "text/plain": [
                            "DefaultDict{Int64, Vector{Tuple{Int64, Int64}}, Vector{Any}} with 11 entries:\n",
                            "  5  => [(1, 4), (3, 2), (4, 1), (2, 3)]\n",
                            "  12 => [(6, 6)]\n",
                            "  8  => [(6, 2), (2, 6), (3, 5), (4, 4), (5, 3)]\n",
                            "  6  => [(3, 3), (1, 5), (4, 2), (5, 1), (2, 4)]\n",
                            "  11 => [(5, 6), (6, 5)]\n",
                            "  9  => [(4, 5), (6, 3), (3, 6), (5, 4)]\n",
                            "  3  => [(1, 2), (2, 1)]\n",
                            "  7  => [(2, 5), (3, 4), (1, 6), (4, 3), (5, 2), (6, 1)]\n",
                            "  4  => [(3, 1), (1, 3), (2, 2)]\n",
                            "  2  => [(1, 1)]\n",
                            "  10 => [(4, 6), (6, 4), (5, 5)]"
                        ]
                    },
                    "execution_count": 22,
                    "metadata": {},
                    "output_type": "execute_result"
                }
            ],
            "source": [
                "dice_count = DefaultDict{Int64,Vector{Tuple{Int64,Int64}}}([]);\n",
                "\n",
                "for (item, count) ∈ dice_pair\n",
                "    push!(dice_count[count], item)\n",
                "end\n",
                "\n",
                "dice_count"
            ]
        },
        {
            "cell_type": "markdown",
            "metadata": {},
            "source": [
                "Create another dictionary holding all sums of dice and corresponding probabilities.\n"
            ]
        },
        {
            "cell_type": "code",
            "execution_count": 23,
            "metadata": {},
            "outputs": [
                {
                    "data": {
                        "text/plain": [
                            "percent (generic function with 1 method)"
                        ]
                    },
                    "execution_count": 23,
                    "metadata": {},
                    "output_type": "execute_result"
                }
            ],
            "source": [
                "percent(x::Float64; d::Int64 = 2) = round(100x; digits = d)\n"
            ]
        },
        {
            "cell_type": "code",
            "execution_count": 24,
            "metadata": {},
            "outputs": [
                {
                    "data": {
                        "text/plain": [
                            "Dict{Int64, Float64} with 11 entries:\n",
                            "  5  => 11.11\n",
                            "  7  => 16.67\n",
                            "  12 => 2.78\n",
                            "  8  => 13.89\n",
                            "  4  => 8.33\n",
                            "  6  => 13.89\n",
                            "  11 => 5.56\n",
                            "  2  => 2.78\n",
                            "  10 => 8.33\n",
                            "  9  => 11.11\n",
                            "  3  => 5.56"
                        ]
                    },
                    "execution_count": 24,
                    "metadata": {},
                    "output_type": "execute_result"
                }
            ],
            "source": [
                "ratio(j) = (length(j) / 6^2) |> percent;\n",
                "Dict(i => ratio(j) for (i, j) ∈ dice_count)"
            ]
        },
        {
            "cell_type": "code",
            "execution_count": 25,
            "metadata": {},
            "outputs": [
                {
                    "name": "stdout",
                    "output_type": "stream",
                    "text": [
                        "The probability of 7 while rolling two dices is 16.67%\n"
                    ]
                }
            ],
            "source": [
                "function dice_prob(num::Int64)\n",
                "    dice = Set(1:6) × Set(1:6)\n",
                "    ocurrence = [sum(element) == num for element ∈ dice] |> sum\n",
                "    ratio = ocurrence / 6^2\n",
                "\n",
                "    println(\"The probability of $num while rolling two dices is $(ratio |> percent)%\")\n",
                "end\n",
                "\n",
                "dice_prob(7)\n"
            ]
        },
        {
            "cell_type": "code",
            "execution_count": 26,
            "metadata": {},
            "outputs": [
                {
                    "name": "stdout",
                    "output_type": "stream",
                    "text": [
                        "Monte Carlo Estimation:\n",
                        "The probability of 7 while rolling two dices is 16.7%\n"
                    ]
                }
            ],
            "source": [
                "function dice_prob_mc(num::Int64)\n",
                "    N = 10^6\n",
                "    dice = Set(1:6) × Set(1:6)\n",
                "    ocurrence = [sum(rand(dice |> collect)) == num for i ∈ 1:N] |> sum\n",
                "    ratio = ocurrence / N\n",
                "\n",
                "    println(\"Monte Carlo Estimation:\")\n",
                "    println(\"The probability of $num while rolling two dices is $(ratio |> percent)%\")\n",
                "end\n",
                "\n",
                "dice_prob_mc(7)\n"
            ]
        },
        {
            "cell_type": "markdown",
            "metadata": {},
            "source": [
                "# More about Sampling\n"
            ]
        },
        {
            "cell_type": "code",
            "execution_count": null,
            "metadata": {},
            "outputs": [],
            "source": []
        }
    ],
    "metadata": {
        "interpreter": {
            "hash": "6b77d822269bfde1846c4bdf7cfc9a81e99b3f1417911754135b190dc66b5164"
        },
        "kernelspec": {
            "display_name": "Julia 1.8.0",
            "language": "julia",
            "name": "julia-1.8"
        },
        "language_info": {
            "file_extension": ".jl",
            "mimetype": "application/julia",
            "name": "julia",
            "version": "1.8.2"
        },
        "orig_nbformat": 4
    },
    "nbformat": 4,
    "nbformat_minor": 2
}