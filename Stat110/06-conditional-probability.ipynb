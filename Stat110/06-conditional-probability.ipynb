{
    "cells": [
        {
            "cell_type": "markdown",
            "metadata": {},
            "source": [
                "# Conditional Probability\n"
            ]
        },
        {
            "cell_type": "code",
            "execution_count": 1,
            "metadata": {
                "ExecuteTime": {
                    "end_time": "2022-02-07T21:18:37.083000+08:00",
                    "start_time": "2022-02-07T13:18:20.486Z"
                }
            },
            "outputs": [],
            "source": [
                "using Combinatorics\n",
                "using Distributions\n",
                "using Random"
            ]
        },
        {
            "cell_type": "code",
            "execution_count": 2,
            "metadata": {
                "ExecuteTime": {
                    "end_time": "2022-02-07T21:18:37.853000+08:00",
                    "start_time": "2022-02-07T13:18:22.769Z"
                }
            },
            "outputs": [],
            "source": [
                "using DataFrames"
            ]
        },
        {
            "cell_type": "code",
            "execution_count": 3,
            "metadata": {
                "ExecuteTime": {
                    "end_time": "2022-02-07T21:18:41.196000+08:00",
                    "start_time": "2022-02-07T13:18:23.584Z"
                }
            },
            "outputs": [],
            "source": [
                "using CairoMakie"
            ]
        },
        {
            "cell_type": "markdown",
            "metadata": {},
            "source": [
                "The probability of A given B, so called **conditional probability**, defined as:\n",
                "\n",
                "$$\n",
                "\\begin{equation}\n",
                "\\frac{P(A∩ B)}{P(B)}=P(A|B)\n",
                "\\end{equation}\n",
                "$$\n",
                "\n",
                "It is best to be demonstrated by a joint probability table, which is essentially a discrete numeric form of 3D distribution.\n"
            ]
        },
        {
            "cell_type": "markdown",
            "metadata": {},
            "source": [
                "From conditional probability it is straightforward to deduct **multiplication law**, simply rearrange the formula\n",
                "\n",
                "$$\n",
                "P(A|B)P(B) = P(A ∩ B)\\\\\n",
                "P(B|A)P(A) = P(B ∩ A)\n",
                "$$\n"
            ]
        },
        {
            "cell_type": "markdown",
            "metadata": {},
            "source": [
                "Two events $A$ and $B$ are independent if\n",
                "\n",
                "$$\n",
                "P(A|B)=P(A)\\\\\n",
                "P(B|A)=P(B)\n",
                "$$\n",
                "\n",
                "Otherwise, the events are dependent.\n",
                "\n",
                "Then the **independent multiplication law** indicates\n",
                "\n",
                "$$\n",
                "P(A)P(B)=P(A∩ B)\\\\\n",
                "P(B)P(A)=P(B∩ A)\n",
                "$$\n"
            ]
        }
    ],
    "metadata": {
        "kernelspec": {
            "display_name": "Julia 1.8.0",
            "language": "julia",
            "name": "julia-1.8"
        },
        "language_info": {
            "file_extension": ".jl",
            "mimetype": "application/julia",
            "name": "julia",
            "version": "1.8.2"
        },
        "toc": {
            "base_numbering": 1,
            "nav_menu": {},
            "number_sections": true,
            "sideBar": true,
            "skip_h1_title": false,
            "title_cell": "Table of Contents",
            "title_sidebar": "Contents",
            "toc_cell": false,
            "toc_position": {},
            "toc_section_display": true,
            "toc_window_display": false
        },
        "varInspector": {
            "cols": {
                "lenName": 16,
                "lenType": 16,
                "lenVar": 40
            },
            "kernels_config": {
                "python": {
                    "delete_cmd_postfix": "",
                    "delete_cmd_prefix": "del ",
                    "library": "var_list.py",
                    "varRefreshCmd": "print(var_dic_list())"
                },
                "r": {
                    "delete_cmd_postfix": ") ",
                    "delete_cmd_prefix": "rm(",
                    "library": "var_list.r",
                    "varRefreshCmd": "cat(var_dic_list()) "
                }
            },
            "types_to_exclude": [
                "module",
                "function",
                "builtin_function_or_method",
                "instance",
                "_Feature"
            ],
            "window_display": false
        }
    },
    "nbformat": 4,
    "nbformat_minor": 2
}
