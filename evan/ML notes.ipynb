{
 "cells": [
  {
   "cell_type": "markdown",
   "id": "1bea0dc5",
   "metadata": {},
   "source": [
    "# Mechine learning temp notes & scratches"
   ]
  },
  {
   "cell_type": "code",
   "execution_count": null,
   "id": "0f73c604",
   "metadata": {},
   "outputs": [],
   "source": []
  },
  {
   "cell_type": "markdown",
   "id": "913ec2b9",
   "metadata": {},
   "source": [
    "### relation between poisson and chi-square dist."
   ]
  },
  {
   "cell_type": "markdown",
   "id": "d54bce2f",
   "metadata": {
    "variables": {
     "\\chi}_{2n": "<p><strong>SyntaxError</strong>: unexpected character after line continuation character (<ipython-input-1-1a5043904b4f>, line 1)</p>\n"
    }
   },
   "source": [
    "\n",
    "\n",
    "Q: Random variable $X \\sim {{\\chi}_{2n}}^2$ and $Y \\sim P(\\lambda)$. Prove that $P(X < 2\\lambda) = P(Y \\ge n)$.\n",
    "\n",
    "I have found that\n",
    "\n",
    "$P(X < 2\\lambda) = \\frac{\\int_{0}^{\\lambda} e^{-x}x^{n/2-1}dx}{\\int_{0}^{\\infty} e^{-x}x^{n/2-1}dx}$\n",
    "\n",
    "and\n",
    "\n",
    "$P(Y \\ge n) = \\frac{\\sum_{k=n}^{\\infty} \\frac{\\lambda^k}{k!}}{\\sum_{k=0}^{\\infty} \\frac{\\lambda^k}{k!}}$.\n",
    "\n",
    "But I'm still having difficulty equating the two probability.\n",
    "\n",
    "----\n",
    "\n",
    "A:Since $X \\sim \\chi_{2n}^{2}=\\Gamma(n,2)$, we have $P(X<2\\lambda)=\\displaystyle\\int_{0}^{2\\lambda}\\frac{1}{\\Gamma(n)2^n}x^{n-1}e^{-\\frac{x}{2}}dx$. Also, we have $P(Y\\geq n)=1-P(Y \\leq n-1)=1-\\displaystyle\\sum_{i=0}^{n-1}\\frac{e^{-\\lambda}\\lambda^i}{i!}$.\n",
    "\n",
    "Now differentiate both in terms of $\\lambda$. For the integral we obtain $\\displaystyle\\frac{2}{\\Gamma(n)2^n}(2\\lambda)^{n-1}e^{-\\lambda}=\\frac{\\lambda^{n-1}e^{-\\lambda}}{(n-1)!}$, and for the sum we obtain $\\displaystyle\\sum_{i=0}^{n-1}\\frac{e^{-\\lambda}\\lambda^i}{i!}-\\displaystyle\\sum_{i=1}^{n-1}\\frac{e^{-\\lambda}\\lambda^{i-1}}{(i-1)!}=\\frac{\\lambda^{n-1}e^{-\\lambda}}{(n-1)!}$.\n",
    "\n",
    "Since their derivative in terms of $\\lambda$ is same, they are at most different by a constant. Substituting $\\lambda = 0$ implies that both terms are zero, thus their values are same.\n"
   ]
  },
  {
   "cell_type": "code",
   "execution_count": null,
   "id": "529feed5",
   "metadata": {},
   "outputs": [],
   "source": []
  }
 ],
 "metadata": {
  "kernelspec": {
   "display_name": "Python [conda env:p39] *",
   "language": "python",
   "name": "conda-env-p39-py"
  },
  "language_info": {
   "codemirror_mode": {
    "name": "ipython",
    "version": 3
   },
   "file_extension": ".py",
   "mimetype": "text/x-python",
   "name": "python",
   "nbconvert_exporter": "python",
   "pygments_lexer": "ipython3",
   "version": "3.9.6"
  },
  "latex_envs": {
   "LaTeX_envs_menu_present": true,
   "autoclose": false,
   "autocomplete": true,
   "bibliofile": "biblio.bib",
   "cite_by": "apalike",
   "current_citInitial": 1,
   "eqLabelWithNumbers": true,
   "eqNumInitial": 1,
   "hotkeys": {
    "equation": "Ctrl-E",
    "itemize": "Ctrl-I"
   },
   "labels_anchors": false,
   "latex_user_defs": false,
   "report_style_numbering": false,
   "user_envs_cfg": false
  },
  "toc": {
   "base_numbering": 1,
   "nav_menu": {},
   "number_sections": true,
   "sideBar": true,
   "skip_h1_title": false,
   "title_cell": "Table of Contents",
   "title_sidebar": "Contents",
   "toc_cell": false,
   "toc_position": {},
   "toc_section_display": true,
   "toc_window_display": false
  },
  "varInspector": {
   "cols": {
    "lenName": 16,
    "lenType": 16,
    "lenVar": 40
   },
   "kernels_config": {
    "python": {
     "delete_cmd_postfix": "",
     "delete_cmd_prefix": "del ",
     "library": "var_list.py",
     "varRefreshCmd": "print(var_dic_list())"
    },
    "r": {
     "delete_cmd_postfix": ") ",
     "delete_cmd_prefix": "rm(",
     "library": "var_list.r",
     "varRefreshCmd": "cat(var_dic_list()) "
    }
   },
   "types_to_exclude": [
    "module",
    "function",
    "builtin_function_or_method",
    "instance",
    "_Feature"
   ],
   "window_display": false
  }
 },
 "nbformat": 4,
 "nbformat_minor": 5
}
