{
 "cells": [
  {
   "cell_type": "markdown",
   "id": "12cae11d",
   "metadata": {},
   "source": [
    "# [Top 50 matplotlib Visualizations – The Master Plots](https://www.machinelearningplus.com/plots/top-50-matplotlib-visualizations-the-master-plots-python/)\n",
    "\n",
    "**setup**\n",
    "\n",
    "Run this once before the plot’s code. The individual charts, however, may redefine its own aesthetics."
   ]
  },
  {
   "cell_type": "code",
   "execution_count": 1,
   "id": "dcbd8692",
   "metadata": {},
   "outputs": [],
   "source": [
    "#install brewer2mpl\n",
    "import numpy as np\n",
    "import pandas as pd\n",
    "import matplotlib as mpl\n",
    "import matplotlib.pyplot as plt\n",
    "import seaborn as sns\n",
    "\n",
    "import warnings;warnings.filterwarnings('ignore')"
   ]
  },
  {
   "cell_type": "code",
   "execution_count": 2,
   "id": "f7d4b2d8",
   "metadata": {},
   "outputs": [
    {
     "ename": "NameError",
     "evalue": "name 'large' is not defined",
     "output_type": "error",
     "traceback": [
      "\u001b[0;31m---------------------------------------------------------------------------\u001b[0m",
      "\u001b[0;31mNameError\u001b[0m                                 Traceback (most recent call last)",
      "\u001b[0;32m/var/folders/1q/m8l_wvxd5dl8kccgv4xrsxtr0000gn/T/ipykernel_14219/57341004.py\u001b[0m in \u001b[0;36m<module>\u001b[0;34m\u001b[0m\n\u001b[1;32m      1\u001b[0m \u001b[0marge\u001b[0m \u001b[0;34m=\u001b[0m \u001b[0;36m22\u001b[0m\u001b[0;34m;\u001b[0m \u001b[0mmed\u001b[0m \u001b[0;34m=\u001b[0m \u001b[0;36m16\u001b[0m\u001b[0;34m;\u001b[0m \u001b[0msmall\u001b[0m \u001b[0;34m=\u001b[0m \u001b[0;36m12\u001b[0m\u001b[0;34m\u001b[0m\u001b[0;34m\u001b[0m\u001b[0m\n\u001b[1;32m      2\u001b[0m \u001b[0;34m\u001b[0m\u001b[0m\n\u001b[0;32m----> 3\u001b[0;31m params = {'axes.titlesize': large,    # 设置子图上的标题字体\n\u001b[0m\u001b[1;32m      4\u001b[0m             \u001b[0;34m'legend.fontsize'\u001b[0m\u001b[0;34m:\u001b[0m \u001b[0mmed\u001b[0m\u001b[0;34m,\u001b[0m     \u001b[0;31m# 设置图例的字体\u001b[0m\u001b[0;34m\u001b[0m\u001b[0;34m\u001b[0m\u001b[0m\n\u001b[1;32m      5\u001b[0m             \u001b[0;34m'figure.figsize'\u001b[0m\u001b[0;34m:\u001b[0m \u001b[0;34m(\u001b[0m\u001b[0;36m16\u001b[0m\u001b[0;34m,\u001b[0m \u001b[0;36m10\u001b[0m\u001b[0;34m)\u001b[0m\u001b[0;34m,\u001b[0m \u001b[0;31m# 设置图像的画布\u001b[0m\u001b[0;34m\u001b[0m\u001b[0;34m\u001b[0m\u001b[0m\n",
      "\u001b[0;31mNameError\u001b[0m: name 'large' is not defined"
     ]
    }
   ],
   "source": [
    "arge = 22; med = 16; small = 12\n",
    "\n",
    "params = {'axes.titlesize': large,    # 设置子图上的标题字体\n",
    "            'legend.fontsize': med,     # 设置图例的字体\n",
    "            'figure.figsize': (16, 10), # 设置图像的画布\n",
    "           'axes.labelsize': med,      # 设置标签的字体\n",
    "            'xtick.labelsize': med,     # 设置x轴上的标尺的字体\n",
    "            'ytick.labelsize': med,     # 设置整个画布的标题字体\n",
    "          'figure.titlesize': large}  \n",
    "#plt.rcParams.update(params)           # 更新默认属性\n",
    "plt.style.use('seaborn-whitegrid')    # 设定整体风格\n",
    "sns.set_style(\"white\")                # 设定整体背景风格\n",
    "%matplotlib inline\n",
    "\n",
    "# Version\n",
    "print(mpl.__version__)\n",
    "print(sns.__version__) "
   ]
  },
  {
   "cell_type": "markdown",
   "id": "1c0344a1",
   "metadata": {},
   "source": [
    "## Corralation\n",
    "\n",
    "The plots under correlation is used to visualize the relationship between 2 or more variables. That is, how does one variable change with respect to another."
   ]
  },
  {
   "cell_type": "markdown",
   "id": "d32ffe87",
   "metadata": {},
   "source": [
    "### Scatter Plot\n",
    "\n",
    "Scatteplot is a classic and fundamental plot used to study the relationship between two variables. If you have multiple groups in your data you may want to visualise each group in a different color. In `matplotlib`, you can conveniently do this using `plt.scatterplot()`"
   ]
  },
  {
   "cell_type": "code",
   "execution_count": null,
   "id": "1da0ef7b",
   "metadata": {},
   "outputs": [],
   "source": [
    "#Import dataset\n",
    "midwest = pd.read_csv('../data/midwest_filter.csv')\n",
    "midwest.head()"
   ]
  },
  {
   "cell_type": "code",
   "execution_count": null,
   "id": "527e945d",
   "metadata": {},
   "outputs": [],
   "source": [
    "\n",
    "\n",
    "#Prepare Data\n",
    "#Create as many as there are unique midwest['Category']\n",
    "\n",
    "categories = np.unique(midwest['category'])\n",
    "colors = [plt.cm.tab10(i/float(len(categories)-1)) for i in range(len(categories))]\n",
    "\n",
    "#Draw Plot for Each Category\n",
    "plt.figure(figsize = (16,10),dpi = 80,facecolor='w',edgecolor='k')\n",
    "\n",
    "for i, category in enumerate(categories):\n",
    "    plt.scatter('area','poptotal',\n",
    "               data=midwest.loc[midwest.category==category,:],\n",
    "               s=20,c=np.array(colors[i]).reshape(1,-1),label=str(category))\n",
    "\n",
    "#Decorations\n",
    "plt.gca().set(xlim=(0.0, 0.1), ylim=(0, 90000),\n",
    "              xlabel='Area', ylabel='Population')\n",
    "plt.xticks(fontsize=12);plt.yticks(fontsize=12)\n",
    "plt.title(\"Scatterplot of Midwest Area vs Population\", fontsize=22)\n",
    "plt.legend(fontsize=12)\n",
    "plt.show()"
   ]
  },
  {
   "cell_type": "markdown",
   "id": "32bf682e",
   "metadata": {},
   "source": [
    "Notes: `colors[i] warning,use c=np.array(colors[i]).reshape(1,-1)`"
   ]
  },
  {
   "cell_type": "markdown",
   "id": "7cb1eef2",
   "metadata": {},
   "source": [
    "### Bubble plot with Encircling\n",
    "\n",
    "Sometimes you want to show a group of points within a boundary to emphasize their importance. In this example, you get the records from the dataframe that should be encircled and pass it to the `encircle()` described in the code below.\n",
    "\n",
    "For the `def encircle(x,y,an=None,**kw):`,check the question:[How do I encircle different data sets in scatter plot?](https://stackoverflow.com/questions/44575681/how-do-i-encircle-different-data-sets-in-scatter-plot)"
   ]
  },
  {
   "cell_type": "code",
   "execution_count": null,
   "id": "91ce1547",
   "metadata": {},
   "outputs": [],
   "source": [
    "from matplotlib import patches\n",
    "from scipy.spatial import ConvexHull\n",
    "import warnings; warnings.simplefilter('ignore')\n",
    "sns.set_style(\"white\")\n",
    "\n",
    "# Step 1: Prepare Data\n",
    "midwest = pd.read_csv('../data/midwest_filter.csv')\n",
    "\n",
    "# As many colors as there are unique midwest['category']\n",
    "categories = np.unique(midwest['category'])\n",
    "colors = [plt.cm.tab10(i/float(len(categories)-1)) for i in range(len(categories))]\n",
    "\n",
    "# Step 2: Draw Scatterplot with unique color for each category\n",
    "fig = plt.figure(figsize=(16, 10), dpi= 80, facecolor='w', edgecolor='k')    \n",
    "\n",
    "for i, category in enumerate(categories):\n",
    "    plt.scatter('area', 'poptotal', \n",
    "                data=midwest.loc[midwest.category==category, :], \n",
    "                s='dot_size', c=np.array(colors[i]).reshape(1,-1), \n",
    "                \n",
    "       ##colors[i] warning,use c=np.array(colors[i]).reshape(1,-1)\n",
    "                \n",
    "                label=str(category), edgecolors='black', linewidths=.5)\n",
    "\n",
    "    \n",
    "# Step 3: Encircling \n",
    "\n",
    "## https://stackoverflow.com/questions/44575681/how-do-i-encircle-different-data-sets-in-scatter-plot\n",
    "\n",
    "def encircle(x,y, ax=None, **kw):\n",
    "    if not ax: ax=plt.gca()\n",
    "    p = np.c_[x,y]\n",
    "    hull = ConvexHull(p)\n",
    "    poly = plt.Polygon(p[hull.vertices,:], **kw)\n",
    "    ax.add_patch(poly)\n",
    "\n",
    "# Select data to be encircled\n",
    "midwest_encircle_data = midwest.loc[midwest.state=='IN', :]                         \n",
    "\n",
    "# Draw polygon surrounding vertices    \n",
    "encircle(midwest_encircle_data.area, midwest_encircle_data.poptotal, ec=\"k\", fc=\"gold\", alpha=0.1)\n",
    "encircle(midwest_encircle_data.area, midwest_encircle_data.poptotal, ec=\"firebrick\", fc=\"none\", linewidth=1.5)\n",
    "\n",
    "# Step 4: Decorations\n",
    "plt.gca().set(xlim=(0.0, 0.1), ylim=(0, 90000),\n",
    "              xlabel='Area', ylabel='Population')\n",
    "\n",
    "plt.xticks(fontsize=12); plt.yticks(fontsize=12)\n",
    "plt.title(\"Bubble Plot with Encircling\", fontsize=22)\n",
    "plt.legend(fontsize=12)    \n",
    "plt.show()    "
   ]
  },
  {
   "cell_type": "markdown",
   "id": "fbb32530",
   "metadata": {},
   "source": [
    "### Scatter plot with linear regression line of best fit\n",
    "\n",
    "If you want to understand how two variables change with respect to each other, the line of best fit is the way to go.\n",
    "\n",
    "The below plot shows how the line of best fit differs amongst various groups in the data. \n",
    "\n",
    "To disable the groupings and to just draw one line-of-best-fit for the entire dataset, remove the `hue='cyl'` parameter from the `sns.lmplot()` call below.\n"
   ]
  },
  {
   "cell_type": "code",
   "execution_count": null,
   "id": "46a572e6",
   "metadata": {},
   "outputs": [],
   "source": [
    "#Import Data\n",
    "df = pd.read_csv('../data/mpg.csv')\n",
    "df.head(-10)"
   ]
  },
  {
   "cell_type": "code",
   "execution_count": null,
   "id": "720351cb",
   "metadata": {},
   "outputs": [],
   "source": [
    "df_select = df.loc[df.cyl.isin([4,8]), :]\n",
    "df_select.head(-10)"
   ]
  },
  {
   "cell_type": "code",
   "execution_count": null,
   "id": "aed811fc",
   "metadata": {},
   "outputs": [],
   "source": [
    "#Plot\n",
    "sns.set_style(\"white\")\n",
    "grid_obj= sns.lmplot(x=\"displ\",y=\"hwy\",hue=\"cyl\",data=df_select,\n",
    "                   height=7,aspect=1.6,robust=True,palette='tab10',\n",
    "                   scatter_kws=dict(s=60,linewidths=0.7,edgecolors='black'))\n",
    "\n",
    "#Decorations\n",
    "grid_obj.set(xlim=(0.5,7.5),ylim=(0.,50))\n",
    "plt.title(\"Scatterplot with line of best fit grouped by number of cylinders\",fontsize=20)\n",
    "plt.show()"
   ]
  },
  {
   "cell_type": "markdown",
   "id": "a3780a85",
   "metadata": {},
   "source": [
    "#### Each regression line in its own column\n",
    "\n",
    "Alternately, you can show the best fit line for each group in its own column. \n",
    "\n",
    "You can do this by setting the `col=groupingcolumn` parameter inside the `sns.lmplot()`."
   ]
  },
  {
   "cell_type": "code",
   "execution_count": null,
   "id": "b3e849ba",
   "metadata": {},
   "outputs": [],
   "source": [
    "#Import Data (mpg_ggplot2)\n",
    "# df = pd.read_csv('../data/mpg.csv')\n",
    "# df.head(-10)\n",
    "# df_select = df.loc[df.cyl.isin([4,8]), :]\n",
    "df_select.head(-10)"
   ]
  },
  {
   "cell_type": "code",
   "execution_count": null,
   "id": "f7b4d191",
   "metadata": {},
   "outputs": [],
   "source": [
    "# Each line in its own column\n",
    "sns.set_style(\"white\")\n",
    "\n",
    "grid_obj = sns.lmplot(x=\"displ\",y=\"hwy\",\n",
    "                      data=df_select,\n",
    "                      height=7,\n",
    "                      robust=True,\n",
    "                      palette='Set1',\n",
    "                      col='cyl',\n",
    "                      scatter_kws=dict(s=60,linewidths=0.7,edgecolors='black'))\n",
    "# Decorations             \n",
    "grid_obj.set(xlim=(0.5,7.5),ylim=(0,50))\n",
    "plt.show()"
   ]
  },
  {
   "cell_type": "markdown",
   "id": "6a480c2d",
   "metadata": {},
   "source": [
    "### Jittering with stripplot\n",
    "\n",
    "Often multiple datapoints have exactly the same X and Y values. \n",
    "\n",
    "As a result, multiple points get plotted over each other and hide. \n",
    "\n",
    "To avoid this, **jitter the points** slightly so you can visually see them. \n",
    "\n",
    "This is convenient to do using `seaborn’s stripplot()`."
   ]
  },
  {
   "cell_type": "code",
   "execution_count": null,
   "id": "1d7d1896",
   "metadata": {},
   "outputs": [],
   "source": [
    "#Import data\n",
    "# df.head()\n",
    "\n",
    "#Draw Stripplot\n",
    "_, ax = plt.subplots(figsize=(16,10),dpi=80)\n",
    "sns.stripplot(df.cty,df.hwy,\n",
    "              jitter=0.25,size=8,\n",
    "             ax=ax,linewidth=0.5)\n",
    "\n",
    "#Decorations\n",
    "plt.title('Use jittered plots to avoid overlapping of points', fontsize=22)\n",
    "plt.show()"
   ]
  },
  {
   "cell_type": "markdown",
   "id": "0e015ff8",
   "metadata": {},
   "source": [
    "### Count Plot\n",
    "\n",
    "Another option to avoid the problem of points overlap is:\n",
    "\n",
    "    the increase the size of the dot depending on how many points lie in that spot. \n",
    "    \n",
    " \n",
    "So, larger the size of the point more is the concentration of points around that."
   ]
  },
  {
   "cell_type": "code",
   "execution_count": null,
   "id": "002bc5d4",
   "metadata": {},
   "outputs": [],
   "source": [
    "#Import data mpg\n",
    "# df.head()\n",
    "# Prepare the data, filter the data we want:'hwy','cty'\n",
    "df_counts = df.groupby(['hwy','cty']).size().reset_index(name='counts')\n",
    "df_counts.head()"
   ]
  },
  {
   "cell_type": "code",
   "execution_count": null,
   "id": "03a6a181",
   "metadata": {},
   "outputs": [],
   "source": [
    "# df_counts.cty"
   ]
  },
  {
   "cell_type": "code",
   "execution_count": null,
   "id": "2f6862e6",
   "metadata": {},
   "outputs": [],
   "source": [
    "# df_counts.hwy"
   ]
  },
  {
   "cell_type": "code",
   "execution_count": null,
   "id": "4307ab3c",
   "metadata": {},
   "outputs": [],
   "source": [
    "# df_counts.counts"
   ]
  },
  {
   "cell_type": "code",
   "execution_count": null,
   "id": "d0bcca15",
   "metadata": {},
   "outputs": [],
   "source": [
    "df_counts = df.groupby(['hwy', 'cty']).size().reset_index(name='counts')\n",
    "\n",
    "# Draw Stripplot\n",
    "fig, ax = plt.subplots(figsize=(16,10), dpi= 80)    \n",
    "sns.stripplot(df_counts.cty, df_counts.hwy,\n",
    "              size=df_counts.counts*2,\n",
    "              ax=ax, s=15)\n",
    "\n",
    "# Decorations\n",
    "plt.title('Counts Plot - Size of circle is bigger as more points overlap', fontsize=22)\n",
    "plt.show()"
   ]
  },
  {
   "cell_type": "markdown",
   "id": "f7ee59f6",
   "metadata": {},
   "source": [
    "##### ?help: where is the bigger and smaller circles?\n",
    "\n",
    "this is the orignal plot:\n",
    "\n",
    "\n",
    "<img src=https://www.machinelearningplus.com/wp-content/uploads/2018/11/5_Counts_plot_Matplotlib-min.png>\n",
    "\n",
    "$\\mathit{So\\ what\\ should\\ I\\ do,\\ Ellie?~~~~~~~~~~~~(Up,2009)}$"
   ]
  },
  {
   "cell_type": "code",
   "execution_count": null,
   "id": "05cc8e75",
   "metadata": {},
   "outputs": [],
   "source": [
    "# # Import Data\n",
    "# df = pd.read_csv(\"https://raw.githubusercontent.com/selva86/datasets/master/mpg_ggplot2.csv\")\n",
    "# df_counts = df.groupby(['hwy', 'cty']).size().reset_index(name='counts')\n",
    "\n",
    "# # Draw Stripplot\n",
    "# fig, ax = plt.subplots(figsize=(16,10), dpi= 80)    \n",
    "# sns.stripplot(df_counts.cty, df_counts.hwy, size=df_counts.counts*2, ax=ax)\n",
    "\n",
    "# # Decorations\n",
    "# plt.title('Counts Plot - Size of circle is bigger as more points overlap', fontsize=22)\n",
    "# plt.show()"
   ]
  },
  {
   "cell_type": "markdown",
   "id": "593f39ff",
   "metadata": {},
   "source": [
    "### Marginal Histogram\n",
    "\n",
    "Marginal histograms have a histogram along the X and Y axis variables. \n",
    "\n",
    "This is used to visualize the relationship between the X and Y along with the univariate distribution of the X and the Y individually. \n",
    "\n",
    "This plot if often used in `exploratory data analysis (EDA)`.\n"
   ]
  },
  {
   "cell_type": "code",
   "execution_count": null,
   "id": "6e54beaf",
   "metadata": {},
   "outputs": [],
   "source": [
    "#Import Data\n",
    "# df.head()\n",
    "\n",
    "#Create Fig and gridspec\n",
    "fig = plt.figure(figsize=(16,10),dpi=80)\n",
    "grid = plt.GridSpec(4,4,hspace=0.5,wspace=0.2)\n",
    "\n",
    "# Define the axes\n",
    "ax_main = fig.add_subplot(grid[:-1, :-1])\n",
    "ax_right = fig.add_subplot(grid[:-1, -1], xticklabels=[], yticklabels=[])\n",
    "ax_bottom = fig.add_subplot(grid[-1, 0:-1], xticklabels=[], yticklabels=[])\n",
    "\n",
    "# Scatterplot on main ax\n",
    "ax_main.scatter('displ', 'hwy',\n",
    "                s=df.cty*4, c=df.manufacturer.astype('category').cat.codes, \n",
    "                alpha=.7, data=df, cmap=\"tab10\", \n",
    "                edgecolors='gray', linewidths=.5)\n",
    "\n",
    "# Histogram on the right\n",
    "ax_bottom.hist(df.displ, 50, histtype='stepfilled',\n",
    "               orientation='vertical', color='deeppink')\n",
    "ax_bottom.invert_yaxis()\n",
    "\n",
    "#Histogram in the bottom\n",
    "ax_right.hist(df.hwy,40,histtype='stepfilled',\n",
    "              orientation='horizontal',color='deeppink')\n",
    "ax_bottom.invert_yaxis()\n",
    "\n",
    "#Decorations\n",
    "\n",
    "ax_main.set(title='Scatterplot with Histograms \\n displ vs hwy',\n",
    "            xlabel='displ',ylabel='hwy')\n",
    "ax_main.title.set_fontsize(20)\n",
    "\n",
    "for item in ([ax_main.xaxis.label,ax_main.yaxis.label]\n",
    "             +ax_main.get_xticklabels()+ax_main.get_yticklabels()):\n",
    "    item.set_fontsize(20)\n",
    "    \n",
    "xlabels = ax_main.get_xticks().tolist()\n",
    "ax_main.set_xticklabels(xlabels)\n",
    "plt.show()\n"
   ]
  },
  {
   "cell_type": "markdown",
   "id": "a6ca5891",
   "metadata": {},
   "source": [
    "### Marginal Boxplot\n",
    "\n",
    "Marginal boxplot serves a similar purpose as marginal histogram. \n",
    "\n",
    "However, the boxplot helps to pinpoint the median, 25th and 75th percentiles of the X and the Y."
   ]
  },
  {
   "cell_type": "code",
   "execution_count": null,
   "id": "748eaa43",
   "metadata": {},
   "outputs": [],
   "source": [
    "# Import Data:mpg_ggplot2.csv\n",
    "# df.head()\n",
    "\n",
    "#Create Fig and Gridspec\n",
    "fig = plt.figure(figsize=(16,10),dpi=80)\n",
    "grid = plt.GridSpec(4,4,hspace=0.5,wspace=0.2)\n",
    "\n",
    "# Define the axes\n",
    "ax_main =fig.add_subplot(grid[:-1,:-1])\n",
    "ax_right =fig.add_subplot(grid[:-1,-1],xticklabels=[],yticklabels=[])\n",
    "ax_bottom =fig.add_subplot(grid[-1,0:-1],xticklabels=[],yticklabels=[])\n",
    "\n",
    "# Scatterplot on the main ax\n",
    "ax_main.scatter('displ','hwy',\n",
    "               s=df.cty*5,c=df.manufacturer.astype('category').cat.codes,\n",
    "               alpha=0.9,data=df,cmap=\"Set1\",edgecolors='black',linewidths=0.5)\n",
    "\n",
    "# Add a graph in each part\n",
    "sns.boxplot(df.hwy, ax=ax_right, orient=\"v\")\n",
    "sns.boxplot(df.displ, ax=ax_bottom, orient=\"v\")\n",
    "\n",
    "# Decorations\n",
    "# Remove x axis name for the boxplot\n",
    "ax_bottom.set(xlabel='')\n",
    "ax_right.set(ylabel='')\n",
    "\n",
    "# Main Title,Xlabel and Ylabel\n",
    "ax_main.set(title='Scatterplot with Histograms \\n displ vs hwy',\n",
    "           xlabel='displ',ylabel='hwy')\n",
    "\n",
    "# Set font size of different components\n",
    "ax_main.title.set_fontsize(20)\n",
    "for item in ([ax_main.xaxis.label,ax_main.yaxis.label]\n",
    "            +ax_main.get_xticklabels()+ax_main.get_yticklabels()):\n",
    "    item.set_fontsize(14)\n",
    "\n",
    "plt.show()"
   ]
  },
  {
   "cell_type": "markdown",
   "id": "d7ed7be1",
   "metadata": {},
   "source": [
    "### Correllogram\n",
    "\n",
    "Correlogram is used to visually see the correlation metric between all possible pairs of numeric variables in a given dataframe (or 2D array)."
   ]
  },
  {
   "cell_type": "code",
   "execution_count": null,
   "id": "e024d146",
   "metadata": {
    "scrolled": true
   },
   "outputs": [],
   "source": [
    "# Correlogram of mtcars\n",
    "# Import data mpg\n",
    "df = pd.read_csv('../data/mtcars.csv')\n",
    "# df.head()\n",
    "\n",
    "# Plot\n",
    "plt.figure(figsize=(12,10),dpi=80)\n",
    "sns.heatmap(df.corr(),xticklabels=df.corr().columns,\n",
    "            yticklabels=df.corr().columns,cmap=\"RdYlGn\",\n",
    "            center=0,annot=True)\n",
    "\n",
    "# Decorations\n",
    "plt.title('Correlogram of mtcars', fontsize=22)\n",
    "plt.xticks(fontsize=12)\n",
    "plt.yticks(fontsize=12)\n",
    "plt.show()"
   ]
  },
  {
   "cell_type": "markdown",
   "id": "ae227bb1",
   "metadata": {},
   "source": [
    "### Pairwise Plot\n",
    "\n",
    "Pairwise plot is a favorite in exploratory analysis to understand the relationship between all possible pairs of numeric variables.\n",
    "\n",
    "It is a **must have tool for bivariate analysis**."
   ]
  },
  {
   "cell_type": "code",
   "execution_count": null,
   "id": "ab2fbffb",
   "metadata": {},
   "outputs": [],
   "source": [
    "# Load dataset\n",
    "df = sns.load_dataset('iris')\n",
    "\n",
    "# Plot\n",
    "plt.figure(figsize=(10,8),dpi=80)\n",
    "sns.pairplot(df, kind=\"scatter\", hue=\"species\", \n",
    "             plot_kws=dict(s=80, edgecolor=\"white\", linewidth=2.5))\n",
    "plt.show()"
   ]
  },
  {
   "cell_type": "code",
   "execution_count": null,
   "id": "072dddf6",
   "metadata": {},
   "outputs": [],
   "source": [
    "plt.figure(figsize=(10,8),dpi=80)\n",
    "sns.pairplot(df,kind='reg',hue='species')\n",
    "plt.show()"
   ]
  },
  {
   "cell_type": "markdown",
   "id": "f7bd3309",
   "metadata": {},
   "source": [
    "Deviation\n",
    "### Diverging Bars\n",
    "\n",
    "If you want to see how the items are varying based on a single metric and visualize the order and amount of this variance, the diverging bars is a great tool. \n",
    "\n",
    "It helps to quickly differentiate the performance of groups in your data and is quite intuitive and instantly conveys the point."
   ]
  },
  {
   "cell_type": "code",
   "execution_count": null,
   "id": "0fb449f7",
   "metadata": {},
   "outputs": [],
   "source": [
    "# Prepare Data mtcars\n",
    "df = pd.read_csv('../data/mtcars.csv')\n",
    "# df.head()\n",
    "x = df.loc[:, ['mpg']]\n",
    "# x.head()\n",
    "df['mpg_z'] = (x - x.mean())/x.std()\n",
    "\n",
    "# classify\n",
    "df['colors'] = ['red' if x < 0 else 'green' for x in df['mpg_z']]\n",
    "df.sort_values('mpg_z',inplace=True)\n",
    "\n",
    "df.reset_index(inplace=True)\n",
    "df.head()"
   ]
  },
  {
   "cell_type": "code",
   "execution_count": null,
   "id": "6731c998",
   "metadata": {},
   "outputs": [],
   "source": [
    "# Draw plot\n",
    "plt.figure(figsize=(14,10),dpi=80)\n",
    "plt.hlines(y=df.index, xmin=0, xmax=df.mpg_z,colors=df.colors,\n",
    "          alpha=0.4,linewidth=5)\n",
    "\n",
    "# Decorations\n",
    "plt.gca().set(ylabel='$Model$',xlabel='$Mileage$')\n",
    "plt.yticks(df.index,df.cars,fontsize=16)\n",
    "plt.title('Diverging Bars of Car Mileage',fontdict={'size':20})\n",
    "plt.grid(linestyle='--',alpha=0.5)\n",
    "# plt.show()"
   ]
  },
  {
   "cell_type": "markdown",
   "id": "cf9ca190",
   "metadata": {},
   "source": [
    "### Diverging Texts\n",
    "\n",
    "Diverging texts is similar to diverging bars and it preferred if you want to show the value of each items within the chart in a nice and presentable way."
   ]
  },
  {
   "cell_type": "code",
   "execution_count": null,
   "id": "057de560",
   "metadata": {},
   "outputs": [],
   "source": [
    "# Prepare data mtcars\n",
    "# df.head()\n",
    "x = df.loc[:,['mpg']]\n",
    "df['mpg_z'] = (x - x.mean())/x.std()\n",
    "\n",
    "df['colors'] = ['red' if x < 0 else 'green' for x in df['mpg_z']]\n",
    "\n",
    "df.sort_values('mpg_z',inplace=True)\n",
    "df.reset_index(inplace=True)\n",
    "\n",
    "# Draw Plot\n",
    "plt.figure(figsize=(14,14),dpi=80)\n",
    "plt.hlines(y=df.index, xmin=0,xmax=df.mpg_z)\n",
    "\n",
    "for x,y,tex in zip(df.mpg_z,df.index,df.mpg_z):\n",
    "    t = plt.text(x,y,round(tex,2),\n",
    "                 horizontalalignment='right' if x <0 else 'left',\n",
    "                 verticalalignment='center',\n",
    "                 fontdict={'color':'red' if x <0 else 'green','size':14})\n",
    "    \n",
    "# Decorations\n",
    "plt.yticks(df.index, df.cars,fontsize=12)\n",
    "plt.title('Diverging Text Bars of Car Mileage',fontdict={'size':20})\n",
    "plt.grid(linestyle='--',alpha=0.7)\n",
    "plt.xlim(-2.5,2.5)\n",
    "# plt.show()"
   ]
  },
  {
   "cell_type": "markdown",
   "id": "74f2ca83",
   "metadata": {},
   "source": [
    "### Diverging Dot Plot\n",
    "\n",
    "Divering dot plot is also similar to the diverging bars.\n",
    "\n",
    "However compared to diverging bars, the absence of bars reduces the amount of contrast and disparity between the groups."
   ]
  },
  {
   "cell_type": "code",
   "execution_count": null,
   "id": "17dd3db6",
   "metadata": {},
   "outputs": [],
   "source": [
    "# Prepare Data mtcars\n",
    "df = pd.read_csv('../data/mtcars.csv')\n",
    "# df.head()\n",
    "x = df.loc[:, ['mpg']]\n",
    "\n",
    "df['mpg_z'] = (x-x.mean())/x.std()\n",
    "df['colors'] = ['red' if x < 0 else 'darkgreen' for x in df['mpg_z']]\n",
    "df.sort_values('mpg_z',inplace=True)\n",
    "df.reset_index(inplace=True)\n",
    "\n",
    "# Draw Plot\n",
    "plt.figure(figsize=(14,16),dpi=80)\n",
    "plt.scatter(df.mpg_z,df.index,s=450,alpha=0.6,color=df.colors)\n",
    "\n",
    "for x,y,tex in zip(df.mpg_z,df.index,df.mpg_z):\n",
    "    t = plt.text(x,y,round(tex,1),horizontalalignment= 'center',\n",
    "                verticalalignment = 'center',fontdict={'color':'white'})\n",
    "# you can run the code here.\n",
    "\n",
    "# Decorations\n",
    "# lighten borders\n",
    "\n",
    "ax = plt.gca()\n",
    "ax.spines[\"top\"].set_alpha(0.3)\n",
    "ax.spines[\"bottom\"].set_alpha(0.6)\n",
    "ax.spines[\"right\"].set_alpha(0.1)\n",
    "ax.spines[\"left\"].set_alpha(0.3)\n",
    "\n",
    "plt.yticks(df.index,df.cars)\n",
    "plt.title('Diverging Dotplot of Car Mileage',fontdict={'size':20})\n",
    "plt.xlabel('$Mileage$')\n",
    "plt.grid(linestyle='--',alpha=0.5)\n",
    "plt.xlim=(-2.5,2.5)\n",
    "plt.show()"
   ]
  },
  {
   "cell_type": "markdown",
   "id": "dfb37639",
   "metadata": {},
   "source": [
    "### Diverging Lollipop Chart with Markers\n",
    "\n",
    "Lollipop with markers provides a flexible way of visualizing the divergence by laying emphasis on any significant datapoints you want to bring attention to and give reasoning within the chart appropriately."
   ]
  },
  {
   "cell_type": "code",
   "execution_count": null,
   "id": "32d3e5d7",
   "metadata": {},
   "outputs": [],
   "source": [
    "df.head()"
   ]
  },
  {
   "cell_type": "code",
   "execution_count": null,
   "id": "5123c789",
   "metadata": {},
   "outputs": [],
   "source": [
    "# Prepare Data mtcars\n",
    "# df.head()\n",
    "x = df.loc[:, ['mpg']]\n",
    "df['mpg_z'] = (x - x.mean())/x.std()\n",
    "df['colors'] = 'black'\n",
    "\n",
    "# color fiat differently\n",
    "df.loc[df.cars == 'Fiat X1-9', 'colors'] = 'darkorange'\n",
    "df.sort_values('mpg_z', inplace=True)\n",
    "# df.reset_index(inplace=True)\n",
    "\n",
    "\n",
    "# Draw plot\n",
    "import matplotlib.patches as patches\n",
    "\n",
    "plt.figure(figsize=(14,16), dpi= 80)\n",
    "plt.hlines(y=df.index, xmin=0, xmax=df.mpg_z, color=df.colors, alpha=0.4, linewidth=1)\n",
    "plt.scatter(df.mpg_z, df.index, color=df.colors, s=[600 if x == 'Fiat X1-9' else 300 for x in df.cars], alpha=0.6)\n",
    "plt.yticks(df.index, df.cars)\n",
    "plt.xticks(fontsize=12)\n",
    "\n",
    "# Annotate\n",
    "plt.annotate('Mercedes Models',xy=(0.0,11.0),xytext=(1.0,11),xycoords='data',\n",
    "             fontsize=15,ha='center',va='center',\n",
    "             bbox=dict(boxstyle='square',fc='firebrick'),\n",
    "             arrowprops=dict(arrowstyle='-[, widthB=2.0, lengthB=1.5',\n",
    "                             lw=2.0,color='steelblue'),color='white')\n",
    "\n",
    "\n",
    "# Add Patches\n",
    "p1 = patches.Rectangle((-2.0,-1),width=0.3,height=3,alpha=0.2,facecolor='red')\n",
    "p2 = patches.Rectangle((1.5,27),width=0.8,height=5,alpha=0.2,facecolor='green')\n",
    "plt.gca().add_patch(p1)\n",
    "plt.gca().add_patch(p2)\n",
    "\n",
    "# Decoration\n",
    "plt.title('Diverging Bars of Car Mileage',fontdict={'size':20})\n",
    "plt.grid(linestyle='--',alpha=0.5)"
   ]
  },
  {
   "cell_type": "markdown",
   "id": "ff8bc594",
   "metadata": {},
   "source": [
    "### Area Chart\n",
    "\n",
    "By coloring the area between the axis and the lines, the area chart throws more emphasis not just on the peaks and troughs but also the duration of the highs and lows. The longer the duration of the highs, the larger is the area under the line."
   ]
  },
  {
   "cell_type": "code",
   "execution_count": null,
   "id": "c42525b2",
   "metadata": {},
   "outputs": [],
   "source": [
    "# Prepare Data and np pd\n",
    "df = pd.read_csv('../data/economics.csv')\n",
    "# df.head()\n",
    "\n",
    "x = np.arange(df.shape[0])  # 创造一个和数据相同长度的序列\n",
    "y_returns = (df.psavert.diff().fillna(0)/df.psavert.shift(1)).fillna(0) * 100\n",
    "# y_returns 获取所需要的数据\n",
    "\n",
    "\n",
    "# Plot\n",
    "plt.figure(figsize=(16,10), dpi= 80)\n",
    "plt.fill_between(x[1:], y_returns[1:], 0, \n",
    "                 where=y_returns[1:] >= 0, facecolor='green',\n",
    "                 interpolate=True, alpha=0.7)\n",
    "plt.fill_between(x[1:], y_returns[1:], 0, \n",
    "                 where=y_returns[1:] <= 0, facecolor='red',\n",
    "                 interpolate=True, alpha=0.7)\n",
    "\n",
    "# Annotate\n",
    "plt.annotate('Peak \\n1975', xy=(94.0, 21.0), xytext=(88.0, 28),\n",
    "             bbox=dict(boxstyle='square', fc='firebrick'),\n",
    "             arrowprops=dict(facecolor='steelblue', shrink=0.05), \n",
    "             fontsize=15, color='white')\n",
    "\n",
    "# Date transfer\n",
    "df['date'] = pd.to_datetime(df['date'])\n",
    "df['year'] = df['date'].dt.year\n",
    "df['month'] = df['date'].dt.month_name()\n",
    "\n",
    "# Decorations\n",
    "xtickvals = [str(m)[:3].upper()+\"-\"+str(y) for y,m in zip(df.year,df.month)]\n",
    "\n",
    "plt.gca().set_xticks(x[::6])\n",
    "plt.gca().set_xticklabels(xtickvals[::6], rotation=90,\n",
    "                          fontdict={'horizontalalignment': 'center', \n",
    "                                    'verticalalignment': 'center_baseline'})\n",
    "\n",
    "plt.ylim(-35,35)\n",
    "plt.xlim(1,100)\n",
    "plt.title(\"Month Economics Return %\", fontsize=22)\n",
    "plt.ylabel('Monthly returns %')\n",
    "plt.grid(alpha=0.5)"
   ]
  },
  {
   "cell_type": "markdown",
   "id": "2ccea2e9",
   "metadata": {},
   "source": [
    "Sine the original date type is not feasible in the code, I handled the date in the code(date transfer)"
   ]
  },
  {
   "cell_type": "markdown",
   "id": "6bbd5efb",
   "metadata": {},
   "source": [
    "Ranking\n",
    "\n",
    "### Ordered Bar Chart\n",
    "\n",
    "Ordered bar chart conveys the rank order of the items effectively. \n",
    "\n",
    "But adding the value of the metric above the chart, the user gets the precise information from the chart itself."
   ]
  },
  {
   "cell_type": "code",
   "execution_count": null,
   "id": "017974f1",
   "metadata": {},
   "outputs": [],
   "source": [
    "# Prepare Data\n",
    "df_raw = pd.read_csv('../data/mpg.csv')\n",
    "# df_raw.head()\n",
    "df = df_raw[['cty','manufacturer']].groupby('manufacturer').apply(lambda x:x.mean())\n",
    "df.sort_values('cty',inplace=True)\n",
    "df.reset_index(inplace=True)\n",
    "# df.head()\n",
    "\n",
    "# Draw Plot\n",
    "import matplotlib.patches as patches\n",
    "\n",
    "_, ax = plt.subplots(figsize=(16,10),facecolor='white',dpi=80)\n",
    "ax.vlines(x=df.index,ymin=0,ymax=df.cty,color='firebrick',\n",
    "         alpha=0.7,linewidth=20)\n",
    "\n",
    "# Annotate Text\n",
    "for i,cty in enumerate(df.cty):\n",
    "    ax.text(i,cty+0.5,round(cty,1),horizontalalignment='center')\n",
    "    \n",
    "# Title,Label,Ticks,and Ylim\n",
    "ax.set_title('Bar Chart for Highway Mileage',fontdict={'size':22})\n",
    "ax.set(ylabel='Miles Per Gallon',ylim=(0,30))\n",
    "plt.xticks(df.index,df.manufacturer.str.upper(),rotation=60,\n",
    "          horizontalalignment='right',fontsize=12)\n",
    "\n",
    "# Add Patches to color the X axis labels\n",
    "p1 =patches.Rectangle((0.57,-0.05),\n",
    "                      width=0.33,height=0.13,alpha=0.13,\n",
    "                     facecolor='green',transform=_.transFigure)\n",
    "p2 =patches.Rectangle((0.124,-0.05),\n",
    "                      width=0.446,height=0.13,alpha=0.13,\n",
    "                     facecolor='red',transform=_.transFigure)\n",
    "_.add_artist(p1)\n",
    "_.add_artist(p2)"
   ]
  },
  {
   "cell_type": "markdown",
   "id": "73fb1ea1",
   "metadata": {},
   "source": [
    "### Lollipop Chart\n",
    "\n",
    "Lollipop chart serves a similar purpose as a ordered bar chart in a visually pleasing way."
   ]
  },
  {
   "cell_type": "code",
   "execution_count": null,
   "id": "df677da6",
   "metadata": {},
   "outputs": [],
   "source": [
    "# Prepare Data\n",
    "# df_raw = pd.read_csv('../data/mpg.csv')\n",
    "# # df_raw.head()\n",
    "# df = df_raw[['cty','manufacturer']].groupby('manufacturer').apply(lambda x:x.mean())\n",
    "# df.sort_values('cty',inplace=True)\n",
    "# df.reset_index(inplace=True)\n",
    "df.head()\n",
    "\n",
    "# Draw Plot\n",
    "_, ax = plt.subplots(figsize=(16,10),dpi=80)\n",
    "ax.vlines(x=df.index,ymin=0,ymax=df.cty,color='firebrick',\n",
    "         alpha=0.7,linewidth=2)\n",
    "ax.scatter(x=df.index,y=df.cty,s=75,\n",
    "          color='firebrick',alpha=0.7)\n",
    "\n",
    "# Title,Label,Ticks,and Ylim\n",
    "ax.set_title('Bar Chart for Highway Mileage',fontdict={'size':22})\n",
    "ax.set(ylabel='Miles Per Gallon',ylim=(0,30))\n",
    "\n",
    "ax.set_xticks(df.index)\n",
    "ax.set_xticklabels(df.manufacturer.str.upper(),rotation=60,\n",
    "                   fontdict={'horizontalalignment':'right','size':12})\n",
    "\n",
    "# # Annotate\n",
    "for row in df.itertuples():\n",
    "    ax.text(row.Index, row.cty+.5, s=round(row.cty, 2), \n",
    "            horizontalalignment= 'center', verticalalignment='bottom', fontsize=14)"
   ]
  },
  {
   "cell_type": "code",
   "execution_count": null,
   "id": "11155abf",
   "metadata": {},
   "outputs": [],
   "source": [
    "# you should notice that:\n",
    "df.itertuples"
   ]
  },
  {
   "cell_type": "code",
   "execution_count": null,
   "id": "39223877",
   "metadata": {},
   "outputs": [],
   "source": [
    "df.iteritems"
   ]
  },
  {
   "cell_type": "code",
   "execution_count": null,
   "id": "d5d3d6d0",
   "metadata": {},
   "outputs": [],
   "source": [
    "df.iterrows"
   ]
  },
  {
   "cell_type": "markdown",
   "id": "f5ef96d0",
   "metadata": {},
   "source": [
    "### Dot Plot\n",
    "\n",
    "The dot plot conveys the rank order of the items. \n",
    "\n",
    "And since it is aligned along the horizontal axis, you can visualize how far the points are from each other more easily."
   ]
  },
  {
   "cell_type": "code",
   "execution_count": null,
   "id": "0c1621bb",
   "metadata": {},
   "outputs": [],
   "source": [
    "# Prepare Data\n",
    "# df_raw = pd.read_csv('../data/mpg.csv')\n",
    "# # df_raw.head()\n",
    "# df = df_raw[['cty','manufacturer']].groupby('manufacturer').apply(lambda x:x.mean())\n",
    "# df.sort_values('cty',inplace=True)\n",
    "# df.reset_index(inplace=True)\n",
    "\n",
    "# Draw Plot\n",
    "_, ax = plt.subplots(figsize=(16,10),dpi=80)\n",
    "ax.hlines(y=df.index,xmin=11,xmax=26,color='grey',\n",
    "         alpha=0.7,linewidth=1,linestyles='dashdot')\n",
    "\n",
    "ax.scatter(y=df.index,x=df.cty,s=75,\n",
    "          color='firebrick',alpha=0.7)\n",
    "\n",
    "# Title,Label,Ticks,and Ylim\n",
    "ax.set_title('Dot Plot for Highway Mileage',fontdict={'size':22})\n",
    "ax.set(xlabel='Miles Per Gallon',xlim=(10,27))\n",
    "\n",
    "ax.set_yticks(df.index)\n",
    "ax.set_yticklabels(df.manufacturer.str.title(),\n",
    "                   fontdict={'horizontalalignment':'right'})\n",
    "plt.show()"
   ]
  },
  {
   "cell_type": "markdown",
   "id": "3b7788d3",
   "metadata": {},
   "source": [
    "### Slope Chart\n",
    "\n",
    "Slope chart is most suitable for comparing the ‘Before’ and ‘After’ positions of a given person/item."
   ]
  },
  {
   "cell_type": "code",
   "execution_count": null,
   "id": "800e07e3",
   "metadata": {},
   "outputs": [],
   "source": [
    "import matplotlib.lines as mlines\n",
    "\n",
    "# Import Data\n",
    "df = pd.read_csv(\"../data/gdp_per_cap.csv\")\n",
    "# df.head()\n",
    "\n",
    "left_label = [str(c) + ', ' + str(round(y)) for c, y in zip(df.continent,df['1952'])]\n",
    "right_label = [str(c) + ', ' + str(round(y)) for c, y in zip(df.continent,df['1957'])] \n",
    "klass = ['red' if (y1-y2) < 0 else 'green' for y1, y2 in zip(df['1952'],df['1957'])]\n",
    "# interesting definition : klass instead of \"class\",in case of the naming conflicts"
   ]
  },
  {
   "cell_type": "code",
   "execution_count": null,
   "id": "c9c80d97",
   "metadata": {},
   "outputs": [],
   "source": [
    "# draw line\n",
    "# https://stackoverflow.com/questions/36470343/how-to-draw-a-line-with-matplotlib/36479941\n",
    "def newline(p1,p2,color='black'):\n",
    "    ax = plt.gca()\n",
    "    l = mlines.Line2D([p1[0],p2[0]],[p1[1],p2[1]],\n",
    "                      color='red' if p1[1] - p2[1]>0 else 'green',\n",
    "                     marker='o',markersize=6)\n",
    "    ax.add_line(l)\n",
    "    return l\n",
    "\n",
    "_,ax = plt.subplots(1,1,figsize=(14,14),dpi=80)\n",
    "\n",
    "# Vertical Lines(dotted both sides)\n",
    "ax.vlines(x=1,ymin=500,ymax=13000,color='black',alpha=0.7,\n",
    "          linewidth=1,linestyles='dotted')\n",
    "ax.vlines(x=3,ymin=500,ymax=13000,color='black',alpha=0.7,\n",
    "          linewidth=1,linestyles='dotted')\n",
    "\n",
    "\n",
    "# Points\n",
    "ax.scatter(y=df['1952'],x=np.repeat(1,df.shape[0]),\n",
    "            s=10,color='black',alpha=0.7)\n",
    "ax.scatter(y=df['1957'],x=np.repeat(3,df.shape[0]),\n",
    "            s=10,color='black',alpha=0.7)\n",
    "\n",
    "# Line Segmented Annotation\n",
    "\n",
    "for p1,p2,c in zip(df['1952'],df['1957'],df['continent']):\n",
    "    newline([1,p1],[3,p2])\n",
    "    ax.text(1-0.05, p1, c + ', ' + str(round(p1)), horizontalalignment='right', \n",
    "            verticalalignment='center', fontdict={'size':14})\n",
    "    ax.text(3+0.05, p2, c + ', ' + str(round(p2)), horizontalalignment='left',\n",
    "            verticalalignment='center', fontdict={'size':14})\n",
    "\n",
    "# 'Before' and 'After' Annotations\n",
    "ax.text(1-0.05, 13000,'BEFORE',horizontalalignment='right',\n",
    "       verticalalignment='center',fontdict={'size':18,'weight':700})\n",
    "ax.text(3+0.05, 13000,'AFTER',horizontalalignment='left',\n",
    "       verticalalignment='center',fontdict={'size':18,'weight':700})\n",
    "\n",
    "# Decoration\n",
    "ax.set_title(\"SlopechartL Comparing GDP Per Capita between 1952 vs 1957\",\n",
    "             fontdict={'size':22})\n",
    "ax.set(xlim=(0,4),ylim=(0,14000),ylabel='Mean GDP Per Capita')\n",
    "ax.set_xticks([1,3])\n",
    "ax.set_xticklabels([\"1952\",\"1957\"])\n",
    "plt.yticks(np.arange(500,13000,2000),fontsize=12)\n",
    "\n",
    "# Lighten Borders\n",
    "plt.gca().spines[\"top\"].set_alpha(.0)\n",
    "plt.gca().spines[\"bottom\"].set_alpha(.0)\n",
    "plt.gca().spines[\"right\"].set_alpha(.0)\n",
    "plt.gca().spines[\"left\"].set_alpha(.0)\n",
    "# plt.show()"
   ]
  },
  {
   "cell_type": "markdown",
   "id": "8ce20c6b",
   "metadata": {},
   "source": [
    "### Dumbbell Plot\n",
    "\n",
    "Dumbbell plot conveys the ‘before’ and ‘after’ positions of various items along with the rank ordering of the items. Its very useful if you want to visualize the effect of a particular project / initiative on different objects."
   ]
  },
  {
   "cell_type": "code",
   "execution_count": null,
   "id": "093f9667",
   "metadata": {},
   "outputs": [],
   "source": [
    "import matplotlib.lines as mlines\n",
    "\n",
    "# Import Data\n",
    "df = pd.read_csv(\"../data/health.csv\")\n",
    "# df.head()\n",
    "df.sort_values('pct_2014',inplace=True)\n",
    "df.reset_index(inplace=True)\n",
    "df.head()\n",
    "\n",
    "# Func to draw line segment\n",
    "def newline(p1, p2, color='black'):\n",
    "    ax = plt.gca()\n",
    "    l = mlines.Line2D([p1[0],p2[0]], [p1[1],p2[1]], color='skyblue')\n",
    "    ax.add_line(l)\n",
    "    return l\n",
    "\n",
    "# Figure and Axes\n",
    "_, ax = plt.subplots(1,1,figsize=(14,14),facecolor='#f7f7f7',dpi=80)\n",
    "\n",
    "# Vertival Lines\n",
    "ax.vlines(x = .05, ymin=0,ymax=26, color='black',\n",
    "         alpha=1,linewidth=1,linestyles='dotted')\n",
    "ax.vlines(x = .10, ymin=0,ymax=26, color='black',\n",
    "         alpha=1,linewidth=1,linestyles='dotted')\n",
    "ax.vlines(x = .15, ymin=0,ymax=26, color='black',\n",
    "         alpha=1,linewidth=1,linestyles='dotted')\n",
    "ax.vlines(x = .20, ymin=0,ymax=26, color='black',\n",
    "         alpha=1,linewidth=1,linestyles='dotted')\n",
    "\n",
    "# Points\n",
    "ax.scatter(y=df['index'],x=df['pct_2013'],s=50,\n",
    "          color='#0e668b',alpha=0.7)\n",
    "ax.scatter(y=df['index'],x=df['pct_2014'],s=50,\n",
    "          color='#a3c4dc',alpha=0.7)\n",
    "\n",
    "# Line Segments (we need the newline def here)\n",
    "for i, p1, p2 in zip(df['index'], df['pct_2013'],df['pct_2014']):\n",
    "    newline([p1,i],[p2,i])\n",
    "\n",
    "# Decoration\n",
    "ax.set_facecolor('#f7f7f7')\n",
    "ax.set_title('Dumbell Chart: Pct Change - 2013 vs 2014', fontdict={'size':22})\n",
    "ax.set(xlim=(0,.25), ylim=(-1,27),ylabel=\"Mean GDP per Capita\")\n",
    "ax.set_xticks([.05,.10, .15,.20])\n",
    "ax.set_xticklabels(['5%', '15%', '20%', '25%'])\n",
    "plt.show()"
   ]
  },
  {
   "cell_type": "markdown",
   "id": "7da13ab0",
   "metadata": {},
   "source": [
    "Distribution\n",
    "\n",
    "### Histogram for Continuous Variable\n",
    "\n",
    "Histogram shows the frequency distribution of a given variable. \n",
    "\n",
    "The below representation groups the frequency bars based on a categorical variable giving a greater insight about the continuous variable and the categorical variable in tandem.\n"
   ]
  },
  {
   "cell_type": "code",
   "execution_count": null,
   "id": "be3a9500",
   "metadata": {},
   "outputs": [],
   "source": [
    "# Import Data\n",
    "df = pd.read_csv('../data/mpg.csv')\n",
    "# df.head()\n",
    "\n",
    "# Prepare Data\n",
    "x_var ='displ'\n",
    "groupby_var = 'class'\n",
    "df_agg = df.loc[:,[x_var,groupby_var]].groupby(groupby_var)\n",
    "# df_agg = df.loc[:,['displ','class']].groupby('class')\n",
    "vals = [df[x_var].values.tolist() for i, df in df_agg]\n",
    "\n",
    "# Draw\n",
    "plt.figure(figsize=(16,9),dpi=80)\n",
    "colors = [plt.cm.Spectral(i/float(len(vals)-1)) for i in range(len(vals))]\n",
    "# compute the # of car brands\n",
    "n, bins, patches = plt.hist(vals, 30, stacked=True,\n",
    "                            density=False, color=colors[:len(vals)])\n",
    "\n",
    "# Decoration\n",
    "plt.legend({group:col for group, col in zip(np.unique(df[groupby_var]).tolist(),\n",
    "                                           colors[:len(vals)])})\n",
    "plt.title(f\"Stacked Histogram of ${x_var}$ colored by ${groupby_var}$\",\n",
    "          fontsize=22)\n",
    "plt.xlabel(x_var)\n",
    "plt.ylabel(\"Frequency\")\n",
    "plt.ylim(0,25)\n",
    "plt.xticks(ticks=bins[::3],labels=[round(b,1) for b in bins[::3]])\n",
    "plt.show()"
   ]
  },
  {
   "cell_type": "markdown",
   "id": "39e8b54f",
   "metadata": {},
   "source": [
    "### Histogram for Categorical Variable\n",
    "\n",
    "The histogram of a categorical variable shows the frequency distribution of a that variable. \n",
    "\n",
    "By coloring the bars, you can visualize the distribution in connection with another categorical variable representing the colors."
   ]
  },
  {
   "cell_type": "code",
   "execution_count": 13,
   "id": "a3fb338f",
   "metadata": {},
   "outputs": [
    {
     "data": {
      "text/plain": [
       "<matplotlib.legend.Legend at 0x128e628b0>"
      ]
     },
     "execution_count": 13,
     "metadata": {},
     "output_type": "execute_result"
    },
    {
     "data": {
      "image/png": "[encoded data removed]",
      "text/plain": [
       "<Figure size 1280x720 with 1 Axes>"
      ]
     },
     "metadata": {
      "needs_background": "light"
     },
     "output_type": "display_data"
    }
   ],
   "source": [
    "# Import Data\n",
    "df = pd.read_csv(\"../data/mpg.csv\")\n",
    "# df.head()\n",
    "\n",
    "# Prepare Data\n",
    "x_var = 'manufacturer'\n",
    "groupby_var = 'class'\n",
    "df_agg = df.loc[:,[x_var,groupby_var]].groupby(groupby_var)\n",
    "vals = [df[x_var].values.tolist() for i,df in df_agg]\n",
    "\n",
    "# Draw\n",
    "plt.figure(figsize=(16,9),dpi = 80)\n",
    "colors = [plt.cm.Spectral(i/float(len(vals)-1)) for i in range(len(vals))]\n",
    "n, bins, patches = plt.hist(vals, df[x_var].unique().__len__(),\n",
    "                           stacked=True,density=False,color=colors[:len(vals)])\n",
    "\n",
    "# Decoration\n",
    "plt.legend({group:col for group, col \n",
    "            in zip(np.unique(df[groupby_var]).tolist(), \n",
    "                   colors[:len(vals)])})\n",
    "\n"
   ]
  },
  {
   "cell_type": "code",
   "execution_count": 8,
   "id": "4648794e",
   "metadata": {},
   "outputs": [
    {
     "data": {
      "text/plain": [
       "15"
      ]
     },
     "execution_count": 8,
     "metadata": {},
     "output_type": "execute_result"
    }
   ],
   "source": []
  },
  {
   "cell_type": "code",
   "execution_count": null,
   "id": "785dee86",
   "metadata": {},
   "outputs": [],
   "source": []
  },
  {
   "cell_type": "code",
   "execution_count": null,
   "id": "99072ae6",
   "metadata": {},
   "outputs": [],
   "source": []
  }
 ],
 "metadata": {
  "kernelspec": {
   "display_name": "Python 3 (ipykernel)",
   "language": "python",
   "name": "python3"
  },
  "language_info": {
   "codemirror_mode": {
    "name": "ipython",
    "version": 3
   },
   "file_extension": ".py",
   "mimetype": "text/x-python",
   "name": "python",
   "nbconvert_exporter": "python",
   "pygments_lexer": "ipython3",
   "version": "3.9.6"
  },
  "latex_envs": {
   "LaTeX_envs_menu_present": true,
   "autoclose": false,
   "autocomplete": true,
   "bibliofile": "biblio.bib",
   "cite_by": "apalike",
   "current_citInitial": 1,
   "eqLabelWithNumbers": true,
   "eqNumInitial": 1,
   "hotkeys": {
    "equation": "Ctrl-E",
    "itemize": "Ctrl-I"
   },
   "labels_anchors": false,
   "latex_user_defs": false,
   "report_style_numbering": false,
   "user_envs_cfg": false
  },
  "toc": {
   "base_numbering": 1,
   "nav_menu": {},
   "number_sections": true,
   "sideBar": true,
   "skip_h1_title": false,
   "title_cell": "Table of Contents",
   "title_sidebar": "Contents",
   "toc_cell": false,
   "toc_position": {
    "height": "calc(100% - 180px)",
    "left": "10px",
    "top": "150px",
    "width": "256px"
   },
   "toc_section_display": true,
   "toc_window_display": true
  },
  "varInspector": {
   "cols": {
    "lenName": 16,
    "lenType": 16,
    "lenVar": 40
   },
   "kernels_config": {
    "python": {
     "delete_cmd_postfix": "",
     "delete_cmd_prefix": "del ",
     "library": "var_list.py",
     "varRefreshCmd": "print(var_dic_list())"
    },
    "r": {
     "delete_cmd_postfix": ") ",
     "delete_cmd_prefix": "rm(",
     "library": "var_list.r",
     "varRefreshCmd": "cat(var_dic_list()) "
    }
   },
   "types_to_exclude": [
    "module",
    "function",
    "builtin_function_or_method",
    "instance",
    "_Feature"
   ],
   "window_display": false
  }
 },
 "nbformat": 4,
 "nbformat_minor": 5
}
