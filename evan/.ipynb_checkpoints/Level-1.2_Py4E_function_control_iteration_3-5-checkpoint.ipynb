{
 "cells": [
  {
   "cell_type": "markdown",
   "id": "24088565-113b-4a3f-a6c9-e3e26bcde7f6",
   "metadata": {},
   "source": [
    "# Py4e Functions/ Control/ Iterations Chap 3-5"
   ]
  },
  {
   "cell_type": "markdown",
   "id": "81e79bb6-6c5b-427e-aaee-bff0f13278b5",
   "metadata": {},
   "source": [
    "## Chap 3 Conditional execution\n"
   ]
  },
  {
   "cell_type": "markdown",
   "id": "692fea5c-e213-49f5-ab1e-461d6527a728",
   "metadata": {},
   "source": [
    "### Boolean expressions\n",
    "    \n",
    "    A boolean expression is an expression that is either true or false. The following examples use the operator ==, which compares two operands and produces True if they are equal and False otherwise:"
   ]
  },
  {
   "cell_type": "code",
   "execution_count": 20,
   "id": "fdd32c29-061c-48b2-845e-eb31502799e0",
   "metadata": {},
   "outputs": [
    {
     "data": {
      "text/plain": [
       "True"
      ]
     },
     "execution_count": 20,
     "metadata": {},
     "output_type": "execute_result"
    }
   ],
   "source": [
    "5 == 5 or 5 == 6"
   ]
  },
  {
   "cell_type": "code",
   "execution_count": 21,
   "id": "94148b0f-4915-41be-99dc-645ef6eebfa0",
   "metadata": {},
   "outputs": [
    {
     "data": {
      "text/plain": [
       "False"
      ]
     },
     "execution_count": 21,
     "metadata": {},
     "output_type": "execute_result"
    }
   ],
   "source": [
    "5 == 5 and 5 == 6"
   ]
  },
  {
   "cell_type": "markdown",
   "id": "96cd62c1-956b-4368-bafe-53e1447c7681",
   "metadata": {},
   "source": [
    "### Logical operators\n",
    "\n",
    "There are three logical operators: and, or, and not. The semantics (meaning) of these operators is similar to their meaning in English. For example,"
   ]
  },
  {
   "cell_type": "code",
   "execution_count": 22,
   "id": "a9618fb3-3746-42de-acd3-1797b49c24a0",
   "metadata": {},
   "outputs": [
    {
     "data": {
      "text/plain": [
       "False"
      ]
     },
     "execution_count": 22,
     "metadata": {},
     "output_type": "execute_result"
    }
   ],
   "source": [
    "x = 42\n",
    "x > 0 and x < 10"
   ]
  },
  {
   "cell_type": "markdown",
   "id": "0678e61d-4766-4fd2-978a-39c1d3a0d2f2",
   "metadata": {},
   "source": [
    "### Conditional execution\n",
    "\n",
    "- In order to write useful programs, we almost always need the ability to check conditions and change the behavior of the program accordingly."
   ]
  },
  {
   "cell_type": "markdown",
   "id": "245b22d9-16ff-4cf6-8d56-979a18d511b5",
   "metadata": {},
   "source": [
    "<img src=\"https://cdn.mathpix.com/snip/images/MKq_-B9Ux7_MjK0TzW2eizJfFsAbJ8QTvgoOY2nf5TU.original.fullsize.png\" />"
   ]
  },
  {
   "cell_type": "code",
   "execution_count": 35,
   "id": "72cfd20f-af4c-4a37-926f-91c29c66c995",
   "metadata": {},
   "outputs": [
    {
     "name": "stdin",
     "output_type": "stream",
     "text": [
      "Show me your x : 9\n"
     ]
    },
    {
     "name": "stdout",
     "output_type": "stream",
     "text": [
      "x is positive\n"
     ]
    }
   ],
   "source": [
    "num = input('Show me your x :')\n",
    "x = float(num)\n",
    "if x > 0 :\n",
    "    print('x is positive')"
   ]
  },
  {
   "cell_type": "markdown",
   "id": "63936546-94f6-4cc1-ae34-e34fce13cbb4",
   "metadata": {},
   "source": [
    "### Alternative execution\n",
    "\n",
    "A second form of the if statement is alternative execution, in which there are two \n",
    "\n",
    "possibilities and the condition determines which one gets executed.\n",
    "\n",
    "yes, there are some loopholes in the first conditional execution.so let's improve it:"
   ]
  },
  {
   "cell_type": "code",
   "execution_count": 1,
   "id": "5aee3060-1ae0-4be8-aa33-937a310b24bc",
   "metadata": {},
   "outputs": [
    {
     "name": "stdout",
     "output_type": "stream",
     "text": [
      "Show me your x :s\n"
     ]
    },
    {
     "ename": "ValueError",
     "evalue": "could not convert string to float: 's'",
     "output_type": "error",
     "traceback": [
      "\u001b[0;31m-----------------------------------------------------------------------\u001b[0m",
      "\u001b[0;31mValueError\u001b[0m                            Traceback (most recent call last)",
      "\u001b[0;32m<ipython-input-1-08eb78ed4d0e>\u001b[0m in \u001b[0;36m<module>\u001b[0;34m\u001b[0m\n\u001b[1;32m      1\u001b[0m \u001b[0mnum\u001b[0m \u001b[0;34m=\u001b[0m \u001b[0minput\u001b[0m\u001b[0;34m(\u001b[0m\u001b[0;34m'Show me your x :'\u001b[0m\u001b[0;34m)\u001b[0m\u001b[0;34m\u001b[0m\u001b[0;34m\u001b[0m\u001b[0m\n\u001b[0;32m----> 2\u001b[0;31m \u001b[0mx\u001b[0m \u001b[0;34m=\u001b[0m \u001b[0mfloat\u001b[0m\u001b[0;34m(\u001b[0m\u001b[0mnum\u001b[0m\u001b[0;34m)\u001b[0m \u001b[0;31m# yeah, we need to make clear of the value\u001b[0m\u001b[0;34m\u001b[0m\u001b[0;34m\u001b[0m\u001b[0m\n\u001b[0m\u001b[1;32m      3\u001b[0m \u001b[0;32mif\u001b[0m \u001b[0mx\u001b[0m \u001b[0;34m>\u001b[0m \u001b[0;36m0\u001b[0m \u001b[0;34m:\u001b[0m\u001b[0;34m\u001b[0m\u001b[0;34m\u001b[0m\u001b[0m\n\u001b[1;32m      4\u001b[0m     \u001b[0mprint\u001b[0m\u001b[0;34m(\u001b[0m\u001b[0;34m'x is positive'\u001b[0m\u001b[0;34m)\u001b[0m\u001b[0;34m\u001b[0m\u001b[0;34m\u001b[0m\u001b[0m\n\u001b[1;32m      5\u001b[0m \u001b[0;32melse\u001b[0m\u001b[0;34m:\u001b[0m\u001b[0;34m\u001b[0m\u001b[0;34m\u001b[0m\u001b[0m\n",
      "\u001b[0;31mValueError\u001b[0m: could not convert string to float: 's'"
     ]
    }
   ],
   "source": [
    "num = input('Show me your x :')\n",
    "x = float(num) # yeah, we need to make clear of the value\n",
    "if x > 0 :\n",
    "    print('x is positive')\n",
    "else:\n",
    "    print('x is NOT positive')"
   ]
  },
  {
   "cell_type": "code",
   "execution_count": null,
   "id": "628713e7-a1ab-4a01-be06-0944579ede58",
   "metadata": {},
   "outputs": [],
   "source": [
    "# another try:\n",
    "if x%2 == 0 :\n",
    "    print('x is even')\n",
    "else :\n",
    "    print('x is odd')"
   ]
  },
  {
   "cell_type": "markdown",
   "id": "af4d02f9-e5c5-467a-b3a0-97a77a7453be",
   "metadata": {},
   "source": [
    "<img src=\"https://cdn.mathpix.com/snip/images/TYEywpmnHnwRj8bOqoHeHLPlJ3KqW9u1kNiq7z2xoSQ.original.fullsize.png\" />"
   ]
  },
  {
   "cell_type": "markdown",
   "id": "dc4997b1-66a1-4f0f-b0f5-f69c44707a73",
   "metadata": {},
   "source": [
    "### Chained conditionals\n",
    "\n",
    "Sometimes there are more than two possibilities and we need more than two branches. One way to express a computation like that is a chained conditional:"
   ]
  },
  {
   "cell_type": "code",
   "execution_count": 2,
   "id": "a4887cd6-2269-48a8-a25e-3141cae050b9",
   "metadata": {},
   "outputs": [
    {
     "name": "stdout",
     "output_type": "stream",
     "text": [
      "Enter the x-2\n",
      "Enter the y-2\n",
      "x and y are equal\n"
     ]
    }
   ],
   "source": [
    "x = float(input('Enter the x-'))\n",
    "y = float(input('Enter the y-'))\n",
    "\n",
    "if x < y:\n",
    "    print('x is less than y')\n",
    "elif x > y:\n",
    "    print('x is greater than y')\n",
    "else:\n",
    "    print('x and y are equal')\n",
    "# elif is an abbreviation of \"else if.\" Again, exactly one branch will be executed."
   ]
  },
  {
   "cell_type": "markdown",
   "id": "af7a44ec-a016-4de7-bc1f-f9692d1e022c",
   "metadata": {},
   "source": [
    "<img src=\"https://cdn.mathpix.com/snip/images/_MOB1x2sM0kHkEFqxV-iS6FAndUUs1l3zhuZjg0xg6E.original.fullsize.png\" />"
   ]
  },
  {
   "cell_type": "markdown",
   "id": "57bb0c8a-7a6b-4c61-a4ee-35de77bbb850",
   "metadata": {},
   "source": []
  },
  {
   "cell_type": "markdown",
   "id": "c9ed6ce4-1c9d-4096-9d2c-b3aa3b97fb54",
   "metadata": {},
   "source": [
    "### Nested conditionals\n",
    "\n",
    "One conditional can also be nested within another. We could have written the three-branch example like this:\n",
    "\n",
    "<img src=\"https://cdn.mathpix.com/snip/images/58aDmDBP1uVsqtvgijTVrb7nLuNWBsdcW1KeRStEBaI.original.fullsize.png\" />"
   ]
  },
  {
   "cell_type": "code",
   "execution_count": 42,
   "id": "5ad39776-467b-463c-b305-b9f559a6c27f",
   "metadata": {},
   "outputs": [
    {
     "name": "stdin",
     "output_type": "stream",
     "text": [
      "Enter the x: -10\n",
      "Enter the y: 9\n"
     ]
    },
    {
     "name": "stdout",
     "output_type": "stream",
     "text": [
      "x is less than y\n"
     ]
    }
   ],
   "source": [
    "x = float(input('Enter the x:'))\n",
    "y = float(input('Enter the y:'))\n",
    "\n",
    "if x == y:\n",
    "    print('x and y are equal')\n",
    "else:   # here is the tricky part where different with precious cases.\n",
    "    if x < y :\n",
    "        print('x is less than y')\n",
    "    else:\n",
    "        print('x is greater than y')\n",
    "# look at the indents for the elses."
   ]
  },
  {
   "cell_type": "markdown",
   "id": "9b8e6940-f3b5-4902-af20-0dacad074e46",
   "metadata": {},
   "source": [
    "### The Try/Except Structure\n",
    "\n",
    "- You surround a dangerous section of code with try and except. \n",
    "\n",
    "- If the code in the try works - the `except is skipped`\n",
    "\n",
    "- If the code in the try fails - it `jumps` to the except section.\n",
    "\n",
    "\n",
    "        Try/Except:a fort of the code, if the code does not work, the whole code would not explode, and the code stopped at the wrong point.In this way, elif looks better, which may have less errors of conditions.\n",
    "\n",
    "\t\tTry:just try……\n",
    "\t\t\tExperiment, do check the codes can do , if not , the codes will not blow up, instead just run the commands you code below the except part"
   ]
  },
  {
   "cell_type": "markdown",
   "id": "ba03265f-3703-4fc5-b18d-8ce9472fc4ba",
   "metadata": {},
   "source": [
    "#### Temperature converter (Fahrenheit to Celsius)\n",
    "\n",
    "There is a conditional execution structure built into Python to handle these types of expected and unexpected errors called \"try / except\". The idea of try and except is that you know that some sequence of instruction(s) may have a problem and you want to add some statements to be executed if an error occurs. These extra statements (the except block) are ignored if there is no error.\n",
    "\n",
    "You can think of the try and except feature in Python as an \"insurance policy\" on a sequence of statements.\n",
    "\n",
    "**We can write our temperature converter as follows:**"
   ]
  },
  {
   "cell_type": "code",
   "execution_count": 45,
   "id": "f6f6e589-a24d-4a20-8bd3-b367745f78d8",
   "metadata": {},
   "outputs": [
    {
     "name": "stdin",
     "output_type": "stream",
     "text": [
      "Enter Fahrenheit Temprature: -9\n"
     ]
    },
    {
     "name": "stdout",
     "output_type": "stream",
     "text": [
      "-22.77777777777778\n"
     ]
    }
   ],
   "source": [
    "inp = input('Enter Fahrenheit Temprature:')\n",
    "try:\n",
    "    fahr = float(inp)\n",
    "    cel = (fahr - 32.0) * 5.0 / 9.0\n",
    "    print(cel)\n",
    "except:\n",
    "    print('Error,please enter a number.')"
   ]
  },
  {
   "cell_type": "markdown",
   "id": "14e224a1-519f-4730-bddd-07482f5aa39c",
   "metadata": {},
   "source": [
    "## Chap 4 Functions"
   ]
  },
  {
   "cell_type": "markdown",
   "id": "d24baaf7-e06f-4be4-be67-6f4f38e99e98",
   "metadata": {},
   "source": [
    "### Python Functions\n",
    "\n",
    "There are two kinds of functions in Python：\n",
    "\n",
    " - Built-in functions that are provided as part of Python - **print(),input(), type(), float(), int()**...\n",
    " \n",
    " - Functions that **we define** ourselves and then use\n",
    "\n",
    "We treat the built-in function names as \"new\" reserved words\n",
    "\n",
    "    (i.e., we avoid them as variable names)\n",
    "\n"
   ]
  },
  {
   "cell_type": "markdown",
   "id": "e6fa3462-eb8a-45ab-b430-c9e1a9f9820f",
   "metadata": {},
   "source": [
    "### Built-in functions"
   ]
  },
  {
   "cell_type": "code",
   "execution_count": 50,
   "id": "48e0ca19-421c-49d3-aa49-36c9f11b25a1",
   "metadata": {},
   "outputs": [
    {
     "data": {
      "text/plain": [
       "('w', ' ', 11)"
      ]
     },
     "execution_count": 50,
     "metadata": {},
     "output_type": "execute_result"
    }
   ],
   "source": [
    "max('Hello world'),min('Hello world'),len('Hello world')"
   ]
  },
  {
   "cell_type": "markdown",
   "id": "aaa52ef0-4d81-4b52-afcb-4f500262ac94",
   "metadata": {},
   "source": [
    "### Type conversion functions"
   ]
  },
  {
   "cell_type": "code",
   "execution_count": 52,
   "id": "cb55c4c4-ec8c-41ca-ba45-356903166289",
   "metadata": {},
   "outputs": [
    {
     "data": {
      "text/plain": [
       "(32, 3, -2, 32.0, 3.1415926)"
      ]
     },
     "execution_count": 52,
     "metadata": {},
     "output_type": "execute_result"
    }
   ],
   "source": [
    "int('32'),int(3.99999999),int(-2.3),float(32),float(3.1415926)"
   ]
  },
  {
   "cell_type": "markdown",
   "id": "bd4fad1f-2067-4ba9-840e-8e8fb8e2444e",
   "metadata": {},
   "source": [
    "### Random Numbers"
   ]
  },
  {
   "cell_type": "code",
   "execution_count": 54,
   "id": "25c32c00-c0ea-42c4-aaaf-5fe8d362a179",
   "metadata": {},
   "outputs": [
    {
     "name": "stdout",
     "output_type": "stream",
     "text": [
      "0.3398190019806945\n",
      "0.8235052807451866\n",
      "0.702920762698044\n",
      "0.6202459645279884\n",
      "0.8841809143798673\n"
     ]
    }
   ],
   "source": [
    "import random\n",
    "\n",
    "for i in range (5):\n",
    "    x = random.random()\n",
    "    print(x)"
   ]
  },
  {
   "cell_type": "markdown",
   "id": "63a7281e-d770-42d4-a22d-7d7cb4114b95",
   "metadata": {},
   "source": [
    "### Math functions"
   ]
  },
  {
   "cell_type": "code",
   "execution_count": 59,
   "id": "b72808c2-443f-4ec9-aeaf-d274db45dd3d",
   "metadata": {},
   "outputs": [
    {
     "data": {
      "text/plain": [
       "0.644217687237691"
      ]
     },
     "execution_count": 59,
     "metadata": {},
     "output_type": "execute_result"
    }
   ],
   "source": [
    "import math\n",
    "radians = 0.7\n",
    "x = math.sin(radians)\n",
    "x"
   ]
  },
  {
   "cell_type": "markdown",
   "id": "3ea3d7fe-ae0a-4a0e-849a-f085278b0f76",
   "metadata": {},
   "source": [
    "### **def** : Building our Own Functions\n",
    "\n",
    "- We create a new function using the **def** keyword followed by optional parameters in parentheses\n",
    "\n",
    "- We indent the body of the function\n",
    "\n",
    "- This defines the function but does not execute the body of thefunction\n",
    "\n"
   ]
  },
  {
   "cell_type": "code",
   "execution_count": 61,
   "id": "665d12ed-9be3-423c-8bf1-eba7c38bfe78",
   "metadata": {},
   "outputs": [],
   "source": [
    "def print_lyrics():\n",
    "    print(\"I'm a lumberjack, and I'm okay.\")\n",
    "    print('I sleep all night and I work all day.')"
   ]
  },
  {
   "cell_type": "code",
   "execution_count": 62,
   "id": "bebb25f3-12ae-4b75-a892-889d2e542acb",
   "metadata": {},
   "outputs": [
    {
     "name": "stdout",
     "output_type": "stream",
     "text": [
      "I'm a lumberjack, and I'm okay.\n",
      "I sleep all night and I work all day.\n"
     ]
    }
   ],
   "source": [
    "print_lyrics()"
   ]
  },
  {
   "cell_type": "markdown",
   "id": "0e974656-fccb-46d6-8123-8d109f554ff6",
   "metadata": {},
   "source": [
    "Once you have defined a function, you can use it inside another function. For example, to repeat the previous refrain, we could write a function called repeat_lyrics:"
   ]
  },
  {
   "cell_type": "code",
   "execution_count": 64,
   "id": "6ec1e307-2c73-40e1-b869-c1755417b2f9",
   "metadata": {},
   "outputs": [],
   "source": [
    "def repeat_lyrics():\n",
    "    print_lyrics()\n",
    "    print_lyrics()"
   ]
  },
  {
   "cell_type": "code",
   "execution_count": 71,
   "id": "1e628b50-2c8c-4de1-8927-3eb178bd9cbf",
   "metadata": {},
   "outputs": [
    {
     "ename": "NameError",
     "evalue": "name 'repeat_lyrics' is not defined",
     "output_type": "error",
     "traceback": [
      "\u001b[0;31m---------------------------------------------------------------------------\u001b[0m",
      "\u001b[0;31mNameError\u001b[0m                                 Traceback (most recent call last)",
      "\u001b[0;32m<ipython-input-71-20fd9c9b5f86>\u001b[0m in \u001b[0;36m<module>\u001b[0;34m\u001b[0m\n\u001b[0;32m----> 1\u001b[0;31m \u001b[0mrepeat_lyrics\u001b[0m\u001b[0;34m(\u001b[0m\u001b[0;34m)\u001b[0m\u001b[0;34m\u001b[0m\u001b[0;34m\u001b[0m\u001b[0m\n\u001b[0m",
      "\u001b[0;31mNameError\u001b[0m: name 'repeat_lyrics' is not defined"
     ]
    }
   ],
   "source": [
    "repeat_lyrics()"
   ]
  },
  {
   "cell_type": "markdown",
   "id": "b2037aec-0eb6-4869-9a53-1d3d7823da02",
   "metadata": {},
   "source": [
    "### Parameters and arguments\n",
    "\n",
    "Some of the built-in functions we have seen require arguments. For example, when you call math.sin() you pass a number as an argument. Some functions take more than one argument: math.pow takes two, the base and the exponent.Inside the function, the arguments are assigned to variables called parameters. \n",
    "\n",
    "**Arguments**\n",
    "\n",
    "- An argument is a value we pass into the function as its input when we call the function\n",
    "\n",
    "- We use arguments so we can direct the function to do different kinds of work when we call it at different times\n",
    "\n",
    "- We put the arguments in parentheses after the name of the function"
   ]
  },
  {
   "cell_type": "code",
   "execution_count": 5,
   "id": "b86aeb4c-4ef5-4995-a77d-438a77067e75",
   "metadata": {},
   "outputs": [],
   "source": [
    "def print_twice(Tony):\n",
    "    print(Tony)\n",
    "    print(Tony)"
   ]
  },
  {
   "cell_type": "code",
   "execution_count": 6,
   "id": "d6e06a7c-441b-459e-b0cc-77318903691d",
   "metadata": {},
   "outputs": [
    {
     "ename": "TypeError",
     "evalue": "print_twice() missing 1 required positional argument: 'Tony'",
     "output_type": "error",
     "traceback": [
      "\u001b[0;31m-----------------------------------------------------------------------\u001b[0m",
      "\u001b[0;31mTypeError\u001b[0m                             Traceback (most recent call last)",
      "\u001b[0;32m<ipython-input-6-f7e8ac230cdf>\u001b[0m in \u001b[0;36m<module>\u001b[0;34m\u001b[0m\n\u001b[0;32m----> 1\u001b[0;31m \u001b[0mprint_twice\u001b[0m\u001b[0;34m(\u001b[0m\u001b[0;34m)\u001b[0m\u001b[0;34m\u001b[0m\u001b[0;34m\u001b[0m\u001b[0m\n\u001b[0m",
      "\u001b[0;31mTypeError\u001b[0m: print_twice() missing 1 required positional argument: 'Tony'"
     ]
    }
   ],
   "source": [
    "print_twice()"
   ]
  },
  {
   "cell_type": "code",
   "execution_count": 7,
   "id": "c039eb83-9b1e-4a2a-a669-8b4edd488761",
   "metadata": {},
   "outputs": [
    {
     "ename": "NameError",
     "evalue": "name 'Tony' is not defined",
     "output_type": "error",
     "traceback": [
      "\u001b[0;31m-----------------------------------------------------------------------\u001b[0m",
      "\u001b[0;31mNameError\u001b[0m                             Traceback (most recent call last)",
      "\u001b[0;32m<ipython-input-7-f81973166066>\u001b[0m in \u001b[0;36m<module>\u001b[0;34m\u001b[0m\n\u001b[0;32m----> 1\u001b[0;31m \u001b[0mprint_twice\u001b[0m\u001b[0;34m(\u001b[0m\u001b[0mTony\u001b[0m\u001b[0;34m)\u001b[0m\u001b[0;34m\u001b[0m\u001b[0;34m\u001b[0m\u001b[0m\n\u001b[0m",
      "\u001b[0;31mNameError\u001b[0m: name 'Tony' is not defined"
     ]
    }
   ],
   "source": [
    "print_twice(Tony)"
   ]
  },
  {
   "cell_type": "markdown",
   "id": "a55e1280-0326-42d3-b4e6-45b88ddc2482",
   "metadata": {},
   "source": [
    "**Parameters**\n",
    "\n",
    "A parameter is a variable which we use in the function definition. It is a \"handle\" that allows the code in the function to access the arguments for a particular function invocation."
   ]
  },
  {
   "cell_type": "code",
   "execution_count": 8,
   "id": "6656f8b1-9a10-46f2-aa03-011023cc37b0",
   "metadata": {},
   "outputs": [
    {
     "name": "stdout",
     "output_type": "stream",
     "text": [
      "Zoe\n",
      "Zoe\n"
     ]
    }
   ],
   "source": [
    "print_twice('Zoe')"
   ]
  },
  {
   "cell_type": "code",
   "execution_count": null,
   "id": "1a3b8a06-1d23-4043-af4d-8c62f3ec81a1",
   "metadata": {},
   "outputs": [],
   "source": [
    "# yes, we need to know how it make mistakes."
   ]
  },
  {
   "cell_type": "code",
   "execution_count": 73,
   "id": "a400a366-dc2f-4273-bba3-192da3372bd5",
   "metadata": {},
   "outputs": [
    {
     "name": "stdout",
     "output_type": "stream",
     "text": [
      "WendyWendyWendyWendy\n",
      "WendyWendyWendyWendy\n"
     ]
    }
   ],
   "source": [
    "print_twice('Wendy' * 4)"
   ]
  },
  {
   "cell_type": "markdown",
   "id": "d06e99e3-966b-4ec7-8a03-c402987c9d04",
   "metadata": {},
   "source": [
    "### Return Values\n",
    "\n",
    "Often a function will take its arguments, do some computation, and return a value to be used as the value of the function call in the calling expression. The return keyword is used for this."
   ]
  },
  {
   "cell_type": "code",
   "execution_count": 15,
   "id": "1dc710d8-c7e4-4c2b-9aac-f2ef2d6c311d",
   "metadata": {},
   "outputs": [
    {
     "name": "stdout",
     "output_type": "stream",
     "text": [
      "Hello Tony\n",
      "Hello Zoe\n"
     ]
    }
   ],
   "source": [
    "def greet():\n",
    "    return \"Hello\"\n",
    "\n",
    "print(greet(),'Tony')\n",
    "print(greet(),'Zoe')"
   ]
  },
  {
   "cell_type": "markdown",
   "id": "cd481543-f0ee-4100-bd8b-6f959258f6a4",
   "metadata": {},
   "source": [
    "#### def and return value\n",
    "\n",
    "- A\"fruitful\" function is one that produces a **result** (or **return value**)\n",
    "\n",
    "- The **return** statement ends the function execution and **\"sends back\"** the result of the function"
   ]
  },
  {
   "cell_type": "code",
   "execution_count": 1,
   "id": "db206a55-2f42-4cb3-a889-1825cf06bdc2",
   "metadata": {},
   "outputs": [],
   "source": [
    "def greet(language):\n",
    "    if language == 'Es':\n",
    "        return 'Hola'\n",
    "    elif language == 'Fr':\n",
    "        return 'Bonjour'\n",
    "    else:\n",
    "        return 'Hello'"
   ]
  },
  {
   "cell_type": "code",
   "execution_count": 3,
   "id": "41f3e873-d278-4476-a6d9-64f78c55e7a2",
   "metadata": {},
   "outputs": [
    {
     "name": "stdout",
     "output_type": "stream",
     "text": [
      "1 Hello Tony\n",
      "2 Hola Zoe\n",
      "3 Bonjour Wendy\n"
     ]
    }
   ],
   "source": [
    "lang = ['其他','Es','Fr']\n",
    "\n",
    "nam = ['Tony','Zoe','Wendy']\n",
    "\n",
    "tag = [1,2,3]\n",
    "\n",
    "for i,j,k in zip(tag,lang,nam):\n",
    "    print(i,greet(j),k)\n",
    "    \n",
    "#Bonus: zip()"
   ]
  },
  {
   "cell_type": "markdown",
   "id": "faac6cf3-8b7b-4701-aeb5-7b504d3c13c1",
   "metadata": {},
   "source": [
    "### yield statement\n",
    "\n",
    "`yield` is a keyword that is used like `return`, except **the function will return a generator**.\n",
    "\n",
    "One thing:\n",
    "\n",
    "**When to use yield instead of return ？**\n",
    "\n",
    "The yield statement suspends function’s execution and sends a value back to the caller, but **retains enough state to enable function to resume** where it is left off. \n",
    "\n",
    "When resumed, the function **continues execution** immediately after the last yield run. \n",
    "\n",
    "This allows its code to **produce a series of values over time**, rather than computing them at once and sending them back like a list."
   ]
  },
  {
   "cell_type": "code",
   "execution_count": 4,
   "id": "3e881b0a-9ac2-47bd-989d-8c5c30683770",
   "metadata": {},
   "outputs": [
    {
     "name": "stdout",
     "output_type": "stream",
     "text": [
      "1\n",
      "2\n",
      "3\n"
     ]
    }
   ],
   "source": [
    "# A Simple Python program to demonstrate working\n",
    "# of yield\n",
    "  \n",
    "# A generator function that yields 1 for the first time,\n",
    "# 2 second time and 3 third time\n",
    "def simpgenerfunc():\n",
    "    yield 1\n",
    "    yield 2\n",
    "    yield 3\n",
    "    \n",
    "# Driver code to check above generator function\n",
    "for i in simpgenerfunc():\n",
    "    print(i)"
   ]
  },
  {
   "cell_type": "markdown",
   "id": "762c4167-d0c8-47d9-8b7f-65dbf8628fa7",
   "metadata": {},
   "source": [
    "Return sends a specified value back to its caller whereas **Yield can produce a sequence of values**.\n",
    "\n",
    "We **should use yield when we want to iterate over a sequence**, but don’t want to store the entire sequence in memory.\n",
    "\n",
    "**Yield are used in Python generators.** \n",
    "\n",
    "A generator function is defined like a normal function, but whenever it needs to generate a value, it does so with the yield keyword rather than return. \n",
    "\n",
    "If the body of a def contains yield, the function automatically becomes a generator function."
   ]
  },
  {
   "cell_type": "code",
   "execution_count": 7,
   "id": "44dfb1a5-285a-4ac4-807c-a11e2f272a86",
   "metadata": {},
   "outputs": [
    {
     "name": "stdout",
     "output_type": "stream",
     "text": [
      "1\n",
      "4\n",
      "9\n",
      "16\n",
      "25\n",
      "36\n",
      "49\n",
      "64\n",
      "81\n",
      "100\n"
     ]
    }
   ],
   "source": [
    "# A Python program to generate squares from 1\n",
    "# to 100 using yield and therefore generator\n",
    "  \n",
    "# An infinite generator function that prints\n",
    "# next square number. It starts with 1\n",
    "\n",
    "def next_sqr():\n",
    "    i = 1;\n",
    "    #An infinite loop to generate squares\n",
    "    while True:\n",
    "        yield i * i \n",
    "        i = i + 1 # Next execution resumes \n",
    "                  # from this point (or i += 1)\n",
    "            \n",
    "# Driver code to test above generator \n",
    "# function\n",
    "for num in next_sqr():\n",
    "    if num > 100:\n",
    "        break # nice end!\n",
    "    print(num)"
   ]
  },
  {
   "cell_type": "code",
   "execution_count": 15,
   "id": "b7d1bb97-b055-4878-b5a4-ea5ba5aaafdf",
   "metadata": {},
   "outputs": [
    {
     "name": "stdout",
     "output_type": "stream",
     "text": [
      "<generator object create_generator at 0x165b67cf0>\n"
     ]
    }
   ],
   "source": [
    "def create_generator():\n",
    "    mylist = range(3) #print(list(range(3)))\n",
    "    for i in mylist:\n",
    "         yield i * i\n",
    "            \n",
    "mygenerator = create_generator() # create the generator\n",
    "print(mygenerator)"
   ]
  },
  {
   "cell_type": "code",
   "execution_count": 16,
   "id": "4d6ecc29-1353-465f-bf53-a997c78235cc",
   "metadata": {},
   "outputs": [
    {
     "name": "stdout",
     "output_type": "stream",
     "text": [
      "0\n",
      "1\n",
      "4\n"
     ]
    }
   ],
   "source": [
    "for i in mygenerator:\n",
    "    print(i)"
   ]
  },
  {
   "cell_type": "markdown",
   "id": "a7bf9c61-522e-4be2-8459-e70079e9f226",
   "metadata": {},
   "source": [
    "To master `yield`, you must understand:\n",
    "\n",
    "**When you call the function, the code you have written in the function body does not run.**\n",
    "\n",
    "The function only returns the generator object, this is a bit tricky."
   ]
  },
  {
   "cell_type": "markdown",
   "id": "c4598cf6-979f-44a0-b852-eeb2cc02ab84",
   "metadata": {},
   "source": [
    "#### yield from\n",
    "\n",
    "The basic idea is that if you have a function, it’s normal to call other functions from within it. \n",
    "\n",
    "\n",
    "That’s a standard technique in programming, one which allows us to write shorter, more specific functions, as well as to take advantage of abstraction.\n",
    "\n",
    "\n",
    "But what if you have a generator that wants to return data from another generator, or any other iterable? \n",
    "\n",
    "You could do something like this:"
   ]
  },
  {
   "cell_type": "code",
   "execution_count": 22,
   "id": "9e982af6-bcc1-42ce-8cf4-707cc2784d52",
   "metadata": {},
   "outputs": [
    {
     "data": {
      "text/plain": [
       "['a', 'b', 'C', 'd', 'e', 'F', 'g']"
      ]
     },
     "execution_count": 22,
     "metadata": {},
     "output_type": "execute_result"
    }
   ],
   "source": [
    "def wrapper(data):\n",
    "    for one_item in data:\n",
    "        yield one_item\n",
    "\n",
    "g = wrapper('abCdeFg')\n",
    "list(g)"
   ]
  },
  {
   "cell_type": "markdown",
   "id": "bd933c0b-2ad2-42fb-b447-133aceacc4ac",
   "metadata": {},
   "source": [
    "In other words, we turn to “g”, our generator. \n",
    "\n",
    "And with each iteration, we ask it for its next element. \n",
    "\n",
    "What does the generator do? It invokes a “for” loop on “data”.\n",
    "\n",
    "So with each iteration, we’re asking “g”, and “g” is asking “data”. \n",
    "\n",
    "We can **shorten this code with “yield from”**:"
   ]
  },
  {
   "cell_type": "code",
   "execution_count": 23,
   "id": "3680f09b-b7b7-4528-97a9-58862c037fcb",
   "metadata": {},
   "outputs": [
    {
     "data": {
      "text/plain": [
       "['a', 'b', 'C', 'd', 'e', 'F', 'g']"
      ]
     },
     "execution_count": 23,
     "metadata": {},
     "output_type": "execute_result"
    }
   ],
   "source": [
    "def wrapper(data):\n",
    "    yield from data\n",
    "    \n",
    "f = wrapper('abCdeFg')\n",
    "list(f)"
   ]
  },
  {
   "cell_type": "code",
   "execution_count": null,
   "id": "f144eda6-d5ae-4843-b31d-3e83694dbe67",
   "metadata": {},
   "outputs": [],
   "source": []
  },
  {
   "cell_type": "code",
   "execution_count": null,
   "id": "3d7cbbfc-8a87-4982-adcb-ead0979c400f",
   "metadata": {},
   "outputs": [],
   "source": []
  },
  {
   "cell_type": "markdown",
   "id": "e80e6ffb-9c00-4f44-9665-8e5d307d2430",
   "metadata": {},
   "source": [
    "### Void (non-fruitful) Functions\n",
    "\n",
    "- When a function does not return a value. we call it a \"void\"function\n",
    "\n",
    "- Functions that return values are fruitful\" functions\n",
    "\n",
    "- Void functions are \"not fruitful\""
   ]
  },
  {
   "cell_type": "markdown",
   "id": "24b1846f-68cc-4a14-8630-889cd8e5c81a",
   "metadata": {},
   "source": [
    "### Why functions?\n",
    "\n",
    "\n",
    "- Creating a new function gives you an opportunity to name a group of statements, which makes your program easier to read, understand, and debug.\n",
    "\n",
    "- Functions can make a program smaller by eliminating repetitive code. Later, if you make a change, you only have to make it in one place.\n",
    "\n",
    "- Dividing a long program into functions allows you to debug the parts one at a time and then assemble them into a working whole.\n",
    "\n",
    "- Well-designed functions are often useful for many programs. Once you write and debug one, you can reuse it.\n"
   ]
  },
  {
   "cell_type": "markdown",
   "id": "e7cc7797-dd84-4f65-bbb3-814e17f86416",
   "metadata": {},
   "source": [
    "#### To function or not to function\n",
    "\n",
    "- Organize your code into \"paragraphs\"- capture a complete thought and \"name it'\n",
    "\n",
    "- Don't repeat yourself- make it work once and then reuse it\n",
    "\n",
    "- If something gets too long or complex, break it up into logical chunks and put those chunks in functions\n",
    "\n",
    "- Make a library of common stuff that you do over and over:perhaps share this with your friends."
   ]
  },
  {
   "cell_type": "markdown",
   "id": "18699f6f-b804-4555-8c9d-fe9ac5483474",
   "metadata": {},
   "source": [
    "## Chap 5 Loops and Iteration"
   ]
  },
  {
   "cell_type": "markdown",
   "id": "45ddaabb-b2b6-48a4-a033-3eeb34d72137",
   "metadata": {},
   "source": [
    "### Repeated steps with `while` statement\n",
    "\n",
    "Loops (repeated steps) have iteration variables that change each time through a loop.  \n",
    "\n",
    "Often these iteration variables go through a sequence of numbers."
   ]
  },
  {
   "cell_type": "code",
   "execution_count": 1,
   "id": "62f8bb93-f289-4397-8dfd-c0105667c9a7",
   "metadata": {},
   "outputs": [
    {
     "name": "stdout",
     "output_type": "stream",
     "text": [
      "5\n",
      "4\n",
      "3\n",
      "2\n",
      "1\n",
      "Blastoff!\n",
      "0\n"
     ]
    }
   ],
   "source": [
    "n = 5\n",
    "while n > 0:\n",
    "    print(n)\n",
    "    n = n - 1\n",
    "print('Blastoff!')\n",
    "print(n)"
   ]
  },
  {
   "cell_type": "code",
   "execution_count": 9,
   "id": "e6f3b143-1bf0-41b2-9526-3426e7413eba",
   "metadata": {},
   "outputs": [
    {
     "ename": "SyntaxError",
     "evalue": "invalid syntax (<ipython-input-9-0cd2a1b76599>, line 1)",
     "output_type": "error",
     "traceback": [
      "\u001b[0;36m  File \u001b[0;32m\"<ipython-input-9-0cd2a1b76599>\"\u001b[0;36m, line \u001b[0;32m1\u001b[0m\n\u001b[0;31m    Infinite loop: just try\u001b[0m\n\u001b[0m             ^\u001b[0m\n\u001b[0;31mSyntaxError\u001b[0m\u001b[0;31m:\u001b[0m invalid syntax\n"
     ]
    }
   ],
   "source": [
    "# Infinite loop: just try\n",
    "# n = 5\n",
    "# while n > 0:\n",
    "#     print('lather')\n",
    "# print('Dry off')"
   ]
  },
  {
   "cell_type": "markdown",
   "id": "7d104fa9-e0d6-419d-9d52-5f7fe1d8d2a7",
   "metadata": {},
   "source": [
    "#### Flow of execution for a while statement\n",
    "\n",
    "- Evaluate the condition, yielding `True or False`.\n",
    "\n",
    "- If the condition is false, exit the `while` statement and `continue execution` at the next statement.\n",
    "\n",
    "- If the condition is true, `execute the body` and then `go back to step 1`.\n",
    "\n",
    "\n",
    "This type of flow is called a loop because the third step loops back around to the top. We call each time we execute the body of the loop an iteration. For the above loop, we would say, \"It had five iterations\", which means that the body of the loop was executed five times.\n",
    "\n",
    "\n",
    "The body of the loop should `change the value` of one or more variables so that `eventually` the `condition becomes false and the loop terminates`.\n",
    "\n",
    "We call the variable that changes each time the loop executes and controls when the loop finishes the **iteration variable**. \n",
    "\n",
    "If there is **no iteration variable**, the loop will repeat forever, resulting in an **infinite loop.**"
   ]
  },
  {
   "cell_type": "markdown",
   "id": "21e7d2af-3d7e-41af-850e-1b3f139a3b50",
   "metadata": {},
   "source": [
    "### Breaking Out of a Loop(using break)\n",
    "\n",
    "- The break statement ends the current loop and jumps to the statement immediately following the loop\n",
    "\n",
    "- It is like a loop test that can happen anywhere in the body of the loop"
   ]
  },
  {
   "cell_type": "code",
   "execution_count": 18,
   "id": "588dfc20-8f1f-46cf-bb71-6b6f753238eb",
   "metadata": {},
   "outputs": [
    {
     "name": "stdout",
     "output_type": "stream",
     "text": [
      ">>>> \n",
      "\n",
      ">>>> done\n",
      "Done!!\n"
     ]
    }
   ],
   "source": [
    "while True:\n",
    "    line = input('>>>> ')\n",
    "    if line == 'done':\n",
    "        break\n",
    "    print(line)\n",
    "print('Done!!')\n",
    "#     here: when it prints \"done??\"just when break"
   ]
  },
  {
   "cell_type": "markdown",
   "id": "ee404478-5290-4e1e-a3a1-bd612a51a32c",
   "metadata": {},
   "source": [
    "### Finishing an Iteration with **continue**(using continue)\n",
    "\n",
    "The continue statement ends the current iteration and jumps to the top of the loop and starts the next iteration"
   ]
  },
  {
   "cell_type": "code",
   "execution_count": 10,
   "id": "91e83145-f142-4b73-a23a-9569faaed0bc",
   "metadata": {},
   "outputs": [
    {
     "name": "stdout",
     "output_type": "stream",
     "text": [
      ">>>> \n"
     ]
    },
    {
     "ename": "IndexError",
     "evalue": "string index out of range",
     "output_type": "error",
     "traceback": [
      "\u001b[0;31m-----------------------------------------------------------------------\u001b[0m",
      "\u001b[0;31mIndexError\u001b[0m                            Traceback (most recent call last)",
      "\u001b[0;32m<ipython-input-10-1e0c058812ab>\u001b[0m in \u001b[0;36m<module>\u001b[0;34m\u001b[0m\n\u001b[1;32m      1\u001b[0m \u001b[0;32mwhile\u001b[0m \u001b[0;32mTrue\u001b[0m\u001b[0;34m:\u001b[0m\u001b[0;34m\u001b[0m\u001b[0;34m\u001b[0m\u001b[0m\n\u001b[1;32m      2\u001b[0m     \u001b[0mline\u001b[0m \u001b[0;34m=\u001b[0m \u001b[0minput\u001b[0m\u001b[0;34m(\u001b[0m\u001b[0;34m'>>>> '\u001b[0m\u001b[0;34m)\u001b[0m\u001b[0;34m\u001b[0m\u001b[0;34m\u001b[0m\u001b[0m\n\u001b[0;32m----> 3\u001b[0;31m     \u001b[0;32mif\u001b[0m \u001b[0mline\u001b[0m\u001b[0;34m[\u001b[0m\u001b[0;36m0\u001b[0m\u001b[0;34m]\u001b[0m \u001b[0;34m==\u001b[0m\u001b[0;34m'#'\u001b[0m\u001b[0;34m:\u001b[0m\u001b[0;34m\u001b[0m\u001b[0;34m\u001b[0m\u001b[0m\n\u001b[0m\u001b[1;32m      4\u001b[0m         \u001b[0;32mcontinue\u001b[0m\u001b[0;34m\u001b[0m\u001b[0;34m\u001b[0m\u001b[0m\n\u001b[1;32m      5\u001b[0m     \u001b[0;32mif\u001b[0m \u001b[0mline\u001b[0m \u001b[0;34m==\u001b[0m \u001b[0;34m'done'\u001b[0m\u001b[0;34m:\u001b[0m\u001b[0;34m\u001b[0m\u001b[0;34m\u001b[0m\u001b[0m\n",
      "\u001b[0;31mIndexError\u001b[0m: string index out of range"
     ]
    }
   ],
   "source": [
    "while True:\n",
    "    line = input('>>>> ')\n",
    "    if line[0] =='#':\n",
    "        continue\n",
    "    if line == 'done':\n",
    "        break\n",
    "    print(line)\n",
    "print('Done!')"
   ]
  },
  {
   "cell_type": "markdown",
   "id": "744edd3f-8c33-4f72-a652-4a2d858dac89",
   "metadata": {},
   "source": [
    "71\n",
    "###### Indefinite Loops\n",
    "\n",
    "- While loops are called indefinite loops\" because they keep going until a logical condition becomes False\n",
    "\n",
    "- The loops we have seen so far are pretty easy to examine to seeif they will terminate or if they will be \"infinite loops\"\n",
    "\n",
    "- Sometimes it is a little harder to be sure if a loop will terminate\n",
    "\n"
   ]
  },
  {
   "cell_type": "markdown",
   "id": "69f81306-c9ad-438b-acbd-48694e2786a2",
   "metadata": {},
   "source": [
    "### Definite Loops\n",
    "\n",
    "- Quite often we have a list of items of the lines in a file effectively a finite set of things\n",
    "\n",
    "- We can write a loop to run the loop once for each ofthe items ina set using the Python for construct\n",
    "\n",
    "- These loops are called “definite loops\" because they execute anexact number of times\n",
    "\n",
    "- We say that \"definite loops iterate through the members of a set\""
   ]
  },
  {
   "cell_type": "code",
   "execution_count": 2,
   "id": "c82aecbc-bbfb-403e-9b29-7f0fd9ea2480",
   "metadata": {},
   "outputs": [
    {
     "name": "stdout",
     "output_type": "stream",
     "text": [
      "5\n",
      "4\n",
      "3\n",
      "2\n",
      "1\n",
      "Finished.\n"
     ]
    }
   ],
   "source": [
    "# a simple definite loop:\n",
    "for i in [5,4,3,2,1]:\n",
    "    print(i)\n",
    "print('Finished.')\n",
    "# look at the indent which means after the loop of 5 to 1, it prints\"Finished\""
   ]
  },
  {
   "cell_type": "markdown",
   "id": "8d616fe9-ae63-451b-941d-390ebe55c107",
   "metadata": {},
   "source": [
    "### Looking at the \"in\"\n",
    "\n",
    "- The iteration variable\"iterates\" through thesequence (ordered set)\n",
    "\n",
    "- The block (body) of code isexecuted once for eachvalue in the sequence\n",
    "\n",
    "- The iteration variable movesthrough all of the values inthe sequence"
   ]
  },
  {
   "cell_type": "code",
   "execution_count": 5,
   "id": "4b6f8276-874d-442a-abbe-2e5da11f99b1",
   "metadata": {},
   "outputs": [
    {
     "name": "stdout",
     "output_type": "stream",
     "text": [
      "5\n",
      "4\n",
      "3\n",
      "2\n",
      "1\n"
     ]
    }
   ],
   "source": [
    "for i in [5,4,3,2,1]:\n",
    "    print(i)\n",
    "#i: iterantion variable\n",
    "#[5,4,3,2,1] : 5-element sequence"
   ]
  },
  {
   "cell_type": "markdown",
   "id": "e3ee24a6-93f7-4f80-9bda-49e974a8226c",
   "metadata": {},
   "source": [
    "### Loop ldioms:\n",
    "\n",
    "- What We Do in Loops:Idioms and loop idioms are patterns that have to do with how we construct loops\n",
    "\n",
    "- Note: Even though these examples are simple,the patterns apply to all kinds of loops\n",
    "\n",
    "- The trick is \"knowing\" somethingabout the whole loop when youare stuck writing code that onlysees one entry at a time\n",
    "\n",
    "**Loop Structure:**\n",
    "\n",
    "- Set some variables toinitial values\n",
    "- for thing in data:\n",
    "    - Look for something ordo something to each entry separately,updating a variable\n",
    "\n",
    "- Look at the variables\n",
    "\n"
   ]
  },
  {
   "cell_type": "markdown",
   "id": "1da0ffd2-b5d8-4e3a-8616-544cc112e502",
   "metadata": {},
   "source": [
    "### for i in range(len(variables))\n",
    "\n",
    "`len()` the number of elements in the variable.\n",
    "\n",
    "thus for i in range(len(vars)) means we loop the iteration for the times got by the number of elements in the variable."
   ]
  },
  {
   "cell_type": "code",
   "execution_count": 60,
   "id": "1b89df39-46f7-4501-bf03-7b4ad72923a7",
   "metadata": {},
   "outputs": [],
   "source": [
    "snacks = [(\"bacon\", 350), (\"donut\", 240), (\"muffin\", 190)]\n",
    "\n",
    "for i in range(0):\n",
    "    item = snacks[i]\n",
    "    print(item)"
   ]
  },
  {
   "cell_type": "code",
   "execution_count": 52,
   "id": "0ff19ced-dad0-48bf-9776-66aa37f33988",
   "metadata": {},
   "outputs": [],
   "source": [
    "#wow, nothing."
   ]
  },
  {
   "cell_type": "code",
   "execution_count": 61,
   "id": "450bd9d6-b458-43c2-b534-40ce56c91a7c",
   "metadata": {},
   "outputs": [
    {
     "name": "stdout",
     "output_type": "stream",
     "text": [
      "('bacon', 350)\n"
     ]
    }
   ],
   "source": [
    "for i in range(1):\n",
    "    item = snacks[i]\n",
    "    print(item)"
   ]
  },
  {
   "cell_type": "code",
   "execution_count": 62,
   "id": "2a50a738-2ead-4b3c-bd6a-04c79c058372",
   "metadata": {},
   "outputs": [
    {
     "name": "stdout",
     "output_type": "stream",
     "text": [
      "('bacon', 350)\n",
      "('donut', 240)\n"
     ]
    }
   ],
   "source": [
    "for i in range(2):\n",
    "    item = snacks[i]\n",
    "    print(item)"
   ]
  },
  {
   "cell_type": "code",
   "execution_count": 66,
   "id": "5d85b38e-8f93-410f-baad-7d17cd535c67",
   "metadata": {},
   "outputs": [
    {
     "name": "stdout",
     "output_type": "stream",
     "text": [
      "('bacon', 350)\n",
      "('donut', 240)\n",
      "('muffin', 190)\n"
     ]
    }
   ],
   "source": [
    "for i in range(3):\n",
    "    item = snacks[i]\n",
    "    print(item)"
   ]
  },
  {
   "cell_type": "code",
   "execution_count": 67,
   "id": "57feab6b-ee3b-4de1-8c79-17525ae910f8",
   "metadata": {},
   "outputs": [
    {
     "name": "stdout",
     "output_type": "stream",
     "text": [
      "('bacon', 350)\n",
      "('donut', 240)\n",
      "('muffin', 190)\n"
     ]
    },
    {
     "ename": "IndexError",
     "evalue": "list index out of range",
     "output_type": "error",
     "traceback": [
      "\u001b[0;31m---------------------------------------------------------------------------\u001b[0m",
      "\u001b[0;31mIndexError\u001b[0m                                Traceback (most recent call last)",
      "\u001b[0;32m<ipython-input-67-4f69bd79c038>\u001b[0m in \u001b[0;36m<module>\u001b[0;34m\u001b[0m\n\u001b[1;32m      1\u001b[0m \u001b[0;32mfor\u001b[0m \u001b[0mi\u001b[0m \u001b[0;32min\u001b[0m \u001b[0mrange\u001b[0m\u001b[0;34m(\u001b[0m\u001b[0;36m4\u001b[0m\u001b[0;34m)\u001b[0m\u001b[0;34m:\u001b[0m\u001b[0;34m\u001b[0m\u001b[0;34m\u001b[0m\u001b[0m\n\u001b[0;32m----> 2\u001b[0;31m     \u001b[0mitem\u001b[0m \u001b[0;34m=\u001b[0m \u001b[0msnacks\u001b[0m\u001b[0;34m[\u001b[0m\u001b[0mi\u001b[0m\u001b[0;34m]\u001b[0m\u001b[0;34m\u001b[0m\u001b[0;34m\u001b[0m\u001b[0m\n\u001b[0m\u001b[1;32m      3\u001b[0m     \u001b[0mprint\u001b[0m\u001b[0;34m(\u001b[0m\u001b[0mitem\u001b[0m\u001b[0;34m)\u001b[0m\u001b[0;34m\u001b[0m\u001b[0;34m\u001b[0m\u001b[0m\n",
      "\u001b[0;31mIndexError\u001b[0m: list index out of range"
     ]
    }
   ],
   "source": [
    "for i in range(4):\n",
    "    item = snacks[i]\n",
    "    print(item)"
   ]
  },
  {
   "cell_type": "code",
   "execution_count": 65,
   "id": "e4c00f1b-1d5f-4317-bea1-f34757050331",
   "metadata": {},
   "outputs": [
    {
     "name": "stdout",
     "output_type": "stream",
     "text": [
      "('bacon', 350)\n",
      "('donut', 240)\n",
      "('muffin', 190)\n"
     ]
    }
   ],
   "source": [
    "for i in range(len(snacks)):\n",
    "    item = snacks[i]\n",
    "    print(item)"
   ]
  },
  {
   "cell_type": "markdown",
   "id": "5eec9924-ae42-4a0b-8d47-875ddcc1aab0",
   "metadata": {},
   "source": [
    "### loop in application"
   ]
  },
  {
   "cell_type": "code",
   "execution_count": 6,
   "id": "b824e649-8b4e-466c-aa1a-52ca088520dd",
   "metadata": {},
   "outputs": [
    {
     "name": "stdout",
     "output_type": "stream",
     "text": [
      "Before 0\n",
      "1 9\n",
      "2 41\n",
      "3 12\n",
      "4 3\n",
      "5 74\n",
      "6 7\n",
      "7 22\n",
      "8 12\n",
      "After 8\n"
     ]
    }
   ],
   "source": [
    "# couting a loop\n",
    "zork = 0 \n",
    "print('Before',zork)\n",
    "\n",
    "for i in [9,41,12,3,74,7,22,12]:\n",
    "    zork = zork + 1\n",
    "    print(zork,i)\n",
    "print('After',zork)"
   ]
  },
  {
   "cell_type": "markdown",
   "id": "9cf9d0f8-e3e5-4bdb-a3fd-841bc4dd59ce",
   "metadata": {},
   "source": [
    "To count how many times we execute a loop, we introduce a counter variable that starts at O and we add one to it each time through the loop.\n",
    "\n",
    "In the same way, we can do the sum.While the zork has different meaning."
   ]
  },
  {
   "cell_type": "code",
   "execution_count": 8,
   "id": "af14108c-7a86-4380-af88-ce44e0e211c9",
   "metadata": {},
   "outputs": [
    {
     "name": "stdout",
     "output_type": "stream",
     "text": [
      "Before 0\n",
      "9 9\n",
      "50 41\n",
      "62 12\n",
      "65 3\n",
      "139 74\n",
      "146 7\n",
      "168 22\n",
      "180 12\n",
      "After 180\n"
     ]
    }
   ],
   "source": [
    "# sum each time through the loop.\n",
    "zork = 0\n",
    "print('Before',zork)\n",
    "\n",
    "for i in [9,41,12,3,74,7,22,12]:\n",
    "    zork = zork + i\n",
    "    print(zork,i)\n",
    "print('After',zork)\n",
    "\n",
    "# To add up a value we encounter in a loop, \n",
    "# we introduce a sum vaniable thatstarts at O ,\n",
    "# and we add the value to the sum each time through the loop."
   ]
  },
  {
   "cell_type": "code",
   "execution_count": 9,
   "id": "edf8a64c-dfa6-4919-ba5b-4126834dbc84",
   "metadata": {},
   "outputs": [
    {
     "name": "stdout",
     "output_type": "stream",
     "text": [
      "_____Find the Average in a loop____\n",
      "Before 0 0\n",
      "1 9 9\n",
      "2 50 41\n",
      "3 62 12\n",
      "4 65 3\n",
      "5 139 74\n",
      "6 146 7\n",
      "7 168 22\n",
      "8 180 12\n",
      "After 8 180 22.5\n"
     ]
    }
   ],
   "source": [
    "# also, we can define the name as usual and find the average \n",
    "print(\"_____Find the Average in a loop____\")\n",
    "count = 0\n",
    "sum = 0\n",
    "print('Before',count,sum)\n",
    "for value in [9,41,12,3,74,7,22,12]:\n",
    "\tcount = count + 1\n",
    "\tsum = sum + value\n",
    "\tprint(count,sum,value)\n",
    "print('After',count,sum,sum/count)"
   ]
  },
  {
   "cell_type": "code",
   "execution_count": 10,
   "id": "a2342b24-ade1-41bc-86af-47816450b9a5",
   "metadata": {},
   "outputs": [
    {
     "name": "stdout",
     "output_type": "stream",
     "text": [
      "1.find the number greater than 20\n",
      "Before\n",
      "Large number 41\n",
      "Large number 74\n",
      "Large number 22\n",
      "After\n"
     ]
    }
   ],
   "source": [
    "# find the number greater than 20\n",
    "print(\"1.find the number greater than 20\")\n",
    "print('Before')\n",
    "for value in [9,41,12,3,74,7,22,12]:\n",
    "\tif value > 20:\n",
    "\t\tprint(\"Large number\", value)\n",
    "print('After')"
   ]
  },
  {
   "cell_type": "code",
   "execution_count": 11,
   "id": "46c8125b-1045-45f0-bf72-92fb255ed758",
   "metadata": {},
   "outputs": [
    {
     "name": "stdout",
     "output_type": "stream",
     "text": [
      "2.Search Using a Boolean Variable\n",
      "Before False\n",
      "False 9\n",
      "False 41\n",
      "False 12\n",
      "True 3\n",
      "True 74\n",
      "True 7\n",
      "True 22\n",
      "True 12\n",
      "After True\n"
     ]
    }
   ],
   "source": [
    "#Search Using a Boolean Variable:\n",
    "print(\"2.Search Using a Boolean Variable\")\n",
    "\n",
    "found = False # look at the initial boolean value\n",
    "print('Before',found)\n",
    "for value in [9,41,12,3,74,7,22,12]:\n",
    "\tif value == 3:\n",
    "\t\tfound = True\n",
    "\tprint(found, value)\n",
    "print('After',found)"
   ]
  },
  {
   "cell_type": "markdown",
   "id": "50894d11-41f8-4237-a68a-69201539e46a",
   "metadata": {},
   "source": [
    "#### The **“is”** and **“is not\"** Operators\n",
    "\n",
    "- Python has an `is` operator that can be used in logical expressions\n",
    "\n",
    "- Implies **\"is the same as\"** \n",
    "\n",
    "- Similar to, but stronger than **\" == \"**\n",
    "\n",
    "- **is not** also is a logicaloperator\n"
   ]
  },
  {
   "cell_type": "code",
   "execution_count": 15,
   "id": "501acf3e-769d-4e00-afa9-3b0ea9939169",
   "metadata": {},
   "outputs": [
    {
     "name": "stdout",
     "output_type": "stream",
     "text": [
      "Before\n",
      "After 9\n",
      "After 9\n",
      "After 9\n",
      "After 3\n",
      "After 3\n",
      "After 3\n",
      "After 3\n",
      "After 3\n"
     ]
    }
   ],
   "source": [
    "#sol 1\n",
    "Min_so_far = None # initialize the loop with the None\n",
    "print(\"Before\")\n",
    "for value in [9,41,12,3,74,7,22,12]:\n",
    "\tif Min_so_far is None:\n",
    "\t\tMin_so_far = value\n",
    "\telif value < Min_so_far:\n",
    "\t\tMin_so_far = value\n",
    "\tprint('After',Min_so_far)"
   ]
  },
  {
   "cell_type": "markdown",
   "id": "ca7da154-5d15-46d5-8fe9-52e66a7406bb",
   "metadata": {},
   "source": [
    "#### initialize the loop with the None"
   ]
  },
  {
   "cell_type": "code",
   "execution_count": 19,
   "id": "fcc089c8-44c9-44cf-a32d-b50a27b456c4",
   "metadata": {},
   "outputs": [
    {
     "name": "stdout",
     "output_type": "stream",
     "text": [
      "before\n",
      "9 9\n",
      "9 41\n",
      "9 12\n",
      "3 3\n",
      "3 74\n",
      "3 7\n",
      "3 22\n",
      "3 12\n",
      "After 3\n"
     ]
    }
   ],
   "source": [
    "#sol 2\n",
    "smallest = None # initialize the loop with the None\n",
    "\n",
    "print('before')\n",
    "\n",
    "for value in [9,41,12,3,74,7,22,12]:\n",
    "    if smallest is None:\n",
    "        smallest = value\n",
    "    elif value < smallest:\n",
    "        smallest = value\n",
    "    print(smallest,value)\n",
    "    \n",
    "print('After',smallest)"
   ]
  },
  {
   "cell_type": "markdown",
   "id": "11346e68-dadf-4ae9-8ffc-34bbf3cb48c0",
   "metadata": {},
   "source": [
    "#### sorting algorithm"
   ]
  },
  {
   "cell_type": "code",
   "execution_count": 22,
   "id": "7b4221e9-575c-476e-8602-0dec85845b2d",
   "metadata": {},
   "outputs": [],
   "source": [
    "def buble_sort(a):\n",
    "    for _ in range(len(a)):\n",
    "        for i in range(1,len(a)):\n",
    "            if a[i] < a[i-1]:\n",
    "                temp = a[i]\n",
    "                a[i] = a[i-1]\n",
    "                a[i-1] = temp"
   ]
  },
  {
   "cell_type": "code",
   "execution_count": 31,
   "id": "cec522c3-f9f5-4b07-9f6f-5b66670529ff",
   "metadata": {},
   "outputs": [
    {
     "name": "stdout",
     "output_type": "stream",
     "text": [
      "['arugula', 'bacon', 'carrots', 'pretzels']\n",
      "['arugula', 'bacon', 'carrots', 'pretzels']\n",
      "['arugula', 'bacon', 'carrots', 'pretzels']\n"
     ]
    }
   ],
   "source": [
    "names = ['pretzels', 'carrots', 'arugula', 'bacon']\n",
    "buble_sort(names)\n",
    "print(names)\n",
    "print(str(names))\n",
    "print(repr(names))"
   ]
  },
  {
   "cell_type": "code",
   "execution_count": 32,
   "id": "7fea8d9e-abac-4027-8f30-ce1da796ef85",
   "metadata": {},
   "outputs": [
    {
     "name": "stdout",
     "output_type": "stream",
     "text": [
      "['bobby drake', 'charles xavier', 'kurt wagner', 'max eisenhardt']\n",
      "['bobby drake', 'charles xavier', 'kurt wagner', 'max eisenhardt']\n"
     ]
    }
   ],
   "source": [
    "mutants = [\"charles xavier\", \"bobby drake\", \"kurt wagner\", \"max eisenhardt\"]\n",
    "buble_sort(mutants)\n",
    "print(str(mutants))\n",
    "print(repr(mutants))"
   ]
  },
  {
   "cell_type": "markdown",
   "id": "40615a02-5258-49a9-9b99-43d6d33ababd",
   "metadata": {},
   "source": [
    "The way this swap works is that the right side of the assignment (a[i] , a[i-1]) is evaluated first, and its values are put into **a new temporary, unnamed tuple** (such as ('carrots' , 'pretzels') on the first iteration of the loops). \n",
    "\n",
    "Then, the unpacking pattern from the left side of the assignment (a[i-1] , a[i]) is used to receive that tuple value and assign it to the variable names a[i-1] and a[i], respectively. \n",
    "\n",
    "This replaces 'pretzels' with 'carrots' at index 0 and 'carrots' with 'pretzels' at index 1. Finally, the temporary unnamed tuple silently goes away."
   ]
  },
  {
   "cell_type": "markdown",
   "id": "a2f81ff5-ea37-47e0-b436-6fa7da3746ac",
   "metadata": {},
   "source": [
    "### **enumerate（）**.iterators for large files\n",
    "\n",
    "`enumerate()` returns an enumerate object that produces a sequence of tuples.\n",
    "\n",
    "Each of the tuples is an **index-value pair**:\n",
    "\n",
    "index as the key,element as the value,it can note be printed itself unless convert to `list()`"
   ]
  },
  {
   "cell_type": "code",
   "execution_count": 14,
   "id": "789a091c-c5db-45a4-b4dc-ae53b382cba0",
   "metadata": {},
   "outputs": [
    {
     "name": "stdout",
     "output_type": "stream",
     "text": [
      "['charles xavier', 'bobby drake', 'kurt wagner', 'max eisenhardt']\n"
     ]
    }
   ],
   "source": [
    "#Create a list of strings:mutants\n",
    "mutants = [\"charles xavier\", \"bobby drake\", \"kurt wagner\", \"max eisenhardt\"]\n",
    "\n",
    "mutant_list = list(mutants)\n",
    "print(mutant_list)"
   ]
  },
  {
   "cell_type": "code",
   "execution_count": 15,
   "id": "0eaa0a65-3952-436f-96c4-3da54fbdd76c",
   "metadata": {},
   "outputs": [
    {
     "name": "stdout",
     "output_type": "stream",
     "text": [
      "[(0, 'charles xavier'), (1, 'bobby drake'), (2, 'kurt wagner'), (3, 'max eisenhardt')]\n"
     ]
    }
   ],
   "source": [
    "mutant_list = list(enumerate(mutants))\n",
    "print(mutant_list)"
   ]
  },
  {
   "cell_type": "code",
   "execution_count": 16,
   "id": "41c289ea-d0ec-4d8d-b36d-41aba7f6a08f",
   "metadata": {},
   "outputs": [
    {
     "name": "stdout",
     "output_type": "stream",
     "text": [
      "0 charles xavier\n",
      "1 bobby drake\n",
      "2 kurt wagner\n",
      "3 max eisenhardt\n"
     ]
    }
   ],
   "source": [
    "# unpack and print the tuple pairs\n",
    "for index1,value1 in enumerate(mutants):\n",
    "    print(index1,value1)"
   ]
  },
  {
   "cell_type": "code",
   "execution_count": 17,
   "id": "ab65c7d1-4d13-443a-8888-fff46c663c4c",
   "metadata": {},
   "outputs": [
    {
     "name": "stdout",
     "output_type": "stream",
     "text": [
      "1 charles xavier\n",
      "2 bobby drake\n",
      "3 kurt wagner\n",
      "4 max eisenhardt\n"
     ]
    }
   ],
   "source": [
    "# change start index:\n",
    "for index2,value2 in enumerate(mutants,start=1):\n",
    "    print(index2,value2)"
   ]
  },
  {
   "cell_type": "markdown",
   "id": "9a4d39e3-eab4-49c1-9b78-81dab2732017",
   "metadata": {},
   "source": [
    "It is preferrable to use `enumerate()` than `range()` when we need to loop  the value:"
   ]
  },
  {
   "cell_type": "code",
   "execution_count": 69,
   "id": "a1799cd4-5b7a-4e01-80f6-adaacb2cfb2b",
   "metadata": {},
   "outputs": [
    {
     "name": "stdout",
     "output_type": "stream",
     "text": [
      "#1 : bacon has 350 calories.\n",
      "#2 : donut has 240 calories.\n",
      "#3 : muffin has 190 calories.\n"
     ]
    }
   ],
   "source": [
    "snacks = [(\"bacon\", 350), (\"donut\", 240), (\"muffin\", 190)]\n",
    "\n",
    "for i in range(len(snacks)):\n",
    "    item = snacks[i]\n",
    "    name = item[0]\n",
    "    calories = item[1]\n",
    "    print(f'#{i+1} : {name} has {calories} calories.')"
   ]
  },
  {
   "cell_type": "markdown",
   "id": "255099ab-c47e-4200-83d5-ad9625c7cb09",
   "metadata": {},
   "source": [
    "Not cool, here comes the `enumerate()`"
   ]
  },
  {
   "cell_type": "code",
   "execution_count": 88,
   "id": "4ce62df8-b1fa-455f-ab58-4ea32496de39",
   "metadata": {},
   "outputs": [
    {
     "name": "stdout",
     "output_type": "stream",
     "text": [
      "#1: bacon has 350 calories\n",
      "#2: donut has 240 calories\n",
      "#3: muffin has 190 calories\n"
     ]
    }
   ],
   "source": [
    "for rank, (name, calories) in enumerate(snacks, 1):# start=1\n",
    "    print(f\"#{rank}: {name} has {calories} calories\")"
   ]
  },
  {
   "cell_type": "markdown",
   "id": "21ac8d52-e9df-4d5f-8f3c-cb53ca1f39e9",
   "metadata": {},
   "source": [
    "### Zip() function\n",
    "\n",
    "zip wraps two or more iterators with a lazy generator.\n",
    "\n",
    "The zip generator yields tuples containing the next value from each iterator.\n",
    "\n",
    "These tuples can be unpacked directly within a for statement. \n",
    "\n",
    "The resulting code is much cleaner than the code for indexing into multiple lists:"
   ]
  },
  {
   "cell_type": "code",
   "execution_count": 1,
   "id": "62b2be5a-e382-49ef-8aef-b3b8c6994ea8",
   "metadata": {},
   "outputs": [
    {
     "name": "stdout",
     "output_type": "stream",
     "text": [
      "{'key1': 'value1', 'key2': 'value2', 'key3': 'value3'}\n"
     ]
    }
   ],
   "source": [
    "list =[[\"key1\", \"value1\"], [\"key2\", \"value2\"], [\"key3\", \"value3\"]]\n",
    "print(dict(list))"
   ]
  },
  {
   "cell_type": "markdown",
   "id": "1ce1378f-4db6-4f07-af8a-46a33da299be",
   "metadata": {},
   "source": [
    "### itertools with zip()\n",
    "\n",
    "The `itertools` built-in module contains a large number of functions that are useful for organizing and interacting with iterators.\n"
   ]
  },
  {
   "cell_type": "code",
   "execution_count": 14,
   "id": "02a3413d-1d27-41d6-acbe-1442fdf172e9",
   "metadata": {},
   "outputs": [
    {
     "name": "stdout",
     "output_type": "stream",
     "text": [
      "Cecilia\n"
     ]
    }
   ],
   "source": [
    "import itertools\n",
    "\n",
    "names = [\"Cecilia\", \"Lise\", \"Marie\"]\n",
    "counts = [len(n) for n in names]\n",
    "\n",
    "longest_name = None\n",
    "max_count = 0\n",
    "\n",
    "for i in range(len(names)):\n",
    "    count = counts[i]\n",
    "    if count > max_count:\n",
    "        longest_name = names[i]\n",
    "        max_count = count\n",
    "        \n",
    "print(longest_name)"
   ]
  },
  {
   "cell_type": "code",
   "execution_count": 15,
   "id": "44d9c262-22a6-4a19-a6fd-4defa539f920",
   "metadata": {},
   "outputs": [
    {
     "name": "stdout",
     "output_type": "stream",
     "text": [
      "Cecilia\n",
      "Cecilia : 5\n",
      "Lise : 5\n",
      "Marie : 5\n",
      "Rosalind : 5\n"
     ]
    }
   ],
   "source": [
    "# with zip() function:\n",
    "for name,count in zip(names,counts):\n",
    "    if count > max_count:\n",
    "        longest_name = name\n",
    "        max_count = count\n",
    "        \n",
    "print(longest_name)\n",
    "\n",
    "names.append(\"Rosalind\")\n",
    "\n",
    "for name,counts in itertools.zip_longest(names, counts):\n",
    "    print(f\"{name} : {count}\")"
   ]
  },
  {
   "cell_type": "markdown",
   "id": "c0e23ca4-9c91-4889-a824-1514ed2b06c0",
   "metadata": {},
   "source": [
    "### itertools merge\\repeat\\duplicate\n",
    "\n",
    "Whenever you find yourself dealing with tricky iteration code, it’s worth looking at the itertools documentation again to see if there’s anything in there for you to use (see help(itertools)).\n",
    "\n",
    "The following sections describe the most important functions that you should know in three primary categories.\n",
    "\n",
    "Linking Iterators Together The itertools built-in module includes a number of functions for linking iterators together.\n",
    "\n"
   ]
  },
  {
   "cell_type": "code",
   "execution_count": 7,
   "id": "9c3a7cce-e13c-455c-9cd1-0ddd4b7303a6",
   "metadata": {},
   "outputs": [
    {
     "name": "stdout",
     "output_type": "stream",
     "text": [
      "[1, 2, 3, 4, 5, 6]\n"
     ]
    }
   ],
   "source": [
    "import itertools\n",
    "\n",
    "# chain Use chain to combine multiple iterators into a single sequential iterator:\n",
    "it = itertools.chain([1,2,3],[4,5,6])\n",
    "print(list(it))"
   ]
  },
  {
   "cell_type": "code",
   "execution_count": 8,
   "id": "3840debd-2bad-414d-b8d7-3fe4b5488c4c",
   "metadata": {},
   "outputs": [
    {
     "name": "stdout",
     "output_type": "stream",
     "text": [
      "['hello', 'hello', 'hello']\n"
     ]
    }
   ],
   "source": [
    "# output a single value\n",
    "it = itertools.repeat(\"hello\",3)\n",
    "print(list(it))"
   ]
  },
  {
   "cell_type": "code",
   "execution_count": 9,
   "id": "11f7ca38-4dce-4419-929d-7249d9f27e0e",
   "metadata": {},
   "outputs": [
    {
     "name": "stdout",
     "output_type": "stream",
     "text": [
      "[1, 2, 1, 2, 1, 2, 1, 2, 1, 2]\n"
     ]
    }
   ],
   "source": [
    "# repeat an iterator’s items forever\n",
    "it = itertools.cycle([1,2])\n",
    "result = [next(it) for _ in range(10)]\n",
    "print(result)"
   ]
  },
  {
   "cell_type": "code",
   "execution_count": 17,
   "id": "3d924701-8d2b-4b05-923b-d867a5efa805",
   "metadata": {},
   "outputs": [
    {
     "name": "stdout",
     "output_type": "stream",
     "text": [
      "['first', 'second']\n",
      "['first', 'second']\n",
      "['first', 'second']\n"
     ]
    }
   ],
   "source": [
    "# split a single iterator into the number of parallel iterators\n",
    "it1,it2,it3 = itertools.tee([\"first\",\"second\"],3)\n",
    "print(list(it1))\n",
    "print(list(it2))\n",
    "print(list(it3))"
   ]
  },
  {
   "cell_type": "markdown",
   "id": "3aa260c0-80f4-4734-8aff-12717e9d8f4b",
   "metadata": {},
   "source": [
    "### itertools:Producing Combinations of Items from Iterators\n",
    "\n",
    "The itertools built-in module includes a number of functions for  producing combinations of items from iterators.\n",
    "\n",
    "#### accumulate \n",
    "\n",
    "accumulate folds an item from the iterator into a running value by applying a function that takes two parameters. It outputs the current accumulated result for each input value:"
   ]
  },
  {
   "cell_type": "code",
   "execution_count": 26,
   "id": "8e5e6d3e-953e-4669-8e61-3ee4981538ca",
   "metadata": {},
   "outputs": [
    {
     "name": "stdout",
     "output_type": "stream",
     "text": [
      "Sum:   [1, 3, 6, 10, 15, 21, 28, 36, 45, 55]\n"
     ]
    }
   ],
   "source": [
    "values = [1, 2, 3, 4, 5, 6, 7, 8, 9, 10]\n",
    "\n",
    "sum_reduce = itertools.accumulate(values)\n",
    "print(\"Sum:  \",list(sum_reduce))"
   ]
  },
  {
   "cell_type": "code",
   "execution_count": 27,
   "id": "6ff99ccf-3b79-468e-a251-00b8742ef167",
   "metadata": {},
   "outputs": [
    {
     "name": "stdout",
     "output_type": "stream",
     "text": [
      "Modulo:  [1, 3, 6, 10, 15, 1, 8, 16, 5, 15]\n"
     ]
    }
   ],
   "source": [
    "def sum_modulo_20(first, second):\n",
    "    output = first + second\n",
    "    return output % 20\n",
    "\n",
    "modulo_reduce = itertools.accumulate(values,sum_modulo_20)\n",
    "print('Modulo: ',list(modulo_reduce))"
   ]
  },
  {
   "cell_type": "markdown",
   "id": "fed1e372-3a37-436b-a919-41d37a72d7b1",
   "metadata": {},
   "source": [
    "This is essentially the same as the reduce function from the functools built-in module, but with outputs yielded one step at a time. By default it sums the inputs if no binary function is specified."
   ]
  },
  {
   "cell_type": "markdown",
   "id": "0c9b7fa9-87ac-449f-b70a-07f1a94c5e87",
   "metadata": {},
   "source": [
    "#### Cartesian product\n",
    "\n",
    "product returns the Cartesian product of items from one or more iterators, which is a nice alternative to using deeply nested list comprehensions:\n",
    "\n",
    "\"product 从一个或多个迭代器返回项目的笛卡尔积，这是使用深度嵌套列表推导式的一个很好的替代方法\""
   ]
  },
  {
   "cell_type": "code",
   "execution_count": 45,
   "id": "73e4e1dc-c58a-4d36-84ee-24a1efa59807",
   "metadata": {},
   "outputs": [
    {
     "name": "stdout",
     "output_type": "stream",
     "text": [
      "a d m\n",
      "a d n\n",
      "a e m\n",
      "a e n\n",
      "a f m\n",
      "a f n\n",
      "b d m\n",
      "b d n\n",
      "b e m\n",
      "b e n\n",
      "b f m\n",
      "b f n\n",
      "c d m\n",
      "c d n\n",
      "c e m\n",
      "c e n\n",
      "c f m\n",
      "c f n\n"
     ]
    }
   ],
   "source": [
    "import itertools as it\n",
    "for x,y,z in it.product(['a','b','c'],['d','e','f'],['m','n']):\n",
    "    print(x,y,z)"
   ]
  },
  {
   "cell_type": "code",
   "execution_count": 46,
   "id": "ae4c793a-0574-465b-a935-fcb4b911d42d",
   "metadata": {},
   "outputs": [
    {
     "name": "stdout",
     "output_type": "stream",
     "text": [
      "Single:  [(1, 1), (1, 2), (2, 1), (2, 2)]\n"
     ]
    }
   ],
   "source": [
    "# this is not a good example for the Cartesian product\n",
    "single = it.product([1,2],repeat=2)#modify the repetition \n",
    "print('Single: ',list(single))"
   ]
  },
  {
   "cell_type": "code",
   "execution_count": 47,
   "id": "bcb5f32a-8e76-4223-b3bd-f0f64cc71fd7",
   "metadata": {},
   "outputs": [
    {
     "name": "stdout",
     "output_type": "stream",
     "text": [
      "Multiple:  [(1, 'a'), (1, 'b'), (2, 'a'), (2, 'b')]\n"
     ]
    }
   ],
   "source": [
    "multiple = it.product([1,2],['a','b'])\n",
    "print('Multiple: ', list(multiple))"
   ]
  },
  {
   "cell_type": "markdown",
   "id": "2f93ba8b-869a-410d-a56b-af1fc423339d",
   "metadata": {},
   "source": [
    "#### permutations \n",
    "\n",
    "permutations returns the unique ordered permutations of length N with items from an iterator:"
   ]
  },
  {
   "cell_type": "code",
   "execution_count": 53,
   "id": "edee4f7d-e3fb-418c-89ba-9c375b4f42bb",
   "metadata": {},
   "outputs": [
    {
     "name": "stdout",
     "output_type": "stream",
     "text": [
      "[(1, 2), (1, 3), (1, 4), (2, 1), (2, 3), (2, 4), (3, 1), (3, 2), (3, 4), (4, 1), (4, 2), (4, 3)]\n"
     ]
    }
   ],
   "source": [
    "its = it.permutations([1,2,3,4],2)\n",
    "print(list(its))# just C42 combination = 12 kinds of sets"
   ]
  },
  {
   "cell_type": "code",
   "execution_count": 61,
   "id": "8df2f7d0-e818-4bf8-ad15-63696377502e",
   "metadata": {},
   "outputs": [
    {
     "name": "stdout",
     "output_type": "stream",
     "text": [
      "[('谢霆锋', '王菲'), ('谢霆锋', '张柏芝'), ('王菲', '谢霆锋'), ('王菲', '张柏芝'), ('张柏芝', '谢霆锋'), ('张柏芝', '王菲')]\n"
     ]
    }
   ],
   "source": [
    "own_money = it.permutations(['谢霆锋','王菲','张柏芝'],2)\n",
    "print(list(own_money))"
   ]
  },
  {
   "cell_type": "markdown",
   "id": "97fe9b15-9263-4261-a48c-7a6a2d56696f",
   "metadata": {},
   "source": [
    "#### combinations \n",
    "\n",
    "combinations returns the unordered combinations of length N with unrepeated items from an iterator:"
   ]
  },
  {
   "cell_type": "code",
   "execution_count": 62,
   "id": "fde5f1b0-e3a1-45df-9d64-179f43028915",
   "metadata": {},
   "outputs": [
    {
     "name": "stdout",
     "output_type": "stream",
     "text": [
      "[(1, 2), (1, 3), (1, 4), (2, 3), (2, 4), (3, 4)]\n"
     ]
    }
   ],
   "source": [
    "it_c = it.combinations([1,2,3,4],2)\n",
    "print(list(it_c))"
   ]
  },
  {
   "cell_type": "markdown",
   "id": "5acf028d-8fa0-4a5b-a915-c4e149819d5f",
   "metadata": {},
   "source": [
    "#### Combinations_with_replacement\n",
    "\n",
    "Yes,with replacement"
   ]
  },
  {
   "cell_type": "code",
   "execution_count": 63,
   "id": "7e4f9e15-e92e-4f19-be80-d1ac89908056",
   "metadata": {},
   "outputs": [
    {
     "name": "stdout",
     "output_type": "stream",
     "text": [
      "[(1, 1), (1, 2), (1, 3), (1, 4), (2, 2), (2, 3), (2, 4), (3, 3), (3, 4), (4, 4)]\n"
     ]
    }
   ],
   "source": [
    "it_r = it.combinations_with_replacement([1,2,3,4],2)\n",
    "print(list(it_r))"
   ]
  },
  {
   "cell_type": "markdown",
   "id": "b45b8ae7-44dd-4191-a1a1-616922e6516f",
   "metadata": {},
   "source": []
  },
  {
   "cell_type": "markdown",
   "id": "8318c95f-92ef-4144-9465-941675444d95",
   "metadata": {},
   "source": [
    "### Built in iteration functions"
   ]
  },
  {
   "cell_type": "markdown",
   "id": "6093ee7f-5f44-4daa-a2b6-3cace1c806ec",
   "metadata": {},
   "source": [
    "#### **map()** function\n",
    "\n",
    "Return an iterator that applies function to every item of iterable, yielding the results. map() function returns a map object(which is an iterator) of the results after applying the given function to each item of a given iterable (list, tuple etc.)\n",
    "\n",
    "\n",
    "Syntax :\n",
    "\n",
    "`map(func, iterable1, iterable2)`\n",
    "\n",
    "Parameters :\n",
    "\n",
    "    fun : It is a function to which map passes each element of given iterable.\n",
    "       \n",
    "                 The function can be bulit-in or created.\n",
    "        \n",
    "    iter : It is a iterable which is to be mapped.\n",
    "    \n",
    "Returns :\n",
    "\n",
    "    Returns a list of the results after applying the given function  \n",
    "    to each item of a given iterable (list, tuple etc.) \n"
   ]
  },
  {
   "cell_type": "code",
   "execution_count": 73,
   "id": "bf47473b-16c4-473a-bfa8-5a33de3ba149",
   "metadata": {},
   "outputs": [
    {
     "name": "stdout",
     "output_type": "stream",
     "text": [
      "[2, 4, 6, 8]\n"
     ]
    }
   ],
   "source": [
    "# Python program to demonstrate working\n",
    "# of map.\n",
    "# Return double of n\n",
    "\n",
    "def addition(n):\n",
    "    return n + n\n",
    "# We double all numbers using map()\n",
    "\n",
    "numbers = (1,2,3,4)\n",
    "result = map(addition,numbers)\n",
    "\n",
    "print(list(result))"
   ]
  },
  {
   "cell_type": "code",
   "execution_count": 74,
   "id": "956b0f30-15b3-4310-8e6c-e4ca05c4f929",
   "metadata": {},
   "outputs": [
    {
     "name": "stdout",
     "output_type": "stream",
     "text": [
      "[2, 4, 6, 8]\n"
     ]
    }
   ],
   "source": [
    "# or with lambda:\n",
    "numbers = (1,2,3,4)\n",
    "\n",
    "result = map(lambda x : x + x,numbers)\n",
    "print(list(result))"
   ]
  },
  {
   "cell_type": "code",
   "execution_count": 3,
   "id": "c2915885-a36d-4e80-8823-c97a67ab0e93",
   "metadata": {},
   "outputs": [
    {
     "name": "stdout",
     "output_type": "stream",
     "text": [
      "[5, 7, 9]\n"
     ]
    }
   ],
   "source": [
    "# similarily:\n",
    "num_1 = [1,2,3]\n",
    "num_2 = [4,5,6]\n",
    "\n",
    "result = map(lambda x,y: x + y,num_1,num_2)\n",
    "\n",
    "print(list(result))"
   ]
  },
  {
   "cell_type": "code",
   "execution_count": 7,
   "id": "f8ee3afe-25b6-46c8-9380-b91be2defed3",
   "metadata": {},
   "outputs": [
    {
     "name": "stdout",
     "output_type": "stream",
     "text": [
      "[['s', 'a', 't'], ['b', 'a', 't'], ['c', 'a', 't'], ['m', 'a', 't']]\n"
     ]
    }
   ],
   "source": [
    "# map() can listify the list of strings individually\n",
    "\n",
    "ts = ['sat', 'bat', 'cat', 'mat']\n",
    "\n",
    "ts_split = list(map(list,ts))\n",
    "\n",
    "print(ts_split)"
   ]
  },
  {
   "cell_type": "code",
   "execution_count": 8,
   "id": "70b822b5-95b8-4c2c-bc79-8c9539cc3ca2",
   "metadata": {},
   "outputs": [
    {
     "name": "stdout",
     "output_type": "stream",
     "text": [
      "[1, 4, 9]\n"
     ]
    }
   ],
   "source": [
    "# 1 parameter needed in the func\n",
    "\n",
    "l = map(lambda x: x * x,[1,2,3])\n",
    "print(list(l))"
   ]
  },
  {
   "cell_type": "code",
   "execution_count": 10,
   "id": "0dd00b6b-84f1-4d12-8f0c-6823ba367175",
   "metadata": {},
   "outputs": [
    {
     "name": "stdout",
     "output_type": "stream",
     "text": [
      "[(0, 'Sun'), (1, 'M'), (2, 'T'), (3, 'W'), (4, 'T'), (5, 'F'), (6, 'S')]\n"
     ]
    }
   ],
   "source": [
    "# 2 parameters needed in the func\n",
    "\n",
    "def f1(x,y):\n",
    "    return (x,y)\n",
    "\n",
    "l1 = [0,1,2,3,4,5,6]\n",
    "l2 = [\"Sun\",\"M\",\"T\",\"W\",\"T\",\"F\",\"S\"]\n",
    "l3 = map(f1,l1,l2)\n",
    "print(list(l3))"
   ]
  },
  {
   "cell_type": "markdown",
   "id": "5412ca26-8f89-49c3-8a1b-09359c2480e5",
   "metadata": {},
   "source": [
    "#### `filter`\n",
    "\n",
    "`filter(func/None, iterable)`\n",
    "\n",
    "Construct an iterator from those elements of iterable for which function returns `true`. \n",
    "\n",
    "iterable may be either a sequence, a container which supports iteration, or an iterator.\n",
    "\n",
    "If function is None, the identity function is assumed, that is, all elements of iterable that are false are removed."
   ]
  },
  {
   "cell_type": "code",
   "execution_count": 1,
   "id": "8f93e053-bbfe-4306-924b-cca3507b721d",
   "metadata": {},
   "outputs": [
    {
     "name": "stdout",
     "output_type": "stream",
     "text": [
      "[1, 3]\n"
     ]
    }
   ],
   "source": [
    "# Determine odd numbers\n",
    "\n",
    "l1 = filter(lambda x: x%2,[1,2,3,4])\n",
    "print(list(l1))"
   ]
  },
  {
   "cell_type": "code",
   "execution_count": 2,
   "id": "6d7457ed-75a7-4e0f-ae47-905e71ecb4bc",
   "metadata": {},
   "outputs": [
    {
     "name": "stdout",
     "output_type": "stream",
     "text": [
      "['s', 'h', 'e']\n"
     ]
    }
   ],
   "source": [
    "# detemine strings\n",
    "l2 = filter(None,\"she\")\n",
    "print(list(l2))"
   ]
  },
  {
   "cell_type": "code",
   "execution_count": 4,
   "id": "061c3101-8383-490b-a72e-2d3cba8b5057",
   "metadata": {},
   "outputs": [
    {
     "name": "stdout",
     "output_type": "stream",
     "text": [
      "[1, 4, 9, 16, 25, 36, 49, 64, 81, 100]\n"
     ]
    }
   ],
   "source": [
    "# filter the integer which has the integer square root within 100:\n",
    "\n",
    "import math\n",
    "\n",
    "def is_sqr(x):\n",
    "    return math.sqrt(x) % 1 == 0\n",
    "\n",
    "newlist = filter(is_sqr,range(1,101))\n",
    "\n",
    "print(list(newlist))"
   ]
  },
  {
   "cell_type": "markdown",
   "id": "676680db-eb97-4d65-a596-d009efe8c3e0",
   "metadata": {},
   "source": [
    "#### Sorted\n",
    "\n",
    "\n",
    "`sorted(iterable, *, key=None, reverse=False)`\n",
    "\n",
    "Return a new sorted list from the items in iterable.\n",
    "\n",
    "\n",
    "Has two optional arguments which must be specified as keyword arguments.\n",
    "\n",
    "key specifies a function of one argument that is used to extract a comparison key from each element in iterable (for example, key=str.lower). The default value is None (compare the elements directly).\n",
    "\n",
    "reverse is a boolean value. If set to True, then the list elements are sorted as if each comparison were reversed."
   ]
  },
  {
   "cell_type": "code",
   "execution_count": 3,
   "id": "537a0b61-cb1c-4fc0-96b0-8db8462aec3a",
   "metadata": {},
   "outputs": [
    {
     "name": "stdout",
     "output_type": "stream",
     "text": [
      "[5, 9, -12, -21, 36]\n"
     ]
    }
   ],
   "source": [
    "# absolute value sort\n",
    "print(sorted([36, 5, -12, 9, -21], key=abs))"
   ]
  },
  {
   "cell_type": "code",
   "execution_count": 5,
   "id": "9ee2b99f-f477-44e7-9fe4-b14f1c400d1b",
   "metadata": {},
   "outputs": [
    {
     "name": "stdout",
     "output_type": "stream",
     "text": [
      "['about', 'bob', 'Credit', 'Zoo']\n"
     ]
    }
   ],
   "source": [
    "# string sort:\n",
    "print(sorted([\"bob\", \"about\", \"Zoo\", \"Credit\"],key=str.lower))"
   ]
  },
  {
   "cell_type": "code",
   "execution_count": 12,
   "id": "3193d17b-7a0d-4615-89ee-a6daed3520ac",
   "metadata": {},
   "outputs": [
    {
     "name": "stdout",
     "output_type": "stream",
     "text": [
      "[('Bart', 66), ('Bob', 75), ('Lisa', 88), ('Adam', 92)]\n"
     ]
    }
   ],
   "source": [
    "# sort dictionary by value\n",
    "\n",
    "L = [(\"Bob\", 75), (\"Adam\", 92), (\"Bart\", 66), (\"Lisa\", 88)]\n",
    "d = dict(L)\n",
    "# d.items()\n",
    "\n",
    "print(sorted(d.items(),key = lambda x:x[1]))"
   ]
  },
  {
   "cell_type": "markdown",
   "id": "2c5c9298-85b8-42e2-ad06-1159e8b64261",
   "metadata": {},
   "source": [
    "#### Reduce\n",
    "\n",
    "`reduce(function, iterable[, initializer])`\n",
    "\n",
    "Apply function of two arguments cumulatively to the items of iterable, from left to right, so as to reduce the iterable to a single value. \n",
    "\n",
    "For example, reduce(lambda x, y: x+y, [1, 2, 3, 4, 5]) calculates ((((1+2)+3)+4)+5). The left argument, x, is the accumulated value and the right argument, y, is the update value from the iterable. \n",
    "\n",
    "If the optional initializer is present, it is placed before the items of the iterable in the calculation, and serves as a default when the iterable is empty. If initializer is not given and iterable contains only one item, the first item is returned."
   ]
  },
  {
   "cell_type": "code",
   "execution_count": 14,
   "id": "7a6148c6-3e30-4919-832f-efee7d1aa086",
   "metadata": {},
   "outputs": [
    {
     "name": "stdout",
     "output_type": "stream",
     "text": [
      "15\n"
     ]
    }
   ],
   "source": [
    "# reduce(f, [x1, x2, x3, x4]) = f(f(f(x1, x2), x3), x4)\n",
    "\n",
    "from functools import reduce\n",
    "\n",
    "l1 = reduce(lambda x,y : x+y, [1,2,3,4],5)\n",
    "print(l1)"
   ]
  },
  {
   "cell_type": "code",
   "execution_count": 15,
   "id": "085b5b93-8a21-4ed3-809e-14884b44aedc",
   "metadata": {},
   "outputs": [
    {
     "name": "stdout",
     "output_type": "stream",
     "text": [
      "ddaabbcc\n"
     ]
    }
   ],
   "source": [
    "l2 = reduce(lambda x,y : x+y, [\"aa\", \"bb\", \"cc\"], \"dd\")\n",
    "print(l2)"
   ]
  }
 ],
 "metadata": {
  "kernelspec": {
   "display_name": "Python 3 (ipykernel)",
   "language": "python",
   "name": "python3"
  },
  "language_info": {
   "codemirror_mode": {
    "name": "ipython",
    "version": 3
   },
   "file_extension": ".py",
   "mimetype": "text/x-python",
   "name": "python",
   "nbconvert_exporter": "python",
   "pygments_lexer": "ipython3",
   "version": "3.9.6"
  },
  "latex_envs": {
   "LaTeX_envs_menu_present": true,
   "autoclose": false,
   "autocomplete": true,
   "bibliofile": "biblio.bib",
   "cite_by": "apalike",
   "current_citInitial": 1,
   "eqLabelWithNumbers": true,
   "eqNumInitial": 1,
   "hotkeys": {
    "equation": "Ctrl-E",
    "itemize": "Ctrl-I"
   },
   "labels_anchors": false,
   "latex_user_defs": false,
   "report_style_numbering": false,
   "user_envs_cfg": false
  },
  "toc": {
   "base_numbering": 1,
   "nav_menu": {},
   "number_sections": true,
   "sideBar": true,
   "skip_h1_title": false,
   "title_cell": "Table of Contents",
   "title_sidebar": "Contents",
   "toc_cell": false,
   "toc_position": {
    "height": "calc(100% - 180px)",
    "left": "10px",
    "top": "150px",
    "width": "275.2px"
   },
   "toc_section_display": true,
   "toc_window_display": true
  },
  "varInspector": {
   "cols": {
    "lenName": 16,
    "lenType": 16,
    "lenVar": 40
   },
   "kernels_config": {
    "python": {
     "delete_cmd_postfix": "",
     "delete_cmd_prefix": "del ",
     "library": "var_list.py",
     "varRefreshCmd": "print(var_dic_list())"
    },
    "r": {
     "delete_cmd_postfix": ") ",
     "delete_cmd_prefix": "rm(",
     "library": "var_list.r",
     "varRefreshCmd": "cat(var_dic_list()) "
    }
   },
   "types_to_exclude": [
    "module",
    "function",
    "builtin_function_or_method",
    "instance",
    "_Feature"
   ],
   "window_display": false
  }
 },
 "nbformat": 4,
 "nbformat_minor": 5
}
