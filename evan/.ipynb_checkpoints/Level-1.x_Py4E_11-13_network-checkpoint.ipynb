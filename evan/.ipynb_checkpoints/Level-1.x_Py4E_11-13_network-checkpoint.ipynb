{
 "cells": [
  {
   "cell_type": "markdown",
   "id": "d59d5e35-d898-4c0f-949b-bf1c3f80250c",
   "metadata": {},
   "source": [
    "# Py4e Network Develop Chap 11-13"
   ]
  },
  {
   "cell_type": "markdown",
   "id": "ec36f803-9e37-485d-8e65-81971b067f4f",
   "metadata": {},
   "source": [
    "## Chap 11 Regular Expressions\n",
    "\n",
    "In computing, a regular expression, also referred to as “regex” or \"regexp\",provides **a concise and flexible means for matching strings of text**, such as particular characters, words, or patterns of characters. \n",
    "\n",
    "A regular expression is written in a formal language that can be interpreted by a regular expression processor."
   ]
  },
  {
   "cell_type": "markdown",
   "id": "609ebd10-9e2f-4166-ab66-1ea95f71efeb",
   "metadata": {},
   "source": [
    "### Understanding features of Regular Expressions\n",
    "\n",
    "- Very powerful and quite cryptic \n",
    "\n",
    "- Fun once you understand them\n",
    "\n",
    "- Regular expressions are a language unto themselves\n",
    "\n",
    "- A language of  **marker characters**- programming with characters\n",
    "\n",
    "- It is kind of an \"old school\" language - `compact`"
   ]
  },
  {
   "cell_type": "markdown",
   "id": "30543210-bd37-4b4a-beae-263e048a862a",
   "metadata": {},
   "source": [
    "### The Regular Expression Module\n",
    "\n",
    "- Before you can use regular expressions in your program, you must import the library using **\"import re\"**;\n",
    "\n",
    "- You can use **re.search()** to see if a string matches a regular expression, similar to using the find() method for strings;\n",
    "\n",
    "- You can use **re.findall()** to extract portions of a string that match your regular expression, similar to a combination of find() and slicing: var[5:10]\n"
   ]
  },
  {
   "cell_type": "markdown",
   "id": "371dec81-3267-465f-b0b8-abd56058a866",
   "metadata": {},
   "source": [
    "### Using re.search() like find()"
   ]
  },
  {
   "cell_type": "code",
   "execution_count": null,
   "id": "6a1743f9-899c-46e3-9075-f139983be995",
   "metadata": {},
   "outputs": [],
   "source": [
    "# run with shell below:"
   ]
  },
  {
   "cell_type": "code",
   "execution_count": 21,
   "id": "3db6262b-1e4d-4ff3-b1a9-fc701c8b151d",
   "metadata": {},
   "outputs": [],
   "source": [
    "hand = open('mbox-short.txt')\n",
    "\n",
    "for line in hand:\n",
    "    line = line.rstrip()\n",
    "    if line.find('From:') >= 0:\n",
    "        print(line)"
   ]
  },
  {
   "cell_type": "code",
   "execution_count": 28,
   "id": "b1c3d4b2-73b5-42f7-8919-e50727ac6455",
   "metadata": {},
   "outputs": [],
   "source": [
    "hand = open('mbox-short.txt')\n",
    "for line in hand:\n",
    "    line = line.rstrip()\n",
    "    if line.find('From:'):\n",
    "        print(line)"
   ]
  },
  {
   "cell_type": "code",
   "execution_count": 29,
   "id": "7bf5a43e-b092-4a6c-8101-7b61db6c38ea",
   "metadata": {},
   "outputs": [],
   "source": [
    "import re\n",
    "hand = open('mbox-short.txt')\n",
    "for line in hand:\n",
    "    line = line.rstrip()\n",
    "    if re.search('^F..m:', line):\n",
    "        print(line)"
   ]
  },
  {
   "cell_type": "code",
   "execution_count": 24,
   "id": "345129b2-5602-4a8a-bbe7-0840f01aba22",
   "metadata": {},
   "outputs": [],
   "source": [
    "import re\n",
    "hand = open('mbox-short.txt')\n",
    "for line in hand:\n",
    "    line = line.rstrip()\n",
    "    if re.search('From:',line):\n",
    "        print(line)"
   ]
  },
  {
   "cell_type": "markdown",
   "id": "bc542041-9eb0-48ed-a82f-723f4af42f93",
   "metadata": {},
   "source": [
    "### Using re.search() like startswith()\n",
    "\n",
    "run with shell below (re-chap10.py)"
   ]
  },
  {
   "cell_type": "code",
   "execution_count": 30,
   "id": "fc587ea7-756e-480f-b66f-12953409046e",
   "metadata": {},
   "outputs": [],
   "source": [
    "hand = open('mbox-short.txt')\n",
    "for line in hand:\n",
    "    line = line.rstrip()\n",
    "    if line.startswith('From:'):\n",
    "        print(line)"
   ]
  },
  {
   "cell_type": "code",
   "execution_count": 26,
   "id": "28064e54-552c-47e2-b5b1-ac0e1074ef0c",
   "metadata": {},
   "outputs": [],
   "source": [
    "import re\n",
    "hand = open('mbox-short.txt')\n",
    "for line in hand:\n",
    "    line = line.rstrip()\n",
    "    if re.search('^From:',line):\n",
    "        print(line)"
   ]
  },
  {
   "cell_type": "markdown",
   "id": "32617015-c4c9-4e45-87c1-65accbfbfb4a",
   "metadata": {},
   "source": [
    "We fine-tune what is matched by adding special characters to the string"
   ]
  },
  {
   "cell_type": "markdown",
   "id": "40aea36c-033a-4fec-b52e-121b017d9df5",
   "metadata": {},
   "source": [
    "### Matching and Extracting Data\n",
    " \n",
    "- `re.search()` returns a True/False depending on whether the string matches the regular expression\n",
    " \n",
    "- If we actually want the matching strings to be extracted, we use `re.findall()`"
   ]
  },
  {
   "cell_type": "code",
   "execution_count": 31,
   "id": "cb858ec3-24f5-4074-9274-a29ff29f75dc",
   "metadata": {},
   "outputs": [
    {
     "name": "stdout",
     "output_type": "stream",
     "text": [
      "['2', '1', '9', '4', '2']\n"
     ]
    }
   ],
   "source": [
    "import re\n",
    "x = 'My 2 favorite numbers are 19 and 42'\n",
    "y = re.findall('[0-9]',x)\n",
    "print(y)"
   ]
  },
  {
   "cell_type": "code",
   "execution_count": 32,
   "id": "a666c07c-b8e8-4c20-97ea-b3841147e9c9",
   "metadata": {},
   "outputs": [
    {
     "name": "stdout",
     "output_type": "stream",
     "text": [
      "['2', '19', '42']\n"
     ]
    }
   ],
   "source": [
    "# yeah, I missed a \"+\"after[0-9]:\n",
    "import re\n",
    "x = 'My 2 favorite numbers are 19 and 42'\n",
    "y = re.findall('[0-9]+',x)\n",
    "print(y)"
   ]
  },
  {
   "cell_type": "markdown",
   "id": "77f753c2-0090-433d-b1b3-cdd68464a049",
   "metadata": {},
   "source": [
    "[0-9]+:One or more digits"
   ]
  },
  {
   "cell_type": "code",
   "execution_count": 33,
   "id": "25d59cca-3742-4908-97b1-e9972d2d6b55",
   "metadata": {},
   "outputs": [
    {
     "data": {
      "text/plain": [
       "list"
      ]
     },
     "execution_count": 33,
     "metadata": {},
     "output_type": "execute_result"
    }
   ],
   "source": [
    "type(y) "
   ]
  },
  {
   "cell_type": "code",
   "execution_count": 34,
   "id": "21714fe3-565e-4817-b861-3b4fa2538de8",
   "metadata": {},
   "outputs": [
    {
     "name": "stdout",
     "output_type": "stream",
     "text": [
      "[]\n"
     ]
    }
   ],
   "source": [
    "y = re.findall('[AEIOU]+',x) \n",
    "# Matches a single character in the listed set\n",
    "print(y)"
   ]
  },
  {
   "cell_type": "code",
   "execution_count": 35,
   "id": "b93b5e5c-f68b-44fb-867d-d15fdd8e8607",
   "metadata": {},
   "outputs": [
    {
     "name": "stdout",
     "output_type": "stream",
     "text": [
      "['My 2 favorite numbers are 19 and 42']\n"
     ]
    }
   ],
   "source": [
    "y = re.findall('[^AEIOU]+',x)\n",
    "#Matches a single character not in the listed set\n",
    "print(y)"
   ]
  },
  {
   "cell_type": "code",
   "execution_count": 8,
   "id": "e49fd6f6-081d-4653-ad34-bc43c834105e",
   "metadata": {},
   "outputs": [
    {
     "name": "stdout",
     "output_type": "stream",
     "text": [
      "['r', 'e', 'er', 're']\n"
     ]
    }
   ],
   "source": [
    "y = re.findall('[re]+',x)\n",
    "print(y)"
   ]
  },
  {
   "cell_type": "markdown",
   "id": "1364da59-cbf5-4ed4-8149-efdf740aacb3",
   "metadata": {},
   "source": [
    "### Warning: Greedy Matching\n",
    "    \n",
    "The repeat characters `(* and +)` push outward in both directions`(greedy)` to match the **largest possible string**"
   ]
  },
  {
   "cell_type": "code",
   "execution_count": 9,
   "id": "3fb21921-0f3f-418e-affd-0610863fe416",
   "metadata": {},
   "outputs": [
    {
     "name": "stdout",
     "output_type": "stream",
     "text": [
      "['From Using the:']\n"
     ]
    }
   ],
   "source": [
    "import re\n",
    "x = 'From Using the: character'\n",
    "y = re.findall('^F.+:',x)\n",
    "print(y)"
   ]
  },
  {
   "cell_type": "markdown",
   "id": "499a5bcf-dd02-4e68-8311-fabfd513f675",
   "metadata": {},
   "source": [
    "### Non-Greedy Matching\n",
    "\n",
    "- Not all regular expression repeat codes are greedy!\n",
    "\n",
    "lf you add a `?` character, the `+ and *` chill out a bit..."
   ]
  },
  {
   "cell_type": "code",
   "execution_count": 10,
   "id": "cd818305-d56b-44b8-a54f-98bdf3601eec",
   "metadata": {},
   "outputs": [
    {
     "name": "stdout",
     "output_type": "stream",
     "text": [
      "['From:']\n"
     ]
    }
   ],
   "source": [
    "import re\n",
    "x = 'From: Using the: character'\n",
    "y = re.findall('^F.+?:',x)\n",
    "print(y)"
   ]
  },
  {
   "cell_type": "markdown",
   "id": "717a0cb9-42f5-482e-8988-0dd0d5a69007",
   "metadata": {},
   "source": [
    "### Fine-Tuning String Extraction\n",
    "\n",
    "You can refine the match for `re.findall()` and separately determine which portion of the match is to be extracted by using parentheses"
   ]
  },
  {
   "cell_type": "code",
   "execution_count": 25,
   "id": "15b48405-95ab-451b-829a-559fc2fa600c",
   "metadata": {},
   "outputs": [
    {
     "name": "stdout",
     "output_type": "stream",
     "text": [
      "['stephen.marguard@uct.ac.za']\n"
     ]
    }
   ],
   "source": [
    "import re\n",
    "x = 'From stephen.marguard@uct.ac.za sat Jan 5 09:14:16 2008'\n",
    "y = re.findall('\\S+@\\S+',x)\n",
    "print(y)"
   ]
  },
  {
   "cell_type": "markdown",
   "id": "25c090df-d20b-45c8-bb7b-b81440bbe8a0",
   "metadata": {},
   "source": [
    "Parentheses are not part of the match - but they tell where to start and stop what string to extract"
   ]
  },
  {
   "cell_type": "code",
   "execution_count": 26,
   "id": "71155c85-1c22-46ab-9b4d-c43465d59bc4",
   "metadata": {},
   "outputs": [
    {
     "name": "stdout",
     "output_type": "stream",
     "text": [
      "['stephen.marguard@uct.ac.za']\n"
     ]
    }
   ],
   "source": [
    "y = re.findall('^From (\\S+@\\S+)',x)\n",
    "print(y)"
   ]
  },
  {
   "cell_type": "markdown",
   "id": "db722c1a-f7e5-4f2e-a13d-9ad41512a214",
   "metadata": {},
   "source": [
    "### String Parsing Examples"
   ]
  },
  {
   "cell_type": "markdown",
   "id": "2d3b72e4-b497-4462-8693-15d6e18ea8ca",
   "metadata": {},
   "source": [
    "#### Extracting a hostname - using find and string slicing"
   ]
  },
  {
   "cell_type": "code",
   "execution_count": 36,
   "id": "3c29a206-d414-4e95-9a04-df07ec4ee2a2",
   "metadata": {},
   "outputs": [
    {
     "name": "stdout",
     "output_type": "stream",
     "text": [
      "21\n"
     ]
    }
   ],
   "source": [
    "data = 'From stephen.marguard@uct.ac.za sat Jan  5 09:14:16 2008'\n",
    "\n",
    "atops = data.find('@')\n",
    "print(atops)"
   ]
  },
  {
   "cell_type": "code",
   "execution_count": 37,
   "id": "8f05220e-cf7f-49ad-b74f-0d62de278668",
   "metadata": {},
   "outputs": [
    {
     "name": "stdout",
     "output_type": "stream",
     "text": [
      "31\n"
     ]
    }
   ],
   "source": [
    "sppos = data.find(' ',atops) # in the ' ',there is only one whitespace.\n",
    "print(sppos)"
   ]
  },
  {
   "cell_type": "code",
   "execution_count": 38,
   "id": "653b8317-e497-4ebb-9124-fedb8251bc38",
   "metadata": {},
   "outputs": [
    {
     "name": "stdout",
     "output_type": "stream",
     "text": [
      "uct.ac.za\n"
     ]
    }
   ],
   "source": [
    "host = data[atops + 1 : sppos]\n",
    "print(host)"
   ]
  },
  {
   "cell_type": "markdown",
   "id": "589670f0-9d82-4246-8be6-ccf1ef1547a6",
   "metadata": {},
   "source": [
    "#### The Double Split Pattern\n",
    "\n",
    "Sometimes we split a line one way, and then grab one of the pieces of the line and split that piece again"
   ]
  },
  {
   "cell_type": "code",
   "execution_count": 39,
   "id": "4b6924e4-3933-41e0-922d-acaf533faaa7",
   "metadata": {},
   "outputs": [],
   "source": [
    "line = 'From stephen.marguard@uct.ac.za sat Jan  5 09:14:16 2008'\n",
    "words = line.split()\n",
    "email = words[1]"
   ]
  },
  {
   "cell_type": "code",
   "execution_count": 40,
   "id": "0723dbfe-2e77-40b4-a819-1525735fe39e",
   "metadata": {},
   "outputs": [
    {
     "data": {
      "text/plain": [
       "['From', 'stephen.marguard@uct.ac.za', 'sat', 'Jan', '5', '09:14:16', '2008']"
      ]
     },
     "execution_count": 40,
     "metadata": {},
     "output_type": "execute_result"
    }
   ],
   "source": [
    "words"
   ]
  },
  {
   "cell_type": "code",
   "execution_count": 41,
   "id": "78408d78-2aad-4203-8dd7-a0790bbaa924",
   "metadata": {},
   "outputs": [
    {
     "data": {
      "text/plain": [
       "'stephen.marguard@uct.ac.za'"
      ]
     },
     "execution_count": 41,
     "metadata": {},
     "output_type": "execute_result"
    }
   ],
   "source": [
    "email"
   ]
  },
  {
   "cell_type": "code",
   "execution_count": 42,
   "id": "d98b5d71-b859-4b52-970e-6206ae3fd4d0",
   "metadata": {},
   "outputs": [
    {
     "name": "stdout",
     "output_type": "stream",
     "text": [
      "uct.ac.za\n"
     ]
    }
   ],
   "source": [
    "pieces = email.split('@')\n",
    "print(pieces[1])"
   ]
  },
  {
   "cell_type": "code",
   "execution_count": 43,
   "id": "a672ba2b-7acd-4aeb-8010-fb75c7308737",
   "metadata": {},
   "outputs": [
    {
     "data": {
      "text/plain": [
       "['stephen.marguard', 'uct.ac.za']"
      ]
     },
     "execution_count": 43,
     "metadata": {},
     "output_type": "execute_result"
    }
   ],
   "source": [
    "pieces"
   ]
  },
  {
   "cell_type": "markdown",
   "id": "6055c433-7efd-4512-8d51-1caef095cda1",
   "metadata": {},
   "source": [
    "#### The Regex Version"
   ]
  },
  {
   "cell_type": "code",
   "execution_count": 44,
   "id": "9ccea519-d6cf-4c01-872c-884c49d0a838",
   "metadata": {},
   "outputs": [
    {
     "name": "stdout",
     "output_type": "stream",
     "text": [
      "['uct.ac.za']\n"
     ]
    }
   ],
   "source": [
    "import re\n",
    "line = 'From stephen.marguard@uct.ac.za sat Jan  5 09:14:16 2008'\n",
    "y = re.findall('@([^ ]*)',line)\n",
    "print(y)"
   ]
  },
  {
   "cell_type": "markdown",
   "id": "25a92980-855c-43b3-836f-2ca1aa9b4fe8",
   "metadata": {},
   "source": [
    "#### Even Cooler Regex Version"
   ]
  },
  {
   "cell_type": "code",
   "execution_count": 52,
   "id": "3c78b39c-b782-424e-9961-7268b4375472",
   "metadata": {},
   "outputs": [
    {
     "name": "stdout",
     "output_type": "stream",
     "text": [
      "['uct.ac.za']\n"
     ]
    }
   ],
   "source": [
    "import re\n",
    "line = 'From stephen.marguard@uct.ac.za sat Jan  5 09:14:16 2008'\n",
    "y = re.findall('^From .*@([^ ]*)',line)\n",
    "print(y)"
   ]
  },
  {
   "cell_type": "markdown",
   "id": "7727c210-9df1-4be0-9842-8aa817fa568d",
   "metadata": {},
   "source": [
    "### Spam Confidence"
   ]
  },
  {
   "cell_type": "code",
   "execution_count": 47,
   "id": "39b41731-b6f8-4fa1-8f34-9f9a2266276b",
   "metadata": {},
   "outputs": [
    {
     "ename": "ValueError",
     "evalue": "max() arg is an empty sequence",
     "output_type": "error",
     "traceback": [
      "\u001b[0;31m-----------------------------------------------------------------------\u001b[0m",
      "\u001b[0;31mValueError\u001b[0m                            Traceback (most recent call last)",
      "\u001b[0;32m<ipython-input-47-a756653ae2fd>\u001b[0m in \u001b[0;36m<module>\u001b[0;34m\u001b[0m\n\u001b[1;32m     10\u001b[0m     \u001b[0mnumlist\u001b[0m\u001b[0;34m.\u001b[0m\u001b[0mappend\u001b[0m\u001b[0;34m(\u001b[0m\u001b[0mnum\u001b[0m\u001b[0;34m)\u001b[0m\u001b[0;34m\u001b[0m\u001b[0;34m\u001b[0m\u001b[0m\n\u001b[1;32m     11\u001b[0m \u001b[0;34m\u001b[0m\u001b[0m\n\u001b[0;32m---> 12\u001b[0;31m \u001b[0mprint\u001b[0m\u001b[0;34m(\u001b[0m\u001b[0;34m'Maximum:'\u001b[0m\u001b[0;34m,\u001b[0m\u001b[0mmax\u001b[0m\u001b[0;34m(\u001b[0m\u001b[0mnumlist\u001b[0m\u001b[0;34m)\u001b[0m\u001b[0;34m)\u001b[0m\u001b[0;34m\u001b[0m\u001b[0;34m\u001b[0m\u001b[0m\n\u001b[0m",
      "\u001b[0;31mValueError\u001b[0m: max() arg is an empty sequence"
     ]
    }
   ],
   "source": [
    "import re\n",
    "hand = open('mbox-short.txt')\n",
    "numlist = list()\n",
    "for line in hand:\n",
    "    line = line.rstrip()\n",
    "    stuff = re.findall('X-DSPAM-Confidence: ([0-9.]+)',line)\n",
    "    if len(stuff) != 1: \n",
    "        continue # skip the lines don't match\n",
    "    num = float(stuff[0])\n",
    "    numlist.append(num)\n",
    "    \n",
    "print('Maximum:',max(numlist))"
   ]
  },
  {
   "cell_type": "markdown",
   "id": "9d1460a4-ca4e-4c0f-9653-19f58df4179a",
   "metadata": {},
   "source": [
    "#### Escape Character\n",
    "\n",
    "If you want a special regular expression character \n",
    "\n",
    "to just behave normally (most of the time) you prefix it with '\\\\'"
   ]
  },
  {
   "cell_type": "code",
   "execution_count": 1,
   "id": "f48409b4-fb91-4a5b-b562-a1c462b6cfcb",
   "metadata": {},
   "outputs": [
    {
     "name": "stdout",
     "output_type": "stream",
     "text": [
      "['$10.00']\n"
     ]
    }
   ],
   "source": [
    "import re\n",
    "x = 'We just received $10.00 for cookies.'\n",
    "y = re.findall('\\$[0-9.]+',x)\n",
    "print(y)"
   ]
  },
  {
   "cell_type": "markdown",
   "id": "276c4915-44fe-4b69-9d9d-6d5936f9eb69",
   "metadata": {},
   "source": [
    "### Summary for regular expressions\n",
    "\n",
    "- Regular expressions are a cryptic but powerful language for\n",
    "\n",
    "    matching strings and extracting elements from those strings;\n",
    "    \n",
    "\n",
    "- Regular expressions have special characters that indicate intent\n",
    "\n",
    "\n",
    "While this only scratched the surface of regular expressions, we have learned a bit about the language of regular expressions. They are search strings with special characters in them that communicate your wishes to the regular expression system as to what defines \"matching\" and what is extracted from the matched strings. Here are some of those special characters and character sequences:"
   ]
  },
  {
   "cell_type": "code",
   "execution_count": null,
   "id": "696d5904-bdaa-4db2-bafd-e3fa17e6d799",
   "metadata": {},
   "outputs": [],
   "source": [
    "# ^ Matches the beginning of the line.\n",
    "\n",
    "# $ Matches the end of the line.\n",
    "\n",
    "# . Matches any character (a wildcard).\n",
    "\n",
    "# \\s Matches a whitespace character.\n",
    "\n",
    "# \\S Matches a non-whitespace character (opposite of \\s).\n",
    "\n",
    "# * Applies to the immediately preceding character and indicates to match zero or more of the preceding character(s).\n",
    "\n",
    "# *? Applies to the immediately preceding character and indicates to match zero or more of the preceding character(s) in \"non-greedy mode\".\n",
    "\n",
    "# + Applies to the immediately preceding character and indicates to match one or more of the preceding character(s).\n",
    "\n",
    "# +? Applies to the immediately preceding character and indicates to match one or more of the preceding character(s) in \"non-greedy mode\".\n",
    "\n",
    "# [aeiou] Matches a single character as long as that character is in the specified set. In this example, it would match \"a\", \"e\", \"i\", \"o\", or \"u\", but no other characters.\n",
    "\n",
    "# [a-z0-9] You can specify ranges of characters using the minus sign. This example is a single character that must be a lowercase letter or a digit.\n",
    "\n",
    "# [^A-Za-z] When the first character in the set notation is a caret, it inverts the logic. This example matches a single character that is anything other than an uppercase or lowercase letter.\n",
    "\n",
    "# ( ) When parentheses are added to a regular expression, they are ignored for the purpose of matching, but allow you to extract a particular subset of the matched string rather than the whole string when using findall().\n",
    "\n",
    "# \\b Matches the empty string, but only at the start or end of a word.\n",
    "\n",
    "# \\B Matches the empty string, but not at the start or end of a word.\n",
    "\n",
    "# \\d Matches any decimal digit; equivalent to the set [0-9].\n",
    "\n",
    "# \\D Matches any non-digit character; equivalent to the set [^0-9]."
   ]
  },
  {
   "cell_type": "markdown",
   "id": "32d28861-4cfb-4f6e-ac15-f212714f1731",
   "metadata": {},
   "source": [
    "## Chap 12 Networked programs"
   ]
  },
  {
   "cell_type": "markdown",
   "id": "9b095dfd-9240-4b7c-a36b-82c38d90de1d",
   "metadata": {},
   "source": [
    "### Built on top of IP (Internet Protocol)\n",
    "\n",
    "- Assumes IP might lose some datas tores and retransmits data if it seems to be lost\n",
    "\n",
    "- Handles “flow control\" using atransmit window\n",
    "\n",
    "- Provides a nice reliable pipe"
   ]
  },
  {
   "cell_type": "markdown",
   "id": "53f9f0b0-1656-4c32-ba1f-9526c8035f5b",
   "metadata": {},
   "source": [
    "#### TCP Connections / Sockets\n",
    "\n",
    "\"In computer networking, an Internet `socket` or network `socket` is an endpoint of a bidirectional `inter-process` communication flowacross an `Internet` Protocol-based computer network, such as the `Internet`.\""
   ]
  },
  {
   "cell_type": "markdown",
   "id": "83d119a4-c458-4578-a724-43d129ec74d8",
   "metadata": {},
   "source": [
    "#### TCP Port Numbers\n",
    "\n",
    "- A port is an `application-specific` or process-specificsoftware communications endpoint\n",
    "\n",
    "- It allows multiple networked applications to coexist on thesame server.\n",
    "\n",
    "- There is a list of well-known TCP port numbers"
   ]
  },
  {
   "cell_type": "markdown",
   "id": "5c34c177-d6ee-4312-ba6e-d5333322e74b",
   "metadata": {},
   "source": [
    "#### Sockets in Python\n",
    "\n",
    "Python has built-in support for TCP Sockets\n",
    "\n"
   ]
  },
  {
   "cell_type": "code",
   "execution_count": 3,
   "id": "ac78c472-7f51-4f19-8988-ff224c42c908",
   "metadata": {},
   "outputs": [],
   "source": [
    "import socket\n",
    "\n",
    "mysock = socket.socket(socket.AF_INET, socket.SOCK_STREAM)\n",
    "mysock.connect(('data.pr4e.org',80))"
   ]
  },
  {
   "cell_type": "markdown",
   "id": "56ea2b88-dc28-4ef7-8466-6f912f86ad8e",
   "metadata": {},
   "source": [
    "**Question: Now we have the socket,What's the kind of data we would send & what's the kind of data we expect to receive across that socket?**"
   ]
  },
  {
   "cell_type": "markdown",
   "id": "c08409fd-9ebc-4b6c-bea9-a776435f9e6b",
   "metadata": {},
   "source": [
    "### Application Protocol"
   ]
  },
  {
   "cell_type": "markdown",
   "id": "32c7f2bc-0e35-49b2-9bf5-e8bc00682840",
   "metadata": {},
   "source": [
    "Since TCP (and Python) gives us are liable socket,\n",
    "what do we want to do with the socket? \n",
    "\n",
    "What problem do we want to solve?\n",
    "\n",
    "- Application Protocols\n",
    "\n",
    "        Mail\n",
    "    \n",
    "        WWW"
   ]
  },
  {
   "cell_type": "markdown",
   "id": "bdcfd2eb-0ce3-4e5b-9151-5a188721c1e1",
   "metadata": {},
   "source": [
    "**HTTP - Hypertext Transfer Protocol**\n",
    "\n",
    "- The dominant Application Layer Protocol on the Internet\n",
    "\n",
    "    - Invented for the Web - to Retrieve HTML, Images, Documents,etc\n",
    "\n",
    "    - Extended to be data in addition to documents - Rss, Web Services, etc..\n",
    "\n",
    "Basic Concept - Make a Connection - Request a document - Retrieve the Document- Close the Connection\n",
    "\n"
   ]
  },
  {
   "cell_type": "markdown",
   "id": "19e88ee3-8d1c-48d8-8e76-99f32be844d3",
   "metadata": {},
   "source": [
    "**HTTP**\n",
    "\n",
    "The `H`yper `T`ext `T`ransfer `P`rotocol is the set of rules\n",
    "\n",
    "to allow browsers to retrieve web documents from servers over the Internet"
   ]
  },
  {
   "cell_type": "markdown",
   "id": "af467c65-b1f0-4c3e-a3f7-963b54cee1b3",
   "metadata": {},
   "source": [
    "#### What is a Protocol？\n",
    "\n",
    "- A set of rules that all parties follow so we can predict each other's behavior\n",
    "\n",
    "- And not bump into each other\n",
    "    - On two-way roads in USA, drive on the right-hand side of the road\n",
    "    - On two-way roads in the UK, drive on the left-hand side of the road"
   ]
  },
  {
   "cell_type": "markdown",
   "id": "e77b271a-44dd-4b4a-b608-86f9b6cd73cc",
   "metadata": {},
   "source": [
    "#### Getting Data From The Server\n",
    "\n",
    "- Each the user clicks on an anchor tag with an href=value to switch to a new page, the browser makes a connection to the web server and issues a “GET\" request - to GET the content of the page at the specified URL\n",
    "\n",
    "- The server returns the HTML document to the Browser which formats and displays the document to the user."
   ]
  },
  {
   "cell_type": "markdown",
   "id": "41de68bd-b221-46f5-96e5-97e86ba28e0f",
   "metadata": {},
   "source": [
    "### An HTTP Request in Python"
   ]
  },
  {
   "cell_type": "code",
   "execution_count": 12,
   "id": "f95d371f-5788-4bd1-aeee-96b8252e1ab2",
   "metadata": {},
   "outputs": [
    {
     "name": "stdout",
     "output_type": "stream",
     "text": [
      "HTTP/1.1 200 OK\n",
      "Date: Sat, 12 Jun 2021 00:04:43 GMT\n",
      "Server: Apache/2.4.18 (Ubuntu)\n",
      "Last-Modified: Sat, 13 May 2017 11:22:22 GMT\n",
      "ETag: \"a7-54f6609245537\"\n",
      "Accept-Ranges: bytes\n",
      "Content-Length: 167\n",
      "Cache-Control: max-age=0, no-cache, no-store, must-revalidate\n",
      "Pragma: no-cache\n",
      "Expires: Wed, 11 Jan 1984 05:00:00 GMT\n",
      "Connection: close\n",
      "Content-Type: text/plain\n",
      "\n",
      "But soft what light through yonder window breaks\n",
      "It is the east and Juliet is the sun\n",
      "Arise fair sun and kill the envious moon\n",
      "Who is already s\n",
      "ick and pale with grief\n",
      "\n"
     ]
    }
   ],
   "source": [
    "import socket\n",
    "\n",
    "mysock = socket.socket(socket.AF_INET, socket.SOCK_STREAM)\n",
    "mysock.connect(('data.pr4e.org', 80))\n",
    "cmd = 'GET http://data.pr4e.org/romeo.txt HTTP/1.0\\r\\n\\r\\n'.encode()\n",
    "mysock.send(cmd)\n",
    "\n",
    "while True:\n",
    "    data = mysock.recv(512)\n",
    "    if (len(data) < 1):\n",
    "        break\n",
    "    print(data.decode())\n",
    "mysock.close()"
   ]
  },
  {
   "cell_type": "markdown",
   "id": "188891ee-57dc-4dca-bbd0-9ea17a32ecdd",
   "metadata": {},
   "source": [
    "### Retrieving an image over HTTP\n",
    "\n",
    "We can use a similar program to retrieve an image across using HTTP. Instead of copying the data to the screen as the program runs, we accumulate the data in a string, trim off the headers, and then save the image data to a file as follows:\n"
   ]
  },
  {
   "cell_type": "code",
   "execution_count": 16,
   "id": "b20ee39d-60d8-4422-80a0-6b8668680ac7",
   "metadata": {},
   "outputs": [
    {
     "name": "stdout",
     "output_type": "stream",
     "text": [
      "5120 5120\n",
      "5120 10240\n",
      "5120 15360\n",
      "5120 20480\n",
      "5120 25600\n",
      "5120 30720\n",
      "5120 35840\n",
      "5120 40960\n",
      "5120 46080\n",
      "5120 51200\n",
      "5120 56320\n",
      "5120 61440\n",
      "5120 66560\n",
      "5120 71680\n",
      "5120 76800\n",
      "5120 81920\n",
      "5120 87040\n",
      "5120 92160\n",
      "5120 97280\n",
      "5120 102400\n",
      "5120 107520\n",
      "5120 112640\n",
      "5120 117760\n",
      "5120 122880\n",
      "5120 128000\n",
      "5120 133120\n",
      "5120 138240\n",
      "5120 143360\n",
      "5120 148480\n",
      "5120 153600\n",
      "5120 158720\n",
      "5120 163840\n",
      "5120 168960\n",
      "5120 174080\n",
      "5120 179200\n",
      "5120 184320\n",
      "5120 189440\n",
      "5120 194560\n",
      "5120 199680\n",
      "5120 204800\n",
      "5120 209920\n",
      "5120 215040\n",
      "5120 220160\n",
      "5120 225280\n",
      "5120 230400\n",
      "208 230608\n",
      "header length 394\n",
      "HTTP/1.1 200 OK\n",
      "Date: Sat, 12 Jun 2021 00:12:09 GMT\n",
      "Server: Apache/2.4.18 (Ubuntu)\n",
      "Last-Modified: Mon, 15 May 2017 12:27:40 GMT\n",
      "ETag: \"38342-54f8f2e5b6277\"\n",
      "Accept-Ranges: bytes\n",
      "Content-Length: 230210\n",
      "Vary: Accept-Encoding\n",
      "Cache-Control: max-age=0, no-cache, no-store, must-revalidate\n",
      "Pragma: no-cache\n",
      "Expires: Wed, 11 Jan 1984 05:00:00 GMT\n",
      "Connection: close\n",
      "Content-Type: image/jpeg\n"
     ]
    }
   ],
   "source": [
    "import socket\n",
    "import time \n",
    "\n",
    "HOST = 'data.pr4e.org'\n",
    "PORT = 80\n",
    "\n",
    "mysock = socket.socket(socket.AF_INET, socket.SOCK_STREAM)\n",
    "mysock.connect((HOST,PORT))\n",
    "mysock.sendall(b'GET http://data.pr4e.org/cover3.jpg HTTP/1.0\\r\\n\\r\\ng')\n",
    "count = 0 \n",
    "picture = b\"\"\n",
    "\n",
    "while True:\n",
    "    data = mysock.recv(5120)\n",
    "    if(len(data)<1):\n",
    "        break\n",
    "    time.sleep(0.25)\n",
    "    count = count + len(data)\n",
    "    print(len(data),count)\n",
    "    picture = picture + data\n",
    "    \n",
    "mysock.close()\n",
    "# Look for the end of the header (2 CRLF)\n",
    "pos = picture.find(b\"\\r\\n\\r\\n\")\n",
    "print(\"header length\", pos)\n",
    "print(picture[:pos].decode())\n",
    "\n",
    "# Skip past the header and save the picture data\n",
    "picture = picture[pos+4:]\n",
    "fhand = open(\"stuff.jpg\", \"wb\")\n",
    "fhand.write(picture)\n",
    "fhand.close()"
   ]
  },
  {
   "cell_type": "markdown",
   "id": "f62ad44e-8830-48e1-80a0-575ff9598622",
   "metadata": {},
   "source": [
    "### About Characters and Strings"
   ]
  },
  {
   "cell_type": "markdown",
   "id": "309005d0-496f-46ec-93f1-31a60925e4a8",
   "metadata": {},
   "source": [
    "#### Representing Simple Strings\n",
    "\n",
    "- Each character is represented by anumber between O and 256 stored in8 bits of memory\n",
    "\n",
    "- We refer to \"8 bits of memory as a\"byte\" of memory - (i.e.my diskdrive contains 3 Terabytes ofmemory)\n",
    "\n",
    "- The ord() function tells us thenumeric value of a simple ASCllcharacter"
   ]
  },
  {
   "cell_type": "code",
   "execution_count": 6,
   "id": "80692635-acb5-4711-8061-f42d24d0c3f2",
   "metadata": {},
   "outputs": [
    {
     "name": "stdout",
     "output_type": "stream",
     "text": [
      "the numeric value of A is 65.\n",
      "the numeric value of a is 97.\n",
      "the numeric value of H is 72.\n",
      "the numeric value of e is 101.\n",
      "the numeric value of \n",
      " is 10.\n"
     ]
    }
   ],
   "source": [
    "x = ('A','a','H','e','\\n')\n",
    "for i in x:\n",
    "    print(f'the numeric value of {i} is {ord(i)}.')"
   ]
  },
  {
   "cell_type": "markdown",
   "id": "71cacc3a-98de-4822-8140-8108fd0b47e2",
   "metadata": {},
   "source": [
    "### Making HTTP Easier With urllib"
   ]
  },
  {
   "cell_type": "code",
   "execution_count": 5,
   "id": "194f0d4c-18ea-49bd-a89c-b1f5fcc31a7e",
   "metadata": {},
   "outputs": [
    {
     "ename": "KeyboardInterrupt",
     "evalue": "",
     "output_type": "error",
     "traceback": [
      "\u001b[0;31m---------------------------------------------------------------------------\u001b[0m",
      "\u001b[0;31mKeyboardInterrupt\u001b[0m                         Traceback (most recent call last)",
      "\u001b[0;32m<ipython-input-5-f0cbfa4b5378>\u001b[0m in \u001b[0;36m<module>\u001b[0;34m\u001b[0m\n\u001b[1;32m      6\u001b[0m \u001b[0;32mimport\u001b[0m \u001b[0murllib\u001b[0m \u001b[0;32mas\u001b[0m \u001b[0mul\u001b[0m\u001b[0;34m\u001b[0m\u001b[0;34m\u001b[0m\u001b[0m\n\u001b[1;32m      7\u001b[0m \u001b[0;34m\u001b[0m\u001b[0m\n\u001b[0;32m----> 8\u001b[0;31m \u001b[0mfhand\u001b[0m \u001b[0;34m=\u001b[0m \u001b[0mul\u001b[0m\u001b[0;34m.\u001b[0m\u001b[0mrequest\u001b[0m\u001b[0;34m.\u001b[0m\u001b[0murlopen\u001b[0m\u001b[0;34m(\u001b[0m\u001b[0;34m'http://data.pr4e.org/romeo.txt'\u001b[0m\u001b[0;34m)\u001b[0m\u001b[0;34m\u001b[0m\u001b[0;34m\u001b[0m\u001b[0m\n\u001b[0m\u001b[1;32m      9\u001b[0m \u001b[0;34m\u001b[0m\u001b[0m\n\u001b[1;32m     10\u001b[0m \u001b[0;32mfor\u001b[0m \u001b[0mline\u001b[0m \u001b[0;32min\u001b[0m \u001b[0mfhand\u001b[0m\u001b[0;34m:\u001b[0m\u001b[0;34m\u001b[0m\u001b[0;34m\u001b[0m\u001b[0m\n",
      "\u001b[0;32m/usr/local/Caskroom/miniconda/base/envs/p9/lib/python3.9/urllib/request.py\u001b[0m in \u001b[0;36murlopen\u001b[0;34m(url, data, timeout, cafile, capath, cadefault, context)\u001b[0m\n\u001b[1;32m    212\u001b[0m     \u001b[0;32melse\u001b[0m\u001b[0;34m:\u001b[0m\u001b[0;34m\u001b[0m\u001b[0;34m\u001b[0m\u001b[0m\n\u001b[1;32m    213\u001b[0m         \u001b[0mopener\u001b[0m \u001b[0;34m=\u001b[0m \u001b[0m_opener\u001b[0m\u001b[0;34m\u001b[0m\u001b[0;34m\u001b[0m\u001b[0m\n\u001b[0;32m--> 214\u001b[0;31m     \u001b[0;32mreturn\u001b[0m \u001b[0mopener\u001b[0m\u001b[0;34m.\u001b[0m\u001b[0mopen\u001b[0m\u001b[0;34m(\u001b[0m\u001b[0murl\u001b[0m\u001b[0;34m,\u001b[0m \u001b[0mdata\u001b[0m\u001b[0;34m,\u001b[0m \u001b[0mtimeout\u001b[0m\u001b[0;34m)\u001b[0m\u001b[0;34m\u001b[0m\u001b[0;34m\u001b[0m\u001b[0m\n\u001b[0m\u001b[1;32m    215\u001b[0m \u001b[0;34m\u001b[0m\u001b[0m\n\u001b[1;32m    216\u001b[0m \u001b[0;32mdef\u001b[0m \u001b[0minstall_opener\u001b[0m\u001b[0;34m(\u001b[0m\u001b[0mopener\u001b[0m\u001b[0;34m)\u001b[0m\u001b[0;34m:\u001b[0m\u001b[0;34m\u001b[0m\u001b[0;34m\u001b[0m\u001b[0m\n",
      "\u001b[0;32m/usr/local/Caskroom/miniconda/base/envs/p9/lib/python3.9/urllib/request.py\u001b[0m in \u001b[0;36mopen\u001b[0;34m(self, fullurl, data, timeout)\u001b[0m\n\u001b[1;32m    515\u001b[0m \u001b[0;34m\u001b[0m\u001b[0m\n\u001b[1;32m    516\u001b[0m         \u001b[0msys\u001b[0m\u001b[0;34m.\u001b[0m\u001b[0maudit\u001b[0m\u001b[0;34m(\u001b[0m\u001b[0;34m'urllib.Request'\u001b[0m\u001b[0;34m,\u001b[0m \u001b[0mreq\u001b[0m\u001b[0;34m.\u001b[0m\u001b[0mfull_url\u001b[0m\u001b[0;34m,\u001b[0m \u001b[0mreq\u001b[0m\u001b[0;34m.\u001b[0m\u001b[0mdata\u001b[0m\u001b[0;34m,\u001b[0m \u001b[0mreq\u001b[0m\u001b[0;34m.\u001b[0m\u001b[0mheaders\u001b[0m\u001b[0;34m,\u001b[0m \u001b[0mreq\u001b[0m\u001b[0;34m.\u001b[0m\u001b[0mget_method\u001b[0m\u001b[0;34m(\u001b[0m\u001b[0;34m)\u001b[0m\u001b[0;34m)\u001b[0m\u001b[0;34m\u001b[0m\u001b[0;34m\u001b[0m\u001b[0m\n\u001b[0;32m--> 517\u001b[0;31m         \u001b[0mresponse\u001b[0m \u001b[0;34m=\u001b[0m \u001b[0mself\u001b[0m\u001b[0;34m.\u001b[0m\u001b[0m_open\u001b[0m\u001b[0;34m(\u001b[0m\u001b[0mreq\u001b[0m\u001b[0;34m,\u001b[0m \u001b[0mdata\u001b[0m\u001b[0;34m)\u001b[0m\u001b[0;34m\u001b[0m\u001b[0;34m\u001b[0m\u001b[0m\n\u001b[0m\u001b[1;32m    518\u001b[0m \u001b[0;34m\u001b[0m\u001b[0m\n\u001b[1;32m    519\u001b[0m         \u001b[0;31m# post-process response\u001b[0m\u001b[0;34m\u001b[0m\u001b[0;34m\u001b[0m\u001b[0;34m\u001b[0m\u001b[0m\n",
      "\u001b[0;32m/usr/local/Caskroom/miniconda/base/envs/p9/lib/python3.9/urllib/request.py\u001b[0m in \u001b[0;36m_open\u001b[0;34m(self, req, data)\u001b[0m\n\u001b[1;32m    532\u001b[0m \u001b[0;34m\u001b[0m\u001b[0m\n\u001b[1;32m    533\u001b[0m         \u001b[0mprotocol\u001b[0m \u001b[0;34m=\u001b[0m \u001b[0mreq\u001b[0m\u001b[0;34m.\u001b[0m\u001b[0mtype\u001b[0m\u001b[0;34m\u001b[0m\u001b[0;34m\u001b[0m\u001b[0m\n\u001b[0;32m--> 534\u001b[0;31m         result = self._call_chain(self.handle_open, protocol, protocol +\n\u001b[0m\u001b[1;32m    535\u001b[0m                                   '_open', req)\n\u001b[1;32m    536\u001b[0m         \u001b[0;32mif\u001b[0m \u001b[0mresult\u001b[0m\u001b[0;34m:\u001b[0m\u001b[0;34m\u001b[0m\u001b[0;34m\u001b[0m\u001b[0m\n",
      "\u001b[0;32m/usr/local/Caskroom/miniconda/base/envs/p9/lib/python3.9/urllib/request.py\u001b[0m in \u001b[0;36m_call_chain\u001b[0;34m(self, chain, kind, meth_name, *args)\u001b[0m\n\u001b[1;32m    492\u001b[0m         \u001b[0;32mfor\u001b[0m \u001b[0mhandler\u001b[0m \u001b[0;32min\u001b[0m \u001b[0mhandlers\u001b[0m\u001b[0;34m:\u001b[0m\u001b[0;34m\u001b[0m\u001b[0;34m\u001b[0m\u001b[0m\n\u001b[1;32m    493\u001b[0m             \u001b[0mfunc\u001b[0m \u001b[0;34m=\u001b[0m \u001b[0mgetattr\u001b[0m\u001b[0;34m(\u001b[0m\u001b[0mhandler\u001b[0m\u001b[0;34m,\u001b[0m \u001b[0mmeth_name\u001b[0m\u001b[0;34m)\u001b[0m\u001b[0;34m\u001b[0m\u001b[0;34m\u001b[0m\u001b[0m\n\u001b[0;32m--> 494\u001b[0;31m             \u001b[0mresult\u001b[0m \u001b[0;34m=\u001b[0m \u001b[0mfunc\u001b[0m\u001b[0;34m(\u001b[0m\u001b[0;34m*\u001b[0m\u001b[0margs\u001b[0m\u001b[0;34m)\u001b[0m\u001b[0;34m\u001b[0m\u001b[0;34m\u001b[0m\u001b[0m\n\u001b[0m\u001b[1;32m    495\u001b[0m             \u001b[0;32mif\u001b[0m \u001b[0mresult\u001b[0m \u001b[0;32mis\u001b[0m \u001b[0;32mnot\u001b[0m \u001b[0;32mNone\u001b[0m\u001b[0;34m:\u001b[0m\u001b[0;34m\u001b[0m\u001b[0;34m\u001b[0m\u001b[0m\n\u001b[1;32m    496\u001b[0m                 \u001b[0;32mreturn\u001b[0m \u001b[0mresult\u001b[0m\u001b[0;34m\u001b[0m\u001b[0;34m\u001b[0m\u001b[0m\n",
      "\u001b[0;32m/usr/local/Caskroom/miniconda/base/envs/p9/lib/python3.9/urllib/request.py\u001b[0m in \u001b[0;36mhttp_open\u001b[0;34m(self, req)\u001b[0m\n\u001b[1;32m   1373\u001b[0m \u001b[0;34m\u001b[0m\u001b[0m\n\u001b[1;32m   1374\u001b[0m     \u001b[0;32mdef\u001b[0m \u001b[0mhttp_open\u001b[0m\u001b[0;34m(\u001b[0m\u001b[0mself\u001b[0m\u001b[0;34m,\u001b[0m \u001b[0mreq\u001b[0m\u001b[0;34m)\u001b[0m\u001b[0;34m:\u001b[0m\u001b[0;34m\u001b[0m\u001b[0;34m\u001b[0m\u001b[0m\n\u001b[0;32m-> 1375\u001b[0;31m         \u001b[0;32mreturn\u001b[0m \u001b[0mself\u001b[0m\u001b[0;34m.\u001b[0m\u001b[0mdo_open\u001b[0m\u001b[0;34m(\u001b[0m\u001b[0mhttp\u001b[0m\u001b[0;34m.\u001b[0m\u001b[0mclient\u001b[0m\u001b[0;34m.\u001b[0m\u001b[0mHTTPConnection\u001b[0m\u001b[0;34m,\u001b[0m \u001b[0mreq\u001b[0m\u001b[0;34m)\u001b[0m\u001b[0;34m\u001b[0m\u001b[0;34m\u001b[0m\u001b[0m\n\u001b[0m\u001b[1;32m   1376\u001b[0m \u001b[0;34m\u001b[0m\u001b[0m\n\u001b[1;32m   1377\u001b[0m     \u001b[0mhttp_request\u001b[0m \u001b[0;34m=\u001b[0m \u001b[0mAbstractHTTPHandler\u001b[0m\u001b[0;34m.\u001b[0m\u001b[0mdo_request_\u001b[0m\u001b[0;34m\u001b[0m\u001b[0;34m\u001b[0m\u001b[0m\n",
      "\u001b[0;32m/usr/local/Caskroom/miniconda/base/envs/p9/lib/python3.9/urllib/request.py\u001b[0m in \u001b[0;36mdo_open\u001b[0;34m(self, http_class, req, **http_conn_args)\u001b[0m\n\u001b[1;32m   1344\u001b[0m         \u001b[0;32mtry\u001b[0m\u001b[0;34m:\u001b[0m\u001b[0;34m\u001b[0m\u001b[0;34m\u001b[0m\u001b[0m\n\u001b[1;32m   1345\u001b[0m             \u001b[0;32mtry\u001b[0m\u001b[0;34m:\u001b[0m\u001b[0;34m\u001b[0m\u001b[0;34m\u001b[0m\u001b[0m\n\u001b[0;32m-> 1346\u001b[0;31m                 h.request(req.get_method(), req.selector, req.data, headers,\n\u001b[0m\u001b[1;32m   1347\u001b[0m                           encode_chunked=req.has_header('Transfer-encoding'))\n\u001b[1;32m   1348\u001b[0m             \u001b[0;32mexcept\u001b[0m \u001b[0mOSError\u001b[0m \u001b[0;32mas\u001b[0m \u001b[0merr\u001b[0m\u001b[0;34m:\u001b[0m \u001b[0;31m# timeout error\u001b[0m\u001b[0;34m\u001b[0m\u001b[0;34m\u001b[0m\u001b[0m\n",
      "\u001b[0;32m/usr/local/Caskroom/miniconda/base/envs/p9/lib/python3.9/http/client.py\u001b[0m in \u001b[0;36mrequest\u001b[0;34m(self, method, url, body, headers, encode_chunked)\u001b[0m\n\u001b[1;32m   1251\u001b[0m                 encode_chunked=False):\n\u001b[1;32m   1252\u001b[0m         \u001b[0;34m\"\"\"Send a complete request to the server.\"\"\"\u001b[0m\u001b[0;34m\u001b[0m\u001b[0;34m\u001b[0m\u001b[0m\n\u001b[0;32m-> 1253\u001b[0;31m         \u001b[0mself\u001b[0m\u001b[0;34m.\u001b[0m\u001b[0m_send_request\u001b[0m\u001b[0;34m(\u001b[0m\u001b[0mmethod\u001b[0m\u001b[0;34m,\u001b[0m \u001b[0murl\u001b[0m\u001b[0;34m,\u001b[0m \u001b[0mbody\u001b[0m\u001b[0;34m,\u001b[0m \u001b[0mheaders\u001b[0m\u001b[0;34m,\u001b[0m \u001b[0mencode_chunked\u001b[0m\u001b[0;34m)\u001b[0m\u001b[0;34m\u001b[0m\u001b[0;34m\u001b[0m\u001b[0m\n\u001b[0m\u001b[1;32m   1254\u001b[0m \u001b[0;34m\u001b[0m\u001b[0m\n\u001b[1;32m   1255\u001b[0m     \u001b[0;32mdef\u001b[0m \u001b[0m_send_request\u001b[0m\u001b[0;34m(\u001b[0m\u001b[0mself\u001b[0m\u001b[0;34m,\u001b[0m \u001b[0mmethod\u001b[0m\u001b[0;34m,\u001b[0m \u001b[0murl\u001b[0m\u001b[0;34m,\u001b[0m \u001b[0mbody\u001b[0m\u001b[0;34m,\u001b[0m \u001b[0mheaders\u001b[0m\u001b[0;34m,\u001b[0m \u001b[0mencode_chunked\u001b[0m\u001b[0;34m)\u001b[0m\u001b[0;34m:\u001b[0m\u001b[0;34m\u001b[0m\u001b[0;34m\u001b[0m\u001b[0m\n",
      "\u001b[0;32m/usr/local/Caskroom/miniconda/base/envs/p9/lib/python3.9/http/client.py\u001b[0m in \u001b[0;36m_send_request\u001b[0;34m(self, method, url, body, headers, encode_chunked)\u001b[0m\n\u001b[1;32m   1297\u001b[0m             \u001b[0;31m# default charset of iso-8859-1.\u001b[0m\u001b[0;34m\u001b[0m\u001b[0;34m\u001b[0m\u001b[0;34m\u001b[0m\u001b[0m\n\u001b[1;32m   1298\u001b[0m             \u001b[0mbody\u001b[0m \u001b[0;34m=\u001b[0m \u001b[0m_encode\u001b[0m\u001b[0;34m(\u001b[0m\u001b[0mbody\u001b[0m\u001b[0;34m,\u001b[0m \u001b[0;34m'body'\u001b[0m\u001b[0;34m)\u001b[0m\u001b[0;34m\u001b[0m\u001b[0;34m\u001b[0m\u001b[0m\n\u001b[0;32m-> 1299\u001b[0;31m         \u001b[0mself\u001b[0m\u001b[0;34m.\u001b[0m\u001b[0mendheaders\u001b[0m\u001b[0;34m(\u001b[0m\u001b[0mbody\u001b[0m\u001b[0;34m,\u001b[0m \u001b[0mencode_chunked\u001b[0m\u001b[0;34m=\u001b[0m\u001b[0mencode_chunked\u001b[0m\u001b[0;34m)\u001b[0m\u001b[0;34m\u001b[0m\u001b[0;34m\u001b[0m\u001b[0m\n\u001b[0m\u001b[1;32m   1300\u001b[0m \u001b[0;34m\u001b[0m\u001b[0m\n\u001b[1;32m   1301\u001b[0m     \u001b[0;32mdef\u001b[0m \u001b[0mgetresponse\u001b[0m\u001b[0;34m(\u001b[0m\u001b[0mself\u001b[0m\u001b[0;34m)\u001b[0m\u001b[0;34m:\u001b[0m\u001b[0;34m\u001b[0m\u001b[0;34m\u001b[0m\u001b[0m\n",
      "\u001b[0;32m/usr/local/Caskroom/miniconda/base/envs/p9/lib/python3.9/http/client.py\u001b[0m in \u001b[0;36mendheaders\u001b[0;34m(self, message_body, encode_chunked)\u001b[0m\n\u001b[1;32m   1246\u001b[0m         \u001b[0;32melse\u001b[0m\u001b[0;34m:\u001b[0m\u001b[0;34m\u001b[0m\u001b[0;34m\u001b[0m\u001b[0m\n\u001b[1;32m   1247\u001b[0m             \u001b[0;32mraise\u001b[0m \u001b[0mCannotSendHeader\u001b[0m\u001b[0;34m(\u001b[0m\u001b[0;34m)\u001b[0m\u001b[0;34m\u001b[0m\u001b[0;34m\u001b[0m\u001b[0m\n\u001b[0;32m-> 1248\u001b[0;31m         \u001b[0mself\u001b[0m\u001b[0;34m.\u001b[0m\u001b[0m_send_output\u001b[0m\u001b[0;34m(\u001b[0m\u001b[0mmessage_body\u001b[0m\u001b[0;34m,\u001b[0m \u001b[0mencode_chunked\u001b[0m\u001b[0;34m=\u001b[0m\u001b[0mencode_chunked\u001b[0m\u001b[0;34m)\u001b[0m\u001b[0;34m\u001b[0m\u001b[0;34m\u001b[0m\u001b[0m\n\u001b[0m\u001b[1;32m   1249\u001b[0m \u001b[0;34m\u001b[0m\u001b[0m\n\u001b[1;32m   1250\u001b[0m     def request(self, method, url, body=None, headers={}, *,\n",
      "\u001b[0;32m/usr/local/Caskroom/miniconda/base/envs/p9/lib/python3.9/http/client.py\u001b[0m in \u001b[0;36m_send_output\u001b[0;34m(self, message_body, encode_chunked)\u001b[0m\n\u001b[1;32m   1006\u001b[0m         \u001b[0mmsg\u001b[0m \u001b[0;34m=\u001b[0m \u001b[0;34mb\"\\r\\n\"\u001b[0m\u001b[0;34m.\u001b[0m\u001b[0mjoin\u001b[0m\u001b[0;34m(\u001b[0m\u001b[0mself\u001b[0m\u001b[0;34m.\u001b[0m\u001b[0m_buffer\u001b[0m\u001b[0;34m)\u001b[0m\u001b[0;34m\u001b[0m\u001b[0;34m\u001b[0m\u001b[0m\n\u001b[1;32m   1007\u001b[0m         \u001b[0;32mdel\u001b[0m \u001b[0mself\u001b[0m\u001b[0;34m.\u001b[0m\u001b[0m_buffer\u001b[0m\u001b[0;34m[\u001b[0m\u001b[0;34m:\u001b[0m\u001b[0;34m]\u001b[0m\u001b[0;34m\u001b[0m\u001b[0;34m\u001b[0m\u001b[0m\n\u001b[0;32m-> 1008\u001b[0;31m         \u001b[0mself\u001b[0m\u001b[0;34m.\u001b[0m\u001b[0msend\u001b[0m\u001b[0;34m(\u001b[0m\u001b[0mmsg\u001b[0m\u001b[0;34m)\u001b[0m\u001b[0;34m\u001b[0m\u001b[0;34m\u001b[0m\u001b[0m\n\u001b[0m\u001b[1;32m   1009\u001b[0m \u001b[0;34m\u001b[0m\u001b[0m\n\u001b[1;32m   1010\u001b[0m         \u001b[0;32mif\u001b[0m \u001b[0mmessage_body\u001b[0m \u001b[0;32mis\u001b[0m \u001b[0;32mnot\u001b[0m \u001b[0;32mNone\u001b[0m\u001b[0;34m:\u001b[0m\u001b[0;34m\u001b[0m\u001b[0;34m\u001b[0m\u001b[0m\n",
      "\u001b[0;32m/usr/local/Caskroom/miniconda/base/envs/p9/lib/python3.9/http/client.py\u001b[0m in \u001b[0;36msend\u001b[0;34m(self, data)\u001b[0m\n\u001b[1;32m    946\u001b[0m         \u001b[0;32mif\u001b[0m \u001b[0mself\u001b[0m\u001b[0;34m.\u001b[0m\u001b[0msock\u001b[0m \u001b[0;32mis\u001b[0m \u001b[0;32mNone\u001b[0m\u001b[0;34m:\u001b[0m\u001b[0;34m\u001b[0m\u001b[0;34m\u001b[0m\u001b[0m\n\u001b[1;32m    947\u001b[0m             \u001b[0;32mif\u001b[0m \u001b[0mself\u001b[0m\u001b[0;34m.\u001b[0m\u001b[0mauto_open\u001b[0m\u001b[0;34m:\u001b[0m\u001b[0;34m\u001b[0m\u001b[0;34m\u001b[0m\u001b[0m\n\u001b[0;32m--> 948\u001b[0;31m                 \u001b[0mself\u001b[0m\u001b[0;34m.\u001b[0m\u001b[0mconnect\u001b[0m\u001b[0;34m(\u001b[0m\u001b[0;34m)\u001b[0m\u001b[0;34m\u001b[0m\u001b[0;34m\u001b[0m\u001b[0m\n\u001b[0m\u001b[1;32m    949\u001b[0m             \u001b[0;32melse\u001b[0m\u001b[0;34m:\u001b[0m\u001b[0;34m\u001b[0m\u001b[0;34m\u001b[0m\u001b[0m\n\u001b[1;32m    950\u001b[0m                 \u001b[0;32mraise\u001b[0m \u001b[0mNotConnected\u001b[0m\u001b[0;34m(\u001b[0m\u001b[0;34m)\u001b[0m\u001b[0;34m\u001b[0m\u001b[0;34m\u001b[0m\u001b[0m\n",
      "\u001b[0;32m/usr/local/Caskroom/miniconda/base/envs/p9/lib/python3.9/http/client.py\u001b[0m in \u001b[0;36mconnect\u001b[0;34m(self)\u001b[0m\n\u001b[1;32m    917\u001b[0m     \u001b[0;32mdef\u001b[0m \u001b[0mconnect\u001b[0m\u001b[0;34m(\u001b[0m\u001b[0mself\u001b[0m\u001b[0;34m)\u001b[0m\u001b[0;34m:\u001b[0m\u001b[0;34m\u001b[0m\u001b[0;34m\u001b[0m\u001b[0m\n\u001b[1;32m    918\u001b[0m         \u001b[0;34m\"\"\"Connect to the host and port specified in __init__.\"\"\"\u001b[0m\u001b[0;34m\u001b[0m\u001b[0;34m\u001b[0m\u001b[0m\n\u001b[0;32m--> 919\u001b[0;31m         self.sock = self._create_connection(\n\u001b[0m\u001b[1;32m    920\u001b[0m             (self.host,self.port), self.timeout, self.source_address)\n\u001b[1;32m    921\u001b[0m         \u001b[0mself\u001b[0m\u001b[0;34m.\u001b[0m\u001b[0msock\u001b[0m\u001b[0;34m.\u001b[0m\u001b[0msetsockopt\u001b[0m\u001b[0;34m(\u001b[0m\u001b[0msocket\u001b[0m\u001b[0;34m.\u001b[0m\u001b[0mIPPROTO_TCP\u001b[0m\u001b[0;34m,\u001b[0m \u001b[0msocket\u001b[0m\u001b[0;34m.\u001b[0m\u001b[0mTCP_NODELAY\u001b[0m\u001b[0;34m,\u001b[0m \u001b[0;36m1\u001b[0m\u001b[0;34m)\u001b[0m\u001b[0;34m\u001b[0m\u001b[0;34m\u001b[0m\u001b[0m\n",
      "\u001b[0;32m/usr/local/Caskroom/miniconda/base/envs/p9/lib/python3.9/socket.py\u001b[0m in \u001b[0;36mcreate_connection\u001b[0;34m(address, timeout, source_address)\u001b[0m\n\u001b[1;32m    829\u001b[0m             \u001b[0;32mif\u001b[0m \u001b[0msource_address\u001b[0m\u001b[0;34m:\u001b[0m\u001b[0;34m\u001b[0m\u001b[0;34m\u001b[0m\u001b[0m\n\u001b[1;32m    830\u001b[0m                 \u001b[0msock\u001b[0m\u001b[0;34m.\u001b[0m\u001b[0mbind\u001b[0m\u001b[0;34m(\u001b[0m\u001b[0msource_address\u001b[0m\u001b[0;34m)\u001b[0m\u001b[0;34m\u001b[0m\u001b[0;34m\u001b[0m\u001b[0m\n\u001b[0;32m--> 831\u001b[0;31m             \u001b[0msock\u001b[0m\u001b[0;34m.\u001b[0m\u001b[0mconnect\u001b[0m\u001b[0;34m(\u001b[0m\u001b[0msa\u001b[0m\u001b[0;34m)\u001b[0m\u001b[0;34m\u001b[0m\u001b[0;34m\u001b[0m\u001b[0m\n\u001b[0m\u001b[1;32m    832\u001b[0m             \u001b[0;31m# Break explicitly a reference cycle\u001b[0m\u001b[0;34m\u001b[0m\u001b[0;34m\u001b[0m\u001b[0;34m\u001b[0m\u001b[0m\n\u001b[1;32m    833\u001b[0m             \u001b[0merr\u001b[0m \u001b[0;34m=\u001b[0m \u001b[0;32mNone\u001b[0m\u001b[0;34m\u001b[0m\u001b[0;34m\u001b[0m\u001b[0m\n",
      "\u001b[0;31mKeyboardInterrupt\u001b[0m: "
     ]
    }
   ],
   "source": [
    "# Since HTTP is so common, we have alibrary that does all the socket \n",
    "# work for us and makes web pages look like a file:\n",
    "# urllib1.py\n",
    "\n",
    "import urllib.request, urllib.parse, urllib.error\n",
    "import urllib as ul\n",
    "\n",
    "fhand = ul.request.urlopen('http://data.pr4e.org/romeo.txt')\n",
    "\n",
    "for line in fhand:\n",
    "    print(line.decode().strip())"
   ]
  },
  {
   "cell_type": "code",
   "execution_count": null,
   "id": "a6ef7446-9d25-4098-83f7-bc52a2ebad57",
   "metadata": {},
   "outputs": [],
   "source": [
    "import urllib.request, urllib.parse, urllib.error\n",
    "import urllib as ul\n",
    "\n",
    "fhand = ul.request.urlopen('http://data.pr4e.org/romeo.txt')\n",
    "\n",
    "counts = dict()\n",
    "\n",
    "for line in fhand:\n",
    "    words = line.decode().split()\n",
    "    for word in words:\n",
    "        counts[word] = counts.get(word,0) +1\n",
    "print(counts)"
   ]
  },
  {
   "cell_type": "markdown",
   "id": "79dd412e-1417-4cbc-979a-f573eb6e15f7",
   "metadata": {},
   "source": [
    "#### Readling Web Pages--The first lines of code @ Google "
   ]
  },
  {
   "cell_type": "code",
   "execution_count": 5,
   "id": "ce2fe5f3-60cb-43d8-af65-5f7feab7ecb7",
   "metadata": {},
   "outputs": [
    {
     "name": "stdout",
     "output_type": "stream",
     "text": [
      "<html>\n",
      "<head>\n",
      "<title>Dr. Charles R. Severance Home Page</title>\n",
      "<meta name=\"verify-v1\" content=\"WQuA2ZPREiCyTlgNh/fv0jvzKJxrpzlagjiPaakSNH0=\" />\n",
      "<style type=\"text/css\">\n",
      "body { background: black; font-family: Arial,Helvetica,Verdana,Sans-Serif; color: white;}\n",
      "body table { font-size: 11pt; }\n",
      "a:link, a:visited, a:active { color: gray; text-decoration: none; font-weight: bold}\n",
      "a:hover { color:orange }\n",
      "strong {color: orange; }\n",
      "em {color: yellow; font-style: normal;}\n",
      "\n",
      "#twitter_div {\n",
      "color: yellow;\n",
      "text-align: center;\n",
      "}\n",
      "#twitter_div ul {\n",
      "display: inline;\n",
      "fornt-size: 75%;\n",
      "margin:0px 0px 0px 0px;\n",
      "padding:0px 0px 0px 0px;\n",
      "list-style-type: none;\n",
      "}\n",
      "#twitter_div p {\n",
      "margin:0px 0px 0px 0px;\n",
      "text-align: center;\n",
      "}\n",
      "</style>\n",
      "<link rel=\"alternate\" type=\"application/rss+xml\" title=\"RSS\" href=\"https://www.dr-chuck.com/csev-blog/index.rdf\" />\n",
      "<link rel=\"alternate\" type=\"application/atom+xml\" title=\"Atom\" href=\"https://www.dr-chuck.com/csev-blog/atom.xml\" />\n",
      "<meta name=\"google-translate-customization\" content=\"502d2c1a267d1206-8efe060c714e194c-g94a06c6c571083ae-11\"></meta>\n",
      "</head>\n",
      "<body>\n",
      "<table border=0>\n",
      "<tr>\n",
      "<td align=center valign=top width=180>\n",
      "<a href=\"https://www.learnerprivacy.org/\">\n",
      "<img align=\"center\" src=\"Chuck_Square_B&W.jpg\" width=\"160\" style=\"border: white 2px solid;\" alt=\"Photo Credit: Brent Severance\">\n",
      "</a>\n",
      "<br>\n",
      "<br> <a href=\"https://www.si.umich.edu/\" target=\"_blank\">School of Information</a>\n",
      "<br/>\n",
      "<a href=\"https://www.ratemyprofessors.com/ShowRatings.jsp?tid=1159280\" target=\"_blank\">\n",
      "<img src=\"/images/rate-my-professor.jpg\" width=\"140\" alt=\"Rate This Professor\"></a>\n",
      "<br> &nbsp\n",
      "<br> <a href=https://www.learnerprivacy.org>Podcast</a>\n",
      "<br> <a href=https://www.dr-chuck.com/csev-blog/>Blog</a>\n",
      "<br> <a href=https://www.twitter.com/drchuck/ target=_blank>@drchuck Twitter</a>\n",
      "<br> <a href=\"https://www.dr-chuck.com/dr-chuck/resume/speaking.htm\" target=_blank>Keynote Speaker</a>\n",
      "<br/> <a href=\"https://www.slideshare.net/csev\" target=\"_blank\">Slideshare</a>\n",
      "<br> <a href=/dr-chuck/resume/index.htm target=_blank>Resume and Bio</a>\n",
      "<br>\n",
      "<a target=\"_blank\" href=\"https://amzn.to/1K5Q81K\">Amazon Author Page</a>\n",
      "<br>\n",
      "<a target=\"_blank\" href=\"https://www.coursera.org/instructor/drchuck\">My Coursera Page</a>\n",
      "<br> <a href=\"http://afs.dr-chuck.com/papers/\" target=_blank>Chuck's Papers</a>\n",
      "<br> <a href=\"https://itunes.apple.com/us/podcast/computing-conversations/id731495760\" target=\"_blank\">IEEE Audio Podcast</a>\n",
      "<br> <a href=\"https://www.youtube.com/playlist?list=PLHJB2bhmgB7dFuY7HmrXLj5BmHGKTD-3R\" target=\"_blank\">IEEE Video Interviews</a>\n",
      "<br> <a href=\"https://developers.imsglobal.org/\" target=\"_blank\">IMS LTI</a>\n",
      "<br> <a href=\"https://www.youtube.com/user/csev\" target=_blank>YouTube Channel </a>\n",
      "<br> <a href=\"https://vimeo.com/drchuck/videos\" target=_blank>Video on Vimeo</a>\n",
      "<br> <a href=\"https://backpack.openbadges.org/share/4f76699ddb399d162a00b89a452074b3/\" target=\"_blank\">My Open Badges</a>\n",
      "<br>\n",
      "&nbsp;\n",
      "<br/>\n",
      "<a href=\"https://www.linkedin.com/in/charlesseverance/\" target=\"_blank\">\n",
      "<img src=\"https://www.linkedin.com/img/webpromo/btn_viewmy_120x33.png\"\n",
      "width=\"120\" height=\"33\" border=\"0\" alt=\"View Chuck Severance's profile on LinkedIn\">\n",
      "</a>\n",
      "<br/>\n",
      "<a title=\"Charles R. Severance\" href=\"https://www.researchgate.net/profile/Charles_Severance/\" target=\"_blank\"><img src=\"https://www.researchgate.net/images/public/profile_share_badge.png\" alt=\"Charles R. Severance\" /></a>\n",
      "</td>\n",
      "<td valign=top>\n",
      "<div style=\"float: right\">\n",
      "<script data-gittip-username=\"drchuck\"\n",
      "data-gittip-widget=\"button\"\n",
      "src=\"//gttp.co/v1.js\"></script>\n",
      "</div>\n",
      "<strong>\n",
      "New:\n",
      "</strong>\n",
      "<a href=\"https://www.learnerprivacy.org/\" target=\"_blank\">My LearnerPrivacy.org podcast</a> <br/>\n",
      "<!--\n",
      "<strong>\n",
      "New:\n",
      "</strong>\n",
      "<a href=\"/office\" target=\"_blank\">MOOC Office Hours Around the World</a> <br/>\n",
      "-->\n",
      "<p>\n",
      "Free Courses / Educational Material:\n",
      "<br> &nbsp;\n",
      "<a href=\"https://www.py4e.com/\" target=\"_blank\">Python for Everybody</a>\n",
      "<br> &nbsp;\n",
      "<a href=\"https://www.dj4e.com/\" target=\"_blank\">Django for Everybody</a>\n",
      "<br> &nbsp;\n",
      "<a href=\"https://www.wa4e.com/\" target=\"_blank\">Web Applications for Everybody</a> (PHP/SQL)\n",
      "<br> &nbsp;\n",
      "<a href=\"https://www.coursera.org/course/insidetheinternet\" target=\"_blank\">Internet History, Technnology and Security</a>\n",
      "</p>\n",
      "<p>\n",
      "Software\n",
      "<br> &nbsp;\n",
      "<a href=\"https://www.sakaiproject.org/\" target=\"_blank\">The Sakai Collaboration\n",
      "and Learning Environment</a>\n",
      "<br> &nbsp;\n",
      "<a href=\"https://www.tsugi.org/\" target=\"_blank\">Tsugi: A framework for learning tools</a>\n",
      "<br> &nbsp;\n",
      "<a href=\"https://developers.imsglobal.org/\" target=\"_blank\">IMS Learning Tools\n",
      "Interoperability</a>\n",
      "</p>\n",
      "<p>\n",
      "Books\n",
      "<br> &nbsp; <a href=\"http://www.py4e.com/book\" /target=\"_blank\">Python For Everybody: Exploring Data in Python 3</a>  (2016)\n",
      "<br> &nbsp; <a href=\"/sakai-book\">Sakai: Building an Open Source Community</a> (2011, 2014)\n",
      "<br> &nbsp; <a href=\"http://www.amazon.com/gp/product/1624311393/ref=as_li_ss_tl?ie=UTF8&camp=1789&creative=390957&creativeASIN=1624311393&linkCode=as2&tag=drchu02-20\" target=\"_blank\">Raspberry Pi (21st Century Skills Innovation Library)</a> (2013)\n",
      "<br> &nbsp; <a href=\"http://www.amazon.com/gp/product/059680069X/ref=as_li_ss_tl?ie=UTF8&camp=1789&creative=390957&creativeASIN=059680069X&linkCode=as2&tag=drchu02-20\" target=\"_blank\">Using Google App Engine</a> (O'Reilly 2009)\n",
      "<br> &nbsp; <a href=\"http://www.amazon.com/Performance-Computing-Architectures-Optimization-Benchmarks/dp/156592312X/\" target=\"_blank\">High Performance Computing</a> (<a href=\"http://oreilly.com/catalog/9781565923126/\" target=\"_blank\">O'Reilly 1998</a>,  <a href=\"http://cnx.org/content/col11136/latest/\" target=_blank>Connexions 2010</a>)\n",
      "</p>\n",
      "<p>\n",
      "Web/Multimedia sites\n",
      "<br> &nbsp;\n",
      "<a href=\"http://www.youtube.com/playlist?list=PLHJB2bhmgB7dFuY7HmrXLj5BmHGKTD-3R\" target=\"_blank\">\n",
      "IEEE Computer - Computing Conversations Interviews</a>\n",
      "(2011-2016)\n",
      "<br> &nbsp;\n",
      "<a href=https://www.vimeo.com/17207620 target=\"_blank\">\n",
      "Dr. Chuck sings the blues </a> (2008)\n",
      "<br> &nbsp;\n",
      "<a href=\"https://www.youtube.com/watch?v=BVKpW02hsrU\" target=\"_blank\">\n",
      "Dr. Chuck goes motocross racing</a> (2007)\n",
      "<br> &nbsp;\n",
      "<a href=\"https://www.youtube.com/watch?v=sa2WsgCvn7c\" target=\"_blank\">\n",
      "A Film About Brent and His ATV\n",
      "</a> (2005)\n",
      "<br> &nbsp;\n",
      "<a href=\"https://www.vimeo.com/17213019\" target=\"_blank\">\n",
      "Audition Tape</a> (2003) for TechTV which was\n",
      "rejected :(.\n",
      "<br> &nbsp;\n",
      "<a href=\"https://www.youtube.com/watch?v=FJ078sO35M0\" target=\"_blank\">\n",
      "Dr. Chuck goes stock car racing</a> (2002)\n",
      "<br> &nbsp;\n",
      "<a href=\"http://afs.dr-chuck.com/citoolkit\" target=_blank>\n",
      "The Community Information Toolkit</a> - A project to provide public libraries and\n",
      "other organizations a start on using Internet in Commmunity Networking. (1999)\n",
      "</td>\n",
      "<td valign=top align=center width=180>\n",
      "<div id=\"google_translate_element\"></div><script type=\"text/javascript\">\n",
      "function googleTranslateElementInit() {\n",
      "new google.translate.TranslateElement({pageLanguage: 'en', layout: google.translate.TranslateElement.InlineLayout.SIMPLE, gaTrack: true, gaId: 'UA-423997-1'}, 'google_translate_element');\n",
      "}\n",
      "</script><script type=\"text/javascript\" src=\"//translate.google.com/translate_a/element.js?cb=googleTranslateElementInit\"></script>\n",
      "<br/>&nbsp;<br/>\n",
      "<a class=\"twitter-timeline\" href=\"https://twitter.com/drchuck\" data-widget-id=\"282172185219567616\">Tweets by @drchuck</a>\n",
      "<script>!function(d,s,id){var js,fjs=d.getElementsByTagName(s)[0],p=/^http:/.test(d.location)?'http':'https';if(!d.getElementById(id)){js=d.createElement(s);js.id=id;js.src=p+\"://platform.twitter.com/widgets.js\";fjs.parentNode.insertBefore(js,fjs);}}(document,\"script\",\"twitter-wjs\");</script>\n",
      "</td>\n",
      "</tr>\n",
      "</table>\n",
      "<br> &nbsp;\n",
      "<script type=\"text/javascript\">\n",
      "\n",
      "var _gaq = _gaq || [];\n",
      "_gaq.push(['_setAccount', 'UA-423997-1']);\n",
      "_gaq.push(['_setDomainName', 'dr-chuck.com']);\n",
      "_gaq.push(['_trackPageview']);\n",
      "\n",
      "(function() {\n",
      "var ga = document.createElement('script'); ga.type = 'text/javascript'; ga.async = true;\n",
      "ga.src = ('https:' == document.location.protocol ? 'https://ssl' : 'http://www') + '.google-analytics.com/ga.js';\n",
      "var s = document.getElementsByTagName('script')[0]; s.parentNode.insertBefore(ga, s);\n",
      "})();\n",
      "\n",
      "</script>\n",
      "</body>\n",
      "</html>\n"
     ]
    }
   ],
   "source": [
    "import urllib.request, urllib.parse, urllib.error\n",
    "fhand = urllib.request.urlopen('http://www.dr-chuck.com/')\n",
    "for line in fhand:\n",
    "    print(line.decode().strip())"
   ]
  },
  {
   "cell_type": "markdown",
   "id": "ab0b8208-ecce-4aed-8e2e-ae5c4db5f666",
   "metadata": {},
   "source": [
    "### Web Scraping\n",
    "\n",
    "- When a program or script pretends to be a browser and retrieves web pages, looks at those \n",
    "    web pages, extracts information, and then looks at more web pages;\n",
    "\n",
    "\n",
    "- Search engines scrape web pages - we call this **spidering the web** or **web crawling**."
   ]
  },
  {
   "cell_type": "markdown",
   "id": "0c8a9b32-d6bc-49e0-bd44-6c632a62184e",
   "metadata": {},
   "source": [
    "#### Why Scrape?\n",
    "    \n",
    "- Pull data-particularly social data-who links to who?\n",
    "\n",
    "- Get your own data back out of some system that has no\"export\n",
    "     capability\"\n",
    " \n",
    "- Monitor a site for new information\n",
    " \n",
    "- Spider the web to make a database for a search engine"
   ]
  },
  {
   "cell_type": "markdown",
   "id": "cd55df77-bceb-43b9-9c7e-4f9780119703",
   "metadata": {},
   "source": [
    " #### Scraping Web Pages\n",
    "    \n",
    "- There is some controversy about web page scraping and some sites are a bit snippy about it\n",
    "\n",
    "- Republishing copyrighted information is not allowed\n",
    "\n",
    "- Violating terms of service is not allowed"
   ]
  },
  {
   "cell_type": "markdown",
   "id": "7efb6d64-7686-4149-8b7f-2447b698f66a",
   "metadata": {},
   "source": [
    " ### BeautifulSoup: Installation & worked example of beautiful soup---urllinks.py"
   ]
  },
  {
   "cell_type": "code",
   "execution_count": 2,
   "id": "21db23fe-2be7-4a9e-ac59-5cd642c8b040",
   "metadata": {},
   "outputs": [
    {
     "name": "stdout",
     "output_type": "stream",
     "text": [
      "Enter - \n"
     ]
    },
    {
     "ename": "ValueError",
     "evalue": "unknown url type: ''",
     "output_type": "error",
     "traceback": [
      "\u001b[0;31m---------------------------------------------------------------------------\u001b[0m",
      "\u001b[0;31mValueError\u001b[0m                                Traceback (most recent call last)",
      "\u001b[0;32m<ipython-input-2-d7977f606d2e>\u001b[0m in \u001b[0;36m<module>\u001b[0;34m\u001b[0m\n\u001b[1;32m     11\u001b[0m \u001b[0;34m\u001b[0m\u001b[0m\n\u001b[1;32m     12\u001b[0m \u001b[0murl\u001b[0m \u001b[0;34m=\u001b[0m \u001b[0minput\u001b[0m\u001b[0;34m(\u001b[0m\u001b[0;34m'Enter - '\u001b[0m\u001b[0;34m)\u001b[0m\u001b[0;34m\u001b[0m\u001b[0;34m\u001b[0m\u001b[0m\n\u001b[0;32m---> 13\u001b[0;31m \u001b[0mhtml\u001b[0m \u001b[0;34m=\u001b[0m \u001b[0murllib\u001b[0m\u001b[0;34m.\u001b[0m\u001b[0mrequest\u001b[0m\u001b[0;34m.\u001b[0m\u001b[0murlopen\u001b[0m\u001b[0;34m(\u001b[0m\u001b[0murl\u001b[0m\u001b[0;34m,\u001b[0m\u001b[0mcontext\u001b[0m\u001b[0;34m=\u001b[0m\u001b[0mctx\u001b[0m\u001b[0;34m)\u001b[0m\u001b[0;34m.\u001b[0m\u001b[0mread\u001b[0m\u001b[0;34m(\u001b[0m\u001b[0;34m)\u001b[0m\u001b[0;34m\u001b[0m\u001b[0;34m\u001b[0m\u001b[0m\n\u001b[0m\u001b[1;32m     14\u001b[0m \u001b[0msoup\u001b[0m \u001b[0;34m=\u001b[0m \u001b[0mBeautifulSoup\u001b[0m\u001b[0;34m(\u001b[0m\u001b[0mhtml\u001b[0m\u001b[0;34m,\u001b[0m\u001b[0;34m'html.parser'\u001b[0m\u001b[0;34m)\u001b[0m\u001b[0;34m\u001b[0m\u001b[0;34m\u001b[0m\u001b[0m\n\u001b[1;32m     15\u001b[0m \u001b[0;34m\u001b[0m\u001b[0m\n",
      "\u001b[0;32m/usr/local/Caskroom/miniconda/base/lib/python3.8/urllib/request.py\u001b[0m in \u001b[0;36murlopen\u001b[0;34m(url, data, timeout, cafile, capath, cadefault, context)\u001b[0m\n\u001b[1;32m    220\u001b[0m     \u001b[0;32melse\u001b[0m\u001b[0;34m:\u001b[0m\u001b[0;34m\u001b[0m\u001b[0;34m\u001b[0m\u001b[0m\n\u001b[1;32m    221\u001b[0m         \u001b[0mopener\u001b[0m \u001b[0;34m=\u001b[0m \u001b[0m_opener\u001b[0m\u001b[0;34m\u001b[0m\u001b[0;34m\u001b[0m\u001b[0m\n\u001b[0;32m--> 222\u001b[0;31m     \u001b[0;32mreturn\u001b[0m \u001b[0mopener\u001b[0m\u001b[0;34m.\u001b[0m\u001b[0mopen\u001b[0m\u001b[0;34m(\u001b[0m\u001b[0murl\u001b[0m\u001b[0;34m,\u001b[0m \u001b[0mdata\u001b[0m\u001b[0;34m,\u001b[0m \u001b[0mtimeout\u001b[0m\u001b[0;34m)\u001b[0m\u001b[0;34m\u001b[0m\u001b[0;34m\u001b[0m\u001b[0m\n\u001b[0m\u001b[1;32m    223\u001b[0m \u001b[0;34m\u001b[0m\u001b[0m\n\u001b[1;32m    224\u001b[0m \u001b[0;32mdef\u001b[0m \u001b[0minstall_opener\u001b[0m\u001b[0;34m(\u001b[0m\u001b[0mopener\u001b[0m\u001b[0;34m)\u001b[0m\u001b[0;34m:\u001b[0m\u001b[0;34m\u001b[0m\u001b[0;34m\u001b[0m\u001b[0m\n",
      "\u001b[0;32m/usr/local/Caskroom/miniconda/base/lib/python3.8/urllib/request.py\u001b[0m in \u001b[0;36mopen\u001b[0;34m(self, fullurl, data, timeout)\u001b[0m\n\u001b[1;32m    507\u001b[0m         \u001b[0;31m# accept a URL or a Request object\u001b[0m\u001b[0;34m\u001b[0m\u001b[0;34m\u001b[0m\u001b[0;34m\u001b[0m\u001b[0m\n\u001b[1;32m    508\u001b[0m         \u001b[0;32mif\u001b[0m \u001b[0misinstance\u001b[0m\u001b[0;34m(\u001b[0m\u001b[0mfullurl\u001b[0m\u001b[0;34m,\u001b[0m \u001b[0mstr\u001b[0m\u001b[0;34m)\u001b[0m\u001b[0;34m:\u001b[0m\u001b[0;34m\u001b[0m\u001b[0;34m\u001b[0m\u001b[0m\n\u001b[0;32m--> 509\u001b[0;31m             \u001b[0mreq\u001b[0m \u001b[0;34m=\u001b[0m \u001b[0mRequest\u001b[0m\u001b[0;34m(\u001b[0m\u001b[0mfullurl\u001b[0m\u001b[0;34m,\u001b[0m \u001b[0mdata\u001b[0m\u001b[0;34m)\u001b[0m\u001b[0;34m\u001b[0m\u001b[0;34m\u001b[0m\u001b[0m\n\u001b[0m\u001b[1;32m    510\u001b[0m         \u001b[0;32melse\u001b[0m\u001b[0;34m:\u001b[0m\u001b[0;34m\u001b[0m\u001b[0;34m\u001b[0m\u001b[0m\n\u001b[1;32m    511\u001b[0m             \u001b[0mreq\u001b[0m \u001b[0;34m=\u001b[0m \u001b[0mfullurl\u001b[0m\u001b[0;34m\u001b[0m\u001b[0;34m\u001b[0m\u001b[0m\n",
      "\u001b[0;32m/usr/local/Caskroom/miniconda/base/lib/python3.8/urllib/request.py\u001b[0m in \u001b[0;36m__init__\u001b[0;34m(self, url, data, headers, origin_req_host, unverifiable, method)\u001b[0m\n\u001b[1;32m    326\u001b[0m                  \u001b[0morigin_req_host\u001b[0m\u001b[0;34m=\u001b[0m\u001b[0;32mNone\u001b[0m\u001b[0;34m,\u001b[0m \u001b[0munverifiable\u001b[0m\u001b[0;34m=\u001b[0m\u001b[0;32mFalse\u001b[0m\u001b[0;34m,\u001b[0m\u001b[0;34m\u001b[0m\u001b[0;34m\u001b[0m\u001b[0m\n\u001b[1;32m    327\u001b[0m                  method=None):\n\u001b[0;32m--> 328\u001b[0;31m         \u001b[0mself\u001b[0m\u001b[0;34m.\u001b[0m\u001b[0mfull_url\u001b[0m \u001b[0;34m=\u001b[0m \u001b[0murl\u001b[0m\u001b[0;34m\u001b[0m\u001b[0;34m\u001b[0m\u001b[0m\n\u001b[0m\u001b[1;32m    329\u001b[0m         \u001b[0mself\u001b[0m\u001b[0;34m.\u001b[0m\u001b[0mheaders\u001b[0m \u001b[0;34m=\u001b[0m \u001b[0;34m{\u001b[0m\u001b[0;34m}\u001b[0m\u001b[0;34m\u001b[0m\u001b[0;34m\u001b[0m\u001b[0m\n\u001b[1;32m    330\u001b[0m         \u001b[0mself\u001b[0m\u001b[0;34m.\u001b[0m\u001b[0munredirected_hdrs\u001b[0m \u001b[0;34m=\u001b[0m \u001b[0;34m{\u001b[0m\u001b[0;34m}\u001b[0m\u001b[0;34m\u001b[0m\u001b[0;34m\u001b[0m\u001b[0m\n",
      "\u001b[0;32m/usr/local/Caskroom/miniconda/base/lib/python3.8/urllib/request.py\u001b[0m in \u001b[0;36mfull_url\u001b[0;34m(self, url)\u001b[0m\n\u001b[1;32m    352\u001b[0m         \u001b[0mself\u001b[0m\u001b[0;34m.\u001b[0m\u001b[0m_full_url\u001b[0m \u001b[0;34m=\u001b[0m \u001b[0munwrap\u001b[0m\u001b[0;34m(\u001b[0m\u001b[0murl\u001b[0m\u001b[0;34m)\u001b[0m\u001b[0;34m\u001b[0m\u001b[0;34m\u001b[0m\u001b[0m\n\u001b[1;32m    353\u001b[0m         \u001b[0mself\u001b[0m\u001b[0;34m.\u001b[0m\u001b[0m_full_url\u001b[0m\u001b[0;34m,\u001b[0m \u001b[0mself\u001b[0m\u001b[0;34m.\u001b[0m\u001b[0mfragment\u001b[0m \u001b[0;34m=\u001b[0m \u001b[0m_splittag\u001b[0m\u001b[0;34m(\u001b[0m\u001b[0mself\u001b[0m\u001b[0;34m.\u001b[0m\u001b[0m_full_url\u001b[0m\u001b[0;34m)\u001b[0m\u001b[0;34m\u001b[0m\u001b[0;34m\u001b[0m\u001b[0m\n\u001b[0;32m--> 354\u001b[0;31m         \u001b[0mself\u001b[0m\u001b[0;34m.\u001b[0m\u001b[0m_parse\u001b[0m\u001b[0;34m(\u001b[0m\u001b[0;34m)\u001b[0m\u001b[0;34m\u001b[0m\u001b[0;34m\u001b[0m\u001b[0m\n\u001b[0m\u001b[1;32m    355\u001b[0m \u001b[0;34m\u001b[0m\u001b[0m\n\u001b[1;32m    356\u001b[0m     \u001b[0;34m@\u001b[0m\u001b[0mfull_url\u001b[0m\u001b[0;34m.\u001b[0m\u001b[0mdeleter\u001b[0m\u001b[0;34m\u001b[0m\u001b[0;34m\u001b[0m\u001b[0m\n",
      "\u001b[0;32m/usr/local/Caskroom/miniconda/base/lib/python3.8/urllib/request.py\u001b[0m in \u001b[0;36m_parse\u001b[0;34m(self)\u001b[0m\n\u001b[1;32m    381\u001b[0m         \u001b[0mself\u001b[0m\u001b[0;34m.\u001b[0m\u001b[0mtype\u001b[0m\u001b[0;34m,\u001b[0m \u001b[0mrest\u001b[0m \u001b[0;34m=\u001b[0m \u001b[0m_splittype\u001b[0m\u001b[0;34m(\u001b[0m\u001b[0mself\u001b[0m\u001b[0;34m.\u001b[0m\u001b[0m_full_url\u001b[0m\u001b[0;34m)\u001b[0m\u001b[0;34m\u001b[0m\u001b[0;34m\u001b[0m\u001b[0m\n\u001b[1;32m    382\u001b[0m         \u001b[0;32mif\u001b[0m \u001b[0mself\u001b[0m\u001b[0;34m.\u001b[0m\u001b[0mtype\u001b[0m \u001b[0;32mis\u001b[0m \u001b[0;32mNone\u001b[0m\u001b[0;34m:\u001b[0m\u001b[0;34m\u001b[0m\u001b[0;34m\u001b[0m\u001b[0m\n\u001b[0;32m--> 383\u001b[0;31m             \u001b[0;32mraise\u001b[0m \u001b[0mValueError\u001b[0m\u001b[0;34m(\u001b[0m\u001b[0;34m\"unknown url type: %r\"\u001b[0m \u001b[0;34m%\u001b[0m \u001b[0mself\u001b[0m\u001b[0;34m.\u001b[0m\u001b[0mfull_url\u001b[0m\u001b[0;34m)\u001b[0m\u001b[0;34m\u001b[0m\u001b[0;34m\u001b[0m\u001b[0m\n\u001b[0m\u001b[1;32m    384\u001b[0m         \u001b[0mself\u001b[0m\u001b[0;34m.\u001b[0m\u001b[0mhost\u001b[0m\u001b[0;34m,\u001b[0m \u001b[0mself\u001b[0m\u001b[0;34m.\u001b[0m\u001b[0mselector\u001b[0m \u001b[0;34m=\u001b[0m \u001b[0m_splithost\u001b[0m\u001b[0;34m(\u001b[0m\u001b[0mrest\u001b[0m\u001b[0;34m)\u001b[0m\u001b[0;34m\u001b[0m\u001b[0;34m\u001b[0m\u001b[0m\n\u001b[1;32m    385\u001b[0m         \u001b[0;32mif\u001b[0m \u001b[0mself\u001b[0m\u001b[0;34m.\u001b[0m\u001b[0mhost\u001b[0m\u001b[0;34m:\u001b[0m\u001b[0;34m\u001b[0m\u001b[0;34m\u001b[0m\u001b[0m\n",
      "\u001b[0;31mValueError\u001b[0m: unknown url type: ''"
     ]
    }
   ],
   "source": [
    "# python urllinks.py\n",
    "\n",
    "import urllib.request,urllib.parse,urllib.error\n",
    "from bs4 import BeautifulSoup\n",
    "import ssl\n",
    "\n",
    "#ignore SSL certificate errors\n",
    "ctx = ssl.create_default_context()\n",
    "ctx.check_hostname = False\n",
    "ctx.verify_mode = ssl.CERT_NONE\n",
    "\n",
    "url = input('Enter - ')\n",
    "html = urllib.request.urlopen(url,context=ctx).read()\n",
    "soup = BeautifulSoup(html,'html.parser')\n",
    "\n",
    "# Retrive all of the anchor tags\n",
    "\n",
    "tags = soup('a')\n",
    "for tag in tags:\n",
    "    print(tag.get('href',none))\n",
    "# http://www.dr-chunk.com/page1.htm\n",
    "# http://www.dr-chunk.com/page2.htm"
   ]
  },
  {
   "cell_type": "markdown",
   "id": "13a084bd-a9f2-4742-a951-4fdbbf78e3c8",
   "metadata": {},
   "source": [
    "### Search for lines that start with From and have an at sign"
   ]
  },
  {
   "cell_type": "code",
   "execution_count": 4,
   "id": "e20cd3b5-94e5-4244-9740-7351650e81ee",
   "metadata": {},
   "outputs": [
    {
     "name": "stdout",
     "output_type": "stream",
     "text": [
      "Enter - www.zhihu.com\n"
     ]
    },
    {
     "ename": "ValueError",
     "evalue": "unknown url type: 'www.zhihu.com'",
     "output_type": "error",
     "traceback": [
      "\u001b[0;31m---------------------------------------------------------------------------\u001b[0m",
      "\u001b[0;31mValueError\u001b[0m                                Traceback (most recent call last)",
      "\u001b[0;32m<ipython-input-4-3564db123999>\u001b[0m in \u001b[0;36m<module>\u001b[0;34m\u001b[0m\n\u001b[1;32m      3\u001b[0m \u001b[0;34m\u001b[0m\u001b[0m\n\u001b[1;32m      4\u001b[0m \u001b[0murl\u001b[0m \u001b[0;34m=\u001b[0m \u001b[0minput\u001b[0m\u001b[0;34m(\u001b[0m\u001b[0;34m'Enter - '\u001b[0m\u001b[0;34m)\u001b[0m\u001b[0;34m\u001b[0m\u001b[0;34m\u001b[0m\u001b[0m\n\u001b[0;32m----> 5\u001b[0;31m \u001b[0mhtml\u001b[0m \u001b[0;34m=\u001b[0m \u001b[0murllib\u001b[0m\u001b[0;34m.\u001b[0m\u001b[0mrequest\u001b[0m\u001b[0;34m.\u001b[0m\u001b[0murlopen\u001b[0m\u001b[0;34m(\u001b[0m\u001b[0murl\u001b[0m\u001b[0;34m)\u001b[0m\u001b[0;34m.\u001b[0m\u001b[0mread\u001b[0m\u001b[0;34m(\u001b[0m\u001b[0;34m)\u001b[0m\u001b[0;34m\u001b[0m\u001b[0;34m\u001b[0m\u001b[0m\n\u001b[0m\u001b[1;32m      6\u001b[0m \u001b[0mlinks\u001b[0m \u001b[0;34m=\u001b[0m \u001b[0mre\u001b[0m\u001b[0;34m.\u001b[0m\u001b[0mfindall\u001b[0m\u001b[0;34m(\u001b[0m\u001b[0;34mb'href=\"(http://.*?)\"'\u001b[0m\u001b[0;34m,\u001b[0m \u001b[0mhtml\u001b[0m\u001b[0;34m)\u001b[0m\u001b[0;34m\u001b[0m\u001b[0;34m\u001b[0m\u001b[0m\n\u001b[1;32m      7\u001b[0m \u001b[0;32mfor\u001b[0m \u001b[0mlink\u001b[0m \u001b[0;32min\u001b[0m \u001b[0mlinks\u001b[0m\u001b[0;34m:\u001b[0m\u001b[0;34m\u001b[0m\u001b[0;34m\u001b[0m\u001b[0m\n",
      "\u001b[0;32m/usr/local/Caskroom/miniconda/base/lib/python3.8/urllib/request.py\u001b[0m in \u001b[0;36murlopen\u001b[0;34m(url, data, timeout, cafile, capath, cadefault, context)\u001b[0m\n\u001b[1;32m    220\u001b[0m     \u001b[0;32melse\u001b[0m\u001b[0;34m:\u001b[0m\u001b[0;34m\u001b[0m\u001b[0;34m\u001b[0m\u001b[0m\n\u001b[1;32m    221\u001b[0m         \u001b[0mopener\u001b[0m \u001b[0;34m=\u001b[0m \u001b[0m_opener\u001b[0m\u001b[0;34m\u001b[0m\u001b[0;34m\u001b[0m\u001b[0m\n\u001b[0;32m--> 222\u001b[0;31m     \u001b[0;32mreturn\u001b[0m \u001b[0mopener\u001b[0m\u001b[0;34m.\u001b[0m\u001b[0mopen\u001b[0m\u001b[0;34m(\u001b[0m\u001b[0murl\u001b[0m\u001b[0;34m,\u001b[0m \u001b[0mdata\u001b[0m\u001b[0;34m,\u001b[0m \u001b[0mtimeout\u001b[0m\u001b[0;34m)\u001b[0m\u001b[0;34m\u001b[0m\u001b[0;34m\u001b[0m\u001b[0m\n\u001b[0m\u001b[1;32m    223\u001b[0m \u001b[0;34m\u001b[0m\u001b[0m\n\u001b[1;32m    224\u001b[0m \u001b[0;32mdef\u001b[0m \u001b[0minstall_opener\u001b[0m\u001b[0;34m(\u001b[0m\u001b[0mopener\u001b[0m\u001b[0;34m)\u001b[0m\u001b[0;34m:\u001b[0m\u001b[0;34m\u001b[0m\u001b[0;34m\u001b[0m\u001b[0m\n",
      "\u001b[0;32m/usr/local/Caskroom/miniconda/base/lib/python3.8/urllib/request.py\u001b[0m in \u001b[0;36mopen\u001b[0;34m(self, fullurl, data, timeout)\u001b[0m\n\u001b[1;32m    507\u001b[0m         \u001b[0;31m# accept a URL or a Request object\u001b[0m\u001b[0;34m\u001b[0m\u001b[0;34m\u001b[0m\u001b[0;34m\u001b[0m\u001b[0m\n\u001b[1;32m    508\u001b[0m         \u001b[0;32mif\u001b[0m \u001b[0misinstance\u001b[0m\u001b[0;34m(\u001b[0m\u001b[0mfullurl\u001b[0m\u001b[0;34m,\u001b[0m \u001b[0mstr\u001b[0m\u001b[0;34m)\u001b[0m\u001b[0;34m:\u001b[0m\u001b[0;34m\u001b[0m\u001b[0;34m\u001b[0m\u001b[0m\n\u001b[0;32m--> 509\u001b[0;31m             \u001b[0mreq\u001b[0m \u001b[0;34m=\u001b[0m \u001b[0mRequest\u001b[0m\u001b[0;34m(\u001b[0m\u001b[0mfullurl\u001b[0m\u001b[0;34m,\u001b[0m \u001b[0mdata\u001b[0m\u001b[0;34m)\u001b[0m\u001b[0;34m\u001b[0m\u001b[0;34m\u001b[0m\u001b[0m\n\u001b[0m\u001b[1;32m    510\u001b[0m         \u001b[0;32melse\u001b[0m\u001b[0;34m:\u001b[0m\u001b[0;34m\u001b[0m\u001b[0;34m\u001b[0m\u001b[0m\n\u001b[1;32m    511\u001b[0m             \u001b[0mreq\u001b[0m \u001b[0;34m=\u001b[0m \u001b[0mfullurl\u001b[0m\u001b[0;34m\u001b[0m\u001b[0;34m\u001b[0m\u001b[0m\n",
      "\u001b[0;32m/usr/local/Caskroom/miniconda/base/lib/python3.8/urllib/request.py\u001b[0m in \u001b[0;36m__init__\u001b[0;34m(self, url, data, headers, origin_req_host, unverifiable, method)\u001b[0m\n\u001b[1;32m    326\u001b[0m                  \u001b[0morigin_req_host\u001b[0m\u001b[0;34m=\u001b[0m\u001b[0;32mNone\u001b[0m\u001b[0;34m,\u001b[0m \u001b[0munverifiable\u001b[0m\u001b[0;34m=\u001b[0m\u001b[0;32mFalse\u001b[0m\u001b[0;34m,\u001b[0m\u001b[0;34m\u001b[0m\u001b[0;34m\u001b[0m\u001b[0m\n\u001b[1;32m    327\u001b[0m                  method=None):\n\u001b[0;32m--> 328\u001b[0;31m         \u001b[0mself\u001b[0m\u001b[0;34m.\u001b[0m\u001b[0mfull_url\u001b[0m \u001b[0;34m=\u001b[0m \u001b[0murl\u001b[0m\u001b[0;34m\u001b[0m\u001b[0;34m\u001b[0m\u001b[0m\n\u001b[0m\u001b[1;32m    329\u001b[0m         \u001b[0mself\u001b[0m\u001b[0;34m.\u001b[0m\u001b[0mheaders\u001b[0m \u001b[0;34m=\u001b[0m \u001b[0;34m{\u001b[0m\u001b[0;34m}\u001b[0m\u001b[0;34m\u001b[0m\u001b[0;34m\u001b[0m\u001b[0m\n\u001b[1;32m    330\u001b[0m         \u001b[0mself\u001b[0m\u001b[0;34m.\u001b[0m\u001b[0munredirected_hdrs\u001b[0m \u001b[0;34m=\u001b[0m \u001b[0;34m{\u001b[0m\u001b[0;34m}\u001b[0m\u001b[0;34m\u001b[0m\u001b[0;34m\u001b[0m\u001b[0m\n",
      "\u001b[0;32m/usr/local/Caskroom/miniconda/base/lib/python3.8/urllib/request.py\u001b[0m in \u001b[0;36mfull_url\u001b[0;34m(self, url)\u001b[0m\n\u001b[1;32m    352\u001b[0m         \u001b[0mself\u001b[0m\u001b[0;34m.\u001b[0m\u001b[0m_full_url\u001b[0m \u001b[0;34m=\u001b[0m \u001b[0munwrap\u001b[0m\u001b[0;34m(\u001b[0m\u001b[0murl\u001b[0m\u001b[0;34m)\u001b[0m\u001b[0;34m\u001b[0m\u001b[0;34m\u001b[0m\u001b[0m\n\u001b[1;32m    353\u001b[0m         \u001b[0mself\u001b[0m\u001b[0;34m.\u001b[0m\u001b[0m_full_url\u001b[0m\u001b[0;34m,\u001b[0m \u001b[0mself\u001b[0m\u001b[0;34m.\u001b[0m\u001b[0mfragment\u001b[0m \u001b[0;34m=\u001b[0m \u001b[0m_splittag\u001b[0m\u001b[0;34m(\u001b[0m\u001b[0mself\u001b[0m\u001b[0;34m.\u001b[0m\u001b[0m_full_url\u001b[0m\u001b[0;34m)\u001b[0m\u001b[0;34m\u001b[0m\u001b[0;34m\u001b[0m\u001b[0m\n\u001b[0;32m--> 354\u001b[0;31m         \u001b[0mself\u001b[0m\u001b[0;34m.\u001b[0m\u001b[0m_parse\u001b[0m\u001b[0;34m(\u001b[0m\u001b[0;34m)\u001b[0m\u001b[0;34m\u001b[0m\u001b[0;34m\u001b[0m\u001b[0m\n\u001b[0m\u001b[1;32m    355\u001b[0m \u001b[0;34m\u001b[0m\u001b[0m\n\u001b[1;32m    356\u001b[0m     \u001b[0;34m@\u001b[0m\u001b[0mfull_url\u001b[0m\u001b[0;34m.\u001b[0m\u001b[0mdeleter\u001b[0m\u001b[0;34m\u001b[0m\u001b[0;34m\u001b[0m\u001b[0m\n",
      "\u001b[0;32m/usr/local/Caskroom/miniconda/base/lib/python3.8/urllib/request.py\u001b[0m in \u001b[0;36m_parse\u001b[0;34m(self)\u001b[0m\n\u001b[1;32m    381\u001b[0m         \u001b[0mself\u001b[0m\u001b[0;34m.\u001b[0m\u001b[0mtype\u001b[0m\u001b[0;34m,\u001b[0m \u001b[0mrest\u001b[0m \u001b[0;34m=\u001b[0m \u001b[0m_splittype\u001b[0m\u001b[0;34m(\u001b[0m\u001b[0mself\u001b[0m\u001b[0;34m.\u001b[0m\u001b[0m_full_url\u001b[0m\u001b[0;34m)\u001b[0m\u001b[0;34m\u001b[0m\u001b[0;34m\u001b[0m\u001b[0m\n\u001b[1;32m    382\u001b[0m         \u001b[0;32mif\u001b[0m \u001b[0mself\u001b[0m\u001b[0;34m.\u001b[0m\u001b[0mtype\u001b[0m \u001b[0;32mis\u001b[0m \u001b[0;32mNone\u001b[0m\u001b[0;34m:\u001b[0m\u001b[0;34m\u001b[0m\u001b[0;34m\u001b[0m\u001b[0m\n\u001b[0;32m--> 383\u001b[0;31m             \u001b[0;32mraise\u001b[0m \u001b[0mValueError\u001b[0m\u001b[0;34m(\u001b[0m\u001b[0;34m\"unknown url type: %r\"\u001b[0m \u001b[0;34m%\u001b[0m \u001b[0mself\u001b[0m\u001b[0;34m.\u001b[0m\u001b[0mfull_url\u001b[0m\u001b[0;34m)\u001b[0m\u001b[0;34m\u001b[0m\u001b[0;34m\u001b[0m\u001b[0m\n\u001b[0m\u001b[1;32m    384\u001b[0m         \u001b[0mself\u001b[0m\u001b[0;34m.\u001b[0m\u001b[0mhost\u001b[0m\u001b[0;34m,\u001b[0m \u001b[0mself\u001b[0m\u001b[0;34m.\u001b[0m\u001b[0mselector\u001b[0m \u001b[0;34m=\u001b[0m \u001b[0m_splithost\u001b[0m\u001b[0;34m(\u001b[0m\u001b[0mrest\u001b[0m\u001b[0;34m)\u001b[0m\u001b[0;34m\u001b[0m\u001b[0;34m\u001b[0m\u001b[0m\n\u001b[1;32m    385\u001b[0m         \u001b[0;32mif\u001b[0m \u001b[0mself\u001b[0m\u001b[0;34m.\u001b[0m\u001b[0mhost\u001b[0m\u001b[0;34m:\u001b[0m\u001b[0;34m\u001b[0m\u001b[0;34m\u001b[0m\u001b[0m\n",
      "\u001b[0;31mValueError\u001b[0m: unknown url type: 'www.zhihu.com'"
     ]
    }
   ],
   "source": [
    "import urllib.request, urllib.parse, urllib.error\n",
    "import re\n",
    "\n",
    "url = input('Enter - ')\n",
    "html = urllib.request.urlopen(url).read()\n",
    "links = re.findall(b'href=\"(http://.*?)\"', html)\n",
    "for link in links:\n",
    "    print(link.decode())"
   ]
  },
  {
   "cell_type": "markdown",
   "id": "b1bd6178-3119-46f9-af86-3831d86b06ad",
   "metadata": {},
   "source": [
    "## Chap 13 Using Web Services"
   ]
  },
  {
   "cell_type": "markdown",
   "id": "ef442261-0fcb-417d-9fe3-f7296b686c9a",
   "metadata": {},
   "source": [
    "### Data on the Web\n",
    "\n",
    "- With the HTTP Request/Response well understood and wellsupported, there was a natural move toward exchanging databetween programs using these protocols\n",
    "\n",
    "\n",
    "- We needed to come up with an agreed way to represent datagoing between applications and across networks\n",
    "\n",
    "\n",
    "- There are two commonly used formats: `XML` and `JSON`"
   ]
  },
  {
   "cell_type": "markdown",
   "id": "d4340747-ed35-46e3-9c05-0a9d9ea4b269",
   "metadata": {},
   "source": [
    "### Service Oriented Approach\n",
    "\n",
    "- Most non-trivial web applications use services\n",
    "\n",
    "\n",
    "- They use services from other applications\n",
    "    - Credit Card Charge\n",
    "    - Hotel Reservation systems\n",
    "    \n",
    "    \n",
    "- Services publish the “rules” applications must follow to make use of the service (APl)"
   ]
  },
  {
   "cell_type": "markdown",
   "id": "9c7ed61b-a2a4-4b16-bcf4-55c7b6c19828",
   "metadata": {},
   "source": [
    "### Multiple Systems\n",
    "\n",
    "- Initially - two systems cooperate and split the problem\n",
    "\n",
    "\n",
    "- As the data/service becomes useful-multiple applications want to use the information / application"
   ]
  },
  {
   "cell_type": "markdown",
   "id": "92cc604c-e48e-4858-892e-f5c0b55049cd",
   "metadata": {},
   "source": [
    "### XML"
   ]
  },
  {
   "cell_type": "markdown",
   "id": "ddf5b8a8-6736-46d3-900d-ee97f218dfbb",
   "metadata": {},
   "source": [
    "Often it is helpful to think of an XML document as a tree structure where there is a top tag person and other tags such as phone are drawn as children of their parent nodes."
   ]
  },
  {
   "cell_type": "markdown",
   "id": "1ff15b20-2eeb-4610-9ecb-a123dbeabfab",
   "metadata": {},
   "source": [
    "<img src=\"https://cdn.mathpix.com/snip/images/H-JzFJbJSMoZWx95QmA6-8D28vce4OuwS73uDrxp6wc.original.fullsize.png\" />"
   ]
  },
  {
   "cell_type": "code",
   "execution_count": 13,
   "id": "d9ef46b9-c3b2-4cb6-9778-b5983101ea56",
   "metadata": {},
   "outputs": [
    {
     "name": "stdout",
     "output_type": "stream",
     "text": [
      "Name: Chuck\n",
      "Attr: yes\n",
      "Phone: \n",
      "    +1 734 303 4456\n",
      "  \n"
     ]
    }
   ],
   "source": [
    "# xml1\n",
    "import xml.etree.ElementTree as ET\n",
    "\n",
    "data = '''\n",
    "<person>\n",
    "  <name>Chuck</name>\n",
    "  <phone type=\"intl\">\n",
    "    +1 734 303 4456\n",
    "  </phone>\n",
    "  <email hide=\"yes\" />\n",
    "</person>'''\n",
    "\n",
    "tree = ET.fromstring(data)\n",
    "print('Name:',tree.find('name').text)\n",
    "print('Attr:',tree.find('email').get('hide'))\n",
    "print('Phone:',tree.find('phone').text)"
   ]
  },
  {
   "cell_type": "code",
   "execution_count": 15,
   "id": "214bb933-56cc-45aa-90e2-0a73b04daf6a",
   "metadata": {},
   "outputs": [
    {
     "name": "stdout",
     "output_type": "stream",
     "text": [
      "User count: 2\n"
     ]
    }
   ],
   "source": [
    "# xml2:\n",
    "\n",
    "import xml.etree.ElementTree as ET\n",
    "\n",
    "input = '''\n",
    "<stuff>\n",
    "  <users>\n",
    "    <user x=\"2\">\n",
    "      <id>001</id>\n",
    "      <name>Chuck</name>\n",
    "    </user>\n",
    "    <user x=\"7\">\n",
    "      <id>009</id>\n",
    "      <name>Brent</name>\n",
    "    </user>\n",
    "  </users>\n",
    "</stuff>'''\n",
    "\n",
    "stuff = ET.fromstring(input)\n",
    "lst = stuff.findall('users/user')\n",
    "print('User count:',len(lst)) #easy,right?"
   ]
  },
  {
   "cell_type": "code",
   "execution_count": 22,
   "id": "1c9d3d24-76fa-4b8f-b466-c37ed442be40",
   "metadata": {
    "code_folding": [],
    "scrolled": true
   },
   "outputs": [
    {
     "name": "stdout",
     "output_type": "stream",
     "text": [
      "<Element 'stuff' at 0x140be7a90>\n"
     ]
    }
   ],
   "source": [
    "# print(stuff)"
   ]
  },
  {
   "cell_type": "code",
   "execution_count": null,
   "id": "4c4037bf-9595-4498-90ef-57d7febcc7a4",
   "metadata": {},
   "outputs": [],
   "source": [
    "# print(lst)"
   ]
  },
  {
   "cell_type": "code",
   "execution_count": 28,
   "id": "3ec8950c-6d58-4504-9abc-d9b3a832a3d6",
   "metadata": {},
   "outputs": [
    {
     "name": "stdout",
     "output_type": "stream",
     "text": [
      "Name Chuck\n",
      "Id 001\n",
      "Attribute 2\n",
      "Name Brent\n",
      "Id 009\n",
      "Attribute 7\n"
     ]
    }
   ],
   "source": [
    "for item in lst:\n",
    "    print('Name',item.find('name').text)\n",
    "    print('Id',item.find('id').text)\n",
    "    print('Attribute',item.get('x'))"
   ]
  },
  {
   "cell_type": "markdown",
   "id": "82389918-f3b0-46a6-bd7a-9bbceffd90f0",
   "metadata": {},
   "source": [
    "#### XML Schema\n",
    "\n",
    "- Description of the legal format of an XML document\n",
    "\n",
    "\n",
    "- Expressed in terms of constraints on the structure and content of documents\n",
    "\n",
    "\n",
    "- Often used to specify a “contract\" between systems - “My system will only accept XML that conforms to this particular Schema.\"\n",
    "\n",
    "\n",
    "- If a particular piece of XML meets the specification of the Schema-it is said to “validate\""
   ]
  },
  {
   "cell_type": "markdown",
   "id": "9a44997e-dd2d-4c98-bed8-f52dddf5c243",
   "metadata": {},
   "source": [
    "#### Many XML Schema Languages\n",
    "\n",
    "[**Document Type Definition (DTD)**](http://en.wikipedia.org/wiki/Document_Type_Definition)\n",
    "\n",
    "[**Standard Generalized Markup Language (lS0 8879:1986 SGML)**](http://en.wikipedia.org/wiki/SGML)\n",
    "\n",
    "[**XML Schema from W3C -(XSD)**](http://en.wikipedia.org/wiki/XML_Schema_(W3C))\n",
    "\n",
    "\n",
    "**XSD XML Schema(W3Cspec)**\n",
    "\n",
    "- We will focus on the World Wide Web Consortium (W3C) version\n",
    "\n",
    "\n",
    "- It is often called“W3C Schema\" because“Schema\"is consideredgeneric\n",
    "\n",
    "\n",
    "- More commonly it is called XSD because the file names end in.XSd\n",
    "\n",
    "[W3c Schema](http://www.w3.org/XML/Schema)\n",
    "\n"
   ]
  },
  {
   "cell_type": "code",
   "execution_count": null,
   "id": "c7a281fc-6e30-40f9-9678-e0caf8d36eee",
   "metadata": {},
   "outputs": [],
   "source": [
    "# XSD Structure:\n",
    "# <xs:element name=\"Customer_name\"\n",
    "#             type=\"xs:string\"\n",
    "#             default=\"unknown\" />\n",
    "# <xs:element name=\"Customer_location\"\n",
    "#             type=\"xs:string\"\n",
    "#             fixed=\" UK\" /> "
   ]
  },
  {
   "cell_type": "markdown",
   "id": "ac8ec5b5-7d2b-4ef7-9669-48fe956887e6",
   "metadata": {},
   "source": [
    "**ISO 8601 Date/Time Format**\n",
    "\n",
    "2002-05-30T09:30:10Z\n",
    "\n",
    "        - 2002-05-30:Year-month-day\n",
    "        - 09:30:10:Time of day\n",
    "        - Z:Timezone(esp.UTC/GMT)"
   ]
  },
  {
   "cell_type": "markdown",
   "id": "690a81b2-8874-47c7-8caa-7fd83ced6a42",
   "metadata": {},
   "source": [
    "### JSON\n",
    "\n",
    "**Java Script Object Notation**\n",
    "\n",
    "JSON represents data as nested \"lists\" and \"dictionaries\"\n"
   ]
  },
  {
   "cell_type": "code",
   "execution_count": 5,
   "id": "bfac010c-279f-4646-bd9d-d12c43185b46",
   "metadata": {},
   "outputs": [
    {
     "name": "stdout",
     "output_type": "stream",
     "text": [
      "Name: Chuck\n",
      "Hide: yes\n",
      "phone: +1 734 303 4456\n"
     ]
    }
   ],
   "source": [
    "import json\n",
    "\n",
    "data = '''\n",
    "{\n",
    "  \"name\" : \"Chuck\",\n",
    "  \"phone\" : {\n",
    "    \"type\" : \"intl\",\n",
    "    \"number\" : \"+1 734 303 4456\"\n",
    "   },\n",
    "   \"email\" : {\n",
    "     \"hide\" : \"yes\"\n",
    "   }\n",
    "}'''\n",
    "\n",
    "info = json.loads(data)\n",
    "print('Name:',info['name'])\n",
    "print('Hide:',info['email']['hide'])\n",
    "print('phone:',info['phone']['number'])\n",
    "# take care here:phone-number with NO dots:\".\""
   ]
  },
  {
   "cell_type": "code",
   "execution_count": 2,
   "id": "32bc09a9-406d-469d-b931-1fd98eb453ce",
   "metadata": {},
   "outputs": [
    {
     "name": "stdout",
     "output_type": "stream",
     "text": [
      "User conunt: 2\n"
     ]
    }
   ],
   "source": [
    "import json # compare with xml2:\n",
    "\n",
    "data = '''\n",
    "[\n",
    "  { \"id\" : \"001\",\n",
    "    \"x\" : \"2\",\n",
    "    \"name\" : \"Chuck\"\n",
    "  } ,\n",
    "  { \"id\" : \"009\",\n",
    "    \"x\" : \"7\",\n",
    "    \"name\" : \"Brent\"\n",
    "  }\n",
    "]'''\n",
    "\n",
    "\n",
    "info = json.loads(data)\n",
    "print('User conunt:', len(info))"
   ]
  },
  {
   "cell_type": "code",
   "execution_count": 4,
   "id": "edc78c0d-b38f-439c-bfcf-81955b31531a",
   "metadata": {},
   "outputs": [
    {
     "name": "stdout",
     "output_type": "stream",
     "text": [
      "Name Chuck\n",
      "Id 001\n",
      "Attribute 2\n",
      "Name Brent\n",
      "Id 009\n",
      "Attribute 7\n"
     ]
    }
   ],
   "source": [
    "for item in info:\n",
    "    print('Name',item['name'])\n",
    "    print('Id',item['id'])\n",
    "    print('Attribute',item['x'])"
   ]
  },
  {
   "cell_type": "markdown",
   "id": "c609803e-79ef-4bd0-b313-674af36bdade",
   "metadata": {},
   "source": [
    "### Question:JSON or XML??"
   ]
  },
  {
   "cell_type": "code",
   "execution_count": null,
   "id": "60912004-acae-4deb-beab-6253f2c54f75",
   "metadata": {},
   "outputs": [],
   "source": []
  },
  {
   "cell_type": "markdown",
   "id": "64baa920-dff1-46c9-9cb1-29a408fba394",
   "metadata": {},
   "source": [
    "### Go on with XML\n",
    "\n",
    "**XML** eXtensible Markup Language\n",
    "\n",
    "- Primary purpose is to help information systems `share structured data`\n",
    "\n",
    "\n",
    "- It started as a simplified subset of the Standard Generalized Markup Language (SGML), and is designed to be relatively human-legible\n",
    "\n",
    "\n",
    "\n",
    "**XML Terminology**\n",
    "\n",
    "- `Tags` indicate the beginning and ending of elements\n",
    "\n",
    "- `Attributes` - Keyword/Value pairs on the opening tag of XML\n",
    "\n",
    "- `Serialize / De-Serialize` - Convert data in one program into a common format that can be stored and/or transmitted between systems in a programming language-independent manner\n"
   ]
  },
  {
   "cell_type": "markdown",
   "id": "4fbbea58-3f9f-4f12-ad42-671aafd3bcd7",
   "metadata": {},
   "source": [
    "### Web Sevices"
   ]
  },
  {
   "cell_type": "markdown",
   "id": "02bf8e96-1e6d-4353-833b-0eef33081fb1",
   "metadata": {},
   "source": [
    "**API-Application Program Interface**\n",
    "\n",
    "The API itself is largely abstract in that it specifies an `interface` and `controls` the behavior of the objects specified `in that interface`. The software that provides the functionality described by an API is said to be an \"implementation\" of the API. An API is typically defined in terms of the programming language used to build an application.\n",
    "\n"
   ]
  },
  {
   "cell_type": "code",
   "execution_count": 18,
   "id": "eb707550-4809-4a46-8830-bda16aa4ffde",
   "metadata": {},
   "outputs": [
    {
     "ename": "KeyboardInterrupt",
     "evalue": "Interrupted by user",
     "output_type": "error",
     "traceback": [
      "\u001b[0;31m---------------------------------------------------------------------------\u001b[0m",
      "\u001b[0;31mKeyboardInterrupt\u001b[0m                         Traceback (most recent call last)",
      "\u001b[0;32m<ipython-input-18-b4be1bb55ed0>\u001b[0m in \u001b[0;36m<module>\u001b[0;34m\u001b[0m\n\u001b[1;32m     18\u001b[0m \u001b[0;34m\u001b[0m\u001b[0m\n\u001b[1;32m     19\u001b[0m \u001b[0;32mwhile\u001b[0m \u001b[0;32mTrue\u001b[0m\u001b[0;34m:\u001b[0m\u001b[0;34m\u001b[0m\u001b[0;34m\u001b[0m\u001b[0m\n\u001b[0;32m---> 20\u001b[0;31m     \u001b[0maddress\u001b[0m \u001b[0;34m=\u001b[0m \u001b[0minput\u001b[0m\u001b[0;34m(\u001b[0m\u001b[0;34m'Enter location:'\u001b[0m\u001b[0;34m)\u001b[0m\u001b[0;34m\u001b[0m\u001b[0;34m\u001b[0m\u001b[0m\n\u001b[0m\u001b[1;32m     21\u001b[0m     \u001b[0;32mif\u001b[0m \u001b[0mlen\u001b[0m\u001b[0;34m(\u001b[0m\u001b[0maddress\u001b[0m\u001b[0;34m)\u001b[0m \u001b[0;34m<\u001b[0m \u001b[0;36m1\u001b[0m\u001b[0;34m:\u001b[0m\u001b[0;32mbreak\u001b[0m\u001b[0;34m\u001b[0m\u001b[0;34m\u001b[0m\u001b[0m\n\u001b[1;32m     22\u001b[0m \u001b[0;34m\u001b[0m\u001b[0m\n",
      "\u001b[0;32m/usr/local/Caskroom/miniconda/base/lib/python3.8/site-packages/ipykernel/kernelbase.py\u001b[0m in \u001b[0;36mraw_input\u001b[0;34m(self, prompt)\u001b[0m\n\u001b[1;32m    846\u001b[0m                 \u001b[0;34m\"raw_input was called, but this frontend does not support input requests.\"\u001b[0m\u001b[0;34m\u001b[0m\u001b[0;34m\u001b[0m\u001b[0m\n\u001b[1;32m    847\u001b[0m             )\n\u001b[0;32m--> 848\u001b[0;31m         return self._input_request(str(prompt),\n\u001b[0m\u001b[1;32m    849\u001b[0m             \u001b[0mself\u001b[0m\u001b[0;34m.\u001b[0m\u001b[0m_parent_ident\u001b[0m\u001b[0;34m,\u001b[0m\u001b[0;34m\u001b[0m\u001b[0;34m\u001b[0m\u001b[0m\n\u001b[1;32m    850\u001b[0m             \u001b[0mself\u001b[0m\u001b[0;34m.\u001b[0m\u001b[0m_parent_header\u001b[0m\u001b[0;34m,\u001b[0m\u001b[0;34m\u001b[0m\u001b[0;34m\u001b[0m\u001b[0m\n",
      "\u001b[0;32m/usr/local/Caskroom/miniconda/base/lib/python3.8/site-packages/ipykernel/kernelbase.py\u001b[0m in \u001b[0;36m_input_request\u001b[0;34m(self, prompt, ident, parent, password)\u001b[0m\n\u001b[1;32m    890\u001b[0m             \u001b[0;32mexcept\u001b[0m \u001b[0mKeyboardInterrupt\u001b[0m\u001b[0;34m:\u001b[0m\u001b[0;34m\u001b[0m\u001b[0;34m\u001b[0m\u001b[0m\n\u001b[1;32m    891\u001b[0m                 \u001b[0;31m# re-raise KeyboardInterrupt, to truncate traceback\u001b[0m\u001b[0;34m\u001b[0m\u001b[0;34m\u001b[0m\u001b[0;34m\u001b[0m\u001b[0m\n\u001b[0;32m--> 892\u001b[0;31m                 \u001b[0;32mraise\u001b[0m \u001b[0mKeyboardInterrupt\u001b[0m\u001b[0;34m(\u001b[0m\u001b[0;34m\"Interrupted by user\"\u001b[0m\u001b[0;34m)\u001b[0m \u001b[0;32mfrom\u001b[0m \u001b[0;32mNone\u001b[0m\u001b[0;34m\u001b[0m\u001b[0;34m\u001b[0m\u001b[0m\n\u001b[0m\u001b[1;32m    893\u001b[0m             \u001b[0;32mexcept\u001b[0m \u001b[0mException\u001b[0m \u001b[0;32mas\u001b[0m \u001b[0me\u001b[0m\u001b[0;34m:\u001b[0m\u001b[0;34m\u001b[0m\u001b[0;34m\u001b[0m\u001b[0m\n\u001b[1;32m    894\u001b[0m                 \u001b[0mself\u001b[0m\u001b[0;34m.\u001b[0m\u001b[0mlog\u001b[0m\u001b[0;34m.\u001b[0m\u001b[0mwarning\u001b[0m\u001b[0;34m(\u001b[0m\u001b[0;34m\"Invalid Message:\"\u001b[0m\u001b[0;34m,\u001b[0m \u001b[0mexc_info\u001b[0m\u001b[0;34m=\u001b[0m\u001b[0;32mTrue\u001b[0m\u001b[0;34m)\u001b[0m\u001b[0;34m\u001b[0m\u001b[0;34m\u001b[0m\u001b[0m\n",
      "\u001b[0;31mKeyboardInterrupt\u001b[0m: Interrupted by user"
     ]
    }
   ],
   "source": [
    "#geojson.py\n",
    "\n",
    "import urllib.request,urllib.parse,urllib.error,json,ssl\n",
    "\n",
    "api_key = False\n",
    "# If you have a Google Places API key, enter it here\n",
    "# api_key = 'AIzaSy___IDByT70'\n",
    "# https://developers.google.com/maps/documentation/geocoding/intro\n",
    "\n",
    "if api_key is False:\n",
    "    api_key = 42\n",
    "    serviceurl = 'http://py4e-data.dr-chuck.net/json?'\n",
    "else:\n",
    "    serviceurl = 'https://maps.googleapis.com/maps/api/geocode/json?'\n",
    "\n",
    "#Ignore SSL certificate errors:\n",
    "ctx = ssl.create_default_context()\n",
    "ctx.check_hostname = False\n",
    "ctx.verify_mode = ssl.CERT_NONE\n",
    "\n",
    "while True:\n",
    "    address = input('Enter location:')\n",
    "    if len(address) < 1:break\n",
    "        \n",
    "    parms = dict()\n",
    "    parms['address'] = address\n",
    "    if api_key is not False: parms['key'] = api_key\n",
    "    url = serviceurl + urllib.parse.urlencode(parms)\n",
    "    \n",
    "    print('Retrieving', url)\n",
    "    uh = urllib.request.urlopen(url, context=ctx)\n",
    "    data = uh.read().decode()\n",
    "    print('Retrieved', len(data),'characters')\n",
    "\n",
    "    try:\n",
    "        js = json.loads(data)\n",
    "    except:\n",
    "        js = None\n",
    "    if not js or 'status' not in js or js['status'] != 'OK':\n",
    "        print('=========Failure to Retrieve===========')\n",
    "        print(data)\n",
    "        continue\n",
    "        \n",
    "    print(json.dumps(js, indent=4))\n",
    "    \n",
    "    lat = js['results'][0]['geometry']['location']['lat']\n",
    "    lng = js['results'][0]['geometry']['location']['lng']\n",
    "    print('Lat:',lat,'Lng:',lng)\n",
    "    \n",
    "    location = js['results'][0]['formatted_address']\n",
    "    print(location)"
   ]
  },
  {
   "cell_type": "markdown",
   "id": "5963c13c-889e-4f50-af6d-7b727071a65a",
   "metadata": {},
   "source": [
    "### API Security and Rate Limiting\n",
    "\n",
    "- The compute resources to run these APIs are not \"free\"\n",
    "\n",
    "- The data provided by these APIs is usually valuable\n",
    "\n",
    "- The data providers might limit the number of requests per day,demand an API “key\", or even charge for usage\n",
    "\n",
    "- They might change the rules as things progress"
   ]
  },
  {
   "cell_type": "markdown",
   "id": "750a25fb-0f89-434d-8191-896841fbc866",
   "metadata": {},
   "source": [
    "#### work example twitter.py\n",
    "\n",
    "Twitter API"
   ]
  },
  {
   "cell_type": "code",
   "execution_count": 22,
   "id": "1327d4a0-fd7b-406c-a9f2-a809463d69f8",
   "metadata": {},
   "outputs": [],
   "source": [
    "# twitter 1/2 .py"
   ]
  },
  {
   "cell_type": "markdown",
   "id": "6d21a8c4-d6e6-497d-b3a6-efb555d717ec",
   "metadata": {},
   "source": [
    "### chap 13 Summary\n",
    "\n",
    "- Service Oriented Architecture - allows an application to be broken into parts and distributed across a network\n",
    "\n",
    "\n",
    "- An Application Program Interface (API)is a contract for interaction\n",
    "\n",
    "\n",
    "- Web Services provide infrastructure for applications cooperating(an API) over a network - SOAP and REST are two styles of web services\n",
    "\n",
    "\n",
    "- XML and JSON are serialization formats"
   ]
  }
 ],
 "metadata": {
  "kernelspec": {
   "display_name": "Python [conda env:p9] *",
   "language": "python",
   "name": "conda-env-p9-py"
  },
  "language_info": {
   "codemirror_mode": {
    "name": "ipython",
    "version": 3
   },
   "file_extension": ".py",
   "mimetype": "text/x-python",
   "name": "python",
   "nbconvert_exporter": "python",
   "pygments_lexer": "ipython3",
   "version": "3.9.5"
  }
 },
 "nbformat": 4,
 "nbformat_minor": 5
}
