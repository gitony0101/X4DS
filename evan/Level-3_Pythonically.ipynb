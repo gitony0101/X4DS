{
 "cells": [
  {
   "cell_type": "markdown",
   "id": "e93d4b93-ec48-4eb2-9a4d-bf081cb05ced",
   "metadata": {},
   "source": [
    "# Notes from study\n",
    "\n",
    "What I got during coding"
   ]
  },
  {
   "cell_type": "markdown",
   "id": "a1edbb47-d68f-4b6e-ad92-848f80e819be",
   "metadata": {},
   "source": [
    "## `Single Underscore _` and `Double underscore __`\n",
    "\n",
    "\n",
    "Following are different places where Single/Double Underscore is used in Python:\n",
    "\n",
    "- Single Underscore:\n",
    "\n",
    "     - In Interpreter\n",
    "         - _ returns the value of last executed expression value in Python\n",
    "         \n",
    "         - For ignoring values\n",
    "         \n",
    "     - After a name\n",
    "     - Before a name\n",
    "\n",
    "\n",
    " - Double Underscore:\n",
    " \n",
    "      -  __leading_double_underscore\n",
    "      -  __before_after__\n",
    "      \n",
    " \n",
    " - Separating Digits Of Numbers"
   ]
  },
  {
   "cell_type": "markdown",
   "id": "3110f1c2-3677-4b7a-abc8-6907b69d81af",
   "metadata": {},
   "source": [
    "### SingleSingle Underscore  _\n",
    "\n",
    "#### In Interpreter\n",
    "\n",
    "    _ returns the value of last executed expression value in Python\n",
    "    For ignoring values"
   ]
  },
  {
   "cell_type": "code",
   "execution_count": 23,
   "id": "96181392-44b2-4188-a39a-043b019f58cf",
   "metadata": {},
   "outputs": [
    {
     "data": {
      "text/plain": [
       "20"
      ]
     },
     "execution_count": 23,
     "metadata": {},
     "output_type": "execute_result"
    }
   ],
   "source": [
    "a = 10\n",
    "b = 10\n",
    "a + b"
   ]
  },
  {
   "cell_type": "code",
   "execution_count": 24,
   "id": "ad98f184-4ff8-48af-916d-9a6dd3df336c",
   "metadata": {},
   "outputs": [
    {
     "data": {
      "text/plain": [
       "5"
      ]
     },
     "execution_count": 24,
     "metadata": {},
     "output_type": "execute_result"
    }
   ],
   "source": [
    "_ #it stores the last return"
   ]
  },
  {
   "cell_type": "code",
   "execution_count": 25,
   "id": "34160030-b3b3-4a9a-b1a4-2fdb5fbce7b3",
   "metadata": {},
   "outputs": [
    {
     "data": {
      "text/plain": [
       "10"
      ]
     },
     "execution_count": 25,
     "metadata": {},
     "output_type": "execute_result"
    }
   ],
   "source": [
    "_ * 2"
   ]
  },
  {
   "cell_type": "code",
   "execution_count": 26,
   "id": "4e4b57fe-b7bf-483e-8398-c7dfe89dc9ed",
   "metadata": {},
   "outputs": [
    {
     "data": {
      "text/plain": [
       "5"
      ]
     },
     "execution_count": 26,
     "metadata": {},
     "output_type": "execute_result"
    }
   ],
   "source": [
    "_ # now the return changes"
   ]
  },
  {
   "cell_type": "code",
   "execution_count": 27,
   "id": "6316a204-bd8a-4eed-acae-8b5330add55a",
   "metadata": {},
   "outputs": [
    {
     "data": {
      "text/plain": [
       "25"
      ]
     },
     "execution_count": 27,
     "metadata": {},
     "output_type": "execute_result"
    }
   ],
   "source": [
    "_ ** 2"
   ]
  },
  {
   "cell_type": "markdown",
   "id": "4491a530-5bca-4aad-808c-ad08ffb1da8e",
   "metadata": {},
   "source": [
    "**For ignoring values:**\n",
    "\n",
    "Multiple time we do not want return values at that time assign those values to Underscore. \n",
    "\n",
    "It used as throwaway variable."
   ]
  },
  {
   "cell_type": "code",
   "execution_count": 54,
   "id": "1d3e15c7-eee6-4885-9410-fd4bead41d8b",
   "metadata": {},
   "outputs": [
    {
     "name": "stdout",
     "output_type": "stream",
     "text": [
      "test\n",
      "test\n",
      "test\n",
      "test\n",
      "test\n",
      "test\n"
     ]
    }
   ],
   "source": [
    "# Ignore a value of specific location/index\n",
    "for _ in range(6):\n",
    "    print(\"test\")"
   ]
  },
  {
   "cell_type": "code",
   "execution_count": 55,
   "id": "07549fc2-0394-4287-8a99-8218a7381d4c",
   "metadata": {},
   "outputs": [
    {
     "name": "stdout",
     "output_type": "stream",
     "text": [
      "Python\n",
      "JS\n",
      "PHP\n",
      "Java\n"
     ]
    }
   ],
   "source": [
    "languages = [\"Python\", \"JS\", \"PHP\", \"Java\"]\n",
    "for _ in languages:\n",
    "    print(_)"
   ]
  },
  {
   "cell_type": "code",
   "execution_count": 50,
   "id": "843bb739-dbf3-4ee8-85c6-0a2c865952ed",
   "metadata": {},
   "outputs": [
    {
     "name": "stdout",
     "output_type": "stream",
     "text": [
      "1 3\n"
     ]
    }
   ],
   "source": [
    "## ignoring a value\n",
    "a, _, b = (1, 2, 3) # a = 1, b = 3\n",
    "print(a, b)"
   ]
  },
  {
   "cell_type": "code",
   "execution_count": 53,
   "id": "86b6e6f3-a399-4a10-ba61-1e81da9e4376",
   "metadata": {},
   "outputs": [
    {
     "name": "stdout",
     "output_type": "stream",
     "text": [
      "7 1\n"
     ]
    }
   ],
   "source": [
    "a, *_, b = (7, 6, 5, 4, 3, 2, 1) # *_ = (6, 5, 4, 3, 2) look at the star\n",
    "print(a, b)"
   ]
  },
  {
   "cell_type": "code",
   "execution_count": null,
   "id": "94a9570a-423e-46c6-a01c-14333be5cf43",
   "metadata": {},
   "outputs": [],
   "source": []
  },
  {
   "cell_type": "code",
   "execution_count": null,
   "id": "89133fed-f900-4123-b5e4-d1493659839a",
   "metadata": {},
   "outputs": [],
   "source": []
  },
  {
   "cell_type": "code",
   "execution_count": null,
   "id": "db86f873-8131-4597-83fb-2aaf5c76fd57",
   "metadata": {},
   "outputs": [],
   "source": []
  },
  {
   "cell_type": "markdown",
   "id": "08fd7b8c-c14b-4240-8e26-fa7263965080",
   "metadata": {},
   "source": [
    "#### After a name\n",
    "\n",
    "Python has their by `default keywords` which we can not use as `the variable name`. \n",
    "\n",
    "To **avoid such conflict** between python keyword and variable we use underscore after name:"
   ]
  },
  {
   "cell_type": "code",
   "execution_count": 69,
   "id": "d5212c00-1aaa-420c-9934-d64e4fb4282b",
   "metadata": {},
   "outputs": [
    {
     "ename": "SyntaxError",
     "evalue": "invalid syntax (<ipython-input-69-83ffa3bdb818>, line 1)",
     "output_type": "error",
     "traceback": [
      "\u001b[0;36m  File \u001b[0;32m\"<ipython-input-69-83ffa3bdb818>\"\u001b[0;36m, line \u001b[0;32m1\u001b[0m\n\u001b[0;31m    def method(name, class='Classname'):   # ❌\u001b[0m\n\u001b[0m                     ^\u001b[0m\n\u001b[0;31mSyntaxError\u001b[0m\u001b[0;31m:\u001b[0m invalid syntax\n"
     ]
    }
   ],
   "source": [
    "def method(name, class='Classname'):   # ❌\n",
    "SyntaxError: \"invalid syntax\">>> def method(name, class_='Classname'):  # ✅\n",
    "...     pass"
   ]
  },
  {
   "cell_type": "code",
   "execution_count": 30,
   "id": "df26d65f-d944-41d6-bfcb-7078276a656d",
   "metadata": {},
   "outputs": [
    {
     "ename": "NameError",
     "evalue": "name 'var1' is not defined",
     "output_type": "error",
     "traceback": [
      "\u001b[0;31m---------------------------------------------------------------------------\u001b[0m",
      "\u001b[0;31mNameError\u001b[0m                                 Traceback (most recent call last)",
      "\u001b[0;32m<ipython-input-30-e63a6c8fc64d>\u001b[0m in \u001b[0;36m<module>\u001b[0;34m\u001b[0m\n\u001b[1;32m      7\u001b[0m         \u001b[0mprint\u001b[0m \u001b[0;34m(\u001b[0m\u001b[0mclass_\u001b[0m\u001b[0;34m)\u001b[0m\u001b[0;34m\u001b[0m\u001b[0;34m\u001b[0m\u001b[0m\n\u001b[1;32m      8\u001b[0m \u001b[0;34m\u001b[0m\u001b[0m\n\u001b[0;32m----> 9\u001b[0;31m \u001b[0mmy_defination\u001b[0m\u001b[0;34m(\u001b[0m\u001b[0;34m)\u001b[0m\u001b[0;34m\u001b[0m\u001b[0;34m\u001b[0m\u001b[0m\n\u001b[0m",
      "\u001b[0;32m<ipython-input-19-26261edcc33f>\u001b[0m in \u001b[0;36mmy_defination\u001b[0;34m(var, calss_)\u001b[0m\n\u001b[1;32m      4\u001b[0m \u001b[0;34m\u001b[0m\u001b[0m\n\u001b[1;32m      5\u001b[0m \u001b[0;32mdef\u001b[0m \u001b[0mmy_defination\u001b[0m\u001b[0;34m(\u001b[0m\u001b[0mvar\u001b[0m \u001b[0;34m=\u001b[0m \u001b[0;36m1\u001b[0m \u001b[0;34m,\u001b[0m \u001b[0mcalss_\u001b[0m \u001b[0;34m=\u001b[0m \u001b[0mMyClass\u001b[0m\u001b[0;34m)\u001b[0m\u001b[0;34m:\u001b[0m\u001b[0;34m\u001b[0m\u001b[0;34m\u001b[0m\u001b[0m\n\u001b[0;32m----> 6\u001b[0;31m     \u001b[0mprint\u001b[0m\u001b[0;34m(\u001b[0m\u001b[0mvar1\u001b[0m\u001b[0;34m)\u001b[0m\u001b[0;34m\u001b[0m\u001b[0;34m\u001b[0m\u001b[0m\n\u001b[0m\u001b[1;32m      7\u001b[0m     \u001b[0mprint\u001b[0m\u001b[0;34m(\u001b[0m\u001b[0mclass_\u001b[0m\u001b[0;34m)\u001b[0m\u001b[0;34m\u001b[0m\u001b[0;34m\u001b[0m\u001b[0m\n\u001b[1;32m      8\u001b[0m \u001b[0;34m\u001b[0m\u001b[0m\n",
      "\u001b[0;31mNameError\u001b[0m: name 'var1' is not defined"
     ]
    }
   ],
   "source": [
    "class MyClass():\n",
    "    def __init__(self):\n",
    "        print (\"OWK\")\n",
    "\n",
    "    def my_defination(var1 = 1, class_ = MyClass):\n",
    "        print (var1)\n",
    "        print (class_)\n",
    "\n",
    "my_defination()"
   ]
  },
  {
   "cell_type": "code",
   "execution_count": 31,
   "id": "e2bbf3d0-9ff9-468b-9bda-e6bb9e44949f",
   "metadata": {},
   "outputs": [
    {
     "ename": "NameError",
     "evalue": "name '__main__' is not defined",
     "output_type": "error",
     "traceback": [
      "\u001b[0;31m---------------------------------------------------------------------------\u001b[0m",
      "\u001b[0;31mNameError\u001b[0m                                 Traceback (most recent call last)",
      "\u001b[0;32m<ipython-input-31-a50a9202d7f3>\u001b[0m in \u001b[0;36m<module>\u001b[0;34m\u001b[0m\n\u001b[0;32m----> 1\u001b[0;31m \u001b[0m__main__\u001b[0m\u001b[0;34m.\u001b[0m\u001b[0mMyClass\u001b[0m\u001b[0;34m\u001b[0m\u001b[0;34m\u001b[0m\u001b[0m\n\u001b[0m",
      "\u001b[0;31mNameError\u001b[0m: name '__main__' is not defined"
     ]
    }
   ],
   "source": [
    "__main__.MyClass"
   ]
  },
  {
   "cell_type": "markdown",
   "id": "bd257a8f-1e4c-4fa4-a052-40c180d53312",
   "metadata": {},
   "source": [
    "#### Before a name\n",
    "\n",
    "_name\n",
    "\n",
    "Leading Underscore before variable/function/method name indicates to programmer that it is for **internal use only**, that **can be modified** whenever class want.\n",
    "\n",
    "Here name prefix by underscore is treated as **non-public(internal only)**. \n",
    "\n",
    "If specify from Import * all the name starts with _ will not import. \n",
    "\n",
    "Python does not specify truly private so this ones can be call directly from other modules if it is specified in __all__, We also call it weak Private."
   ]
  },
  {
   "cell_type": "code",
   "execution_count": 32,
   "id": "93357390-30a1-4fd0-b6f7-8b049b0c2e72",
   "metadata": {},
   "outputs": [],
   "source": [
    "class Prefix:\n",
    "    def __init__(self):\n",
    "        self.public = 10\n",
    "        self._private = 12\n",
    "test = Prefix()"
   ]
  },
  {
   "cell_type": "code",
   "execution_count": 33,
   "id": "a53fce10-3967-4ad7-a243-4725210bd169",
   "metadata": {},
   "outputs": [
    {
     "data": {
      "text/plain": [
       "10"
      ]
     },
     "execution_count": 33,
     "metadata": {},
     "output_type": "execute_result"
    }
   ],
   "source": [
    "test.public"
   ]
  },
  {
   "cell_type": "code",
   "execution_count": 58,
   "id": "9fa7b0b2-f7e2-447d-a1de-c6f819a0b359",
   "metadata": {},
   "outputs": [
    {
     "data": {
      "text/plain": [
       "12"
      ]
     },
     "execution_count": 58,
     "metadata": {},
     "output_type": "execute_result"
    }
   ],
   "source": [
    "test._private"
   ]
  },
  {
   "cell_type": "markdown",
   "id": "8506e837-569a-4921-9f9f-1f79fccc06a9",
   "metadata": {},
   "source": [
    "single pre underscore doesn't stop you from accessing the single pre underscore variable.\n",
    "\n",
    "But, single pre underscore effects the names that are imported from the module."
   ]
  },
  {
   "cell_type": "code",
   "execution_count": 62,
   "id": "90ac05bc-a245-4527-81be-33b48cc374ef",
   "metadata": {},
   "outputs": [
    {
     "name": "stdout",
     "output_type": "stream",
     "text": [
      "datacamp\n",
      "7\n"
     ]
    }
   ],
   "source": [
    "class Test:\n",
    "    \n",
    "    def __init__(self):\n",
    "        self.name = \"datacamp\"\n",
    "        self._num = 7\n",
    "        \n",
    "obj = Test()\n",
    "\n",
    "print(obj.name)\n",
    "print(obj._num)"
   ]
  },
  {
   "cell_type": "code",
   "execution_count": 63,
   "id": "c9936605-88af-4a9d-9d5a-d6119dbc53de",
   "metadata": {},
   "outputs": [],
   "source": [
    "def func():\n",
    "    return \"datacamp\"\n",
    "\n",
    "def _private_func():\n",
    "    return 7"
   ]
  },
  {
   "cell_type": "markdown",
   "id": "d421e19d-4790-408e-8c63-4d10e381d72b",
   "metadata": {},
   "source": [
    "Now, if you import all the methods and names from my_functions.py, Python doesn't import the names which starts with a single pre underscore.\n",
    "\n",
    "filename:- my_functions.py\n",
    "\n",
    "def func():\n",
    "    return \"datacamp\"\n",
    "\n",
    "def _private_func():\n",
    "    return 7\n",
    "\n",
    "from my_functions import *\n",
    "func()\n",
    "'datacamp'\n",
    "_private_func()\n",
    "Traceback (most recent call last):\n",
    "  File \"<stdin>\", line 1, in <module>\n",
    "NameError: name '_private_func' is not defined\n"
   ]
  },
  {
   "cell_type": "code",
   "execution_count": 67,
   "id": "99807909-bc04-444c-ac5d-32ae77c73ce4",
   "metadata": {},
   "outputs": [
    {
     "ename": "ModuleNotFoundError",
     "evalue": "No module named 'my_functions'",
     "output_type": "error",
     "traceback": [
      "\u001b[0;31m---------------------------------------------------------------------------\u001b[0m",
      "\u001b[0;31mModuleNotFoundError\u001b[0m                       Traceback (most recent call last)",
      "\u001b[0;32m<ipython-input-67-415c011264cf>\u001b[0m in \u001b[0;36m<module>\u001b[0;34m\u001b[0m\n\u001b[0;32m----> 1\u001b[0;31m \u001b[0;32mfrom\u001b[0m \u001b[0mmy_functions\u001b[0m \u001b[0;32mimport\u001b[0m \u001b[0;34m*\u001b[0m\u001b[0;34m\u001b[0m\u001b[0;34m\u001b[0m\u001b[0m\n\u001b[0m",
      "\u001b[0;31mModuleNotFoundError\u001b[0m: No module named 'my_functions'"
     ]
    }
   ],
   "source": []
  },
  {
   "cell_type": "code",
   "execution_count": null,
   "id": "cb4ef308-1bf7-4b4e-9728-7cf6764a3d26",
   "metadata": {},
   "outputs": [],
   "source": []
  },
  {
   "cell_type": "code",
   "execution_count": null,
   "id": "af498d4c-e44b-4971-8a1c-53b970f6f002",
   "metadata": {},
   "outputs": [],
   "source": []
  },
  {
   "cell_type": "markdown",
   "id": "2951d9a3-9b0d-4c9c-8479-8ea5764f3734",
   "metadata": {},
   "source": [
    "### Double Underscore(__)\n",
    "\n",
    "#### __leading_double_underscore\n",
    "\n",
    "Leading double underscore tell python interpreter to rewrite name in order to **avoid conflict in subclass**.\n",
    "\n",
    "Interpreter changes variable name with class extension and that feature known as the Mangling."
   ]
  },
  {
   "cell_type": "code",
   "execution_count": 42,
   "id": "c96a30a1-6849-4be3-b9ca-c66cb5438da2",
   "metadata": {},
   "outputs": [],
   "source": [
    "# testFile.py\n",
    "class MyClass():\n",
    "    def __init__(self):\n",
    "        self.__variable = 10"
   ]
  },
  {
   "cell_type": "code",
   "execution_count": 44,
   "id": "ea8a327e-3aa4-4df0-a381-5da9744c9090",
   "metadata": {},
   "outputs": [
    {
     "ename": "AttributeError",
     "evalue": "'MyClass' object has no attribute '__variable'",
     "output_type": "error",
     "traceback": [
      "\u001b[0;31m---------------------------------------------------------------------------\u001b[0m",
      "\u001b[0;31mAttributeError\u001b[0m                            Traceback (most recent call last)",
      "\u001b[0;32m<ipython-input-44-128f6d52c1d0>\u001b[0m in \u001b[0;36m<module>\u001b[0;34m\u001b[0m\n\u001b[1;32m      2\u001b[0m \u001b[0;31m# import testFile\u001b[0m\u001b[0;34m\u001b[0m\u001b[0;34m\u001b[0m\u001b[0;34m\u001b[0m\u001b[0m\n\u001b[1;32m      3\u001b[0m \u001b[0mobj\u001b[0m \u001b[0;34m=\u001b[0m \u001b[0mMyClass\u001b[0m\u001b[0;34m(\u001b[0m\u001b[0;34m)\u001b[0m\u001b[0;34m\u001b[0m\u001b[0;34m\u001b[0m\u001b[0m\n\u001b[0;32m----> 4\u001b[0;31m \u001b[0mobj\u001b[0m\u001b[0;34m.\u001b[0m\u001b[0m__variable\u001b[0m\u001b[0;34m\u001b[0m\u001b[0;34m\u001b[0m\u001b[0m\n\u001b[0m",
      "\u001b[0;31mAttributeError\u001b[0m: 'MyClass' object has no attribute '__variable'"
     ]
    }
   ],
   "source": [
    "# Calling from Interpreter\n",
    "# import testFile\n",
    "obj = MyClass()\n",
    "obj.__variable"
   ]
  },
  {
   "cell_type": "code",
   "execution_count": 45,
   "id": "b1a058b8-2df5-4ce9-8dda-a98b69ecc0a3",
   "metadata": {},
   "outputs": [
    {
     "data": {
      "text/plain": [
       "10"
      ]
     },
     "execution_count": 45,
     "metadata": {},
     "output_type": "execute_result"
    }
   ],
   "source": [
    "obj._MyClass__variable"
   ]
  },
  {
   "cell_type": "markdown",
   "id": "905faac9-1fa8-46f0-9e9b-9d9fc9b45414",
   "metadata": {},
   "source": [
    "#### __BEFORE_AFTER__\n",
    "\n",
    "Name with start with __ and ends with same considers special methods in Python. \n",
    "\n",
    "Python provide this methods to use it as **the operator overloading depending on the user**.\n",
    "\n",
    "Python provides this convention to differentiate between the user defined function with the module’s function."
   ]
  },
  {
   "cell_type": "code",
   "execution_count": 48,
   "id": "11dd7fe1-5b5b-4f1c-b6f2-6f6a59c8a960",
   "metadata": {},
   "outputs": [
    {
     "name": "stdout",
     "output_type": "stream",
     "text": [
      "2\n",
      "10\n"
     ]
    }
   ],
   "source": [
    "class Myclass():\n",
    "    def __add__(self,a,b):\n",
    "        print(a * b)\n",
    "        \n",
    "obj = Myclass()\n",
    "\n",
    "obj.__add__(1,2)\n",
    "obj.__add__(5,2)"
   ]
  },
  {
   "cell_type": "markdown",
   "id": "9baff02a-2f8a-468f-8ebc-5e4e007f6ab1",
   "metadata": {},
   "source": [
    "### Separating Digits Of Numbers\n",
    "\n",
    "If you have a long digits number, you can separate the group of digits as you like for better understanding."
   ]
  },
  {
   "cell_type": "code",
   "execution_count": 56,
   "id": "b8e31da9-0c67-4459-8e1f-9ad8ce551e82",
   "metadata": {},
   "outputs": [
    {
     "name": "stdout",
     "output_type": "stream",
     "text": [
      "1000000\n",
      "2\n",
      "52\n",
      "9131\n"
     ]
    }
   ],
   "source": [
    "## different number systems\n",
    "## you can also check whether they are correct or not by coverting them into integer using \"int\" method\n",
    "million = 1_000_000\n",
    "binary = 0b_0010\n",
    "octa = 0o_64\n",
    "hexa = 0x_23_ab\n",
    "\n",
    "print(million)\n",
    "print(binary)\n",
    "print(octa)\n",
    "print(hexa)"
   ]
  },
  {
   "cell_type": "markdown",
   "id": "55bd1095-36ce-4c76-b601-72997639e238",
   "metadata": {},
   "source": [
    "<img src=\"https://pic3.zhimg.com/80/v2-cbc5c6037101c7d33cf0acd9f00a8cfa_1440w.jpg\">"
   ]
  },
  {
   "cell_type": "markdown",
   "id": "c3d72ded-ecc8-443f-b945-be95843e5679",
   "metadata": {},
   "source": [
    "- Single Leading Underscore `_var`: Naming convention indicating name is meant for internal use. A hint for programmers and not enforced by programmers.\n",
    "\n",
    "- Double Leading Underscore `__var`: Triggers name mangling when used in class context. Enforced by the Python interpreter.\n",
    "\n",
    "- Single Trailing Underscore `var_`: Used by convention to avoid naming conflicts with Python keywords.\n",
    "\n",
    "- Double Trailing Underscore `__var__`: Indicates special methods defined by Python \n",
    "\n",
    "- `Underscore _`: Used as a name for temporary variables."
   ]
  },
  {
   "cell_type": "code",
   "execution_count": null,
   "id": "ac6d8974-a154-4c80-b285-fdaa15921bbd",
   "metadata": {},
   "outputs": [],
   "source": []
  },
  {
   "cell_type": "code",
   "execution_count": null,
   "id": "6da85efe-d2ce-4bcb-8698-74acace69beb",
   "metadata": {},
   "outputs": [],
   "source": []
  },
  {
   "cell_type": "code",
   "execution_count": null,
   "id": "d903720b-db26-4f92-8f4c-b2378d9ef2f3",
   "metadata": {},
   "outputs": [],
   "source": []
  },
  {
   "cell_type": "code",
   "execution_count": null,
   "id": "27752103-e993-4e92-b6be-b5f50e21e9b8",
   "metadata": {},
   "outputs": [],
   "source": []
  },
  {
   "cell_type": "code",
   "execution_count": null,
   "id": "0c800fd0-ef14-499e-a8dd-5c56b34aae5b",
   "metadata": {},
   "outputs": [],
   "source": []
  }
 ],
 "metadata": {
  "kernelspec": {
   "display_name": "Python [conda env:p9] *",
   "language": "python",
   "name": "conda-env-p9-py"
  },
  "language_info": {
   "codemirror_mode": {
    "name": "ipython",
    "version": 3
   },
   "file_extension": ".py",
   "mimetype": "text/x-python",
   "name": "python",
   "nbconvert_exporter": "python",
   "pygments_lexer": "ipython3",
   "version": "3.9.5"
  },
  "latex_envs": {
   "LaTeX_envs_menu_present": true,
   "autoclose": false,
   "autocomplete": true,
   "bibliofile": "biblio.bib",
   "cite_by": "apalike",
   "current_citInitial": 1,
   "eqLabelWithNumbers": true,
   "eqNumInitial": 1,
   "hotkeys": {
    "equation": "Ctrl-E",
    "itemize": "Ctrl-I"
   },
   "labels_anchors": false,
   "latex_user_defs": false,
   "report_style_numbering": false,
   "user_envs_cfg": false
  },
  "toc": {
   "base_numbering": 1,
   "nav_menu": {},
   "number_sections": true,
   "sideBar": true,
   "skip_h1_title": false,
   "title_cell": "Table of Contents",
   "title_sidebar": "Contents",
   "toc_cell": false,
   "toc_position": {},
   "toc_section_display": true,
   "toc_window_display": true
  },
  "varInspector": {
   "cols": {
    "lenName": 16,
    "lenType": 16,
    "lenVar": 40
   },
   "kernels_config": {
    "python": {
     "delete_cmd_postfix": "",
     "delete_cmd_prefix": "del ",
     "library": "var_list.py",
     "varRefreshCmd": "print(var_dic_list())"
    },
    "r": {
     "delete_cmd_postfix": ") ",
     "delete_cmd_prefix": "rm(",
     "library": "var_list.r",
     "varRefreshCmd": "cat(var_dic_list()) "
    }
   },
   "types_to_exclude": [
    "module",
    "function",
    "builtin_function_or_method",
    "instance",
    "_Feature"
   ],
   "window_display": false
  }
 },
 "nbformat": 4,
 "nbformat_minor": 5
}
