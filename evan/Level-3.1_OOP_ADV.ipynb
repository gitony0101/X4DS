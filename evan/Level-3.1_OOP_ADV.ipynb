{
 "cells": [
  {
   "cell_type": "markdown",
   "id": "0d538dff-1668-48f1-8551-4a9758e4ebb1",
   "metadata": {},
   "source": [
    "# Level-3.1 OOP adv programming  Py4e Chap 14"
   ]
  },
  {
   "cell_type": "markdown",
   "id": "8d3ac3b5-f78d-4494-b601-b28803f151dd",
   "metadata": {},
   "source": [
    "## Intro and Compare: Object Oriented Programing vs Procedure Oriented Programming"
   ]
  },
  {
   "cell_type": "markdown",
   "id": "a0be84ba-4a0d-4ec6-9c49-e07c2ea4563e",
   "metadata": {},
   "source": [
    "#### Procedure oriented programming \n",
    "\n",
    "**Procedure oriented programming is a set of functions.** In this program language is used. To perform any particular task, set of function are compulsory. For example , a program may involve collecting data from user, performing some kind of calculation on that data and printing the data on screen when is requested. Calculating, reading or printing can be written in a program with the help of different functions on different tasks.\n",
    "\n",
    "POP method also emphases the `functions or the subroutines`.:\n",
    "\n",
    "<img src=https://aaimagestore.s3.amazonaws.com/july2017/0014350.002.png>"
   ]
  },
  {
   "cell_type": "markdown",
   "id": "4b8a98d0-838f-4b44-be15-79ff3101d880",
   "metadata": {},
   "source": [
    "### Object Oriented Programming\n",
    "\n",
    "- A program is made up of many cooperating `objects`\n",
    "\n",
    "- Instead of being the \"whole program\" - each object is a little \"island\" within the program and cooperatively working with other objects.\n",
    "\n",
    "- A program is made up of one or more objects working together - objects make use of each other's capabilities\n",
    "\n",
    "- reusability, scalability and efficiency.\n",
    "\n",
    "\n",
    "Object-oriented programming (OOP) organizes software design around data, or objects, rather than functions and logic. An object can be defined as a data field that has unique attributes and behavior.OOP focuses on the objects that developers want to manipulate rather than the logic required to manipulate them. This approach to programming is well-suited for programs that are large, complex and actively updated or maintained.The organization of an object-oriented program also makes the method beneficial to collaborative development, where projects are divided into groups."
   ]
  },
  {
   "cell_type": "markdown",
   "id": "50243855",
   "metadata": {},
   "source": [
    "\n",
    "\n",
    "\n",
    "    "
   ]
  },
  {
   "cell_type": "code",
   "execution_count": null,
   "id": "3265b886",
   "metadata": {},
   "outputs": [],
   "source": []
  },
  {
   "cell_type": "markdown",
   "id": "fca77733-20ee-424b-a35d-c294871fdc6f",
   "metadata": {},
   "source": [
    "### Class Objects\n",
    "\n",
    "**An Object is an instance of a Class.**\n",
    "\n",
    "The core-design of OOP is extracting the class, then create the instance with the temppltae:class().\n",
    "\n",
    "- **class-def variable is static**: stored in Memory the object sill can be called after the class being deleted\n",
    "\n",
    "- **class-def attr is static**: the parameters in the class will not change when the object's parameters are changed.\n",
    "\n",
    "- the function define the method,so the attr's name should not be the same as the function, or it will cover the whole function.\n",
    "\n",
    "\n",
    "A class is like a blueprint while an instance is a copy of the class with actual values. It’s not an idea anymore, it’s an actual dog, like a dog of breed pug who’s seven years old.\n",
    "\n",
    "You can have many dogs to create many different instances, but without the class as a guide, you would be lost, not knowing what information is required.\n",
    "An object consists of : \n",
    "\n",
    "- State: It is represented by the attributes of an object. It also reflects the properties of an object.\n",
    "\n",
    "- Behavior: It is represented by the methods of an object. It also reflects the response of an object to other objects.\n",
    "\n",
    "- Identity: It gives a unique name to an object and enables one object to interact with other objects.\n",
    "    \n",
    "<img src=https://media.geeksforgeeks.org/wp-content/uploads/Blank-Diagram-Page-1-5.png>"
   ]
  },
  {
   "cell_type": "markdown",
   "id": "db505fa4-abec-4778-bb94-0eb7288ab3cd",
   "metadata": {},
   "source": [
    "#### Declaring Objects (Also called instantiating a class)\n",
    "\n",
    "When an object of a class is created, the class is said to be instantiated. \n",
    "\n",
    "All the instances share the attributes and the behavior of the class. But the values of those attributes, i.e. the state are unique for each object. A single class may have any number of instances.\n",
    "\n",
    "Example:\n",
    "<img src=https://media.geeksforgeeks.org/wp-content/uploads/Blank-Diagram-Page-1-3.png>\n",
    "\n",
    "Declaring an object:"
   ]
  },
  {
   "cell_type": "code",
   "execution_count": null,
   "id": "b9aaff31-3d66-4b7b-8deb-382f99f8dc67",
   "metadata": {},
   "outputs": [],
   "source": [
    "# Python3 program to\n",
    "# demonstrate instantiating\n",
    "# a class\n",
    "\n",
    "class Dog:\n",
    "    \n",
    "    # A simple class\n",
    "    # attribute\n",
    "    attr1 = \"mammal\"\n",
    "    attr2 = \"dog\"\n",
    "    \n",
    "     # A sample method \n",
    "    def fun(self):\n",
    "        print(\"It's a\", self.attr1)\n",
    "        print(\"It's a\", self.attr2)\n",
    "\n",
    "        \n",
    "# Driver Code\n",
    "#Object instantiation\n",
    "Rodger = Dog()"
   ]
  },
  {
   "cell_type": "code",
   "execution_count": null,
   "id": "6067a8fc-135b-4716-b8b6-d122335bc37e",
   "metadata": {},
   "outputs": [],
   "source": [
    "print(Rodger.attr1)"
   ]
  },
  {
   "cell_type": "code",
   "execution_count": null,
   "id": "d70d75a3-aeeb-4db5-b38b-2b2860aad88c",
   "metadata": {},
   "outputs": [],
   "source": [
    "print(Rodger.attr2)"
   ]
  },
  {
   "cell_type": "code",
   "execution_count": null,
   "id": "1e9d72fd-0dbf-4126-9235-50dc1eb33714",
   "metadata": {},
   "outputs": [],
   "source": [
    "Rodger.fun()"
   ]
  },
  {
   "cell_type": "markdown",
   "id": "91ab28e6-605e-40f6-a76f-9d38e3e9b442",
   "metadata": {},
   "source": [
    "In the above example, an object is created which is basically `a dog named Rodger`. T\n",
    "\n",
    "his class only has `two class attributes` that tell us that Rodger is a `dog and a mammal`."
   ]
  },
  {
   "cell_type": "markdown",
   "id": "14e427ac-d193-446f-8030-718ea682e15f",
   "metadata": {},
   "source": [
    "### Definitions\n",
    "\n",
    "- Class - a template - Dog\n",
    "\n",
    "- Method or Message - A defined capability o fa class- bark()\n",
    "\n",
    "- Field or attribute- A bit of data in a class - length Object or Instance - A particular instance of a class Lassie"
   ]
  },
  {
   "cell_type": "markdown",
   "id": "e82dce87-e2db-40e7-984c-eb418a889fd3",
   "metadata": {},
   "source": [
    "#### Terminology: **Class**\n",
    "\n",
    "Defines the `abstract characteristics` of a thing (object), including the thing's characteristics (`its attributes, fields or properties`) and the `thing's behaviors` (the things it can do, or methods, operations or features). One might say that a class is a blueprint or factory that describes `the nature of something`. \n",
    "\n",
    "For example, the class Dog would consist of traits shared by all dogs, such as breed and fur color(characteristics), and the ability to bark and sit (behaviors).\n",
    "\n",
    "\n",
    "A pattern (exemplar) of a class:\n",
    "\n",
    "    The class of Dog defines all possible dogs by listing the characteristics and behaviors they can have; the object Lassie is one particular dog, with particular versions of the characteristics. A Dog has fur; Lassie has brown-and-white fur.\n",
    "    \n",
    "\n",
    "**Some points on Python class:**\n",
    "\n",
    "- Classes are created by keyword class.\n",
    "\n",
    "- Attributes are the variables that belong to a class.\n",
    "\n",
    "- Attributes are always public and can be accessed using the dot (.) operator. \n",
    "\n",
    "        Eg.: Myclass.Myattribute\n",
    "        \n",
    "      Class Definition Syntax:\n",
    "\n",
    "    class ClassName:\n",
    "\n",
    "        # Statement-1\n",
    "        .\n",
    "        .\n",
    "        .\n",
    "        # Statement-N"
   ]
  },
  {
   "cell_type": "code",
   "execution_count": null,
   "id": "1e5d39eb-91ed-48d3-8171-e555e97650cc",
   "metadata": {},
   "outputs": [],
   "source": [
    "# definition:\n",
    "class Car:\n",
    "    def move(self):\n",
    "        print('A car is running')"
   ]
  },
  {
   "cell_type": "code",
   "execution_count": null,
   "id": "2cb50d0d-3b30-4792-a014-5f09d3f19d60",
   "metadata": {},
   "outputs": [],
   "source": [
    "# create an object:\n",
    "BMW = Car()"
   ]
  },
  {
   "cell_type": "code",
   "execution_count": null,
   "id": "e8476aaf-82ae-4680-b701-4407b69900b5",
   "metadata": {},
   "outputs": [],
   "source": [
    "## add attibute:\n",
    "BMW.color = 'Black'\n",
    "{BMW.color}"
   ]
  },
  {
   "cell_type": "code",
   "execution_count": null,
   "id": "d91157ea-0d8f-42ec-a71a-58b85bf5dfe7",
   "metadata": {},
   "outputs": [],
   "source": [
    "# call method:\n",
    "BMW.move()"
   ]
  },
  {
   "cell_type": "markdown",
   "id": "274c88fb-47f5-4297-b7a2-66423fa52d9f",
   "metadata": {},
   "source": [
    "#### Terminology: **Instance**\n",
    "\n",
    "One can have an instance of a class or a particular object.The instance is the actual object created at runtime.In programmer jargon, `the Lassie object is an instance of the Dog class`. The set of values of the attributes of a particular object is called its state. The object consists of state and the\n",
    "behavior that's defined in the object's class.\n",
    "\n",
    "Object and Instance are often used interchangeably"
   ]
  },
  {
   "cell_type": "markdown",
   "id": "1980f4d8-4ce9-4582-b8f3-cfdf0b6f2f84",
   "metadata": {},
   "source": [
    "#### Terminology:**Method**\n",
    "\n",
    "An object's abilities. In language, methods are verbs. \n",
    "\n",
    "Lassie, being a Dog, has the `ability to bark`. So `bark()`is one of Lassie's `methods`.\n",
    "\n",
    "She may have other methods as well, for example sit() or eat() or walk() or save_timmy(). Within the program, using a method usually affects only one particular object; all Dogs can bark, but you need only one particular dog to do the barking Method and Message are often used interchangeably."
   ]
  },
  {
   "cell_type": "markdown",
   "id": "78193edf-89ab-4b63-86d6-b380a371a6df",
   "metadata": {},
   "source": [
    "#### The `(self)`\n",
    "\n",
    "Class methods must have an extra first parameter in the method definition. We **do not give a value for this parameter** when we call the method, Python provides it.If we have a method that takes no arguments, then we still have to have one argument.\n",
    "\n",
    "**This is similar to this pointer in C++ and this reference in Java.**\n",
    "\n",
    "When we call a method of this object as `myobject.method(arg1, arg2)`, this is automatically converted by Python into MyClass.method(myobject, arg1, arg2) – **this is all the special self is about.**\n",
    " "
   ]
  },
  {
   "cell_type": "code",
   "execution_count": null,
   "id": "ebe527cf-a143-4e03-ba01-045d6d850a49",
   "metadata": {},
   "outputs": [],
   "source": [
    "class Car:\n",
    "    def move(self):\n",
    "        print(f'A {self.color} car is running,it\\'s {self.name}.')\n",
    "        \n",
    "# create instance:\n",
    "BMW = Car()\n",
    "AUDI = Car()\n",
    "\n",
    "# create attr:\n",
    "BMW.color = 'Black'\n",
    "BMW.name = \"BMW\"\n",
    "AUDI.color = 'White'\n",
    "AUDI.name = 'AUDI'\n",
    "\n",
    "#call method:\n",
    "AUDI.move()\n",
    "BMW.move()"
   ]
  },
  {
   "cell_type": "code",
   "execution_count": null,
   "id": "2d60d13c-21da-4f87-b542-24e06a7240d4",
   "metadata": {},
   "outputs": [],
   "source": []
  },
  {
   "cell_type": "markdown",
   "id": "a9a04b20-eee4-4756-877e-46044959a83b",
   "metadata": {},
   "source": [
    "#### Constructor\n",
    "\n",
    "- The primary purpose of the constructor is to set up some instance variables to have the proper initial values when the object is created\n",
    "\n",
    "        The constructor and destructor are optional. The constructor is typically used to set up variables.The destructor is seldom used.\n",
    "        \n",
    "- In object oriented programming, a constructor in a class is a special block of statements called when an object is created\n",
    "\n",
    "- Constructors can have additional parameters.These can be used to set up instance variables for the particular instance of the class (i.e., for the particular\n",
    "object).\n",
    "\n",
    "[\"Our First python project\"-PartyAnimal](https://books.trinket.io/pfe/14-objects.html)"
   ]
  },
  {
   "cell_type": "code",
   "execution_count": null,
   "id": "e8c09302-93a0-42c1-902d-5a160b92bc3f",
   "metadata": {},
   "outputs": [],
   "source": [
    "class PartyAnimal:\n",
    "    x = 0\n",
    "    \n",
    "    def __init__(self):\n",
    "        print('I am constructed')\n",
    "        \n",
    "    def party(self):\n",
    "        self.x = self.x + 1\n",
    "        print('So far',self.x)\n",
    "    \n",
    "    def __del__(self):\n",
    "        print('I am destructed',self.x)\n",
    "        \n",
    "        \n",
    "an = PartyAnimal()\n",
    "an.party()\n",
    "an.party()\n",
    "an.party()\n",
    "an.party()\n",
    "an.party()\n",
    "an.party()\n",
    "an.party()\n",
    "# an.party()\n",
    "# an.party()\n",
    "\n",
    "an = 42\n",
    "print('an contains',an)"
   ]
  },
  {
   "cell_type": "markdown",
   "id": "070e1352-6841-423c-a695-219bd5a0a116",
   "metadata": {},
   "source": [
    "#### Many Instances\n",
    "\n",
    "- We can create lots of objects - the class is the template for the object\n",
    "\n",
    "- We can store each distinct object in its own variable\n",
    "\n",
    "- We call this having multiple instances of the same class\n",
    "\n",
    "- Each instance has its own copy of the instance variables"
   ]
  },
  {
   "cell_type": "code",
   "execution_count": null,
   "id": "176f6b44-60bf-45b9-be64-a2dca53c6763",
   "metadata": {},
   "outputs": [],
   "source": [
    "# Classes as types:\n",
    "\n",
    "class PartyAnimal:\n",
    "    x = 0\n",
    "    \n",
    "    def party(self):\n",
    "        self.x = self.x + 1\n",
    "        print(\"So far\",self.x)\n",
    "        \n",
    "an = PartyAnimal()"
   ]
  },
  {
   "cell_type": "code",
   "execution_count": null,
   "id": "5d985222-6360-4775-9dd4-866e6ff05f3d",
   "metadata": {},
   "outputs": [],
   "source": [
    "print(\"Type\",type(an))"
   ]
  },
  {
   "cell_type": "code",
   "execution_count": null,
   "id": "9c54292c-879d-4bc9-ba64-c2b4e9d9c92f",
   "metadata": {},
   "outputs": [],
   "source": [
    "print(\"dir\",dir(an))"
   ]
  },
  {
   "cell_type": "code",
   "execution_count": null,
   "id": "d27998b6-2dfc-4639-bc84-42acfb66d3ba",
   "metadata": {},
   "outputs": [],
   "source": [
    "print(\"Type\",type(an.x)) "
   ]
  },
  {
   "cell_type": "code",
   "execution_count": null,
   "id": "f6dfac7d-2684-4ed9-96af-d28726ce95de",
   "metadata": {},
   "outputs": [],
   "source": [
    "print(\"Type\",type(an.party))"
   ]
  },
  {
   "cell_type": "code",
   "execution_count": null,
   "id": "cda2172d-865f-48fc-8e49-2e9345f0f0c2",
   "metadata": {},
   "outputs": [],
   "source": [
    "class PartyAnimal:\n",
    "    x = 0\n",
    "    name = \"\"\n",
    "    def __init__(self,z):\n",
    "        self.name = z\n",
    "        print(self.name,'constructed')\n",
    "        \n",
    "    def party(self):\n",
    "        self.x = self.x + 1\n",
    "        print(self.name,'party count',self.x)\n",
    "    \n",
    "    def __del__(self):\n",
    "        print('I am destructed',self.x)\n",
    "        \n",
    "        \n",
    "s = PartyAnimal(\"Sally\")\n",
    "s.party()\n",
    "# s.party()\n",
    "\n",
    "j = PartyAnimal(\"Jim\")\n",
    "j.party()\n",
    "j.party()\n",
    "s.party()\n",
    "\n",
    "# an = 42\n",
    "# print('an contains',an)"
   ]
  },
  {
   "cell_type": "markdown",
   "id": "3c911718-7d7e-4947-837a-b0c2acab4442",
   "metadata": {},
   "source": []
  },
  {
   "cell_type": "code",
   "execution_count": null,
   "id": "04c8ac6e-c1f9-4ab6-82e8-40062493199c",
   "metadata": {},
   "outputs": [],
   "source": [
    "class PartyAnimal:\n",
    "    x = 0\n",
    "    name = \"\"\n",
    "    def __init__(self,nam):\n",
    "        self.name = nam\n",
    "        print(self.name,'constructed')\n",
    "        \n",
    "    def party(self):\n",
    "        self.x = self.x + 1\n",
    "        print(self.name,'party count',self.x)\n",
    "\n",
    "        \n",
    "        \n",
    "#here we begin the new generation:\n",
    "\n",
    "class FootballFan(PartyAnimal):\n",
    "    points = 0\n",
    "    def touchdown(self):\n",
    "        self.points = self.points + 7\n",
    "        self.party()\n",
    "        print(self.name,\"points\",self.points)"
   ]
  },
  {
   "cell_type": "markdown",
   "id": "bcceab9c-727e-44ca-8afd-f855f5860203",
   "metadata": {},
   "source": [
    "**FootballFan is a class which extends PartyAnimal. It has all the capabilities of PartyAnimal and more:**"
   ]
  },
  {
   "cell_type": "code",
   "execution_count": null,
   "id": "5571a62c-84a9-4aa0-b22a-fc0d228ccbe3",
   "metadata": {},
   "outputs": [],
   "source": [
    "s = PartyAnimal(\"Sally\")\n",
    "s.party()"
   ]
  },
  {
   "cell_type": "code",
   "execution_count": null,
   "id": "d02b8195-fbf3-4524-9c47-ee4df722a51c",
   "metadata": {},
   "outputs": [],
   "source": [
    "j = FootballFan(\"Jim\")\n",
    "j.party()\n",
    "j.touchdown()"
   ]
  },
  {
   "cell_type": "code",
   "execution_count": null,
   "id": "593d9609-707f-4f6e-bdae-ff0a981ee090",
   "metadata": {},
   "outputs": [],
   "source": [
    "#read the error report carefully\n",
    "k = PartyAnimal(\"Kim\")\n",
    "k.party()\n",
    "k.touchdown()"
   ]
  },
  {
   "cell_type": "code",
   "execution_count": null,
   "id": "734723ff-326f-49e4-9cd1-aa4c2cc6d228",
   "metadata": {},
   "outputs": [],
   "source": [
    "class DiehardFan(FootballFan):\n",
    "    year = 0\n",
    "    def membership(self):\n",
    "        self.year = self.year + 10086\n",
    "        self.party()\n",
    "        print(self.name,\"years\",self.year)\n",
    "\n",
    "l = DiehardFan(\"Luka\")\n",
    "l.FootballFan()\n",
    "l.year()"
   ]
  },
  {
   "cell_type": "code",
   "execution_count": null,
   "id": "98e3050a-30e9-4a2c-a9aa-302996980b43",
   "metadata": {},
   "outputs": [],
   "source": [
    "# ????"
   ]
  },
  {
   "cell_type": "code",
   "execution_count": null,
   "id": "66d7d093-9d96-4c04-aa51-97bdabcaef49",
   "metadata": {},
   "outputs": [],
   "source": []
  },
  {
   "cell_type": "markdown",
   "id": "cfd1a91b-3170-4f63-917d-bf274ae02cd9",
   "metadata": {},
   "source": [
    "### Built-in Method"
   ]
  },
  {
   "cell_type": "markdown",
   "id": "79b4107b-0863-438c-b318-4848737e82e7",
   "metadata": {},
   "source": [
    "#### `__init__()` method\n",
    "\n",
    "The `__init__` method is similar to constructors in C++ and Java. \n",
    "\n",
    "Constructors are used to initializing the object’s state. \n",
    "\n",
    "Like methods, a constructor also contains a collection of statements(i.e. instructions) that are executed at the time of Object creation.\n",
    "\n",
    "It runs as soon as an object of a class is instantiated. The method is useful to do any initialization you want to do with your object.\n",
    "\n",
    "**A Sample class with `__init__` mmethod :**"
   ]
  },
  {
   "cell_type": "code",
   "execution_count": null,
   "id": "171d72ff-cd4b-4097-9443-3a3d09de4b4a",
   "metadata": {},
   "outputs": [],
   "source": [
    "class Person:\n",
    "    \n",
    "    #init method or constructor\n",
    "    def __init__(self,name):\n",
    "        self.name = name\n",
    "        \n",
    "    # Sample method\n",
    "    def say_hi(self):\n",
    "        print(\"Hi, I'm\",self.name)\n",
    "p = Person('Zoe')\n",
    "p.say_hi()"
   ]
  },
  {
   "cell_type": "code",
   "execution_count": null,
   "id": "9089bf28-40bc-4c08-995b-a25f2a606565",
   "metadata": {},
   "outputs": [],
   "source": [
    "# here is the BMW:\n",
    "\n",
    "class car:\n",
    "    # def the default attribution\n",
    "    def __init__(self):\n",
    "        self.wheelNum = 4\n",
    "        self.color = 'White'\n",
    "        self.series = '530'\n",
    "        self.cylinderNum = 4\n",
    "        \n",
    "# creat object:\n",
    "BMW = car()\n",
    "print(f'Car color: {BMW.color}')\n",
    "print(f'Number of wheels: {BMW.wheelNum}')\n",
    "print(f'Car Series: {BMW.series}')\n",
    "print(f'Numer of cylinders: {BMW.cylinderNum}')"
   ]
  },
  {
   "cell_type": "markdown",
   "id": "590a4eae-ea18-4c52-8094-39ddec6d55b2",
   "metadata": {},
   "source": [
    "#### `__str__()`method\n",
    "\n",
    "This method returns the string representation of the object. This method is called when print() or str() function is invoked on an object.\n",
    "\n",
    "`__str__(self)` is used to define `print()`,there is no parameter in the `bracket()`,`print()`will print the `__str__(self)` retun value.\n",
    "\n",
    "This method must return the String object. If we don’t implement __str__() function for a class, then built-in object implementation is used that actually calls __repr__() function."
   ]
  },
  {
   "cell_type": "code",
   "execution_count": null,
   "id": "4a050b9d-3e81-4232-88e0-344e02d1ed58",
   "metadata": {},
   "outputs": [],
   "source": [
    "# `__str__(self)` sample\n",
    "\n",
    "class Car:\n",
    "    def __init__(self,newWheelNum,newColor):\n",
    "        self.wheelnum = newWheelNum\n",
    "        self.color = newColor\n",
    "        \n",
    "    def __str__(self):\n",
    "        msg = f\"The Car color is {self.color},there is {self.wheelnum} wheels.\"\n",
    "        # also  {self.wheelnum:d} wheels.\n",
    "        return msg\n",
    "    \n",
    "AUDI = Car(4,'Brown')\n",
    "print(AUDI)"
   ]
  },
  {
   "cell_type": "code",
   "execution_count": null,
   "id": "faa3a511-a7a4-44f8-b10c-a5410abf995f",
   "metadata": {},
   "outputs": [],
   "source": [
    "\n",
    "\n"
   ]
  },
  {
   "cell_type": "markdown",
   "id": "1d029bb7-75e4-435e-966f-c263ad45834e",
   "metadata": {
    "tags": []
   },
   "source": [
    "#### `__repr__()` method\n",
    "\n",
    "`__repr__()` function returns the object representation in string format. \n",
    "\n",
    "This method is called when `__repr__()` function is invoked on the object. \n",
    "\n",
    "If possible, the string returned should be a valid Python expression that can be used to reconstruct the object again.\n",
    "\n",
    "You should always use `__str()__` and `__repr__()` functions, which will call the underlying `__str()__` and `__repr__()` functions.**It’s not a good idea to use these functions directly.**\n",
    "\n",
    "\n",
    "##### What’s the difference between `__str()__` and `__repr__()`?\n",
    "\n",
    "The `__str()__` function is supposed to return a human-readable format, which is good for logging or to display some information about the object. \n",
    "\n",
    "Whereas, the `__repr()__` function is supposed to return an “official” string representation of the object, which can be used to construct the object again. Let’s look at some examples:"
   ]
  },
  {
   "cell_type": "code",
   "execution_count": null,
   "id": "9afc6c04-530e-46d6-8e7d-2c81f5a00ae5",
   "metadata": {},
   "outputs": [],
   "source": [
    "import datetime\n",
    "now = datetime.datetime.now()"
   ]
  },
  {
   "cell_type": "code",
   "execution_count": null,
   "id": "22bf30ac-ceb5-4445-b381-73d37dd82719",
   "metadata": {},
   "outputs": [],
   "source": [
    "now.__str__()"
   ]
  },
  {
   "cell_type": "code",
   "execution_count": null,
   "id": "4109566b-8ad2-427c-8c6c-4ff1abbb6bf1",
   "metadata": {},
   "outputs": [],
   "source": [
    "now.__repr__()"
   ]
  },
  {
   "cell_type": "markdown",
   "id": "0d6b58c0-b592-4767-8b91-d5289dc4a5bf",
   "metadata": {},
   "source": [
    "It’s clear from the output that __str__() is more human friendly whereas __repr__() is more information rich and machine friendly and can be used to reconstruct the object. \n",
    "\n",
    "In fact, we can use **repr() function with eval() to construct the object**."
   ]
  },
  {
   "cell_type": "code",
   "execution_count": null,
   "id": "963a7832-c388-4df1-9d62-2d975909df0e",
   "metadata": {},
   "outputs": [],
   "source": [
    "now1 = eval(repr(now))\n",
    "now1 # which equals to now"
   ]
  },
  {
   "cell_type": "markdown",
   "id": "7859b338-b96b-4c49-aa23-0cf876d4a9f3",
   "metadata": {},
   "source": [
    "Both of these functions are used in debugging\n",
    "\n",
    "Let’s see what happens if we don’t define these functions for a custom object."
   ]
  },
  {
   "cell_type": "code",
   "execution_count": null,
   "id": "f37acaea-539f-4511-807b-c242ace05539",
   "metadata": {},
   "outputs": [],
   "source": [
    "# without str or repr def\n",
    "\n",
    "class Person:\n",
    "    def __init__(self,person_name,person_age):\n",
    "        self.name = person_name\n",
    "        self.age = person_age\n",
    "        \n",
    "        \n",
    "p_0 = Person('Gigs',34)\n",
    "print(p_0.__str__())\n",
    "print(p_0.__repr__())"
   ]
  },
  {
   "cell_type": "markdown",
   "id": "49195324-51fb-4e55-b798-7cb29e76ba77",
   "metadata": {},
   "source": [
    "As you can see that the default implementation is useless. Let’s go ahead and implement both of these methods."
   ]
  },
  {
   "cell_type": "code",
   "execution_count": null,
   "id": "77b64d3b-fb3a-44b6-ae09-03b83c7ebc6c",
   "metadata": {},
   "outputs": [],
   "source": [
    "# with the str or repr def\n",
    "\n",
    "class Person:\n",
    "    def __init__(self,person_name,person_age):\n",
    "        self.name = person_name\n",
    "        self.age = person_age\n",
    "        \n",
    "    def __str__(self):\n",
    "        return f\"Person name is {self.name}, the age is {self.age}\"\n",
    "    \n",
    "    def __repr__(self):\n",
    "        return f\"Person(name = {self.name},age={self.age})\"\n",
    "    \n",
    "p_1 = Person('Scholes',34)\n",
    "\n",
    "print(p_1.__str__())\n",
    "print(p_1.__repr__())"
   ]
  },
  {
   "cell_type": "markdown",
   "id": "a63b590e-6283-470c-99e0-fcb1e1110dff",
   "metadata": {},
   "source": [
    "##### `__str__ and __repr__` Summary\n",
    "\n",
    "Both __str__ and __repr__ functions return string representation of the object. The __str__ string representation is supposed to be human-friendly and mostly used for logging purposes, whereas __repr__ representation is supposed to contain information about object so that it can be constructed again. You should **never use these functions directly and always use str() and repr() functions.**"
   ]
  },
  {
   "cell_type": "markdown",
   "id": "df216577-8446-4776-afd5-b074ae6a99e6",
   "metadata": {},
   "source": [
    "#### `__del__() method`\n",
    "\n",
    "when use the del func,the `__del*__` is used.\n",
    "\n",
    "del attribution:\n",
    "\n",
    "- del object.atrr\n",
    "\n",
    "- `__delattr__`(object, 'attr')\n",
    "\n"
   ]
  },
  {
   "cell_type": "code",
   "execution_count": null,
   "id": "8253ffb3-fea7-42e3-bf1e-83751f35d3fb",
   "metadata": {},
   "outputs": [],
   "source": [
    "class Animal(object):\n",
    "    \n",
    "    def __init__(self,name):\n",
    "        self.name = name\n",
    "        \n",
    "    def __del__(self):\n",
    "        print(f\"{self.__name} is killed...\")\n",
    "        \n",
    "dog1 = Animal(\"Pitbull\")\n",
    "dog2 = dog1\n",
    "\n",
    "del dog1\n",
    "print(\"deleted 1st instance\")"
   ]
  },
  {
   "cell_type": "code",
   "execution_count": null,
   "id": "3f106c73-e4c5-425e-a444-220bafa9abc7",
   "metadata": {},
   "outputs": [],
   "source": [
    "dog1()"
   ]
  },
  {
   "cell_type": "code",
   "execution_count": null,
   "id": "739dcc5e-08d0-4e59-aaa0-00b1fe62c09d",
   "metadata": {},
   "outputs": [],
   "source": [
    "del dog2\n",
    "print(\"deleted 2nd instance\")"
   ]
  },
  {
   "cell_type": "markdown",
   "id": "0d1fc6bd-c86c-464d-90fa-b47b3298523c",
   "metadata": {},
   "source": [
    "#### __get*__\n",
    "\n",
    "- `__getattr__(self, item)`\n",
    "\n",
    "     \n",
    "        getattr() function is used to access the attribute value of an object and also give an option of executing the default value in case of unavailability of the key. This has greater application to check for available keys in web development and many other phases of day-to-day programming.\n",
    "\n",
    "__getattribute__(self, item)"
   ]
  },
  {
   "cell_type": "code",
   "execution_count": null,
   "id": "d6ff4847-b51e-4f90-94bc-de24c9f481aa",
   "metadata": {},
   "outputs": [],
   "source": []
  },
  {
   "cell_type": "code",
   "execution_count": null,
   "id": "78753366-0b84-40dd-8b22-7df7e5c94484",
   "metadata": {},
   "outputs": [],
   "source": []
  },
  {
   "cell_type": "markdown",
   "id": "455b6e31-12f1-4e17-a008-401db522fec4",
   "metadata": {},
   "source": [
    "#### dataclass\n",
    "\n",
    "\n",
    "Assuming that we need to extract the people from two lists of visitors:\n",
    "    \n",
    "    "
   ]
  },
  {
   "cell_type": "code",
   "execution_count": null,
   "id": "b46e4018-6a69-45b2-b658-ece192b8c8c6",
   "metadata": {},
   "outputs": [],
   "source": [
    "# people visited phuket\n",
    "\n",
    "users_visited_phuket = [\n",
    "    {\"first_name\": \"Sirena\", \"last_name\": \"Gross\", \"phone_number\": \"650-568-0388\", \"date_visited\": \"2018-03-14\"},\n",
    "    {\"first_name\": \"James\", \"last_name\": \"Ashcraft\", \"phone_number\": \"412-334-4380\", \"date_visited\": \"2014-09-16\"},\n",
    "    #... ...\n",
    "]\n",
    "\n",
    "# people visited New Zealand\n",
    "\n",
    "users_visited_nz = [\n",
    "    {\"first_name\": \"Justin\", \"last_name\": \"Malcom\", \"phone_number\": \"267-282-1964\", \"date_visited\": \"2011-03-13\"},\n",
    "    {\"first_name\": \"Albert\", \"last_name\": \"Potter\", \"phone_number\": \"702-249-3714\", \"date_visited\": \"2013-09-11\"},\n",
    "    # ... ...\n",
    "]"
   ]
  },
  {
   "cell_type": "code",
   "execution_count": null,
   "id": "b3bcfc08-5f64-490f-b245-8425fef0bcb2",
   "metadata": {},
   "outputs": [],
   "source": [
    "# By the properties of dictionaries:\n",
    "\n",
    "def find_potential_customers():\n",
    "    nz_records_idx = {\n",
    "        (rec['first_name'], rec['last_name'], rec['phone_number'])\n",
    "        for rec in users_visited_nz\n",
    "    }\n",
    "\n",
    "    for rec in users_visited_phuket:\n",
    "        key = (rec['first_name'], rec['last_name'], rec['phone_number'])\n",
    "        if key not in nz_records_idx:\n",
    "            yield rec\n"
   ]
  },
  {
   "cell_type": "code",
   "execution_count": null,
   "id": "3eb2a871-ce52-486b-bd4a-90f7fb0a9fea",
   "metadata": {},
   "outputs": [],
   "source": [
    "\n",
    "class VisitRecord:\n",
    "    \"\"\"旅游记录\n",
    "    \"\"\"\n",
    "    def __init__(self, first_name, last_name, phone_number, date_visited):\n",
    "        self.first_name = first_name\n",
    "        self.last_name = last_name\n",
    "        self.phone_number = phone_number\n",
    "        self.date_visited = date_visited\n",
    "        \n",
    "    # 定义 hash 使对象可hash\n",
    "    def __hash__(self):\n",
    "        return hash(\n",
    "            (self.first_name, self.last_name, self.phone_number)\n",
    "        )\n",
    "        \n",
    "    # 定义 eq 使对象可 做差\n",
    "    def __eq__(self, other):\n",
    "        # 当两条访问记录的名字与电话号相等时，判定二者相等。\n",
    "        if isinstance(other, VisitRecord) and hash(other) == hash(self):\n",
    "            return True\n",
    "        return False\n",
    "\n",
    "\n",
    "# 做差集\n",
    "def find_potential_customers():\n",
    "    return set(VisitRecord(**r) for r in users_visited_phuket) - \\\n",
    "        set(VisitRecord(**r) for r in users_visited_nz)\n",
    "\n"
   ]
  },
  {
   "cell_type": "code",
   "execution_count": null,
   "id": "f51edc83-7112-47dc-b3db-14e988f66baf",
   "metadata": {},
   "outputs": [],
   "source": [
    "@dataclass(unsafe_hash=True)\n",
    "class VisitRecordDC:\n",
    "    first_name: str\n",
    "    last_name: str\n",
    "    phone_number: str\n",
    "    # 跳过“访问时间”字段，不作为任何对比条件\n",
    "    date_visited: str = field(hash=False, compare=False)\n",
    "\n",
    "\n",
    "def find_potential_customers():\n",
    "    return set(VisitRecordDC(**r) for r in users_visited_phuket) - \\\n",
    "        set(VisitRecordDC(**r) for r in users_visited_nz)\n"
   ]
  },
  {
   "cell_type": "code",
   "execution_count": null,
   "id": "4ba5e87f-80db-44fe-9e8d-5dfa498c67bc",
   "metadata": {},
   "outputs": [],
   "source": []
  },
  {
   "cell_type": "markdown",
   "id": "058b6d0e",
   "metadata": {},
   "source": [
    "### Class proterty"
   ]
  },
  {
   "cell_type": "markdown",
   "id": "9d3896f6",
   "metadata": {},
   "source": [
    "#### Selifize\n",
    "\n",
    "- `__xx__` : selfize the methods or properties which can not be imported.Sometime it can be stored as `__className__x` and called.\n",
    "\n",
    "- `__xx__`:magic methods or properties,can not be called either from outside or by class call outside."
   ]
  },
  {
   "cell_type": "code",
   "execution_count": null,
   "id": "e65652c6",
   "metadata": {},
   "outputs": [],
   "source": [
    "class Msg:\n",
    "    # selfize method:\n",
    "    def __send_msg(self):\n",
    "        print('Sending')\n",
    "    # publice method, used to determin whether call private method.\n",
    "    def send_msg(self,money):\n",
    "        if money > 10:\n",
    "            self.__send_msg()\n",
    "        else:\n",
    "            print('Need to charge')\n",
    "            \n",
    "msg = Msg()\n",
    "msg.send_msg(8)\n",
    "\n",
    "msg.send_msg(100)"
   ]
  },
  {
   "cell_type": "markdown",
   "id": "acdb8274-cf88-4d41-9f9b-5ee4e8b13094",
   "metadata": {},
   "source": [
    "#### Ojbect property\n",
    "\n",
    "- Class property:the method outside the class method,callable.\n",
    "\n",
    "- Object property:the method inside the class,which must be called by objects.The object property will cover the same-named class property,when called, the object property will be preferral.\n",
    "\n",
    "\n",
    "    \n",
    "\n"
   ]
  },
  {
   "cell_type": "code",
   "execution_count": null,
   "id": "06991ca9-7ce4-482d-8ee2-2991c21561ff",
   "metadata": {},
   "outputs": [],
   "source": [
    "class People(object):\n",
    "    address = 'Cao county,He ze city,Shandong' # class property\n",
    "    __height__ = 180 # selfized class property\n",
    "    \n",
    "    def __init__(self):\n",
    "        self.name = 'xiaowang' # object property\n",
    "        self.age = 20 #object property\n",
    "        \n",
    "print(People.address)"
   ]
  },
  {
   "cell_type": "code",
   "execution_count": null,
   "id": "35353710",
   "metadata": {},
   "outputs": [],
   "source": [
    "print(People.__height__)"
   ]
  },
  {
   "cell_type": "code",
   "execution_count": null,
   "id": "ad64bfd8",
   "metadata": {},
   "outputs": [],
   "source": [
    "print(People.__height)"
   ]
  },
  {
   "cell_type": "code",
   "execution_count": null,
   "id": "88710d10",
   "metadata": {},
   "outputs": [],
   "source": [
    "print(People.mro)"
   ]
  },
  {
   "cell_type": "code",
   "execution_count": null,
   "id": "35e9e42b",
   "metadata": {},
   "outputs": [],
   "source": [
    "People.mro"
   ]
  },
  {
   "cell_type": "markdown",
   "id": "ec90d2e9",
   "metadata": {},
   "source": [
    "#### Attribute or Property?\n",
    "\n",
    "It's a good question bro,let's move on.\n",
    "\n",
    "I define a class Circle with radius:"
   ]
  },
  {
   "cell_type": "code",
   "execution_count": null,
   "id": "a47a9244",
   "metadata": {},
   "outputs": [],
   "source": [
    "# class Circle(object):\n",
    "#     def __init__(self,radius):\n",
    "#         self.radius = radius\n",
    "        \n",
    "#     @property\n",
    "#     def diameter(self):\n",
    "#         return self.radius * 2\n",
    "#     @diameter.setter\n",
    "#     def diameter(self,new_diameter):\n",
    "#         self.radius = new_diameter / 2"
   ]
  },
  {
   "cell_type": "code",
   "execution_count": null,
   "id": "2dca2c44",
   "metadata": {},
   "outputs": [],
   "source": [
    "# # now we compare the def:\n",
    "\n",
    "# class Circle(object):\n",
    "#     def __init__(self,radius,diameter):\n",
    "#         sel.radius = radius\n",
    "#         self.diameter = diameter"
   ]
  },
  {
   "cell_type": "markdown",
   "id": "b1417c6f",
   "metadata": {},
   "source": [
    "##### you need to rethink here @@@@@@"
   ]
  },
  {
   "cell_type": "code",
   "execution_count": null,
   "id": "cac6554c",
   "metadata": {},
   "outputs": [],
   "source": [
    "class Circle(object):\n",
    "    def __init__(self,radius,diameter):\n",
    "        self.radius = radius\n",
    "        self.diameter = diameter\n",
    "        \n",
    "my_circle = Circle(2,4)\n",
    "\n",
    "print('Radius is {}'.format(my_circle.radius))\n",
    "print('Diameter is {}'.format(my_circle.diameter))\n",
    "        "
   ]
  },
  {
   "cell_type": "code",
   "execution_count": null,
   "id": "b57ef34b",
   "metadata": {},
   "outputs": [],
   "source": [
    "# Change the radius into 6:\n",
    "my_circle.radius = 6\n",
    "print('Radius is {}'.format(my_circle.radius))\n",
    "print('Diameter is {}'.format(my_circle.diameter))"
   ]
  },
  {
   "cell_type": "markdown",
   "id": "1c7125ec",
   "metadata": {},
   "source": [
    "So here is the problem.\n",
    "\n",
    "Initially, we define the radius is 2,thus the diameter is 4,that what we can understand as human.However, when coding,we may need to change the radius, say the radius is 6,**why the diameter is still 4??**.\n",
    "\n",
    "Because the code is not aware the fact d = 2r.\n",
    "\n",
    "So I would like the diameter to change itself when I modify the radius,or on the contrary.**Now we need the @property**\n",
    "\n",
    "Here the @property comes:\n"
   ]
  },
  {
   "cell_type": "code",
   "execution_count": null,
   "id": "033f4023",
   "metadata": {},
   "outputs": [],
   "source": [
    "class Circle(object):\n",
    "    def __init__(self,radius):\n",
    "        self.radius = radius\n",
    "        \n",
    "    @property\n",
    "    def diameter(self):\n",
    "        return self.radius * 2\n",
    "    @diameter.setter\n",
    "    def diameter(self,new_diameter):\n",
    "        self.radius = new_diameter / 2"
   ]
  },
  {
   "cell_type": "code",
   "execution_count": null,
   "id": "21324e15",
   "metadata": {},
   "outputs": [],
   "source": [
    "my_circle = Circle(2)\n",
    "print('Radius is {}'.format(my_circle.radius))\n",
    "print('Diameter is {}'.format(my_circle.diameter))"
   ]
  },
  {
   "cell_type": "code",
   "execution_count": null,
   "id": "3e50ed4b",
   "metadata": {},
   "outputs": [],
   "source": [
    "# Change the radius into 6:\n",
    "my_circle.radius = 6\n",
    "print('Radius is {}'.format(my_circle.radius))\n",
    "print('Diameter is {}'.format(my_circle.diameter))"
   ]
  },
  {
   "cell_type": "code",
   "execution_count": null,
   "id": "48fdbabf",
   "metadata": {},
   "outputs": [],
   "source": [
    "# Change the diameter into 6:\n",
    "my_circle.diameter = 6\n",
    "print('Radius is {}'.format(my_circle.radius))\n",
    "print('Diameter is {}'.format(my_circle.diameter))"
   ]
  },
  {
   "cell_type": "markdown",
   "id": "bda77568",
   "metadata": {},
   "source": [
    "[notes](https://www.zhihu.com/question/40015172/answer/284427895): Property looks like the attribute with the function."
   ]
  },
  {
   "cell_type": "markdown",
   "id": "1db39f47-c4e1-45d6-9e4f-3f825e76f91d",
   "metadata": {},
   "source": [
    "### Object\n",
    "\n",
    "- An Object is a bit of self-contained Code and Data\n",
    "\n",
    "- A key aspect of the Object approach is to break the problem into smaller understandable parts (divide and conquer)\n",
    "\n",
    "- Objects have boundaries that allow us to ignore un-needed detail\n",
    "\n",
    " - We have been using objects all along: String Objects,\n",
    "    Integer Objects, Dictionary Objects, List Objects....."
   ]
  },
  {
   "cell_type": "markdown",
   "id": "8d111d84-b29f-4e18-97fb-991332526888",
   "metadata": {},
   "source": [
    "#### Using Objects\n",
    "\n",
    "Python provides us with many built-in objects. "
   ]
  },
  {
   "cell_type": "code",
   "execution_count": null,
   "id": "d4ae0e6e-b007-4024-bf80-b689948cf42e",
   "metadata": {},
   "outputs": [],
   "source": [
    "stuff = list()\n",
    "stuff.append('python')\n",
    "stuff.append('chuck')\n",
    "stuff"
   ]
  },
  {
   "cell_type": "code",
   "execution_count": null,
   "id": "e304c18d-5be3-4ff4-95b1-ecf4eee43486",
   "metadata": {},
   "outputs": [],
   "source": [
    "stuff.sort()\n",
    "stuff"
   ]
  },
  {
   "cell_type": "code",
   "execution_count": null,
   "id": "7ed28902-97a8-4a2c-9abb-4a60d02ebe31",
   "metadata": {},
   "outputs": [],
   "source": [
    "print(stuff[0])"
   ]
  },
  {
   "cell_type": "code",
   "execution_count": null,
   "id": "919d8075-1008-4dbf-8690-b211cac4dea3",
   "metadata": {},
   "outputs": [],
   "source": [
    "print(stuff.__getitem__(0))"
   ]
  },
  {
   "cell_type": "code",
   "execution_count": null,
   "id": "94353edc-177c-424e-903f-9ab235bc74e2",
   "metadata": {},
   "outputs": [],
   "source": [
    "print(list.__getitem__(stuff,0))"
   ]
  },
  {
   "cell_type": "markdown",
   "id": "882c0c1a-54e0-440e-a1d7-1c4c877046ef",
   "metadata": {},
   "source": [
    "The first line is constructing an object of type list, the second and third lines are calling the append() method, the fourth line is calling the sort() method, and the fifth line is retrieving the item at position 0.\n",
    "\n",
    "The sixth line is calling the __getitem__() method in the stuff list with a parameter of zero.\n",
    "\n",
    "print (stuff.__getitem__(0))\n",
    "\n",
    "The seventh line is an even more verbose way of retrieving the 0th item in the list.\n",
    "\n",
    "print (list.__getitem__(stuff,0))\n",
    "\n",
    "In this code, we care calling the __getitem__ method in the list class and passing in the list (stuff) and the item we want retrieved from the list as parameters."
   ]
  },
  {
   "cell_type": "markdown",
   "id": "b11eeaf6-8250-44b7-b0b0-e167e0c01f46",
   "metadata": {},
   "source": [
    "### Class example"
   ]
  },
  {
   "cell_type": "code",
   "execution_count": null,
   "id": "3c0731cf-9167-4692-895a-cbea1ba823cf",
   "metadata": {},
   "outputs": [],
   "source": [
    "class PartyAnimal:\n",
    "    x = 0\n",
    "    \n",
    "    def party(self):\n",
    "        self.x = self.x + 1\n",
    "        print(\"So far\",self.x)\n",
    "        \n",
    "an = PartyAnimal"
   ]
  },
  {
   "cell_type": "code",
   "execution_count": null,
   "id": "af39a311-ec25-4bfb-b796-1bebab805a98",
   "metadata": {},
   "outputs": [],
   "source": [
    "class PartyAnimal:\n",
    "    x = 0\n",
    "    name = ''\n",
    "    def __init__(self,nam):\n",
    "        self.name = nam\n",
    "        print(self.name,'constructed')\n",
    "        \n",
    "    def party(self):\n",
    "        self.x = self.x + 1\n",
    "        print(self.name,'party count',self.x)"
   ]
  },
  {
   "cell_type": "markdown",
   "id": "9e5b2b27-1baa-4984-94be-c0e0df2268f4",
   "metadata": {},
   "source": [
    "#### Playing with dir() and type()\n",
    "\n",
    "**A Nerdy Wasy to Find Capabilities**\n",
    "\n",
    "- The dir() command lists capabilities\n",
    "\n",
    "- Ignore the ones with underscores-these are used by Python itself\n",
    "\n",
    "- The rest are real operations that the object can perform\n",
    "\n",
    "- It is like type()-it tells us something *about* a variable"
   ]
  },
  {
   "cell_type": "markdown",
   "id": "cc8c6efc-af98-4eb7-9d40-af2319095e9b",
   "metadata": {},
   "source": [
    "### Object Lifeycle\n",
    "\n",
    "- Objects are created, used and discarded\n",
    "\n",
    "- We have special blocks of code (methods) that get called\n",
    "    - At the moment of creation (constructor)\n",
    "    - At the moment of destruction (destructor)\n",
    "\n",
    "- Constructors are used a lot\n",
    "\n",
    "- Destructors are seldom used"
   ]
  },
  {
   "cell_type": "markdown",
   "id": "de7cb353-6561-4b33-856f-db50968f85ac",
   "metadata": {},
   "source": [
    "### Definitions summary:\n",
    "\n",
    "- Class - a template\n",
    "\n",
    "- Attribute - A variable within a class\n",
    "\n",
    "- Method - A function within a class\n",
    "\n",
    "- Object - A particular instance of a class\n",
    "\n",
    "- Constructor - Code that runs when an object is created\n",
    "\n",
    "- Inheritance - The ability to extend a class to make a new class\n",
    "\n",
    "\n",
    "**Summary**\n",
    "\n",
    "- Object Oriented programming is a very structured approach to code reuse\n",
    "\n",
    "- We can group data and functionality together and create many independent instances of a class"
   ]
  },
  {
   "cell_type": "markdown",
   "id": "daaed87b",
   "metadata": {},
   "source": [
    "## Three specific features in  Object Oriented Programming:\n",
    "\n",
    "\n",
    "\n",
    "\n",
    "\n",
    "面向对象编程有三大重要特征：封装、继承和多态。\n",
    "封装\n",
    "\n",
    "封装是指将数据与具体操作的实现代码放在某个对象内部，使这些代码的实现细节不被外界发现，外界只能通过接口使用该对象，而不能通过任何形式修改对象内部实现，正是由于封装机制，程序在使用某一对象时不需要关心该对象的数据结构细节及实现操作的方法。使用封装能隐藏对象实现细节，使代码更易维护，同时因为不能直接调用、修改对象内部的私有信息，在一定程度上保证了系统安全性。类通过将函数和变量封装在内部，实现了比函数更高一级的封装。"
   ]
  },
  {
   "cell_type": "markdown",
   "id": "f6a3aaec",
   "metadata": {},
   "source": [
    "### [Encapsulation](https://www.geeksforgeeks.org/encapsulation-in-python/)"
   ]
  },
  {
   "cell_type": "code",
   "execution_count": null,
   "id": "d96d97f9",
   "metadata": {},
   "outputs": [],
   "source": []
  },
  {
   "cell_type": "code",
   "execution_count": null,
   "id": "9e5bfbbb",
   "metadata": {},
   "outputs": [],
   "source": []
  },
  {
   "cell_type": "code",
   "execution_count": null,
   "id": "0de313c6",
   "metadata": {},
   "outputs": [],
   "source": []
  },
  {
   "cell_type": "code",
   "execution_count": null,
   "id": "aacb6e5b",
   "metadata": {},
   "outputs": [],
   "source": []
  },
  {
   "cell_type": "code",
   "execution_count": null,
   "id": "579dab3e",
   "metadata": {},
   "outputs": [],
   "source": []
  },
  {
   "cell_type": "code",
   "execution_count": null,
   "id": "3325779c",
   "metadata": {},
   "outputs": [],
   "source": []
  },
  {
   "cell_type": "code",
   "execution_count": null,
   "id": "1fae5619",
   "metadata": {},
   "outputs": [],
   "source": []
  },
  {
   "cell_type": "markdown",
   "id": "fa7faec6-07d6-44df-88b4-d7b1fb2466fa",
   "metadata": {},
   "source": [
    "### [Inheritance](http://www.ibiblio.org/g2swap/byteofpython/read/inheritance.html)\n",
    "\n",
    "- When we make a new class - we can `reuse` an `existing class` and `inherit all the capabilities of an existing class` and then `add our own little bit to make our new class`\n",
    "\n",
    "- Another `form` of store and reuse\n",
    "\n",
    "- `Write once - reuse many times`\n",
    "\n",
    "- The new class `(child)` has all the capabilities of the old class (parent)- `and then some more`\n",
    "\n",
    "    -”长江后浪推前浪“-the younger generation excels the older generation.\n",
    "\n",
    "\n",
    "\n",
    "**Inheritance is the capability of one class to derive or inherit the properties from another class.** \n",
    "\n",
    "The benefits of inheritance are: \n",
    "\n",
    "- 1 It represents real-world relationships well.\n",
    "    \n",
    "- 2 It provides **reusability** of a code. We don’t have to write the same code again and again. Also, it allows us to add more features to a class without modifying it.\n",
    "    \n",
    "- 3 It is transitive in nature, which means that if class B inherits from another class A, then all the subclasses of B would automatically inherit from class A.\n",
    "\n",
    "Below is a simple example of inheritance in Python: \n",
    "\n",
    "**Notice the \"Person\" in the bracket,that's the core expression of the inheritance**"
   ]
  },
  {
   "cell_type": "code",
   "execution_count": null,
   "id": "a5b29c73-2105-4055-8dd9-e33f1874d45d",
   "metadata": {},
   "outputs": [],
   "source": [
    "# A Python program to demonstrate inheritance \n",
    "   \n",
    "# Base or Super class. Note object in bracket.\n",
    "# (Generally, object is made ancestor of all classes)\n",
    "# In Python 3.x \"class Person\" is \n",
    "# equivalent to \"class Person(object)\"\n",
    "class Person(object):\n",
    "    # Constructor\n",
    "    def __init__(self,name):\n",
    "        self.name = name\n",
    "    # To get name\n",
    "    def getName(self):\n",
    "        return self.name\n",
    "    # To check if this person is an employee\n",
    "    def isEmployee(self):\n",
    "        return False\n",
    "\n",
    "    \n",
    "# Inherited or Subclass (Note the \"Person\" in bracket)\n",
    "class Employee(Person):\n",
    "    #here we return True:\n",
    "    def isEmployee(self):\n",
    "        return True\n",
    "\n",
    "    \n",
    "# Driver code\n",
    "emp = Person(\"Geek1\") #An Object of person\n",
    "print(emp.getName(),emp.isEmployee())\n",
    "\n",
    "emp = Employee(\"Geek2\") #An Object of Employee\n",
    "print(emp.getName(),emp.isEmployee())"
   ]
  },
  {
   "cell_type": "markdown",
   "id": "db3a887e-f540-4169-8375-60e8f0882fdf",
   "metadata": {},
   "source": [
    "#### Subclassing (Calling constructor of parent class) \n",
    "\n",
    "A child class needs to identify which class is its parent class. This can be done by mentioning the parent class name in the definition of the child class. \n",
    "**Eg: class subclass_name (superclass_name): **"
   ]
  },
  {
   "cell_type": "code",
   "execution_count": null,
   "id": "8ce3a8da-0068-43f8-95cf-b667d24d519e",
   "metadata": {},
   "outputs": [],
   "source": [
    "# Python code to demonstrate how parent constructors\n",
    "# are called and how the child class created: notice the Person in the bracket\n",
    "\n",
    "# Parent class\n",
    "class Person(object):\n",
    "    # __init__ is known as the constructor\n",
    "    def __init__(self,name,idnumber):\n",
    "        self.name = name\n",
    "        self.idnumber = idnumber\n",
    "    def display(self):\n",
    "        print(self.name)\n",
    "        print(self.idnumber)\n",
    "        \n",
    "# Child class\n",
    "class Employee(Person):\n",
    "    def __init__(self,name,idnumber,salary,post):\n",
    "        self.salary = salary\n",
    "        self.post = post\n",
    "        \n",
    "        # Invoking the  __init__ of the Parent class\n",
    "        Person.__init__(self,name,idnumber)\n",
    "        \n",
    "# Creation of an object variable or an instance:\n",
    "a = Employee(\"Evan\",886012,200000,\"Intern\")\n",
    "\n",
    "# Calling a function of the class Person using its instance\n",
    "a.display()\n",
    "        \n",
    "  "
   ]
  },
  {
   "cell_type": "markdown",
   "id": "df1c8385-d8a6-42ed-aeae-b16916f6f5cc",
   "metadata": {},
   "source": [
    "`‘a’` is the instance created for the `class Person`.\n",
    "\n",
    "It invokes the `__init__()` of the referred class. \n",
    "You can see ‘object’ written in the declaration of the `class Person`. \n",
    "\n",
    "In Python, every class inherits from a built-in basic class called ‘object’. The constructor i.e. the `‘__init__’` function of a class is **invoked** when we create an object variable or an instance of the class.\n",
    "\n",
    "The variables defined within `__init__()` are called as the **instance variables** or **objects**. Hence, ‘name’ and ‘idnumber’ are the objects of the class Person.Similarly, ‘salary’ and ‘post’ are the objects of the class Employee. Since the class Employee inherits from class Person, ‘name’ and ‘idnumber’ are also the objects of class Employee.\n",
    "\n",
    "If you forget to invoke the `__init__()` of the parent class then its instance variables would not be available to the child class. The following code produces an **ERROR** for the same reason. \n",
    " "
   ]
  },
  {
   "cell_type": "code",
   "execution_count": null,
   "id": "b17713a2-179b-477c-b5f9-4f1543a91da6",
   "metadata": {},
   "outputs": [],
   "source": [
    "# Python program to demonstrate ERROR if we\n",
    "# forget to invoke __init__() of the parent.\n",
    "\n",
    "class A:\n",
    "      def __init__(self, n = 'Rahul'):\n",
    "              self.name = n\n",
    "class B(A):\n",
    "      def __init__(self, roll):\n",
    "              self.roll = roll\n",
    "  \n",
    "object = B(23)\n",
    "print (object.name)"
   ]
  },
  {
   "cell_type": "markdown",
   "id": "75dfcb24-67f9-43c7-ae02-3d91ec749b60",
   "metadata": {},
   "source": [
    "#### Different forms of Inheritance:\n",
    "\n",
    "\n",
    "- Single Inheritance \n",
    "\n",
    "- Multiple Inheritance \n",
    "\n",
    "- Multilevel inheritance\n",
    "\n",
    "- Hierarchical inheritance\n",
    "\n",
    "- Hybrid inheritance\n",
    "\n",
    "\n",
    "##### 1. **Single inheritance**\n",
    "\n",
    "When a child class inherits from only one parent class, it is called single inheritance. **We saw an example above.**\n",
    "here is our another eg.:"
   ]
  },
  {
   "cell_type": "code",
   "execution_count": null,
   "id": "47b5b374-4ab2-448e-a0e3-43b032a5139d",
   "metadata": {},
   "outputs": [],
   "source": [
    "class Cat(object):\n",
    "    def __init__(self, name, color=\"white\"):\n",
    "        self.name = name\n",
    "        self.color = color\n",
    "    def run(self):\n",
    "        print(f\"{self.name} is running\")\n",
    "\n",
    "class Bosi(Cat):\n",
    "    def setNewName(self, newName):\n",
    "        self.name = newName\n",
    "    def eat(self):\n",
    "        print(f\"{self.name} is eating\")\n",
    "        \n",
    "bs = Bosi(\"Indian\")\n",
    "print(f\"Name: {bs.name}\")\n",
    "print(f\"Color : {bs.color}\")\n",
    "bs.eat()\n",
    "bs.setNewName('Persian')\n",
    "bs.run()"
   ]
  },
  {
   "cell_type": "markdown",
   "id": "9c2a945e-4437-4547-a224-0d1bb5ae8cc6",
   "metadata": {},
   "source": [
    "\n",
    "\n",
    "##### 2. **Multiple inheritance**\n",
    "\n",
    "When a child class inherits from multiple parent classes, it is called multiple inheritance. Unlike Java and like C++, Python supports multiple inheritance. We specify all parent classes as a comma-separated list in the bracket. "
   ]
  },
  {
   "cell_type": "code",
   "execution_count": null,
   "id": "c5e7bb8d-41a7-494d-9658-f15f87351d5d",
   "metadata": {},
   "outputs": [],
   "source": [
    "# Python example to show the working of multiple \n",
    "# inheritance\n",
    "\n",
    "class Base1(object):\n",
    "    def __init__(self):\n",
    "        self.str1 = \"Geek1\"\n",
    "        print(\"Base1\")\n",
    "  \n",
    "\n",
    "class Base2(object):\n",
    "    def __init__(self):\n",
    "        self.str2 = \"Geek2\"        \n",
    "        print(\"Base2\")\n",
    "  \n",
    "\n",
    "class Derived(Base1,Base2):# Notice the Base1 and Base2 in the bracket\n",
    "    def __init__(self):\n",
    "        \n",
    "        #Calling constructors of Base1\n",
    "        # and Base2 classes\n",
    "        Base1.__init__(self)\n",
    "        Base2.__init__(self)\n",
    "        print(\"Derived\")\n",
    "          \n",
    "    def printStrs(self):\n",
    "        print(self.str1, self.str2)\n",
    "        \n",
    "obob = Derived()\n",
    "ob.printStrs()"
   ]
  },
  {
   "cell_type": "markdown",
   "id": "1934b0a6-a87d-488b-8dd6-e3de638a3148",
   "metadata": {},
   "source": [
    "##### 3. **Multilevel inheritance**\n",
    "\n",
    "When we have a **child and grandchild relationship**."
   ]
  },
  {
   "cell_type": "code",
   "execution_count": null,
   "id": "b3dab762-d5d3-47d2-b960-6d8214245410",
   "metadata": {},
   "outputs": [],
   "source": [
    "# A Python program to demonstrate inheritance \n",
    "  \n",
    "# Base or Super class. Note object in bracket.\n",
    "# (Generally, object is made ancestor of all classes)\n",
    "# In Python 3.x \"class Person\" is \n",
    "# equivalent to \"class Person(object)\"\n",
    "\n",
    "class Base(object):\n",
    "    \n",
    "    #Constructor\n",
    "    def __init__(self,name):\n",
    "        self.name = name\n",
    "        \n",
    "    #To get name\n",
    "    def getName(self):\n",
    "        return self.name\n",
    "    \n",
    "#Inherited or Sub class (Again, Note Person in bracket)\n",
    "\n",
    "class Child(Base):\n",
    "    \n",
    "    #Constructor\n",
    "    def __init__(self,name,age):\n",
    "        Base.__init__(self,name)\n",
    "        self.age = age\n",
    "        \n",
    "    # To get age\n",
    "    def getAge(self):\n",
    "        return self.age\n",
    "    \n",
    "#Inherited or Sub class(Note Person in Bracket)\n",
    "class GrandChild(Child):\n",
    "    \n",
    "    #Constructor\n",
    "    def __init__(self,name,age,address):\n",
    "        Child.__init__(self,name,age)\n",
    "        self.address = address\n",
    "        \n",
    "    # To get address:\n",
    "    def getAddress(self):\n",
    "        return self.address\n",
    "    \n",
    "#Driver Code\n",
    "g = GrandChild(\"Geek1\",23,\"Nodia\")\n",
    "print(g.getName(),g.getAge(),g.getAddress())\n",
    "\n"
   ]
  },
  {
   "cell_type": "markdown",
   "id": "5f5c91d2-e85a-42ae-bd3a-0f099c2123e8",
   "metadata": {},
   "source": [
    "**Notes:**\n",
    "\n",
    "There 3 classes in this eg: Base,Child and GrandChild，which invoke the `__init__()` for getting Names(getName),Ages(getAge) and address(getAddress) respectively."
   ]
  },
  {
   "cell_type": "markdown",
   "id": "0803a4ce-9073-4d14-937c-c2029ab148ab",
   "metadata": {},
   "source": [
    "##### 4. **Hierarchical inheritance**\n",
    "\n",
    "**More than one derived classes** are created **from a single base**.\n",
    "\n",
    "\n",
    "##### 5. **Hybrid inheritance**\n",
    "\n",
    "This form combines more than one form of inheritance. \n",
    "\n",
    "Basically, it is a blend of **more than one type of inheritance**.\n",
    "\n",
    "\n",
    "**Private members of parent class**\n",
    "\n",
    "We don’t always want the instance variables of the parent class to be inherited by the child class i.e. we can make some of the instance variables of the parent class private, which won’t be available to the child class. \n",
    "\n",
    "We can make an instance variable by adding double underscores before its name. For example:"
   ]
  },
  {
   "cell_type": "code",
   "execution_count": null,
   "id": "e229b23a-7bc1-40e0-a1c0-3b0e18f04088",
   "metadata": {},
   "outputs": [],
   "source": [
    "# Python program to demonstrate private members\n",
    "# of the parent class\n",
    "\n",
    "class C(object):\n",
    "    def __init__(self):\n",
    "        self.c = 21\n",
    "        \n",
    "        # d is a private instance variable:\n",
    "        self.__d = 42\n",
    "        \n",
    "class D(C): #Inheriting\n",
    "    def __init__(self):\n",
    "        self.e = 84\n",
    "        C.__init__(self)\n",
    "\n",
    "object1 = D()\n",
    "\n",
    "# produce an error as d is private instance variable:\n",
    "print(object1.d)"
   ]
  },
  {
   "cell_type": "markdown",
   "id": "b374686d-e937-4a73-82fe-18fb2171d074",
   "metadata": {},
   "source": [
    "Since ‘d’ is made private by those underscores, it is not available to the child class ‘D’ and hence the error."
   ]
  },
  {
   "cell_type": "markdown",
   "id": "fb5e8d3f-fccd-4cd8-998f-f7b78645870e",
   "metadata": {},
   "source": [
    "### Method Overriding\n",
    "\n",
    "Method overriding is an ability of **any object-oriented programming language** that **allows a subclass or child class to provide a specific implementation of a method** that is **already provided by one of its super-classes or parent classes**.\n",
    "\n",
    "When a method in a **subclass has the same name, same parameters or signature and same return type(or sub-type) as a method in its super-class**, then the **method in the subclass is said to override the method in the super-class**.\n",
    "\n",
    "<img src=https://media.geeksforgeeks.org/wp-content/uploads/20200114114917/overriding-in-python.png>\n",
    "\n",
    "The version of a method that is executed will be **determined by the object that is used to invoke it**.\n",
    "\n",
    "If an object of a parent class is used to invoke the method, then the version in the parent class will be executed, but if an object of the subclass is used to invoke the method, then the version in the child class will be executed. In other words, **it is the type of the object being referred to (not the type of the reference variable) that determines which version of an overridden method will be executed**.\n",
    "\n",
    "Example:"
   ]
  },
  {
   "cell_type": "code",
   "execution_count": null,
   "id": "0a7ebc10-84b6-4c80-85a1-19d06dd65008",
   "metadata": {},
   "outputs": [],
   "source": [
    "# Python program to demonstrate \n",
    "# method overriding\n",
    "\n",
    "# Defining parent class\n",
    "\n",
    "class Parent():\n",
    "    \n",
    "    # Constructor\n",
    "    \n",
    "    def __init__(self):\n",
    "        self.value = \"Inside Parent\"\n",
    "        \n",
    "    # Parent's show method:\n",
    "    def show(self):\n",
    "        print(self.value)\n",
    "        \n",
    "# Defining the Child class\n",
    "class Child(Parent):\n",
    "    \n",
    "    # Constructor\n",
    "    def __init__(self):\n",
    "        self.value = \"Inside Child\"\n",
    "        \n",
    "    # Child's show method\n",
    "    def show(self):\n",
    "        print(self.value)\n",
    "        \n",
    "# Driver's code:\n",
    "obj1 = Parent()\n",
    "obj2 = Child()\n",
    "\n",
    "obj1.show()\n",
    "obj2.show()"
   ]
  },
  {
   "cell_type": "markdown",
   "id": "f8e29884",
   "metadata": {},
   "source": [
    "[Method overriding with multiple and multilevel inheritance](https://www.geeksforgeeks.org/method-overriding-in-python/)"
   ]
  },
  {
   "cell_type": "markdown",
   "id": "ad55c650",
   "metadata": {},
   "source": [
    "### [Polymophism](https://www.geeksforgeeks.org/polymorphism-in-python/)"
   ]
  },
  {
   "cell_type": "markdown",
   "id": "31492c18-cc3c-4451-92da-8fa3cba5a849",
   "metadata": {},
   "source": [
    "What is **Polymorphism**\n",
    "\n",
    "The word **polymorphism** means **having many forms**. \n",
    "\n",
    "In programming, polymorphism means **same function name (but different signatures) being uses for different types**.\n",
    "\n",
    "**Example of inbuilt polymorphic functions :**"
   ]
  },
  {
   "cell_type": "code",
   "execution_count": null,
   "id": "996b63a6",
   "metadata": {},
   "outputs": [],
   "source": [
    "# Python program to demonstrate in-built poly-\n",
    "# morphic functions\n",
    "  \n",
    "# len() being used for a string\n",
    "\n",
    "print(len(\"Geeks\"))\n",
    "\n",
    "#len being used for a list\n",
    "print(len([10,20,30]))"
   ]
  },
  {
   "cell_type": "markdown",
   "id": "18730a08-7712-477f-8e1e-2fd6f1b79b84",
   "metadata": {},
   "source": [
    "**Examples of used defined polymorphic functions :**"
   ]
  },
  {
   "cell_type": "code",
   "execution_count": null,
   "id": "2ae02dad-347a-4c88-a8dc-4e80168d8c90",
   "metadata": {},
   "outputs": [],
   "source": [
    "def add(x,y,z = 0):\n",
    "    return x + y + z\n",
    "\n",
    "# Driver code\n",
    "print(add(2,3))\n",
    "print(add(2,3,4))"
   ]
  },
  {
   "cell_type": "markdown",
   "id": "c0f9cb82-7218-4f41-a0ff-a97ab11f763b",
   "metadata": {},
   "source": [
    "#### Polymorphism with class methods:\n",
    "\n",
    "Below code shows how python can use two different class types, in the same way.\n",
    "\n",
    "We create a for loop that iterates through **a tuple of objects**. \n",
    "\n",
    "Then call the methods without being concerned about which class type each object is.\n",
    "\n",
    "We assume that these methods actually exist in each class."
   ]
  },
  {
   "cell_type": "code",
   "execution_count": null,
   "id": "957fc516-ea53-486e-ba8e-6b1e1b00c54d",
   "metadata": {},
   "outputs": [],
   "source": [
    "class India():\n",
    "    def capital(self):\n",
    "        print(\"New Delhi is the capital of India.\")\n",
    "    def language(self):\n",
    "        print(\"Hindi is the most widely spoken language of India.\")\n",
    "        \n",
    "    def type(self):\n",
    "        print(\"India is a developing country.\")\n",
    "        \n",
    "class USA():\n",
    "    def capital(self):\n",
    "        print(\"DC is the capital of the USA\")\n",
    "    def language(self):\n",
    "        print(\"English is the official language of USA.\")\n",
    "        \n",
    "    def type(self):\n",
    "        print(\"USA is a developed country.\")\n",
    "        \n",
    "        \n",
    "obj_ind = India()\n",
    "obj_usa = USA()\n",
    "\n",
    "for country in (obj_ind,obj_usa):\n",
    "    country.capital()\n",
    "    country.language()\n",
    "    country.type()"
   ]
  },
  {
   "cell_type": "markdown",
   "id": "05a1baed-729d-4c23-9d3f-0d6b3c4d60c8",
   "metadata": {},
   "source": [
    "#### Polymorphism with Inheritance:\n",
    "\n",
    "In Python, Polymorphism lets us define methods in the child class that have the same name as the methods in the parent class. \n",
    "\n",
    "In inheritance, the child class inherits the methods from the parent class. However, it is possible to modify a method in a child class that it has inherited from the parent class. This is **particularly useful in cases where the method inherited from the parent class doesn’t quite fit the child class.**\n",
    "\n",
    "In such cases, we re-implement the method in the child class. This process of re-implementing a method in the child class is known as Method Overriding."
   ]
  },
  {
   "cell_type": "code",
   "execution_count": null,
   "id": "8ffc9ef5-ae61-45b3-b73c-50977f1d9c8c",
   "metadata": {},
   "outputs": [],
   "source": [
    "class Bird:\n",
    "  def intro(self):\n",
    "    print(\"There are many types of birds.\")\n",
    "      \n",
    "  def flight(self):\n",
    "    print(\"Most of the birds can fly but some cannot.\")\n",
    "    \n",
    "class sparrow(Bird):\n",
    "  def flight(self):\n",
    "    print(\"Sparrows can fly.\")\n",
    "      \n",
    "class ostrich(Bird):\n",
    "  def flight(self):\n",
    "    print(\"Ostriches cannot fly.\")\n",
    "      \n",
    "obj_bird = Bird()\n",
    "obj_spr = sparrow()\n",
    "obj_ost = ostrich()\n",
    "  \n",
    "obj_bird.intro()\n",
    "obj_bird.flight()\n",
    "  \n",
    "obj_spr.intro()\n",
    "obj_spr.flight()\n",
    "  \n",
    "obj_ost.intro()\n",
    "obj_ost.flight()"
   ]
  },
  {
   "cell_type": "code",
   "execution_count": null,
   "id": "21add403-7fc0-46ac-ba6c-34508982c8e6",
   "metadata": {},
   "outputs": [],
   "source": []
  },
  {
   "cell_type": "code",
   "execution_count": null,
   "id": "8fa66ff9-3362-4ee0-8e57-419a71d21e16",
   "metadata": {},
   "outputs": [],
   "source": []
  },
  {
   "cell_type": "markdown",
   "id": "b2dd7c66-8f45-410c-981e-eaf04bba4edb",
   "metadata": {},
   "source": [
    "https://realpython.com/python-super/"
   ]
  },
  {
   "cell_type": "code",
   "execution_count": null,
   "id": "b1b75673-f286-4072-a04a-187ef279ccae",
   "metadata": {},
   "outputs": [],
   "source": []
  },
  {
   "cell_type": "code",
   "execution_count": null,
   "id": "a88e4d3a",
   "metadata": {},
   "outputs": [],
   "source": []
  }
 ],
 "metadata": {
  "interpreter": {
   "hash": "ff2e645ef952f1284ebef59edbc19ad3cff03e6406671d2dab1ca7ad9588368d"
  },
  "kernelspec": {
   "display_name": "Python 3 (ipykernel)",
   "language": "python",
   "name": "python3"
  },
  "language_info": {
   "codemirror_mode": {
    "name": "ipython",
    "version": 3
   },
   "file_extension": ".py",
   "mimetype": "text/x-python",
   "name": "python",
   "nbconvert_exporter": "python",
   "pygments_lexer": "ipython3",
   "version": "3.9.6"
  },
  "latex_envs": {
   "LaTeX_envs_menu_present": true,
   "autoclose": false,
   "autocomplete": true,
   "bibliofile": "biblio.bib",
   "cite_by": "apalike",
   "current_citInitial": 1,
   "eqLabelWithNumbers": true,
   "eqNumInitial": 1,
   "hotkeys": {
    "equation": "Ctrl-E",
    "itemize": "Ctrl-I"
   },
   "labels_anchors": false,
   "latex_user_defs": false,
   "report_style_numbering": false,
   "user_envs_cfg": false
  },
  "toc": {
   "base_numbering": 1,
   "nav_menu": {},
   "number_sections": true,
   "sideBar": true,
   "skip_h1_title": false,
   "title_cell": "Table of Contents",
   "title_sidebar": "Contents",
   "toc_cell": false,
   "toc_position": {
    "height": "calc(100% - 180px)",
    "left": "10px",
    "top": "150px",
    "width": "256px"
   },
   "toc_section_display": true,
   "toc_window_display": true
  },
  "varInspector": {
   "cols": {
    "lenName": 16,
    "lenType": 16,
    "lenVar": 40
   },
   "kernels_config": {
    "python": {
     "delete_cmd_postfix": "",
     "delete_cmd_prefix": "del ",
     "library": "var_list.py",
     "varRefreshCmd": "print(var_dic_list())"
    },
    "r": {
     "delete_cmd_postfix": ") ",
     "delete_cmd_prefix": "rm(",
     "library": "var_list.r",
     "varRefreshCmd": "cat(var_dic_list()) "
    }
   },
   "types_to_exclude": [
    "module",
    "function",
    "builtin_function_or_method",
    "instance",
    "_Feature"
   ],
   "window_display": false
  }
 },
 "nbformat": 4,
 "nbformat_minor": 5
}
