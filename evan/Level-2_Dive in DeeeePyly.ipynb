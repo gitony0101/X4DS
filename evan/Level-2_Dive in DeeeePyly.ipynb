{
 "cells": [
  {
   "cell_type": "markdown",
   "id": "47de9182-eb42-481d-a9b4-d448a2fd733b",
   "metadata": {},
   "source": [
    "# Dive in DeeeePyly"
   ]
  },
  {
   "cell_type": "markdown",
   "id": "1fe9e2be",
   "metadata": {},
   "source": [
    "## Optional Positional Arguments `*args` and Keyword Arguments `**kwargs`\n",
    "\n",
    "\n",
    "[args and kwargs](https://realpython.com/python-kwargs-and-args/#using-the-python-kwargs-variable-in-function-definitions)\n",
    "\n",
    "\n",
    "    1.)*args (Non-Keyword Arguments)\n",
    "\n",
    "    2.)**kwargs (Keyword Arguments)\n",
    "\n",
    "\n",
    "- Passing Multiple Arguments to a Function\n",
    "\n",
    "- Using the Python args Variable in Function Definitions\n",
    "\n",
    "- Using the Python kwargs Variable in Function Definitions\n",
    "\n",
    "- Ordering Arguments in a Function\n",
    "\n",
    "- Unpacking With the Asterisk Operators: * & **\n",
    "\n",
    "\n",
    "\n"
   ]
  },
  {
   "cell_type": "markdown",
   "id": "64f4f85d",
   "metadata": {},
   "source": [
    "### Passing Multiple Arguments to a Function\n",
    "\n",
    "**`*args and **kwargs`** allow you to pass multiple arguments or keyword arguments to a function.\n",
    "\n",
    "Consider the following example. This is a simple function that takes two arguments and returns their sum:\n",
    "\n"
   ]
  },
  {
   "cell_type": "code",
   "execution_count": 63,
   "id": "fd65215d",
   "metadata": {},
   "outputs": [],
   "source": [
    "def my_sum(a,b):\n",
    "    return a + b"
   ]
  },
  {
   "cell_type": "markdown",
   "id": "ebcd094f",
   "metadata": {},
   "source": [
    "This function works fine, but it’s limited to only **two arguments**. \n",
    "\n",
    "What if you need to sum a varying number of arguments, where the specific number of arguments passed is only determined at runtime?\n",
    "\n",
    "Wouldn’t it be great to create a function that could sum all the integers passed to it, no matter how many there are?"
   ]
  },
  {
   "cell_type": "markdown",
   "id": "d605f771",
   "metadata": {},
   "source": [
    "### Using the Python args Variable in Function Definitions\n",
    "\n",
    "There are a few ways you can pass a varying number of arguments to a function. \n",
    "\n",
    "The first way is often the most intuitive for people that have experience with collections. \n",
    "\n",
    "You simply pass a list or a set of all the arguments to your function. So for my_sum(), you could pass a list of all the integers you need to add:"
   ]
  },
  {
   "cell_type": "markdown",
   "id": "20206565",
   "metadata": {},
   "source": [
    "#### sum_integers_list"
   ]
  },
  {
   "cell_type": "code",
   "execution_count": 64,
   "id": "5408370f",
   "metadata": {},
   "outputs": [
    {
     "name": "stdout",
     "output_type": "stream",
     "text": [
      "6\n"
     ]
    }
   ],
   "source": [
    "def my_sum(my_integers):\n",
    "    result = 0 \n",
    "    for x in my_integers:\n",
    "        result += x\n",
    "    return result\n",
    "\n",
    "list_of_integers = [1,2,3]\n",
    "\n",
    "print(my_sum(list_of_integers))"
   ]
  },
  {
   "cell_type": "markdown",
   "id": "40ed254c",
   "metadata": {},
   "source": [
    "This implementation works, but whenever you call this function you’ll also need to create a list of arguments to pass to it. \n",
    "\n",
    "This can be inconvenient where **`*args`** can be really useful, because it allows you to pass a varying number of positional arguments. \n",
    "\n",
    "Take the following example:"
   ]
  },
  {
   "cell_type": "markdown",
   "id": "9ab3004d",
   "metadata": {},
   "source": [
    "#### sum_integers_args "
   ]
  },
  {
   "cell_type": "code",
   "execution_count": 65,
   "id": "f4d5f21b",
   "metadata": {},
   "outputs": [
    {
     "name": "stdout",
     "output_type": "stream",
     "text": [
      "6\n"
     ]
    }
   ],
   "source": [
    "def my_sum(*args):\n",
    "    result = 0\n",
    "    #Iterating over the Python args tuple:\n",
    "    for x in args:\n",
    "        result += x\n",
    "    return result\n",
    "\n",
    "print(my_sum(1,2,3))"
   ]
  },
  {
   "cell_type": "markdown",
   "id": "96c414db",
   "metadata": {},
   "source": [
    "In this example, you’re no longer passing a list to `my_sum()`. Instead, you’re passing three different positional arguments. \n",
    "\n",
    "`my_sum()` takes all the parameters that are provided in the input and packs them all into a single iterable object named **`args`**.\n",
    "\n",
    "**Note :** args is just a name. \n",
    "\n",
    "You’re not required to use the name args. You can choose any name that you prefer, such as **`*integers`**:"
   ]
  },
  {
   "cell_type": "code",
   "execution_count": 66,
   "id": "3952a86d",
   "metadata": {},
   "outputs": [
    {
     "name": "stdout",
     "output_type": "stream",
     "text": [
      "6\n"
     ]
    }
   ],
   "source": [
    "# sum_integers_args_2.py\n",
    "\n",
    "# here try another name values\n",
    "def my_sum(*values):#look at the star*\n",
    "    result = 0\n",
    "    for x in values:\n",
    "        result += x\n",
    "    return result\n",
    "\n",
    "print(my_sum(1,2,3))"
   ]
  },
  {
   "cell_type": "markdown",
   "id": "984af59b",
   "metadata": {},
   "source": [
    "The function still works, even if you pass the iterable object as integers**(values)** instead of **args**. \n",
    "\n",
    "\n",
    "All that matters here is that you use the **unpacking operator (*)**.\n",
    "\n",
    "- Bear in mind that the iterable object you’ll get using the **`unpacking operator *`** is **[not a list but a tuple,which is IMMUTABLE!](https://realpython.com/python-lists-tuples/)**."
   ]
  },
  {
   "cell_type": "markdown",
   "id": "6590e75b",
   "metadata": {},
   "source": [
    "### Using the Python kwargs Variable in Function Definitions\n",
    "\n",
    "**` **kwargs`** works just like **`*args`**, \n",
    "\n",
    "but instead of accepting positional arguments it accepts keyword (or named) arguments. Take the following example:"
   ]
  },
  {
   "cell_type": "code",
   "execution_count": 69,
   "id": "b823358f",
   "metadata": {},
   "outputs": [
    {
     "name": "stdout",
     "output_type": "stream",
     "text": [
      "Keep Calm and Carry On!\n"
     ]
    }
   ],
   "source": [
    "# concatenate:\n",
    "\n",
    "def concatenate(**kwargs):\n",
    "    result= \"\" #cool here , you need know more\n",
    "    # firstly, this is an initialization\n",
    "    # Iterating over the Python kwargs dictionary\n",
    "    for arg in kwargs.values():\n",
    "        result += arg\n",
    "    return result\n",
    "\n",
    "print(concatenate(a=\"Keep Calm\",b=\" and \",c=\"Carry On\",d=\"!\"))"
   ]
  },
  {
   "cell_type": "markdown",
   "id": "c536e8f4",
   "metadata": {},
   "source": [
    "**Note:** \n",
    "\n",
    "In the example above the iterable object is a standard dict(). -----**Dictionary**\n",
    "\n",
    "If you iterate over the dictionary and want to **return its values**, like in the example shown, then you must use .values().\n",
    "\n",
    "In fact, if you forget to use this method, you will find yourself iterating through the **keys** of your **Python kwargs dictionary** instead, like in the following example:"
   ]
  },
  {
   "cell_type": "code",
   "execution_count": 75,
   "id": "b80bc600",
   "metadata": {},
   "outputs": [
    {
     "name": "stdout",
     "output_type": "stream",
     "text": [
      "abcd\n"
     ]
    }
   ],
   "source": [
    "# concatenate_keys.py\n",
    "\n",
    "def concatenate(**kwargs):\n",
    "    result = \"\"\n",
    "    # Interating over the keys of the Python kwargs dictionary\n",
    "    for arg in kwargs:#(different here)\n",
    "        result += arg\n",
    "    return result\n",
    "\n",
    "print(concatenate(a=\"Keep Calm\",b=\" and \",c=\"Carry On\",d=\"!!\"))"
   ]
  },
  {
   "cell_type": "markdown",
   "id": "c616b11a",
   "metadata": {},
   "source": [
    "As you can see, **if you don’t specify .values()**, your function will **iterate over the keys of your Python kwargs dictionary**, returning the wrong result."
   ]
  },
  {
   "cell_type": "code",
   "execution_count": 74,
   "id": "1df97185",
   "metadata": {},
   "outputs": [
    {
     "name": "stdout",
     "output_type": "stream",
     "text": [
      "Keep Calm and Carry On!!\n"
     ]
    }
   ],
   "source": [
    "def concatenate(**kwargs):\n",
    "    result = \"\"\n",
    "    # Interating over the keys of the Python kwargs dictionary\n",
    "    for arg in kwargs.values():# seeeeeeeeeeeeee here!\n",
    "        result += arg\n",
    "    return result\n",
    "\n",
    "print(concatenate(a=\"Keep Calm\",b=\" and \",c=\"Carry On\",d=\"!!\"))"
   ]
  },
  {
   "cell_type": "markdown",
   "id": "0aec7945",
   "metadata": {},
   "source": [
    "### Ordering Arguments in a Function\n",
    "\n",
    "Now that you have learned what **`*args and **kwargs`** are for.\n",
    "\n",
    "But what if you want to create a function that takes a changeable number of both positional and named arguments?\n",
    "\n",
    "In this case, you have to bear in mind that order counts. \n",
    "\n",
    "Just as non-default arguments have to precede default arguments, so **`*args must come before **kwargs`**.\n",
    "\n",
    "To recap, the correct order for your parameters is:\n",
    "\n",
    "    1.Standard arguments\n",
    "    \n",
    "    2.`*args` arguments\n",
    "    \n",
    "    3.`**kwargs` arguments\n",
    "\n",
    "For example, this function definition is correct:"
   ]
  },
  {
   "cell_type": "code",
   "execution_count": 79,
   "id": "087aaaab",
   "metadata": {},
   "outputs": [],
   "source": [
    "#correct_function_definition\n",
    "def my_function(a,b,*args,**kwargs):\n",
    "    pass"
   ]
  },
  {
   "cell_type": "markdown",
   "id": "0ef10233",
   "metadata": {},
   "source": [
    "The **`*args`** variable is appropriately listed before **` **kwargs`**.\n",
    "\n",
    "\n",
    "But what if you try to modify the order of the arguments? "
   ]
  },
  {
   "cell_type": "code",
   "execution_count": 1,
   "id": "f5065bf8",
   "metadata": {},
   "outputs": [
    {
     "ename": "SyntaxError",
     "evalue": "invalid syntax (<ipython-input-1-9318b6d127ad>, line 3)",
     "output_type": "error",
     "traceback": [
      "\u001b[0;36m  File \u001b[0;32m\"<ipython-input-1-9318b6d127ad>\"\u001b[0;36m, line \u001b[0;32m3\u001b[0m\n\u001b[0;31m    def my_function(a,b,**kwargs,*args):\u001b[0m\n\u001b[0m                                 ^\u001b[0m\n\u001b[0;31mSyntaxError\u001b[0m\u001b[0;31m:\u001b[0m invalid syntax\n"
     ]
    }
   ],
   "source": [
    "# wrong_function_definition\n",
    "\n",
    "def my_function(a,b,**kwargs,*args):\n",
    "    pass"
   ]
  },
  {
   "cell_type": "code",
   "execution_count": 3,
   "id": "5140cfbb-df18-4ad7-8326-7ba1076e23ad",
   "metadata": {},
   "outputs": [
    {
     "name": "stdout",
     "output_type": "stream",
     "text": [
      "name :  Mike age : 30 other : {}\n"
     ]
    }
   ],
   "source": [
    "def person(name,age,**kw):\n",
    "    print('name : ',name,'age :',age,'other :',kw)\n",
    "\n",
    "person('Mike',30)"
   ]
  },
  {
   "cell_type": "code",
   "execution_count": 5,
   "id": "08609bf6-96d9-4eaa-a68b-55916523261c",
   "metadata": {},
   "outputs": [
    {
     "name": "stdout",
     "output_type": "stream",
     "text": [
      "name :  Jack age : 24 other : {'city': 'beijing', 'job': 'engineer'}\n"
     ]
    }
   ],
   "source": [
    "# you can package a dict then bring it to the func:\n",
    "extra = {'city':'beijing','job':'engineer'}\n",
    "person('Jack',24,**extra)"
   ]
  },
  {
   "cell_type": "markdown",
   "id": "c1529659",
   "metadata": {},
   "source": [
    "**In this case**\n",
    "\n",
    "The Python interpreter throws a SyntaxError since **`*args`** comes after **` **kwargs`**."
   ]
  },
  {
   "cell_type": "markdown",
   "id": "0b563f12",
   "metadata": {},
   "source": [
    "### Unpacking With the Asterisk Operators: `* & **`\n",
    "\n",
    "You are now able to use **`*args and **kwargs`** to define Python functions that take a varying number of input arguments. \n",
    "\n",
    "Go deeper to understand something more about the unpacking operators:\n",
    "\n",
    "The single and double asterisk unpacking operators were introduced in Python 2. As of the 3.5 release, they have become even more powerful, thanks to [PEP 448](https://www.python.org/dev/peps/pep-0448/). \n",
    "\n",
    "In short, the unpacking operators are operators that unpack the values from iterable objects in Python. \n",
    "\n",
    "- The single asterisk operator * can be used on any **iterable that Python provides**\n",
    "\n",
    "- The double asterisk operator ** can **only be used on dictionaries**.\n",
    "\n",
    "Let’s start with an example:"
   ]
  },
  {
   "cell_type": "code",
   "execution_count": 82,
   "id": "12d16f9f",
   "metadata": {},
   "outputs": [
    {
     "name": "stdout",
     "output_type": "stream",
     "text": [
      "[1, 2, 3]\n"
     ]
    }
   ],
   "source": [
    "# print_list.py\n",
    "my_list = [1, 2, 3]\n",
    "print(my_list)"
   ]
  },
  {
   "cell_type": "code",
   "execution_count": 84,
   "id": "655e4081",
   "metadata": {},
   "outputs": [
    {
     "name": "stdout",
     "output_type": "stream",
     "text": [
      "1 2 3\n"
     ]
    }
   ],
   "source": [
    "# Now, try to prepend the unpacking operator * to the name of list:\n",
    "# print _unpacked_list\n",
    "\n",
    "my_list = [1,2,3]\n",
    "print(*my_list)"
   ]
  },
  {
   "cell_type": "markdown",
   "id": "f11fb05c",
   "metadata": {},
   "source": [
    "Instead of a list, print() has taken three separate arguments as the input.\n",
    "\n",
    "print() takes all the items of a list as though they were **single arguments**.\n",
    "\n",
    "To test this behavior, consider this script:"
   ]
  },
  {
   "cell_type": "code",
   "execution_count": 88,
   "id": "b50b5039",
   "metadata": {},
   "outputs": [
    {
     "ename": "TypeError",
     "evalue": "__main__.my_sum() argument after ** must be a mapping, not list",
     "output_type": "error",
     "traceback": [
      "\u001b[0;31m---------------------------------------------------------------------------\u001b[0m",
      "\u001b[0;31mTypeError\u001b[0m                                 Traceback (most recent call last)",
      "\u001b[0;32m<ipython-input-88-c5a3da9fe2e1>\u001b[0m in \u001b[0;36m<module>\u001b[0;34m\u001b[0m\n\u001b[1;32m      5\u001b[0m \u001b[0mmy_list\u001b[0m \u001b[0;34m=\u001b[0m \u001b[0;34m[\u001b[0m\u001b[0;36m1\u001b[0m\u001b[0;34m,\u001b[0m\u001b[0;36m2\u001b[0m\u001b[0;34m,\u001b[0m\u001b[0;36m3\u001b[0m\u001b[0;34m]\u001b[0m\u001b[0;34m\u001b[0m\u001b[0;34m\u001b[0m\u001b[0m\n\u001b[1;32m      6\u001b[0m \u001b[0;34m\u001b[0m\u001b[0m\n\u001b[0;32m----> 7\u001b[0;31m \u001b[0mmy_sum\u001b[0m\u001b[0;34m(\u001b[0m\u001b[0;34m**\u001b[0m\u001b[0mmy_list\u001b[0m\u001b[0;34m)\u001b[0m\u001b[0;31m#check out the error:\u001b[0m\u001b[0;34m\u001b[0m\u001b[0;34m\u001b[0m\u001b[0m\n\u001b[0m",
      "\u001b[0;31mTypeError\u001b[0m: __main__.my_sum() argument after ** must be a mapping, not list"
     ]
    }
   ],
   "source": [
    "# unpacking_call.py\n",
    "def my_sum(a,b,c):\n",
    "    print(a+b+c)\n",
    "    \n",
    "my_list = [1,2,3]\n",
    "\n",
    "my_sum(**my_list)#check out the error:"
   ]
  },
  {
   "cell_type": "code",
   "execution_count": 89,
   "id": "17b3ed3e",
   "metadata": {},
   "outputs": [
    {
     "name": "stdout",
     "output_type": "stream",
     "text": [
      "6\n"
     ]
    }
   ],
   "source": [
    "# unpacking_call.py\n",
    "def my_sum(a,b,c):\n",
    "    print(a+b+c)\n",
    "    \n",
    "my_list = [1,2,3]\n",
    "\n",
    "my_sum(*my_list)"
   ]
  },
  {
   "cell_type": "markdown",
   "id": "5e405273",
   "metadata": {},
   "source": [
    "When you use the * operator to unpack a list and pass arguments to a function, it’s exactly as though you’re passing every single argument alone. \n",
    "\n",
    "This means that you can use multiple unpacking operators to get values from several lists and pass them all to a single function.\n",
    "\n",
    "To test this behavior, consider the following example:"
   ]
  },
  {
   "cell_type": "code",
   "execution_count": 90,
   "id": "50b80ae2",
   "metadata": {},
   "outputs": [
    {
     "name": "stdout",
     "output_type": "stream",
     "text": [
      "45\n"
     ]
    }
   ],
   "source": [
    "# sum_integers_args_3.py\n",
    "\n",
    "def my_sum(*args):\n",
    "    result = 0\n",
    "    for x in args:\n",
    "        result += x\n",
    "    return result\n",
    "\n",
    "list1 = [1,2,3]\n",
    "list2 = [4,5]\n",
    "list3 = [6,7,8,9]\n",
    "\n",
    "print(my_sum(*list1,*list2,*list3))"
   ]
  },
  {
   "cell_type": "markdown",
   "id": "61cce4de",
   "metadata": {},
   "source": [
    "Run this example, all three lists are unpacked. Each individual item is passed to my_sum(), resulting in the following output 45"
   ]
  },
  {
   "cell_type": "markdown",
   "id": "a46846fd",
   "metadata": {},
   "source": [
    "#### Bonus 1: Extract the **first value, the last value, and all the values in between** in the list.\n",
    "\n",
    "For example, say you need to split a list into three different parts. \n",
    "\n",
    "The output should show the **first value, the last value, and all the values in between**.\n",
    "\n",
    "With the unpacking operator, you can do this in just one line of code:"
   ]
  },
  {
   "cell_type": "code",
   "execution_count": 92,
   "id": "f54e83d3",
   "metadata": {},
   "outputs": [
    {
     "name": "stdout",
     "output_type": "stream",
     "text": [
      "1\n",
      "[2, 3, 4, 5]\n",
      "6\n"
     ]
    }
   ],
   "source": [
    "# extract_list_body.py\n",
    "\n",
    "my_list = [1,2,3,4,5,6]\n",
    "a,*b,c = my_list\n",
    "\n",
    "print(a)\n",
    "print(b)\n",
    "print(c)\n"
   ]
  },
  {
   "cell_type": "markdown",
   "id": "83a3edee",
   "metadata": {},
   "source": [
    "#### Bonus 2: Merge two lists"
   ]
  },
  {
   "cell_type": "code",
   "execution_count": 94,
   "id": "578fc506",
   "metadata": {},
   "outputs": [
    {
     "name": "stdout",
     "output_type": "stream",
     "text": [
      "[1, 2, 3, [4, 5, 6]]\n"
     ]
    }
   ],
   "source": [
    "my_first_list = [1,2,3]\n",
    "my_second_list = [4,5,6]\n",
    "my_merged_list = [*my_first_list,my_second_list]\n",
    "print(my_merged_list)"
   ]
  },
  {
   "cell_type": "markdown",
   "id": "9abed789",
   "metadata": {},
   "source": [
    "Interesting error, here we can comprehend the meaning of asterisk operator *:\n",
    "\n",
    "   - extract the value from the list,if not the whole list.\n",
    "\n",
    "Now,show the right:"
   ]
  },
  {
   "cell_type": "code",
   "execution_count": 95,
   "id": "fa605bc0",
   "metadata": {},
   "outputs": [
    {
     "name": "stdout",
     "output_type": "stream",
     "text": [
      "[1, 2, 3, 4, 5, 6]\n"
     ]
    }
   ],
   "source": [
    "my_first_list = [1,2,3]\n",
    "my_second_list = [4,5,6]\n",
    "my_merged_list = [*my_first_list,*my_second_list]\n",
    "                                # look at the star,look how it shines for you.\n",
    "print(my_merged_list)"
   ]
  },
  {
   "cell_type": "markdown",
   "id": "d4ba1880",
   "metadata": {},
   "source": [
    "#### Bonus 2.1: Merge two different dicionaries \n",
    "\n",
    "bu using the unpacking operator **:\n",
    "\n",
    "Again,feel the rules of double star:it works for the dictionaries.-dict()"
   ]
  },
  {
   "cell_type": "code",
   "execution_count": 99,
   "id": "daa43c86",
   "metadata": {},
   "outputs": [
    {
     "name": "stdout",
     "output_type": "stream",
     "text": [
      "{'A': 1, 'B': 2, 'C': 3, 'D': 4, 'E': 5, 'F': 6}\n"
     ]
    }
   ],
   "source": [
    "# Merg the dicts:\n",
    "\n",
    "my_first_dict = {\"A\":1,\"B\":2}\n",
    "my_second_dict={\"C\":3,\"D\":4}\n",
    "Third_list = {\"E\":5,\"F\":6}\n",
    "\n",
    "\n",
    "my_merged_dict = {**my_first_dict,**my_second_dict,**Third_list}\n",
    "\n",
    "print(my_merged_dict)"
   ]
  },
  {
   "cell_type": "markdown",
   "id": "4e9c3a62",
   "metadata": {},
   "source": [
    "Yeah, not only two dicts, but also, more than two is OK!!"
   ]
  },
  {
   "cell_type": "markdown",
   "id": "fe53df42",
   "metadata": {},
   "source": [
    "### One star **` * `** boom for the string.\n",
    "\n",
    "Remember that the * operator works on **any iterable object**. It can also be used to unpack a string:"
   ]
  },
  {
   "cell_type": "code",
   "execution_count": 104,
   "id": "6548023b",
   "metadata": {},
   "outputs": [
    {
     "name": "stdout",
     "output_type": "stream",
     "text": [
      "['F', 'l', 'y', ' ', 'E', 'm', 'i', 'r', 'a', 't', 'e', 's']\n"
     ]
    }
   ],
   "source": [
    "a = [*\"Fly Emirates\"]\n",
    "print(a)"
   ]
  },
  {
   "cell_type": "markdown",
   "id": "b2c6798c",
   "metadata": {},
   "source": [
    "\"Fly Emirates\"----BoooooooM!----['F', 'l', 'y', ' ', 'E', 'm', 'i', 'r', 'a', 't', 'e', 's']"
   ]
  },
  {
   "cell_type": "markdown",
   "id": "1684b855",
   "metadata": {},
   "source": [
    "#### Zen or Trick?\n",
    "\n",
    "The previous example seems great, but when you work with these operators,it’s important to keep in mind the seventh rule of The Zen of Python by Tim Peters: \n",
    "\n",
    "**Readability counts.**\n",
    "\n",
    "To see why, consider the following example:"
   ]
  },
  {
   "cell_type": "code",
   "execution_count": 106,
   "id": "0c808248",
   "metadata": {},
   "outputs": [
    {
     "name": "stdout",
     "output_type": "stream",
     "text": [
      "['F', 'l', 'y', ' ', 'E', 'm', 'i', 'r', 'a', 't', 'e', 's']\n"
     ]
    }
   ],
   "source": [
    "*a, = \"Fly Emirates\"\n",
    "print(a)"
   ]
  },
  {
   "cell_type": "markdown",
   "id": "0c776eb2",
   "metadata": {},
   "source": [
    "There’s the unpacking operator *, followed by a variable, **a comma, ** and an assignment. \n",
    "\n",
    "That’s a lot packed into one line! \n",
    "\n",
    "In fact, this code is no different from the previous example. \n",
    "\n",
    "It just takes the string RealPython and assigns all the items to the new list a, thanks to the **`unpacking operator *`**.\n",
    "\n",
    "\n",
    "**The comma after the a does the trick:**\n",
    "\n",
    "When you use the unpacking operator with variable assignment, Python requires that your resulting variable is **either a list or a tuple. **\n",
    "\n",
    "With the **trailing comma**, you have actually **defined a tuple** with just one named variable **a**.\n",
    "\n",
    "While this is a neat trick, many Pythonistas would **NOT** consider this code to be very readable.\n",
    "\n",
    "As such, **Take care!!! Be Cautious!!**\n",
    "\n",
    "it’s best to use these kinds of constructions sparingly."
   ]
  },
  {
   "cell_type": "markdown",
   "id": "5eed17e1",
   "metadata": {},
   "source": [
    "### Summary for `*args` and `**kwargs`\n",
    "\n",
    "可变参数\n",
    "\n",
    "| Arguments           | expression                    | 调用                 |\n",
    "| -------------- | ----------------------- | -------------------- |\n",
    "| 可变参数       | 在参数前面加 `*args`    | 本质为一个参数 tuple |\n",
    "| 关键字参数:    | 在参数前面加 `**kwargs` | 本质为一个参数 dict  |\n",
    "| 命名关键字参数 | 在关键字参数前面加 `*`  | 可加入缺省值         |\n",
    "\n",
    "> 注意：在生成器上使用 `*` 操作符可能会导致程序跑出内存而崩溃。"
   ]
  },
  {
   "cell_type": "code",
   "execution_count": null,
   "id": "2a42472c",
   "metadata": {},
   "outputs": [],
   "source": []
  },
  {
   "cell_type": "code",
   "execution_count": null,
   "id": "67a2c6cc",
   "metadata": {},
   "outputs": [],
   "source": []
  },
  {
   "cell_type": "code",
   "execution_count": null,
   "id": "5aec72f1",
   "metadata": {},
   "outputs": [],
   "source": []
  },
  {
   "cell_type": "code",
   "execution_count": null,
   "id": "a7a706e9",
   "metadata": {},
   "outputs": [],
   "source": []
  },
  {
   "cell_type": "code",
   "execution_count": null,
   "id": "21d84d90",
   "metadata": {},
   "outputs": [],
   "source": []
  },
  {
   "cell_type": "markdown",
   "id": "9f244da4-abba-4c1a-8fd9-13e41413fbc9",
   "metadata": {},
   "source": [
    "## Comprehensions and Generators"
   ]
  },
  {
   "cell_type": "markdown",
   "id": "7003d69c",
   "metadata": {},
   "source": [
    "**Comprehensions** can significantly increase the readability of code performing these common tasks and provide a number of other benefits.\n",
    "\n",
    "This style of processing is extended to functions with **generators**, which enable a stream of values to be incrementally returned by a function. \n",
    "\n",
    "The result of a call to a **generator function** can be used anywhere an iterator is appropriate (e.g., for loops, starred expressions). \n",
    "\n",
    "**Generators** can **improve performance, reduce memory usage, and increase readability**."
   ]
  },
  {
   "cell_type": "markdown",
   "id": "193b1ad4",
   "metadata": {},
   "source": [
    "### List Comprehensions\n",
    "\n",
    "list comprehension:deriving a new list from another sequence or iterable,it let you easily filter items from the input list"
   ]
  },
  {
   "cell_type": "markdown",
   "id": "aaf227d2",
   "metadata": {},
   "source": [
    "#### compare with map and lambda:"
   ]
  },
  {
   "cell_type": "code",
   "execution_count": 13,
   "id": "002c3c70",
   "metadata": {},
   "outputs": [],
   "source": [
    "a = [1, 2, 3, 4, 5, 6, 7, 8, 9, 10]"
   ]
  },
  {
   "cell_type": "code",
   "execution_count": 14,
   "id": "c962adff",
   "metadata": {},
   "outputs": [
    {
     "name": "stdout",
     "output_type": "stream",
     "text": [
      "[1, 4, 9, 16, 25, 36, 49, 64, 81, 100]\n"
     ]
    }
   ],
   "source": [
    "# loop sample:\n",
    "sqrs = []\n",
    "for x in a:\n",
    "    sqrs.append(x**2)\n",
    "    \n",
    "print(sqrs)"
   ]
  },
  {
   "cell_type": "code",
   "execution_count": 15,
   "id": "0cce97ed",
   "metadata": {},
   "outputs": [
    {
     "name": "stdout",
     "output_type": "stream",
     "text": [
      "[1, 4, 9, 16, 25, 36, 49, 64, 81, 100]\n"
     ]
    }
   ],
   "source": [
    "# list comprehension version\n",
    "sqrs = [x ** 2 for x in a]\n",
    "print(sqrs)"
   ]
  },
  {
   "cell_type": "code",
   "execution_count": 16,
   "id": "ef557a33",
   "metadata": {},
   "outputs": [
    {
     "name": "stdout",
     "output_type": "stream",
     "text": [
      "[1, 4, 9, 16, 25, 36, 49, 64, 81, 100]\n"
     ]
    }
   ],
   "source": [
    "# yes we can code one line in lambda,too,while it is visually noisy:\n",
    "sqrs_l = map(lambda x:x **2 ,a)\n",
    "print(list(sqrs_l))"
   ]
  },
  {
   "cell_type": "code",
   "execution_count": 19,
   "id": "ce57d7c0",
   "metadata": {},
   "outputs": [
    {
     "name": "stdout",
     "output_type": "stream",
     "text": [
      "[4, 16, 36, 64, 100]\n"
     ]
    }
   ],
   "source": [
    "# Compute the squares of the numbers in the set a that are divisible by 2\n",
    "# map-lambda version:\n",
    "sqr_l = map(lambda x:x ** 2,filter(lambda x:x %2 ==0,a))\n",
    "print(list(sqr_l))"
   ]
  },
  {
   "cell_type": "code",
   "execution_count": 21,
   "id": "6528cca7",
   "metadata": {},
   "outputs": [
    {
     "name": "stdout",
     "output_type": "stream",
     "text": [
      "[4, 16, 36, 64, 100]\n"
     ]
    }
   ],
   "source": [
    "# list comprehension version:\n",
    "even_sqrs = [x ** 2 for x in a if x % 2 ==0]\n",
    "print(even_sqrs)"
   ]
  },
  {
   "cell_type": "markdown",
   "id": "44428676",
   "metadata": {},
   "source": [
    "Now we need to comprehend why we define such list expressions as List **Comprehensions**"
   ]
  },
  {
   "cell_type": "markdown",
   "id": "b1125db6",
   "metadata": {},
   "source": [
    "#### Dictionary/Set/Other  Comprehensions"
   ]
  },
  {
   "cell_type": "code",
   "execution_count": 26,
   "id": "a3565ad1",
   "metadata": {},
   "outputs": [
    {
     "name": "stdout",
     "output_type": "stream",
     "text": [
      "{2: 4, 4: 16, 6: 36, 8: 64, 10: 100}\n"
     ]
    }
   ],
   "source": [
    "# still the same mission:\n",
    "\n",
    "# Dictionary Comprehensions\n",
    "even_sqrs_dict = {x:x**2 for x in a if x % 2 == 0}#yes this is the dict\n",
    "#since it has the key x, then x : values\n",
    "print(even_sqrs_dict)"
   ]
  },
  {
   "cell_type": "code",
   "execution_count": 34,
   "id": "8b552a99",
   "metadata": {},
   "outputs": [
    {
     "name": "stdout",
     "output_type": "stream",
     "text": [
      "{216, 729, 27}\n"
     ]
    }
   ],
   "source": [
    "#Set Comprehensions\n",
    "three_cubed_st = {x**3 for x in a if x % 3 ==0 }# no x: ... any more,just set\n",
    "print(three_cubed_st)"
   ]
  },
  {
   "cell_type": "code",
   "execution_count": 36,
   "id": "c22822e3",
   "metadata": {},
   "outputs": [
    {
     "data": {
      "text/plain": [
       "['AX', 'AY', 'AZ', 'BX', 'BY', 'BZ', 'CX', 'CY', 'CZ']"
      ]
     },
     "execution_count": 36,
     "metadata": {},
     "output_type": "execute_result"
    }
   ],
   "source": [
    "# Multi iter:\n",
    "[m + n for m in \"ABC\" for n in \"XYZ\"]"
   ]
  },
  {
   "cell_type": "code",
   "execution_count": 37,
   "id": "c39f8383",
   "metadata": {},
   "outputs": [
    {
     "data": {
      "text/plain": [
       "[4, 16, 36, 64, 100]"
      ]
     },
     "execution_count": 37,
     "metadata": {},
     "output_type": "execute_result"
    }
   ],
   "source": [
    "# conditional comprehension:\n",
    "[i * i for i in range (1,11) if i % 2 ==0]"
   ]
  },
  {
   "cell_type": "markdown",
   "id": "3b04fa68",
   "metadata": {},
   "source": [
    "- List comprehensions are clearer than the map and filter built-in functions because they don’t require lambda expressions.\n",
    "\n",
    "\n",
    "- List comprehensions allow you to easily skip items from the input list, a behavior that map doesn’t support without help from filter.\n",
    "\n",
    "\n",
    "- Dictionaries and sets may also be created using comprehensions"
   ]
  },
  {
   "cell_type": "markdown",
   "id": "b63b42f7",
   "metadata": {},
   "source": [
    "### Build Generator instead of larfe scale comprehensions\n",
    "\n",
    "\n",
    "- method 1: change () in to [] outside the comprehensions\n",
    "\n",
    "\n",
    "- method 2:build func, use `yield` in the `for` and `while` loop.\n"
   ]
  },
  {
   "cell_type": "code",
   "execution_count": 43,
   "id": "f268504d",
   "metadata": {},
   "outputs": [
    {
     "name": "stdout",
     "output_type": "stream",
     "text": [
      "method 1\n",
      "0\n",
      "2\n",
      "4\n",
      "6\n"
     ]
    }
   ],
   "source": [
    "# method 1\n",
    "G = (x*2 for x in range(5))\n",
    "print(\"method 1\")\n",
    "print(next(G))\n",
    "print(next(G))\n",
    "print(next(G))\n",
    "print(next(G))"
   ]
  },
  {
   "cell_type": "code",
   "execution_count": 45,
   "id": "f04cb1c3",
   "metadata": {},
   "outputs": [
    {
     "name": "stdout",
     "output_type": "stream",
     "text": [
      "method 2: \n",
      "1\n",
      "1\n",
      "2\n",
      "3\n",
      "5\n"
     ]
    }
   ],
   "source": [
    "# method 2\n",
    "def Fibonacci(times):\n",
    "    n = 0\n",
    "    a,b = 0, 1\n",
    "    while n < times:\n",
    "        yield b\n",
    "        # iteration expression\n",
    "        a,b = b ,a + b\n",
    "        n += 1\n",
    "    return \"done\"\n",
    "\n",
    "# now the fibonacci is the generator func\n",
    "fib = Fibonacci(5)\n",
    "#Traverse\n",
    "print(\"method 2: \")\n",
    "for i in fib:\n",
    "    print(i)"
   ]
  },
  {
   "cell_type": "code",
   "execution_count": 49,
   "id": "9bf20acf",
   "metadata": {},
   "outputs": [],
   "source": [
    "# chat-bot\n",
    "\n",
    "import random\n",
    "\n",
    "def bad_service_chatbot():\n",
    "    answers = [\"We don't do that\",\n",
    "               \"We will get back to you right away\",\n",
    "               \"Your call is very important to us\",\n",
    "               \"Sorry, my manager is unavailable\"]\n",
    "    yield \"Can I help you?\"\n",
    "    s = ''\n",
    "    while True:\n",
    "        if s is None:\n",
    "            break\n",
    "        s= yield random.choice(answers)\n",
    "\n",
    "g2 = bad_service_chatbot()"
   ]
  },
  {
   "cell_type": "code",
   "execution_count": 50,
   "id": "87d4aafc",
   "metadata": {},
   "outputs": [
    {
     "data": {
      "text/plain": [
       "'Can I help you?'"
      ]
     },
     "execution_count": 50,
     "metadata": {},
     "output_type": "execute_result"
    }
   ],
   "source": [
    "next(g2)"
   ]
  },
  {
   "cell_type": "code",
   "execution_count": 51,
   "id": "65695346",
   "metadata": {},
   "outputs": [
    {
     "data": {
      "text/plain": [
       "'We will get back to you right away'"
      ]
     },
     "execution_count": 51,
     "metadata": {},
     "output_type": "execute_result"
    }
   ],
   "source": [
    "g2.send('')"
   ]
  },
  {
   "cell_type": "code",
   "execution_count": 53,
   "id": "80c8d05f",
   "metadata": {},
   "outputs": [
    {
     "data": {
      "text/plain": [
       "'Your call is very important to us'"
      ]
     },
     "execution_count": 53,
     "metadata": {},
     "output_type": "execute_result"
    }
   ],
   "source": [
    "g2.send(1)"
   ]
  },
  {
   "cell_type": "code",
   "execution_count": 54,
   "id": "56d405b0",
   "metadata": {},
   "outputs": [
    {
     "data": {
      "text/plain": [
       "'We will get back to you right away'"
      ]
     },
     "execution_count": 54,
     "metadata": {},
     "output_type": "execute_result"
    }
   ],
   "source": [
    "g2.send('Hey')"
   ]
  },
  {
   "cell_type": "markdown",
   "id": "11f068cc",
   "metadata": {},
   "source": [
    "### Multi generator\n",
    "by the ` yield from` expression, we can combine the generators as one multigenerator \n",
    "which excels the manual iteraring generators."
   ]
  },
  {
   "cell_type": "code",
   "execution_count": 1,
   "id": "58785d91",
   "metadata": {},
   "outputs": [
    {
     "name": "stdout",
     "output_type": "stream",
     "text": [
      "Manual nesting 4.70s\n",
      "Composed Nesting 4.02s\n",
      "14.4% less time\n"
     ]
    }
   ],
   "source": [
    "import timeit\n",
    "\n",
    "def child():\n",
    "    for i in range(1_000_000):\n",
    "        yield i\n",
    "def slow():\n",
    "    for i in child():\n",
    "        yield i\n",
    "def fast():\n",
    "    yield from child()\n",
    "    \n",
    "baseline = timeit.timeit(\n",
    "    stmt=\"for _ in slow(): pass\", \n",
    "    globals=globals(), \n",
    "    number=50)\n",
    "\n",
    "print(f\"Manual nesting {baseline:.2f}s\")\n",
    "\n",
    "comparison = timeit.timeit(\n",
    "    stmt=\"for _ in fast(): pass\",\n",
    "    globals=globals(),\n",
    "    number=50)\n",
    "\n",
    "print(f\"Composed Nesting {comparison:.2f}s\")\n",
    "\n",
    "reduction = (baseline - comparison)/baseline\n",
    "\n",
    "print(f\"{reduction:.1%} less time\")"
   ]
  },
  {
   "cell_type": "markdown",
   "id": "dff84b1d",
   "metadata": {},
   "source": [
    "### Self-defined Generator\n",
    "\n",
    "当读取的文件过大时，直接使用生成器会返回空值，但不会返回异常。此时，可使用`__iter__()`方法。下例中，`normalize`中的`sum()`调用了`ReadVisits.__iter__`来分配一个新的迭代器对象。对数字进行标准化的`for`循环也调用`__iter__`来分配第二个迭代器对象。这些迭代器中的每个都将独立地被推进和耗尽，以确保每个独特的迭代都能看到所有的输入数据值。这种方法唯一的缺点是它会多次读取输入数据。\n",
    "\n",
    "When a function takes a list of objects as a parameter, it’s often important to iterate over that list multiple times. \n",
    "\n",
    "For example, say that I want to analyze tourism numbers for the U.S. state of Texas. Imagine that the data set is the number of visitors to each city (in millions per year). I’d like to figure out what percentage of overall tourism each city receives.\n",
    "\n",
    "To do this, I need a normalization function that sums the inputs to determine the total number of tourists per year and then divides each city’s individual visitor count by the total to find that city’s contribution to the whole:"
   ]
  },
  {
   "cell_type": "code",
   "execution_count": 2,
   "id": "4cc775db-c969-4ad5-99a6-32ab63847116",
   "metadata": {},
   "outputs": [],
   "source": [
    "def normalize(numbers):\n",
    "    total = sum(numbers)\n",
    "    result = []\n",
    "    for value in numbers:\n",
    "        percent = 100 * value / total\n",
    "        result.append(percent)\n",
    "    return result"
   ]
  },
  {
   "cell_type": "code",
   "execution_count": 4,
   "id": "9cdb5927",
   "metadata": {},
   "outputs": [
    {
     "name": "stdout",
     "output_type": "stream",
     "text": [
      "[11.538461538461538, 26.923076923076923, 61.53846153846154]\n"
     ]
    }
   ],
   "source": [
    "# This function works as expected when given a list of visits:\n",
    "visits = [15,35,80]\n",
    "percentages = normalize(visits)\n",
    "assert sum(percentages)\n",
    "print(percentages)"
   ]
  },
  {
   "cell_type": "code",
   "execution_count": 5,
   "id": "55c0e2be",
   "metadata": {},
   "outputs": [
    {
     "ename": "FileNotFoundError",
     "evalue": "[Errno 2] No such file or directory: 'my_numbers.txt'",
     "output_type": "error",
     "traceback": [
      "\u001b[0;31m---------------------------------------------------------------------------\u001b[0m",
      "\u001b[0;31mFileNotFoundError\u001b[0m                         Traceback (most recent call last)",
      "\u001b[0;32m<ipython-input-5-4bff51585914>\u001b[0m in \u001b[0;36m<module>\u001b[0;34m\u001b[0m\n\u001b[1;32m      5\u001b[0m \u001b[0;34m\u001b[0m\u001b[0m\n\u001b[1;32m      6\u001b[0m \u001b[0mit\u001b[0m \u001b[0;34m=\u001b[0m \u001b[0mread_visits\u001b[0m\u001b[0;34m(\u001b[0m\u001b[0;34m'my_numbers.txt'\u001b[0m\u001b[0;34m)\u001b[0m\u001b[0;34m\u001b[0m\u001b[0;34m\u001b[0m\u001b[0m\n\u001b[0;32m----> 7\u001b[0;31m \u001b[0mpercentages\u001b[0m \u001b[0;34m=\u001b[0m \u001b[0mnormalize\u001b[0m\u001b[0;34m(\u001b[0m\u001b[0mit\u001b[0m\u001b[0;34m)\u001b[0m\u001b[0;34m\u001b[0m\u001b[0;34m\u001b[0m\u001b[0m\n\u001b[0m\u001b[1;32m      8\u001b[0m \u001b[0mprintt\u001b[0m\u001b[0;34m(\u001b[0m\u001b[0mpercentages\u001b[0m\u001b[0;34m)\u001b[0m\u001b[0;34m\u001b[0m\u001b[0;34m\u001b[0m\u001b[0m\n",
      "\u001b[0;32m<ipython-input-2-e7440777909e>\u001b[0m in \u001b[0;36mnormalize\u001b[0;34m(numbers)\u001b[0m\n\u001b[1;32m      1\u001b[0m \u001b[0;32mdef\u001b[0m \u001b[0mnormalize\u001b[0m\u001b[0;34m(\u001b[0m\u001b[0mnumbers\u001b[0m\u001b[0;34m)\u001b[0m\u001b[0;34m:\u001b[0m\u001b[0;34m\u001b[0m\u001b[0;34m\u001b[0m\u001b[0m\n\u001b[0;32m----> 2\u001b[0;31m     \u001b[0mtotal\u001b[0m \u001b[0;34m=\u001b[0m \u001b[0msum\u001b[0m\u001b[0;34m(\u001b[0m\u001b[0mnumbers\u001b[0m\u001b[0;34m)\u001b[0m\u001b[0;34m\u001b[0m\u001b[0;34m\u001b[0m\u001b[0m\n\u001b[0m\u001b[1;32m      3\u001b[0m     \u001b[0mresult\u001b[0m \u001b[0;34m=\u001b[0m \u001b[0;34m[\u001b[0m\u001b[0;34m]\u001b[0m\u001b[0;34m\u001b[0m\u001b[0;34m\u001b[0m\u001b[0m\n\u001b[1;32m      4\u001b[0m     \u001b[0;32mfor\u001b[0m \u001b[0mvalue\u001b[0m \u001b[0;32min\u001b[0m \u001b[0mnumbers\u001b[0m\u001b[0;34m:\u001b[0m\u001b[0;34m\u001b[0m\u001b[0;34m\u001b[0m\u001b[0m\n\u001b[1;32m      5\u001b[0m         \u001b[0mpercent\u001b[0m \u001b[0;34m=\u001b[0m \u001b[0;36m100\u001b[0m \u001b[0;34m*\u001b[0m \u001b[0mvalue\u001b[0m \u001b[0;34m/\u001b[0m \u001b[0mtotal\u001b[0m\u001b[0;34m\u001b[0m\u001b[0;34m\u001b[0m\u001b[0m\n",
      "\u001b[0;32m<ipython-input-5-4bff51585914>\u001b[0m in \u001b[0;36mread_visits\u001b[0;34m(data_path)\u001b[0m\n\u001b[1;32m      1\u001b[0m \u001b[0;32mdef\u001b[0m \u001b[0mread_visits\u001b[0m\u001b[0;34m(\u001b[0m\u001b[0mdata_path\u001b[0m\u001b[0;34m)\u001b[0m\u001b[0;34m:\u001b[0m\u001b[0;34m\u001b[0m\u001b[0;34m\u001b[0m\u001b[0m\n\u001b[0;32m----> 2\u001b[0;31m     \u001b[0;32mwith\u001b[0m \u001b[0mopen\u001b[0m\u001b[0;34m(\u001b[0m\u001b[0mdata_path\u001b[0m\u001b[0;34m)\u001b[0m \u001b[0;32mas\u001b[0m \u001b[0mf\u001b[0m\u001b[0;34m:\u001b[0m\u001b[0;34m\u001b[0m\u001b[0;34m\u001b[0m\u001b[0m\n\u001b[0m\u001b[1;32m      3\u001b[0m         \u001b[0;32mfor\u001b[0m \u001b[0mline\u001b[0m \u001b[0;32min\u001b[0m \u001b[0mf\u001b[0m\u001b[0;34m:\u001b[0m\u001b[0;34m\u001b[0m\u001b[0;34m\u001b[0m\u001b[0m\n\u001b[1;32m      4\u001b[0m             \u001b[0;32myield\u001b[0m \u001b[0mint\u001b[0m\u001b[0;34m(\u001b[0m\u001b[0mline\u001b[0m\u001b[0;34m)\u001b[0m\u001b[0;34m\u001b[0m\u001b[0;34m\u001b[0m\u001b[0m\n\u001b[1;32m      5\u001b[0m \u001b[0;34m\u001b[0m\u001b[0m\n",
      "\u001b[0;31mFileNotFoundError\u001b[0m: [Errno 2] No such file or directory: 'my_numbers.txt'"
     ]
    }
   ],
   "source": [
    "def read_visits(data_path):\n",
    "    with open(data_path) as f:\n",
    "        for line in f:\n",
    "            yield int(line)\n",
    "\n",
    "it = read_visits('my_numbers.txt')\n",
    "percentages = normalize(it)\n",
    "print(percentages)"
   ]
  },
  {
   "cell_type": "code",
   "execution_count": null,
   "id": "17bdb41e",
   "metadata": {},
   "outputs": [],
   "source": []
  },
  {
   "cell_type": "code",
   "execution_count": null,
   "id": "58a66f3b",
   "metadata": {},
   "outputs": [],
   "source": []
  },
  {
   "cell_type": "code",
   "execution_count": null,
   "id": "5ce18f08",
   "metadata": {},
   "outputs": [],
   "source": []
  },
  {
   "cell_type": "code",
   "execution_count": null,
   "id": "462edd81",
   "metadata": {},
   "outputs": [],
   "source": []
  },
  {
   "cell_type": "code",
   "execution_count": null,
   "id": "95902366",
   "metadata": {},
   "outputs": [],
   "source": []
  },
  {
   "cell_type": "code",
   "execution_count": null,
   "id": "a606587f",
   "metadata": {},
   "outputs": [],
   "source": []
  },
  {
   "cell_type": "code",
   "execution_count": null,
   "id": "3ac43831",
   "metadata": {},
   "outputs": [],
   "source": []
  },
  {
   "cell_type": "code",
   "execution_count": null,
   "id": "f8ff3ecd",
   "metadata": {},
   "outputs": [],
   "source": []
  },
  {
   "cell_type": "code",
   "execution_count": null,
   "id": "cf820ecc",
   "metadata": {},
   "outputs": [],
   "source": []
  },
  {
   "cell_type": "markdown",
   "id": "c860238e-d004-4417-a2f9-eaa773167913",
   "metadata": {},
   "source": [
    "## Lambda Function\n",
    "\n",
    "In Python, a lambda function is a single-line function declared with no name, which can have any number of arguments, but it can only have one expression. Such a function is capable of behaving similarly to a regular function declared using the Python's def keyword.\n",
    "\n",
    "**sth simple ,but you only use once.**\n",
    "\n"
   ]
  },
  {
   "cell_type": "markdown",
   "id": "bba4c3fa-c49c-4bab-b051-b8c310f3e660",
   "metadata": {},
   "source": [
    "### Syntax\n",
    "\n",
    "**lambda**  variable, …: expression\n",
    "\n",
    "variable, …\n",
    "    Optional. One or more variables used in the right part of the expression.\n",
    "expression\n",
    "    Required. Return value of the function.\n",
    "\n",
    "\n",
    "\n",
    "As you saw in the previous sections, a lambda form presents syntactic distinctions from a normal function. In particular, a lambda function has the following characteristics:\n",
    "\n",
    "- It can only contain expressions and can’t include statements in its body.\n",
    "\n",
    "- It is written as a single line of execution.\n",
    "\n",
    "- It does not support type annotations.\n",
    "\n",
    "- It can be immediately invoked (IIFE).\n",
    "\n",
    "\n"
   ]
  },
  {
   "cell_type": "markdown",
   "id": "7027dcf5-b082-4d98-8af6-9a1c912fed8e",
   "metadata": {},
   "source": [
    "### Why lambda?\n",
    "\n",
    "\n",
    "- Lambda functions are useful as small, throwaway single-line functions.\n",
    "\n",
    "- They’re often useful to allow quick calculations or processing as the input to other functions. \n",
    "\n",
    "- They can make code easier to read if and only if they’re used appropriately.\n",
    "\n",
    "\n",
    "\n",
    "Lambda functions in Python tend to be the subject of controversy. \n",
    "Here are some of the reasons that lambda functions in Python can be controversial:\n",
    "\n",
    "- Issues with readability\n",
    "- The imposition of a functional way of thinking\n",
    "- Heavy syntax with the lambda keyword\n",
    "\n",
    "Despite the heated debates questioning the very existence of this feature in Python, lambda functions have properties that sometimes provide value to the Python language and to developers."
   ]
  },
  {
   "cell_type": "markdown",
   "id": "76426279-e587-454a-af88-52102da6b101",
   "metadata": {},
   "source": [
    "### Compare with Standard Function"
   ]
  },
  {
   "cell_type": "code",
   "execution_count": 26,
   "id": "84c7bef9-f459-4f09-a0a8-da9de7a5ab3c",
   "metadata": {},
   "outputs": [],
   "source": [
    "# std:\n",
    "def myfunc(x,y,z):\n",
    "    result = x + y + z\n",
    "    return result"
   ]
  },
  {
   "cell_type": "code",
   "execution_count": 28,
   "id": "6caeeb57-b649-4437-bba1-f69ba343b9dc",
   "metadata": {},
   "outputs": [
    {
     "data": {
      "text/plain": [
       "6"
      ]
     },
     "execution_count": 28,
     "metadata": {},
     "output_type": "execute_result"
    }
   ],
   "source": [
    "myfunc(1,2,3)"
   ]
  },
  {
   "cell_type": "code",
   "execution_count": 2,
   "id": "0a3f6171-43f7-4514-be24-7f5ed3ed63db",
   "metadata": {},
   "outputs": [],
   "source": [
    "g = lambda x,y,z : x + y + z"
   ]
  },
  {
   "cell_type": "code",
   "execution_count": 3,
   "id": "22080f89-6a33-4bcb-a560-805dc1af0d95",
   "metadata": {},
   "outputs": [
    {
     "data": {
      "text/plain": [
       "6"
      ]
     },
     "execution_count": 3,
     "metadata": {},
     "output_type": "execute_result"
    }
   ],
   "source": [
    "g(1,2,3)"
   ]
  },
  {
   "cell_type": "markdown",
   "id": "93fe2f9b-3f37-44ae-b1e9-f31b7936c000",
   "metadata": {},
   "source": [
    "$$Compare\\ Lambda \\ Function \\ with \\ Standard \\ Function$$\n",
    "\n",
    "\n",
    "| Std func | Lambda func | notes |\n",
    "| - | - | - |\n",
    "| Used manytimes| Intended for single use|   |\n",
    "| Multiple lines of code | Defined in a single line |   |\n",
    "| Named only| Named or Anonymous |  |\n",
    "| None or more inputs | None or more inputs |   |\n",
    "| one or more returns | One or more return ||"
   ]
  },
  {
   "cell_type": "markdown",
   "id": "05c025c3-3961-456e-85f5-f101dd6e8cab",
   "metadata": {},
   "source": [
    "#### Appropriate use of lambda functions"
   ]
  },
  {
   "cell_type": "code",
   "execution_count": 44,
   "id": "9e1a03ad-8a81-4096-9075-c130103f62f5",
   "metadata": {},
   "outputs": [
    {
     "name": "stdout",
     "output_type": "stream",
     "text": [
      "[(1, 2), (3, 4), (2, 5), (3, 15)]\n"
     ]
    }
   ],
   "source": [
    "# std:\n",
    "def second(x):\n",
    "    return x[1]\n",
    "a = [(1,2),(2,5),(3,4),(3,15)]\n",
    "\n",
    "a.sort(key=second)\n",
    "print(a)"
   ]
  },
  {
   "cell_type": "code",
   "execution_count": 41,
   "id": "8ce662de-f224-4b89-8c0d-aa65830798e8",
   "metadata": {},
   "outputs": [
    {
     "data": {
      "text/plain": [
       "[(1, 2), (3, 4), (2, 5), (3, 15)]"
      ]
     },
     "execution_count": 41,
     "metadata": {},
     "output_type": "execute_result"
    }
   ],
   "source": [
    "# lambda:\n",
    "a = [(1,2),(2,5),(3,4),(3,15)]\n",
    "a.sort(key=lambda x:x[1])\n",
    "a"
   ]
  },
  {
   "cell_type": "markdown",
   "id": "4719f240-259c-407b-ab42-46e04b383d72",
   "metadata": {},
   "source": [
    "#### Lambda and Std working together:\n",
    "\n",
    "$$ f(x) = ax^2+bx+c$$\n",
    "\n"
   ]
  },
  {
   "cell_type": "code",
   "execution_count": 47,
   "id": "326a7c79-a3cc-4a59-b490-0ec9c905e0df",
   "metadata": {},
   "outputs": [],
   "source": [
    "def build_quadratic_function(a,b,c):\n",
    "    return lambda x: a * x ** 2 + b * x +c\n",
    "# here we can create equations"
   ]
  },
  {
   "cell_type": "code",
   "execution_count": 54,
   "id": "f335fef4-3f6d-4758-8eca-7a1aa9f910b6",
   "metadata": {},
   "outputs": [],
   "source": [
    "f = build_quadratic_function(2,3,-5) #f =2x^2 + 3x -5"
   ]
  },
  {
   "cell_type": "code",
   "execution_count": 55,
   "id": "fea1efc9-9ad1-4614-84e6-43b906165964",
   "metadata": {},
   "outputs": [
    {
     "data": {
      "text/plain": [
       "(-5, 0, 9)"
      ]
     },
     "execution_count": 55,
     "metadata": {},
     "output_type": "execute_result"
    }
   ],
   "source": [
    "f(0),f(1),f(2)"
   ]
  },
  {
   "cell_type": "code",
   "execution_count": 64,
   "id": "19f04c55-ff63-4681-9969-29b2a793f041",
   "metadata": {},
   "outputs": [
    {
     "data": {
      "text/plain": [
       "0"
      ]
     },
     "execution_count": 64,
     "metadata": {},
     "output_type": "execute_result"
    }
   ],
   "source": [
    "# or in the lambda way\n",
    "build_quadratic_function(2,3,-5)(1)#not readable"
   ]
  },
  {
   "cell_type": "markdown",
   "id": "06f005db-d452-4f48-ac2b-69f1a58d8f1a",
   "metadata": {},
   "source": [
    "### Use of Lambda Function in python"
   ]
  },
  {
   "cell_type": "markdown",
   "id": "1d0d48e0-fd22-4b5d-8585-65de741b5c2a",
   "metadata": {},
   "source": [
    "#### Example use with filter()\n",
    "\n",
    "\n",
    "The `filter()` function in Python takes in a function and a list as arguments.\n",
    "\n",
    "The function is called with all the items in the list and a new list is returned which contains items for which the function evaluates to `True`.\n",
    "\n",
    "Here is an example use of `filter()` function to filter out only even numbers from a list."
   ]
  },
  {
   "cell_type": "code",
   "execution_count": 66,
   "id": "e062d393-1b76-4cde-a333-80e29a0c8392",
   "metadata": {},
   "outputs": [
    {
     "name": "stdout",
     "output_type": "stream",
     "text": [
      "[4, 6, 8, 12]\n"
     ]
    }
   ],
   "source": [
    "# Program to filter out only the even items from a list\n",
    "my_list = [1, 5, 4, 6, 8, 11, 3, 12]\n",
    "\n",
    "new_list = list(filter(lambda x: (x%2 == 0),my_list))\n",
    "\n",
    "print(new_list)"
   ]
  },
  {
   "cell_type": "markdown",
   "id": "50e73330-3b0e-4b2e-bebe-88daff2cd303",
   "metadata": {},
   "source": [
    "#### Example use with map()\n",
    "\n",
    "- `map()`function: Return an iterator that applies function to every item of iterable, yielding the results. \n",
    "\n",
    "The map() function in Python takes in a function and a list.\n",
    "\n",
    "The function is called with all the items in the list and a new list is returned which contains items returned by that function for each item.\n",
    "\n",
    "Here is an example use of map() function to double all the items in a list."
   ]
  },
  {
   "cell_type": "code",
   "execution_count": 67,
   "id": "f00a658f-b07d-404a-ad40-7baed3e55118",
   "metadata": {},
   "outputs": [
    {
     "name": "stdout",
     "output_type": "stream",
     "text": [
      "[1, 25, 16, 36, 64, 121, 9, 144]\n"
     ]
    }
   ],
   "source": [
    "# Program to double each item in a list using map()\n",
    "\n",
    "my_list = [1, 5, 4, 6, 8, 11, 3, 12]\n",
    "\n",
    "new_list = list(map(lambda x: x**2,my_list))\n",
    "\n",
    "print(new_list)\n"
   ]
  },
  {
   "cell_type": "markdown",
   "id": "53914ead-ff7a-41e4-b87b-f6febf5cbf49",
   "metadata": {},
   "source": [
    "### Anonymous Functions\n",
    "\n",
    "The following terms may be used interchangeably depending on the programming language type and culture:\n",
    "\n",
    "- Anonymous functions\n",
    "\n",
    "- Lambda functions\n",
    "\n",
    "- Lambda expressions\n",
    "\n",
    "- Lambda abstractions\n",
    "\n",
    "- Lambda form\n",
    "\n",
    "- Function literals"
   ]
  },
  {
   "cell_type": "markdown",
   "id": "a4b3b547-77e9-4f58-bb4e-1ebdf0638fe2",
   "metadata": {},
   "source": [
    "Taken literally, an anonymous function is a function without a name. In Python, an anonymous function is created with the lambda keyword. More loosely, it may or not be assigned a name. Consider a two-argument anonymous function defined with lambda but not bound to a variable. The lambda is not given a name:"
   ]
  },
  {
   "cell_type": "code",
   "execution_count": 79,
   "id": "1e371d4e-a833-4568-8e1c-3de0d6525e41",
   "metadata": {},
   "outputs": [
    {
     "data": {
      "text/plain": [
       "<function __main__.<lambda>(x, y)>"
      ]
     },
     "execution_count": 79,
     "metadata": {},
     "output_type": "execute_result"
    }
   ],
   "source": [
    "lambda x,y: x + y"
   ]
  },
  {
   "cell_type": "markdown",
   "id": "9aef8fbb-c913-4a08-95ec-407a79f31970",
   "metadata": {},
   "source": [
    "The function above defines a lambda expression that takes two arguments and returns their sum.\n",
    "\n",
    "Other than providing you with the feedback that Python is perfectly fine with this form, it doesn’t lead to any practical use. You could invoke the function in the Python interpreter:"
   ]
  },
  {
   "cell_type": "code",
   "execution_count": 78,
   "id": "69f0550d-a221-4f73-9d75-4145bb9ad1e3",
   "metadata": {},
   "outputs": [
    {
     "data": {
      "text/plain": [
       "3"
      ]
     },
     "execution_count": 78,
     "metadata": {},
     "output_type": "execute_result"
    }
   ],
   "source": [
    "_(1,2)"
   ]
  },
  {
   "cell_type": "markdown",
   "id": "0272b084-d7cd-4fd7-b7f1-00b96e4eb748",
   "metadata": {},
   "source": [
    "The example above is taking advantage of the interactive interpreter-only feature provided via the underscore (_). "
   ]
  },
  {
   "cell_type": "markdown",
   "id": "93dea41c-a0b7-4c14-acb3-d4b4d135143e",
   "metadata": {},
   "source": [
    "Another pattern used in other languages like JavaScript is to immediately execute a Python lambda function. This is known as an **Immediately Invoked Function Expression** (IIFE, pronounce “iffy”). Here’s an example:"
   ]
  },
  {
   "cell_type": "code",
   "execution_count": 80,
   "id": "3109d045-b4b9-43c3-922b-9952834b1816",
   "metadata": {},
   "outputs": [
    {
     "data": {
      "text/plain": [
       "3"
      ]
     },
     "execution_count": 80,
     "metadata": {},
     "output_type": "execute_result"
    }
   ],
   "source": [
    "(lambda x,y:x + y)(1,2)"
   ]
  },
  {
   "cell_type": "markdown",
   "id": "e84befcc-bb00-4573-bcee-63c7846ea957",
   "metadata": {},
   "source": [
    "### [ higher-order functions](https://en.wikipedia.org/wiki/Higher-order_function#Python) with Lambda fucntion\n",
    "\n",
    "`higher-order functions`take one or more functions as arguments or return one or more functions.\n",
    "\n",
    "A lambda function can be a higher-order function by taking a function (normal or lambda) as an argument like in the following contrived example:"
   ]
  },
  {
   "cell_type": "code",
   "execution_count": 87,
   "id": "beaeab33-25e6-4d80-be08-95921c18c531",
   "metadata": {},
   "outputs": [],
   "source": [
    "high_ord_func = lambda x,func:x + func(x)"
   ]
  },
  {
   "cell_type": "code",
   "execution_count": 92,
   "id": "753a4412-4a9c-41fc-ba43-ed1f36617b3e",
   "metadata": {},
   "outputs": [],
   "source": [
    "# high_ord_func(2,x + x)"
   ]
  },
  {
   "cell_type": "code",
   "execution_count": 95,
   "id": "e28e75bf-ddce-463f-b81b-9fafc8abbf28",
   "metadata": {},
   "outputs": [
    {
     "data": {
      "text/plain": [
       "6"
      ]
     },
     "execution_count": 95,
     "metadata": {},
     "output_type": "execute_result"
    }
   ],
   "source": [
    "high_ord_func(2,lambda x:x + x)\n",
    "\n",
    "#note:x=2,lambda x+x=4\n",
    "#thus outer: 2(which is x) + 4(calculated by the lambda x:x+x)"
   ]
  },
  {
   "cell_type": "code",
   "execution_count": 97,
   "id": "72a7b9ff-abaa-43be-8f08-6ced25c739c9",
   "metadata": {},
   "outputs": [
    {
     "data": {
      "text/plain": [
       "7"
      ]
     },
     "execution_count": 97,
     "metadata": {},
     "output_type": "execute_result"
    }
   ],
   "source": [
    "high_ord_func(2,lambda x:x+3)\n",
    "#thus outer: 2(which is x) + 5(calculated by the lambda x:x+3)"
   ]
  },
  {
   "cell_type": "markdown",
   "id": "d5774321-213c-429b-a6f4-4c8cf38a7ed7",
   "metadata": {},
   "source": [
    "### Lambda expressions support all the different ways of passing arguments\n",
    "\n",
    "Like a normal function object defined with def, Python lambda expressions support all the different ways of passing arguments. This includes:\n",
    "\n",
    "- Positional arguments\n",
    "\n",
    "- Named arguments (sometimes called keyword arguments)\n",
    "\n",
    "- Variable list of arguments (often referred to as varargs)\n",
    "\n",
    "- Variable list of keyword arguments\n",
    "\n",
    "- Keyword-only arguments\n",
    "\n",
    "The following examples illustrate options open to you in order to pass arguments to lambda expressions:"
   ]
  },
  {
   "cell_type": "code",
   "execution_count": 99,
   "id": "92819a3a-d8f2-458b-a915-4d6ce1971e93",
   "metadata": {},
   "outputs": [
    {
     "data": {
      "text/plain": [
       "6"
      ]
     },
     "execution_count": 99,
     "metadata": {},
     "output_type": "execute_result"
    }
   ],
   "source": [
    "(lambda x,y,z:x+y+z)(1,2,3)"
   ]
  },
  {
   "cell_type": "code",
   "execution_count": 101,
   "id": "afa6bd29-dd2b-42eb-87fc-a2aeab5e8c8a",
   "metadata": {},
   "outputs": [
    {
     "data": {
      "text/plain": [
       "6"
      ]
     },
     "execution_count": 101,
     "metadata": {},
     "output_type": "execute_result"
    }
   ],
   "source": [
    "(lambda x,y,z=3:x+y+z)(1,2)"
   ]
  },
  {
   "cell_type": "code",
   "execution_count": 102,
   "id": "13616b8c-d064-4740-8bd4-e5c015972171",
   "metadata": {},
   "outputs": [
    {
     "data": {
      "text/plain": [
       "6"
      ]
     },
     "execution_count": 102,
     "metadata": {},
     "output_type": "execute_result"
    }
   ],
   "source": [
    "(lambda x,y,z=3:x+y+z)(1,y=2)"
   ]
  },
  {
   "cell_type": "code",
   "execution_count": 106,
   "id": "742218d2-5614-452f-9145-b580ccc3403f",
   "metadata": {},
   "outputs": [
    {
     "data": {
      "text/plain": [
       "6"
      ]
     },
     "execution_count": 106,
     "metadata": {},
     "output_type": "execute_result"
    }
   ],
   "source": [
    "(lambda *args:sum(args))(1,2,3)\n",
    "# (lambda *args:sum(args))(1,2,3,4)"
   ]
  },
  {
   "cell_type": "code",
   "execution_count": 109,
   "id": "6fa2e71e-7036-4357-ad7e-9f2ba43a29b4",
   "metadata": {},
   "outputs": [
    {
     "data": {
      "text/plain": [
       "6"
      ]
     },
     "execution_count": 109,
     "metadata": {},
     "output_type": "execute_result"
    }
   ],
   "source": [
    "(lambda **kwargs: sum(kwargs.values()))(one=1, two=2, three=3)\n"
   ]
  },
  {
   "cell_type": "code",
   "execution_count": 110,
   "id": "43f9b6a5-c1d9-4379-8240-af335ba0df48",
   "metadata": {},
   "outputs": [
    {
     "data": {
      "text/plain": [
       "6"
      ]
     },
     "execution_count": 110,
     "metadata": {},
     "output_type": "execute_result"
    }
   ],
   "source": [
    "(lambda **kwargs: sum(kwargs.values()))(one=1, two=2, three=3)"
   ]
  },
  {
   "cell_type": "code",
   "execution_count": null,
   "id": "c919fc57",
   "metadata": {},
   "outputs": [],
   "source": []
  },
  {
   "cell_type": "markdown",
   "id": "a860917d",
   "metadata": {},
   "source": [
    "## [@@Instance, Class, and Static Methods](https://realpython.com/instance-class-and-static-methods-demystified/#instance-class-and-static-methods-an-overview)"
   ]
  },
  {
   "cell_type": "markdown",
   "id": "cd029b85",
   "metadata": {},
   "source": [
    "### Overview"
   ]
  },
  {
   "cell_type": "code",
   "execution_count": 11,
   "id": "3168d6c4",
   "metadata": {},
   "outputs": [],
   "source": [
    "class MyClass:\n",
    "    def method(self):\n",
    "        return 'instance method called', self\n",
    "    \n",
    "    @classmethod #built-in\n",
    "    def classmethod(cls):\n",
    "        return 'class method called',cls\n",
    "\n",
    "    @staticmethodß-in\n",
    "    def staticmethod():#can be empty\n",
    "        return 'static method called'"
   ]
  },
  {
   "cell_type": "markdown",
   "id": "f87a7b90",
   "metadata": {},
   "source": [
    "**Instance Methods**\n",
    "\n",
    "The first method on `MyClass`, called `method`, is a **regular instance method**. That’s the basic, no-frills method type you’ll use most of the time.\n",
    "\n",
    "You can see the method takes one parameter, self, which points to an instance of MyClass when the method is called (but of course instance methods can accept more than just one parameter).\n",
    "\n",
    "Through the self parameter, instance methods can freely access attributes and other methods on the same object. This gives them a lot of power when it comes to modifying an object’s state.\n",
    "\n",
    "Not only can they modify object state, instance methods can also access the class itself through the self.__class__ attribute. This means instance methods can also modify class state.\n",
    "\n",
    "\n",
    "**Class Methods**\n",
    "\n",
    "Let’s compare that to the second method, `MyClass.classmethod`. I marked this method with a `@classmethod decorator` to flag it as a class method.\n",
    "\n",
    "Instead of accepting a self parameter, class methods take a cls parameter that points to the class—and not the object instance—when the method is called.\n",
    "\n",
    "Because the class method only has access to this cls argument, it **can’t modify object instance state**. That would require access to self.\n",
    "\n",
    "However, class methods can still modify class state that applies across all instances of the class.\n",
    "\n",
    "**Static Methods**\n",
    "\n",
    "The third method, `MyClass.staticmethod` was marked with a `@staticmethod` decorator to flag it as a static method.\n",
    "\n",
    "This type of method takes neither a self nor a cls parameter (but of course it’s free to accept an arbitrary number of other parameters).\n",
    "\n",
    "Therefore a static method can neither modify object state nor class state. \n",
    "\n",
    "Static methods are restricted in what data they can access - and they’re primarily a way to namespace your methods.\n"
   ]
  },
  {
   "cell_type": "markdown",
   "id": "e0822195",
   "metadata": {},
   "source": [
    "### call the methods:"
   ]
  },
  {
   "cell_type": "code",
   "execution_count": 19,
   "id": "2251113a",
   "metadata": {},
   "outputs": [
    {
     "data": {
      "text/plain": [
       "('instance method called', <__main__.MyClass at 0x1625c4550>)"
      ]
     },
     "execution_count": 19,
     "metadata": {},
     "output_type": "execute_result"
    }
   ],
   "source": [
    "# call an instance method\n",
    "obj = MyClass()\n",
    "obj.method()"
   ]
  },
  {
   "cell_type": "code",
   "execution_count": 20,
   "id": "54cc0c01",
   "metadata": {},
   "outputs": [
    {
     "data": {
      "text/plain": [
       "('instance method called', <__main__.MyClass at 0x1625c4c70>)"
      ]
     },
     "execution_count": 20,
     "metadata": {},
     "output_type": "execute_result"
    }
   ],
   "source": [
    "MyClass().method() # same\n",
    "# This confirmed that method (the instance method) has access to the object instance (printed as <MyClass instance>) via the self argument.\n",
    "# When the method is called, Python replaces the self argument with the instance object, obj. \n",
    "# We could ignore the syntactic sugar of the dot-call syntax (obj.method()) \n",
    "# and pass the instance object manually to get the same result:"
   ]
  },
  {
   "cell_type": "code",
   "execution_count": 22,
   "id": "b2d79319",
   "metadata": {},
   "outputs": [
    {
     "data": {
      "text/plain": [
       "('class method called', __main__.MyClass)"
      ]
     },
     "execution_count": 22,
     "metadata": {},
     "output_type": "execute_result"
    }
   ],
   "source": [
    "#call the class method:\n",
    "obj.classmethod()"
   ]
  },
  {
   "cell_type": "code",
   "execution_count": 23,
   "id": "20a80bfa",
   "metadata": {},
   "outputs": [
    {
     "data": {
      "text/plain": [
       "'static method called'"
      ]
     },
     "execution_count": 23,
     "metadata": {},
     "output_type": "execute_result"
    }
   ],
   "source": [
    "#call the static method:\n",
    "obj.staticmethod()"
   ]
  },
  {
   "cell_type": "markdown",
   "id": "dddb7fed",
   "metadata": {},
   "source": [
    "Call these methods on the class itself - without creating an object instance beforehand:"
   ]
  },
  {
   "cell_type": "code",
   "execution_count": 29,
   "id": "c773c263",
   "metadata": {},
   "outputs": [
    {
     "data": {
      "text/plain": [
       "('class method called', __main__.MyClass)"
      ]
     },
     "execution_count": 29,
     "metadata": {},
     "output_type": "execute_result"
    }
   ],
   "source": [
    "MyClass.classmethod()"
   ]
  },
  {
   "cell_type": "code",
   "execution_count": 30,
   "id": "3049ab1a",
   "metadata": {},
   "outputs": [
    {
     "data": {
      "text/plain": [
       "'static method called'"
      ]
     },
     "execution_count": 30,
     "metadata": {},
     "output_type": "execute_result"
    }
   ],
   "source": [
    "MyClass.staticmethod()"
   ]
  },
  {
   "cell_type": "code",
   "execution_count": 31,
   "id": "e0e33c7a",
   "metadata": {},
   "outputs": [
    {
     "ename": "TypeError",
     "evalue": "method() missing 1 required positional argument: 'self'",
     "output_type": "error",
     "traceback": [
      "\u001b[0;31m--------------------------------------------------------------------------\u001b[0m",
      "\u001b[0;31mTypeError\u001b[0m                                Traceback (most recent call last)",
      "\u001b[0;32m<ipython-input-31-88f17b4fa117>\u001b[0m in \u001b[0;36m<module>\u001b[0;34m\u001b[0m\n\u001b[0;32m----> 1\u001b[0;31m \u001b[0mMyClass\u001b[0m\u001b[0;34m.\u001b[0m\u001b[0mmethod\u001b[0m\u001b[0;34m(\u001b[0m\u001b[0;34m)\u001b[0m\u001b[0;34m\u001b[0m\u001b[0;34m\u001b[0m\u001b[0m\n\u001b[0m",
      "\u001b[0;31mTypeError\u001b[0m: method() missing 1 required positional argument: 'self'"
     ]
    }
   ],
   "source": [
    "MyClass.method()"
   ]
  },
  {
   "cell_type": "markdown",
   "id": "45f8252a",
   "metadata": {},
   "source": [
    "Attempting to call the instance method method() failed with a TypeError.\n",
    "\n",
    "And this is to be expected：\n",
    "\n",
    "    this time we didn’t create an object instance and tried calling an instance function directly on the class blueprint itself. \n",
    "    \n",
    "    This means there is no way for Python to populate the self argument and therefore the call fails."
   ]
  },
  {
   "cell_type": "code",
   "execution_count": 32,
   "id": "1606bef1",
   "metadata": {},
   "outputs": [],
   "source": [
    "class Pizza:\n",
    "    def __init__(self,ingredients):\n",
    "        self.ingredients = ingredients\n",
    "        \n",
    "    def __repr__(self):\n",
    "        return f'Pizza({self.ingredients !r})'"
   ]
  },
  {
   "cell_type": "code",
   "execution_count": 33,
   "id": "18d3940b",
   "metadata": {},
   "outputs": [
    {
     "data": {
      "text/plain": [
       "Pizza(['cheese', 'tomatoes'])"
      ]
     },
     "execution_count": 33,
     "metadata": {},
     "output_type": "execute_result"
    }
   ],
   "source": [
    "Pizza(['cheese','tomatoes'])"
   ]
  },
  {
   "cell_type": "code",
   "execution_count": null,
   "id": "bcf0f63b",
   "metadata": {},
   "outputs": [],
   "source": []
  },
  {
   "cell_type": "code",
   "execution_count": null,
   "id": "55636d35",
   "metadata": {},
   "outputs": [],
   "source": []
  },
  {
   "cell_type": "code",
   "execution_count": null,
   "id": "4e50b652",
   "metadata": {},
   "outputs": [],
   "source": []
  },
  {
   "cell_type": "code",
   "execution_count": null,
   "id": "67857c82",
   "metadata": {},
   "outputs": [],
   "source": []
  },
  {
   "cell_type": "code",
   "execution_count": null,
   "id": "e3ea7bc3",
   "metadata": {},
   "outputs": [],
   "source": []
  },
  {
   "cell_type": "markdown",
   "id": "9f306974-07c4-4bcd-b18a-23044ebe2387",
   "metadata": {},
   "source": [
    "##  Decorator"
   ]
  },
  {
   "cell_type": "markdown",
   "id": "ed1bf4d2-ab86-42bf-8396-cc535a789b9c",
   "metadata": {},
   "source": [
    "[Decorators](https://realpython.com/python-lambda/#classic-functional-constructs)\n",
    "\n",
    "In Python, a decorator is the implementation of a pattern that allows adding a behavior to a function or a class. It is usually expressed with the @decorator syntax prefixing a function. \n",
    "\n",
    "### Functions\n",
    "\n",
    "[Primer on Python Decorators](https://realpython.com/primer-on-python-decorators/#functions)\n",
    "\n",
    "Before you can understand decorators, you must first understand how functions work. For our purposes, a function returns a value based on the given arguments. Here is a very simple example:\n",
    "\n",
    "\n"
   ]
  },
  {
   "cell_type": "code",
   "execution_count": 2,
   "id": "7bedbb1f",
   "metadata": {},
   "outputs": [
    {
     "data": {
      "text/plain": [
       "3"
      ]
     },
     "execution_count": 2,
     "metadata": {},
     "output_type": "execute_result"
    }
   ],
   "source": [
    "def add_one(number):\n",
    "    return number + 1\n",
    "\n",
    "add_one(2)"
   ]
  },
  {
   "cell_type": "markdown",
   "id": "ba929024",
   "metadata": {},
   "source": [
    "In general, functions in Python may also have side effects rather than just turning an input into an output. The `print() function` is a basic example of this: it returns None while having the side effect of outputting something to the console. However, to understand decorators, it is enough to think about functions as something that turns given arguments into a value.\n",
    "\n",
    "**Note:** In **functional programming**, you work (almost) only with pure functions without side effects. While not a purely functional language, Python supports many of the functional programming concepts, including functions as first-class objects.\n"
   ]
  },
  {
   "cell_type": "markdown",
   "id": "003fc6b6",
   "metadata": {},
   "source": [
    "#### First-Class Objects\n",
    "\n",
    "In Python, functions are first-class objects. \n",
    "\n",
    "This means that **functions can be passed around and used as arguments**, just like any other object (string, int, float, list, and so on). Consider the following three functions:"
   ]
  },
  {
   "cell_type": "code",
   "execution_count": 17,
   "id": "86d9c63c",
   "metadata": {},
   "outputs": [],
   "source": [
    "def say_hello(name):\n",
    "    return f\"Hello {name}\"\n",
    "\n",
    "def be_awesome(name):\n",
    "    return f\"Yo {name},togethoer we are the awesomest!\"\n",
    "\n",
    "def greet_bob(greeter_func):\n",
    "    return greeter_func(\"Bob\")"
   ]
  },
  {
   "cell_type": "markdown",
   "id": "59f542ad",
   "metadata": {},
   "source": [
    "Here, `say_hello()` and `be_awesome()` are regular functions that expect a name given as a string.\n",
    "\n",
    "The `greet_bob()` function however, expects a function as its argument. \n",
    "\n",
    "We can, for instance, pass it the `say_hello()` or the `be_awesome() `function:\n",
    "\n"
   ]
  },
  {
   "cell_type": "code",
   "execution_count": 18,
   "id": "828a2e04",
   "metadata": {},
   "outputs": [
    {
     "data": {
      "text/plain": [
       "'Hello Bob'"
      ]
     },
     "execution_count": 18,
     "metadata": {},
     "output_type": "execute_result"
    }
   ],
   "source": [
    "greet_bob(say_hello)"
   ]
  },
  {
   "cell_type": "code",
   "execution_count": 19,
   "id": "a013fd18-f715-4f96-b4e3-b8c1decfcb0c",
   "metadata": {},
   "outputs": [
    {
     "data": {
      "text/plain": [
       "'Yo Bob,togethoer we are the awesomest!'"
      ]
     },
     "execution_count": 19,
     "metadata": {},
     "output_type": "execute_result"
    }
   ],
   "source": [
    "greet_bob(be_awesome)"
   ]
  },
  {
   "cell_type": "markdown",
   "id": "07529102",
   "metadata": {},
   "source": [
    "Note that `greet_bob(say_hello)` refers to **two functions**, but in **different ways**: `greet_bob()` and `say_hello`.\n",
    "\n",
    "The `say_hello` function is named without parentheses. This means that **only a reference** to the function is **passed**. The function is not executed.\n",
    "\n",
    "The `greet_bob()` function, on the other hand, is written with parentheses, so it will be called as usual."
   ]
  },
  {
   "cell_type": "markdown",
   "id": "b2129a7d",
   "metadata": {},
   "source": [
    "#### Inner Functions\n",
    "\n",
    "It’s possible to **define functions inside other functions**. \n",
    "\n",
    "Such functions are called inner functions. "
   ]
  },
  {
   "cell_type": "code",
   "execution_count": 20,
   "id": "6a683800",
   "metadata": {
    "cell_style": "center"
   },
   "outputs": [],
   "source": [
    "def parent():\n",
    "    print(\"Printing form the parent() function\")\n",
    "    \n",
    "    def first_child():\n",
    "        print(\"Printing from the first_child() function\")\n",
    "        \n",
    "    def second_child():\n",
    "        print(\"Printing from the second_child() function\")\n",
    "    first_child()\n",
    "    second_child()\n",
    "    first_child()#check the printing order below we will know what happened:\n",
    "    first_child()\n",
    "    first_child()"
   ]
  },
  {
   "cell_type": "code",
   "execution_count": 13,
   "id": "30fee93f",
   "metadata": {},
   "outputs": [
    {
     "name": "stdout",
     "output_type": "stream",
     "text": [
      "Printing form the parent() function\n",
      "Printing from the first_child() function\n",
      "Printing from the second_child() function\n",
      "Printing from the first_child() function\n"
     ]
    }
   ],
   "source": [
    "parent()"
   ]
  },
  {
   "cell_type": "code",
   "execution_count": 16,
   "id": "791db820",
   "metadata": {},
   "outputs": [
    {
     "ename": "NameError",
     "evalue": "name 'first_child' is not defined",
     "output_type": "error",
     "traceback": [
      "\u001b[0;31m---------------------------------------------------------------------------\u001b[0m",
      "\u001b[0;31mNameError\u001b[0m                                 Traceback (most recent call last)",
      "\u001b[0;32m<ipython-input-16-ed04b9fc59ab>\u001b[0m in \u001b[0;36m<module>\u001b[0;34m\u001b[0m\n\u001b[0;32m----> 1\u001b[0;31m \u001b[0mfirst_child\u001b[0m\u001b[0;34m(\u001b[0m\u001b[0;34m)\u001b[0m\u001b[0;31m# we can not call the inner func outside the main func\u001b[0m\u001b[0;34m\u001b[0m\u001b[0;34m\u001b[0m\u001b[0m\n\u001b[0m",
      "\u001b[0;31mNameError\u001b[0m: name 'first_child' is not defined"
     ]
    }
   ],
   "source": [
    "first_child()# we can not call the inner func outside the main func"
   ]
  },
  {
   "cell_type": "markdown",
   "id": "2c764384",
   "metadata": {},
   "source": [
    "#### Returning Functions From Functions\n",
    "\n",
    "Python also allows you to use functions as return values. \n",
    "\n",
    "The following example returns one of the inner functions from the outer parent() function:"
   ]
  },
  {
   "cell_type": "code",
   "execution_count": 24,
   "id": "d40410b7",
   "metadata": {},
   "outputs": [],
   "source": [
    "def parent(num):\n",
    "    def first_child():\n",
    "        return \"Hi, I am Tony\"\n",
    "    \n",
    "    def second_child():\n",
    "        return \"Call me Zoe\"\n",
    "    \n",
    "    if num == 1:\n",
    "        return first_child\n",
    "    \n",
    "    else:\n",
    "        return second_child\n",
    "    \n",
    "# Note that you are returning first_child without the parentheses. \n",
    "# Recall that this means that you are returning a reference to the function first_child.\n",
    "# In contrast first_child() with parentheses refers to the result of evaluating the function.\n",
    "# This can be seen in the following example:\n",
    "\n",
    "first = parent(1)\n",
    "second = parent(2)"
   ]
  },
  {
   "cell_type": "code",
   "execution_count": 29,
   "id": "00d85dd0",
   "metadata": {},
   "outputs": [
    {
     "data": {
      "text/plain": [
       "<function __main__.parent.<locals>.first_child()>"
      ]
     },
     "execution_count": 29,
     "metadata": {},
     "output_type": "execute_result"
    }
   ],
   "source": [
    "first"
   ]
  },
  {
   "cell_type": "markdown",
   "id": "5b03fd68",
   "metadata": {},
   "source": [
    "The somewhat cryptic output simply means that the first variable refers to the local **first_child()** function inside of **parent()**, while second points to **second_child()**."
   ]
  },
  {
   "cell_type": "code",
   "execution_count": 26,
   "id": "33edd7d2",
   "metadata": {},
   "outputs": [
    {
     "data": {
      "text/plain": [
       "<function __main__.parent.<locals>.second_child()>"
      ]
     },
     "execution_count": 26,
     "metadata": {},
     "output_type": "execute_result"
    }
   ],
   "source": [
    "second"
   ]
  },
  {
   "cell_type": "code",
   "execution_count": 27,
   "id": "0a8a9400",
   "metadata": {},
   "outputs": [
    {
     "data": {
      "text/plain": [
       "'Hi, I am Tony'"
      ]
     },
     "execution_count": 27,
     "metadata": {},
     "output_type": "execute_result"
    }
   ],
   "source": [
    "first()"
   ]
  },
  {
   "cell_type": "code",
   "execution_count": 28,
   "id": "1b8b0e68",
   "metadata": {},
   "outputs": [
    {
     "data": {
      "text/plain": [
       "'Call me Zoe'"
      ]
     },
     "execution_count": 28,
     "metadata": {},
     "output_type": "execute_result"
    }
   ],
   "source": [
    "second()"
   ]
  },
  {
   "cell_type": "markdown",
   "id": "5005421e",
   "metadata": {},
   "source": [
    "Finally, note that in the earlier example you executed the inner functions within the parent function, for instance first_child(). \n",
    "\n",
    "However, in this last example, you did not add parentheses to the inner functions—`first_child`—upon returning. \n",
    "\n",
    "That way, you got a reference to each function that you could call in the future.\n",
    "\n",
    "Make sense?"
   ]
  },
  {
   "cell_type": "markdown",
   "id": "9ce8cfdd",
   "metadata": {},
   "source": [
    "### Rookie:Simple Decorators\n",
    "\n",
    "The magical beast\n",
    "\n",
    "Here is a lovely example,of course you can make more:"
   ]
  },
  {
   "cell_type": "code",
   "execution_count": 3,
   "id": "18123415",
   "metadata": {},
   "outputs": [],
   "source": [
    "def my_decorator(func):\n",
    "    def wrapper():\n",
    "        print(\"Something is happend before the function is called.\")\n",
    "        func()# see, the func is here\n",
    "        print(\"Something happened after the function is called\")\n",
    "    return wrapper\n",
    "\n",
    "def say_whee():#say_whee is the function\n",
    "    print(\"5\")\n",
    "    print(\"4\")\n",
    "    print(\"3\")\n",
    "    print(\"2\")\n",
    "    print(\"1\") # counting is added\n",
    "    print(\"Whee!\")\n",
    "    \n",
    "say_whee = my_decorator(say_whee)"
   ]
  },
  {
   "cell_type": "code",
   "execution_count": 4,
   "id": "ab4cad34",
   "metadata": {},
   "outputs": [
    {
     "name": "stdout",
     "output_type": "stream",
     "text": [
      "Something is happend before the function is called.\n",
      "5\n",
      "4\n",
      "3\n",
      "2\n",
      "1\n",
      "Whee!\n",
      "Something happened after the function is called\n"
     ]
    }
   ],
   "source": [
    "say_whee()"
   ]
  },
  {
   "cell_type": "code",
   "execution_count": 5,
   "id": "a8a55480",
   "metadata": {},
   "outputs": [
    {
     "data": {
      "text/plain": [
       "<function __main__.my_decorator.<locals>.wrapper()>"
      ]
     },
     "execution_count": 5,
     "metadata": {},
     "output_type": "execute_result"
    }
   ],
   "source": [
    "# The so-called decoration happens at the following line:\n",
    "say_whee"
   ]
  },
  {
   "cell_type": "markdown",
   "id": "b76e16e7",
   "metadata": {},
   "source": [
    "However, `wrapper()` has a reference to the original `say_whee()` as func, and calls that function **between the two calls to `print()`**.\n",
    "\n",
    "Put simply: **decorators wrap a function, modifying its behavior.**\n",
    "\n",
    "\n",
    "Before moving on, let’s have a look at a second example.\n",
    "\n",
    "Because `wrapper()` is a regular Python function, the way a decorator modifies a function can change dynamically.\n",
    "\n",
    "So **as not to disturb your neighbors**, the following example will only run the decorated code during the day:"
   ]
  },
  {
   "cell_type": "code",
   "execution_count": 6,
   "id": "2e03d9e4",
   "metadata": {},
   "outputs": [],
   "source": [
    "from datetime import datetime\n",
    "\n",
    "def not_during_the_night(func):\n",
    "    def wrapper():\n",
    "        if 7 <= datetime.now().hour < 22:\n",
    "            func()\n",
    "        else:\n",
    "            pass # Hush, the neighbors are asleep\n",
    "    return wrapper\n",
    "\n",
    "def say_whee():\n",
    "    print(\"Whee!\")\n",
    "    \n",
    "say_whee = not_during_the_night(say_whee)"
   ]
  },
  {
   "cell_type": "code",
   "execution_count": 7,
   "id": "3588e31f",
   "metadata": {},
   "outputs": [],
   "source": [
    "say_whee()"
   ]
  },
  {
   "cell_type": "markdown",
   "id": "52cdde34",
   "metadata": {},
   "source": [
    "#### Syntactic Sugar\n",
    "\n",
    "The way you decorated `say_whee()` above is a little clunky(heavy). \n",
    "\n",
    "    - First of all, you end up typing the name say_whee three times. \n",
    "\n",
    "    - In addition, the decoration gets a bit hidden away below the definition of the function.\n",
    "\n",
    "\n",
    "Instead, Python allows you to use decorators in a simpler way with the \"`@`\" symbol , sometimes called the **`“pie” syntax`**. \n",
    "    \n",
    "    The following example does the exact same thing as the first decorator example:"
   ]
  },
  {
   "cell_type": "code",
   "execution_count": 8,
   "id": "50d4eb90",
   "metadata": {},
   "outputs": [],
   "source": [
    "def  my_decorator(func):\n",
    "    def wrapper():\n",
    "        print(\"Something is happend before the function is called.\")\n",
    "        func()# see, the func is here\n",
    "        print(\"Something happened after the function is called\")\n",
    "    return wrapper\n",
    "\n",
    "@my_decorator #the first python pie ini your life. Equal to:\n",
    "#say_whee = my_decorator(say_whee),but easier.\n",
    "\n",
    "def say_whee():\n",
    "    print(\"Whee!\")"
   ]
  },
  {
   "cell_type": "code",
   "execution_count": 9,
   "id": "1922e994",
   "metadata": {},
   "outputs": [
    {
     "name": "stdout",
     "output_type": "stream",
     "text": [
      "Something is happend before the function is called.\n",
      "Whee!\n",
      "Something happened after the function is called\n"
     ]
    }
   ],
   "source": [
    "say_whee()"
   ]
  },
  {
   "cell_type": "markdown",
   "id": "c172c3a3",
   "metadata": {},
   "source": [
    "### Reusing Decorators\n",
    "\n",
    "Recall that a decorator is just a regular Python function. \n",
    "\n",
    "All the usual tools for easy reusability are available. \n",
    "\n",
    "Let’s move the decorator to its own module that can be used in many other functions.\n",
    "\n",
    "Create a file called decorators.py with the following content:"
   ]
  },
  {
   "cell_type": "code",
   "execution_count": 10,
   "id": "413c1d54",
   "metadata": {},
   "outputs": [],
   "source": [
    "def do_twice(func):\n",
    "    def wrapper_do_twice():\n",
    "        func()\n",
    "        func()\n",
    "    return wrapper_do_twice"
   ]
  },
  {
   "cell_type": "markdown",
   "id": "13ad299f",
   "metadata": {},
   "source": [
    "**Note:**\n",
    "You can name your inner function whatever you want, and a generic name **like** `wrapper()` is usually okay. \n",
    "\n",
    "To keep them apart, we’ll name the inner function with the same name as the decorator but with a `wrapper_ prefix.`"
   ]
  },
  {
   "cell_type": "code",
   "execution_count": 11,
   "id": "36e49dde",
   "metadata": {},
   "outputs": [
    {
     "data": {
      "text/plain": [
       "<function __main__.do_twice(func)>"
      ]
     },
     "execution_count": 11,
     "metadata": {},
     "output_type": "execute_result"
    }
   ],
   "source": [
    "do_twice"
   ]
  },
  {
   "cell_type": "code",
   "execution_count": 12,
   "id": "6d375c9d",
   "metadata": {},
   "outputs": [],
   "source": [
    "# in the article, it Create a file called decorators.py for the do_twice,then from decorators import do_twice."
   ]
  },
  {
   "cell_type": "code",
   "execution_count": 13,
   "id": "919ce75a",
   "metadata": {},
   "outputs": [],
   "source": [
    "# in the jupyternotebook we use the decorator directly with the pie @\n",
    "\n",
    "@do_twice\n",
    "def say_whee():\n",
    "    print(\"Whee!\")"
   ]
  },
  {
   "cell_type": "code",
   "execution_count": 14,
   "id": "a3c6e5a2",
   "metadata": {},
   "outputs": [
    {
     "name": "stdout",
     "output_type": "stream",
     "text": [
      "Whee!\n",
      "Whee!\n"
     ]
    }
   ],
   "source": [
    "say_whee()"
   ]
  },
  {
   "cell_type": "markdown",
   "id": "ac915c05",
   "metadata": {},
   "source": [
    "#### Decorating Functions With Arguments\n",
    "\n",
    "Say that you have a function that accepts some arguments. Can you still decorate it? Let’s try:"
   ]
  },
  {
   "cell_type": "code",
   "execution_count": 15,
   "id": "593106eb",
   "metadata": {},
   "outputs": [],
   "source": [
    "@do_twice\n",
    "def greet(name):\n",
    "    print(f\"Hello{name}\")"
   ]
  },
  {
   "cell_type": "code",
   "execution_count": 16,
   "id": "46ccba05",
   "metadata": {},
   "outputs": [
    {
     "ename": "TypeError",
     "evalue": "wrapper_do_twice() takes 0 positional arguments but 1 was given",
     "output_type": "error",
     "traceback": [
      "\u001b[0;31m---------------------------------------------------------------------------\u001b[0m",
      "\u001b[0;31mTypeError\u001b[0m                                 Traceback (most recent call last)",
      "\u001b[0;32m<ipython-input-16-ea9fe3dabe2e>\u001b[0m in \u001b[0;36m<module>\u001b[0;34m\u001b[0m\n\u001b[0;32m----> 1\u001b[0;31m \u001b[0mgreet\u001b[0m\u001b[0;34m(\u001b[0m\u001b[0;34m\"world\"\u001b[0m\u001b[0;34m)\u001b[0m\u001b[0;34m\u001b[0m\u001b[0;34m\u001b[0m\u001b[0m\n\u001b[0m",
      "\u001b[0;31mTypeError\u001b[0m: wrapper_do_twice() takes 0 positional arguments but 1 was given"
     ]
    }
   ],
   "source": [
    "greet(\"world\")"
   ]
  },
  {
   "cell_type": "markdown",
   "id": "4e12a829",
   "metadata": {},
   "source": [
    "The problem is that the inner function `wrapper_do_twice()` does not take any arguments, but name=\"World\" was passed to it.\n",
    "\n",
    "You could fix this by letting `wrapper_do_twice()` accept one argument, but then it would not work for the `say_whee()` function you created earlier.\n",
    "\n",
    "Here we will use **[args and kwargs](https://realpython.com/python-kwargs-and-args/)**\n",
    "\n",
    "The solution is to use **`*args and **kwargs`** in the inner wrapper function. \n",
    "\n",
    "Then it will accept an arbitrary number of positional and keyword arguments. \n",
    "\n",
    "Rewrite decorators.py as follows:"
   ]
  },
  {
   "cell_type": "code",
   "execution_count": 17,
   "id": "ef85134f",
   "metadata": {},
   "outputs": [],
   "source": [
    "def do_twice(func):\n",
    "    def wrapper_do_twice(*args, **kwargs):\n",
    "        func(*args, **kwargs)\n",
    "        func(*args, **kwargs)\n",
    "    return wrapper_do_twice"
   ]
  },
  {
   "cell_type": "markdown",
   "id": "9eb427ac",
   "metadata": {},
   "source": [
    "The wrapper_do_twice() inner function now accepts any number of arguments and passes them on to the function it decorates. \n",
    "\n",
    "Now both your say_whee() and greet() examples works:"
   ]
  },
  {
   "cell_type": "code",
   "execution_count": 18,
   "id": "01a8012f",
   "metadata": {},
   "outputs": [
    {
     "name": "stdout",
     "output_type": "stream",
     "text": [
      "Whee!\n",
      "Whee!\n"
     ]
    }
   ],
   "source": [
    "say_whee()"
   ]
  },
  {
   "cell_type": "code",
   "execution_count": 19,
   "id": "c0f7d116",
   "metadata": {},
   "outputs": [
    {
     "name": "stdout",
     "output_type": "stream",
     "text": [
      "Hello World\n",
      "Hello World\n"
     ]
    }
   ],
   "source": [
    "@do_twice\n",
    "def greet(name):\n",
    "    print(f\"Hello {name}\")\n",
    "greet(\"World\")"
   ]
  },
  {
   "cell_type": "markdown",
   "id": "ec755c2d",
   "metadata": {},
   "source": [
    "### Returning Values From Decorated Functions\n",
    "\n",
    "What happens to the return value of decorated functions? \n",
    "\n",
    "Well, that’s up to the decorator to decide.\n",
    "\n",
    "Let’s say you decorate a simple function as follows:"
   ]
  },
  {
   "cell_type": "code",
   "execution_count": 20,
   "id": "a73c4d12",
   "metadata": {},
   "outputs": [],
   "source": [
    "# def do_twice(func):\n",
    "#     def wrapper_do_twice(*args, **kwargs):\n",
    "#         func(*args, **kwargs)\n",
    "#         func(*args, **kwargs)\n",
    "#     return wrapper_do_twice\n",
    "\n",
    "@do_twice\n",
    "def return_greeting(name):\n",
    "    print(\"Creating greeting\")\n",
    "    return f\"Hi {name}\""
   ]
  },
  {
   "cell_type": "code",
   "execution_count": 21,
   "id": "374f16ec",
   "metadata": {},
   "outputs": [
    {
     "name": "stdout",
     "output_type": "stream",
     "text": [
      "Creating greeting\n",
      "Creating greeting\n"
     ]
    }
   ],
   "source": [
    "hi_tony = return_greeting(\"Tony\")"
   ]
  },
  {
   "cell_type": "code",
   "execution_count": 22,
   "id": "5f998e0d",
   "metadata": {},
   "outputs": [
    {
     "name": "stdout",
     "output_type": "stream",
     "text": [
      "None\n"
     ]
    }
   ],
   "source": [
    "print(hi_tony)"
   ]
  },
  {
   "cell_type": "markdown",
   "id": "5e9663a9",
   "metadata": {},
   "source": [
    "No return,why?\n",
    "\n",
    "Because the `do_twice_wrapper()` doesn’t explicitly return a value, the call return_greeting(\"Tony\") ended up returning None.\n",
    "\n",
    "To fix this, you need to **make sure the wrapper function returns the return value of the decorated function.**\n",
    "\n",
    "Change your decorators.py file:"
   ]
  },
  {
   "cell_type": "code",
   "execution_count": 23,
   "id": "b5fdb65f",
   "metadata": {},
   "outputs": [],
   "source": [
    "def do_twice(func):\n",
    "    def wrapper_do_twice(*args, **kwargs):\n",
    "        func(*args, **kwargs)\n",
    "        return func(*args, **kwargs)\n",
    "\n",
    "    return wrapper_do_twice"
   ]
  },
  {
   "cell_type": "code",
   "execution_count": 24,
   "id": "571ddd9f",
   "metadata": {},
   "outputs": [
    {
     "name": "stdout",
     "output_type": "stream",
     "text": [
      "Creating greeting\n",
      "Creating greeting\n"
     ]
    }
   ],
   "source": [
    "@do_twice\n",
    "def return_greeting(name):\n",
    "    print(\"Creating greeting\")\n",
    "    return f\"Hi {name}\"\n",
    "hi_tony = return_greeting(\"Tony\")"
   ]
  },
  {
   "cell_type": "code",
   "execution_count": 25,
   "id": "508535c7",
   "metadata": {},
   "outputs": [
    {
     "name": "stdout",
     "output_type": "stream",
     "text": [
      "Hi Tony\n"
     ]
    }
   ],
   "source": [
    "print(hi_tony)"
   ]
  },
  {
   "cell_type": "code",
   "execution_count": null,
   "id": "f7156852",
   "metadata": {},
   "outputs": [],
   "source": []
  },
  {
   "cell_type": "markdown",
   "id": "2d949a0a-9ee9-448f-8394-76b87304d2c8",
   "metadata": {},
   "source": [
    "### Introspection__Who Are You, Really?"
   ]
  },
  {
   "cell_type": "markdown",
   "id": "034c3348-a0f5-47bd-8e93-c02e5e392a70",
   "metadata": {},
   "source": [
    "A great convenience when working with Python, especially in the interactive shell, is its powerful **`introspection ability`**. \n",
    "\n",
    "**Introspection** is the ability of an object to know about its own attributes at runtime. \n",
    "\n",
    "For instance, a function knows its own name and **[documentation](https://realpython.com/documenting-python-code/)**\n",
    "\n",
    "bonus:[inspect — Inspect live objects](https://docs.python.org/3.9/library/inspect.html?highlight=introspection)"
   ]
  },
  {
   "cell_type": "code",
   "execution_count": 26,
   "id": "e4d992f6-bbad-45fa-a01a-6f36b51119bc",
   "metadata": {},
   "outputs": [
    {
     "data": {
      "text/plain": [
       "<function print>"
      ]
     },
     "execution_count": 26,
     "metadata": {},
     "output_type": "execute_result"
    }
   ],
   "source": [
    "print"
   ]
  },
  {
   "cell_type": "code",
   "execution_count": 27,
   "id": "b4f29be0-4d35-4425-8239-326e4c828a62",
   "metadata": {},
   "outputs": [
    {
     "data": {
      "text/plain": [
       "'print'"
      ]
     },
     "execution_count": 27,
     "metadata": {},
     "output_type": "execute_result"
    }
   ],
   "source": [
    "print.__name__"
   ]
  },
  {
   "cell_type": "code",
   "execution_count": 28,
   "id": "ee5fa0db-2c6a-4e55-acbd-c041de59f5ba",
   "metadata": {},
   "outputs": [
    {
     "name": "stdout",
     "output_type": "stream",
     "text": [
      "Help on built-in function print in module builtins:\n",
      "\n",
      "print(...)\n",
      "    print(value, ..., sep=' ', end='\\n', file=sys.stdout, flush=False)\n",
      "    \n",
      "    Prints the values to a stream, or to sys.stdout by default.\n",
      "    Optional keyword arguments:\n",
      "    file:  a file-like object (stream); defaults to the current sys.stdout.\n",
      "    sep:   string inserted between values, default a space.\n",
      "    end:   string appended after the last value, default a newline.\n",
      "    flush: whether to forcibly flush the stream.\n",
      "\n"
     ]
    }
   ],
   "source": [
    "help(print)"
   ]
  },
  {
   "cell_type": "code",
   "execution_count": 29,
   "id": "f2979749-ef5a-4366-a2f1-843c95bd4bbf",
   "metadata": {},
   "outputs": [
    {
     "name": "stdout",
     "output_type": "stream",
     "text": [
      "Ellipsis\n"
     ]
    }
   ],
   "source": [
    "print(...)"
   ]
  },
  {
   "cell_type": "markdown",
   "id": "1f521be3-fc41-4f41-a804-e78a6d74a3cc",
   "metadata": {},
   "source": [
    "#### Works for functions you define\n",
    "\n",
    "The introspection works for functions you define yourself as well:"
   ]
  },
  {
   "cell_type": "code",
   "execution_count": 30,
   "id": "16775271-f996-417a-bab5-f971f6162a68",
   "metadata": {},
   "outputs": [
    {
     "data": {
      "text/plain": [
       "<function __main__.do_twice.<locals>.wrapper_do_twice()>"
      ]
     },
     "execution_count": 30,
     "metadata": {},
     "output_type": "execute_result"
    }
   ],
   "source": [
    "say_whee"
   ]
  },
  {
   "cell_type": "code",
   "execution_count": 31,
   "id": "431ac0af-2814-439b-99bb-77e8ff0133d2",
   "metadata": {},
   "outputs": [
    {
     "data": {
      "text/plain": [
       "'wrapper_do_twice'"
      ]
     },
     "execution_count": 31,
     "metadata": {},
     "output_type": "execute_result"
    }
   ],
   "source": [
    "say_whee.__name__"
   ]
  },
  {
   "cell_type": "code",
   "execution_count": 42,
   "id": "1b537835-48a7-410f-8e67-839a110b2c3c",
   "metadata": {},
   "outputs": [
    {
     "name": "stdout",
     "output_type": "stream",
     "text": [
      "Help on function wrapper_do_twice in module __main__:\n",
      "\n",
      "wrapper_do_twice()\n",
      "\n"
     ]
    }
   ],
   "source": [
    "help(say_whee)"
   ]
  },
  {
   "cell_type": "markdown",
   "id": "85c3ddba-32c3-41a2-bdef-c738db3f2aa3",
   "metadata": {},
   "source": [
    "#### @functools.wraps\n",
    "\n",
    "However, after being decorated, `say_whee()` has gotten very confused about its identity.\n",
    "\n",
    "It now reports being the `wrapper_do_twice()` inner function inside the `do_twice()` decorator.\n",
    "\n",
    "Although technically true, this is not very useful information.\n",
    "\n",
    "To fix this, decorators should use the **`@functools.wraps`** decorator, which will preserve information about the original function. \n",
    "\n"
   ]
  },
  {
   "cell_type": "markdown",
   "id": "66cba3b6",
   "metadata": {},
   "source": [
    "[@functools.wraps](https://docs.python.org/3/library/functools.html#functools.wraps_)(wrapped, assigned=WRAPPER_ASSIGNMENTS, updated=WRAPPER_UPDATES)\n",
    "\n",
    "    This is a convenience function for invoking update_wrapper() as a function decorator when defining a wrapper function. It is equivalent to partial(update_wrapper, wrapped=wrapped, assigned=assigned, updated=updated). \n",
    "    \n",
    " **Without the use of this decorator factory, the name of the example function would have been 'wrapper', and the docstring of the original example() would have been lost.**       "
   ]
  },
  {
   "cell_type": "code",
   "execution_count": 33,
   "id": "34e17749",
   "metadata": {},
   "outputs": [
    {
     "name": "stdout",
     "output_type": "stream",
     "text": [
      "Calling decorated function\n",
      "Called example function\n"
     ]
    }
   ],
   "source": [
    "#create the decorator:\n",
    "from functools import wraps\n",
    "def my_decorator(f):\n",
    "    @wraps(f)\n",
    "    def wrapper(*args,**kwargs):#**kwds??\n",
    "        print('Calling decorated function')\n",
    "        return f(*args,**kwargs)\n",
    "    return wrapper\n",
    "# here is the function f:\n",
    "@my_decorator\n",
    "def example():\n",
    "    \"\"\"Docstring\"\"\"\n",
    "    print('Called example function')\n",
    "    \n",
    "example()"
   ]
  },
  {
   "cell_type": "code",
   "execution_count": 34,
   "id": "2893fb48",
   "metadata": {},
   "outputs": [
    {
     "name": "stdout",
     "output_type": "stream",
     "text": [
      "example Docstring\n"
     ]
    }
   ],
   "source": [
    "print(example.__name__, example.__doc__)"
   ]
  },
  {
   "cell_type": "markdown",
   "id": "1ee2e042",
   "metadata": {},
   "source": [
    "However, if we do not use the **wraps**:"
   ]
  },
  {
   "cell_type": "code",
   "execution_count": 35,
   "id": "8f8fea11",
   "metadata": {},
   "outputs": [
    {
     "name": "stdout",
     "output_type": "stream",
     "text": [
      "wrapper decorator\n"
     ]
    }
   ],
   "source": [
    "def my_decorator(func):\n",
    "    def wrapper(*args, **kwargs):\n",
    "        '''decorator'''\n",
    "        print('Calling decorated function...')\n",
    "        return func(*args, **kwargs)\n",
    "    return wrapper\n",
    "\n",
    "@my_decorator\n",
    "def example():\n",
    "    \"\"\"Docstring\"\"\"\n",
    "    print('Called example function')\n",
    "\n",
    "print(example.__name__, example.__doc__)"
   ]
  },
  {
   "cell_type": "markdown",
   "id": "d5c90255",
   "metadata": {},
   "source": [
    "Now Update decorators.py again:"
   ]
  },
  {
   "cell_type": "code",
   "execution_count": 36,
   "id": "64fbe5f4",
   "metadata": {},
   "outputs": [],
   "source": [
    "import functools\n",
    "\n",
    "def do_twice(func):\n",
    "    @functools.wraps(func)\n",
    "    def wrapper_do_twice(*args,**kwargs):\n",
    "        func(*args,**kwargs)\n",
    "        return func(*args,**kwargs)\n",
    "    return wrapper_do_twice"
   ]
  },
  {
   "cell_type": "markdown",
   "id": "dd51617d-5a2b-482d-8c8a-16b8003a3b6b",
   "metadata": {},
   "source": [
    "You do not need to change anything about the decorated say_whee() function:"
   ]
  },
  {
   "cell_type": "code",
   "execution_count": 44,
   "id": "fbe14fe9",
   "metadata": {},
   "outputs": [
    {
     "data": {
      "text/plain": [
       "<function __main__.do_twice.<locals>.wrapper_do_twice()>"
      ]
     },
     "execution_count": 44,
     "metadata": {},
     "output_type": "execute_result"
    }
   ],
   "source": [
    "say_whee"
   ]
  },
  {
   "cell_type": "code",
   "execution_count": 37,
   "id": "4d3e7f20",
   "metadata": {},
   "outputs": [
    {
     "data": {
      "text/plain": [
       "'wrapper_do_twice'"
      ]
     },
     "execution_count": 37,
     "metadata": {},
     "output_type": "execute_result"
    }
   ],
   "source": [
    "say_whee.__name__"
   ]
  },
  {
   "cell_type": "code",
   "execution_count": 38,
   "id": "b54520ea",
   "metadata": {},
   "outputs": [
    {
     "name": "stdout",
     "output_type": "stream",
     "text": [
      "Help on function wrapper_do_twice in module __main__:\n",
      "\n",
      "wrapper_do_twice()\n",
      "\n"
     ]
    }
   ],
   "source": [
    "help(say_whee)"
   ]
  },
  {
   "cell_type": "markdown",
   "id": "bad0c68b-e45c-48a1-b74f-0b05145cae70",
   "metadata": {},
   "source": [
    "### Real examples of decorators."
   ]
  },
  {
   "cell_type": "markdown",
   "id": "5fd30f85-363f-47fd-8721-4251b986f73a",
   "metadata": {},
   "source": [
    "A few more useful examples of decorators.\n",
    "\n",
    "You’ll notice that they’ll mainly follow the same pattern that you’ve learned so far:\n",
    "\n",
    "**Meanwhile,** always be curious with what you see and what you think,then you can make more."
   ]
  },
  {
   "cell_type": "markdown",
   "id": "a11e9afb",
   "metadata": {},
   "source": [
    "#### Prime Number @@？\n",
    "\n",
    "Find the prime number in 10000."
   ]
  },
  {
   "cell_type": "code",
   "execution_count": 1,
   "id": "5d358de2",
   "metadata": {},
   "outputs": [],
   "source": [
    "# judge whether the number is prime number.\n",
    "def is_prime(num):\n",
    "    if num < 2:\n",
    "        return False\n",
    "    elif num == 2:\n",
    "        return True\n",
    "    else:\n",
    "        for i in range(2,num):\n",
    "            if num % i == 0:\n",
    "                return False\n",
    "            return True"
   ]
  },
  {
   "cell_type": "code",
   "execution_count": 2,
   "id": "0a20200e",
   "metadata": {},
   "outputs": [],
   "source": [
    "#then we set the range to run the is_prime:\n",
    "\n",
    "# def prime_nums():\n",
    "#     for i in range(2,10000):\n",
    "#         if is_prime(i):\n",
    "#             print(i)\n",
    "\n",
    "# prime_nums()"
   ]
  },
  {
   "cell_type": "code",
   "execution_count": 3,
   "id": "7caadff4",
   "metadata": {},
   "outputs": [],
   "source": [
    "# time the function:\n",
    "import time\n",
    "\n",
    "def prime_nums():\n",
    "    t_1 = time.time()\n",
    "    for i in range(2,10000):\n",
    "        if is_prime(i):\n",
    "            print(i)\n",
    "    t_2 = time.time()\n",
    "    print(t_2-t_1)\n",
    "\n",
    "# prime_nums() ## long output \n",
    "## but in thie way, the code is not readable,so we would like to apply the decorator."
   ]
  },
  {
   "cell_type": "code",
   "execution_count": 5,
   "id": "ccff739f-1ba6-4eed-b8a7-1bb24cd1c26c",
   "metadata": {},
   "outputs": [
    {
     "name": "stdout",
     "output_type": "stream",
     "text": [
      "0.011790037155151367\n",
      "5000\n",
      "0.005239009857177734\n"
     ]
    },
    {
     "data": {
      "text/plain": [
       "5000"
      ]
     },
     "execution_count": 5,
     "metadata": {},
     "output_type": "execute_result"
    }
   ],
   "source": [
    "# use the decorator\n",
    "import time\n",
    "\n",
    "def display_time(func):\n",
    "    def wrapper():\n",
    "        t_1 = time.time()\n",
    "        result = func()\n",
    "        t_2 = time.time()\n",
    "        print(t_2-t_1)\n",
    "        return result\n",
    "    return wrapper\n",
    "\n",
    "\n",
    "\n",
    "def is_prime(num):\n",
    "    if num < 2:\n",
    "        return False\n",
    "    elif num == 2:\n",
    "        return True\n",
    "    else:\n",
    "        for i in range(2,num):\n",
    "            if num % i == 0:\n",
    "                return False\n",
    "            return True\n",
    "        \n",
    "\n",
    "@display_time\n",
    "def count_prime_nums():\n",
    "    count = 0\n",
    "    for i in range(2,10000):\n",
    "        if is_prime(i):\n",
    "            count = count + 1\n",
    "    return count\n",
    "\n",
    "count = count_prime_nums()\n",
    "\n",
    "print(count)"
   ]
  },
  {
   "cell_type": "code",
   "execution_count": 10,
   "id": "7d4985c5-5860-4342-9c76-bc5d94bcee48",
   "metadata": {},
   "outputs": [
    {
     "name": "stdout",
     "output_type": "stream",
     "text": [
      "0.00913095474243164\n"
     ]
    },
    {
     "data": {
      "text/plain": [
       "0"
      ]
     },
     "execution_count": 10,
     "metadata": {},
     "output_type": "execute_result"
    }
   ],
   "source": [
    "def display_time(func):\n",
    "       def wrapper(n):\n",
    "               t1 = time.time()\n",
    "               result = func(n)\n",
    "               t2 = time.time()\n",
    "               print(t2-t1)\n",
    "               return result\n",
    "       return wrapper\n",
    "def is_Prime(num):\n",
    "       if num < 2:\n",
    "               return True\n",
    "       elif num ==  2:  \n",
    "               return False\n",
    "       else:\n",
    "               for i in (2,num):\n",
    "                       if num % i == 0:\n",
    "                               return False\n",
    "               return True\n",
    "@display_time\n",
    "def find_Prime(n):\n",
    "       count = 0 \n",
    "       for i in range(2,n):\n",
    "               if is_Prime(i):\n",
    "                       count += 1\n",
    "       return count\n",
    "\n",
    "find_Prime(10000)"
   ]
  },
  {
   "cell_type": "code",
   "execution_count": null,
   "id": "9a0bbb34-9679-4265-9d92-c09a6e419a2c",
   "metadata": {},
   "outputs": [],
   "source": []
  },
  {
   "cell_type": "code",
   "execution_count": null,
   "id": "8fe44b22",
   "metadata": {},
   "outputs": [],
   "source": []
  },
  {
   "cell_type": "markdown",
   "id": "ccfb148d-4692-4fa9-91a5-851bc2968f28",
   "metadata": {},
   "source": [
    "#### Boilerplate Template"
   ]
  },
  {
   "cell_type": "code",
   "execution_count": 56,
   "id": "2440112d",
   "metadata": {},
   "outputs": [],
   "source": [
    "#template\n",
    "\n",
    "import functools\n",
    "\n",
    "def decotator(func):\n",
    "    def wrapper_decorator(*args,**kwargs):\n",
    "        #do sth before:\n",
    "        value = func(*args,**kwargs)\n",
    "        #do sth after:\n",
    "        return value\n",
    "    return wrapper_decorator"
   ]
  },
  {
   "cell_type": "markdown",
   "id": "2f301a0c-98c7-44a9-923c-68a218c2f256",
   "metadata": {},
   "source": [
    "This formula is a **good boilerplate template** for building more complex decorators.\n",
    "\n",
    "**Note:** In later examples, we will assume that these decorators are saved in your decorators.py file as well. \n",
    "    \n",
    "Recall that you can download all the examples [here](https://github.com/realpython/materials/tree/master/primer-on-python-decorators).\n"
   ]
  },
  {
   "cell_type": "markdown",
   "id": "a0be4d46-3e25-42e9-9017-cbeaaf314450",
   "metadata": {},
   "source": [
    "#### Timing Functions\n",
    "\n",
    "Let’s start by creating a @timer decorator. \n",
    "\n",
    "It will [measure the time a function takes to execute](https://realpython.com/python-timer/) and print the duration to the console. \n",
    "\n",
    "Here’s the code:"
   ]
  },
  {
   "cell_type": "code",
   "execution_count": 51,
   "id": "1b0ea951",
   "metadata": {},
   "outputs": [],
   "source": [
    "import functools\n",
    "import time\n",
    "\n",
    "def timer(func):\n",
    "    \"\"\"Print the runtime of the decorated function\"\"\"\n",
    "    @functools.wraps(func)\n",
    "    def wrapper_timer(*args,**kwargs):    \n",
    "        start_time = time.perf_counter()    #1\n",
    "        value = func(*args,**kwargs)\n",
    "        end_time = time.perf_counter()      #2\n",
    "        run_time = end_time - start_time    #3\n",
    "        print(f\"Finished {func.__name__!r} in {run_time:.4f} secs\")\n",
    "        return value\n",
    "    return wrapper_timer\n",
    "\n",
    "@timer\n",
    "def waste_some_time(num_times):\n",
    "    for _ in range(num_times):\n",
    "        sum([i ** 2 for i in range(10000)])"
   ]
  },
  {
   "cell_type": "markdown",
   "id": "422b2f73-e9fa-44c6-b3c9-07542d9bc3ef",
   "metadata": {},
   "source": [
    "This decorator works by storing the time just before the function starts running (at the line marked # 1) and just after the function finishes (at # 2). \n",
    "\n",
    "\n",
    "The time the function takes is then the difference between the two (at # 3). \n",
    "\n",
    "We use the **`time.perf_counter() function`**, which does a good job of **measuring time intervals**-（we need the subtraction of the start and end time). Here are some examples of timings:"
   ]
  },
  {
   "cell_type": "code",
   "execution_count": 52,
   "id": "5ffa6c4b-5cc9-45db-ad1e-df21c4332f5f",
   "metadata": {},
   "outputs": [
    {
     "name": "stdout",
     "output_type": "stream",
     "text": [
      "Finished 'waste_some_time' in 0.0125 secs\n"
     ]
    }
   ],
   "source": [
    "waste_some_time(1)"
   ]
  },
  {
   "cell_type": "code",
   "execution_count": 55,
   "id": "a8cb42f6-a596-4b14-8a47-ae07f7564ba3",
   "metadata": {},
   "outputs": [],
   "source": [
    "# waste_some_time(999)"
   ]
  },
  {
   "cell_type": "markdown",
   "id": "054ff6fe-4a92-4ee6-83bd-d37c4f512181",
   "metadata": {},
   "source": [
    "Decorators are advanced beings. Keep on coding you will get more."
   ]
  },
  {
   "cell_type": "markdown",
   "id": "ab3226c1-ab8b-4c37-a0e2-d5d6caba836a",
   "metadata": {},
   "source": [
    "**Note:** The **`@timer`** decorator is great if you just want to get an idea about the runtime of your functions. \n",
    "\n",
    "If you want to do more precise measurements of code, you should instead consider the timeit module in the standard library. \n",
    "\n",
    "It temporarily disables garbage collection and runs multiple trials to strip out noise from quick function calls."
   ]
  },
  {
   "cell_type": "markdown",
   "id": "6d980f32-a313-4cec-acaa-96f711f0fa24",
   "metadata": {},
   "source": [
    "#### Debugging Code？\n",
    "\n",
    "The following **`@debug`** decorator will print the arguments a function is called with as well as its return value every time the function is called:"
   ]
  },
  {
   "cell_type": "code",
   "execution_count": 12,
   "id": "80885775-676c-47d3-b542-f3b3a0b947b7",
   "metadata": {},
   "outputs": [],
   "source": [
    "import functools\n",
    "\n",
    "def debug(func):\n",
    "    \"\"\"Print the function signature and return value\"\"\"\n",
    "    @functools.wraps(func)\n",
    "    def wrapper_debug(*args,**kwargs):\n",
    "        args_repr = [repr(a) for a in args]\n",
    "        kwargs_repr =[f\"{k}={v!r}\" for k, v in kwargs.items()]\n",
    "        signature = \",\".join(args_repr + kwargs_repr)\n",
    "        print(f\"Calling {func.__name__}({signature})\")\n",
    "        value = func(*args,**kwargs)\n",
    "        print(f\"{func.__name__!r} returned {value!r}\")\n",
    "        return value\n",
    "    return wrapper_debug"
   ]
  },
  {
   "cell_type": "markdown",
   "id": "b2425ff8-8afb-4b53-8d45-a3575c1f9c86",
   "metadata": {},
   "source": [
    "The signature is created by joining the [**string representations**](https://dbader.org/blog/python-repr-vs-str) of all the arguments. The numbers in the following list correspond to the numbered comments in the code:\n",
    "\n",
    "1. Create a list of the positional arguments. Use `repr()` to get a nice string representing each argument.\n",
    "\n",
    "2. Create a list of the keyword arguments. The **[f-string](https://realpython.com/python-f-strings/)** formats each argument as `key=value where the !r specifier means that repr() `is used to represent the value.\n",
    "\n",
    "3. The lists of positional and keyword arguments is joined together to one signature string with each argument separated by a comma.\n",
    "\n",
    "4. The return value is printed after the function is executed.\n",
    "\n",
    "Let’s see how the decorator works in practice by applying it to a simple function with one position and one keyword argument:"
   ]
  },
  {
   "cell_type": "markdown",
   "id": "5df8288c-c612-4279-9426-872029ccc2d0",
   "metadata": {},
   "source": []
  },
  {
   "cell_type": "code",
   "execution_count": 13,
   "id": "736694d1-a0b0-45aa-82a4-b92371e485a2",
   "metadata": {},
   "outputs": [],
   "source": [
    "@debug\n",
    "\n",
    "def make_greeting(name,age=None):\n",
    "    if age is None:\n",
    "        return f\"Howdy {name}\"\n",
    "    else:\n",
    "        return f\"Whoa {name}! {age} already, you are growing up!\""
   ]
  },
  {
   "cell_type": "markdown",
   "id": "c0b255b3-aa67-4e59-ab22-331b6289c355",
   "metadata": {},
   "source": [
    "Note how the @debug decorator prints the signature and return value of the make_greeting() function:"
   ]
  },
  {
   "cell_type": "code",
   "execution_count": 14,
   "id": "41f8720d-4f2a-41ec-9075-a7029b2e2a83",
   "metadata": {},
   "outputs": [
    {
     "name": "stdout",
     "output_type": "stream",
     "text": [
      "Calling make_greeting('Evan')\n",
      "'make_greeting' returned 'Howdy Evan'\n"
     ]
    },
    {
     "data": {
      "text/plain": [
       "'Howdy Evan'"
      ]
     },
     "execution_count": 14,
     "metadata": {},
     "output_type": "execute_result"
    }
   ],
   "source": [
    "make_greeting('Evan')"
   ]
  },
  {
   "cell_type": "code",
   "execution_count": 15,
   "id": "7e5857a8-37c6-4873-844d-d3fff6658014",
   "metadata": {},
   "outputs": [
    {
     "name": "stdout",
     "output_type": "stream",
     "text": [
      "Calling make_greeting('Wendy',age=25)\n",
      "'make_greeting' returned 'Whoa Wendy! 25 already, you are growing up!'\n"
     ]
    },
    {
     "data": {
      "text/plain": [
       "'Whoa Wendy! 25 already, you are growing up!'"
      ]
     },
     "execution_count": 15,
     "metadata": {},
     "output_type": "execute_result"
    }
   ],
   "source": [
    "make_greeting('Wendy',age=25)"
   ]
  },
  {
   "cell_type": "code",
   "execution_count": 16,
   "id": "1a3e08b7-f568-4551-b7ce-adc006b246d0",
   "metadata": {},
   "outputs": [
    {
     "name": "stdout",
     "output_type": "stream",
     "text": [
      "Calling make_greeting(name='Tony',age=7)\n",
      "'make_greeting' returned 'Whoa Tony! 7 already, you are growing up!'\n"
     ]
    },
    {
     "data": {
      "text/plain": [
       "'Whoa Tony! 7 already, you are growing up!'"
      ]
     },
     "execution_count": 16,
     "metadata": {},
     "output_type": "execute_result"
    }
   ],
   "source": [
    "make_greeting(name='Tony',age=7)"
   ]
  },
  {
   "cell_type": "markdown",
   "id": "54b8aa85-5824-4ab5-b2ee-277e2ce3fefa",
   "metadata": {},
   "source": [
    "This example might not seem immediately useful since the @debug decorator just repeats what you just wrote.\n",
    "\n",
    "It’s more powerful when applied to small convenience functions that you don’t call directly yourself."
   ]
  },
  {
   "cell_type": "markdown",
   "id": "e35b9378",
   "metadata": {},
   "source": [
    "##### Calculates an approximation to the [mathematical constant e](https://en.wikipedia.org/wiki/E_(mathematical_constant))\n",
    "(?)\n",
    "\n",
    "The approximation of e is based on the following [series expansion](https://en.wikipedia.org/wiki/E_(mathematical_constant)):\n",
    "\n",
    "$$e=\\sum_{n=0}^{\\infty} \\frac{1}{n !}=\\frac{1}{0 !}+\\frac{1}{1 !}+\\frac{1}{2 !}+\\cdots=\\frac{1}{1}+\\frac{1}{1}+\\frac{1}{1 \\cdot 2}+\\cdots$$"
   ]
  },
  {
   "cell_type": "code",
   "execution_count": 21,
   "id": "7af2243d",
   "metadata": {},
   "outputs": [
    {
     "ename": "SyntaxError",
     "evalue": "invalid syntax (<ipython-input-21-2c846f5970d3>, line 6)",
     "output_type": "error",
     "traceback": [
      "\u001b[0;36m  File \u001b[0;32m\"<ipython-input-21-2c846f5970d3>\"\u001b[0;36m, line \u001b[0;32m6\u001b[0m\n\u001b[0;31m    math.factorial = debug(math.factorial)\u001b[0m\n\u001b[0m    ^\u001b[0m\n\u001b[0;31mSyntaxError\u001b[0m\u001b[0;31m:\u001b[0m invalid syntax\n"
     ]
    }
   ],
   "source": [
    "import math\n",
    "\n",
    "@debug\n",
    "\n",
    "# Apply a decorator to a standard library function\n",
    "math.factorial = debug(math.factorial)\n",
    "\n",
    "def approximate_e(terms=18):\n",
    "    return sum(1 / math.factorial(n) for n in range(terms))\n",
    "\n"
   ]
  },
  {
   "cell_type": "markdown",
   "id": "9c58f032",
   "metadata": {},
   "source": [
    "#### Slowing down Code\n",
    "\n",
    "Probably the most common use case is that you want to rate-limit a function that continuously checks whether a resource—like a web page—has changed. \n",
    "\n",
    "The @slow_down decorator will sleep one second before it calls the decorated function:"
   ]
  },
  {
   "cell_type": "code",
   "execution_count": 57,
   "id": "0c64ff4d",
   "metadata": {},
   "outputs": [],
   "source": [
    "import functools\n",
    "import time\n",
    "\n",
    "# create the slowdown decorator:\n",
    "def slow_down(func):\n",
    "    \"\"\"Sleep 1 second before calling the function\"\"\"\n",
    "    @functools.wraps(func)\n",
    "    def wrapper_slow_down(*args,**kwargs):\n",
    "        time.sleep(0.1)#####slowdown core try:0,0.1,0.5,1\n",
    "        return func(*args,**kwargs)\n",
    "    return wrapper_slow_down\n",
    "\n",
    "@slow_down\n",
    "def countdown(from_number):\n",
    "    if from_number < 1:\n",
    "        print(\"Lift off!!\")\n",
    "    else:\n",
    "        print(from_number)\n",
    "        countdown(from_number - 1)"
   ]
  },
  {
   "cell_type": "code",
   "execution_count": 58,
   "id": "7a101029",
   "metadata": {},
   "outputs": [
    {
     "name": "stdout",
     "output_type": "stream",
     "text": [
      "3\n",
      "2\n",
      "1\n",
      "Lift off!!\n"
     ]
    }
   ],
   "source": [
    "countdown(3)"
   ]
  },
  {
   "cell_type": "markdown",
   "id": "5331d320",
   "metadata": {},
   "source": [
    "**Note:** **`The countdown()`** function is a recursive function. \n",
    "\n",
    "In other words, it’s a function calling itself. \n",
    "\n",
    "To learn more about recursive functions in Python, see our guide on [Thinking Recursively in Python](https://realpython.com/python-thinking-recursively/)."
   ]
  },
  {
   "cell_type": "markdown",
   "id": "eb7cc2de",
   "metadata": {},
   "source": [
    "#### Registering Plugins:Create a light-weight plug-in architecture\n",
    "\n",
    "Decorators don’t have to wrap the function they’re decorating. \n",
    "\n",
    "They can also simply register that a function exists and return it unwrapped. \n",
    "\n",
    "This can be used, for instance, to create a **light-weight plug-in architecture**:"
   ]
  },
  {
   "cell_type": "code",
   "execution_count": 66,
   "id": "7aa2f3b2",
   "metadata": {},
   "outputs": [],
   "source": [
    "import random\n",
    "PLUGINS = dict() # whachout,here is the dictionary.\n",
    "\n",
    "def register(func):\n",
    "    \"\"\"Register a function as a plug-in\"\"\"\n",
    "    PLUGINS[func.__name__]= func\n",
    "    return func\n",
    "\n",
    "@register\n",
    "def say_hello(name):\n",
    "    return f\"Hello {name}\"\n",
    "\n",
    "@register\n",
    "def be_awesome(name):\n",
    "    return f\"Yo {name},together we are the awesomest!\"\n",
    "\n",
    "@register\n",
    "def keep_calm(name):\n",
    "    return f\"{name},you did greaT!Never give up!keep calm and carry on!!\"\n",
    "\n",
    "\n",
    "def randomly_greet(name):\n",
    "    greeter,greeter_func = random.choice(list(PLUGINS.items()))\n",
    "\n",
    "    return greeter_func(name)"
   ]
  },
  {
   "cell_type": "code",
   "execution_count": 67,
   "id": "2b300b7f",
   "metadata": {},
   "outputs": [
    {
     "data": {
      "text/plain": [
       "{'say_hello': <function __main__.say_hello(name)>,\n",
       " 'be_awesome': <function __main__.be_awesome(name)>,\n",
       " 'keep_calm': <function __main__.keep_calm(name)>}"
      ]
     },
     "execution_count": 67,
     "metadata": {},
     "output_type": "execute_result"
    }
   ],
   "source": [
    "PLUGINS"
   ]
  },
  {
   "cell_type": "code",
   "execution_count": 73,
   "id": "19fc91bc",
   "metadata": {},
   "outputs": [
    {
     "data": {
      "text/plain": [
       "'Evan,you did greaT!Never give up!keep calm and carry on!!'"
      ]
     },
     "execution_count": 73,
     "metadata": {},
     "output_type": "execute_result"
    }
   ],
   "source": [
    "randomly_greet(\"Evan\")"
   ]
  },
  {
   "cell_type": "markdown",
   "id": "b5b68a81",
   "metadata": {},
   "source": [
    "The main benefit of this simple plugin architecture is that you do not need to maintain a list of which plugins exist. \n",
    "\n",
    "That list is created when the plugins register themselves.\n",
    "\n",
    "This makes it trivial to add a new plugin: just define the function and decorate it with @register.\n",
    "\n",
    "If you are familiar with `globals()` in Python, you might see some similarities to how the plugin architecture works.\n",
    "\n",
    "`globals()` gives access to all global variables in the current scope, including your plugins:"
   ]
  },
  {
   "cell_type": "code",
   "execution_count": 75,
   "id": "8bafad92",
   "metadata": {},
   "outputs": [],
   "source": [
    "# globals()"
   ]
  },
  {
   "cell_type": "markdown",
   "id": "ffa02fdc",
   "metadata": {},
   "source": [
    "#### Is the User Logged In?(Using [Flask](https://realpython.com/tutorials/flask/))\n",
    "\n",
    "The final example before moving on to some fancier decorators is commonly used when working with a web framework. \n",
    "\n",
    "In this example, we are using [Flask](https://realpython.com/tutorials/flask/) to set up a /secret web page that should only be visible to users that are logged in or otherwise authenticated:"
   ]
  },
  {
   "cell_type": "code",
   "execution_count": null,
   "id": "7337f52d",
   "metadata": {},
   "outputs": [],
   "source": [
    "# from flask import Flask, g, request, redirect, url_for\n",
    "# import functools\n",
    "# app = Flask(__name__)\n",
    "\n",
    "# def login_required(func):\n",
    "#     \"\"\"Make sure user is logged in before proceeding\"\"\"\n",
    "#     @functools.wraps(func)\n",
    "#     def wrapper_login_required(*args, **kwargs):\n",
    "#         if g.user is None:\n",
    "#             return redirect(url_for(\"login\", next=request.url))\n",
    "#         return func(*args, **kwargs)\n",
    "#     return wrapper_login_required\n",
    "\n",
    "# @app.route(\"/secret\")\n",
    "# @login_required\n",
    "# def secret():\n",
    "#     ...\n",
    "# # While this gives an idea about how to add authentication to your web framework, you should usually not write these types of decorators yourself. For Flask, you can use the Flask-Login extension instead, which adds more security and functionality."
   ]
  },
  {
   "cell_type": "markdown",
   "id": "4169adc0",
   "metadata": {},
   "source": [
    "### @@Fancy Decorators\n",
    "\n",
    "So far, you’ve seen how to create simple decorators. You already have a pretty good understanding of what decorators are and how they work. Feel free to take a break from this article to practice everything you’ve learned.\n",
    "\n",
    "In the second part of this tutorial, we’ll explore more advanced features, including how to use the following:\n",
    "\n",
    "\n",
    "   - Decorators on classes\n",
    "   - Several decorators on one function\n",
    "   - Decorators with arguments\n",
    "   - Decorators that can optionally take arguments\n",
    "   - Stateful decorators\n",
    "   - Classes as decorators\n"
   ]
  },
  {
   "cell_type": "code",
   "execution_count": null,
   "id": "021d5fed",
   "metadata": {},
   "outputs": [],
   "source": []
  },
  {
   "cell_type": "code",
   "execution_count": null,
   "id": "809dde67",
   "metadata": {},
   "outputs": [],
   "source": []
  },
  {
   "cell_type": "markdown",
   "id": "390b8c6c",
   "metadata": {},
   "source": [
    "## Python's Instance, Class, and Static Methods"
   ]
  },
  {
   "cell_type": "markdown",
   "id": "baa25348",
   "metadata": {},
   "source": [
    "Let’s begin by writing a (Python 3) class that contains simple examples for all three method types:"
   ]
  },
  {
   "cell_type": "code",
   "execution_count": null,
   "id": "ebf093c2",
   "metadata": {},
   "outputs": [],
   "source": []
  },
  {
   "cell_type": "code",
   "execution_count": null,
   "id": "667b4451",
   "metadata": {},
   "outputs": [],
   "source": []
  },
  {
   "cell_type": "code",
   "execution_count": null,
   "id": "e1f11546",
   "metadata": {},
   "outputs": [],
   "source": []
  },
  {
   "cell_type": "code",
   "execution_count": null,
   "id": "f8887f4d",
   "metadata": {},
   "outputs": [],
   "source": []
  },
  {
   "cell_type": "code",
   "execution_count": null,
   "id": "2b61b37c",
   "metadata": {},
   "outputs": [],
   "source": []
  },
  {
   "cell_type": "markdown",
   "id": "684fb100-5c76-474b-ab9b-15cfac196354",
   "metadata": {},
   "source": [
    "## Descriptor"
   ]
  },
  {
   "cell_type": "markdown",
   "id": "69352a0a-be76-4dca-a00a-a6dc7a826744",
   "metadata": {},
   "source": []
  },
  {
   "cell_type": "code",
   "execution_count": null,
   "id": "1d026ec8",
   "metadata": {},
   "outputs": [],
   "source": []
  },
  {
   "cell_type": "code",
   "execution_count": null,
   "id": "743f9ef6",
   "metadata": {},
   "outputs": [],
   "source": []
  },
  {
   "cell_type": "code",
   "execution_count": null,
   "id": "57d2f0a2",
   "metadata": {},
   "outputs": [],
   "source": []
  },
  {
   "cell_type": "code",
   "execution_count": null,
   "id": "505bbbdb-a7fb-4844-95ad-802aea60ecee",
   "metadata": {},
   "outputs": [],
   "source": []
  },
  {
   "cell_type": "markdown",
   "id": "3c915465",
   "metadata": {},
   "source": [
    "# Study Notes:"
   ]
  },
  {
   "cell_type": "markdown",
   "id": "93967dfa",
   "metadata": {},
   "source": [
    "## dataclasses"
   ]
  },
  {
   "cell_type": "markdown",
   "id": "9bbc6c6a",
   "metadata": {},
   "source": [
    "## documentation inspect 线程 多线程 异发 同步"
   ]
  },
  {
   "cell_type": "markdown",
   "id": "4ee1d8da",
   "metadata": {},
   "source": []
  },
  {
   "cell_type": "markdown",
   "id": "db3ac573",
   "metadata": {},
   "source": [
    "## contextlib 异步 如何减少循环"
   ]
  },
  {
   "cell_type": "code",
   "execution_count": null,
   "id": "cba88953",
   "metadata": {},
   "outputs": [],
   "source": []
  },
  {
   "cell_type": "code",
   "execution_count": null,
   "id": "3a2bfaae",
   "metadata": {},
   "outputs": [],
   "source": []
  },
  {
   "cell_type": "code",
   "execution_count": null,
   "id": "5dd27db2",
   "metadata": {},
   "outputs": [],
   "source": []
  },
  {
   "cell_type": "code",
   "execution_count": null,
   "id": "580063bd",
   "metadata": {},
   "outputs": [],
   "source": []
  },
  {
   "cell_type": "markdown",
   "id": "8b7952fc",
   "metadata": {},
   "source": [
    "https://docs.python.org/3.9/library/inspect.html?highlight=introspection\n",
    "\n",
    "https://docs.python.org/3/howto/descriptor.html\n",
    "    \n",
    "https://docs.python.org/zh-cn/3.7/howto/descriptor.html"
   ]
  },
  {
   "cell_type": "code",
   "execution_count": null,
   "id": "78ae6cf1",
   "metadata": {},
   "outputs": [],
   "source": []
  }
 ],
 "metadata": {
  "kernelspec": {
   "display_name": "Python 3",
   "language": "python",
   "name": "python3"
  },
  "language_info": {
   "codemirror_mode": {
    "name": "ipython",
    "version": 3
   },
   "file_extension": ".py",
   "mimetype": "text/x-python",
   "name": "python",
   "nbconvert_exporter": "python",
   "pygments_lexer": "ipython3",
   "version": "3.9.5"
  },
  "latex_envs": {
   "LaTeX_envs_menu_present": true,
   "autoclose": false,
   "autocomplete": true,
   "bibliofile": "biblio.bib",
   "cite_by": "apalike",
   "current_citInitial": 1,
   "eqLabelWithNumbers": true,
   "eqNumInitial": 1,
   "hotkeys": {
    "equation": "Ctrl-E",
    "itemize": "Ctrl-I"
   },
   "labels_anchors": false,
   "latex_user_defs": false,
   "report_style_numbering": false,
   "user_envs_cfg": false
  },
  "toc": {
   "base_numbering": 1,
   "nav_menu": {},
   "number_sections": true,
   "sideBar": true,
   "skip_h1_title": false,
   "title_cell": "Table of Contents",
   "title_sidebar": "Contents",
   "toc_cell": false,
   "toc_position": {
    "height": "calc(100% - 180px)",
    "left": "10px",
    "top": "150px",
    "width": "342px"
   },
   "toc_section_display": true,
   "toc_window_display": true
  },
  "varInspector": {
   "cols": {
    "lenName": 16,
    "lenType": 16,
    "lenVar": 40
   },
   "kernels_config": {
    "python": {
     "delete_cmd_postfix": "",
     "delete_cmd_prefix": "del ",
     "library": "var_list.py",
     "varRefreshCmd": "print(var_dic_list())"
    },
    "r": {
     "delete_cmd_postfix": ") ",
     "delete_cmd_prefix": "rm(",
     "library": "var_list.r",
     "varRefreshCmd": "cat(var_dic_list()) "
    }
   },
   "types_to_exclude": [
    "module",
    "function",
    "builtin_function_or_method",
    "instance",
    "_Feature"
   ],
   "window_display": false
  }
 },
 "nbformat": 4,
 "nbformat_minor": 5
}
