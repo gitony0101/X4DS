{
 "cells": [
  {
   "cell_type": "markdown",
   "id": "4f587f53-614c-4dec-b3ca-973be811db5b",
   "metadata": {},
   "source": [
    "# Python For Everyone Chap 1,2,6,7"
   ]
  },
  {
   "cell_type": "markdown",
   "id": "206d8141-d8a8-4b5a-b91e-82781d9e109a",
   "metadata": {},
   "source": [
    "## Chap 1 Intro"
   ]
  },
  {
   "cell_type": "markdown",
   "id": "f7cd68eb-9f6e-433c-9e84-009607a9c48e",
   "metadata": {},
   "source": [
    "### Interactive VS Script\n",
    "\n",
    "- Interactive\n",
    "    - You type directly to Python one line at a time and it responds\n",
    "\n",
    "\n",
    "    \n",
    "- Script\n",
    "    - You enter a sequence of statements (lines) into a file using a text editor and tell Python to execute the statements in the file"
   ]
  },
  {
   "cell_type": "markdown",
   "id": "7ebd378f-d930-4dba-b1bb-fa4e65fcc873",
   "metadata": {},
   "source": [
    "### Program Steps or Program Flow\n",
    "\n",
    "- Like a recipe or installation instructions, a program is a sequence of steps to be done in order.\n",
    "\n",
    "- Some steps are conditional - they may be skipped.\n",
    "\n",
    "- Sometimes a step or group of steps is to be repeated.\n",
    "\n",
    "- Sometimes we store a set of steps to be used over and over as needed several places throughout the program (Chapter 4)."
   ]
  },
  {
   "cell_type": "markdown",
   "id": "51fda1ac-ee8b-4660-8c95-0444883ff53d",
   "metadata": {},
   "source": [
    "### The building blocks of programs\n",
    "\n",
    "There are some low-level conceptual patterns that we use to construct programs.These constructs are not just for Python programs, they are part of every programming language from machine language up to the high-level languages.\n",
    "\n",
    "- **input**\n",
    "\n",
    "    Get data from the \"outside world\". This might be reading data from a file, or even some kind of sensor like a microphone or GPS. In our initial programs, our input will come from the user typing data on the keyboard.\n",
    "\n",
    "- **output**\n",
    "\n",
    "    Display the results of the program on a screen or store them in a file or perhaps write them to a device like a speaker to play music or speak text.\n",
    "\n",
    "- **sequential execution**\n",
    "\n",
    "    Perform statements one after another in the order they are encountered in the script.\n",
    "    \n",
    "- **conditional execution**\n",
    "\n",
    "    Check for certain conditions and then execute or skip a sequence of statements.\n",
    "\n",
    "- **repeated execution**\n",
    "\n",
    "    Perform some set of statements repeatedly, usually with some variation.\n",
    "\n",
    "- **reuse**\n",
    "\n",
    "    Write a set of instructions once and give them a name and then reuse those instructions as needed throughout your program."
   ]
  },
  {
   "cell_type": "markdown",
   "id": "18bd3de5-77e6-49f3-b1ab-7d192d38c89c",
   "metadata": {},
   "source": [
    "### 3 General Types of Errors:\n",
    "\n",
    "- **Syntax errors**\n",
    "\n",
    "    These are the first errors you will make and the easiest to fix. \n",
    "    \n",
    "    A syntax error means that you have violated the \"grammar\" rules of Python. Python does its best to point right at the line and character where it noticed it was confused. The only tricky bit of syntax errors is that sometimes the mistake that needs fixing is actually earlier in the program than where Python noticed it was confused. So the line and character that Python indicates in a syntax error may just be a starting point for your investigation.\n",
    "\n",
    "- **Logic errors**\n",
    "\n",
    "    A logic error is when your program has good syntax but there is `a mistake in the order of the statements` or perhaps `a mistake in how the statements relate to one another`. \n",
    "    \n",
    "    A good example of a logic error might be, \"take a drink from your water bottle, put it in your backpack, walk to the library, and then put the top back on the bottle.\"\n",
    "\n",
    "\n",
    "- **Semantic errors**\n",
    "\n",
    "    A semantic error is when your `description of the steps to take is syntactically perfect and in the right order`, `but there is simply a mistake in the program`. \n",
    "    \n",
    "    The program is perfectly correct but it does not do what you intended for it to do.\n",
    "    \n",
    "    A simple example would be if you were giving a person directions to a restaurant and said, \"...when you reach the intersection with the gas station, turn left and go one mile and the restaurant is a red building on your left.\" Your friend is very late and calls you to tell you that they are on a farm and walking around behind a barn, with no sign of a restaurant. Then you say \"did you turn left or right at the gas station?\" and they say, \"I followed your directions perfectly, I have them written down, it says turn left and go one mile at the gas station.\" Then you say, \"I am very sorry, because while my instructions were syntactically correct, they sadly contained a small but undetected semantic error.\".\n",
    "\n",
    "**In all three types of errors, Python is merely trying its hardest to do exactly what you have asked.**\n"
   ]
  },
  {
   "cell_type": "markdown",
   "id": "c7890224-15bd-4397-9b09-411df09b27ff",
   "metadata": {},
   "source": [
    "## Chap 2 Variables, expressions, and statements\n"
   ]
  },
  {
   "cell_type": "markdown",
   "id": "66a8b9a7-3b8b-4cd9-af19-f26d7ce7e82d",
   "metadata": {},
   "source": [
    "### Variables\n",
    "\n",
    "One of the most powerful features of a programming language is the ability to manipulate variables. A variable is a name that refers to a value.\n",
    "\n",
    "**Naming Rules**\n",
    "\n",
    "Also, python is sensitive to the upper and lower cases, the variables' name should not start with numbers.\n",
    "\n",
    "- Name the variables:\n",
    "\n",
    "    - camel case: myName， FirstName\n",
    "\n",
    "    - snake case: end_message,X_train,y_test"
   ]
  },
  {
   "cell_type": "markdown",
   "id": "f87ea292-9d71-4bc6-a642-171268190980",
   "metadata": {},
   "source": [
    "### Reserved Words:\n",
    "\n",
    "**You can not use reserved words as variable names / identifiers**\n",
    "\n",
    "\n",
    "\n",
    "\\begin{array}{lllll}\n",
    "\\text { False } & \\text { class } & \\text { return is } & \\text { finally } \\\\\n",
    "\\text { None } & \\text { if } & \\text { for } & \\text { lambda } & \\text { continue } \\\\\n",
    "\\text { True } & \\text { def } & \\text { from } & \\text { while } & \\text { nonlocal } \\\\\n",
    "\\text { and } & \\text { del } & \\text { global } & \\text { not } & \\text { with } \\\\\n",
    "\\text { as } & \\text { elif } & \\text { try } & \\text { or } & \\text { yield } \\\\\n",
    "\\text { assert } & \\text { else } & \\text { import } & \\text { pass } & \\\\\n",
    "\\text { break } & \\text { except } & \\text { in } & \\text { raise } &\n",
    "\\end{array}"
   ]
  },
  {
   "cell_type": "markdown",
   "id": "1b33c35c-236c-4126-a6d8-4decfe529b59",
   "metadata": {},
   "source": [
    "### Data types:\n",
    "\n",
    "Text Type: \tstr\n",
    "\n",
    "Numeric Types: \tint, float, complex\n",
    "\n",
    "Sequence Types: \tlist, tuple, range\n",
    "\n",
    "Mapping Type: \tdict\n",
    "\n",
    "Set Types: \tset, frozenset\n",
    "\n",
    "Boolean Type: \tbool\n",
    "\n",
    "Binary Types: \tbytes, bytearray, memoryview"
   ]
  },
  {
   "cell_type": "markdown",
   "id": "00bed598-8add-426b-915d-6d731585d4b9",
   "metadata": {},
   "source": [
    "a = 5\n",
    "print(a, \"is of type\", type(a))\n",
    "\n",
    "a = 2.0\n",
    "print(a, \"is of type\", type(a))\n",
    "\n",
    "a = 1+2j\n",
    "print(a, \"is complex number?\", isinstance(1+2j,complex))\n"
   ]
  },
  {
   "cell_type": "markdown",
   "id": "fa312388-7bca-4564-9435-8a044a494973",
   "metadata": {},
   "source": [
    "### String Conversions\n",
    "\n",
    "- You can also use int() and float() to convert between strings and integers\n",
    "You will get an error if the string does not contain numeric characters"
   ]
  },
  {
   "cell_type": "markdown",
   "id": "a9c62ee8-8003-4873-819e-61e6f4481165",
   "metadata": {},
   "source": [
    "### Type mean\n",
    "\n",
    "- In Python variables, literals, and constants have a \"type\"\n",
    "\n",
    "- Python knows the difference between an integer number and a string\n",
    "\n",
    "- For example “+\" means \"addition\" if something is a number and \"concatenate\" if something is a string"
   ]
  },
  {
   "cell_type": "markdown",
   "id": "6b75a9bd-b970-46c3-8e41-5f7ca246bebc",
   "metadata": {},
   "source": [
    "### Numeric expressions ###\n",
    "\n",
    "\n",
    "\n",
    "| operator | Operation | example |\n",
    "| - | - | - |\n",
    "| ** | Power | 2 **3 = 8 |\n",
    "| % | Remainder | 22 % 8 = 6 |\n",
    "| // | Division by integer | 22 // 8 = 2 |\n",
    "| / | Division | 22 / 8 = 2.75 |\n",
    "| * | Multiply | 3 * 3 = 9 |\n",
    "| +/- | add/subtract | 5 - 2 = 3 |\n",
    "\n",
    "\n",
    "**Order of operation:**\n",
    "\n",
    "Highest precedence rule to lowest precedence rule:\n",
    "- Parentheses are always respected\n",
    "\n",
    "- Exponentiation (raise to a power)\n",
    "\n",
    "- Multiplication, Division, and Remainder\n",
    "\n",
    "- Addition and Subtraction\n",
    "\n",
    "- Left to ight\n",
    "    \n",
    "    parethesis>power>multiplication>addition>left to right\n",
    "\n"
   ]
  },
  {
   "cell_type": "markdown",
   "id": "073cf558-26e9-43bc-8a59-60bd63b1851e",
   "metadata": {},
   "source": [
    "### Comparisions\n",
    "\n",
    "\\begin{array}{|l|l|}\n",
    "\\hline \\text { Operation } & \\text { Meaning } \\\\\n",
    "\\hline< & \\text { strictly less than } \\\\\n",
    "\\hline<= & \\text { less than or equal } \\\\\n",
    "\\hline> & \\text { strictly greater than } \\\\\n",
    "\\hline>= & \\text { greater than or equal } \\\\\n",
    "\\hline== & \\text { equal } \\\\\n",
    "\\hline != & \\text { not equal } \\\\\n",
    "\\hline \\text { is } & \\text { object identity } \\\\\n",
    "\\hline \\text { is not } & \\text { negated object identity } \\\\\n",
    "\\hline\n",
    "\\end{array}"
   ]
  },
  {
   "cell_type": "markdown",
   "id": "9f5a512f",
   "metadata": {},
   "source": [
    "### `str()` vs `repr()`\n",
    "\n",
    "`str()` vs `repr()` both are used to get a string representation of object."
   ]
  },
  {
   "cell_type": "markdown",
   "id": "c909a278-e3d4-47fd-baae-5ecbde456fb9",
   "metadata": {},
   "source": [
    "s = 'Hello geeeeks'\n",
    "\n",
    "# str\n",
    "print(str(s))\n",
    "print(str(2/11))\n",
    "# repr\n",
    "print(repr(s))\n",
    "print(repr(2/11))"
   ]
  },
  {
   "cell_type": "markdown",
   "id": "b498450d",
   "metadata": {},
   "source": [
    "**Following are differences:**\n",
    "\n",
    "- `str()` is used for creating output for end user while `repr()` is mainly used for **debugging and development**. \n",
    "\n",
    "    - repr’s goal is to be unambiguous\n",
    "    \n",
    "    - str’s goal is to be readable.\n",
    "   \n",
    "    For example, if we suspect a float has a small rounding error, repr will show us while str may not.\n",
    "    \n",
    "-  `repr()` compute the “official” string representation of an object (a representation that has all information about the object) and `str()` is used to compute the “informal” string representation of an object (a representation that is useful for printing the object).\n",
    "\n",
    "- The print statement and `str()` built-in function uses`__str__` to display the string representation of the object while the `repr()` built-in function uses `__repr__` to display the object.\n",
    "\n",
    "Let's understand this by an example:"
   ]
  },
  {
   "cell_type": "markdown",
   "id": "3f73a792-5193-4ebb-8af4-d28f01d70534",
   "metadata": {},
   "source": [
    "import datetime\n",
    "today = datetime.datetime.now()\n",
    "\n",
    "#\n",
    "print(f'Prints readable format for date-time object: {str(today)}')\n",
    "print(f'Prints the official format of date-time object:{repr(today)}')"
   ]
  },
  {
   "cell_type": "markdown",
   "id": "41376114",
   "metadata": {},
   "source": [
    "`str()` displays today’s date in a way that the user can understand the date and time.\n",
    "\n",
    "`repr()` prints “official” representation of a date-time object (means using the “official” string representation we can reconstruct the object).\n",
    "\n",
    "\n",
    "How to make them work for our own defined classes:\n",
    "\n",
    "   A user defined class should also have a `__repr__` if we need detailed information for debugging. And if we think it would be useful to have a string version for users, we create a `__str__` function.\n",
    "   \n",
    "   Let's understand this by an example:"
   ]
  },
  {
   "cell_type": "markdown",
   "id": "4ce29b3b-cc69-498e-8b91-f0a150a704d8",
   "metadata": {},
   "source": [
    "#Python program to demonstrate wtiting of __repr__ and\n",
    "#__str__ for user defined classes\n",
    "\n",
    "#A user defined class class to represent Complex Numbers:\n",
    "\n",
    "class Complex:\n",
    "    def __init__(self,real,imag):\n",
    "        self.real = real\n",
    "        self.imag = imag\n",
    "        \n",
    "    # For call to repr(). Prints object's information\n",
    "    def __repr__(self):\n",
    "        return 'Rational(%s, %s)' % (self.real, self.imag)\n",
    "            # %s string to extract self.real/imag by %\n",
    "    # For call to str(). Prints readable form\n",
    "    def __str__(self):\n",
    "        return '%s + %si' % (self.real,self.imag)\n",
    "    \n",
    "# Driver program to test above:\n",
    "t = Complex(3,4)\n",
    "    \n",
    "# Same as \"print t\"\n",
    "print(f'Readable Form: {str(t)}')\n",
    "print(f'Object\\'s information: {repr(t)}')"
   ]
  },
  {
   "cell_type": "markdown",
   "id": "c0a81395",
   "metadata": {},
   "source": [
    "### Formatting\n",
    "\n",
    "$Formatting$ is the process of combining predefined text with data values into a single human-readable message that’s stored as a string.\n",
    "\n",
    "\n",
    "Python has four different ways of formatting strings that are built into the language and standard library.\n",
    "\n",
    "The most common way to format a string in Python is by using the `% formatting operator`."
   ]
  },
  {
   "cell_type": "markdown",
   "id": "413553ff-4595-41ea-98ed-b4db4abb22bd",
   "metadata": {},
   "source": [
    "a = 0b10111011 \n",
    "b = 0xc5f\n",
    "\n",
    "print('Binary is %d, Hex is %d' %(a,b))"
   ]
  },
  {
   "cell_type": "markdown",
   "id": "e93a1df0",
   "metadata": {},
   "source": [
    "#### interpolated format strings `f-strings`\n",
    "\n",
    "The format string uses format specifiers (like `%d`) as **placeholders** that will be replaced by values from the right side of the formatting expression.\n",
    "\n",
    "The syntax for format specifiers comes from C’s printf function, which has been inherited by Python (as well as by other programming languages). \n",
    "\n",
    "Python supports all the usual options you’d expect from printf:\n",
    "\n",
    "- such as `%s, %x, and %f` format specifiers, as well as control over decimal places, padding, fill, and alignment.\n",
    "\n",
    "The first problem is that if you change the type or order of data values in the tuple on the right side of a formatting expression, you can get errors due to type conversion incompatibility. \n",
    "\n",
    "For example, this  simple formatting expression works:**interpolated format strings**`f-strings`"
   ]
  },
  {
   "cell_type": "markdown",
   "id": "ec4ae49e-7b9e-4cd8-be29-a49ac763e2bf",
   "metadata": {},
   "source": [
    "key = 'my_var'\n",
    "value = 1.234\n",
    "\n",
    "formatted = f\"{key} = {value}\"\n",
    "print(formatted)\n",
    "\n",
    "# formatted = f\"{key!r:< 10} = {value:.2f}\"\n",
    "# print(formatted)"
   ]
  },
  {
   "cell_type": "markdown",
   "id": "0a5880b7",
   "metadata": {},
   "source": [
    "The `% operator` in Python has the ability to also do formatting with a dictionary instead of a tuple. The keys from the dictionary are matched with format specifiers with the corresponding name, such as %(key)s. Here, I use this functionality to change the order of values on the right side of the formatting expression with no effect on the outputm"
   ]
  },
  {
   "cell_type": "markdown",
   "id": "0158debc-0b15-4f4c-98a2-edd08f342f3f",
   "metadata": {},
   "source": [
    "old_way = \"%-10s = %.2f\" % (key, value)\n",
    "\n",
    "new_way = \"%(key)-10s = %(value).2f\" % {\"value\": value, \"key\": key}"
   ]
  },
  {
   "cell_type": "markdown",
   "id": "37489606-a608-437b-82cb-f5202c738840",
   "metadata": {},
   "source": [
    "print(old_way)"
   ]
  },
  {
   "cell_type": "markdown",
   "id": "fd3dd4ed-e980-4fd3-8b56-278e69650fa0",
   "metadata": {},
   "source": [
    "print(new_way)"
   ]
  },
  {
   "cell_type": "markdown",
   "id": "c0ee490e",
   "metadata": {},
   "source": [
    "C-style formatting expressions become difficult to read when you need to make small modifications to values before formatting them into a string—and this is an extremely common need. \n",
    "\n",
    "Here, I list the contents of my kitchen pantry without making inline changes:"
   ]
  },
  {
   "cell_type": "markdown",
   "id": "ad9b7ac1-3d3d-427c-b895-04607aa24dfa",
   "metadata": {},
   "source": [
    "pantry = [('avocados', 1.25), ('bananas', 2.5),('cherries', 15),]\n",
    "\n",
    "for i,(item,count) in enumerate(pantry):\n",
    "    print('#%d: %-10s = %.2f' % (i,item,count))\n",
    "    # %d:i\n",
    "    # %-10s :item\n",
    "    # %.2f count rounded up to 2 decimal places "
   ]
  },
  {
   "cell_type": "markdown",
   "id": "7c11aeaf-ef0d-497a-9c5f-8a874c003029",
   "metadata": {},
   "source": []
  },
  {
   "cell_type": "markdown",
   "id": "c2a97ccb-9a9f-459e-a20b-cbc9b76ee1e5",
   "metadata": {},
   "source": []
  },
  {
   "cell_type": "markdown",
   "id": "2fa96dce-5b18-4eac-9472-dae5136d5774",
   "metadata": {},
   "source": []
  },
  {
   "cell_type": "markdown",
   "id": "427181d0-22ac-4429-b799-a73c0065ed80",
   "metadata": {},
   "source": []
  },
  {
   "cell_type": "markdown",
   "id": "9ec62c2f-680d-427b-80b1-adbcc35b474a",
   "metadata": {},
   "source": []
  },
  {
   "cell_type": "markdown",
   "id": "390f9843-b86d-40f7-85de-ce5571c84993",
   "metadata": {},
   "source": []
  },
  {
   "cell_type": "markdown",
   "id": "2c9e20db",
   "metadata": {},
   "source": [
    "### bytes and str\n",
    "\n",
    "bytes consists of sequences of 8-bit unsigned values, while str consists of sequences of Unicode code points that represent textual characters from human languages."
   ]
  },
  {
   "cell_type": "markdown",
   "id": "d66d873f-f7c4-4088-a432-8d5de841d74b",
   "metadata": {},
   "source": [
    "a = b\"h\\x65llo\"\n",
    "print(list(a))\n",
    "print(a)"
   ]
  },
  {
   "cell_type": "markdown",
   "id": "d9c8c389",
   "metadata": {},
   "source": [
    "str instances contains human language strtings Unicode,while python does not recognize the Unicodecode."
   ]
  },
  {
   "cell_type": "markdown",
   "id": "abb655ce-e02d-4e9d-9fa7-91b28bdf0fba",
   "metadata": {},
   "source": [
    "a = \"a\\u0300 propos\"\n",
    "print(list(a))\n",
    "print(a)"
   ]
  },
  {
   "cell_type": "markdown",
   "id": "37c60fea",
   "metadata": {},
   "source": [
    "we need to solve this manually：\n",
    "\n",
    "   str to bytes:`encode()`\n",
    "    \n",
    "   bytes to str:`decode()`"
   ]
  },
  {
   "cell_type": "markdown",
   "id": "70b7014f-b8ff-4370-bc0d-1ebb71349b1d",
   "metadata": {},
   "source": [
    "a = \"a\\u0300 propos\"\n",
    "a = a.encode(\"utf-8\")\n",
    "print(list(a))\n",
    "print(a)"
   ]
  },
  {
   "cell_type": "markdown",
   "id": "4140b1d7",
   "metadata": {},
   "source": [
    "#### Unicode Sandwich"
   ]
  },
  {
   "cell_type": "markdown",
   "id": "cbfc2274",
   "metadata": {},
   "source": [
    "When you're writing Python programs, it's important to do encoding and decoding of Unicode data at the **furthest boundary of your interfaces**; this approach is often called the **Unicode sandwich**.\n",
    "\n",
    "The core of your program should use the str type containing Unicode data and should not assume anything about character encodings. \n",
    "\n",
    "This approach allows you to be very accepting of alternative text encodings (such as Latin-1, Shift JIS, and Big5)while being strict about your output text encoding (ideally, UTF-8) The split between character types leads to two common situations in Python code:\n",
    "\n",
    "- You want to operate on raw 8-bit seguences that contain Utf-8-encoded strings (or some other encoding)\n",
    "\n",
    "- You want to operate on Unicode strings that have no specific encoding.\n",
    "\n",
    "You' ll often need two helper functions to convert between these cases and to ensure that the type of input values matches your codes expectations The first function takes a bytes or str instance and always returns a str:"
   ]
  },
  {
   "cell_type": "markdown",
   "id": "3a7a3ae9-bc85-4f94-a0fa-15ce2abea10e",
   "metadata": {},
   "source": [
    "def to_str(bytes_or_str):\n",
    "    if isinstance(bytes_or_str,bytes):\n",
    "        value = bytes_or_str.decode(\"utf-8\")\n",
    "    else:\n",
    "        value = bytes_or_str\n",
    "    return value # Instance of str\n",
    "\n",
    "a = b\"foo\"\n",
    "b = \"bar\""
   ]
  },
  {
   "cell_type": "markdown",
   "id": "b9fc20e2-6cfa-474b-be72-90fc8863c669",
   "metadata": {},
   "source": [
    "print(str(to_str(a)))\n",
    "print(repr(to_str(a)))\n",
    "\n",
    "print(str(to_str(b)))\n",
    "print(repr(to_str(b)))"
   ]
  },
  {
   "cell_type": "markdown",
   "id": "9718a57d",
   "metadata": {},
   "source": [
    "The second function takes a bytes or str instance and always returns a bytes:"
   ]
  },
  {
   "cell_type": "markdown",
   "id": "db270156-c683-474d-8afd-5bd15a1e4787",
   "metadata": {},
   "source": [
    "def to_bytes(bytes_or_str):\n",
    "    if isinstance(bytes_or_str,str):\n",
    "        value = bytes_or_str.encode('utf-8')\n",
    "    else:\n",
    "        value = bytes_or_str\n",
    "    return value # Instance of bytes\n",
    "\n",
    "a = b\"foo\"\n",
    "b = \"bar\""
   ]
  },
  {
   "cell_type": "markdown",
   "id": "d937e9ab-60d0-438a-bb61-1bc6fdb50db1",
   "metadata": {},
   "source": [
    "print(str(to_str(a)))\n",
    "print(repr(to_str(a)))\n",
    "\n",
    "print(str(to_str(b)))\n",
    "print(repr(to_str(b)))"
   ]
  },
  {
   "cell_type": "markdown",
   "id": "10037930",
   "metadata": {},
   "source": [
    "The first issue is that bytes and str seem to work the same way, **but their instances are not compatible with each other**, so you must be deliberate about the types of character sequences that you’re passing around.\n",
    "\n",
    "\n",
    "**By using the + operator**, you can add bytes to bytes and str to str, respectively:"
   ]
  },
  {
   "cell_type": "markdown",
   "id": "1ddedce1-4dca-4190-8830-2b5aab2eef22",
   "metadata": {},
   "source": [
    "print(b'one' + b'two')\n",
    "print('one' + 'two')"
   ]
  },
  {
   "cell_type": "markdown",
   "id": "c521c256",
   "metadata": {},
   "source": [
    "But you can’t add str instances to bytes instances:(TypeError: can't concat str to bytes)"
   ]
  },
  {
   "cell_type": "markdown",
   "id": "5e95c7b6-a2ea-464a-880a-a55e809f8d3c",
   "metadata": {},
   "source": [
    "b'one' + 'two'"
   ]
  },
  {
   "cell_type": "markdown",
   "id": "7f647060-bbad-4a4a-801e-c17f9c163a3c",
   "metadata": {},
   "source": []
  },
  {
   "cell_type": "markdown",
   "id": "56d5c726-0251-48a6-b122-9e691ea42894",
   "metadata": {},
   "source": [
    "## Chap 3-5 func and iterations at 1.2"
   ]
  },
  {
   "cell_type": "markdown",
   "id": "7ff7c4c4-4b5e-4f92-932e-a3b8ebb56a70",
   "metadata": {},
   "source": []
  },
  {
   "cell_type": "markdown",
   "id": "24b77dc0-ef98-440d-b467-fad612f301e6",
   "metadata": {},
   "source": [
    "## Chap 6 Strings"
   ]
  },
  {
   "cell_type": "markdown",
   "id": "12539053",
   "metadata": {},
   "source": [
    "### A string is a sequence\n",
    "\n",
    "A string is a sequence of characters. You can access the characters one at a time with the bracket operator:\n",
    "\n",
    "- A string is a sequence of characters\n",
    "\n",
    "- Astring literal uses quotes 'Hello' or \"Hello'\n",
    "\n",
    "- For strings, \"+\" means \"concatenate'\n",
    "\n",
    "- When a string contains numbers, it is still a string\n",
    "\n",
    "- We can convert numbers in a stringinto a number using int()"
   ]
  },
  {
   "cell_type": "markdown",
   "id": "bc14eb17-5530-4172-b297-c0d1403fbd00",
   "metadata": {},
   "source": [
    "fruit = 'banana'\n",
    "letter = fruit[1]\n",
    "print(letter)"
   ]
  },
  {
   "cell_type": "markdown",
   "id": "e9e178bd",
   "metadata": {},
   "source": [
    "### Strings are immutable\n",
    "\n",
    "It is tempting to use the operator on the left side of an assignment, with the intention of changing a character in a string."
   ]
  },
  {
   "cell_type": "markdown",
   "id": "43e05031-d4f1-461f-9563-679a527c8ca5",
   "metadata": {},
   "source": [
    "greeting = 'Hello world'\n",
    "greeting[0] = 'H'"
   ]
  },
  {
   "cell_type": "markdown",
   "id": "d93b0f13",
   "metadata": {},
   "source": [
    "### Getting the length of a string using len\n",
    "\n",
    "len is a built-in function that returns the number of characters in a string:"
   ]
  },
  {
   "cell_type": "markdown",
   "id": "e75877a7-6f74-415b-aca1-a0fcad81b1f5",
   "metadata": {},
   "source": [
    "# zot = 'abc'\n",
    "# print(zot[6])\n",
    "\n",
    "#out put ---------------------------------------------------------------------------\n",
    "# IndexError                                Traceback (most recent call last)\n",
    "# <ipython-input-4-ee7de94f7817> in <module>\n",
    "#       1 zot = 'abc'\n",
    "# ----> 2 print(zot[6])\n",
    "\n",
    "# IndexError: string index out of range"
   ]
  },
  {
   "cell_type": "markdown",
   "id": "48c48a03-c6a5-4f26-872e-e1457f259dc6",
   "metadata": {},
   "source": [
    "print(len(fruit)) #banana"
   ]
  },
  {
   "cell_type": "markdown",
   "id": "cb6b7d7f",
   "metadata": {},
   "source": [
    "### Traversal through a string with a loop\n",
    "\n",
    "A lot of computations involve processing a string one character at a time. Often they start at the beginning, select each character in turn, do something to it, and continue until the end. This pattern of processing is called a traversal. One way to write a traversal is with a while loop:"
   ]
  },
  {
   "cell_type": "markdown",
   "id": "7c853f10-724d-470d-b505-0a9bd68ba4d5",
   "metadata": {},
   "source": [
    "fruit = 'banana'\n",
    "index = 0 \n",
    "while index < len(fruit):\n",
    "    letter = fruit[index]\n",
    "    print(letter) # if just ends here , it returns bbbbbbbbbbbbbbbbbs forever\n",
    "    index = index + 1"
   ]
  },
  {
   "cell_type": "markdown",
   "id": "c0c96e8b-2251-4fc9-ac77-d4b6c32ec5cd",
   "metadata": {
    "code_folding": []
   },
   "source": [
    "fruit = 'banana'\n",
    "index = 0\n",
    "while index < len(fruit):\n",
    "    letter = fruit[index]\n",
    "    print(index, letter)\n",
    "    index = index + 1 #interesting"
   ]
  },
  {
   "cell_type": "markdown",
   "id": "adc629c5-90c7-41e3-9704-ba021b72e223",
   "metadata": {},
   "source": [
    "fruit = 'banana'\n",
    "for letter in fruit:\n",
    "    print(letter)"
   ]
  },
  {
   "cell_type": "markdown",
   "id": "6e022314-0dcb-4f95-84fb-51c0720df7a6",
   "metadata": {},
   "source": [
    "# Looping and Counting\n",
    "# This is a simple loop that loops through each letter in astring \n",
    "# and counts the numberof times the loop encountersthe 'a' character\n",
    "\n",
    "word = 'banana'\n",
    "count = 0\n",
    "for letter in word:\n",
    "    if letter == 'a':\n",
    "        count = count + 1\n",
    "print(f\"there are {count} 'a's in the word\")"
   ]
  },
  {
   "cell_type": "markdown",
   "id": "5b63d796",
   "metadata": {},
   "source": [
    "#### Looing deeper into in\n",
    "\n",
    "- The iteration variable \"iterates\" through the sequence (ordered set)\n",
    "\n",
    "- The block (body) of code isexecuted once for each valuein the sequence\n",
    "\n",
    "- The iteration variable movesthrough all of the values in thesequence"
   ]
  },
  {
   "cell_type": "markdown",
   "id": "e58eb0fa-3837-4e9b-89a9-dd411cb91ccc",
   "metadata": {},
   "source": [
    "for letter in 'banana':\n",
    "    print(letter)\n",
    "# letter: iteration variable\n",
    "#'banana':slicing string"
   ]
  },
  {
   "cell_type": "markdown",
   "id": "d0c86e4d-ae86-4779-8986-5d6711bf6f1b",
   "metadata": {},
   "source": [
    "### Slicing Strings (L-24)\n",
    "\n",
    "1.We can also look at any\n",
    "continuous section of a stringusing a `colon operator`\n",
    "\n",
    "2.The second number is onebeyond the end of the slice-\"up to but not including\"\n",
    "\n",
    "3.lf the second number is beyond the end of the string,it stops at the end"
   ]
  },
  {
   "cell_type": "markdown",
   "id": "43ad47ae-ebbd-4824-b62d-53e110681ade",
   "metadata": {},
   "source": [
    "s = 'Monty Python'"
   ]
  },
  {
   "cell_type": "markdown",
   "id": "55e52630-d269-42e2-bc66-1764cee37756",
   "metadata": {},
   "source": [
    "print(s[0:4])"
   ]
  },
  {
   "cell_type": "markdown",
   "id": "b13666f0-25fc-44c2-8661-ac897863cec5",
   "metadata": {},
   "source": [
    "print(s[6:7])"
   ]
  },
  {
   "cell_type": "markdown",
   "id": "053069a6-1362-47fd-a734-b26d2134cab5",
   "metadata": {},
   "source": [
    "print(s[6:1000])"
   ]
  },
  {
   "cell_type": "markdown",
   "id": "436a53e0",
   "metadata": {},
   "source": [
    "**Here is the s = 'Monty Python':**\n",
    "\n",
    "$$\n",
    "\\begin{array}{|l|l|l|l|l|l|l|l|l|l|l|l|}\n",
    "\\hline \\mathrm{M} & \\mathrm{o} & \\mathrm{n} & \\mathrm{t} & \\mathrm{y} & & \\mathrm{P} & \\mathrm{y} & \\mathrm{t} & \\mathrm{h} & \\mathrm{o} & \\mathrm{n} \\\\\n",
    "\\hline 0 & 1 & 2 & 3 & 4 & 5 & 6 & 7 & 8 & 9 & 10 & 11\n",
    "\\end{array}\n",
    "$$"
   ]
  },
  {
   "cell_type": "markdown",
   "id": "7f14e4c1-30bc-4834-ae2f-a523055f2284",
   "metadata": {},
   "source": [
    "If we leave off the first number orthe last number of the slice, itisassumed to be the beginning orend of the string respectively"
   ]
  },
  {
   "cell_type": "markdown",
   "id": "be283cee-029f-4402-b000-9c2cafc4c512",
   "metadata": {},
   "source": [
    "print(f's[:2]:{s[:2]}')"
   ]
  },
  {
   "cell_type": "markdown",
   "id": "0c48e70a-95eb-462c-80a0-1847fb4a203b",
   "metadata": {},
   "source": [
    "print(s[8:])"
   ]
  },
  {
   "cell_type": "markdown",
   "id": "92b62bc5-abc0-43f7-8c74-e46944bb23a0",
   "metadata": {},
   "source": [
    "print(s[:])"
   ]
  },
  {
   "cell_type": "markdown",
   "id": "1a4283fd",
   "metadata": {},
   "source": [
    "#### Avoid Striding and Slicing in a Single Expression\n",
    "\n",
    "Python has special syntax for the stride of a slice in the form somelist：\n",
    "\n",
    "**[start:end:stride]**.\n",
    "\n",
    "\n",
    "This lets you take every nth item when slicing a sequence. For example, the stride makes it easy to group by even and odd indexes in a list:"
   ]
  },
  {
   "cell_type": "markdown",
   "id": "5d5bbe95-1900-479b-8380-ec47909199ff",
   "metadata": {},
   "source": [
    "x = ['red', 'orange', 'yellow', 'green', 'blue', 'purple']\n",
    "\n",
    "odds = x[::2]\n",
    "evens = x[1::2]\n",
    "\n",
    "print(odds)\n",
    "print(evens)"
   ]
  },
  {
   "cell_type": "markdown",
   "id": "9ebec13f",
   "metadata": {},
   "source": [
    "The problem is that the stride syntax often causes unexpected behavior that can introduce bugs. \n",
    "\n",
    "For example, a common Python trick for reversing a byte string is to slice the string with a stride of -1:"
   ]
  },
  {
   "cell_type": "markdown",
   "id": "d85e04a9-a01a-4967-ae39-31039ccc8d56",
   "metadata": {},
   "source": [
    "x = b'abcdefghijklmn' \n",
    "y = x[::-1]\n",
    "print(y)"
   ]
  },
  {
   "cell_type": "markdown",
   "id": "dcbe68d1",
   "metadata": {},
   "source": [
    "### Unpacking"
   ]
  },
  {
   "cell_type": "markdown",
   "id": "801858c9-c883-48bc-ac34-d86dbbe2ede4",
   "metadata": {},
   "source": [
    "shot_list = [1,2]\n",
    "first,second,*rest = shot_list\n",
    "print(first,second,rest)"
   ]
  },
  {
   "cell_type": "markdown",
   "id": "a30df911-d3f6-4637-9878-09ac695b1ab0",
   "metadata": {},
   "source": [
    "#anthoer way:\n",
    "car_ages = [0, 9, 4, 8, 7, 20, 19, 1, 6, 15]\n",
    "car_ages_descending = sorted(car_ages,reverse=True)\n",
    "oldest =car_ages_descending[0]\n",
    "# second_oldest = car_ages_descending[1]\n",
    "# others = car_ages_descending[2:]\n",
    "\n",
    "oldest,second_oldest,*others =car_ages_descending\n",
    "\n",
    "print(oldest,second_oldest,others)"
   ]
  },
  {
   "cell_type": "markdown",
   "id": "c91897e1-026b-4529-b359-81b63cfaa62d",
   "metadata": {},
   "source": [
    "### String Concatenation\n",
    "\n",
    "When the + operator is applied to strings, it means \"`concatenation`\""
   ]
  },
  {
   "cell_type": "markdown",
   "id": "ee7269cc-6488-4088-9288-8a51b35b0b19",
   "metadata": {},
   "source": [
    "a = 'Hello'\n",
    "b = a  + ' There'"
   ]
  },
  {
   "cell_type": "markdown",
   "id": "6a6ff021-4ca1-46e2-b951-2de762730489",
   "metadata": {},
   "source": [
    "c = a + ' ' +\"there\"\n",
    "print(c)"
   ]
  },
  {
   "cell_type": "markdown",
   "id": "0129a565-2760-4f15-9fcf-80dddb8746c5",
   "metadata": {},
   "source": [
    "print(b)"
   ]
  },
  {
   "cell_type": "markdown",
   "id": "348f0987-840b-43af-b24f-d8d3aab4bb9d",
   "metadata": {},
   "source": [
    "##### Using `in` as  a logical Operator\n",
    "\n",
    "The `in` keyword can also beused to check to see if onestring is `\"in\"` another string\n",
    "\n",
    "The in expression is alogical expression thatreturns `True` or `False` andcan be used `in` an `if` statement"
   ]
  },
  {
   "cell_type": "markdown",
   "id": "9b35b7c1-a8f5-4012-b4f2-cce97bc42952",
   "metadata": {},
   "source": [
    "fruit = 'banana'"
   ]
  },
  {
   "cell_type": "markdown",
   "id": "0a47f088-aec8-4b08-9cab-f7cd23c32cb5",
   "metadata": {},
   "source": [
    "'n' in fruit"
   ]
  },
  {
   "cell_type": "markdown",
   "id": "88f4e553-f8f6-4f4f-b7fa-add89519a9bc",
   "metadata": {},
   "source": [
    "'m' in fruit"
   ]
  },
  {
   "cell_type": "markdown",
   "id": "114d8d17-b324-4f44-8361-fab573ce145d",
   "metadata": {},
   "source": [
    "'nan' in fruit"
   ]
  },
  {
   "cell_type": "markdown",
   "id": "888e6146-a0e7-422e-9b92-b686401c0ec6",
   "metadata": {},
   "source": [
    "if 'a' in fruit:\n",
    "    print('Found it!')"
   ]
  },
  {
   "cell_type": "markdown",
   "id": "fae795fb-d327-4f46-beb2-15eeadf34a8d",
   "metadata": {},
   "source": [
    "### String Comparison"
   ]
  },
  {
   "cell_type": "markdown",
   "id": "66cf9bf9-d062-4d77-b4ae-1f72812fd8aa",
   "metadata": {},
   "source": [
    "word = 'banana'\n",
    "if word == 'banana':\n",
    "    print('Alright,bananas.')"
   ]
  },
  {
   "cell_type": "markdown",
   "id": "8fce8991-44d1-44a9-b860-47d917a361e4",
   "metadata": {},
   "source": [
    "if word < 'banana':\n",
    "    print('your word,' + word + ',comes before banana.')\n",
    "elif word > 'banana':\n",
    "    print('your word,' + word + ',comes after banana.')\n",
    "else:\n",
    "     print('Alright,bananas.')"
   ]
  },
  {
   "cell_type": "markdown",
   "id": "a4265325-2b6c-418f-a927-532d7ab23035",
   "metadata": {},
   "source": [
    "### String Library\n",
    "\n",
    "Python has a number of string `functions` which are in the\n",
    "`string library`\n",
    "\n",
    "These `functions` are already `built into` every string - weinvoke them by appending thefunction to the string variable\n",
    "\n",
    "These `functions` do not modifythe original string, instead theyreturn a new string that hasbeen altered"
   ]
  },
  {
   "cell_type": "markdown",
   "id": "775e2ff2-8ff7-4bb9-925b-6952b9e32a08",
   "metadata": {},
   "source": [
    "greet = 'Hello Bob'\n",
    "zap = greet.lower()\n",
    "print(f'{zap} is the all lower case of {greet}')"
   ]
  },
  {
   "cell_type": "markdown",
   "id": "ede6a418-5b3b-4635-bab6-4bf3129559be",
   "metadata": {},
   "source": [
    "# or in another way:\n",
    "print('Hi There'.lower())"
   ]
  },
  {
   "cell_type": "markdown",
   "id": "d172484b-3aa5-4cff-b202-be2b2f2218e2",
   "metadata": {},
   "source": [
    "stuff = 'Hello World'\n",
    "type(stuff)"
   ]
  },
  {
   "cell_type": "markdown",
   "id": "0885ab08-fd81-4389-9f5c-8ffc6ee8ce51",
   "metadata": {},
   "source": [
    "dir(stuff)"
   ]
  },
  {
   "cell_type": "markdown",
   "id": "656f9ff6-1ead-46fe-a67b-899211992165",
   "metadata": {},
   "source": [
    "Documentation for [**`dir`**](https://docs.python.org/3/library/stdtypes.html#string-methods), here we introduce several popular libraries:"
   ]
  },
  {
   "cell_type": "markdown",
   "id": "4e86663b-6c9c-4f89-a3d6-5fff4530290b",
   "metadata": {},
   "source": [
    "### Searching a String\n",
    "\n",
    "We use the `find()` function to searchfor a substring within another string\n",
    "\n",
    "`find()` finds the `first` occurrence of the substring\n",
    "\n",
    "If the substring is not found, `find()` returns `-1`\n",
    "\n",
    "`Remember that string position starts at zero`"
   ]
  },
  {
   "cell_type": "markdown",
   "id": "c4bb795f-cfc3-4916-b7f1-daf64a22041a",
   "metadata": {},
   "source": [
    "fruit = 'banana'\n",
    "pos_na = fruit.find('na')\n",
    "print(pos_na)"
   ]
  },
  {
   "cell_type": "markdown",
   "id": "9e7e82b6-973e-4465-a7ba-168c2438d78f",
   "metadata": {},
   "source": [
    "pos_z = fruit.find('z')\n",
    "print(pos_z)"
   ]
  },
  {
   "cell_type": "markdown",
   "id": "8780fcb1-c4b2-4de9-8dce-0a1622f9f6ca",
   "metadata": {},
   "source": [
    "# Yes we tried the upper() and lower(),let's move on "
   ]
  },
  {
   "cell_type": "markdown",
   "id": "2f9a11e0-400a-41dd-bf86-14026f9ef689",
   "metadata": {},
   "source": [
    "#### `useful!` Search and Replace\n",
    "\n",
    "The `replace()` functionis like a“search andreplace”operation in aword processor\n",
    "\n",
    "It replaces `all occurrences` of the `search string` with the `replacement string`"
   ]
  },
  {
   "cell_type": "markdown",
   "id": "e37b94d7-5e83-4189-80f0-de1ab4625559",
   "metadata": {},
   "source": [
    "greet = 'Hello Bob'\n",
    "greet"
   ]
  },
  {
   "cell_type": "markdown",
   "id": "b7410446-a298-444e-8b10-7eff8ee5d64f",
   "metadata": {},
   "source": [
    "hi_jane = greet.replace('Bob',\"Jane\")\n",
    "print(hi_jane)"
   ]
  },
  {
   "cell_type": "markdown",
   "id": "a245bc57-8304-4cf9-9540-4bd4f1402e22",
   "metadata": {},
   "source": [
    "o_to_X = greet.replace('o', 'X')\n",
    "print(o_to_X)"
   ]
  },
  {
   "cell_type": "markdown",
   "id": "3ea1d66c-8de3-403e-b621-43b86568638b",
   "metadata": {},
   "source": [
    "#### Stripping Whitespace\n",
    "\n",
    "Sometimes we want to takea string and remove whitespace at the beginning and/or end\n",
    "\n",
    "`Istrip()` and `rstrip()` removewhitespace at the l`eft or right`\n",
    "\n",
    "`strip()` removes `both` beginning and ending whitespace\n"
   ]
  },
  {
   "cell_type": "markdown",
   "id": "5a4fdbec-cf0b-4a77-9fb1-47c409bb2655",
   "metadata": {},
   "source": [
    "greet_spaces = '        Hello Bob           '"
   ]
  },
  {
   "cell_type": "markdown",
   "id": "c6bb7fdd-6ed2-46ad-b7f2-88a77f1501c4",
   "metadata": {},
   "source": [
    "greet_spaces.lstrip()"
   ]
  },
  {
   "cell_type": "markdown",
   "id": "74b003d3-8c4f-4688-b5f1-cf891d80b272",
   "metadata": {},
   "source": [
    "greet_spaces.rstrip()"
   ]
  },
  {
   "cell_type": "markdown",
   "id": "e1448a2b-cfc4-4e6d-be44-ac2615435c38",
   "metadata": {},
   "source": [
    "greet_spaces.strip() == greet #yeah"
   ]
  },
  {
   "cell_type": "markdown",
   "id": "7633a90f-6195-4b22-af3f-d3b9c8f9f0aa",
   "metadata": {},
   "source": [
    "# Prefixes\n",
    "line = 'Please have a nice day'\n",
    "line.startswith('Please')"
   ]
  },
  {
   "cell_type": "markdown",
   "id": "8f17eee5-7d84-44b7-b5f6-ae58f79086ce",
   "metadata": {},
   "source": [
    "line.startswith('P')"
   ]
  },
  {
   "cell_type": "markdown",
   "id": "37554d59-a458-49b3-815e-784e44f80f4b",
   "metadata": {},
   "source": [
    "line.startswith('p')"
   ]
  },
  {
   "cell_type": "markdown",
   "id": "cf7d36a2-da78-4c8e-b111-d24624acbf0f",
   "metadata": {},
   "source": [
    "### Parsing and Extracting Strings\n",
    "\n",
    "Often, we want to look into a string and find a substring. For example if we were presented a series of lines formatted as follows:\n",
    "\n",
    "\n",
    "`From stephen.marquard@ uct.ac.za Sat Jan  5 09:14:16 2008`\n",
    "\n",
    "\n",
    "and we wanted to pull out only the second half of the address (i.e., uct.ac.za) from each line, we can do this by using the find method and string slicing.\n",
    "\n",
    "First, we will find the position of the at-sign in the string. Then we will find the position of the first space after the at-sign. And then we will use string slicing to extract the portion of the string which we are looking for."
   ]
  },
  {
   "cell_type": "markdown",
   "id": "81654aa6-7dde-41b4-962d-38d65b703e64",
   "metadata": {},
   "source": [
    "# how to extract the mail host address? \n",
    "# here is on solution: find the start sign of '@' and the firts whitespace:\n",
    "\n",
    "data = 'From stephen.marquard@uct.ac.za Sat Jan  5 09:14:16 2008'\n",
    "atpos = data.find('@')\n",
    "print(atpos) \n",
    "\n",
    "# the atops is set as label here which tells us:the host name starts after me."
   ]
  },
  {
   "cell_type": "markdown",
   "id": "55838adb-e10e-4f24-a4a3-f843709b49f8",
   "metadata": {},
   "source": [
    "sppos = data.find(' ', atpos)\n",
    "print(sppos) "
   ]
  },
  {
   "cell_type": "markdown",
   "id": "ee88d4c6-b4ab-462f-97ed-262282e62224",
   "metadata": {},
   "source": [
    "we can see the `atops` in barcket which means excute the command `starting from` the label `atops`\n",
    "\n",
    "Then we find the first whitespace after the atops"
   ]
  },
  {
   "cell_type": "markdown",
   "id": "72c08807-65b0-4072-8dd6-e108e85e88fb",
   "metadata": {},
   "source": [
    "host = data[atpos + 1 : sppos]\n",
    "print(host)"
   ]
  },
  {
   "cell_type": "markdown",
   "id": "a6b18c84",
   "metadata": {},
   "source": [
    "### Format operator\n",
    "\n",
    "The format operator, % allows us to construct strings, replacing parts of the strings with the data stored in variables. When applied to integers, % is the modulus operator. **But when the first operand is a string, % is the format operator.**\n",
    "\n",
    "\n",
    "The first operand is the format string, which contains one or more format sequences that specify how the second operand is formatted. The result is a string.\n",
    "\n",
    "\n",
    "For example, the format sequence \"%d\" means that the second operand should be formatted as an integer (d stands for \"decimal\"):"
   ]
  },
  {
   "cell_type": "markdown",
   "id": "73f32259-ca2c-4366-a1dd-40355e27eebc",
   "metadata": {},
   "source": [
    "chuck = 42\n",
    "'%s' % chuck"
   ]
  },
  {
   "cell_type": "markdown",
   "id": "36d784fd",
   "metadata": {},
   "source": [
    "The result is the string \"42\", which is not to be confused with the integer value 42.\n",
    "\n",
    "A format sequence can appear anywhere in the string, so you can embed a value in a sentence:"
   ]
  },
  {
   "cell_type": "markdown",
   "id": "807a09c7-e8f0-4908-8b42-a67de4c8060c",
   "metadata": {},
   "source": [
    "' I have spotted %s camels' % chuck"
   ]
  },
  {
   "cell_type": "markdown",
   "id": "5b53565c-4748-40a0-a04d-9a68fd84e1a0",
   "metadata": {},
   "source": [
    "# The following example uses \"%d\" to format an integer, \n",
    "# \"%g\" to format a floating-point number (don't ask why), \n",
    "# and \"%s\" to format a string:\n",
    "\n",
    "'In %a years I have spotted %g %s' % (3,0.1,'camels')\n",
    "\n",
    "# Jsut #g and #s???"
   ]
  },
  {
   "cell_type": "markdown",
   "id": "c8604e7b-e444-42ff-84e8-73b7b0a028dd",
   "metadata": {},
   "source": [
    "'%d %d %d' % (1, 2)"
   ]
  },
  {
   "cell_type": "markdown",
   "id": "3be23e84-5d87-4ee0-b687-16ec7da46c9d",
   "metadata": {},
   "source": [
    "'%d' % 'dollars'"
   ]
  },
  {
   "cell_type": "markdown",
   "id": "e8cf91df",
   "metadata": {},
   "source": [
    "## [Chap 7  Files](https://books.trinket.io/pfe/07-files.html)"
   ]
  },
  {
   "cell_type": "markdown",
   "id": "dd65a195-3508-4d84-9fa7-572d6c6c8084",
   "metadata": {},
   "source": [
    "### File Processing\n",
    "\n",
    "A text file can be thought of as a sequence of lines.\n",
    "\n",
    "#### Why files?\n",
    "\n",
    "conditional execution, functions, and iterations are created and used  in the main memory:CPU and Memory.Once the power is turned off, anything stored in either the CPU or main memory is erased. \n",
    "\n",
    "Secondary memory **(or Files)** is not erased when the power is turned off. Or in the case of a USB flash drive, the data we write from our programs can be removed from the system and transported to another system.\n",
    "\n"
   ]
  },
  {
   "cell_type": "markdown",
   "id": "cf0fb074-26da-470f-946d-d1a3d6c31fb7",
   "metadata": {},
   "source": [
    "\n",
    "### Opening Files\n",
    "Before we can read the contents of the file, we must tell Python which file we are going to work with and what we will be doing with the file\n",
    "This is done with the `open()` function\n",
    "\n",
    "`open()`  returns a “file handle”- a variable used to perform operations on the file\n",
    "\n",
    "Similar to “File -> Open\"in a Word Processor"
   ]
  },
  {
   "cell_type": "markdown",
   "id": "42997e0f-11b6-42f9-829c-152473ed67d4",
   "metadata": {},
   "source": [
    "fhand = open('mbox.txt','r')"
   ]
  },
  {
   "cell_type": "markdown",
   "id": "01e5277b-5018-49f8-9365-43184defead1",
   "metadata": {},
   "source": [
    "handle = open(filename, mode)\n",
    "\n",
    "returns a handle use to manipulate the file\n",
    "\n",
    "filename is a string\n",
    "\n",
    "mode is optional and should be `'r'` if we are planning to read the file and `'w'` if we are going to write to the file"
   ]
  },
  {
   "cell_type": "markdown",
   "id": "41920846-2cc9-440f-bd22-7a1f0eca0b5f",
   "metadata": {},
   "source": [
    "print(fhand)"
   ]
  },
  {
   "cell_type": "markdown",
   "id": "8b5699f7",
   "metadata": {},
   "source": [
    "### The New Line Character\n",
    "\n",
    " We use a special character called the `\"newline\"` to indicate when a line ends\n",
    " \n",
    " We represent it as `\\n` in strings\n",
    " Newline is still one character-not two"
   ]
  },
  {
   "cell_type": "markdown",
   "id": "a88778f5-eb85-4ae7-88b5-73148217c5b6",
   "metadata": {},
   "source": [
    "stuff = 'Hello\\nWorld!'\n",
    "stuff"
   ]
  },
  {
   "cell_type": "markdown",
   "id": "d424062c-d92f-4fce-867b-d0424db1414f",
   "metadata": {},
   "source": [
    "print(stuff) # the whitespace after the \\n is working."
   ]
  },
  {
   "cell_type": "markdown",
   "id": "cfb1933d-903e-4e79-a6df-1949add21349",
   "metadata": {},
   "source": [
    "stuff = 'X\\nY'\n",
    "print(stuff)"
   ]
  },
  {
   "cell_type": "markdown",
   "id": "d5786bc3-355b-4b74-b268-d5a937745ca7",
   "metadata": {},
   "source": [
    "len(stuff)"
   ]
  },
  {
   "cell_type": "markdown",
   "id": "bb3ff85d",
   "metadata": {},
   "source": [
    "### File Handle as a Sequence\n",
    "\n",
    "A `file handle` open for read can be treated as a `sequence` of strings where each line \n",
    "in the file is a string in the sequence\n",
    "\n",
    "We can use the `for` statement to iterate through a `sequence`\n",
    "\n",
    "Remember - a `sequence` is an ordered set"
   ]
  },
  {
   "cell_type": "markdown",
   "id": "4dbe6f99-4477-4abe-88c7-b4ea042c9a47",
   "metadata": {},
   "source": [
    "xfile = open('mbox.txt') # you may try this in the future\n",
    "# for i in xfile:\n",
    "#      print(i)"
   ]
  },
  {
   "cell_type": "markdown",
   "id": "c7bbda06",
   "metadata": {},
   "source": [
    "### Reading Files: Counting Lines in a File\n",
    "\n",
    "Open a file read-only\n",
    "\n",
    "Count the lines and print outthe number of lines"
   ]
  },
  {
   "cell_type": "markdown",
   "id": "9011db15-6350-4bb4-9f1a-1d84a0993dcf",
   "metadata": {},
   "source": [
    "fhand = open('mbox.txt')\n",
    "count = 0\n",
    "for line in fhand:\n",
    "    count = count + 1\n",
    "print('Line Count:', count)"
   ]
  },
  {
   "cell_type": "markdown",
   "id": "af79e5aa",
   "metadata": {},
   "source": [
    "So we know how the py read the text file when we apply the for loop : with lines"
   ]
  },
  {
   "cell_type": "markdown",
   "id": "4a90ef95-7f2d-44ed-9473-03e1ec2be9f9",
   "metadata": {},
   "source": [
    "# We can read the wholefile (newlines and all)into a single string\n",
    "# Reading the *whole* file\n",
    "fhand = open('mbox-short.txt')\n",
    "inp = fhand.read()\n",
    "print(len(inp))"
   ]
  },
  {
   "cell_type": "markdown",
   "id": "a678ef42-33ae-4f21-b8a9-1c8777c16a27",
   "metadata": {},
   "source": [
    "# inp--------very long\n",
    "print(inp[:20])"
   ]
  },
  {
   "cell_type": "markdown",
   "id": "b2b9bc9e",
   "metadata": {},
   "source": [
    "Searching Thtough a File\n",
    "We can put an if statement inour for loop to only print linesthat meet some criteria"
   ]
  },
  {
   "cell_type": "markdown",
   "id": "7cc352f9",
   "metadata": {},
   "source": [
    "### Searching through a file\n",
    "\n",
    "if we wanted to read a file and only print out lines which started with the prefix \"From:\", we could use the string method **startswith** to select only those lines with the desired prefix."
   ]
  },
  {
   "cell_type": "markdown",
   "id": "74421f24-bfbb-4761-bc7b-f7f105645812",
   "metadata": {},
   "source": [
    "fhand = open('mbox-short.txt')\n",
    "for line in fhand:\n",
    "    if line.startswith('From:'):\n",
    "        print(line)"
   ]
  },
  {
   "cell_type": "markdown",
   "id": "865883d5",
   "metadata": {},
   "source": [
    "**Things become interesting,so let's run,forest!**\n",
    "\n",
    "What are all these blank lines doing here?\n",
    "\n",
    " Each line from the file has a newline at the end\n",
    " \n",
    " The print statement adds a newline to each line\n",
    " \n",
    " \n",
    "We could use line slicing to print all but the last character, but a simpler approach is to use the **rstrip（）** method which strips whitespace from the right side of a string as follows:"
   ]
  },
  {
   "cell_type": "markdown",
   "id": "b1e29e19-dc12-44aa-a6b1-f29bad38c981",
   "metadata": {},
   "source": [
    "fhand = open('mbox-short.txt')\n",
    "for line in fhand:\n",
    "    line = line.rstrip()\n",
    "    if line.startswith('From:'):\n",
    "        print(line)"
   ]
  },
  {
   "cell_type": "markdown",
   "id": "dedd8ee1",
   "metadata": {},
   "source": [
    "Yeah, looks better"
   ]
  },
  {
   "cell_type": "markdown",
   "id": "b67dbedf",
   "metadata": {},
   "source": [
    "**on the other hand, we can skip these lines with continue**\n",
    "\n",
    "why not think babout the opposite situation?\n",
    "\n",
    "let's rock!\n",
    "\n",
    "**Strip out the comments when you want to run the code.**"
   ]
  },
  {
   "cell_type": "markdown",
   "id": "e61e2919-513a-45af-b00e-513ea5dde03f",
   "metadata": {
    "code_folding": []
   },
   "source": [
    "fhand = open('mbox-short.txt')\n",
    "for line in fhand:\n",
    "    line = line.rstrip()\n",
    "    if not line.startswith('From:'):\n",
    "        print(line)"
   ]
  },
  {
   "cell_type": "markdown",
   "id": "266746b3",
   "metadata": {},
   "source": [
    "The output of the program is the same. In English, the uninteresting lines are those which do not start with \"From:\", which we skip using continue. For the \"interesting\" lines (i.e., those that start with \"From:\") we perform the processing on those lines.\n",
    "\n",
    "We can use the find string method to simulate a text editor search that finds lines where the search string is anywhere in the line. Since find looks for an occurrence of a string within another string and either returns the position of the string or -1 if the string was not found, we can write the following loop to show lines which contain the string \"@uct.ac.za\" (i.e., they come from the University of Cape Town in South Africa):"
   ]
  },
  {
   "cell_type": "markdown",
   "id": "3317060f-efd1-466d-a31b-669d38fdf7fd",
   "metadata": {},
   "source": [
    "# Using in to select lines\n",
    "fhand = open('mbox-short.txt')\n",
    "for line in fhand:\n",
    "    line = line.rstrip()\n",
    "    if not '@uct.ac.za' in line:\n",
    "        continue\n",
    "    print(line)"
   ]
  },
  {
   "cell_type": "markdown",
   "id": "bd738cee-4fdb-47a6-88f0-b8d108b3326f",
   "metadata": {},
   "source": [
    "fhand = open('mbox-short.txt')\n",
    "for line in fhand:\n",
    "    line = line.rstrip()\n",
    "    if line.find('@uct.ac.za') == -1: continue\n",
    "    print(line)"
   ]
  },
  {
   "cell_type": "markdown",
   "id": "a122834d",
   "metadata": {},
   "source": [
    "### Letting the user choose the file name\n",
    "\n",
    "We really do not want to have to edit our Python code every time we want to process a different file. It would be more usable to ask the user to enter the file name string each time the program runs so they can use our program on different files without changing the Python code.\n",
    "\n",
    "This is quite simple to do by reading the file name from the user using input as follows:"
   ]
  },
  {
   "cell_type": "markdown",
   "id": "b5720748-65a9-4ee7-81bb-134b5c159668",
   "metadata": {},
   "source": [
    "fname = input('Enter the file name: ')\n",
    "fhand = open(fname)\n",
    "count = 0\n",
    "for line in fhand:\n",
    "    if line.startswith('Subject:'):\n",
    "        count = count + 1\n",
    "print('There were', count, 'subject lines in', fname)\n",
    "\n",
    "#mbox-short.txt"
   ]
  },
  {
   "cell_type": "markdown",
   "id": "0a86e07f",
   "metadata": {},
   "source": [
    "### Using try, except, and open\n",
    "\n",
    "So now that we see the flaw in the program, we can elegantly fix it using the try/except structure. We need to assume that the open call might fail and add recovery code when the open fails as follows:"
   ]
  },
  {
   "cell_type": "markdown",
   "id": "91c4712c-6a0f-466a-ab1d-690ef0a8db19",
   "metadata": {},
   "source": [
    "# keep on trying:\n",
    "fname = input('Enter the file name:')\n",
    "try:\n",
    "    fhand = open(fname)\n",
    "except:\n",
    "    print('File can not be opened:',fname)\n",
    "    quit()\n",
    "count = 0\n",
    "for line in fhand:\n",
    "    if line.startswith('Subject:'):\n",
    "        count = count + 1\n",
    "print(f'There were {count} subject lines in {fname}')"
   ]
  },
  {
   "cell_type": "markdown",
   "id": "0026e7a3",
   "metadata": {},
   "source": [
    "### Writing Files\n",
    "\n",
    "\n",
    "If the file already exists, opening it in write mode clears out the old data and starts fresh, so be careful! If the file doesn't exist, a new one is created.\n",
    "\n",
    "The write method of the file handle object puts data into the file, returning the number of characters written. The default write mode is text for writing (and reading) strings."
   ]
  },
  {
   "cell_type": "markdown",
   "id": "04d175ab",
   "metadata": {},
   "source": [
    "#### w for Write\n",
    "\n",
    "To write a file, you have to open it with mode \"w\" as a second parameter"
   ]
  },
  {
   "cell_type": "markdown",
   "id": "79b14526-0302-478e-ba0a-b7f5e39409cd",
   "metadata": {},
   "source": [
    "fout = open('output.txt','w')\n",
    "#here is the w for write, prviously the r for read files\n",
    "print(fout)"
   ]
  },
  {
   "cell_type": "markdown",
   "id": "b8f5a763-9927-4228-a603-d09bac0c0430",
   "metadata": {},
   "source": [
    "line1 = \"This here's the wattle,\\n\"\n",
    "fout.write(line1)"
   ]
  },
  {
   "cell_type": "markdown",
   "id": "31cc5af0-ebeb-434a-af65-41c71aaab2b3",
   "metadata": {},
   "source": [
    "line2 = 'the emblem of our land.\\n'\n",
    "fout.write(line2)"
   ]
  },
  {
   "cell_type": "markdown",
   "id": "9d0478f6",
   "metadata": {},
   "source": [
    "#### Save!!"
   ]
  },
  {
   "cell_type": "markdown",
   "id": "1cdf588f",
   "metadata": {},
   "source": [
    "When you are done writing, you have to close the file to make sure that the last bit of data is physically written to the disk so it will not be lost if the power goes off."
   ]
  },
  {
   "cell_type": "markdown",
   "id": "5fd3f049-4ae4-4a38-9bc3-19e18a889712",
   "metadata": {},
   "source": [
    "fout.close()"
   ]
  },
  {
   "cell_type": "markdown",
   "id": "5dd0a14b",
   "metadata": {},
   "source": [
    "We could close the files which we open for read as well, but we can be a little sloppy if we are only opening a few files since Python makes sure that all open files are closed when the program ends. When we are writing files, we want to explicitly close the files so as to leave nothing to chance."
   ]
  },
  {
   "cell_type": "markdown",
   "id": "d7d3da7c-46ee-4f6d-abf3-0ffd23e90942",
   "metadata": {},
   "source": []
  }
 ],
 "metadata": {
  "kernelspec": {
   "display_name": "Python 3.9.5 64-bit ('p39': conda)",
   "language": "python",
   "name": "python395jvsc74a57bd0ff2e645ef952f1284ebef59edbc19ad3cff03e6406671d2dab1ca7ad9588368d"
  },
  "language_info": {
   "codemirror_mode": {
    "name": "ipython",
    "version": 3
   },
   "file_extension": ".py",
   "mimetype": "text/x-python",
   "name": "python",
   "nbconvert_exporter": "python",
   "pygments_lexer": "ipython3",
   "version": "3.9.5"
  },
  "latex_envs": {
   "LaTeX_envs_menu_present": true,
   "autoclose": false,
   "autocomplete": true,
   "bibliofile": "biblio.bib",
   "cite_by": "apalike",
   "current_citInitial": 1,
   "eqLabelWithNumbers": true,
   "eqNumInitial": 1,
   "hotkeys": {
    "equation": "Ctrl-E",
    "itemize": "Ctrl-I"
   },
   "labels_anchors": false,
   "latex_user_defs": false,
   "report_style_numbering": false,
   "user_envs_cfg": false
  },
  "metadata": {
   "interpreter": {
    "hash": "ff2e645ef952f1284ebef59edbc19ad3cff03e6406671d2dab1ca7ad9588368d"
   }
  },
  "toc": {
   "base_numbering": 1,
   "nav_menu": {},
   "number_sections": true,
   "sideBar": true,
   "skip_h1_title": false,
   "title_cell": "Table of Contents",
   "title_sidebar": "Contents",
   "toc_cell": false,
   "toc_position": {
    "height": "calc(100% - 180px)",
    "left": "10px",
    "top": "150px",
    "width": "302px"
   },
   "toc_section_display": true,
   "toc_window_display": true
  },
  "toc-autonumbering": false,
  "toc-showmarkdowntxt": false,
  "toc-showtags": false,
  "varInspector": {
   "cols": {
    "lenName": 16,
    "lenType": 16,
    "lenVar": 40
   },
   "kernels_config": {
    "python": {
     "delete_cmd_postfix": "",
     "delete_cmd_prefix": "del ",
     "library": "var_list.py",
     "varRefreshCmd": "print(var_dic_list())"
    },
    "r": {
     "delete_cmd_postfix": ") ",
     "delete_cmd_prefix": "rm(",
     "library": "var_list.r",
     "varRefreshCmd": "cat(var_dic_list()) "
    }
   },
   "types_to_exclude": [
    "module",
    "function",
    "builtin_function_or_method",
    "instance",
    "_Feature"
   ],
   "window_display": false
  }
 },
 "nbformat": 4,
 "nbformat_minor": 5
}
